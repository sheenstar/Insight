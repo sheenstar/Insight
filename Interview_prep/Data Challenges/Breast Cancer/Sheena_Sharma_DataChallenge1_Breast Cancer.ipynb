{
 "cells": [
  {
   "cell_type": "markdown",
   "metadata": {
    "collapsed": true
   },
   "source": [
    "## The challenge is to develop a model that predicts whether a biopsied breast cell is benign (not harmful) or malignant (cancerous), given a set of attributes about the cell using a given data set.\n",
    "#### 1) Load and transform data into proper format (features as columns and datapoints as rows)\n",
    "#### 2) Deal with missing values and/or mislabeled data. Feature Engineering\n",
    "#### 3) Explore data - look for trends\n",
    "#### 4) Explore potential models and model selection\n",
    "#### 5) Make sure model assumptions are met, hyperparameter optimization and further feature engineering if necessary\n",
    "#### 6) Test model\n",
    "#### 7) Conclusion and Insights"
   ]
  },
  {
   "cell_type": "markdown",
   "metadata": {},
   "source": [
    "## 1) Load and transform data"
   ]
  },
  {
   "cell_type": "code",
   "execution_count": 70,
   "metadata": {
    "collapsed": true
   },
   "outputs": [],
   "source": [
    "import pandas as pd\n",
    "import operator\n",
    "import seaborn as sns\n",
    "import numpy as np \n",
    "from scipy.stats.stats import pearsonr\n",
    "import matplotlib\n",
    "import matplotlib.pyplot as plt\n",
    "#importing libraries to be used in this challenge\n",
    "\n",
    "%matplotlib inline\n",
    "\n",
    "#URL to data\n",
    "url = 'https://archive.ics.uci.edu/ml/machine-learning-databases/breast-cancer-wisconsin/breast-cancer-wisconsin.data'\n",
    "\n",
    "#Putting data into a useable format - pandas dataframe\n",
    "df = pd.read_csv(url, header=None, names=['ID','Clump Thickness', 'Uniformity of Cell Size', 'Uniformity of Cell Shape',\n",
    "                                         'Marginal Adhesion','Single Epithelial Cell Size','Bare Nuclei','Bland Chromatin',\n",
    "                                         'Normal Nucleoli','Mitoses','Class'])"
   ]
  },
  {
   "cell_type": "code",
   "execution_count": 6,
   "metadata": {
    "collapsed": false
   },
   "outputs": [
    {
     "data": {
      "text/html": [
       "<div>\n",
       "<table border=\"1\" class=\"dataframe\">\n",
       "  <thead>\n",
       "    <tr style=\"text-align: right;\">\n",
       "      <th></th>\n",
       "      <th>ID</th>\n",
       "      <th>Clump Thickness</th>\n",
       "      <th>Uniformity of Cell Size</th>\n",
       "      <th>Uniformity of Cell Shape</th>\n",
       "      <th>Marginal Adhesion</th>\n",
       "      <th>Single Epithelial Cell Size</th>\n",
       "      <th>Bare Nuclei</th>\n",
       "      <th>Bland Chromatin</th>\n",
       "      <th>Normal Nucleoli</th>\n",
       "      <th>Mitoses</th>\n",
       "      <th>Class</th>\n",
       "    </tr>\n",
       "  </thead>\n",
       "  <tbody>\n",
       "    <tr>\n",
       "      <th>0</th>\n",
       "      <td>1000025</td>\n",
       "      <td>5</td>\n",
       "      <td>1</td>\n",
       "      <td>1</td>\n",
       "      <td>1</td>\n",
       "      <td>2</td>\n",
       "      <td>1</td>\n",
       "      <td>3</td>\n",
       "      <td>1</td>\n",
       "      <td>1</td>\n",
       "      <td>2</td>\n",
       "    </tr>\n",
       "    <tr>\n",
       "      <th>1</th>\n",
       "      <td>1002945</td>\n",
       "      <td>5</td>\n",
       "      <td>4</td>\n",
       "      <td>4</td>\n",
       "      <td>5</td>\n",
       "      <td>7</td>\n",
       "      <td>10</td>\n",
       "      <td>3</td>\n",
       "      <td>2</td>\n",
       "      <td>1</td>\n",
       "      <td>2</td>\n",
       "    </tr>\n",
       "    <tr>\n",
       "      <th>2</th>\n",
       "      <td>1015425</td>\n",
       "      <td>3</td>\n",
       "      <td>1</td>\n",
       "      <td>1</td>\n",
       "      <td>1</td>\n",
       "      <td>2</td>\n",
       "      <td>2</td>\n",
       "      <td>3</td>\n",
       "      <td>1</td>\n",
       "      <td>1</td>\n",
       "      <td>2</td>\n",
       "    </tr>\n",
       "    <tr>\n",
       "      <th>3</th>\n",
       "      <td>1016277</td>\n",
       "      <td>6</td>\n",
       "      <td>8</td>\n",
       "      <td>8</td>\n",
       "      <td>1</td>\n",
       "      <td>3</td>\n",
       "      <td>4</td>\n",
       "      <td>3</td>\n",
       "      <td>7</td>\n",
       "      <td>1</td>\n",
       "      <td>2</td>\n",
       "    </tr>\n",
       "    <tr>\n",
       "      <th>4</th>\n",
       "      <td>1017023</td>\n",
       "      <td>4</td>\n",
       "      <td>1</td>\n",
       "      <td>1</td>\n",
       "      <td>3</td>\n",
       "      <td>2</td>\n",
       "      <td>1</td>\n",
       "      <td>3</td>\n",
       "      <td>1</td>\n",
       "      <td>1</td>\n",
       "      <td>2</td>\n",
       "    </tr>\n",
       "  </tbody>\n",
       "</table>\n",
       "</div>"
      ],
      "text/plain": [
       "        ID  Clump Thickness  Uniformity of Cell Size  \\\n",
       "0  1000025                5                        1   \n",
       "1  1002945                5                        4   \n",
       "2  1015425                3                        1   \n",
       "3  1016277                6                        8   \n",
       "4  1017023                4                        1   \n",
       "\n",
       "   Uniformity of Cell Shape  Marginal Adhesion  Single Epithelial Cell Size  \\\n",
       "0                         1                  1                            2   \n",
       "1                         4                  5                            7   \n",
       "2                         1                  1                            2   \n",
       "3                         8                  1                            3   \n",
       "4                         1                  3                            2   \n",
       "\n",
       "  Bare Nuclei  Bland Chromatin  Normal Nucleoli  Mitoses  Class  \n",
       "0           1                3                1        1      2  \n",
       "1          10                3                2        1      2  \n",
       "2           2                3                1        1      2  \n",
       "3           4                3                7        1      2  \n",
       "4           1                3                1        1      2  "
      ]
     },
     "execution_count": 6,
     "metadata": {},
     "output_type": "execute_result"
    }
   ],
   "source": [
    "df.head()"
   ]
  },
  {
   "cell_type": "code",
   "execution_count": 78,
   "metadata": {
    "collapsed": false
   },
   "outputs": [],
   "source": [
    "df['Class'] = df['Class'].replace(2,0)\n",
    "df['Class'] = df['Class'].replace(4,1) #Here I am just changing the class labels to 0 and 1 for easier interpretability"
   ]
  },
  {
   "cell_type": "code",
   "execution_count": 79,
   "metadata": {
    "collapsed": false
   },
   "outputs": [
    {
     "data": {
      "text/plain": [
       "0    458\n",
       "1    241\n",
       "Name: Class, dtype: int64"
      ]
     },
     "execution_count": 79,
     "metadata": {},
     "output_type": "execute_result"
    }
   ],
   "source": [
    "df.Class.value_counts() #Assessing the class imbalance here"
   ]
  },
  {
   "cell_type": "code",
   "execution_count": 80,
   "metadata": {
    "collapsed": false
   },
   "outputs": [
    {
     "name": "stdout",
     "output_type": "stream",
     "text": [
      "699\n"
     ]
    }
   ],
   "source": [
    "print len(df) #Assessing size of df"
   ]
  },
  {
   "cell_type": "markdown",
   "metadata": {},
   "source": [
    "## 2) Check for missing values"
   ]
  },
  {
   "cell_type": "code",
   "execution_count": 81,
   "metadata": {
    "collapsed": false
   },
   "outputs": [
    {
     "data": {
      "text/plain": [
       "ID                             0\n",
       "Clump Thickness                0\n",
       "Uniformity of Cell Size        0\n",
       "Uniformity of Cell Shape       0\n",
       "Marginal Adhesion              0\n",
       "Single Epithelial Cell Size    0\n",
       "Bare Nuclei                    0\n",
       "Bland Chromatin                0\n",
       "Normal Nucleoli                0\n",
       "Mitoses                        0\n",
       "Class                          0\n",
       "dtype: int64"
      ]
     },
     "execution_count": 81,
     "metadata": {},
     "output_type": "execute_result"
    }
   ],
   "source": [
    "df.isnull().sum() ## There are no missing values - however, I will check if there are any values that aren't missing \n",
    "##but that don't make sense (like a clump thickiness of 600 for instance)"
   ]
  },
  {
   "cell_type": "markdown",
   "metadata": {},
   "source": [
    "## 3) Explore data"
   ]
  },
  {
   "cell_type": "code",
   "execution_count": 82,
   "metadata": {
    "collapsed": false
   },
   "outputs": [],
   "source": [
    "#defining a function to plot each feature against the target variable to see if there are any obvious trends in the data.\n",
    "# Since the data is categorical many data points would overlap in a traditional scatter plot and therefore I am \n",
    "# choosing to use a jitter plot, which basically adds a bit of 'jitter' to the data to spread the points apart. \n",
    "def plot_features(col_list, title):\n",
    "    plt.figure(figsize=(10,14));\n",
    "    i = 0\n",
    "    for col in col_list:\n",
    "        i += 1\n",
    "        plt.subplot(5,2,i)\n",
    "        sns.stripplot(df[col],df['Class'], jitter=True)\n",
    "        plt.title(title % (col))\n",
    "        plt.tight_layout()"
   ]
  },
  {
   "cell_type": "code",
   "execution_count": 83,
   "metadata": {
    "collapsed": false
   },
   "outputs": [
    {
     "data": {
      "image/png": "[encoded data removed]",
      "text/plain": [
       "<matplotlib.figure.Figure at 0x1237d4990>"
      ]
     },
     "metadata": {},
     "output_type": "display_data"
    }
   ],
   "source": [
    "plot_features(cols, \"Relationship of %s vs Class\")\n",
    "#There are some obvious trends here - For instance a clump thicknickess of 9 or 10 and a cell shape value of 9 or 10 \n",
    "#seem to only be present in the metastatic class."
   ]
  },
  {
   "cell_type": "code",
   "execution_count": 85,
   "metadata": {
    "collapsed": false
   },
   "outputs": [
    {
     "data": {
      "text/plain": [
       "1     579\n",
       "2      35\n",
       "3      33\n",
       "10     14\n",
       "4      12\n",
       "7       9\n",
       "8       8\n",
       "5       6\n",
       "6       3\n",
       "Name: Mitoses, dtype: int64"
      ]
     },
     "execution_count": 85,
     "metadata": {},
     "output_type": "execute_result"
    }
   ],
   "source": [
    "df['Mitoses'].value_counts() # Just checking the values of the Mitoses column because I wanted to investigae the dark \n",
    "#circle was for #6 in the mitoses graph above. "
   ]
  },
  {
   "cell_type": "code",
   "execution_count": 95,
   "metadata": {
    "collapsed": false
   },
   "outputs": [
    {
     "name": "stdout",
     "output_type": "stream",
     "text": [
      "<class 'pandas.core.frame.DataFrame'>\n",
      "RangeIndex: 699 entries, 0 to 698\n",
      "Data columns (total 11 columns):\n",
      "ID                             699 non-null int64\n",
      "Clump Thickness                699 non-null int64\n",
      "Uniformity of Cell Size        699 non-null int64\n",
      "Uniformity of Cell Shape       699 non-null int64\n",
      "Marginal Adhesion              699 non-null int64\n",
      "Single Epithelial Cell Size    699 non-null int64\n",
      "Bare Nuclei                    699 non-null object\n",
      "Bland Chromatin                699 non-null int64\n",
      "Normal Nucleoli                699 non-null int64\n",
      "Mitoses                        699 non-null int64\n",
      "Class                          699 non-null int64\n",
      "dtypes: int64(10), object(1)\n",
      "memory usage: 60.1+ KB\n"
     ]
    }
   ],
   "source": [
    "df.info() #Just looking at the type of each feature to make sure they are all floats or ints"
   ]
  },
  {
   "cell_type": "code",
   "execution_count": 96,
   "metadata": {
    "collapsed": false
   },
   "outputs": [
    {
     "data": {
      "text/plain": [
       "1     402\n",
       "10    132\n",
       "5      30\n",
       "2      30\n",
       "3      28\n",
       "8      21\n",
       "4      19\n",
       "?      16\n",
       "9       9\n",
       "7       8\n",
       "6       4\n",
       "Name: Bare Nuclei, dtype: int64"
      ]
     },
     "execution_count": 96,
     "metadata": {},
     "output_type": "execute_result"
    }
   ],
   "source": [
    "#Not sure why 'Bare Nuclei' is not an int so I will explore this further\n",
    "df['Bare Nuclei'].value_counts()"
   ]
  },
  {
   "cell_type": "code",
   "execution_count": null,
   "metadata": {
    "collapsed": true
   },
   "outputs": [],
   "source": [
    "# I don't know what the ? are - there is no indication to whether or not they are meant to be a different value. \n",
    "#Since I have no indication of what they are supposed to be, I will assume they are missing values and will drop them."
   ]
  },
  {
   "cell_type": "code",
   "execution_count": 184,
   "metadata": {
    "collapsed": false
   },
   "outputs": [
    {
     "name": "stdout",
     "output_type": "stream",
     "text": [
      "<class 'pandas.core.frame.DataFrame'>\n",
      "Int64Index: 683 entries, 0 to 698\n",
      "Data columns (total 11 columns):\n",
      "ID                             683 non-null int64\n",
      "Clump Thickness                683 non-null int64\n",
      "Uniformity of Cell Size        683 non-null int64\n",
      "Uniformity of Cell Shape       683 non-null int64\n",
      "Marginal Adhesion              683 non-null int64\n",
      "Single Epithelial Cell Size    683 non-null int64\n",
      "Bare Nuclei                    683 non-null int64\n",
      "Bland Chromatin                683 non-null int64\n",
      "Normal Nucleoli                683 non-null int64\n",
      "Mitoses                        683 non-null int64\n",
      "Class                          683 non-null int64\n",
      "dtypes: int64(11)\n",
      "memory usage: 64.0 KB\n"
     ]
    }
   ],
   "source": [
    "df['Bare Nuclei'].replace('?',np.nan, inplace=True)\n",
    "df['Bare Nuclei'] = df['Bare Nuclei'].astype(int)\n",
    "df.info() #There should now be 16 missing values for Bare Nuclei"
   ]
  },
  {
   "cell_type": "code",
   "execution_count": 104,
   "metadata": {
    "collapsed": false
   },
   "outputs": [
    {
     "name": "stdout",
     "output_type": "stream",
     "text": [
      "<class 'pandas.core.frame.DataFrame'>\n",
      "Int64Index: 683 entries, 0 to 698\n",
      "Data columns (total 11 columns):\n",
      "ID                             683 non-null int64\n",
      "Clump Thickness                683 non-null int64\n",
      "Uniformity of Cell Size        683 non-null int64\n",
      "Uniformity of Cell Shape       683 non-null int64\n",
      "Marginal Adhesion              683 non-null int64\n",
      "Single Epithelial Cell Size    683 non-null int64\n",
      "Bare Nuclei                    683 non-null object\n",
      "Bland Chromatin                683 non-null int64\n",
      "Normal Nucleoli                683 non-null int64\n",
      "Mitoses                        683 non-null int64\n",
      "Class                          683 non-null int64\n",
      "dtypes: int64(10), object(1)\n",
      "memory usage: 64.0+ KB\n"
     ]
    }
   ],
   "source": [
    "df.dropna(inplace=True) #Dropping the missing values\n",
    "df.info()"
   ]
  },
  {
   "cell_type": "markdown",
   "metadata": {},
   "source": [
    "## 4) Explore Models and Model Selection"
   ]
  },
  {
   "cell_type": "code",
   "execution_count": 87,
   "metadata": {
    "collapsed": true
   },
   "outputs": [],
   "source": [
    "## I'm choosing a few supervised learning algorithms to explore. "
   ]
  },
  {
   "cell_type": "code",
   "execution_count": 201,
   "metadata": {
    "collapsed": false
   },
   "outputs": [],
   "source": [
    "from sklearn.tree import DecisionTreeClassifier\n",
    "from sklearn.linear_model import LogisticRegression\n",
    "from sklearn.ensemble import RandomForestClassifier\n",
    "from sklearn.svm import SVC\n",
    "from sklearn.neighbors import KNeighborsClassifier\n",
    "from sklearn.cross_validation import train_test_split \n",
    "from sklearn.cross_validation import cross_val_score \n",
    "from sklearn.metrics import (auc, roc_curve, roc_auc_score,\n",
    "                             accuracy_score, precision_score,\n",
    "                             recall_score, f1_score, )\n",
    "from sklearn.metrics import classification_report\n",
    "from sklearn.metrics import confusion_matrix"
   ]
  },
  {
   "cell_type": "code",
   "execution_count": 89,
   "metadata": {
    "collapsed": true
   },
   "outputs": [],
   "source": [
    "#The classes are unbalanced so I am rebalancing them in the respectove classifiers\n",
    "logistic = LogisticRegression(class_weight='balanced')\n",
    "treeclf = DecisionTreeClassifier(class_weight='balanced')\n",
    "forest = RandomForestClassifier(class_weight='balanced')\n",
    "svc = SVC(class_weight='balanced')\n",
    "svc_lin = SVC(class_weight='balanced', kernel='linear')\n",
    "knn = KNeighborsClassifier()"
   ]
  },
  {
   "cell_type": "code",
   "execution_count": 106,
   "metadata": {
    "collapsed": false
   },
   "outputs": [],
   "source": [
    "# Splitting the data into training and testing data\n",
    "X = df[cols]\n",
    "y = df['Class']\n",
    "X_train, X_test, y_train, y_test = train_test_split(X, y, test_size=.2, random_state=1)"
   ]
  },
  {
   "cell_type": "code",
   "execution_count": 109,
   "metadata": {
    "collapsed": true
   },
   "outputs": [],
   "source": [
    "#Defining a function to calculate metrics on the various classifiers for easy comparison\n",
    "def classifier_metrics_accuracy(clf):\n",
    "    clf.fit(X_train, y_train)\n",
    "    \n",
    "    print '%30s: %s' % ('Default score (accuracy)', clf.score(X_train, y_train))\n",
    "    print '%30s: %s' % ('Cross val score', cross_val_score(clf, X_train, y_train, cv=5, scoring='accuracy').mean())\n",
    "    print '%30s: %s' % ('AUC', (cross_val_score(clf, X_train, y_train, cv=5, scoring='roc_auc').mean()))\n",
    "    print '%30s: %s' % ('Precision', (cross_val_score(clf, X_train, y_train, cv=5, scoring='precision_weighted').mean()))\n",
    "    print '%30s: %s' % ('Recall', (cross_val_score(clf, X_train, y_train, cv=5, scoring='recall_weighted').mean()))\n",
    "    print '%30s: %s' % ('F1', (cross_val_score(clf, X_train, y_train, cv=5, scoring='f1_weighted').mean()))\n",
    "    print '\\n'"
   ]
  },
  {
   "cell_type": "code",
   "execution_count": 110,
   "metadata": {
    "collapsed": false
   },
   "outputs": [
    {
     "name": "stdout",
     "output_type": "stream",
     "text": [
      "Metrics for LogisticRegression(C=1.0, class_weight='balanced', dual=False,\n",
      "          fit_intercept=True, intercept_scaling=1, max_iter=100,\n",
      "          multi_class='ovr', n_jobs=1, penalty='l2', random_state=None,\n",
      "          solver='liblinear', tol=0.0001, verbose=0, warm_start=False)\n",
      "==================================================\n",
      "      Default score (accuracy): 0.972527472527\n",
      "               Cross val score: 0.96525376085\n",
      "                           AUC: 0.992611974139\n",
      "                     Precision: 0.965906401932\n",
      "                        Recall: 0.96525376085\n",
      "                            F1: 0.965362968722\n",
      "\n",
      "\n",
      "Metrics for DecisionTreeClassifier(class_weight='balanced', criterion='gini',\n",
      "            max_depth=None, max_features=None, max_leaf_nodes=None,\n",
      "            min_impurity_split=1e-07, min_samples_leaf=1,\n",
      "            min_samples_split=2, min_weight_fraction_leaf=0.0,\n",
      "            presort=False, random_state=None, splitter='best')\n",
      "==================================================\n",
      "      Default score (accuracy): 1.0\n",
      "               Cross val score: 0.941416612609\n",
      "                           AUC: 0.930558709884\n",
      "                     Precision: 0.942683284879\n",
      "                        Recall: 0.937780248973\n",
      "                            F1: 0.942876021604\n",
      "\n",
      "\n",
      "Metrics for RandomForestClassifier(bootstrap=True, class_weight='balanced',\n",
      "            criterion='gini', max_depth=None, max_features='auto',\n",
      "            max_leaf_nodes=None, min_impurity_split=1e-07,\n",
      "            min_samples_leaf=1, min_samples_split=2,\n",
      "            min_weight_fraction_leaf=0.0, n_estimators=10, n_jobs=1,\n",
      "            oob_score=False, random_state=None, verbose=0,\n",
      "            warm_start=False)\n",
      "==================================================\n",
      "      Default score (accuracy): 0.998168498168\n",
      "               Cross val score: 0.950591233435\n",
      "                           AUC: 0.98765395341\n",
      "                     Precision: 0.960560166656\n",
      "                        Recall: 0.952409106354\n",
      "                            F1: 0.959827252547\n",
      "\n",
      "\n",
      "Metrics for SVC(C=1.0, cache_size=200, class_weight='balanced', coef0=0.0,\n",
      "  decision_function_shape=None, degree=3, gamma='auto', kernel='rbf',\n",
      "  max_iter=-1, probability=False, random_state=None, shrinking=True,\n",
      "  tol=0.001, verbose=False)\n",
      "==================================================\n",
      "      Default score (accuracy): 0.981684981685\n",
      "               Cross val score: 0.948756062151\n",
      "                           AUC: 0.984591218023\n",
      "                     Precision: 0.955067928689\n",
      "                        Recall: 0.948756062151\n",
      "                            F1: 0.949430451609\n",
      "\n",
      "\n",
      "Metrics for KNeighborsClassifier(algorithm='auto', leaf_size=30, metric='minkowski',\n",
      "           metric_params=None, n_jobs=1, n_neighbors=5, p=2,\n",
      "           weights='uniform')\n",
      "==================================================\n",
      "      Default score (accuracy): 0.978021978022\n",
      "               Cross val score: 0.963435579032\n",
      "                           AUC: 0.987367796523\n",
      "                     Precision: 0.964151345199\n",
      "                        Recall: 0.963435579032\n",
      "                            F1: 0.963497017148\n",
      "\n",
      "\n",
      "Metrics for SVC(C=1.0, cache_size=200, class_weight='balanced', coef0=0.0,\n",
      "  decision_function_shape=None, degree=3, gamma='auto', kernel='linear',\n",
      "  max_iter=-1, probability=False, random_state=None, shrinking=True,\n",
      "  tol=0.001, verbose=False)\n",
      "==================================================\n",
      "      Default score (accuracy): 0.972527472527\n",
      "               Cross val score: 0.965236771384\n",
      "                           AUC: 0.99201704152\n",
      "                     Precision: 0.966150425251\n",
      "                        Recall: 0.965236771384\n",
      "                            F1: 0.965367900458\n",
      "\n",
      "\n"
     ]
    }
   ],
   "source": [
    "for clf in [logistic, treeclf, forest, svc, knn, svc_lin]: \n",
    "    print 'Metrics for %s' % clf\n",
    "    print '=' * 50\n",
    "    classifier_metrics_accuracy(clf)"
   ]
  },
  {
   "cell_type": "code",
   "execution_count": 122,
   "metadata": {
    "collapsed": true
   },
   "outputs": [],
   "source": [
    "## The Logistic Regression and SVC have the highest cross validation scores meaning that they are generalizing well and\n",
    "#also have the highest AUC scores which means they are optimizing true positives while minimizing false positives. \n",
    "#Especially in a breast cancer scenario, we want to make sure we optimize both of these things. \n",
    "#Since the logistic and SVC are performing similarly but the logistic regression is the simpler model and a lot less\n",
    "#computationally expensive then the SVC I will use the logistic regression model."
   ]
  },
  {
   "cell_type": "code",
   "execution_count": 123,
   "metadata": {
    "collapsed": false
   },
   "outputs": [
    {
     "data": {
      "image/png": "[encoded data removed]",
      "text/plain": [
       "<matplotlib.figure.Figure at 0x118dcbf90>"
      ]
     },
     "metadata": {},
     "output_type": "display_data"
    }
   ],
   "source": [
    "#visualizing the ROC curve for the logistic regression\n",
    "\n",
    "y_score = logistic.fit(X_train, y_train).decision_function(X_train)\n",
    "\n",
    "# Compute ROC curve and ROC area for each class\n",
    "\n",
    "fpr, tpr, _ = roc_curve(y_train, y_score)\n",
    "roc_auc = auc(fpr, tpr)\n",
    "plt.figure()\n",
    "lw = 2\n",
    "plt.plot(fpr, tpr, color='darkorange',lw=lw, label='ROC curve')\n",
    "plt.plot([0, 1], [0, 1], color='navy', lw=lw, linestyle='--')\n",
    "plt.xlim([0.0, 1.0])\n",
    "plt.ylim([0.0, 1.05])\n",
    "plt.xlabel('False Positive Rate')\n",
    "plt.ylabel('True Positive Rate')\n",
    "plt.title('ROC - logistic (balanced classes)')\n",
    "plt.legend(loc=\"lower right\")\n",
    "plt.show()"
   ]
  },
  {
   "cell_type": "markdown",
   "metadata": {},
   "source": [
    "## 5) Further Feature Engineering and Hyperparameter Optimization"
   ]
  },
  {
   "cell_type": "code",
   "execution_count": null,
   "metadata": {
    "collapsed": true
   },
   "outputs": [],
   "source": [
    "#For a logistic regression the data do not need to be linearly related or follow a normal distribution. However,\n",
    "#this model does assume independence of features and therefore features should not be correlated. "
   ]
  },
  {
   "cell_type": "code",
   "execution_count": 187,
   "metadata": {
    "collapsed": false
   },
   "outputs": [
    {
     "name": "stdout",
     "output_type": "stream",
     "text": [
      "                                                         PCC        p-value\n",
      "Bare Nuclei__Bland Chromatin                        0.680615   4.391890e-94\n",
      "Bare Nuclei__Mitoses                                0.339210   7.473326e-20\n",
      "Bare Nuclei__Normal Nucleoli                        0.584280   9.158074e-64\n",
      "Bland Chromatin__Mitoses                            0.346011   1.214400e-20\n",
      "Bland Chromatin__Normal Nucleoli                    0.665602   1.312645e-88\n",
      "Clump Thickness__Bare Nuclei                        0.593091   4.050902e-66\n",
      "Clump Thickness__Bland Chromatin                    0.553742   3.880813e-56\n",
      "Clump Thickness__Marginal Adhesion                  0.487829   4.027956e-42\n",
      "Clump Thickness__Mitoses                            0.350957   3.148289e-21\n",
      "Clump Thickness__Normal Nucleoli                    0.534066   1.260114e-51\n",
      "Clump Thickness__Single Epithelial Cell Size        0.523596   2.411759e-49\n",
      "Clump Thickness__Uniformity of Cell Shape           0.653470   2.064616e-84\n",
      "Clump Thickness__Uniformity of Cell Size            0.642481   8.964173e-81\n",
      "Marginal Adhesion__Bare Nuclei                      0.670648   2.058229e-90\n",
      "Marginal Adhesion__Bland Chromatin                  0.668567   1.153511e-89\n",
      "Marginal Adhesion__Mitoses                          0.418898   2.125287e-30\n",
      "Marginal Adhesion__Normal Nucleoli                  0.603121   6.883291e-69\n",
      "Marginal Adhesion__Single Epithelial Cell Size      0.594548   1.627087e-66\n",
      "Normal Nucleoli__Mitoses                            0.433757   1.053441e-32\n",
      "Single Epithelial Cell Size__Bare Nuclei            0.585716   3.828707e-64\n",
      "Single Epithelial Cell Size__Bland Chromatin        0.618128   3.199163e-73\n",
      "Single Epithelial Cell Size__Mitoses                0.480583   9.266128e-41\n",
      "Single Epithelial Cell Size__Normal Nucleoli        0.628926   1.734754e-76\n",
      "Uniformity of Cell Shape__Bare Nuclei               0.713878  1.807287e-107\n",
      "Uniformity of Cell Shape__Bland Chromatin           0.735344  3.567289e-117\n",
      "Uniformity of Cell Shape__Marginal Adhesion         0.685948   4.146228e-96\n",
      "Uniformity of Cell Shape__Mitoses                   0.441258   6.531371e-34\n",
      "Uniformity of Cell Shape__Normal Nucleoli           0.717963  3.018221e-109\n",
      "Uniformity of Cell Shape__Single Epithelial Cel...  0.722462  3.061101e-111\n",
      "Uniformity of Cell Size__Bare Nuclei                0.691709   2.402961e-98\n",
      "Uniformity of Cell Size__Bland Chromatin            0.755559  3.184894e-127\n",
      "Uniformity of Cell Size__Marginal Adhesion          0.706977  1.544338e-104\n",
      "Uniformity of Cell Size__Mitoses                    0.460755   3.398097e-37\n",
      "Uniformity of Cell Size__Normal Nucleoli            0.719346  7.433029e-110\n",
      "Uniformity of Cell Size__Single Epithelial Cell...  0.753544  3.535863e-126\n",
      "Uniformity of Cell Size__Uniformity of Cell Shape   0.907228  2.567742e-258\n"
     ]
    }
   ],
   "source": [
    "#Checking correlations between features - r^2 threshold of .75 or above is considered strongly correlated. \n",
    "correlations = {}\n",
    "for col_a, col_b in itertools.combinations(cols, 2):\n",
    "    correlations[col_a + '__' + col_b] = pearsonr(df.loc[:, col_a], df.loc[:, col_b])\n",
    "\n",
    "result = pd.DataFrame.from_dict(correlations, orient='index')\n",
    "result.columns = ['PCC', 'p-value']\n",
    "\n",
    "print(result.sort_index())"
   ]
  },
  {
   "cell_type": "code",
   "execution_count": 191,
   "metadata": {
    "collapsed": false
   },
   "outputs": [],
   "source": [
    "#Removing the feature 'Uniformity of Cell Size' because it is strongly correlated with 3 other features.\n",
    "cols_nocellsize = ['Clump Thickness',\n",
    " 'Uniformity of Cell Shape',\n",
    " 'Marginal Adhesion',\n",
    " 'Single Epithelial Cell Size',\n",
    " 'Bare Nuclei',\n",
    " 'Bland Chromatin',\n",
    " 'Normal Nucleoli',\n",
    " 'Mitoses']\n",
    "X = df[cols_nocellsize]\n",
    "y = df['Class']\n",
    "X_train, X_test, y_train, y_test = train_test_split(X, y, test_size=.2, random_state=1)"
   ]
  },
  {
   "cell_type": "code",
   "execution_count": 192,
   "metadata": {
    "collapsed": true
   },
   "outputs": [],
   "source": [
    "#Trying a variety of C parameters and solvers"
   ]
  },
  {
   "cell_type": "code",
   "execution_count": 193,
   "metadata": {
    "collapsed": false
   },
   "outputs": [
    {
     "name": "stdout",
     "output_type": "stream",
     "text": [
      "Fitting 3 folds for each of 28 candidates, totalling 84 fits\n",
      "LogisticRegression(C=1, class_weight='balanced', dual=False,\n",
      "          fit_intercept=True, intercept_scaling=1, max_iter=100,\n",
      "          multi_class='ovr', n_jobs=1, penalty='l2', random_state=None,\n",
      "          solver='liblinear', tol=0.0001, verbose=0, warm_start=False)\n",
      "0.970695970696\n"
     ]
    },
    {
     "name": "stderr",
     "output_type": "stream",
     "text": [
      "[Parallel(n_jobs=1)]: Done  84 out of  84 | elapsed:    1.2s finished\n"
     ]
    }
   ],
   "source": [
    "PARAMETERS = {'C':[0.001, 0.01, 0.1, 1, 10, 100, 1000], \n",
    "              'solver':['newton-cg', 'lbfgs', 'liblinear', 'sag']}\n",
    "SCORING = 'accuracy'\n",
    "\n",
    "from sklearn import grid_search\n",
    "\n",
    "#Grid Search\n",
    "model = LogisticRegression(class_weight='balanced')\n",
    "clf = grid_search.GridSearchCV(model, PARAMETERS, scoring=SCORING, verbose=True)\n",
    "clf.fit(X_train, y_train)\n",
    "\n",
    "#After completion, show the final best results and scores\n",
    "print clf.best_estimator_\n",
    "print clf.best_score_"
   ]
  },
  {
   "cell_type": "code",
   "execution_count": 194,
   "metadata": {
    "collapsed": false
   },
   "outputs": [
    {
     "name": "stdout",
     "output_type": "stream",
     "text": [
      "Fitting 3 folds for each of 14 candidates, totalling 42 fits\n",
      "LogisticRegression(C=1, class_weight='balanced', dual=False,\n",
      "          fit_intercept=True, intercept_scaling=1, max_iter=100,\n",
      "          multi_class='ovr', n_jobs=1, penalty='l1', random_state=None,\n",
      "          solver='liblinear', tol=0.0001, verbose=0, warm_start=False)\n",
      "0.970695970696\n"
     ]
    },
    {
     "name": "stderr",
     "output_type": "stream",
     "text": [
      "[Parallel(n_jobs=1)]: Done  42 out of  42 | elapsed:    0.3s finished\n"
     ]
    }
   ],
   "source": [
    "# Trying out L1 vs L2 regularization\n",
    "\n",
    "PARAMETERS = {'penalty':['l1','l2'], 'C':[0.001, 0.01, 0.1, 1, 10, 100, 1000]}\n",
    "SCORING = 'accuracy'\n",
    "\n",
    "from sklearn import grid_search\n",
    "\n",
    "#Grid Search\n",
    "model = LogisticRegression(class_weight='balanced')\n",
    "clf = grid_search.GridSearchCV(model, PARAMETERS, scoring=SCORING, verbose=True)\n",
    "clf.fit(X_train, y_train)\n",
    "\n",
    "#After completion, show the final best results and scores\n",
    "print clf.best_estimator_\n",
    "print clf.best_score_"
   ]
  },
  {
   "cell_type": "markdown",
   "metadata": {},
   "source": [
    "## 6) Evaluating the Model"
   ]
  },
  {
   "cell_type": "code",
   "execution_count": 202,
   "metadata": {
    "collapsed": true
   },
   "outputs": [],
   "source": [
    "logistic_model = LogisticRegression(C=0.1, class_weight='balanced', dual=False,\n",
    "          fit_intercept=True, intercept_scaling=1, max_iter=100,\n",
    "          multi_class='ovr', n_jobs=1, penalty='l2', random_state=None,\n",
    "          solver='sag', tol=0.0001, verbose=0, warm_start=False)\n",
    "## Using the optimized model"
   ]
  },
  {
   "cell_type": "code",
   "execution_count": 203,
   "metadata": {
    "collapsed": false
   },
   "outputs": [
    {
     "data": {
      "text/plain": [
       "array([[ 0.31807339,  0.34710463,  0.22013371, -0.06557374,  0.37504013,\n",
       "         0.23237369,  0.25453434,  0.26385169]])"
      ]
     },
     "execution_count": 203,
     "metadata": {},
     "output_type": "execute_result"
    }
   ],
   "source": [
    "clf = logistic_model.fit(X_train, y_train)\n",
    "clf.coef_ #Looking at the most important features"
   ]
  },
  {
   "cell_type": "code",
   "execution_count": 197,
   "metadata": {
    "collapsed": false
   },
   "outputs": [
    {
     "data": {
      "text/plain": [
       "Index([u'Clump Thickness', u'Uniformity of Cell Shape', u'Marginal Adhesion',\n",
       "       u'Single Epithelial Cell Size', u'Bare Nuclei', u'Bland Chromatin',\n",
       "       u'Normal Nucleoli', u'Mitoses'],\n",
       "      dtype='object')"
      ]
     },
     "execution_count": 197,
     "metadata": {},
     "output_type": "execute_result"
    }
   ],
   "source": [
    "X_train.columns"
   ]
  },
  {
   "cell_type": "code",
   "execution_count": 198,
   "metadata": {
    "collapsed": false
   },
   "outputs": [
    {
     "data": {
      "text/plain": [
       "[('Bare Nuclei', 0.37503447770755555),\n",
       " ('Uniformity of Cell Shape', 0.3474262227533515),\n",
       " ('Clump Thickness', 0.31806665670194295),\n",
       " ('Mitoses', 0.26383160056804084),\n",
       " ('Normal Nucleoli', 0.2545885257613919),\n",
       " ('Bland Chromatin', 0.23212793038390475),\n",
       " ('Marginal Adhesion', 0.2202720122373551),\n",
       " ('Single Epithelial Cell Size', -0.065432943485218178)]"
      ]
     },
     "execution_count": 198,
     "metadata": {},
     "output_type": "execute_result"
    }
   ],
   "source": [
    "important_features = zip(X_train.columns, clf.coef_.ravel())\n",
    "sorted(important_features, key=operator.itemgetter(1), reverse=True)\n",
    "#The most important features have the highest coefficients however coefficients should be interpretted with caution such\n",
    "# that .37 unit change in Bare Nuclei is associated with a 1 unit change in the target. This is not a meaningful\n",
    "# interpretation for categorical data. "
   ]
  },
  {
   "cell_type": "code",
   "execution_count": 199,
   "metadata": {
    "collapsed": true
   },
   "outputs": [],
   "source": [
    "y_eval = clf.predict(X_test)"
   ]
  },
  {
   "cell_type": "code",
   "execution_count": 200,
   "metadata": {
    "collapsed": false
   },
   "outputs": [
    {
     "name": "stdout",
     "output_type": "stream",
     "text": [
      "Overall model accuracy is 0.992700729927\n"
     ]
    }
   ],
   "source": [
    "print \"Overall model accuracy is %s\" % (accuracy_score(y_test, y_eval))"
   ]
  },
  {
   "cell_type": "code",
   "execution_count": 204,
   "metadata": {
    "collapsed": false
   },
   "outputs": [
    {
     "name": "stdout",
     "output_type": "stream",
     "text": [
      "             precision    recall  f1-score   support\n",
      "\n",
      "          0       0.99      1.00      0.99        90\n",
      "          1       1.00      0.98      0.99        47\n",
      "\n",
      "avg / total       0.99      0.99      0.99       137\n",
      "\n"
     ]
    }
   ],
   "source": [
    "print classification_report(y_test, y_eval, labels=[0, 1])"
   ]
  },
  {
   "cell_type": "code",
   "execution_count": 205,
   "metadata": {
    "collapsed": false
   },
   "outputs": [],
   "source": [
    "import itertools\n",
    "\n",
    "def plot_confusion_matrix(cm, classes,\n",
    "                          normalize=False,\n",
    "                          title='Confusion matrix',\n",
    "                          cmap=plt.cm.Blues):\n",
    "    \"\"\"\n",
    "    This function prints and plots the confusion matrix. \"\"\"\n",
    "    \n",
    "    plt.imshow(cm, interpolation='nearest', cmap=cmap)\n",
    "    plt.title(title)\n",
    "    plt.colorbar()\n",
    "    tick_marks = np.arange(len(classes))\n",
    "    plt.xticks(tick_marks, classes, rotation=45)\n",
    "    plt.yticks(tick_marks, classes)\n",
    "\n",
    "    thresh = cm.max() / 2.\n",
    "    for i, j in itertools.product(range(cm.shape[0]), range(cm.shape[1])):\n",
    "        plt.text(j, i, cm[i, j],\n",
    "                 horizontalalignment=\"center\",\n",
    "                 color=\"white\" if cm[i, j] > thresh else \"black\", size=22)\n",
    "\n",
    "    plt.tight_layout()\n",
    "    plt.ylabel('True label')\n",
    "    plt.xlabel('Predicted label')"
   ]
  },
  {
   "cell_type": "code",
   "execution_count": 206,
   "metadata": {
    "collapsed": false
   },
   "outputs": [
    {
     "data": {
      "image/png": "[encoded data removed]",
      "text/plain": [
       "<matplotlib.figure.Figure at 0x11cdd3cd0>"
      ]
     },
     "metadata": {},
     "output_type": "display_data"
    }
   ],
   "source": [
    "conf_logistic = confusion_matrix(y_test, y_eval)\n",
    "plot_confusion_matrix(conf_logistic, classes=[0, 1], title = 'Confusion matrix-Logistic Regression')\n",
    "plt.show()"
   ]
  },
  {
   "cell_type": "markdown",
   "metadata": {},
   "source": [
    "## 7) Conclusions and Insights"
   ]
  },
  {
   "cell_type": "markdown",
   "metadata": {},
   "source": [
    "### I used a logistic regression classifier to classify benign and malignant breast cancer samples. I removed missing values and highly correlated features from the data set before splitting the data into test and training data. Since the two classes were unbalanced to begin with, I rebalanced classes using the built-in functionality in sklearn (setting weights=balanced). I optimized the hyperparameters of the logistic regression by trying different C parameters and solvers. The model generalized well as evidenced by similar accuracy scores in the training and testing data. Finally, to validate the model I used a confusion matrix which showed that only 1 sample was misclassified and it was a false negative. In the scenario of breast cancer it is really important to minimize false negatives as the repercussions of a person with breast cancer going untreated are far worse than the opposite case of a false positive where a person is told they have breast cancer and goes through additional screenings to find out that they actually do not have breast cancer. In the future I could optimize this model further to remove false negatives at the expense of generating more false positives. Important features for this model include Bare Nuclei, Uniformity of Cell Shape, and Clump Thickness."
   ]
  },
  {
   "cell_type": "code",
   "execution_count": null,
   "metadata": {
    "collapsed": true
   },
   "outputs": [],
   "source": []
  }
 ],
 "metadata": {
  "kernelspec": {
   "display_name": "Python 2",
   "language": "python",
   "name": "python2"
  },
  "language_info": {
   "codemirror_mode": {
    "name": "ipython",
    "version": 2
   },
   "file_extension": ".py",
   "mimetype": "text/x-python",
   "name": "python",
   "nbconvert_exporter": "python",
   "pygments_lexer": "ipython2",
   "version": "2.7.12"
  }
 },
 "nbformat": 4,
 "nbformat_minor": 0
}
