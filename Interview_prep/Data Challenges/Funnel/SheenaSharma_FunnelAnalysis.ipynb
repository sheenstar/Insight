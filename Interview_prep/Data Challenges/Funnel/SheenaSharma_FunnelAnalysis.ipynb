{
 "cells": [
  {
   "cell_type": "markdown",
   "metadata": {},
   "source": [
    "## The goal is to perform funnel analysis for an e-commerce website. The CEO isn't happy with the volume of sales, especially sales coming from new users. She would like two things:\n",
    "### 1) A full picture of funnel conversion rate for both desktop and mobile\n",
    "### 2) Some insights on what the product team should focus on in order to improve conversion rate as well as anything you might discover that could help improve\n",
    "\n",
    "#### There are 4 stages in this funnel: home page -> search page ->  the payment page -> confirmation page\n",
    "#### \n",
    "#### "
   ]
  },
  {
   "cell_type": "markdown",
   "metadata": {},
   "source": [
    "## 1) Preprocessing - accessing and exploring data - dealing with missing or nonsensical values, feature engineering"
   ]
  },
  {
   "cell_type": "code",
   "execution_count": 1,
   "metadata": {
    "collapsed": true
   },
   "outputs": [],
   "source": [
    "#importing packages\n",
    "import numpy as np\n",
    "import pandas as pd\n",
    "import matplotlib\n",
    "import matplotlib.pyplot as plt\n",
    "\n",
    "%matplotlib inline"
   ]
  },
  {
   "cell_type": "code",
   "execution_count": 206,
   "metadata": {
    "collapsed": false
   },
   "outputs": [],
   "source": [
    "#importing data - all of these can be joined on the unique customer ID\n",
    "users = pd.read_csv('user_table.csv')\n",
    "home_page = pd.read_csv('home_page_table.csv')\n",
    "payment_confirm = pd.read_csv('payment_confirmation_table.csv')\n",
    "payment_page = pd.read_csv('payment_page_table.csv')\n",
    "search_page = pd.read_csv('search_page_table.csv')"
   ]
  },
  {
   "cell_type": "code",
   "execution_count": 207,
   "metadata": {
    "collapsed": false
   },
   "outputs": [
    {
     "data": {
      "text/html": [
       "<div>\n",
       "<table border=\"1\" class=\"dataframe\">\n",
       "  <thead>\n",
       "    <tr style=\"text-align: right;\">\n",
       "      <th></th>\n",
       "      <th>user_id</th>\n",
       "      <th>date</th>\n",
       "      <th>device</th>\n",
       "      <th>sex</th>\n",
       "    </tr>\n",
       "  </thead>\n",
       "  <tbody>\n",
       "    <tr>\n",
       "      <th>0</th>\n",
       "      <td>450007</td>\n",
       "      <td>2015-02-28</td>\n",
       "      <td>Desktop</td>\n",
       "      <td>Female</td>\n",
       "    </tr>\n",
       "    <tr>\n",
       "      <th>1</th>\n",
       "      <td>756838</td>\n",
       "      <td>2015-01-13</td>\n",
       "      <td>Desktop</td>\n",
       "      <td>Male</td>\n",
       "    </tr>\n",
       "    <tr>\n",
       "      <th>2</th>\n",
       "      <td>568983</td>\n",
       "      <td>2015-04-09</td>\n",
       "      <td>Desktop</td>\n",
       "      <td>Male</td>\n",
       "    </tr>\n",
       "    <tr>\n",
       "      <th>3</th>\n",
       "      <td>190794</td>\n",
       "      <td>2015-02-18</td>\n",
       "      <td>Desktop</td>\n",
       "      <td>Female</td>\n",
       "    </tr>\n",
       "    <tr>\n",
       "      <th>4</th>\n",
       "      <td>537909</td>\n",
       "      <td>2015-01-15</td>\n",
       "      <td>Desktop</td>\n",
       "      <td>Male</td>\n",
       "    </tr>\n",
       "  </tbody>\n",
       "</table>\n",
       "</div>"
      ],
      "text/plain": [
       "   user_id        date   device     sex\n",
       "0   450007  2015-02-28  Desktop  Female\n",
       "1   756838  2015-01-13  Desktop    Male\n",
       "2   568983  2015-04-09  Desktop    Male\n",
       "3   190794  2015-02-18  Desktop  Female\n",
       "4   537909  2015-01-15  Desktop    Male"
      ]
     },
     "execution_count": 207,
     "metadata": {},
     "output_type": "execute_result"
    }
   ],
   "source": [
    "#Exploring users table\n",
    "users.head() #I will need to encode device and sex with dummy variables"
   ]
  },
  {
   "cell_type": "code",
   "execution_count": 208,
   "metadata": {
    "collapsed": false
   },
   "outputs": [
    {
     "name": "stdout",
     "output_type": "stream",
     "text": [
      "<class 'pandas.core.frame.DataFrame'>\n",
      "RangeIndex: 90400 entries, 0 to 90399\n",
      "Data columns (total 4 columns):\n",
      "user_id    90400 non-null int64\n",
      "date       90400 non-null object\n",
      "device     90400 non-null object\n",
      "sex        90400 non-null object\n",
      "dtypes: int64(1), object(3)\n",
      "memory usage: 2.8+ MB\n"
     ]
    }
   ],
   "source": [
    "users.info() #Checking for null values - none so far "
   ]
  },
  {
   "cell_type": "code",
   "execution_count": 209,
   "metadata": {
    "collapsed": false
   },
   "outputs": [
    {
     "data": {
      "text/html": [
       "<div>\n",
       "<table border=\"1\" class=\"dataframe\">\n",
       "  <thead>\n",
       "    <tr style=\"text-align: right;\">\n",
       "      <th></th>\n",
       "      <th>Desktop</th>\n",
       "      <th>Mobile</th>\n",
       "    </tr>\n",
       "  </thead>\n",
       "  <tbody>\n",
       "    <tr>\n",
       "      <th>0</th>\n",
       "      <td>1.0</td>\n",
       "      <td>0.0</td>\n",
       "    </tr>\n",
       "    <tr>\n",
       "      <th>1</th>\n",
       "      <td>1.0</td>\n",
       "      <td>0.0</td>\n",
       "    </tr>\n",
       "    <tr>\n",
       "      <th>2</th>\n",
       "      <td>1.0</td>\n",
       "      <td>0.0</td>\n",
       "    </tr>\n",
       "    <tr>\n",
       "      <th>3</th>\n",
       "      <td>1.0</td>\n",
       "      <td>0.0</td>\n",
       "    </tr>\n",
       "    <tr>\n",
       "      <th>4</th>\n",
       "      <td>1.0</td>\n",
       "      <td>0.0</td>\n",
       "    </tr>\n",
       "  </tbody>\n",
       "</table>\n",
       "</div>"
      ],
      "text/plain": [
       "   Desktop  Mobile\n",
       "0      1.0     0.0\n",
       "1      1.0     0.0\n",
       "2      1.0     0.0\n",
       "3      1.0     0.0\n",
       "4      1.0     0.0"
      ]
     },
     "execution_count": 209,
     "metadata": {},
     "output_type": "execute_result"
    }
   ],
   "source": [
    "usersdevice = pd.get_dummies(users.device)\n",
    "userssex = pd.get_dummies(users.sex)\n",
    "usersdevice.head()"
   ]
  },
  {
   "cell_type": "code",
   "execution_count": 210,
   "metadata": {
    "collapsed": false
   },
   "outputs": [
    {
     "data": {
      "text/html": [
       "<div>\n",
       "<table border=\"1\" class=\"dataframe\">\n",
       "  <thead>\n",
       "    <tr style=\"text-align: right;\">\n",
       "      <th></th>\n",
       "      <th>user_id</th>\n",
       "      <th>date</th>\n",
       "      <th>Desktop</th>\n",
       "      <th>Mobile</th>\n",
       "      <th>Female</th>\n",
       "      <th>Male</th>\n",
       "    </tr>\n",
       "  </thead>\n",
       "  <tbody>\n",
       "    <tr>\n",
       "      <th>0</th>\n",
       "      <td>450007</td>\n",
       "      <td>2015-02-28</td>\n",
       "      <td>1.0</td>\n",
       "      <td>0.0</td>\n",
       "      <td>1.0</td>\n",
       "      <td>0.0</td>\n",
       "    </tr>\n",
       "    <tr>\n",
       "      <th>1</th>\n",
       "      <td>756838</td>\n",
       "      <td>2015-01-13</td>\n",
       "      <td>1.0</td>\n",
       "      <td>0.0</td>\n",
       "      <td>0.0</td>\n",
       "      <td>1.0</td>\n",
       "    </tr>\n",
       "    <tr>\n",
       "      <th>2</th>\n",
       "      <td>568983</td>\n",
       "      <td>2015-04-09</td>\n",
       "      <td>1.0</td>\n",
       "      <td>0.0</td>\n",
       "      <td>0.0</td>\n",
       "      <td>1.0</td>\n",
       "    </tr>\n",
       "    <tr>\n",
       "      <th>3</th>\n",
       "      <td>190794</td>\n",
       "      <td>2015-02-18</td>\n",
       "      <td>1.0</td>\n",
       "      <td>0.0</td>\n",
       "      <td>1.0</td>\n",
       "      <td>0.0</td>\n",
       "    </tr>\n",
       "    <tr>\n",
       "      <th>4</th>\n",
       "      <td>537909</td>\n",
       "      <td>2015-01-15</td>\n",
       "      <td>1.0</td>\n",
       "      <td>0.0</td>\n",
       "      <td>0.0</td>\n",
       "      <td>1.0</td>\n",
       "    </tr>\n",
       "  </tbody>\n",
       "</table>\n",
       "</div>"
      ],
      "text/plain": [
       "   user_id        date  Desktop  Mobile  Female  Male\n",
       "0   450007  2015-02-28      1.0     0.0     1.0   0.0\n",
       "1   756838  2015-01-13      1.0     0.0     0.0   1.0\n",
       "2   568983  2015-04-09      1.0     0.0     0.0   1.0\n",
       "3   190794  2015-02-18      1.0     0.0     1.0   0.0\n",
       "4   537909  2015-01-15      1.0     0.0     0.0   1.0"
      ]
     },
     "execution_count": 210,
     "metadata": {},
     "output_type": "execute_result"
    }
   ],
   "source": [
    "users = users.join(usersdevice)\n",
    "users = users.join(userssex)\n",
    "users.drop(['device', 'sex'], axis=1, inplace=True)\n",
    "\n",
    "users.head()"
   ]
  },
  {
   "cell_type": "code",
   "execution_count": 211,
   "metadata": {
    "collapsed": false
   },
   "outputs": [
    {
     "data": {
      "text/html": [
       "<div>\n",
       "<table border=\"1\" class=\"dataframe\">\n",
       "  <thead>\n",
       "    <tr style=\"text-align: right;\">\n",
       "      <th></th>\n",
       "      <th>user_id</th>\n",
       "      <th>page</th>\n",
       "    </tr>\n",
       "  </thead>\n",
       "  <tbody>\n",
       "    <tr>\n",
       "      <th>0</th>\n",
       "      <td>313593</td>\n",
       "      <td>home_page</td>\n",
       "    </tr>\n",
       "    <tr>\n",
       "      <th>1</th>\n",
       "      <td>468315</td>\n",
       "      <td>home_page</td>\n",
       "    </tr>\n",
       "    <tr>\n",
       "      <th>2</th>\n",
       "      <td>264005</td>\n",
       "      <td>home_page</td>\n",
       "    </tr>\n",
       "    <tr>\n",
       "      <th>3</th>\n",
       "      <td>290784</td>\n",
       "      <td>home_page</td>\n",
       "    </tr>\n",
       "    <tr>\n",
       "      <th>4</th>\n",
       "      <td>639104</td>\n",
       "      <td>home_page</td>\n",
       "    </tr>\n",
       "  </tbody>\n",
       "</table>\n",
       "</div>"
      ],
      "text/plain": [
       "   user_id       page\n",
       "0   313593  home_page\n",
       "1   468315  home_page\n",
       "2   264005  home_page\n",
       "3   290784  home_page\n",
       "4   639104  home_page"
      ]
     },
     "execution_count": 211,
     "metadata": {},
     "output_type": "execute_result"
    }
   ],
   "source": [
    "#explore second table - home page\n",
    "home_page.head() #I'll need to change the home_page column using get dummies"
   ]
  },
  {
   "cell_type": "code",
   "execution_count": 212,
   "metadata": {
    "collapsed": false
   },
   "outputs": [
    {
     "name": "stdout",
     "output_type": "stream",
     "text": [
      "<class 'pandas.core.frame.DataFrame'>\n",
      "RangeIndex: 90400 entries, 0 to 90399\n",
      "Data columns (total 2 columns):\n",
      "user_id    90400 non-null int64\n",
      "page       90400 non-null object\n",
      "dtypes: int64(1), object(1)\n",
      "memory usage: 1.4+ MB\n"
     ]
    }
   ],
   "source": [
    "home_page.info() # no null numbers "
   ]
  },
  {
   "cell_type": "code",
   "execution_count": 213,
   "metadata": {
    "collapsed": false
   },
   "outputs": [
    {
     "data": {
      "text/html": [
       "<div>\n",
       "<table border=\"1\" class=\"dataframe\">\n",
       "  <thead>\n",
       "    <tr style=\"text-align: right;\">\n",
       "      <th></th>\n",
       "      <th>user_id</th>\n",
       "      <th>home_page</th>\n",
       "    </tr>\n",
       "  </thead>\n",
       "  <tbody>\n",
       "    <tr>\n",
       "      <th>0</th>\n",
       "      <td>313593</td>\n",
       "      <td>1.0</td>\n",
       "    </tr>\n",
       "    <tr>\n",
       "      <th>1</th>\n",
       "      <td>468315</td>\n",
       "      <td>1.0</td>\n",
       "    </tr>\n",
       "    <tr>\n",
       "      <th>2</th>\n",
       "      <td>264005</td>\n",
       "      <td>1.0</td>\n",
       "    </tr>\n",
       "    <tr>\n",
       "      <th>3</th>\n",
       "      <td>290784</td>\n",
       "      <td>1.0</td>\n",
       "    </tr>\n",
       "    <tr>\n",
       "      <th>4</th>\n",
       "      <td>639104</td>\n",
       "      <td>1.0</td>\n",
       "    </tr>\n",
       "  </tbody>\n",
       "</table>\n",
       "</div>"
      ],
      "text/plain": [
       "   user_id  home_page\n",
       "0   313593        1.0\n",
       "1   468315        1.0\n",
       "2   264005        1.0\n",
       "3   290784        1.0\n",
       "4   639104        1.0"
      ]
     },
     "execution_count": 213,
     "metadata": {},
     "output_type": "execute_result"
    }
   ],
   "source": [
    "homepage = pd.get_dummies(home_page.page)\n",
    "home_page = home_page.join(homepage)\n",
    "home_page.drop('page', axis=1, inplace=True)\n",
    "home_page.head()"
   ]
  },
  {
   "cell_type": "code",
   "execution_count": 214,
   "metadata": {
    "collapsed": false
   },
   "outputs": [
    {
     "data": {
      "text/plain": [
       "home_page\n",
       "1.0    90400\n",
       "dtype: int64"
      ]
     },
     "execution_count": 214,
     "metadata": {},
     "output_type": "execute_result"
    }
   ],
   "source": [
    "home_page.groupby([\"home_page\"]).size() #Everybody went to the homepage, which makes sense. That's step 1 in the funnel\n",
    "#They must go to the homepage to be included in the funnel analysis"
   ]
  },
  {
   "cell_type": "code",
   "execution_count": 215,
   "metadata": {
    "collapsed": false
   },
   "outputs": [
    {
     "data": {
      "text/html": [
       "<div>\n",
       "<table border=\"1\" class=\"dataframe\">\n",
       "  <thead>\n",
       "    <tr style=\"text-align: right;\">\n",
       "      <th></th>\n",
       "      <th>user_id</th>\n",
       "      <th>page</th>\n",
       "    </tr>\n",
       "  </thead>\n",
       "  <tbody>\n",
       "    <tr>\n",
       "      <th>0</th>\n",
       "      <td>15866</td>\n",
       "      <td>search_page</td>\n",
       "    </tr>\n",
       "    <tr>\n",
       "      <th>1</th>\n",
       "      <td>347058</td>\n",
       "      <td>search_page</td>\n",
       "    </tr>\n",
       "    <tr>\n",
       "      <th>2</th>\n",
       "      <td>577020</td>\n",
       "      <td>search_page</td>\n",
       "    </tr>\n",
       "    <tr>\n",
       "      <th>3</th>\n",
       "      <td>780347</td>\n",
       "      <td>search_page</td>\n",
       "    </tr>\n",
       "    <tr>\n",
       "      <th>4</th>\n",
       "      <td>383739</td>\n",
       "      <td>search_page</td>\n",
       "    </tr>\n",
       "  </tbody>\n",
       "</table>\n",
       "</div>"
      ],
      "text/plain": [
       "   user_id         page\n",
       "0    15866  search_page\n",
       "1   347058  search_page\n",
       "2   577020  search_page\n",
       "3   780347  search_page\n",
       "4   383739  search_page"
      ]
     },
     "execution_count": 215,
     "metadata": {},
     "output_type": "execute_result"
    }
   ],
   "source": [
    "#Looking at the 3rd table - second stage of the funnel\n",
    "search_page.head() #Need to do the same with get_dummies"
   ]
  },
  {
   "cell_type": "code",
   "execution_count": 216,
   "metadata": {
    "collapsed": false
   },
   "outputs": [
    {
     "data": {
      "text/html": [
       "<div>\n",
       "<table border=\"1\" class=\"dataframe\">\n",
       "  <thead>\n",
       "    <tr style=\"text-align: right;\">\n",
       "      <th></th>\n",
       "      <th>user_id</th>\n",
       "      <th>search_page</th>\n",
       "    </tr>\n",
       "  </thead>\n",
       "  <tbody>\n",
       "    <tr>\n",
       "      <th>0</th>\n",
       "      <td>15866</td>\n",
       "      <td>1.0</td>\n",
       "    </tr>\n",
       "    <tr>\n",
       "      <th>1</th>\n",
       "      <td>347058</td>\n",
       "      <td>1.0</td>\n",
       "    </tr>\n",
       "    <tr>\n",
       "      <th>2</th>\n",
       "      <td>577020</td>\n",
       "      <td>1.0</td>\n",
       "    </tr>\n",
       "    <tr>\n",
       "      <th>3</th>\n",
       "      <td>780347</td>\n",
       "      <td>1.0</td>\n",
       "    </tr>\n",
       "    <tr>\n",
       "      <th>4</th>\n",
       "      <td>383739</td>\n",
       "      <td>1.0</td>\n",
       "    </tr>\n",
       "  </tbody>\n",
       "</table>\n",
       "</div>"
      ],
      "text/plain": [
       "   user_id  search_page\n",
       "0    15866          1.0\n",
       "1   347058          1.0\n",
       "2   577020          1.0\n",
       "3   780347          1.0\n",
       "4   383739          1.0"
      ]
     },
     "execution_count": 216,
     "metadata": {},
     "output_type": "execute_result"
    }
   ],
   "source": [
    "searchpage = pd.get_dummies(search_page.page)\n",
    "search_page = search_page.join(searchpage)\n",
    "search_page.drop('page', axis=1, inplace=True)\n",
    "search_page.head()"
   ]
  },
  {
   "cell_type": "code",
   "execution_count": 217,
   "metadata": {
    "collapsed": false
   },
   "outputs": [
    {
     "data": {
      "text/plain": [
       "search_page\n",
       "1.0    45200\n",
       "dtype: int64"
      ]
     },
     "execution_count": 217,
     "metadata": {},
     "output_type": "execute_result"
    }
   ],
   "source": [
    "search_page.groupby([\"search_page\"]).size() "
   ]
  },
  {
   "cell_type": "code",
   "execution_count": 218,
   "metadata": {
    "collapsed": false
   },
   "outputs": [
    {
     "name": "stdout",
     "output_type": "stream",
     "text": [
      "<class 'pandas.core.frame.DataFrame'>\n",
      "RangeIndex: 45200 entries, 0 to 45199\n",
      "Data columns (total 2 columns):\n",
      "user_id        45200 non-null int64\n",
      "search_page    45200 non-null float64\n",
      "dtypes: float64(1), int64(1)\n",
      "memory usage: 706.3 KB\n"
     ]
    }
   ],
   "source": [
    "search_page.info() \n",
    "#there were 90,400 in the first table and only 45,200 here. The missing 45,000 didn't visit the search page"
   ]
  },
  {
   "cell_type": "code",
   "execution_count": 219,
   "metadata": {
    "collapsed": false
   },
   "outputs": [
    {
     "data": {
      "text/plain": [
       "user_id        0\n",
       "search_page    0\n",
       "dtype: int64"
      ]
     },
     "execution_count": 219,
     "metadata": {},
     "output_type": "execute_result"
    }
   ],
   "source": [
    "search_page.isnull().sum()"
   ]
  },
  {
   "cell_type": "code",
   "execution_count": 220,
   "metadata": {
    "collapsed": false
   },
   "outputs": [
    {
     "data": {
      "text/html": [
       "<div>\n",
       "<table border=\"1\" class=\"dataframe\">\n",
       "  <thead>\n",
       "    <tr style=\"text-align: right;\">\n",
       "      <th></th>\n",
       "      <th>user_id</th>\n",
       "      <th>page</th>\n",
       "    </tr>\n",
       "  </thead>\n",
       "  <tbody>\n",
       "    <tr>\n",
       "      <th>0</th>\n",
       "      <td>253019</td>\n",
       "      <td>payment_page</td>\n",
       "    </tr>\n",
       "    <tr>\n",
       "      <th>1</th>\n",
       "      <td>310478</td>\n",
       "      <td>payment_page</td>\n",
       "    </tr>\n",
       "    <tr>\n",
       "      <th>2</th>\n",
       "      <td>304081</td>\n",
       "      <td>payment_page</td>\n",
       "    </tr>\n",
       "    <tr>\n",
       "      <th>3</th>\n",
       "      <td>901286</td>\n",
       "      <td>payment_page</td>\n",
       "    </tr>\n",
       "    <tr>\n",
       "      <th>4</th>\n",
       "      <td>195052</td>\n",
       "      <td>payment_page</td>\n",
       "    </tr>\n",
       "  </tbody>\n",
       "</table>\n",
       "</div>"
      ],
      "text/plain": [
       "   user_id          page\n",
       "0   253019  payment_page\n",
       "1   310478  payment_page\n",
       "2   304081  payment_page\n",
       "3   901286  payment_page\n",
       "4   195052  payment_page"
      ]
     },
     "execution_count": 220,
     "metadata": {},
     "output_type": "execute_result"
    }
   ],
   "source": [
    "#4th table\n",
    "payment_page.head() #Need to transform the column into categorical variables"
   ]
  },
  {
   "cell_type": "code",
   "execution_count": 221,
   "metadata": {
    "collapsed": false
   },
   "outputs": [
    {
     "name": "stdout",
     "output_type": "stream",
     "text": [
      "<class 'pandas.core.frame.DataFrame'>\n",
      "RangeIndex: 6030 entries, 0 to 6029\n",
      "Data columns (total 2 columns):\n",
      "user_id    6030 non-null int64\n",
      "page       6030 non-null object\n",
      "dtypes: int64(1), object(1)\n",
      "memory usage: 94.3+ KB\n"
     ]
    }
   ],
   "source": [
    "payment_page.info() #very few people are getting to the payment page"
   ]
  },
  {
   "cell_type": "code",
   "execution_count": 222,
   "metadata": {
    "collapsed": false
   },
   "outputs": [
    {
     "data": {
      "text/plain": [
       "user_id    0\n",
       "page       0\n",
       "dtype: int64"
      ]
     },
     "execution_count": 222,
     "metadata": {},
     "output_type": "execute_result"
    }
   ],
   "source": [
    "payment_page.isnull().sum() #no null values"
   ]
  },
  {
   "cell_type": "code",
   "execution_count": 223,
   "metadata": {
    "collapsed": false
   },
   "outputs": [
    {
     "data": {
      "text/html": [
       "<div>\n",
       "<table border=\"1\" class=\"dataframe\">\n",
       "  <thead>\n",
       "    <tr style=\"text-align: right;\">\n",
       "      <th></th>\n",
       "      <th>user_id</th>\n",
       "      <th>page</th>\n",
       "      <th>payment_page</th>\n",
       "    </tr>\n",
       "  </thead>\n",
       "  <tbody>\n",
       "    <tr>\n",
       "      <th>0</th>\n",
       "      <td>253019</td>\n",
       "      <td>payment_page</td>\n",
       "      <td>1.0</td>\n",
       "    </tr>\n",
       "    <tr>\n",
       "      <th>1</th>\n",
       "      <td>310478</td>\n",
       "      <td>payment_page</td>\n",
       "      <td>1.0</td>\n",
       "    </tr>\n",
       "    <tr>\n",
       "      <th>2</th>\n",
       "      <td>304081</td>\n",
       "      <td>payment_page</td>\n",
       "      <td>1.0</td>\n",
       "    </tr>\n",
       "    <tr>\n",
       "      <th>3</th>\n",
       "      <td>901286</td>\n",
       "      <td>payment_page</td>\n",
       "      <td>1.0</td>\n",
       "    </tr>\n",
       "    <tr>\n",
       "      <th>4</th>\n",
       "      <td>195052</td>\n",
       "      <td>payment_page</td>\n",
       "      <td>1.0</td>\n",
       "    </tr>\n",
       "  </tbody>\n",
       "</table>\n",
       "</div>"
      ],
      "text/plain": [
       "   user_id          page  payment_page\n",
       "0   253019  payment_page           1.0\n",
       "1   310478  payment_page           1.0\n",
       "2   304081  payment_page           1.0\n",
       "3   901286  payment_page           1.0\n",
       "4   195052  payment_page           1.0"
      ]
     },
     "execution_count": 223,
     "metadata": {},
     "output_type": "execute_result"
    }
   ],
   "source": [
    "paymentpage = pd.get_dummies(payment_page.page)\n",
    "payment_page = payment_page.join(paymentpage)\n",
    "payment_page.head()"
   ]
  },
  {
   "cell_type": "code",
   "execution_count": 224,
   "metadata": {
    "collapsed": false
   },
   "outputs": [
    {
     "data": {
      "text/html": [
       "<div>\n",
       "<table border=\"1\" class=\"dataframe\">\n",
       "  <thead>\n",
       "    <tr style=\"text-align: right;\">\n",
       "      <th></th>\n",
       "      <th>user_id</th>\n",
       "      <th>payment_page</th>\n",
       "    </tr>\n",
       "  </thead>\n",
       "  <tbody>\n",
       "    <tr>\n",
       "      <th>0</th>\n",
       "      <td>253019</td>\n",
       "      <td>1.0</td>\n",
       "    </tr>\n",
       "    <tr>\n",
       "      <th>1</th>\n",
       "      <td>310478</td>\n",
       "      <td>1.0</td>\n",
       "    </tr>\n",
       "    <tr>\n",
       "      <th>2</th>\n",
       "      <td>304081</td>\n",
       "      <td>1.0</td>\n",
       "    </tr>\n",
       "    <tr>\n",
       "      <th>3</th>\n",
       "      <td>901286</td>\n",
       "      <td>1.0</td>\n",
       "    </tr>\n",
       "    <tr>\n",
       "      <th>4</th>\n",
       "      <td>195052</td>\n",
       "      <td>1.0</td>\n",
       "    </tr>\n",
       "  </tbody>\n",
       "</table>\n",
       "</div>"
      ],
      "text/plain": [
       "   user_id  payment_page\n",
       "0   253019           1.0\n",
       "1   310478           1.0\n",
       "2   304081           1.0\n",
       "3   901286           1.0\n",
       "4   195052           1.0"
      ]
     },
     "execution_count": 224,
     "metadata": {},
     "output_type": "execute_result"
    }
   ],
   "source": [
    "payment_page.drop('page', axis=1, inplace=True)\n",
    "payment_page.head()"
   ]
  },
  {
   "cell_type": "code",
   "execution_count": 225,
   "metadata": {
    "collapsed": false
   },
   "outputs": [
    {
     "data": {
      "text/html": [
       "<div>\n",
       "<table border=\"1\" class=\"dataframe\">\n",
       "  <thead>\n",
       "    <tr style=\"text-align: right;\">\n",
       "      <th></th>\n",
       "      <th>user_id</th>\n",
       "      <th>page</th>\n",
       "    </tr>\n",
       "  </thead>\n",
       "  <tbody>\n",
       "    <tr>\n",
       "      <th>0</th>\n",
       "      <td>123100</td>\n",
       "      <td>payment_confirmation_page</td>\n",
       "    </tr>\n",
       "    <tr>\n",
       "      <th>1</th>\n",
       "      <td>704999</td>\n",
       "      <td>payment_confirmation_page</td>\n",
       "    </tr>\n",
       "    <tr>\n",
       "      <th>2</th>\n",
       "      <td>407188</td>\n",
       "      <td>payment_confirmation_page</td>\n",
       "    </tr>\n",
       "    <tr>\n",
       "      <th>3</th>\n",
       "      <td>538348</td>\n",
       "      <td>payment_confirmation_page</td>\n",
       "    </tr>\n",
       "    <tr>\n",
       "      <th>4</th>\n",
       "      <td>841681</td>\n",
       "      <td>payment_confirmation_page</td>\n",
       "    </tr>\n",
       "  </tbody>\n",
       "</table>\n",
       "</div>"
      ],
      "text/plain": [
       "   user_id                       page\n",
       "0   123100  payment_confirmation_page\n",
       "1   704999  payment_confirmation_page\n",
       "2   407188  payment_confirmation_page\n",
       "3   538348  payment_confirmation_page\n",
       "4   841681  payment_confirmation_page"
      ]
     },
     "execution_count": 225,
     "metadata": {},
     "output_type": "execute_result"
    }
   ],
   "source": [
    "#5th table - need to replace this with categorical variables. I'm going through each table individually to explore \n",
    "#missing values and unique aspects of each table, rather than changing all variables to get dummies in a for loop\n",
    "payment_confirm.head()"
   ]
  },
  {
   "cell_type": "code",
   "execution_count": 226,
   "metadata": {
    "collapsed": false
   },
   "outputs": [
    {
     "data": {
      "text/html": [
       "<div>\n",
       "<table border=\"1\" class=\"dataframe\">\n",
       "  <thead>\n",
       "    <tr style=\"text-align: right;\">\n",
       "      <th></th>\n",
       "      <th>user_id</th>\n",
       "      <th>page</th>\n",
       "    </tr>\n",
       "  </thead>\n",
       "  <tbody>\n",
       "    <tr>\n",
       "      <th>0</th>\n",
       "      <td>123100</td>\n",
       "      <td>payment_confirmation_page</td>\n",
       "    </tr>\n",
       "    <tr>\n",
       "      <th>1</th>\n",
       "      <td>704999</td>\n",
       "      <td>payment_confirmation_page</td>\n",
       "    </tr>\n",
       "    <tr>\n",
       "      <th>2</th>\n",
       "      <td>407188</td>\n",
       "      <td>payment_confirmation_page</td>\n",
       "    </tr>\n",
       "    <tr>\n",
       "      <th>3</th>\n",
       "      <td>538348</td>\n",
       "      <td>payment_confirmation_page</td>\n",
       "    </tr>\n",
       "    <tr>\n",
       "      <th>4</th>\n",
       "      <td>841681</td>\n",
       "      <td>payment_confirmation_page</td>\n",
       "    </tr>\n",
       "  </tbody>\n",
       "</table>\n",
       "</div>"
      ],
      "text/plain": [
       "   user_id                       page\n",
       "0   123100  payment_confirmation_page\n",
       "1   704999  payment_confirmation_page\n",
       "2   407188  payment_confirmation_page\n",
       "3   538348  payment_confirmation_page\n",
       "4   841681  payment_confirmation_page"
      ]
     },
     "execution_count": 226,
     "metadata": {},
     "output_type": "execute_result"
    }
   ],
   "source": [
    "payment_confirm.head()"
   ]
  },
  {
   "cell_type": "code",
   "execution_count": 227,
   "metadata": {
    "collapsed": false
   },
   "outputs": [
    {
     "data": {
      "text/html": [
       "<div>\n",
       "<table border=\"1\" class=\"dataframe\">\n",
       "  <thead>\n",
       "    <tr style=\"text-align: right;\">\n",
       "      <th></th>\n",
       "      <th>user_id</th>\n",
       "      <th>payment_confirmation_page</th>\n",
       "    </tr>\n",
       "  </thead>\n",
       "  <tbody>\n",
       "    <tr>\n",
       "      <th>0</th>\n",
       "      <td>123100</td>\n",
       "      <td>1.0</td>\n",
       "    </tr>\n",
       "    <tr>\n",
       "      <th>1</th>\n",
       "      <td>704999</td>\n",
       "      <td>1.0</td>\n",
       "    </tr>\n",
       "    <tr>\n",
       "      <th>2</th>\n",
       "      <td>407188</td>\n",
       "      <td>1.0</td>\n",
       "    </tr>\n",
       "    <tr>\n",
       "      <th>3</th>\n",
       "      <td>538348</td>\n",
       "      <td>1.0</td>\n",
       "    </tr>\n",
       "    <tr>\n",
       "      <th>4</th>\n",
       "      <td>841681</td>\n",
       "      <td>1.0</td>\n",
       "    </tr>\n",
       "  </tbody>\n",
       "</table>\n",
       "</div>"
      ],
      "text/plain": [
       "   user_id  payment_confirmation_page\n",
       "0   123100                        1.0\n",
       "1   704999                        1.0\n",
       "2   407188                        1.0\n",
       "3   538348                        1.0\n",
       "4   841681                        1.0"
      ]
     },
     "execution_count": 227,
     "metadata": {},
     "output_type": "execute_result"
    }
   ],
   "source": [
    "confirmpage = pd.get_dummies(payment_confirm.page)\n",
    "payment_confirm = payment_confirm.join(confirmpage)\n",
    "payment_confirm.drop(['page'], axis=1, inplace=True)\n",
    "payment_confirm.head()"
   ]
  },
  {
   "cell_type": "code",
   "execution_count": 228,
   "metadata": {
    "collapsed": false
   },
   "outputs": [
    {
     "data": {
      "text/plain": [
       "payment_confirmation_page\n",
       "1.0    452\n",
       "dtype: int64"
      ]
     },
     "execution_count": 228,
     "metadata": {},
     "output_type": "execute_result"
    }
   ],
   "source": [
    "payment_confirm.groupby([\"payment_confirmation_page\"]).size() #only 452 people made purchases!"
   ]
  },
  {
   "cell_type": "markdown",
   "metadata": {},
   "source": [
    "## 2) Merging all datasets into one\n"
   ]
  },
  {
   "cell_type": "code",
   "execution_count": 229,
   "metadata": {
    "collapsed": true
   },
   "outputs": [],
   "source": [
    "## Now I will merge all data sets on unique ID - I will do this one by one to make sure we're not losing info"
   ]
  },
  {
   "cell_type": "code",
   "execution_count": 230,
   "metadata": {
    "collapsed": false
   },
   "outputs": [
    {
     "name": "stdout",
     "output_type": "stream",
     "text": [
      "<class 'pandas.core.frame.DataFrame'>\n",
      "Int64Index: 90400 entries, 0 to 90399\n",
      "Data columns (total 7 columns):\n",
      "user_id      90400 non-null int64\n",
      "date         90400 non-null object\n",
      "Desktop      90400 non-null float64\n",
      "Mobile       90400 non-null float64\n",
      "Female       90400 non-null float64\n",
      "Male         90400 non-null float64\n",
      "home_page    90400 non-null float64\n",
      "dtypes: float64(5), int64(1), object(1)\n",
      "memory usage: 5.5+ MB\n"
     ]
    }
   ],
   "source": [
    "alldata  = pd.merge(users,home_page, on=['user_id'], how='outer')\n",
    "alldata.info()"
   ]
  },
  {
   "cell_type": "code",
   "execution_count": 231,
   "metadata": {
    "collapsed": false
   },
   "outputs": [
    {
     "name": "stdout",
     "output_type": "stream",
     "text": [
      "<class 'pandas.core.frame.DataFrame'>\n",
      "Int64Index: 90400 entries, 0 to 90399\n",
      "Data columns (total 8 columns):\n",
      "user_id        90400 non-null int64\n",
      "date           90400 non-null object\n",
      "Desktop        90400 non-null float64\n",
      "Mobile         90400 non-null float64\n",
      "Female         90400 non-null float64\n",
      "Male           90400 non-null float64\n",
      "home_page      90400 non-null float64\n",
      "search_page    45200 non-null float64\n",
      "dtypes: float64(6), int64(1), object(1)\n",
      "memory usage: 6.2+ MB\n"
     ]
    }
   ],
   "source": [
    "alldata  = pd.merge(alldata,search_page, on=['user_id'], how='outer')\n",
    "alldata.info()"
   ]
  },
  {
   "cell_type": "code",
   "execution_count": 232,
   "metadata": {
    "collapsed": false
   },
   "outputs": [
    {
     "name": "stdout",
     "output_type": "stream",
     "text": [
      "<class 'pandas.core.frame.DataFrame'>\n",
      "Int64Index: 90400 entries, 0 to 90399\n",
      "Data columns (total 9 columns):\n",
      "user_id         90400 non-null int64\n",
      "date            90400 non-null object\n",
      "Desktop         90400 non-null float64\n",
      "Mobile          90400 non-null float64\n",
      "Female          90400 non-null float64\n",
      "Male            90400 non-null float64\n",
      "home_page       90400 non-null float64\n",
      "search_page     45200 non-null float64\n",
      "payment_page    6030 non-null float64\n",
      "dtypes: float64(7), int64(1), object(1)\n",
      "memory usage: 6.9+ MB\n"
     ]
    }
   ],
   "source": [
    "alldata  = pd.merge(alldata,payment_page, on=['user_id'], how='outer')\n",
    "alldata.info()"
   ]
  },
  {
   "cell_type": "code",
   "execution_count": 233,
   "metadata": {
    "collapsed": false
   },
   "outputs": [
    {
     "name": "stdout",
     "output_type": "stream",
     "text": [
      "<class 'pandas.core.frame.DataFrame'>\n",
      "Int64Index: 90400 entries, 0 to 90399\n",
      "Data columns (total 10 columns):\n",
      "user_id                      90400 non-null int64\n",
      "date                         90400 non-null object\n",
      "Desktop                      90400 non-null float64\n",
      "Mobile                       90400 non-null float64\n",
      "Female                       90400 non-null float64\n",
      "Male                         90400 non-null float64\n",
      "home_page                    90400 non-null float64\n",
      "search_page                  45200 non-null float64\n",
      "payment_page                 6030 non-null float64\n",
      "payment_confirmation_page    452 non-null float64\n",
      "dtypes: float64(8), int64(1), object(1)\n",
      "memory usage: 7.6+ MB\n"
     ]
    }
   ],
   "source": [
    "alldata  = pd.merge(alldata,payment_confirm, on=['user_id'], how='outer')\n",
    "alldata.info()"
   ]
  },
  {
   "cell_type": "markdown",
   "metadata": {},
   "source": [
    "## 3) Exploring data trends by sex - plotting number of users by sex in the various stages of the funnel"
   ]
  },
  {
   "cell_type": "code",
   "execution_count": 548,
   "metadata": {
    "collapsed": true
   },
   "outputs": [],
   "source": [
    "pages = ['home_page','search_page','payment_page','payment_confirmation_page']"
   ]
  },
  {
   "cell_type": "code",
   "execution_count": 549,
   "metadata": {
    "collapsed": false
   },
   "outputs": [
    {
     "data": {
      "text/html": [
       "<div>\n",
       "<table border=\"1\" class=\"dataframe\">\n",
       "  <thead>\n",
       "    <tr style=\"text-align: right;\">\n",
       "      <th></th>\n",
       "      <th></th>\n",
       "      <th>user_id</th>\n",
       "      <th>date</th>\n",
       "      <th>Desktop</th>\n",
       "      <th>Mobile</th>\n",
       "      <th>home_page</th>\n",
       "      <th>search_page</th>\n",
       "      <th>payment_page</th>\n",
       "      <th>payment_confirmation_page</th>\n",
       "      <th>year</th>\n",
       "      <th>month</th>\n",
       "      <th>day</th>\n",
       "      <th>weekday</th>\n",
       "    </tr>\n",
       "    <tr>\n",
       "      <th>Male</th>\n",
       "      <th>Female</th>\n",
       "      <th></th>\n",
       "      <th></th>\n",
       "      <th></th>\n",
       "      <th></th>\n",
       "      <th></th>\n",
       "      <th></th>\n",
       "      <th></th>\n",
       "      <th></th>\n",
       "      <th></th>\n",
       "      <th></th>\n",
       "      <th></th>\n",
       "      <th></th>\n",
       "    </tr>\n",
       "  </thead>\n",
       "  <tbody>\n",
       "    <tr>\n",
       "      <th>0.0</th>\n",
       "      <th>1.0</th>\n",
       "      <td>45075</td>\n",
       "      <td>45075</td>\n",
       "      <td>45075</td>\n",
       "      <td>45075</td>\n",
       "      <td>45075</td>\n",
       "      <td>22676</td>\n",
       "      <td>3100</td>\n",
       "      <td>241</td>\n",
       "      <td>45075</td>\n",
       "      <td>45075</td>\n",
       "      <td>45075</td>\n",
       "      <td>45075</td>\n",
       "    </tr>\n",
       "    <tr>\n",
       "      <th>1.0</th>\n",
       "      <th>0.0</th>\n",
       "      <td>45325</td>\n",
       "      <td>45325</td>\n",
       "      <td>45325</td>\n",
       "      <td>45325</td>\n",
       "      <td>45325</td>\n",
       "      <td>22524</td>\n",
       "      <td>2930</td>\n",
       "      <td>211</td>\n",
       "      <td>45325</td>\n",
       "      <td>45325</td>\n",
       "      <td>45325</td>\n",
       "      <td>45325</td>\n",
       "    </tr>\n",
       "  </tbody>\n",
       "</table>\n",
       "</div>"
      ],
      "text/plain": [
       "             user_id   date  Desktop  Mobile  home_page  search_page  \\\n",
       "Male Female                                                            \n",
       "0.0  1.0       45075  45075    45075   45075      45075        22676   \n",
       "1.0  0.0       45325  45325    45325   45325      45325        22524   \n",
       "\n",
       "             payment_page  payment_confirmation_page   year  month    day  \\\n",
       "Male Female                                                                 \n",
       "0.0  1.0             3100                        241  45075  45075  45075   \n",
       "1.0  0.0             2930                        211  45325  45325  45325   \n",
       "\n",
       "             weekday  \n",
       "Male Female           \n",
       "0.0  1.0       45075  \n",
       "1.0  0.0       45325  "
      ]
     },
     "execution_count": 549,
     "metadata": {},
     "output_type": "execute_result"
    }
   ],
   "source": [
    "bysex = alldata.groupby(['Male','Female']).count()\n",
    "bysex"
   ]
  },
  {
   "cell_type": "code",
   "execution_count": 550,
   "metadata": {
    "collapsed": false
   },
   "outputs": [],
   "source": [
    "bysex.reset_index(inplace=True) #Need to reset the index so I can use Male and Female to group data"
   ]
  },
  {
   "cell_type": "code",
   "execution_count": 551,
   "metadata": {
    "collapsed": false
   },
   "outputs": [
    {
     "data": {
      "text/html": [
       "<div>\n",
       "<table border=\"1\" class=\"dataframe\">\n",
       "  <thead>\n",
       "    <tr style=\"text-align: right;\">\n",
       "      <th></th>\n",
       "      <th>Male</th>\n",
       "    </tr>\n",
       "  </thead>\n",
       "  <tbody>\n",
       "    <tr>\n",
       "      <th>home_page</th>\n",
       "      <td>45325</td>\n",
       "    </tr>\n",
       "    <tr>\n",
       "      <th>search_page</th>\n",
       "      <td>22524</td>\n",
       "    </tr>\n",
       "    <tr>\n",
       "      <th>payment_page</th>\n",
       "      <td>2930</td>\n",
       "    </tr>\n",
       "    <tr>\n",
       "      <th>payment_confirmation_page</th>\n",
       "      <td>211</td>\n",
       "    </tr>\n",
       "  </tbody>\n",
       "</table>\n",
       "</div>"
      ],
      "text/plain": [
       "                            Male\n",
       "home_page                  45325\n",
       "search_page                22524\n",
       "payment_page                2930\n",
       "payment_confirmation_page    211"
      ]
     },
     "execution_count": 551,
     "metadata": {},
     "output_type": "execute_result"
    }
   ],
   "source": [
    "male = bysex[bysex['Male'] == 1] #Creating a dataframe of # males users per stage of the funnel\n",
    "male = male[pages]\n",
    "male = male.transpose()\n",
    "male.rename(columns={1: \"Male\"}, inplace=True)\n",
    "male.head()"
   ]
  },
  {
   "cell_type": "code",
   "execution_count": 552,
   "metadata": {
    "collapsed": false
   },
   "outputs": [
    {
     "data": {
      "text/html": [
       "<div>\n",
       "<table border=\"1\" class=\"dataframe\">\n",
       "  <thead>\n",
       "    <tr style=\"text-align: right;\">\n",
       "      <th></th>\n",
       "      <th>Female</th>\n",
       "    </tr>\n",
       "  </thead>\n",
       "  <tbody>\n",
       "    <tr>\n",
       "      <th>home_page</th>\n",
       "      <td>45075</td>\n",
       "    </tr>\n",
       "    <tr>\n",
       "      <th>search_page</th>\n",
       "      <td>22676</td>\n",
       "    </tr>\n",
       "    <tr>\n",
       "      <th>payment_page</th>\n",
       "      <td>3100</td>\n",
       "    </tr>\n",
       "    <tr>\n",
       "      <th>payment_confirmation_page</th>\n",
       "      <td>241</td>\n",
       "    </tr>\n",
       "  </tbody>\n",
       "</table>\n",
       "</div>"
      ],
      "text/plain": [
       "                           Female\n",
       "home_page                   45075\n",
       "search_page                 22676\n",
       "payment_page                 3100\n",
       "payment_confirmation_page     241"
      ]
     },
     "execution_count": 552,
     "metadata": {},
     "output_type": "execute_result"
    }
   ],
   "source": [
    "female = bysex[bysex['Female'] == 1] #Creating a dataframe of # female users per stage of the funnel\n",
    "female = female[pages]\n",
    "female = female.transpose()\n",
    "female.rename(columns={0: \"Female\"}, inplace=True)\n",
    "female.head()"
   ]
  },
  {
   "cell_type": "code",
   "execution_count": 553,
   "metadata": {
    "collapsed": false
   },
   "outputs": [
    {
     "data": {
      "text/html": [
       "<div>\n",
       "<table border=\"1\" class=\"dataframe\">\n",
       "  <thead>\n",
       "    <tr style=\"text-align: right;\">\n",
       "      <th></th>\n",
       "      <th>Page</th>\n",
       "      <th>Female</th>\n",
       "      <th>Male</th>\n",
       "    </tr>\n",
       "  </thead>\n",
       "  <tbody>\n",
       "    <tr>\n",
       "      <th>0</th>\n",
       "      <td>home_page</td>\n",
       "      <td>45075</td>\n",
       "      <td>45325</td>\n",
       "    </tr>\n",
       "    <tr>\n",
       "      <th>1</th>\n",
       "      <td>search_page</td>\n",
       "      <td>22676</td>\n",
       "      <td>22524</td>\n",
       "    </tr>\n",
       "    <tr>\n",
       "      <th>2</th>\n",
       "      <td>payment_page</td>\n",
       "      <td>3100</td>\n",
       "      <td>2930</td>\n",
       "    </tr>\n",
       "    <tr>\n",
       "      <th>3</th>\n",
       "      <td>payment_confirmation_page</td>\n",
       "      <td>241</td>\n",
       "      <td>211</td>\n",
       "    </tr>\n",
       "  </tbody>\n",
       "</table>\n",
       "</div>"
      ],
      "text/plain": [
       "                        Page  Female   Male\n",
       "0                  home_page   45075  45325\n",
       "1                search_page   22676  22524\n",
       "2               payment_page    3100   2930\n",
       "3  payment_confirmation_page     241    211"
      ]
     },
     "execution_count": 553,
     "metadata": {},
     "output_type": "execute_result"
    }
   ],
   "source": [
    "female['Male'] = male['Male'] #Merging male and female data to create one dataframe for easier plotting\n",
    "pages_sex = female\n",
    "pages_sex.reset_index(inplace=True) #Resetting index so that the stages of the funnel are part of a column -\n",
    "# This is for efficiency during plotting\n",
    "pages_sex.rename(columns={'index': \"Page\"}, inplace=True)\n",
    "pages_sex.head()"
   ]
  },
  {
   "cell_type": "code",
   "execution_count": 554,
   "metadata": {
    "collapsed": false
   },
   "outputs": [],
   "source": [
    "import seaborn as sns\n",
    "sns.set_style('dark')"
   ]
  },
  {
   "cell_type": "code",
   "execution_count": 555,
   "metadata": {
    "collapsed": false
   },
   "outputs": [
    {
     "data": {
      "image/png": "[encoded data removed]",
      "text/plain": [
       "<matplotlib.figure.Figure at 0x1b36c0690>"
      ]
     },
     "metadata": {},
     "output_type": "display_data"
    }
   ],
   "source": [
    "f, ax1 = plt.subplots(1, figsize=(15,10))\n",
    "\n",
    "# Set the bar width\n",
    "bar_width = 0.75\n",
    "\n",
    "# positions of the left bar-boundaries\n",
    "bar_l = [i+1 for i in range(len(pages_sex['Female']))] \n",
    "\n",
    "# positions of the x-axis ticks (center of the bars as bar labels)\n",
    "tick_pos = [i+(bar_width/2) for i in bar_l] \n",
    "\n",
    "# Create a bar plot, in position bar_1\n",
    "ax1.bar(bar_l, \n",
    "        # using the Female data\n",
    "        pages_sex['Female'], \n",
    "        # set the width\n",
    "        width=bar_width,\n",
    "        # with the label 'Female'\n",
    "        label='Female', \n",
    "        # with alpha 0.5\n",
    "        alpha=0.5, \n",
    "        # with color\n",
    "        color='plum')\n",
    "\n",
    "# Create a bar plot, in position bar_1\n",
    "ax1.bar(bar_l, \n",
    "        # using the mid_score data\n",
    "        pages_sex['Male'], \n",
    "        # set the width\n",
    "        width=bar_width,\n",
    "        # with Female on the bottom\n",
    "        bottom=pages_sex['Female'], \n",
    "        # with the label 'Male'\n",
    "        label='Male', \n",
    "        # with alpha 0.5\n",
    "        alpha=0.5, \n",
    "        # with color\n",
    "        color='steelblue')\n",
    "\n",
    "plt.xticks(tick_pos, pages_sex['Page'], size=12)\n",
    "plt.yticks(size=12)\n",
    "plt.ylabel(\"Number of users at each stage of funnel\", size=16)\n",
    "plt.title(\"Number of users at each stage-by sex\", size=18)\n",
    "plt.legend(loc='upper right', prop={'size':16})\n",
    "fig.tight_layout()\n",
    "plt.show()\n"
   ]
  },
  {
   "cell_type": "markdown",
   "metadata": {},
   "source": [
    "## 4) Exploring data trends by device type - plotting number of users by device type in the various stages of the funnel"
   ]
  },
  {
   "cell_type": "code",
   "execution_count": 342,
   "metadata": {
    "collapsed": false
   },
   "outputs": [
    {
     "data": {
      "text/html": [
       "<div>\n",
       "<table border=\"1\" class=\"dataframe\">\n",
       "  <thead>\n",
       "    <tr style=\"text-align: right;\">\n",
       "      <th></th>\n",
       "      <th></th>\n",
       "      <th>user_id</th>\n",
       "      <th>date</th>\n",
       "      <th>Female</th>\n",
       "      <th>Male</th>\n",
       "      <th>home_page</th>\n",
       "      <th>search_page</th>\n",
       "      <th>payment_page</th>\n",
       "      <th>payment_confirmation_page</th>\n",
       "    </tr>\n",
       "    <tr>\n",
       "      <th>Desktop</th>\n",
       "      <th>Mobile</th>\n",
       "      <th></th>\n",
       "      <th></th>\n",
       "      <th></th>\n",
       "      <th></th>\n",
       "      <th></th>\n",
       "      <th></th>\n",
       "      <th></th>\n",
       "      <th></th>\n",
       "    </tr>\n",
       "  </thead>\n",
       "  <tbody>\n",
       "    <tr>\n",
       "      <th>0.0</th>\n",
       "      <th>1.0</th>\n",
       "      <td>30200</td>\n",
       "      <td>30200</td>\n",
       "      <td>30200</td>\n",
       "      <td>30200</td>\n",
       "      <td>30200</td>\n",
       "      <td>15100</td>\n",
       "      <td>3020</td>\n",
       "      <td>302</td>\n",
       "    </tr>\n",
       "    <tr>\n",
       "      <th>1.0</th>\n",
       "      <th>0.0</th>\n",
       "      <td>60200</td>\n",
       "      <td>60200</td>\n",
       "      <td>60200</td>\n",
       "      <td>60200</td>\n",
       "      <td>60200</td>\n",
       "      <td>30100</td>\n",
       "      <td>3010</td>\n",
       "      <td>150</td>\n",
       "    </tr>\n",
       "  </tbody>\n",
       "</table>\n",
       "</div>"
      ],
      "text/plain": [
       "                user_id   date  Female   Male  home_page  search_page  \\\n",
       "Desktop Mobile                                                          \n",
       "0.0     1.0       30200  30200   30200  30200      30200        15100   \n",
       "1.0     0.0       60200  60200   60200  60200      60200        30100   \n",
       "\n",
       "                payment_page  payment_confirmation_page  \n",
       "Desktop Mobile                                           \n",
       "0.0     1.0             3020                        302  \n",
       "1.0     0.0             3010                        150  "
      ]
     },
     "execution_count": 342,
     "metadata": {},
     "output_type": "execute_result"
    }
   ],
   "source": [
    "bydevice = alldata.groupby(['Desktop','Mobile']).count()\n",
    "bydevice"
   ]
  },
  {
   "cell_type": "code",
   "execution_count": 343,
   "metadata": {
    "collapsed": true
   },
   "outputs": [],
   "source": [
    "bydevice.reset_index(inplace=True) #Resetting index so I can use device type for groupby"
   ]
  },
  {
   "cell_type": "code",
   "execution_count": 345,
   "metadata": {
    "collapsed": false
   },
   "outputs": [
    {
     "data": {
      "text/html": [
       "<div>\n",
       "<table border=\"1\" class=\"dataframe\">\n",
       "  <thead>\n",
       "    <tr style=\"text-align: right;\">\n",
       "      <th></th>\n",
       "      <th>Desktop</th>\n",
       "    </tr>\n",
       "  </thead>\n",
       "  <tbody>\n",
       "    <tr>\n",
       "      <th>home_page</th>\n",
       "      <td>60200</td>\n",
       "    </tr>\n",
       "    <tr>\n",
       "      <th>search_page</th>\n",
       "      <td>30100</td>\n",
       "    </tr>\n",
       "    <tr>\n",
       "      <th>payment_page</th>\n",
       "      <td>3010</td>\n",
       "    </tr>\n",
       "    <tr>\n",
       "      <th>payment_confirmation_page</th>\n",
       "      <td>150</td>\n",
       "    </tr>\n",
       "  </tbody>\n",
       "</table>\n",
       "</div>"
      ],
      "text/plain": [
       "                           Desktop\n",
       "home_page                    60200\n",
       "search_page                  30100\n",
       "payment_page                  3010\n",
       "payment_confirmation_page      150"
      ]
     },
     "execution_count": 345,
     "metadata": {},
     "output_type": "execute_result"
    }
   ],
   "source": [
    "desk = bydevice[bydevice['Desktop'] == 1]\n",
    "desk = desk[pages]\n",
    "desk = desk.transpose()\n",
    "desk.rename(columns={1: \"Desktop\"}, inplace=True)\n",
    "desk.head() #grouping all of the desktop data together"
   ]
  },
  {
   "cell_type": "code",
   "execution_count": 352,
   "metadata": {
    "collapsed": false
   },
   "outputs": [
    {
     "data": {
      "text/html": [
       "<div>\n",
       "<table border=\"1\" class=\"dataframe\">\n",
       "  <thead>\n",
       "    <tr style=\"text-align: right;\">\n",
       "      <th></th>\n",
       "      <th>Mobile</th>\n",
       "    </tr>\n",
       "  </thead>\n",
       "  <tbody>\n",
       "    <tr>\n",
       "      <th>home_page</th>\n",
       "      <td>30200</td>\n",
       "    </tr>\n",
       "    <tr>\n",
       "      <th>search_page</th>\n",
       "      <td>15100</td>\n",
       "    </tr>\n",
       "    <tr>\n",
       "      <th>payment_page</th>\n",
       "      <td>3020</td>\n",
       "    </tr>\n",
       "    <tr>\n",
       "      <th>payment_confirmation_page</th>\n",
       "      <td>302</td>\n",
       "    </tr>\n",
       "  </tbody>\n",
       "</table>\n",
       "</div>"
      ],
      "text/plain": [
       "                           Mobile\n",
       "home_page                   30200\n",
       "search_page                 15100\n",
       "payment_page                 3020\n",
       "payment_confirmation_page     302"
      ]
     },
     "execution_count": 352,
     "metadata": {},
     "output_type": "execute_result"
    }
   ],
   "source": [
    "mobile = bydevice[bydevice['Mobile'] == 1]\n",
    "mobile = mobile[pages]\n",
    "mobile = mobile.transpose()\n",
    "mobile.rename(columns={0: \"Mobile\"}, inplace=True)\n",
    "mobile.head() #grouping all of the mobile data together"
   ]
  },
  {
   "cell_type": "code",
   "execution_count": 360,
   "metadata": {
    "collapsed": false
   },
   "outputs": [
    {
     "data": {
      "text/html": [
       "<div>\n",
       "<table border=\"1\" class=\"dataframe\">\n",
       "  <thead>\n",
       "    <tr style=\"text-align: right;\">\n",
       "      <th></th>\n",
       "      <th>Page</th>\n",
       "      <th>Desktop</th>\n",
       "      <th>Mobile</th>\n",
       "    </tr>\n",
       "  </thead>\n",
       "  <tbody>\n",
       "    <tr>\n",
       "      <th>0</th>\n",
       "      <td>home_page</td>\n",
       "      <td>60200</td>\n",
       "      <td>30200</td>\n",
       "    </tr>\n",
       "    <tr>\n",
       "      <th>1</th>\n",
       "      <td>search_page</td>\n",
       "      <td>30100</td>\n",
       "      <td>15100</td>\n",
       "    </tr>\n",
       "    <tr>\n",
       "      <th>2</th>\n",
       "      <td>payment_page</td>\n",
       "      <td>3010</td>\n",
       "      <td>3020</td>\n",
       "    </tr>\n",
       "    <tr>\n",
       "      <th>3</th>\n",
       "      <td>payment_confirmation_page</td>\n",
       "      <td>150</td>\n",
       "      <td>302</td>\n",
       "    </tr>\n",
       "  </tbody>\n",
       "</table>\n",
       "</div>"
      ],
      "text/plain": [
       "                        Page  Desktop  Mobile\n",
       "0                  home_page    60200   30200\n",
       "1                search_page    30100   15100\n",
       "2               payment_page     3010    3020\n",
       "3  payment_confirmation_page      150     302"
      ]
     },
     "execution_count": 360,
     "metadata": {},
     "output_type": "execute_result"
    }
   ],
   "source": [
    "desk['Mobile'] = mobile['Mobile'] #Merging Desktop and Mobile sums into one DF for easier plotting\n",
    "pages_device = desk\n",
    "pages_device.reset_index(inplace=True) #Resetting index \n",
    "pages_device.rename(columns={'index': \"Page\"}, inplace=True)\n",
    "pages_device.head() #Creating one dataframe of desktop and mobile data"
   ]
  },
  {
   "cell_type": "code",
   "execution_count": 365,
   "metadata": {
    "collapsed": false
   },
   "outputs": [
    {
     "data": {
      "image/png": "[encoded data removed]",
      "text/plain": [
       "<matplotlib.figure.Figure at 0x1236a4e90>"
      ]
     },
     "metadata": {},
     "output_type": "display_data"
    }
   ],
   "source": [
    "f, ax1 = plt.subplots(1, figsize=(15,10))\n",
    "\n",
    "# Set the bar width\n",
    "bar_width = 0.75\n",
    "\n",
    "# positions of the left bar-boundaries\n",
    "bar_l = [i+1 for i in range(len(pages_device['Desktop']))] \n",
    "\n",
    "# positions of the x-axis ticks (center of the bars as bar labels)\n",
    "tick_pos = [i+(bar_width/2) for i in bar_l] \n",
    "\n",
    "# Create a bar plot, in position bar_1\n",
    "ax1.bar(bar_l, \n",
    "        # using the desktop data\n",
    "        pages_device['Desktop'], \n",
    "        # set the width\n",
    "        width=bar_width,\n",
    "        # with the label Desktop\n",
    "        label='Desktop', \n",
    "        # with alpha 0.5\n",
    "        alpha=0.5, \n",
    "        # with color\n",
    "        color='black')\n",
    "\n",
    "# Create a bar plot, in position bar_1\n",
    "ax1.bar(bar_l, \n",
    "        # using the Mobile\n",
    "        pages_device['Mobile'], \n",
    "        # set the width\n",
    "        width=bar_width,\n",
    "        # with desktop on the bottom\n",
    "        bottom=pages_device['Desktop'], \n",
    "        # with the label mobile\n",
    "        label='Mobile', \n",
    "        # with alpha 0.5\n",
    "        alpha=0.5, \n",
    "        # with color\n",
    "        color='red')\n",
    "\n",
    "plt.xticks(tick_pos, pages_device['Page'], size=12)\n",
    "plt.yticks(size=12)\n",
    "plt.ylabel(\"Number of users at each stage of funnel\", size=16)\n",
    "plt.title(\"Number of users at each stage-by device type\", size=18)\n",
    "plt.legend(loc='upper right', prop={'size':16})\n",
    "fig.tight_layout()\n",
    "plt.show()\n"
   ]
  },
  {
   "cell_type": "code",
   "execution_count": 366,
   "metadata": {
    "collapsed": false
   },
   "outputs": [
    {
     "data": {
      "text/html": [
       "<div>\n",
       "<table border=\"1\" class=\"dataframe\">\n",
       "  <thead>\n",
       "    <tr style=\"text-align: right;\">\n",
       "      <th></th>\n",
       "      <th>user_id</th>\n",
       "      <th>date</th>\n",
       "      <th>Desktop</th>\n",
       "      <th>Mobile</th>\n",
       "      <th>Female</th>\n",
       "      <th>Male</th>\n",
       "      <th>home_page</th>\n",
       "      <th>search_page</th>\n",
       "      <th>payment_page</th>\n",
       "      <th>payment_confirmation_page</th>\n",
       "    </tr>\n",
       "  </thead>\n",
       "  <tbody>\n",
       "    <tr>\n",
       "      <th>0</th>\n",
       "      <td>450007</td>\n",
       "      <td>2015-02-28</td>\n",
       "      <td>1.0</td>\n",
       "      <td>0.0</td>\n",
       "      <td>1.0</td>\n",
       "      <td>0.0</td>\n",
       "      <td>1.0</td>\n",
       "      <td>NaN</td>\n",
       "      <td>NaN</td>\n",
       "      <td>NaN</td>\n",
       "    </tr>\n",
       "    <tr>\n",
       "      <th>1</th>\n",
       "      <td>756838</td>\n",
       "      <td>2015-01-13</td>\n",
       "      <td>1.0</td>\n",
       "      <td>0.0</td>\n",
       "      <td>0.0</td>\n",
       "      <td>1.0</td>\n",
       "      <td>1.0</td>\n",
       "      <td>NaN</td>\n",
       "      <td>NaN</td>\n",
       "      <td>NaN</td>\n",
       "    </tr>\n",
       "    <tr>\n",
       "      <th>2</th>\n",
       "      <td>568983</td>\n",
       "      <td>2015-04-09</td>\n",
       "      <td>1.0</td>\n",
       "      <td>0.0</td>\n",
       "      <td>0.0</td>\n",
       "      <td>1.0</td>\n",
       "      <td>1.0</td>\n",
       "      <td>1.0</td>\n",
       "      <td>NaN</td>\n",
       "      <td>NaN</td>\n",
       "    </tr>\n",
       "    <tr>\n",
       "      <th>3</th>\n",
       "      <td>190794</td>\n",
       "      <td>2015-02-18</td>\n",
       "      <td>1.0</td>\n",
       "      <td>0.0</td>\n",
       "      <td>1.0</td>\n",
       "      <td>0.0</td>\n",
       "      <td>1.0</td>\n",
       "      <td>1.0</td>\n",
       "      <td>NaN</td>\n",
       "      <td>NaN</td>\n",
       "    </tr>\n",
       "    <tr>\n",
       "      <th>4</th>\n",
       "      <td>537909</td>\n",
       "      <td>2015-01-15</td>\n",
       "      <td>1.0</td>\n",
       "      <td>0.0</td>\n",
       "      <td>0.0</td>\n",
       "      <td>1.0</td>\n",
       "      <td>1.0</td>\n",
       "      <td>NaN</td>\n",
       "      <td>NaN</td>\n",
       "      <td>NaN</td>\n",
       "    </tr>\n",
       "  </tbody>\n",
       "</table>\n",
       "</div>"
      ],
      "text/plain": [
       "   user_id        date  Desktop  Mobile  Female  Male  home_page  search_page  \\\n",
       "0   450007  2015-02-28      1.0     0.0     1.0   0.0        1.0          NaN   \n",
       "1   756838  2015-01-13      1.0     0.0     0.0   1.0        1.0          NaN   \n",
       "2   568983  2015-04-09      1.0     0.0     0.0   1.0        1.0          1.0   \n",
       "3   190794  2015-02-18      1.0     0.0     1.0   0.0        1.0          1.0   \n",
       "4   537909  2015-01-15      1.0     0.0     0.0   1.0        1.0          NaN   \n",
       "\n",
       "   payment_page  payment_confirmation_page  \n",
       "0           NaN                        NaN  \n",
       "1           NaN                        NaN  \n",
       "2           NaN                        NaN  \n",
       "3           NaN                        NaN  \n",
       "4           NaN                        NaN  "
      ]
     },
     "execution_count": 366,
     "metadata": {},
     "output_type": "execute_result"
    }
   ],
   "source": [
    "alldata.head()"
   ]
  },
  {
   "cell_type": "code",
   "execution_count": 368,
   "metadata": {
    "collapsed": false
   },
   "outputs": [
    {
     "name": "stdout",
     "output_type": "stream",
     "text": [
      "<class 'pandas.core.frame.DataFrame'>\n",
      "Int64Index: 90400 entries, 0 to 90399\n",
      "Data columns (total 10 columns):\n",
      "user_id                      90400 non-null int64\n",
      "date                         90400 non-null object\n",
      "Desktop                      90400 non-null float64\n",
      "Mobile                       90400 non-null float64\n",
      "Female                       90400 non-null float64\n",
      "Male                         90400 non-null float64\n",
      "home_page                    90400 non-null float64\n",
      "search_page                  45200 non-null float64\n",
      "payment_page                 6030 non-null float64\n",
      "payment_confirmation_page    452 non-null float64\n",
      "dtypes: float64(8), int64(1), object(1)\n",
      "memory usage: 7.6+ MB\n"
     ]
    }
   ],
   "source": [
    "alldata.info()"
   ]
  },
  {
   "cell_type": "markdown",
   "metadata": {},
   "source": [
    "## 5) Exploring data trends by time - plotting number of users over time in the various stages of the funnel"
   ]
  },
  {
   "cell_type": "code",
   "execution_count": 369,
   "metadata": {
    "collapsed": true
   },
   "outputs": [],
   "source": [
    "import datetime"
   ]
  },
  {
   "cell_type": "code",
   "execution_count": 385,
   "metadata": {
    "collapsed": false
   },
   "outputs": [
    {
     "name": "stdout",
     "output_type": "stream",
     "text": [
      "<class 'pandas.core.frame.DataFrame'>\n",
      "Int64Index: 90400 entries, 0 to 90399\n",
      "Data columns (total 11 columns):\n",
      "user_id                      90400 non-null int64\n",
      "date                         90400 non-null datetime64[ns]\n",
      "Desktop                      90400 non-null float64\n",
      "Mobile                       90400 non-null float64\n",
      "Female                       90400 non-null float64\n",
      "Male                         90400 non-null float64\n",
      "home_page                    90400 non-null float64\n",
      "search_page                  45200 non-null float64\n",
      "payment_page                 6030 non-null float64\n",
      "payment_confirmation_page    452 non-null float64\n",
      "year                         90400 non-null int32\n",
      "dtypes: datetime64[ns](1), float64(8), int32(1), int64(1)\n",
      "memory usage: 7.9 MB\n"
     ]
    }
   ],
   "source": [
    "alldata['date'] = pd.to_datetime(alldata['date']) #Need to convert the date in string format to a pandas datetime object\n",
    "# for manipulation purposes\n",
    "alldata.info()"
   ]
  },
  {
   "cell_type": "code",
   "execution_count": 422,
   "metadata": {
    "collapsed": false
   },
   "outputs": [],
   "source": [
    "alldata['year'] = pd.DatetimeIndex(alldata['date']).year #Adding year to a separate column"
   ]
  },
  {
   "cell_type": "code",
   "execution_count": 423,
   "metadata": {
    "collapsed": true
   },
   "outputs": [],
   "source": [
    "alldata['month'] = pd.DatetimeIndex(alldata['date']).month #Adding month to a separate column"
   ]
  },
  {
   "cell_type": "code",
   "execution_count": 424,
   "metadata": {
    "collapsed": true
   },
   "outputs": [],
   "source": [
    "alldata['day'] = pd.DatetimeIndex(alldata['date']).day #Adding day to a separate column"
   ]
  },
  {
   "cell_type": "code",
   "execution_count": 484,
   "metadata": {
    "collapsed": true
   },
   "outputs": [],
   "source": [
    "alldata['weekday'] = pd.DatetimeIndex(alldata['date']).weekday #Adding day to a separate column"
   ]
  },
  {
   "cell_type": "code",
   "execution_count": 485,
   "metadata": {
    "collapsed": false
   },
   "outputs": [
    {
     "data": {
      "text/html": [
       "<div>\n",
       "<table border=\"1\" class=\"dataframe\">\n",
       "  <thead>\n",
       "    <tr style=\"text-align: right;\">\n",
       "      <th></th>\n",
       "      <th>user_id</th>\n",
       "      <th>date</th>\n",
       "      <th>Desktop</th>\n",
       "      <th>Mobile</th>\n",
       "      <th>Female</th>\n",
       "      <th>Male</th>\n",
       "      <th>home_page</th>\n",
       "      <th>search_page</th>\n",
       "      <th>payment_page</th>\n",
       "      <th>payment_confirmation_page</th>\n",
       "      <th>year</th>\n",
       "      <th>month</th>\n",
       "      <th>day</th>\n",
       "      <th>weekday</th>\n",
       "    </tr>\n",
       "  </thead>\n",
       "  <tbody>\n",
       "    <tr>\n",
       "      <th>0</th>\n",
       "      <td>450007</td>\n",
       "      <td>2015-02-28</td>\n",
       "      <td>1.0</td>\n",
       "      <td>0.0</td>\n",
       "      <td>1.0</td>\n",
       "      <td>0.0</td>\n",
       "      <td>1.0</td>\n",
       "      <td>NaN</td>\n",
       "      <td>NaN</td>\n",
       "      <td>NaN</td>\n",
       "      <td>2015</td>\n",
       "      <td>2</td>\n",
       "      <td>28</td>\n",
       "      <td>5</td>\n",
       "    </tr>\n",
       "    <tr>\n",
       "      <th>1</th>\n",
       "      <td>756838</td>\n",
       "      <td>2015-01-13</td>\n",
       "      <td>1.0</td>\n",
       "      <td>0.0</td>\n",
       "      <td>0.0</td>\n",
       "      <td>1.0</td>\n",
       "      <td>1.0</td>\n",
       "      <td>NaN</td>\n",
       "      <td>NaN</td>\n",
       "      <td>NaN</td>\n",
       "      <td>2015</td>\n",
       "      <td>1</td>\n",
       "      <td>13</td>\n",
       "      <td>1</td>\n",
       "    </tr>\n",
       "    <tr>\n",
       "      <th>2</th>\n",
       "      <td>568983</td>\n",
       "      <td>2015-04-09</td>\n",
       "      <td>1.0</td>\n",
       "      <td>0.0</td>\n",
       "      <td>0.0</td>\n",
       "      <td>1.0</td>\n",
       "      <td>1.0</td>\n",
       "      <td>1.0</td>\n",
       "      <td>NaN</td>\n",
       "      <td>NaN</td>\n",
       "      <td>2015</td>\n",
       "      <td>4</td>\n",
       "      <td>9</td>\n",
       "      <td>3</td>\n",
       "    </tr>\n",
       "    <tr>\n",
       "      <th>3</th>\n",
       "      <td>190794</td>\n",
       "      <td>2015-02-18</td>\n",
       "      <td>1.0</td>\n",
       "      <td>0.0</td>\n",
       "      <td>1.0</td>\n",
       "      <td>0.0</td>\n",
       "      <td>1.0</td>\n",
       "      <td>1.0</td>\n",
       "      <td>NaN</td>\n",
       "      <td>NaN</td>\n",
       "      <td>2015</td>\n",
       "      <td>2</td>\n",
       "      <td>18</td>\n",
       "      <td>2</td>\n",
       "    </tr>\n",
       "    <tr>\n",
       "      <th>4</th>\n",
       "      <td>537909</td>\n",
       "      <td>2015-01-15</td>\n",
       "      <td>1.0</td>\n",
       "      <td>0.0</td>\n",
       "      <td>0.0</td>\n",
       "      <td>1.0</td>\n",
       "      <td>1.0</td>\n",
       "      <td>NaN</td>\n",
       "      <td>NaN</td>\n",
       "      <td>NaN</td>\n",
       "      <td>2015</td>\n",
       "      <td>1</td>\n",
       "      <td>15</td>\n",
       "      <td>3</td>\n",
       "    </tr>\n",
       "  </tbody>\n",
       "</table>\n",
       "</div>"
      ],
      "text/plain": [
       "   user_id       date  Desktop  Mobile  Female  Male  home_page  search_page  \\\n",
       "0   450007 2015-02-28      1.0     0.0     1.0   0.0        1.0          NaN   \n",
       "1   756838 2015-01-13      1.0     0.0     0.0   1.0        1.0          NaN   \n",
       "2   568983 2015-04-09      1.0     0.0     0.0   1.0        1.0          1.0   \n",
       "3   190794 2015-02-18      1.0     0.0     1.0   0.0        1.0          1.0   \n",
       "4   537909 2015-01-15      1.0     0.0     0.0   1.0        1.0          NaN   \n",
       "\n",
       "   payment_page  payment_confirmation_page  year  month  day  weekday  \n",
       "0           NaN                        NaN  2015      2   28        5  \n",
       "1           NaN                        NaN  2015      1   13        1  \n",
       "2           NaN                        NaN  2015      4    9        3  \n",
       "3           NaN                        NaN  2015      2   18        2  \n",
       "4           NaN                        NaN  2015      1   15        3  "
      ]
     },
     "execution_count": 485,
     "metadata": {},
     "output_type": "execute_result"
    }
   ],
   "source": [
    "alldata.head() "
   ]
  },
  {
   "cell_type": "code",
   "execution_count": 426,
   "metadata": {
    "collapsed": false
   },
   "outputs": [],
   "source": [
    "year = alldata.groupby('year').count()"
   ]
  },
  {
   "cell_type": "code",
   "execution_count": 455,
   "metadata": {
    "collapsed": false
   },
   "outputs": [],
   "source": [
    "month = alldata.groupby('month').count() #There are only 4 months?"
   ]
  },
  {
   "cell_type": "code",
   "execution_count": 474,
   "metadata": {
    "collapsed": false
   },
   "outputs": [],
   "source": [
    "day = alldata.groupby('day').count()"
   ]
  },
  {
   "cell_type": "code",
   "execution_count": 486,
   "metadata": {
    "collapsed": true
   },
   "outputs": [],
   "source": [
    "weekday = alldata.groupby('weekday').count()"
   ]
  },
  {
   "cell_type": "code",
   "execution_count": 429,
   "metadata": {
    "collapsed": false
   },
   "outputs": [],
   "source": [
    "year = year[pages] #There is only one year in this data so we cannot make any conclusions about the effect of year of the\n",
    "#user funnel (ie we cannot say this is a more recent trend)"
   ]
  },
  {
   "cell_type": "code",
   "execution_count": 456,
   "metadata": {
    "collapsed": false
   },
   "outputs": [],
   "source": [
    "month = month[pages]"
   ]
  },
  {
   "cell_type": "code",
   "execution_count": 457,
   "metadata": {
    "collapsed": false
   },
   "outputs": [
    {
     "data": {
      "text/html": [
       "<div>\n",
       "<table border=\"1\" class=\"dataframe\">\n",
       "  <thead>\n",
       "    <tr style=\"text-align: right;\">\n",
       "      <th></th>\n",
       "      <th>0</th>\n",
       "      <th>1</th>\n",
       "      <th>2</th>\n",
       "      <th>3</th>\n",
       "    </tr>\n",
       "  </thead>\n",
       "  <tbody>\n",
       "    <tr>\n",
       "      <th>month</th>\n",
       "      <td>1</td>\n",
       "      <td>2</td>\n",
       "      <td>3</td>\n",
       "      <td>4</td>\n",
       "    </tr>\n",
       "    <tr>\n",
       "      <th>home_page</th>\n",
       "      <td>22600</td>\n",
       "      <td>22600</td>\n",
       "      <td>22600</td>\n",
       "      <td>22600</td>\n",
       "    </tr>\n",
       "    <tr>\n",
       "      <th>search_page</th>\n",
       "      <td>13554</td>\n",
       "      <td>13687</td>\n",
       "      <td>8879</td>\n",
       "      <td>9080</td>\n",
       "    </tr>\n",
       "    <tr>\n",
       "      <th>payment_page</th>\n",
       "      <td>2390</td>\n",
       "      <td>2412</td>\n",
       "      <td>631</td>\n",
       "      <td>597</td>\n",
       "    </tr>\n",
       "    <tr>\n",
       "      <th>payment_confirmation_page</th>\n",
       "      <td>189</td>\n",
       "      <td>173</td>\n",
       "      <td>44</td>\n",
       "      <td>46</td>\n",
       "    </tr>\n",
       "  </tbody>\n",
       "</table>\n",
       "</div>"
      ],
      "text/plain": [
       "                               0      1      2      3\n",
       "month                          1      2      3      4\n",
       "home_page                  22600  22600  22600  22600\n",
       "search_page                13554  13687   8879   9080\n",
       "payment_page                2390   2412    631    597\n",
       "payment_confirmation_page    189    173     44     46"
      ]
     },
     "execution_count": 457,
     "metadata": {},
     "output_type": "execute_result"
    }
   ],
   "source": [
    "month = month.reset_index()\n",
    "month = month.transpose()\n",
    "month"
   ]
  },
  {
   "cell_type": "code",
   "execution_count": 468,
   "metadata": {
    "collapsed": false
   },
   "outputs": [],
   "source": [
    "month.rename(columns={0:'January', 1:'February', 2:'March', 3:'April'}, inplace=True)"
   ]
  },
  {
   "cell_type": "code",
   "execution_count": 471,
   "metadata": {
    "collapsed": false
   },
   "outputs": [
    {
     "data": {
      "image/png": "[encoded data removed]",
      "text/plain": [
       "<matplotlib.figure.Figure at 0x14634ac90>"
      ]
     },
     "metadata": {},
     "output_type": "display_data"
    }
   ],
   "source": [
    "month[1:].plot(kind='bar', figsize = (14,6))\n",
    "plt.title('Funnel by month', size = 18)\n",
    "plt.show()"
   ]
  },
  {
   "cell_type": "code",
   "execution_count": 475,
   "metadata": {
    "collapsed": false
   },
   "outputs": [],
   "source": [
    "day = day[pages]"
   ]
  },
  {
   "cell_type": "code",
   "execution_count": 476,
   "metadata": {
    "collapsed": false
   },
   "outputs": [
    {
     "data": {
      "text/html": [
       "<div>\n",
       "<table border=\"1\" class=\"dataframe\">\n",
       "  <thead>\n",
       "    <tr style=\"text-align: right;\">\n",
       "      <th></th>\n",
       "      <th>0</th>\n",
       "      <th>1</th>\n",
       "      <th>2</th>\n",
       "      <th>3</th>\n",
       "      <th>4</th>\n",
       "      <th>5</th>\n",
       "      <th>6</th>\n",
       "      <th>7</th>\n",
       "      <th>8</th>\n",
       "      <th>9</th>\n",
       "      <th>...</th>\n",
       "      <th>21</th>\n",
       "      <th>22</th>\n",
       "      <th>23</th>\n",
       "      <th>24</th>\n",
       "      <th>25</th>\n",
       "      <th>26</th>\n",
       "      <th>27</th>\n",
       "      <th>28</th>\n",
       "      <th>29</th>\n",
       "      <th>30</th>\n",
       "    </tr>\n",
       "  </thead>\n",
       "  <tbody>\n",
       "    <tr>\n",
       "      <th>day</th>\n",
       "      <td>1</td>\n",
       "      <td>2</td>\n",
       "      <td>3</td>\n",
       "      <td>4</td>\n",
       "      <td>5</td>\n",
       "      <td>6</td>\n",
       "      <td>7</td>\n",
       "      <td>8</td>\n",
       "      <td>9</td>\n",
       "      <td>10</td>\n",
       "      <td>...</td>\n",
       "      <td>22</td>\n",
       "      <td>23</td>\n",
       "      <td>24</td>\n",
       "      <td>25</td>\n",
       "      <td>26</td>\n",
       "      <td>27</td>\n",
       "      <td>28</td>\n",
       "      <td>29</td>\n",
       "      <td>30</td>\n",
       "      <td>31</td>\n",
       "    </tr>\n",
       "    <tr>\n",
       "      <th>home_page</th>\n",
       "      <td>3031</td>\n",
       "      <td>3048</td>\n",
       "      <td>3075</td>\n",
       "      <td>2973</td>\n",
       "      <td>3006</td>\n",
       "      <td>3035</td>\n",
       "      <td>3036</td>\n",
       "      <td>3143</td>\n",
       "      <td>2996</td>\n",
       "      <td>3020</td>\n",
       "      <td>...</td>\n",
       "      <td>3051</td>\n",
       "      <td>3053</td>\n",
       "      <td>2964</td>\n",
       "      <td>3133</td>\n",
       "      <td>3022</td>\n",
       "      <td>3025</td>\n",
       "      <td>3007</td>\n",
       "      <td>2198</td>\n",
       "      <td>2275</td>\n",
       "      <td>1444</td>\n",
       "    </tr>\n",
       "    <tr>\n",
       "      <th>search_page</th>\n",
       "      <td>1523</td>\n",
       "      <td>1512</td>\n",
       "      <td>1477</td>\n",
       "      <td>1515</td>\n",
       "      <td>1518</td>\n",
       "      <td>1529</td>\n",
       "      <td>1509</td>\n",
       "      <td>1549</td>\n",
       "      <td>1500</td>\n",
       "      <td>1548</td>\n",
       "      <td>...</td>\n",
       "      <td>1568</td>\n",
       "      <td>1526</td>\n",
       "      <td>1453</td>\n",
       "      <td>1618</td>\n",
       "      <td>1480</td>\n",
       "      <td>1497</td>\n",
       "      <td>1542</td>\n",
       "      <td>1005</td>\n",
       "      <td>1057</td>\n",
       "      <td>728</td>\n",
       "    </tr>\n",
       "    <tr>\n",
       "      <th>payment_page</th>\n",
       "      <td>215</td>\n",
       "      <td>202</td>\n",
       "      <td>193</td>\n",
       "      <td>209</td>\n",
       "      <td>218</td>\n",
       "      <td>179</td>\n",
       "      <td>187</td>\n",
       "      <td>209</td>\n",
       "      <td>212</td>\n",
       "      <td>190</td>\n",
       "      <td>...</td>\n",
       "      <td>190</td>\n",
       "      <td>193</td>\n",
       "      <td>198</td>\n",
       "      <td>220</td>\n",
       "      <td>209</td>\n",
       "      <td>207</td>\n",
       "      <td>202</td>\n",
       "      <td>105</td>\n",
       "      <td>100</td>\n",
       "      <td>110</td>\n",
       "    </tr>\n",
       "    <tr>\n",
       "      <th>payment_confirmation_page</th>\n",
       "      <td>15</td>\n",
       "      <td>15</td>\n",
       "      <td>21</td>\n",
       "      <td>18</td>\n",
       "      <td>20</td>\n",
       "      <td>20</td>\n",
       "      <td>17</td>\n",
       "      <td>13</td>\n",
       "      <td>20</td>\n",
       "      <td>12</td>\n",
       "      <td>...</td>\n",
       "      <td>13</td>\n",
       "      <td>17</td>\n",
       "      <td>18</td>\n",
       "      <td>14</td>\n",
       "      <td>14</td>\n",
       "      <td>10</td>\n",
       "      <td>17</td>\n",
       "      <td>6</td>\n",
       "      <td>6</td>\n",
       "      <td>8</td>\n",
       "    </tr>\n",
       "  </tbody>\n",
       "</table>\n",
       "<p>5 rows × 31 columns</p>\n",
       "</div>"
      ],
      "text/plain": [
       "                             0     1     2     3     4     5     6     7   \\\n",
       "day                           1     2     3     4     5     6     7     8   \n",
       "home_page                  3031  3048  3075  2973  3006  3035  3036  3143   \n",
       "search_page                1523  1512  1477  1515  1518  1529  1509  1549   \n",
       "payment_page                215   202   193   209   218   179   187   209   \n",
       "payment_confirmation_page    15    15    21    18    20    20    17    13   \n",
       "\n",
       "                             8     9   ...     21    22    23    24    25  \\\n",
       "day                           9    10  ...     22    23    24    25    26   \n",
       "home_page                  2996  3020  ...   3051  3053  2964  3133  3022   \n",
       "search_page                1500  1548  ...   1568  1526  1453  1618  1480   \n",
       "payment_page                212   190  ...    190   193   198   220   209   \n",
       "payment_confirmation_page    20    12  ...     13    17    18    14    14   \n",
       "\n",
       "                             26    27    28    29    30  \n",
       "day                          27    28    29    30    31  \n",
       "home_page                  3025  3007  2198  2275  1444  \n",
       "search_page                1497  1542  1005  1057   728  \n",
       "payment_page                207   202   105   100   110  \n",
       "payment_confirmation_page    10    17     6     6     8  \n",
       "\n",
       "[5 rows x 31 columns]"
      ]
     },
     "execution_count": 476,
     "metadata": {},
     "output_type": "execute_result"
    }
   ],
   "source": [
    "day = day.reset_index()\n",
    "day = day.transpose()\n",
    "day"
   ]
  },
  {
   "cell_type": "code",
   "execution_count": 513,
   "metadata": {
    "collapsed": false
   },
   "outputs": [],
   "source": [
    "w = list(day.columns.values)"
   ]
  },
  {
   "cell_type": "code",
   "execution_count": 515,
   "metadata": {
    "collapsed": false
   },
   "outputs": [
    {
     "data": {
      "image/png": "[encoded data removed]",
      "text/plain": [
       "<matplotlib.figure.Figure at 0x18eb3a6d0>"
      ]
     },
     "metadata": {},
     "output_type": "display_data"
    }
   ],
   "source": [
    "a = day[1:2].plot(kind='bar', figsize = (14,9))\n",
    "plt.title('Homepage Visits - by day', size = 18)\n",
    "a.xaxis.set_visible(False)\n",
    "plt.show()"
   ]
  },
  {
   "cell_type": "code",
   "execution_count": 495,
   "metadata": {
    "collapsed": false
   },
   "outputs": [
    {
     "data": {
      "image/png": "[encoded data removed]",
      "text/plain": [
       "<matplotlib.figure.Figure at 0x1cd888b50>"
      ]
     },
     "metadata": {},
     "output_type": "display_data"
    }
   ],
   "source": [
    "b = day[2:3].plot(kind='bar', figsize = (14,9))\n",
    "plt.title('Search Page Visits - by day', size = 18)\n",
    "b.xaxis.set_visible(False)\n",
    "plt.show()"
   ]
  },
  {
   "cell_type": "code",
   "execution_count": 496,
   "metadata": {
    "collapsed": false
   },
   "outputs": [
    {
     "data": {
      "image/png": "[encoded data removed]",
      "text/plain": [
       "<matplotlib.figure.Figure at 0x1cd888150>"
      ]
     },
     "metadata": {},
     "output_type": "display_data"
    }
   ],
   "source": [
    "c = day[3:4].plot(kind='bar', figsize = (14,9))\n",
    "plt.title('Payment Page Visits - by day', size = 18)\n",
    "c.xaxis.set_visible(False)\n",
    "plt.show()"
   ]
  },
  {
   "cell_type": "code",
   "execution_count": 510,
   "metadata": {
    "collapsed": false
   },
   "outputs": [
    {
     "data": {
      "image/png": "[encoded data removed]",
      "text/plain": [
       "<matplotlib.figure.Figure at 0x1d1cefc10>"
      ]
     },
     "metadata": {},
     "output_type": "display_data"
    }
   ],
   "source": [
    "d = day[4:5].plot(kind='bar', figsize = (14,9))\n",
    "plt.title('Payment Confirmation Page Visits - by day', size = 18)\n",
    "d.xaxis.set_visible(False)\n",
    "plt.show()"
   ]
  },
  {
   "cell_type": "code",
   "execution_count": 516,
   "metadata": {
    "collapsed": false
   },
   "outputs": [],
   "source": [
    "#It looks a little messy to look at this by day - So i will plot by day of the week"
   ]
  },
  {
   "cell_type": "code",
   "execution_count": 621,
   "metadata": {
    "collapsed": false
   },
   "outputs": [],
   "source": [
    "week = weekday[pages]"
   ]
  },
  {
   "cell_type": "code",
   "execution_count": 622,
   "metadata": {
    "collapsed": false
   },
   "outputs": [
    {
     "data": {
      "text/html": [
       "<div>\n",
       "<table border=\"1\" class=\"dataframe\">\n",
       "  <thead>\n",
       "    <tr style=\"text-align: right;\">\n",
       "      <th></th>\n",
       "      <th>0</th>\n",
       "      <th>1</th>\n",
       "      <th>2</th>\n",
       "      <th>3</th>\n",
       "      <th>4</th>\n",
       "      <th>5</th>\n",
       "      <th>6</th>\n",
       "    </tr>\n",
       "  </thead>\n",
       "  <tbody>\n",
       "    <tr>\n",
       "      <th>weekday</th>\n",
       "      <td>0</td>\n",
       "      <td>1</td>\n",
       "      <td>2</td>\n",
       "      <td>3</td>\n",
       "      <td>4</td>\n",
       "      <td>5</td>\n",
       "      <td>6</td>\n",
       "    </tr>\n",
       "    <tr>\n",
       "      <th>home_page</th>\n",
       "      <td>12955</td>\n",
       "      <td>12697</td>\n",
       "      <td>12831</td>\n",
       "      <td>13444</td>\n",
       "      <td>12750</td>\n",
       "      <td>12801</td>\n",
       "      <td>12922</td>\n",
       "    </tr>\n",
       "    <tr>\n",
       "      <th>search_page</th>\n",
       "      <td>6483</td>\n",
       "      <td>6252</td>\n",
       "      <td>6335</td>\n",
       "      <td>6717</td>\n",
       "      <td>6406</td>\n",
       "      <td>6545</td>\n",
       "      <td>6462</td>\n",
       "    </tr>\n",
       "    <tr>\n",
       "      <th>payment_page</th>\n",
       "      <td>869</td>\n",
       "      <td>853</td>\n",
       "      <td>838</td>\n",
       "      <td>899</td>\n",
       "      <td>871</td>\n",
       "      <td>845</td>\n",
       "      <td>855</td>\n",
       "    </tr>\n",
       "    <tr>\n",
       "      <th>payment_confirmation_page</th>\n",
       "      <td>77</td>\n",
       "      <td>69</td>\n",
       "      <td>54</td>\n",
       "      <td>66</td>\n",
       "      <td>54</td>\n",
       "      <td>70</td>\n",
       "      <td>62</td>\n",
       "    </tr>\n",
       "  </tbody>\n",
       "</table>\n",
       "</div>"
      ],
      "text/plain": [
       "                               0      1      2      3      4      5      6\n",
       "weekday                        0      1      2      3      4      5      6\n",
       "home_page                  12955  12697  12831  13444  12750  12801  12922\n",
       "search_page                 6483   6252   6335   6717   6406   6545   6462\n",
       "payment_page                 869    853    838    899    871    845    855\n",
       "payment_confirmation_page     77     69     54     66     54     70     62"
      ]
     },
     "execution_count": 622,
     "metadata": {},
     "output_type": "execute_result"
    }
   ],
   "source": [
    "week = week.reset_index()\n",
    "week = week.transpose()\n",
    "week"
   ]
  },
  {
   "cell_type": "code",
   "execution_count": 623,
   "metadata": {
    "collapsed": false
   },
   "outputs": [],
   "source": [
    "week.rename(columns={0:'Monday', 1:'Tuesday', 2:'Wednesday', 3:'Thursday', 4:'Friday', 5:'Saturday', 6:'Sunday'}, inplace=True)"
   ]
  },
  {
   "cell_type": "code",
   "execution_count": 624,
   "metadata": {
    "collapsed": false
   },
   "outputs": [
    {
     "data": {
      "image/png": "[encoded data removed]",
      "text/plain": [
       "<matplotlib.figure.Figure at 0x18ed7fb90>"
      ]
     },
     "metadata": {},
     "output_type": "display_data"
    }
   ],
   "source": [
    "e = week[1:].plot(kind='bar', figsize = (14,9))\n",
    "plt.title('Homepage Visits - by day of the week', size = 18)\n",
    "plt.show()"
   ]
  },
  {
   "cell_type": "code",
   "execution_count": 625,
   "metadata": {
    "collapsed": false
   },
   "outputs": [
    {
     "data": {
      "text/html": [
       "<div>\n",
       "<table border=\"1\" class=\"dataframe\">\n",
       "  <thead>\n",
       "    <tr style=\"text-align: right;\">\n",
       "      <th></th>\n",
       "      <th>Monday</th>\n",
       "      <th>Tuesday</th>\n",
       "      <th>Wednesday</th>\n",
       "      <th>Thursday</th>\n",
       "      <th>Friday</th>\n",
       "      <th>Saturday</th>\n",
       "      <th>Sunday</th>\n",
       "    </tr>\n",
       "  </thead>\n",
       "  <tbody>\n",
       "    <tr>\n",
       "      <th>weekday</th>\n",
       "      <td>0</td>\n",
       "      <td>1</td>\n",
       "      <td>2</td>\n",
       "      <td>3</td>\n",
       "      <td>4</td>\n",
       "      <td>5</td>\n",
       "      <td>6</td>\n",
       "    </tr>\n",
       "    <tr>\n",
       "      <th>home_page</th>\n",
       "      <td>12955</td>\n",
       "      <td>12697</td>\n",
       "      <td>12831</td>\n",
       "      <td>13444</td>\n",
       "      <td>12750</td>\n",
       "      <td>12801</td>\n",
       "      <td>12922</td>\n",
       "    </tr>\n",
       "    <tr>\n",
       "      <th>search_page</th>\n",
       "      <td>6483</td>\n",
       "      <td>6252</td>\n",
       "      <td>6335</td>\n",
       "      <td>6717</td>\n",
       "      <td>6406</td>\n",
       "      <td>6545</td>\n",
       "      <td>6462</td>\n",
       "    </tr>\n",
       "    <tr>\n",
       "      <th>payment_page</th>\n",
       "      <td>869</td>\n",
       "      <td>853</td>\n",
       "      <td>838</td>\n",
       "      <td>899</td>\n",
       "      <td>871</td>\n",
       "      <td>845</td>\n",
       "      <td>855</td>\n",
       "    </tr>\n",
       "    <tr>\n",
       "      <th>payment_confirmation_page</th>\n",
       "      <td>77</td>\n",
       "      <td>69</td>\n",
       "      <td>54</td>\n",
       "      <td>66</td>\n",
       "      <td>54</td>\n",
       "      <td>70</td>\n",
       "      <td>62</td>\n",
       "    </tr>\n",
       "  </tbody>\n",
       "</table>\n",
       "</div>"
      ],
      "text/plain": [
       "                           Monday  Tuesday  Wednesday  Thursday  Friday  \\\n",
       "weekday                         0        1          2         3       4   \n",
       "home_page                   12955    12697      12831     13444   12750   \n",
       "search_page                  6483     6252       6335      6717    6406   \n",
       "payment_page                  869      853        838       899     871   \n",
       "payment_confirmation_page      77       69         54        66      54   \n",
       "\n",
       "                           Saturday  Sunday  \n",
       "weekday                           5       6  \n",
       "home_page                     12801   12922  \n",
       "search_page                    6545    6462  \n",
       "payment_page                    845     855  \n",
       "payment_confirmation_page        70      62  "
      ]
     },
     "execution_count": 625,
     "metadata": {},
     "output_type": "execute_result"
    }
   ],
   "source": [
    "week"
   ]
  },
  {
   "cell_type": "code",
   "execution_count": 626,
   "metadata": {
    "collapsed": false
   },
   "outputs": [
    {
     "data": {
      "image/png": "[encoded data removed]",
      "text/plain": [
       "<matplotlib.figure.Figure at 0x19635ebd0>"
      ]
     },
     "metadata": {},
     "output_type": "display_data"
    }
   ],
   "source": [
    "#Investigating the payment_confirmation page since it is hard to see with the scale above\n",
    "e = week[4:].plot(kind='bar', figsize = (14,9))\n",
    "plt.title('Payment Confirmation Page Visits - by day of the week', size = 18)\n",
    "plt.ylabel('# of users', size=16)\n",
    "e.xaxis.set_visible(False)\n",
    "plt.show()"
   ]
  },
  {
   "cell_type": "markdown",
   "metadata": {},
   "source": [
    "## 6) Calculations"
   ]
  },
  {
   "cell_type": "code",
   "execution_count": 576,
   "metadata": {
    "collapsed": false
   },
   "outputs": [
    {
     "data": {
      "text/plain": [
       "'Percent of converted users is 0.5 %'"
      ]
     },
     "execution_count": 576,
     "metadata": {},
     "output_type": "execute_result"
    }
   ],
   "source": [
    "# total number of converted users\n",
    "\"Percent of converted users is %s %%\" % ((alldata['payment_confirmation_page'].sum() / alldata['home_page'].sum())*100)"
   ]
  },
  {
   "cell_type": "code",
   "execution_count": 582,
   "metadata": {
    "collapsed": false
   },
   "outputs": [
    {
     "data": {
      "text/plain": [
       "'Percent of users that go on to search page from home page  is 50.0 %'"
      ]
     },
     "execution_count": 582,
     "metadata": {},
     "output_type": "execute_result"
    }
   ],
   "source": [
    "\"Percent of users that go on to search page from home page  is %s %%\" % ((alldata['search_page'].sum() / \n",
    "                                                                          alldata['home_page'].sum())*100)"
   ]
  },
  {
   "cell_type": "code",
   "execution_count": 583,
   "metadata": {
    "collapsed": false
   },
   "outputs": [
    {
     "data": {
      "text/plain": [
       "'Percent of users that go on to payment page from search page  is 13.3407079646 %'"
      ]
     },
     "execution_count": 583,
     "metadata": {},
     "output_type": "execute_result"
    }
   ],
   "source": [
    "\"Percent of users that go on to payment page from search page  is %s %%\" % ((alldata['payment_page'].sum() / \n",
    "                                                                          alldata['search_page'].sum())*100)"
   ]
  },
  {
   "cell_type": "code",
   "execution_count": 585,
   "metadata": {
    "collapsed": false
   },
   "outputs": [
    {
     "data": {
      "text/plain": [
       "'Percent of users that go on to payment confirmation page from payment page  is 7.49585406302 %'"
      ]
     },
     "execution_count": 585,
     "metadata": {},
     "output_type": "execute_result"
    }
   ],
   "source": [
    "\"Percent of users that go on to payment confirmation page from payment page  is %s %%\" % ((\n",
    "        alldata['payment_confirmation_page'].sum() /alldata['payment_page'].sum())*100)"
   ]
  },
  {
   "cell_type": "code",
   "execution_count": 591,
   "metadata": {
    "collapsed": false
   },
   "outputs": [
    {
     "data": {
      "text/plain": [
       "'Percent of users that land on the homepage using a Desktop 66.592920354 %'"
      ]
     },
     "execution_count": 591,
     "metadata": {},
     "output_type": "execute_result"
    }
   ],
   "source": [
    "\"Percent of users that land on the homepage using a Desktop %s %%\" % ((desk.Desktop[0]/alldata['home_page'].sum())*100)"
   ]
  },
  {
   "cell_type": "code",
   "execution_count": 592,
   "metadata": {
    "collapsed": false
   },
   "outputs": [
    {
     "data": {
      "text/plain": [
       "'Percent of users that land on the homepage using a Desktop 66.592920354 %'"
      ]
     },
     "execution_count": 592,
     "metadata": {},
     "output_type": "execute_result"
    }
   ],
   "source": [
    "\"Percent of users that land on the homepage using a Desktop %s %%\" % ((desk.Desktop[1]/alldata['search_page'].sum())*100)"
   ]
  },
  {
   "cell_type": "code",
   "execution_count": 598,
   "metadata": {
    "collapsed": false
   },
   "outputs": [
    {
     "data": {
      "text/plain": [
       "'Percent of users that land on the payment page using a Desktop 49.9170812604 %'"
      ]
     },
     "execution_count": 598,
     "metadata": {},
     "output_type": "execute_result"
    }
   ],
   "source": [
    "\"Percent of users that land on the payment page using a Desktop %s %%\" % ((desk.Desktop[2]/alldata['payment_page'].sum())*100)"
   ]
  },
  {
   "cell_type": "code",
   "execution_count": 600,
   "metadata": {
    "collapsed": false
   },
   "outputs": [
    {
     "data": {
      "text/plain": [
       "'Percent of users that land on the payment page using a Desktop 33.185840708 %'"
      ]
     },
     "execution_count": 600,
     "metadata": {},
     "output_type": "execute_result"
    }
   ],
   "source": [
    "\"Percent of users that land on the payment page using a Desktop %s %%\" % ((\n",
    "        desk.Desktop[3]/alldata['payment_confirmation_page'].sum())*100)"
   ]
  },
  {
   "cell_type": "code",
   "execution_count": 610,
   "metadata": {
    "collapsed": false
   },
   "outputs": [
    {
     "name": "stdout",
     "output_type": "stream",
     "text": [
      "There were 27241 total users that landed on the search page in Jan and Feb compared to 17959 users in March and \n",
      "April.\n"
     ]
    }
   ],
   "source": [
    "print '''There were %s total users that landed on the search page in Jan and Feb compared to %s users in March and \n",
    "April.''' % ((month.January[2]+month.February[2]), (month.March[2]+month.April[2]))"
   ]
  },
  {
   "cell_type": "code",
   "execution_count": 611,
   "metadata": {
    "collapsed": false
   },
   "outputs": [
    {
     "name": "stdout",
     "output_type": "stream",
     "text": [
      "There were 4802 total users that landed on the payment page in Jan and Feb compared to 1228 users in March and \n",
      "April.\n"
     ]
    }
   ],
   "source": [
    "print '''There were %s total users that landed on the payment page in Jan and Feb compared to %s users in March and \n",
    "April.''' % ((month.January[3]+month.February[3]), (month.March[3]+month.April[3]))"
   ]
  },
  {
   "cell_type": "code",
   "execution_count": 613,
   "metadata": {
    "collapsed": false
   },
   "outputs": [
    {
     "name": "stdout",
     "output_type": "stream",
     "text": [
      "There were 362 total users that landed on the payment confirmation page in Jan and Feb compared to 90 users\n",
      "in March and April.\n"
     ]
    }
   ],
   "source": [
    "print '''There were %s total users that landed on the payment confirmation page in Jan and Feb compared to %s users\n",
    "in March and April.''' % ((month.January[4]+month.February[4]), (month.March[4]+month.April[4]))"
   ]
  },
  {
   "cell_type": "code",
   "execution_count": 601,
   "metadata": {
    "collapsed": false
   },
   "outputs": [
    {
     "data": {
      "text/html": [
       "<div>\n",
       "<table border=\"1\" class=\"dataframe\">\n",
       "  <thead>\n",
       "    <tr style=\"text-align: right;\">\n",
       "      <th></th>\n",
       "      <th>January</th>\n",
       "      <th>February</th>\n",
       "      <th>March</th>\n",
       "      <th>April</th>\n",
       "    </tr>\n",
       "  </thead>\n",
       "  <tbody>\n",
       "    <tr>\n",
       "      <th>month</th>\n",
       "      <td>1</td>\n",
       "      <td>2</td>\n",
       "      <td>3</td>\n",
       "      <td>4</td>\n",
       "    </tr>\n",
       "    <tr>\n",
       "      <th>home_page</th>\n",
       "      <td>22600</td>\n",
       "      <td>22600</td>\n",
       "      <td>22600</td>\n",
       "      <td>22600</td>\n",
       "    </tr>\n",
       "    <tr>\n",
       "      <th>search_page</th>\n",
       "      <td>13554</td>\n",
       "      <td>13687</td>\n",
       "      <td>8879</td>\n",
       "      <td>9080</td>\n",
       "    </tr>\n",
       "    <tr>\n",
       "      <th>payment_page</th>\n",
       "      <td>2390</td>\n",
       "      <td>2412</td>\n",
       "      <td>631</td>\n",
       "      <td>597</td>\n",
       "    </tr>\n",
       "    <tr>\n",
       "      <th>payment_confirmation_page</th>\n",
       "      <td>189</td>\n",
       "      <td>173</td>\n",
       "      <td>44</td>\n",
       "      <td>46</td>\n",
       "    </tr>\n",
       "  </tbody>\n",
       "</table>\n",
       "</div>"
      ],
      "text/plain": [
       "                           January  February  March  April\n",
       "month                            1         2      3      4\n",
       "home_page                    22600     22600  22600  22600\n",
       "search_page                  13554     13687   8879   9080\n",
       "payment_page                  2390      2412    631    597\n",
       "payment_confirmation_page      189       173     44     46"
      ]
     },
     "execution_count": 601,
     "metadata": {},
     "output_type": "execute_result"
    }
   ],
   "source": [
    "month.January[0]+month.February[0]+"
   ]
  },
  {
   "cell_type": "markdown",
   "metadata": {},
   "source": [
    "## 7) Conclusions and Insights"
   ]
  },
  {
   "cell_type": "markdown",
   "metadata": {
    "collapsed": true
   },
   "source": [
    "#### About half of users visit the Search Page. From there only about 13%  go on to the payment page with only 452 user ending in a purchase - or 0.5% of the original user base. \n",
    "\n",
    "#### Interestingly about 67% of users land on the home page or search page using a Desktop compared to a mobile.\n",
    "#### However Desktop and Mobile users landed on the payment page with similar frequency. Interestingly, more Mobile users ended with a purchase compared to Desktop users (66% of those that made a purchase were Mobile users.\n",
    "\n",
    "#### Since all data was from 2015, I was unable to compare if 2015 was worse in sales compared to other years. Likewise, since data was only available for the first 4 months of the year I could only make data comparisons of the first 4 months. Users that landed on the payment page and payment confirmation page about 4 times as often in January and February compared to March and April. \n",
    "\n",
    "#### Less users visited each stage of the funnel on the last 3 days of each month. This trend was more prominent on the payment page and payment confirmation pages for which the frequency of user visits was reduced by approximately half on the last 3 days of each month.\n",
    "\n",
    "### Some insights:\n",
    "### 1) There is a huge decrease from users that land of the search page compared to the payment page, suggesting that something about the search page does not lend itself to users wanting to purchase an item. Possibile reasons for this and avenues to pursue are bugs on the search page, correct/enticing description of items, improving the layout of the search page so its conducive to people clicking to the next page. \n",
    "### 2) Users reaching the payment and payment confirmation pages dropsoff towards the end of the month. Perhaps promotions could be offered at these times to boost sales. "
   ]
  },
  {
   "cell_type": "code",
   "execution_count": null,
   "metadata": {
    "collapsed": true
   },
   "outputs": [],
   "source": []
  }
 ],
 "metadata": {
  "kernelspec": {
   "display_name": "Python 2",
   "language": "python",
   "name": "python2"
  },
  "language_info": {
   "codemirror_mode": {
    "name": "ipython",
    "version": 2
   },
   "file_extension": ".py",
   "mimetype": "text/x-python",
   "name": "python",
   "nbconvert_exporter": "python",
   "pygments_lexer": "ipython2",
   "version": "2.7.12"
  }
 },
 "nbformat": 4,
 "nbformat_minor": 0
}
