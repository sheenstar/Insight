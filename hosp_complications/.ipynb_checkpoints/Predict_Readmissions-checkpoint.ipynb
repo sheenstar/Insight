{
 "cells": [
  {
   "cell_type": "code",
   "execution_count": 1,
   "metadata": {
    "collapsed": true
   },
   "outputs": [],
   "source": [
    "import numpy as np\n",
    "import pandas as pd\n",
    "import matplotlib\n",
    "import matplotlib.pyplot as plt\n",
    "\n",
    "%matplotlib inline"
   ]
  },
  {
   "cell_type": "code",
   "execution_count": 163,
   "metadata": {
    "collapsed": true
   },
   "outputs": [],
   "source": [
    "comp = pd.read_csv('Complications_-_Hospital.csv')\n",
    "death = pd.read_csv('Readmissions_and_Deaths.csv')"
   ]
  },
  {
   "cell_type": "code",
   "execution_count": 5,
   "metadata": {
    "collapsed": false
   },
   "outputs": [
    {
     "name": "stdout",
     "output_type": "stream",
     "text": [
      "<class 'pandas.core.frame.DataFrame'>\n",
      "Int64Index: 38456 entries, 6 to 67297\n",
      "Data columns (total 19 columns):\n",
      "Provider ID             38456 non-null int64\n",
      "Hospital Name           38456 non-null object\n",
      "Address                 38456 non-null object\n",
      "City                    38456 non-null object\n",
      "State                   38456 non-null object\n",
      "ZIP Code                38456 non-null int64\n",
      "County Name             38336 non-null object\n",
      "Phone Number            38456 non-null int64\n",
      "Measure Name            38456 non-null object\n",
      "Measure ID              38456 non-null object\n",
      "Compared to National    38456 non-null object\n",
      "Denominator             38456 non-null object\n",
      "Score                   38456 non-null object\n",
      "Lower Estimate          38456 non-null object\n",
      "Higher Estimate         38456 non-null object\n",
      "Footnote                14162 non-null object\n",
      "Measure Start Date      38456 non-null object\n",
      "Measure End Date        38456 non-null object\n",
      "Location                0 non-null float64\n",
      "dtypes: float64(1), int64(3), object(15)\n",
      "memory usage: 5.9+ MB\n"
     ]
    }
   ],
   "source": [
    "readm_only = death[death['Measure ID'].str.contains('READM')] #excluding mortality\n",
    "readm_only.info() #dataframe of readmissions only"
   ]
  },
  {
   "cell_type": "code",
   "execution_count": 6,
   "metadata": {
    "collapsed": true
   },
   "outputs": [],
   "source": [
    "abbot = readm_only[readm_only['Hospital Name'] == 'ABBOTT NORTHWESTERN HOSPITAL'] #just grabbing one example to graph"
   ]
  },
  {
   "cell_type": "code",
   "execution_count": 148,
   "metadata": {
    "collapsed": true
   },
   "outputs": [],
   "source": [
    "list_conditions = ['Heart Attack', 'Coronary Artery Bypass', 'COPD', 'Heart Failure', 'Hip/Knee Replacement',\n",
    "                          'General', 'Pneumonia', 'Stroke']"
   ]
  },
  {
   "cell_type": "code",
   "execution_count": 149,
   "metadata": {
    "collapsed": false
   },
   "outputs": [
    {
     "data": {
      "image/png": "[encoded data removed]",
      "text/plain": [
       "<matplotlib.figure.Figure at 0x11b6f3950>"
      ]
     },
     "metadata": {},
     "output_type": "display_data"
    }
   ],
   "source": [
    "fig = plt.figure(figsize=(8,6))\n",
    "ax = fig.add_subplot(111)\n",
    "wid = .3\n",
    "ind = ind = np.arange(len(abbot.Score))\n",
    "plt.bar(ind, abbot.Score)\n",
    "\n",
    "xTickMarks = [i for i in list_conditions]\n",
    "ax.set_xticks(ind)\n",
    "xtickNames = ax.set_xticklabels(xTickMarks, fontsize=8)\n",
    "ax.set_xlim(-wid,len(ind)+wid)\n",
    "plt.setp(xtickNames, rotation=45, fontsize=10)\n",
    "plt.ylabel('Readmission Score')\n",
    "plt.title('Abbott Northwestern Hospital')\n",
    "fig.tight_layout()\n",
    "fig.subplots_adjust(bottom=0.2)\n",
    "plt.show()"
   ]
  },
  {
   "cell_type": "code",
   "execution_count": 28,
   "metadata": {
    "collapsed": false
   },
   "outputs": [
    {
     "data": {
      "text/plain": [
       "38456"
      ]
     },
     "execution_count": 28,
     "metadata": {},
     "output_type": "execute_result"
    }
   ],
   "source": [
    "readm_only.Score.notnull().count()"
   ]
  },
  {
   "cell_type": "code",
   "execution_count": 104,
   "metadata": {
    "collapsed": false
   },
   "outputs": [
    {
     "data": {
      "text/plain": [
       "6    16.5\n",
       "Name: Score, dtype: object"
      ]
     },
     "execution_count": 104,
     "metadata": {},
     "output_type": "execute_result"
    }
   ],
   "source": [
    "readm_only.Score[:1] #Why is this an object and not a float - because of NaNs?"
   ]
  },
  {
   "cell_type": "code",
   "execution_count": 106,
   "metadata": {
    "collapsed": false
   },
   "outputs": [
    {
     "data": {
      "text/plain": [
       "array(['16.5', '15.1', '21.1', '21.4', '5.1', '15.4', '18.7', '12.7',\n",
       "       '16.7', 'Not Available', '18.0', '21.9', '5.7', '14.9', '16.4',\n",
       "       '13.4', '16.1', '15.2', '19.8', '20.6', '5.0', '17.9', '12.0',\n",
       "       '19.9', '16.6', '17.3', '11.3', '19.2', '23.1', '15.7', '16.0',\n",
       "       '17.7', '15.0', '19.6', '15.3', '23.4', '19.4', '12.8', '15.8',\n",
       "       '21.5', '14.7', '17.1', '12.4', '23.0', '22.4', '4.1', '15.9',\n",
       "       '18.3', '13.5', '21.3', '14.8', '18.1', '15.6', '19.5', '23.3',\n",
       "       '4.7', '18.6', '13.8', '14.0', '17.2', '19.0', '4.9', '16.9',\n",
       "       '13.0', '16.8', '12.6', '23.2', '5.9', '12.1', '21.6', '16.3',\n",
       "       '23.7', '20.1', '21.7', '16.2', '22.8', '4.6', '12.5', '3.9',\n",
       "       '20.3', '24.0', '13.7', '4.8', '12.3', '19.7', '21.0', '6.7',\n",
       "       '13.1', '20.8', '22.2', '11.2', '14.2', '22.3', '17.5', '20.0',\n",
       "       '22.5', '4.3', '20.4', '19.1', '14.6', '13.3', '17.8', '22.6',\n",
       "       '14.1', '18.8', '20.7', '20.9', '20.2', '6.2', '22.9', '13.2',\n",
       "       '5.5', '15.5', '21.8', '14.3', '20.5', '22.0', '10.5', '4.5',\n",
       "       '14.4', '5.2', '22.1', '18.9', '23.6', '17.6', '12.2', '12.9',\n",
       "       '21.2', '18.4', '17.0', '19.3', '17.4', '18.2', '22.7', '5.4',\n",
       "       '4.2', '10.0', '4.4', '4.0', '11.7', '23.8', '5.3', '11.6', '10.8',\n",
       "       '9.8', '24.6', '3.7', '13.6', '11.5', '14.5', '24.8', '13.9',\n",
       "       '11.4', '3.8', '24.4', '23.9', '10.9', '11.8', '3.6', '11.0',\n",
       "       '11.9', '23.5', '24.7', '26.2', '18.5', '24.3', '25.2', '26.1',\n",
       "       '24.2', '24.5', '24.9', '3.3', '10.7', '25.3', '6.1', '10.6', '3.4',\n",
       "       '25.0', '24.1', '10.3', '2.9', '11.1', '5.6', '3.5', '26.3', '25.9',\n",
       "       '2.4', '9.6', '10.2', '3.2', '5.8', '6.3', '25.5', '3.0', '26.4',\n",
       "       '27.0', '25.4', '26.0', '25.7', '26.7', '6.5', '25.1', '6.4',\n",
       "       '10.4', '6.0', '25.8', '9.9', '10.1', '31.3', '6.6', '9.1', '26.9',\n",
       "       '26.8', '6.8', '25.6', '27.2', '27.4', '6.9', '7.8'], dtype=object)"
      ]
     },
     "execution_count": 106,
     "metadata": {},
     "output_type": "execute_result"
    }
   ],
   "source": [
    "readm_only.Score.unique() #'Not Available' is screwing this up "
   ]
  },
  {
   "cell_type": "code",
   "execution_count": 107,
   "metadata": {
    "collapsed": false
   },
   "outputs": [
    {
     "data": {
      "text/html": [
       "<div>\n",
       "<table border=\"1\" class=\"dataframe\">\n",
       "  <thead>\n",
       "    <tr style=\"text-align: right;\">\n",
       "      <th></th>\n",
       "      <th>Provider ID</th>\n",
       "      <th>Hospital Name</th>\n",
       "      <th>Address</th>\n",
       "      <th>City</th>\n",
       "      <th>State</th>\n",
       "      <th>ZIP Code</th>\n",
       "      <th>County Name</th>\n",
       "      <th>Phone Number</th>\n",
       "      <th>Measure Name</th>\n",
       "      <th>Measure ID</th>\n",
       "      <th>...</th>\n",
       "      <th>Denominator</th>\n",
       "      <th>Score</th>\n",
       "      <th>Lower Estimate</th>\n",
       "      <th>Higher Estimate</th>\n",
       "      <th>Footnote</th>\n",
       "      <th>Measure Start Date</th>\n",
       "      <th>Measure End Date</th>\n",
       "      <th>Location</th>\n",
       "      <th>h</th>\n",
       "      <th>Score_noNAN</th>\n",
       "    </tr>\n",
       "  </thead>\n",
       "  <tbody>\n",
       "  </tbody>\n",
       "</table>\n",
       "<p>0 rows × 21 columns</p>\n",
       "</div>"
      ],
      "text/plain": [
       "Empty DataFrame\n",
       "Columns: [Provider ID, Hospital Name, Address, City, State, ZIP Code, County Name, Phone Number, Measure Name, Measure ID, Compared to National, Denominator, Score, Lower Estimate, Higher Estimate, Footnote, Measure Start Date, Measure End Date, Location, h, Score_noNAN]\n",
       "Index: []\n",
       "\n",
       "[0 rows x 21 columns]"
      ]
     },
     "execution_count": 107,
     "metadata": {},
     "output_type": "execute_result"
    }
   ],
   "source": [
    "readm_only[readm_only['Score'] == 0] #There are no 0s in this dataframe"
   ]
  },
  {
   "cell_type": "code",
   "execution_count": 109,
   "metadata": {
    "collapsed": false
   },
   "outputs": [
    {
     "data": {
      "text/plain": [
       "6        16.5\n",
       "7        15.1\n",
       "8        21.1\n",
       "9        21.4\n",
       "10        5.1\n",
       "11       15.4\n",
       "12       18.7\n",
       "13       12.7\n",
       "20       16.7\n",
       "21        0.0\n",
       "22       18.0\n",
       "23       21.9\n",
       "24        5.7\n",
       "25       14.9\n",
       "26       16.4\n",
       "27       13.4\n",
       "34       16.1\n",
       "35       15.2\n",
       "36       19.8\n",
       "37       20.6\n",
       "38        5.0\n",
       "39       15.4\n",
       "40       17.9\n",
       "41       12.0\n",
       "48        0.0\n",
       "49        0.0\n",
       "50       19.9\n",
       "51       21.1\n",
       "52        0.0\n",
       "53       16.6\n",
       "         ... \n",
       "67250     0.0\n",
       "67251     0.0\n",
       "67252     0.0\n",
       "67253     0.0\n",
       "67254     0.0\n",
       "67255     0.0\n",
       "67262     0.0\n",
       "67263     0.0\n",
       "67264     0.0\n",
       "67265     0.0\n",
       "67266     0.0\n",
       "67267     0.0\n",
       "67268     0.0\n",
       "67269     0.0\n",
       "67276     0.0\n",
       "67277     0.0\n",
       "67278     0.0\n",
       "67279     0.0\n",
       "67280     0.0\n",
       "67281     0.0\n",
       "67282     0.0\n",
       "67283     0.0\n",
       "67290     0.0\n",
       "67291     0.0\n",
       "67292     0.0\n",
       "67293     0.0\n",
       "67294     0.0\n",
       "67295     0.0\n",
       "67296     0.0\n",
       "67297     0.0\n",
       "Name: Score, dtype: float64"
      ]
     },
     "execution_count": 109,
     "metadata": {},
     "output_type": "execute_result"
    }
   ],
   "source": [
    "z = readm_only['Score'].replace({'Not Available':'0'}) \n",
    "z.astype(float, inplace = True) #Now this is a float type"
   ]
  },
  {
   "cell_type": "code",
   "execution_count": 99,
   "metadata": {
    "collapsed": false
   },
   "outputs": [
    {
     "name": "stderr",
     "output_type": "stream",
     "text": [
      "/Users/sheena/anaconda/lib/python2.7/site-packages/ipykernel/__main__.py:2: SettingWithCopyWarning: \n",
      "A value is trying to be set on a copy of a slice from a DataFrame.\n",
      "Try using .loc[row_indexer,col_indexer] = value instead\n",
      "\n",
      "See the caveats in the documentation: http://pandas.pydata.org/pandas-docs/stable/indexing.html#indexing-view-versus-copy\n",
      "  from ipykernel import kernelapp as app\n"
     ]
    }
   ],
   "source": [
    "temp = readm_only['Score_noNAN'].astype(float)\n",
    "readm_only['Score_noNAN'] = temp"
   ]
  },
  {
   "cell_type": "code",
   "execution_count": 110,
   "metadata": {
    "collapsed": false
   },
   "outputs": [
    {
     "data": {
      "text/plain": [
       "Provider ID               int64\n",
       "Hospital Name            object\n",
       "Address                  object\n",
       "City                     object\n",
       "State                    object\n",
       "ZIP Code                  int64\n",
       "County Name              object\n",
       "Phone Number              int64\n",
       "Measure Name             object\n",
       "Measure ID               object\n",
       "Compared to National     object\n",
       "Denominator              object\n",
       "Score                    object\n",
       "Lower Estimate           object\n",
       "Higher Estimate          object\n",
       "Footnote                 object\n",
       "Measure Start Date       object\n",
       "Measure End Date         object\n",
       "Location                float64\n",
       "h                        object\n",
       "Score_noNAN             float64\n",
       "dtype: object"
      ]
     },
     "execution_count": 110,
     "metadata": {},
     "output_type": "execute_result"
    }
   ],
   "source": [
    "readm_only.dtypes"
   ]
  },
  {
   "cell_type": "code",
   "execution_count": 111,
   "metadata": {
    "collapsed": false
   },
   "outputs": [],
   "source": [
    "r = pd.pivot_table(readm_only, index='Hospital Name', columns = 'Measure ID', values = 'Score_noNAN')\n",
    "#r.index = r.index.droplevel()"
   ]
  },
  {
   "cell_type": "code",
   "execution_count": 122,
   "metadata": {
    "collapsed": false,
    "scrolled": false
   },
   "outputs": [
    {
     "data": {
      "text/html": [
       "<div>\n",
       "<table border=\"1\" class=\"dataframe\">\n",
       "  <thead>\n",
       "    <tr style=\"text-align: right;\">\n",
       "      <th>Measure ID</th>\n",
       "      <th>READM_30_AMI</th>\n",
       "      <th>READM_30_CABG</th>\n",
       "      <th>READM_30_COPD</th>\n",
       "      <th>READM_30_HF</th>\n",
       "      <th>READM_30_HIP_KNEE</th>\n",
       "      <th>READM_30_HOSP_WIDE</th>\n",
       "      <th>READM_30_PN</th>\n",
       "      <th>READM_30_STK</th>\n",
       "    </tr>\n",
       "    <tr>\n",
       "      <th>Hospital Name</th>\n",
       "      <th></th>\n",
       "      <th></th>\n",
       "      <th></th>\n",
       "      <th></th>\n",
       "      <th></th>\n",
       "      <th></th>\n",
       "      <th></th>\n",
       "      <th></th>\n",
       "    </tr>\n",
       "  </thead>\n",
       "  <tbody>\n",
       "    <tr>\n",
       "      <th>ABBEVILLE AREA MEDICAL CENTER</th>\n",
       "      <td>-1.0</td>\n",
       "      <td>-1.0</td>\n",
       "      <td>20.3</td>\n",
       "      <td>21.1</td>\n",
       "      <td>4.4</td>\n",
       "      <td>15.7</td>\n",
       "      <td>17.3</td>\n",
       "      <td>-1.0</td>\n",
       "    </tr>\n",
       "    <tr>\n",
       "      <th>ABBEVILLE GENERAL HOSPITAL</th>\n",
       "      <td>-1.0</td>\n",
       "      <td>-1.0</td>\n",
       "      <td>19.1</td>\n",
       "      <td>24.6</td>\n",
       "      <td>4.2</td>\n",
       "      <td>16.0</td>\n",
       "      <td>17.8</td>\n",
       "      <td>-1.0</td>\n",
       "    </tr>\n",
       "    <tr>\n",
       "      <th>ABBOTT NORTHWESTERN HOSPITAL</th>\n",
       "      <td>16.8</td>\n",
       "      <td>13.4</td>\n",
       "      <td>20.4</td>\n",
       "      <td>22.5</td>\n",
       "      <td>4.4</td>\n",
       "      <td>15.0</td>\n",
       "      <td>19.6</td>\n",
       "      <td>13.7</td>\n",
       "    </tr>\n",
       "    <tr>\n",
       "      <th>ABILENE REGIONAL MEDICAL CENTER</th>\n",
       "      <td>16.4</td>\n",
       "      <td>15.0</td>\n",
       "      <td>18.3</td>\n",
       "      <td>22.4</td>\n",
       "      <td>4.0</td>\n",
       "      <td>14.5</td>\n",
       "      <td>15.5</td>\n",
       "      <td>13.5</td>\n",
       "    </tr>\n",
       "    <tr>\n",
       "      <th>ABINGTON MEMORIAL HOSPITAL</th>\n",
       "      <td>18.1</td>\n",
       "      <td>13.9</td>\n",
       "      <td>22.8</td>\n",
       "      <td>21.6</td>\n",
       "      <td>5.4</td>\n",
       "      <td>16.2</td>\n",
       "      <td>16.2</td>\n",
       "      <td>12.3</td>\n",
       "    </tr>\n",
       "  </tbody>\n",
       "</table>\n",
       "</div>"
      ],
      "text/plain": [
       "Measure ID                       READM_30_AMI  READM_30_CABG  READM_30_COPD  \\\n",
       "Hospital Name                                                                 \n",
       "ABBEVILLE AREA MEDICAL CENTER            -1.0           -1.0           20.3   \n",
       "ABBEVILLE GENERAL HOSPITAL               -1.0           -1.0           19.1   \n",
       "ABBOTT NORTHWESTERN HOSPITAL             16.8           13.4           20.4   \n",
       "ABILENE REGIONAL MEDICAL CENTER          16.4           15.0           18.3   \n",
       "ABINGTON MEMORIAL HOSPITAL               18.1           13.9           22.8   \n",
       "\n",
       "Measure ID                       READM_30_HF  READM_30_HIP_KNEE  \\\n",
       "Hospital Name                                                     \n",
       "ABBEVILLE AREA MEDICAL CENTER           21.1                4.4   \n",
       "ABBEVILLE GENERAL HOSPITAL              24.6                4.2   \n",
       "ABBOTT NORTHWESTERN HOSPITAL            22.5                4.4   \n",
       "ABILENE REGIONAL MEDICAL CENTER         22.4                4.0   \n",
       "ABINGTON MEMORIAL HOSPITAL              21.6                5.4   \n",
       "\n",
       "Measure ID                       READM_30_HOSP_WIDE  READM_30_PN  READM_30_STK  \n",
       "Hospital Name                                                                   \n",
       "ABBEVILLE AREA MEDICAL CENTER                  15.7         17.3          -1.0  \n",
       "ABBEVILLE GENERAL HOSPITAL                     16.0         17.8          -1.0  \n",
       "ABBOTT NORTHWESTERN HOSPITAL                   15.0         19.6          13.7  \n",
       "ABILENE REGIONAL MEDICAL CENTER                14.5         15.5          13.5  \n",
       "ABINGTON MEMORIAL HOSPITAL                     16.2         16.2          12.3  "
      ]
     },
     "execution_count": 122,
     "metadata": {},
     "output_type": "execute_result"
    }
   ],
   "source": [
    "r.head()"
   ]
  },
  {
   "cell_type": "code",
   "execution_count": 124,
   "metadata": {
    "collapsed": false
   },
   "outputs": [
    {
     "name": "stdout",
     "output_type": "stream",
     "text": [
      "READM_30_AMI\n",
      "READM_30_CABG\n",
      "READM_30_COPD\n",
      "READM_30_HF\n",
      "READM_30_HIP_KNEE\n",
      "READM_30_HOSP_WIDE\n",
      "READM_30_PN\n",
      "READM_30_STK\n"
     ]
    }
   ],
   "source": [
    "for x in r.columns:\n",
    "    print x"
   ]
  },
  {
   "cell_type": "code",
   "execution_count": 142,
   "metadata": {
    "collapsed": false
   },
   "outputs": [],
   "source": [
    "lis = []\n",
    "for x in r.columns:\n",
    "    lis.append(r[x].mean(axis=0))"
   ]
  },
  {
   "cell_type": "code",
   "execution_count": 143,
   "metadata": {
    "collapsed": false
   },
   "outputs": [
    {
     "data": {
      "text/plain": [
       "[6.971633752893516,\n",
       " 2.242389529596563,\n",
       " 14.877977688905421,\n",
       " 16.362410430100898,\n",
       " 2.172767572958003,\n",
       " 14.15359705687829,\n",
       " 14.368494181960976,\n",
       " 6.314772419601533]"
      ]
     },
     "execution_count": 143,
     "metadata": {},
     "output_type": "execute_result"
    }
   ],
   "source": [
    "lis"
   ]
  },
  {
   "cell_type": "code",
   "execution_count": 152,
   "metadata": {
    "collapsed": false
   },
   "outputs": [
    {
     "data": {
      "image/png": "[encoded data removed]",
      "text/plain": [
       "<matplotlib.figure.Figure at 0x11afcf650>"
      ]
     },
     "metadata": {},
     "output_type": "display_data"
    }
   ],
   "source": [
    "fig = plt.figure(figsize=(8,6))\n",
    "ax = fig.add_subplot(111)\n",
    "\n",
    "leng = np.arange(len(lis))\n",
    "plt.bar(leng, lis)\n",
    "\n",
    "xTickMarks = [i for i in list_conditions]\n",
    "ax.set_xticks(leng)\n",
    "xtickNames = ax.set_xticklabels(xTickMarks, fontsize=8)\n",
    "ax.set_xlim(-wid,len(ind)+wid)\n",
    "plt.setp(xtickNames, rotation=45, fontsize=10)\n",
    "plt.ylabel('Ave Readmission Score')\n",
    "plt.title('Average Readmission Scores across hospitals')\n",
    "fig.tight_layout()\n",
    "fig.subplots_adjust(bottom=0.2)\n",
    "plt.show()\n",
    "plt.show()"
   ]
  },
  {
   "cell_type": "code",
   "execution_count": 164,
   "metadata": {
    "collapsed": false
   },
   "outputs": [
    {
     "data": {
      "text/html": [
       "<div>\n",
       "<table border=\"1\" class=\"dataframe\">\n",
       "  <thead>\n",
       "    <tr style=\"text-align: right;\">\n",
       "      <th></th>\n",
       "      <th>Provider ID</th>\n",
       "      <th>Hospital Name</th>\n",
       "      <th>Address</th>\n",
       "      <th>City</th>\n",
       "      <th>State</th>\n",
       "      <th>ZIP Code</th>\n",
       "      <th>County Name</th>\n",
       "      <th>Phone Number</th>\n",
       "      <th>Measure Name</th>\n",
       "      <th>Measure ID</th>\n",
       "      <th>Compared to National</th>\n",
       "      <th>Denominator</th>\n",
       "      <th>Score</th>\n",
       "      <th>Lower Estimate</th>\n",
       "      <th>Higher Estimate</th>\n",
       "      <th>Footnote</th>\n",
       "      <th>Measure Start Date</th>\n",
       "      <th>Measure End Date</th>\n",
       "      <th>Location</th>\n",
       "    </tr>\n",
       "  </thead>\n",
       "  <tbody>\n",
       "    <tr>\n",
       "      <th>0</th>\n",
       "      <td>10001</td>\n",
       "      <td>SOUTHEAST ALABAMA MEDICAL CENTER</td>\n",
       "      <td>1108 ROSS CLARK CIRCLE</td>\n",
       "      <td>DOTHAN</td>\n",
       "      <td>AL</td>\n",
       "      <td>36301</td>\n",
       "      <td>HOUSTON</td>\n",
       "      <td>3347938701</td>\n",
       "      <td>Rate of complications for hip/knee replacement...</td>\n",
       "      <td>COMP_HIP_KNEE</td>\n",
       "      <td>No Different than the National Rate</td>\n",
       "      <td>331</td>\n",
       "      <td>3.8</td>\n",
       "      <td>2.6</td>\n",
       "      <td>5.5</td>\n",
       "      <td>NaN</td>\n",
       "      <td>04/01/2012</td>\n",
       "      <td>03/31/2015</td>\n",
       "      <td>NaN</td>\n",
       "    </tr>\n",
       "    <tr>\n",
       "      <th>1</th>\n",
       "      <td>10001</td>\n",
       "      <td>SOUTHEAST ALABAMA MEDICAL CENTER</td>\n",
       "      <td>1108 ROSS CLARK CIRCLE</td>\n",
       "      <td>DOTHAN</td>\n",
       "      <td>AL</td>\n",
       "      <td>36301</td>\n",
       "      <td>HOUSTON</td>\n",
       "      <td>3347938701</td>\n",
       "      <td>Serious blood clots after surgery</td>\n",
       "      <td>PSI_12_POSTOP_PULMEMB_DVT</td>\n",
       "      <td>No Different than the National Rate</td>\n",
       "      <td>4549</td>\n",
       "      <td>3.32</td>\n",
       "      <td>1.25</td>\n",
       "      <td>5.38</td>\n",
       "      <td>NaN</td>\n",
       "      <td>07/01/2013</td>\n",
       "      <td>06/30/2015</td>\n",
       "      <td>NaN</td>\n",
       "    </tr>\n",
       "    <tr>\n",
       "      <th>2</th>\n",
       "      <td>10001</td>\n",
       "      <td>SOUTHEAST ALABAMA MEDICAL CENTER</td>\n",
       "      <td>1108 ROSS CLARK CIRCLE</td>\n",
       "      <td>DOTHAN</td>\n",
       "      <td>AL</td>\n",
       "      <td>36301</td>\n",
       "      <td>HOUSTON</td>\n",
       "      <td>3347938701</td>\n",
       "      <td>Blood stream infection after surgery</td>\n",
       "      <td>PSI_13_POST_SEPSIS</td>\n",
       "      <td>No Different than the National Rate</td>\n",
       "      <td>578</td>\n",
       "      <td>5.72</td>\n",
       "      <td>0.00</td>\n",
       "      <td>11.48</td>\n",
       "      <td>NaN</td>\n",
       "      <td>07/01/2013</td>\n",
       "      <td>06/30/2015</td>\n",
       "      <td>NaN</td>\n",
       "    </tr>\n",
       "    <tr>\n",
       "      <th>3</th>\n",
       "      <td>10001</td>\n",
       "      <td>SOUTHEAST ALABAMA MEDICAL CENTER</td>\n",
       "      <td>1108 ROSS CLARK CIRCLE</td>\n",
       "      <td>DOTHAN</td>\n",
       "      <td>AL</td>\n",
       "      <td>36301</td>\n",
       "      <td>HOUSTON</td>\n",
       "      <td>3347938701</td>\n",
       "      <td>A wound that splits open  after surgery on the...</td>\n",
       "      <td>PSI_14_POSTOP_DEHIS</td>\n",
       "      <td>No Different than the National Rate</td>\n",
       "      <td>445</td>\n",
       "      <td>2.72</td>\n",
       "      <td>0.65</td>\n",
       "      <td>4.79</td>\n",
       "      <td>NaN</td>\n",
       "      <td>07/01/2013</td>\n",
       "      <td>06/30/2015</td>\n",
       "      <td>NaN</td>\n",
       "    </tr>\n",
       "    <tr>\n",
       "      <th>4</th>\n",
       "      <td>10001</td>\n",
       "      <td>SOUTHEAST ALABAMA MEDICAL CENTER</td>\n",
       "      <td>1108 ROSS CLARK CIRCLE</td>\n",
       "      <td>DOTHAN</td>\n",
       "      <td>AL</td>\n",
       "      <td>36301</td>\n",
       "      <td>HOUSTON</td>\n",
       "      <td>3347938701</td>\n",
       "      <td>Accidental cuts and tears from medical treatment</td>\n",
       "      <td>PSI_15_ACC_LAC</td>\n",
       "      <td>No Different than the National Rate</td>\n",
       "      <td>16429</td>\n",
       "      <td>1.35</td>\n",
       "      <td>0.76</td>\n",
       "      <td>1.95</td>\n",
       "      <td>NaN</td>\n",
       "      <td>07/01/2013</td>\n",
       "      <td>06/30/2015</td>\n",
       "      <td>NaN</td>\n",
       "    </tr>\n",
       "  </tbody>\n",
       "</table>\n",
       "</div>"
      ],
      "text/plain": [
       "   Provider ID                     Hospital Name                 Address  \\\n",
       "0        10001  SOUTHEAST ALABAMA MEDICAL CENTER  1108 ROSS CLARK CIRCLE   \n",
       "1        10001  SOUTHEAST ALABAMA MEDICAL CENTER  1108 ROSS CLARK CIRCLE   \n",
       "2        10001  SOUTHEAST ALABAMA MEDICAL CENTER  1108 ROSS CLARK CIRCLE   \n",
       "3        10001  SOUTHEAST ALABAMA MEDICAL CENTER  1108 ROSS CLARK CIRCLE   \n",
       "4        10001  SOUTHEAST ALABAMA MEDICAL CENTER  1108 ROSS CLARK CIRCLE   \n",
       "\n",
       "     City State  ZIP Code County Name  Phone Number  \\\n",
       "0  DOTHAN    AL     36301     HOUSTON    3347938701   \n",
       "1  DOTHAN    AL     36301     HOUSTON    3347938701   \n",
       "2  DOTHAN    AL     36301     HOUSTON    3347938701   \n",
       "3  DOTHAN    AL     36301     HOUSTON    3347938701   \n",
       "4  DOTHAN    AL     36301     HOUSTON    3347938701   \n",
       "\n",
       "                                        Measure Name  \\\n",
       "0  Rate of complications for hip/knee replacement...   \n",
       "1                  Serious blood clots after surgery   \n",
       "2               Blood stream infection after surgery   \n",
       "3  A wound that splits open  after surgery on the...   \n",
       "4   Accidental cuts and tears from medical treatment   \n",
       "\n",
       "                  Measure ID                 Compared to National Denominator  \\\n",
       "0              COMP_HIP_KNEE  No Different than the National Rate         331   \n",
       "1  PSI_12_POSTOP_PULMEMB_DVT  No Different than the National Rate        4549   \n",
       "2         PSI_13_POST_SEPSIS  No Different than the National Rate         578   \n",
       "3        PSI_14_POSTOP_DEHIS  No Different than the National Rate         445   \n",
       "4             PSI_15_ACC_LAC  No Different than the National Rate       16429   \n",
       "\n",
       "  Score Lower Estimate Higher Estimate Footnote Measure Start Date  \\\n",
       "0   3.8            2.6             5.5      NaN         04/01/2012   \n",
       "1  3.32           1.25            5.38      NaN         07/01/2013   \n",
       "2  5.72           0.00           11.48      NaN         07/01/2013   \n",
       "3  2.72           0.65            4.79      NaN         07/01/2013   \n",
       "4  1.35           0.76            1.95      NaN         07/01/2013   \n",
       "\n",
       "  Measure End Date  Location  \n",
       "0       03/31/2015       NaN  \n",
       "1       06/30/2015       NaN  \n",
       "2       06/30/2015       NaN  \n",
       "3       06/30/2015       NaN  \n",
       "4       06/30/2015       NaN  "
      ]
     },
     "execution_count": 164,
     "metadata": {},
     "output_type": "execute_result"
    }
   ],
   "source": [
    "comp.head()"
   ]
  },
  {
   "cell_type": "code",
   "execution_count": 165,
   "metadata": {
    "collapsed": false
   },
   "outputs": [
    {
     "name": "stdout",
     "output_type": "stream",
     "text": [
      "<class 'pandas.core.frame.DataFrame'>\n",
      "RangeIndex: 52877 entries, 0 to 52876\n",
      "Data columns (total 19 columns):\n",
      "Provider ID             52877 non-null int64\n",
      "Hospital Name           52877 non-null object\n",
      "Address                 52877 non-null object\n",
      "City                    52877 non-null object\n",
      "State                   52877 non-null object\n",
      "ZIP Code                52877 non-null int64\n",
      "County Name             52712 non-null object\n",
      "Phone Number            52877 non-null int64\n",
      "Measure Name            52877 non-null object\n",
      "Measure ID              52877 non-null object\n",
      "Compared to National    52877 non-null object\n",
      "Denominator             52877 non-null object\n",
      "Score                   52877 non-null object\n",
      "Lower Estimate          52877 non-null object\n",
      "Higher Estimate         52877 non-null object\n",
      "Footnote                21804 non-null object\n",
      "Measure Start Date      52877 non-null object\n",
      "Measure End Date        52877 non-null object\n",
      "Location                0 non-null float64\n",
      "dtypes: float64(1), int64(3), object(15)\n",
      "memory usage: 7.7+ MB\n"
     ]
    }
   ],
   "source": [
    "comp.info() #Same problem here with the scores being objects and not floats"
   ]
  },
  {
   "cell_type": "code",
   "execution_count": 178,
   "metadata": {
    "collapsed": false
   },
   "outputs": [
    {
     "data": {
      "text/plain": [
       "0"
      ]
     },
     "execution_count": 178,
     "metadata": {},
     "output_type": "execute_result"
    }
   ],
   "source": [
    "len(comp[comp.Score == 0]) # No 0 values here, so I'm safe to assign Not Availables to 0 "
   ]
  },
  {
   "cell_type": "code",
   "execution_count": 179,
   "metadata": {
    "collapsed": false
   },
   "outputs": [],
   "source": [
    "comp['Score'].replace('Not Available', 0, inplace=True)"
   ]
  },
  {
   "cell_type": "code",
   "execution_count": 180,
   "metadata": {
    "collapsed": false
   },
   "outputs": [
    {
     "data": {
      "text/plain": [
       "Provider ID               int64\n",
       "Hospital Name            object\n",
       "Address                  object\n",
       "City                     object\n",
       "State                    object\n",
       "ZIP Code                  int64\n",
       "County Name              object\n",
       "Phone Number              int64\n",
       "Measure Name             object\n",
       "Measure ID               object\n",
       "Compared to National     object\n",
       "Denominator              object\n",
       "Score                   float64\n",
       "Lower Estimate           object\n",
       "Higher Estimate          object\n",
       "Footnote                 object\n",
       "Measure Start Date       object\n",
       "Measure End Date         object\n",
       "Location                float64\n",
       "dtype: object"
      ]
     },
     "execution_count": 180,
     "metadata": {},
     "output_type": "execute_result"
    }
   ],
   "source": [
    "comp['Score'] = comp['Score'].astype(float)\n",
    "comp.dtypes"
   ]
  },
  {
   "cell_type": "code",
   "execution_count": 189,
   "metadata": {
    "collapsed": false
   },
   "outputs": [
    {
     "name": "stdout",
     "output_type": "stream",
     "text": [
      "'Not Available' appears 21801 times and 0 appears 0 times for Lower Estimates.\n"
     ]
    }
   ],
   "source": [
    "na = len(comp[comp['Lower Estimate'] == 'Not Available'])\n",
    "zero = len(comp[comp['Lower Estimate'] == 0]) \n",
    "print \"'Not Available' appears %s times and 0 appears %s times for Lower Estimates.\" % (na, zero)\n",
    "#Not Availables exists here too but there are no 0s"
   ]
  },
  {
   "cell_type": "code",
   "execution_count": 190,
   "metadata": {
    "collapsed": false
   },
   "outputs": [
    {
     "name": "stdout",
     "output_type": "stream",
     "text": [
      "'Not Available' appears 21801 times and 0 appears 0 times for Higher Estimates.\n"
     ]
    }
   ],
   "source": [
    "na_h = len(comp[comp['Higher Estimate'] == 'Not Available'])\n",
    "zero_h = len(comp[comp['Higher Estimate'] == 0]) \n",
    "print \"'Not Available' appears %s times and 0 appears %s times for Higher Estimates.\" % (na_h, zero_h)\n",
    "#Not Availables exists here too but there are no 0s"
   ]
  },
  {
   "cell_type": "code",
   "execution_count": 193,
   "metadata": {
    "collapsed": false
   },
   "outputs": [],
   "source": [
    "comp['Lower Estimate'] = comp['Lower Estimate'].replace('Not Available', 0)"
   ]
  },
  {
   "cell_type": "code",
   "execution_count": 195,
   "metadata": {
    "collapsed": false
   },
   "outputs": [
    {
     "data": {
      "text/plain": [
       "dtype('float64')"
      ]
     },
     "execution_count": 195,
     "metadata": {},
     "output_type": "execute_result"
    }
   ],
   "source": [
    "comp['Lower Estimate'] = comp['Lower Estimate'].astype(float)\n",
    "comp['Lower Estimate'].dtype"
   ]
  },
  {
   "cell_type": "code",
   "execution_count": 197,
   "metadata": {
    "collapsed": false
   },
   "outputs": [
    {
     "data": {
      "text/plain": [
       "dtype('float64')"
      ]
     },
     "execution_count": 197,
     "metadata": {},
     "output_type": "execute_result"
    }
   ],
   "source": [
    "comp['Higher Estimate'] = comp['Higher Estimate'].replace('Not Available', 0)\n",
    "comp['Higher Estimate'] = comp['Higher Estimate'].astype(float)\n",
    "comp['Higher Estimate'].dtype"
   ]
  },
  {
   "cell_type": "code",
   "execution_count": 200,
   "metadata": {
    "collapsed": false
   },
   "outputs": [
    {
     "data": {
      "text/html": [
       "<div>\n",
       "<table border=\"1\" class=\"dataframe\">\n",
       "  <thead>\n",
       "    <tr style=\"text-align: right;\">\n",
       "      <th>Measure ID</th>\n",
       "      <th>COMP_HIP_KNEE</th>\n",
       "      <th>PSI_12_POSTOP_PULMEMB_DVT</th>\n",
       "      <th>PSI_13_POST_SEPSIS</th>\n",
       "      <th>PSI_14_POSTOP_DEHIS</th>\n",
       "      <th>PSI_15_ACC_LAC</th>\n",
       "      <th>PSI_3_ULCER</th>\n",
       "      <th>PSI_4_SURG_COMP</th>\n",
       "      <th>PSI_6_IAT_PTX</th>\n",
       "      <th>PSI_7_CVCBI</th>\n",
       "      <th>PSI_8_POST_HIP</th>\n",
       "      <th>PSI_90_SAFETY</th>\n",
       "    </tr>\n",
       "    <tr>\n",
       "      <th>Hospital Name</th>\n",
       "      <th></th>\n",
       "      <th></th>\n",
       "      <th></th>\n",
       "      <th></th>\n",
       "      <th></th>\n",
       "      <th></th>\n",
       "      <th></th>\n",
       "      <th></th>\n",
       "      <th></th>\n",
       "      <th></th>\n",
       "      <th></th>\n",
       "    </tr>\n",
       "  </thead>\n",
       "  <tbody>\n",
       "    <tr>\n",
       "      <th>ABBEVILLE AREA MEDICAL CENTER</th>\n",
       "      <td>3.0</td>\n",
       "      <td>0.00</td>\n",
       "      <td>0.00</td>\n",
       "      <td>0.00</td>\n",
       "      <td>0.00</td>\n",
       "      <td>0.00</td>\n",
       "      <td>0.00</td>\n",
       "      <td>0.00</td>\n",
       "      <td>0.00</td>\n",
       "      <td>0.00</td>\n",
       "      <td>0.00</td>\n",
       "    </tr>\n",
       "    <tr>\n",
       "      <th>ABBEVILLE GENERAL HOSPITAL</th>\n",
       "      <td>3.0</td>\n",
       "      <td>6.51</td>\n",
       "      <td>0.00</td>\n",
       "      <td>2.28</td>\n",
       "      <td>1.69</td>\n",
       "      <td>0.35</td>\n",
       "      <td>0.00</td>\n",
       "      <td>0.39</td>\n",
       "      <td>0.16</td>\n",
       "      <td>0.06</td>\n",
       "      <td>1.02</td>\n",
       "    </tr>\n",
       "    <tr>\n",
       "      <th>ABBOTT NORTHWESTERN HOSPITAL</th>\n",
       "      <td>2.5</td>\n",
       "      <td>5.23</td>\n",
       "      <td>11.26</td>\n",
       "      <td>1.78</td>\n",
       "      <td>1.96</td>\n",
       "      <td>0.10</td>\n",
       "      <td>124.52</td>\n",
       "      <td>0.32</td>\n",
       "      <td>0.11</td>\n",
       "      <td>0.06</td>\n",
       "      <td>0.97</td>\n",
       "    </tr>\n",
       "    <tr>\n",
       "      <th>ABILENE REGIONAL MEDICAL CENTER</th>\n",
       "      <td>3.1</td>\n",
       "      <td>3.43</td>\n",
       "      <td>6.36</td>\n",
       "      <td>2.21</td>\n",
       "      <td>1.17</td>\n",
       "      <td>0.16</td>\n",
       "      <td>138.47</td>\n",
       "      <td>0.40</td>\n",
       "      <td>0.12</td>\n",
       "      <td>0.06</td>\n",
       "      <td>0.67</td>\n",
       "    </tr>\n",
       "    <tr>\n",
       "      <th>ABINGTON MEMORIAL HOSPITAL</th>\n",
       "      <td>4.3</td>\n",
       "      <td>8.47</td>\n",
       "      <td>10.30</td>\n",
       "      <td>3.59</td>\n",
       "      <td>1.29</td>\n",
       "      <td>1.09</td>\n",
       "      <td>153.64</td>\n",
       "      <td>0.32</td>\n",
       "      <td>0.13</td>\n",
       "      <td>0.06</td>\n",
       "      <td>1.10</td>\n",
       "    </tr>\n",
       "  </tbody>\n",
       "</table>\n",
       "</div>"
      ],
      "text/plain": [
       "Measure ID                       COMP_HIP_KNEE  PSI_12_POSTOP_PULMEMB_DVT  \\\n",
       "Hospital Name                                                               \n",
       "ABBEVILLE AREA MEDICAL CENTER              3.0                       0.00   \n",
       "ABBEVILLE GENERAL HOSPITAL                 3.0                       6.51   \n",
       "ABBOTT NORTHWESTERN HOSPITAL               2.5                       5.23   \n",
       "ABILENE REGIONAL MEDICAL CENTER            3.1                       3.43   \n",
       "ABINGTON MEMORIAL HOSPITAL                 4.3                       8.47   \n",
       "\n",
       "Measure ID                       PSI_13_POST_SEPSIS  PSI_14_POSTOP_DEHIS  \\\n",
       "Hospital Name                                                              \n",
       "ABBEVILLE AREA MEDICAL CENTER                  0.00                 0.00   \n",
       "ABBEVILLE GENERAL HOSPITAL                     0.00                 2.28   \n",
       "ABBOTT NORTHWESTERN HOSPITAL                  11.26                 1.78   \n",
       "ABILENE REGIONAL MEDICAL CENTER                6.36                 2.21   \n",
       "ABINGTON MEMORIAL HOSPITAL                    10.30                 3.59   \n",
       "\n",
       "Measure ID                       PSI_15_ACC_LAC  PSI_3_ULCER  PSI_4_SURG_COMP  \\\n",
       "Hospital Name                                                                   \n",
       "ABBEVILLE AREA MEDICAL CENTER              0.00         0.00             0.00   \n",
       "ABBEVILLE GENERAL HOSPITAL                 1.69         0.35             0.00   \n",
       "ABBOTT NORTHWESTERN HOSPITAL               1.96         0.10           124.52   \n",
       "ABILENE REGIONAL MEDICAL CENTER            1.17         0.16           138.47   \n",
       "ABINGTON MEMORIAL HOSPITAL                 1.29         1.09           153.64   \n",
       "\n",
       "Measure ID                       PSI_6_IAT_PTX  PSI_7_CVCBI  PSI_8_POST_HIP  \\\n",
       "Hospital Name                                                                 \n",
       "ABBEVILLE AREA MEDICAL CENTER             0.00         0.00            0.00   \n",
       "ABBEVILLE GENERAL HOSPITAL                0.39         0.16            0.06   \n",
       "ABBOTT NORTHWESTERN HOSPITAL              0.32         0.11            0.06   \n",
       "ABILENE REGIONAL MEDICAL CENTER           0.40         0.12            0.06   \n",
       "ABINGTON MEMORIAL HOSPITAL                0.32         0.13            0.06   \n",
       "\n",
       "Measure ID                       PSI_90_SAFETY  \n",
       "Hospital Name                                   \n",
       "ABBEVILLE AREA MEDICAL CENTER             0.00  \n",
       "ABBEVILLE GENERAL HOSPITAL                1.02  \n",
       "ABBOTT NORTHWESTERN HOSPITAL              0.97  \n",
       "ABILENE REGIONAL MEDICAL CENTER           0.67  \n",
       "ABINGTON MEMORIAL HOSPITAL                1.10  "
      ]
     },
     "execution_count": 200,
     "metadata": {},
     "output_type": "execute_result"
    }
   ],
   "source": [
    "comp_score = pd.pivot_table(comp, index='Hospital Name', columns = 'Measure ID', values = 'Score')\n",
    "comp_score.head()"
   ]
  },
  {
   "cell_type": "code",
   "execution_count": 202,
   "metadata": {
    "collapsed": false
   },
   "outputs": [
    {
     "data": {
      "text/html": [
       "<div>\n",
       "<table border=\"1\" class=\"dataframe\">\n",
       "  <thead>\n",
       "    <tr style=\"text-align: right;\">\n",
       "      <th>Measure ID</th>\n",
       "      <th>COMP_HIP_KNEE</th>\n",
       "      <th>PSI_12_POSTOP_PULMEMB_DVT</th>\n",
       "      <th>PSI_13_POST_SEPSIS</th>\n",
       "      <th>PSI_14_POSTOP_DEHIS</th>\n",
       "      <th>PSI_15_ACC_LAC</th>\n",
       "      <th>PSI_3_ULCER</th>\n",
       "      <th>PSI_4_SURG_COMP</th>\n",
       "      <th>PSI_6_IAT_PTX</th>\n",
       "      <th>PSI_7_CVCBI</th>\n",
       "      <th>PSI_8_POST_HIP</th>\n",
       "      <th>PSI_90_SAFETY</th>\n",
       "    </tr>\n",
       "    <tr>\n",
       "      <th>Hospital Name</th>\n",
       "      <th></th>\n",
       "      <th></th>\n",
       "      <th></th>\n",
       "      <th></th>\n",
       "      <th></th>\n",
       "      <th></th>\n",
       "      <th></th>\n",
       "      <th></th>\n",
       "      <th></th>\n",
       "      <th></th>\n",
       "      <th></th>\n",
       "    </tr>\n",
       "  </thead>\n",
       "  <tbody>\n",
       "    <tr>\n",
       "      <th>ABBEVILLE AREA MEDICAL CENTER</th>\n",
       "      <td>1.7</td>\n",
       "      <td>0.00</td>\n",
       "      <td>0.00</td>\n",
       "      <td>0.00</td>\n",
       "      <td>0.00</td>\n",
       "      <td>0.00</td>\n",
       "      <td>0.00</td>\n",
       "      <td>0.00</td>\n",
       "      <td>0.0</td>\n",
       "      <td>0.00</td>\n",
       "      <td>0.00</td>\n",
       "    </tr>\n",
       "    <tr>\n",
       "      <th>ABBEVILLE GENERAL HOSPITAL</th>\n",
       "      <td>1.7</td>\n",
       "      <td>1.67</td>\n",
       "      <td>0.00</td>\n",
       "      <td>0.00</td>\n",
       "      <td>0.37</td>\n",
       "      <td>0.00</td>\n",
       "      <td>0.00</td>\n",
       "      <td>0.07</td>\n",
       "      <td>0.0</td>\n",
       "      <td>0.06</td>\n",
       "      <td>0.57</td>\n",
       "    </tr>\n",
       "    <tr>\n",
       "      <th>ABBOTT NORTHWESTERN HOSPITAL</th>\n",
       "      <td>1.7</td>\n",
       "      <td>3.47</td>\n",
       "      <td>6.15</td>\n",
       "      <td>0.00</td>\n",
       "      <td>1.42</td>\n",
       "      <td>0.00</td>\n",
       "      <td>92.72</td>\n",
       "      <td>0.09</td>\n",
       "      <td>0.0</td>\n",
       "      <td>0.06</td>\n",
       "      <td>0.78</td>\n",
       "    </tr>\n",
       "    <tr>\n",
       "      <th>ABILENE REGIONAL MEDICAL CENTER</th>\n",
       "      <td>2.0</td>\n",
       "      <td>0.17</td>\n",
       "      <td>0.00</td>\n",
       "      <td>0.00</td>\n",
       "      <td>0.27</td>\n",
       "      <td>0.00</td>\n",
       "      <td>92.17</td>\n",
       "      <td>0.12</td>\n",
       "      <td>0.0</td>\n",
       "      <td>0.06</td>\n",
       "      <td>0.36</td>\n",
       "    </tr>\n",
       "    <tr>\n",
       "      <th>ABINGTON MEMORIAL HOSPITAL</th>\n",
       "      <td>3.3</td>\n",
       "      <td>6.51</td>\n",
       "      <td>4.19</td>\n",
       "      <td>1.53</td>\n",
       "      <td>0.75</td>\n",
       "      <td>0.51</td>\n",
       "      <td>117.66</td>\n",
       "      <td>0.09</td>\n",
       "      <td>0.0</td>\n",
       "      <td>0.06</td>\n",
       "      <td>0.91</td>\n",
       "    </tr>\n",
       "  </tbody>\n",
       "</table>\n",
       "</div>"
      ],
      "text/plain": [
       "Measure ID                       COMP_HIP_KNEE  PSI_12_POSTOP_PULMEMB_DVT  \\\n",
       "Hospital Name                                                               \n",
       "ABBEVILLE AREA MEDICAL CENTER              1.7                       0.00   \n",
       "ABBEVILLE GENERAL HOSPITAL                 1.7                       1.67   \n",
       "ABBOTT NORTHWESTERN HOSPITAL               1.7                       3.47   \n",
       "ABILENE REGIONAL MEDICAL CENTER            2.0                       0.17   \n",
       "ABINGTON MEMORIAL HOSPITAL                 3.3                       6.51   \n",
       "\n",
       "Measure ID                       PSI_13_POST_SEPSIS  PSI_14_POSTOP_DEHIS  \\\n",
       "Hospital Name                                                              \n",
       "ABBEVILLE AREA MEDICAL CENTER                  0.00                 0.00   \n",
       "ABBEVILLE GENERAL HOSPITAL                     0.00                 0.00   \n",
       "ABBOTT NORTHWESTERN HOSPITAL                   6.15                 0.00   \n",
       "ABILENE REGIONAL MEDICAL CENTER                0.00                 0.00   \n",
       "ABINGTON MEMORIAL HOSPITAL                     4.19                 1.53   \n",
       "\n",
       "Measure ID                       PSI_15_ACC_LAC  PSI_3_ULCER  PSI_4_SURG_COMP  \\\n",
       "Hospital Name                                                                   \n",
       "ABBEVILLE AREA MEDICAL CENTER              0.00         0.00             0.00   \n",
       "ABBEVILLE GENERAL HOSPITAL                 0.37         0.00             0.00   \n",
       "ABBOTT NORTHWESTERN HOSPITAL               1.42         0.00            92.72   \n",
       "ABILENE REGIONAL MEDICAL CENTER            0.27         0.00            92.17   \n",
       "ABINGTON MEMORIAL HOSPITAL                 0.75         0.51           117.66   \n",
       "\n",
       "Measure ID                       PSI_6_IAT_PTX  PSI_7_CVCBI  PSI_8_POST_HIP  \\\n",
       "Hospital Name                                                                 \n",
       "ABBEVILLE AREA MEDICAL CENTER             0.00          0.0            0.00   \n",
       "ABBEVILLE GENERAL HOSPITAL                0.07          0.0            0.06   \n",
       "ABBOTT NORTHWESTERN HOSPITAL              0.09          0.0            0.06   \n",
       "ABILENE REGIONAL MEDICAL CENTER           0.12          0.0            0.06   \n",
       "ABINGTON MEMORIAL HOSPITAL                0.09          0.0            0.06   \n",
       "\n",
       "Measure ID                       PSI_90_SAFETY  \n",
       "Hospital Name                                   \n",
       "ABBEVILLE AREA MEDICAL CENTER             0.00  \n",
       "ABBEVILLE GENERAL HOSPITAL                0.57  \n",
       "ABBOTT NORTHWESTERN HOSPITAL              0.78  \n",
       "ABILENE REGIONAL MEDICAL CENTER           0.36  \n",
       "ABINGTON MEMORIAL HOSPITAL                0.91  "
      ]
     },
     "execution_count": 202,
     "metadata": {},
     "output_type": "execute_result"
    }
   ],
   "source": [
    "comp_low = pd.pivot_table(comp, index='Hospital Name', columns = 'Measure ID', values = 'Lower Estimate')\n",
    "comp_low.head()"
   ]
  },
  {
   "cell_type": "code",
   "execution_count": 225,
   "metadata": {
    "collapsed": false
   },
   "outputs": [],
   "source": [
    "col_list_low = list(comp_low.columns.values)"
   ]
  },
  {
   "cell_type": "code",
   "execution_count": 226,
   "metadata": {
    "collapsed": false
   },
   "outputs": [
    {
     "name": "stdout",
     "output_type": "stream",
     "text": [
      "['COMP_HIP_KNEE_low_low', 'PSI_12_POSTOP_PULMEMB_DVT_low_low', 'PSI_13_POST_SEPSIS_low_low', 'PSI_14_POSTOP_DEHIS_low_low', 'PSI_15_ACC_LAC_low_low', 'PSI_3_ULCER_low_low', 'PSI_4_SURG_COMP_low_low', 'PSI_6_IAT_PTX_low_low', 'PSI_7_CVCBI_low_low', 'PSI_8_POST_HIP_low_low', 'PSI_90_SAFETY_low_low']\n"
     ]
    }
   ],
   "source": [
    "low_cols = []\n",
    "for i in col_list_low:\n",
    "    low_cols.append(i + '_low')\n",
    "print low_cols"
   ]
  },
  {
   "cell_type": "code",
   "execution_count": 217,
   "metadata": {
    "collapsed": false
   },
   "outputs": [],
   "source": [
    "comp_low.columns = low_cols"
   ]
  },
  {
   "cell_type": "code",
   "execution_count": 218,
   "metadata": {
    "collapsed": false
   },
   "outputs": [
    {
     "data": {
      "text/html": [
       "<div>\n",
       "<table border=\"1\" class=\"dataframe\">\n",
       "  <thead>\n",
       "    <tr style=\"text-align: right;\">\n",
       "      <th></th>\n",
       "      <th>COMP_HIP_KNEE_low</th>\n",
       "      <th>PSI_12_POSTOP_PULMEMB_DVT_low</th>\n",
       "      <th>PSI_13_POST_SEPSIS_low</th>\n",
       "      <th>PSI_14_POSTOP_DEHIS_low</th>\n",
       "      <th>PSI_15_ACC_LAC_low</th>\n",
       "      <th>PSI_3_ULCER_low</th>\n",
       "      <th>PSI_4_SURG_COMP_low</th>\n",
       "      <th>PSI_6_IAT_PTX_low</th>\n",
       "      <th>PSI_7_CVCBI_low</th>\n",
       "      <th>PSI_8_POST_HIP_low</th>\n",
       "      <th>PSI_90_SAFETY_low</th>\n",
       "    </tr>\n",
       "    <tr>\n",
       "      <th>Hospital Name</th>\n",
       "      <th></th>\n",
       "      <th></th>\n",
       "      <th></th>\n",
       "      <th></th>\n",
       "      <th></th>\n",
       "      <th></th>\n",
       "      <th></th>\n",
       "      <th></th>\n",
       "      <th></th>\n",
       "      <th></th>\n",
       "      <th></th>\n",
       "    </tr>\n",
       "  </thead>\n",
       "  <tbody>\n",
       "    <tr>\n",
       "      <th>ABBEVILLE AREA MEDICAL CENTER</th>\n",
       "      <td>1.7</td>\n",
       "      <td>0.00</td>\n",
       "      <td>0.00</td>\n",
       "      <td>0.00</td>\n",
       "      <td>0.00</td>\n",
       "      <td>0.00</td>\n",
       "      <td>0.00</td>\n",
       "      <td>0.00</td>\n",
       "      <td>0.0</td>\n",
       "      <td>0.00</td>\n",
       "      <td>0.00</td>\n",
       "    </tr>\n",
       "    <tr>\n",
       "      <th>ABBEVILLE GENERAL HOSPITAL</th>\n",
       "      <td>1.7</td>\n",
       "      <td>1.67</td>\n",
       "      <td>0.00</td>\n",
       "      <td>0.00</td>\n",
       "      <td>0.37</td>\n",
       "      <td>0.00</td>\n",
       "      <td>0.00</td>\n",
       "      <td>0.07</td>\n",
       "      <td>0.0</td>\n",
       "      <td>0.06</td>\n",
       "      <td>0.57</td>\n",
       "    </tr>\n",
       "    <tr>\n",
       "      <th>ABBOTT NORTHWESTERN HOSPITAL</th>\n",
       "      <td>1.7</td>\n",
       "      <td>3.47</td>\n",
       "      <td>6.15</td>\n",
       "      <td>0.00</td>\n",
       "      <td>1.42</td>\n",
       "      <td>0.00</td>\n",
       "      <td>92.72</td>\n",
       "      <td>0.09</td>\n",
       "      <td>0.0</td>\n",
       "      <td>0.06</td>\n",
       "      <td>0.78</td>\n",
       "    </tr>\n",
       "    <tr>\n",
       "      <th>ABILENE REGIONAL MEDICAL CENTER</th>\n",
       "      <td>2.0</td>\n",
       "      <td>0.17</td>\n",
       "      <td>0.00</td>\n",
       "      <td>0.00</td>\n",
       "      <td>0.27</td>\n",
       "      <td>0.00</td>\n",
       "      <td>92.17</td>\n",
       "      <td>0.12</td>\n",
       "      <td>0.0</td>\n",
       "      <td>0.06</td>\n",
       "      <td>0.36</td>\n",
       "    </tr>\n",
       "    <tr>\n",
       "      <th>ABINGTON MEMORIAL HOSPITAL</th>\n",
       "      <td>3.3</td>\n",
       "      <td>6.51</td>\n",
       "      <td>4.19</td>\n",
       "      <td>1.53</td>\n",
       "      <td>0.75</td>\n",
       "      <td>0.51</td>\n",
       "      <td>117.66</td>\n",
       "      <td>0.09</td>\n",
       "      <td>0.0</td>\n",
       "      <td>0.06</td>\n",
       "      <td>0.91</td>\n",
       "    </tr>\n",
       "  </tbody>\n",
       "</table>\n",
       "</div>"
      ],
      "text/plain": [
       "                                 COMP_HIP_KNEE_low  \\\n",
       "Hospital Name                                        \n",
       "ABBEVILLE AREA MEDICAL CENTER                  1.7   \n",
       "ABBEVILLE GENERAL HOSPITAL                     1.7   \n",
       "ABBOTT NORTHWESTERN HOSPITAL                   1.7   \n",
       "ABILENE REGIONAL MEDICAL CENTER                2.0   \n",
       "ABINGTON MEMORIAL HOSPITAL                     3.3   \n",
       "\n",
       "                                 PSI_12_POSTOP_PULMEMB_DVT_low  \\\n",
       "Hospital Name                                                    \n",
       "ABBEVILLE AREA MEDICAL CENTER                             0.00   \n",
       "ABBEVILLE GENERAL HOSPITAL                                1.67   \n",
       "ABBOTT NORTHWESTERN HOSPITAL                              3.47   \n",
       "ABILENE REGIONAL MEDICAL CENTER                           0.17   \n",
       "ABINGTON MEMORIAL HOSPITAL                                6.51   \n",
       "\n",
       "                                 PSI_13_POST_SEPSIS_low  \\\n",
       "Hospital Name                                             \n",
       "ABBEVILLE AREA MEDICAL CENTER                      0.00   \n",
       "ABBEVILLE GENERAL HOSPITAL                         0.00   \n",
       "ABBOTT NORTHWESTERN HOSPITAL                       6.15   \n",
       "ABILENE REGIONAL MEDICAL CENTER                    0.00   \n",
       "ABINGTON MEMORIAL HOSPITAL                         4.19   \n",
       "\n",
       "                                 PSI_14_POSTOP_DEHIS_low  PSI_15_ACC_LAC_low  \\\n",
       "Hospital Name                                                                  \n",
       "ABBEVILLE AREA MEDICAL CENTER                       0.00                0.00   \n",
       "ABBEVILLE GENERAL HOSPITAL                          0.00                0.37   \n",
       "ABBOTT NORTHWESTERN HOSPITAL                        0.00                1.42   \n",
       "ABILENE REGIONAL MEDICAL CENTER                     0.00                0.27   \n",
       "ABINGTON MEMORIAL HOSPITAL                          1.53                0.75   \n",
       "\n",
       "                                 PSI_3_ULCER_low  PSI_4_SURG_COMP_low  \\\n",
       "Hospital Name                                                           \n",
       "ABBEVILLE AREA MEDICAL CENTER               0.00                 0.00   \n",
       "ABBEVILLE GENERAL HOSPITAL                  0.00                 0.00   \n",
       "ABBOTT NORTHWESTERN HOSPITAL                0.00                92.72   \n",
       "ABILENE REGIONAL MEDICAL CENTER             0.00                92.17   \n",
       "ABINGTON MEMORIAL HOSPITAL                  0.51               117.66   \n",
       "\n",
       "                                 PSI_6_IAT_PTX_low  PSI_7_CVCBI_low  \\\n",
       "Hospital Name                                                         \n",
       "ABBEVILLE AREA MEDICAL CENTER                 0.00              0.0   \n",
       "ABBEVILLE GENERAL HOSPITAL                    0.07              0.0   \n",
       "ABBOTT NORTHWESTERN HOSPITAL                  0.09              0.0   \n",
       "ABILENE REGIONAL MEDICAL CENTER               0.12              0.0   \n",
       "ABINGTON MEMORIAL HOSPITAL                    0.09              0.0   \n",
       "\n",
       "                                 PSI_8_POST_HIP_low  PSI_90_SAFETY_low  \n",
       "Hospital Name                                                           \n",
       "ABBEVILLE AREA MEDICAL CENTER                  0.00               0.00  \n",
       "ABBEVILLE GENERAL HOSPITAL                     0.06               0.57  \n",
       "ABBOTT NORTHWESTERN HOSPITAL                   0.06               0.78  \n",
       "ABILENE REGIONAL MEDICAL CENTER                0.06               0.36  \n",
       "ABINGTON MEMORIAL HOSPITAL                     0.06               0.91  "
      ]
     },
     "execution_count": 218,
     "metadata": {},
     "output_type": "execute_result"
    }
   ],
   "source": [
    "comp_low.head()"
   ]
  },
  {
   "cell_type": "code",
   "execution_count": 223,
   "metadata": {
    "collapsed": true
   },
   "outputs": [],
   "source": [
    "comp_high = pd.pivot_table(comp, index='Hospital Name', columns = 'Measure ID', values = 'Higher Estimate')"
   ]
  },
  {
   "cell_type": "code",
   "execution_count": 227,
   "metadata": {
    "collapsed": true
   },
   "outputs": [],
   "source": [
    "col_list_high = list(comp_high.columns.values)"
   ]
  },
  {
   "cell_type": "code",
   "execution_count": 228,
   "metadata": {
    "collapsed": false
   },
   "outputs": [
    {
     "name": "stdout",
     "output_type": "stream",
     "text": [
      "['COMP_HIP_KNEE_high', 'PSI_12_POSTOP_PULMEMB_DVT_high', 'PSI_13_POST_SEPSIS_high', 'PSI_14_POSTOP_DEHIS_high', 'PSI_15_ACC_LAC_high', 'PSI_3_ULCER_high', 'PSI_4_SURG_COMP_high', 'PSI_6_IAT_PTX_high', 'PSI_7_CVCBI_high', 'PSI_8_POST_HIP_high', 'PSI_90_SAFETY_high']\n"
     ]
    }
   ],
   "source": [
    "high_cols = []\n",
    "for i in col_list_high:\n",
    "    high_cols.append(i + '_high')\n",
    "print high_cols"
   ]
  },
  {
   "cell_type": "code",
   "execution_count": 231,
   "metadata": {
    "collapsed": true
   },
   "outputs": [],
   "source": [
    "comp_high.columns = high_cols"
   ]
  },
  {
   "cell_type": "code",
   "execution_count": 232,
   "metadata": {
    "collapsed": false
   },
   "outputs": [
    {
     "data": {
      "text/html": [
       "<div>\n",
       "<table border=\"1\" class=\"dataframe\">\n",
       "  <thead>\n",
       "    <tr style=\"text-align: right;\">\n",
       "      <th></th>\n",
       "      <th>COMP_HIP_KNEE_high</th>\n",
       "      <th>PSI_12_POSTOP_PULMEMB_DVT_high</th>\n",
       "      <th>PSI_13_POST_SEPSIS_high</th>\n",
       "      <th>PSI_14_POSTOP_DEHIS_high</th>\n",
       "      <th>PSI_15_ACC_LAC_high</th>\n",
       "      <th>PSI_3_ULCER_high</th>\n",
       "      <th>PSI_4_SURG_COMP_high</th>\n",
       "      <th>PSI_6_IAT_PTX_high</th>\n",
       "      <th>PSI_7_CVCBI_high</th>\n",
       "      <th>PSI_8_POST_HIP_high</th>\n",
       "      <th>PSI_90_SAFETY_high</th>\n",
       "    </tr>\n",
       "    <tr>\n",
       "      <th>Hospital Name</th>\n",
       "      <th></th>\n",
       "      <th></th>\n",
       "      <th></th>\n",
       "      <th></th>\n",
       "      <th></th>\n",
       "      <th></th>\n",
       "      <th></th>\n",
       "      <th></th>\n",
       "      <th></th>\n",
       "      <th></th>\n",
       "      <th></th>\n",
       "    </tr>\n",
       "  </thead>\n",
       "  <tbody>\n",
       "    <tr>\n",
       "      <th>ABBEVILLE AREA MEDICAL CENTER</th>\n",
       "      <td>5.2</td>\n",
       "      <td>0.00</td>\n",
       "      <td>0.00</td>\n",
       "      <td>0.00</td>\n",
       "      <td>0.00</td>\n",
       "      <td>0.00</td>\n",
       "      <td>0.00</td>\n",
       "      <td>0.00</td>\n",
       "      <td>0.00</td>\n",
       "      <td>0.00</td>\n",
       "      <td>0.00</td>\n",
       "    </tr>\n",
       "    <tr>\n",
       "      <th>ABBEVILLE GENERAL HOSPITAL</th>\n",
       "      <td>5.0</td>\n",
       "      <td>11.34</td>\n",
       "      <td>0.00</td>\n",
       "      <td>4.60</td>\n",
       "      <td>3.02</td>\n",
       "      <td>1.65</td>\n",
       "      <td>0.00</td>\n",
       "      <td>0.71</td>\n",
       "      <td>0.47</td>\n",
       "      <td>0.06</td>\n",
       "      <td>1.47</td>\n",
       "    </tr>\n",
       "    <tr>\n",
       "      <th>ABBOTT NORTHWESTERN HOSPITAL</th>\n",
       "      <td>3.7</td>\n",
       "      <td>6.99</td>\n",
       "      <td>16.38</td>\n",
       "      <td>3.83</td>\n",
       "      <td>2.49</td>\n",
       "      <td>0.80</td>\n",
       "      <td>156.32</td>\n",
       "      <td>0.54</td>\n",
       "      <td>0.32</td>\n",
       "      <td>0.06</td>\n",
       "      <td>1.16</td>\n",
       "    </tr>\n",
       "    <tr>\n",
       "      <th>ABILENE REGIONAL MEDICAL CENTER</th>\n",
       "      <td>4.7</td>\n",
       "      <td>6.68</td>\n",
       "      <td>12.96</td>\n",
       "      <td>4.49</td>\n",
       "      <td>2.08</td>\n",
       "      <td>1.04</td>\n",
       "      <td>184.78</td>\n",
       "      <td>0.68</td>\n",
       "      <td>0.40</td>\n",
       "      <td>0.06</td>\n",
       "      <td>0.98</td>\n",
       "    </tr>\n",
       "    <tr>\n",
       "      <th>ABINGTON MEMORIAL HOSPITAL</th>\n",
       "      <td>5.7</td>\n",
       "      <td>10.43</td>\n",
       "      <td>16.42</td>\n",
       "      <td>5.65</td>\n",
       "      <td>1.83</td>\n",
       "      <td>1.67</td>\n",
       "      <td>189.61</td>\n",
       "      <td>0.54</td>\n",
       "      <td>0.35</td>\n",
       "      <td>0.06</td>\n",
       "      <td>1.30</td>\n",
       "    </tr>\n",
       "  </tbody>\n",
       "</table>\n",
       "</div>"
      ],
      "text/plain": [
       "                                 COMP_HIP_KNEE_high  \\\n",
       "Hospital Name                                         \n",
       "ABBEVILLE AREA MEDICAL CENTER                   5.2   \n",
       "ABBEVILLE GENERAL HOSPITAL                      5.0   \n",
       "ABBOTT NORTHWESTERN HOSPITAL                    3.7   \n",
       "ABILENE REGIONAL MEDICAL CENTER                 4.7   \n",
       "ABINGTON MEMORIAL HOSPITAL                      5.7   \n",
       "\n",
       "                                 PSI_12_POSTOP_PULMEMB_DVT_high  \\\n",
       "Hospital Name                                                     \n",
       "ABBEVILLE AREA MEDICAL CENTER                              0.00   \n",
       "ABBEVILLE GENERAL HOSPITAL                                11.34   \n",
       "ABBOTT NORTHWESTERN HOSPITAL                               6.99   \n",
       "ABILENE REGIONAL MEDICAL CENTER                            6.68   \n",
       "ABINGTON MEMORIAL HOSPITAL                                10.43   \n",
       "\n",
       "                                 PSI_13_POST_SEPSIS_high  \\\n",
       "Hospital Name                                              \n",
       "ABBEVILLE AREA MEDICAL CENTER                       0.00   \n",
       "ABBEVILLE GENERAL HOSPITAL                          0.00   \n",
       "ABBOTT NORTHWESTERN HOSPITAL                       16.38   \n",
       "ABILENE REGIONAL MEDICAL CENTER                    12.96   \n",
       "ABINGTON MEMORIAL HOSPITAL                         16.42   \n",
       "\n",
       "                                 PSI_14_POSTOP_DEHIS_high  \\\n",
       "Hospital Name                                               \n",
       "ABBEVILLE AREA MEDICAL CENTER                        0.00   \n",
       "ABBEVILLE GENERAL HOSPITAL                           4.60   \n",
       "ABBOTT NORTHWESTERN HOSPITAL                         3.83   \n",
       "ABILENE REGIONAL MEDICAL CENTER                      4.49   \n",
       "ABINGTON MEMORIAL HOSPITAL                           5.65   \n",
       "\n",
       "                                 PSI_15_ACC_LAC_high  PSI_3_ULCER_high  \\\n",
       "Hospital Name                                                            \n",
       "ABBEVILLE AREA MEDICAL CENTER                   0.00              0.00   \n",
       "ABBEVILLE GENERAL HOSPITAL                      3.02              1.65   \n",
       "ABBOTT NORTHWESTERN HOSPITAL                    2.49              0.80   \n",
       "ABILENE REGIONAL MEDICAL CENTER                 2.08              1.04   \n",
       "ABINGTON MEMORIAL HOSPITAL                      1.83              1.67   \n",
       "\n",
       "                                 PSI_4_SURG_COMP_high  PSI_6_IAT_PTX_high  \\\n",
       "Hospital Name                                                               \n",
       "ABBEVILLE AREA MEDICAL CENTER                    0.00                0.00   \n",
       "ABBEVILLE GENERAL HOSPITAL                       0.00                0.71   \n",
       "ABBOTT NORTHWESTERN HOSPITAL                   156.32                0.54   \n",
       "ABILENE REGIONAL MEDICAL CENTER                184.78                0.68   \n",
       "ABINGTON MEMORIAL HOSPITAL                     189.61                0.54   \n",
       "\n",
       "                                 PSI_7_CVCBI_high  PSI_8_POST_HIP_high  \\\n",
       "Hospital Name                                                            \n",
       "ABBEVILLE AREA MEDICAL CENTER                0.00                 0.00   \n",
       "ABBEVILLE GENERAL HOSPITAL                   0.47                 0.06   \n",
       "ABBOTT NORTHWESTERN HOSPITAL                 0.32                 0.06   \n",
       "ABILENE REGIONAL MEDICAL CENTER              0.40                 0.06   \n",
       "ABINGTON MEMORIAL HOSPITAL                   0.35                 0.06   \n",
       "\n",
       "                                 PSI_90_SAFETY_high  \n",
       "Hospital Name                                        \n",
       "ABBEVILLE AREA MEDICAL CENTER                  0.00  \n",
       "ABBEVILLE GENERAL HOSPITAL                     1.47  \n",
       "ABBOTT NORTHWESTERN HOSPITAL                   1.16  \n",
       "ABILENE REGIONAL MEDICAL CENTER                0.98  \n",
       "ABINGTON MEMORIAL HOSPITAL                     1.30  "
      ]
     },
     "execution_count": 232,
     "metadata": {},
     "output_type": "execute_result"
    }
   ],
   "source": [
    "comp_high.head()"
   ]
  },
  {
   "cell_type": "code",
   "execution_count": 235,
   "metadata": {
    "collapsed": true
   },
   "outputs": [],
   "source": [
    "comp_result = pd.concat([comp_score, comp_low, comp_high], axis=1)"
   ]
  },
  {
   "cell_type": "code",
   "execution_count": 236,
   "metadata": {
    "collapsed": false
   },
   "outputs": [
    {
     "name": "stdout",
     "output_type": "stream",
     "text": [
      "<class 'pandas.core.frame.DataFrame'>\n",
      "Index: 4608 entries, ABBEVILLE AREA MEDICAL CENTER to ZUNI COMPREHENSIVE COMMUNITY HEALTH CENTER\n",
      "Data columns (total 33 columns):\n",
      "COMP_HIP_KNEE                     4608 non-null float64\n",
      "PSI_12_POSTOP_PULMEMB_DVT         4608 non-null float64\n",
      "PSI_13_POST_SEPSIS                4608 non-null float64\n",
      "PSI_14_POSTOP_DEHIS               4608 non-null float64\n",
      "PSI_15_ACC_LAC                    4608 non-null float64\n",
      "PSI_3_ULCER                       4608 non-null float64\n",
      "PSI_4_SURG_COMP                   4608 non-null float64\n",
      "PSI_6_IAT_PTX                     4608 non-null float64\n",
      "PSI_7_CVCBI                       4608 non-null float64\n",
      "PSI_8_POST_HIP                    4608 non-null float64\n",
      "PSI_90_SAFETY                     4608 non-null float64\n",
      "COMP_HIP_KNEE_low                 4608 non-null float64\n",
      "PSI_12_POSTOP_PULMEMB_DVT_low     4608 non-null float64\n",
      "PSI_13_POST_SEPSIS_low            4608 non-null float64\n",
      "PSI_14_POSTOP_DEHIS_low           4608 non-null float64\n",
      "PSI_15_ACC_LAC_low                4608 non-null float64\n",
      "PSI_3_ULCER_low                   4608 non-null float64\n",
      "PSI_4_SURG_COMP_low               4608 non-null float64\n",
      "PSI_6_IAT_PTX_low                 4608 non-null float64\n",
      "PSI_7_CVCBI_low                   4608 non-null float64\n",
      "PSI_8_POST_HIP_low                4608 non-null float64\n",
      "PSI_90_SAFETY_low                 4608 non-null float64\n",
      "COMP_HIP_KNEE_high                4608 non-null float64\n",
      "PSI_12_POSTOP_PULMEMB_DVT_high    4608 non-null float64\n",
      "PSI_13_POST_SEPSIS_high           4608 non-null float64\n",
      "PSI_14_POSTOP_DEHIS_high          4608 non-null float64\n",
      "PSI_15_ACC_LAC_high               4608 non-null float64\n",
      "PSI_3_ULCER_high                  4608 non-null float64\n",
      "PSI_4_SURG_COMP_high              4608 non-null float64\n",
      "PSI_6_IAT_PTX_high                4608 non-null float64\n",
      "PSI_7_CVCBI_high                  4608 non-null float64\n",
      "PSI_8_POST_HIP_high               4608 non-null float64\n",
      "PSI_90_SAFETY_high                4608 non-null float64\n",
      "dtypes: float64(33)\n",
      "memory usage: 1.2+ MB\n"
     ]
    }
   ],
   "source": [
    "comp_result.info()"
   ]
  },
  {
   "cell_type": "code",
   "execution_count": null,
   "metadata": {
    "collapsed": true
   },
   "outputs": [],
   "source": []
  }
 ],
 "metadata": {
  "kernelspec": {
   "display_name": "Python 2",
   "language": "python",
   "name": "python2"
  },
  "language_info": {
   "codemirror_mode": {
    "name": "ipython",
    "version": 2
   },
   "file_extension": ".py",
   "mimetype": "text/x-python",
   "name": "python",
   "nbconvert_exporter": "python",
   "pygments_lexer": "ipython2",
   "version": "2.7.12"
  }
 },
 "nbformat": 4,
 "nbformat_minor": 0
}
