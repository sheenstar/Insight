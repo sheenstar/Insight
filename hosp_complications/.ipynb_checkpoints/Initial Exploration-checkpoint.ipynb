{
 "cells": [
  {
   "cell_type": "code",
   "execution_count": 24,
   "metadata": {
    "collapsed": true
   },
   "outputs": [],
   "source": [
    "import numpy as np\n",
    "import pandas as pd\n",
    "import matplotlib\n",
    "import matplotlib.pyplot as plt\n",
    "\n",
    "%matplotlib inline\n"
   ]
  },
  {
   "cell_type": "code",
   "execution_count": 2,
   "metadata": {
    "collapsed": true
   },
   "outputs": [],
   "source": [
    "comp = pd.read_csv('Complications_-_Hospital.csv')"
   ]
  },
  {
   "cell_type": "code",
   "execution_count": 3,
   "metadata": {
    "collapsed": false
   },
   "outputs": [],
   "source": [
    "death = pd.read_csv('Readmissions_and_Deaths.csv')"
   ]
  },
  {
   "cell_type": "code",
   "execution_count": 7,
   "metadata": {
    "collapsed": false
   },
   "outputs": [
    {
     "data": {
      "text/plain": [
       "array(['SOUTHEAST ALABAMA MEDICAL CENTER', 'MARSHALL MEDICAL CENTER SOUTH',\n",
       "       'ELIZA COFFEE MEMORIAL HOSPITAL', ...,\n",
       "       'CONTINUECARE HOSPITAL AT MEDICAL CENTER ODESSA',\n",
       "       'CUMBERLAND SURGICAL HOSPITAL', 'WEIMAR MEDICAL CENTER'], dtype=object)"
      ]
     },
     "execution_count": 7,
     "metadata": {},
     "output_type": "execute_result"
    }
   ],
   "source": [
    "comp['Hospital Name'].unique()."
   ]
  },
  {
   "cell_type": "code",
   "execution_count": 8,
   "metadata": {
    "collapsed": false
   },
   "outputs": [
    {
     "ename": "KeyboardInterrupt",
     "evalue": "",
     "output_type": "error",
     "traceback": [
      "\u001b[0;31m---------------------------------------------------------------------------\u001b[0m",
      "\u001b[0;31mKeyboardInterrupt\u001b[0m                         Traceback (most recent call last)",
      "\u001b[0;32m<ipython-input-8-f207420b4a95>\u001b[0m in \u001b[0;36m<module>\u001b[0;34m()\u001b[0m\n\u001b[1;32m      1\u001b[0m \u001b[0mlist\u001b[0m \u001b[0;34m=\u001b[0m \u001b[0;34m[\u001b[0m\u001b[0;34m]\u001b[0m\u001b[0;34m\u001b[0m\u001b[0m\n\u001b[1;32m      2\u001b[0m \u001b[0;32mfor\u001b[0m \u001b[0mx\u001b[0m \u001b[0;32min\u001b[0m \u001b[0mcomp\u001b[0m\u001b[0;34m[\u001b[0m\u001b[0;34m'Hospital Name'\u001b[0m\u001b[0;34m]\u001b[0m\u001b[0;34m:\u001b[0m\u001b[0;34m\u001b[0m\u001b[0m\n\u001b[0;32m----> 3\u001b[0;31m     \u001b[0;32mfor\u001b[0m \u001b[0my\u001b[0m \u001b[0;32min\u001b[0m \u001b[0mdeath\u001b[0m\u001b[0;34m[\u001b[0m\u001b[0;34m'Hospital Name'\u001b[0m\u001b[0;34m]\u001b[0m\u001b[0;34m:\u001b[0m\u001b[0;34m\u001b[0m\u001b[0m\n\u001b[0m\u001b[1;32m      4\u001b[0m         \u001b[0;32mif\u001b[0m \u001b[0mx\u001b[0m \u001b[0;34m==\u001b[0m \u001b[0my\u001b[0m\u001b[0;34m:\u001b[0m\u001b[0;34m\u001b[0m\u001b[0m\n\u001b[1;32m      5\u001b[0m             \u001b[0mlist\u001b[0m\u001b[0;34m.\u001b[0m\u001b[0mappend\u001b[0m\u001b[0;34m(\u001b[0m\u001b[0mx\u001b[0m\u001b[0;34m)\u001b[0m\u001b[0;34m\u001b[0m\u001b[0m\n",
      "\u001b[0;31mKeyboardInterrupt\u001b[0m: "
     ]
    }
   ],
   "source": [
    "list = []\n",
    "for x in comp['Hospital Name']:\n",
    "    for y in death['Hospital Name']:\n",
    "        if x == y:\n",
    "            list.append(x)"
   ]
  },
  {
   "cell_type": "code",
   "execution_count": 11,
   "metadata": {
    "collapsed": false
   },
   "outputs": [],
   "source": [
    "z = set(comp['Hospital Name']) & set(death['Hospital Name']) #intersection "
   ]
  },
  {
   "cell_type": "code",
   "execution_count": 13,
   "metadata": {
    "collapsed": false
   },
   "outputs": [
    {
     "data": {
      "text/plain": [
       "4608"
      ]
     },
     "execution_count": 13,
     "metadata": {},
     "output_type": "execute_result"
    }
   ],
   "source": [
    "len(z)"
   ]
  },
  {
   "cell_type": "code",
   "execution_count": 15,
   "metadata": {
    "collapsed": false
   },
   "outputs": [
    {
     "data": {
      "text/plain": [
       "4608"
      ]
     },
     "execution_count": 15,
     "metadata": {},
     "output_type": "execute_result"
    }
   ],
   "source": [
    "u = set(comp['Hospital Name']) | set(death['Hospital Name']) #union \n",
    "len(u)"
   ]
  },
  {
   "cell_type": "code",
   "execution_count": 16,
   "metadata": {
    "collapsed": false
   },
   "outputs": [
    {
     "name": "stdout",
     "output_type": "stream",
     "text": [
      "<class 'pandas.core.frame.DataFrame'>\n",
      "RangeIndex: 52877 entries, 0 to 52876\n",
      "Data columns (total 19 columns):\n",
      "Provider ID             52877 non-null int64\n",
      "Hospital Name           52877 non-null object\n",
      "Address                 52877 non-null object\n",
      "City                    52877 non-null object\n",
      "State                   52877 non-null object\n",
      "ZIP Code                52877 non-null int64\n",
      "County Name             52712 non-null object\n",
      "Phone Number            52877 non-null int64\n",
      "Measure Name            52877 non-null object\n",
      "Measure ID              52877 non-null object\n",
      "Compared to National    52877 non-null object\n",
      "Denominator             52877 non-null object\n",
      "Score                   52877 non-null object\n",
      "Lower Estimate          52877 non-null object\n",
      "Higher Estimate         52877 non-null object\n",
      "Footnote                21804 non-null object\n",
      "Measure Start Date      52877 non-null object\n",
      "Measure End Date        52877 non-null object\n",
      "Location                0 non-null float64\n",
      "dtypes: float64(1), int64(3), object(15)\n",
      "memory usage: 7.7+ MB\n"
     ]
    }
   ],
   "source": [
    "comp.info()"
   ]
  },
  {
   "cell_type": "code",
   "execution_count": 17,
   "metadata": {
    "collapsed": false
   },
   "outputs": [
    {
     "name": "stdout",
     "output_type": "stream",
     "text": [
      "<class 'pandas.core.frame.DataFrame'>\n",
      "RangeIndex: 67298 entries, 0 to 67297\n",
      "Data columns (total 19 columns):\n",
      "Provider ID             67298 non-null int64\n",
      "Hospital Name           67298 non-null object\n",
      "Address                 67298 non-null object\n",
      "City                    67298 non-null object\n",
      "State                   67298 non-null object\n",
      "ZIP Code                67298 non-null int64\n",
      "County Name             67088 non-null object\n",
      "Phone Number            67298 non-null int64\n",
      "Measure Name            67298 non-null object\n",
      "Measure ID              67298 non-null object\n",
      "Compared to National    67298 non-null object\n",
      "Denominator             67298 non-null object\n",
      "Score                   67298 non-null object\n",
      "Lower Estimate          67298 non-null object\n",
      "Higher Estimate         67298 non-null object\n",
      "Footnote                25618 non-null object\n",
      "Measure Start Date      67298 non-null object\n",
      "Measure End Date        67298 non-null object\n",
      "Location                0 non-null float64\n",
      "dtypes: float64(1), int64(3), object(15)\n",
      "memory usage: 9.8+ MB\n"
     ]
    }
   ],
   "source": [
    "death.info()"
   ]
  },
  {
   "cell_type": "code",
   "execution_count": 19,
   "metadata": {
    "collapsed": false
   },
   "outputs": [
    {
     "name": "stdout",
     "output_type": "stream",
     "text": [
      "<class 'pandas.core.frame.DataFrame'>\n",
      "RangeIndex: 234765 entries, 0 to 234764\n",
      "Data columns (total 23 columns):\n",
      "Federal Provider Number                     234765 non-null object\n",
      "Provider Name                               234765 non-null object\n",
      "Provider State                              234765 non-null object\n",
      "Measure Code                                234765 non-null int64\n",
      "Measure Description                         234765 non-null object\n",
      "Resident type                               234765 non-null object\n",
      "Q1 Measure Score                            209075 non-null object\n",
      "Footnote for Q1 Measure Score               25690 non-null object\n",
      "Q2 Measure Score                            209692 non-null object\n",
      "Footnote for Q2 Measure Score               25073 non-null object\n",
      "Q3 Measure Score                            209839 non-null object\n",
      "Footnote for Q3 Measure Score               24926 non-null object\n",
      "Q4 Measure Score                            209885 non-null object\n",
      "Footnote for Q4 Measure Score               24880 non-null object\n",
      "Four Quarter Average Score                  225168 non-null object\n",
      "Footnote for Four Quarter Average           9597 non-null object\n",
      "Used in Quality Measure Five Star Rating    234765 non-null bool\n",
      "Q1 quarter                                  234765 non-null object\n",
      "Q2 quarter                                  234765 non-null object\n",
      "Q3 quarter                                  234765 non-null object\n",
      "Q4 quarter                                  234765 non-null object\n",
      "Location                                    234765 non-null object\n",
      "Processing Date                             234765 non-null object\n",
      "dtypes: bool(1), int64(1), object(21)\n",
      "memory usage: 39.6+ MB\n"
     ]
    }
   ],
   "source": [
    "qual = pd.read_csv('Quality_Measures_-_Long_Stay.csv')\n",
    "qual.info()"
   ]
  },
  {
   "cell_type": "code",
   "execution_count": 22,
   "metadata": {
    "collapsed": false
   },
   "outputs": [
    {
     "name": "stdout",
     "output_type": "stream",
     "text": [
      "<class 'pandas.core.frame.DataFrame'>\n",
      "RangeIndex: 15651 entries, 0 to 15650\n",
      "Data columns (total 25 columns):\n",
      "Federal Provider Number                                            15651 non-null object\n",
      "Provider Name                                                      15651 non-null object\n",
      "Provider State                                                     15651 non-null object\n",
      "Staffing Rating                                                    15202 non-null float64\n",
      "Staffing Rating Footnote                                           449 non-null object\n",
      "RN Staffing Rating                                                 15202 non-null float64\n",
      "RN Staffing Rating Footnote                                        449 non-null object\n",
      "Reported Staffing Footnote                                         400 non-null object\n",
      "Physical Therapist Staffing Footnote                               403 non-null object\n",
      "Reported CNA Staffing Hours per Resident per Day                   15251 non-null float64\n",
      "Reported LPN Staffing Hours per Resident per Day                   15251 non-null float64\n",
      "Reported RN Staffing Hours per Resident per Day                    15251 non-null float64\n",
      "Reported Licensed Staffing Hours per Resident per Day              15251 non-null float64\n",
      "Reported Total Nurse Staffing Hours per Resident per Day           15251 non-null float64\n",
      "Reported Physical Therapist Staffing Hours per Resident Per Day    15248 non-null float64\n",
      "Expected CNA Staffing Hours per Resident per Day                   15579 non-null float64\n",
      "Expected LPN Staffing Hours per Resident per Day                   15579 non-null float64\n",
      "Expected RN Staffing Hours per Resident per Day                    15579 non-null float64\n",
      "Expected Total Nurse Staffing Hours per Resident per Day           15579 non-null float64\n",
      "Adjusted CNA Staffing Hours per Resident per Day                   15202 non-null float64\n",
      "Adjusted LPN Staffing Hours per Resident per Day                   15202 non-null float64\n",
      "Adjusted RN Staffing Hours per Resident per Day                    15202 non-null float64\n",
      "Adjusted Total Nurse Staffing Hours per Resident per Day           15202 non-null float64\n",
      "Location                                                           15651 non-null object\n",
      "Processing Date                                                    15651 non-null object\n",
      "dtypes: float64(16), object(9)\n",
      "memory usage: 3.0+ MB\n"
     ]
    }
   ],
   "source": [
    "staffing = pd.read_csv('Staffing.csv')\n",
    "staffing.info()"
   ]
  },
  {
   "cell_type": "code",
   "execution_count": 21,
   "metadata": {
    "collapsed": true
   },
   "outputs": [],
   "source": [
    "ins = pd.read_csv('Inspection_Cycle_1_Deficiencies.csv')"
   ]
  },
  {
   "cell_type": "code",
   "execution_count": 27,
   "metadata": {
    "collapsed": false
   },
   "outputs": [
    {
     "data": {
      "text/plain": [
       "14117"
      ]
     },
     "execution_count": 27,
     "metadata": {},
     "output_type": "execute_result"
    }
   ],
   "source": [
    "h = set(qual['Provider Name']) & set(staffing['Provider Name']) & set(ins['Provider Name'])\n",
    "len(h)"
   ]
  },
  {
   "cell_type": "code",
   "execution_count": 15,
   "metadata": {
    "collapsed": false
   },
   "outputs": [
    {
     "data": {
      "text/plain": [
       "4807"
      ]
     },
     "execution_count": 15,
     "metadata": {},
     "output_type": "execute_result"
    }
   ],
   "source": [
    "readm_only = death[death['Measure ID'].str.contains('READM')] #excluding mortality\n",
    "readm_only['Provider ID'].value_counts().count()"
   ]
  },
  {
   "cell_type": "code",
   "execution_count": 19,
   "metadata": {
    "collapsed": false
   },
   "outputs": [
    {
     "name": "stdout",
     "output_type": "stream",
     "text": [
      "<class 'pandas.core.frame.DataFrame'>\n",
      "Int64Index: 38456 entries, 6 to 67297\n",
      "Data columns (total 19 columns):\n",
      "Provider ID             38456 non-null int64\n",
      "Hospital Name           38456 non-null object\n",
      "Address                 38456 non-null object\n",
      "City                    38456 non-null object\n",
      "State                   38456 non-null object\n",
      "ZIP Code                38456 non-null int64\n",
      "County Name             38336 non-null object\n",
      "Phone Number            38456 non-null int64\n",
      "Measure Name            38456 non-null object\n",
      "Measure ID              38456 non-null object\n",
      "Compared to National    38456 non-null object\n",
      "Denominator             38456 non-null object\n",
      "Score                   38456 non-null object\n",
      "Lower Estimate          38456 non-null object\n",
      "Higher Estimate         38456 non-null object\n",
      "Footnote                14162 non-null object\n",
      "Measure Start Date      38456 non-null object\n",
      "Measure End Date        38456 non-null object\n",
      "Location                0 non-null float64\n",
      "dtypes: float64(1), int64(3), object(15)\n",
      "memory usage: 5.9+ MB\n"
     ]
    }
   ],
   "source": [
    "readm_only.info()"
   ]
  },
  {
   "cell_type": "code",
   "execution_count": 16,
   "metadata": {
    "collapsed": false
   },
   "outputs": [
    {
     "data": {
      "text/plain": [
       "4807"
      ]
     },
     "execution_count": 16,
     "metadata": {},
     "output_type": "execute_result"
    }
   ],
   "source": [
    "mort_only = death[death['Measure ID'].str.contains('MORT')] #excluding readm\n",
    "mort_only['Provider ID'].value_counts().count()"
   ]
  },
  {
   "cell_type": "code",
   "execution_count": 20,
   "metadata": {
    "collapsed": false
   },
   "outputs": [
    {
     "name": "stdout",
     "output_type": "stream",
     "text": [
      "<class 'pandas.core.frame.DataFrame'>\n",
      "Int64Index: 28842 entries, 0 to 67289\n",
      "Data columns (total 19 columns):\n",
      "Provider ID             28842 non-null int64\n",
      "Hospital Name           28842 non-null object\n",
      "Address                 28842 non-null object\n",
      "City                    28842 non-null object\n",
      "State                   28842 non-null object\n",
      "ZIP Code                28842 non-null int64\n",
      "County Name             28752 non-null object\n",
      "Phone Number            28842 non-null int64\n",
      "Measure Name            28842 non-null object\n",
      "Measure ID              28842 non-null object\n",
      "Compared to National    28842 non-null object\n",
      "Denominator             28842 non-null object\n",
      "Score                   28842 non-null object\n",
      "Lower Estimate          28842 non-null object\n",
      "Higher Estimate         28842 non-null object\n",
      "Footnote                11456 non-null object\n",
      "Measure Start Date      28842 non-null object\n",
      "Measure End Date        28842 non-null object\n",
      "Location                0 non-null float64\n",
      "dtypes: float64(1), int64(3), object(15)\n",
      "memory usage: 4.4+ MB\n"
     ]
    }
   ],
   "source": [
    "mort_only.info()"
   ]
  },
  {
   "cell_type": "code",
   "execution_count": 37,
   "metadata": {
    "collapsed": false
   },
   "outputs": [],
   "source": [
    "h = readm_only.groupby(['Hospital Name', 'Measure ID', 'Score']).size()"
   ]
  },
  {
   "cell_type": "code",
   "execution_count": 73,
   "metadata": {
    "collapsed": true
   },
   "outputs": [],
   "source": [
    "h_in = h.reset_index()"
   ]
  },
  {
   "cell_type": "code",
   "execution_count": 25,
   "metadata": {
    "collapsed": true
   },
   "outputs": [],
   "source": [
    "abbot = readm_only[readm_only['Hospital Name'] == 'ABBOTT NORTHWESTERN HOSPITAL']"
   ]
  },
  {
   "cell_type": "code",
   "execution_count": 46,
   "metadata": {
    "collapsed": false
   },
   "outputs": [
    {
     "data": {
      "image/png": "[encoded data removed]",
      "text/plain": [
       "<matplotlib.figure.Figure at 0x135d957d0>"
      ]
     },
     "metadata": {},
     "output_type": "display_data"
    }
   ],
   "source": [
    "readm_only['Score'].hist(by=readm_only['Measure ID'], bins = 10, range=[0,100])\n",
    "plt.show()"
   ]
  },
  {
   "cell_type": "code",
   "execution_count": 53,
   "metadata": {
    "collapsed": false
   },
   "outputs": [
    {
     "data": {
      "text/plain": [
       "array(['READM_30_AMI', 'READM_30_CABG', 'READM_30_COPD', 'READM_30_HF',\n",
       "       'READM_30_HIP_KNEE', 'READM_30_HOSP_WIDE', 'READM_30_PN',\n",
       "       'READM_30_STK'], dtype=object)"
      ]
     },
     "execution_count": 53,
     "metadata": {},
     "output_type": "execute_result"
    }
   ],
   "source": [
    "abbot['Measure ID'].unique()"
   ]
  },
  {
   "cell_type": "code",
   "execution_count": 72,
   "metadata": {
    "collapsed": false
   },
   "outputs": [
    {
     "data": {
      "image/png": "[encoded data removed]",
      "text/plain": [
       "<matplotlib.figure.Figure at 0x13a3c6450>"
      ]
     },
     "metadata": {},
     "output_type": "display_data"
    }
   ],
   "source": [
    "\n",
    "fig = plt.figure(figsize=(8,6))\n",
    "ax = fig.add_subplot(111)\n",
    "wid = .35\n",
    "ind = ind = np.arange(len(abbot.Score))\n",
    "plt.bar(ind, abbot.Score)\n",
    "\n",
    "xTickMarks = [i for i in abbot['Measure ID']]\n",
    "ax.set_xticks(ind)\n",
    "xtickNames = ax.set_xticklabels(xTickMarks, fontsize=8)\n",
    "ax.set_xlim(-wid,len(ind)+wid)\n",
    "plt.setp(xtickNames, rotation=45, fontsize=10)\n",
    "plt.show()"
   ]
  },
  {
   "cell_type": "code",
   "execution_count": null,
   "metadata": {
    "collapsed": true
   },
   "outputs": [],
   "source": []
  },
  {
   "cell_type": "code",
   "execution_count": 75,
   "metadata": {
    "collapsed": false
   },
   "outputs": [
    {
     "ename": "ValueError",
     "evalue": "could not convert string to float: Not Available",
     "output_type": "error",
     "traceback": [
      "\u001b[0;31m---------------------------------------------------------------------------\u001b[0m",
      "\u001b[0;31mValueError\u001b[0m                                Traceback (most recent call last)",
      "\u001b[0;32m<ipython-input-75-159269eb8735>\u001b[0m in \u001b[0;36m<module>\u001b[0;34m()\u001b[0m\n\u001b[1;32m      3\u001b[0m \u001b[0mwid\u001b[0m \u001b[0;34m=\u001b[0m \u001b[0;36m.35\u001b[0m\u001b[0;34m\u001b[0m\u001b[0m\n\u001b[1;32m      4\u001b[0m \u001b[0mind\u001b[0m \u001b[0;34m=\u001b[0m \u001b[0mnp\u001b[0m\u001b[0;34m.\u001b[0m\u001b[0marange\u001b[0m\u001b[0;34m(\u001b[0m\u001b[0mlen\u001b[0m\u001b[0;34m(\u001b[0m\u001b[0mh_in\u001b[0m\u001b[0;34m.\u001b[0m\u001b[0mScore\u001b[0m\u001b[0;34m)\u001b[0m\u001b[0;34m)\u001b[0m\u001b[0;34m\u001b[0m\u001b[0m\n\u001b[0;32m----> 5\u001b[0;31m \u001b[0mplt\u001b[0m\u001b[0;34m.\u001b[0m\u001b[0mbar\u001b[0m\u001b[0;34m(\u001b[0m\u001b[0mind\u001b[0m\u001b[0;34m,\u001b[0m \u001b[0mh_in\u001b[0m\u001b[0;34m.\u001b[0m\u001b[0mScore\u001b[0m\u001b[0;34m)\u001b[0m\u001b[0;34m\u001b[0m\u001b[0m\n\u001b[0m\u001b[1;32m      6\u001b[0m \u001b[0;34m\u001b[0m\u001b[0m\n\u001b[1;32m      7\u001b[0m \u001b[0mxTickMarks\u001b[0m \u001b[0;34m=\u001b[0m \u001b[0;34m[\u001b[0m\u001b[0mi\u001b[0m \u001b[0;32mfor\u001b[0m \u001b[0mi\u001b[0m \u001b[0;32min\u001b[0m \u001b[0mh_in\u001b[0m\u001b[0;34m[\u001b[0m\u001b[0;34m'Measure ID'\u001b[0m\u001b[0;34m]\u001b[0m\u001b[0;34m]\u001b[0m\u001b[0;34m\u001b[0m\u001b[0m\n",
      "\u001b[0;32m/Users/sheena/anaconda/lib/python2.7/site-packages/matplotlib/pyplot.pyc\u001b[0m in \u001b[0;36mbar\u001b[0;34m(left, height, width, bottom, hold, data, **kwargs)\u001b[0m\n\u001b[1;32m   2641\u001b[0m     \u001b[0;32mtry\u001b[0m\u001b[0;34m:\u001b[0m\u001b[0;34m\u001b[0m\u001b[0m\n\u001b[1;32m   2642\u001b[0m         ret = ax.bar(left, height, width=width, bottom=bottom, data=data,\n\u001b[0;32m-> 2643\u001b[0;31m                      **kwargs)\n\u001b[0m\u001b[1;32m   2644\u001b[0m     \u001b[0;32mfinally\u001b[0m\u001b[0;34m:\u001b[0m\u001b[0;34m\u001b[0m\u001b[0m\n\u001b[1;32m   2645\u001b[0m         \u001b[0max\u001b[0m\u001b[0;34m.\u001b[0m\u001b[0mhold\u001b[0m\u001b[0;34m(\u001b[0m\u001b[0mwashold\u001b[0m\u001b[0;34m)\u001b[0m\u001b[0;34m\u001b[0m\u001b[0m\n",
      "\u001b[0;32m/Users/sheena/anaconda/lib/python2.7/site-packages/matplotlib/__init__.pyc\u001b[0m in \u001b[0;36minner\u001b[0;34m(ax, *args, **kwargs)\u001b[0m\n\u001b[1;32m   1810\u001b[0m                     warnings.warn(msg % (label_namer, func.__name__),\n\u001b[1;32m   1811\u001b[0m                                   RuntimeWarning, stacklevel=2)\n\u001b[0;32m-> 1812\u001b[0;31m             \u001b[0;32mreturn\u001b[0m \u001b[0mfunc\u001b[0m\u001b[0;34m(\u001b[0m\u001b[0max\u001b[0m\u001b[0;34m,\u001b[0m \u001b[0;34m*\u001b[0m\u001b[0margs\u001b[0m\u001b[0;34m,\u001b[0m \u001b[0;34m**\u001b[0m\u001b[0mkwargs\u001b[0m\u001b[0;34m)\u001b[0m\u001b[0;34m\u001b[0m\u001b[0m\n\u001b[0m\u001b[1;32m   1813\u001b[0m         \u001b[0mpre_doc\u001b[0m \u001b[0;34m=\u001b[0m \u001b[0minner\u001b[0m\u001b[0;34m.\u001b[0m\u001b[0m__doc__\u001b[0m\u001b[0;34m\u001b[0m\u001b[0m\n\u001b[1;32m   1814\u001b[0m         \u001b[0;32mif\u001b[0m \u001b[0mpre_doc\u001b[0m \u001b[0;32mis\u001b[0m \u001b[0mNone\u001b[0m\u001b[0;34m:\u001b[0m\u001b[0;34m\u001b[0m\u001b[0m\n",
      "\u001b[0;32m/Users/sheena/anaconda/lib/python2.7/site-packages/matplotlib/axes/_axes.pyc\u001b[0m in \u001b[0;36mbar\u001b[0;34m(self, left, height, width, bottom, **kwargs)\u001b[0m\n\u001b[1;32m   2127\u001b[0m                 \u001b[0medgecolor\u001b[0m\u001b[0;34m=\u001b[0m\u001b[0me\u001b[0m\u001b[0;34m,\u001b[0m\u001b[0;34m\u001b[0m\u001b[0m\n\u001b[1;32m   2128\u001b[0m                 \u001b[0mlinewidth\u001b[0m\u001b[0;34m=\u001b[0m\u001b[0mlw\u001b[0m\u001b[0;34m,\u001b[0m\u001b[0;34m\u001b[0m\u001b[0m\n\u001b[0;32m-> 2129\u001b[0;31m                 \u001b[0mlabel\u001b[0m\u001b[0;34m=\u001b[0m\u001b[0;34m'_nolegend_'\u001b[0m\u001b[0;34m\u001b[0m\u001b[0m\n\u001b[0m\u001b[1;32m   2130\u001b[0m                 )\n\u001b[1;32m   2131\u001b[0m             \u001b[0mr\u001b[0m\u001b[0;34m.\u001b[0m\u001b[0mupdate\u001b[0m\u001b[0;34m(\u001b[0m\u001b[0mkwargs\u001b[0m\u001b[0;34m)\u001b[0m\u001b[0;34m\u001b[0m\u001b[0m\n",
      "\u001b[0;32m/Users/sheena/anaconda/lib/python2.7/site-packages/matplotlib/patches.pyc\u001b[0m in \u001b[0;36m__init__\u001b[0;34m(self, xy, width, height, angle, **kwargs)\u001b[0m\n\u001b[1;32m    642\u001b[0m         \u001b[0mself\u001b[0m\u001b[0;34m.\u001b[0m\u001b[0m_y\u001b[0m \u001b[0;34m=\u001b[0m \u001b[0mfloat\u001b[0m\u001b[0;34m(\u001b[0m\u001b[0mxy\u001b[0m\u001b[0;34m[\u001b[0m\u001b[0;36m1\u001b[0m\u001b[0;34m]\u001b[0m\u001b[0;34m)\u001b[0m\u001b[0;34m\u001b[0m\u001b[0m\n\u001b[1;32m    643\u001b[0m         \u001b[0mself\u001b[0m\u001b[0;34m.\u001b[0m\u001b[0m_width\u001b[0m \u001b[0;34m=\u001b[0m \u001b[0mfloat\u001b[0m\u001b[0;34m(\u001b[0m\u001b[0mwidth\u001b[0m\u001b[0;34m)\u001b[0m\u001b[0;34m\u001b[0m\u001b[0m\n\u001b[0;32m--> 644\u001b[0;31m         \u001b[0mself\u001b[0m\u001b[0;34m.\u001b[0m\u001b[0m_height\u001b[0m \u001b[0;34m=\u001b[0m \u001b[0mfloat\u001b[0m\u001b[0;34m(\u001b[0m\u001b[0mheight\u001b[0m\u001b[0;34m)\u001b[0m\u001b[0;34m\u001b[0m\u001b[0m\n\u001b[0m\u001b[1;32m    645\u001b[0m         \u001b[0mself\u001b[0m\u001b[0;34m.\u001b[0m\u001b[0m_angle\u001b[0m \u001b[0;34m=\u001b[0m \u001b[0mfloat\u001b[0m\u001b[0;34m(\u001b[0m\u001b[0mangle\u001b[0m\u001b[0;34m)\u001b[0m\u001b[0;34m\u001b[0m\u001b[0m\n\u001b[1;32m    646\u001b[0m         \u001b[0;31m# Note: This cannot be calculated until this is added to an Axes\u001b[0m\u001b[0;34m\u001b[0m\u001b[0;34m\u001b[0m\u001b[0m\n",
      "\u001b[0;31mValueError\u001b[0m: could not convert string to float: Not Available"
     ]
    },
    {
     "data": {
      "image/png": "[encoded data removed]",
      "text/plain": [
       "<matplotlib.figure.Figure at 0x13a488a50>"
      ]
     },
     "metadata": {},
     "output_type": "display_data"
    }
   ],
   "source": [
    "fig = plt.figure(figsize=(8,6))\n",
    "ax = fig.add_subplot(111)\n",
    "wid = .35\n",
    "ind = np.arange(len(h_in.Score))\n",
    "plt.bar(ind, h_in.Score)\n",
    "\n",
    "xTickMarks = [i for i in h_in['Measure ID']]\n",
    "ax.set_xticks(ind)\n",
    "xtickNames = ax.set_xticklabels(xTickMarks, fontsize=8)\n",
    "ax.set_xlim(-wid,len(ind)+wid)\n",
    "plt.setp(xtickNames, rotation=45, fontsize=10)\n",
    "plt.show()"
   ]
  },
  {
   "cell_type": "code",
   "execution_count": 38,
   "metadata": {
    "collapsed": false
   },
   "outputs": [
    {
     "data": {
      "text/html": [
       "<div>\n",
       "<table border=\"1\" class=\"dataframe\">\n",
       "  <thead>\n",
       "    <tr style=\"text-align: right;\">\n",
       "      <th></th>\n",
       "      <th>Hospital Name</th>\n",
       "      <th>Measure ID</th>\n",
       "      <th>Score</th>\n",
       "      <th>0</th>\n",
       "    </tr>\n",
       "  </thead>\n",
       "  <tbody>\n",
       "    <tr>\n",
       "      <th>0</th>\n",
       "      <td>ABBEVILLE AREA MEDICAL CENTER</td>\n",
       "      <td>READM_30_AMI</td>\n",
       "      <td>Not Available</td>\n",
       "      <td>1</td>\n",
       "    </tr>\n",
       "    <tr>\n",
       "      <th>1</th>\n",
       "      <td>ABBEVILLE AREA MEDICAL CENTER</td>\n",
       "      <td>READM_30_CABG</td>\n",
       "      <td>Not Available</td>\n",
       "      <td>1</td>\n",
       "    </tr>\n",
       "    <tr>\n",
       "      <th>2</th>\n",
       "      <td>ABBEVILLE AREA MEDICAL CENTER</td>\n",
       "      <td>READM_30_COPD</td>\n",
       "      <td>20.3</td>\n",
       "      <td>1</td>\n",
       "    </tr>\n",
       "    <tr>\n",
       "      <th>3</th>\n",
       "      <td>ABBEVILLE AREA MEDICAL CENTER</td>\n",
       "      <td>READM_30_HF</td>\n",
       "      <td>21.1</td>\n",
       "      <td>1</td>\n",
       "    </tr>\n",
       "    <tr>\n",
       "      <th>4</th>\n",
       "      <td>ABBEVILLE AREA MEDICAL CENTER</td>\n",
       "      <td>READM_30_HIP_KNEE</td>\n",
       "      <td>4.4</td>\n",
       "      <td>1</td>\n",
       "    </tr>\n",
       "    <tr>\n",
       "      <th>5</th>\n",
       "      <td>ABBEVILLE AREA MEDICAL CENTER</td>\n",
       "      <td>READM_30_HOSP_WIDE</td>\n",
       "      <td>15.7</td>\n",
       "      <td>1</td>\n",
       "    </tr>\n",
       "    <tr>\n",
       "      <th>6</th>\n",
       "      <td>ABBEVILLE AREA MEDICAL CENTER</td>\n",
       "      <td>READM_30_PN</td>\n",
       "      <td>17.3</td>\n",
       "      <td>1</td>\n",
       "    </tr>\n",
       "    <tr>\n",
       "      <th>7</th>\n",
       "      <td>ABBEVILLE AREA MEDICAL CENTER</td>\n",
       "      <td>READM_30_STK</td>\n",
       "      <td>Not Available</td>\n",
       "      <td>1</td>\n",
       "    </tr>\n",
       "    <tr>\n",
       "      <th>8</th>\n",
       "      <td>ABBEVILLE GENERAL HOSPITAL</td>\n",
       "      <td>READM_30_AMI</td>\n",
       "      <td>Not Available</td>\n",
       "      <td>1</td>\n",
       "    </tr>\n",
       "    <tr>\n",
       "      <th>9</th>\n",
       "      <td>ABBEVILLE GENERAL HOSPITAL</td>\n",
       "      <td>READM_30_CABG</td>\n",
       "      <td>Not Available</td>\n",
       "      <td>1</td>\n",
       "    </tr>\n",
       "    <tr>\n",
       "      <th>10</th>\n",
       "      <td>ABBEVILLE GENERAL HOSPITAL</td>\n",
       "      <td>READM_30_COPD</td>\n",
       "      <td>19.1</td>\n",
       "      <td>1</td>\n",
       "    </tr>\n",
       "    <tr>\n",
       "      <th>11</th>\n",
       "      <td>ABBEVILLE GENERAL HOSPITAL</td>\n",
       "      <td>READM_30_HF</td>\n",
       "      <td>24.6</td>\n",
       "      <td>1</td>\n",
       "    </tr>\n",
       "    <tr>\n",
       "      <th>12</th>\n",
       "      <td>ABBEVILLE GENERAL HOSPITAL</td>\n",
       "      <td>READM_30_HIP_KNEE</td>\n",
       "      <td>4.2</td>\n",
       "      <td>1</td>\n",
       "    </tr>\n",
       "    <tr>\n",
       "      <th>13</th>\n",
       "      <td>ABBEVILLE GENERAL HOSPITAL</td>\n",
       "      <td>READM_30_HOSP_WIDE</td>\n",
       "      <td>16.0</td>\n",
       "      <td>1</td>\n",
       "    </tr>\n",
       "    <tr>\n",
       "      <th>14</th>\n",
       "      <td>ABBEVILLE GENERAL HOSPITAL</td>\n",
       "      <td>READM_30_PN</td>\n",
       "      <td>17.8</td>\n",
       "      <td>1</td>\n",
       "    </tr>\n",
       "    <tr>\n",
       "      <th>15</th>\n",
       "      <td>ABBEVILLE GENERAL HOSPITAL</td>\n",
       "      <td>READM_30_STK</td>\n",
       "      <td>Not Available</td>\n",
       "      <td>1</td>\n",
       "    </tr>\n",
       "    <tr>\n",
       "      <th>16</th>\n",
       "      <td>ABBOTT NORTHWESTERN HOSPITAL</td>\n",
       "      <td>READM_30_AMI</td>\n",
       "      <td>16.8</td>\n",
       "      <td>1</td>\n",
       "    </tr>\n",
       "    <tr>\n",
       "      <th>17</th>\n",
       "      <td>ABBOTT NORTHWESTERN HOSPITAL</td>\n",
       "      <td>READM_30_CABG</td>\n",
       "      <td>13.4</td>\n",
       "      <td>1</td>\n",
       "    </tr>\n",
       "    <tr>\n",
       "      <th>18</th>\n",
       "      <td>ABBOTT NORTHWESTERN HOSPITAL</td>\n",
       "      <td>READM_30_COPD</td>\n",
       "      <td>20.4</td>\n",
       "      <td>1</td>\n",
       "    </tr>\n",
       "    <tr>\n",
       "      <th>19</th>\n",
       "      <td>ABBOTT NORTHWESTERN HOSPITAL</td>\n",
       "      <td>READM_30_HF</td>\n",
       "      <td>22.5</td>\n",
       "      <td>1</td>\n",
       "    </tr>\n",
       "    <tr>\n",
       "      <th>20</th>\n",
       "      <td>ABBOTT NORTHWESTERN HOSPITAL</td>\n",
       "      <td>READM_30_HIP_KNEE</td>\n",
       "      <td>4.4</td>\n",
       "      <td>1</td>\n",
       "    </tr>\n",
       "    <tr>\n",
       "      <th>21</th>\n",
       "      <td>ABBOTT NORTHWESTERN HOSPITAL</td>\n",
       "      <td>READM_30_HOSP_WIDE</td>\n",
       "      <td>15.0</td>\n",
       "      <td>1</td>\n",
       "    </tr>\n",
       "    <tr>\n",
       "      <th>22</th>\n",
       "      <td>ABBOTT NORTHWESTERN HOSPITAL</td>\n",
       "      <td>READM_30_PN</td>\n",
       "      <td>19.6</td>\n",
       "      <td>1</td>\n",
       "    </tr>\n",
       "    <tr>\n",
       "      <th>23</th>\n",
       "      <td>ABBOTT NORTHWESTERN HOSPITAL</td>\n",
       "      <td>READM_30_STK</td>\n",
       "      <td>13.7</td>\n",
       "      <td>1</td>\n",
       "    </tr>\n",
       "    <tr>\n",
       "      <th>24</th>\n",
       "      <td>ABILENE REGIONAL MEDICAL CENTER</td>\n",
       "      <td>READM_30_AMI</td>\n",
       "      <td>16.4</td>\n",
       "      <td>1</td>\n",
       "    </tr>\n",
       "    <tr>\n",
       "      <th>25</th>\n",
       "      <td>ABILENE REGIONAL MEDICAL CENTER</td>\n",
       "      <td>READM_30_CABG</td>\n",
       "      <td>15.0</td>\n",
       "      <td>1</td>\n",
       "    </tr>\n",
       "    <tr>\n",
       "      <th>26</th>\n",
       "      <td>ABILENE REGIONAL MEDICAL CENTER</td>\n",
       "      <td>READM_30_COPD</td>\n",
       "      <td>18.3</td>\n",
       "      <td>1</td>\n",
       "    </tr>\n",
       "    <tr>\n",
       "      <th>27</th>\n",
       "      <td>ABILENE REGIONAL MEDICAL CENTER</td>\n",
       "      <td>READM_30_HF</td>\n",
       "      <td>22.4</td>\n",
       "      <td>1</td>\n",
       "    </tr>\n",
       "    <tr>\n",
       "      <th>28</th>\n",
       "      <td>ABILENE REGIONAL MEDICAL CENTER</td>\n",
       "      <td>READM_30_HIP_KNEE</td>\n",
       "      <td>4.0</td>\n",
       "      <td>1</td>\n",
       "    </tr>\n",
       "    <tr>\n",
       "      <th>29</th>\n",
       "      <td>ABILENE REGIONAL MEDICAL CENTER</td>\n",
       "      <td>READM_30_HOSP_WIDE</td>\n",
       "      <td>14.5</td>\n",
       "      <td>1</td>\n",
       "    </tr>\n",
       "    <tr>\n",
       "      <th>...</th>\n",
       "      <td>...</td>\n",
       "      <td>...</td>\n",
       "      <td>...</td>\n",
       "      <td>...</td>\n",
       "    </tr>\n",
       "    <tr>\n",
       "      <th>38022</th>\n",
       "      <td>YUKON KUSKOKWIM DELTA REG HOSPITAL</td>\n",
       "      <td>READM_30_COPD</td>\n",
       "      <td>19.4</td>\n",
       "      <td>1</td>\n",
       "    </tr>\n",
       "    <tr>\n",
       "      <th>38023</th>\n",
       "      <td>YUKON KUSKOKWIM DELTA REG HOSPITAL</td>\n",
       "      <td>READM_30_HF</td>\n",
       "      <td>20.8</td>\n",
       "      <td>1</td>\n",
       "    </tr>\n",
       "    <tr>\n",
       "      <th>38024</th>\n",
       "      <td>YUKON KUSKOKWIM DELTA REG HOSPITAL</td>\n",
       "      <td>READM_30_HIP_KNEE</td>\n",
       "      <td>Not Available</td>\n",
       "      <td>1</td>\n",
       "    </tr>\n",
       "    <tr>\n",
       "      <th>38025</th>\n",
       "      <td>YUKON KUSKOKWIM DELTA REG HOSPITAL</td>\n",
       "      <td>READM_30_HOSP_WIDE</td>\n",
       "      <td>14.6</td>\n",
       "      <td>1</td>\n",
       "    </tr>\n",
       "    <tr>\n",
       "      <th>38026</th>\n",
       "      <td>YUKON KUSKOKWIM DELTA REG HOSPITAL</td>\n",
       "      <td>READM_30_PN</td>\n",
       "      <td>16.3</td>\n",
       "      <td>1</td>\n",
       "    </tr>\n",
       "    <tr>\n",
       "      <th>38027</th>\n",
       "      <td>YUKON KUSKOKWIM DELTA REG HOSPITAL</td>\n",
       "      <td>READM_30_STK</td>\n",
       "      <td>Not Available</td>\n",
       "      <td>1</td>\n",
       "    </tr>\n",
       "    <tr>\n",
       "      <th>38028</th>\n",
       "      <td>YUMA DISTRICT HOSPITAL</td>\n",
       "      <td>READM_30_AMI</td>\n",
       "      <td>Not Available</td>\n",
       "      <td>1</td>\n",
       "    </tr>\n",
       "    <tr>\n",
       "      <th>38029</th>\n",
       "      <td>YUMA DISTRICT HOSPITAL</td>\n",
       "      <td>READM_30_CABG</td>\n",
       "      <td>Not Available</td>\n",
       "      <td>1</td>\n",
       "    </tr>\n",
       "    <tr>\n",
       "      <th>38030</th>\n",
       "      <td>YUMA DISTRICT HOSPITAL</td>\n",
       "      <td>READM_30_COPD</td>\n",
       "      <td>19.9</td>\n",
       "      <td>1</td>\n",
       "    </tr>\n",
       "    <tr>\n",
       "      <th>38031</th>\n",
       "      <td>YUMA DISTRICT HOSPITAL</td>\n",
       "      <td>READM_30_HF</td>\n",
       "      <td>21.5</td>\n",
       "      <td>1</td>\n",
       "    </tr>\n",
       "    <tr>\n",
       "      <th>38032</th>\n",
       "      <td>YUMA DISTRICT HOSPITAL</td>\n",
       "      <td>READM_30_HIP_KNEE</td>\n",
       "      <td>Not Available</td>\n",
       "      <td>1</td>\n",
       "    </tr>\n",
       "    <tr>\n",
       "      <th>38033</th>\n",
       "      <td>YUMA DISTRICT HOSPITAL</td>\n",
       "      <td>READM_30_HOSP_WIDE</td>\n",
       "      <td>15.7</td>\n",
       "      <td>1</td>\n",
       "    </tr>\n",
       "    <tr>\n",
       "      <th>38034</th>\n",
       "      <td>YUMA DISTRICT HOSPITAL</td>\n",
       "      <td>READM_30_PN</td>\n",
       "      <td>17.8</td>\n",
       "      <td>1</td>\n",
       "    </tr>\n",
       "    <tr>\n",
       "      <th>38035</th>\n",
       "      <td>YUMA DISTRICT HOSPITAL</td>\n",
       "      <td>READM_30_STK</td>\n",
       "      <td>Not Available</td>\n",
       "      <td>1</td>\n",
       "    </tr>\n",
       "    <tr>\n",
       "      <th>38036</th>\n",
       "      <td>YUMA REGIONAL MEDICAL CENTER</td>\n",
       "      <td>READM_30_AMI</td>\n",
       "      <td>17.2</td>\n",
       "      <td>1</td>\n",
       "    </tr>\n",
       "    <tr>\n",
       "      <th>38037</th>\n",
       "      <td>YUMA REGIONAL MEDICAL CENTER</td>\n",
       "      <td>READM_30_CABG</td>\n",
       "      <td>13.5</td>\n",
       "      <td>1</td>\n",
       "    </tr>\n",
       "    <tr>\n",
       "      <th>38038</th>\n",
       "      <td>YUMA REGIONAL MEDICAL CENTER</td>\n",
       "      <td>READM_30_COPD</td>\n",
       "      <td>21.2</td>\n",
       "      <td>1</td>\n",
       "    </tr>\n",
       "    <tr>\n",
       "      <th>38039</th>\n",
       "      <td>YUMA REGIONAL MEDICAL CENTER</td>\n",
       "      <td>READM_30_HF</td>\n",
       "      <td>20.3</td>\n",
       "      <td>1</td>\n",
       "    </tr>\n",
       "    <tr>\n",
       "      <th>38040</th>\n",
       "      <td>YUMA REGIONAL MEDICAL CENTER</td>\n",
       "      <td>READM_30_HIP_KNEE</td>\n",
       "      <td>4.9</td>\n",
       "      <td>1</td>\n",
       "    </tr>\n",
       "    <tr>\n",
       "      <th>38041</th>\n",
       "      <td>YUMA REGIONAL MEDICAL CENTER</td>\n",
       "      <td>READM_30_HOSP_WIDE</td>\n",
       "      <td>16.1</td>\n",
       "      <td>1</td>\n",
       "    </tr>\n",
       "    <tr>\n",
       "      <th>38042</th>\n",
       "      <td>YUMA REGIONAL MEDICAL CENTER</td>\n",
       "      <td>READM_30_PN</td>\n",
       "      <td>19.5</td>\n",
       "      <td>1</td>\n",
       "    </tr>\n",
       "    <tr>\n",
       "      <th>38043</th>\n",
       "      <td>YUMA REGIONAL MEDICAL CENTER</td>\n",
       "      <td>READM_30_STK</td>\n",
       "      <td>12.2</td>\n",
       "      <td>1</td>\n",
       "    </tr>\n",
       "    <tr>\n",
       "      <th>38044</th>\n",
       "      <td>ZUNI COMPREHENSIVE COMMUNITY HEALTH CENTER</td>\n",
       "      <td>READM_30_AMI</td>\n",
       "      <td>Not Available</td>\n",
       "      <td>1</td>\n",
       "    </tr>\n",
       "    <tr>\n",
       "      <th>38045</th>\n",
       "      <td>ZUNI COMPREHENSIVE COMMUNITY HEALTH CENTER</td>\n",
       "      <td>READM_30_CABG</td>\n",
       "      <td>Not Available</td>\n",
       "      <td>1</td>\n",
       "    </tr>\n",
       "    <tr>\n",
       "      <th>38046</th>\n",
       "      <td>ZUNI COMPREHENSIVE COMMUNITY HEALTH CENTER</td>\n",
       "      <td>READM_30_COPD</td>\n",
       "      <td>Not Available</td>\n",
       "      <td>1</td>\n",
       "    </tr>\n",
       "    <tr>\n",
       "      <th>38047</th>\n",
       "      <td>ZUNI COMPREHENSIVE COMMUNITY HEALTH CENTER</td>\n",
       "      <td>READM_30_HF</td>\n",
       "      <td>Not Available</td>\n",
       "      <td>1</td>\n",
       "    </tr>\n",
       "    <tr>\n",
       "      <th>38048</th>\n",
       "      <td>ZUNI COMPREHENSIVE COMMUNITY HEALTH CENTER</td>\n",
       "      <td>READM_30_HIP_KNEE</td>\n",
       "      <td>Not Available</td>\n",
       "      <td>1</td>\n",
       "    </tr>\n",
       "    <tr>\n",
       "      <th>38049</th>\n",
       "      <td>ZUNI COMPREHENSIVE COMMUNITY HEALTH CENTER</td>\n",
       "      <td>READM_30_HOSP_WIDE</td>\n",
       "      <td>15.4</td>\n",
       "      <td>1</td>\n",
       "    </tr>\n",
       "    <tr>\n",
       "      <th>38050</th>\n",
       "      <td>ZUNI COMPREHENSIVE COMMUNITY HEALTH CENTER</td>\n",
       "      <td>READM_30_PN</td>\n",
       "      <td>17.3</td>\n",
       "      <td>1</td>\n",
       "    </tr>\n",
       "    <tr>\n",
       "      <th>38051</th>\n",
       "      <td>ZUNI COMPREHENSIVE COMMUNITY HEALTH CENTER</td>\n",
       "      <td>READM_30_STK</td>\n",
       "      <td>Not Available</td>\n",
       "      <td>1</td>\n",
       "    </tr>\n",
       "  </tbody>\n",
       "</table>\n",
       "<p>38052 rows × 4 columns</p>\n",
       "</div>"
      ],
      "text/plain": [
       "                                    Hospital Name          Measure ID  \\\n",
       "0                   ABBEVILLE AREA MEDICAL CENTER        READM_30_AMI   \n",
       "1                   ABBEVILLE AREA MEDICAL CENTER       READM_30_CABG   \n",
       "2                   ABBEVILLE AREA MEDICAL CENTER       READM_30_COPD   \n",
       "3                   ABBEVILLE AREA MEDICAL CENTER         READM_30_HF   \n",
       "4                   ABBEVILLE AREA MEDICAL CENTER   READM_30_HIP_KNEE   \n",
       "5                   ABBEVILLE AREA MEDICAL CENTER  READM_30_HOSP_WIDE   \n",
       "6                   ABBEVILLE AREA MEDICAL CENTER         READM_30_PN   \n",
       "7                   ABBEVILLE AREA MEDICAL CENTER        READM_30_STK   \n",
       "8                      ABBEVILLE GENERAL HOSPITAL        READM_30_AMI   \n",
       "9                      ABBEVILLE GENERAL HOSPITAL       READM_30_CABG   \n",
       "10                     ABBEVILLE GENERAL HOSPITAL       READM_30_COPD   \n",
       "11                     ABBEVILLE GENERAL HOSPITAL         READM_30_HF   \n",
       "12                     ABBEVILLE GENERAL HOSPITAL   READM_30_HIP_KNEE   \n",
       "13                     ABBEVILLE GENERAL HOSPITAL  READM_30_HOSP_WIDE   \n",
       "14                     ABBEVILLE GENERAL HOSPITAL         READM_30_PN   \n",
       "15                     ABBEVILLE GENERAL HOSPITAL        READM_30_STK   \n",
       "16                   ABBOTT NORTHWESTERN HOSPITAL        READM_30_AMI   \n",
       "17                   ABBOTT NORTHWESTERN HOSPITAL       READM_30_CABG   \n",
       "18                   ABBOTT NORTHWESTERN HOSPITAL       READM_30_COPD   \n",
       "19                   ABBOTT NORTHWESTERN HOSPITAL         READM_30_HF   \n",
       "20                   ABBOTT NORTHWESTERN HOSPITAL   READM_30_HIP_KNEE   \n",
       "21                   ABBOTT NORTHWESTERN HOSPITAL  READM_30_HOSP_WIDE   \n",
       "22                   ABBOTT NORTHWESTERN HOSPITAL         READM_30_PN   \n",
       "23                   ABBOTT NORTHWESTERN HOSPITAL        READM_30_STK   \n",
       "24                ABILENE REGIONAL MEDICAL CENTER        READM_30_AMI   \n",
       "25                ABILENE REGIONAL MEDICAL CENTER       READM_30_CABG   \n",
       "26                ABILENE REGIONAL MEDICAL CENTER       READM_30_COPD   \n",
       "27                ABILENE REGIONAL MEDICAL CENTER         READM_30_HF   \n",
       "28                ABILENE REGIONAL MEDICAL CENTER   READM_30_HIP_KNEE   \n",
       "29                ABILENE REGIONAL MEDICAL CENTER  READM_30_HOSP_WIDE   \n",
       "...                                           ...                 ...   \n",
       "38022          YUKON KUSKOKWIM DELTA REG HOSPITAL       READM_30_COPD   \n",
       "38023          YUKON KUSKOKWIM DELTA REG HOSPITAL         READM_30_HF   \n",
       "38024          YUKON KUSKOKWIM DELTA REG HOSPITAL   READM_30_HIP_KNEE   \n",
       "38025          YUKON KUSKOKWIM DELTA REG HOSPITAL  READM_30_HOSP_WIDE   \n",
       "38026          YUKON KUSKOKWIM DELTA REG HOSPITAL         READM_30_PN   \n",
       "38027          YUKON KUSKOKWIM DELTA REG HOSPITAL        READM_30_STK   \n",
       "38028                      YUMA DISTRICT HOSPITAL        READM_30_AMI   \n",
       "38029                      YUMA DISTRICT HOSPITAL       READM_30_CABG   \n",
       "38030                      YUMA DISTRICT HOSPITAL       READM_30_COPD   \n",
       "38031                      YUMA DISTRICT HOSPITAL         READM_30_HF   \n",
       "38032                      YUMA DISTRICT HOSPITAL   READM_30_HIP_KNEE   \n",
       "38033                      YUMA DISTRICT HOSPITAL  READM_30_HOSP_WIDE   \n",
       "38034                      YUMA DISTRICT HOSPITAL         READM_30_PN   \n",
       "38035                      YUMA DISTRICT HOSPITAL        READM_30_STK   \n",
       "38036                YUMA REGIONAL MEDICAL CENTER        READM_30_AMI   \n",
       "38037                YUMA REGIONAL MEDICAL CENTER       READM_30_CABG   \n",
       "38038                YUMA REGIONAL MEDICAL CENTER       READM_30_COPD   \n",
       "38039                YUMA REGIONAL MEDICAL CENTER         READM_30_HF   \n",
       "38040                YUMA REGIONAL MEDICAL CENTER   READM_30_HIP_KNEE   \n",
       "38041                YUMA REGIONAL MEDICAL CENTER  READM_30_HOSP_WIDE   \n",
       "38042                YUMA REGIONAL MEDICAL CENTER         READM_30_PN   \n",
       "38043                YUMA REGIONAL MEDICAL CENTER        READM_30_STK   \n",
       "38044  ZUNI COMPREHENSIVE COMMUNITY HEALTH CENTER        READM_30_AMI   \n",
       "38045  ZUNI COMPREHENSIVE COMMUNITY HEALTH CENTER       READM_30_CABG   \n",
       "38046  ZUNI COMPREHENSIVE COMMUNITY HEALTH CENTER       READM_30_COPD   \n",
       "38047  ZUNI COMPREHENSIVE COMMUNITY HEALTH CENTER         READM_30_HF   \n",
       "38048  ZUNI COMPREHENSIVE COMMUNITY HEALTH CENTER   READM_30_HIP_KNEE   \n",
       "38049  ZUNI COMPREHENSIVE COMMUNITY HEALTH CENTER  READM_30_HOSP_WIDE   \n",
       "38050  ZUNI COMPREHENSIVE COMMUNITY HEALTH CENTER         READM_30_PN   \n",
       "38051  ZUNI COMPREHENSIVE COMMUNITY HEALTH CENTER        READM_30_STK   \n",
       "\n",
       "               Score  0  \n",
       "0      Not Available  1  \n",
       "1      Not Available  1  \n",
       "2               20.3  1  \n",
       "3               21.1  1  \n",
       "4                4.4  1  \n",
       "5               15.7  1  \n",
       "6               17.3  1  \n",
       "7      Not Available  1  \n",
       "8      Not Available  1  \n",
       "9      Not Available  1  \n",
       "10              19.1  1  \n",
       "11              24.6  1  \n",
       "12               4.2  1  \n",
       "13              16.0  1  \n",
       "14              17.8  1  \n",
       "15     Not Available  1  \n",
       "16              16.8  1  \n",
       "17              13.4  1  \n",
       "18              20.4  1  \n",
       "19              22.5  1  \n",
       "20               4.4  1  \n",
       "21              15.0  1  \n",
       "22              19.6  1  \n",
       "23              13.7  1  \n",
       "24              16.4  1  \n",
       "25              15.0  1  \n",
       "26              18.3  1  \n",
       "27              22.4  1  \n",
       "28               4.0  1  \n",
       "29              14.5  1  \n",
       "...              ... ..  \n",
       "38022           19.4  1  \n",
       "38023           20.8  1  \n",
       "38024  Not Available  1  \n",
       "38025           14.6  1  \n",
       "38026           16.3  1  \n",
       "38027  Not Available  1  \n",
       "38028  Not Available  1  \n",
       "38029  Not Available  1  \n",
       "38030           19.9  1  \n",
       "38031           21.5  1  \n",
       "38032  Not Available  1  \n",
       "38033           15.7  1  \n",
       "38034           17.8  1  \n",
       "38035  Not Available  1  \n",
       "38036           17.2  1  \n",
       "38037           13.5  1  \n",
       "38038           21.2  1  \n",
       "38039           20.3  1  \n",
       "38040            4.9  1  \n",
       "38041           16.1  1  \n",
       "38042           19.5  1  \n",
       "38043           12.2  1  \n",
       "38044  Not Available  1  \n",
       "38045  Not Available  1  \n",
       "38046  Not Available  1  \n",
       "38047  Not Available  1  \n",
       "38048  Not Available  1  \n",
       "38049           15.4  1  \n",
       "38050           17.3  1  \n",
       "38051  Not Available  1  \n",
       "\n",
       "[38052 rows x 4 columns]"
      ]
     },
     "execution_count": 38,
     "metadata": {},
     "output_type": "execute_result"
    }
   ],
   "source": [
    "h.reset_index()"
   ]
  },
  {
   "cell_type": "code",
   "execution_count": null,
   "metadata": {
    "collapsed": true
   },
   "outputs": [],
   "source": []
  }
 ],
 "metadata": {
  "kernelspec": {
   "display_name": "Python 2",
   "language": "python",
   "name": "python2"
  },
  "language_info": {
   "codemirror_mode": {
    "name": "ipython",
    "version": 2
   },
   "file_extension": ".py",
   "mimetype": "text/x-python",
   "name": "python",
   "nbconvert_exporter": "python",
   "pygments_lexer": "ipython2",
   "version": "2.7.12"
  }
 },
 "nbformat": 4,
 "nbformat_minor": 0
}
