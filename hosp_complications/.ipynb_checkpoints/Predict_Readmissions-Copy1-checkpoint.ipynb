{
 "cells": [
  {
   "cell_type": "markdown",
   "metadata": {},
   "source": [
    "## Predicting Hospital Readmissions - Medicare Hospital Compare Data"
   ]
  },
  {
   "cell_type": "markdown",
   "metadata": {},
   "source": [
    "### There are 6 relevant data sets\n",
    "#### Target data is included in Readmissions_and_Death.csv. I am using the Readmissions data for all 8 diseases\n",
    "#### Feature data comes from 6 different data sets. Hospital Names are common to all datasets"
   ]
  },
  {
   "cell_type": "code",
   "execution_count": 1,
   "metadata": {
    "collapsed": true
   },
   "outputs": [],
   "source": [
    "import numpy as np\n",
    "import pandas as pd\n",
    "import matplotlib\n",
    "import matplotlib.pyplot as plt\n",
    "\n",
    "%matplotlib inline"
   ]
  },
  {
   "cell_type": "code",
   "execution_count": 268,
   "metadata": {
    "collapsed": true
   },
   "outputs": [],
   "source": [
    "import warnings\n",
    "warnings.filterwarnings('ignore')"
   ]
  },
  {
   "cell_type": "code",
   "execution_count": 2,
   "metadata": {
    "collapsed": true
   },
   "outputs": [],
   "source": [
    "death = pd.read_csv('Readmissions_and_Deaths.csv')"
   ]
  },
  {
   "cell_type": "code",
   "execution_count": 3,
   "metadata": {
    "collapsed": false
   },
   "outputs": [
    {
     "name": "stdout",
     "output_type": "stream",
     "text": [
      "<class 'pandas.core.frame.DataFrame'>\n",
      "Int64Index: 38456 entries, 6 to 67297\n",
      "Data columns (total 19 columns):\n",
      "Provider ID             38456 non-null int64\n",
      "Hospital Name           38456 non-null object\n",
      "Address                 38456 non-null object\n",
      "City                    38456 non-null object\n",
      "State                   38456 non-null object\n",
      "ZIP Code                38456 non-null int64\n",
      "County Name             38336 non-null object\n",
      "Phone Number            38456 non-null int64\n",
      "Measure Name            38456 non-null object\n",
      "Measure ID              38456 non-null object\n",
      "Compared to National    38456 non-null object\n",
      "Denominator             38456 non-null object\n",
      "Score                   38456 non-null object\n",
      "Lower Estimate          38456 non-null object\n",
      "Higher Estimate         38456 non-null object\n",
      "Footnote                14162 non-null object\n",
      "Measure Start Date      38456 non-null object\n",
      "Measure End Date        38456 non-null object\n",
      "Location                0 non-null float64\n",
      "dtypes: float64(1), int64(3), object(15)\n",
      "memory usage: 5.9+ MB\n"
     ]
    }
   ],
   "source": [
    "readm_only = death[death['Measure ID'].str.contains('READM')] #excluding mortality\n",
    "readm_only.info() #dataframe of readmissions only"
   ]
  },
  {
   "cell_type": "markdown",
   "metadata": {},
   "source": [
    "## Example of Readmit scores for one random hosp"
   ]
  },
  {
   "cell_type": "code",
   "execution_count": 4,
   "metadata": {
    "collapsed": true
   },
   "outputs": [],
   "source": [
    "abbot = readm_only[readm_only['Hospital Name'] == 'ABBOTT NORTHWESTERN HOSPITAL'] #just grabbing one example to graph"
   ]
  },
  {
   "cell_type": "code",
   "execution_count": 5,
   "metadata": {
    "collapsed": true
   },
   "outputs": [],
   "source": [
    "list_conditions = ['Heart Attack', 'Coronary Artery Bypass', 'COPD', 'Heart Failure', 'Hip/Knee Replacement',\n",
    "                          'General', 'Pneumonia', 'Stroke']"
   ]
  },
  {
   "cell_type": "code",
   "execution_count": 6,
   "metadata": {
    "collapsed": false
   },
   "outputs": [
    {
     "data": {
      "image/png": "[encoded data removed]",
      "text/plain": [
       "<matplotlib.figure.Figure at 0x1142c6750>"
      ]
     },
     "metadata": {},
     "output_type": "display_data"
    }
   ],
   "source": [
    "fig = plt.figure(figsize=(8,6))\n",
    "ax = fig.add_subplot(111)\n",
    "wid = .3\n",
    "ind = ind = np.arange(len(abbot.Score))\n",
    "plt.bar(ind, abbot.Score)\n",
    "\n",
    "xTickMarks = [i for i in list_conditions]\n",
    "ax.set_xticks(ind)\n",
    "xtickNames = ax.set_xticklabels(xTickMarks, fontsize=8)\n",
    "ax.set_xlim(-wid,len(ind)+wid)\n",
    "plt.setp(xtickNames, rotation=45, fontsize=10)\n",
    "plt.ylabel('Readmission Score')\n",
    "plt.title('Abbott Northwestern Hospital')\n",
    "fig.tight_layout()\n",
    "fig.subplots_adjust(bottom=0.2)\n",
    "plt.show()"
   ]
  },
  {
   "cell_type": "code",
   "execution_count": 7,
   "metadata": {
    "collapsed": false
   },
   "outputs": [
    {
     "data": {
      "text/plain": [
       "38456"
      ]
     },
     "execution_count": 7,
     "metadata": {},
     "output_type": "execute_result"
    }
   ],
   "source": [
    "readm_only.Score.notnull().count()"
   ]
  },
  {
   "cell_type": "code",
   "execution_count": 8,
   "metadata": {
    "collapsed": false
   },
   "outputs": [
    {
     "data": {
      "text/plain": [
       "6    16.5\n",
       "Name: Score, dtype: object"
      ]
     },
     "execution_count": 8,
     "metadata": {},
     "output_type": "execute_result"
    }
   ],
   "source": [
    "readm_only.Score[:1] #Why is this an object and not a float - because of NaNs?"
   ]
  },
  {
   "cell_type": "code",
   "execution_count": 9,
   "metadata": {
    "collapsed": false
   },
   "outputs": [
    {
     "data": {
      "text/plain": [
       "array(['16.5', '15.1', '21.1', '21.4', '5.1', '15.4', '18.7', '12.7',\n",
       "       '16.7', 'Not Available', '18.0', '21.9', '5.7', '14.9', '16.4',\n",
       "       '13.4', '16.1', '15.2', '19.8', '20.6', '5.0', '17.9', '12.0',\n",
       "       '19.9', '16.6', '17.3', '11.3', '19.2', '23.1', '15.7', '16.0',\n",
       "       '17.7', '15.0', '19.6', '15.3', '23.4', '19.4', '12.8', '15.8',\n",
       "       '21.5', '14.7', '17.1', '12.4', '23.0', '22.4', '4.1', '15.9',\n",
       "       '18.3', '13.5', '21.3', '14.8', '18.1', '15.6', '19.5', '23.3',\n",
       "       '4.7', '18.6', '13.8', '14.0', '17.2', '19.0', '4.9', '16.9',\n",
       "       '13.0', '16.8', '12.6', '23.2', '5.9', '12.1', '21.6', '16.3',\n",
       "       '23.7', '20.1', '21.7', '16.2', '22.8', '4.6', '12.5', '3.9',\n",
       "       '20.3', '24.0', '13.7', '4.8', '12.3', '19.7', '21.0', '6.7',\n",
       "       '13.1', '20.8', '22.2', '11.2', '14.2', '22.3', '17.5', '20.0',\n",
       "       '22.5', '4.3', '20.4', '19.1', '14.6', '13.3', '17.8', '22.6',\n",
       "       '14.1', '18.8', '20.7', '20.9', '20.2', '6.2', '22.9', '13.2',\n",
       "       '5.5', '15.5', '21.8', '14.3', '20.5', '22.0', '10.5', '4.5',\n",
       "       '14.4', '5.2', '22.1', '18.9', '23.6', '17.6', '12.2', '12.9',\n",
       "       '21.2', '18.4', '17.0', '19.3', '17.4', '18.2', '22.7', '5.4',\n",
       "       '4.2', '10.0', '4.4', '4.0', '11.7', '23.8', '5.3', '11.6', '10.8',\n",
       "       '9.8', '24.6', '3.7', '13.6', '11.5', '14.5', '24.8', '13.9',\n",
       "       '11.4', '3.8', '24.4', '23.9', '10.9', '11.8', '3.6', '11.0',\n",
       "       '11.9', '23.5', '24.7', '26.2', '18.5', '24.3', '25.2', '26.1',\n",
       "       '24.2', '24.5', '24.9', '3.3', '10.7', '25.3', '6.1', '10.6', '3.4',\n",
       "       '25.0', '24.1', '10.3', '2.9', '11.1', '5.6', '3.5', '26.3', '25.9',\n",
       "       '2.4', '9.6', '10.2', '3.2', '5.8', '6.3', '25.5', '3.0', '26.4',\n",
       "       '27.0', '25.4', '26.0', '25.7', '26.7', '6.5', '25.1', '6.4',\n",
       "       '10.4', '6.0', '25.8', '9.9', '10.1', '31.3', '6.6', '9.1', '26.9',\n",
       "       '26.8', '6.8', '25.6', '27.2', '27.4', '6.9', '7.8'], dtype=object)"
      ]
     },
     "execution_count": 9,
     "metadata": {},
     "output_type": "execute_result"
    }
   ],
   "source": [
    "readm_only.Score.unique() #'Not Available' is screwing this up "
   ]
  },
  {
   "cell_type": "code",
   "execution_count": 10,
   "metadata": {
    "collapsed": false
   },
   "outputs": [
    {
     "data": {
      "text/html": [
       "<div>\n",
       "<table border=\"1\" class=\"dataframe\">\n",
       "  <thead>\n",
       "    <tr style=\"text-align: right;\">\n",
       "      <th></th>\n",
       "      <th>Provider ID</th>\n",
       "      <th>Hospital Name</th>\n",
       "      <th>Address</th>\n",
       "      <th>City</th>\n",
       "      <th>State</th>\n",
       "      <th>ZIP Code</th>\n",
       "      <th>County Name</th>\n",
       "      <th>Phone Number</th>\n",
       "      <th>Measure Name</th>\n",
       "      <th>Measure ID</th>\n",
       "      <th>Compared to National</th>\n",
       "      <th>Denominator</th>\n",
       "      <th>Score</th>\n",
       "      <th>Lower Estimate</th>\n",
       "      <th>Higher Estimate</th>\n",
       "      <th>Footnote</th>\n",
       "      <th>Measure Start Date</th>\n",
       "      <th>Measure End Date</th>\n",
       "      <th>Location</th>\n",
       "    </tr>\n",
       "  </thead>\n",
       "  <tbody>\n",
       "  </tbody>\n",
       "</table>\n",
       "</div>"
      ],
      "text/plain": [
       "Empty DataFrame\n",
       "Columns: [Provider ID, Hospital Name, Address, City, State, ZIP Code, County Name, Phone Number, Measure Name, Measure ID, Compared to National, Denominator, Score, Lower Estimate, Higher Estimate, Footnote, Measure Start Date, Measure End Date, Location]\n",
       "Index: []"
      ]
     },
     "execution_count": 10,
     "metadata": {},
     "output_type": "execute_result"
    }
   ],
   "source": [
    "readm_only[readm_only['Score'] == 0] #There are no 0s in this dataframe"
   ]
  },
  {
   "cell_type": "code",
   "execution_count": 11,
   "metadata": {
    "collapsed": false
   },
   "outputs": [],
   "source": [
    "z = readm_only['Score'].replace({'Not Available': np.nan}) "
   ]
  },
  {
   "cell_type": "code",
   "execution_count": 12,
   "metadata": {
    "collapsed": false
   },
   "outputs": [
    {
     "name": "stderr",
     "output_type": "stream",
     "text": [
      "/Users/sheena/anaconda/lib/python2.7/site-packages/ipykernel/__main__.py:1: SettingWithCopyWarning: \n",
      "A value is trying to be set on a copy of a slice from a DataFrame.\n",
      "Try using .loc[row_indexer,col_indexer] = value instead\n",
      "\n",
      "See the caveats in the documentation: http://pandas.pydata.org/pandas-docs/stable/indexing.html#indexing-view-versus-copy\n",
      "  if __name__ == '__main__':\n"
     ]
    }
   ],
   "source": [
    "readm_only['Score'] = z.astype(float)"
   ]
  },
  {
   "cell_type": "code",
   "execution_count": 13,
   "metadata": {
    "collapsed": false
   },
   "outputs": [
    {
     "data": {
      "text/plain": [
       "Provider ID               int64\n",
       "Hospital Name            object\n",
       "Address                  object\n",
       "City                     object\n",
       "State                    object\n",
       "ZIP Code                  int64\n",
       "County Name              object\n",
       "Phone Number              int64\n",
       "Measure Name             object\n",
       "Measure ID               object\n",
       "Compared to National     object\n",
       "Denominator              object\n",
       "Score                   float64\n",
       "Lower Estimate           object\n",
       "Higher Estimate          object\n",
       "Footnote                 object\n",
       "Measure Start Date       object\n",
       "Measure End Date         object\n",
       "Location                float64\n",
       "dtype: object"
      ]
     },
     "execution_count": 13,
     "metadata": {},
     "output_type": "execute_result"
    }
   ],
   "source": [
    "readm_only.dtypes"
   ]
  },
  {
   "cell_type": "code",
   "execution_count": 14,
   "metadata": {
    "collapsed": false
   },
   "outputs": [],
   "source": [
    "r = pd.pivot_table(readm_only, index=['Hospital Name', 'State'], columns = 'Measure ID', values = 'Score')\n",
    "#r.index = r.index.droplevel()"
   ]
  },
  {
   "cell_type": "code",
   "execution_count": 15,
   "metadata": {
    "collapsed": false,
    "scrolled": false
   },
   "outputs": [
    {
     "data": {
      "text/html": [
       "<div>\n",
       "<table border=\"1\" class=\"dataframe\">\n",
       "  <thead>\n",
       "    <tr style=\"text-align: right;\">\n",
       "      <th></th>\n",
       "      <th>Measure ID</th>\n",
       "      <th>READM_30_AMI</th>\n",
       "      <th>READM_30_CABG</th>\n",
       "      <th>READM_30_COPD</th>\n",
       "      <th>READM_30_HF</th>\n",
       "      <th>READM_30_HIP_KNEE</th>\n",
       "      <th>READM_30_HOSP_WIDE</th>\n",
       "      <th>READM_30_PN</th>\n",
       "      <th>READM_30_STK</th>\n",
       "    </tr>\n",
       "    <tr>\n",
       "      <th>Hospital Name</th>\n",
       "      <th>State</th>\n",
       "      <th></th>\n",
       "      <th></th>\n",
       "      <th></th>\n",
       "      <th></th>\n",
       "      <th></th>\n",
       "      <th></th>\n",
       "      <th></th>\n",
       "      <th></th>\n",
       "    </tr>\n",
       "  </thead>\n",
       "  <tbody>\n",
       "    <tr>\n",
       "      <th>ABBEVILLE AREA MEDICAL CENTER</th>\n",
       "      <th>SC</th>\n",
       "      <td>NaN</td>\n",
       "      <td>NaN</td>\n",
       "      <td>20.3</td>\n",
       "      <td>21.1</td>\n",
       "      <td>4.4</td>\n",
       "      <td>15.7</td>\n",
       "      <td>17.3</td>\n",
       "      <td>NaN</td>\n",
       "    </tr>\n",
       "    <tr>\n",
       "      <th>ABBEVILLE GENERAL HOSPITAL</th>\n",
       "      <th>LA</th>\n",
       "      <td>NaN</td>\n",
       "      <td>NaN</td>\n",
       "      <td>19.1</td>\n",
       "      <td>24.6</td>\n",
       "      <td>4.2</td>\n",
       "      <td>16.0</td>\n",
       "      <td>17.8</td>\n",
       "      <td>NaN</td>\n",
       "    </tr>\n",
       "    <tr>\n",
       "      <th>ABBOTT NORTHWESTERN HOSPITAL</th>\n",
       "      <th>MN</th>\n",
       "      <td>16.8</td>\n",
       "      <td>13.4</td>\n",
       "      <td>20.4</td>\n",
       "      <td>22.5</td>\n",
       "      <td>4.4</td>\n",
       "      <td>15.0</td>\n",
       "      <td>19.6</td>\n",
       "      <td>13.7</td>\n",
       "    </tr>\n",
       "    <tr>\n",
       "      <th>ABILENE REGIONAL MEDICAL CENTER</th>\n",
       "      <th>TX</th>\n",
       "      <td>16.4</td>\n",
       "      <td>15.0</td>\n",
       "      <td>18.3</td>\n",
       "      <td>22.4</td>\n",
       "      <td>4.0</td>\n",
       "      <td>14.5</td>\n",
       "      <td>15.5</td>\n",
       "      <td>13.5</td>\n",
       "    </tr>\n",
       "    <tr>\n",
       "      <th>ABINGTON MEMORIAL HOSPITAL</th>\n",
       "      <th>PA</th>\n",
       "      <td>18.1</td>\n",
       "      <td>13.9</td>\n",
       "      <td>22.8</td>\n",
       "      <td>21.6</td>\n",
       "      <td>5.4</td>\n",
       "      <td>16.2</td>\n",
       "      <td>16.2</td>\n",
       "      <td>12.3</td>\n",
       "    </tr>\n",
       "  </tbody>\n",
       "</table>\n",
       "</div>"
      ],
      "text/plain": [
       "Measure ID                             READM_30_AMI  READM_30_CABG  \\\n",
       "Hospital Name                   State                                \n",
       "ABBEVILLE AREA MEDICAL CENTER   SC              NaN            NaN   \n",
       "ABBEVILLE GENERAL HOSPITAL      LA              NaN            NaN   \n",
       "ABBOTT NORTHWESTERN HOSPITAL    MN             16.8           13.4   \n",
       "ABILENE REGIONAL MEDICAL CENTER TX             16.4           15.0   \n",
       "ABINGTON MEMORIAL HOSPITAL      PA             18.1           13.9   \n",
       "\n",
       "Measure ID                             READM_30_COPD  READM_30_HF  \\\n",
       "Hospital Name                   State                               \n",
       "ABBEVILLE AREA MEDICAL CENTER   SC              20.3         21.1   \n",
       "ABBEVILLE GENERAL HOSPITAL      LA              19.1         24.6   \n",
       "ABBOTT NORTHWESTERN HOSPITAL    MN              20.4         22.5   \n",
       "ABILENE REGIONAL MEDICAL CENTER TX              18.3         22.4   \n",
       "ABINGTON MEMORIAL HOSPITAL      PA              22.8         21.6   \n",
       "\n",
       "Measure ID                             READM_30_HIP_KNEE  READM_30_HOSP_WIDE  \\\n",
       "Hospital Name                   State                                          \n",
       "ABBEVILLE AREA MEDICAL CENTER   SC                   4.4                15.7   \n",
       "ABBEVILLE GENERAL HOSPITAL      LA                   4.2                16.0   \n",
       "ABBOTT NORTHWESTERN HOSPITAL    MN                   4.4                15.0   \n",
       "ABILENE REGIONAL MEDICAL CENTER TX                   4.0                14.5   \n",
       "ABINGTON MEMORIAL HOSPITAL      PA                   5.4                16.2   \n",
       "\n",
       "Measure ID                             READM_30_PN  READM_30_STK  \n",
       "Hospital Name                   State                             \n",
       "ABBEVILLE AREA MEDICAL CENTER   SC            17.3           NaN  \n",
       "ABBEVILLE GENERAL HOSPITAL      LA            17.8           NaN  \n",
       "ABBOTT NORTHWESTERN HOSPITAL    MN            19.6          13.7  \n",
       "ABILENE REGIONAL MEDICAL CENTER TX            15.5          13.5  \n",
       "ABINGTON MEMORIAL HOSPITAL      PA            16.2          12.3  "
      ]
     },
     "execution_count": 15,
     "metadata": {},
     "output_type": "execute_result"
    }
   ],
   "source": [
    "r.head()"
   ]
  },
  {
   "cell_type": "code",
   "execution_count": 16,
   "metadata": {
    "collapsed": false
   },
   "outputs": [
    {
     "name": "stdout",
     "output_type": "stream",
     "text": [
      "<class 'pandas.core.frame.DataFrame'>\n",
      "MultiIndex: 4785 entries, (ABBEVILLE AREA MEDICAL CENTER, SC) to (ZUNI COMPREHENSIVE COMMUNITY HEALTH CENTER, NM)\n",
      "Data columns (total 8 columns):\n",
      "READM_30_AMI          2153 non-null float64\n",
      "READM_30_CABG         1022 non-null float64\n",
      "READM_30_COPD         3632 non-null float64\n",
      "READM_30_HF           3633 non-null float64\n",
      "READM_30_HIP_KNEE     2719 non-null float64\n",
      "READM_30_HOSP_WIDE    4378 non-null float64\n",
      "READM_30_PN           4072 non-null float64\n",
      "READM_30_STK          2599 non-null float64\n",
      "dtypes: float64(8)\n",
      "memory usage: 336.4+ KB\n"
     ]
    }
   ],
   "source": [
    "r.info()"
   ]
  },
  {
   "cell_type": "code",
   "execution_count": 17,
   "metadata": {
    "collapsed": false
   },
   "outputs": [],
   "source": [
    "r.reset_index(inplace=True)"
   ]
  },
  {
   "cell_type": "code",
   "execution_count": 18,
   "metadata": {
    "collapsed": true
   },
   "outputs": [],
   "source": [
    "relevant_columns_hf = ['Hospital Name', 'State', 'READM_30_HF']"
   ]
  },
  {
   "cell_type": "code",
   "execution_count": 19,
   "metadata": {
    "collapsed": true
   },
   "outputs": [],
   "source": [
    "relevant_columns_pn = ['Hospital Name', 'State', 'READM_30_PN']"
   ]
  },
  {
   "cell_type": "code",
   "execution_count": 20,
   "metadata": {
    "collapsed": false
   },
   "outputs": [],
   "source": [
    "target_HF = r[relevant_columns_hf]"
   ]
  },
  {
   "cell_type": "code",
   "execution_count": 21,
   "metadata": {
    "collapsed": true
   },
   "outputs": [],
   "source": [
    "target_PN = r[relevant_columns_pn]"
   ]
  },
  {
   "cell_type": "code",
   "execution_count": 22,
   "metadata": {
    "collapsed": false
   },
   "outputs": [
    {
     "name": "stdout",
     "output_type": "stream",
     "text": [
      "<class 'pandas.core.frame.DataFrame'>\n",
      "RangeIndex: 4785 entries, 0 to 4784\n",
      "Data columns (total 3 columns):\n",
      "Hospital Name    4785 non-null object\n",
      "State            4785 non-null object\n",
      "READM_30_PN      4072 non-null float64\n",
      "dtypes: float64(1), object(2)\n",
      "memory usage: 112.2+ KB\n"
     ]
    }
   ],
   "source": [
    "target_PN.info()"
   ]
  },
  {
   "cell_type": "code",
   "execution_count": 23,
   "metadata": {
    "collapsed": false
   },
   "outputs": [
    {
     "data": {
      "text/plain": [
       "56"
      ]
     },
     "execution_count": 23,
     "metadata": {},
     "output_type": "execute_result"
    }
   ],
   "source": [
    "target_HF_states = list(target_HF.State.unique())\n",
    "len(target_HF_states)"
   ]
  },
  {
   "cell_type": "code",
   "execution_count": 24,
   "metadata": {
    "collapsed": true
   },
   "outputs": [],
   "source": [
    "target_HF = target_HF.dropna()"
   ]
  },
  {
   "cell_type": "code",
   "execution_count": 25,
   "metadata": {
    "collapsed": true
   },
   "outputs": [],
   "source": [
    "target_PN = target_PN.dropna()"
   ]
  },
  {
   "cell_type": "code",
   "execution_count": 26,
   "metadata": {
    "collapsed": false
   },
   "outputs": [
    {
     "name": "stdout",
     "output_type": "stream",
     "text": [
      "<class 'pandas.core.frame.DataFrame'>\n",
      "Int64Index: 4072 entries, 0 to 4784\n",
      "Data columns (total 3 columns):\n",
      "Hospital Name    4072 non-null object\n",
      "State            4072 non-null object\n",
      "READM_30_PN      4072 non-null float64\n",
      "dtypes: float64(1), object(2)\n",
      "memory usage: 127.2+ KB\n"
     ]
    }
   ],
   "source": [
    "target_PN.info()"
   ]
  },
  {
   "cell_type": "code",
   "execution_count": 27,
   "metadata": {
    "collapsed": false
   },
   "outputs": [
    {
     "data": {
      "text/plain": [
       "0"
      ]
     },
     "execution_count": 27,
     "metadata": {},
     "output_type": "execute_result"
    }
   ],
   "source": [
    "target_PN.READM_30_PN.isnull().sum()"
   ]
  },
  {
   "cell_type": "code",
   "execution_count": 28,
   "metadata": {
    "collapsed": false
   },
   "outputs": [
    {
     "name": "stdout",
     "output_type": "stream",
     "text": [
      "READM_30_AMI\n",
      "READM_30_CABG\n",
      "READM_30_COPD\n",
      "READM_30_HF\n",
      "READM_30_HIP_KNEE\n",
      "READM_30_HOSP_WIDE\n",
      "READM_30_PN\n",
      "READM_30_STK\n"
     ]
    }
   ],
   "source": [
    "for x in r.columns[2:]:\n",
    "    print x"
   ]
  },
  {
   "cell_type": "code",
   "execution_count": 29,
   "metadata": {
    "collapsed": false
   },
   "outputs": [
    {
     "name": "stdout",
     "output_type": "stream",
     "text": [
      "<class 'pandas.core.frame.DataFrame'>\n",
      "RangeIndex: 4785 entries, 0 to 4784\n",
      "Data columns (total 10 columns):\n",
      "Hospital Name         4785 non-null object\n",
      "State                 4785 non-null object\n",
      "READM_30_AMI          2153 non-null float64\n",
      "READM_30_CABG         1022 non-null float64\n",
      "READM_30_COPD         3632 non-null float64\n",
      "READM_30_HF           3633 non-null float64\n",
      "READM_30_HIP_KNEE     2719 non-null float64\n",
      "READM_30_HOSP_WIDE    4378 non-null float64\n",
      "READM_30_PN           4072 non-null float64\n",
      "READM_30_STK          2599 non-null float64\n",
      "dtypes: float64(8), object(2)\n",
      "memory usage: 373.9+ KB\n"
     ]
    }
   ],
   "source": [
    "r.info()"
   ]
  },
  {
   "cell_type": "code",
   "execution_count": 30,
   "metadata": {
    "collapsed": false
   },
   "outputs": [],
   "source": [
    "lis = []\n",
    "for x in r.columns[2:]:\n",
    "    lis.append(r[x].mean(axis=0))"
   ]
  },
  {
   "cell_type": "code",
   "execution_count": 31,
   "metadata": {
    "collapsed": false
   },
   "outputs": [
    {
     "data": {
      "text/plain": [
       "[16.892475615420327,\n",
       " 14.408855185909992,\n",
       " 19.999990822320143,\n",
       " 21.9541884576567,\n",
       " 4.611107024641412,\n",
       " 15.577295568752838,\n",
       " 17.11102652259333,\n",
       " 12.56514043863026]"
      ]
     },
     "execution_count": 31,
     "metadata": {},
     "output_type": "execute_result"
    }
   ],
   "source": [
    "lis"
   ]
  },
  {
   "cell_type": "markdown",
   "metadata": {},
   "source": [
    "## Average Readmission Scores per disease"
   ]
  },
  {
   "cell_type": "code",
   "execution_count": 32,
   "metadata": {
    "collapsed": false
   },
   "outputs": [
    {
     "data": {
      "image/png": "[encoded data removed]",
      "text/plain": [
       "<matplotlib.figure.Figure at 0x114fe9890>"
      ]
     },
     "metadata": {},
     "output_type": "display_data"
    }
   ],
   "source": [
    "fig = plt.figure(figsize=(8,6))\n",
    "ax = fig.add_subplot(111)\n",
    "\n",
    "leng = np.arange(len(lis))\n",
    "plt.bar(leng, lis)\n",
    "\n",
    "xTickMarks = [i for i in list_conditions]\n",
    "ax.set_xticks(leng)\n",
    "xtickNames = ax.set_xticklabels(xTickMarks, fontsize=8)\n",
    "ax.set_xlim(-wid,len(ind)+wid)\n",
    "plt.setp(xtickNames, rotation=45, fontsize=10)\n",
    "plt.ylabel('Ave Readmission Score')\n",
    "plt.title('Average Readmission Scores across hospitals')\n",
    "fig.tight_layout()\n",
    "fig.subplots_adjust(bottom=0.2)\n",
    "plt.show()\n",
    "#HF has a large impact and knee_hip has a smaller impact"
   ]
  },
  {
   "cell_type": "markdown",
   "metadata": {},
   "source": [
    "## Readmission rates by state"
   ]
  },
  {
   "cell_type": "code",
   "execution_count": 33,
   "metadata": {
    "collapsed": false
   },
   "outputs": [
    {
     "data": {
      "text/plain": [
       "1152"
      ]
     },
     "execution_count": 33,
     "metadata": {},
     "output_type": "execute_result"
    }
   ],
   "source": [
    "r['READM_30_HF'].isnull().sum() # No null values in REadmission rates for HD"
   ]
  },
  {
   "cell_type": "code",
   "execution_count": 34,
   "metadata": {
    "collapsed": false
   },
   "outputs": [
    {
     "data": {
      "text/html": [
       "<div>\n",
       "<table border=\"1\" class=\"dataframe\">\n",
       "  <thead>\n",
       "    <tr style=\"text-align: right;\">\n",
       "      <th>Measure ID</th>\n",
       "      <th>Hospital Name</th>\n",
       "      <th>State</th>\n",
       "      <th>READM_30_AMI</th>\n",
       "      <th>READM_30_CABG</th>\n",
       "      <th>READM_30_COPD</th>\n",
       "      <th>READM_30_HF</th>\n",
       "      <th>READM_30_HIP_KNEE</th>\n",
       "      <th>READM_30_HOSP_WIDE</th>\n",
       "      <th>READM_30_PN</th>\n",
       "      <th>READM_30_STK</th>\n",
       "    </tr>\n",
       "  </thead>\n",
       "  <tbody>\n",
       "  </tbody>\n",
       "</table>\n",
       "</div>"
      ],
      "text/plain": [
       "Empty DataFrame\n",
       "Columns: [Hospital Name, State, READM_30_AMI, READM_30_CABG, READM_30_COPD, READM_30_HF, READM_30_HIP_KNEE, READM_30_HOSP_WIDE, READM_30_PN, READM_30_STK]\n",
       "Index: []"
      ]
     },
     "execution_count": 34,
     "metadata": {},
     "output_type": "execute_result"
    }
   ],
   "source": [
    "r[r['READM_30_HF'] == 0 ] #There are some 0 values here but it is unclear if the 0s are missing values or 0s"
   ]
  },
  {
   "cell_type": "code",
   "execution_count": 35,
   "metadata": {
    "collapsed": false
   },
   "outputs": [
    {
     "data": {
      "text/plain": [
       "Measure ID\n",
       "Hospital Name    0\n",
       "State            0\n",
       "READM_30_HF      0\n",
       "dtype: int64"
      ]
     },
     "execution_count": 35,
     "metadata": {},
     "output_type": "execute_result"
    }
   ],
   "source": [
    "target_HF.isnull().sum()"
   ]
  },
  {
   "cell_type": "code",
   "execution_count": 36,
   "metadata": {
    "collapsed": false
   },
   "outputs": [
    {
     "data": {
      "image/png": "[encoded data removed]",
      "text/plain": [
       "<matplotlib.figure.Figure at 0x114fe0790>"
      ]
     },
     "metadata": {},
     "output_type": "display_data"
    }
   ],
   "source": [
    "# is this a normal dist? #Are the 0s real 0s or missing values?\n",
    "plt.hist(target_HF.READM_30_HF)\n",
    "plt.title('Histogram of Readmission Rates-HF')\n",
    "plt.show()"
   ]
  },
  {
   "cell_type": "code",
   "execution_count": 37,
   "metadata": {
    "collapsed": false
   },
   "outputs": [
    {
     "data": {
      "text/plain": [
       "56"
      ]
     },
     "execution_count": 37,
     "metadata": {},
     "output_type": "execute_result"
    }
   ],
   "source": [
    "len(r.State.unique())"
   ]
  },
  {
   "cell_type": "code",
   "execution_count": 38,
   "metadata": {
    "collapsed": false
   },
   "outputs": [
    {
     "data": {
      "image/png": "[encoded data removed]",
      "text/plain": [
       "<matplotlib.figure.Figure at 0x115ff0fd0>"
      ]
     },
     "metadata": {},
     "output_type": "display_data"
    }
   ],
   "source": [
    "plt.hist(target_PN.READM_30_PN)\n",
    "plt.title('Histogram of Readmission Rates-PN')\n",
    "plt.show()"
   ]
  },
  {
   "cell_type": "code",
   "execution_count": 39,
   "metadata": {
    "collapsed": false
   },
   "outputs": [
    {
     "data": {
      "text/plain": [
       "(0.9889797568321228, 3.271633259732009e-16)"
      ]
     },
     "execution_count": 39,
     "metadata": {},
     "output_type": "execute_result"
    }
   ],
   "source": [
    "#is it normal?\n",
    "from scipy import stats\n",
    "stats.shapiro(r[r['READM_30_HF'] > 0].READM_30_HF) #Yes data is normal without the 0s."
   ]
  },
  {
   "cell_type": "code",
   "execution_count": 40,
   "metadata": {
    "collapsed": false
   },
   "outputs": [
    {
     "name": "stdout",
     "output_type": "stream",
     "text": [
      "['AK', 'AL', 'AR', 'AS', 'AZ', 'CA', 'CO', 'CT', 'DC', 'DE', 'FL', 'GA', 'GU', 'HI', 'IA', 'ID', 'IL', 'IN', 'KS', 'KY', 'LA', 'MA', 'MD', 'ME', 'MI', 'MN', 'MO', 'MP', 'MS', 'MT', 'NC', 'ND', 'NE', 'NH', 'NJ', 'NM', 'NV', 'NY', 'OH', 'OK', 'OR', 'PA', 'PR', 'RI', 'SC', 'SD', 'TN', 'TX', 'UT', 'VA', 'VI', 'VT', 'WA', 'WI', 'WV', 'WY']\n",
      "56\n"
     ]
    }
   ],
   "source": [
    "states = sorted(target_HF_states)\n",
    "print states #alpha order states\n",
    "print len(states)"
   ]
  },
  {
   "cell_type": "code",
   "execution_count": 41,
   "metadata": {
    "collapsed": false
   },
   "outputs": [
    {
     "data": {
      "text/plain": [
       "50"
      ]
     },
     "execution_count": 41,
     "metadata": {},
     "output_type": "execute_result"
    }
   ],
   "source": [
    "states = [e for e in states if e not in ('AS','DC','GU','MP','PR','VI')]\n",
    "len(states)"
   ]
  },
  {
   "cell_type": "code",
   "execution_count": 42,
   "metadata": {
    "collapsed": true
   },
   "outputs": [],
   "source": [
    "states_cols = ['State','READM_30_HF']"
   ]
  },
  {
   "cell_type": "code",
   "execution_count": 43,
   "metadata": {
    "collapsed": true
   },
   "outputs": [],
   "source": [
    "states_cols1 = ['State','READM_30_PN']"
   ]
  },
  {
   "cell_type": "code",
   "execution_count": 44,
   "metadata": {
    "collapsed": false
   },
   "outputs": [],
   "source": [
    "#creating dict of states for plotting\n",
    "states_df = target_HF[states_cols].sort_values('State')\n",
    "state_hf_target = {}\n",
    "for i in states:\n",
    "    state_hf_target[i] = states_df[states_df['State'] == i].READM_30_HF"
   ]
  },
  {
   "cell_type": "code",
   "execution_count": 45,
   "metadata": {
    "collapsed": true
   },
   "outputs": [],
   "source": [
    "state_hf_alpha = {}\n",
    "for i in states:\n",
    "    state_hf_alpha[i] = state_hf_target[i].mean()"
   ]
  },
  {
   "cell_type": "code",
   "execution_count": 46,
   "metadata": {
    "collapsed": false
   },
   "outputs": [
    {
     "name": "stdout",
     "output_type": "stream",
     "text": [
      "There are 9 entries for AK.\n",
      "There are 77 entries for AL.\n",
      "There are 65 entries for AR.\n",
      "There are 54 entries for AZ.\n",
      "There are 260 entries for CA.\n",
      "There are 51 entries for CO.\n",
      "There are 28 entries for CT.\n",
      "There are 6 entries for DE.\n",
      "There are 175 entries for FL.\n",
      "There are 108 entries for GA.\n",
      "There are 13 entries for HI.\n",
      "There are 88 entries for IA.\n",
      "There are 21 entries for ID.\n",
      "There are 167 entries for IL.\n",
      "There are 106 entries for IN.\n",
      "There are 74 entries for KS.\n",
      "There are 87 entries for KY.\n",
      "There are 86 entries for LA.\n",
      "There are 57 entries for MA.\n",
      "There are 0 entries for MD.\n",
      "There are 32 entries for ME.\n",
      "There are 111 entries for MI.\n",
      "There are 80 entries for MN.\n",
      "There are 92 entries for MO.\n",
      "There are 74 entries for MS.\n",
      "There are 22 entries for MT.\n",
      "There are 96 entries for NC.\n",
      "There are 21 entries for ND.\n",
      "There are 44 entries for NE.\n",
      "There are 25 entries for NH.\n",
      "There are 63 entries for NJ.\n",
      "There are 31 entries for NM.\n",
      "There are 27 entries for NV.\n",
      "There are 155 entries for NY.\n",
      "There are 139 entries for OH.\n",
      "There are 77 entries for OK.\n",
      "There are 51 entries for OR.\n",
      "There are 148 entries for PA.\n",
      "There are 10 entries for RI.\n",
      "There are 52 entries for SC.\n",
      "There are 21 entries for SD.\n",
      "There are 96 entries for TN.\n",
      "There are 259 entries for TX.\n",
      "There are 25 entries for UT.\n",
      "There are 78 entries for VA.\n",
      "There are 13 entries for VT.\n",
      "There are 64 entries for WA.\n",
      "There are 106 entries for WI.\n",
      "There are 40 entries for WV.\n",
      "There are 15 entries for WY.\n"
     ]
    }
   ],
   "source": [
    "for i in states:\n",
    "    print \"There are %s entries for %s.\" % (len(state_hf_target[i]), i)"
   ]
  },
  {
   "cell_type": "code",
   "execution_count": 47,
   "metadata": {
    "collapsed": false
   },
   "outputs": [],
   "source": [
    "import operator\n",
    "sorted_dict = sorted(state_hf_alpha.items(), key=operator.itemgetter(1))\n",
    "#Sorting by value of target"
   ]
  },
  {
   "cell_type": "code",
   "execution_count": 48,
   "metadata": {
    "collapsed": false
   },
   "outputs": [
    {
     "data": {
      "image/png": "[encoded data removed]",
      "text/plain": [
       "<matplotlib.figure.Figure at 0x11b241950>"
      ]
     },
     "metadata": {},
     "output_type": "display_data"
    }
   ],
   "source": [
    "fig = plt.figure(figsize=(12,6))\n",
    "ax = fig.add_subplot(111)\n",
    "\n",
    "\n",
    "x_val = [x[0] for x in sorted_dict]\n",
    "y_val = [x[1] for x in sorted_dict]\n",
    "ind = np.arange(len(x_val))\n",
    "plt.bar(range(len(y_val)), y_val)\n",
    "xTickMarks = [i for i in x_val]\n",
    "ax.set_xticks(ind)\n",
    "xtickNames = ax.set_xticklabels(xTickMarks, fontsize=8)\n",
    "plt.setp(xtickNames, rotation=75, fontsize=10)\n",
    "plt.title('Readmission Rates by State-HF')\n",
    "plt.show()"
   ]
  },
  {
   "cell_type": "markdown",
   "metadata": {},
   "source": [
    "### HF mean centered"
   ]
  },
  {
   "cell_type": "code",
   "execution_count": 49,
   "metadata": {
    "collapsed": true
   },
   "outputs": [],
   "source": [
    "target_HF['norm'] = (target_HF.READM_30_HF - target_HF.READM_30_HF.mean()) / target_HF.READM_30_HF.std()"
   ]
  },
  {
   "cell_type": "code",
   "execution_count": 50,
   "metadata": {
    "collapsed": false
   },
   "outputs": [
    {
     "name": "stdout",
     "output_type": "stream",
     "text": [
      "<class 'pandas.core.frame.DataFrame'>\n",
      "Int64Index: 3633 entries, 0 to 4783\n",
      "Data columns (total 4 columns):\n",
      "Hospital Name    3633 non-null object\n",
      "State            3633 non-null object\n",
      "READM_30_HF      3633 non-null float64\n",
      "norm             3633 non-null float64\n",
      "dtypes: float64(2), object(2)\n",
      "memory usage: 141.9+ KB\n"
     ]
    }
   ],
   "source": [
    "target_HF.info()"
   ]
  },
  {
   "cell_type": "code",
   "execution_count": 51,
   "metadata": {
    "collapsed": true
   },
   "outputs": [],
   "source": [
    "states_cols = ['Hospital Name','State','norm']"
   ]
  },
  {
   "cell_type": "code",
   "execution_count": 52,
   "metadata": {
    "collapsed": false
   },
   "outputs": [],
   "source": [
    "#creating dict of states for plotting\n",
    "states_df_hf_norm = target_HF[states_cols].sort_values('State')\n",
    "state_hf_norm_target = {}\n",
    "for i in states:\n",
    "    state_hf_norm_target[i] = states_df_hf_norm[states_df_hf_norm['State'] == i].norm"
   ]
  },
  {
   "cell_type": "code",
   "execution_count": 53,
   "metadata": {
    "collapsed": true
   },
   "outputs": [],
   "source": [
    "state_df_hf_alpha = {}\n",
    "for i in states:\n",
    "    state_df_hf_alpha[i] = state_hf_norm_target[i].mean()"
   ]
  },
  {
   "cell_type": "code",
   "execution_count": 54,
   "metadata": {
    "collapsed": false
   },
   "outputs": [],
   "source": [
    "import operator\n",
    "sorted_dict2 = sorted(state_df_hf_alpha.items(), key=operator.itemgetter(1))\n",
    "#Sorting by value of target"
   ]
  },
  {
   "cell_type": "code",
   "execution_count": 55,
   "metadata": {
    "collapsed": false
   },
   "outputs": [
    {
     "data": {
      "image/png": "[encoded data removed]",
      "text/plain": [
       "<matplotlib.figure.Figure at 0x100535290>"
      ]
     },
     "metadata": {},
     "output_type": "display_data"
    }
   ],
   "source": [
    "fig = plt.figure(figsize=(12,6))\n",
    "ax = fig.add_subplot(111)\n",
    "\n",
    "\n",
    "x_val = [x[0] for x in sorted_dict2]\n",
    "y_val = [x[1] for x in sorted_dict2]\n",
    "ind = np.arange(len(x_val))\n",
    "plt.bar(range(len(y_val)), y_val)\n",
    "xTickMarks = [i for i in x_val]\n",
    "ax.set_xticks(ind)\n",
    "xtickNames = ax.set_xticklabels(xTickMarks, fontsize=8)\n",
    "plt.setp(xtickNames, rotation=75, fontsize=10)\n",
    "plt.title('Readmission Rates by State-HF-mean centered')\n",
    "plt.show()"
   ]
  },
  {
   "cell_type": "code",
   "execution_count": 56,
   "metadata": {
    "collapsed": false
   },
   "outputs": [
    {
     "data": {
      "text/plain": [
       "50"
      ]
     },
     "execution_count": 56,
     "metadata": {},
     "output_type": "execute_result"
    }
   ],
   "source": [
    "len(y_val)"
   ]
  },
  {
   "cell_type": "code",
   "execution_count": 57,
   "metadata": {
    "collapsed": false
   },
   "outputs": [],
   "source": [
    "hf_values = list(state_hf_alpha.values())\n",
    "hf_keys = list(state_hf_alpha.keys())"
   ]
  },
  {
   "cell_type": "code",
   "execution_count": 58,
   "metadata": {
    "collapsed": false
   },
   "outputs": [
    {
     "ename": "NameError",
     "evalue": "name 'state_pn_alpha' is not defined",
     "output_type": "error",
     "traceback": [
      "\u001b[0;31m---------------------------------------------------------------------------\u001b[0m",
      "\u001b[0;31mNameError\u001b[0m                                 Traceback (most recent call last)",
      "\u001b[0;32m<ipython-input-58-21d14e3e8364>\u001b[0m in \u001b[0;36m<module>\u001b[0;34m()\u001b[0m\n\u001b[1;32m      1\u001b[0m \u001b[0;32mimport\u001b[0m \u001b[0moperator\u001b[0m\u001b[0;34m\u001b[0m\u001b[0m\n\u001b[0;32m----> 2\u001b[0;31m \u001b[0msorted_dict_pn\u001b[0m \u001b[0;34m=\u001b[0m \u001b[0msorted\u001b[0m\u001b[0;34m(\u001b[0m\u001b[0mstate_pn_alpha\u001b[0m\u001b[0;34m.\u001b[0m\u001b[0mitems\u001b[0m\u001b[0;34m(\u001b[0m\u001b[0;34m)\u001b[0m\u001b[0;34m,\u001b[0m \u001b[0mkey\u001b[0m\u001b[0;34m=\u001b[0m\u001b[0moperator\u001b[0m\u001b[0;34m.\u001b[0m\u001b[0mitemgetter\u001b[0m\u001b[0;34m(\u001b[0m\u001b[0;36m1\u001b[0m\u001b[0;34m)\u001b[0m\u001b[0;34m)\u001b[0m\u001b[0;34m\u001b[0m\u001b[0m\n\u001b[0m\u001b[1;32m      3\u001b[0m \u001b[0;31m#Sorting by value of target\u001b[0m\u001b[0;34m\u001b[0m\u001b[0;34m\u001b[0m\u001b[0m\n",
      "\u001b[0;31mNameError\u001b[0m: name 'state_pn_alpha' is not defined"
     ]
    }
   ],
   "source": [
    "import operator\n",
    "sorted_dict_pn = sorted(state_pn_alpha.items(), key=operator.itemgetter(1))\n",
    "#Sorting by value of target"
   ]
  },
  {
   "cell_type": "code",
   "execution_count": null,
   "metadata": {
    "collapsed": false
   },
   "outputs": [],
   "source": [
    "fig = plt.figure(figsize=(12,6))\n",
    "ax = fig.add_subplot(111)\n",
    "\n",
    "ind = np.arange(len(x_val))\n",
    "x_val = [x[0] for x in sorted_dict_pn]\n",
    "y_val = [x[1] for x in sorted_dict_pn]\n",
    "\n",
    "plt.bar(range(len(y_val)), y_val)\n",
    "xTickMarks = [i for i in x_val]\n",
    "ax.set_xticks(ind)\n",
    "xtickNames = ax.set_xticklabels(xTickMarks, fontsize=8)\n",
    "plt.setp(xtickNames, rotation=75, fontsize=10)\n",
    "plt.title('Readmission Rates by State-PN')\n",
    "plt.show()"
   ]
  },
  {
   "cell_type": "code",
   "execution_count": 59,
   "metadata": {
    "collapsed": true
   },
   "outputs": [],
   "source": [
    "aves= pd.DataFrame()"
   ]
  },
  {
   "cell_type": "code",
   "execution_count": 60,
   "metadata": {
    "collapsed": false
   },
   "outputs": [
    {
     "data": {
      "text/html": [
       "<div>\n",
       "<table border=\"1\" class=\"dataframe\">\n",
       "  <thead>\n",
       "    <tr style=\"text-align: right;\">\n",
       "      <th></th>\n",
       "      <th>states</th>\n",
       "      <th>aves</th>\n",
       "    </tr>\n",
       "  </thead>\n",
       "  <tbody>\n",
       "    <tr>\n",
       "      <th>22</th>\n",
       "      <td>AK</td>\n",
       "      <td>21.588889</td>\n",
       "    </tr>\n",
       "    <tr>\n",
       "      <th>23</th>\n",
       "      <td>AL</td>\n",
       "      <td>21.900000</td>\n",
       "    </tr>\n",
       "    <tr>\n",
       "      <th>24</th>\n",
       "      <td>AR</td>\n",
       "      <td>22.744615</td>\n",
       "    </tr>\n",
       "    <tr>\n",
       "      <th>31</th>\n",
       "      <td>AZ</td>\n",
       "      <td>21.466667</td>\n",
       "    </tr>\n",
       "    <tr>\n",
       "      <th>18</th>\n",
       "      <td>CA</td>\n",
       "      <td>22.005128</td>\n",
       "    </tr>\n",
       "    <tr>\n",
       "      <th>21</th>\n",
       "      <td>CO</td>\n",
       "      <td>20.935294</td>\n",
       "    </tr>\n",
       "    <tr>\n",
       "      <th>33</th>\n",
       "      <td>CT</td>\n",
       "      <td>22.050000</td>\n",
       "    </tr>\n",
       "    <tr>\n",
       "      <th>1</th>\n",
       "      <td>DE</td>\n",
       "      <td>21.616667</td>\n",
       "    </tr>\n",
       "    <tr>\n",
       "      <th>5</th>\n",
       "      <td>FL</td>\n",
       "      <td>22.653714</td>\n",
       "    </tr>\n",
       "    <tr>\n",
       "      <th>27</th>\n",
       "      <td>GA</td>\n",
       "      <td>21.898148</td>\n",
       "    </tr>\n",
       "    <tr>\n",
       "      <th>4</th>\n",
       "      <td>HI</td>\n",
       "      <td>21.800000</td>\n",
       "    </tr>\n",
       "    <tr>\n",
       "      <th>29</th>\n",
       "      <td>IA</td>\n",
       "      <td>21.551136</td>\n",
       "    </tr>\n",
       "    <tr>\n",
       "      <th>32</th>\n",
       "      <td>ID</td>\n",
       "      <td>20.947619</td>\n",
       "    </tr>\n",
       "    <tr>\n",
       "      <th>26</th>\n",
       "      <td>IL</td>\n",
       "      <td>22.092415</td>\n",
       "    </tr>\n",
       "    <tr>\n",
       "      <th>28</th>\n",
       "      <td>IN</td>\n",
       "      <td>21.484906</td>\n",
       "    </tr>\n",
       "    <tr>\n",
       "      <th>43</th>\n",
       "      <td>KS</td>\n",
       "      <td>21.517568</td>\n",
       "    </tr>\n",
       "    <tr>\n",
       "      <th>47</th>\n",
       "      <td>KY</td>\n",
       "      <td>22.606897</td>\n",
       "    </tr>\n",
       "    <tr>\n",
       "      <th>11</th>\n",
       "      <td>LA</td>\n",
       "      <td>22.263953</td>\n",
       "    </tr>\n",
       "    <tr>\n",
       "      <th>36</th>\n",
       "      <td>MA</td>\n",
       "      <td>22.235088</td>\n",
       "    </tr>\n",
       "    <tr>\n",
       "      <th>35</th>\n",
       "      <td>MD</td>\n",
       "      <td>NaN</td>\n",
       "    </tr>\n",
       "    <tr>\n",
       "      <th>34</th>\n",
       "      <td>ME</td>\n",
       "      <td>21.209375</td>\n",
       "    </tr>\n",
       "    <tr>\n",
       "      <th>41</th>\n",
       "      <td>MI</td>\n",
       "      <td>21.829730</td>\n",
       "    </tr>\n",
       "    <tr>\n",
       "      <th>40</th>\n",
       "      <td>MN</td>\n",
       "      <td>21.626250</td>\n",
       "    </tr>\n",
       "    <tr>\n",
       "      <th>39</th>\n",
       "      <td>MO</td>\n",
       "      <td>21.994565</td>\n",
       "    </tr>\n",
       "    <tr>\n",
       "      <th>45</th>\n",
       "      <td>MS</td>\n",
       "      <td>22.554054</td>\n",
       "    </tr>\n",
       "    <tr>\n",
       "      <th>44</th>\n",
       "      <td>MT</td>\n",
       "      <td>21.163636</td>\n",
       "    </tr>\n",
       "    <tr>\n",
       "      <th>12</th>\n",
       "      <td>NC</td>\n",
       "      <td>21.917708</td>\n",
       "    </tr>\n",
       "    <tr>\n",
       "      <th>13</th>\n",
       "      <td>ND</td>\n",
       "      <td>21.180952</td>\n",
       "    </tr>\n",
       "    <tr>\n",
       "      <th>14</th>\n",
       "      <td>NE</td>\n",
       "      <td>21.170455</td>\n",
       "    </tr>\n",
       "    <tr>\n",
       "      <th>7</th>\n",
       "      <td>NH</td>\n",
       "      <td>21.756000</td>\n",
       "    </tr>\n",
       "    <tr>\n",
       "      <th>8</th>\n",
       "      <td>NJ</td>\n",
       "      <td>22.455556</td>\n",
       "    </tr>\n",
       "    <tr>\n",
       "      <th>9</th>\n",
       "      <td>NM</td>\n",
       "      <td>21.512903</td>\n",
       "    </tr>\n",
       "    <tr>\n",
       "      <th>19</th>\n",
       "      <td>NV</td>\n",
       "      <td>22.159259</td>\n",
       "    </tr>\n",
       "    <tr>\n",
       "      <th>16</th>\n",
       "      <td>NY</td>\n",
       "      <td>23.072903</td>\n",
       "    </tr>\n",
       "    <tr>\n",
       "      <th>37</th>\n",
       "      <td>OH</td>\n",
       "      <td>21.900719</td>\n",
       "    </tr>\n",
       "    <tr>\n",
       "      <th>30</th>\n",
       "      <td>OK</td>\n",
       "      <td>21.977922</td>\n",
       "    </tr>\n",
       "    <tr>\n",
       "      <th>48</th>\n",
       "      <td>OR</td>\n",
       "      <td>21.452941</td>\n",
       "    </tr>\n",
       "    <tr>\n",
       "      <th>17</th>\n",
       "      <td>PA</td>\n",
       "      <td>22.007432</td>\n",
       "    </tr>\n",
       "    <tr>\n",
       "      <th>42</th>\n",
       "      <td>RI</td>\n",
       "      <td>22.350000</td>\n",
       "    </tr>\n",
       "    <tr>\n",
       "      <th>46</th>\n",
       "      <td>SC</td>\n",
       "      <td>21.523077</td>\n",
       "    </tr>\n",
       "    <tr>\n",
       "      <th>49</th>\n",
       "      <td>SD</td>\n",
       "      <td>20.995238</td>\n",
       "    </tr>\n",
       "    <tr>\n",
       "      <th>15</th>\n",
       "      <td>TN</td>\n",
       "      <td>22.164583</td>\n",
       "    </tr>\n",
       "    <tr>\n",
       "      <th>10</th>\n",
       "      <td>TX</td>\n",
       "      <td>21.679151</td>\n",
       "    </tr>\n",
       "    <tr>\n",
       "      <th>38</th>\n",
       "      <td>UT</td>\n",
       "      <td>20.644000</td>\n",
       "    </tr>\n",
       "    <tr>\n",
       "      <th>20</th>\n",
       "      <td>VA</td>\n",
       "      <td>22.212821</td>\n",
       "    </tr>\n",
       "    <tr>\n",
       "      <th>25</th>\n",
       "      <td>VT</td>\n",
       "      <td>21.261538</td>\n",
       "    </tr>\n",
       "    <tr>\n",
       "      <th>0</th>\n",
       "      <td>WA</td>\n",
       "      <td>21.661719</td>\n",
       "    </tr>\n",
       "    <tr>\n",
       "      <th>2</th>\n",
       "      <td>WI</td>\n",
       "      <td>21.147642</td>\n",
       "    </tr>\n",
       "    <tr>\n",
       "      <th>3</th>\n",
       "      <td>WV</td>\n",
       "      <td>22.592500</td>\n",
       "    </tr>\n",
       "    <tr>\n",
       "      <th>6</th>\n",
       "      <td>WY</td>\n",
       "      <td>21.813333</td>\n",
       "    </tr>\n",
       "  </tbody>\n",
       "</table>\n",
       "</div>"
      ],
      "text/plain": [
       "   states       aves\n",
       "22     AK  21.588889\n",
       "23     AL  21.900000\n",
       "24     AR  22.744615\n",
       "31     AZ  21.466667\n",
       "18     CA  22.005128\n",
       "21     CO  20.935294\n",
       "33     CT  22.050000\n",
       "1      DE  21.616667\n",
       "5      FL  22.653714\n",
       "27     GA  21.898148\n",
       "4      HI  21.800000\n",
       "29     IA  21.551136\n",
       "32     ID  20.947619\n",
       "26     IL  22.092415\n",
       "28     IN  21.484906\n",
       "43     KS  21.517568\n",
       "47     KY  22.606897\n",
       "11     LA  22.263953\n",
       "36     MA  22.235088\n",
       "35     MD        NaN\n",
       "34     ME  21.209375\n",
       "41     MI  21.829730\n",
       "40     MN  21.626250\n",
       "39     MO  21.994565\n",
       "45     MS  22.554054\n",
       "44     MT  21.163636\n",
       "12     NC  21.917708\n",
       "13     ND  21.180952\n",
       "14     NE  21.170455\n",
       "7      NH  21.756000\n",
       "8      NJ  22.455556\n",
       "9      NM  21.512903\n",
       "19     NV  22.159259\n",
       "16     NY  23.072903\n",
       "37     OH  21.900719\n",
       "30     OK  21.977922\n",
       "48     OR  21.452941\n",
       "17     PA  22.007432\n",
       "42     RI  22.350000\n",
       "46     SC  21.523077\n",
       "49     SD  20.995238\n",
       "15     TN  22.164583\n",
       "10     TX  21.679151\n",
       "38     UT  20.644000\n",
       "20     VA  22.212821\n",
       "25     VT  21.261538\n",
       "0      WA  21.661719\n",
       "2      WI  21.147642\n",
       "3      WV  22.592500\n",
       "6      WY  21.813333"
      ]
     },
     "execution_count": 60,
     "metadata": {},
     "output_type": "execute_result"
    }
   ],
   "source": [
    "aves['states'] = hf_keys\n",
    "aves['aves'] = hf_values\n",
    "aves = aves.sort_values('states')\n",
    "aves"
   ]
  },
  {
   "cell_type": "code",
   "execution_count": 61,
   "metadata": {
    "collapsed": false
   },
   "outputs": [
    {
     "data": {
      "text/html": [
       "<div>\n",
       "<table border=\"1\" class=\"dataframe\">\n",
       "  <thead>\n",
       "    <tr style=\"text-align: right;\">\n",
       "      <th></th>\n",
       "      <th>0</th>\n",
       "      <th>1</th>\n",
       "    </tr>\n",
       "  </thead>\n",
       "  <tbody>\n",
       "    <tr>\n",
       "      <th>0</th>\n",
       "      <td>Alaska</td>\n",
       "      <td>0.114</td>\n",
       "    </tr>\n",
       "    <tr>\n",
       "      <th>1</th>\n",
       "      <td>Utah</td>\n",
       "      <td>0.115</td>\n",
       "    </tr>\n",
       "    <tr>\n",
       "      <th>2</th>\n",
       "      <td>Texas</td>\n",
       "      <td>0.132</td>\n",
       "    </tr>\n",
       "    <tr>\n",
       "      <th>3</th>\n",
       "      <td>California</td>\n",
       "      <td>0.144</td>\n",
       "    </tr>\n",
       "    <tr>\n",
       "      <th>4</th>\n",
       "      <td>Colorado</td>\n",
       "      <td>0.144</td>\n",
       "    </tr>\n",
       "  </tbody>\n",
       "</table>\n",
       "</div>"
      ],
      "text/plain": [
       "            0      1\n",
       "0      Alaska  0.114\n",
       "1        Utah  0.115\n",
       "2       Texas  0.132\n",
       "3  California  0.144\n",
       "4    Colorado  0.144"
      ]
     },
     "execution_count": 61,
     "metadata": {},
     "output_type": "execute_result"
    }
   ],
   "source": [
    "percent_medicare = pd.read_csv('raw_data.csv', sep='\\t', header=None)\n",
    "percent_medicare.head()"
   ]
  },
  {
   "cell_type": "code",
   "execution_count": 62,
   "metadata": {
    "collapsed": false
   },
   "outputs": [
    {
     "name": "stdout",
     "output_type": "stream",
     "text": [
      "<class 'pandas.core.frame.DataFrame'>\n",
      "RangeIndex: 50 entries, 0 to 49\n",
      "Data columns (total 2 columns):\n",
      "0    50 non-null object\n",
      "1    50 non-null float64\n",
      "dtypes: float64(1), object(1)\n",
      "memory usage: 872.0+ bytes\n"
     ]
    }
   ],
   "source": [
    "percent_medicare.info()"
   ]
  },
  {
   "cell_type": "code",
   "execution_count": 63,
   "metadata": {
    "collapsed": false
   },
   "outputs": [
    {
     "data": {
      "text/html": [
       "<div>\n",
       "<table border=\"1\" class=\"dataframe\">\n",
       "  <thead>\n",
       "    <tr style=\"text-align: right;\">\n",
       "      <th></th>\n",
       "      <th>states</th>\n",
       "      <th>percent</th>\n",
       "    </tr>\n",
       "  </thead>\n",
       "  <tbody>\n",
       "    <tr>\n",
       "      <th>0</th>\n",
       "      <td>Alaska</td>\n",
       "      <td>0.114</td>\n",
       "    </tr>\n",
       "    <tr>\n",
       "      <th>1</th>\n",
       "      <td>Utah</td>\n",
       "      <td>0.115</td>\n",
       "    </tr>\n",
       "    <tr>\n",
       "      <th>2</th>\n",
       "      <td>Texas</td>\n",
       "      <td>0.132</td>\n",
       "    </tr>\n",
       "    <tr>\n",
       "      <th>3</th>\n",
       "      <td>California</td>\n",
       "      <td>0.144</td>\n",
       "    </tr>\n",
       "    <tr>\n",
       "      <th>4</th>\n",
       "      <td>Colorado</td>\n",
       "      <td>0.144</td>\n",
       "    </tr>\n",
       "  </tbody>\n",
       "</table>\n",
       "</div>"
      ],
      "text/plain": [
       "       states  percent\n",
       "0      Alaska    0.114\n",
       "1        Utah    0.115\n",
       "2       Texas    0.132\n",
       "3  California    0.144\n",
       "4    Colorado    0.144"
      ]
     },
     "execution_count": 63,
     "metadata": {},
     "output_type": "execute_result"
    }
   ],
   "source": [
    "percent_medicare.rename(columns={0: \"states\"}, inplace=True)\n",
    "percent_medicare.rename(columns={1: \"percent\"}, inplace=True)\n",
    "percent_medicare.head()"
   ]
  },
  {
   "cell_type": "code",
   "execution_count": 64,
   "metadata": {
    "collapsed": false
   },
   "outputs": [],
   "source": [
    "state_abbrev = pd.read_csv('states.csv')"
   ]
  },
  {
   "cell_type": "code",
   "execution_count": 65,
   "metadata": {
    "collapsed": false
   },
   "outputs": [
    {
     "name": "stdout",
     "output_type": "stream",
     "text": [
      "<class 'pandas.core.frame.DataFrame'>\n",
      "RangeIndex: 50 entries, 0 to 49\n",
      "Data columns (total 2 columns):\n",
      "State           50 non-null object\n",
      "Abbreviation    50 non-null object\n",
      "dtypes: object(2)\n",
      "memory usage: 872.0+ bytes\n"
     ]
    }
   ],
   "source": [
    "state_abbrev.info()"
   ]
  },
  {
   "cell_type": "code",
   "execution_count": 66,
   "metadata": {
    "collapsed": false
   },
   "outputs": [
    {
     "data": {
      "text/plain": [
       "array(['AK', 'AL', 'AR', 'AZ', 'CA', 'CO', 'CT', 'DE', 'FL', 'GA', 'HI',\n",
       "       'IA', 'ID', 'IL', 'IN', 'KS', 'KY', 'LA', 'MA', 'MD', 'ME', 'MI',\n",
       "       'MN', 'MO', 'MS', 'MT', 'NC', 'ND', 'NE', 'NH', 'NJ', 'NM', 'NV',\n",
       "       'NY', 'OH', 'OK', 'OR', 'PA', 'RI', 'SC', 'SD', 'TN', 'TX', 'UT',\n",
       "       'VA', 'VT', 'WA', 'WI', 'WV', 'WY'], dtype=object)"
      ]
     },
     "execution_count": 66,
     "metadata": {},
     "output_type": "execute_result"
    }
   ],
   "source": [
    "aves.states.unique()"
   ]
  },
  {
   "cell_type": "code",
   "execution_count": 67,
   "metadata": {
    "collapsed": false
   },
   "outputs": [
    {
     "data": {
      "text/plain": [
       "array(['Alaska', 'Utah', 'Texas', 'California', 'Colorado', 'Georgia',\n",
       "       'Maryland', 'Nevada', 'North Dakota', 'Illinois', 'Virginia',\n",
       "       'Wyoming', 'Nebraska', 'Arizona', 'Minnesota', 'Washington',\n",
       "       'Kansas', 'New Jersey', 'New York', 'Idaho', 'Louisiana', 'Hawaii',\n",
       "       'Indiana', 'Oklahoma', 'Connecticut', 'North Carolina',\n",
       "       'Massachusetts', 'New Mexico', 'South Dakota', 'Wisconsin', 'Iowa',\n",
       "       'Ohio', 'Mississippi', 'Missouri', 'Oregon', 'Tennessee',\n",
       "       'Delaware', 'Michigan', 'Rhode Island', 'South Carolina',\n",
       "       'Kentucky', 'Montana', 'Pennsylvania', 'Alabama', 'Florida',\n",
       "       'Arkansas', 'New Hampshire', 'Vermont', 'West Virginia', 'Maine'], dtype=object)"
      ]
     },
     "execution_count": 67,
     "metadata": {},
     "output_type": "execute_result"
    }
   ],
   "source": [
    "percent_medicare.states.unique()"
   ]
  },
  {
   "cell_type": "code",
   "execution_count": 68,
   "metadata": {
    "collapsed": false
   },
   "outputs": [],
   "source": [
    "state_names = state_abbrev['State']\n",
    "state_abbrevs = state_abbrev['Abbreviation']"
   ]
  },
  {
   "cell_type": "code",
   "execution_count": 69,
   "metadata": {
    "collapsed": false
   },
   "outputs": [],
   "source": [
    "state_abbrev_dict = {z[0]:z[1] for z in zip(state_names, state_abbrevs)}"
   ]
  },
  {
   "cell_type": "code",
   "execution_count": 70,
   "metadata": {
    "collapsed": false
   },
   "outputs": [],
   "source": [
    "percent_medicare.replace({\"states\": state_abbrev_dict}, inplace=True)"
   ]
  },
  {
   "cell_type": "code",
   "execution_count": 71,
   "metadata": {
    "collapsed": false
   },
   "outputs": [
    {
     "name": "stdout",
     "output_type": "stream",
     "text": [
      "<class 'pandas.core.frame.DataFrame'>\n",
      "Int64Index: 50 entries, 0 to 49\n",
      "Data columns (total 3 columns):\n",
      "states     50 non-null object\n",
      "aves       49 non-null float64\n",
      "percent    50 non-null float64\n",
      "dtypes: float64(2), object(1)\n",
      "memory usage: 1.6+ KB\n"
     ]
    }
   ],
   "source": [
    "test = pd.merge(aves, percent_medicare, on='states', how='inner')\n",
    "test.info()"
   ]
  },
  {
   "cell_type": "code",
   "execution_count": 72,
   "metadata": {
    "collapsed": false
   },
   "outputs": [
    {
     "data": {
      "text/html": [
       "<div>\n",
       "<table border=\"1\" class=\"dataframe\">\n",
       "  <thead>\n",
       "    <tr style=\"text-align: right;\">\n",
       "      <th></th>\n",
       "      <th>states</th>\n",
       "      <th>aves</th>\n",
       "      <th>percent</th>\n",
       "    </tr>\n",
       "  </thead>\n",
       "  <tbody>\n",
       "    <tr>\n",
       "      <th>0</th>\n",
       "      <td>AK</td>\n",
       "      <td>21.588889</td>\n",
       "      <td>0.114</td>\n",
       "    </tr>\n",
       "    <tr>\n",
       "      <th>1</th>\n",
       "      <td>AL</td>\n",
       "      <td>21.900000</td>\n",
       "      <td>0.199</td>\n",
       "    </tr>\n",
       "    <tr>\n",
       "      <th>2</th>\n",
       "      <td>AR</td>\n",
       "      <td>22.744615</td>\n",
       "      <td>0.200</td>\n",
       "    </tr>\n",
       "    <tr>\n",
       "      <th>3</th>\n",
       "      <td>AZ</td>\n",
       "      <td>21.466667</td>\n",
       "      <td>0.166</td>\n",
       "    </tr>\n",
       "    <tr>\n",
       "      <th>4</th>\n",
       "      <td>CA</td>\n",
       "      <td>22.005128</td>\n",
       "      <td>0.144</td>\n",
       "    </tr>\n",
       "    <tr>\n",
       "      <th>5</th>\n",
       "      <td>CO</td>\n",
       "      <td>20.935294</td>\n",
       "      <td>0.144</td>\n",
       "    </tr>\n",
       "    <tr>\n",
       "      <th>6</th>\n",
       "      <td>CT</td>\n",
       "      <td>22.050000</td>\n",
       "      <td>0.176</td>\n",
       "    </tr>\n",
       "    <tr>\n",
       "      <th>7</th>\n",
       "      <td>DE</td>\n",
       "      <td>21.616667</td>\n",
       "      <td>0.191</td>\n",
       "    </tr>\n",
       "    <tr>\n",
       "      <th>8</th>\n",
       "      <td>FL</td>\n",
       "      <td>22.653714</td>\n",
       "      <td>0.199</td>\n",
       "    </tr>\n",
       "    <tr>\n",
       "      <th>9</th>\n",
       "      <td>GA</td>\n",
       "      <td>21.898148</td>\n",
       "      <td>0.149</td>\n",
       "    </tr>\n",
       "    <tr>\n",
       "      <th>10</th>\n",
       "      <td>HI</td>\n",
       "      <td>21.800000</td>\n",
       "      <td>0.171</td>\n",
       "    </tr>\n",
       "    <tr>\n",
       "      <th>11</th>\n",
       "      <td>IA</td>\n",
       "      <td>21.551136</td>\n",
       "      <td>0.183</td>\n",
       "    </tr>\n",
       "    <tr>\n",
       "      <th>12</th>\n",
       "      <td>ID</td>\n",
       "      <td>20.947619</td>\n",
       "      <td>0.170</td>\n",
       "    </tr>\n",
       "    <tr>\n",
       "      <th>13</th>\n",
       "      <td>IL</td>\n",
       "      <td>22.092415</td>\n",
       "      <td>0.161</td>\n",
       "    </tr>\n",
       "    <tr>\n",
       "      <th>14</th>\n",
       "      <td>IN</td>\n",
       "      <td>21.484906</td>\n",
       "      <td>0.174</td>\n",
       "    </tr>\n",
       "    <tr>\n",
       "      <th>15</th>\n",
       "      <td>KS</td>\n",
       "      <td>21.517568</td>\n",
       "      <td>0.167</td>\n",
       "    </tr>\n",
       "    <tr>\n",
       "      <th>16</th>\n",
       "      <td>KY</td>\n",
       "      <td>22.606897</td>\n",
       "      <td>0.195</td>\n",
       "    </tr>\n",
       "    <tr>\n",
       "      <th>17</th>\n",
       "      <td>LA</td>\n",
       "      <td>22.263953</td>\n",
       "      <td>0.170</td>\n",
       "    </tr>\n",
       "    <tr>\n",
       "      <th>18</th>\n",
       "      <td>MA</td>\n",
       "      <td>22.235088</td>\n",
       "      <td>0.179</td>\n",
       "    </tr>\n",
       "    <tr>\n",
       "      <th>19</th>\n",
       "      <td>MD</td>\n",
       "      <td>NaN</td>\n",
       "      <td>0.155</td>\n",
       "    </tr>\n",
       "    <tr>\n",
       "      <th>20</th>\n",
       "      <td>ME</td>\n",
       "      <td>21.209375</td>\n",
       "      <td>0.231</td>\n",
       "    </tr>\n",
       "    <tr>\n",
       "      <th>21</th>\n",
       "      <td>MI</td>\n",
       "      <td>21.829730</td>\n",
       "      <td>0.191</td>\n",
       "    </tr>\n",
       "    <tr>\n",
       "      <th>22</th>\n",
       "      <td>MN</td>\n",
       "      <td>21.626250</td>\n",
       "      <td>0.166</td>\n",
       "    </tr>\n",
       "    <tr>\n",
       "      <th>23</th>\n",
       "      <td>MO</td>\n",
       "      <td>21.994565</td>\n",
       "      <td>0.187</td>\n",
       "    </tr>\n",
       "    <tr>\n",
       "      <th>24</th>\n",
       "      <td>MS</td>\n",
       "      <td>22.554054</td>\n",
       "      <td>0.187</td>\n",
       "    </tr>\n",
       "    <tr>\n",
       "      <th>25</th>\n",
       "      <td>MT</td>\n",
       "      <td>21.163636</td>\n",
       "      <td>0.195</td>\n",
       "    </tr>\n",
       "    <tr>\n",
       "      <th>26</th>\n",
       "      <td>NC</td>\n",
       "      <td>21.917708</td>\n",
       "      <td>0.176</td>\n",
       "    </tr>\n",
       "    <tr>\n",
       "      <th>27</th>\n",
       "      <td>ND</td>\n",
       "      <td>21.180952</td>\n",
       "      <td>0.157</td>\n",
       "    </tr>\n",
       "    <tr>\n",
       "      <th>28</th>\n",
       "      <td>NE</td>\n",
       "      <td>21.170455</td>\n",
       "      <td>0.165</td>\n",
       "    </tr>\n",
       "    <tr>\n",
       "      <th>29</th>\n",
       "      <td>NH</td>\n",
       "      <td>21.756000</td>\n",
       "      <td>0.200</td>\n",
       "    </tr>\n",
       "    <tr>\n",
       "      <th>30</th>\n",
       "      <td>NJ</td>\n",
       "      <td>22.455556</td>\n",
       "      <td>0.167</td>\n",
       "    </tr>\n",
       "    <tr>\n",
       "      <th>31</th>\n",
       "      <td>NM</td>\n",
       "      <td>21.512903</td>\n",
       "      <td>0.179</td>\n",
       "    </tr>\n",
       "    <tr>\n",
       "      <th>32</th>\n",
       "      <td>NV</td>\n",
       "      <td>22.159259</td>\n",
       "      <td>0.157</td>\n",
       "    </tr>\n",
       "    <tr>\n",
       "      <th>33</th>\n",
       "      <td>NY</td>\n",
       "      <td>23.072903</td>\n",
       "      <td>0.169</td>\n",
       "    </tr>\n",
       "    <tr>\n",
       "      <th>34</th>\n",
       "      <td>OH</td>\n",
       "      <td>21.900719</td>\n",
       "      <td>0.186</td>\n",
       "    </tr>\n",
       "    <tr>\n",
       "      <th>35</th>\n",
       "      <td>OK</td>\n",
       "      <td>21.977922</td>\n",
       "      <td>0.174</td>\n",
       "    </tr>\n",
       "    <tr>\n",
       "      <th>36</th>\n",
       "      <td>OR</td>\n",
       "      <td>21.452941</td>\n",
       "      <td>0.187</td>\n",
       "    </tr>\n",
       "    <tr>\n",
       "      <th>37</th>\n",
       "      <td>PA</td>\n",
       "      <td>22.007432</td>\n",
       "      <td>0.198</td>\n",
       "    </tr>\n",
       "    <tr>\n",
       "      <th>38</th>\n",
       "      <td>RI</td>\n",
       "      <td>22.350000</td>\n",
       "      <td>0.192</td>\n",
       "    </tr>\n",
       "    <tr>\n",
       "      <th>39</th>\n",
       "      <td>SC</td>\n",
       "      <td>21.523077</td>\n",
       "      <td>0.192</td>\n",
       "    </tr>\n",
       "    <tr>\n",
       "      <th>40</th>\n",
       "      <td>SD</td>\n",
       "      <td>20.995238</td>\n",
       "      <td>0.182</td>\n",
       "    </tr>\n",
       "    <tr>\n",
       "      <th>41</th>\n",
       "      <td>TN</td>\n",
       "      <td>22.164583</td>\n",
       "      <td>0.187</td>\n",
       "    </tr>\n",
       "    <tr>\n",
       "      <th>42</th>\n",
       "      <td>TX</td>\n",
       "      <td>21.679151</td>\n",
       "      <td>0.132</td>\n",
       "    </tr>\n",
       "    <tr>\n",
       "      <th>43</th>\n",
       "      <td>UT</td>\n",
       "      <td>20.644000</td>\n",
       "      <td>0.115</td>\n",
       "    </tr>\n",
       "    <tr>\n",
       "      <th>44</th>\n",
       "      <td>VA</td>\n",
       "      <td>22.212821</td>\n",
       "      <td>0.161</td>\n",
       "    </tr>\n",
       "    <tr>\n",
       "      <th>45</th>\n",
       "      <td>VT</td>\n",
       "      <td>21.261538</td>\n",
       "      <td>0.210</td>\n",
       "    </tr>\n",
       "    <tr>\n",
       "      <th>46</th>\n",
       "      <td>WA</td>\n",
       "      <td>21.661719</td>\n",
       "      <td>0.166</td>\n",
       "    </tr>\n",
       "    <tr>\n",
       "      <th>47</th>\n",
       "      <td>WI</td>\n",
       "      <td>21.147642</td>\n",
       "      <td>0.182</td>\n",
       "    </tr>\n",
       "    <tr>\n",
       "      <th>48</th>\n",
       "      <td>WV</td>\n",
       "      <td>22.592500</td>\n",
       "      <td>0.226</td>\n",
       "    </tr>\n",
       "    <tr>\n",
       "      <th>49</th>\n",
       "      <td>WY</td>\n",
       "      <td>21.813333</td>\n",
       "      <td>0.162</td>\n",
       "    </tr>\n",
       "  </tbody>\n",
       "</table>\n",
       "</div>"
      ],
      "text/plain": [
       "   states       aves  percent\n",
       "0      AK  21.588889    0.114\n",
       "1      AL  21.900000    0.199\n",
       "2      AR  22.744615    0.200\n",
       "3      AZ  21.466667    0.166\n",
       "4      CA  22.005128    0.144\n",
       "5      CO  20.935294    0.144\n",
       "6      CT  22.050000    0.176\n",
       "7      DE  21.616667    0.191\n",
       "8      FL  22.653714    0.199\n",
       "9      GA  21.898148    0.149\n",
       "10     HI  21.800000    0.171\n",
       "11     IA  21.551136    0.183\n",
       "12     ID  20.947619    0.170\n",
       "13     IL  22.092415    0.161\n",
       "14     IN  21.484906    0.174\n",
       "15     KS  21.517568    0.167\n",
       "16     KY  22.606897    0.195\n",
       "17     LA  22.263953    0.170\n",
       "18     MA  22.235088    0.179\n",
       "19     MD        NaN    0.155\n",
       "20     ME  21.209375    0.231\n",
       "21     MI  21.829730    0.191\n",
       "22     MN  21.626250    0.166\n",
       "23     MO  21.994565    0.187\n",
       "24     MS  22.554054    0.187\n",
       "25     MT  21.163636    0.195\n",
       "26     NC  21.917708    0.176\n",
       "27     ND  21.180952    0.157\n",
       "28     NE  21.170455    0.165\n",
       "29     NH  21.756000    0.200\n",
       "30     NJ  22.455556    0.167\n",
       "31     NM  21.512903    0.179\n",
       "32     NV  22.159259    0.157\n",
       "33     NY  23.072903    0.169\n",
       "34     OH  21.900719    0.186\n",
       "35     OK  21.977922    0.174\n",
       "36     OR  21.452941    0.187\n",
       "37     PA  22.007432    0.198\n",
       "38     RI  22.350000    0.192\n",
       "39     SC  21.523077    0.192\n",
       "40     SD  20.995238    0.182\n",
       "41     TN  22.164583    0.187\n",
       "42     TX  21.679151    0.132\n",
       "43     UT  20.644000    0.115\n",
       "44     VA  22.212821    0.161\n",
       "45     VT  21.261538    0.210\n",
       "46     WA  21.661719    0.166\n",
       "47     WI  21.147642    0.182\n",
       "48     WV  22.592500    0.226\n",
       "49     WY  21.813333    0.162"
      ]
     },
     "execution_count": 72,
     "metadata": {},
     "output_type": "execute_result"
    }
   ],
   "source": [
    "test"
   ]
  },
  {
   "cell_type": "code",
   "execution_count": 73,
   "metadata": {
    "collapsed": false
   },
   "outputs": [],
   "source": [
    "import operator\n",
    "sorted_dict = sorted(state_hf_alpha.items(), key=operator.itemgetter(1))\n",
    "#Sorting by value of target"
   ]
  },
  {
   "cell_type": "code",
   "execution_count": 74,
   "metadata": {
    "collapsed": false
   },
   "outputs": [
    {
     "data": {
      "image/png": "[encoded data removed]",
      "text/plain": [
       "<matplotlib.figure.Figure at 0x11c1bcb50>"
      ]
     },
     "metadata": {},
     "output_type": "display_data"
    }
   ],
   "source": [
    "fig = plt.figure(figsize=(12,6))\n",
    "ax = fig.add_subplot(111)\n",
    "\n",
    "\n",
    "x_val = [x[0] for x in sorted_dict]\n",
    "y_val = [x[1] for x in sorted_dict]\n",
    "ind = np.arange(len(x_val))\n",
    "plt.bar(range(len(y_val)), y_val)\n",
    "xTickMarks = [i for i in x_val]\n",
    "ax.set_xticks(ind)\n",
    "xtickNames = ax.set_xticklabels(xTickMarks, fontsize=8)\n",
    "plt.setp(xtickNames, rotation=75, fontsize=10)\n",
    "plt.title('Readmission Rates by State-HF')\n",
    "plt.show()"
   ]
  },
  {
   "cell_type": "code",
   "execution_count": 75,
   "metadata": {
    "collapsed": false
   },
   "outputs": [],
   "source": [
    "test.fillna(0, inplace=True)"
   ]
  },
  {
   "cell_type": "code",
   "execution_count": 78,
   "metadata": {
    "collapsed": false
   },
   "outputs": [],
   "source": [
    "import plotly.plotly as py\n",
    "import plotly.tools as tls"
   ]
  },
  {
   "cell_type": "code",
   "execution_count": 79,
   "metadata": {
    "collapsed": false
   },
   "outputs": [],
   "source": [
    "tls.set_credentials_file(username='sheenas',api_key='618CQEhf8rlkmtYhNYi5')"
   ]
  },
  {
   "cell_type": "code",
   "execution_count": 80,
   "metadata": {
    "collapsed": false
   },
   "outputs": [
    {
     "name": "stdout",
     "output_type": "stream",
     "text": [
      "High five! You successfuly sent some data to your account on plotly. View your plot in your browser at https://plot.ly/~sheenas/0 or inside your plot.ly account where it is named 'd3-cloropleth-map'\n"
     ]
    }
   ],
   "source": [
    "for col in aves.columns:\n",
    "    aves[col] = aves[col].astype(str)\n",
    "\n",
    "scl = [[0.0, 'rgb(242,240,247)'],[0.2, 'rgb(218,218,235)'],[0.4, 'rgb(188,189,220)'],\\\n",
    "            [0.6, 'rgb(158,154,200)'],[0.8, 'rgb(117,107,177)'],[1.0, 'rgb(84,39,143)']]\n",
    "\n",
    "#aves['text'] = aves['aves']\"\n",
    "aves['text'] = 'Reamission Rate: ' \n",
    "\n",
    "data = [ dict(\n",
    "        type='choropleth',\n",
    "        colorscale = scl,\n",
    "        autocolorscale = False,\n",
    "        locations = aves['states'],\n",
    "        z = aves['aves'].astype(float),\n",
    "        locationmode = 'USA-states',\n",
    "        text = aves['text'],\n",
    "        marker = dict(\n",
    "            line = dict (\n",
    "                color = 'rgb(255,255,255)',\n",
    "                width = 2\n",
    "            ) ),\n",
    "        colorbar = dict(\n",
    "            title = \"Millions USD\")\n",
    "        ) ]\n",
    "\n",
    "layout = dict(\n",
    "        title = 'Hospital Readmission Rates by State<br>(Hover for breakdown)',\n",
    "        geo = dict(\n",
    "            scope='usa',\n",
    "            projection=dict( type='albers usa' ),\n",
    "            showlakes = True,\n",
    "            lakecolor = 'rgb(255, 255, 255)',\n",
    "        ),\n",
    "    )\n",
    "\n",
    "fig = dict(data=data, layout=layout)\n",
    "\n",
    "url = py.iplot(fig, filename='d3-cloropleth-map')"
   ]
  },
  {
   "cell_type": "markdown",
   "metadata": {},
   "source": [
    "### Feature set 1 - Complications data after Hip/Knee\n",
    "#### Average complication rates"
   ]
  },
  {
   "cell_type": "code",
   "execution_count": 81,
   "metadata": {
    "collapsed": true
   },
   "outputs": [],
   "source": [
    "comp=pd.read_csv('Complications_-_Hospital.csv')"
   ]
  },
  {
   "cell_type": "code",
   "execution_count": 82,
   "metadata": {
    "collapsed": false
   },
   "outputs": [
    {
     "data": {
      "text/html": [
       "<div>\n",
       "<table border=\"1\" class=\"dataframe\">\n",
       "  <thead>\n",
       "    <tr style=\"text-align: right;\">\n",
       "      <th></th>\n",
       "      <th>Provider ID</th>\n",
       "      <th>Hospital Name</th>\n",
       "      <th>Address</th>\n",
       "      <th>City</th>\n",
       "      <th>State</th>\n",
       "      <th>ZIP Code</th>\n",
       "      <th>County Name</th>\n",
       "      <th>Phone Number</th>\n",
       "      <th>Measure Name</th>\n",
       "      <th>Measure ID</th>\n",
       "      <th>Compared to National</th>\n",
       "      <th>Denominator</th>\n",
       "      <th>Score</th>\n",
       "      <th>Lower Estimate</th>\n",
       "      <th>Higher Estimate</th>\n",
       "      <th>Footnote</th>\n",
       "      <th>Measure Start Date</th>\n",
       "      <th>Measure End Date</th>\n",
       "      <th>Location</th>\n",
       "    </tr>\n",
       "  </thead>\n",
       "  <tbody>\n",
       "    <tr>\n",
       "      <th>0</th>\n",
       "      <td>10001</td>\n",
       "      <td>SOUTHEAST ALABAMA MEDICAL CENTER</td>\n",
       "      <td>1108 ROSS CLARK CIRCLE</td>\n",
       "      <td>DOTHAN</td>\n",
       "      <td>AL</td>\n",
       "      <td>36301</td>\n",
       "      <td>HOUSTON</td>\n",
       "      <td>3347938701</td>\n",
       "      <td>Rate of complications for hip/knee replacement...</td>\n",
       "      <td>COMP_HIP_KNEE</td>\n",
       "      <td>No Different than the National Rate</td>\n",
       "      <td>331</td>\n",
       "      <td>3.8</td>\n",
       "      <td>2.6</td>\n",
       "      <td>5.5</td>\n",
       "      <td>NaN</td>\n",
       "      <td>04/01/2012</td>\n",
       "      <td>03/31/2015</td>\n",
       "      <td>NaN</td>\n",
       "    </tr>\n",
       "    <tr>\n",
       "      <th>1</th>\n",
       "      <td>10001</td>\n",
       "      <td>SOUTHEAST ALABAMA MEDICAL CENTER</td>\n",
       "      <td>1108 ROSS CLARK CIRCLE</td>\n",
       "      <td>DOTHAN</td>\n",
       "      <td>AL</td>\n",
       "      <td>36301</td>\n",
       "      <td>HOUSTON</td>\n",
       "      <td>3347938701</td>\n",
       "      <td>Serious blood clots after surgery</td>\n",
       "      <td>PSI_12_POSTOP_PULMEMB_DVT</td>\n",
       "      <td>No Different than the National Rate</td>\n",
       "      <td>4549</td>\n",
       "      <td>3.32</td>\n",
       "      <td>1.25</td>\n",
       "      <td>5.38</td>\n",
       "      <td>NaN</td>\n",
       "      <td>07/01/2013</td>\n",
       "      <td>06/30/2015</td>\n",
       "      <td>NaN</td>\n",
       "    </tr>\n",
       "    <tr>\n",
       "      <th>2</th>\n",
       "      <td>10001</td>\n",
       "      <td>SOUTHEAST ALABAMA MEDICAL CENTER</td>\n",
       "      <td>1108 ROSS CLARK CIRCLE</td>\n",
       "      <td>DOTHAN</td>\n",
       "      <td>AL</td>\n",
       "      <td>36301</td>\n",
       "      <td>HOUSTON</td>\n",
       "      <td>3347938701</td>\n",
       "      <td>Blood stream infection after surgery</td>\n",
       "      <td>PSI_13_POST_SEPSIS</td>\n",
       "      <td>No Different than the National Rate</td>\n",
       "      <td>578</td>\n",
       "      <td>5.72</td>\n",
       "      <td>0.00</td>\n",
       "      <td>11.48</td>\n",
       "      <td>NaN</td>\n",
       "      <td>07/01/2013</td>\n",
       "      <td>06/30/2015</td>\n",
       "      <td>NaN</td>\n",
       "    </tr>\n",
       "    <tr>\n",
       "      <th>3</th>\n",
       "      <td>10001</td>\n",
       "      <td>SOUTHEAST ALABAMA MEDICAL CENTER</td>\n",
       "      <td>1108 ROSS CLARK CIRCLE</td>\n",
       "      <td>DOTHAN</td>\n",
       "      <td>AL</td>\n",
       "      <td>36301</td>\n",
       "      <td>HOUSTON</td>\n",
       "      <td>3347938701</td>\n",
       "      <td>A wound that splits open  after surgery on the...</td>\n",
       "      <td>PSI_14_POSTOP_DEHIS</td>\n",
       "      <td>No Different than the National Rate</td>\n",
       "      <td>445</td>\n",
       "      <td>2.72</td>\n",
       "      <td>0.65</td>\n",
       "      <td>4.79</td>\n",
       "      <td>NaN</td>\n",
       "      <td>07/01/2013</td>\n",
       "      <td>06/30/2015</td>\n",
       "      <td>NaN</td>\n",
       "    </tr>\n",
       "    <tr>\n",
       "      <th>4</th>\n",
       "      <td>10001</td>\n",
       "      <td>SOUTHEAST ALABAMA MEDICAL CENTER</td>\n",
       "      <td>1108 ROSS CLARK CIRCLE</td>\n",
       "      <td>DOTHAN</td>\n",
       "      <td>AL</td>\n",
       "      <td>36301</td>\n",
       "      <td>HOUSTON</td>\n",
       "      <td>3347938701</td>\n",
       "      <td>Accidental cuts and tears from medical treatment</td>\n",
       "      <td>PSI_15_ACC_LAC</td>\n",
       "      <td>No Different than the National Rate</td>\n",
       "      <td>16429</td>\n",
       "      <td>1.35</td>\n",
       "      <td>0.76</td>\n",
       "      <td>1.95</td>\n",
       "      <td>NaN</td>\n",
       "      <td>07/01/2013</td>\n",
       "      <td>06/30/2015</td>\n",
       "      <td>NaN</td>\n",
       "    </tr>\n",
       "  </tbody>\n",
       "</table>\n",
       "</div>"
      ],
      "text/plain": [
       "   Provider ID                     Hospital Name                 Address  \\\n",
       "0        10001  SOUTHEAST ALABAMA MEDICAL CENTER  1108 ROSS CLARK CIRCLE   \n",
       "1        10001  SOUTHEAST ALABAMA MEDICAL CENTER  1108 ROSS CLARK CIRCLE   \n",
       "2        10001  SOUTHEAST ALABAMA MEDICAL CENTER  1108 ROSS CLARK CIRCLE   \n",
       "3        10001  SOUTHEAST ALABAMA MEDICAL CENTER  1108 ROSS CLARK CIRCLE   \n",
       "4        10001  SOUTHEAST ALABAMA MEDICAL CENTER  1108 ROSS CLARK CIRCLE   \n",
       "\n",
       "     City State  ZIP Code County Name  Phone Number  \\\n",
       "0  DOTHAN    AL     36301     HOUSTON    3347938701   \n",
       "1  DOTHAN    AL     36301     HOUSTON    3347938701   \n",
       "2  DOTHAN    AL     36301     HOUSTON    3347938701   \n",
       "3  DOTHAN    AL     36301     HOUSTON    3347938701   \n",
       "4  DOTHAN    AL     36301     HOUSTON    3347938701   \n",
       "\n",
       "                                        Measure Name  \\\n",
       "0  Rate of complications for hip/knee replacement...   \n",
       "1                  Serious blood clots after surgery   \n",
       "2               Blood stream infection after surgery   \n",
       "3  A wound that splits open  after surgery on the...   \n",
       "4   Accidental cuts and tears from medical treatment   \n",
       "\n",
       "                  Measure ID                 Compared to National Denominator  \\\n",
       "0              COMP_HIP_KNEE  No Different than the National Rate         331   \n",
       "1  PSI_12_POSTOP_PULMEMB_DVT  No Different than the National Rate        4549   \n",
       "2         PSI_13_POST_SEPSIS  No Different than the National Rate         578   \n",
       "3        PSI_14_POSTOP_DEHIS  No Different than the National Rate         445   \n",
       "4             PSI_15_ACC_LAC  No Different than the National Rate       16429   \n",
       "\n",
       "  Score Lower Estimate Higher Estimate Footnote Measure Start Date  \\\n",
       "0   3.8            2.6             5.5      NaN         04/01/2012   \n",
       "1  3.32           1.25            5.38      NaN         07/01/2013   \n",
       "2  5.72           0.00           11.48      NaN         07/01/2013   \n",
       "3  2.72           0.65            4.79      NaN         07/01/2013   \n",
       "4  1.35           0.76            1.95      NaN         07/01/2013   \n",
       "\n",
       "  Measure End Date  Location  \n",
       "0       03/31/2015       NaN  \n",
       "1       06/30/2015       NaN  \n",
       "2       06/30/2015       NaN  \n",
       "3       06/30/2015       NaN  \n",
       "4       06/30/2015       NaN  "
      ]
     },
     "execution_count": 82,
     "metadata": {},
     "output_type": "execute_result"
    }
   ],
   "source": [
    "comp.head()"
   ]
  },
  {
   "cell_type": "code",
   "execution_count": 83,
   "metadata": {
    "collapsed": false
   },
   "outputs": [
    {
     "name": "stdout",
     "output_type": "stream",
     "text": [
      "<class 'pandas.core.frame.DataFrame'>\n",
      "RangeIndex: 52877 entries, 0 to 52876\n",
      "Data columns (total 19 columns):\n",
      "Provider ID             52877 non-null int64\n",
      "Hospital Name           52877 non-null object\n",
      "Address                 52877 non-null object\n",
      "City                    52877 non-null object\n",
      "State                   52877 non-null object\n",
      "ZIP Code                52877 non-null int64\n",
      "County Name             52712 non-null object\n",
      "Phone Number            52877 non-null int64\n",
      "Measure Name            52877 non-null object\n",
      "Measure ID              52877 non-null object\n",
      "Compared to National    52877 non-null object\n",
      "Denominator             52877 non-null object\n",
      "Score                   52877 non-null object\n",
      "Lower Estimate          52877 non-null object\n",
      "Higher Estimate         52877 non-null object\n",
      "Footnote                21804 non-null object\n",
      "Measure Start Date      52877 non-null object\n",
      "Measure End Date        52877 non-null object\n",
      "Location                0 non-null float64\n",
      "dtypes: float64(1), int64(3), object(15)\n",
      "memory usage: 7.7+ MB\n"
     ]
    }
   ],
   "source": [
    "comp.info() #Same problem here with the scores being objects and not floats"
   ]
  },
  {
   "cell_type": "code",
   "execution_count": 84,
   "metadata": {
    "collapsed": false
   },
   "outputs": [
    {
     "data": {
      "text/plain": [
       "0"
      ]
     },
     "execution_count": 84,
     "metadata": {},
     "output_type": "execute_result"
    }
   ],
   "source": [
    "len(comp[comp.Score == 0]) # No 0 values here, so I'm safe to assign Not Availables to 0 "
   ]
  },
  {
   "cell_type": "code",
   "execution_count": 85,
   "metadata": {
    "collapsed": false
   },
   "outputs": [],
   "source": [
    "comp['Score'].replace('Not Available', 0, inplace=True)"
   ]
  },
  {
   "cell_type": "code",
   "execution_count": 86,
   "metadata": {
    "collapsed": false
   },
   "outputs": [
    {
     "data": {
      "text/plain": [
       "Provider ID               int64\n",
       "Hospital Name            object\n",
       "Address                  object\n",
       "City                     object\n",
       "State                    object\n",
       "ZIP Code                  int64\n",
       "County Name              object\n",
       "Phone Number              int64\n",
       "Measure Name             object\n",
       "Measure ID               object\n",
       "Compared to National     object\n",
       "Denominator              object\n",
       "Score                   float64\n",
       "Lower Estimate           object\n",
       "Higher Estimate          object\n",
       "Footnote                 object\n",
       "Measure Start Date       object\n",
       "Measure End Date         object\n",
       "Location                float64\n",
       "dtype: object"
      ]
     },
     "execution_count": 86,
     "metadata": {},
     "output_type": "execute_result"
    }
   ],
   "source": [
    "comp['Score'] = comp['Score'].astype(float)\n",
    "comp.dtypes"
   ]
  },
  {
   "cell_type": "markdown",
   "metadata": {},
   "source": [
    "#### High and Low end complication rates"
   ]
  },
  {
   "cell_type": "code",
   "execution_count": 87,
   "metadata": {
    "collapsed": false
   },
   "outputs": [
    {
     "name": "stdout",
     "output_type": "stream",
     "text": [
      "'Not Available' appears 21801 times and 0 appears 0 times for Lower Estimates.\n"
     ]
    }
   ],
   "source": [
    "na = len(comp[comp['Lower Estimate'] == 'Not Available'])\n",
    "zero = len(comp[comp['Lower Estimate'] == 0]) \n",
    "print \"'Not Available' appears %s times and 0 appears %s times for Lower Estimates.\" % (na, zero)\n",
    "#Not Availables exists here too but there are no 0s"
   ]
  },
  {
   "cell_type": "code",
   "execution_count": 88,
   "metadata": {
    "collapsed": false
   },
   "outputs": [
    {
     "name": "stdout",
     "output_type": "stream",
     "text": [
      "'Not Available' appears 21801 times and 0 appears 0 times for Higher Estimates.\n"
     ]
    }
   ],
   "source": [
    "na_h = len(comp[comp['Higher Estimate'] == 'Not Available'])\n",
    "zero_h = len(comp[comp['Higher Estimate'] == 0]) \n",
    "print \"'Not Available' appears %s times and 0 appears %s times for Higher Estimates.\" % (na_h, zero_h)\n",
    "#Not Availables exists here too but there are no 0s"
   ]
  },
  {
   "cell_type": "code",
   "execution_count": 89,
   "metadata": {
    "collapsed": false
   },
   "outputs": [],
   "source": [
    "comp['Lower Estimate'] = comp['Lower Estimate'].replace('Not Available', 0)"
   ]
  },
  {
   "cell_type": "code",
   "execution_count": 90,
   "metadata": {
    "collapsed": false
   },
   "outputs": [
    {
     "data": {
      "text/plain": [
       "dtype('float64')"
      ]
     },
     "execution_count": 90,
     "metadata": {},
     "output_type": "execute_result"
    }
   ],
   "source": [
    "comp['Lower Estimate'] = comp['Lower Estimate'].astype(float)\n",
    "comp['Lower Estimate'].dtype"
   ]
  },
  {
   "cell_type": "code",
   "execution_count": 91,
   "metadata": {
    "collapsed": false
   },
   "outputs": [
    {
     "data": {
      "text/plain": [
       "dtype('float64')"
      ]
     },
     "execution_count": 91,
     "metadata": {},
     "output_type": "execute_result"
    }
   ],
   "source": [
    "comp['Higher Estimate'] = comp['Higher Estimate'].replace('Not Available', 0)\n",
    "comp['Higher Estimate'] = comp['Higher Estimate'].astype(float)\n",
    "comp['Higher Estimate'].dtype"
   ]
  },
  {
   "cell_type": "code",
   "execution_count": 92,
   "metadata": {
    "collapsed": false
   },
   "outputs": [
    {
     "data": {
      "text/html": [
       "<div>\n",
       "<table border=\"1\" class=\"dataframe\">\n",
       "  <thead>\n",
       "    <tr style=\"text-align: right;\">\n",
       "      <th></th>\n",
       "      <th>Measure ID</th>\n",
       "      <th>COMP_HIP_KNEE</th>\n",
       "      <th>PSI_12_POSTOP_PULMEMB_DVT</th>\n",
       "      <th>PSI_13_POST_SEPSIS</th>\n",
       "      <th>PSI_14_POSTOP_DEHIS</th>\n",
       "      <th>PSI_15_ACC_LAC</th>\n",
       "      <th>PSI_3_ULCER</th>\n",
       "      <th>PSI_4_SURG_COMP</th>\n",
       "      <th>PSI_6_IAT_PTX</th>\n",
       "      <th>PSI_7_CVCBI</th>\n",
       "      <th>PSI_8_POST_HIP</th>\n",
       "      <th>PSI_90_SAFETY</th>\n",
       "    </tr>\n",
       "    <tr>\n",
       "      <th>Hospital Name</th>\n",
       "      <th>State</th>\n",
       "      <th></th>\n",
       "      <th></th>\n",
       "      <th></th>\n",
       "      <th></th>\n",
       "      <th></th>\n",
       "      <th></th>\n",
       "      <th></th>\n",
       "      <th></th>\n",
       "      <th></th>\n",
       "      <th></th>\n",
       "      <th></th>\n",
       "    </tr>\n",
       "  </thead>\n",
       "  <tbody>\n",
       "    <tr>\n",
       "      <th>ABBEVILLE AREA MEDICAL CENTER</th>\n",
       "      <th>SC</th>\n",
       "      <td>3.0</td>\n",
       "      <td>0.00</td>\n",
       "      <td>0.00</td>\n",
       "      <td>0.00</td>\n",
       "      <td>0.00</td>\n",
       "      <td>0.00</td>\n",
       "      <td>0.00</td>\n",
       "      <td>0.00</td>\n",
       "      <td>0.00</td>\n",
       "      <td>0.00</td>\n",
       "      <td>0.00</td>\n",
       "    </tr>\n",
       "    <tr>\n",
       "      <th>ABBEVILLE GENERAL HOSPITAL</th>\n",
       "      <th>LA</th>\n",
       "      <td>3.0</td>\n",
       "      <td>6.51</td>\n",
       "      <td>0.00</td>\n",
       "      <td>2.28</td>\n",
       "      <td>1.69</td>\n",
       "      <td>0.35</td>\n",
       "      <td>0.00</td>\n",
       "      <td>0.39</td>\n",
       "      <td>0.16</td>\n",
       "      <td>0.06</td>\n",
       "      <td>1.02</td>\n",
       "    </tr>\n",
       "    <tr>\n",
       "      <th>ABBOTT NORTHWESTERN HOSPITAL</th>\n",
       "      <th>MN</th>\n",
       "      <td>2.5</td>\n",
       "      <td>5.23</td>\n",
       "      <td>11.26</td>\n",
       "      <td>1.78</td>\n",
       "      <td>1.96</td>\n",
       "      <td>0.10</td>\n",
       "      <td>124.52</td>\n",
       "      <td>0.32</td>\n",
       "      <td>0.11</td>\n",
       "      <td>0.06</td>\n",
       "      <td>0.97</td>\n",
       "    </tr>\n",
       "    <tr>\n",
       "      <th>ABILENE REGIONAL MEDICAL CENTER</th>\n",
       "      <th>TX</th>\n",
       "      <td>3.1</td>\n",
       "      <td>3.43</td>\n",
       "      <td>6.36</td>\n",
       "      <td>2.21</td>\n",
       "      <td>1.17</td>\n",
       "      <td>0.16</td>\n",
       "      <td>138.47</td>\n",
       "      <td>0.40</td>\n",
       "      <td>0.12</td>\n",
       "      <td>0.06</td>\n",
       "      <td>0.67</td>\n",
       "    </tr>\n",
       "    <tr>\n",
       "      <th>ABINGTON MEMORIAL HOSPITAL</th>\n",
       "      <th>PA</th>\n",
       "      <td>4.3</td>\n",
       "      <td>8.47</td>\n",
       "      <td>10.30</td>\n",
       "      <td>3.59</td>\n",
       "      <td>1.29</td>\n",
       "      <td>1.09</td>\n",
       "      <td>153.64</td>\n",
       "      <td>0.32</td>\n",
       "      <td>0.13</td>\n",
       "      <td>0.06</td>\n",
       "      <td>1.10</td>\n",
       "    </tr>\n",
       "  </tbody>\n",
       "</table>\n",
       "</div>"
      ],
      "text/plain": [
       "Measure ID                             COMP_HIP_KNEE  \\\n",
       "Hospital Name                   State                  \n",
       "ABBEVILLE AREA MEDICAL CENTER   SC               3.0   \n",
       "ABBEVILLE GENERAL HOSPITAL      LA               3.0   \n",
       "ABBOTT NORTHWESTERN HOSPITAL    MN               2.5   \n",
       "ABILENE REGIONAL MEDICAL CENTER TX               3.1   \n",
       "ABINGTON MEMORIAL HOSPITAL      PA               4.3   \n",
       "\n",
       "Measure ID                             PSI_12_POSTOP_PULMEMB_DVT  \\\n",
       "Hospital Name                   State                              \n",
       "ABBEVILLE AREA MEDICAL CENTER   SC                          0.00   \n",
       "ABBEVILLE GENERAL HOSPITAL      LA                          6.51   \n",
       "ABBOTT NORTHWESTERN HOSPITAL    MN                          5.23   \n",
       "ABILENE REGIONAL MEDICAL CENTER TX                          3.43   \n",
       "ABINGTON MEMORIAL HOSPITAL      PA                          8.47   \n",
       "\n",
       "Measure ID                             PSI_13_POST_SEPSIS  \\\n",
       "Hospital Name                   State                       \n",
       "ABBEVILLE AREA MEDICAL CENTER   SC                   0.00   \n",
       "ABBEVILLE GENERAL HOSPITAL      LA                   0.00   \n",
       "ABBOTT NORTHWESTERN HOSPITAL    MN                  11.26   \n",
       "ABILENE REGIONAL MEDICAL CENTER TX                   6.36   \n",
       "ABINGTON MEMORIAL HOSPITAL      PA                  10.30   \n",
       "\n",
       "Measure ID                             PSI_14_POSTOP_DEHIS  PSI_15_ACC_LAC  \\\n",
       "Hospital Name                   State                                        \n",
       "ABBEVILLE AREA MEDICAL CENTER   SC                    0.00            0.00   \n",
       "ABBEVILLE GENERAL HOSPITAL      LA                    2.28            1.69   \n",
       "ABBOTT NORTHWESTERN HOSPITAL    MN                    1.78            1.96   \n",
       "ABILENE REGIONAL MEDICAL CENTER TX                    2.21            1.17   \n",
       "ABINGTON MEMORIAL HOSPITAL      PA                    3.59            1.29   \n",
       "\n",
       "Measure ID                             PSI_3_ULCER  PSI_4_SURG_COMP  \\\n",
       "Hospital Name                   State                                 \n",
       "ABBEVILLE AREA MEDICAL CENTER   SC            0.00             0.00   \n",
       "ABBEVILLE GENERAL HOSPITAL      LA            0.35             0.00   \n",
       "ABBOTT NORTHWESTERN HOSPITAL    MN            0.10           124.52   \n",
       "ABILENE REGIONAL MEDICAL CENTER TX            0.16           138.47   \n",
       "ABINGTON MEMORIAL HOSPITAL      PA            1.09           153.64   \n",
       "\n",
       "Measure ID                             PSI_6_IAT_PTX  PSI_7_CVCBI  \\\n",
       "Hospital Name                   State                               \n",
       "ABBEVILLE AREA MEDICAL CENTER   SC              0.00         0.00   \n",
       "ABBEVILLE GENERAL HOSPITAL      LA              0.39         0.16   \n",
       "ABBOTT NORTHWESTERN HOSPITAL    MN              0.32         0.11   \n",
       "ABILENE REGIONAL MEDICAL CENTER TX              0.40         0.12   \n",
       "ABINGTON MEMORIAL HOSPITAL      PA              0.32         0.13   \n",
       "\n",
       "Measure ID                             PSI_8_POST_HIP  PSI_90_SAFETY  \n",
       "Hospital Name                   State                                 \n",
       "ABBEVILLE AREA MEDICAL CENTER   SC               0.00           0.00  \n",
       "ABBEVILLE GENERAL HOSPITAL      LA               0.06           1.02  \n",
       "ABBOTT NORTHWESTERN HOSPITAL    MN               0.06           0.97  \n",
       "ABILENE REGIONAL MEDICAL CENTER TX               0.06           0.67  \n",
       "ABINGTON MEMORIAL HOSPITAL      PA               0.06           1.10  "
      ]
     },
     "execution_count": 92,
     "metadata": {},
     "output_type": "execute_result"
    }
   ],
   "source": [
    "comp_score = pd.pivot_table(comp, index=['Hospital Name', 'State'], columns = 'Measure ID', values = 'Score')\n",
    "comp_score.head()"
   ]
  },
  {
   "cell_type": "code",
   "execution_count": 93,
   "metadata": {
    "collapsed": false
   },
   "outputs": [
    {
     "data": {
      "text/html": [
       "<div>\n",
       "<table border=\"1\" class=\"dataframe\">\n",
       "  <thead>\n",
       "    <tr style=\"text-align: right;\">\n",
       "      <th></th>\n",
       "      <th>Measure ID</th>\n",
       "      <th>COMP_HIP_KNEE</th>\n",
       "      <th>PSI_12_POSTOP_PULMEMB_DVT</th>\n",
       "      <th>PSI_13_POST_SEPSIS</th>\n",
       "      <th>PSI_14_POSTOP_DEHIS</th>\n",
       "      <th>PSI_15_ACC_LAC</th>\n",
       "      <th>PSI_3_ULCER</th>\n",
       "      <th>PSI_4_SURG_COMP</th>\n",
       "      <th>PSI_6_IAT_PTX</th>\n",
       "      <th>PSI_7_CVCBI</th>\n",
       "      <th>PSI_8_POST_HIP</th>\n",
       "      <th>PSI_90_SAFETY</th>\n",
       "    </tr>\n",
       "    <tr>\n",
       "      <th>Hospital Name</th>\n",
       "      <th>State</th>\n",
       "      <th></th>\n",
       "      <th></th>\n",
       "      <th></th>\n",
       "      <th></th>\n",
       "      <th></th>\n",
       "      <th></th>\n",
       "      <th></th>\n",
       "      <th></th>\n",
       "      <th></th>\n",
       "      <th></th>\n",
       "      <th></th>\n",
       "    </tr>\n",
       "  </thead>\n",
       "  <tbody>\n",
       "    <tr>\n",
       "      <th>ABBEVILLE AREA MEDICAL CENTER</th>\n",
       "      <th>SC</th>\n",
       "      <td>1.7</td>\n",
       "      <td>0.00</td>\n",
       "      <td>0.00</td>\n",
       "      <td>0.00</td>\n",
       "      <td>0.00</td>\n",
       "      <td>0.00</td>\n",
       "      <td>0.00</td>\n",
       "      <td>0.00</td>\n",
       "      <td>0.0</td>\n",
       "      <td>0.00</td>\n",
       "      <td>0.00</td>\n",
       "    </tr>\n",
       "    <tr>\n",
       "      <th>ABBEVILLE GENERAL HOSPITAL</th>\n",
       "      <th>LA</th>\n",
       "      <td>1.7</td>\n",
       "      <td>1.67</td>\n",
       "      <td>0.00</td>\n",
       "      <td>0.00</td>\n",
       "      <td>0.37</td>\n",
       "      <td>0.00</td>\n",
       "      <td>0.00</td>\n",
       "      <td>0.07</td>\n",
       "      <td>0.0</td>\n",
       "      <td>0.06</td>\n",
       "      <td>0.57</td>\n",
       "    </tr>\n",
       "    <tr>\n",
       "      <th>ABBOTT NORTHWESTERN HOSPITAL</th>\n",
       "      <th>MN</th>\n",
       "      <td>1.7</td>\n",
       "      <td>3.47</td>\n",
       "      <td>6.15</td>\n",
       "      <td>0.00</td>\n",
       "      <td>1.42</td>\n",
       "      <td>0.00</td>\n",
       "      <td>92.72</td>\n",
       "      <td>0.09</td>\n",
       "      <td>0.0</td>\n",
       "      <td>0.06</td>\n",
       "      <td>0.78</td>\n",
       "    </tr>\n",
       "    <tr>\n",
       "      <th>ABILENE REGIONAL MEDICAL CENTER</th>\n",
       "      <th>TX</th>\n",
       "      <td>2.0</td>\n",
       "      <td>0.17</td>\n",
       "      <td>0.00</td>\n",
       "      <td>0.00</td>\n",
       "      <td>0.27</td>\n",
       "      <td>0.00</td>\n",
       "      <td>92.17</td>\n",
       "      <td>0.12</td>\n",
       "      <td>0.0</td>\n",
       "      <td>0.06</td>\n",
       "      <td>0.36</td>\n",
       "    </tr>\n",
       "    <tr>\n",
       "      <th>ABINGTON MEMORIAL HOSPITAL</th>\n",
       "      <th>PA</th>\n",
       "      <td>3.3</td>\n",
       "      <td>6.51</td>\n",
       "      <td>4.19</td>\n",
       "      <td>1.53</td>\n",
       "      <td>0.75</td>\n",
       "      <td>0.51</td>\n",
       "      <td>117.66</td>\n",
       "      <td>0.09</td>\n",
       "      <td>0.0</td>\n",
       "      <td>0.06</td>\n",
       "      <td>0.91</td>\n",
       "    </tr>\n",
       "  </tbody>\n",
       "</table>\n",
       "</div>"
      ],
      "text/plain": [
       "Measure ID                             COMP_HIP_KNEE  \\\n",
       "Hospital Name                   State                  \n",
       "ABBEVILLE AREA MEDICAL CENTER   SC               1.7   \n",
       "ABBEVILLE GENERAL HOSPITAL      LA               1.7   \n",
       "ABBOTT NORTHWESTERN HOSPITAL    MN               1.7   \n",
       "ABILENE REGIONAL MEDICAL CENTER TX               2.0   \n",
       "ABINGTON MEMORIAL HOSPITAL      PA               3.3   \n",
       "\n",
       "Measure ID                             PSI_12_POSTOP_PULMEMB_DVT  \\\n",
       "Hospital Name                   State                              \n",
       "ABBEVILLE AREA MEDICAL CENTER   SC                          0.00   \n",
       "ABBEVILLE GENERAL HOSPITAL      LA                          1.67   \n",
       "ABBOTT NORTHWESTERN HOSPITAL    MN                          3.47   \n",
       "ABILENE REGIONAL MEDICAL CENTER TX                          0.17   \n",
       "ABINGTON MEMORIAL HOSPITAL      PA                          6.51   \n",
       "\n",
       "Measure ID                             PSI_13_POST_SEPSIS  \\\n",
       "Hospital Name                   State                       \n",
       "ABBEVILLE AREA MEDICAL CENTER   SC                   0.00   \n",
       "ABBEVILLE GENERAL HOSPITAL      LA                   0.00   \n",
       "ABBOTT NORTHWESTERN HOSPITAL    MN                   6.15   \n",
       "ABILENE REGIONAL MEDICAL CENTER TX                   0.00   \n",
       "ABINGTON MEMORIAL HOSPITAL      PA                   4.19   \n",
       "\n",
       "Measure ID                             PSI_14_POSTOP_DEHIS  PSI_15_ACC_LAC  \\\n",
       "Hospital Name                   State                                        \n",
       "ABBEVILLE AREA MEDICAL CENTER   SC                    0.00            0.00   \n",
       "ABBEVILLE GENERAL HOSPITAL      LA                    0.00            0.37   \n",
       "ABBOTT NORTHWESTERN HOSPITAL    MN                    0.00            1.42   \n",
       "ABILENE REGIONAL MEDICAL CENTER TX                    0.00            0.27   \n",
       "ABINGTON MEMORIAL HOSPITAL      PA                    1.53            0.75   \n",
       "\n",
       "Measure ID                             PSI_3_ULCER  PSI_4_SURG_COMP  \\\n",
       "Hospital Name                   State                                 \n",
       "ABBEVILLE AREA MEDICAL CENTER   SC            0.00             0.00   \n",
       "ABBEVILLE GENERAL HOSPITAL      LA            0.00             0.00   \n",
       "ABBOTT NORTHWESTERN HOSPITAL    MN            0.00            92.72   \n",
       "ABILENE REGIONAL MEDICAL CENTER TX            0.00            92.17   \n",
       "ABINGTON MEMORIAL HOSPITAL      PA            0.51           117.66   \n",
       "\n",
       "Measure ID                             PSI_6_IAT_PTX  PSI_7_CVCBI  \\\n",
       "Hospital Name                   State                               \n",
       "ABBEVILLE AREA MEDICAL CENTER   SC              0.00          0.0   \n",
       "ABBEVILLE GENERAL HOSPITAL      LA              0.07          0.0   \n",
       "ABBOTT NORTHWESTERN HOSPITAL    MN              0.09          0.0   \n",
       "ABILENE REGIONAL MEDICAL CENTER TX              0.12          0.0   \n",
       "ABINGTON MEMORIAL HOSPITAL      PA              0.09          0.0   \n",
       "\n",
       "Measure ID                             PSI_8_POST_HIP  PSI_90_SAFETY  \n",
       "Hospital Name                   State                                 \n",
       "ABBEVILLE AREA MEDICAL CENTER   SC               0.00           0.00  \n",
       "ABBEVILLE GENERAL HOSPITAL      LA               0.06           0.57  \n",
       "ABBOTT NORTHWESTERN HOSPITAL    MN               0.06           0.78  \n",
       "ABILENE REGIONAL MEDICAL CENTER TX               0.06           0.36  \n",
       "ABINGTON MEMORIAL HOSPITAL      PA               0.06           0.91  "
      ]
     },
     "execution_count": 93,
     "metadata": {},
     "output_type": "execute_result"
    }
   ],
   "source": [
    "comp_low = pd.pivot_table(comp, index=['Hospital Name', 'State'], columns = 'Measure ID', values = 'Lower Estimate')\n",
    "comp_low.head()"
   ]
  },
  {
   "cell_type": "code",
   "execution_count": 94,
   "metadata": {
    "collapsed": false
   },
   "outputs": [],
   "source": [
    "col_list_low = list(comp_low.columns.values)"
   ]
  },
  {
   "cell_type": "code",
   "execution_count": 95,
   "metadata": {
    "collapsed": false
   },
   "outputs": [
    {
     "name": "stdout",
     "output_type": "stream",
     "text": [
      "['COMP_HIP_KNEE_low', 'PSI_12_POSTOP_PULMEMB_DVT_low', 'PSI_13_POST_SEPSIS_low', 'PSI_14_POSTOP_DEHIS_low', 'PSI_15_ACC_LAC_low', 'PSI_3_ULCER_low', 'PSI_4_SURG_COMP_low', 'PSI_6_IAT_PTX_low', 'PSI_7_CVCBI_low', 'PSI_8_POST_HIP_low', 'PSI_90_SAFETY_low']\n"
     ]
    }
   ],
   "source": [
    "low_cols = []\n",
    "for i in col_list_low:\n",
    "    low_cols.append(i + '_low')\n",
    "print low_cols"
   ]
  },
  {
   "cell_type": "code",
   "execution_count": 96,
   "metadata": {
    "collapsed": false
   },
   "outputs": [],
   "source": [
    "comp_low.columns = low_cols"
   ]
  },
  {
   "cell_type": "code",
   "execution_count": 97,
   "metadata": {
    "collapsed": false
   },
   "outputs": [
    {
     "data": {
      "text/html": [
       "<div>\n",
       "<table border=\"1\" class=\"dataframe\">\n",
       "  <thead>\n",
       "    <tr style=\"text-align: right;\">\n",
       "      <th></th>\n",
       "      <th></th>\n",
       "      <th>COMP_HIP_KNEE_low</th>\n",
       "      <th>PSI_12_POSTOP_PULMEMB_DVT_low</th>\n",
       "      <th>PSI_13_POST_SEPSIS_low</th>\n",
       "      <th>PSI_14_POSTOP_DEHIS_low</th>\n",
       "      <th>PSI_15_ACC_LAC_low</th>\n",
       "      <th>PSI_3_ULCER_low</th>\n",
       "      <th>PSI_4_SURG_COMP_low</th>\n",
       "      <th>PSI_6_IAT_PTX_low</th>\n",
       "      <th>PSI_7_CVCBI_low</th>\n",
       "      <th>PSI_8_POST_HIP_low</th>\n",
       "      <th>PSI_90_SAFETY_low</th>\n",
       "    </tr>\n",
       "    <tr>\n",
       "      <th>Hospital Name</th>\n",
       "      <th>State</th>\n",
       "      <th></th>\n",
       "      <th></th>\n",
       "      <th></th>\n",
       "      <th></th>\n",
       "      <th></th>\n",
       "      <th></th>\n",
       "      <th></th>\n",
       "      <th></th>\n",
       "      <th></th>\n",
       "      <th></th>\n",
       "      <th></th>\n",
       "    </tr>\n",
       "  </thead>\n",
       "  <tbody>\n",
       "    <tr>\n",
       "      <th>ABBEVILLE AREA MEDICAL CENTER</th>\n",
       "      <th>SC</th>\n",
       "      <td>1.7</td>\n",
       "      <td>0.00</td>\n",
       "      <td>0.00</td>\n",
       "      <td>0.00</td>\n",
       "      <td>0.00</td>\n",
       "      <td>0.00</td>\n",
       "      <td>0.00</td>\n",
       "      <td>0.00</td>\n",
       "      <td>0.0</td>\n",
       "      <td>0.00</td>\n",
       "      <td>0.00</td>\n",
       "    </tr>\n",
       "    <tr>\n",
       "      <th>ABBEVILLE GENERAL HOSPITAL</th>\n",
       "      <th>LA</th>\n",
       "      <td>1.7</td>\n",
       "      <td>1.67</td>\n",
       "      <td>0.00</td>\n",
       "      <td>0.00</td>\n",
       "      <td>0.37</td>\n",
       "      <td>0.00</td>\n",
       "      <td>0.00</td>\n",
       "      <td>0.07</td>\n",
       "      <td>0.0</td>\n",
       "      <td>0.06</td>\n",
       "      <td>0.57</td>\n",
       "    </tr>\n",
       "    <tr>\n",
       "      <th>ABBOTT NORTHWESTERN HOSPITAL</th>\n",
       "      <th>MN</th>\n",
       "      <td>1.7</td>\n",
       "      <td>3.47</td>\n",
       "      <td>6.15</td>\n",
       "      <td>0.00</td>\n",
       "      <td>1.42</td>\n",
       "      <td>0.00</td>\n",
       "      <td>92.72</td>\n",
       "      <td>0.09</td>\n",
       "      <td>0.0</td>\n",
       "      <td>0.06</td>\n",
       "      <td>0.78</td>\n",
       "    </tr>\n",
       "    <tr>\n",
       "      <th>ABILENE REGIONAL MEDICAL CENTER</th>\n",
       "      <th>TX</th>\n",
       "      <td>2.0</td>\n",
       "      <td>0.17</td>\n",
       "      <td>0.00</td>\n",
       "      <td>0.00</td>\n",
       "      <td>0.27</td>\n",
       "      <td>0.00</td>\n",
       "      <td>92.17</td>\n",
       "      <td>0.12</td>\n",
       "      <td>0.0</td>\n",
       "      <td>0.06</td>\n",
       "      <td>0.36</td>\n",
       "    </tr>\n",
       "    <tr>\n",
       "      <th>ABINGTON MEMORIAL HOSPITAL</th>\n",
       "      <th>PA</th>\n",
       "      <td>3.3</td>\n",
       "      <td>6.51</td>\n",
       "      <td>4.19</td>\n",
       "      <td>1.53</td>\n",
       "      <td>0.75</td>\n",
       "      <td>0.51</td>\n",
       "      <td>117.66</td>\n",
       "      <td>0.09</td>\n",
       "      <td>0.0</td>\n",
       "      <td>0.06</td>\n",
       "      <td>0.91</td>\n",
       "    </tr>\n",
       "  </tbody>\n",
       "</table>\n",
       "</div>"
      ],
      "text/plain": [
       "                                       COMP_HIP_KNEE_low  \\\n",
       "Hospital Name                   State                      \n",
       "ABBEVILLE AREA MEDICAL CENTER   SC                   1.7   \n",
       "ABBEVILLE GENERAL HOSPITAL      LA                   1.7   \n",
       "ABBOTT NORTHWESTERN HOSPITAL    MN                   1.7   \n",
       "ABILENE REGIONAL MEDICAL CENTER TX                   2.0   \n",
       "ABINGTON MEMORIAL HOSPITAL      PA                   3.3   \n",
       "\n",
       "                                       PSI_12_POSTOP_PULMEMB_DVT_low  \\\n",
       "Hospital Name                   State                                  \n",
       "ABBEVILLE AREA MEDICAL CENTER   SC                              0.00   \n",
       "ABBEVILLE GENERAL HOSPITAL      LA                              1.67   \n",
       "ABBOTT NORTHWESTERN HOSPITAL    MN                              3.47   \n",
       "ABILENE REGIONAL MEDICAL CENTER TX                              0.17   \n",
       "ABINGTON MEMORIAL HOSPITAL      PA                              6.51   \n",
       "\n",
       "                                       PSI_13_POST_SEPSIS_low  \\\n",
       "Hospital Name                   State                           \n",
       "ABBEVILLE AREA MEDICAL CENTER   SC                       0.00   \n",
       "ABBEVILLE GENERAL HOSPITAL      LA                       0.00   \n",
       "ABBOTT NORTHWESTERN HOSPITAL    MN                       6.15   \n",
       "ABILENE REGIONAL MEDICAL CENTER TX                       0.00   \n",
       "ABINGTON MEMORIAL HOSPITAL      PA                       4.19   \n",
       "\n",
       "                                       PSI_14_POSTOP_DEHIS_low  \\\n",
       "Hospital Name                   State                            \n",
       "ABBEVILLE AREA MEDICAL CENTER   SC                        0.00   \n",
       "ABBEVILLE GENERAL HOSPITAL      LA                        0.00   \n",
       "ABBOTT NORTHWESTERN HOSPITAL    MN                        0.00   \n",
       "ABILENE REGIONAL MEDICAL CENTER TX                        0.00   \n",
       "ABINGTON MEMORIAL HOSPITAL      PA                        1.53   \n",
       "\n",
       "                                       PSI_15_ACC_LAC_low  PSI_3_ULCER_low  \\\n",
       "Hospital Name                   State                                        \n",
       "ABBEVILLE AREA MEDICAL CENTER   SC                   0.00             0.00   \n",
       "ABBEVILLE GENERAL HOSPITAL      LA                   0.37             0.00   \n",
       "ABBOTT NORTHWESTERN HOSPITAL    MN                   1.42             0.00   \n",
       "ABILENE REGIONAL MEDICAL CENTER TX                   0.27             0.00   \n",
       "ABINGTON MEMORIAL HOSPITAL      PA                   0.75             0.51   \n",
       "\n",
       "                                       PSI_4_SURG_COMP_low  PSI_6_IAT_PTX_low  \\\n",
       "Hospital Name                   State                                           \n",
       "ABBEVILLE AREA MEDICAL CENTER   SC                    0.00               0.00   \n",
       "ABBEVILLE GENERAL HOSPITAL      LA                    0.00               0.07   \n",
       "ABBOTT NORTHWESTERN HOSPITAL    MN                   92.72               0.09   \n",
       "ABILENE REGIONAL MEDICAL CENTER TX                   92.17               0.12   \n",
       "ABINGTON MEMORIAL HOSPITAL      PA                  117.66               0.09   \n",
       "\n",
       "                                       PSI_7_CVCBI_low  PSI_8_POST_HIP_low  \\\n",
       "Hospital Name                   State                                        \n",
       "ABBEVILLE AREA MEDICAL CENTER   SC                 0.0                0.00   \n",
       "ABBEVILLE GENERAL HOSPITAL      LA                 0.0                0.06   \n",
       "ABBOTT NORTHWESTERN HOSPITAL    MN                 0.0                0.06   \n",
       "ABILENE REGIONAL MEDICAL CENTER TX                 0.0                0.06   \n",
       "ABINGTON MEMORIAL HOSPITAL      PA                 0.0                0.06   \n",
       "\n",
       "                                       PSI_90_SAFETY_low  \n",
       "Hospital Name                   State                     \n",
       "ABBEVILLE AREA MEDICAL CENTER   SC                  0.00  \n",
       "ABBEVILLE GENERAL HOSPITAL      LA                  0.57  \n",
       "ABBOTT NORTHWESTERN HOSPITAL    MN                  0.78  \n",
       "ABILENE REGIONAL MEDICAL CENTER TX                  0.36  \n",
       "ABINGTON MEMORIAL HOSPITAL      PA                  0.91  "
      ]
     },
     "execution_count": 97,
     "metadata": {},
     "output_type": "execute_result"
    }
   ],
   "source": [
    "comp_low.head()"
   ]
  },
  {
   "cell_type": "code",
   "execution_count": 98,
   "metadata": {
    "collapsed": true
   },
   "outputs": [],
   "source": [
    "comp_high = pd.pivot_table(comp, index=['Hospital Name','State'], columns = 'Measure ID', values = 'Higher Estimate')"
   ]
  },
  {
   "cell_type": "code",
   "execution_count": 99,
   "metadata": {
    "collapsed": true
   },
   "outputs": [],
   "source": [
    "col_list_high = list(comp_high.columns.values)"
   ]
  },
  {
   "cell_type": "code",
   "execution_count": 100,
   "metadata": {
    "collapsed": false
   },
   "outputs": [
    {
     "name": "stdout",
     "output_type": "stream",
     "text": [
      "['COMP_HIP_KNEE_high', 'PSI_12_POSTOP_PULMEMB_DVT_high', 'PSI_13_POST_SEPSIS_high', 'PSI_14_POSTOP_DEHIS_high', 'PSI_15_ACC_LAC_high', 'PSI_3_ULCER_high', 'PSI_4_SURG_COMP_high', 'PSI_6_IAT_PTX_high', 'PSI_7_CVCBI_high', 'PSI_8_POST_HIP_high', 'PSI_90_SAFETY_high']\n"
     ]
    }
   ],
   "source": [
    "high_cols = []\n",
    "for i in col_list_high:\n",
    "    high_cols.append(i + '_high')\n",
    "print high_cols"
   ]
  },
  {
   "cell_type": "code",
   "execution_count": 101,
   "metadata": {
    "collapsed": true
   },
   "outputs": [],
   "source": [
    "comp_high.columns = high_cols"
   ]
  },
  {
   "cell_type": "code",
   "execution_count": 102,
   "metadata": {
    "collapsed": false
   },
   "outputs": [
    {
     "data": {
      "text/html": [
       "<div>\n",
       "<table border=\"1\" class=\"dataframe\">\n",
       "  <thead>\n",
       "    <tr style=\"text-align: right;\">\n",
       "      <th></th>\n",
       "      <th></th>\n",
       "      <th>COMP_HIP_KNEE_high</th>\n",
       "      <th>PSI_12_POSTOP_PULMEMB_DVT_high</th>\n",
       "      <th>PSI_13_POST_SEPSIS_high</th>\n",
       "      <th>PSI_14_POSTOP_DEHIS_high</th>\n",
       "      <th>PSI_15_ACC_LAC_high</th>\n",
       "      <th>PSI_3_ULCER_high</th>\n",
       "      <th>PSI_4_SURG_COMP_high</th>\n",
       "      <th>PSI_6_IAT_PTX_high</th>\n",
       "      <th>PSI_7_CVCBI_high</th>\n",
       "      <th>PSI_8_POST_HIP_high</th>\n",
       "      <th>PSI_90_SAFETY_high</th>\n",
       "    </tr>\n",
       "    <tr>\n",
       "      <th>Hospital Name</th>\n",
       "      <th>State</th>\n",
       "      <th></th>\n",
       "      <th></th>\n",
       "      <th></th>\n",
       "      <th></th>\n",
       "      <th></th>\n",
       "      <th></th>\n",
       "      <th></th>\n",
       "      <th></th>\n",
       "      <th></th>\n",
       "      <th></th>\n",
       "      <th></th>\n",
       "    </tr>\n",
       "  </thead>\n",
       "  <tbody>\n",
       "    <tr>\n",
       "      <th>ABBEVILLE AREA MEDICAL CENTER</th>\n",
       "      <th>SC</th>\n",
       "      <td>5.2</td>\n",
       "      <td>0.00</td>\n",
       "      <td>0.00</td>\n",
       "      <td>0.00</td>\n",
       "      <td>0.00</td>\n",
       "      <td>0.00</td>\n",
       "      <td>0.00</td>\n",
       "      <td>0.00</td>\n",
       "      <td>0.00</td>\n",
       "      <td>0.00</td>\n",
       "      <td>0.00</td>\n",
       "    </tr>\n",
       "    <tr>\n",
       "      <th>ABBEVILLE GENERAL HOSPITAL</th>\n",
       "      <th>LA</th>\n",
       "      <td>5.0</td>\n",
       "      <td>11.34</td>\n",
       "      <td>0.00</td>\n",
       "      <td>4.60</td>\n",
       "      <td>3.02</td>\n",
       "      <td>1.65</td>\n",
       "      <td>0.00</td>\n",
       "      <td>0.71</td>\n",
       "      <td>0.47</td>\n",
       "      <td>0.06</td>\n",
       "      <td>1.47</td>\n",
       "    </tr>\n",
       "    <tr>\n",
       "      <th>ABBOTT NORTHWESTERN HOSPITAL</th>\n",
       "      <th>MN</th>\n",
       "      <td>3.7</td>\n",
       "      <td>6.99</td>\n",
       "      <td>16.38</td>\n",
       "      <td>3.83</td>\n",
       "      <td>2.49</td>\n",
       "      <td>0.80</td>\n",
       "      <td>156.32</td>\n",
       "      <td>0.54</td>\n",
       "      <td>0.32</td>\n",
       "      <td>0.06</td>\n",
       "      <td>1.16</td>\n",
       "    </tr>\n",
       "    <tr>\n",
       "      <th>ABILENE REGIONAL MEDICAL CENTER</th>\n",
       "      <th>TX</th>\n",
       "      <td>4.7</td>\n",
       "      <td>6.68</td>\n",
       "      <td>12.96</td>\n",
       "      <td>4.49</td>\n",
       "      <td>2.08</td>\n",
       "      <td>1.04</td>\n",
       "      <td>184.78</td>\n",
       "      <td>0.68</td>\n",
       "      <td>0.40</td>\n",
       "      <td>0.06</td>\n",
       "      <td>0.98</td>\n",
       "    </tr>\n",
       "    <tr>\n",
       "      <th>ABINGTON MEMORIAL HOSPITAL</th>\n",
       "      <th>PA</th>\n",
       "      <td>5.7</td>\n",
       "      <td>10.43</td>\n",
       "      <td>16.42</td>\n",
       "      <td>5.65</td>\n",
       "      <td>1.83</td>\n",
       "      <td>1.67</td>\n",
       "      <td>189.61</td>\n",
       "      <td>0.54</td>\n",
       "      <td>0.35</td>\n",
       "      <td>0.06</td>\n",
       "      <td>1.30</td>\n",
       "    </tr>\n",
       "  </tbody>\n",
       "</table>\n",
       "</div>"
      ],
      "text/plain": [
       "                                       COMP_HIP_KNEE_high  \\\n",
       "Hospital Name                   State                       \n",
       "ABBEVILLE AREA MEDICAL CENTER   SC                    5.2   \n",
       "ABBEVILLE GENERAL HOSPITAL      LA                    5.0   \n",
       "ABBOTT NORTHWESTERN HOSPITAL    MN                    3.7   \n",
       "ABILENE REGIONAL MEDICAL CENTER TX                    4.7   \n",
       "ABINGTON MEMORIAL HOSPITAL      PA                    5.7   \n",
       "\n",
       "                                       PSI_12_POSTOP_PULMEMB_DVT_high  \\\n",
       "Hospital Name                   State                                   \n",
       "ABBEVILLE AREA MEDICAL CENTER   SC                               0.00   \n",
       "ABBEVILLE GENERAL HOSPITAL      LA                              11.34   \n",
       "ABBOTT NORTHWESTERN HOSPITAL    MN                               6.99   \n",
       "ABILENE REGIONAL MEDICAL CENTER TX                               6.68   \n",
       "ABINGTON MEMORIAL HOSPITAL      PA                              10.43   \n",
       "\n",
       "                                       PSI_13_POST_SEPSIS_high  \\\n",
       "Hospital Name                   State                            \n",
       "ABBEVILLE AREA MEDICAL CENTER   SC                        0.00   \n",
       "ABBEVILLE GENERAL HOSPITAL      LA                        0.00   \n",
       "ABBOTT NORTHWESTERN HOSPITAL    MN                       16.38   \n",
       "ABILENE REGIONAL MEDICAL CENTER TX                       12.96   \n",
       "ABINGTON MEMORIAL HOSPITAL      PA                       16.42   \n",
       "\n",
       "                                       PSI_14_POSTOP_DEHIS_high  \\\n",
       "Hospital Name                   State                             \n",
       "ABBEVILLE AREA MEDICAL CENTER   SC                         0.00   \n",
       "ABBEVILLE GENERAL HOSPITAL      LA                         4.60   \n",
       "ABBOTT NORTHWESTERN HOSPITAL    MN                         3.83   \n",
       "ABILENE REGIONAL MEDICAL CENTER TX                         4.49   \n",
       "ABINGTON MEMORIAL HOSPITAL      PA                         5.65   \n",
       "\n",
       "                                       PSI_15_ACC_LAC_high  PSI_3_ULCER_high  \\\n",
       "Hospital Name                   State                                          \n",
       "ABBEVILLE AREA MEDICAL CENTER   SC                    0.00              0.00   \n",
       "ABBEVILLE GENERAL HOSPITAL      LA                    3.02              1.65   \n",
       "ABBOTT NORTHWESTERN HOSPITAL    MN                    2.49              0.80   \n",
       "ABILENE REGIONAL MEDICAL CENTER TX                    2.08              1.04   \n",
       "ABINGTON MEMORIAL HOSPITAL      PA                    1.83              1.67   \n",
       "\n",
       "                                       PSI_4_SURG_COMP_high  \\\n",
       "Hospital Name                   State                         \n",
       "ABBEVILLE AREA MEDICAL CENTER   SC                     0.00   \n",
       "ABBEVILLE GENERAL HOSPITAL      LA                     0.00   \n",
       "ABBOTT NORTHWESTERN HOSPITAL    MN                   156.32   \n",
       "ABILENE REGIONAL MEDICAL CENTER TX                   184.78   \n",
       "ABINGTON MEMORIAL HOSPITAL      PA                   189.61   \n",
       "\n",
       "                                       PSI_6_IAT_PTX_high  PSI_7_CVCBI_high  \\\n",
       "Hospital Name                   State                                         \n",
       "ABBEVILLE AREA MEDICAL CENTER   SC                   0.00              0.00   \n",
       "ABBEVILLE GENERAL HOSPITAL      LA                   0.71              0.47   \n",
       "ABBOTT NORTHWESTERN HOSPITAL    MN                   0.54              0.32   \n",
       "ABILENE REGIONAL MEDICAL CENTER TX                   0.68              0.40   \n",
       "ABINGTON MEMORIAL HOSPITAL      PA                   0.54              0.35   \n",
       "\n",
       "                                       PSI_8_POST_HIP_high  PSI_90_SAFETY_high  \n",
       "Hospital Name                   State                                           \n",
       "ABBEVILLE AREA MEDICAL CENTER   SC                    0.00                0.00  \n",
       "ABBEVILLE GENERAL HOSPITAL      LA                    0.06                1.47  \n",
       "ABBOTT NORTHWESTERN HOSPITAL    MN                    0.06                1.16  \n",
       "ABILENE REGIONAL MEDICAL CENTER TX                    0.06                0.98  \n",
       "ABINGTON MEMORIAL HOSPITAL      PA                    0.06                1.30  "
      ]
     },
     "execution_count": 102,
     "metadata": {},
     "output_type": "execute_result"
    }
   ],
   "source": [
    "comp_high.head()"
   ]
  },
  {
   "cell_type": "markdown",
   "metadata": {},
   "source": [
    "#### Features from Hospital-Acquired_Condition_Reduction_Program"
   ]
  },
  {
   "cell_type": "code",
   "execution_count": 103,
   "metadata": {
    "collapsed": false
   },
   "outputs": [
    {
     "data": {
      "text/html": [
       "<div>\n",
       "<table border=\"1\" class=\"dataframe\">\n",
       "  <thead>\n",
       "    <tr style=\"text-align: right;\">\n",
       "      <th></th>\n",
       "      <th>Hospital_Name</th>\n",
       "      <th>Provider ID</th>\n",
       "      <th>State</th>\n",
       "      <th>Fiscal Year</th>\n",
       "      <th>Domain_1_Score</th>\n",
       "      <th>Domain_1_Score_Footnote</th>\n",
       "      <th>Domain_1_Start_Date</th>\n",
       "      <th>Domain_1_End_Date</th>\n",
       "      <th>AHRQ_PSI_90_Score</th>\n",
       "      <th>AHRQ_PSI_90_Score_Footnote</th>\n",
       "      <th>...</th>\n",
       "      <th>MRSA_Score</th>\n",
       "      <th>MRSA_Footnote</th>\n",
       "      <th>CDI_Score</th>\n",
       "      <th>CDI_Footnote</th>\n",
       "      <th>Domain_2_Start_Date</th>\n",
       "      <th>Domain_2_End_Date</th>\n",
       "      <th>Total_HAC_Score</th>\n",
       "      <th>Total_HAC_Score_Footnote</th>\n",
       "      <th>Payment_Reduction</th>\n",
       "      <th>Payment_Reduction_Footnote</th>\n",
       "    </tr>\n",
       "  </thead>\n",
       "  <tbody>\n",
       "    <tr>\n",
       "      <th>0</th>\n",
       "      <td>ADVENTIST MEDICAL CENTER</td>\n",
       "      <td>50121</td>\n",
       "      <td>CA</td>\n",
       "      <td>2017</td>\n",
       "      <td>3.0</td>\n",
       "      <td>NaN</td>\n",
       "      <td>01-JUL-13</td>\n",
       "      <td>30-JUN-15</td>\n",
       "      <td>3.0</td>\n",
       "      <td>NaN</td>\n",
       "      <td>...</td>\n",
       "      <td>4.0</td>\n",
       "      <td>NaN</td>\n",
       "      <td>5.0</td>\n",
       "      <td>NaN</td>\n",
       "      <td>01-JAN-14</td>\n",
       "      <td>31-DEC-15</td>\n",
       "      <td>7.08</td>\n",
       "      <td>NaN</td>\n",
       "      <td>Yes</td>\n",
       "      <td>NaN</td>\n",
       "    </tr>\n",
       "    <tr>\n",
       "      <th>1</th>\n",
       "      <td>DAMERON HOSPITAL</td>\n",
       "      <td>50122</td>\n",
       "      <td>CA</td>\n",
       "      <td>2017</td>\n",
       "      <td>10.0</td>\n",
       "      <td>NaN</td>\n",
       "      <td>01-JUL-13</td>\n",
       "      <td>30-JUN-15</td>\n",
       "      <td>10.0</td>\n",
       "      <td>NaN</td>\n",
       "      <td>...</td>\n",
       "      <td>10.0</td>\n",
       "      <td>NaN</td>\n",
       "      <td>9.0</td>\n",
       "      <td>NaN</td>\n",
       "      <td>01-JAN-14</td>\n",
       "      <td>31-DEC-15</td>\n",
       "      <td>8.13</td>\n",
       "      <td>NaN</td>\n",
       "      <td>Yes</td>\n",
       "      <td>NaN</td>\n",
       "    </tr>\n",
       "    <tr>\n",
       "      <th>2</th>\n",
       "      <td>USC VERDUGO HILLS HOSPITAL</td>\n",
       "      <td>50124</td>\n",
       "      <td>CA</td>\n",
       "      <td>2017</td>\n",
       "      <td>4.0</td>\n",
       "      <td>NaN</td>\n",
       "      <td>01-JUL-13</td>\n",
       "      <td>30-JUN-15</td>\n",
       "      <td>4.0</td>\n",
       "      <td>NaN</td>\n",
       "      <td>...</td>\n",
       "      <td>4.0</td>\n",
       "      <td>NaN</td>\n",
       "      <td>5.0</td>\n",
       "      <td>NaN</td>\n",
       "      <td>01-JAN-14</td>\n",
       "      <td>31-DEC-15</td>\n",
       "      <td>5.70</td>\n",
       "      <td>NaN</td>\n",
       "      <td>No</td>\n",
       "      <td>NaN</td>\n",
       "    </tr>\n",
       "    <tr>\n",
       "      <th>3</th>\n",
       "      <td>REGIONAL MEDICAL CENTER OF SAN JOSE</td>\n",
       "      <td>50125</td>\n",
       "      <td>CA</td>\n",
       "      <td>2017</td>\n",
       "      <td>9.0</td>\n",
       "      <td>NaN</td>\n",
       "      <td>01-JUL-13</td>\n",
       "      <td>30-JUN-15</td>\n",
       "      <td>9.0</td>\n",
       "      <td>NaN</td>\n",
       "      <td>...</td>\n",
       "      <td>9.0</td>\n",
       "      <td>NaN</td>\n",
       "      <td>8.0</td>\n",
       "      <td>NaN</td>\n",
       "      <td>01-JAN-14</td>\n",
       "      <td>31-DEC-15</td>\n",
       "      <td>8.83</td>\n",
       "      <td>NaN</td>\n",
       "      <td>Yes</td>\n",
       "      <td>NaN</td>\n",
       "    </tr>\n",
       "    <tr>\n",
       "      <th>4</th>\n",
       "      <td>VALLEY PRESBYTERIAN HOSPITAL</td>\n",
       "      <td>50126</td>\n",
       "      <td>CA</td>\n",
       "      <td>2017</td>\n",
       "      <td>8.0</td>\n",
       "      <td>NaN</td>\n",
       "      <td>01-JUL-13</td>\n",
       "      <td>30-JUN-15</td>\n",
       "      <td>8.0</td>\n",
       "      <td>NaN</td>\n",
       "      <td>...</td>\n",
       "      <td>8.0</td>\n",
       "      <td>NaN</td>\n",
       "      <td>8.0</td>\n",
       "      <td>NaN</td>\n",
       "      <td>01-JAN-14</td>\n",
       "      <td>31-DEC-15</td>\n",
       "      <td>7.32</td>\n",
       "      <td>NaN</td>\n",
       "      <td>Yes</td>\n",
       "      <td>NaN</td>\n",
       "    </tr>\n",
       "  </tbody>\n",
       "</table>\n",
       "<p>5 rows × 28 columns</p>\n",
       "</div>"
      ],
      "text/plain": [
       "                         Hospital_Name  Provider ID State  Fiscal Year  \\\n",
       "0             ADVENTIST MEDICAL CENTER        50121    CA         2017   \n",
       "1                     DAMERON HOSPITAL        50122    CA         2017   \n",
       "2           USC VERDUGO HILLS HOSPITAL        50124    CA         2017   \n",
       "3  REGIONAL MEDICAL CENTER OF SAN JOSE        50125    CA         2017   \n",
       "4         VALLEY PRESBYTERIAN HOSPITAL        50126    CA         2017   \n",
       "\n",
       "   Domain_1_Score  Domain_1_Score_Footnote Domain_1_Start_Date  \\\n",
       "0             3.0                      NaN           01-JUL-13   \n",
       "1            10.0                      NaN           01-JUL-13   \n",
       "2             4.0                      NaN           01-JUL-13   \n",
       "3             9.0                      NaN           01-JUL-13   \n",
       "4             8.0                      NaN           01-JUL-13   \n",
       "\n",
       "  Domain_1_End_Date  AHRQ_PSI_90_Score  AHRQ_PSI_90_Score_Footnote  \\\n",
       "0         30-JUN-15                3.0                         NaN   \n",
       "1         30-JUN-15               10.0                         NaN   \n",
       "2         30-JUN-15                4.0                         NaN   \n",
       "3         30-JUN-15                9.0                         NaN   \n",
       "4         30-JUN-15                8.0                         NaN   \n",
       "\n",
       "              ...              MRSA_Score  MRSA_Footnote  CDI_Score  \\\n",
       "0             ...                     4.0            NaN        5.0   \n",
       "1             ...                    10.0            NaN        9.0   \n",
       "2             ...                     4.0            NaN        5.0   \n",
       "3             ...                     9.0            NaN        8.0   \n",
       "4             ...                     8.0            NaN        8.0   \n",
       "\n",
       "   CDI_Footnote  Domain_2_Start_Date  Domain_2_End_Date  Total_HAC_Score  \\\n",
       "0           NaN            01-JAN-14          31-DEC-15             7.08   \n",
       "1           NaN            01-JAN-14          31-DEC-15             8.13   \n",
       "2           NaN            01-JAN-14          31-DEC-15             5.70   \n",
       "3           NaN            01-JAN-14          31-DEC-15             8.83   \n",
       "4           NaN            01-JAN-14          31-DEC-15             7.32   \n",
       "\n",
       "   Total_HAC_Score_Footnote  Payment_Reduction  Payment_Reduction_Footnote  \n",
       "0                       NaN                Yes                         NaN  \n",
       "1                       NaN                Yes                         NaN  \n",
       "2                       NaN                 No                         NaN  \n",
       "3                       NaN                Yes                         NaN  \n",
       "4                       NaN                Yes                         NaN  \n",
       "\n",
       "[5 rows x 28 columns]"
      ]
     },
     "execution_count": 103,
     "metadata": {},
     "output_type": "execute_result"
    }
   ],
   "source": [
    "reduc = pd.read_csv('Hospital-Acquired_Condition_Reduction_Program.csv')\n",
    "reduc.head()"
   ]
  },
  {
   "cell_type": "code",
   "execution_count": 104,
   "metadata": {
    "collapsed": false
   },
   "outputs": [
    {
     "name": "stdout",
     "output_type": "stream",
     "text": [
      "<class 'pandas.core.frame.DataFrame'>\n",
      "RangeIndex: 3313 entries, 0 to 3312\n",
      "Data columns (total 28 columns):\n",
      "Hospital_Name                 3313 non-null object\n",
      "Provider ID                   3313 non-null int64\n",
      "State                         3313 non-null object\n",
      "Fiscal Year                   3313 non-null int64\n",
      "Domain_1_Score                3179 non-null float64\n",
      "Domain_1_Score_Footnote       134 non-null float64\n",
      "Domain_1_Start_Date           3313 non-null object\n",
      "Domain_1_End_Date             3313 non-null object\n",
      "AHRQ_PSI_90_Score             3216 non-null float64\n",
      "AHRQ_PSI_90_Score_Footnote    134 non-null float64\n",
      "Domain_2_Score                3173 non-null float64\n",
      "Domain_2_Score_Footnote       170 non-null float64\n",
      "CLABSI_Score                  2296 non-null float64\n",
      "CLABSI_Score_Footnote         1034 non-null float64\n",
      "CAUTI_Score                   2581 non-null float64\n",
      "CAUTI_Score_Footnote          749 non-null float64\n",
      "SSI_Score                     2573 non-null float64\n",
      "SSI_Score_Footnote            769 non-null float64\n",
      "MRSA_Score                    2373 non-null float64\n",
      "MRSA_Footnote                 964 non-null float64\n",
      "CDI_Score                     3161 non-null float64\n",
      "CDI_Footnote                  176 non-null float64\n",
      "Domain_2_Start_Date           3313 non-null object\n",
      "Domain_2_End_Date             3313 non-null object\n",
      "Total_HAC_Score               3250 non-null float64\n",
      "Total_HAC_Score_Footnote      79 non-null object\n",
      "Payment_Reduction             3266 non-null object\n",
      "Payment_Reduction_Footnote    84 non-null object\n",
      "dtypes: float64(17), int64(2), object(9)\n",
      "memory usage: 724.8+ KB\n"
     ]
    }
   ],
   "source": [
    "reduc.info()"
   ]
  },
  {
   "cell_type": "code",
   "execution_count": 105,
   "metadata": {
    "collapsed": false
   },
   "outputs": [
    {
     "data": {
      "text/html": [
       "<div>\n",
       "<table border=\"1\" class=\"dataframe\">\n",
       "  <thead>\n",
       "    <tr style=\"text-align: right;\">\n",
       "      <th></th>\n",
       "      <th>Hospital_Name</th>\n",
       "      <th>State</th>\n",
       "      <th>AHRQ_PSI_90_Score</th>\n",
       "      <th>CLABSI_Score</th>\n",
       "      <th>CAUTI_Score</th>\n",
       "      <th>SSI_Score</th>\n",
       "      <th>MRSA_Score</th>\n",
       "      <th>CDI_Score</th>\n",
       "    </tr>\n",
       "  </thead>\n",
       "  <tbody>\n",
       "    <tr>\n",
       "      <th>0</th>\n",
       "      <td>ADVENTIST MEDICAL CENTER</td>\n",
       "      <td>CA</td>\n",
       "      <td>3.0</td>\n",
       "      <td>10.0</td>\n",
       "      <td>10.0</td>\n",
       "      <td>10.0</td>\n",
       "      <td>4.0</td>\n",
       "      <td>5.0</td>\n",
       "    </tr>\n",
       "    <tr>\n",
       "      <th>1</th>\n",
       "      <td>DAMERON HOSPITAL</td>\n",
       "      <td>CA</td>\n",
       "      <td>10.0</td>\n",
       "      <td>8.0</td>\n",
       "      <td>9.0</td>\n",
       "      <td>3.0</td>\n",
       "      <td>10.0</td>\n",
       "      <td>9.0</td>\n",
       "    </tr>\n",
       "    <tr>\n",
       "      <th>2</th>\n",
       "      <td>USC VERDUGO HILLS HOSPITAL</td>\n",
       "      <td>CA</td>\n",
       "      <td>4.0</td>\n",
       "      <td>10.0</td>\n",
       "      <td>9.0</td>\n",
       "      <td>2.0</td>\n",
       "      <td>4.0</td>\n",
       "      <td>5.0</td>\n",
       "    </tr>\n",
       "    <tr>\n",
       "      <th>3</th>\n",
       "      <td>REGIONAL MEDICAL CENTER OF SAN JOSE</td>\n",
       "      <td>CA</td>\n",
       "      <td>9.0</td>\n",
       "      <td>9.0</td>\n",
       "      <td>9.0</td>\n",
       "      <td>9.0</td>\n",
       "      <td>9.0</td>\n",
       "      <td>8.0</td>\n",
       "    </tr>\n",
       "    <tr>\n",
       "      <th>4</th>\n",
       "      <td>VALLEY PRESBYTERIAN HOSPITAL</td>\n",
       "      <td>CA</td>\n",
       "      <td>8.0</td>\n",
       "      <td>8.0</td>\n",
       "      <td>4.0</td>\n",
       "      <td>8.0</td>\n",
       "      <td>8.0</td>\n",
       "      <td>8.0</td>\n",
       "    </tr>\n",
       "  </tbody>\n",
       "</table>\n",
       "</div>"
      ],
      "text/plain": [
       "                         Hospital_Name State  AHRQ_PSI_90_Score  CLABSI_Score  \\\n",
       "0             ADVENTIST MEDICAL CENTER    CA                3.0          10.0   \n",
       "1                     DAMERON HOSPITAL    CA               10.0           8.0   \n",
       "2           USC VERDUGO HILLS HOSPITAL    CA                4.0          10.0   \n",
       "3  REGIONAL MEDICAL CENTER OF SAN JOSE    CA                9.0           9.0   \n",
       "4         VALLEY PRESBYTERIAN HOSPITAL    CA                8.0           8.0   \n",
       "\n",
       "   CAUTI_Score  SSI_Score  MRSA_Score  CDI_Score  \n",
       "0         10.0       10.0         4.0        5.0  \n",
       "1          9.0        3.0        10.0        9.0  \n",
       "2          9.0        2.0         4.0        5.0  \n",
       "3          9.0        9.0         9.0        8.0  \n",
       "4          4.0        8.0         8.0        8.0  "
      ]
     },
     "execution_count": 105,
     "metadata": {},
     "output_type": "execute_result"
    }
   ],
   "source": [
    "#only grabbing relevant features\n",
    "feat_list = ['Hospital_Name', 'State', 'AHRQ_PSI_90_Score','CLABSI_Score','CAUTI_Score','SSI_Score','MRSA_Score','CDI_Score']\n",
    "reduc = reduc[feat_list]\n",
    "reduc.head()"
   ]
  },
  {
   "cell_type": "code",
   "execution_count": 106,
   "metadata": {
    "collapsed": false
   },
   "outputs": [
    {
     "data": {
      "text/plain": [
       "['AHRQ_PSI_90_Score',\n",
       " 'CLABSI_Score',\n",
       " 'CAUTI_Score',\n",
       " 'SSI_Score',\n",
       " 'MRSA_Score',\n",
       " 'CDI_Score']"
      ]
     },
     "execution_count": 106,
     "metadata": {},
     "output_type": "execute_result"
    }
   ],
   "source": [
    "feat_list[2:]"
   ]
  },
  {
   "cell_type": "code",
   "execution_count": 107,
   "metadata": {
    "collapsed": false
   },
   "outputs": [
    {
     "name": "stdout",
     "output_type": "stream",
     "text": [
      "There are 97 null values, 0 appears 0 times for AHRQ_PSI_90_Score.\n",
      "There are 1017 null values, 0 appears 0 times for CLABSI_Score.\n",
      "There are 732 null values, 0 appears 0 times for CAUTI_Score.\n",
      "There are 740 null values, 0 appears 0 times for SSI_Score.\n",
      "There are 940 null values, 0 appears 0 times for MRSA_Score.\n",
      "There are 152 null values, 0 appears 0 times for CDI_Score.\n"
     ]
    }
   ],
   "source": [
    "for f in feat_list[2:]:\n",
    "    null = reduc[f].isnull().sum()\n",
    "    temp_zero = len(reduc[reduc[f] == 0]) \n",
    "    print \"There are %s null values, 0 appears %s times for %s.\" % (null, temp_zero, f)\n",
    "    #Nans exists here too but there are no 0s"
   ]
  },
  {
   "cell_type": "code",
   "execution_count": 108,
   "metadata": {
    "collapsed": false
   },
   "outputs": [],
   "source": [
    "for f in feat_list[1:]:\n",
    "    reduc[f].fillna(value=0,inplace=True)"
   ]
  },
  {
   "cell_type": "code",
   "execution_count": 109,
   "metadata": {
    "collapsed": false
   },
   "outputs": [
    {
     "name": "stdout",
     "output_type": "stream",
     "text": [
      "<class 'pandas.core.frame.DataFrame'>\n",
      "RangeIndex: 3313 entries, 0 to 3312\n",
      "Data columns (total 8 columns):\n",
      "Hospital_Name        3313 non-null object\n",
      "State                3313 non-null object\n",
      "AHRQ_PSI_90_Score    3313 non-null float64\n",
      "CLABSI_Score         3313 non-null float64\n",
      "CAUTI_Score          3313 non-null float64\n",
      "SSI_Score            3313 non-null float64\n",
      "MRSA_Score           3313 non-null float64\n",
      "CDI_Score            3313 non-null float64\n",
      "dtypes: float64(6), object(2)\n",
      "memory usage: 207.1+ KB\n"
     ]
    }
   ],
   "source": [
    "reduc.info() #Replaced the null values. Don't need to pivot this table "
   ]
  },
  {
   "cell_type": "markdown",
   "metadata": {},
   "source": [
    "#### Features related to spending by claim "
   ]
  },
  {
   "cell_type": "code",
   "execution_count": 110,
   "metadata": {
    "collapsed": false
   },
   "outputs": [
    {
     "data": {
      "text/html": [
       "<div>\n",
       "<table border=\"1\" class=\"dataframe\">\n",
       "  <thead>\n",
       "    <tr style=\"text-align: right;\">\n",
       "      <th></th>\n",
       "      <th>Hospital_Name</th>\n",
       "      <th>Provider_ID</th>\n",
       "      <th>State</th>\n",
       "      <th>Period</th>\n",
       "      <th>Claim_Type</th>\n",
       "      <th>Avg_Spending_Per_Episode_Hospital</th>\n",
       "      <th>Avg_Spending_Per_Episode_State</th>\n",
       "      <th>Avg_Spending_Per_Episode_Nation</th>\n",
       "      <th>Percent_of_Spending_Hospital</th>\n",
       "      <th>Percent_of_Spending_State</th>\n",
       "      <th>Percent_of_Spending_Nation</th>\n",
       "    </tr>\n",
       "  </thead>\n",
       "  <tbody>\n",
       "    <tr>\n",
       "      <th>0</th>\n",
       "      <td>HELEN KELLER HOSPITAL</td>\n",
       "      <td>10019</td>\n",
       "      <td>AL</td>\n",
       "      <td>During Index Hospital Admission</td>\n",
       "      <td>Skilled Nursing Facility</td>\n",
       "      <td>$0.00</td>\n",
       "      <td>$0.00</td>\n",
       "      <td>$0.00</td>\n",
       "      <td>0%</td>\n",
       "      <td>0%</td>\n",
       "      <td>0%</td>\n",
       "    </tr>\n",
       "    <tr>\n",
       "      <th>1</th>\n",
       "      <td>HELEN KELLER HOSPITAL</td>\n",
       "      <td>10019</td>\n",
       "      <td>AL</td>\n",
       "      <td>During Index Hospital Admission</td>\n",
       "      <td>Durable Medical Equipment</td>\n",
       "      <td>$18.00</td>\n",
       "      <td>$31.00</td>\n",
       "      <td>$24.00</td>\n",
       "      <td>0.1%</td>\n",
       "      <td>0.16%</td>\n",
       "      <td>0.12%</td>\n",
       "    </tr>\n",
       "    <tr>\n",
       "      <th>2</th>\n",
       "      <td>HELEN KELLER HOSPITAL</td>\n",
       "      <td>10019</td>\n",
       "      <td>AL</td>\n",
       "      <td>During Index Hospital Admission</td>\n",
       "      <td>Carrier</td>\n",
       "      <td>$1062.00</td>\n",
       "      <td>$1480.00</td>\n",
       "      <td>$1540.00</td>\n",
       "      <td>6.01%</td>\n",
       "      <td>7.71%</td>\n",
       "      <td>7.52%</td>\n",
       "    </tr>\n",
       "    <tr>\n",
       "      <th>3</th>\n",
       "      <td>HELEN KELLER HOSPITAL</td>\n",
       "      <td>10019</td>\n",
       "      <td>AL</td>\n",
       "      <td>1 through 30 days After Discharge from Index H...</td>\n",
       "      <td>Home Health Agency</td>\n",
       "      <td>$917.00</td>\n",
       "      <td>$948.00</td>\n",
       "      <td>$816.00</td>\n",
       "      <td>5.19%</td>\n",
       "      <td>4.94%</td>\n",
       "      <td>3.98%</td>\n",
       "    </tr>\n",
       "    <tr>\n",
       "      <th>4</th>\n",
       "      <td>HELEN KELLER HOSPITAL</td>\n",
       "      <td>10019</td>\n",
       "      <td>AL</td>\n",
       "      <td>1 through 30 days After Discharge from Index H...</td>\n",
       "      <td>Hospice</td>\n",
       "      <td>$172.00</td>\n",
       "      <td>$154.00</td>\n",
       "      <td>$122.00</td>\n",
       "      <td>0.97%</td>\n",
       "      <td>0.8%</td>\n",
       "      <td>0.6%</td>\n",
       "    </tr>\n",
       "  </tbody>\n",
       "</table>\n",
       "</div>"
      ],
      "text/plain": [
       "           Hospital_Name  Provider_ID State  \\\n",
       "0  HELEN KELLER HOSPITAL        10019    AL   \n",
       "1  HELEN KELLER HOSPITAL        10019    AL   \n",
       "2  HELEN KELLER HOSPITAL        10019    AL   \n",
       "3  HELEN KELLER HOSPITAL        10019    AL   \n",
       "4  HELEN KELLER HOSPITAL        10019    AL   \n",
       "\n",
       "                                              Period  \\\n",
       "0                    During Index Hospital Admission   \n",
       "1                    During Index Hospital Admission   \n",
       "2                    During Index Hospital Admission   \n",
       "3  1 through 30 days After Discharge from Index H...   \n",
       "4  1 through 30 days After Discharge from Index H...   \n",
       "\n",
       "                  Claim_Type Avg_Spending_Per_Episode_Hospital  \\\n",
       "0   Skilled Nursing Facility                             $0.00   \n",
       "1  Durable Medical Equipment                            $18.00   \n",
       "2                    Carrier                          $1062.00   \n",
       "3         Home Health Agency                           $917.00   \n",
       "4                    Hospice                           $172.00   \n",
       "\n",
       "  Avg_Spending_Per_Episode_State Avg_Spending_Per_Episode_Nation  \\\n",
       "0                          $0.00                           $0.00   \n",
       "1                         $31.00                          $24.00   \n",
       "2                       $1480.00                        $1540.00   \n",
       "3                        $948.00                         $816.00   \n",
       "4                        $154.00                         $122.00   \n",
       "\n",
       "  Percent_of_Spending_Hospital Percent_of_Spending_State  \\\n",
       "0                           0%                        0%   \n",
       "1                         0.1%                     0.16%   \n",
       "2                        6.01%                     7.71%   \n",
       "3                        5.19%                     4.94%   \n",
       "4                        0.97%                      0.8%   \n",
       "\n",
       "  Percent_of_Spending_Nation  \n",
       "0                         0%  \n",
       "1                      0.12%  \n",
       "2                      7.52%  \n",
       "3                      3.98%  \n",
       "4                       0.6%  "
      ]
     },
     "execution_count": 110,
     "metadata": {},
     "output_type": "execute_result"
    }
   ],
   "source": [
    "spending = pd.read_csv('Medicare_Hospital_Spending_by_Claim.csv')\n",
    "spending.head()"
   ]
  },
  {
   "cell_type": "code",
   "execution_count": 111,
   "metadata": {
    "collapsed": false
   },
   "outputs": [],
   "source": [
    "spending = spending[(spending['Claim_Type'] == 'Inpatient') | (spending['Claim_Type'] == 'Outpatient') ]"
   ]
  },
  {
   "cell_type": "code",
   "execution_count": 112,
   "metadata": {
    "collapsed": true
   },
   "outputs": [],
   "source": [
    "spending = spending[(spending['Period'] == '1 through 30 days After Discharge from Index Hospital Admission') | \n",
    "                    (spending['Period'] == '1 to 3 days Prior to Index Hospital Admission') |\n",
    "                    (spending['Period'] == 'During Index Hospital Admission')]"
   ]
  },
  {
   "cell_type": "code",
   "execution_count": 113,
   "metadata": {
    "collapsed": false
   },
   "outputs": [],
   "source": [
    "spending['Avg_Spending_Per_Episode_Hospital'] = (spending.Avg_Spending_Per_Episode_Hospital.str.replace('$', ' ')).astype(float) \n",
    "#Removing $, convert to float"
   ]
  },
  {
   "cell_type": "code",
   "execution_count": 114,
   "metadata": {
    "collapsed": false
   },
   "outputs": [
    {
     "data": {
      "text/plain": [
       "0"
      ]
     },
     "execution_count": 114,
     "metadata": {},
     "output_type": "execute_result"
    }
   ],
   "source": [
    "spending.Avg_Spending_Per_Episode_Hospital.isnull().sum() #No missing values here"
   ]
  },
  {
   "cell_type": "code",
   "execution_count": 115,
   "metadata": {
    "collapsed": false
   },
   "outputs": [
    {
     "data": {
      "text/plain": [
       "4616"
      ]
     },
     "execution_count": 115,
     "metadata": {},
     "output_type": "execute_result"
    }
   ],
   "source": [
    "len(spending[spending['Avg_Spending_Per_Episode_Hospital'] == 0])"
   ]
  },
  {
   "cell_type": "code",
   "execution_count": 116,
   "metadata": {
    "collapsed": false
   },
   "outputs": [
    {
     "data": {
      "text/plain": [
       "array([  2518.,    473.,     12., ...,   1140.,  10706.,   9437.])"
      ]
     },
     "execution_count": 116,
     "metadata": {},
     "output_type": "execute_result"
    }
   ],
   "source": [
    "spending.Avg_Spending_Per_Episode_Hospital.unique()"
   ]
  },
  {
   "cell_type": "code",
   "execution_count": 117,
   "metadata": {
    "collapsed": false
   },
   "outputs": [],
   "source": [
    "spending_in = spending[spending['Claim_Type'] == 'Inpatient']\n",
    "spending_out = spending[spending['Claim_Type'] == 'Outpatient']"
   ]
  },
  {
   "cell_type": "code",
   "execution_count": 118,
   "metadata": {
    "collapsed": false
   },
   "outputs": [],
   "source": [
    "spending_in_pivot = pd.pivot_table(spending_in, index=['Hospital_Name', 'State'], columns='Period', values='Avg_Spending_Per_Episode_Hospital')"
   ]
  },
  {
   "cell_type": "code",
   "execution_count": 119,
   "metadata": {
    "collapsed": false
   },
   "outputs": [
    {
     "name": "stdout",
     "output_type": "stream",
     "text": [
      "['1 through 30 days After Discharge from Index Hospital Admission_inpatient', '1 to 3 days Prior to Index Hospital Admission_inpatient', 'During Index Hospital Admission_inpatient']\n"
     ]
    }
   ],
   "source": [
    "spending_in_pivot_col = list(spending_in_pivot.columns.values)\n",
    "spending_in_cols = []\n",
    "for i in spending_in_pivot.columns:\n",
    "    spending_in_cols.append(i + '_inpatient')\n",
    "print spending_in_cols"
   ]
  },
  {
   "cell_type": "code",
   "execution_count": 120,
   "metadata": {
    "collapsed": true
   },
   "outputs": [],
   "source": [
    "spending_in_pivot.columns = spending_in_cols"
   ]
  },
  {
   "cell_type": "code",
   "execution_count": 121,
   "metadata": {
    "collapsed": false
   },
   "outputs": [
    {
     "name": "stdout",
     "output_type": "stream",
     "text": [
      "<class 'pandas.core.frame.DataFrame'>\n",
      "MultiIndex: 3156 entries, (ABBEVILLE GENERAL HOSPITAL, LA) to (ZUNI COMPREHENSIVE COMMUNITY HEALTH CENTER, NM)\n",
      "Data columns (total 3 columns):\n",
      "1 through 30 days After Discharge from Index Hospital Admission_inpatient    3156 non-null float64\n",
      "1 to 3 days Prior to Index Hospital Admission_inpatient                      3156 non-null float64\n",
      "During Index Hospital Admission_inpatient                                    3156 non-null float64\n",
      "dtypes: float64(3)\n",
      "memory usage: 98.6+ KB\n"
     ]
    }
   ],
   "source": [
    "spending_in_pivot.info()"
   ]
  },
  {
   "cell_type": "code",
   "execution_count": 122,
   "metadata": {
    "collapsed": true
   },
   "outputs": [],
   "source": [
    "#There are no null values here but I want to check for 0s and for 'Not Availables'. In this case 0 isn't necessarily\n",
    "# a missing value. There shouldn't be zeros in the During Index Hospital Admission column"
   ]
  },
  {
   "cell_type": "code",
   "execution_count": 123,
   "metadata": {
    "collapsed": false
   },
   "outputs": [
    {
     "name": "stdout",
     "output_type": "stream",
     "text": [
      "4\n",
      "1438\n",
      "0\n"
     ]
    }
   ],
   "source": [
    "for x in ['1 through 30 days After Discharge from Index Hospital Admission_inpatient', \n",
    "          '1 to 3 days Prior to Index Hospital Admission_inpatient', 'During Index Hospital Admission_inpatient']:\n",
    "    print len(spending_in_pivot[spending_in_pivot[x] == 0])"
   ]
  },
  {
   "cell_type": "code",
   "execution_count": 124,
   "metadata": {
    "collapsed": true
   },
   "outputs": [],
   "source": [
    "spending_out_pivot = pd.pivot_table(spending_out, index=['Hospital_Name','State'], columns='Period', values='Avg_Spending_Per_Episode_Hospital')"
   ]
  },
  {
   "cell_type": "code",
   "execution_count": 125,
   "metadata": {
    "collapsed": false
   },
   "outputs": [
    {
     "name": "stdout",
     "output_type": "stream",
     "text": [
      "['1 through 30 days After Discharge from Index Hospital Admission_outpatient', '1 to 3 days Prior to Index Hospital Admission_outpatient', 'During Index Hospital Admission_outpatient']\n"
     ]
    }
   ],
   "source": [
    "spending_out_pivot_col = list(spending_out_pivot.columns.values)\n",
    "spending_out_cols = []\n",
    "for i in spending_out_pivot.columns:\n",
    "    spending_out_cols.append(i + '_outpatient')\n",
    "print spending_out_cols"
   ]
  },
  {
   "cell_type": "code",
   "execution_count": 126,
   "metadata": {
    "collapsed": false
   },
   "outputs": [],
   "source": [
    "spending_out_pivot.columns = spending_out_cols"
   ]
  },
  {
   "cell_type": "code",
   "execution_count": 127,
   "metadata": {
    "collapsed": false
   },
   "outputs": [
    {
     "name": "stdout",
     "output_type": "stream",
     "text": [
      "<class 'pandas.core.frame.DataFrame'>\n",
      "MultiIndex: 3156 entries, (ABBEVILLE GENERAL HOSPITAL, LA) to (ZUNI COMPREHENSIVE COMMUNITY HEALTH CENTER, NM)\n",
      "Data columns (total 3 columns):\n",
      "1 through 30 days After Discharge from Index Hospital Admission_outpatient    3156 non-null float64\n",
      "1 to 3 days Prior to Index Hospital Admission_outpatient                      3156 non-null float64\n",
      "During Index Hospital Admission_outpatient                                    3156 non-null float64\n",
      "dtypes: float64(3)\n",
      "memory usage: 98.6+ KB\n"
     ]
    }
   ],
   "source": [
    "spending_out_pivot.info()"
   ]
  },
  {
   "cell_type": "code",
   "execution_count": 128,
   "metadata": {
    "collapsed": false
   },
   "outputs": [
    {
     "data": {
      "text/html": [
       "<div>\n",
       "<table border=\"1\" class=\"dataframe\">\n",
       "  <thead>\n",
       "    <tr style=\"text-align: right;\">\n",
       "      <th></th>\n",
       "      <th></th>\n",
       "      <th>1 through 30 days After Discharge from Index Hospital Admission_outpatient</th>\n",
       "      <th>1 to 3 days Prior to Index Hospital Admission_outpatient</th>\n",
       "      <th>During Index Hospital Admission_outpatient</th>\n",
       "    </tr>\n",
       "    <tr>\n",
       "      <th>Hospital_Name</th>\n",
       "      <th>State</th>\n",
       "      <th></th>\n",
       "      <th></th>\n",
       "      <th></th>\n",
       "    </tr>\n",
       "  </thead>\n",
       "  <tbody>\n",
       "    <tr>\n",
       "      <th>ABBEVILLE GENERAL HOSPITAL</th>\n",
       "      <th>LA</th>\n",
       "      <td>776.0</td>\n",
       "      <td>41.0</td>\n",
       "      <td>0.0</td>\n",
       "    </tr>\n",
       "    <tr>\n",
       "      <th>ABBOTT NORTHWESTERN HOSPITAL</th>\n",
       "      <th>MN</th>\n",
       "      <td>903.0</td>\n",
       "      <td>543.0</td>\n",
       "      <td>0.0</td>\n",
       "    </tr>\n",
       "    <tr>\n",
       "      <th>ABILENE REGIONAL MEDICAL CENTER</th>\n",
       "      <th>TX</th>\n",
       "      <td>622.0</td>\n",
       "      <td>246.0</td>\n",
       "      <td>0.0</td>\n",
       "    </tr>\n",
       "    <tr>\n",
       "      <th>ABINGTON HEALTH LANSDALE HOSPITAL</th>\n",
       "      <th>PA</th>\n",
       "      <td>602.0</td>\n",
       "      <td>27.0</td>\n",
       "      <td>0.0</td>\n",
       "    </tr>\n",
       "    <tr>\n",
       "      <th>ABINGTON MEMORIAL HOSPITAL</th>\n",
       "      <th>PA</th>\n",
       "      <td>666.0</td>\n",
       "      <td>45.0</td>\n",
       "      <td>0.0</td>\n",
       "    </tr>\n",
       "  </tbody>\n",
       "</table>\n",
       "</div>"
      ],
      "text/plain": [
       "                                         1 through 30 days After Discharge from Index Hospital Admission_outpatient  \\\n",
       "Hospital_Name                     State                                                                               \n",
       "ABBEVILLE GENERAL HOSPITAL        LA                                                 776.0                            \n",
       "ABBOTT NORTHWESTERN HOSPITAL      MN                                                 903.0                            \n",
       "ABILENE REGIONAL MEDICAL CENTER   TX                                                 622.0                            \n",
       "ABINGTON HEALTH LANSDALE HOSPITAL PA                                                 602.0                            \n",
       "ABINGTON MEMORIAL HOSPITAL        PA                                                 666.0                            \n",
       "\n",
       "                                         1 to 3 days Prior to Index Hospital Admission_outpatient  \\\n",
       "Hospital_Name                     State                                                             \n",
       "ABBEVILLE GENERAL HOSPITAL        LA                                                  41.0          \n",
       "ABBOTT NORTHWESTERN HOSPITAL      MN                                                 543.0          \n",
       "ABILENE REGIONAL MEDICAL CENTER   TX                                                 246.0          \n",
       "ABINGTON HEALTH LANSDALE HOSPITAL PA                                                  27.0          \n",
       "ABINGTON MEMORIAL HOSPITAL        PA                                                  45.0          \n",
       "\n",
       "                                         During Index Hospital Admission_outpatient  \n",
       "Hospital_Name                     State                                              \n",
       "ABBEVILLE GENERAL HOSPITAL        LA                                            0.0  \n",
       "ABBOTT NORTHWESTERN HOSPITAL      MN                                            0.0  \n",
       "ABILENE REGIONAL MEDICAL CENTER   TX                                            0.0  \n",
       "ABINGTON HEALTH LANSDALE HOSPITAL PA                                            0.0  \n",
       "ABINGTON MEMORIAL HOSPITAL        PA                                            0.0  "
      ]
     },
     "execution_count": 128,
     "metadata": {},
     "output_type": "execute_result"
    }
   ],
   "source": [
    "spending_out_pivot.head()"
   ]
  },
  {
   "cell_type": "code",
   "execution_count": 129,
   "metadata": {
    "collapsed": false
   },
   "outputs": [],
   "source": [
    "spending_out_pivot.drop('During Index Hospital Admission_outpatient', axis=1, inplace=True)\n",
    "#Dropping this column - its all zeros because there is not inpatient spending for outpatient care!!"
   ]
  },
  {
   "cell_type": "code",
   "execution_count": 130,
   "metadata": {
    "collapsed": false
   },
   "outputs": [
    {
     "data": {
      "text/html": [
       "<div>\n",
       "<table border=\"1\" class=\"dataframe\">\n",
       "  <thead>\n",
       "    <tr style=\"text-align: right;\">\n",
       "      <th></th>\n",
       "      <th></th>\n",
       "      <th>1 through 30 days After Discharge from Index Hospital Admission_outpatient</th>\n",
       "      <th>1 to 3 days Prior to Index Hospital Admission_outpatient</th>\n",
       "    </tr>\n",
       "    <tr>\n",
       "      <th>Hospital_Name</th>\n",
       "      <th>State</th>\n",
       "      <th></th>\n",
       "      <th></th>\n",
       "    </tr>\n",
       "  </thead>\n",
       "  <tbody>\n",
       "    <tr>\n",
       "      <th>ABBEVILLE GENERAL HOSPITAL</th>\n",
       "      <th>LA</th>\n",
       "      <td>776.0</td>\n",
       "      <td>41.0</td>\n",
       "    </tr>\n",
       "    <tr>\n",
       "      <th>ABBOTT NORTHWESTERN HOSPITAL</th>\n",
       "      <th>MN</th>\n",
       "      <td>903.0</td>\n",
       "      <td>543.0</td>\n",
       "    </tr>\n",
       "    <tr>\n",
       "      <th>ABILENE REGIONAL MEDICAL CENTER</th>\n",
       "      <th>TX</th>\n",
       "      <td>622.0</td>\n",
       "      <td>246.0</td>\n",
       "    </tr>\n",
       "    <tr>\n",
       "      <th>ABINGTON HEALTH LANSDALE HOSPITAL</th>\n",
       "      <th>PA</th>\n",
       "      <td>602.0</td>\n",
       "      <td>27.0</td>\n",
       "    </tr>\n",
       "    <tr>\n",
       "      <th>ABINGTON MEMORIAL HOSPITAL</th>\n",
       "      <th>PA</th>\n",
       "      <td>666.0</td>\n",
       "      <td>45.0</td>\n",
       "    </tr>\n",
       "  </tbody>\n",
       "</table>\n",
       "</div>"
      ],
      "text/plain": [
       "                                         1 through 30 days After Discharge from Index Hospital Admission_outpatient  \\\n",
       "Hospital_Name                     State                                                                               \n",
       "ABBEVILLE GENERAL HOSPITAL        LA                                                 776.0                            \n",
       "ABBOTT NORTHWESTERN HOSPITAL      MN                                                 903.0                            \n",
       "ABILENE REGIONAL MEDICAL CENTER   TX                                                 622.0                            \n",
       "ABINGTON HEALTH LANSDALE HOSPITAL PA                                                 602.0                            \n",
       "ABINGTON MEMORIAL HOSPITAL        PA                                                 666.0                            \n",
       "\n",
       "                                         1 to 3 days Prior to Index Hospital Admission_outpatient  \n",
       "Hospital_Name                     State                                                            \n",
       "ABBEVILLE GENERAL HOSPITAL        LA                                                  41.0         \n",
       "ABBOTT NORTHWESTERN HOSPITAL      MN                                                 543.0         \n",
       "ABILENE REGIONAL MEDICAL CENTER   TX                                                 246.0         \n",
       "ABINGTON HEALTH LANSDALE HOSPITAL PA                                                  27.0         \n",
       "ABINGTON MEMORIAL HOSPITAL        PA                                                  45.0         "
      ]
     },
     "execution_count": 130,
     "metadata": {},
     "output_type": "execute_result"
    }
   ],
   "source": [
    "spending_out_pivot.head()"
   ]
  },
  {
   "cell_type": "code",
   "execution_count": 131,
   "metadata": {
    "collapsed": false
   },
   "outputs": [
    {
     "name": "stdout",
     "output_type": "stream",
     "text": [
      "0\n",
      "4\n"
     ]
    }
   ],
   "source": [
    "for x in ['1 through 30 days After Discharge from Index Hospital Admission_outpatient', \n",
    "          '1 to 3 days Prior to Index Hospital Admission_outpatient']:\n",
    "    print len(spending_out_pivot[spending_out_pivot[x] == 0])"
   ]
  },
  {
   "cell_type": "markdown",
   "metadata": {},
   "source": [
    "#### Spending by Claim (HF, AMI, PN)"
   ]
  },
  {
   "cell_type": "code",
   "execution_count": 132,
   "metadata": {
    "collapsed": false
   },
   "outputs": [
    {
     "data": {
      "text/html": [
       "<div>\n",
       "<table border=\"1\" class=\"dataframe\">\n",
       "  <thead>\n",
       "    <tr style=\"text-align: right;\">\n",
       "      <th></th>\n",
       "      <th>Provider ID</th>\n",
       "      <th>Hospital name</th>\n",
       "      <th>Address</th>\n",
       "      <th>City</th>\n",
       "      <th>State</th>\n",
       "      <th>ZIP Code</th>\n",
       "      <th>County name</th>\n",
       "      <th>Phone number</th>\n",
       "      <th>Payment measure name</th>\n",
       "      <th>Payment measure ID</th>\n",
       "      <th>...</th>\n",
       "      <th>Lower estimate</th>\n",
       "      <th>Higher estimate</th>\n",
       "      <th>Payment footnote</th>\n",
       "      <th>Value of care display name</th>\n",
       "      <th>Value of care display ID</th>\n",
       "      <th>Value of care category</th>\n",
       "      <th>Value of care footnote</th>\n",
       "      <th>Measure start date</th>\n",
       "      <th>Measure End Date</th>\n",
       "      <th>Location</th>\n",
       "    </tr>\n",
       "  </thead>\n",
       "  <tbody>\n",
       "    <tr>\n",
       "      <th>0</th>\n",
       "      <td>10005</td>\n",
       "      <td>MARSHALL MEDICAL CENTER SOUTH</td>\n",
       "      <td>2505 U S HIGHWAY 431 NORTH</td>\n",
       "      <td>BOAZ</td>\n",
       "      <td>AL</td>\n",
       "      <td>35957</td>\n",
       "      <td>MARSHALL</td>\n",
       "      <td>2565938310</td>\n",
       "      <td>Payment for heart attack patients</td>\n",
       "      <td>PAYM_30_AMI</td>\n",
       "      <td>...</td>\n",
       "      <td>$20,404</td>\n",
       "      <td>$26,226</td>\n",
       "      <td>NaN</td>\n",
       "      <td>Value of Care Heart Attack measure</td>\n",
       "      <td>MORT_PAYM_30_AMI</td>\n",
       "      <td>Average mortality and average payment</td>\n",
       "      <td>NaN</td>\n",
       "      <td>07/01/2012</td>\n",
       "      <td>06/30/2015</td>\n",
       "      <td>2505 U S HIGHWAY 431 NORTH\\nBOAZ, AL 35957\\n</td>\n",
       "    </tr>\n",
       "    <tr>\n",
       "      <th>1</th>\n",
       "      <td>10005</td>\n",
       "      <td>MARSHALL MEDICAL CENTER SOUTH</td>\n",
       "      <td>2505 U S HIGHWAY 431 NORTH</td>\n",
       "      <td>BOAZ</td>\n",
       "      <td>AL</td>\n",
       "      <td>35957</td>\n",
       "      <td>MARSHALL</td>\n",
       "      <td>2565938310</td>\n",
       "      <td>Payment for heart failure patients</td>\n",
       "      <td>PAYM_30_HF</td>\n",
       "      <td>...</td>\n",
       "      <td>$15,237</td>\n",
       "      <td>$17,547</td>\n",
       "      <td>NaN</td>\n",
       "      <td>Value of Care Heart Failure measure</td>\n",
       "      <td>MORT_PAYM_30_HF</td>\n",
       "      <td>Worse mortality and average payment</td>\n",
       "      <td>NaN</td>\n",
       "      <td>07/01/2012</td>\n",
       "      <td>06/30/2015</td>\n",
       "      <td>2505 U S HIGHWAY 431 NORTH\\nBOAZ, AL 35957\\n</td>\n",
       "    </tr>\n",
       "    <tr>\n",
       "      <th>2</th>\n",
       "      <td>10005</td>\n",
       "      <td>MARSHALL MEDICAL CENTER SOUTH</td>\n",
       "      <td>2505 U S HIGHWAY 431 NORTH</td>\n",
       "      <td>BOAZ</td>\n",
       "      <td>AL</td>\n",
       "      <td>35957</td>\n",
       "      <td>MARSHALL</td>\n",
       "      <td>2565938310</td>\n",
       "      <td>Payment for pneumonia patients</td>\n",
       "      <td>PAYM_30_PN</td>\n",
       "      <td>...</td>\n",
       "      <td>$13,642</td>\n",
       "      <td>$15,118</td>\n",
       "      <td>NaN</td>\n",
       "      <td>Value of Care Pneumonia measure</td>\n",
       "      <td>MORT_PAYM_30_PN</td>\n",
       "      <td>Worse mortality and average payment</td>\n",
       "      <td>NaN</td>\n",
       "      <td>07/01/2012</td>\n",
       "      <td>06/30/2015</td>\n",
       "      <td>2505 U S HIGHWAY 431 NORTH\\nBOAZ, AL 35957\\n</td>\n",
       "    </tr>\n",
       "    <tr>\n",
       "      <th>3</th>\n",
       "      <td>10012</td>\n",
       "      <td>DEKALB REGIONAL MEDICAL CENTER</td>\n",
       "      <td>200 MED CENTER DRIVE</td>\n",
       "      <td>FORT PAYNE</td>\n",
       "      <td>AL</td>\n",
       "      <td>35968</td>\n",
       "      <td>DE KALB</td>\n",
       "      <td>2568453150</td>\n",
       "      <td>Payment for heart attack patients</td>\n",
       "      <td>PAYM_30_AMI</td>\n",
       "      <td>...</td>\n",
       "      <td>$20,910</td>\n",
       "      <td>$25,353</td>\n",
       "      <td>NaN</td>\n",
       "      <td>Value of Care Heart Attack measure</td>\n",
       "      <td>MORT_PAYM_30_AMI</td>\n",
       "      <td>Average mortality and average payment</td>\n",
       "      <td>NaN</td>\n",
       "      <td>07/01/2012</td>\n",
       "      <td>06/30/2015</td>\n",
       "      <td>200 MED CENTER DRIVE\\nFORT PAYNE, AL 35968\\n</td>\n",
       "    </tr>\n",
       "    <tr>\n",
       "      <th>4</th>\n",
       "      <td>10012</td>\n",
       "      <td>DEKALB REGIONAL MEDICAL CENTER</td>\n",
       "      <td>200 MED CENTER DRIVE</td>\n",
       "      <td>FORT PAYNE</td>\n",
       "      <td>AL</td>\n",
       "      <td>35968</td>\n",
       "      <td>DE KALB</td>\n",
       "      <td>2568453150</td>\n",
       "      <td>Payment for heart failure patients</td>\n",
       "      <td>PAYM_30_HF</td>\n",
       "      <td>...</td>\n",
       "      <td>$15,113</td>\n",
       "      <td>$18,491</td>\n",
       "      <td>NaN</td>\n",
       "      <td>Value of Care Heart Failure measure</td>\n",
       "      <td>MORT_PAYM_30_HF</td>\n",
       "      <td>Average mortality and average payment</td>\n",
       "      <td>NaN</td>\n",
       "      <td>07/01/2012</td>\n",
       "      <td>06/30/2015</td>\n",
       "      <td>200 MED CENTER DRIVE\\nFORT PAYNE, AL 35968\\n</td>\n",
       "    </tr>\n",
       "  </tbody>\n",
       "</table>\n",
       "<p>5 rows × 23 columns</p>\n",
       "</div>"
      ],
      "text/plain": [
       "   Provider ID                   Hospital name                     Address  \\\n",
       "0        10005   MARSHALL MEDICAL CENTER SOUTH  2505 U S HIGHWAY 431 NORTH   \n",
       "1        10005   MARSHALL MEDICAL CENTER SOUTH  2505 U S HIGHWAY 431 NORTH   \n",
       "2        10005   MARSHALL MEDICAL CENTER SOUTH  2505 U S HIGHWAY 431 NORTH   \n",
       "3        10012  DEKALB REGIONAL MEDICAL CENTER        200 MED CENTER DRIVE   \n",
       "4        10012  DEKALB REGIONAL MEDICAL CENTER        200 MED CENTER DRIVE   \n",
       "\n",
       "         City State  ZIP Code County name  Phone number  \\\n",
       "0        BOAZ    AL     35957    MARSHALL    2565938310   \n",
       "1        BOAZ    AL     35957    MARSHALL    2565938310   \n",
       "2        BOAZ    AL     35957    MARSHALL    2565938310   \n",
       "3  FORT PAYNE    AL     35968     DE KALB    2568453150   \n",
       "4  FORT PAYNE    AL     35968     DE KALB    2568453150   \n",
       "\n",
       "                 Payment measure name Payment measure ID  \\\n",
       "0   Payment for heart attack patients        PAYM_30_AMI   \n",
       "1  Payment for heart failure patients         PAYM_30_HF   \n",
       "2      Payment for pneumonia patients         PAYM_30_PN   \n",
       "3   Payment for heart attack patients        PAYM_30_AMI   \n",
       "4  Payment for heart failure patients         PAYM_30_HF   \n",
       "\n",
       "                       ...                      Lower estimate  \\\n",
       "0                      ...                             $20,404   \n",
       "1                      ...                             $15,237   \n",
       "2                      ...                             $13,642   \n",
       "3                      ...                             $20,910   \n",
       "4                      ...                             $15,113   \n",
       "\n",
       "  Higher estimate Payment footnote           Value of care display name  \\\n",
       "0         $26,226              NaN   Value of Care Heart Attack measure   \n",
       "1         $17,547              NaN  Value of Care Heart Failure measure   \n",
       "2         $15,118              NaN      Value of Care Pneumonia measure   \n",
       "3         $25,353              NaN   Value of Care Heart Attack measure   \n",
       "4         $18,491              NaN  Value of Care Heart Failure measure   \n",
       "\n",
       "  Value of care display ID                 Value of care category  \\\n",
       "0         MORT_PAYM_30_AMI  Average mortality and average payment   \n",
       "1          MORT_PAYM_30_HF    Worse mortality and average payment   \n",
       "2          MORT_PAYM_30_PN    Worse mortality and average payment   \n",
       "3         MORT_PAYM_30_AMI  Average mortality and average payment   \n",
       "4          MORT_PAYM_30_HF  Average mortality and average payment   \n",
       "\n",
       "  Value of care footnote Measure start date Measure End Date  \\\n",
       "0                    NaN         07/01/2012       06/30/2015   \n",
       "1                    NaN         07/01/2012       06/30/2015   \n",
       "2                    NaN         07/01/2012       06/30/2015   \n",
       "3                    NaN         07/01/2012       06/30/2015   \n",
       "4                    NaN         07/01/2012       06/30/2015   \n",
       "\n",
       "                                       Location  \n",
       "0  2505 U S HIGHWAY 431 NORTH\\nBOAZ, AL 35957\\n  \n",
       "1  2505 U S HIGHWAY 431 NORTH\\nBOAZ, AL 35957\\n  \n",
       "2  2505 U S HIGHWAY 431 NORTH\\nBOAZ, AL 35957\\n  \n",
       "3  200 MED CENTER DRIVE\\nFORT PAYNE, AL 35968\\n  \n",
       "4  200 MED CENTER DRIVE\\nFORT PAYNE, AL 35968\\n  \n",
       "\n",
       "[5 rows x 23 columns]"
      ]
     },
     "execution_count": 132,
     "metadata": {},
     "output_type": "execute_result"
    }
   ],
   "source": [
    "pay = pd.read_csv('Payment_and_value_of_care_-_Hospital.csv')\n",
    "pay.head()"
   ]
  },
  {
   "cell_type": "code",
   "execution_count": 133,
   "metadata": {
    "collapsed": false
   },
   "outputs": [
    {
     "data": {
      "text/html": [
       "<div>\n",
       "<table border=\"1\" class=\"dataframe\">\n",
       "  <thead>\n",
       "    <tr style=\"text-align: right;\">\n",
       "      <th></th>\n",
       "      <th>Hospital name</th>\n",
       "      <th>State</th>\n",
       "      <th>Payment measure ID</th>\n",
       "      <th>Payment</th>\n",
       "      <th>Lower estimate</th>\n",
       "      <th>Higher estimate</th>\n",
       "    </tr>\n",
       "  </thead>\n",
       "  <tbody>\n",
       "    <tr>\n",
       "      <th>0</th>\n",
       "      <td>MARSHALL MEDICAL CENTER SOUTH</td>\n",
       "      <td>AL</td>\n",
       "      <td>PAYM_30_AMI</td>\n",
       "      <td>$23,171</td>\n",
       "      <td>$20,404</td>\n",
       "      <td>$26,226</td>\n",
       "    </tr>\n",
       "    <tr>\n",
       "      <th>1</th>\n",
       "      <td>MARSHALL MEDICAL CENTER SOUTH</td>\n",
       "      <td>AL</td>\n",
       "      <td>PAYM_30_HF</td>\n",
       "      <td>$16,376</td>\n",
       "      <td>$15,237</td>\n",
       "      <td>$17,547</td>\n",
       "    </tr>\n",
       "    <tr>\n",
       "      <th>2</th>\n",
       "      <td>MARSHALL MEDICAL CENTER SOUTH</td>\n",
       "      <td>AL</td>\n",
       "      <td>PAYM_30_PN</td>\n",
       "      <td>$14,384</td>\n",
       "      <td>$13,642</td>\n",
       "      <td>$15,118</td>\n",
       "    </tr>\n",
       "    <tr>\n",
       "      <th>3</th>\n",
       "      <td>DEKALB REGIONAL MEDICAL CENTER</td>\n",
       "      <td>AL</td>\n",
       "      <td>PAYM_30_AMI</td>\n",
       "      <td>$22,997</td>\n",
       "      <td>$20,910</td>\n",
       "      <td>$25,353</td>\n",
       "    </tr>\n",
       "    <tr>\n",
       "      <th>4</th>\n",
       "      <td>DEKALB REGIONAL MEDICAL CENTER</td>\n",
       "      <td>AL</td>\n",
       "      <td>PAYM_30_HF</td>\n",
       "      <td>$16,722</td>\n",
       "      <td>$15,113</td>\n",
       "      <td>$18,491</td>\n",
       "    </tr>\n",
       "  </tbody>\n",
       "</table>\n",
       "</div>"
      ],
      "text/plain": [
       "                    Hospital name State Payment measure ID  Payment  \\\n",
       "0   MARSHALL MEDICAL CENTER SOUTH    AL        PAYM_30_AMI  $23,171   \n",
       "1   MARSHALL MEDICAL CENTER SOUTH    AL         PAYM_30_HF  $16,376   \n",
       "2   MARSHALL MEDICAL CENTER SOUTH    AL         PAYM_30_PN  $14,384   \n",
       "3  DEKALB REGIONAL MEDICAL CENTER    AL        PAYM_30_AMI  $22,997   \n",
       "4  DEKALB REGIONAL MEDICAL CENTER    AL         PAYM_30_HF  $16,722   \n",
       "\n",
       "  Lower estimate Higher estimate  \n",
       "0        $20,404         $26,226  \n",
       "1        $15,237         $17,547  \n",
       "2        $13,642         $15,118  \n",
       "3        $20,910         $25,353  \n",
       "4        $15,113         $18,491  "
      ]
     },
     "execution_count": 133,
     "metadata": {},
     "output_type": "execute_result"
    }
   ],
   "source": [
    "pay_feat_list = ['Hospital name', 'State', 'Payment measure ID', 'Payment', 'Lower estimate', 'Higher estimate']\n",
    "pay = pay[pay_feat_list]\n",
    "pay.head ()"
   ]
  },
  {
   "cell_type": "code",
   "execution_count": 134,
   "metadata": {
    "collapsed": false
   },
   "outputs": [
    {
     "name": "stdout",
     "output_type": "stream",
     "text": [
      "There are 0 null values, 4547 'Not Availables' and 0 appears 0 times for Payment.\n",
      "There are 0 null values, 4547 'Not Availables' and 0 appears 0 times for Lower estimate.\n",
      "There are 0 null values, 4547 'Not Availables' and 0 appears 0 times for Higher estimate.\n"
     ]
    }
   ],
   "source": [
    "for f in pay_feat_list[3:6]:\n",
    "    null = pay[f].isnull().sum()\n",
    "    temp_zero = len(pay[pay[f] == 0]) \n",
    "    temp_na = len(pay[pay[f] == 'Not Available']) \n",
    "    print \"There are %s null values, %s 'Not Availables' and 0 appears %s times for %s.\" % (null, temp_na, temp_zero, f)\n",
    "    #Nans exists here too but there are no 0s"
   ]
  },
  {
   "cell_type": "code",
   "execution_count": 135,
   "metadata": {
    "collapsed": false
   },
   "outputs": [
    {
     "name": "stdout",
     "output_type": "stream",
     "text": [
      "There are 0 null values, 4547 'Not Availables' and 0 appears 0 times for Payment.\n",
      "There are 0 null values, 4547 'Not Availables' and 0 appears 0 times for Lower estimate.\n",
      "There are 0 null values, 4547 'Not Availables' and 0 appears 0 times for Higher estimate.\n"
     ]
    }
   ],
   "source": [
    "#Since there are no 0s, I will fill in Not Availables with 0\n",
    "for f in pay_feat_list[3:6]:\n",
    "    null = pay[f].isnull().sum()\n",
    "    temp_zero = len(pay[pay[f] == 0]) \n",
    "    temp_na = len(pay[pay[f] == 'Not Available']) \n",
    "    print \"There are %s null values, %s 'Not Availables' and 0 appears %s times for %s.\" % (null, temp_na, temp_zero, f)"
   ]
  },
  {
   "cell_type": "code",
   "execution_count": 136,
   "metadata": {
    "collapsed": false
   },
   "outputs": [],
   "source": [
    "for col in pay.columns[3:6]:\n",
    "    pay[col] = pay[col].replace({'Not Available':'0'})"
   ]
  },
  {
   "cell_type": "code",
   "execution_count": 137,
   "metadata": {
    "collapsed": false
   },
   "outputs": [],
   "source": [
    "for col in pay.columns[3:6]:\n",
    "    pay[col] = (pay[col].str.replace('$', ''))\n",
    "    pay[col] = (pay[col].str.replace(',', ''))\n",
    "    pay[col] = pay[col].astype(float)"
   ]
  },
  {
   "cell_type": "code",
   "execution_count": 138,
   "metadata": {
    "collapsed": false
   },
   "outputs": [
    {
     "data": {
      "text/html": [
       "<div>\n",
       "<table border=\"1\" class=\"dataframe\">\n",
       "  <thead>\n",
       "    <tr style=\"text-align: right;\">\n",
       "      <th></th>\n",
       "      <th>Hospital name</th>\n",
       "      <th>State</th>\n",
       "      <th>Payment measure ID</th>\n",
       "      <th>Payment</th>\n",
       "      <th>Lower estimate</th>\n",
       "      <th>Higher estimate</th>\n",
       "    </tr>\n",
       "  </thead>\n",
       "  <tbody>\n",
       "    <tr>\n",
       "      <th>0</th>\n",
       "      <td>MARSHALL MEDICAL CENTER SOUTH</td>\n",
       "      <td>AL</td>\n",
       "      <td>PAYM_30_AMI</td>\n",
       "      <td>23171.0</td>\n",
       "      <td>20404.0</td>\n",
       "      <td>26226.0</td>\n",
       "    </tr>\n",
       "    <tr>\n",
       "      <th>1</th>\n",
       "      <td>MARSHALL MEDICAL CENTER SOUTH</td>\n",
       "      <td>AL</td>\n",
       "      <td>PAYM_30_HF</td>\n",
       "      <td>16376.0</td>\n",
       "      <td>15237.0</td>\n",
       "      <td>17547.0</td>\n",
       "    </tr>\n",
       "    <tr>\n",
       "      <th>2</th>\n",
       "      <td>MARSHALL MEDICAL CENTER SOUTH</td>\n",
       "      <td>AL</td>\n",
       "      <td>PAYM_30_PN</td>\n",
       "      <td>14384.0</td>\n",
       "      <td>13642.0</td>\n",
       "      <td>15118.0</td>\n",
       "    </tr>\n",
       "    <tr>\n",
       "      <th>3</th>\n",
       "      <td>DEKALB REGIONAL MEDICAL CENTER</td>\n",
       "      <td>AL</td>\n",
       "      <td>PAYM_30_AMI</td>\n",
       "      <td>22997.0</td>\n",
       "      <td>20910.0</td>\n",
       "      <td>25353.0</td>\n",
       "    </tr>\n",
       "    <tr>\n",
       "      <th>4</th>\n",
       "      <td>DEKALB REGIONAL MEDICAL CENTER</td>\n",
       "      <td>AL</td>\n",
       "      <td>PAYM_30_HF</td>\n",
       "      <td>16722.0</td>\n",
       "      <td>15113.0</td>\n",
       "      <td>18491.0</td>\n",
       "    </tr>\n",
       "  </tbody>\n",
       "</table>\n",
       "</div>"
      ],
      "text/plain": [
       "                    Hospital name State Payment measure ID  Payment  \\\n",
       "0   MARSHALL MEDICAL CENTER SOUTH    AL        PAYM_30_AMI  23171.0   \n",
       "1   MARSHALL MEDICAL CENTER SOUTH    AL         PAYM_30_HF  16376.0   \n",
       "2   MARSHALL MEDICAL CENTER SOUTH    AL         PAYM_30_PN  14384.0   \n",
       "3  DEKALB REGIONAL MEDICAL CENTER    AL        PAYM_30_AMI  22997.0   \n",
       "4  DEKALB REGIONAL MEDICAL CENTER    AL         PAYM_30_HF  16722.0   \n",
       "\n",
       "   Lower estimate  Higher estimate  \n",
       "0         20404.0          26226.0  \n",
       "1         15237.0          17547.0  \n",
       "2         13642.0          15118.0  \n",
       "3         20910.0          25353.0  \n",
       "4         15113.0          18491.0  "
      ]
     },
     "execution_count": 138,
     "metadata": {},
     "output_type": "execute_result"
    }
   ],
   "source": [
    "pay.head()"
   ]
  },
  {
   "cell_type": "code",
   "execution_count": 139,
   "metadata": {
    "collapsed": false
   },
   "outputs": [
    {
     "data": {
      "text/html": [
       "<div>\n",
       "<table border=\"1\" class=\"dataframe\">\n",
       "  <thead>\n",
       "    <tr style=\"text-align: right;\">\n",
       "      <th></th>\n",
       "      <th>Payment measure ID</th>\n",
       "      <th>PAYM_30_AMI</th>\n",
       "      <th>PAYM_30_HF</th>\n",
       "      <th>PAYM_30_PN</th>\n",
       "    </tr>\n",
       "    <tr>\n",
       "      <th>Hospital name</th>\n",
       "      <th>State</th>\n",
       "      <th></th>\n",
       "      <th></th>\n",
       "      <th></th>\n",
       "    </tr>\n",
       "  </thead>\n",
       "  <tbody>\n",
       "    <tr>\n",
       "      <th>ABBEVILLE AREA MEDICAL CENTER</th>\n",
       "      <th>SC</th>\n",
       "      <td>0.0</td>\n",
       "      <td>14185.0</td>\n",
       "      <td>11981.0</td>\n",
       "    </tr>\n",
       "    <tr>\n",
       "      <th>ABBEVILLE GENERAL HOSPITAL</th>\n",
       "      <th>LA</th>\n",
       "      <td>0.0</td>\n",
       "      <td>17578.0</td>\n",
       "      <td>14218.0</td>\n",
       "    </tr>\n",
       "    <tr>\n",
       "      <th>ABBOTT NORTHWESTERN HOSPITAL</th>\n",
       "      <th>MN</th>\n",
       "      <td>21099.0</td>\n",
       "      <td>17110.0</td>\n",
       "      <td>14609.0</td>\n",
       "    </tr>\n",
       "    <tr>\n",
       "      <th>ABILENE REGIONAL MEDICAL CENTER</th>\n",
       "      <th>TX</th>\n",
       "      <td>21553.0</td>\n",
       "      <td>17531.0</td>\n",
       "      <td>15194.0</td>\n",
       "    </tr>\n",
       "    <tr>\n",
       "      <th>ABINGTON MEMORIAL HOSPITAL</th>\n",
       "      <th>PA</th>\n",
       "      <td>23950.0</td>\n",
       "      <td>17047.0</td>\n",
       "      <td>14605.0</td>\n",
       "    </tr>\n",
       "  </tbody>\n",
       "</table>\n",
       "</div>"
      ],
      "text/plain": [
       "Payment measure ID                     PAYM_30_AMI  PAYM_30_HF  PAYM_30_PN\n",
       "Hospital name                   State                                     \n",
       "ABBEVILLE AREA MEDICAL CENTER   SC             0.0     14185.0     11981.0\n",
       "ABBEVILLE GENERAL HOSPITAL      LA             0.0     17578.0     14218.0\n",
       "ABBOTT NORTHWESTERN HOSPITAL    MN         21099.0     17110.0     14609.0\n",
       "ABILENE REGIONAL MEDICAL CENTER TX         21553.0     17531.0     15194.0\n",
       "ABINGTON MEMORIAL HOSPITAL      PA         23950.0     17047.0     14605.0"
      ]
     },
     "execution_count": 139,
     "metadata": {},
     "output_type": "execute_result"
    }
   ],
   "source": [
    "#Create 2 pivot tables\n",
    "pay_pay = pd.pivot_table(pay, index=['Hospital name','State'], columns = 'Payment measure ID', values='Payment')\n",
    "pay_pay.head()"
   ]
  },
  {
   "cell_type": "code",
   "execution_count": 140,
   "metadata": {
    "collapsed": false
   },
   "outputs": [
    {
     "data": {
      "text/html": [
       "<div>\n",
       "<table border=\"1\" class=\"dataframe\">\n",
       "  <thead>\n",
       "    <tr style=\"text-align: right;\">\n",
       "      <th></th>\n",
       "      <th>Payment measure ID</th>\n",
       "      <th>PAYM_30_AMI</th>\n",
       "      <th>PAYM_30_HF</th>\n",
       "      <th>PAYM_30_PN</th>\n",
       "    </tr>\n",
       "    <tr>\n",
       "      <th>Hospital name</th>\n",
       "      <th>State</th>\n",
       "      <th></th>\n",
       "      <th></th>\n",
       "      <th></th>\n",
       "    </tr>\n",
       "  </thead>\n",
       "  <tbody>\n",
       "    <tr>\n",
       "      <th>ABBEVILLE AREA MEDICAL CENTER</th>\n",
       "      <th>SC</th>\n",
       "      <td>0.0</td>\n",
       "      <td>12159.0</td>\n",
       "      <td>10546.0</td>\n",
       "    </tr>\n",
       "    <tr>\n",
       "      <th>ABBEVILLE GENERAL HOSPITAL</th>\n",
       "      <th>LA</th>\n",
       "      <td>0.0</td>\n",
       "      <td>15713.0</td>\n",
       "      <td>12664.0</td>\n",
       "    </tr>\n",
       "    <tr>\n",
       "      <th>ABBOTT NORTHWESTERN HOSPITAL</th>\n",
       "      <th>MN</th>\n",
       "      <td>19867.0</td>\n",
       "      <td>16130.0</td>\n",
       "      <td>13399.0</td>\n",
       "    </tr>\n",
       "    <tr>\n",
       "      <th>ABILENE REGIONAL MEDICAL CENTER</th>\n",
       "      <th>TX</th>\n",
       "      <td>19736.0</td>\n",
       "      <td>16058.0</td>\n",
       "      <td>13938.0</td>\n",
       "    </tr>\n",
       "    <tr>\n",
       "      <th>ABINGTON MEMORIAL HOSPITAL</th>\n",
       "      <th>PA</th>\n",
       "      <td>22336.0</td>\n",
       "      <td>16325.0</td>\n",
       "      <td>13905.0</td>\n",
       "    </tr>\n",
       "  </tbody>\n",
       "</table>\n",
       "</div>"
      ],
      "text/plain": [
       "Payment measure ID                     PAYM_30_AMI  PAYM_30_HF  PAYM_30_PN\n",
       "Hospital name                   State                                     \n",
       "ABBEVILLE AREA MEDICAL CENTER   SC             0.0     12159.0     10546.0\n",
       "ABBEVILLE GENERAL HOSPITAL      LA             0.0     15713.0     12664.0\n",
       "ABBOTT NORTHWESTERN HOSPITAL    MN         19867.0     16130.0     13399.0\n",
       "ABILENE REGIONAL MEDICAL CENTER TX         19736.0     16058.0     13938.0\n",
       "ABINGTON MEMORIAL HOSPITAL      PA         22336.0     16325.0     13905.0"
      ]
     },
     "execution_count": 140,
     "metadata": {},
     "output_type": "execute_result"
    }
   ],
   "source": [
    "#Creating low estimate table\n",
    "pay_low = pd.pivot_table(pay, index=['Hospital name','State'], columns = 'Payment measure ID', values = 'Lower estimate')\n",
    "pay_low.head()"
   ]
  },
  {
   "cell_type": "code",
   "execution_count": 141,
   "metadata": {
    "collapsed": true
   },
   "outputs": [],
   "source": [
    "pay_low_cols = list(pay_low.columns.values)"
   ]
  },
  {
   "cell_type": "code",
   "execution_count": 142,
   "metadata": {
    "collapsed": false
   },
   "outputs": [
    {
     "name": "stdout",
     "output_type": "stream",
     "text": [
      "['PAYM_30_AMI_low', 'PAYM_30_HF_low', 'PAYM_30_PN_low']\n"
     ]
    }
   ],
   "source": [
    "pay_low_col_lis = []\n",
    "for i in pay_low_cols:\n",
    "    pay_low_col_lis.append(i + '_low')\n",
    "print pay_low_col_lis"
   ]
  },
  {
   "cell_type": "code",
   "execution_count": 143,
   "metadata": {
    "collapsed": true
   },
   "outputs": [],
   "source": [
    "pay_low.columns = pay_low_col_lis"
   ]
  },
  {
   "cell_type": "markdown",
   "metadata": {},
   "source": [
    "import re\n",
    "def regex(row):\n",
    "    return re.sub(r\"[^0-9]\", \"\", row)"
   ]
  },
  {
   "cell_type": "markdown",
   "metadata": {},
   "source": [
    "pay['Payment'] = pay.apply(regex, axis=1)"
   ]
  },
  {
   "cell_type": "markdown",
   "metadata": {},
   "source": [
    "pay['New'] = pay.apply(regex('Payment'), axis=1)"
   ]
  },
  {
   "cell_type": "code",
   "execution_count": 144,
   "metadata": {
    "collapsed": false
   },
   "outputs": [
    {
     "name": "stdout",
     "output_type": "stream",
     "text": [
      "<class 'pandas.core.frame.DataFrame'>\n",
      "MultiIndex: 4785 entries, (ABBEVILLE AREA MEDICAL CENTER, SC) to (ZUNI COMPREHENSIVE COMMUNITY HEALTH CENTER, NM)\n",
      "Data columns (total 3 columns):\n",
      "PAYM_30_AMI    4785 non-null float64\n",
      "PAYM_30_HF     4785 non-null float64\n",
      "PAYM_30_PN     4785 non-null float64\n",
      "dtypes: float64(3)\n",
      "memory usage: 149.5+ KB\n"
     ]
    }
   ],
   "source": [
    "pay_pay.info()"
   ]
  },
  {
   "cell_type": "code",
   "execution_count": 145,
   "metadata": {
    "collapsed": false
   },
   "outputs": [
    {
     "name": "stdout",
     "output_type": "stream",
     "text": [
      "['PAYM_30_AMI_high', 'PAYM_30_HF_high', 'PAYM_30_PN_high']\n"
     ]
    }
   ],
   "source": [
    "#Creating a high estimates table\n",
    "pay_high = pd.pivot_table(pay, index=['Hospital name','State'], columns = 'Payment measure ID', values = 'Higher estimate')\n",
    "pay_high_cols = list(pay_high.columns.values)\n",
    "pay_high_col_lis = []\n",
    "for i in pay_high_cols:\n",
    "    pay_high_col_lis.append(i + '_high')\n",
    "print pay_high_col_lis"
   ]
  },
  {
   "cell_type": "code",
   "execution_count": 146,
   "metadata": {
    "collapsed": true
   },
   "outputs": [],
   "source": [
    "pay_high.columns = pay_high_col_lis"
   ]
  },
  {
   "cell_type": "code",
   "execution_count": 147,
   "metadata": {
    "collapsed": false
   },
   "outputs": [
    {
     "name": "stdout",
     "output_type": "stream",
     "text": [
      "<class 'pandas.core.frame.DataFrame'>\n",
      "MultiIndex: 4785 entries, (ABBEVILLE AREA MEDICAL CENTER, SC) to (ZUNI COMPREHENSIVE COMMUNITY HEALTH CENTER, NM)\n",
      "Data columns (total 3 columns):\n",
      "PAYM_30_AMI_high    4785 non-null float64\n",
      "PAYM_30_HF_high     4785 non-null float64\n",
      "PAYM_30_PN_high     4785 non-null float64\n",
      "dtypes: float64(3)\n",
      "memory usage: 149.5+ KB\n"
     ]
    }
   ],
   "source": [
    "pay_high.info()"
   ]
  },
  {
   "cell_type": "markdown",
   "metadata": {},
   "source": [
    "#### Surveys"
   ]
  },
  {
   "cell_type": "code",
   "execution_count": 148,
   "metadata": {
    "collapsed": true
   },
   "outputs": [],
   "source": [
    "surveys = pd.read_csv('Patient_survey__HCAHPS__-_Hospital.csv')"
   ]
  },
  {
   "cell_type": "code",
   "execution_count": 149,
   "metadata": {
    "collapsed": false
   },
   "outputs": [],
   "source": [
    "# filteringby relavent features - lots of noise in this dataset\n",
    "surveys = surveys[(surveys['HCAHPS Measure ID'] == 'H_COMP_1_STAR_RATING') | \n",
    "                  (surveys['HCAHPS Measure ID'] == 'H_COMP_2_STAR_RATING') | \n",
    "                  (surveys['HCAHPS Measure ID'] == 'H_COMP_3_STAR_RATING') |\n",
    "                  (surveys['HCAHPS Measure ID'] == 'H_COMP_4_STAR_RATING') |\n",
    "                  (surveys['HCAHPS Measure ID'] == 'H_COMP_5_STAR_RATING') |\n",
    "                  (surveys['HCAHPS Measure ID'] == 'H_COMP_6_STAR_RATING') |\n",
    "                  (surveys['HCAHPS Measure ID'] == 'H_COMP_7_STAR_RATING') |\n",
    "                  (surveys['HCAHPS Measure ID'] == 'H_RECMND_STAR_RATING')]\n",
    "                  "
   ]
  },
  {
   "cell_type": "code",
   "execution_count": 150,
   "metadata": {
    "collapsed": false
   },
   "outputs": [],
   "source": [
    "#creating dictionary of these ratings...\n",
    "ratings_dict = {'H_COMP_1_STAR_RATING':'Doctor communication star rating', \n",
    "                'H_COMP_2_STAR_RATING':'Nurse communication star rating',\n",
    "                'H_COMP_3_STAR_RATING':'Staff Responsiveness star rating', \n",
    "                'H_COMP_4_STAR_RATING':'Pain Management star rating',\n",
    "                'H_COMP_5_STAR_RATING':'Communication about Medication star rating', \n",
    "                'H_COMP_6_STAR_RATING':'Discharge information star rating',\n",
    "                'H_COMP_7_STAR_RATING':'Care transition star rating',\n",
    "                'H_RECMND_STAR_RATING':'Overall hospital star rating'}"
   ]
  },
  {
   "cell_type": "code",
   "execution_count": 151,
   "metadata": {
    "collapsed": false
   },
   "outputs": [
    {
     "data": {
      "text/plain": [
       "0"
      ]
     },
     "execution_count": 151,
     "metadata": {},
     "output_type": "execute_result"
    }
   ],
   "source": [
    "(surveys['Patient Survey Star Rating'] == 0).sum() # No 0s so I will change not availables to 0"
   ]
  },
  {
   "cell_type": "code",
   "execution_count": 152,
   "metadata": {
    "collapsed": false
   },
   "outputs": [
    {
     "name": "stdout",
     "output_type": "stream",
     "text": [
      "<class 'pandas.core.frame.DataFrame'>\n",
      "Int64Index: 38456 entries, 9 to 264384\n",
      "Data columns (total 23 columns):\n",
      "Provider ID                              38456 non-null int64\n",
      "Hospital Name                            38456 non-null object\n",
      "Address                                  38456 non-null object\n",
      "City                                     38456 non-null object\n",
      "State                                    38456 non-null object\n",
      "ZIP Code                                 38456 non-null int64\n",
      "County Name                              38336 non-null object\n",
      "Phone Number                             38456 non-null int64\n",
      "HCAHPS Measure ID                        38456 non-null object\n",
      "HCAHPS Question                          38456 non-null object\n",
      "HCAHPS Answer Description                38456 non-null object\n",
      "Patient Survey Star Rating               38456 non-null float64\n",
      "Patient Survey Star Rating Footnote      10472 non-null object\n",
      "HCAHPS Answer Percent                    38456 non-null object\n",
      "HCAHPS Answer Percent Footnote           0 non-null object\n",
      "HCAHPS Linear Mean Value                 38456 non-null object\n",
      "Number of Completed Surveys              38456 non-null object\n",
      "Number of Completed Surveys Footnote     11080 non-null object\n",
      "Survey Response Rate Percent             38456 non-null object\n",
      "Survey Response Rate Percent Footnote    11080 non-null object\n",
      "Measure Start Date                       38456 non-null object\n",
      "Measure End Date                         38456 non-null object\n",
      "Location                                 0 non-null float64\n",
      "dtypes: float64(2), int64(3), object(18)\n",
      "memory usage: 7.0+ MB\n"
     ]
    }
   ],
   "source": [
    "surveys['Patient Survey Star Rating'] = surveys['Patient Survey Star Rating'].replace({'Not Available':'0'})\n",
    "surveys['Patient Survey Star Rating'] = surveys['Patient Survey Star Rating'].astype(float, inplace = True)\n",
    "surveys.info()"
   ]
  },
  {
   "cell_type": "code",
   "execution_count": 153,
   "metadata": {
    "collapsed": false
   },
   "outputs": [
    {
     "data": {
      "text/html": [
       "<div>\n",
       "<table border=\"1\" class=\"dataframe\">\n",
       "  <thead>\n",
       "    <tr style=\"text-align: right;\">\n",
       "      <th></th>\n",
       "      <th>HCAHPS Measure ID</th>\n",
       "      <th>H_COMP_1_STAR_RATING</th>\n",
       "      <th>H_COMP_2_STAR_RATING</th>\n",
       "      <th>H_COMP_3_STAR_RATING</th>\n",
       "      <th>H_COMP_4_STAR_RATING</th>\n",
       "      <th>H_COMP_5_STAR_RATING</th>\n",
       "      <th>H_COMP_6_STAR_RATING</th>\n",
       "      <th>H_COMP_7_STAR_RATING</th>\n",
       "      <th>H_RECMND_STAR_RATING</th>\n",
       "    </tr>\n",
       "    <tr>\n",
       "      <th>Hospital Name</th>\n",
       "      <th>State</th>\n",
       "      <th></th>\n",
       "      <th></th>\n",
       "      <th></th>\n",
       "      <th></th>\n",
       "      <th></th>\n",
       "      <th></th>\n",
       "      <th></th>\n",
       "      <th></th>\n",
       "    </tr>\n",
       "  </thead>\n",
       "  <tbody>\n",
       "    <tr>\n",
       "      <th>ABBEVILLE AREA MEDICAL CENTER</th>\n",
       "      <th>SC</th>\n",
       "      <td>5.0</td>\n",
       "      <td>5.0</td>\n",
       "      <td>5.0</td>\n",
       "      <td>4.0</td>\n",
       "      <td>5.0</td>\n",
       "      <td>4.0</td>\n",
       "      <td>4.0</td>\n",
       "      <td>5.0</td>\n",
       "    </tr>\n",
       "    <tr>\n",
       "      <th>ABBEVILLE GENERAL HOSPITAL</th>\n",
       "      <th>LA</th>\n",
       "      <td>3.0</td>\n",
       "      <td>5.0</td>\n",
       "      <td>4.0</td>\n",
       "      <td>4.0</td>\n",
       "      <td>3.0</td>\n",
       "      <td>2.0</td>\n",
       "      <td>4.0</td>\n",
       "      <td>1.0</td>\n",
       "    </tr>\n",
       "    <tr>\n",
       "      <th>ABBOTT NORTHWESTERN HOSPITAL</th>\n",
       "      <th>MN</th>\n",
       "      <td>4.0</td>\n",
       "      <td>4.0</td>\n",
       "      <td>4.0</td>\n",
       "      <td>4.0</td>\n",
       "      <td>4.0</td>\n",
       "      <td>4.0</td>\n",
       "      <td>4.0</td>\n",
       "      <td>5.0</td>\n",
       "    </tr>\n",
       "    <tr>\n",
       "      <th>ABILENE REGIONAL MEDICAL CENTER</th>\n",
       "      <th>TX</th>\n",
       "      <td>2.0</td>\n",
       "      <td>3.0</td>\n",
       "      <td>3.0</td>\n",
       "      <td>2.0</td>\n",
       "      <td>2.0</td>\n",
       "      <td>3.0</td>\n",
       "      <td>2.0</td>\n",
       "      <td>3.0</td>\n",
       "    </tr>\n",
       "    <tr>\n",
       "      <th>ABINGTON MEMORIAL HOSPITAL</th>\n",
       "      <th>PA</th>\n",
       "      <td>4.0</td>\n",
       "      <td>3.0</td>\n",
       "      <td>3.0</td>\n",
       "      <td>2.0</td>\n",
       "      <td>3.0</td>\n",
       "      <td>3.0</td>\n",
       "      <td>3.0</td>\n",
       "      <td>3.0</td>\n",
       "    </tr>\n",
       "    <tr>\n",
       "      <th>ABRAHAM LINCOLN MEMORIAL HOSPITAL</th>\n",
       "      <th>IL</th>\n",
       "      <td>5.0</td>\n",
       "      <td>5.0</td>\n",
       "      <td>5.0</td>\n",
       "      <td>4.0</td>\n",
       "      <td>4.0</td>\n",
       "      <td>4.0</td>\n",
       "      <td>4.0</td>\n",
       "      <td>4.0</td>\n",
       "    </tr>\n",
       "    <tr>\n",
       "      <th>ABRAZO ARROWHEAD CAMPUS</th>\n",
       "      <th>AZ</th>\n",
       "      <td>2.0</td>\n",
       "      <td>2.0</td>\n",
       "      <td>3.0</td>\n",
       "      <td>2.0</td>\n",
       "      <td>2.0</td>\n",
       "      <td>3.0</td>\n",
       "      <td>2.0</td>\n",
       "      <td>2.0</td>\n",
       "    </tr>\n",
       "    <tr>\n",
       "      <th>ABRAZO CENTRAL CAMPUS</th>\n",
       "      <th>AZ</th>\n",
       "      <td>2.0</td>\n",
       "      <td>2.0</td>\n",
       "      <td>2.0</td>\n",
       "      <td>2.0</td>\n",
       "      <td>2.0</td>\n",
       "      <td>2.0</td>\n",
       "      <td>1.0</td>\n",
       "      <td>2.0</td>\n",
       "    </tr>\n",
       "    <tr>\n",
       "      <th>ABRAZO MARYVALE CAMPUS</th>\n",
       "      <th>AZ</th>\n",
       "      <td>2.0</td>\n",
       "      <td>2.0</td>\n",
       "      <td>2.0</td>\n",
       "      <td>2.0</td>\n",
       "      <td>2.0</td>\n",
       "      <td>2.0</td>\n",
       "      <td>1.0</td>\n",
       "      <td>1.0</td>\n",
       "    </tr>\n",
       "    <tr>\n",
       "      <th>ABRAZO SCOTTSDALE CAMPUS</th>\n",
       "      <th>AZ</th>\n",
       "      <td>2.0</td>\n",
       "      <td>2.0</td>\n",
       "      <td>2.0</td>\n",
       "      <td>2.0</td>\n",
       "      <td>2.0</td>\n",
       "      <td>3.0</td>\n",
       "      <td>1.0</td>\n",
       "      <td>2.0</td>\n",
       "    </tr>\n",
       "    <tr>\n",
       "      <th>ABRAZO WEST CAMPUS</th>\n",
       "      <th>AZ</th>\n",
       "      <td>2.0</td>\n",
       "      <td>2.0</td>\n",
       "      <td>2.0</td>\n",
       "      <td>2.0</td>\n",
       "      <td>3.0</td>\n",
       "      <td>3.0</td>\n",
       "      <td>1.0</td>\n",
       "      <td>1.0</td>\n",
       "    </tr>\n",
       "    <tr>\n",
       "      <th>ABROM KAPLAN MEMORIAL HOSPITAL</th>\n",
       "      <th>LA</th>\n",
       "      <td>0.0</td>\n",
       "      <td>0.0</td>\n",
       "      <td>0.0</td>\n",
       "      <td>0.0</td>\n",
       "      <td>0.0</td>\n",
       "      <td>0.0</td>\n",
       "      <td>0.0</td>\n",
       "      <td>0.0</td>\n",
       "    </tr>\n",
       "    <tr>\n",
       "      <th>ACADIA GENERAL HOSPITAL</th>\n",
       "      <th>LA</th>\n",
       "      <td>4.0</td>\n",
       "      <td>5.0</td>\n",
       "      <td>3.0</td>\n",
       "      <td>4.0</td>\n",
       "      <td>4.0</td>\n",
       "      <td>3.0</td>\n",
       "      <td>3.0</td>\n",
       "      <td>3.0</td>\n",
       "    </tr>\n",
       "    <tr>\n",
       "      <th>ACADIA ST LANDRY</th>\n",
       "      <th>LA</th>\n",
       "      <td>0.0</td>\n",
       "      <td>0.0</td>\n",
       "      <td>0.0</td>\n",
       "      <td>0.0</td>\n",
       "      <td>0.0</td>\n",
       "      <td>0.0</td>\n",
       "      <td>0.0</td>\n",
       "      <td>0.0</td>\n",
       "    </tr>\n",
       "    <tr>\n",
       "      <th>ACMH HOSPITAL</th>\n",
       "      <th>PA</th>\n",
       "      <td>3.0</td>\n",
       "      <td>3.0</td>\n",
       "      <td>3.0</td>\n",
       "      <td>4.0</td>\n",
       "      <td>3.0</td>\n",
       "      <td>3.0</td>\n",
       "      <td>3.0</td>\n",
       "      <td>2.0</td>\n",
       "    </tr>\n",
       "    <tr>\n",
       "      <th>AD HOSPITAL EAST, LLC</th>\n",
       "      <th>TX</th>\n",
       "      <td>0.0</td>\n",
       "      <td>0.0</td>\n",
       "      <td>0.0</td>\n",
       "      <td>0.0</td>\n",
       "      <td>0.0</td>\n",
       "      <td>0.0</td>\n",
       "      <td>0.0</td>\n",
       "      <td>0.0</td>\n",
       "    </tr>\n",
       "    <tr>\n",
       "      <th>ADAIR COUNTY MEMORIAL HOSPITAL</th>\n",
       "      <th>IA</th>\n",
       "      <td>0.0</td>\n",
       "      <td>0.0</td>\n",
       "      <td>0.0</td>\n",
       "      <td>0.0</td>\n",
       "      <td>0.0</td>\n",
       "      <td>0.0</td>\n",
       "      <td>0.0</td>\n",
       "      <td>0.0</td>\n",
       "    </tr>\n",
       "    <tr>\n",
       "      <th>ADAMS COUNTY REGIONAL MEDICAL CENTER</th>\n",
       "      <th>OH</th>\n",
       "      <td>2.0</td>\n",
       "      <td>2.0</td>\n",
       "      <td>3.0</td>\n",
       "      <td>1.0</td>\n",
       "      <td>2.0</td>\n",
       "      <td>2.0</td>\n",
       "      <td>2.0</td>\n",
       "      <td>1.0</td>\n",
       "    </tr>\n",
       "    <tr>\n",
       "      <th>ADAMS MEMORIAL HOSPITAL</th>\n",
       "      <th>IN</th>\n",
       "      <td>4.0</td>\n",
       "      <td>3.0</td>\n",
       "      <td>5.0</td>\n",
       "      <td>4.0</td>\n",
       "      <td>3.0</td>\n",
       "      <td>3.0</td>\n",
       "      <td>4.0</td>\n",
       "      <td>3.0</td>\n",
       "    </tr>\n",
       "    <tr>\n",
       "      <th>ADCARE HOSPITAL OF WORCESTER INC</th>\n",
       "      <th>MA</th>\n",
       "      <td>0.0</td>\n",
       "      <td>0.0</td>\n",
       "      <td>0.0</td>\n",
       "      <td>0.0</td>\n",
       "      <td>0.0</td>\n",
       "      <td>0.0</td>\n",
       "      <td>0.0</td>\n",
       "      <td>0.0</td>\n",
       "    </tr>\n",
       "    <tr>\n",
       "      <th>ADENA PIKE MEDICAL CENTER</th>\n",
       "      <th>OH</th>\n",
       "      <td>0.0</td>\n",
       "      <td>0.0</td>\n",
       "      <td>0.0</td>\n",
       "      <td>0.0</td>\n",
       "      <td>0.0</td>\n",
       "      <td>0.0</td>\n",
       "      <td>0.0</td>\n",
       "      <td>0.0</td>\n",
       "    </tr>\n",
       "    <tr>\n",
       "      <th>ADENA REGIONAL MEDICAL CENTER</th>\n",
       "      <th>OH</th>\n",
       "      <td>3.0</td>\n",
       "      <td>2.0</td>\n",
       "      <td>3.0</td>\n",
       "      <td>2.0</td>\n",
       "      <td>3.0</td>\n",
       "      <td>3.0</td>\n",
       "      <td>3.0</td>\n",
       "      <td>2.0</td>\n",
       "    </tr>\n",
       "    <tr>\n",
       "      <th>ADIRONDACK MEDICAL CENTER</th>\n",
       "      <th>NY</th>\n",
       "      <td>5.0</td>\n",
       "      <td>4.0</td>\n",
       "      <td>5.0</td>\n",
       "      <td>4.0</td>\n",
       "      <td>4.0</td>\n",
       "      <td>4.0</td>\n",
       "      <td>4.0</td>\n",
       "      <td>4.0</td>\n",
       "    </tr>\n",
       "    <tr>\n",
       "      <th>ADMIN DE SERVICIOS MEDICOS  PUERTO RIC</th>\n",
       "      <th>PR</th>\n",
       "      <td>0.0</td>\n",
       "      <td>0.0</td>\n",
       "      <td>0.0</td>\n",
       "      <td>0.0</td>\n",
       "      <td>0.0</td>\n",
       "      <td>0.0</td>\n",
       "      <td>0.0</td>\n",
       "      <td>0.0</td>\n",
       "    </tr>\n",
       "    <tr>\n",
       "      <th>ADVANCED SURGICAL HOSPITAL</th>\n",
       "      <th>PA</th>\n",
       "      <td>5.0</td>\n",
       "      <td>5.0</td>\n",
       "      <td>5.0</td>\n",
       "      <td>5.0</td>\n",
       "      <td>5.0</td>\n",
       "      <td>5.0</td>\n",
       "      <td>5.0</td>\n",
       "      <td>5.0</td>\n",
       "    </tr>\n",
       "    <tr>\n",
       "      <th>ADVENTIST BOLINGBROOK HOSPITAL</th>\n",
       "      <th>IL</th>\n",
       "      <td>3.0</td>\n",
       "      <td>3.0</td>\n",
       "      <td>3.0</td>\n",
       "      <td>2.0</td>\n",
       "      <td>3.0</td>\n",
       "      <td>2.0</td>\n",
       "      <td>3.0</td>\n",
       "      <td>2.0</td>\n",
       "    </tr>\n",
       "    <tr>\n",
       "      <th>ADVENTIST GLENOAKS</th>\n",
       "      <th>IL</th>\n",
       "      <td>2.0</td>\n",
       "      <td>2.0</td>\n",
       "      <td>3.0</td>\n",
       "      <td>3.0</td>\n",
       "      <td>2.0</td>\n",
       "      <td>3.0</td>\n",
       "      <td>2.0</td>\n",
       "      <td>1.0</td>\n",
       "    </tr>\n",
       "    <tr>\n",
       "      <th>ADVENTIST HEALTH MEDICAL CENTER TEHACHAPI VALLEY</th>\n",
       "      <th>CA</th>\n",
       "      <td>0.0</td>\n",
       "      <td>0.0</td>\n",
       "      <td>0.0</td>\n",
       "      <td>0.0</td>\n",
       "      <td>0.0</td>\n",
       "      <td>0.0</td>\n",
       "      <td>0.0</td>\n",
       "      <td>0.0</td>\n",
       "    </tr>\n",
       "    <tr>\n",
       "      <th>ADVENTIST HEALTHCARE SHADY GROVE MEDICAL CENTER</th>\n",
       "      <th>MD</th>\n",
       "      <td>2.0</td>\n",
       "      <td>3.0</td>\n",
       "      <td>2.0</td>\n",
       "      <td>2.0</td>\n",
       "      <td>2.0</td>\n",
       "      <td>3.0</td>\n",
       "      <td>2.0</td>\n",
       "      <td>3.0</td>\n",
       "    </tr>\n",
       "    <tr>\n",
       "      <th>ADVENTIST HEALTHCARE WASHINGTON ADVENTIST HOSPITAL</th>\n",
       "      <th>MD</th>\n",
       "      <td>2.0</td>\n",
       "      <td>2.0</td>\n",
       "      <td>3.0</td>\n",
       "      <td>2.0</td>\n",
       "      <td>2.0</td>\n",
       "      <td>3.0</td>\n",
       "      <td>2.0</td>\n",
       "      <td>3.0</td>\n",
       "    </tr>\n",
       "    <tr>\n",
       "      <th>...</th>\n",
       "      <th>...</th>\n",
       "      <td>...</td>\n",
       "      <td>...</td>\n",
       "      <td>...</td>\n",
       "      <td>...</td>\n",
       "      <td>...</td>\n",
       "      <td>...</td>\n",
       "      <td>...</td>\n",
       "      <td>...</td>\n",
       "    </tr>\n",
       "    <tr>\n",
       "      <th>WOODLAND MEMORIAL HOSPITAL</th>\n",
       "      <th>CA</th>\n",
       "      <td>3.0</td>\n",
       "      <td>4.0</td>\n",
       "      <td>4.0</td>\n",
       "      <td>4.0</td>\n",
       "      <td>4.0</td>\n",
       "      <td>4.0</td>\n",
       "      <td>4.0</td>\n",
       "      <td>3.0</td>\n",
       "    </tr>\n",
       "    <tr>\n",
       "      <th>WOODLAWN HOSPITAL</th>\n",
       "      <th>IN</th>\n",
       "      <td>4.0</td>\n",
       "      <td>4.0</td>\n",
       "      <td>4.0</td>\n",
       "      <td>4.0</td>\n",
       "      <td>3.0</td>\n",
       "      <td>4.0</td>\n",
       "      <td>4.0</td>\n",
       "      <td>3.0</td>\n",
       "    </tr>\n",
       "    <tr>\n",
       "      <th>WOODS AT PARKSIDE,THE</th>\n",
       "      <th>OH</th>\n",
       "      <td>0.0</td>\n",
       "      <td>0.0</td>\n",
       "      <td>0.0</td>\n",
       "      <td>0.0</td>\n",
       "      <td>0.0</td>\n",
       "      <td>0.0</td>\n",
       "      <td>0.0</td>\n",
       "      <td>0.0</td>\n",
       "    </tr>\n",
       "    <tr>\n",
       "      <th>WOOSTER COMMUNITY HOSPITAL</th>\n",
       "      <th>OH</th>\n",
       "      <td>4.0</td>\n",
       "      <td>3.0</td>\n",
       "      <td>4.0</td>\n",
       "      <td>3.0</td>\n",
       "      <td>3.0</td>\n",
       "      <td>3.0</td>\n",
       "      <td>3.0</td>\n",
       "      <td>4.0</td>\n",
       "    </tr>\n",
       "    <tr>\n",
       "      <th>WRANGELL MEDICAL CENTER</th>\n",
       "      <th>AK</th>\n",
       "      <td>0.0</td>\n",
       "      <td>0.0</td>\n",
       "      <td>0.0</td>\n",
       "      <td>0.0</td>\n",
       "      <td>0.0</td>\n",
       "      <td>0.0</td>\n",
       "      <td>0.0</td>\n",
       "      <td>0.0</td>\n",
       "    </tr>\n",
       "    <tr>\n",
       "      <th>WRAY COMMUNITY DISTRICT HOSPITAL</th>\n",
       "      <th>CO</th>\n",
       "      <td>0.0</td>\n",
       "      <td>0.0</td>\n",
       "      <td>0.0</td>\n",
       "      <td>0.0</td>\n",
       "      <td>0.0</td>\n",
       "      <td>0.0</td>\n",
       "      <td>0.0</td>\n",
       "      <td>0.0</td>\n",
       "    </tr>\n",
       "    <tr>\n",
       "      <th>WRIGHT MEMORIAL HOSPITAL</th>\n",
       "      <th>MO</th>\n",
       "      <td>5.0</td>\n",
       "      <td>5.0</td>\n",
       "      <td>4.0</td>\n",
       "      <td>4.0</td>\n",
       "      <td>4.0</td>\n",
       "      <td>4.0</td>\n",
       "      <td>4.0</td>\n",
       "      <td>4.0</td>\n",
       "    </tr>\n",
       "    <tr>\n",
       "      <th>WUESTHOFF MEDICAL CENTER-MELBOURNE</th>\n",
       "      <th>FL</th>\n",
       "      <td>2.0</td>\n",
       "      <td>1.0</td>\n",
       "      <td>2.0</td>\n",
       "      <td>2.0</td>\n",
       "      <td>2.0</td>\n",
       "      <td>3.0</td>\n",
       "      <td>1.0</td>\n",
       "      <td>1.0</td>\n",
       "    </tr>\n",
       "    <tr>\n",
       "      <th>WUESTHOFF MEDICAL CENTER-ROCKLEDGE</th>\n",
       "      <th>FL</th>\n",
       "      <td>2.0</td>\n",
       "      <td>2.0</td>\n",
       "      <td>2.0</td>\n",
       "      <td>2.0</td>\n",
       "      <td>2.0</td>\n",
       "      <td>2.0</td>\n",
       "      <td>2.0</td>\n",
       "      <td>2.0</td>\n",
       "    </tr>\n",
       "    <tr>\n",
       "      <th>WYANDOT MEMORIAL HOSPITAL</th>\n",
       "      <th>OH</th>\n",
       "      <td>4.0</td>\n",
       "      <td>3.0</td>\n",
       "      <td>5.0</td>\n",
       "      <td>3.0</td>\n",
       "      <td>3.0</td>\n",
       "      <td>2.0</td>\n",
       "      <td>4.0</td>\n",
       "      <td>4.0</td>\n",
       "    </tr>\n",
       "    <tr>\n",
       "      <th>WYCKOFF HEIGHTS MEDICAL CENTER</th>\n",
       "      <th>NY</th>\n",
       "      <td>2.0</td>\n",
       "      <td>2.0</td>\n",
       "      <td>1.0</td>\n",
       "      <td>1.0</td>\n",
       "      <td>2.0</td>\n",
       "      <td>1.0</td>\n",
       "      <td>2.0</td>\n",
       "      <td>1.0</td>\n",
       "    </tr>\n",
       "    <tr>\n",
       "      <th>WYOMING COUNTY COMMUNITY HOSPITAL</th>\n",
       "      <th>NY</th>\n",
       "      <td>3.0</td>\n",
       "      <td>2.0</td>\n",
       "      <td>3.0</td>\n",
       "      <td>3.0</td>\n",
       "      <td>2.0</td>\n",
       "      <td>3.0</td>\n",
       "      <td>2.0</td>\n",
       "      <td>2.0</td>\n",
       "    </tr>\n",
       "    <tr>\n",
       "      <th>WYOMING MEDICAL CENTER</th>\n",
       "      <th>WY</th>\n",
       "      <td>3.0</td>\n",
       "      <td>2.0</td>\n",
       "      <td>3.0</td>\n",
       "      <td>2.0</td>\n",
       "      <td>2.0</td>\n",
       "      <td>4.0</td>\n",
       "      <td>2.0</td>\n",
       "      <td>3.0</td>\n",
       "    </tr>\n",
       "    <tr>\n",
       "      <th>WYTHE COUNTY COMMUNITY HOSPITAL</th>\n",
       "      <th>VA</th>\n",
       "      <td>4.0</td>\n",
       "      <td>4.0</td>\n",
       "      <td>4.0</td>\n",
       "      <td>3.0</td>\n",
       "      <td>3.0</td>\n",
       "      <td>4.0</td>\n",
       "      <td>2.0</td>\n",
       "      <td>3.0</td>\n",
       "    </tr>\n",
       "    <tr>\n",
       "      <th>YAKIMA REGIONAL MEDICAL AND CARDIAC CENTER</th>\n",
       "      <th>WA</th>\n",
       "      <td>3.0</td>\n",
       "      <td>2.0</td>\n",
       "      <td>3.0</td>\n",
       "      <td>3.0</td>\n",
       "      <td>2.0</td>\n",
       "      <td>4.0</td>\n",
       "      <td>2.0</td>\n",
       "      <td>3.0</td>\n",
       "    </tr>\n",
       "    <tr>\n",
       "      <th>YAKIMA VALLEY MEMORIAL HOSPITAL</th>\n",
       "      <th>WA</th>\n",
       "      <td>3.0</td>\n",
       "      <td>3.0</td>\n",
       "      <td>3.0</td>\n",
       "      <td>2.0</td>\n",
       "      <td>3.0</td>\n",
       "      <td>3.0</td>\n",
       "      <td>3.0</td>\n",
       "      <td>3.0</td>\n",
       "    </tr>\n",
       "    <tr>\n",
       "      <th>YALE-NEW HAVEN HOSPITAL</th>\n",
       "      <th>CT</th>\n",
       "      <td>4.0</td>\n",
       "      <td>3.0</td>\n",
       "      <td>3.0</td>\n",
       "      <td>3.0</td>\n",
       "      <td>2.0</td>\n",
       "      <td>3.0</td>\n",
       "      <td>3.0</td>\n",
       "      <td>4.0</td>\n",
       "    </tr>\n",
       "    <tr>\n",
       "      <th>YALOBUSHA GENERAL HOSPITAL</th>\n",
       "      <th>MS</th>\n",
       "      <td>5.0</td>\n",
       "      <td>5.0</td>\n",
       "      <td>4.0</td>\n",
       "      <td>5.0</td>\n",
       "      <td>5.0</td>\n",
       "      <td>2.0</td>\n",
       "      <td>5.0</td>\n",
       "      <td>5.0</td>\n",
       "    </tr>\n",
       "    <tr>\n",
       "      <th>YAMPA VALLEY MEDICAL CENTER</th>\n",
       "      <th>CO</th>\n",
       "      <td>5.0</td>\n",
       "      <td>4.0</td>\n",
       "      <td>5.0</td>\n",
       "      <td>4.0</td>\n",
       "      <td>4.0</td>\n",
       "      <td>4.0</td>\n",
       "      <td>4.0</td>\n",
       "      <td>5.0</td>\n",
       "    </tr>\n",
       "    <tr>\n",
       "      <th>YAVAPAI REGIONAL MEDICAL CENTER</th>\n",
       "      <th>AZ</th>\n",
       "      <td>4.0</td>\n",
       "      <td>3.0</td>\n",
       "      <td>4.0</td>\n",
       "      <td>3.0</td>\n",
       "      <td>3.0</td>\n",
       "      <td>4.0</td>\n",
       "      <td>3.0</td>\n",
       "      <td>4.0</td>\n",
       "    </tr>\n",
       "    <tr>\n",
       "      <th>YAVAPAI REGIONAL MEDICAL CENTER-EAST CAMPUS</th>\n",
       "      <th>AZ</th>\n",
       "      <td>3.0</td>\n",
       "      <td>3.0</td>\n",
       "      <td>4.0</td>\n",
       "      <td>3.0</td>\n",
       "      <td>3.0</td>\n",
       "      <td>4.0</td>\n",
       "      <td>3.0</td>\n",
       "      <td>4.0</td>\n",
       "    </tr>\n",
       "    <tr>\n",
       "      <th>YOAKUM COMMUNITY HOSPITAL</th>\n",
       "      <th>TX</th>\n",
       "      <td>5.0</td>\n",
       "      <td>5.0</td>\n",
       "      <td>4.0</td>\n",
       "      <td>4.0</td>\n",
       "      <td>4.0</td>\n",
       "      <td>4.0</td>\n",
       "      <td>4.0</td>\n",
       "      <td>5.0</td>\n",
       "    </tr>\n",
       "    <tr>\n",
       "      <th>YOAKUM COUNTY HOSPITAL</th>\n",
       "      <th>TX</th>\n",
       "      <td>0.0</td>\n",
       "      <td>0.0</td>\n",
       "      <td>0.0</td>\n",
       "      <td>0.0</td>\n",
       "      <td>0.0</td>\n",
       "      <td>0.0</td>\n",
       "      <td>0.0</td>\n",
       "      <td>0.0</td>\n",
       "    </tr>\n",
       "    <tr>\n",
       "      <th>YORK GENERAL HOSPITAL</th>\n",
       "      <th>NE</th>\n",
       "      <td>4.0</td>\n",
       "      <td>5.0</td>\n",
       "      <td>5.0</td>\n",
       "      <td>4.0</td>\n",
       "      <td>4.0</td>\n",
       "      <td>2.0</td>\n",
       "      <td>4.0</td>\n",
       "      <td>4.0</td>\n",
       "    </tr>\n",
       "    <tr>\n",
       "      <th rowspan=\"2\" valign=\"top\">YORK HOSPITAL</th>\n",
       "      <th>ME</th>\n",
       "      <td>5.0</td>\n",
       "      <td>4.0</td>\n",
       "      <td>3.0</td>\n",
       "      <td>4.0</td>\n",
       "      <td>4.0</td>\n",
       "      <td>4.0</td>\n",
       "      <td>4.0</td>\n",
       "      <td>5.0</td>\n",
       "    </tr>\n",
       "    <tr>\n",
       "      <th>PA</th>\n",
       "      <td>3.0</td>\n",
       "      <td>2.0</td>\n",
       "      <td>3.0</td>\n",
       "      <td>3.0</td>\n",
       "      <td>2.0</td>\n",
       "      <td>3.0</td>\n",
       "      <td>3.0</td>\n",
       "      <td>3.0</td>\n",
       "    </tr>\n",
       "    <tr>\n",
       "      <th>YUKON KUSKOKWIM DELTA REG HOSPITAL</th>\n",
       "      <th>AK</th>\n",
       "      <td>2.0</td>\n",
       "      <td>3.0</td>\n",
       "      <td>2.0</td>\n",
       "      <td>1.0</td>\n",
       "      <td>3.0</td>\n",
       "      <td>3.0</td>\n",
       "      <td>1.0</td>\n",
       "      <td>2.0</td>\n",
       "    </tr>\n",
       "    <tr>\n",
       "      <th>YUMA DISTRICT HOSPITAL</th>\n",
       "      <th>CO</th>\n",
       "      <td>0.0</td>\n",
       "      <td>0.0</td>\n",
       "      <td>0.0</td>\n",
       "      <td>0.0</td>\n",
       "      <td>0.0</td>\n",
       "      <td>0.0</td>\n",
       "      <td>0.0</td>\n",
       "      <td>0.0</td>\n",
       "    </tr>\n",
       "    <tr>\n",
       "      <th>YUMA REGIONAL MEDICAL CENTER</th>\n",
       "      <th>AZ</th>\n",
       "      <td>2.0</td>\n",
       "      <td>2.0</td>\n",
       "      <td>3.0</td>\n",
       "      <td>2.0</td>\n",
       "      <td>2.0</td>\n",
       "      <td>2.0</td>\n",
       "      <td>2.0</td>\n",
       "      <td>2.0</td>\n",
       "    </tr>\n",
       "    <tr>\n",
       "      <th>ZUNI COMPREHENSIVE COMMUNITY HEALTH CENTER</th>\n",
       "      <th>NM</th>\n",
       "      <td>0.0</td>\n",
       "      <td>0.0</td>\n",
       "      <td>0.0</td>\n",
       "      <td>0.0</td>\n",
       "      <td>0.0</td>\n",
       "      <td>0.0</td>\n",
       "      <td>0.0</td>\n",
       "      <td>0.0</td>\n",
       "    </tr>\n",
       "  </tbody>\n",
       "</table>\n",
       "<p>4785 rows × 8 columns</p>\n",
       "</div>"
      ],
      "text/plain": [
       "HCAHPS Measure ID                                         H_COMP_1_STAR_RATING  \\\n",
       "Hospital Name                                      State                         \n",
       "ABBEVILLE AREA MEDICAL CENTER                      SC                      5.0   \n",
       "ABBEVILLE GENERAL HOSPITAL                         LA                      3.0   \n",
       "ABBOTT NORTHWESTERN HOSPITAL                       MN                      4.0   \n",
       "ABILENE REGIONAL MEDICAL CENTER                    TX                      2.0   \n",
       "ABINGTON MEMORIAL HOSPITAL                         PA                      4.0   \n",
       "ABRAHAM LINCOLN MEMORIAL HOSPITAL                  IL                      5.0   \n",
       "ABRAZO ARROWHEAD CAMPUS                            AZ                      2.0   \n",
       "ABRAZO CENTRAL CAMPUS                              AZ                      2.0   \n",
       "ABRAZO MARYVALE CAMPUS                             AZ                      2.0   \n",
       "ABRAZO SCOTTSDALE CAMPUS                           AZ                      2.0   \n",
       "ABRAZO WEST CAMPUS                                 AZ                      2.0   \n",
       "ABROM KAPLAN MEMORIAL HOSPITAL                     LA                      0.0   \n",
       "ACADIA GENERAL HOSPITAL                            LA                      4.0   \n",
       "ACADIA ST LANDRY                                   LA                      0.0   \n",
       "ACMH HOSPITAL                                      PA                      3.0   \n",
       "AD HOSPITAL EAST, LLC                              TX                      0.0   \n",
       "ADAIR COUNTY MEMORIAL HOSPITAL                     IA                      0.0   \n",
       "ADAMS COUNTY REGIONAL MEDICAL CENTER               OH                      2.0   \n",
       "ADAMS MEMORIAL HOSPITAL                            IN                      4.0   \n",
       "ADCARE HOSPITAL OF WORCESTER INC                   MA                      0.0   \n",
       "ADENA PIKE MEDICAL CENTER                          OH                      0.0   \n",
       "ADENA REGIONAL MEDICAL CENTER                      OH                      3.0   \n",
       "ADIRONDACK MEDICAL CENTER                          NY                      5.0   \n",
       "ADMIN DE SERVICIOS MEDICOS  PUERTO RIC             PR                      0.0   \n",
       "ADVANCED SURGICAL HOSPITAL                         PA                      5.0   \n",
       "ADVENTIST BOLINGBROOK HOSPITAL                     IL                      3.0   \n",
       "ADVENTIST GLENOAKS                                 IL                      2.0   \n",
       "ADVENTIST HEALTH MEDICAL CENTER TEHACHAPI VALLEY   CA                      0.0   \n",
       "ADVENTIST HEALTHCARE SHADY GROVE MEDICAL CENTER    MD                      2.0   \n",
       "ADVENTIST HEALTHCARE WASHINGTON ADVENTIST HOSPITAL MD                      2.0   \n",
       "...                                                                        ...   \n",
       "WOODLAND MEMORIAL HOSPITAL                         CA                      3.0   \n",
       "WOODLAWN HOSPITAL                                  IN                      4.0   \n",
       "WOODS AT PARKSIDE,THE                              OH                      0.0   \n",
       "WOOSTER COMMUNITY HOSPITAL                         OH                      4.0   \n",
       "WRANGELL MEDICAL CENTER                            AK                      0.0   \n",
       "WRAY COMMUNITY DISTRICT HOSPITAL                   CO                      0.0   \n",
       "WRIGHT MEMORIAL HOSPITAL                           MO                      5.0   \n",
       "WUESTHOFF MEDICAL CENTER-MELBOURNE                 FL                      2.0   \n",
       "WUESTHOFF MEDICAL CENTER-ROCKLEDGE                 FL                      2.0   \n",
       "WYANDOT MEMORIAL HOSPITAL                          OH                      4.0   \n",
       "WYCKOFF HEIGHTS MEDICAL CENTER                     NY                      2.0   \n",
       "WYOMING COUNTY COMMUNITY HOSPITAL                  NY                      3.0   \n",
       "WYOMING MEDICAL CENTER                             WY                      3.0   \n",
       "WYTHE COUNTY COMMUNITY HOSPITAL                    VA                      4.0   \n",
       "YAKIMA REGIONAL MEDICAL AND CARDIAC CENTER         WA                      3.0   \n",
       "YAKIMA VALLEY MEMORIAL HOSPITAL                    WA                      3.0   \n",
       "YALE-NEW HAVEN HOSPITAL                            CT                      4.0   \n",
       "YALOBUSHA GENERAL HOSPITAL                         MS                      5.0   \n",
       "YAMPA VALLEY MEDICAL CENTER                        CO                      5.0   \n",
       "YAVAPAI REGIONAL MEDICAL CENTER                    AZ                      4.0   \n",
       "YAVAPAI REGIONAL MEDICAL CENTER-EAST CAMPUS        AZ                      3.0   \n",
       "YOAKUM COMMUNITY HOSPITAL                          TX                      5.0   \n",
       "YOAKUM COUNTY HOSPITAL                             TX                      0.0   \n",
       "YORK GENERAL HOSPITAL                              NE                      4.0   \n",
       "YORK HOSPITAL                                      ME                      5.0   \n",
       "                                                   PA                      3.0   \n",
       "YUKON KUSKOKWIM DELTA REG HOSPITAL                 AK                      2.0   \n",
       "YUMA DISTRICT HOSPITAL                             CO                      0.0   \n",
       "YUMA REGIONAL MEDICAL CENTER                       AZ                      2.0   \n",
       "ZUNI COMPREHENSIVE COMMUNITY HEALTH CENTER         NM                      0.0   \n",
       "\n",
       "HCAHPS Measure ID                                         H_COMP_2_STAR_RATING  \\\n",
       "Hospital Name                                      State                         \n",
       "ABBEVILLE AREA MEDICAL CENTER                      SC                      5.0   \n",
       "ABBEVILLE GENERAL HOSPITAL                         LA                      5.0   \n",
       "ABBOTT NORTHWESTERN HOSPITAL                       MN                      4.0   \n",
       "ABILENE REGIONAL MEDICAL CENTER                    TX                      3.0   \n",
       "ABINGTON MEMORIAL HOSPITAL                         PA                      3.0   \n",
       "ABRAHAM LINCOLN MEMORIAL HOSPITAL                  IL                      5.0   \n",
       "ABRAZO ARROWHEAD CAMPUS                            AZ                      2.0   \n",
       "ABRAZO CENTRAL CAMPUS                              AZ                      2.0   \n",
       "ABRAZO MARYVALE CAMPUS                             AZ                      2.0   \n",
       "ABRAZO SCOTTSDALE CAMPUS                           AZ                      2.0   \n",
       "ABRAZO WEST CAMPUS                                 AZ                      2.0   \n",
       "ABROM KAPLAN MEMORIAL HOSPITAL                     LA                      0.0   \n",
       "ACADIA GENERAL HOSPITAL                            LA                      5.0   \n",
       "ACADIA ST LANDRY                                   LA                      0.0   \n",
       "ACMH HOSPITAL                                      PA                      3.0   \n",
       "AD HOSPITAL EAST, LLC                              TX                      0.0   \n",
       "ADAIR COUNTY MEMORIAL HOSPITAL                     IA                      0.0   \n",
       "ADAMS COUNTY REGIONAL MEDICAL CENTER               OH                      2.0   \n",
       "ADAMS MEMORIAL HOSPITAL                            IN                      3.0   \n",
       "ADCARE HOSPITAL OF WORCESTER INC                   MA                      0.0   \n",
       "ADENA PIKE MEDICAL CENTER                          OH                      0.0   \n",
       "ADENA REGIONAL MEDICAL CENTER                      OH                      2.0   \n",
       "ADIRONDACK MEDICAL CENTER                          NY                      4.0   \n",
       "ADMIN DE SERVICIOS MEDICOS  PUERTO RIC             PR                      0.0   \n",
       "ADVANCED SURGICAL HOSPITAL                         PA                      5.0   \n",
       "ADVENTIST BOLINGBROOK HOSPITAL                     IL                      3.0   \n",
       "ADVENTIST GLENOAKS                                 IL                      2.0   \n",
       "ADVENTIST HEALTH MEDICAL CENTER TEHACHAPI VALLEY   CA                      0.0   \n",
       "ADVENTIST HEALTHCARE SHADY GROVE MEDICAL CENTER    MD                      3.0   \n",
       "ADVENTIST HEALTHCARE WASHINGTON ADVENTIST HOSPITAL MD                      2.0   \n",
       "...                                                                        ...   \n",
       "WOODLAND MEMORIAL HOSPITAL                         CA                      4.0   \n",
       "WOODLAWN HOSPITAL                                  IN                      4.0   \n",
       "WOODS AT PARKSIDE,THE                              OH                      0.0   \n",
       "WOOSTER COMMUNITY HOSPITAL                         OH                      3.0   \n",
       "WRANGELL MEDICAL CENTER                            AK                      0.0   \n",
       "WRAY COMMUNITY DISTRICT HOSPITAL                   CO                      0.0   \n",
       "WRIGHT MEMORIAL HOSPITAL                           MO                      5.0   \n",
       "WUESTHOFF MEDICAL CENTER-MELBOURNE                 FL                      1.0   \n",
       "WUESTHOFF MEDICAL CENTER-ROCKLEDGE                 FL                      2.0   \n",
       "WYANDOT MEMORIAL HOSPITAL                          OH                      3.0   \n",
       "WYCKOFF HEIGHTS MEDICAL CENTER                     NY                      2.0   \n",
       "WYOMING COUNTY COMMUNITY HOSPITAL                  NY                      2.0   \n",
       "WYOMING MEDICAL CENTER                             WY                      2.0   \n",
       "WYTHE COUNTY COMMUNITY HOSPITAL                    VA                      4.0   \n",
       "YAKIMA REGIONAL MEDICAL AND CARDIAC CENTER         WA                      2.0   \n",
       "YAKIMA VALLEY MEMORIAL HOSPITAL                    WA                      3.0   \n",
       "YALE-NEW HAVEN HOSPITAL                            CT                      3.0   \n",
       "YALOBUSHA GENERAL HOSPITAL                         MS                      5.0   \n",
       "YAMPA VALLEY MEDICAL CENTER                        CO                      4.0   \n",
       "YAVAPAI REGIONAL MEDICAL CENTER                    AZ                      3.0   \n",
       "YAVAPAI REGIONAL MEDICAL CENTER-EAST CAMPUS        AZ                      3.0   \n",
       "YOAKUM COMMUNITY HOSPITAL                          TX                      5.0   \n",
       "YOAKUM COUNTY HOSPITAL                             TX                      0.0   \n",
       "YORK GENERAL HOSPITAL                              NE                      5.0   \n",
       "YORK HOSPITAL                                      ME                      4.0   \n",
       "                                                   PA                      2.0   \n",
       "YUKON KUSKOKWIM DELTA REG HOSPITAL                 AK                      3.0   \n",
       "YUMA DISTRICT HOSPITAL                             CO                      0.0   \n",
       "YUMA REGIONAL MEDICAL CENTER                       AZ                      2.0   \n",
       "ZUNI COMPREHENSIVE COMMUNITY HEALTH CENTER         NM                      0.0   \n",
       "\n",
       "HCAHPS Measure ID                                         H_COMP_3_STAR_RATING  \\\n",
       "Hospital Name                                      State                         \n",
       "ABBEVILLE AREA MEDICAL CENTER                      SC                      5.0   \n",
       "ABBEVILLE GENERAL HOSPITAL                         LA                      4.0   \n",
       "ABBOTT NORTHWESTERN HOSPITAL                       MN                      4.0   \n",
       "ABILENE REGIONAL MEDICAL CENTER                    TX                      3.0   \n",
       "ABINGTON MEMORIAL HOSPITAL                         PA                      3.0   \n",
       "ABRAHAM LINCOLN MEMORIAL HOSPITAL                  IL                      5.0   \n",
       "ABRAZO ARROWHEAD CAMPUS                            AZ                      3.0   \n",
       "ABRAZO CENTRAL CAMPUS                              AZ                      2.0   \n",
       "ABRAZO MARYVALE CAMPUS                             AZ                      2.0   \n",
       "ABRAZO SCOTTSDALE CAMPUS                           AZ                      2.0   \n",
       "ABRAZO WEST CAMPUS                                 AZ                      2.0   \n",
       "ABROM KAPLAN MEMORIAL HOSPITAL                     LA                      0.0   \n",
       "ACADIA GENERAL HOSPITAL                            LA                      3.0   \n",
       "ACADIA ST LANDRY                                   LA                      0.0   \n",
       "ACMH HOSPITAL                                      PA                      3.0   \n",
       "AD HOSPITAL EAST, LLC                              TX                      0.0   \n",
       "ADAIR COUNTY MEMORIAL HOSPITAL                     IA                      0.0   \n",
       "ADAMS COUNTY REGIONAL MEDICAL CENTER               OH                      3.0   \n",
       "ADAMS MEMORIAL HOSPITAL                            IN                      5.0   \n",
       "ADCARE HOSPITAL OF WORCESTER INC                   MA                      0.0   \n",
       "ADENA PIKE MEDICAL CENTER                          OH                      0.0   \n",
       "ADENA REGIONAL MEDICAL CENTER                      OH                      3.0   \n",
       "ADIRONDACK MEDICAL CENTER                          NY                      5.0   \n",
       "ADMIN DE SERVICIOS MEDICOS  PUERTO RIC             PR                      0.0   \n",
       "ADVANCED SURGICAL HOSPITAL                         PA                      5.0   \n",
       "ADVENTIST BOLINGBROOK HOSPITAL                     IL                      3.0   \n",
       "ADVENTIST GLENOAKS                                 IL                      3.0   \n",
       "ADVENTIST HEALTH MEDICAL CENTER TEHACHAPI VALLEY   CA                      0.0   \n",
       "ADVENTIST HEALTHCARE SHADY GROVE MEDICAL CENTER    MD                      2.0   \n",
       "ADVENTIST HEALTHCARE WASHINGTON ADVENTIST HOSPITAL MD                      3.0   \n",
       "...                                                                        ...   \n",
       "WOODLAND MEMORIAL HOSPITAL                         CA                      4.0   \n",
       "WOODLAWN HOSPITAL                                  IN                      4.0   \n",
       "WOODS AT PARKSIDE,THE                              OH                      0.0   \n",
       "WOOSTER COMMUNITY HOSPITAL                         OH                      4.0   \n",
       "WRANGELL MEDICAL CENTER                            AK                      0.0   \n",
       "WRAY COMMUNITY DISTRICT HOSPITAL                   CO                      0.0   \n",
       "WRIGHT MEMORIAL HOSPITAL                           MO                      4.0   \n",
       "WUESTHOFF MEDICAL CENTER-MELBOURNE                 FL                      2.0   \n",
       "WUESTHOFF MEDICAL CENTER-ROCKLEDGE                 FL                      2.0   \n",
       "WYANDOT MEMORIAL HOSPITAL                          OH                      5.0   \n",
       "WYCKOFF HEIGHTS MEDICAL CENTER                     NY                      1.0   \n",
       "WYOMING COUNTY COMMUNITY HOSPITAL                  NY                      3.0   \n",
       "WYOMING MEDICAL CENTER                             WY                      3.0   \n",
       "WYTHE COUNTY COMMUNITY HOSPITAL                    VA                      4.0   \n",
       "YAKIMA REGIONAL MEDICAL AND CARDIAC CENTER         WA                      3.0   \n",
       "YAKIMA VALLEY MEMORIAL HOSPITAL                    WA                      3.0   \n",
       "YALE-NEW HAVEN HOSPITAL                            CT                      3.0   \n",
       "YALOBUSHA GENERAL HOSPITAL                         MS                      4.0   \n",
       "YAMPA VALLEY MEDICAL CENTER                        CO                      5.0   \n",
       "YAVAPAI REGIONAL MEDICAL CENTER                    AZ                      4.0   \n",
       "YAVAPAI REGIONAL MEDICAL CENTER-EAST CAMPUS        AZ                      4.0   \n",
       "YOAKUM COMMUNITY HOSPITAL                          TX                      4.0   \n",
       "YOAKUM COUNTY HOSPITAL                             TX                      0.0   \n",
       "YORK GENERAL HOSPITAL                              NE                      5.0   \n",
       "YORK HOSPITAL                                      ME                      3.0   \n",
       "                                                   PA                      3.0   \n",
       "YUKON KUSKOKWIM DELTA REG HOSPITAL                 AK                      2.0   \n",
       "YUMA DISTRICT HOSPITAL                             CO                      0.0   \n",
       "YUMA REGIONAL MEDICAL CENTER                       AZ                      3.0   \n",
       "ZUNI COMPREHENSIVE COMMUNITY HEALTH CENTER         NM                      0.0   \n",
       "\n",
       "HCAHPS Measure ID                                         H_COMP_4_STAR_RATING  \\\n",
       "Hospital Name                                      State                         \n",
       "ABBEVILLE AREA MEDICAL CENTER                      SC                      4.0   \n",
       "ABBEVILLE GENERAL HOSPITAL                         LA                      4.0   \n",
       "ABBOTT NORTHWESTERN HOSPITAL                       MN                      4.0   \n",
       "ABILENE REGIONAL MEDICAL CENTER                    TX                      2.0   \n",
       "ABINGTON MEMORIAL HOSPITAL                         PA                      2.0   \n",
       "ABRAHAM LINCOLN MEMORIAL HOSPITAL                  IL                      4.0   \n",
       "ABRAZO ARROWHEAD CAMPUS                            AZ                      2.0   \n",
       "ABRAZO CENTRAL CAMPUS                              AZ                      2.0   \n",
       "ABRAZO MARYVALE CAMPUS                             AZ                      2.0   \n",
       "ABRAZO SCOTTSDALE CAMPUS                           AZ                      2.0   \n",
       "ABRAZO WEST CAMPUS                                 AZ                      2.0   \n",
       "ABROM KAPLAN MEMORIAL HOSPITAL                     LA                      0.0   \n",
       "ACADIA GENERAL HOSPITAL                            LA                      4.0   \n",
       "ACADIA ST LANDRY                                   LA                      0.0   \n",
       "ACMH HOSPITAL                                      PA                      4.0   \n",
       "AD HOSPITAL EAST, LLC                              TX                      0.0   \n",
       "ADAIR COUNTY MEMORIAL HOSPITAL                     IA                      0.0   \n",
       "ADAMS COUNTY REGIONAL MEDICAL CENTER               OH                      1.0   \n",
       "ADAMS MEMORIAL HOSPITAL                            IN                      4.0   \n",
       "ADCARE HOSPITAL OF WORCESTER INC                   MA                      0.0   \n",
       "ADENA PIKE MEDICAL CENTER                          OH                      0.0   \n",
       "ADENA REGIONAL MEDICAL CENTER                      OH                      2.0   \n",
       "ADIRONDACK MEDICAL CENTER                          NY                      4.0   \n",
       "ADMIN DE SERVICIOS MEDICOS  PUERTO RIC             PR                      0.0   \n",
       "ADVANCED SURGICAL HOSPITAL                         PA                      5.0   \n",
       "ADVENTIST BOLINGBROOK HOSPITAL                     IL                      2.0   \n",
       "ADVENTIST GLENOAKS                                 IL                      3.0   \n",
       "ADVENTIST HEALTH MEDICAL CENTER TEHACHAPI VALLEY   CA                      0.0   \n",
       "ADVENTIST HEALTHCARE SHADY GROVE MEDICAL CENTER    MD                      2.0   \n",
       "ADVENTIST HEALTHCARE WASHINGTON ADVENTIST HOSPITAL MD                      2.0   \n",
       "...                                                                        ...   \n",
       "WOODLAND MEMORIAL HOSPITAL                         CA                      4.0   \n",
       "WOODLAWN HOSPITAL                                  IN                      4.0   \n",
       "WOODS AT PARKSIDE,THE                              OH                      0.0   \n",
       "WOOSTER COMMUNITY HOSPITAL                         OH                      3.0   \n",
       "WRANGELL MEDICAL CENTER                            AK                      0.0   \n",
       "WRAY COMMUNITY DISTRICT HOSPITAL                   CO                      0.0   \n",
       "WRIGHT MEMORIAL HOSPITAL                           MO                      4.0   \n",
       "WUESTHOFF MEDICAL CENTER-MELBOURNE                 FL                      2.0   \n",
       "WUESTHOFF MEDICAL CENTER-ROCKLEDGE                 FL                      2.0   \n",
       "WYANDOT MEMORIAL HOSPITAL                          OH                      3.0   \n",
       "WYCKOFF HEIGHTS MEDICAL CENTER                     NY                      1.0   \n",
       "WYOMING COUNTY COMMUNITY HOSPITAL                  NY                      3.0   \n",
       "WYOMING MEDICAL CENTER                             WY                      2.0   \n",
       "WYTHE COUNTY COMMUNITY HOSPITAL                    VA                      3.0   \n",
       "YAKIMA REGIONAL MEDICAL AND CARDIAC CENTER         WA                      3.0   \n",
       "YAKIMA VALLEY MEMORIAL HOSPITAL                    WA                      2.0   \n",
       "YALE-NEW HAVEN HOSPITAL                            CT                      3.0   \n",
       "YALOBUSHA GENERAL HOSPITAL                         MS                      5.0   \n",
       "YAMPA VALLEY MEDICAL CENTER                        CO                      4.0   \n",
       "YAVAPAI REGIONAL MEDICAL CENTER                    AZ                      3.0   \n",
       "YAVAPAI REGIONAL MEDICAL CENTER-EAST CAMPUS        AZ                      3.0   \n",
       "YOAKUM COMMUNITY HOSPITAL                          TX                      4.0   \n",
       "YOAKUM COUNTY HOSPITAL                             TX                      0.0   \n",
       "YORK GENERAL HOSPITAL                              NE                      4.0   \n",
       "YORK HOSPITAL                                      ME                      4.0   \n",
       "                                                   PA                      3.0   \n",
       "YUKON KUSKOKWIM DELTA REG HOSPITAL                 AK                      1.0   \n",
       "YUMA DISTRICT HOSPITAL                             CO                      0.0   \n",
       "YUMA REGIONAL MEDICAL CENTER                       AZ                      2.0   \n",
       "ZUNI COMPREHENSIVE COMMUNITY HEALTH CENTER         NM                      0.0   \n",
       "\n",
       "HCAHPS Measure ID                                         H_COMP_5_STAR_RATING  \\\n",
       "Hospital Name                                      State                         \n",
       "ABBEVILLE AREA MEDICAL CENTER                      SC                      5.0   \n",
       "ABBEVILLE GENERAL HOSPITAL                         LA                      3.0   \n",
       "ABBOTT NORTHWESTERN HOSPITAL                       MN                      4.0   \n",
       "ABILENE REGIONAL MEDICAL CENTER                    TX                      2.0   \n",
       "ABINGTON MEMORIAL HOSPITAL                         PA                      3.0   \n",
       "ABRAHAM LINCOLN MEMORIAL HOSPITAL                  IL                      4.0   \n",
       "ABRAZO ARROWHEAD CAMPUS                            AZ                      2.0   \n",
       "ABRAZO CENTRAL CAMPUS                              AZ                      2.0   \n",
       "ABRAZO MARYVALE CAMPUS                             AZ                      2.0   \n",
       "ABRAZO SCOTTSDALE CAMPUS                           AZ                      2.0   \n",
       "ABRAZO WEST CAMPUS                                 AZ                      3.0   \n",
       "ABROM KAPLAN MEMORIAL HOSPITAL                     LA                      0.0   \n",
       "ACADIA GENERAL HOSPITAL                            LA                      4.0   \n",
       "ACADIA ST LANDRY                                   LA                      0.0   \n",
       "ACMH HOSPITAL                                      PA                      3.0   \n",
       "AD HOSPITAL EAST, LLC                              TX                      0.0   \n",
       "ADAIR COUNTY MEMORIAL HOSPITAL                     IA                      0.0   \n",
       "ADAMS COUNTY REGIONAL MEDICAL CENTER               OH                      2.0   \n",
       "ADAMS MEMORIAL HOSPITAL                            IN                      3.0   \n",
       "ADCARE HOSPITAL OF WORCESTER INC                   MA                      0.0   \n",
       "ADENA PIKE MEDICAL CENTER                          OH                      0.0   \n",
       "ADENA REGIONAL MEDICAL CENTER                      OH                      3.0   \n",
       "ADIRONDACK MEDICAL CENTER                          NY                      4.0   \n",
       "ADMIN DE SERVICIOS MEDICOS  PUERTO RIC             PR                      0.0   \n",
       "ADVANCED SURGICAL HOSPITAL                         PA                      5.0   \n",
       "ADVENTIST BOLINGBROOK HOSPITAL                     IL                      3.0   \n",
       "ADVENTIST GLENOAKS                                 IL                      2.0   \n",
       "ADVENTIST HEALTH MEDICAL CENTER TEHACHAPI VALLEY   CA                      0.0   \n",
       "ADVENTIST HEALTHCARE SHADY GROVE MEDICAL CENTER    MD                      2.0   \n",
       "ADVENTIST HEALTHCARE WASHINGTON ADVENTIST HOSPITAL MD                      2.0   \n",
       "...                                                                        ...   \n",
       "WOODLAND MEMORIAL HOSPITAL                         CA                      4.0   \n",
       "WOODLAWN HOSPITAL                                  IN                      3.0   \n",
       "WOODS AT PARKSIDE,THE                              OH                      0.0   \n",
       "WOOSTER COMMUNITY HOSPITAL                         OH                      3.0   \n",
       "WRANGELL MEDICAL CENTER                            AK                      0.0   \n",
       "WRAY COMMUNITY DISTRICT HOSPITAL                   CO                      0.0   \n",
       "WRIGHT MEMORIAL HOSPITAL                           MO                      4.0   \n",
       "WUESTHOFF MEDICAL CENTER-MELBOURNE                 FL                      2.0   \n",
       "WUESTHOFF MEDICAL CENTER-ROCKLEDGE                 FL                      2.0   \n",
       "WYANDOT MEMORIAL HOSPITAL                          OH                      3.0   \n",
       "WYCKOFF HEIGHTS MEDICAL CENTER                     NY                      2.0   \n",
       "WYOMING COUNTY COMMUNITY HOSPITAL                  NY                      2.0   \n",
       "WYOMING MEDICAL CENTER                             WY                      2.0   \n",
       "WYTHE COUNTY COMMUNITY HOSPITAL                    VA                      3.0   \n",
       "YAKIMA REGIONAL MEDICAL AND CARDIAC CENTER         WA                      2.0   \n",
       "YAKIMA VALLEY MEMORIAL HOSPITAL                    WA                      3.0   \n",
       "YALE-NEW HAVEN HOSPITAL                            CT                      2.0   \n",
       "YALOBUSHA GENERAL HOSPITAL                         MS                      5.0   \n",
       "YAMPA VALLEY MEDICAL CENTER                        CO                      4.0   \n",
       "YAVAPAI REGIONAL MEDICAL CENTER                    AZ                      3.0   \n",
       "YAVAPAI REGIONAL MEDICAL CENTER-EAST CAMPUS        AZ                      3.0   \n",
       "YOAKUM COMMUNITY HOSPITAL                          TX                      4.0   \n",
       "YOAKUM COUNTY HOSPITAL                             TX                      0.0   \n",
       "YORK GENERAL HOSPITAL                              NE                      4.0   \n",
       "YORK HOSPITAL                                      ME                      4.0   \n",
       "                                                   PA                      2.0   \n",
       "YUKON KUSKOKWIM DELTA REG HOSPITAL                 AK                      3.0   \n",
       "YUMA DISTRICT HOSPITAL                             CO                      0.0   \n",
       "YUMA REGIONAL MEDICAL CENTER                       AZ                      2.0   \n",
       "ZUNI COMPREHENSIVE COMMUNITY HEALTH CENTER         NM                      0.0   \n",
       "\n",
       "HCAHPS Measure ID                                         H_COMP_6_STAR_RATING  \\\n",
       "Hospital Name                                      State                         \n",
       "ABBEVILLE AREA MEDICAL CENTER                      SC                      4.0   \n",
       "ABBEVILLE GENERAL HOSPITAL                         LA                      2.0   \n",
       "ABBOTT NORTHWESTERN HOSPITAL                       MN                      4.0   \n",
       "ABILENE REGIONAL MEDICAL CENTER                    TX                      3.0   \n",
       "ABINGTON MEMORIAL HOSPITAL                         PA                      3.0   \n",
       "ABRAHAM LINCOLN MEMORIAL HOSPITAL                  IL                      4.0   \n",
       "ABRAZO ARROWHEAD CAMPUS                            AZ                      3.0   \n",
       "ABRAZO CENTRAL CAMPUS                              AZ                      2.0   \n",
       "ABRAZO MARYVALE CAMPUS                             AZ                      2.0   \n",
       "ABRAZO SCOTTSDALE CAMPUS                           AZ                      3.0   \n",
       "ABRAZO WEST CAMPUS                                 AZ                      3.0   \n",
       "ABROM KAPLAN MEMORIAL HOSPITAL                     LA                      0.0   \n",
       "ACADIA GENERAL HOSPITAL                            LA                      3.0   \n",
       "ACADIA ST LANDRY                                   LA                      0.0   \n",
       "ACMH HOSPITAL                                      PA                      3.0   \n",
       "AD HOSPITAL EAST, LLC                              TX                      0.0   \n",
       "ADAIR COUNTY MEMORIAL HOSPITAL                     IA                      0.0   \n",
       "ADAMS COUNTY REGIONAL MEDICAL CENTER               OH                      2.0   \n",
       "ADAMS MEMORIAL HOSPITAL                            IN                      3.0   \n",
       "ADCARE HOSPITAL OF WORCESTER INC                   MA                      0.0   \n",
       "ADENA PIKE MEDICAL CENTER                          OH                      0.0   \n",
       "ADENA REGIONAL MEDICAL CENTER                      OH                      3.0   \n",
       "ADIRONDACK MEDICAL CENTER                          NY                      4.0   \n",
       "ADMIN DE SERVICIOS MEDICOS  PUERTO RIC             PR                      0.0   \n",
       "ADVANCED SURGICAL HOSPITAL                         PA                      5.0   \n",
       "ADVENTIST BOLINGBROOK HOSPITAL                     IL                      2.0   \n",
       "ADVENTIST GLENOAKS                                 IL                      3.0   \n",
       "ADVENTIST HEALTH MEDICAL CENTER TEHACHAPI VALLEY   CA                      0.0   \n",
       "ADVENTIST HEALTHCARE SHADY GROVE MEDICAL CENTER    MD                      3.0   \n",
       "ADVENTIST HEALTHCARE WASHINGTON ADVENTIST HOSPITAL MD                      3.0   \n",
       "...                                                                        ...   \n",
       "WOODLAND MEMORIAL HOSPITAL                         CA                      4.0   \n",
       "WOODLAWN HOSPITAL                                  IN                      4.0   \n",
       "WOODS AT PARKSIDE,THE                              OH                      0.0   \n",
       "WOOSTER COMMUNITY HOSPITAL                         OH                      3.0   \n",
       "WRANGELL MEDICAL CENTER                            AK                      0.0   \n",
       "WRAY COMMUNITY DISTRICT HOSPITAL                   CO                      0.0   \n",
       "WRIGHT MEMORIAL HOSPITAL                           MO                      4.0   \n",
       "WUESTHOFF MEDICAL CENTER-MELBOURNE                 FL                      3.0   \n",
       "WUESTHOFF MEDICAL CENTER-ROCKLEDGE                 FL                      2.0   \n",
       "WYANDOT MEMORIAL HOSPITAL                          OH                      2.0   \n",
       "WYCKOFF HEIGHTS MEDICAL CENTER                     NY                      1.0   \n",
       "WYOMING COUNTY COMMUNITY HOSPITAL                  NY                      3.0   \n",
       "WYOMING MEDICAL CENTER                             WY                      4.0   \n",
       "WYTHE COUNTY COMMUNITY HOSPITAL                    VA                      4.0   \n",
       "YAKIMA REGIONAL MEDICAL AND CARDIAC CENTER         WA                      4.0   \n",
       "YAKIMA VALLEY MEMORIAL HOSPITAL                    WA                      3.0   \n",
       "YALE-NEW HAVEN HOSPITAL                            CT                      3.0   \n",
       "YALOBUSHA GENERAL HOSPITAL                         MS                      2.0   \n",
       "YAMPA VALLEY MEDICAL CENTER                        CO                      4.0   \n",
       "YAVAPAI REGIONAL MEDICAL CENTER                    AZ                      4.0   \n",
       "YAVAPAI REGIONAL MEDICAL CENTER-EAST CAMPUS        AZ                      4.0   \n",
       "YOAKUM COMMUNITY HOSPITAL                          TX                      4.0   \n",
       "YOAKUM COUNTY HOSPITAL                             TX                      0.0   \n",
       "YORK GENERAL HOSPITAL                              NE                      2.0   \n",
       "YORK HOSPITAL                                      ME                      4.0   \n",
       "                                                   PA                      3.0   \n",
       "YUKON KUSKOKWIM DELTA REG HOSPITAL                 AK                      3.0   \n",
       "YUMA DISTRICT HOSPITAL                             CO                      0.0   \n",
       "YUMA REGIONAL MEDICAL CENTER                       AZ                      2.0   \n",
       "ZUNI COMPREHENSIVE COMMUNITY HEALTH CENTER         NM                      0.0   \n",
       "\n",
       "HCAHPS Measure ID                                         H_COMP_7_STAR_RATING  \\\n",
       "Hospital Name                                      State                         \n",
       "ABBEVILLE AREA MEDICAL CENTER                      SC                      4.0   \n",
       "ABBEVILLE GENERAL HOSPITAL                         LA                      4.0   \n",
       "ABBOTT NORTHWESTERN HOSPITAL                       MN                      4.0   \n",
       "ABILENE REGIONAL MEDICAL CENTER                    TX                      2.0   \n",
       "ABINGTON MEMORIAL HOSPITAL                         PA                      3.0   \n",
       "ABRAHAM LINCOLN MEMORIAL HOSPITAL                  IL                      4.0   \n",
       "ABRAZO ARROWHEAD CAMPUS                            AZ                      2.0   \n",
       "ABRAZO CENTRAL CAMPUS                              AZ                      1.0   \n",
       "ABRAZO MARYVALE CAMPUS                             AZ                      1.0   \n",
       "ABRAZO SCOTTSDALE CAMPUS                           AZ                      1.0   \n",
       "ABRAZO WEST CAMPUS                                 AZ                      1.0   \n",
       "ABROM KAPLAN MEMORIAL HOSPITAL                     LA                      0.0   \n",
       "ACADIA GENERAL HOSPITAL                            LA                      3.0   \n",
       "ACADIA ST LANDRY                                   LA                      0.0   \n",
       "ACMH HOSPITAL                                      PA                      3.0   \n",
       "AD HOSPITAL EAST, LLC                              TX                      0.0   \n",
       "ADAIR COUNTY MEMORIAL HOSPITAL                     IA                      0.0   \n",
       "ADAMS COUNTY REGIONAL MEDICAL CENTER               OH                      2.0   \n",
       "ADAMS MEMORIAL HOSPITAL                            IN                      4.0   \n",
       "ADCARE HOSPITAL OF WORCESTER INC                   MA                      0.0   \n",
       "ADENA PIKE MEDICAL CENTER                          OH                      0.0   \n",
       "ADENA REGIONAL MEDICAL CENTER                      OH                      3.0   \n",
       "ADIRONDACK MEDICAL CENTER                          NY                      4.0   \n",
       "ADMIN DE SERVICIOS MEDICOS  PUERTO RIC             PR                      0.0   \n",
       "ADVANCED SURGICAL HOSPITAL                         PA                      5.0   \n",
       "ADVENTIST BOLINGBROOK HOSPITAL                     IL                      3.0   \n",
       "ADVENTIST GLENOAKS                                 IL                      2.0   \n",
       "ADVENTIST HEALTH MEDICAL CENTER TEHACHAPI VALLEY   CA                      0.0   \n",
       "ADVENTIST HEALTHCARE SHADY GROVE MEDICAL CENTER    MD                      2.0   \n",
       "ADVENTIST HEALTHCARE WASHINGTON ADVENTIST HOSPITAL MD                      2.0   \n",
       "...                                                                        ...   \n",
       "WOODLAND MEMORIAL HOSPITAL                         CA                      4.0   \n",
       "WOODLAWN HOSPITAL                                  IN                      4.0   \n",
       "WOODS AT PARKSIDE,THE                              OH                      0.0   \n",
       "WOOSTER COMMUNITY HOSPITAL                         OH                      3.0   \n",
       "WRANGELL MEDICAL CENTER                            AK                      0.0   \n",
       "WRAY COMMUNITY DISTRICT HOSPITAL                   CO                      0.0   \n",
       "WRIGHT MEMORIAL HOSPITAL                           MO                      4.0   \n",
       "WUESTHOFF MEDICAL CENTER-MELBOURNE                 FL                      1.0   \n",
       "WUESTHOFF MEDICAL CENTER-ROCKLEDGE                 FL                      2.0   \n",
       "WYANDOT MEMORIAL HOSPITAL                          OH                      4.0   \n",
       "WYCKOFF HEIGHTS MEDICAL CENTER                     NY                      2.0   \n",
       "WYOMING COUNTY COMMUNITY HOSPITAL                  NY                      2.0   \n",
       "WYOMING MEDICAL CENTER                             WY                      2.0   \n",
       "WYTHE COUNTY COMMUNITY HOSPITAL                    VA                      2.0   \n",
       "YAKIMA REGIONAL MEDICAL AND CARDIAC CENTER         WA                      2.0   \n",
       "YAKIMA VALLEY MEMORIAL HOSPITAL                    WA                      3.0   \n",
       "YALE-NEW HAVEN HOSPITAL                            CT                      3.0   \n",
       "YALOBUSHA GENERAL HOSPITAL                         MS                      5.0   \n",
       "YAMPA VALLEY MEDICAL CENTER                        CO                      4.0   \n",
       "YAVAPAI REGIONAL MEDICAL CENTER                    AZ                      3.0   \n",
       "YAVAPAI REGIONAL MEDICAL CENTER-EAST CAMPUS        AZ                      3.0   \n",
       "YOAKUM COMMUNITY HOSPITAL                          TX                      4.0   \n",
       "YOAKUM COUNTY HOSPITAL                             TX                      0.0   \n",
       "YORK GENERAL HOSPITAL                              NE                      4.0   \n",
       "YORK HOSPITAL                                      ME                      4.0   \n",
       "                                                   PA                      3.0   \n",
       "YUKON KUSKOKWIM DELTA REG HOSPITAL                 AK                      1.0   \n",
       "YUMA DISTRICT HOSPITAL                             CO                      0.0   \n",
       "YUMA REGIONAL MEDICAL CENTER                       AZ                      2.0   \n",
       "ZUNI COMPREHENSIVE COMMUNITY HEALTH CENTER         NM                      0.0   \n",
       "\n",
       "HCAHPS Measure ID                                         H_RECMND_STAR_RATING  \n",
       "Hospital Name                                      State                        \n",
       "ABBEVILLE AREA MEDICAL CENTER                      SC                      5.0  \n",
       "ABBEVILLE GENERAL HOSPITAL                         LA                      1.0  \n",
       "ABBOTT NORTHWESTERN HOSPITAL                       MN                      5.0  \n",
       "ABILENE REGIONAL MEDICAL CENTER                    TX                      3.0  \n",
       "ABINGTON MEMORIAL HOSPITAL                         PA                      3.0  \n",
       "ABRAHAM LINCOLN MEMORIAL HOSPITAL                  IL                      4.0  \n",
       "ABRAZO ARROWHEAD CAMPUS                            AZ                      2.0  \n",
       "ABRAZO CENTRAL CAMPUS                              AZ                      2.0  \n",
       "ABRAZO MARYVALE CAMPUS                             AZ                      1.0  \n",
       "ABRAZO SCOTTSDALE CAMPUS                           AZ                      2.0  \n",
       "ABRAZO WEST CAMPUS                                 AZ                      1.0  \n",
       "ABROM KAPLAN MEMORIAL HOSPITAL                     LA                      0.0  \n",
       "ACADIA GENERAL HOSPITAL                            LA                      3.0  \n",
       "ACADIA ST LANDRY                                   LA                      0.0  \n",
       "ACMH HOSPITAL                                      PA                      2.0  \n",
       "AD HOSPITAL EAST, LLC                              TX                      0.0  \n",
       "ADAIR COUNTY MEMORIAL HOSPITAL                     IA                      0.0  \n",
       "ADAMS COUNTY REGIONAL MEDICAL CENTER               OH                      1.0  \n",
       "ADAMS MEMORIAL HOSPITAL                            IN                      3.0  \n",
       "ADCARE HOSPITAL OF WORCESTER INC                   MA                      0.0  \n",
       "ADENA PIKE MEDICAL CENTER                          OH                      0.0  \n",
       "ADENA REGIONAL MEDICAL CENTER                      OH                      2.0  \n",
       "ADIRONDACK MEDICAL CENTER                          NY                      4.0  \n",
       "ADMIN DE SERVICIOS MEDICOS  PUERTO RIC             PR                      0.0  \n",
       "ADVANCED SURGICAL HOSPITAL                         PA                      5.0  \n",
       "ADVENTIST BOLINGBROOK HOSPITAL                     IL                      2.0  \n",
       "ADVENTIST GLENOAKS                                 IL                      1.0  \n",
       "ADVENTIST HEALTH MEDICAL CENTER TEHACHAPI VALLEY   CA                      0.0  \n",
       "ADVENTIST HEALTHCARE SHADY GROVE MEDICAL CENTER    MD                      3.0  \n",
       "ADVENTIST HEALTHCARE WASHINGTON ADVENTIST HOSPITAL MD                      3.0  \n",
       "...                                                                        ...  \n",
       "WOODLAND MEMORIAL HOSPITAL                         CA                      3.0  \n",
       "WOODLAWN HOSPITAL                                  IN                      3.0  \n",
       "WOODS AT PARKSIDE,THE                              OH                      0.0  \n",
       "WOOSTER COMMUNITY HOSPITAL                         OH                      4.0  \n",
       "WRANGELL MEDICAL CENTER                            AK                      0.0  \n",
       "WRAY COMMUNITY DISTRICT HOSPITAL                   CO                      0.0  \n",
       "WRIGHT MEMORIAL HOSPITAL                           MO                      4.0  \n",
       "WUESTHOFF MEDICAL CENTER-MELBOURNE                 FL                      1.0  \n",
       "WUESTHOFF MEDICAL CENTER-ROCKLEDGE                 FL                      2.0  \n",
       "WYANDOT MEMORIAL HOSPITAL                          OH                      4.0  \n",
       "WYCKOFF HEIGHTS MEDICAL CENTER                     NY                      1.0  \n",
       "WYOMING COUNTY COMMUNITY HOSPITAL                  NY                      2.0  \n",
       "WYOMING MEDICAL CENTER                             WY                      3.0  \n",
       "WYTHE COUNTY COMMUNITY HOSPITAL                    VA                      3.0  \n",
       "YAKIMA REGIONAL MEDICAL AND CARDIAC CENTER         WA                      3.0  \n",
       "YAKIMA VALLEY MEMORIAL HOSPITAL                    WA                      3.0  \n",
       "YALE-NEW HAVEN HOSPITAL                            CT                      4.0  \n",
       "YALOBUSHA GENERAL HOSPITAL                         MS                      5.0  \n",
       "YAMPA VALLEY MEDICAL CENTER                        CO                      5.0  \n",
       "YAVAPAI REGIONAL MEDICAL CENTER                    AZ                      4.0  \n",
       "YAVAPAI REGIONAL MEDICAL CENTER-EAST CAMPUS        AZ                      4.0  \n",
       "YOAKUM COMMUNITY HOSPITAL                          TX                      5.0  \n",
       "YOAKUM COUNTY HOSPITAL                             TX                      0.0  \n",
       "YORK GENERAL HOSPITAL                              NE                      4.0  \n",
       "YORK HOSPITAL                                      ME                      5.0  \n",
       "                                                   PA                      3.0  \n",
       "YUKON KUSKOKWIM DELTA REG HOSPITAL                 AK                      2.0  \n",
       "YUMA DISTRICT HOSPITAL                             CO                      0.0  \n",
       "YUMA REGIONAL MEDICAL CENTER                       AZ                      2.0  \n",
       "ZUNI COMPREHENSIVE COMMUNITY HEALTH CENTER         NM                      0.0  \n",
       "\n",
       "[4785 rows x 8 columns]"
      ]
     },
     "execution_count": 153,
     "metadata": {},
     "output_type": "execute_result"
    }
   ],
   "source": [
    "surveys_pivot = pd.pivot_table(surveys, index=['Hospital Name', 'State'], columns ='HCAHPS Measure ID', \n",
    "                               values = 'Patient Survey Star Rating' )\n",
    "surveys_pivot"
   ]
  },
  {
   "cell_type": "markdown",
   "metadata": {},
   "source": [
    "#### Joining feature sets"
   ]
  },
  {
   "cell_type": "code",
   "execution_count": 154,
   "metadata": {
    "collapsed": false
   },
   "outputs": [],
   "source": [
    "#making copies of all dataframes to maniupulate\n",
    "comp_score_copy = comp_score.copy()\n",
    "comp_score_low_copy = comp_low.copy()\n",
    "comp_score_high_copy = comp_high.copy()\n",
    "spending_in_pivot_copy = spending_in_pivot.copy()\n",
    "spending_out_pivot_copy = spending_out_pivot.copy()\n",
    "reduc_copy = reduc.copy()\n",
    "pay_pay_copy = pay_pay.copy()\n",
    "pay_low_copy = pay_low.copy()\n",
    "pay_high_copy = pay_high.copy()\n",
    "surveys_pivot_copy = surveys_pivot.copy()\n",
    "target_HF_copy = target_HF.copy()"
   ]
  },
  {
   "cell_type": "code",
   "execution_count": 155,
   "metadata": {
    "collapsed": false
   },
   "outputs": [],
   "source": [
    "funcs = [comp_score_copy, comp_score_high_copy, comp_score_low_copy, spending_in_pivot_copy, \n",
    "         spending_out_pivot_copy, pay_pay_copy, pay_low_copy, pay_high_copy, surveys_pivot_copy]\n",
    "for func in funcs:\n",
    "    func.reset_index(inplace=True)\n",
    "    #reseting index so that I can have hospital name as column to join on"
   ]
  },
  {
   "cell_type": "code",
   "execution_count": 156,
   "metadata": {
    "collapsed": false
   },
   "outputs": [
    {
     "name": "stdout",
     "output_type": "stream",
     "text": [
      "<class 'pandas.core.frame.DataFrame'>\n",
      "RangeIndex: 4785 entries, 0 to 4784\n",
      "Data columns (total 5 columns):\n",
      "Hospital name       4785 non-null object\n",
      "State               4785 non-null object\n",
      "PAYM_30_AMI_high    4785 non-null float64\n",
      "PAYM_30_HF_high     4785 non-null float64\n",
      "PAYM_30_PN_high     4785 non-null float64\n",
      "dtypes: float64(3), object(2)\n",
      "memory usage: 187.0+ KB\n"
     ]
    }
   ],
   "source": [
    "pay_high_copy.info() #Need to rename Hospital_Name so that they match in all dfs"
   ]
  },
  {
   "cell_type": "code",
   "execution_count": 157,
   "metadata": {
    "collapsed": true
   },
   "outputs": [],
   "source": [
    "spending_in_pivot_copy.rename(columns={\"Hospital_Name\": \"Hospital Name\"}, inplace=True)\n",
    "spending_out_pivot_copy.rename(columns={\"Hospital_Name\": \"Hospital Name\"}, inplace=True)"
   ]
  },
  {
   "cell_type": "code",
   "execution_count": 158,
   "metadata": {
    "collapsed": false
   },
   "outputs": [
    {
     "name": "stdout",
     "output_type": "stream",
     "text": [
      "<class 'pandas.core.frame.DataFrame'>\n",
      "RangeIndex: 3313 entries, 0 to 3312\n",
      "Data columns (total 8 columns):\n",
      "Hospital_Name        3313 non-null object\n",
      "State                3313 non-null object\n",
      "AHRQ_PSI_90_Score    3313 non-null float64\n",
      "CLABSI_Score         3313 non-null float64\n",
      "CAUTI_Score          3313 non-null float64\n",
      "SSI_Score            3313 non-null float64\n",
      "MRSA_Score           3313 non-null float64\n",
      "CDI_Score            3313 non-null float64\n",
      "dtypes: float64(6), object(2)\n",
      "memory usage: 207.1+ KB\n"
     ]
    }
   ],
   "source": [
    "reduc_copy.info()"
   ]
  },
  {
   "cell_type": "code",
   "execution_count": 159,
   "metadata": {
    "collapsed": true
   },
   "outputs": [],
   "source": [
    "reduc_copy.rename(columns={\"Hospital_Name\": \"Hospital Name\"}, inplace=True)"
   ]
  },
  {
   "cell_type": "code",
   "execution_count": 160,
   "metadata": {
    "collapsed": false
   },
   "outputs": [
    {
     "name": "stdout",
     "output_type": "stream",
     "text": [
      "<class 'pandas.core.frame.DataFrame'>\n",
      "RangeIndex: 4785 entries, 0 to 4784\n",
      "Data columns (total 5 columns):\n",
      "Hospital name    4785 non-null object\n",
      "State            4785 non-null object\n",
      "PAYM_30_AMI      4785 non-null float64\n",
      "PAYM_30_HF       4785 non-null float64\n",
      "PAYM_30_PN       4785 non-null float64\n",
      "dtypes: float64(3), object(2)\n",
      "memory usage: 187.0+ KB\n"
     ]
    }
   ],
   "source": [
    "pay_pay_copy.info()"
   ]
  },
  {
   "cell_type": "code",
   "execution_count": 161,
   "metadata": {
    "collapsed": true
   },
   "outputs": [],
   "source": [
    "pay_pay_copy.rename(columns={\"Hospital name\": \"Hospital Name\"}, inplace=True)\n",
    "pay_low_copy.rename(columns={\"Hospital name\": \"Hospital Name\"}, inplace=True)\n",
    "pay_high_copy.rename(columns={\"Hospital name\": \"Hospital Name\"}, inplace=True)"
   ]
  },
  {
   "cell_type": "code",
   "execution_count": 162,
   "metadata": {
    "collapsed": false
   },
   "outputs": [
    {
     "name": "stdout",
     "output_type": "stream",
     "text": [
      "<class 'pandas.core.frame.DataFrame'>\n",
      "RangeIndex: 4785 entries, 0 to 4784\n",
      "Data columns (total 13 columns):\n",
      "Hospital Name                    4785 non-null object\n",
      "State                            4785 non-null object\n",
      "COMP_HIP_KNEE_low                4785 non-null float64\n",
      "PSI_12_POSTOP_PULMEMB_DVT_low    4785 non-null float64\n",
      "PSI_13_POST_SEPSIS_low           4785 non-null float64\n",
      "PSI_14_POSTOP_DEHIS_low          4785 non-null float64\n",
      "PSI_15_ACC_LAC_low               4785 non-null float64\n",
      "PSI_3_ULCER_low                  4785 non-null float64\n",
      "PSI_4_SURG_COMP_low              4785 non-null float64\n",
      "PSI_6_IAT_PTX_low                4785 non-null float64\n",
      "PSI_7_CVCBI_low                  4785 non-null float64\n",
      "PSI_8_POST_HIP_low               4785 non-null float64\n",
      "PSI_90_SAFETY_low                4785 non-null float64\n",
      "dtypes: float64(11), object(2)\n",
      "memory usage: 486.0+ KB\n"
     ]
    }
   ],
   "source": [
    "comp_score_low_copy.info()"
   ]
  },
  {
   "cell_type": "code",
   "execution_count": 163,
   "metadata": {
    "collapsed": false
   },
   "outputs": [
    {
     "data": {
      "text/html": [
       "<div>\n",
       "<table border=\"1\" class=\"dataframe\">\n",
       "  <thead>\n",
       "    <tr style=\"text-align: right;\">\n",
       "      <th></th>\n",
       "      <th>Hospital Name</th>\n",
       "      <th>State</th>\n",
       "      <th>COMP_HIP_KNEE_low</th>\n",
       "      <th>PSI_12_POSTOP_PULMEMB_DVT_low</th>\n",
       "      <th>PSI_13_POST_SEPSIS_low</th>\n",
       "      <th>PSI_14_POSTOP_DEHIS_low</th>\n",
       "      <th>PSI_15_ACC_LAC_low</th>\n",
       "      <th>PSI_3_ULCER_low</th>\n",
       "      <th>PSI_4_SURG_COMP_low</th>\n",
       "      <th>PSI_6_IAT_PTX_low</th>\n",
       "      <th>PSI_7_CVCBI_low</th>\n",
       "      <th>PSI_8_POST_HIP_low</th>\n",
       "      <th>PSI_90_SAFETY_low</th>\n",
       "    </tr>\n",
       "  </thead>\n",
       "  <tbody>\n",
       "    <tr>\n",
       "      <th>0</th>\n",
       "      <td>ABBEVILLE AREA MEDICAL CENTER</td>\n",
       "      <td>SC</td>\n",
       "      <td>1.7</td>\n",
       "      <td>0.00</td>\n",
       "      <td>0.00</td>\n",
       "      <td>0.00</td>\n",
       "      <td>0.00</td>\n",
       "      <td>0.00</td>\n",
       "      <td>0.00</td>\n",
       "      <td>0.00</td>\n",
       "      <td>0.0</td>\n",
       "      <td>0.00</td>\n",
       "      <td>0.00</td>\n",
       "    </tr>\n",
       "    <tr>\n",
       "      <th>1</th>\n",
       "      <td>ABBEVILLE GENERAL HOSPITAL</td>\n",
       "      <td>LA</td>\n",
       "      <td>1.7</td>\n",
       "      <td>1.67</td>\n",
       "      <td>0.00</td>\n",
       "      <td>0.00</td>\n",
       "      <td>0.37</td>\n",
       "      <td>0.00</td>\n",
       "      <td>0.00</td>\n",
       "      <td>0.07</td>\n",
       "      <td>0.0</td>\n",
       "      <td>0.06</td>\n",
       "      <td>0.57</td>\n",
       "    </tr>\n",
       "    <tr>\n",
       "      <th>2</th>\n",
       "      <td>ABBOTT NORTHWESTERN HOSPITAL</td>\n",
       "      <td>MN</td>\n",
       "      <td>1.7</td>\n",
       "      <td>3.47</td>\n",
       "      <td>6.15</td>\n",
       "      <td>0.00</td>\n",
       "      <td>1.42</td>\n",
       "      <td>0.00</td>\n",
       "      <td>92.72</td>\n",
       "      <td>0.09</td>\n",
       "      <td>0.0</td>\n",
       "      <td>0.06</td>\n",
       "      <td>0.78</td>\n",
       "    </tr>\n",
       "    <tr>\n",
       "      <th>3</th>\n",
       "      <td>ABILENE REGIONAL MEDICAL CENTER</td>\n",
       "      <td>TX</td>\n",
       "      <td>2.0</td>\n",
       "      <td>0.17</td>\n",
       "      <td>0.00</td>\n",
       "      <td>0.00</td>\n",
       "      <td>0.27</td>\n",
       "      <td>0.00</td>\n",
       "      <td>92.17</td>\n",
       "      <td>0.12</td>\n",
       "      <td>0.0</td>\n",
       "      <td>0.06</td>\n",
       "      <td>0.36</td>\n",
       "    </tr>\n",
       "    <tr>\n",
       "      <th>4</th>\n",
       "      <td>ABINGTON MEMORIAL HOSPITAL</td>\n",
       "      <td>PA</td>\n",
       "      <td>3.3</td>\n",
       "      <td>6.51</td>\n",
       "      <td>4.19</td>\n",
       "      <td>1.53</td>\n",
       "      <td>0.75</td>\n",
       "      <td>0.51</td>\n",
       "      <td>117.66</td>\n",
       "      <td>0.09</td>\n",
       "      <td>0.0</td>\n",
       "      <td>0.06</td>\n",
       "      <td>0.91</td>\n",
       "    </tr>\n",
       "  </tbody>\n",
       "</table>\n",
       "</div>"
      ],
      "text/plain": [
       "                     Hospital Name State  COMP_HIP_KNEE_low  \\\n",
       "0    ABBEVILLE AREA MEDICAL CENTER    SC                1.7   \n",
       "1       ABBEVILLE GENERAL HOSPITAL    LA                1.7   \n",
       "2     ABBOTT NORTHWESTERN HOSPITAL    MN                1.7   \n",
       "3  ABILENE REGIONAL MEDICAL CENTER    TX                2.0   \n",
       "4       ABINGTON MEMORIAL HOSPITAL    PA                3.3   \n",
       "\n",
       "   PSI_12_POSTOP_PULMEMB_DVT_low  PSI_13_POST_SEPSIS_low  \\\n",
       "0                           0.00                    0.00   \n",
       "1                           1.67                    0.00   \n",
       "2                           3.47                    6.15   \n",
       "3                           0.17                    0.00   \n",
       "4                           6.51                    4.19   \n",
       "\n",
       "   PSI_14_POSTOP_DEHIS_low  PSI_15_ACC_LAC_low  PSI_3_ULCER_low  \\\n",
       "0                     0.00                0.00             0.00   \n",
       "1                     0.00                0.37             0.00   \n",
       "2                     0.00                1.42             0.00   \n",
       "3                     0.00                0.27             0.00   \n",
       "4                     1.53                0.75             0.51   \n",
       "\n",
       "   PSI_4_SURG_COMP_low  PSI_6_IAT_PTX_low  PSI_7_CVCBI_low  \\\n",
       "0                 0.00               0.00              0.0   \n",
       "1                 0.00               0.07              0.0   \n",
       "2                92.72               0.09              0.0   \n",
       "3                92.17               0.12              0.0   \n",
       "4               117.66               0.09              0.0   \n",
       "\n",
       "   PSI_8_POST_HIP_low  PSI_90_SAFETY_low  \n",
       "0                0.00               0.00  \n",
       "1                0.06               0.57  \n",
       "2                0.06               0.78  \n",
       "3                0.06               0.36  \n",
       "4                0.06               0.91  "
      ]
     },
     "execution_count": 163,
     "metadata": {},
     "output_type": "execute_result"
    }
   ],
   "source": [
    "comp_score_low_copy.head()"
   ]
  },
  {
   "cell_type": "code",
   "execution_count": 164,
   "metadata": {
    "collapsed": false
   },
   "outputs": [
    {
     "data": {
      "text/html": [
       "<div>\n",
       "<table border=\"1\" class=\"dataframe\">\n",
       "  <thead>\n",
       "    <tr style=\"text-align: right;\">\n",
       "      <th>Measure ID</th>\n",
       "      <th>Hospital Name</th>\n",
       "      <th>State</th>\n",
       "      <th>COMP_HIP_KNEE</th>\n",
       "      <th>PSI_12_POSTOP_PULMEMB_DVT</th>\n",
       "      <th>PSI_13_POST_SEPSIS</th>\n",
       "      <th>PSI_14_POSTOP_DEHIS</th>\n",
       "      <th>PSI_15_ACC_LAC</th>\n",
       "      <th>PSI_3_ULCER</th>\n",
       "      <th>PSI_4_SURG_COMP</th>\n",
       "      <th>PSI_6_IAT_PTX</th>\n",
       "      <th>PSI_7_CVCBI</th>\n",
       "      <th>PSI_8_POST_HIP</th>\n",
       "      <th>PSI_90_SAFETY</th>\n",
       "    </tr>\n",
       "  </thead>\n",
       "  <tbody>\n",
       "    <tr>\n",
       "      <th>0</th>\n",
       "      <td>ABBEVILLE AREA MEDICAL CENTER</td>\n",
       "      <td>SC</td>\n",
       "      <td>3.0</td>\n",
       "      <td>0.00</td>\n",
       "      <td>0.00</td>\n",
       "      <td>0.00</td>\n",
       "      <td>0.00</td>\n",
       "      <td>0.00</td>\n",
       "      <td>0.00</td>\n",
       "      <td>0.00</td>\n",
       "      <td>0.00</td>\n",
       "      <td>0.00</td>\n",
       "      <td>0.00</td>\n",
       "    </tr>\n",
       "    <tr>\n",
       "      <th>1</th>\n",
       "      <td>ABBEVILLE GENERAL HOSPITAL</td>\n",
       "      <td>LA</td>\n",
       "      <td>3.0</td>\n",
       "      <td>6.51</td>\n",
       "      <td>0.00</td>\n",
       "      <td>2.28</td>\n",
       "      <td>1.69</td>\n",
       "      <td>0.35</td>\n",
       "      <td>0.00</td>\n",
       "      <td>0.39</td>\n",
       "      <td>0.16</td>\n",
       "      <td>0.06</td>\n",
       "      <td>1.02</td>\n",
       "    </tr>\n",
       "    <tr>\n",
       "      <th>2</th>\n",
       "      <td>ABBOTT NORTHWESTERN HOSPITAL</td>\n",
       "      <td>MN</td>\n",
       "      <td>2.5</td>\n",
       "      <td>5.23</td>\n",
       "      <td>11.26</td>\n",
       "      <td>1.78</td>\n",
       "      <td>1.96</td>\n",
       "      <td>0.10</td>\n",
       "      <td>124.52</td>\n",
       "      <td>0.32</td>\n",
       "      <td>0.11</td>\n",
       "      <td>0.06</td>\n",
       "      <td>0.97</td>\n",
       "    </tr>\n",
       "    <tr>\n",
       "      <th>3</th>\n",
       "      <td>ABILENE REGIONAL MEDICAL CENTER</td>\n",
       "      <td>TX</td>\n",
       "      <td>3.1</td>\n",
       "      <td>3.43</td>\n",
       "      <td>6.36</td>\n",
       "      <td>2.21</td>\n",
       "      <td>1.17</td>\n",
       "      <td>0.16</td>\n",
       "      <td>138.47</td>\n",
       "      <td>0.40</td>\n",
       "      <td>0.12</td>\n",
       "      <td>0.06</td>\n",
       "      <td>0.67</td>\n",
       "    </tr>\n",
       "    <tr>\n",
       "      <th>4</th>\n",
       "      <td>ABINGTON MEMORIAL HOSPITAL</td>\n",
       "      <td>PA</td>\n",
       "      <td>4.3</td>\n",
       "      <td>8.47</td>\n",
       "      <td>10.30</td>\n",
       "      <td>3.59</td>\n",
       "      <td>1.29</td>\n",
       "      <td>1.09</td>\n",
       "      <td>153.64</td>\n",
       "      <td>0.32</td>\n",
       "      <td>0.13</td>\n",
       "      <td>0.06</td>\n",
       "      <td>1.10</td>\n",
       "    </tr>\n",
       "  </tbody>\n",
       "</table>\n",
       "</div>"
      ],
      "text/plain": [
       "Measure ID                    Hospital Name State  COMP_HIP_KNEE  \\\n",
       "0             ABBEVILLE AREA MEDICAL CENTER    SC            3.0   \n",
       "1                ABBEVILLE GENERAL HOSPITAL    LA            3.0   \n",
       "2              ABBOTT NORTHWESTERN HOSPITAL    MN            2.5   \n",
       "3           ABILENE REGIONAL MEDICAL CENTER    TX            3.1   \n",
       "4                ABINGTON MEMORIAL HOSPITAL    PA            4.3   \n",
       "\n",
       "Measure ID  PSI_12_POSTOP_PULMEMB_DVT  PSI_13_POST_SEPSIS  \\\n",
       "0                                0.00                0.00   \n",
       "1                                6.51                0.00   \n",
       "2                                5.23               11.26   \n",
       "3                                3.43                6.36   \n",
       "4                                8.47               10.30   \n",
       "\n",
       "Measure ID  PSI_14_POSTOP_DEHIS  PSI_15_ACC_LAC  PSI_3_ULCER  PSI_4_SURG_COMP  \\\n",
       "0                          0.00            0.00         0.00             0.00   \n",
       "1                          2.28            1.69         0.35             0.00   \n",
       "2                          1.78            1.96         0.10           124.52   \n",
       "3                          2.21            1.17         0.16           138.47   \n",
       "4                          3.59            1.29         1.09           153.64   \n",
       "\n",
       "Measure ID  PSI_6_IAT_PTX  PSI_7_CVCBI  PSI_8_POST_HIP  PSI_90_SAFETY  \n",
       "0                    0.00         0.00            0.00           0.00  \n",
       "1                    0.39         0.16            0.06           1.02  \n",
       "2                    0.32         0.11            0.06           0.97  \n",
       "3                    0.40         0.12            0.06           0.67  \n",
       "4                    0.32         0.13            0.06           1.10  "
      ]
     },
     "execution_count": 164,
     "metadata": {},
     "output_type": "execute_result"
    }
   ],
   "source": [
    "comp_score_copy.head()"
   ]
  },
  {
   "cell_type": "code",
   "execution_count": 165,
   "metadata": {
    "collapsed": false
   },
   "outputs": [
    {
     "name": "stdout",
     "output_type": "stream",
     "text": [
      "<class 'pandas.core.frame.DataFrame'>\n",
      "Int64Index: 3633 entries, 0 to 3632\n",
      "Data columns (total 15 columns):\n",
      "Hospital Name                3633 non-null object\n",
      "State                        3633 non-null object\n",
      "READM_30_HF                  3633 non-null float64\n",
      "norm                         3633 non-null float64\n",
      "COMP_HIP_KNEE                3633 non-null float64\n",
      "PSI_12_POSTOP_PULMEMB_DVT    3633 non-null float64\n",
      "PSI_13_POST_SEPSIS           3633 non-null float64\n",
      "PSI_14_POSTOP_DEHIS          3633 non-null float64\n",
      "PSI_15_ACC_LAC               3633 non-null float64\n",
      "PSI_3_ULCER                  3633 non-null float64\n",
      "PSI_4_SURG_COMP              3633 non-null float64\n",
      "PSI_6_IAT_PTX                3633 non-null float64\n",
      "PSI_7_CVCBI                  3633 non-null float64\n",
      "PSI_8_POST_HIP               3633 non-null float64\n",
      "PSI_90_SAFETY                3633 non-null float64\n",
      "dtypes: float64(13), object(2)\n",
      "memory usage: 454.1+ KB\n"
     ]
    }
   ],
   "source": [
    "#Just merging one by one and checking\n",
    "d = pd.merge(target_HF_copy, comp_score_copy, on=['Hospital Name', 'State'], how='inner')\n",
    "d.info()"
   ]
  },
  {
   "cell_type": "code",
   "execution_count": 166,
   "metadata": {
    "collapsed": false
   },
   "outputs": [
    {
     "name": "stdout",
     "output_type": "stream",
     "text": [
      "<class 'pandas.core.frame.DataFrame'>\n",
      "Int64Index: 3633 entries, 0 to 3632\n",
      "Data columns (total 26 columns):\n",
      "Hospital Name                    3633 non-null object\n",
      "State                            3633 non-null object\n",
      "READM_30_HF                      3633 non-null float64\n",
      "norm                             3633 non-null float64\n",
      "COMP_HIP_KNEE                    3633 non-null float64\n",
      "PSI_12_POSTOP_PULMEMB_DVT        3633 non-null float64\n",
      "PSI_13_POST_SEPSIS               3633 non-null float64\n",
      "PSI_14_POSTOP_DEHIS              3633 non-null float64\n",
      "PSI_15_ACC_LAC                   3633 non-null float64\n",
      "PSI_3_ULCER                      3633 non-null float64\n",
      "PSI_4_SURG_COMP                  3633 non-null float64\n",
      "PSI_6_IAT_PTX                    3633 non-null float64\n",
      "PSI_7_CVCBI                      3633 non-null float64\n",
      "PSI_8_POST_HIP                   3633 non-null float64\n",
      "PSI_90_SAFETY                    3633 non-null float64\n",
      "COMP_HIP_KNEE_low                3633 non-null float64\n",
      "PSI_12_POSTOP_PULMEMB_DVT_low    3633 non-null float64\n",
      "PSI_13_POST_SEPSIS_low           3633 non-null float64\n",
      "PSI_14_POSTOP_DEHIS_low          3633 non-null float64\n",
      "PSI_15_ACC_LAC_low               3633 non-null float64\n",
      "PSI_3_ULCER_low                  3633 non-null float64\n",
      "PSI_4_SURG_COMP_low              3633 non-null float64\n",
      "PSI_6_IAT_PTX_low                3633 non-null float64\n",
      "PSI_7_CVCBI_low                  3633 non-null float64\n",
      "PSI_8_POST_HIP_low               3633 non-null float64\n",
      "PSI_90_SAFETY_low                3633 non-null float64\n",
      "dtypes: float64(24), object(2)\n",
      "memory usage: 766.3+ KB\n"
     ]
    }
   ],
   "source": [
    "#Just merging one by one and checking\n",
    "d = pd.merge(d, comp_score_low_copy, on=['Hospital Name', 'State'], how='inner')\n",
    "d.info()"
   ]
  },
  {
   "cell_type": "code",
   "execution_count": 167,
   "metadata": {
    "collapsed": false
   },
   "outputs": [
    {
     "name": "stdout",
     "output_type": "stream",
     "text": [
      "<class 'pandas.core.frame.DataFrame'>\n",
      "Int64Index: 3633 entries, 0 to 3632\n",
      "Data columns (total 37 columns):\n",
      "Hospital Name                     3633 non-null object\n",
      "State                             3633 non-null object\n",
      "READM_30_HF                       3633 non-null float64\n",
      "norm                              3633 non-null float64\n",
      "COMP_HIP_KNEE                     3633 non-null float64\n",
      "PSI_12_POSTOP_PULMEMB_DVT         3633 non-null float64\n",
      "PSI_13_POST_SEPSIS                3633 non-null float64\n",
      "PSI_14_POSTOP_DEHIS               3633 non-null float64\n",
      "PSI_15_ACC_LAC                    3633 non-null float64\n",
      "PSI_3_ULCER                       3633 non-null float64\n",
      "PSI_4_SURG_COMP                   3633 non-null float64\n",
      "PSI_6_IAT_PTX                     3633 non-null float64\n",
      "PSI_7_CVCBI                       3633 non-null float64\n",
      "PSI_8_POST_HIP                    3633 non-null float64\n",
      "PSI_90_SAFETY                     3633 non-null float64\n",
      "COMP_HIP_KNEE_low                 3633 non-null float64\n",
      "PSI_12_POSTOP_PULMEMB_DVT_low     3633 non-null float64\n",
      "PSI_13_POST_SEPSIS_low            3633 non-null float64\n",
      "PSI_14_POSTOP_DEHIS_low           3633 non-null float64\n",
      "PSI_15_ACC_LAC_low                3633 non-null float64\n",
      "PSI_3_ULCER_low                   3633 non-null float64\n",
      "PSI_4_SURG_COMP_low               3633 non-null float64\n",
      "PSI_6_IAT_PTX_low                 3633 non-null float64\n",
      "PSI_7_CVCBI_low                   3633 non-null float64\n",
      "PSI_8_POST_HIP_low                3633 non-null float64\n",
      "PSI_90_SAFETY_low                 3633 non-null float64\n",
      "COMP_HIP_KNEE_high                3633 non-null float64\n",
      "PSI_12_POSTOP_PULMEMB_DVT_high    3633 non-null float64\n",
      "PSI_13_POST_SEPSIS_high           3633 non-null float64\n",
      "PSI_14_POSTOP_DEHIS_high          3633 non-null float64\n",
      "PSI_15_ACC_LAC_high               3633 non-null float64\n",
      "PSI_3_ULCER_high                  3633 non-null float64\n",
      "PSI_4_SURG_COMP_high              3633 non-null float64\n",
      "PSI_6_IAT_PTX_high                3633 non-null float64\n",
      "PSI_7_CVCBI_high                  3633 non-null float64\n",
      "PSI_8_POST_HIP_high               3633 non-null float64\n",
      "PSI_90_SAFETY_high                3633 non-null float64\n",
      "dtypes: float64(35), object(2)\n",
      "memory usage: 1.1+ MB\n"
     ]
    }
   ],
   "source": [
    "d = pd.merge(d, comp_score_high_copy, on=['Hospital Name','State'], how='inner', copy=True)\n",
    "d.info()"
   ]
  },
  {
   "cell_type": "code",
   "execution_count": 168,
   "metadata": {
    "collapsed": true
   },
   "outputs": [],
   "source": [
    "## just names of all the feature tables\n",
    "#comp_score_copy, comp_score_high_copy, comp_score_low_copy, spending_in_pivot_copy, \n",
    "         #spending_out_pivot_copy, pay_pay_copy, pay_low_copy, pay_high_copy, reduc_copy"
   ]
  },
  {
   "cell_type": "code",
   "execution_count": 169,
   "metadata": {
    "collapsed": false
   },
   "outputs": [
    {
     "name": "stdout",
     "output_type": "stream",
     "text": [
      "<class 'pandas.core.frame.DataFrame'>\n",
      "Int64Index: 2423 entries, 0 to 2422\n",
      "Data columns (total 40 columns):\n",
      "Hospital Name                                                                2423 non-null object\n",
      "State                                                                        2423 non-null object\n",
      "READM_30_HF                                                                  2423 non-null float64\n",
      "norm                                                                         2423 non-null float64\n",
      "COMP_HIP_KNEE                                                                2423 non-null float64\n",
      "PSI_12_POSTOP_PULMEMB_DVT                                                    2423 non-null float64\n",
      "PSI_13_POST_SEPSIS                                                           2423 non-null float64\n",
      "PSI_14_POSTOP_DEHIS                                                          2423 non-null float64\n",
      "PSI_15_ACC_LAC                                                               2423 non-null float64\n",
      "PSI_3_ULCER                                                                  2423 non-null float64\n",
      "PSI_4_SURG_COMP                                                              2423 non-null float64\n",
      "PSI_6_IAT_PTX                                                                2423 non-null float64\n",
      "PSI_7_CVCBI                                                                  2423 non-null float64\n",
      "PSI_8_POST_HIP                                                               2423 non-null float64\n",
      "PSI_90_SAFETY                                                                2423 non-null float64\n",
      "COMP_HIP_KNEE_low                                                            2423 non-null float64\n",
      "PSI_12_POSTOP_PULMEMB_DVT_low                                                2423 non-null float64\n",
      "PSI_13_POST_SEPSIS_low                                                       2423 non-null float64\n",
      "PSI_14_POSTOP_DEHIS_low                                                      2423 non-null float64\n",
      "PSI_15_ACC_LAC_low                                                           2423 non-null float64\n",
      "PSI_3_ULCER_low                                                              2423 non-null float64\n",
      "PSI_4_SURG_COMP_low                                                          2423 non-null float64\n",
      "PSI_6_IAT_PTX_low                                                            2423 non-null float64\n",
      "PSI_7_CVCBI_low                                                              2423 non-null float64\n",
      "PSI_8_POST_HIP_low                                                           2423 non-null float64\n",
      "PSI_90_SAFETY_low                                                            2423 non-null float64\n",
      "COMP_HIP_KNEE_high                                                           2423 non-null float64\n",
      "PSI_12_POSTOP_PULMEMB_DVT_high                                               2423 non-null float64\n",
      "PSI_13_POST_SEPSIS_high                                                      2423 non-null float64\n",
      "PSI_14_POSTOP_DEHIS_high                                                     2423 non-null float64\n",
      "PSI_15_ACC_LAC_high                                                          2423 non-null float64\n",
      "PSI_3_ULCER_high                                                             2423 non-null float64\n",
      "PSI_4_SURG_COMP_high                                                         2423 non-null float64\n",
      "PSI_6_IAT_PTX_high                                                           2423 non-null float64\n",
      "PSI_7_CVCBI_high                                                             2423 non-null float64\n",
      "PSI_8_POST_HIP_high                                                          2423 non-null float64\n",
      "PSI_90_SAFETY_high                                                           2423 non-null float64\n",
      "1 through 30 days After Discharge from Index Hospital Admission_inpatient    2423 non-null float64\n",
      "1 to 3 days Prior to Index Hospital Admission_inpatient                      2423 non-null float64\n",
      "During Index Hospital Admission_inpatient                                    2423 non-null float64\n",
      "dtypes: float64(38), object(2)\n",
      "memory usage: 776.1+ KB\n"
     ]
    }
   ],
   "source": [
    "d = pd.merge(d, spending_in_pivot_copy, on=['Hospital Name','State'], how='inner', copy=True)\n",
    "d.info()"
   ]
  },
  {
   "cell_type": "code",
   "execution_count": 170,
   "metadata": {
    "collapsed": false
   },
   "outputs": [
    {
     "name": "stdout",
     "output_type": "stream",
     "text": [
      "<class 'pandas.core.frame.DataFrame'>\n",
      "Int64Index: 2423 entries, 0 to 2422\n",
      "Data columns (total 42 columns):\n",
      "Hospital Name                                                                 2423 non-null object\n",
      "State                                                                         2423 non-null object\n",
      "READM_30_HF                                                                   2423 non-null float64\n",
      "norm                                                                          2423 non-null float64\n",
      "COMP_HIP_KNEE                                                                 2423 non-null float64\n",
      "PSI_12_POSTOP_PULMEMB_DVT                                                     2423 non-null float64\n",
      "PSI_13_POST_SEPSIS                                                            2423 non-null float64\n",
      "PSI_14_POSTOP_DEHIS                                                           2423 non-null float64\n",
      "PSI_15_ACC_LAC                                                                2423 non-null float64\n",
      "PSI_3_ULCER                                                                   2423 non-null float64\n",
      "PSI_4_SURG_COMP                                                               2423 non-null float64\n",
      "PSI_6_IAT_PTX                                                                 2423 non-null float64\n",
      "PSI_7_CVCBI                                                                   2423 non-null float64\n",
      "PSI_8_POST_HIP                                                                2423 non-null float64\n",
      "PSI_90_SAFETY                                                                 2423 non-null float64\n",
      "COMP_HIP_KNEE_low                                                             2423 non-null float64\n",
      "PSI_12_POSTOP_PULMEMB_DVT_low                                                 2423 non-null float64\n",
      "PSI_13_POST_SEPSIS_low                                                        2423 non-null float64\n",
      "PSI_14_POSTOP_DEHIS_low                                                       2423 non-null float64\n",
      "PSI_15_ACC_LAC_low                                                            2423 non-null float64\n",
      "PSI_3_ULCER_low                                                               2423 non-null float64\n",
      "PSI_4_SURG_COMP_low                                                           2423 non-null float64\n",
      "PSI_6_IAT_PTX_low                                                             2423 non-null float64\n",
      "PSI_7_CVCBI_low                                                               2423 non-null float64\n",
      "PSI_8_POST_HIP_low                                                            2423 non-null float64\n",
      "PSI_90_SAFETY_low                                                             2423 non-null float64\n",
      "COMP_HIP_KNEE_high                                                            2423 non-null float64\n",
      "PSI_12_POSTOP_PULMEMB_DVT_high                                                2423 non-null float64\n",
      "PSI_13_POST_SEPSIS_high                                                       2423 non-null float64\n",
      "PSI_14_POSTOP_DEHIS_high                                                      2423 non-null float64\n",
      "PSI_15_ACC_LAC_high                                                           2423 non-null float64\n",
      "PSI_3_ULCER_high                                                              2423 non-null float64\n",
      "PSI_4_SURG_COMP_high                                                          2423 non-null float64\n",
      "PSI_6_IAT_PTX_high                                                            2423 non-null float64\n",
      "PSI_7_CVCBI_high                                                              2423 non-null float64\n",
      "PSI_8_POST_HIP_high                                                           2423 non-null float64\n",
      "PSI_90_SAFETY_high                                                            2423 non-null float64\n",
      "1 through 30 days After Discharge from Index Hospital Admission_inpatient     2423 non-null float64\n",
      "1 to 3 days Prior to Index Hospital Admission_inpatient                       2423 non-null float64\n",
      "During Index Hospital Admission_inpatient                                     2423 non-null float64\n",
      "1 through 30 days After Discharge from Index Hospital Admission_outpatient    2423 non-null float64\n",
      "1 to 3 days Prior to Index Hospital Admission_outpatient                      2423 non-null float64\n",
      "dtypes: float64(40), object(2)\n",
      "memory usage: 814.0+ KB\n"
     ]
    }
   ],
   "source": [
    "d = pd.merge(d, spending_out_pivot_copy, on=['Hospital Name','State'], how='inner', copy=True)\n",
    "d.info()"
   ]
  },
  {
   "cell_type": "code",
   "execution_count": 171,
   "metadata": {
    "collapsed": false
   },
   "outputs": [
    {
     "name": "stdout",
     "output_type": "stream",
     "text": [
      "<class 'pandas.core.frame.DataFrame'>\n",
      "Int64Index: 2431 entries, 0 to 2430\n",
      "Data columns (total 48 columns):\n",
      "Hospital Name                                                                 2431 non-null object\n",
      "State                                                                         2431 non-null object\n",
      "READM_30_HF                                                                   2431 non-null float64\n",
      "norm                                                                          2431 non-null float64\n",
      "COMP_HIP_KNEE                                                                 2431 non-null float64\n",
      "PSI_12_POSTOP_PULMEMB_DVT                                                     2431 non-null float64\n",
      "PSI_13_POST_SEPSIS                                                            2431 non-null float64\n",
      "PSI_14_POSTOP_DEHIS                                                           2431 non-null float64\n",
      "PSI_15_ACC_LAC                                                                2431 non-null float64\n",
      "PSI_3_ULCER                                                                   2431 non-null float64\n",
      "PSI_4_SURG_COMP                                                               2431 non-null float64\n",
      "PSI_6_IAT_PTX                                                                 2431 non-null float64\n",
      "PSI_7_CVCBI                                                                   2431 non-null float64\n",
      "PSI_8_POST_HIP                                                                2431 non-null float64\n",
      "PSI_90_SAFETY                                                                 2431 non-null float64\n",
      "COMP_HIP_KNEE_low                                                             2431 non-null float64\n",
      "PSI_12_POSTOP_PULMEMB_DVT_low                                                 2431 non-null float64\n",
      "PSI_13_POST_SEPSIS_low                                                        2431 non-null float64\n",
      "PSI_14_POSTOP_DEHIS_low                                                       2431 non-null float64\n",
      "PSI_15_ACC_LAC_low                                                            2431 non-null float64\n",
      "PSI_3_ULCER_low                                                               2431 non-null float64\n",
      "PSI_4_SURG_COMP_low                                                           2431 non-null float64\n",
      "PSI_6_IAT_PTX_low                                                             2431 non-null float64\n",
      "PSI_7_CVCBI_low                                                               2431 non-null float64\n",
      "PSI_8_POST_HIP_low                                                            2431 non-null float64\n",
      "PSI_90_SAFETY_low                                                             2431 non-null float64\n",
      "COMP_HIP_KNEE_high                                                            2431 non-null float64\n",
      "PSI_12_POSTOP_PULMEMB_DVT_high                                                2431 non-null float64\n",
      "PSI_13_POST_SEPSIS_high                                                       2431 non-null float64\n",
      "PSI_14_POSTOP_DEHIS_high                                                      2431 non-null float64\n",
      "PSI_15_ACC_LAC_high                                                           2431 non-null float64\n",
      "PSI_3_ULCER_high                                                              2431 non-null float64\n",
      "PSI_4_SURG_COMP_high                                                          2431 non-null float64\n",
      "PSI_6_IAT_PTX_high                                                            2431 non-null float64\n",
      "PSI_7_CVCBI_high                                                              2431 non-null float64\n",
      "PSI_8_POST_HIP_high                                                           2431 non-null float64\n",
      "PSI_90_SAFETY_high                                                            2431 non-null float64\n",
      "1 through 30 days After Discharge from Index Hospital Admission_inpatient     2431 non-null float64\n",
      "1 to 3 days Prior to Index Hospital Admission_inpatient                       2431 non-null float64\n",
      "During Index Hospital Admission_inpatient                                     2431 non-null float64\n",
      "1 through 30 days After Discharge from Index Hospital Admission_outpatient    2431 non-null float64\n",
      "1 to 3 days Prior to Index Hospital Admission_outpatient                      2431 non-null float64\n",
      "AHRQ_PSI_90_Score                                                             2431 non-null float64\n",
      "CLABSI_Score                                                                  2431 non-null float64\n",
      "CAUTI_Score                                                                   2431 non-null float64\n",
      "SSI_Score                                                                     2431 non-null float64\n",
      "MRSA_Score                                                                    2431 non-null float64\n",
      "CDI_Score                                                                     2431 non-null float64\n",
      "dtypes: float64(46), object(2)\n",
      "memory usage: 930.6+ KB\n"
     ]
    }
   ],
   "source": [
    "d = pd.merge(d, reduc_copy, on=['Hospital Name','State'], how='inner', copy=True)\n",
    "d.info()"
   ]
  },
  {
   "cell_type": "code",
   "execution_count": 172,
   "metadata": {
    "collapsed": false
   },
   "outputs": [
    {
     "name": "stdout",
     "output_type": "stream",
     "text": [
      "<class 'pandas.core.frame.DataFrame'>\n",
      "Int64Index: 2431 entries, 0 to 2430\n",
      "Data columns (total 51 columns):\n",
      "Hospital Name                                                                 2431 non-null object\n",
      "State                                                                         2431 non-null object\n",
      "READM_30_HF                                                                   2431 non-null float64\n",
      "norm                                                                          2431 non-null float64\n",
      "COMP_HIP_KNEE                                                                 2431 non-null float64\n",
      "PSI_12_POSTOP_PULMEMB_DVT                                                     2431 non-null float64\n",
      "PSI_13_POST_SEPSIS                                                            2431 non-null float64\n",
      "PSI_14_POSTOP_DEHIS                                                           2431 non-null float64\n",
      "PSI_15_ACC_LAC                                                                2431 non-null float64\n",
      "PSI_3_ULCER                                                                   2431 non-null float64\n",
      "PSI_4_SURG_COMP                                                               2431 non-null float64\n",
      "PSI_6_IAT_PTX                                                                 2431 non-null float64\n",
      "PSI_7_CVCBI                                                                   2431 non-null float64\n",
      "PSI_8_POST_HIP                                                                2431 non-null float64\n",
      "PSI_90_SAFETY                                                                 2431 non-null float64\n",
      "COMP_HIP_KNEE_low                                                             2431 non-null float64\n",
      "PSI_12_POSTOP_PULMEMB_DVT_low                                                 2431 non-null float64\n",
      "PSI_13_POST_SEPSIS_low                                                        2431 non-null float64\n",
      "PSI_14_POSTOP_DEHIS_low                                                       2431 non-null float64\n",
      "PSI_15_ACC_LAC_low                                                            2431 non-null float64\n",
      "PSI_3_ULCER_low                                                               2431 non-null float64\n",
      "PSI_4_SURG_COMP_low                                                           2431 non-null float64\n",
      "PSI_6_IAT_PTX_low                                                             2431 non-null float64\n",
      "PSI_7_CVCBI_low                                                               2431 non-null float64\n",
      "PSI_8_POST_HIP_low                                                            2431 non-null float64\n",
      "PSI_90_SAFETY_low                                                             2431 non-null float64\n",
      "COMP_HIP_KNEE_high                                                            2431 non-null float64\n",
      "PSI_12_POSTOP_PULMEMB_DVT_high                                                2431 non-null float64\n",
      "PSI_13_POST_SEPSIS_high                                                       2431 non-null float64\n",
      "PSI_14_POSTOP_DEHIS_high                                                      2431 non-null float64\n",
      "PSI_15_ACC_LAC_high                                                           2431 non-null float64\n",
      "PSI_3_ULCER_high                                                              2431 non-null float64\n",
      "PSI_4_SURG_COMP_high                                                          2431 non-null float64\n",
      "PSI_6_IAT_PTX_high                                                            2431 non-null float64\n",
      "PSI_7_CVCBI_high                                                              2431 non-null float64\n",
      "PSI_8_POST_HIP_high                                                           2431 non-null float64\n",
      "PSI_90_SAFETY_high                                                            2431 non-null float64\n",
      "1 through 30 days After Discharge from Index Hospital Admission_inpatient     2431 non-null float64\n",
      "1 to 3 days Prior to Index Hospital Admission_inpatient                       2431 non-null float64\n",
      "During Index Hospital Admission_inpatient                                     2431 non-null float64\n",
      "1 through 30 days After Discharge from Index Hospital Admission_outpatient    2431 non-null float64\n",
      "1 to 3 days Prior to Index Hospital Admission_outpatient                      2431 non-null float64\n",
      "AHRQ_PSI_90_Score                                                             2431 non-null float64\n",
      "CLABSI_Score                                                                  2431 non-null float64\n",
      "CAUTI_Score                                                                   2431 non-null float64\n",
      "SSI_Score                                                                     2431 non-null float64\n",
      "MRSA_Score                                                                    2431 non-null float64\n",
      "CDI_Score                                                                     2431 non-null float64\n",
      "PAYM_30_AMI                                                                   2431 non-null float64\n",
      "PAYM_30_HF                                                                    2431 non-null float64\n",
      "PAYM_30_PN                                                                    2431 non-null float64\n",
      "dtypes: float64(49), object(2)\n",
      "memory usage: 987.6+ KB\n"
     ]
    }
   ],
   "source": [
    "d = pd.merge(d, pay_pay_copy, on=['Hospital Name','State'], how='inner', copy=True)\n",
    "d.info()"
   ]
  },
  {
   "cell_type": "code",
   "execution_count": 173,
   "metadata": {
    "collapsed": false
   },
   "outputs": [
    {
     "name": "stdout",
     "output_type": "stream",
     "text": [
      "<class 'pandas.core.frame.DataFrame'>\n",
      "Int64Index: 2431 entries, 0 to 2430\n",
      "Data columns (total 54 columns):\n",
      "Hospital Name                                                                 2431 non-null object\n",
      "State                                                                         2431 non-null object\n",
      "READM_30_HF                                                                   2431 non-null float64\n",
      "norm                                                                          2431 non-null float64\n",
      "COMP_HIP_KNEE                                                                 2431 non-null float64\n",
      "PSI_12_POSTOP_PULMEMB_DVT                                                     2431 non-null float64\n",
      "PSI_13_POST_SEPSIS                                                            2431 non-null float64\n",
      "PSI_14_POSTOP_DEHIS                                                           2431 non-null float64\n",
      "PSI_15_ACC_LAC                                                                2431 non-null float64\n",
      "PSI_3_ULCER                                                                   2431 non-null float64\n",
      "PSI_4_SURG_COMP                                                               2431 non-null float64\n",
      "PSI_6_IAT_PTX                                                                 2431 non-null float64\n",
      "PSI_7_CVCBI                                                                   2431 non-null float64\n",
      "PSI_8_POST_HIP                                                                2431 non-null float64\n",
      "PSI_90_SAFETY                                                                 2431 non-null float64\n",
      "COMP_HIP_KNEE_low                                                             2431 non-null float64\n",
      "PSI_12_POSTOP_PULMEMB_DVT_low                                                 2431 non-null float64\n",
      "PSI_13_POST_SEPSIS_low                                                        2431 non-null float64\n",
      "PSI_14_POSTOP_DEHIS_low                                                       2431 non-null float64\n",
      "PSI_15_ACC_LAC_low                                                            2431 non-null float64\n",
      "PSI_3_ULCER_low                                                               2431 non-null float64\n",
      "PSI_4_SURG_COMP_low                                                           2431 non-null float64\n",
      "PSI_6_IAT_PTX_low                                                             2431 non-null float64\n",
      "PSI_7_CVCBI_low                                                               2431 non-null float64\n",
      "PSI_8_POST_HIP_low                                                            2431 non-null float64\n",
      "PSI_90_SAFETY_low                                                             2431 non-null float64\n",
      "COMP_HIP_KNEE_high                                                            2431 non-null float64\n",
      "PSI_12_POSTOP_PULMEMB_DVT_high                                                2431 non-null float64\n",
      "PSI_13_POST_SEPSIS_high                                                       2431 non-null float64\n",
      "PSI_14_POSTOP_DEHIS_high                                                      2431 non-null float64\n",
      "PSI_15_ACC_LAC_high                                                           2431 non-null float64\n",
      "PSI_3_ULCER_high                                                              2431 non-null float64\n",
      "PSI_4_SURG_COMP_high                                                          2431 non-null float64\n",
      "PSI_6_IAT_PTX_high                                                            2431 non-null float64\n",
      "PSI_7_CVCBI_high                                                              2431 non-null float64\n",
      "PSI_8_POST_HIP_high                                                           2431 non-null float64\n",
      "PSI_90_SAFETY_high                                                            2431 non-null float64\n",
      "1 through 30 days After Discharge from Index Hospital Admission_inpatient     2431 non-null float64\n",
      "1 to 3 days Prior to Index Hospital Admission_inpatient                       2431 non-null float64\n",
      "During Index Hospital Admission_inpatient                                     2431 non-null float64\n",
      "1 through 30 days After Discharge from Index Hospital Admission_outpatient    2431 non-null float64\n",
      "1 to 3 days Prior to Index Hospital Admission_outpatient                      2431 non-null float64\n",
      "AHRQ_PSI_90_Score                                                             2431 non-null float64\n",
      "CLABSI_Score                                                                  2431 non-null float64\n",
      "CAUTI_Score                                                                   2431 non-null float64\n",
      "SSI_Score                                                                     2431 non-null float64\n",
      "MRSA_Score                                                                    2431 non-null float64\n",
      "CDI_Score                                                                     2431 non-null float64\n",
      "PAYM_30_AMI                                                                   2431 non-null float64\n",
      "PAYM_30_HF                                                                    2431 non-null float64\n",
      "PAYM_30_PN                                                                    2431 non-null float64\n",
      "PAYM_30_AMI_low                                                               2431 non-null float64\n",
      "PAYM_30_HF_low                                                                2431 non-null float64\n",
      "PAYM_30_PN_low                                                                2431 non-null float64\n",
      "dtypes: float64(52), object(2)\n",
      "memory usage: 1.0+ MB\n"
     ]
    }
   ],
   "source": [
    "d = pd.merge(d, pay_low_copy, on=['Hospital Name','State'], how='inner', copy=True)\n",
    "d.info()"
   ]
  },
  {
   "cell_type": "code",
   "execution_count": 174,
   "metadata": {
    "collapsed": false
   },
   "outputs": [
    {
     "name": "stdout",
     "output_type": "stream",
     "text": [
      "<class 'pandas.core.frame.DataFrame'>\n",
      "Int64Index: 2431 entries, 0 to 2430\n",
      "Data columns (total 57 columns):\n",
      "Hospital Name                                                                 2431 non-null object\n",
      "State                                                                         2431 non-null object\n",
      "READM_30_HF                                                                   2431 non-null float64\n",
      "norm                                                                          2431 non-null float64\n",
      "COMP_HIP_KNEE                                                                 2431 non-null float64\n",
      "PSI_12_POSTOP_PULMEMB_DVT                                                     2431 non-null float64\n",
      "PSI_13_POST_SEPSIS                                                            2431 non-null float64\n",
      "PSI_14_POSTOP_DEHIS                                                           2431 non-null float64\n",
      "PSI_15_ACC_LAC                                                                2431 non-null float64\n",
      "PSI_3_ULCER                                                                   2431 non-null float64\n",
      "PSI_4_SURG_COMP                                                               2431 non-null float64\n",
      "PSI_6_IAT_PTX                                                                 2431 non-null float64\n",
      "PSI_7_CVCBI                                                                   2431 non-null float64\n",
      "PSI_8_POST_HIP                                                                2431 non-null float64\n",
      "PSI_90_SAFETY                                                                 2431 non-null float64\n",
      "COMP_HIP_KNEE_low                                                             2431 non-null float64\n",
      "PSI_12_POSTOP_PULMEMB_DVT_low                                                 2431 non-null float64\n",
      "PSI_13_POST_SEPSIS_low                                                        2431 non-null float64\n",
      "PSI_14_POSTOP_DEHIS_low                                                       2431 non-null float64\n",
      "PSI_15_ACC_LAC_low                                                            2431 non-null float64\n",
      "PSI_3_ULCER_low                                                               2431 non-null float64\n",
      "PSI_4_SURG_COMP_low                                                           2431 non-null float64\n",
      "PSI_6_IAT_PTX_low                                                             2431 non-null float64\n",
      "PSI_7_CVCBI_low                                                               2431 non-null float64\n",
      "PSI_8_POST_HIP_low                                                            2431 non-null float64\n",
      "PSI_90_SAFETY_low                                                             2431 non-null float64\n",
      "COMP_HIP_KNEE_high                                                            2431 non-null float64\n",
      "PSI_12_POSTOP_PULMEMB_DVT_high                                                2431 non-null float64\n",
      "PSI_13_POST_SEPSIS_high                                                       2431 non-null float64\n",
      "PSI_14_POSTOP_DEHIS_high                                                      2431 non-null float64\n",
      "PSI_15_ACC_LAC_high                                                           2431 non-null float64\n",
      "PSI_3_ULCER_high                                                              2431 non-null float64\n",
      "PSI_4_SURG_COMP_high                                                          2431 non-null float64\n",
      "PSI_6_IAT_PTX_high                                                            2431 non-null float64\n",
      "PSI_7_CVCBI_high                                                              2431 non-null float64\n",
      "PSI_8_POST_HIP_high                                                           2431 non-null float64\n",
      "PSI_90_SAFETY_high                                                            2431 non-null float64\n",
      "1 through 30 days After Discharge from Index Hospital Admission_inpatient     2431 non-null float64\n",
      "1 to 3 days Prior to Index Hospital Admission_inpatient                       2431 non-null float64\n",
      "During Index Hospital Admission_inpatient                                     2431 non-null float64\n",
      "1 through 30 days After Discharge from Index Hospital Admission_outpatient    2431 non-null float64\n",
      "1 to 3 days Prior to Index Hospital Admission_outpatient                      2431 non-null float64\n",
      "AHRQ_PSI_90_Score                                                             2431 non-null float64\n",
      "CLABSI_Score                                                                  2431 non-null float64\n",
      "CAUTI_Score                                                                   2431 non-null float64\n",
      "SSI_Score                                                                     2431 non-null float64\n",
      "MRSA_Score                                                                    2431 non-null float64\n",
      "CDI_Score                                                                     2431 non-null float64\n",
      "PAYM_30_AMI                                                                   2431 non-null float64\n",
      "PAYM_30_HF                                                                    2431 non-null float64\n",
      "PAYM_30_PN                                                                    2431 non-null float64\n",
      "PAYM_30_AMI_low                                                               2431 non-null float64\n",
      "PAYM_30_HF_low                                                                2431 non-null float64\n",
      "PAYM_30_PN_low                                                                2431 non-null float64\n",
      "PAYM_30_AMI_high                                                              2431 non-null float64\n",
      "PAYM_30_HF_high                                                               2431 non-null float64\n",
      "PAYM_30_PN_high                                                               2431 non-null float64\n",
      "dtypes: float64(55), object(2)\n",
      "memory usage: 1.1+ MB\n"
     ]
    }
   ],
   "source": [
    "d = pd.merge(d, pay_high_copy, on=['Hospital Name','State'], how='inner', copy=True)\n",
    "d.info()"
   ]
  },
  {
   "cell_type": "code",
   "execution_count": 175,
   "metadata": {
    "collapsed": false
   },
   "outputs": [
    {
     "name": "stdout",
     "output_type": "stream",
     "text": [
      "<class 'pandas.core.frame.DataFrame'>\n",
      "Int64Index: 2431 entries, 0 to 2430\n",
      "Data columns (total 65 columns):\n",
      "Hospital Name                                                                 2431 non-null object\n",
      "State                                                                         2431 non-null object\n",
      "READM_30_HF                                                                   2431 non-null float64\n",
      "norm                                                                          2431 non-null float64\n",
      "COMP_HIP_KNEE                                                                 2431 non-null float64\n",
      "PSI_12_POSTOP_PULMEMB_DVT                                                     2431 non-null float64\n",
      "PSI_13_POST_SEPSIS                                                            2431 non-null float64\n",
      "PSI_14_POSTOP_DEHIS                                                           2431 non-null float64\n",
      "PSI_15_ACC_LAC                                                                2431 non-null float64\n",
      "PSI_3_ULCER                                                                   2431 non-null float64\n",
      "PSI_4_SURG_COMP                                                               2431 non-null float64\n",
      "PSI_6_IAT_PTX                                                                 2431 non-null float64\n",
      "PSI_7_CVCBI                                                                   2431 non-null float64\n",
      "PSI_8_POST_HIP                                                                2431 non-null float64\n",
      "PSI_90_SAFETY                                                                 2431 non-null float64\n",
      "COMP_HIP_KNEE_low                                                             2431 non-null float64\n",
      "PSI_12_POSTOP_PULMEMB_DVT_low                                                 2431 non-null float64\n",
      "PSI_13_POST_SEPSIS_low                                                        2431 non-null float64\n",
      "PSI_14_POSTOP_DEHIS_low                                                       2431 non-null float64\n",
      "PSI_15_ACC_LAC_low                                                            2431 non-null float64\n",
      "PSI_3_ULCER_low                                                               2431 non-null float64\n",
      "PSI_4_SURG_COMP_low                                                           2431 non-null float64\n",
      "PSI_6_IAT_PTX_low                                                             2431 non-null float64\n",
      "PSI_7_CVCBI_low                                                               2431 non-null float64\n",
      "PSI_8_POST_HIP_low                                                            2431 non-null float64\n",
      "PSI_90_SAFETY_low                                                             2431 non-null float64\n",
      "COMP_HIP_KNEE_high                                                            2431 non-null float64\n",
      "PSI_12_POSTOP_PULMEMB_DVT_high                                                2431 non-null float64\n",
      "PSI_13_POST_SEPSIS_high                                                       2431 non-null float64\n",
      "PSI_14_POSTOP_DEHIS_high                                                      2431 non-null float64\n",
      "PSI_15_ACC_LAC_high                                                           2431 non-null float64\n",
      "PSI_3_ULCER_high                                                              2431 non-null float64\n",
      "PSI_4_SURG_COMP_high                                                          2431 non-null float64\n",
      "PSI_6_IAT_PTX_high                                                            2431 non-null float64\n",
      "PSI_7_CVCBI_high                                                              2431 non-null float64\n",
      "PSI_8_POST_HIP_high                                                           2431 non-null float64\n",
      "PSI_90_SAFETY_high                                                            2431 non-null float64\n",
      "1 through 30 days After Discharge from Index Hospital Admission_inpatient     2431 non-null float64\n",
      "1 to 3 days Prior to Index Hospital Admission_inpatient                       2431 non-null float64\n",
      "During Index Hospital Admission_inpatient                                     2431 non-null float64\n",
      "1 through 30 days After Discharge from Index Hospital Admission_outpatient    2431 non-null float64\n",
      "1 to 3 days Prior to Index Hospital Admission_outpatient                      2431 non-null float64\n",
      "AHRQ_PSI_90_Score                                                             2431 non-null float64\n",
      "CLABSI_Score                                                                  2431 non-null float64\n",
      "CAUTI_Score                                                                   2431 non-null float64\n",
      "SSI_Score                                                                     2431 non-null float64\n",
      "MRSA_Score                                                                    2431 non-null float64\n",
      "CDI_Score                                                                     2431 non-null float64\n",
      "PAYM_30_AMI                                                                   2431 non-null float64\n",
      "PAYM_30_HF                                                                    2431 non-null float64\n",
      "PAYM_30_PN                                                                    2431 non-null float64\n",
      "PAYM_30_AMI_low                                                               2431 non-null float64\n",
      "PAYM_30_HF_low                                                                2431 non-null float64\n",
      "PAYM_30_PN_low                                                                2431 non-null float64\n",
      "PAYM_30_AMI_high                                                              2431 non-null float64\n",
      "PAYM_30_HF_high                                                               2431 non-null float64\n",
      "PAYM_30_PN_high                                                               2431 non-null float64\n",
      "H_COMP_1_STAR_RATING                                                          2431 non-null float64\n",
      "H_COMP_2_STAR_RATING                                                          2431 non-null float64\n",
      "H_COMP_3_STAR_RATING                                                          2431 non-null float64\n",
      "H_COMP_4_STAR_RATING                                                          2431 non-null float64\n",
      "H_COMP_5_STAR_RATING                                                          2431 non-null float64\n",
      "H_COMP_6_STAR_RATING                                                          2431 non-null float64\n",
      "H_COMP_7_STAR_RATING                                                          2431 non-null float64\n",
      "H_RECMND_STAR_RATING                                                          2431 non-null float64\n",
      "dtypes: float64(63), object(2)\n",
      "memory usage: 1.2+ MB\n"
     ]
    }
   ],
   "source": [
    "features = pd.merge(d, surveys_pivot_copy, on=['Hospital Name','State'], how='inner', copy=True)\n",
    "features.info()"
   ]
  },
  {
   "cell_type": "code",
   "execution_count": 176,
   "metadata": {
    "collapsed": false
   },
   "outputs": [
    {
     "data": {
      "text/html": [
       "<div>\n",
       "<table border=\"1\" class=\"dataframe\">\n",
       "  <thead>\n",
       "    <tr style=\"text-align: right;\">\n",
       "      <th></th>\n",
       "      <th>Hospital Name</th>\n",
       "      <th>State</th>\n",
       "      <th>READM_30_HF</th>\n",
       "      <th>norm</th>\n",
       "      <th>COMP_HIP_KNEE</th>\n",
       "      <th>PSI_12_POSTOP_PULMEMB_DVT</th>\n",
       "      <th>PSI_13_POST_SEPSIS</th>\n",
       "      <th>PSI_14_POSTOP_DEHIS</th>\n",
       "      <th>PSI_15_ACC_LAC</th>\n",
       "      <th>PSI_3_ULCER</th>\n",
       "      <th>...</th>\n",
       "      <th>PAYM_30_HF_high</th>\n",
       "      <th>PAYM_30_PN_high</th>\n",
       "      <th>H_COMP_1_STAR_RATING</th>\n",
       "      <th>H_COMP_2_STAR_RATING</th>\n",
       "      <th>H_COMP_3_STAR_RATING</th>\n",
       "      <th>H_COMP_4_STAR_RATING</th>\n",
       "      <th>H_COMP_5_STAR_RATING</th>\n",
       "      <th>H_COMP_6_STAR_RATING</th>\n",
       "      <th>H_COMP_7_STAR_RATING</th>\n",
       "      <th>H_RECMND_STAR_RATING</th>\n",
       "    </tr>\n",
       "  </thead>\n",
       "  <tbody>\n",
       "    <tr>\n",
       "      <th>0</th>\n",
       "      <td>ABBEVILLE GENERAL HOSPITAL</td>\n",
       "      <td>LA</td>\n",
       "      <td>24.6</td>\n",
       "      <td>1.769519</td>\n",
       "      <td>3.0</td>\n",
       "      <td>6.51</td>\n",
       "      <td>0.00</td>\n",
       "      <td>2.28</td>\n",
       "      <td>1.69</td>\n",
       "      <td>0.35</td>\n",
       "      <td>...</td>\n",
       "      <td>19513.0</td>\n",
       "      <td>15770.0</td>\n",
       "      <td>3.0</td>\n",
       "      <td>5.0</td>\n",
       "      <td>4.0</td>\n",
       "      <td>4.0</td>\n",
       "      <td>3.0</td>\n",
       "      <td>2.0</td>\n",
       "      <td>4.0</td>\n",
       "      <td>1.0</td>\n",
       "    </tr>\n",
       "    <tr>\n",
       "      <th>1</th>\n",
       "      <td>ABBOTT NORTHWESTERN HOSPITAL</td>\n",
       "      <td>MN</td>\n",
       "      <td>22.5</td>\n",
       "      <td>0.365039</td>\n",
       "      <td>2.5</td>\n",
       "      <td>5.23</td>\n",
       "      <td>11.26</td>\n",
       "      <td>1.78</td>\n",
       "      <td>1.96</td>\n",
       "      <td>0.10</td>\n",
       "      <td>...</td>\n",
       "      <td>18148.0</td>\n",
       "      <td>15808.0</td>\n",
       "      <td>4.0</td>\n",
       "      <td>4.0</td>\n",
       "      <td>4.0</td>\n",
       "      <td>4.0</td>\n",
       "      <td>4.0</td>\n",
       "      <td>4.0</td>\n",
       "      <td>4.0</td>\n",
       "      <td>5.0</td>\n",
       "    </tr>\n",
       "    <tr>\n",
       "      <th>2</th>\n",
       "      <td>ABILENE REGIONAL MEDICAL CENTER</td>\n",
       "      <td>TX</td>\n",
       "      <td>22.4</td>\n",
       "      <td>0.298159</td>\n",
       "      <td>3.1</td>\n",
       "      <td>3.43</td>\n",
       "      <td>6.36</td>\n",
       "      <td>2.21</td>\n",
       "      <td>1.17</td>\n",
       "      <td>0.16</td>\n",
       "      <td>...</td>\n",
       "      <td>19077.0</td>\n",
       "      <td>16470.0</td>\n",
       "      <td>2.0</td>\n",
       "      <td>3.0</td>\n",
       "      <td>3.0</td>\n",
       "      <td>2.0</td>\n",
       "      <td>2.0</td>\n",
       "      <td>3.0</td>\n",
       "      <td>2.0</td>\n",
       "      <td>3.0</td>\n",
       "    </tr>\n",
       "    <tr>\n",
       "      <th>3</th>\n",
       "      <td>ABINGTON MEMORIAL HOSPITAL</td>\n",
       "      <td>PA</td>\n",
       "      <td>21.6</td>\n",
       "      <td>-0.236881</td>\n",
       "      <td>4.3</td>\n",
       "      <td>8.47</td>\n",
       "      <td>10.30</td>\n",
       "      <td>3.59</td>\n",
       "      <td>1.29</td>\n",
       "      <td>1.09</td>\n",
       "      <td>...</td>\n",
       "      <td>17847.0</td>\n",
       "      <td>15275.0</td>\n",
       "      <td>4.0</td>\n",
       "      <td>3.0</td>\n",
       "      <td>3.0</td>\n",
       "      <td>2.0</td>\n",
       "      <td>3.0</td>\n",
       "      <td>3.0</td>\n",
       "      <td>3.0</td>\n",
       "      <td>3.0</td>\n",
       "    </tr>\n",
       "    <tr>\n",
       "      <th>4</th>\n",
       "      <td>ABRAZO CENTRAL CAMPUS</td>\n",
       "      <td>AZ</td>\n",
       "      <td>21.8</td>\n",
       "      <td>-0.103121</td>\n",
       "      <td>2.7</td>\n",
       "      <td>3.48</td>\n",
       "      <td>9.23</td>\n",
       "      <td>2.16</td>\n",
       "      <td>1.31</td>\n",
       "      <td>0.21</td>\n",
       "      <td>...</td>\n",
       "      <td>18570.0</td>\n",
       "      <td>16999.0</td>\n",
       "      <td>2.0</td>\n",
       "      <td>2.0</td>\n",
       "      <td>2.0</td>\n",
       "      <td>2.0</td>\n",
       "      <td>2.0</td>\n",
       "      <td>2.0</td>\n",
       "      <td>1.0</td>\n",
       "      <td>2.0</td>\n",
       "    </tr>\n",
       "  </tbody>\n",
       "</table>\n",
       "<p>5 rows × 65 columns</p>\n",
       "</div>"
      ],
      "text/plain": [
       "                     Hospital Name State  READM_30_HF      norm  \\\n",
       "0       ABBEVILLE GENERAL HOSPITAL    LA         24.6  1.769519   \n",
       "1     ABBOTT NORTHWESTERN HOSPITAL    MN         22.5  0.365039   \n",
       "2  ABILENE REGIONAL MEDICAL CENTER    TX         22.4  0.298159   \n",
       "3       ABINGTON MEMORIAL HOSPITAL    PA         21.6 -0.236881   \n",
       "4            ABRAZO CENTRAL CAMPUS    AZ         21.8 -0.103121   \n",
       "\n",
       "   COMP_HIP_KNEE  PSI_12_POSTOP_PULMEMB_DVT  PSI_13_POST_SEPSIS  \\\n",
       "0            3.0                       6.51                0.00   \n",
       "1            2.5                       5.23               11.26   \n",
       "2            3.1                       3.43                6.36   \n",
       "3            4.3                       8.47               10.30   \n",
       "4            2.7                       3.48                9.23   \n",
       "\n",
       "   PSI_14_POSTOP_DEHIS  PSI_15_ACC_LAC  PSI_3_ULCER          ...           \\\n",
       "0                 2.28            1.69         0.35          ...            \n",
       "1                 1.78            1.96         0.10          ...            \n",
       "2                 2.21            1.17         0.16          ...            \n",
       "3                 3.59            1.29         1.09          ...            \n",
       "4                 2.16            1.31         0.21          ...            \n",
       "\n",
       "   PAYM_30_HF_high  PAYM_30_PN_high  H_COMP_1_STAR_RATING  \\\n",
       "0          19513.0          15770.0                   3.0   \n",
       "1          18148.0          15808.0                   4.0   \n",
       "2          19077.0          16470.0                   2.0   \n",
       "3          17847.0          15275.0                   4.0   \n",
       "4          18570.0          16999.0                   2.0   \n",
       "\n",
       "   H_COMP_2_STAR_RATING  H_COMP_3_STAR_RATING  H_COMP_4_STAR_RATING  \\\n",
       "0                   5.0                   4.0                   4.0   \n",
       "1                   4.0                   4.0                   4.0   \n",
       "2                   3.0                   3.0                   2.0   \n",
       "3                   3.0                   3.0                   2.0   \n",
       "4                   2.0                   2.0                   2.0   \n",
       "\n",
       "   H_COMP_5_STAR_RATING  H_COMP_6_STAR_RATING  H_COMP_7_STAR_RATING  \\\n",
       "0                   3.0                   2.0                   4.0   \n",
       "1                   4.0                   4.0                   4.0   \n",
       "2                   2.0                   3.0                   2.0   \n",
       "3                   3.0                   3.0                   3.0   \n",
       "4                   2.0                   2.0                   1.0   \n",
       "\n",
       "   H_RECMND_STAR_RATING  \n",
       "0                   1.0  \n",
       "1                   5.0  \n",
       "2                   3.0  \n",
       "3                   3.0  \n",
       "4                   2.0  \n",
       "\n",
       "[5 rows x 65 columns]"
      ]
     },
     "execution_count": 176,
     "metadata": {},
     "output_type": "execute_result"
    }
   ],
   "source": [
    "features.head()  #Including target"
   ]
  },
  {
   "cell_type": "code",
   "execution_count": 177,
   "metadata": {
    "collapsed": false
   },
   "outputs": [],
   "source": [
    "features.drop('norm', axis=1, inplace=True)\n",
    "#Dropping this column - its all zeros because there is not inpatient spending for outpatient care!!"
   ]
  },
  {
   "cell_type": "code",
   "execution_count": 178,
   "metadata": {
    "collapsed": false
   },
   "outputs": [],
   "source": [
    "#     plt.figure(figsize=(8,6));\n",
    "#     i = 0\n",
    "#     for x in tar_col:\n",
    "#         i += 1\n",
    "#         plt.subplot(4,2,i)\n",
    "#         target[x].hist()\n",
    "#         plt.title('Histogram for %s' % x)\n",
    "#         plt.tight_layout()"
   ]
  },
  {
   "cell_type": "code",
   "execution_count": 179,
   "metadata": {
    "collapsed": false
   },
   "outputs": [
    {
     "data": {
      "text/plain": [
       "<matplotlib.text.Text at 0x125cc1d50>"
      ]
     },
     "execution_count": 179,
     "metadata": {},
     "output_type": "execute_result"
    },
    {
     "data": {
      "image/png": "[encoded data removed]",
      "text/plain": [
       "<matplotlib.figure.Figure at 0x125c88690>"
      ]
     },
     "metadata": {},
     "output_type": "display_data"
    }
   ],
   "source": [
    "plt.scatter(features['PAYM_30_HF'], features['READM_30_HF'])\n",
    "plt.title('Payment for HF vs Readmission rates for HF, including NaNs')"
   ]
  },
  {
   "cell_type": "code",
   "execution_count": 180,
   "metadata": {
    "collapsed": false
   },
   "outputs": [
    {
     "data": {
      "text/plain": [
       "<matplotlib.text.Text at 0x120628090>"
      ]
     },
     "execution_count": 180,
     "metadata": {},
     "output_type": "execute_result"
    },
    {
     "data": {
      "image/png": "[encoded data removed]",
      "text/plain": [
       "<matplotlib.figure.Figure at 0x125cc11d0>"
      ]
     },
     "metadata": {},
     "output_type": "display_data"
    }
   ],
   "source": [
    "plt.scatter(features['PSI_4_SURG_COMP'], features['READM_30_HF'])\n",
    "plt.title('Surgical Complications vs Readmission rates for Knee/Hip, including NaNs')"
   ]
  },
  {
   "cell_type": "markdown",
   "metadata": {},
   "source": [
    "## So far I've left missing values in and I'm going to train a model with that - just to see if the missing values are useful info"
   ]
  },
  {
   "cell_type": "markdown",
   "metadata": {},
   "source": [
    "## Trying linear model for HF using intuition to select features:\n",
    "#### 1) Need to normalize data including 0s for NaNs\n",
    "#### 2) Need to normalize data including imputed means for NaNs\n",
    "#### 3) Try linear regressor on a few states"
   ]
  },
  {
   "cell_type": "code",
   "execution_count": 181,
   "metadata": {
    "collapsed": false
   },
   "outputs": [
    {
     "name": "stdout",
     "output_type": "stream",
     "text": [
      "<class 'pandas.core.frame.DataFrame'>\n",
      "Int64Index: 2431 entries, 0 to 2430\n",
      "Data columns (total 64 columns):\n",
      "Hospital Name                                                                 2431 non-null object\n",
      "State                                                                         2431 non-null object\n",
      "READM_30_HF                                                                   2431 non-null float64\n",
      "COMP_HIP_KNEE                                                                 2431 non-null float64\n",
      "PSI_12_POSTOP_PULMEMB_DVT                                                     2431 non-null float64\n",
      "PSI_13_POST_SEPSIS                                                            2431 non-null float64\n",
      "PSI_14_POSTOP_DEHIS                                                           2431 non-null float64\n",
      "PSI_15_ACC_LAC                                                                2431 non-null float64\n",
      "PSI_3_ULCER                                                                   2431 non-null float64\n",
      "PSI_4_SURG_COMP                                                               2431 non-null float64\n",
      "PSI_6_IAT_PTX                                                                 2431 non-null float64\n",
      "PSI_7_CVCBI                                                                   2431 non-null float64\n",
      "PSI_8_POST_HIP                                                                2431 non-null float64\n",
      "PSI_90_SAFETY                                                                 2431 non-null float64\n",
      "COMP_HIP_KNEE_low                                                             2431 non-null float64\n",
      "PSI_12_POSTOP_PULMEMB_DVT_low                                                 2431 non-null float64\n",
      "PSI_13_POST_SEPSIS_low                                                        2431 non-null float64\n",
      "PSI_14_POSTOP_DEHIS_low                                                       2431 non-null float64\n",
      "PSI_15_ACC_LAC_low                                                            2431 non-null float64\n",
      "PSI_3_ULCER_low                                                               2431 non-null float64\n",
      "PSI_4_SURG_COMP_low                                                           2431 non-null float64\n",
      "PSI_6_IAT_PTX_low                                                             2431 non-null float64\n",
      "PSI_7_CVCBI_low                                                               2431 non-null float64\n",
      "PSI_8_POST_HIP_low                                                            2431 non-null float64\n",
      "PSI_90_SAFETY_low                                                             2431 non-null float64\n",
      "COMP_HIP_KNEE_high                                                            2431 non-null float64\n",
      "PSI_12_POSTOP_PULMEMB_DVT_high                                                2431 non-null float64\n",
      "PSI_13_POST_SEPSIS_high                                                       2431 non-null float64\n",
      "PSI_14_POSTOP_DEHIS_high                                                      2431 non-null float64\n",
      "PSI_15_ACC_LAC_high                                                           2431 non-null float64\n",
      "PSI_3_ULCER_high                                                              2431 non-null float64\n",
      "PSI_4_SURG_COMP_high                                                          2431 non-null float64\n",
      "PSI_6_IAT_PTX_high                                                            2431 non-null float64\n",
      "PSI_7_CVCBI_high                                                              2431 non-null float64\n",
      "PSI_8_POST_HIP_high                                                           2431 non-null float64\n",
      "PSI_90_SAFETY_high                                                            2431 non-null float64\n",
      "1 through 30 days After Discharge from Index Hospital Admission_inpatient     2431 non-null float64\n",
      "1 to 3 days Prior to Index Hospital Admission_inpatient                       2431 non-null float64\n",
      "During Index Hospital Admission_inpatient                                     2431 non-null float64\n",
      "1 through 30 days After Discharge from Index Hospital Admission_outpatient    2431 non-null float64\n",
      "1 to 3 days Prior to Index Hospital Admission_outpatient                      2431 non-null float64\n",
      "AHRQ_PSI_90_Score                                                             2431 non-null float64\n",
      "CLABSI_Score                                                                  2431 non-null float64\n",
      "CAUTI_Score                                                                   2431 non-null float64\n",
      "SSI_Score                                                                     2431 non-null float64\n",
      "MRSA_Score                                                                    2431 non-null float64\n",
      "CDI_Score                                                                     2431 non-null float64\n",
      "PAYM_30_AMI                                                                   2431 non-null float64\n",
      "PAYM_30_HF                                                                    2431 non-null float64\n",
      "PAYM_30_PN                                                                    2431 non-null float64\n",
      "PAYM_30_AMI_low                                                               2431 non-null float64\n",
      "PAYM_30_HF_low                                                                2431 non-null float64\n",
      "PAYM_30_PN_low                                                                2431 non-null float64\n",
      "PAYM_30_AMI_high                                                              2431 non-null float64\n",
      "PAYM_30_HF_high                                                               2431 non-null float64\n",
      "PAYM_30_PN_high                                                               2431 non-null float64\n",
      "H_COMP_1_STAR_RATING                                                          2431 non-null float64\n",
      "H_COMP_2_STAR_RATING                                                          2431 non-null float64\n",
      "H_COMP_3_STAR_RATING                                                          2431 non-null float64\n",
      "H_COMP_4_STAR_RATING                                                          2431 non-null float64\n",
      "H_COMP_5_STAR_RATING                                                          2431 non-null float64\n",
      "H_COMP_6_STAR_RATING                                                          2431 non-null float64\n",
      "H_COMP_7_STAR_RATING                                                          2431 non-null float64\n",
      "H_RECMND_STAR_RATING                                                          2431 non-null float64\n",
      "dtypes: float64(62), object(2)\n",
      "memory usage: 1.2+ MB\n"
     ]
    }
   ],
   "source": [
    "features.info()"
   ]
  },
  {
   "cell_type": "code",
   "execution_count": 182,
   "metadata": {
    "collapsed": false
   },
   "outputs": [
    {
     "data": {
      "text/plain": [
       "<matplotlib.text.Text at 0x120290550>"
      ]
     },
     "execution_count": 182,
     "metadata": {},
     "output_type": "execute_result"
    },
    {
     "data": {
      "image/png": "[encoded data removed]",
      "text/plain": [
       "<matplotlib.figure.Figure at 0x11c9fc990>"
      ]
     },
     "metadata": {},
     "output_type": "display_data"
    }
   ],
   "source": [
    "plt.scatter(features.COMP_HIP_KNEE, features.READM_30_HF)\n",
    "plt.title('Hip/Knee Score')"
   ]
  },
  {
   "cell_type": "code",
   "execution_count": 183,
   "metadata": {
    "collapsed": false
   },
   "outputs": [],
   "source": [
    "features_hf_cols = ['PSI_4_SURG_COMP', 'PSI_12_POSTOP_PULMEMB_DVT', \n",
    "                     '1 through 30 days After Discharge from Index Hospital Admission_inpatient', \n",
    "                     '1 through 30 days After Discharge from Index Hospital Admission_outpatient', \n",
    "                     'During Index Hospital Admission_inpatient','AHRQ_PSI_90_Score', \n",
    "                     'MRSA_Score', 'CAUTI_Score', 'CDI_Score', 'PAYM_30_HF', 'PAYM_30_HF_low', 'PAYM_30_HF_high']"
   ]
  },
  {
   "cell_type": "markdown",
   "metadata": {},
   "source": [
    "#### 1) Normalized , including 0s in place of NaNs"
   ]
  },
  {
   "cell_type": "code",
   "execution_count": 184,
   "metadata": {
    "collapsed": false
   },
   "outputs": [],
   "source": [
    "features_hf = features[features_hf_cols]\n",
    "target_hf = features['READM_30_HF']"
   ]
  },
  {
   "cell_type": "code",
   "execution_count": 185,
   "metadata": {
    "collapsed": false
   },
   "outputs": [
    {
     "data": {
      "text/html": [
       "<div>\n",
       "<table border=\"1\" class=\"dataframe\">\n",
       "  <thead>\n",
       "    <tr style=\"text-align: right;\">\n",
       "      <th></th>\n",
       "      <th>PSI_4_SURG_COMP</th>\n",
       "      <th>PSI_12_POSTOP_PULMEMB_DVT</th>\n",
       "      <th>1 through 30 days After Discharge from Index Hospital Admission_inpatient</th>\n",
       "      <th>1 through 30 days After Discharge from Index Hospital Admission_outpatient</th>\n",
       "      <th>During Index Hospital Admission_inpatient</th>\n",
       "      <th>AHRQ_PSI_90_Score</th>\n",
       "      <th>MRSA_Score</th>\n",
       "      <th>CAUTI_Score</th>\n",
       "      <th>CDI_Score</th>\n",
       "      <th>PAYM_30_HF</th>\n",
       "      <th>PAYM_30_HF_low</th>\n",
       "      <th>PAYM_30_HF_high</th>\n",
       "    </tr>\n",
       "  </thead>\n",
       "  <tbody>\n",
       "    <tr>\n",
       "      <th>0</th>\n",
       "      <td>-1.231078</td>\n",
       "      <td>0.825961</td>\n",
       "      <td>-0.023391</td>\n",
       "      <td>0.427037</td>\n",
       "      <td>-0.561662</td>\n",
       "      <td>1.209192</td>\n",
       "      <td>-1.222990</td>\n",
       "      <td>-0.462444</td>\n",
       "      <td>-1.269374</td>\n",
       "      <td>0.817965</td>\n",
       "      <td>0.580564</td>\n",
       "      <td>0.959934</td>\n",
       "    </tr>\n",
       "    <tr>\n",
       "      <th>1</th>\n",
       "      <td>0.595422</td>\n",
       "      <td>0.202899</td>\n",
       "      <td>-0.150855</td>\n",
       "      <td>1.028662</td>\n",
       "      <td>1.964005</td>\n",
       "      <td>0.869517</td>\n",
       "      <td>-0.640887</td>\n",
       "      <td>1.042510</td>\n",
       "      <td>0.150059</td>\n",
       "      <td>0.584466</td>\n",
       "      <td>0.791408</td>\n",
       "      <td>0.322560</td>\n",
       "    </tr>\n",
       "    <tr>\n",
       "      <th>2</th>\n",
       "      <td>0.800045</td>\n",
       "      <td>-0.673283</td>\n",
       "      <td>1.192827</td>\n",
       "      <td>-0.302492</td>\n",
       "      <td>0.881319</td>\n",
       "      <td>-1.508206</td>\n",
       "      <td>1.687522</td>\n",
       "      <td>-0.161453</td>\n",
       "      <td>0.150059</td>\n",
       "      <td>0.794515</td>\n",
       "      <td>0.755004</td>\n",
       "      <td>0.756348</td>\n",
       "    </tr>\n",
       "    <tr>\n",
       "      <th>3</th>\n",
       "      <td>1.022563</td>\n",
       "      <td>1.780025</td>\n",
       "      <td>-0.455352</td>\n",
       "      <td>-0.094055</td>\n",
       "      <td>0.168536</td>\n",
       "      <td>1.548866</td>\n",
       "      <td>-0.349836</td>\n",
       "      <td>1.042510</td>\n",
       "      <td>-0.204799</td>\n",
       "      <td>0.553034</td>\n",
       "      <td>0.890004</td>\n",
       "      <td>0.182011</td>\n",
       "    </tr>\n",
       "    <tr>\n",
       "      <th>4</th>\n",
       "      <td>0.794471</td>\n",
       "      <td>-0.648944</td>\n",
       "      <td>0.930818</td>\n",
       "      <td>0.346505</td>\n",
       "      <td>1.708196</td>\n",
       "      <td>-0.828857</td>\n",
       "      <td>0.814369</td>\n",
       "      <td>0.741520</td>\n",
       "      <td>0.150059</td>\n",
       "      <td>0.477197</td>\n",
       "      <td>0.342923</td>\n",
       "      <td>0.519609</td>\n",
       "    </tr>\n",
       "  </tbody>\n",
       "</table>\n",
       "</div>"
      ],
      "text/plain": [
       "   PSI_4_SURG_COMP  PSI_12_POSTOP_PULMEMB_DVT  \\\n",
       "0        -1.231078                   0.825961   \n",
       "1         0.595422                   0.202899   \n",
       "2         0.800045                  -0.673283   \n",
       "3         1.022563                   1.780025   \n",
       "4         0.794471                  -0.648944   \n",
       "\n",
       "   1 through 30 days After Discharge from Index Hospital Admission_inpatient  \\\n",
       "0                                          -0.023391                           \n",
       "1                                          -0.150855                           \n",
       "2                                           1.192827                           \n",
       "3                                          -0.455352                           \n",
       "4                                           0.930818                           \n",
       "\n",
       "   1 through 30 days After Discharge from Index Hospital Admission_outpatient  \\\n",
       "0                                           0.427037                            \n",
       "1                                           1.028662                            \n",
       "2                                          -0.302492                            \n",
       "3                                          -0.094055                            \n",
       "4                                           0.346505                            \n",
       "\n",
       "   During Index Hospital Admission_inpatient  AHRQ_PSI_90_Score  MRSA_Score  \\\n",
       "0                                  -0.561662           1.209192   -1.222990   \n",
       "1                                   1.964005           0.869517   -0.640887   \n",
       "2                                   0.881319          -1.508206    1.687522   \n",
       "3                                   0.168536           1.548866   -0.349836   \n",
       "4                                   1.708196          -0.828857    0.814369   \n",
       "\n",
       "   CAUTI_Score  CDI_Score  PAYM_30_HF  PAYM_30_HF_low  PAYM_30_HF_high  \n",
       "0    -0.462444  -1.269374    0.817965        0.580564         0.959934  \n",
       "1     1.042510   0.150059    0.584466        0.791408         0.322560  \n",
       "2    -0.161453   0.150059    0.794515        0.755004         0.756348  \n",
       "3     1.042510  -0.204799    0.553034        0.890004         0.182011  \n",
       "4     0.741520   0.150059    0.477197        0.342923         0.519609  "
      ]
     },
     "execution_count": 185,
     "metadata": {},
     "output_type": "execute_result"
    }
   ],
   "source": [
    "features_hf_norm = (features_hf - features_hf.mean()) /  (features_hf.std())\n",
    "features_hf_norm.head()"
   ]
  },
  {
   "cell_type": "code",
   "execution_count": 186,
   "metadata": {
    "collapsed": false
   },
   "outputs": [],
   "source": [
    "data_to_norm = features.iloc[:,2:]\n",
    "full_norm = (data_to_norm - data_to_norm.mean()) /  (data_to_norm.std()) #normalizing data"
   ]
  },
  {
   "cell_type": "code",
   "execution_count": 187,
   "metadata": {
    "collapsed": false
   },
   "outputs": [
    {
     "data": {
      "text/html": [
       "<div>\n",
       "<table border=\"1\" class=\"dataframe\">\n",
       "  <thead>\n",
       "    <tr style=\"text-align: right;\">\n",
       "      <th></th>\n",
       "      <th>READM_30_HF</th>\n",
       "      <th>COMP_HIP_KNEE</th>\n",
       "      <th>PSI_12_POSTOP_PULMEMB_DVT</th>\n",
       "      <th>PSI_13_POST_SEPSIS</th>\n",
       "      <th>PSI_14_POSTOP_DEHIS</th>\n",
       "      <th>PSI_15_ACC_LAC</th>\n",
       "      <th>PSI_3_ULCER</th>\n",
       "      <th>PSI_4_SURG_COMP</th>\n",
       "      <th>PSI_6_IAT_PTX</th>\n",
       "      <th>PSI_7_CVCBI</th>\n",
       "      <th>...</th>\n",
       "      <th>PAYM_30_HF_high</th>\n",
       "      <th>PAYM_30_PN_high</th>\n",
       "      <th>H_COMP_1_STAR_RATING</th>\n",
       "      <th>H_COMP_2_STAR_RATING</th>\n",
       "      <th>H_COMP_3_STAR_RATING</th>\n",
       "      <th>H_COMP_4_STAR_RATING</th>\n",
       "      <th>H_COMP_5_STAR_RATING</th>\n",
       "      <th>H_COMP_6_STAR_RATING</th>\n",
       "      <th>H_COMP_7_STAR_RATING</th>\n",
       "      <th>H_RECMND_STAR_RATING</th>\n",
       "    </tr>\n",
       "  </thead>\n",
       "  <tbody>\n",
       "    <tr>\n",
       "      <th>0</th>\n",
       "      <td>1.622811</td>\n",
       "      <td>0.419096</td>\n",
       "      <td>0.825961</td>\n",
       "      <td>-1.630935</td>\n",
       "      <td>0.323927</td>\n",
       "      <td>0.528302</td>\n",
       "      <td>-0.194666</td>\n",
       "      <td>-1.231078</td>\n",
       "      <td>-0.185469</td>\n",
       "      <td>-0.111823</td>\n",
       "      <td>...</td>\n",
       "      <td>0.959934</td>\n",
       "      <td>-0.036533</td>\n",
       "      <td>-0.187807</td>\n",
       "      <td>1.910103</td>\n",
       "      <td>0.857952</td>\n",
       "      <td>1.218663</td>\n",
       "      <td>0.165745</td>\n",
       "      <td>-1.008677</td>\n",
       "      <td>1.184311</td>\n",
       "      <td>-1.700089</td>\n",
       "    </tr>\n",
       "    <tr>\n",
       "      <th>1</th>\n",
       "      <td>0.306051</td>\n",
       "      <td>0.044311</td>\n",
       "      <td>0.202899</td>\n",
       "      <td>0.719409</td>\n",
       "      <td>-0.244889</td>\n",
       "      <td>1.085077</td>\n",
       "      <td>-0.676067</td>\n",
       "      <td>0.595422</td>\n",
       "      <td>-1.056106</td>\n",
       "      <td>-0.763773</td>\n",
       "      <td>...</td>\n",
       "      <td>0.322560</td>\n",
       "      <td>-0.019528</td>\n",
       "      <td>0.717466</td>\n",
       "      <td>0.968782</td>\n",
       "      <td>0.857952</td>\n",
       "      <td>1.218663</td>\n",
       "      <td>1.211856</td>\n",
       "      <td>0.855206</td>\n",
       "      <td>1.184311</td>\n",
       "      <td>1.864883</td>\n",
       "    </tr>\n",
       "    <tr>\n",
       "      <th>2</th>\n",
       "      <td>0.243349</td>\n",
       "      <td>0.494053</td>\n",
       "      <td>-0.673283</td>\n",
       "      <td>-0.303387</td>\n",
       "      <td>0.244293</td>\n",
       "      <td>-0.544005</td>\n",
       "      <td>-0.560531</td>\n",
       "      <td>0.800045</td>\n",
       "      <td>-0.061093</td>\n",
       "      <td>-0.633383</td>\n",
       "      <td>...</td>\n",
       "      <td>0.756348</td>\n",
       "      <td>0.276709</td>\n",
       "      <td>-1.093081</td>\n",
       "      <td>0.027460</td>\n",
       "      <td>-0.112283</td>\n",
       "      <td>-0.858147</td>\n",
       "      <td>-0.880365</td>\n",
       "      <td>-0.076735</td>\n",
       "      <td>-0.677351</td>\n",
       "      <td>0.082397</td>\n",
       "    </tr>\n",
       "    <tr>\n",
       "      <th>3</th>\n",
       "      <td>-0.258274</td>\n",
       "      <td>1.393539</td>\n",
       "      <td>1.780025</td>\n",
       "      <td>0.519024</td>\n",
       "      <td>1.814226</td>\n",
       "      <td>-0.296549</td>\n",
       "      <td>1.230282</td>\n",
       "      <td>1.022563</td>\n",
       "      <td>-1.056106</td>\n",
       "      <td>-0.502993</td>\n",
       "      <td>...</td>\n",
       "      <td>0.182011</td>\n",
       "      <td>-0.258040</td>\n",
       "      <td>0.717466</td>\n",
       "      <td>0.027460</td>\n",
       "      <td>-0.112283</td>\n",
       "      <td>-0.858147</td>\n",
       "      <td>0.165745</td>\n",
       "      <td>-0.076735</td>\n",
       "      <td>0.253480</td>\n",
       "      <td>0.082397</td>\n",
       "    </tr>\n",
       "    <tr>\n",
       "      <th>4</th>\n",
       "      <td>-0.132868</td>\n",
       "      <td>0.194225</td>\n",
       "      <td>-0.648944</td>\n",
       "      <td>0.295679</td>\n",
       "      <td>0.187411</td>\n",
       "      <td>-0.255307</td>\n",
       "      <td>-0.464251</td>\n",
       "      <td>0.794471</td>\n",
       "      <td>1.307051</td>\n",
       "      <td>0.540127</td>\n",
       "      <td>...</td>\n",
       "      <td>0.519609</td>\n",
       "      <td>0.513431</td>\n",
       "      <td>-1.093081</td>\n",
       "      <td>-0.913862</td>\n",
       "      <td>-1.082517</td>\n",
       "      <td>-0.858147</td>\n",
       "      <td>-0.880365</td>\n",
       "      <td>-1.008677</td>\n",
       "      <td>-1.608182</td>\n",
       "      <td>-0.808846</td>\n",
       "    </tr>\n",
       "  </tbody>\n",
       "</table>\n",
       "<p>5 rows × 62 columns</p>\n",
       "</div>"
      ],
      "text/plain": [
       "   READM_30_HF  COMP_HIP_KNEE  PSI_12_POSTOP_PULMEMB_DVT  PSI_13_POST_SEPSIS  \\\n",
       "0     1.622811       0.419096                   0.825961           -1.630935   \n",
       "1     0.306051       0.044311                   0.202899            0.719409   \n",
       "2     0.243349       0.494053                  -0.673283           -0.303387   \n",
       "3    -0.258274       1.393539                   1.780025            0.519024   \n",
       "4    -0.132868       0.194225                  -0.648944            0.295679   \n",
       "\n",
       "   PSI_14_POSTOP_DEHIS  PSI_15_ACC_LAC  PSI_3_ULCER  PSI_4_SURG_COMP  \\\n",
       "0             0.323927        0.528302    -0.194666        -1.231078   \n",
       "1            -0.244889        1.085077    -0.676067         0.595422   \n",
       "2             0.244293       -0.544005    -0.560531         0.800045   \n",
       "3             1.814226       -0.296549     1.230282         1.022563   \n",
       "4             0.187411       -0.255307    -0.464251         0.794471   \n",
       "\n",
       "   PSI_6_IAT_PTX  PSI_7_CVCBI          ...           PAYM_30_HF_high  \\\n",
       "0      -0.185469    -0.111823          ...                  0.959934   \n",
       "1      -1.056106    -0.763773          ...                  0.322560   \n",
       "2      -0.061093    -0.633383          ...                  0.756348   \n",
       "3      -1.056106    -0.502993          ...                  0.182011   \n",
       "4       1.307051     0.540127          ...                  0.519609   \n",
       "\n",
       "   PAYM_30_PN_high  H_COMP_1_STAR_RATING  H_COMP_2_STAR_RATING  \\\n",
       "0        -0.036533             -0.187807              1.910103   \n",
       "1        -0.019528              0.717466              0.968782   \n",
       "2         0.276709             -1.093081              0.027460   \n",
       "3        -0.258040              0.717466              0.027460   \n",
       "4         0.513431             -1.093081             -0.913862   \n",
       "\n",
       "   H_COMP_3_STAR_RATING  H_COMP_4_STAR_RATING  H_COMP_5_STAR_RATING  \\\n",
       "0              0.857952              1.218663              0.165745   \n",
       "1              0.857952              1.218663              1.211856   \n",
       "2             -0.112283             -0.858147             -0.880365   \n",
       "3             -0.112283             -0.858147              0.165745   \n",
       "4             -1.082517             -0.858147             -0.880365   \n",
       "\n",
       "   H_COMP_6_STAR_RATING  H_COMP_7_STAR_RATING  H_RECMND_STAR_RATING  \n",
       "0             -1.008677              1.184311             -1.700089  \n",
       "1              0.855206              1.184311              1.864883  \n",
       "2             -0.076735             -0.677351              0.082397  \n",
       "3             -0.076735              0.253480              0.082397  \n",
       "4             -1.008677             -1.608182             -0.808846  \n",
       "\n",
       "[5 rows x 62 columns]"
      ]
     },
     "execution_count": 187,
     "metadata": {},
     "output_type": "execute_result"
    }
   ],
   "source": [
    "full_norm.head()"
   ]
  },
  {
   "cell_type": "code",
   "execution_count": 188,
   "metadata": {
    "collapsed": false
   },
   "outputs": [
    {
     "data": {
      "text/html": [
       "<div>\n",
       "<table border=\"1\" class=\"dataframe\">\n",
       "  <thead>\n",
       "    <tr style=\"text-align: right;\">\n",
       "      <th></th>\n",
       "      <th>Hospital Name</th>\n",
       "      <th>State</th>\n",
       "      <th>READM_30_HF</th>\n",
       "      <th>COMP_HIP_KNEE</th>\n",
       "      <th>PSI_12_POSTOP_PULMEMB_DVT</th>\n",
       "      <th>PSI_13_POST_SEPSIS</th>\n",
       "      <th>PSI_14_POSTOP_DEHIS</th>\n",
       "      <th>PSI_15_ACC_LAC</th>\n",
       "      <th>PSI_3_ULCER</th>\n",
       "      <th>PSI_4_SURG_COMP</th>\n",
       "      <th>...</th>\n",
       "      <th>PAYM_30_HF_high</th>\n",
       "      <th>PAYM_30_PN_high</th>\n",
       "      <th>H_COMP_1_STAR_RATING</th>\n",
       "      <th>H_COMP_2_STAR_RATING</th>\n",
       "      <th>H_COMP_3_STAR_RATING</th>\n",
       "      <th>H_COMP_4_STAR_RATING</th>\n",
       "      <th>H_COMP_5_STAR_RATING</th>\n",
       "      <th>H_COMP_6_STAR_RATING</th>\n",
       "      <th>H_COMP_7_STAR_RATING</th>\n",
       "      <th>H_RECMND_STAR_RATING</th>\n",
       "    </tr>\n",
       "  </thead>\n",
       "  <tbody>\n",
       "    <tr>\n",
       "      <th>0</th>\n",
       "      <td>ABBEVILLE GENERAL HOSPITAL</td>\n",
       "      <td>LA</td>\n",
       "      <td>1.622811</td>\n",
       "      <td>0.419096</td>\n",
       "      <td>0.825961</td>\n",
       "      <td>-1.630935</td>\n",
       "      <td>0.323927</td>\n",
       "      <td>0.528302</td>\n",
       "      <td>-0.194666</td>\n",
       "      <td>-1.231078</td>\n",
       "      <td>...</td>\n",
       "      <td>0.959934</td>\n",
       "      <td>-0.036533</td>\n",
       "      <td>-0.187807</td>\n",
       "      <td>1.910103</td>\n",
       "      <td>0.857952</td>\n",
       "      <td>1.218663</td>\n",
       "      <td>0.165745</td>\n",
       "      <td>-1.008677</td>\n",
       "      <td>1.184311</td>\n",
       "      <td>-1.700089</td>\n",
       "    </tr>\n",
       "    <tr>\n",
       "      <th>1</th>\n",
       "      <td>ABBOTT NORTHWESTERN HOSPITAL</td>\n",
       "      <td>MN</td>\n",
       "      <td>0.306051</td>\n",
       "      <td>0.044311</td>\n",
       "      <td>0.202899</td>\n",
       "      <td>0.719409</td>\n",
       "      <td>-0.244889</td>\n",
       "      <td>1.085077</td>\n",
       "      <td>-0.676067</td>\n",
       "      <td>0.595422</td>\n",
       "      <td>...</td>\n",
       "      <td>0.322560</td>\n",
       "      <td>-0.019528</td>\n",
       "      <td>0.717466</td>\n",
       "      <td>0.968782</td>\n",
       "      <td>0.857952</td>\n",
       "      <td>1.218663</td>\n",
       "      <td>1.211856</td>\n",
       "      <td>0.855206</td>\n",
       "      <td>1.184311</td>\n",
       "      <td>1.864883</td>\n",
       "    </tr>\n",
       "    <tr>\n",
       "      <th>2</th>\n",
       "      <td>ABILENE REGIONAL MEDICAL CENTER</td>\n",
       "      <td>TX</td>\n",
       "      <td>0.243349</td>\n",
       "      <td>0.494053</td>\n",
       "      <td>-0.673283</td>\n",
       "      <td>-0.303387</td>\n",
       "      <td>0.244293</td>\n",
       "      <td>-0.544005</td>\n",
       "      <td>-0.560531</td>\n",
       "      <td>0.800045</td>\n",
       "      <td>...</td>\n",
       "      <td>0.756348</td>\n",
       "      <td>0.276709</td>\n",
       "      <td>-1.093081</td>\n",
       "      <td>0.027460</td>\n",
       "      <td>-0.112283</td>\n",
       "      <td>-0.858147</td>\n",
       "      <td>-0.880365</td>\n",
       "      <td>-0.076735</td>\n",
       "      <td>-0.677351</td>\n",
       "      <td>0.082397</td>\n",
       "    </tr>\n",
       "    <tr>\n",
       "      <th>3</th>\n",
       "      <td>ABINGTON MEMORIAL HOSPITAL</td>\n",
       "      <td>PA</td>\n",
       "      <td>-0.258274</td>\n",
       "      <td>1.393539</td>\n",
       "      <td>1.780025</td>\n",
       "      <td>0.519024</td>\n",
       "      <td>1.814226</td>\n",
       "      <td>-0.296549</td>\n",
       "      <td>1.230282</td>\n",
       "      <td>1.022563</td>\n",
       "      <td>...</td>\n",
       "      <td>0.182011</td>\n",
       "      <td>-0.258040</td>\n",
       "      <td>0.717466</td>\n",
       "      <td>0.027460</td>\n",
       "      <td>-0.112283</td>\n",
       "      <td>-0.858147</td>\n",
       "      <td>0.165745</td>\n",
       "      <td>-0.076735</td>\n",
       "      <td>0.253480</td>\n",
       "      <td>0.082397</td>\n",
       "    </tr>\n",
       "    <tr>\n",
       "      <th>4</th>\n",
       "      <td>ABRAZO CENTRAL CAMPUS</td>\n",
       "      <td>AZ</td>\n",
       "      <td>-0.132868</td>\n",
       "      <td>0.194225</td>\n",
       "      <td>-0.648944</td>\n",
       "      <td>0.295679</td>\n",
       "      <td>0.187411</td>\n",
       "      <td>-0.255307</td>\n",
       "      <td>-0.464251</td>\n",
       "      <td>0.794471</td>\n",
       "      <td>...</td>\n",
       "      <td>0.519609</td>\n",
       "      <td>0.513431</td>\n",
       "      <td>-1.093081</td>\n",
       "      <td>-0.913862</td>\n",
       "      <td>-1.082517</td>\n",
       "      <td>-0.858147</td>\n",
       "      <td>-0.880365</td>\n",
       "      <td>-1.008677</td>\n",
       "      <td>-1.608182</td>\n",
       "      <td>-0.808846</td>\n",
       "    </tr>\n",
       "  </tbody>\n",
       "</table>\n",
       "<p>5 rows × 64 columns</p>\n",
       "</div>"
      ],
      "text/plain": [
       "                     Hospital Name State  READM_30_HF  COMP_HIP_KNEE  \\\n",
       "0       ABBEVILLE GENERAL HOSPITAL    LA     1.622811       0.419096   \n",
       "1     ABBOTT NORTHWESTERN HOSPITAL    MN     0.306051       0.044311   \n",
       "2  ABILENE REGIONAL MEDICAL CENTER    TX     0.243349       0.494053   \n",
       "3       ABINGTON MEMORIAL HOSPITAL    PA    -0.258274       1.393539   \n",
       "4            ABRAZO CENTRAL CAMPUS    AZ    -0.132868       0.194225   \n",
       "\n",
       "   PSI_12_POSTOP_PULMEMB_DVT  PSI_13_POST_SEPSIS  PSI_14_POSTOP_DEHIS  \\\n",
       "0                   0.825961           -1.630935             0.323927   \n",
       "1                   0.202899            0.719409            -0.244889   \n",
       "2                  -0.673283           -0.303387             0.244293   \n",
       "3                   1.780025            0.519024             1.814226   \n",
       "4                  -0.648944            0.295679             0.187411   \n",
       "\n",
       "   PSI_15_ACC_LAC  PSI_3_ULCER  PSI_4_SURG_COMP          ...           \\\n",
       "0        0.528302    -0.194666        -1.231078          ...            \n",
       "1        1.085077    -0.676067         0.595422          ...            \n",
       "2       -0.544005    -0.560531         0.800045          ...            \n",
       "3       -0.296549     1.230282         1.022563          ...            \n",
       "4       -0.255307    -0.464251         0.794471          ...            \n",
       "\n",
       "   PAYM_30_HF_high  PAYM_30_PN_high  H_COMP_1_STAR_RATING  \\\n",
       "0         0.959934        -0.036533             -0.187807   \n",
       "1         0.322560        -0.019528              0.717466   \n",
       "2         0.756348         0.276709             -1.093081   \n",
       "3         0.182011        -0.258040              0.717466   \n",
       "4         0.519609         0.513431             -1.093081   \n",
       "\n",
       "   H_COMP_2_STAR_RATING  H_COMP_3_STAR_RATING  H_COMP_4_STAR_RATING  \\\n",
       "0              1.910103              0.857952              1.218663   \n",
       "1              0.968782              0.857952              1.218663   \n",
       "2              0.027460             -0.112283             -0.858147   \n",
       "3              0.027460             -0.112283             -0.858147   \n",
       "4             -0.913862             -1.082517             -0.858147   \n",
       "\n",
       "   H_COMP_5_STAR_RATING  H_COMP_6_STAR_RATING  H_COMP_7_STAR_RATING  \\\n",
       "0              0.165745             -1.008677              1.184311   \n",
       "1              1.211856              0.855206              1.184311   \n",
       "2             -0.880365             -0.076735             -0.677351   \n",
       "3              0.165745             -0.076735              0.253480   \n",
       "4             -0.880365             -1.008677             -1.608182   \n",
       "\n",
       "   H_RECMND_STAR_RATING  \n",
       "0             -1.700089  \n",
       "1              1.864883  \n",
       "2              0.082397  \n",
       "3              0.082397  \n",
       "4             -0.808846  \n",
       "\n",
       "[5 rows x 64 columns]"
      ]
     },
     "execution_count": 188,
     "metadata": {},
     "output_type": "execute_result"
    }
   ],
   "source": [
    "full_norm.insert(0, 'Hospital Name', features['Hospital Name'])\n",
    "full_norm.insert(1, 'State', features['State'])\n",
    "full_norm.head()"
   ]
  },
  {
   "cell_type": "markdown",
   "metadata": {},
   "source": [
    "#### 2) Normalized , including imputed values in place of NaNs"
   ]
  },
  {
   "cell_type": "code",
   "execution_count": 189,
   "metadata": {
    "collapsed": true
   },
   "outputs": [],
   "source": [
    "cols_dont_fill_0 = ['Hospital Name', 'State', 'README_30_HF','1 through 30 days After Discharge from Index Hospital Admission_inpatient', \n",
    "                    '1 to 3 days Prior to Index Hospital Admission_inpatient','During Index Hospital Admission_inpatient',\n",
    "                    '1 through 30 days After Discharge from Index Hospital Admission_outpatient',\n",
    "                    '1 to 3 days Prior to Index Hospital Admission_outpatient', ]"
   ]
  },
  {
   "cell_type": "code",
   "execution_count": 190,
   "metadata": {
    "collapsed": true
   },
   "outputs": [],
   "source": [
    "full_copy = features.copy()"
   ]
  },
  {
   "cell_type": "code",
   "execution_count": 191,
   "metadata": {
    "collapsed": false
   },
   "outputs": [],
   "source": [
    "for i in list(full_copy.columns):\n",
    "    if i in cols_dont_fill_0:\n",
    "        pass\n",
    "    else:\n",
    "        full_copy[i] = full_copy[i].replace(0, np.nan)  "
   ]
  },
  {
   "cell_type": "code",
   "execution_count": 192,
   "metadata": {
    "collapsed": true
   },
   "outputs": [],
   "source": [
    "#Checking if the loop worked correctly"
   ]
  },
  {
   "cell_type": "code",
   "execution_count": 193,
   "metadata": {
    "collapsed": false
   },
   "outputs": [
    {
     "data": {
      "text/plain": [
       "0"
      ]
     },
     "execution_count": 193,
     "metadata": {},
     "output_type": "execute_result"
    }
   ],
   "source": [
    "len(full_copy[full_copy['1 through 30 days After Discharge from Index Hospital Admission_inpatient'] == 0])"
   ]
  },
  {
   "cell_type": "code",
   "execution_count": 194,
   "metadata": {
    "collapsed": false
   },
   "outputs": [
    {
     "data": {
      "text/plain": [
       "0"
      ]
     },
     "execution_count": 194,
     "metadata": {},
     "output_type": "execute_result"
    }
   ],
   "source": [
    "full_copy['1 through 30 days After Discharge from Index Hospital Admission_inpatient'].isnull().sum()"
   ]
  },
  {
   "cell_type": "code",
   "execution_count": 195,
   "metadata": {
    "collapsed": false
   },
   "outputs": [
    {
     "data": {
      "text/plain": [
       "359"
      ]
     },
     "execution_count": 195,
     "metadata": {},
     "output_type": "execute_result"
    }
   ],
   "source": [
    "len(features[features['CAUTI_Score'] == 0])"
   ]
  },
  {
   "cell_type": "code",
   "execution_count": 196,
   "metadata": {
    "collapsed": false
   },
   "outputs": [
    {
     "data": {
      "text/plain": [
       "359"
      ]
     },
     "execution_count": 196,
     "metadata": {},
     "output_type": "execute_result"
    }
   ],
   "source": [
    "full_copy['CAUTI_Score'].isnull().sum() # THere should be 359 nulls here now"
   ]
  },
  {
   "cell_type": "code",
   "execution_count": 197,
   "metadata": {
    "collapsed": false
   },
   "outputs": [
    {
     "data": {
      "text/plain": [
       "0"
      ]
     },
     "execution_count": 197,
     "metadata": {},
     "output_type": "execute_result"
    }
   ],
   "source": [
    "full_copy['READM_30_HF'].isnull().sum() #Good, the zeros in the target column shouldn't be replaced"
   ]
  },
  {
   "cell_type": "code",
   "execution_count": 198,
   "metadata": {
    "collapsed": false
   },
   "outputs": [
    {
     "data": {
      "text/html": [
       "<div>\n",
       "<table border=\"1\" class=\"dataframe\">\n",
       "  <thead>\n",
       "    <tr style=\"text-align: right;\">\n",
       "      <th></th>\n",
       "      <th>Hospital Name</th>\n",
       "      <th>State</th>\n",
       "      <th>READM_30_HF</th>\n",
       "      <th>COMP_HIP_KNEE</th>\n",
       "      <th>PSI_12_POSTOP_PULMEMB_DVT</th>\n",
       "      <th>PSI_13_POST_SEPSIS</th>\n",
       "      <th>PSI_14_POSTOP_DEHIS</th>\n",
       "      <th>PSI_15_ACC_LAC</th>\n",
       "      <th>PSI_3_ULCER</th>\n",
       "      <th>PSI_4_SURG_COMP</th>\n",
       "      <th>...</th>\n",
       "      <th>PAYM_30_HF_high</th>\n",
       "      <th>PAYM_30_PN_high</th>\n",
       "      <th>H_COMP_1_STAR_RATING</th>\n",
       "      <th>H_COMP_2_STAR_RATING</th>\n",
       "      <th>H_COMP_3_STAR_RATING</th>\n",
       "      <th>H_COMP_4_STAR_RATING</th>\n",
       "      <th>H_COMP_5_STAR_RATING</th>\n",
       "      <th>H_COMP_6_STAR_RATING</th>\n",
       "      <th>H_COMP_7_STAR_RATING</th>\n",
       "      <th>H_RECMND_STAR_RATING</th>\n",
       "    </tr>\n",
       "  </thead>\n",
       "  <tbody>\n",
       "    <tr>\n",
       "      <th>0</th>\n",
       "      <td>ABBEVILLE GENERAL HOSPITAL</td>\n",
       "      <td>LA</td>\n",
       "      <td>24.6</td>\n",
       "      <td>3.0</td>\n",
       "      <td>6.51</td>\n",
       "      <td>NaN</td>\n",
       "      <td>2.28</td>\n",
       "      <td>1.69</td>\n",
       "      <td>0.35</td>\n",
       "      <td>NaN</td>\n",
       "      <td>...</td>\n",
       "      <td>19513.0</td>\n",
       "      <td>15770.0</td>\n",
       "      <td>3.0</td>\n",
       "      <td>5.0</td>\n",
       "      <td>4.0</td>\n",
       "      <td>4.0</td>\n",
       "      <td>3.0</td>\n",
       "      <td>2.0</td>\n",
       "      <td>4.0</td>\n",
       "      <td>1.0</td>\n",
       "    </tr>\n",
       "    <tr>\n",
       "      <th>1</th>\n",
       "      <td>ABBOTT NORTHWESTERN HOSPITAL</td>\n",
       "      <td>MN</td>\n",
       "      <td>22.5</td>\n",
       "      <td>2.5</td>\n",
       "      <td>5.23</td>\n",
       "      <td>11.26</td>\n",
       "      <td>1.78</td>\n",
       "      <td>1.96</td>\n",
       "      <td>0.10</td>\n",
       "      <td>124.52</td>\n",
       "      <td>...</td>\n",
       "      <td>18148.0</td>\n",
       "      <td>15808.0</td>\n",
       "      <td>4.0</td>\n",
       "      <td>4.0</td>\n",
       "      <td>4.0</td>\n",
       "      <td>4.0</td>\n",
       "      <td>4.0</td>\n",
       "      <td>4.0</td>\n",
       "      <td>4.0</td>\n",
       "      <td>5.0</td>\n",
       "    </tr>\n",
       "    <tr>\n",
       "      <th>2</th>\n",
       "      <td>ABILENE REGIONAL MEDICAL CENTER</td>\n",
       "      <td>TX</td>\n",
       "      <td>22.4</td>\n",
       "      <td>3.1</td>\n",
       "      <td>3.43</td>\n",
       "      <td>6.36</td>\n",
       "      <td>2.21</td>\n",
       "      <td>1.17</td>\n",
       "      <td>0.16</td>\n",
       "      <td>138.47</td>\n",
       "      <td>...</td>\n",
       "      <td>19077.0</td>\n",
       "      <td>16470.0</td>\n",
       "      <td>2.0</td>\n",
       "      <td>3.0</td>\n",
       "      <td>3.0</td>\n",
       "      <td>2.0</td>\n",
       "      <td>2.0</td>\n",
       "      <td>3.0</td>\n",
       "      <td>2.0</td>\n",
       "      <td>3.0</td>\n",
       "    </tr>\n",
       "    <tr>\n",
       "      <th>3</th>\n",
       "      <td>ABINGTON MEMORIAL HOSPITAL</td>\n",
       "      <td>PA</td>\n",
       "      <td>21.6</td>\n",
       "      <td>4.3</td>\n",
       "      <td>8.47</td>\n",
       "      <td>10.30</td>\n",
       "      <td>3.59</td>\n",
       "      <td>1.29</td>\n",
       "      <td>1.09</td>\n",
       "      <td>153.64</td>\n",
       "      <td>...</td>\n",
       "      <td>17847.0</td>\n",
       "      <td>15275.0</td>\n",
       "      <td>4.0</td>\n",
       "      <td>3.0</td>\n",
       "      <td>3.0</td>\n",
       "      <td>2.0</td>\n",
       "      <td>3.0</td>\n",
       "      <td>3.0</td>\n",
       "      <td>3.0</td>\n",
       "      <td>3.0</td>\n",
       "    </tr>\n",
       "    <tr>\n",
       "      <th>4</th>\n",
       "      <td>ABRAZO CENTRAL CAMPUS</td>\n",
       "      <td>AZ</td>\n",
       "      <td>21.8</td>\n",
       "      <td>2.7</td>\n",
       "      <td>3.48</td>\n",
       "      <td>9.23</td>\n",
       "      <td>2.16</td>\n",
       "      <td>1.31</td>\n",
       "      <td>0.21</td>\n",
       "      <td>138.09</td>\n",
       "      <td>...</td>\n",
       "      <td>18570.0</td>\n",
       "      <td>16999.0</td>\n",
       "      <td>2.0</td>\n",
       "      <td>2.0</td>\n",
       "      <td>2.0</td>\n",
       "      <td>2.0</td>\n",
       "      <td>2.0</td>\n",
       "      <td>2.0</td>\n",
       "      <td>1.0</td>\n",
       "      <td>2.0</td>\n",
       "    </tr>\n",
       "  </tbody>\n",
       "</table>\n",
       "<p>5 rows × 64 columns</p>\n",
       "</div>"
      ],
      "text/plain": [
       "                     Hospital Name State  READM_30_HF  COMP_HIP_KNEE  \\\n",
       "0       ABBEVILLE GENERAL HOSPITAL    LA         24.6            3.0   \n",
       "1     ABBOTT NORTHWESTERN HOSPITAL    MN         22.5            2.5   \n",
       "2  ABILENE REGIONAL MEDICAL CENTER    TX         22.4            3.1   \n",
       "3       ABINGTON MEMORIAL HOSPITAL    PA         21.6            4.3   \n",
       "4            ABRAZO CENTRAL CAMPUS    AZ         21.8            2.7   \n",
       "\n",
       "   PSI_12_POSTOP_PULMEMB_DVT  PSI_13_POST_SEPSIS  PSI_14_POSTOP_DEHIS  \\\n",
       "0                       6.51                 NaN                 2.28   \n",
       "1                       5.23               11.26                 1.78   \n",
       "2                       3.43                6.36                 2.21   \n",
       "3                       8.47               10.30                 3.59   \n",
       "4                       3.48                9.23                 2.16   \n",
       "\n",
       "   PSI_15_ACC_LAC  PSI_3_ULCER  PSI_4_SURG_COMP          ...           \\\n",
       "0            1.69         0.35              NaN          ...            \n",
       "1            1.96         0.10           124.52          ...            \n",
       "2            1.17         0.16           138.47          ...            \n",
       "3            1.29         1.09           153.64          ...            \n",
       "4            1.31         0.21           138.09          ...            \n",
       "\n",
       "   PAYM_30_HF_high  PAYM_30_PN_high  H_COMP_1_STAR_RATING  \\\n",
       "0          19513.0          15770.0                   3.0   \n",
       "1          18148.0          15808.0                   4.0   \n",
       "2          19077.0          16470.0                   2.0   \n",
       "3          17847.0          15275.0                   4.0   \n",
       "4          18570.0          16999.0                   2.0   \n",
       "\n",
       "   H_COMP_2_STAR_RATING  H_COMP_3_STAR_RATING  H_COMP_4_STAR_RATING  \\\n",
       "0                   5.0                   4.0                   4.0   \n",
       "1                   4.0                   4.0                   4.0   \n",
       "2                   3.0                   3.0                   2.0   \n",
       "3                   3.0                   3.0                   2.0   \n",
       "4                   2.0                   2.0                   2.0   \n",
       "\n",
       "   H_COMP_5_STAR_RATING  H_COMP_6_STAR_RATING  H_COMP_7_STAR_RATING  \\\n",
       "0                   3.0                   2.0                   4.0   \n",
       "1                   4.0                   4.0                   4.0   \n",
       "2                   2.0                   3.0                   2.0   \n",
       "3                   3.0                   3.0                   3.0   \n",
       "4                   2.0                   2.0                   1.0   \n",
       "\n",
       "   H_RECMND_STAR_RATING  \n",
       "0                   1.0  \n",
       "1                   5.0  \n",
       "2                   3.0  \n",
       "3                   3.0  \n",
       "4                   2.0  \n",
       "\n",
       "[5 rows x 64 columns]"
      ]
     },
     "execution_count": 198,
     "metadata": {},
     "output_type": "execute_result"
    }
   ],
   "source": [
    "full_copy.head()"
   ]
  },
  {
   "cell_type": "code",
   "execution_count": 199,
   "metadata": {
    "collapsed": false
   },
   "outputs": [],
   "source": [
    "#filling nans with imputed mean\n",
    "for col in list(full_copy.columns):\n",
    "    if col in cols_dont_fill_0:\n",
    "        pass\n",
    "    else:\n",
    "        full_copy[col] = full_copy.loc[:,col].fillna(full_copy[col].mean())"
   ]
  },
  {
   "cell_type": "code",
   "execution_count": 200,
   "metadata": {
    "collapsed": false
   },
   "outputs": [
    {
     "data": {
      "text/html": [
       "<div>\n",
       "<table border=\"1\" class=\"dataframe\">\n",
       "  <thead>\n",
       "    <tr style=\"text-align: right;\">\n",
       "      <th></th>\n",
       "      <th>Hospital Name</th>\n",
       "      <th>State</th>\n",
       "      <th>READM_30_HF</th>\n",
       "      <th>COMP_HIP_KNEE</th>\n",
       "      <th>PSI_12_POSTOP_PULMEMB_DVT</th>\n",
       "      <th>PSI_13_POST_SEPSIS</th>\n",
       "      <th>PSI_14_POSTOP_DEHIS</th>\n",
       "      <th>PSI_15_ACC_LAC</th>\n",
       "      <th>PSI_3_ULCER</th>\n",
       "      <th>PSI_4_SURG_COMP</th>\n",
       "      <th>...</th>\n",
       "      <th>PAYM_30_HF_high</th>\n",
       "      <th>PAYM_30_PN_high</th>\n",
       "      <th>H_COMP_1_STAR_RATING</th>\n",
       "      <th>H_COMP_2_STAR_RATING</th>\n",
       "      <th>H_COMP_3_STAR_RATING</th>\n",
       "      <th>H_COMP_4_STAR_RATING</th>\n",
       "      <th>H_COMP_5_STAR_RATING</th>\n",
       "      <th>H_COMP_6_STAR_RATING</th>\n",
       "      <th>H_COMP_7_STAR_RATING</th>\n",
       "      <th>H_RECMND_STAR_RATING</th>\n",
       "    </tr>\n",
       "  </thead>\n",
       "  <tbody>\n",
       "    <tr>\n",
       "      <th>0</th>\n",
       "      <td>ABBEVILLE GENERAL HOSPITAL</td>\n",
       "      <td>LA</td>\n",
       "      <td>24.6</td>\n",
       "      <td>3.0</td>\n",
       "      <td>6.51</td>\n",
       "      <td>10.261768</td>\n",
       "      <td>2.28</td>\n",
       "      <td>1.69</td>\n",
       "      <td>0.35</td>\n",
       "      <td>136.656478</td>\n",
       "      <td>...</td>\n",
       "      <td>19513.0</td>\n",
       "      <td>15770.0</td>\n",
       "      <td>3.0</td>\n",
       "      <td>5.0</td>\n",
       "      <td>4.0</td>\n",
       "      <td>4.0</td>\n",
       "      <td>3.0</td>\n",
       "      <td>2.0</td>\n",
       "      <td>4.0</td>\n",
       "      <td>1.0</td>\n",
       "    </tr>\n",
       "    <tr>\n",
       "      <th>1</th>\n",
       "      <td>ABBOTT NORTHWESTERN HOSPITAL</td>\n",
       "      <td>MN</td>\n",
       "      <td>22.5</td>\n",
       "      <td>2.5</td>\n",
       "      <td>5.23</td>\n",
       "      <td>11.260000</td>\n",
       "      <td>1.78</td>\n",
       "      <td>1.96</td>\n",
       "      <td>0.10</td>\n",
       "      <td>124.520000</td>\n",
       "      <td>...</td>\n",
       "      <td>18148.0</td>\n",
       "      <td>15808.0</td>\n",
       "      <td>4.0</td>\n",
       "      <td>4.0</td>\n",
       "      <td>4.0</td>\n",
       "      <td>4.0</td>\n",
       "      <td>4.0</td>\n",
       "      <td>4.0</td>\n",
       "      <td>4.0</td>\n",
       "      <td>5.0</td>\n",
       "    </tr>\n",
       "    <tr>\n",
       "      <th>2</th>\n",
       "      <td>ABILENE REGIONAL MEDICAL CENTER</td>\n",
       "      <td>TX</td>\n",
       "      <td>22.4</td>\n",
       "      <td>3.1</td>\n",
       "      <td>3.43</td>\n",
       "      <td>6.360000</td>\n",
       "      <td>2.21</td>\n",
       "      <td>1.17</td>\n",
       "      <td>0.16</td>\n",
       "      <td>138.470000</td>\n",
       "      <td>...</td>\n",
       "      <td>19077.0</td>\n",
       "      <td>16470.0</td>\n",
       "      <td>2.0</td>\n",
       "      <td>3.0</td>\n",
       "      <td>3.0</td>\n",
       "      <td>2.0</td>\n",
       "      <td>2.0</td>\n",
       "      <td>3.0</td>\n",
       "      <td>2.0</td>\n",
       "      <td>3.0</td>\n",
       "    </tr>\n",
       "    <tr>\n",
       "      <th>3</th>\n",
       "      <td>ABINGTON MEMORIAL HOSPITAL</td>\n",
       "      <td>PA</td>\n",
       "      <td>21.6</td>\n",
       "      <td>4.3</td>\n",
       "      <td>8.47</td>\n",
       "      <td>10.300000</td>\n",
       "      <td>3.59</td>\n",
       "      <td>1.29</td>\n",
       "      <td>1.09</td>\n",
       "      <td>153.640000</td>\n",
       "      <td>...</td>\n",
       "      <td>17847.0</td>\n",
       "      <td>15275.0</td>\n",
       "      <td>4.0</td>\n",
       "      <td>3.0</td>\n",
       "      <td>3.0</td>\n",
       "      <td>2.0</td>\n",
       "      <td>3.0</td>\n",
       "      <td>3.0</td>\n",
       "      <td>3.0</td>\n",
       "      <td>3.0</td>\n",
       "    </tr>\n",
       "    <tr>\n",
       "      <th>4</th>\n",
       "      <td>ABRAZO CENTRAL CAMPUS</td>\n",
       "      <td>AZ</td>\n",
       "      <td>21.8</td>\n",
       "      <td>2.7</td>\n",
       "      <td>3.48</td>\n",
       "      <td>9.230000</td>\n",
       "      <td>2.16</td>\n",
       "      <td>1.31</td>\n",
       "      <td>0.21</td>\n",
       "      <td>138.090000</td>\n",
       "      <td>...</td>\n",
       "      <td>18570.0</td>\n",
       "      <td>16999.0</td>\n",
       "      <td>2.0</td>\n",
       "      <td>2.0</td>\n",
       "      <td>2.0</td>\n",
       "      <td>2.0</td>\n",
       "      <td>2.0</td>\n",
       "      <td>2.0</td>\n",
       "      <td>1.0</td>\n",
       "      <td>2.0</td>\n",
       "    </tr>\n",
       "  </tbody>\n",
       "</table>\n",
       "<p>5 rows × 64 columns</p>\n",
       "</div>"
      ],
      "text/plain": [
       "                     Hospital Name State  READM_30_HF  COMP_HIP_KNEE  \\\n",
       "0       ABBEVILLE GENERAL HOSPITAL    LA         24.6            3.0   \n",
       "1     ABBOTT NORTHWESTERN HOSPITAL    MN         22.5            2.5   \n",
       "2  ABILENE REGIONAL MEDICAL CENTER    TX         22.4            3.1   \n",
       "3       ABINGTON MEMORIAL HOSPITAL    PA         21.6            4.3   \n",
       "4            ABRAZO CENTRAL CAMPUS    AZ         21.8            2.7   \n",
       "\n",
       "   PSI_12_POSTOP_PULMEMB_DVT  PSI_13_POST_SEPSIS  PSI_14_POSTOP_DEHIS  \\\n",
       "0                       6.51           10.261768                 2.28   \n",
       "1                       5.23           11.260000                 1.78   \n",
       "2                       3.43            6.360000                 2.21   \n",
       "3                       8.47           10.300000                 3.59   \n",
       "4                       3.48            9.230000                 2.16   \n",
       "\n",
       "   PSI_15_ACC_LAC  PSI_3_ULCER  PSI_4_SURG_COMP          ...           \\\n",
       "0            1.69         0.35       136.656478          ...            \n",
       "1            1.96         0.10       124.520000          ...            \n",
       "2            1.17         0.16       138.470000          ...            \n",
       "3            1.29         1.09       153.640000          ...            \n",
       "4            1.31         0.21       138.090000          ...            \n",
       "\n",
       "   PAYM_30_HF_high  PAYM_30_PN_high  H_COMP_1_STAR_RATING  \\\n",
       "0          19513.0          15770.0                   3.0   \n",
       "1          18148.0          15808.0                   4.0   \n",
       "2          19077.0          16470.0                   2.0   \n",
       "3          17847.0          15275.0                   4.0   \n",
       "4          18570.0          16999.0                   2.0   \n",
       "\n",
       "   H_COMP_2_STAR_RATING  H_COMP_3_STAR_RATING  H_COMP_4_STAR_RATING  \\\n",
       "0                   5.0                   4.0                   4.0   \n",
       "1                   4.0                   4.0                   4.0   \n",
       "2                   3.0                   3.0                   2.0   \n",
       "3                   3.0                   3.0                   2.0   \n",
       "4                   2.0                   2.0                   2.0   \n",
       "\n",
       "   H_COMP_5_STAR_RATING  H_COMP_6_STAR_RATING  H_COMP_7_STAR_RATING  \\\n",
       "0                   3.0                   2.0                   4.0   \n",
       "1                   4.0                   4.0                   4.0   \n",
       "2                   2.0                   3.0                   2.0   \n",
       "3                   3.0                   3.0                   3.0   \n",
       "4                   2.0                   2.0                   1.0   \n",
       "\n",
       "   H_RECMND_STAR_RATING  \n",
       "0                   1.0  \n",
       "1                   5.0  \n",
       "2                   3.0  \n",
       "3                   3.0  \n",
       "4                   2.0  \n",
       "\n",
       "[5 rows x 64 columns]"
      ]
     },
     "execution_count": 200,
     "metadata": {},
     "output_type": "execute_result"
    }
   ],
   "source": [
    "full_copy.head()"
   ]
  },
  {
   "cell_type": "code",
   "execution_count": 201,
   "metadata": {
    "collapsed": false
   },
   "outputs": [
    {
     "data": {
      "text/plain": [
       "0"
      ]
     },
     "execution_count": 201,
     "metadata": {},
     "output_type": "execute_result"
    }
   ],
   "source": [
    "full_copy['READM_30_HF'].isnull().sum() #Good still works"
   ]
  },
  {
   "cell_type": "code",
   "execution_count": 202,
   "metadata": {
    "collapsed": false
   },
   "outputs": [
    {
     "name": "stdout",
     "output_type": "stream",
     "text": [
      "<class 'pandas.core.frame.DataFrame'>\n",
      "Int64Index: 2431 entries, 0 to 2430\n",
      "Data columns (total 64 columns):\n",
      "Hospital Name                                                                 2431 non-null object\n",
      "State                                                                         2431 non-null object\n",
      "READM_30_HF                                                                   2431 non-null float64\n",
      "COMP_HIP_KNEE                                                                 2431 non-null float64\n",
      "PSI_12_POSTOP_PULMEMB_DVT                                                     2431 non-null float64\n",
      "PSI_13_POST_SEPSIS                                                            2431 non-null float64\n",
      "PSI_14_POSTOP_DEHIS                                                           2431 non-null float64\n",
      "PSI_15_ACC_LAC                                                                2431 non-null float64\n",
      "PSI_3_ULCER                                                                   2431 non-null float64\n",
      "PSI_4_SURG_COMP                                                               2431 non-null float64\n",
      "PSI_6_IAT_PTX                                                                 2431 non-null float64\n",
      "PSI_7_CVCBI                                                                   2431 non-null float64\n",
      "PSI_8_POST_HIP                                                                2431 non-null float64\n",
      "PSI_90_SAFETY                                                                 2431 non-null float64\n",
      "COMP_HIP_KNEE_low                                                             2431 non-null float64\n",
      "PSI_12_POSTOP_PULMEMB_DVT_low                                                 2431 non-null float64\n",
      "PSI_13_POST_SEPSIS_low                                                        2431 non-null float64\n",
      "PSI_14_POSTOP_DEHIS_low                                                       2431 non-null float64\n",
      "PSI_15_ACC_LAC_low                                                            2431 non-null float64\n",
      "PSI_3_ULCER_low                                                               2431 non-null float64\n",
      "PSI_4_SURG_COMP_low                                                           2431 non-null float64\n",
      "PSI_6_IAT_PTX_low                                                             2431 non-null float64\n",
      "PSI_7_CVCBI_low                                                               2431 non-null float64\n",
      "PSI_8_POST_HIP_low                                                            2431 non-null float64\n",
      "PSI_90_SAFETY_low                                                             2431 non-null float64\n",
      "COMP_HIP_KNEE_high                                                            2431 non-null float64\n",
      "PSI_12_POSTOP_PULMEMB_DVT_high                                                2431 non-null float64\n",
      "PSI_13_POST_SEPSIS_high                                                       2431 non-null float64\n",
      "PSI_14_POSTOP_DEHIS_high                                                      2431 non-null float64\n",
      "PSI_15_ACC_LAC_high                                                           2431 non-null float64\n",
      "PSI_3_ULCER_high                                                              2431 non-null float64\n",
      "PSI_4_SURG_COMP_high                                                          2431 non-null float64\n",
      "PSI_6_IAT_PTX_high                                                            2431 non-null float64\n",
      "PSI_7_CVCBI_high                                                              2431 non-null float64\n",
      "PSI_8_POST_HIP_high                                                           2431 non-null float64\n",
      "PSI_90_SAFETY_high                                                            2431 non-null float64\n",
      "1 through 30 days After Discharge from Index Hospital Admission_inpatient     2431 non-null float64\n",
      "1 to 3 days Prior to Index Hospital Admission_inpatient                       2431 non-null float64\n",
      "During Index Hospital Admission_inpatient                                     2431 non-null float64\n",
      "1 through 30 days After Discharge from Index Hospital Admission_outpatient    2431 non-null float64\n",
      "1 to 3 days Prior to Index Hospital Admission_outpatient                      2431 non-null float64\n",
      "AHRQ_PSI_90_Score                                                             2431 non-null float64\n",
      "CLABSI_Score                                                                  2431 non-null float64\n",
      "CAUTI_Score                                                                   2431 non-null float64\n",
      "SSI_Score                                                                     2431 non-null float64\n",
      "MRSA_Score                                                                    2431 non-null float64\n",
      "CDI_Score                                                                     2431 non-null float64\n",
      "PAYM_30_AMI                                                                   2431 non-null float64\n",
      "PAYM_30_HF                                                                    2431 non-null float64\n",
      "PAYM_30_PN                                                                    2431 non-null float64\n",
      "PAYM_30_AMI_low                                                               2431 non-null float64\n",
      "PAYM_30_HF_low                                                                2431 non-null float64\n",
      "PAYM_30_PN_low                                                                2431 non-null float64\n",
      "PAYM_30_AMI_high                                                              2431 non-null float64\n",
      "PAYM_30_HF_high                                                               2431 non-null float64\n",
      "PAYM_30_PN_high                                                               2431 non-null float64\n",
      "H_COMP_1_STAR_RATING                                                          2431 non-null float64\n",
      "H_COMP_2_STAR_RATING                                                          2431 non-null float64\n",
      "H_COMP_3_STAR_RATING                                                          2431 non-null float64\n",
      "H_COMP_4_STAR_RATING                                                          2431 non-null float64\n",
      "H_COMP_5_STAR_RATING                                                          2431 non-null float64\n",
      "H_COMP_6_STAR_RATING                                                          2431 non-null float64\n",
      "H_COMP_7_STAR_RATING                                                          2431 non-null float64\n",
      "H_RECMND_STAR_RATING                                                          2431 non-null float64\n",
      "dtypes: float64(62), object(2)\n",
      "memory usage: 1.2+ MB\n"
     ]
    }
   ],
   "source": [
    "full_copy.info()"
   ]
  },
  {
   "cell_type": "code",
   "execution_count": 203,
   "metadata": {
    "collapsed": false
   },
   "outputs": [],
   "source": [
    "full_imputed = full_copy\n",
    "imputed_data_norm = full_imputed.iloc[:,2:]\n",
    "full_imputed_norm = (imputed_data_norm - imputed_data_norm.mean()) /  (imputed_data_norm.std()) #normalizing data"
   ]
  },
  {
   "cell_type": "code",
   "execution_count": 204,
   "metadata": {
    "collapsed": false
   },
   "outputs": [
    {
     "data": {
      "text/html": [
       "<div>\n",
       "<table border=\"1\" class=\"dataframe\">\n",
       "  <thead>\n",
       "    <tr style=\"text-align: right;\">\n",
       "      <th></th>\n",
       "      <th>READM_30_HF</th>\n",
       "      <th>COMP_HIP_KNEE</th>\n",
       "      <th>PSI_12_POSTOP_PULMEMB_DVT</th>\n",
       "      <th>PSI_13_POST_SEPSIS</th>\n",
       "      <th>PSI_14_POSTOP_DEHIS</th>\n",
       "      <th>PSI_15_ACC_LAC</th>\n",
       "      <th>PSI_3_ULCER</th>\n",
       "      <th>PSI_4_SURG_COMP</th>\n",
       "      <th>PSI_6_IAT_PTX</th>\n",
       "      <th>PSI_7_CVCBI</th>\n",
       "      <th>...</th>\n",
       "      <th>PAYM_30_HF_high</th>\n",
       "      <th>PAYM_30_PN_high</th>\n",
       "      <th>H_COMP_1_STAR_RATING</th>\n",
       "      <th>H_COMP_2_STAR_RATING</th>\n",
       "      <th>H_COMP_3_STAR_RATING</th>\n",
       "      <th>H_COMP_4_STAR_RATING</th>\n",
       "      <th>H_COMP_5_STAR_RATING</th>\n",
       "      <th>H_COMP_6_STAR_RATING</th>\n",
       "      <th>H_COMP_7_STAR_RATING</th>\n",
       "      <th>H_RECMND_STAR_RATING</th>\n",
       "    </tr>\n",
       "  </thead>\n",
       "  <tbody>\n",
       "    <tr>\n",
       "      <th>0</th>\n",
       "      <td>1.622811</td>\n",
       "      <td>-0.112615</td>\n",
       "      <td>0.830597</td>\n",
       "      <td>-4.729782e-14</td>\n",
       "      <td>-0.104145</td>\n",
       "      <td>0.528036</td>\n",
       "      <td>-0.195831</td>\n",
       "      <td>-7.273570e-14</td>\n",
       "      <td>-0.188529</td>\n",
       "      <td>-0.112840</td>\n",
       "      <td>...</td>\n",
       "      <td>1.266338</td>\n",
       "      <td>-0.195070</td>\n",
       "      <td>-0.316282</td>\n",
       "      <td>2.084932</td>\n",
       "      <td>0.899905</td>\n",
       "      <td>1.311527</td>\n",
       "      <td>0.090351</td>\n",
       "      <td>-1.258663</td>\n",
       "      <td>1.233180</td>\n",
       "      <td>-1.985627</td>\n",
       "    </tr>\n",
       "    <tr>\n",
       "      <th>1</th>\n",
       "      <td>0.306051</td>\n",
       "      <td>-1.072582</td>\n",
       "      <td>0.110974</td>\n",
       "      <td>5.111392e-01</td>\n",
       "      <td>-1.493551</td>\n",
       "      <td>1.085816</td>\n",
       "      <td>-0.677457</td>\n",
       "      <td>-8.173471e-01</td>\n",
       "      <td>-1.063747</td>\n",
       "      <td>-0.765439</td>\n",
       "      <td>...</td>\n",
       "      <td>0.368655</td>\n",
       "      <td>-0.167920</td>\n",
       "      <td>0.729087</td>\n",
       "      <td>1.010829</td>\n",
       "      <td>0.899905</td>\n",
       "      <td>1.311527</td>\n",
       "      <td>1.308150</td>\n",
       "      <td>0.886068</td>\n",
       "      <td>1.233180</td>\n",
       "      <td>1.998071</td>\n",
       "    </tr>\n",
       "    <tr>\n",
       "      <th>2</th>\n",
       "      <td>0.243349</td>\n",
       "      <td>0.079379</td>\n",
       "      <td>-0.900997</td>\n",
       "      <td>-1.997878e+00</td>\n",
       "      <td>-0.298662</td>\n",
       "      <td>-0.546205</td>\n",
       "      <td>-0.561867</td>\n",
       "      <td>1.221340e-01</td>\n",
       "      <td>-0.063497</td>\n",
       "      <td>-0.634919</td>\n",
       "      <td>...</td>\n",
       "      <td>0.979606</td>\n",
       "      <td>0.305071</td>\n",
       "      <td>-1.361651</td>\n",
       "      <td>-0.063274</td>\n",
       "      <td>-0.236488</td>\n",
       "      <td>-1.095403</td>\n",
       "      <td>-1.127449</td>\n",
       "      <td>-0.186297</td>\n",
       "      <td>-0.836879</td>\n",
       "      <td>0.006222</td>\n",
       "    </tr>\n",
       "    <tr>\n",
       "      <th>3</th>\n",
       "      <td>-0.258274</td>\n",
       "      <td>2.383299</td>\n",
       "      <td>1.932521</td>\n",
       "      <td>1.957673e-02</td>\n",
       "      <td>3.536101</td>\n",
       "      <td>-0.298303</td>\n",
       "      <td>1.229782</td>\n",
       "      <td>1.143778e+00</td>\n",
       "      <td>-1.063747</td>\n",
       "      <td>-0.504399</td>\n",
       "      <td>...</td>\n",
       "      <td>0.170705</td>\n",
       "      <td>-0.548742</td>\n",
       "      <td>0.729087</td>\n",
       "      <td>-0.063274</td>\n",
       "      <td>-0.236488</td>\n",
       "      <td>-1.095403</td>\n",
       "      <td>0.090351</td>\n",
       "      <td>-0.186297</td>\n",
       "      <td>0.198151</td>\n",
       "      <td>0.006222</td>\n",
       "    </tr>\n",
       "    <tr>\n",
       "      <th>4</th>\n",
       "      <td>-0.132868</td>\n",
       "      <td>-0.688595</td>\n",
       "      <td>-0.872887</td>\n",
       "      <td>-5.283107e-01</td>\n",
       "      <td>-0.437602</td>\n",
       "      <td>-0.256986</td>\n",
       "      <td>-0.465541</td>\n",
       "      <td>9.654242e-02</td>\n",
       "      <td>1.311845</td>\n",
       "      <td>0.539759</td>\n",
       "      <td>...</td>\n",
       "      <td>0.646181</td>\n",
       "      <td>0.683035</td>\n",
       "      <td>-1.361651</td>\n",
       "      <td>-1.137377</td>\n",
       "      <td>-1.372880</td>\n",
       "      <td>-1.095403</td>\n",
       "      <td>-1.127449</td>\n",
       "      <td>-1.258663</td>\n",
       "      <td>-1.871909</td>\n",
       "      <td>-0.989703</td>\n",
       "    </tr>\n",
       "  </tbody>\n",
       "</table>\n",
       "<p>5 rows × 62 columns</p>\n",
       "</div>"
      ],
      "text/plain": [
       "   READM_30_HF  COMP_HIP_KNEE  PSI_12_POSTOP_PULMEMB_DVT  PSI_13_POST_SEPSIS  \\\n",
       "0     1.622811      -0.112615                   0.830597       -4.729782e-14   \n",
       "1     0.306051      -1.072582                   0.110974        5.111392e-01   \n",
       "2     0.243349       0.079379                  -0.900997       -1.997878e+00   \n",
       "3    -0.258274       2.383299                   1.932521        1.957673e-02   \n",
       "4    -0.132868      -0.688595                  -0.872887       -5.283107e-01   \n",
       "\n",
       "   PSI_14_POSTOP_DEHIS  PSI_15_ACC_LAC  PSI_3_ULCER  PSI_4_SURG_COMP  \\\n",
       "0            -0.104145        0.528036    -0.195831    -7.273570e-14   \n",
       "1            -1.493551        1.085816    -0.677457    -8.173471e-01   \n",
       "2            -0.298662       -0.546205    -0.561867     1.221340e-01   \n",
       "3             3.536101       -0.298303     1.229782     1.143778e+00   \n",
       "4            -0.437602       -0.256986    -0.465541     9.654242e-02   \n",
       "\n",
       "   PSI_6_IAT_PTX  PSI_7_CVCBI          ...           PAYM_30_HF_high  \\\n",
       "0      -0.188529    -0.112840          ...                  1.266338   \n",
       "1      -1.063747    -0.765439          ...                  0.368655   \n",
       "2      -0.063497    -0.634919          ...                  0.979606   \n",
       "3      -1.063747    -0.504399          ...                  0.170705   \n",
       "4       1.311845     0.539759          ...                  0.646181   \n",
       "\n",
       "   PAYM_30_PN_high  H_COMP_1_STAR_RATING  H_COMP_2_STAR_RATING  \\\n",
       "0        -0.195070             -0.316282              2.084932   \n",
       "1        -0.167920              0.729087              1.010829   \n",
       "2         0.305071             -1.361651             -0.063274   \n",
       "3        -0.548742              0.729087             -0.063274   \n",
       "4         0.683035             -1.361651             -1.137377   \n",
       "\n",
       "   H_COMP_3_STAR_RATING  H_COMP_4_STAR_RATING  H_COMP_5_STAR_RATING  \\\n",
       "0              0.899905              1.311527              0.090351   \n",
       "1              0.899905              1.311527              1.308150   \n",
       "2             -0.236488             -1.095403             -1.127449   \n",
       "3             -0.236488             -1.095403              0.090351   \n",
       "4             -1.372880             -1.095403             -1.127449   \n",
       "\n",
       "   H_COMP_6_STAR_RATING  H_COMP_7_STAR_RATING  H_RECMND_STAR_RATING  \n",
       "0             -1.258663              1.233180             -1.985627  \n",
       "1              0.886068              1.233180              1.998071  \n",
       "2             -0.186297             -0.836879              0.006222  \n",
       "3             -0.186297              0.198151              0.006222  \n",
       "4             -1.258663             -1.871909             -0.989703  \n",
       "\n",
       "[5 rows x 62 columns]"
      ]
     },
     "execution_count": 204,
     "metadata": {},
     "output_type": "execute_result"
    }
   ],
   "source": [
    "full_imputed_norm.head()"
   ]
  },
  {
   "cell_type": "code",
   "execution_count": 205,
   "metadata": {
    "collapsed": false
   },
   "outputs": [],
   "source": [
    "full_imputed_norm.insert(0, 'Hospital Name', full_imputed['Hospital Name'])\n",
    "full_imputed_norm.insert(1, 'State', full_imputed['State'])"
   ]
  },
  {
   "cell_type": "code",
   "execution_count": 206,
   "metadata": {
    "collapsed": false
   },
   "outputs": [
    {
     "data": {
      "text/html": [
       "<div>\n",
       "<table border=\"1\" class=\"dataframe\">\n",
       "  <thead>\n",
       "    <tr style=\"text-align: right;\">\n",
       "      <th></th>\n",
       "      <th>Hospital Name</th>\n",
       "      <th>State</th>\n",
       "      <th>READM_30_HF</th>\n",
       "      <th>COMP_HIP_KNEE</th>\n",
       "      <th>PSI_12_POSTOP_PULMEMB_DVT</th>\n",
       "      <th>PSI_13_POST_SEPSIS</th>\n",
       "      <th>PSI_14_POSTOP_DEHIS</th>\n",
       "      <th>PSI_15_ACC_LAC</th>\n",
       "      <th>PSI_3_ULCER</th>\n",
       "      <th>PSI_4_SURG_COMP</th>\n",
       "      <th>...</th>\n",
       "      <th>PAYM_30_HF_high</th>\n",
       "      <th>PAYM_30_PN_high</th>\n",
       "      <th>H_COMP_1_STAR_RATING</th>\n",
       "      <th>H_COMP_2_STAR_RATING</th>\n",
       "      <th>H_COMP_3_STAR_RATING</th>\n",
       "      <th>H_COMP_4_STAR_RATING</th>\n",
       "      <th>H_COMP_5_STAR_RATING</th>\n",
       "      <th>H_COMP_6_STAR_RATING</th>\n",
       "      <th>H_COMP_7_STAR_RATING</th>\n",
       "      <th>H_RECMND_STAR_RATING</th>\n",
       "    </tr>\n",
       "  </thead>\n",
       "  <tbody>\n",
       "    <tr>\n",
       "      <th>0</th>\n",
       "      <td>ABBEVILLE GENERAL HOSPITAL</td>\n",
       "      <td>LA</td>\n",
       "      <td>1.622811</td>\n",
       "      <td>-0.112615</td>\n",
       "      <td>0.830597</td>\n",
       "      <td>-4.729782e-14</td>\n",
       "      <td>-0.104145</td>\n",
       "      <td>0.528036</td>\n",
       "      <td>-0.195831</td>\n",
       "      <td>-7.273570e-14</td>\n",
       "      <td>...</td>\n",
       "      <td>1.266338</td>\n",
       "      <td>-0.195070</td>\n",
       "      <td>-0.316282</td>\n",
       "      <td>2.084932</td>\n",
       "      <td>0.899905</td>\n",
       "      <td>1.311527</td>\n",
       "      <td>0.090351</td>\n",
       "      <td>-1.258663</td>\n",
       "      <td>1.233180</td>\n",
       "      <td>-1.985627</td>\n",
       "    </tr>\n",
       "    <tr>\n",
       "      <th>1</th>\n",
       "      <td>ABBOTT NORTHWESTERN HOSPITAL</td>\n",
       "      <td>MN</td>\n",
       "      <td>0.306051</td>\n",
       "      <td>-1.072582</td>\n",
       "      <td>0.110974</td>\n",
       "      <td>5.111392e-01</td>\n",
       "      <td>-1.493551</td>\n",
       "      <td>1.085816</td>\n",
       "      <td>-0.677457</td>\n",
       "      <td>-8.173471e-01</td>\n",
       "      <td>...</td>\n",
       "      <td>0.368655</td>\n",
       "      <td>-0.167920</td>\n",
       "      <td>0.729087</td>\n",
       "      <td>1.010829</td>\n",
       "      <td>0.899905</td>\n",
       "      <td>1.311527</td>\n",
       "      <td>1.308150</td>\n",
       "      <td>0.886068</td>\n",
       "      <td>1.233180</td>\n",
       "      <td>1.998071</td>\n",
       "    </tr>\n",
       "    <tr>\n",
       "      <th>2</th>\n",
       "      <td>ABILENE REGIONAL MEDICAL CENTER</td>\n",
       "      <td>TX</td>\n",
       "      <td>0.243349</td>\n",
       "      <td>0.079379</td>\n",
       "      <td>-0.900997</td>\n",
       "      <td>-1.997878e+00</td>\n",
       "      <td>-0.298662</td>\n",
       "      <td>-0.546205</td>\n",
       "      <td>-0.561867</td>\n",
       "      <td>1.221340e-01</td>\n",
       "      <td>...</td>\n",
       "      <td>0.979606</td>\n",
       "      <td>0.305071</td>\n",
       "      <td>-1.361651</td>\n",
       "      <td>-0.063274</td>\n",
       "      <td>-0.236488</td>\n",
       "      <td>-1.095403</td>\n",
       "      <td>-1.127449</td>\n",
       "      <td>-0.186297</td>\n",
       "      <td>-0.836879</td>\n",
       "      <td>0.006222</td>\n",
       "    </tr>\n",
       "    <tr>\n",
       "      <th>3</th>\n",
       "      <td>ABINGTON MEMORIAL HOSPITAL</td>\n",
       "      <td>PA</td>\n",
       "      <td>-0.258274</td>\n",
       "      <td>2.383299</td>\n",
       "      <td>1.932521</td>\n",
       "      <td>1.957673e-02</td>\n",
       "      <td>3.536101</td>\n",
       "      <td>-0.298303</td>\n",
       "      <td>1.229782</td>\n",
       "      <td>1.143778e+00</td>\n",
       "      <td>...</td>\n",
       "      <td>0.170705</td>\n",
       "      <td>-0.548742</td>\n",
       "      <td>0.729087</td>\n",
       "      <td>-0.063274</td>\n",
       "      <td>-0.236488</td>\n",
       "      <td>-1.095403</td>\n",
       "      <td>0.090351</td>\n",
       "      <td>-0.186297</td>\n",
       "      <td>0.198151</td>\n",
       "      <td>0.006222</td>\n",
       "    </tr>\n",
       "    <tr>\n",
       "      <th>4</th>\n",
       "      <td>ABRAZO CENTRAL CAMPUS</td>\n",
       "      <td>AZ</td>\n",
       "      <td>-0.132868</td>\n",
       "      <td>-0.688595</td>\n",
       "      <td>-0.872887</td>\n",
       "      <td>-5.283107e-01</td>\n",
       "      <td>-0.437602</td>\n",
       "      <td>-0.256986</td>\n",
       "      <td>-0.465541</td>\n",
       "      <td>9.654242e-02</td>\n",
       "      <td>...</td>\n",
       "      <td>0.646181</td>\n",
       "      <td>0.683035</td>\n",
       "      <td>-1.361651</td>\n",
       "      <td>-1.137377</td>\n",
       "      <td>-1.372880</td>\n",
       "      <td>-1.095403</td>\n",
       "      <td>-1.127449</td>\n",
       "      <td>-1.258663</td>\n",
       "      <td>-1.871909</td>\n",
       "      <td>-0.989703</td>\n",
       "    </tr>\n",
       "  </tbody>\n",
       "</table>\n",
       "<p>5 rows × 64 columns</p>\n",
       "</div>"
      ],
      "text/plain": [
       "                     Hospital Name State  READM_30_HF  COMP_HIP_KNEE  \\\n",
       "0       ABBEVILLE GENERAL HOSPITAL    LA     1.622811      -0.112615   \n",
       "1     ABBOTT NORTHWESTERN HOSPITAL    MN     0.306051      -1.072582   \n",
       "2  ABILENE REGIONAL MEDICAL CENTER    TX     0.243349       0.079379   \n",
       "3       ABINGTON MEMORIAL HOSPITAL    PA    -0.258274       2.383299   \n",
       "4            ABRAZO CENTRAL CAMPUS    AZ    -0.132868      -0.688595   \n",
       "\n",
       "   PSI_12_POSTOP_PULMEMB_DVT  PSI_13_POST_SEPSIS  PSI_14_POSTOP_DEHIS  \\\n",
       "0                   0.830597       -4.729782e-14            -0.104145   \n",
       "1                   0.110974        5.111392e-01            -1.493551   \n",
       "2                  -0.900997       -1.997878e+00            -0.298662   \n",
       "3                   1.932521        1.957673e-02             3.536101   \n",
       "4                  -0.872887       -5.283107e-01            -0.437602   \n",
       "\n",
       "   PSI_15_ACC_LAC  PSI_3_ULCER  PSI_4_SURG_COMP          ...           \\\n",
       "0        0.528036    -0.195831    -7.273570e-14          ...            \n",
       "1        1.085816    -0.677457    -8.173471e-01          ...            \n",
       "2       -0.546205    -0.561867     1.221340e-01          ...            \n",
       "3       -0.298303     1.229782     1.143778e+00          ...            \n",
       "4       -0.256986    -0.465541     9.654242e-02          ...            \n",
       "\n",
       "   PAYM_30_HF_high  PAYM_30_PN_high  H_COMP_1_STAR_RATING  \\\n",
       "0         1.266338        -0.195070             -0.316282   \n",
       "1         0.368655        -0.167920              0.729087   \n",
       "2         0.979606         0.305071             -1.361651   \n",
       "3         0.170705        -0.548742              0.729087   \n",
       "4         0.646181         0.683035             -1.361651   \n",
       "\n",
       "   H_COMP_2_STAR_RATING  H_COMP_3_STAR_RATING  H_COMP_4_STAR_RATING  \\\n",
       "0              2.084932              0.899905              1.311527   \n",
       "1              1.010829              0.899905              1.311527   \n",
       "2             -0.063274             -0.236488             -1.095403   \n",
       "3             -0.063274             -0.236488             -1.095403   \n",
       "4             -1.137377             -1.372880             -1.095403   \n",
       "\n",
       "   H_COMP_5_STAR_RATING  H_COMP_6_STAR_RATING  H_COMP_7_STAR_RATING  \\\n",
       "0              0.090351             -1.258663              1.233180   \n",
       "1              1.308150              0.886068              1.233180   \n",
       "2             -1.127449             -0.186297             -0.836879   \n",
       "3              0.090351             -0.186297              0.198151   \n",
       "4             -1.127449             -1.258663             -1.871909   \n",
       "\n",
       "   H_RECMND_STAR_RATING  \n",
       "0             -1.985627  \n",
       "1              1.998071  \n",
       "2              0.006222  \n",
       "3              0.006222  \n",
       "4             -0.989703  \n",
       "\n",
       "[5 rows x 64 columns]"
      ]
     },
     "execution_count": 206,
     "metadata": {},
     "output_type": "execute_result"
    }
   ],
   "source": [
    "full_imputed_norm.head()"
   ]
  },
  {
   "cell_type": "markdown",
   "metadata": {},
   "source": [
    "#### Try linear regressor on a few states"
   ]
  },
  {
   "cell_type": "markdown",
   "metadata": {},
   "source": [
    "#### Normalized, including 0s"
   ]
  },
  {
   "cell_type": "code",
   "execution_count": 207,
   "metadata": {
    "collapsed": false
   },
   "outputs": [
    {
     "data": {
      "text/plain": [
       "50"
      ]
     },
     "execution_count": 207,
     "metadata": {},
     "output_type": "execute_result"
    }
   ],
   "source": [
    "len(full_norm.State.unique())"
   ]
  },
  {
   "cell_type": "code",
   "execution_count": 208,
   "metadata": {
    "collapsed": false
   },
   "outputs": [],
   "source": [
    "trial_states = ['CA','FL','TX','IL']"
   ]
  },
  {
   "cell_type": "code",
   "execution_count": 209,
   "metadata": {
    "collapsed": false
   },
   "outputs": [],
   "source": [
    "trial_state_dbs = {} # Dict of state by state datasets\n",
    "full_hf = full_norm[features_hf_cols]\n",
    "for i in trial_states: \n",
    "    trial_state_dbs[i] = full_norm[full_norm['State'] == i]"
   ]
  },
  {
   "cell_type": "code",
   "execution_count": 210,
   "metadata": {
    "collapsed": false
   },
   "outputs": [],
   "source": [
    "trial_state_features = {}\n",
    "trial_state_target = {}\n",
    "for i in trial_states:\n",
    "\n",
    "    trial_state_features[i] = full_norm[full_norm['State'] == i][features_hf_cols]\n",
    "    trial_state_target[i] = full_norm[full_norm['State'] == i].READM_30_HF\n",
    "# These features dont contain the states or hospital names"
   ]
  },
  {
   "cell_type": "code",
   "execution_count": 211,
   "metadata": {
    "collapsed": false
   },
   "outputs": [
    {
     "data": {
      "text/html": [
       "<div>\n",
       "<table border=\"1\" class=\"dataframe\">\n",
       "  <thead>\n",
       "    <tr style=\"text-align: right;\">\n",
       "      <th></th>\n",
       "      <th>PSI_4_SURG_COMP</th>\n",
       "      <th>PSI_12_POSTOP_PULMEMB_DVT</th>\n",
       "      <th>1 through 30 days After Discharge from Index Hospital Admission_inpatient</th>\n",
       "      <th>1 through 30 days After Discharge from Index Hospital Admission_outpatient</th>\n",
       "      <th>During Index Hospital Admission_inpatient</th>\n",
       "      <th>AHRQ_PSI_90_Score</th>\n",
       "      <th>MRSA_Score</th>\n",
       "      <th>CAUTI_Score</th>\n",
       "      <th>CDI_Score</th>\n",
       "      <th>PAYM_30_HF</th>\n",
       "      <th>PAYM_30_HF_low</th>\n",
       "      <th>PAYM_30_HF_high</th>\n",
       "    </tr>\n",
       "  </thead>\n",
       "  <tbody>\n",
       "    <tr>\n",
       "      <th>14</th>\n",
       "      <td>1.123628</td>\n",
       "      <td>-0.463973</td>\n",
       "      <td>-0.774897</td>\n",
       "      <td>0.943392</td>\n",
       "      <td>-0.293242</td>\n",
       "      <td>-0.828857</td>\n",
       "      <td>-0.058785</td>\n",
       "      <td>1.644492</td>\n",
       "      <td>-0.204799</td>\n",
       "      <td>-1.005118</td>\n",
       "      <td>-0.760848</td>\n",
       "      <td>-1.199667</td>\n",
       "    </tr>\n",
       "    <tr>\n",
       "      <th>26</th>\n",
       "      <td>0.696927</td>\n",
       "      <td>-0.610003</td>\n",
       "      <td>0.351034</td>\n",
       "      <td>-0.184062</td>\n",
       "      <td>0.074859</td>\n",
       "      <td>1.548866</td>\n",
       "      <td>0.232266</td>\n",
       "      <td>-0.462444</td>\n",
       "      <td>1.569493</td>\n",
       "      <td>1.051962</td>\n",
       "      <td>1.103376</td>\n",
       "      <td>0.944992</td>\n",
       "    </tr>\n",
       "    <tr>\n",
       "      <th>30</th>\n",
       "      <td>-1.231078</td>\n",
       "      <td>0.095810</td>\n",
       "      <td>-0.716476</td>\n",
       "      <td>-0.989386</td>\n",
       "      <td>-0.473990</td>\n",
       "      <td>0.190168</td>\n",
       "      <td>-0.931939</td>\n",
       "      <td>-1.064425</td>\n",
       "      <td>1.569493</td>\n",
       "      <td>0.039637</td>\n",
       "      <td>-0.087361</td>\n",
       "      <td>0.153527</td>\n",
       "    </tr>\n",
       "    <tr>\n",
       "      <th>37</th>\n",
       "      <td>-1.231078</td>\n",
       "      <td>-0.463973</td>\n",
       "      <td>2.409045</td>\n",
       "      <td>-0.217222</td>\n",
       "      <td>-0.213977</td>\n",
       "      <td>-1.168531</td>\n",
       "      <td>0.523318</td>\n",
       "      <td>-1.064425</td>\n",
       "      <td>1.214634</td>\n",
       "      <td>2.222946</td>\n",
       "      <td>1.767762</td>\n",
       "      <td>2.543331</td>\n",
       "    </tr>\n",
       "    <tr>\n",
       "      <th>50</th>\n",
       "      <td>1.169540</td>\n",
       "      <td>0.830829</td>\n",
       "      <td>0.103187</td>\n",
       "      <td>1.123406</td>\n",
       "      <td>0.897533</td>\n",
       "      <td>1.548866</td>\n",
       "      <td>-0.058785</td>\n",
       "      <td>-0.763435</td>\n",
       "      <td>0.859776</td>\n",
       "      <td>0.119465</td>\n",
       "      <td>0.301462</td>\n",
       "      <td>-0.111695</td>\n",
       "    </tr>\n",
       "  </tbody>\n",
       "</table>\n",
       "</div>"
      ],
      "text/plain": [
       "    PSI_4_SURG_COMP  PSI_12_POSTOP_PULMEMB_DVT  \\\n",
       "14         1.123628                  -0.463973   \n",
       "26         0.696927                  -0.610003   \n",
       "30        -1.231078                   0.095810   \n",
       "37        -1.231078                  -0.463973   \n",
       "50         1.169540                   0.830829   \n",
       "\n",
       "    1 through 30 days After Discharge from Index Hospital Admission_inpatient  \\\n",
       "14                                          -0.774897                           \n",
       "26                                           0.351034                           \n",
       "30                                          -0.716476                           \n",
       "37                                           2.409045                           \n",
       "50                                           0.103187                           \n",
       "\n",
       "    1 through 30 days After Discharge from Index Hospital Admission_outpatient  \\\n",
       "14                                           0.943392                            \n",
       "26                                          -0.184062                            \n",
       "30                                          -0.989386                            \n",
       "37                                          -0.217222                            \n",
       "50                                           1.123406                            \n",
       "\n",
       "    During Index Hospital Admission_inpatient  AHRQ_PSI_90_Score  MRSA_Score  \\\n",
       "14                                  -0.293242          -0.828857   -0.058785   \n",
       "26                                   0.074859           1.548866    0.232266   \n",
       "30                                  -0.473990           0.190168   -0.931939   \n",
       "37                                  -0.213977          -1.168531    0.523318   \n",
       "50                                   0.897533           1.548866   -0.058785   \n",
       "\n",
       "    CAUTI_Score  CDI_Score  PAYM_30_HF  PAYM_30_HF_low  PAYM_30_HF_high  \n",
       "14     1.644492  -0.204799   -1.005118       -0.760848        -1.199667  \n",
       "26    -0.462444   1.569493    1.051962        1.103376         0.944992  \n",
       "30    -1.064425   1.569493    0.039637       -0.087361         0.153527  \n",
       "37    -1.064425   1.214634    2.222946        1.767762         2.543331  \n",
       "50    -0.763435   0.859776    0.119465        0.301462        -0.111695  "
      ]
     },
     "execution_count": 211,
     "metadata": {},
     "output_type": "execute_result"
    }
   ],
   "source": [
    "trial_state_features['CA'].head()"
   ]
  },
  {
   "cell_type": "code",
   "execution_count": 212,
   "metadata": {
    "collapsed": false
   },
   "outputs": [
    {
     "name": "stderr",
     "output_type": "stream",
     "text": [
      "/Users/sheena/anaconda/lib/python2.7/site-packages/sklearn/cross_validation.py:44: DeprecationWarning:\n",
      "\n",
      "This module was deprecated in version 0.18 in favor of the model_selection module into which all the refactored classes and functions are moved. Also note that the interface of the new CV iterators are different from that of this module. This module will be removed in 0.20.\n",
      "\n"
     ]
    }
   ],
   "source": [
    "from sklearn.cross_validation import train_test_split \n",
    "from sklearn.cross_validation import cross_val_score \n",
    "from sklearn.metrics import (auc, roc_curve, roc_auc_score,\n",
    "                             accuracy_score, precision_score,\n",
    "                             recall_score, f1_score, )\n",
    "from sklearn import datasets, linear_model\n",
    "from sklearn import preprocessing\n",
    "from sklearn.ensemble import RandomForestClassifier"
   ]
  },
  {
   "cell_type": "code",
   "execution_count": 213,
   "metadata": {
    "collapsed": true
   },
   "outputs": [],
   "source": [
    "regr = linear_model.LinearRegression()"
   ]
  },
  {
   "cell_type": "code",
   "execution_count": 214,
   "metadata": {
    "collapsed": false
   },
   "outputs": [],
   "source": [
    "rf = RandomForestClassifier()"
   ]
  },
  {
   "cell_type": "code",
   "execution_count": 215,
   "metadata": {
    "collapsed": false
   },
   "outputs": [],
   "source": [
    "trial_state_models_lreg = {}\n",
    "for i in trial_states:\n",
    "    X_train, X_test, y_train, y_test = train_test_split(trial_state_features[i], \n",
    "                                                        trial_state_target[i], test_size=.2, random_state=1)\n",
    "    regr = linear_model.LinearRegression()\n",
    "    trial_state_models_lreg[i]  = regr.fit(X_train, y_train)"
   ]
  },
  {
   "cell_type": "code",
   "execution_count": 216,
   "metadata": {
    "collapsed": false
   },
   "outputs": [
    {
     "data": {
      "text/plain": [
       "array([ 0.06146489, -0.11408499,  0.05248056,  0.18129401, -0.32670103,\n",
       "        0.10602681,  0.16366327, -0.03476226,  0.07307619,  4.58454582,\n",
       "       -2.52770736, -2.15250544])"
      ]
     },
     "execution_count": 216,
     "metadata": {},
     "output_type": "execute_result"
    }
   ],
   "source": [
    "trial_state_models_lreg['CA'].coef_"
   ]
  },
  {
   "cell_type": "code",
   "execution_count": 217,
   "metadata": {
    "collapsed": false
   },
   "outputs": [
    {
     "data": {
      "image/png": "[encoded data removed]",
      "text/plain": [
       "<matplotlib.figure.Figure at 0x12319f190>"
      ]
     },
     "metadata": {},
     "output_type": "display_data"
    }
   ],
   "source": [
    "plt.scatter((trial_state_features['CA']['PAYM_30_HF_low']), trial_state_target['CA'])\n",
    "plt.xlim(-2,2)\n",
    "plt.xlabel('HF Claim spending(low end of 95% CI)')\n",
    "plt.ylabel('Readmission Rates for CA')\n",
    "plt.title('Low end of spending per HF Claim v Readmissions')\n",
    "plt.show()"
   ]
  },
  {
   "cell_type": "code",
   "execution_count": 218,
   "metadata": {
    "collapsed": false
   },
   "outputs": [
    {
     "data": {
      "image/png": "[encoded data removed]",
      "text/plain": [
       "<matplotlib.figure.Figure at 0x11cc09d50>"
      ]
     },
     "metadata": {},
     "output_type": "display_data"
    }
   ],
   "source": [
    "plt.scatter((trial_state_features['CA']['PAYM_30_HF']), trial_state_target['CA'])\n",
    "plt.xlim(-2,2)\n",
    "plt.xlabel('HF Claim spending average')\n",
    "plt.ylabel('Readmission Rates for CA')\n",
    "plt.title('Spending per HF Claim v Readmissions')\n",
    "plt.show()"
   ]
  },
  {
   "cell_type": "code",
   "execution_count": 219,
   "metadata": {
    "collapsed": false
   },
   "outputs": [
    {
     "data": {
      "text/plain": [
       "array([  5.28923862e-02,   8.57876178e-02,  -7.39780865e-04,\n",
       "         1.23999069e-01,  -2.64016719e-01,  -5.26091481e-02,\n",
       "         2.05995166e-02,   9.68675527e-02,   2.42122280e-02,\n",
       "        -2.51347516e+00,   1.10169458e+00,   1.42628171e+00])"
      ]
     },
     "execution_count": 219,
     "metadata": {},
     "output_type": "execute_result"
    }
   ],
   "source": [
    "trial_state_models_lreg['TX'].coef_"
   ]
  },
  {
   "cell_type": "code",
   "execution_count": 220,
   "metadata": {
    "collapsed": false
   },
   "outputs": [
    {
     "data": {
      "text/plain": [
       "50"
      ]
     },
     "execution_count": 220,
     "metadata": {},
     "output_type": "execute_result"
    }
   ],
   "source": [
    "state = list(features.State.unique())\n",
    "len(state)"
   ]
  },
  {
   "cell_type": "code",
   "execution_count": 221,
   "metadata": {
    "collapsed": false
   },
   "outputs": [],
   "source": [
    "trial_state_model_aves = {}\n",
    "for i in trial_states:\n",
    "    trial_state_model_aves[i] = trial_state_target[i].mean()"
   ]
  },
  {
   "cell_type": "code",
   "execution_count": 222,
   "metadata": {
    "collapsed": true
   },
   "outputs": [],
   "source": [
    "import gzip\n",
    "import dill"
   ]
  },
  {
   "cell_type": "code",
   "execution_count": 223,
   "metadata": {
    "collapsed": false
   },
   "outputs": [],
   "source": [
    "with gzip.open('state_model_aves.dill.gz', 'w') as ff:\n",
    "   dill.dump(trial_state_model_aves, ff)"
   ]
  },
  {
   "cell_type": "code",
   "execution_count": 224,
   "metadata": {
    "collapsed": false
   },
   "outputs": [
    {
     "name": "stdout",
     "output_type": "stream",
     "text": [
      "[0.025978730771801628, 0.4557704017915087, -0.2074848215299215, 0.0941731856369109]\n"
     ]
    }
   ],
   "source": [
    "list1 = []\n",
    "for i in trial_states:\n",
    "    \n",
    "    list1.append(trial_state_target[i].mean())\n",
    "print list1"
   ]
  },
  {
   "cell_type": "code",
   "execution_count": 225,
   "metadata": {
    "collapsed": false
   },
   "outputs": [],
   "source": [
    "trial_state_coef = {}\n",
    "for i in trial_states: \n",
    "    features_hf_cols\n",
    "    trial_state_coef[i] = {z[0]:z[1] for z in zip(features_hf_cols, np.absolute(trial_state_models_lreg[i].coef_))}"
   ]
  },
  {
   "cell_type": "code",
   "execution_count": 226,
   "metadata": {
    "collapsed": false
   },
   "outputs": [],
   "source": [
    "import operator\n",
    "important_features = {}\n",
    "for i in trial_states:\n",
    "    important_features[i] = max(trial_state_coef[i].iteritems(), key=operator.itemgetter(1))[0]"
   ]
  },
  {
   "cell_type": "code",
   "execution_count": 227,
   "metadata": {
    "collapsed": false
   },
   "outputs": [
    {
     "data": {
      "text/plain": [
       "{'CA': 'PAYM_30_HF',\n",
       " 'FL': 'PAYM_30_HF',\n",
       " 'IL': 'PAYM_30_HF',\n",
       " 'TX': 'PAYM_30_HF'}"
      ]
     },
     "execution_count": 227,
     "metadata": {},
     "output_type": "execute_result"
    }
   ],
   "source": [
    "important_features"
   ]
  },
  {
   "cell_type": "code",
   "execution_count": 228,
   "metadata": {
    "collapsed": false
   },
   "outputs": [],
   "source": [
    "with gzip.open('important_features.dill.gz', 'w') as fff:\n",
    "   dill.dump(important_features, fff)"
   ]
  },
  {
   "cell_type": "code",
   "execution_count": 229,
   "metadata": {
    "collapsed": false
   },
   "outputs": [
    {
     "data": {
      "text/plain": [
       "'PAYM_30_HF'"
      ]
     },
     "execution_count": 229,
     "metadata": {},
     "output_type": "execute_result"
    }
   ],
   "source": [
    "important_features['IL']"
   ]
  },
  {
   "cell_type": "code",
   "execution_count": 230,
   "metadata": {
    "collapsed": false
   },
   "outputs": [
    {
     "name": "stdout",
     "output_type": "stream",
     "text": [
      "[-0.81840168632863575, -1.1121782954381336, -0.73997752543875595, -1.3875320041903609]\n"
     ]
    },
    {
     "name": "stderr",
     "output_type": "stream",
     "text": [
      "/Users/sheena/anaconda/lib/python2.7/site-packages/sklearn/metrics/scorer.py:90: DeprecationWarning:\n",
      "\n",
      "Scoring method mean_squared_error was renamed to neg_mean_squared_error in version 0.18 and will be removed in 0.20.\n",
      "\n",
      "/Users/sheena/anaconda/lib/python2.7/site-packages/sklearn/metrics/scorer.py:90: DeprecationWarning:\n",
      "\n",
      "Scoring method mean_squared_error was renamed to neg_mean_squared_error in version 0.18 and will be removed in 0.20.\n",
      "\n",
      "/Users/sheena/anaconda/lib/python2.7/site-packages/sklearn/metrics/scorer.py:90: DeprecationWarning:\n",
      "\n",
      "Scoring method mean_squared_error was renamed to neg_mean_squared_error in version 0.18 and will be removed in 0.20.\n",
      "\n",
      "/Users/sheena/anaconda/lib/python2.7/site-packages/sklearn/metrics/scorer.py:90: DeprecationWarning:\n",
      "\n",
      "Scoring method mean_squared_error was renamed to neg_mean_squared_error in version 0.18 and will be removed in 0.20.\n",
      "\n",
      "/Users/sheena/anaconda/lib/python2.7/site-packages/sklearn/metrics/scorer.py:90: DeprecationWarning:\n",
      "\n",
      "Scoring method mean_squared_error was renamed to neg_mean_squared_error in version 0.18 and will be removed in 0.20.\n",
      "\n",
      "/Users/sheena/anaconda/lib/python2.7/site-packages/sklearn/metrics/scorer.py:90: DeprecationWarning:\n",
      "\n",
      "Scoring method mean_squared_error was renamed to neg_mean_squared_error in version 0.18 and will be removed in 0.20.\n",
      "\n",
      "/Users/sheena/anaconda/lib/python2.7/site-packages/sklearn/metrics/scorer.py:90: DeprecationWarning:\n",
      "\n",
      "Scoring method mean_squared_error was renamed to neg_mean_squared_error in version 0.18 and will be removed in 0.20.\n",
      "\n",
      "/Users/sheena/anaconda/lib/python2.7/site-packages/sklearn/metrics/scorer.py:90: DeprecationWarning:\n",
      "\n",
      "Scoring method mean_squared_error was renamed to neg_mean_squared_error in version 0.18 and will be removed in 0.20.\n",
      "\n",
      "/Users/sheena/anaconda/lib/python2.7/site-packages/sklearn/metrics/scorer.py:90: DeprecationWarning:\n",
      "\n",
      "Scoring method mean_squared_error was renamed to neg_mean_squared_error in version 0.18 and will be removed in 0.20.\n",
      "\n",
      "/Users/sheena/anaconda/lib/python2.7/site-packages/sklearn/metrics/scorer.py:90: DeprecationWarning:\n",
      "\n",
      "Scoring method mean_squared_error was renamed to neg_mean_squared_error in version 0.18 and will be removed in 0.20.\n",
      "\n",
      "/Users/sheena/anaconda/lib/python2.7/site-packages/sklearn/metrics/scorer.py:90: DeprecationWarning:\n",
      "\n",
      "Scoring method mean_squared_error was renamed to neg_mean_squared_error in version 0.18 and will be removed in 0.20.\n",
      "\n",
      "/Users/sheena/anaconda/lib/python2.7/site-packages/sklearn/metrics/scorer.py:90: DeprecationWarning:\n",
      "\n",
      "Scoring method mean_squared_error was renamed to neg_mean_squared_error in version 0.18 and will be removed in 0.20.\n",
      "\n",
      "/Users/sheena/anaconda/lib/python2.7/site-packages/sklearn/metrics/scorer.py:90: DeprecationWarning:\n",
      "\n",
      "Scoring method mean_squared_error was renamed to neg_mean_squared_error in version 0.18 and will be removed in 0.20.\n",
      "\n",
      "/Users/sheena/anaconda/lib/python2.7/site-packages/sklearn/metrics/scorer.py:90: DeprecationWarning:\n",
      "\n",
      "Scoring method mean_squared_error was renamed to neg_mean_squared_error in version 0.18 and will be removed in 0.20.\n",
      "\n",
      "/Users/sheena/anaconda/lib/python2.7/site-packages/sklearn/metrics/scorer.py:90: DeprecationWarning:\n",
      "\n",
      "Scoring method mean_squared_error was renamed to neg_mean_squared_error in version 0.18 and will be removed in 0.20.\n",
      "\n",
      "/Users/sheena/anaconda/lib/python2.7/site-packages/sklearn/metrics/scorer.py:90: DeprecationWarning:\n",
      "\n",
      "Scoring method mean_squared_error was renamed to neg_mean_squared_error in version 0.18 and will be removed in 0.20.\n",
      "\n",
      "/Users/sheena/anaconda/lib/python2.7/site-packages/sklearn/metrics/scorer.py:90: DeprecationWarning:\n",
      "\n",
      "Scoring method mean_squared_error was renamed to neg_mean_squared_error in version 0.18 and will be removed in 0.20.\n",
      "\n",
      "/Users/sheena/anaconda/lib/python2.7/site-packages/sklearn/metrics/scorer.py:90: DeprecationWarning:\n",
      "\n",
      "Scoring method mean_squared_error was renamed to neg_mean_squared_error in version 0.18 and will be removed in 0.20.\n",
      "\n",
      "/Users/sheena/anaconda/lib/python2.7/site-packages/sklearn/metrics/scorer.py:90: DeprecationWarning:\n",
      "\n",
      "Scoring method mean_squared_error was renamed to neg_mean_squared_error in version 0.18 and will be removed in 0.20.\n",
      "\n",
      "/Users/sheena/anaconda/lib/python2.7/site-packages/sklearn/metrics/scorer.py:90: DeprecationWarning:\n",
      "\n",
      "Scoring method mean_squared_error was renamed to neg_mean_squared_error in version 0.18 and will be removed in 0.20.\n",
      "\n"
     ]
    }
   ],
   "source": [
    "#Model eval. I want to loop through the values of state targets\n",
    "score = []\n",
    "for i in trial_states:\n",
    "    \n",
    "    scores = cross_val_score(trial_state_models_lreg[i], trial_state_features[i], trial_state_target[i], cv=5, \n",
    "                             scoring='mean_squared_error').mean()\n",
    "    score.append(scores)\n",
    "print score"
   ]
  },
  {
   "cell_type": "code",
   "execution_count": 231,
   "metadata": {
    "collapsed": false
   },
   "outputs": [
    {
     "name": "stdout",
     "output_type": "stream",
     "text": [
      "[0.14659189358405511, 0.23470492645625018, 0.13917435661467714, 0.16226088785062154]\n"
     ]
    }
   ],
   "source": [
    "score_r2 = []\n",
    "for i in trial_states:\n",
    "    X_train, X_test, y_train, y_test = train_test_split(trial_state_features[i], trial_state_target[i], test_size=.2, \n",
    "                                                        random_state=1)\n",
    "    scores_r2 = trial_state_models_lreg[i].score(X_train, y_train, sample_weight=None)\n",
    "    score_r2.append(scores_r2)\n",
    "print score_r2"
   ]
  },
  {
   "cell_type": "markdown",
   "metadata": {
    "collapsed": true
   },
   "source": [
    "### Linear Reg-Including 0s insteAd of NaNs - CA predictions"
   ]
  },
  {
   "cell_type": "code",
   "execution_count": 232,
   "metadata": {
    "collapsed": false
   },
   "outputs": [],
   "source": [
    "CA = pd.DataFrame()\n",
    "CA['Actual_Rates'] = trial_state_target['CA']"
   ]
  },
  {
   "cell_type": "code",
   "execution_count": 233,
   "metadata": {
    "collapsed": false
   },
   "outputs": [],
   "source": [
    "CA['Predicted_Rates'] = trial_state_models_lreg['CA'].predict(trial_state_features['CA'])"
   ]
  },
  {
   "cell_type": "code",
   "execution_count": 234,
   "metadata": {
    "collapsed": false
   },
   "outputs": [
    {
     "data": {
      "image/png": "[encoded data removed]",
      "text/plain": [
       "<matplotlib.figure.Figure at 0x12352f550>"
      ]
     },
     "metadata": {},
     "output_type": "display_data"
    }
   ],
   "source": [
    "plt.scatter(CA['Actual_Rates'], CA['Predicted_Rates'], color='red')\n",
    "plt.xlim(-2,2)\n",
    "plt.ylim(-2,2)\n",
    "plt.xlabel('Actual Readmission Rates')\n",
    "plt.ylabel('Predicted Readmission Rates')\n",
    "plt.title('Actual v Predicted Readmission Rates')\n",
    "plt.show()"
   ]
  },
  {
   "cell_type": "markdown",
   "metadata": {
    "collapsed": true
   },
   "source": [
    "### Linear regression on normalized data with imputed means instead of NaNs"
   ]
  },
  {
   "cell_type": "code",
   "execution_count": 235,
   "metadata": {
    "collapsed": false
   },
   "outputs": [],
   "source": [
    "trial_state_dbs_impute_norm = {} # Dict of state by state datasets\n",
    "full_hf_impute = full_imputed_norm[features_hf_cols]\n",
    "for i in trial_states: \n",
    "    trial_state_dbs_impute_norm[i] = full_imputed_norm[full_imputed_norm['State'] == i]"
   ]
  },
  {
   "cell_type": "code",
   "execution_count": 236,
   "metadata": {
    "collapsed": false
   },
   "outputs": [],
   "source": [
    "trial_state_features_imp_lr = {}\n",
    "trial_state_target_imp_lr  = {}\n",
    "for i in trial_states:\n",
    "\n",
    "    trial_state_features_imp_lr [i] = full_imputed_norm[full_imputed_norm['State'] == i][features_hf_cols]\n",
    "    trial_state_target_imp_lr [i] = full_imputed_norm[full_imputed_norm['State'] == i].READM_30_HF\n",
    "# These features dont contain the states or hospital names"
   ]
  },
  {
   "cell_type": "code",
   "execution_count": 237,
   "metadata": {
    "collapsed": true
   },
   "outputs": [],
   "source": [
    "trial_state_models_lreg_imp = {}\n",
    "for i in trial_states:\n",
    "    X_train, X_test, y_train, y_test = train_test_split(trial_state_features_imp_lr[i], \n",
    "                                                        trial_state_target_imp_lr[i], test_size=.2, random_state=1)\n",
    "    regr = linear_model.LinearRegression()\n",
    "    trial_state_models_lreg_imp[i]  = regr.fit(X_train, y_train)"
   ]
  },
  {
   "cell_type": "code",
   "execution_count": 238,
   "metadata": {
    "collapsed": false
   },
   "outputs": [
    {
     "name": "stdout",
     "output_type": "stream",
     "text": [
      "[-0.8090409639308952, -1.1053038241507174, -0.70001409033827378, -1.2719723937634226]\n"
     ]
    },
    {
     "name": "stderr",
     "output_type": "stream",
     "text": [
      "/Users/sheena/anaconda/lib/python2.7/site-packages/sklearn/metrics/scorer.py:90: DeprecationWarning:\n",
      "\n",
      "Scoring method mean_squared_error was renamed to neg_mean_squared_error in version 0.18 and will be removed in 0.20.\n",
      "\n",
      "/Users/sheena/anaconda/lib/python2.7/site-packages/sklearn/metrics/scorer.py:90: DeprecationWarning:\n",
      "\n",
      "Scoring method mean_squared_error was renamed to neg_mean_squared_error in version 0.18 and will be removed in 0.20.\n",
      "\n",
      "/Users/sheena/anaconda/lib/python2.7/site-packages/sklearn/metrics/scorer.py:90: DeprecationWarning:\n",
      "\n",
      "Scoring method mean_squared_error was renamed to neg_mean_squared_error in version 0.18 and will be removed in 0.20.\n",
      "\n",
      "/Users/sheena/anaconda/lib/python2.7/site-packages/sklearn/metrics/scorer.py:90: DeprecationWarning:\n",
      "\n",
      "Scoring method mean_squared_error was renamed to neg_mean_squared_error in version 0.18 and will be removed in 0.20.\n",
      "\n",
      "/Users/sheena/anaconda/lib/python2.7/site-packages/sklearn/metrics/scorer.py:90: DeprecationWarning:\n",
      "\n",
      "Scoring method mean_squared_error was renamed to neg_mean_squared_error in version 0.18 and will be removed in 0.20.\n",
      "\n",
      "/Users/sheena/anaconda/lib/python2.7/site-packages/sklearn/metrics/scorer.py:90: DeprecationWarning:\n",
      "\n",
      "Scoring method mean_squared_error was renamed to neg_mean_squared_error in version 0.18 and will be removed in 0.20.\n",
      "\n",
      "/Users/sheena/anaconda/lib/python2.7/site-packages/sklearn/metrics/scorer.py:90: DeprecationWarning:\n",
      "\n",
      "Scoring method mean_squared_error was renamed to neg_mean_squared_error in version 0.18 and will be removed in 0.20.\n",
      "\n",
      "/Users/sheena/anaconda/lib/python2.7/site-packages/sklearn/metrics/scorer.py:90: DeprecationWarning:\n",
      "\n",
      "Scoring method mean_squared_error was renamed to neg_mean_squared_error in version 0.18 and will be removed in 0.20.\n",
      "\n",
      "/Users/sheena/anaconda/lib/python2.7/site-packages/sklearn/metrics/scorer.py:90: DeprecationWarning:\n",
      "\n",
      "Scoring method mean_squared_error was renamed to neg_mean_squared_error in version 0.18 and will be removed in 0.20.\n",
      "\n",
      "/Users/sheena/anaconda/lib/python2.7/site-packages/sklearn/metrics/scorer.py:90: DeprecationWarning:\n",
      "\n",
      "Scoring method mean_squared_error was renamed to neg_mean_squared_error in version 0.18 and will be removed in 0.20.\n",
      "\n",
      "/Users/sheena/anaconda/lib/python2.7/site-packages/sklearn/metrics/scorer.py:90: DeprecationWarning:\n",
      "\n",
      "Scoring method mean_squared_error was renamed to neg_mean_squared_error in version 0.18 and will be removed in 0.20.\n",
      "\n",
      "/Users/sheena/anaconda/lib/python2.7/site-packages/sklearn/metrics/scorer.py:90: DeprecationWarning:\n",
      "\n",
      "Scoring method mean_squared_error was renamed to neg_mean_squared_error in version 0.18 and will be removed in 0.20.\n",
      "\n",
      "/Users/sheena/anaconda/lib/python2.7/site-packages/sklearn/metrics/scorer.py:90: DeprecationWarning:\n",
      "\n",
      "Scoring method mean_squared_error was renamed to neg_mean_squared_error in version 0.18 and will be removed in 0.20.\n",
      "\n",
      "/Users/sheena/anaconda/lib/python2.7/site-packages/sklearn/metrics/scorer.py:90: DeprecationWarning:\n",
      "\n",
      "Scoring method mean_squared_error was renamed to neg_mean_squared_error in version 0.18 and will be removed in 0.20.\n",
      "\n",
      "/Users/sheena/anaconda/lib/python2.7/site-packages/sklearn/metrics/scorer.py:90: DeprecationWarning:\n",
      "\n",
      "Scoring method mean_squared_error was renamed to neg_mean_squared_error in version 0.18 and will be removed in 0.20.\n",
      "\n",
      "/Users/sheena/anaconda/lib/python2.7/site-packages/sklearn/metrics/scorer.py:90: DeprecationWarning:\n",
      "\n",
      "Scoring method mean_squared_error was renamed to neg_mean_squared_error in version 0.18 and will be removed in 0.20.\n",
      "\n",
      "/Users/sheena/anaconda/lib/python2.7/site-packages/sklearn/metrics/scorer.py:90: DeprecationWarning:\n",
      "\n",
      "Scoring method mean_squared_error was renamed to neg_mean_squared_error in version 0.18 and will be removed in 0.20.\n",
      "\n",
      "/Users/sheena/anaconda/lib/python2.7/site-packages/sklearn/metrics/scorer.py:90: DeprecationWarning:\n",
      "\n",
      "Scoring method mean_squared_error was renamed to neg_mean_squared_error in version 0.18 and will be removed in 0.20.\n",
      "\n",
      "/Users/sheena/anaconda/lib/python2.7/site-packages/sklearn/metrics/scorer.py:90: DeprecationWarning:\n",
      "\n",
      "Scoring method mean_squared_error was renamed to neg_mean_squared_error in version 0.18 and will be removed in 0.20.\n",
      "\n",
      "/Users/sheena/anaconda/lib/python2.7/site-packages/sklearn/metrics/scorer.py:90: DeprecationWarning:\n",
      "\n",
      "Scoring method mean_squared_error was renamed to neg_mean_squared_error in version 0.18 and will be removed in 0.20.\n",
      "\n"
     ]
    }
   ],
   "source": [
    "score_lreg_imp = []\n",
    "for i in trial_states:\n",
    "    \n",
    "    scores_lreg_imp = cross_val_score(trial_state_models_lreg_imp[i], trial_state_features_imp_lr[i], \n",
    "                                      trial_state_target_imp_lr[i], cv=5, \n",
    "                             scoring='mean_squared_error').mean()\n",
    "    score_lreg_imp.append(scores_lreg_imp)\n",
    "print score_lreg_imp"
   ]
  },
  {
   "cell_type": "markdown",
   "metadata": {},
   "source": [
    "### Ridge regression on normalized data with imputed means instead of NaNs"
   ]
  },
  {
   "cell_type": "code",
   "execution_count": 239,
   "metadata": {
    "collapsed": true
   },
   "outputs": [],
   "source": [
    "from sklearn import linear_model"
   ]
  },
  {
   "cell_type": "code",
   "execution_count": 240,
   "metadata": {
    "collapsed": false
   },
   "outputs": [],
   "source": [
    "trial_state_features_imp_ridge = {}\n",
    "trial_state_target_imp_ridge  = {}\n",
    "for i in trial_states:\n",
    "\n",
    "    trial_state_features_imp_ridge[i] = full_imputed_norm[full_imputed_norm['State'] == i][features_hf_cols]\n",
    "    trial_state_target_imp_ridge[i] = full_imputed_norm[full_imputed_norm['State'] == i].READM_30_HF\n",
    "# These features dont contain the states or hospital names"
   ]
  },
  {
   "cell_type": "code",
   "execution_count": 241,
   "metadata": {
    "collapsed": true
   },
   "outputs": [],
   "source": [
    "trial_state_models_ridge_imp = {}\n",
    "for i in trial_states:\n",
    "    X_train, X_test, y_train, y_test = train_test_split(trial_state_features_imp_ridge[i], \n",
    "                                                        trial_state_target_imp_ridge[i], test_size=.2, random_state=1)\n",
    "    ridge = linear_model.Ridge (alpha = .5)\n",
    "    trial_state_models_ridge_imp[i]  = ridge.fit(X_train, y_train)"
   ]
  },
  {
   "cell_type": "code",
   "execution_count": 242,
   "metadata": {
    "collapsed": false
   },
   "outputs": [
    {
     "name": "stdout",
     "output_type": "stream",
     "text": [
      "[-0.81166331002817105, -1.0895706651776695, -0.6963671991146303, -1.2500350881896936]\n"
     ]
    },
    {
     "name": "stderr",
     "output_type": "stream",
     "text": [
      "/Users/sheena/anaconda/lib/python2.7/site-packages/sklearn/metrics/scorer.py:90: DeprecationWarning:\n",
      "\n",
      "Scoring method mean_squared_error was renamed to neg_mean_squared_error in version 0.18 and will be removed in 0.20.\n",
      "\n",
      "/Users/sheena/anaconda/lib/python2.7/site-packages/sklearn/metrics/scorer.py:90: DeprecationWarning:\n",
      "\n",
      "Scoring method mean_squared_error was renamed to neg_mean_squared_error in version 0.18 and will be removed in 0.20.\n",
      "\n",
      "/Users/sheena/anaconda/lib/python2.7/site-packages/sklearn/metrics/scorer.py:90: DeprecationWarning:\n",
      "\n",
      "Scoring method mean_squared_error was renamed to neg_mean_squared_error in version 0.18 and will be removed in 0.20.\n",
      "\n",
      "/Users/sheena/anaconda/lib/python2.7/site-packages/sklearn/metrics/scorer.py:90: DeprecationWarning:\n",
      "\n",
      "Scoring method mean_squared_error was renamed to neg_mean_squared_error in version 0.18 and will be removed in 0.20.\n",
      "\n",
      "/Users/sheena/anaconda/lib/python2.7/site-packages/sklearn/metrics/scorer.py:90: DeprecationWarning:\n",
      "\n",
      "Scoring method mean_squared_error was renamed to neg_mean_squared_error in version 0.18 and will be removed in 0.20.\n",
      "\n",
      "/Users/sheena/anaconda/lib/python2.7/site-packages/sklearn/metrics/scorer.py:90: DeprecationWarning:\n",
      "\n",
      "Scoring method mean_squared_error was renamed to neg_mean_squared_error in version 0.18 and will be removed in 0.20.\n",
      "\n",
      "/Users/sheena/anaconda/lib/python2.7/site-packages/sklearn/metrics/scorer.py:90: DeprecationWarning:\n",
      "\n",
      "Scoring method mean_squared_error was renamed to neg_mean_squared_error in version 0.18 and will be removed in 0.20.\n",
      "\n",
      "/Users/sheena/anaconda/lib/python2.7/site-packages/sklearn/metrics/scorer.py:90: DeprecationWarning:\n",
      "\n",
      "Scoring method mean_squared_error was renamed to neg_mean_squared_error in version 0.18 and will be removed in 0.20.\n",
      "\n",
      "/Users/sheena/anaconda/lib/python2.7/site-packages/sklearn/metrics/scorer.py:90: DeprecationWarning:\n",
      "\n",
      "Scoring method mean_squared_error was renamed to neg_mean_squared_error in version 0.18 and will be removed in 0.20.\n",
      "\n",
      "/Users/sheena/anaconda/lib/python2.7/site-packages/sklearn/metrics/scorer.py:90: DeprecationWarning:\n",
      "\n",
      "Scoring method mean_squared_error was renamed to neg_mean_squared_error in version 0.18 and will be removed in 0.20.\n",
      "\n",
      "/Users/sheena/anaconda/lib/python2.7/site-packages/sklearn/metrics/scorer.py:90: DeprecationWarning:\n",
      "\n",
      "Scoring method mean_squared_error was renamed to neg_mean_squared_error in version 0.18 and will be removed in 0.20.\n",
      "\n",
      "/Users/sheena/anaconda/lib/python2.7/site-packages/sklearn/metrics/scorer.py:90: DeprecationWarning:\n",
      "\n",
      "Scoring method mean_squared_error was renamed to neg_mean_squared_error in version 0.18 and will be removed in 0.20.\n",
      "\n",
      "/Users/sheena/anaconda/lib/python2.7/site-packages/sklearn/metrics/scorer.py:90: DeprecationWarning:\n",
      "\n",
      "Scoring method mean_squared_error was renamed to neg_mean_squared_error in version 0.18 and will be removed in 0.20.\n",
      "\n",
      "/Users/sheena/anaconda/lib/python2.7/site-packages/sklearn/metrics/scorer.py:90: DeprecationWarning:\n",
      "\n",
      "Scoring method mean_squared_error was renamed to neg_mean_squared_error in version 0.18 and will be removed in 0.20.\n",
      "\n",
      "/Users/sheena/anaconda/lib/python2.7/site-packages/sklearn/metrics/scorer.py:90: DeprecationWarning:\n",
      "\n",
      "Scoring method mean_squared_error was renamed to neg_mean_squared_error in version 0.18 and will be removed in 0.20.\n",
      "\n",
      "/Users/sheena/anaconda/lib/python2.7/site-packages/sklearn/metrics/scorer.py:90: DeprecationWarning:\n",
      "\n",
      "Scoring method mean_squared_error was renamed to neg_mean_squared_error in version 0.18 and will be removed in 0.20.\n",
      "\n",
      "/Users/sheena/anaconda/lib/python2.7/site-packages/sklearn/metrics/scorer.py:90: DeprecationWarning:\n",
      "\n",
      "Scoring method mean_squared_error was renamed to neg_mean_squared_error in version 0.18 and will be removed in 0.20.\n",
      "\n",
      "/Users/sheena/anaconda/lib/python2.7/site-packages/sklearn/metrics/scorer.py:90: DeprecationWarning:\n",
      "\n",
      "Scoring method mean_squared_error was renamed to neg_mean_squared_error in version 0.18 and will be removed in 0.20.\n",
      "\n",
      "/Users/sheena/anaconda/lib/python2.7/site-packages/sklearn/metrics/scorer.py:90: DeprecationWarning:\n",
      "\n",
      "Scoring method mean_squared_error was renamed to neg_mean_squared_error in version 0.18 and will be removed in 0.20.\n",
      "\n",
      "/Users/sheena/anaconda/lib/python2.7/site-packages/sklearn/metrics/scorer.py:90: DeprecationWarning:\n",
      "\n",
      "Scoring method mean_squared_error was renamed to neg_mean_squared_error in version 0.18 and will be removed in 0.20.\n",
      "\n"
     ]
    }
   ],
   "source": [
    "score_ridge_imp = []\n",
    "for i in trial_states:\n",
    "    \n",
    "    scores_ridge_imp = cross_val_score(trial_state_models_ridge_imp[i], trial_state_features_imp_ridge[i], \n",
    "                                      trial_state_target_imp_ridge[i], cv=5, \n",
    "                             scoring='mean_squared_error').mean()\n",
    "    score_ridge_imp.append(scores_ridge_imp)\n",
    "print score_ridge_imp"
   ]
  },
  {
   "cell_type": "code",
   "execution_count": 243,
   "metadata": {
    "collapsed": false
   },
   "outputs": [],
   "source": [
    "trial_state_features_imp_ridge = {}\n",
    "trial_state_target_imp_ridge  = {}\n",
    "for i in trial_states:\n",
    "\n",
    "    trial_state_features_imp_ridge[i] = full_imputed_norm[full_imputed_norm['State'] == i][features_hf_cols]\n",
    "    trial_state_target_imp_ridge[i] = full_imputed_norm[full_imputed_norm['State'] == i].READM_30_HF\n",
    "# These features dont contain the states or hospital names\n",
    "\n",
    "trial_state_models_ridge_imp = {}\n",
    "for i in trial_states:\n",
    "    X_train, X_test, y_train, y_test = train_test_split(trial_state_features_imp_ridge[i], \n",
    "                                                        trial_state_target_imp_ridge[i], test_size=.2, random_state=1)\n",
    "    ridge = linear_model.Ridge (alpha = .5)\n",
    "    trial_state_models_ridge_imp[i]  = ridge.fit(X_train, y_train)"
   ]
  },
  {
   "cell_type": "code",
   "execution_count": 244,
   "metadata": {
    "collapsed": true
   },
   "outputs": [],
   "source": [
    "trial_state_models_ridge_imp = {}\n",
    "for i in trial_states:\n",
    "    X_train, X_test, y_train, y_test = train_test_split(trial_state_features_imp_ridge[i], \n",
    "                                                        trial_state_target_imp_ridge[i], test_size=.2, random_state=1)\n",
    "    ridge = linear_model.Ridge (alpha = .5)\n",
    "    trial_state_models_ridge_imp[i]  = ridge.fit(X_train, y_train)"
   ]
  },
  {
   "cell_type": "code",
   "execution_count": 245,
   "metadata": {
    "collapsed": false
   },
   "outputs": [
    {
     "name": "stdout",
     "output_type": "stream",
     "text": [
      "[-0.81166331002817105, -1.0895706651776695, -0.6963671991146303, -1.2500350881896936]\n"
     ]
    },
    {
     "name": "stderr",
     "output_type": "stream",
     "text": [
      "/Users/sheena/anaconda/lib/python2.7/site-packages/sklearn/metrics/scorer.py:90: DeprecationWarning:\n",
      "\n",
      "Scoring method mean_squared_error was renamed to neg_mean_squared_error in version 0.18 and will be removed in 0.20.\n",
      "\n",
      "/Users/sheena/anaconda/lib/python2.7/site-packages/sklearn/metrics/scorer.py:90: DeprecationWarning:\n",
      "\n",
      "Scoring method mean_squared_error was renamed to neg_mean_squared_error in version 0.18 and will be removed in 0.20.\n",
      "\n",
      "/Users/sheena/anaconda/lib/python2.7/site-packages/sklearn/metrics/scorer.py:90: DeprecationWarning:\n",
      "\n",
      "Scoring method mean_squared_error was renamed to neg_mean_squared_error in version 0.18 and will be removed in 0.20.\n",
      "\n",
      "/Users/sheena/anaconda/lib/python2.7/site-packages/sklearn/metrics/scorer.py:90: DeprecationWarning:\n",
      "\n",
      "Scoring method mean_squared_error was renamed to neg_mean_squared_error in version 0.18 and will be removed in 0.20.\n",
      "\n",
      "/Users/sheena/anaconda/lib/python2.7/site-packages/sklearn/metrics/scorer.py:90: DeprecationWarning:\n",
      "\n",
      "Scoring method mean_squared_error was renamed to neg_mean_squared_error in version 0.18 and will be removed in 0.20.\n",
      "\n",
      "/Users/sheena/anaconda/lib/python2.7/site-packages/sklearn/metrics/scorer.py:90: DeprecationWarning:\n",
      "\n",
      "Scoring method mean_squared_error was renamed to neg_mean_squared_error in version 0.18 and will be removed in 0.20.\n",
      "\n",
      "/Users/sheena/anaconda/lib/python2.7/site-packages/sklearn/metrics/scorer.py:90: DeprecationWarning:\n",
      "\n",
      "Scoring method mean_squared_error was renamed to neg_mean_squared_error in version 0.18 and will be removed in 0.20.\n",
      "\n",
      "/Users/sheena/anaconda/lib/python2.7/site-packages/sklearn/metrics/scorer.py:90: DeprecationWarning:\n",
      "\n",
      "Scoring method mean_squared_error was renamed to neg_mean_squared_error in version 0.18 and will be removed in 0.20.\n",
      "\n",
      "/Users/sheena/anaconda/lib/python2.7/site-packages/sklearn/metrics/scorer.py:90: DeprecationWarning:\n",
      "\n",
      "Scoring method mean_squared_error was renamed to neg_mean_squared_error in version 0.18 and will be removed in 0.20.\n",
      "\n",
      "/Users/sheena/anaconda/lib/python2.7/site-packages/sklearn/metrics/scorer.py:90: DeprecationWarning:\n",
      "\n",
      "Scoring method mean_squared_error was renamed to neg_mean_squared_error in version 0.18 and will be removed in 0.20.\n",
      "\n",
      "/Users/sheena/anaconda/lib/python2.7/site-packages/sklearn/metrics/scorer.py:90: DeprecationWarning:\n",
      "\n",
      "Scoring method mean_squared_error was renamed to neg_mean_squared_error in version 0.18 and will be removed in 0.20.\n",
      "\n",
      "/Users/sheena/anaconda/lib/python2.7/site-packages/sklearn/metrics/scorer.py:90: DeprecationWarning:\n",
      "\n",
      "Scoring method mean_squared_error was renamed to neg_mean_squared_error in version 0.18 and will be removed in 0.20.\n",
      "\n",
      "/Users/sheena/anaconda/lib/python2.7/site-packages/sklearn/metrics/scorer.py:90: DeprecationWarning:\n",
      "\n",
      "Scoring method mean_squared_error was renamed to neg_mean_squared_error in version 0.18 and will be removed in 0.20.\n",
      "\n",
      "/Users/sheena/anaconda/lib/python2.7/site-packages/sklearn/metrics/scorer.py:90: DeprecationWarning:\n",
      "\n",
      "Scoring method mean_squared_error was renamed to neg_mean_squared_error in version 0.18 and will be removed in 0.20.\n",
      "\n",
      "/Users/sheena/anaconda/lib/python2.7/site-packages/sklearn/metrics/scorer.py:90: DeprecationWarning:\n",
      "\n",
      "Scoring method mean_squared_error was renamed to neg_mean_squared_error in version 0.18 and will be removed in 0.20.\n",
      "\n",
      "/Users/sheena/anaconda/lib/python2.7/site-packages/sklearn/metrics/scorer.py:90: DeprecationWarning:\n",
      "\n",
      "Scoring method mean_squared_error was renamed to neg_mean_squared_error in version 0.18 and will be removed in 0.20.\n",
      "\n",
      "/Users/sheena/anaconda/lib/python2.7/site-packages/sklearn/metrics/scorer.py:90: DeprecationWarning:\n",
      "\n",
      "Scoring method mean_squared_error was renamed to neg_mean_squared_error in version 0.18 and will be removed in 0.20.\n",
      "\n",
      "/Users/sheena/anaconda/lib/python2.7/site-packages/sklearn/metrics/scorer.py:90: DeprecationWarning:\n",
      "\n",
      "Scoring method mean_squared_error was renamed to neg_mean_squared_error in version 0.18 and will be removed in 0.20.\n",
      "\n",
      "/Users/sheena/anaconda/lib/python2.7/site-packages/sklearn/metrics/scorer.py:90: DeprecationWarning:\n",
      "\n",
      "Scoring method mean_squared_error was renamed to neg_mean_squared_error in version 0.18 and will be removed in 0.20.\n",
      "\n",
      "/Users/sheena/anaconda/lib/python2.7/site-packages/sklearn/metrics/scorer.py:90: DeprecationWarning:\n",
      "\n",
      "Scoring method mean_squared_error was renamed to neg_mean_squared_error in version 0.18 and will be removed in 0.20.\n",
      "\n"
     ]
    }
   ],
   "source": [
    "score_ridge_imp = []\n",
    "for i in trial_states:\n",
    "    \n",
    "    scores_ridge_imp = cross_val_score(trial_state_models_ridge_imp[i], trial_state_features_imp_ridge[i], \n",
    "                                      trial_state_target_imp_ridge[i], cv=5, \n",
    "                             scoring='neg_mean_squared_error').mean()\n",
    "    score_ridge_imp.append(scores_ridge_imp)\n",
    "print score_ridge_imp"
   ]
  },
  {
   "cell_type": "markdown",
   "metadata": {},
   "source": [
    "### Support Vector regression on normalized data with imputed means instead of NaNs"
   ]
  },
  {
   "cell_type": "code",
   "execution_count": 246,
   "metadata": {
    "collapsed": true
   },
   "outputs": [],
   "source": [
    "from sklearn.svm import SVR"
   ]
  },
  {
   "cell_type": "code",
   "execution_count": 247,
   "metadata": {
    "collapsed": false
   },
   "outputs": [],
   "source": [
    "trial_state_features_imp_SVR = {}\n",
    "trial_state_target_imp_SVR  = {}\n",
    "for i in trial_states:\n",
    "\n",
    "    trial_state_features_imp_SVR[i] = full_imputed_norm[full_imputed_norm['State'] == i][features_hf_cols]\n",
    "    trial_state_target_imp_SVR[i] = full_imputed_norm[full_imputed_norm['State'] == i].READM_30_HF\n",
    "# These features dont contain the states or hospital names"
   ]
  },
  {
   "cell_type": "markdown",
   "metadata": {},
   "source": [
    "#### Linear SVR"
   ]
  },
  {
   "cell_type": "code",
   "execution_count": 248,
   "metadata": {
    "collapsed": false
   },
   "outputs": [],
   "source": [
    "trial_state_models_SVRl_imp = {}\n",
    "for i in trial_states:\n",
    "    X_train, X_test, y_train, y_test = train_test_split(trial_state_features_imp_SVR[i], \n",
    "                                                        trial_state_target_imp_SVR[i], test_size=.2, random_state=1)\n",
    "    svr_lin = SVR(kernel='linear')\n",
    "    trial_state_models_SVRl_imp[i]  = svr_lin.fit(X_train, y_train)"
   ]
  },
  {
   "cell_type": "code",
   "execution_count": 249,
   "metadata": {
    "collapsed": false
   },
   "outputs": [],
   "source": [
    "h = SVR()"
   ]
  },
  {
   "cell_type": "code",
   "execution_count": 250,
   "metadata": {
    "collapsed": false
   },
   "outputs": [
    {
     "name": "stdout",
     "output_type": "stream",
     "text": [
      "[-0.82698998079003072, -1.0480191629295472, -0.72021856576838739, -1.2318399197632144]\n"
     ]
    },
    {
     "name": "stderr",
     "output_type": "stream",
     "text": [
      "/Users/sheena/anaconda/lib/python2.7/site-packages/sklearn/metrics/scorer.py:90: DeprecationWarning:\n",
      "\n",
      "Scoring method mean_squared_error was renamed to neg_mean_squared_error in version 0.18 and will be removed in 0.20.\n",
      "\n",
      "/Users/sheena/anaconda/lib/python2.7/site-packages/sklearn/metrics/scorer.py:90: DeprecationWarning:\n",
      "\n",
      "Scoring method mean_squared_error was renamed to neg_mean_squared_error in version 0.18 and will be removed in 0.20.\n",
      "\n",
      "/Users/sheena/anaconda/lib/python2.7/site-packages/sklearn/metrics/scorer.py:90: DeprecationWarning:\n",
      "\n",
      "Scoring method mean_squared_error was renamed to neg_mean_squared_error in version 0.18 and will be removed in 0.20.\n",
      "\n",
      "/Users/sheena/anaconda/lib/python2.7/site-packages/sklearn/metrics/scorer.py:90: DeprecationWarning:\n",
      "\n",
      "Scoring method mean_squared_error was renamed to neg_mean_squared_error in version 0.18 and will be removed in 0.20.\n",
      "\n",
      "/Users/sheena/anaconda/lib/python2.7/site-packages/sklearn/metrics/scorer.py:90: DeprecationWarning:\n",
      "\n",
      "Scoring method mean_squared_error was renamed to neg_mean_squared_error in version 0.18 and will be removed in 0.20.\n",
      "\n",
      "/Users/sheena/anaconda/lib/python2.7/site-packages/sklearn/metrics/scorer.py:90: DeprecationWarning:\n",
      "\n",
      "Scoring method mean_squared_error was renamed to neg_mean_squared_error in version 0.18 and will be removed in 0.20.\n",
      "\n",
      "/Users/sheena/anaconda/lib/python2.7/site-packages/sklearn/metrics/scorer.py:90: DeprecationWarning:\n",
      "\n",
      "Scoring method mean_squared_error was renamed to neg_mean_squared_error in version 0.18 and will be removed in 0.20.\n",
      "\n",
      "/Users/sheena/anaconda/lib/python2.7/site-packages/sklearn/metrics/scorer.py:90: DeprecationWarning:\n",
      "\n",
      "Scoring method mean_squared_error was renamed to neg_mean_squared_error in version 0.18 and will be removed in 0.20.\n",
      "\n",
      "/Users/sheena/anaconda/lib/python2.7/site-packages/sklearn/metrics/scorer.py:90: DeprecationWarning:\n",
      "\n",
      "Scoring method mean_squared_error was renamed to neg_mean_squared_error in version 0.18 and will be removed in 0.20.\n",
      "\n",
      "/Users/sheena/anaconda/lib/python2.7/site-packages/sklearn/metrics/scorer.py:90: DeprecationWarning:\n",
      "\n",
      "Scoring method mean_squared_error was renamed to neg_mean_squared_error in version 0.18 and will be removed in 0.20.\n",
      "\n",
      "/Users/sheena/anaconda/lib/python2.7/site-packages/sklearn/metrics/scorer.py:90: DeprecationWarning:\n",
      "\n",
      "Scoring method mean_squared_error was renamed to neg_mean_squared_error in version 0.18 and will be removed in 0.20.\n",
      "\n",
      "/Users/sheena/anaconda/lib/python2.7/site-packages/sklearn/metrics/scorer.py:90: DeprecationWarning:\n",
      "\n",
      "Scoring method mean_squared_error was renamed to neg_mean_squared_error in version 0.18 and will be removed in 0.20.\n",
      "\n",
      "/Users/sheena/anaconda/lib/python2.7/site-packages/sklearn/metrics/scorer.py:90: DeprecationWarning:\n",
      "\n",
      "Scoring method mean_squared_error was renamed to neg_mean_squared_error in version 0.18 and will be removed in 0.20.\n",
      "\n",
      "/Users/sheena/anaconda/lib/python2.7/site-packages/sklearn/metrics/scorer.py:90: DeprecationWarning:\n",
      "\n",
      "Scoring method mean_squared_error was renamed to neg_mean_squared_error in version 0.18 and will be removed in 0.20.\n",
      "\n",
      "/Users/sheena/anaconda/lib/python2.7/site-packages/sklearn/metrics/scorer.py:90: DeprecationWarning:\n",
      "\n",
      "Scoring method mean_squared_error was renamed to neg_mean_squared_error in version 0.18 and will be removed in 0.20.\n",
      "\n",
      "/Users/sheena/anaconda/lib/python2.7/site-packages/sklearn/metrics/scorer.py:90: DeprecationWarning:\n",
      "\n",
      "Scoring method mean_squared_error was renamed to neg_mean_squared_error in version 0.18 and will be removed in 0.20.\n",
      "\n",
      "/Users/sheena/anaconda/lib/python2.7/site-packages/sklearn/metrics/scorer.py:90: DeprecationWarning:\n",
      "\n",
      "Scoring method mean_squared_error was renamed to neg_mean_squared_error in version 0.18 and will be removed in 0.20.\n",
      "\n",
      "/Users/sheena/anaconda/lib/python2.7/site-packages/sklearn/metrics/scorer.py:90: DeprecationWarning:\n",
      "\n",
      "Scoring method mean_squared_error was renamed to neg_mean_squared_error in version 0.18 and will be removed in 0.20.\n",
      "\n",
      "/Users/sheena/anaconda/lib/python2.7/site-packages/sklearn/metrics/scorer.py:90: DeprecationWarning:\n",
      "\n",
      "Scoring method mean_squared_error was renamed to neg_mean_squared_error in version 0.18 and will be removed in 0.20.\n",
      "\n",
      "/Users/sheena/anaconda/lib/python2.7/site-packages/sklearn/metrics/scorer.py:90: DeprecationWarning:\n",
      "\n",
      "Scoring method mean_squared_error was renamed to neg_mean_squared_error in version 0.18 and will be removed in 0.20.\n",
      "\n"
     ]
    }
   ],
   "source": [
    "score_SVRl_imp = []\n",
    "for i in trial_states:\n",
    "    \n",
    "    scores_SVRl_imp = cross_val_score(trial_state_models_SVRl_imp[i], trial_state_features_imp_SVR[i], \n",
    "                                      trial_state_target_imp_SVR[i], cv=5, scoring='mean_squared_error').mean()\n",
    "    score_SVRl_imp.append(scores_SVRl_imp)\n",
    "print score_SVRl_imp"
   ]
  },
  {
   "cell_type": "markdown",
   "metadata": {},
   "source": [
    "#### Nonlinear SVR"
   ]
  },
  {
   "cell_type": "code",
   "execution_count": 251,
   "metadata": {
    "collapsed": false
   },
   "outputs": [],
   "source": [
    "trial_state_models_SVRnl_imp = {}\n",
    "for i in trial_states:\n",
    "    X_train, X_test, y_train, y_test = train_test_split(trial_state_features_imp_SVR[i], \n",
    "                                                        trial_state_target_imp_SVR[i], test_size=.2, random_state=1)\n",
    "    svr_nlin = SVR(kernel='poly')\n",
    "    trial_state_models_SVRnl_imp[i]  = svr_nlin.fit(X_train, y_train)"
   ]
  },
  {
   "cell_type": "code",
   "execution_count": 252,
   "metadata": {
    "collapsed": false
   },
   "outputs": [
    {
     "name": "stdout",
     "output_type": "stream",
     "text": [
      "[-1.0382653958006969, -1.1828526300066384, -1.1737179899373742, -1.5630149541213705]\n"
     ]
    },
    {
     "name": "stderr",
     "output_type": "stream",
     "text": [
      "/Users/sheena/anaconda/lib/python2.7/site-packages/sklearn/metrics/scorer.py:90: DeprecationWarning:\n",
      "\n",
      "Scoring method mean_squared_error was renamed to neg_mean_squared_error in version 0.18 and will be removed in 0.20.\n",
      "\n",
      "/Users/sheena/anaconda/lib/python2.7/site-packages/sklearn/metrics/scorer.py:90: DeprecationWarning:\n",
      "\n",
      "Scoring method mean_squared_error was renamed to neg_mean_squared_error in version 0.18 and will be removed in 0.20.\n",
      "\n",
      "/Users/sheena/anaconda/lib/python2.7/site-packages/sklearn/metrics/scorer.py:90: DeprecationWarning:\n",
      "\n",
      "Scoring method mean_squared_error was renamed to neg_mean_squared_error in version 0.18 and will be removed in 0.20.\n",
      "\n",
      "/Users/sheena/anaconda/lib/python2.7/site-packages/sklearn/metrics/scorer.py:90: DeprecationWarning:\n",
      "\n",
      "Scoring method mean_squared_error was renamed to neg_mean_squared_error in version 0.18 and will be removed in 0.20.\n",
      "\n",
      "/Users/sheena/anaconda/lib/python2.7/site-packages/sklearn/metrics/scorer.py:90: DeprecationWarning:\n",
      "\n",
      "Scoring method mean_squared_error was renamed to neg_mean_squared_error in version 0.18 and will be removed in 0.20.\n",
      "\n",
      "/Users/sheena/anaconda/lib/python2.7/site-packages/sklearn/metrics/scorer.py:90: DeprecationWarning:\n",
      "\n",
      "Scoring method mean_squared_error was renamed to neg_mean_squared_error in version 0.18 and will be removed in 0.20.\n",
      "\n",
      "/Users/sheena/anaconda/lib/python2.7/site-packages/sklearn/metrics/scorer.py:90: DeprecationWarning:\n",
      "\n",
      "Scoring method mean_squared_error was renamed to neg_mean_squared_error in version 0.18 and will be removed in 0.20.\n",
      "\n",
      "/Users/sheena/anaconda/lib/python2.7/site-packages/sklearn/metrics/scorer.py:90: DeprecationWarning:\n",
      "\n",
      "Scoring method mean_squared_error was renamed to neg_mean_squared_error in version 0.18 and will be removed in 0.20.\n",
      "\n",
      "/Users/sheena/anaconda/lib/python2.7/site-packages/sklearn/metrics/scorer.py:90: DeprecationWarning:\n",
      "\n",
      "Scoring method mean_squared_error was renamed to neg_mean_squared_error in version 0.18 and will be removed in 0.20.\n",
      "\n",
      "/Users/sheena/anaconda/lib/python2.7/site-packages/sklearn/metrics/scorer.py:90: DeprecationWarning:\n",
      "\n",
      "Scoring method mean_squared_error was renamed to neg_mean_squared_error in version 0.18 and will be removed in 0.20.\n",
      "\n",
      "/Users/sheena/anaconda/lib/python2.7/site-packages/sklearn/metrics/scorer.py:90: DeprecationWarning:\n",
      "\n",
      "Scoring method mean_squared_error was renamed to neg_mean_squared_error in version 0.18 and will be removed in 0.20.\n",
      "\n",
      "/Users/sheena/anaconda/lib/python2.7/site-packages/sklearn/metrics/scorer.py:90: DeprecationWarning:\n",
      "\n",
      "Scoring method mean_squared_error was renamed to neg_mean_squared_error in version 0.18 and will be removed in 0.20.\n",
      "\n",
      "/Users/sheena/anaconda/lib/python2.7/site-packages/sklearn/metrics/scorer.py:90: DeprecationWarning:\n",
      "\n",
      "Scoring method mean_squared_error was renamed to neg_mean_squared_error in version 0.18 and will be removed in 0.20.\n",
      "\n",
      "/Users/sheena/anaconda/lib/python2.7/site-packages/sklearn/metrics/scorer.py:90: DeprecationWarning:\n",
      "\n",
      "Scoring method mean_squared_error was renamed to neg_mean_squared_error in version 0.18 and will be removed in 0.20.\n",
      "\n",
      "/Users/sheena/anaconda/lib/python2.7/site-packages/sklearn/metrics/scorer.py:90: DeprecationWarning:\n",
      "\n",
      "Scoring method mean_squared_error was renamed to neg_mean_squared_error in version 0.18 and will be removed in 0.20.\n",
      "\n",
      "/Users/sheena/anaconda/lib/python2.7/site-packages/sklearn/metrics/scorer.py:90: DeprecationWarning:\n",
      "\n",
      "Scoring method mean_squared_error was renamed to neg_mean_squared_error in version 0.18 and will be removed in 0.20.\n",
      "\n",
      "/Users/sheena/anaconda/lib/python2.7/site-packages/sklearn/metrics/scorer.py:90: DeprecationWarning:\n",
      "\n",
      "Scoring method mean_squared_error was renamed to neg_mean_squared_error in version 0.18 and will be removed in 0.20.\n",
      "\n",
      "/Users/sheena/anaconda/lib/python2.7/site-packages/sklearn/metrics/scorer.py:90: DeprecationWarning:\n",
      "\n",
      "Scoring method mean_squared_error was renamed to neg_mean_squared_error in version 0.18 and will be removed in 0.20.\n",
      "\n",
      "/Users/sheena/anaconda/lib/python2.7/site-packages/sklearn/metrics/scorer.py:90: DeprecationWarning:\n",
      "\n",
      "Scoring method mean_squared_error was renamed to neg_mean_squared_error in version 0.18 and will be removed in 0.20.\n",
      "\n",
      "/Users/sheena/anaconda/lib/python2.7/site-packages/sklearn/metrics/scorer.py:90: DeprecationWarning:\n",
      "\n",
      "Scoring method mean_squared_error was renamed to neg_mean_squared_error in version 0.18 and will be removed in 0.20.\n",
      "\n"
     ]
    }
   ],
   "source": [
    "score_SVRnl_imp = []\n",
    "for i in trial_states:\n",
    "    \n",
    "    scores_SVRnl_imp = cross_val_score(trial_state_models_SVRnl_imp[i], trial_state_features_imp_SVR[i], \n",
    "                                      trial_state_target_imp_SVR[i], cv=5, scoring='mean_squared_error').mean()\n",
    "    score_SVRnl_imp.append(scores_SVRnl_imp)\n",
    "print score_SVRnl_imp"
   ]
  },
  {
   "cell_type": "markdown",
   "metadata": {},
   "source": [
    "### RF regression on normalized data with imputed means instead of NaNs"
   ]
  },
  {
   "cell_type": "code",
   "execution_count": 253,
   "metadata": {
    "collapsed": false
   },
   "outputs": [],
   "source": [
    "from sklearn.ensemble import RandomForestRegressor"
   ]
  },
  {
   "cell_type": "code",
   "execution_count": 254,
   "metadata": {
    "collapsed": false
   },
   "outputs": [],
   "source": [
    "trial_state_features_imp_rf = {}\n",
    "trial_state_target_imp_rf  = {}\n",
    "for i in trial_states:\n",
    "\n",
    "    trial_state_features_imp_rf[i] = full_imputed_norm[full_imputed_norm['State'] == i][features_hf_cols]\n",
    "    trial_state_target_imp_rf[i] = full_imputed_norm[full_imputed_norm['State'] == i].READM_30_HF\n",
    "# These features dont contain the states or hospital names"
   ]
  },
  {
   "cell_type": "code",
   "execution_count": 255,
   "metadata": {
    "collapsed": true
   },
   "outputs": [],
   "source": [
    "trial_state_models_rf_imp = {}\n",
    "for i in trial_states:\n",
    "    X_train, X_test, y_train, y_test = train_test_split(trial_state_features_imp_rf[i], \n",
    "                                                        trial_state_target_imp_rf[i], test_size=.2, random_state=1)\n",
    "    rf = RandomForestRegressor()\n",
    "    trial_state_models_rf_imp[i]  = rf.fit(X_train, y_train)"
   ]
  },
  {
   "cell_type": "code",
   "execution_count": 256,
   "metadata": {
    "collapsed": false
   },
   "outputs": [
    {
     "name": "stderr",
     "output_type": "stream",
     "text": [
      "/Users/sheena/anaconda/lib/python2.7/site-packages/sklearn/metrics/scorer.py:90: DeprecationWarning:\n",
      "\n",
      "Scoring method mean_squared_error was renamed to neg_mean_squared_error in version 0.18 and will be removed in 0.20.\n",
      "\n",
      "/Users/sheena/anaconda/lib/python2.7/site-packages/sklearn/metrics/scorer.py:90: DeprecationWarning:\n",
      "\n",
      "Scoring method mean_squared_error was renamed to neg_mean_squared_error in version 0.18 and will be removed in 0.20.\n",
      "\n",
      "/Users/sheena/anaconda/lib/python2.7/site-packages/sklearn/metrics/scorer.py:90: DeprecationWarning:\n",
      "\n",
      "Scoring method mean_squared_error was renamed to neg_mean_squared_error in version 0.18 and will be removed in 0.20.\n",
      "\n",
      "/Users/sheena/anaconda/lib/python2.7/site-packages/sklearn/metrics/scorer.py:90: DeprecationWarning:\n",
      "\n",
      "Scoring method mean_squared_error was renamed to neg_mean_squared_error in version 0.18 and will be removed in 0.20.\n",
      "\n",
      "/Users/sheena/anaconda/lib/python2.7/site-packages/sklearn/metrics/scorer.py:90: DeprecationWarning:\n",
      "\n",
      "Scoring method mean_squared_error was renamed to neg_mean_squared_error in version 0.18 and will be removed in 0.20.\n",
      "\n",
      "/Users/sheena/anaconda/lib/python2.7/site-packages/sklearn/metrics/scorer.py:90: DeprecationWarning:\n",
      "\n",
      "Scoring method mean_squared_error was renamed to neg_mean_squared_error in version 0.18 and will be removed in 0.20.\n",
      "\n",
      "/Users/sheena/anaconda/lib/python2.7/site-packages/sklearn/metrics/scorer.py:90: DeprecationWarning:\n",
      "\n",
      "Scoring method mean_squared_error was renamed to neg_mean_squared_error in version 0.18 and will be removed in 0.20.\n",
      "\n",
      "/Users/sheena/anaconda/lib/python2.7/site-packages/sklearn/metrics/scorer.py:90: DeprecationWarning:\n",
      "\n",
      "Scoring method mean_squared_error was renamed to neg_mean_squared_error in version 0.18 and will be removed in 0.20.\n",
      "\n",
      "/Users/sheena/anaconda/lib/python2.7/site-packages/sklearn/metrics/scorer.py:90: DeprecationWarning:\n",
      "\n",
      "Scoring method mean_squared_error was renamed to neg_mean_squared_error in version 0.18 and will be removed in 0.20.\n",
      "\n",
      "/Users/sheena/anaconda/lib/python2.7/site-packages/sklearn/metrics/scorer.py:90: DeprecationWarning:\n",
      "\n",
      "Scoring method mean_squared_error was renamed to neg_mean_squared_error in version 0.18 and will be removed in 0.20.\n",
      "\n",
      "/Users/sheena/anaconda/lib/python2.7/site-packages/sklearn/metrics/scorer.py:90: DeprecationWarning:\n",
      "\n",
      "Scoring method mean_squared_error was renamed to neg_mean_squared_error in version 0.18 and will be removed in 0.20.\n",
      "\n",
      "/Users/sheena/anaconda/lib/python2.7/site-packages/sklearn/metrics/scorer.py:90: DeprecationWarning:\n",
      "\n",
      "Scoring method mean_squared_error was renamed to neg_mean_squared_error in version 0.18 and will be removed in 0.20.\n",
      "\n",
      "/Users/sheena/anaconda/lib/python2.7/site-packages/sklearn/metrics/scorer.py:90: DeprecationWarning:\n",
      "\n",
      "Scoring method mean_squared_error was renamed to neg_mean_squared_error in version 0.18 and will be removed in 0.20.\n",
      "\n",
      "/Users/sheena/anaconda/lib/python2.7/site-packages/sklearn/metrics/scorer.py:90: DeprecationWarning:\n",
      "\n",
      "Scoring method mean_squared_error was renamed to neg_mean_squared_error in version 0.18 and will be removed in 0.20.\n",
      "\n",
      "/Users/sheena/anaconda/lib/python2.7/site-packages/sklearn/metrics/scorer.py:90: DeprecationWarning:\n",
      "\n",
      "Scoring method mean_squared_error was renamed to neg_mean_squared_error in version 0.18 and will be removed in 0.20.\n",
      "\n",
      "/Users/sheena/anaconda/lib/python2.7/site-packages/sklearn/metrics/scorer.py:90: DeprecationWarning:\n",
      "\n",
      "Scoring method mean_squared_error was renamed to neg_mean_squared_error in version 0.18 and will be removed in 0.20.\n",
      "\n",
      "/Users/sheena/anaconda/lib/python2.7/site-packages/sklearn/metrics/scorer.py:90: DeprecationWarning:\n",
      "\n",
      "Scoring method mean_squared_error was renamed to neg_mean_squared_error in version 0.18 and will be removed in 0.20.\n",
      "\n",
      "/Users/sheena/anaconda/lib/python2.7/site-packages/sklearn/metrics/scorer.py:90: DeprecationWarning:\n",
      "\n",
      "Scoring method mean_squared_error was renamed to neg_mean_squared_error in version 0.18 and will be removed in 0.20.\n",
      "\n"
     ]
    },
    {
     "name": "stdout",
     "output_type": "stream",
     "text": [
      "[-0.92079570397142363, -1.1401527006523546, -0.80155575375667154, -1.3303696482897416]\n"
     ]
    },
    {
     "name": "stderr",
     "output_type": "stream",
     "text": [
      "/Users/sheena/anaconda/lib/python2.7/site-packages/sklearn/metrics/scorer.py:90: DeprecationWarning:\n",
      "\n",
      "Scoring method mean_squared_error was renamed to neg_mean_squared_error in version 0.18 and will be removed in 0.20.\n",
      "\n",
      "/Users/sheena/anaconda/lib/python2.7/site-packages/sklearn/metrics/scorer.py:90: DeprecationWarning:\n",
      "\n",
      "Scoring method mean_squared_error was renamed to neg_mean_squared_error in version 0.18 and will be removed in 0.20.\n",
      "\n"
     ]
    }
   ],
   "source": [
    "score_rf_imp = []\n",
    "for i in trial_states:\n",
    "    \n",
    "    scores_rf_imp = cross_val_score(trial_state_models_rf_imp[i], trial_state_features_imp_rf[i], \n",
    "                                      trial_state_target_imp_rf[i], cv=5, \n",
    "                             scoring='mean_squared_error').mean()\n",
    "    score_rf_imp.append(scores_rf_imp)\n",
    "print score_rf_imp"
   ]
  },
  {
   "cell_type": "markdown",
   "metadata": {},
   "source": [
    "### RF using imputed, non-normalized data"
   ]
  },
  {
   "cell_type": "code",
   "execution_count": 257,
   "metadata": {
    "collapsed": false
   },
   "outputs": [],
   "source": [
    "trial_state_dbs_rf = {} # Dict of state by state datasets\n",
    "full_hf_rf = full_imputed[features_hf_cols]\n",
    "\n",
    "for i in trial_states: \n",
    "    trial_state_dbs_rf = full_imputed[full_imputed['State'] == i]"
   ]
  },
  {
   "cell_type": "code",
   "execution_count": 258,
   "metadata": {
    "collapsed": false
   },
   "outputs": [],
   "source": [
    "trial_state_features_rf = {}\n",
    "trial_state_target_rf = {}\n",
    "for i in trial_states:\n",
    "\n",
    "    trial_state_features_rf[i] = full_imputed[full_imputed['State'] == i][features_hf_cols]\n",
    "    trial_state_target_rf[i] = full_imputed[full_imputed['State'] == i].READM_30_HF\n",
    "# These features dont contain the states or hospital names"
   ]
  },
  {
   "cell_type": "code",
   "execution_count": 350,
   "metadata": {
    "collapsed": false
   },
   "outputs": [],
   "source": [
    "trial_state_models_rf = {}\n",
    "trial_state_predict_rf = {}\n",
    "\n",
    "for i in trial_states:\n",
    "    rf = RandomForestRegressor()\n",
    "    X_train, X_test, y_train, y_test = train_test_split(trial_state_features_rf[i], trial_state_target_rf[i], \n",
    "                                                        test_size=.2, random_state=1)\n",
    "    trial_state_models_rf[i]  = rf.fit(X_train, y_train)\n",
    "    trial_state_predict_rf[i] = trial_state_models_rf[i].predict(X_train)"
   ]
  },
  {
   "cell_type": "code",
   "execution_count": 260,
   "metadata": {
    "collapsed": true
   },
   "outputs": [],
   "source": [
    "# regressor = RandomForestRegressor(oob_score=True)\n",
    "\n",
    "# regressor.fit(x,y)\n",
    "\n",
    "# out_of_bag_prediction_for_x = regressor.oob_prediction_\n",
    "\n",
    "# print(your_error_metric(out_of_bag_prediction_for_x, x))"
   ]
  },
  {
   "cell_type": "code",
   "execution_count": 307,
   "metadata": {
    "collapsed": false
   },
   "outputs": [
    {
     "name": "stdout",
     "output_type": "stream",
     "text": [
      "[-2.4412636574074078, -3.2253823678160911, -2.1556850000000005, -3.4995460899470898]\n"
     ]
    }
   ],
   "source": [
    "score_rf = []\n",
    "for i in trial_states:\n",
    "    \n",
    "    scores_rf = cross_val_score(trial_state_models_rf[i], trial_state_features_rf[i], trial_state_target_rf[i], cv=5, \n",
    "                             scoring='neg_mean_squared_error').mean()\n",
    "    score_rf.append(scores_rf)\n",
    "print score_rf"
   ]
  },
  {
   "cell_type": "code",
   "execution_count": 262,
   "metadata": {
    "collapsed": false
   },
   "outputs": [
    {
     "data": {
      "text/plain": [
       "15.0"
      ]
     },
     "execution_count": 262,
     "metadata": {},
     "output_type": "execute_result"
    }
   ],
   "source": [
    "range_HF = max(full_imputed['READM_30_HF']) - min(full_imputed['READM_30_HF'])\n",
    "range_HF"
   ]
  },
  {
   "cell_type": "code",
   "execution_count": 263,
   "metadata": {
    "collapsed": false
   },
   "outputs": [
    {
     "data": {
      "text/plain": [
       "array([ 24.04      ,  21.2       ,  21.53      ,  21.85      ,\n",
       "        22.99      ,  21.14      ,  22.6       ,  19.12      ,\n",
       "        21.76      ,  21.87      ,  21.22      ,  21.77      ,\n",
       "        21.81      ,  21.81      ,  22.25      ,  19.81      ,\n",
       "        22.26      ,  23.05      ,  22.25      ,  20.85      ,\n",
       "        22.53      ,  23.63      ,  20.02      ,  23.61      ,\n",
       "        21.88      ,  20.5       ,  22.31      ,  23.03      ,\n",
       "        20.92      ,  22.2       ,  23.47      ,  21.72      ,\n",
       "        21.58      ,  23.12      ,  23.34      ,  21.66      ,\n",
       "        24.58      ,  22.92      ,  21.86      ,  21.66      ,\n",
       "        22.15      ,  20.11      ,  21.2       ,  20.09      ,\n",
       "        21.14      ,  22.65      ,  21.74      ,  23.87      ,\n",
       "        20.76      ,  22.42      ,  24.03      ,  20.89333333,\n",
       "        20.49      ,  21.41      ,  21.25      ,  23.91      ,\n",
       "        22.29      ,  22.02      ,  22.73      ,  22.54      ,\n",
       "        22.71      ,  21.55      ,  20.56      ,  21.93      ,\n",
       "        22.27      ,  21.33      ,  20.6       ,  22.53      ,\n",
       "        23.34      ,  21.2       ,  20.15      ,  20.53      ,\n",
       "        22.1       ,  23.26      ,  21.07      ,  21.16      ,\n",
       "        22.6       ,  22.4       ,  22.24      ,  21.62      ,\n",
       "        23.27      ,  22.26333333,  23.55      ,  22.55      ,\n",
       "        22.79      ,  22.63      ,  21.78      ,  21.98      ,\n",
       "        21.4       ,  21.48      ,  21.11      ,  23.2       ,\n",
       "        20.95      ,  21.91      ,  22.38      ,  23.07      ,\n",
       "        22.77      ,  23.72      ,  21.55      ,  22.08      ,\n",
       "        21.88      ,  22.63      ,  22.48      ,  22.07      ,\n",
       "        21.72      ,  21.28      ,  22.11      ,  21.71      ,\n",
       "        22.08      ,  22.86      ,  22.37      ,  21.58      ,\n",
       "        24.35      ,  22.68      ,  23.38      ,  22.48      ,\n",
       "        20.91      ,  24.89      ,  22.1       ,  22.41      ,\n",
       "        22.69      ,  22.75      ,  21.18333333,  22.97      ,\n",
       "        21.82      ,  22.63      ,  21.69      ,  21.9       ,\n",
       "        20.65      ,  20.6       ,  21.47      ,  20.46      ,\n",
       "        22.54      ,  22.79      ,  22.98      ,  22.56      ,\n",
       "        22.69      ,  22.37      ,  22.59      ,  21.23      ,\n",
       "        19.4       ,  21.91      ,  21.72      ,  22.7       ,\n",
       "        21.28      ,  22.02333333,  22.45      ,  22.38      ,\n",
       "        24.95      ,  24.24      ,  20.29      ,  22.22      ,\n",
       "        22.3       ,  22.87      ,  21.52333333,  23.3       ,\n",
       "        22.        ,  22.95      ,  22.68      ,  21.48      ,\n",
       "        21.94      ,  21.73      ,  22.19      ,  22.54      ,\n",
       "        21.77      ,  22.73      ,  21.64      ,  21.43      ,\n",
       "        22.12      ,  20.81      ,  23.27      ,  22.1       ,\n",
       "        21.87      ,  22.23      ,  21.68      ,  22.03      ,\n",
       "        22.88      ,  24.4       ,  22.19      ,  22.74      ,\n",
       "        22.71      ,  21.82      ,  22.08      ,  19.56      ,\n",
       "        22.32      ,  22.41      ,  22.16      ,  23.05      ,\n",
       "        23.42      ,  22.3       ,  22.47      ,  22.84      ])"
      ]
     },
     "execution_count": 263,
     "metadata": {},
     "output_type": "execute_result"
    }
   ],
   "source": [
    "trial_state_predict_rf['CA']"
   ]
  },
  {
   "cell_type": "code",
   "execution_count": 264,
   "metadata": {
    "collapsed": true
   },
   "outputs": [],
   "source": [
    "from sklearn.metrics import mean_squared_error"
   ]
  },
  {
   "cell_type": "code",
   "execution_count": 332,
   "metadata": {
    "collapsed": true
   },
   "outputs": [],
   "source": [
    " X_train, X_test, y_train, y_test = train_test_split(trial_state_features_rf['CA'], trial_state_target_rf['CA'], \n",
    "                                                        test_size=.2, random_state=1)"
   ]
  },
  {
   "cell_type": "code",
   "execution_count": 333,
   "metadata": {
    "collapsed": false
   },
   "outputs": [
    {
     "data": {
      "text/plain": [
       "192"
      ]
     },
     "execution_count": 333,
     "metadata": {},
     "output_type": "execute_result"
    }
   ],
   "source": [
    "len(X_train)"
   ]
  },
  {
   "cell_type": "code",
   "execution_count": 310,
   "metadata": {
    "collapsed": false
   },
   "outputs": [
    {
     "data": {
      "text/plain": [
       "0.44839079861111131"
      ]
     },
     "execution_count": 310,
     "metadata": {},
     "output_type": "execute_result"
    }
   ],
   "source": [
    "mean_squared_error(y_train,trial_state_predict_rf['CA']) #training error for CA"
   ]
  },
  {
   "cell_type": "code",
   "execution_count": 311,
   "metadata": {
    "collapsed": false
   },
   "outputs": [
    {
     "name": "stdout",
     "output_type": "stream",
     "text": [
      "-2.44126365741\n"
     ]
    }
   ],
   "source": [
    "print score_rf[0] #cross_val error for CA. \n",
    "#There is overfitting"
   ]
  },
  {
   "cell_type": "markdown",
   "metadata": {},
   "source": [
    "### Selecting features"
   ]
  },
  {
   "cell_type": "code",
   "execution_count": 327,
   "metadata": {
    "collapsed": false
   },
   "outputs": [
    {
     "data": {
      "text/plain": [
       "['PSI_4_SURG_COMP',\n",
       " 'PSI_12_POSTOP_PULMEMB_DVT',\n",
       " '1 through 30 days After Discharge from Index Hospital Admission_inpatient',\n",
       " '1 through 30 days After Discharge from Index Hospital Admission_outpatient',\n",
       " 'During Index Hospital Admission_inpatient',\n",
       " 'AHRQ_PSI_90_Score',\n",
       " 'MRSA_Score',\n",
       " 'CAUTI_Score',\n",
       " 'CDI_Score',\n",
       " 'PAYM_30_HF',\n",
       " 'PAYM_30_HF_low',\n",
       " 'PAYM_30_HF_high']"
      ]
     },
     "execution_count": 327,
     "metadata": {},
     "output_type": "execute_result"
    }
   ],
   "source": [
    "features_hf_cols"
   ]
  },
  {
   "cell_type": "code",
   "execution_count": 328,
   "metadata": {
    "collapsed": true
   },
   "outputs": [],
   "source": [
    "features_hf_cols1 = ['1 through 30 days After Discharge from Index Hospital Admission_inpatient', \n",
    "                    '1 to 3 days Prior to Index Hospital Admission_inpatient', 'During Index Hospital Admission_inpatient',\n",
    "                   '1 through 30 days After Discharge from Index Hospital Admission_outpatient',\n",
    "                   '1 to 3 days Prior to Index Hospital Admission_outpatient', 'AHRQ_PSI_90_Score', 'CLABSI_Score',\n",
    "                   'CAUTI_Score', 'SSI_Score', 'MRSA_Score','CDI_Score', 'PAYM_30_HF', 'PAYM_30_HF_low','PAYM_30_HF_high',\n",
    "                   'H_COMP_1_STAR_RATING','H_COMP_2_STAR_RATING','H_COMP_3_STAR_RATING','H_COMP_4_STAR_RATING',\n",
    "                    'H_COMP_5_STAR_RATING','H_COMP_6_STAR_RATING','H_COMP_7_STAR_RATING','H_RECMND_STAR_RATING']"
   ]
  },
  {
   "cell_type": "markdown",
   "metadata": {},
   "source": [
    "#### Trying RF again with new features"
   ]
  },
  {
   "cell_type": "code",
   "execution_count": 329,
   "metadata": {
    "collapsed": false
   },
   "outputs": [],
   "source": [
    "trial_state_features_rf1 = {}\n",
    "trial_state_target_rf1 = {}\n",
    "for i in trial_states:\n",
    "\n",
    "    trial_state_features_rf1[i] = full_imputed[full_imputed['State'] == i][features_hf_cols1]\n",
    "    trial_state_target_rf1[i] = full_imputed[full_imputed['State'] == i].READM_30_HF\n",
    "# These features dont contain the states or hospital names"
   ]
  },
  {
   "cell_type": "code",
   "execution_count": 330,
   "metadata": {
    "collapsed": false
   },
   "outputs": [],
   "source": [
    "trial_state_models_rf1 = {}\n",
    "for i in trial_states:\n",
    "    X_train, X_test, y_train, y_test = train_test_split(trial_state_features_rf1[i], trial_state_target_rf1[i], \n",
    "                                                        test_size=.2, random_state=1)\n",
    "    trial_state_models_rf1[i]  = rf.fit(X_train, y_train)"
   ]
  },
  {
   "cell_type": "code",
   "execution_count": 331,
   "metadata": {
    "collapsed": false
   },
   "outputs": [
    {
     "name": "stdout",
     "output_type": "stream",
     "text": [
      "[-2.169525370370371, -2.8371665057471267, -2.2689574999999991, -3.5627545873015878]\n"
     ]
    }
   ],
   "source": [
    "score_rf1 = []\n",
    "for i in trial_states:\n",
    "    \n",
    "    scores_rf1 = cross_val_score(trial_state_models_rf1[i], trial_state_features_rf1[i], trial_state_target_rf1[i], cv=5, \n",
    "                             scoring='mean_squared_error').mean()\n",
    "    score_rf1.append(scores_rf1)\n",
    "print score_rf1"
   ]
  },
  {
   "cell_type": "markdown",
   "metadata": {},
   "source": [
    "## Feature Selection"
   ]
  },
  {
   "cell_type": "code",
   "execution_count": null,
   "metadata": {
    "collapsed": true
   },
   "outputs": [],
   "source": [
    "### I added more features to the RF and the predictions didn't get better - got a little worse/stayed the same\n",
    "## Next steps - See which features are highly correlated and remove those\n",
    "## Recursive feature elimination\n",
    "## Hyperparameter Optimization"
   ]
  },
  {
   "cell_type": "code",
   "execution_count": 342,
   "metadata": {
    "collapsed": false
   },
   "outputs": [
    {
     "name": "stdout",
     "output_type": "stream",
     "text": [
      "<class 'pandas.core.frame.DataFrame'>\n",
      "Int64Index: 2431 entries, 0 to 2430\n",
      "Data columns (total 64 columns):\n",
      "Hospital Name                                                                 2431 non-null object\n",
      "State                                                                         2431 non-null object\n",
      "READM_30_HF                                                                   2431 non-null float64\n",
      "COMP_HIP_KNEE                                                                 2431 non-null float64\n",
      "PSI_12_POSTOP_PULMEMB_DVT                                                     2431 non-null float64\n",
      "PSI_13_POST_SEPSIS                                                            2431 non-null float64\n",
      "PSI_14_POSTOP_DEHIS                                                           2431 non-null float64\n",
      "PSI_15_ACC_LAC                                                                2431 non-null float64\n",
      "PSI_3_ULCER                                                                   2431 non-null float64\n",
      "PSI_4_SURG_COMP                                                               2431 non-null float64\n",
      "PSI_6_IAT_PTX                                                                 2431 non-null float64\n",
      "PSI_7_CVCBI                                                                   2431 non-null float64\n",
      "PSI_8_POST_HIP                                                                2431 non-null float64\n",
      "PSI_90_SAFETY                                                                 2431 non-null float64\n",
      "COMP_HIP_KNEE_low                                                             2431 non-null float64\n",
      "PSI_12_POSTOP_PULMEMB_DVT_low                                                 2431 non-null float64\n",
      "PSI_13_POST_SEPSIS_low                                                        2431 non-null float64\n",
      "PSI_14_POSTOP_DEHIS_low                                                       2431 non-null float64\n",
      "PSI_15_ACC_LAC_low                                                            2431 non-null float64\n",
      "PSI_3_ULCER_low                                                               2431 non-null float64\n",
      "PSI_4_SURG_COMP_low                                                           2431 non-null float64\n",
      "PSI_6_IAT_PTX_low                                                             2431 non-null float64\n",
      "PSI_7_CVCBI_low                                                               2431 non-null float64\n",
      "PSI_8_POST_HIP_low                                                            2431 non-null float64\n",
      "PSI_90_SAFETY_low                                                             2431 non-null float64\n",
      "COMP_HIP_KNEE_high                                                            2431 non-null float64\n",
      "PSI_12_POSTOP_PULMEMB_DVT_high                                                2431 non-null float64\n",
      "PSI_13_POST_SEPSIS_high                                                       2431 non-null float64\n",
      "PSI_14_POSTOP_DEHIS_high                                                      2431 non-null float64\n",
      "PSI_15_ACC_LAC_high                                                           2431 non-null float64\n",
      "PSI_3_ULCER_high                                                              2431 non-null float64\n",
      "PSI_4_SURG_COMP_high                                                          2431 non-null float64\n",
      "PSI_6_IAT_PTX_high                                                            2431 non-null float64\n",
      "PSI_7_CVCBI_high                                                              2431 non-null float64\n",
      "PSI_8_POST_HIP_high                                                           2431 non-null float64\n",
      "PSI_90_SAFETY_high                                                            2431 non-null float64\n",
      "1 through 30 days After Discharge from Index Hospital Admission_inpatient     2431 non-null float64\n",
      "1 to 3 days Prior to Index Hospital Admission_inpatient                       2431 non-null float64\n",
      "During Index Hospital Admission_inpatient                                     2431 non-null float64\n",
      "1 through 30 days After Discharge from Index Hospital Admission_outpatient    2431 non-null float64\n",
      "1 to 3 days Prior to Index Hospital Admission_outpatient                      2431 non-null float64\n",
      "AHRQ_PSI_90_Score                                                             2431 non-null float64\n",
      "CLABSI_Score                                                                  2431 non-null float64\n",
      "CAUTI_Score                                                                   2431 non-null float64\n",
      "SSI_Score                                                                     2431 non-null float64\n",
      "MRSA_Score                                                                    2431 non-null float64\n",
      "CDI_Score                                                                     2431 non-null float64\n",
      "PAYM_30_AMI                                                                   2431 non-null float64\n",
      "PAYM_30_HF                                                                    2431 non-null float64\n",
      "PAYM_30_PN                                                                    2431 non-null float64\n",
      "PAYM_30_AMI_low                                                               2431 non-null float64\n",
      "PAYM_30_HF_low                                                                2431 non-null float64\n",
      "PAYM_30_PN_low                                                                2431 non-null float64\n",
      "PAYM_30_AMI_high                                                              2431 non-null float64\n",
      "PAYM_30_HF_high                                                               2431 non-null float64\n",
      "PAYM_30_PN_high                                                               2431 non-null float64\n",
      "H_COMP_1_STAR_RATING                                                          2431 non-null float64\n",
      "H_COMP_2_STAR_RATING                                                          2431 non-null float64\n",
      "H_COMP_3_STAR_RATING                                                          2431 non-null float64\n",
      "H_COMP_4_STAR_RATING                                                          2431 non-null float64\n",
      "H_COMP_5_STAR_RATING                                                          2431 non-null float64\n",
      "H_COMP_6_STAR_RATING                                                          2431 non-null float64\n",
      "H_COMP_7_STAR_RATING                                                          2431 non-null float64\n",
      "H_RECMND_STAR_RATING                                                          2431 non-null float64\n",
      "dtypes: float64(62), object(2)\n",
      "memory usage: 1.2+ MB\n"
     ]
    }
   ],
   "source": [
    "features.info()"
   ]
  },
  {
   "cell_type": "markdown",
   "metadata": {},
   "source": [
    "#### Removing highly correlated features"
   ]
  },
  {
   "cell_type": "code",
   "execution_count": 353,
   "metadata": {
    "collapsed": true
   },
   "outputs": [],
   "source": [
    "def correlation_matrix(df):\n",
    "    from matplotlib import pyplot as plt\n",
    "    from matplotlib import cm as cm\n",
    "\n",
    "    fig = plt.figure(figsize=(20,12))\n",
    "    ax1 = fig.add_subplot(111)\n",
    "    cmap = cm.get_cmap('jet', 30)\n",
    "    cax = ax1.imshow(df.corr(), interpolation=\"nearest\", cmap=cmap)\n",
    "    ax1.grid(True)\n",
    "    # Add colorbar, make sure to specify tick locations to match desired ticklabels\n",
    "    fig.colorbar(cax, ticks=[-1,-.7,-.5,-.25,0,.25,.5,.7,.8,.90,1])\n",
    "    plt.ylim()\n",
    "    plt.show()"
   ]
  },
  {
   "cell_type": "code",
   "execution_count": 354,
   "metadata": {
    "collapsed": false
   },
   "outputs": [
    {
     "data": {
      "image/png": "[encoded data removed]",
      "text/plain": [
       "<matplotlib.figure.Figure at 0x123b325d0>"
      ]
     },
     "metadata": {},
     "output_type": "display_data"
    }
   ],
   "source": [
    "correlation_matrix(features)"
   ]
  },
  {
   "cell_type": "code",
   "execution_count": 384,
   "metadata": {
    "collapsed": true
   },
   "outputs": [],
   "source": [
    "cols_corrl_target = ['PSI_90_SAFETY', 'PSI_90_SAFETY_low', 'PSI_7_CVCBI_low']"
   ]
  },
  {
   "cell_type": "code",
   "execution_count": 282,
   "metadata": {
    "collapsed": true
   },
   "outputs": [],
   "source": [
    "corrl_cols = [5,6,7,8,9,10,11,12,13,17,21,22,45,46,47]"
   ]
  },
  {
   "cell_type": "code",
   "execution_count": 306,
   "metadata": {
    "collapsed": false
   },
   "outputs": [
    {
     "data": {
      "text/plain": [
       "49"
      ]
     },
     "execution_count": 306,
     "metadata": {},
     "output_type": "execute_result"
    }
   ],
   "source": [
    "len(features.columns) - len(corrl_cols)"
   ]
  },
  {
   "cell_type": "code",
   "execution_count": 296,
   "metadata": {
    "collapsed": false
   },
   "outputs": [],
   "source": [
    "corrl_colnames = ['PSI_13_POST_SEPSIS','PSI_14_POSTOP_DEHIS','PSI_15_ACC_LAC','PSI_3_ULCER','PSI_4_SURG_COMP','PSI_6_IAT_PTX',\n",
    "'PSI_7_CVCBI','PSI_8_POST_HIP', 'PSI_90_SAFETY','PSI_14_POSTOP_DEHIS_low','PSI_6_IAT_PTX_low','PSI_7_CVCBI_low',\n",
    " 'MRSA_Score', 'CDI_Score', 'PAYM_30_AMI']"
   ]
  },
  {
   "cell_type": "code",
   "execution_count": 302,
   "metadata": {
    "collapsed": false
   },
   "outputs": [],
   "source": [
    "clean_features = pd.DataFrame()\n",
    "for i in features.columns:\n",
    "    if i not in corrl_colnames:\n",
    "        clean_features[i] = features[i]"
   ]
  },
  {
   "cell_type": "code",
   "execution_count": 303,
   "metadata": {
    "collapsed": false
   },
   "outputs": [
    {
     "name": "stdout",
     "output_type": "stream",
     "text": [
      "<class 'pandas.core.frame.DataFrame'>\n",
      "Int64Index: 2431 entries, 0 to 2430\n",
      "Data columns (total 49 columns):\n",
      "Hospital Name                                                                 2431 non-null object\n",
      "State                                                                         2431 non-null object\n",
      "READM_30_HF                                                                   2431 non-null float64\n",
      "COMP_HIP_KNEE                                                                 2431 non-null float64\n",
      "PSI_12_POSTOP_PULMEMB_DVT                                                     2431 non-null float64\n",
      "COMP_HIP_KNEE_low                                                             2431 non-null float64\n",
      "PSI_12_POSTOP_PULMEMB_DVT_low                                                 2431 non-null float64\n",
      "PSI_13_POST_SEPSIS_low                                                        2431 non-null float64\n",
      "PSI_15_ACC_LAC_low                                                            2431 non-null float64\n",
      "PSI_3_ULCER_low                                                               2431 non-null float64\n",
      "PSI_4_SURG_COMP_low                                                           2431 non-null float64\n",
      "PSI_8_POST_HIP_low                                                            2431 non-null float64\n",
      "PSI_90_SAFETY_low                                                             2431 non-null float64\n",
      "COMP_HIP_KNEE_high                                                            2431 non-null float64\n",
      "PSI_12_POSTOP_PULMEMB_DVT_high                                                2431 non-null float64\n",
      "PSI_13_POST_SEPSIS_high                                                       2431 non-null float64\n",
      "PSI_14_POSTOP_DEHIS_high                                                      2431 non-null float64\n",
      "PSI_15_ACC_LAC_high                                                           2431 non-null float64\n",
      "PSI_3_ULCER_high                                                              2431 non-null float64\n",
      "PSI_4_SURG_COMP_high                                                          2431 non-null float64\n",
      "PSI_6_IAT_PTX_high                                                            2431 non-null float64\n",
      "PSI_7_CVCBI_high                                                              2431 non-null float64\n",
      "PSI_8_POST_HIP_high                                                           2431 non-null float64\n",
      "PSI_90_SAFETY_high                                                            2431 non-null float64\n",
      "1 through 30 days After Discharge from Index Hospital Admission_inpatient     2431 non-null float64\n",
      "1 to 3 days Prior to Index Hospital Admission_inpatient                       2431 non-null float64\n",
      "During Index Hospital Admission_inpatient                                     2431 non-null float64\n",
      "1 through 30 days After Discharge from Index Hospital Admission_outpatient    2431 non-null float64\n",
      "1 to 3 days Prior to Index Hospital Admission_outpatient                      2431 non-null float64\n",
      "AHRQ_PSI_90_Score                                                             2431 non-null float64\n",
      "CLABSI_Score                                                                  2431 non-null float64\n",
      "CAUTI_Score                                                                   2431 non-null float64\n",
      "SSI_Score                                                                     2431 non-null float64\n",
      "PAYM_30_HF                                                                    2431 non-null float64\n",
      "PAYM_30_PN                                                                    2431 non-null float64\n",
      "PAYM_30_AMI_low                                                               2431 non-null float64\n",
      "PAYM_30_HF_low                                                                2431 non-null float64\n",
      "PAYM_30_PN_low                                                                2431 non-null float64\n",
      "PAYM_30_AMI_high                                                              2431 non-null float64\n",
      "PAYM_30_HF_high                                                               2431 non-null float64\n",
      "PAYM_30_PN_high                                                               2431 non-null float64\n",
      "H_COMP_1_STAR_RATING                                                          2431 non-null float64\n",
      "H_COMP_2_STAR_RATING                                                          2431 non-null float64\n",
      "H_COMP_3_STAR_RATING                                                          2431 non-null float64\n",
      "H_COMP_4_STAR_RATING                                                          2431 non-null float64\n",
      "H_COMP_5_STAR_RATING                                                          2431 non-null float64\n",
      "H_COMP_6_STAR_RATING                                                          2431 non-null float64\n",
      "H_COMP_7_STAR_RATING                                                          2431 non-null float64\n",
      "H_RECMND_STAR_RATING                                                          2431 non-null float64\n",
      "dtypes: float64(47), object(2)\n",
      "memory usage: 949.6+ KB\n"
     ]
    }
   ],
   "source": [
    "clean_features.info() #features and target with correkated features removed"
   ]
  },
  {
   "cell_type": "markdown",
   "metadata": {},
   "source": [
    "### Building RF model for all states - using recursive feature elimination and gridsearch for each state"
   ]
  },
  {
   "cell_type": "code",
   "execution_count": 317,
   "metadata": {
    "collapsed": false
   },
   "outputs": [],
   "source": [
    "state_features_rf = {}\n",
    "state_target_rf = {}\n",
    "for i in states:\n",
    "\n",
    "    state_features_rf[i] = clean_features[clean_features['State'] == i].iloc[:,3:]\n",
    "    state_target_rf[i] = clean_features[clean_features['State'] == i].READM_30_HF\n",
    "# These features dont contain the states or hospital names"
   ]
  },
  {
   "cell_type": "code",
   "execution_count": 361,
   "metadata": {
    "collapsed": false
   },
   "outputs": [
    {
     "name": "stdout",
     "output_type": "stream",
     "text": [
      "State name: WA and length 38.\n",
      "State name: DE and length 5.\n",
      "State name: WI and length 40.\n",
      "State name: WV and length 27.\n",
      "State name: HI and length 12.\n",
      "State name: FL and length 147.\n",
      "State name: WY and length 7.\n",
      "State name: NH and length 13.\n",
      "State name: NJ and length 45.\n",
      "State name: NM and length 23.\n",
      "State name: TX and length 200.\n",
      "State name: LA and length 65.\n",
      "State name: NC and length 67.\n",
      "State name: ND and length 5.\n",
      "State name: NE and length 13.\n",
      "State name: TN and length 68.\n",
      "State name: NY and length 112.\n",
      "State name: PA and length 121.\n",
      "State name: CA and length 240.\n",
      "State name: NV and length 20.\n",
      "State name: VA and length 56.\n",
      "State name: CO and length 32.\n",
      "State name: AK and length 8.\n",
      "State name: AL and length 64.\n",
      "State name: AR and length 37.\n",
      "State name: VT and length 5.\n",
      "State name: IL and length 102.\n",
      "State name: GA and length 78.\n",
      "State name: IN and length 52.\n",
      "State name: IA and length 28.\n",
      "State name: OK and length 47.\n",
      "State name: AZ and length 44.\n",
      "State name: ID and length 9.\n",
      "State name: CT and length 22.\n",
      "State name: ME and length 17.\n",
      "State name: MD and length 0.\n",
      "State name: MA and length 38.\n",
      "State name: OH and length 99.\n",
      "State name: UT and length 20.\n",
      "State name: MO and length 53.\n",
      "State name: MN and length 41.\n",
      "State name: MI and length 62.\n",
      "State name: RI and length 9.\n",
      "State name: KS and length 34.\n",
      "State name: MT and length 8.\n",
      "State name: MS and length 51.\n",
      "State name: SC and length 46.\n",
      "State name: KY and length 54.\n",
      "State name: OR and length 29.\n",
      "State name: SD and length 11.\n"
     ]
    }
   ],
   "source": [
    "for i in state_features_rf:\n",
    "    print \"State name: %s and length %s.\" %(i, len(state_features_rf[i]))"
   ]
  },
  {
   "cell_type": "code",
   "execution_count": 369,
   "metadata": {
    "collapsed": false
   },
   "outputs": [],
   "source": [
    "long_states = []\n",
    "for i in states:\n",
    "    if i in ['DE','HI','WY','NH','ND','NE','AK','VT','ID','MD','RI','MT']:\n",
    "        pass\n",
    "    else:\n",
    "        long_states.append(i)"
   ]
  },
  {
   "cell_type": "code",
   "execution_count": 370,
   "metadata": {
    "collapsed": false
   },
   "outputs": [
    {
     "data": {
      "text/plain": [
       "38"
      ]
     },
     "execution_count": 370,
     "metadata": {},
     "output_type": "execute_result"
    }
   ],
   "source": [
    "len(long_states)#Over 15 features"
   ]
  },
  {
   "cell_type": "code",
   "execution_count": 363,
   "metadata": {
    "collapsed": true
   },
   "outputs": [],
   "source": [
    "from sklearn.feature_selection import RFE"
   ]
  },
  {
   "cell_type": "code",
   "execution_count": 371,
   "metadata": {
    "collapsed": false
   },
   "outputs": [
    {
     "name": "stdout",
     "output_type": "stream",
     "text": [
      "Fitting 3 folds for each of 480 candidates, totalling 1440 fits\n"
     ]
    },
    {
     "name": "stderr",
     "output_type": "stream",
     "text": [
      "[Parallel(n_jobs=1)]: Done 1440 out of 1440 | elapsed:  1.4min finished\n"
     ]
    },
    {
     "name": "stdout",
     "output_type": "stream",
     "text": [
      "Fitting 3 folds for each of 480 candidates, totalling 1440 fits\n"
     ]
    },
    {
     "name": "stderr",
     "output_type": "stream",
     "text": [
      "[Parallel(n_jobs=1)]: Done 1440 out of 1440 | elapsed:  1.4min finished\n"
     ]
    },
    {
     "name": "stdout",
     "output_type": "stream",
     "text": [
      "Fitting 3 folds for each of 480 candidates, totalling 1440 fits\n"
     ]
    },
    {
     "name": "stderr",
     "output_type": "stream",
     "text": [
      "[Parallel(n_jobs=1)]: Done 1440 out of 1440 | elapsed:  1.4min finished\n"
     ]
    },
    {
     "name": "stdout",
     "output_type": "stream",
     "text": [
      "Fitting 3 folds for each of 480 candidates, totalling 1440 fits\n"
     ]
    },
    {
     "name": "stderr",
     "output_type": "stream",
     "text": [
      "[Parallel(n_jobs=1)]: Done 1440 out of 1440 | elapsed:  1.5min finished\n"
     ]
    },
    {
     "name": "stdout",
     "output_type": "stream",
     "text": [
      "Fitting 3 folds for each of 480 candidates, totalling 1440 fits\n"
     ]
    },
    {
     "name": "stderr",
     "output_type": "stream",
     "text": [
      "[Parallel(n_jobs=1)]: Done 1440 out of 1440 | elapsed:  1.4min finished\n"
     ]
    },
    {
     "name": "stdout",
     "output_type": "stream",
     "text": [
      "Fitting 3 folds for each of 480 candidates, totalling 1440 fits\n"
     ]
    },
    {
     "name": "stderr",
     "output_type": "stream",
     "text": [
      "[Parallel(n_jobs=1)]: Done 1440 out of 1440 | elapsed:  1.4min finished\n"
     ]
    },
    {
     "name": "stdout",
     "output_type": "stream",
     "text": [
      "Fitting 3 folds for each of 480 candidates, totalling 1440 fits\n"
     ]
    },
    {
     "name": "stderr",
     "output_type": "stream",
     "text": [
      "[Parallel(n_jobs=1)]: Done 1440 out of 1440 | elapsed:  1.5min finished\n"
     ]
    },
    {
     "name": "stdout",
     "output_type": "stream",
     "text": [
      "Fitting 3 folds for each of 480 candidates, totalling 1440 fits\n"
     ]
    },
    {
     "name": "stderr",
     "output_type": "stream",
     "text": [
      "[Parallel(n_jobs=1)]: Done 1440 out of 1440 | elapsed:  1.4min finished\n"
     ]
    },
    {
     "name": "stdout",
     "output_type": "stream",
     "text": [
      "Fitting 3 folds for each of 480 candidates, totalling 1440 fits\n"
     ]
    },
    {
     "name": "stderr",
     "output_type": "stream",
     "text": [
      "[Parallel(n_jobs=1)]: Done 1440 out of 1440 | elapsed:  1.4min finished\n"
     ]
    },
    {
     "name": "stdout",
     "output_type": "stream",
     "text": [
      "Fitting 3 folds for each of 480 candidates, totalling 1440 fits\n"
     ]
    },
    {
     "name": "stderr",
     "output_type": "stream",
     "text": [
      "[Parallel(n_jobs=1)]: Done 1440 out of 1440 | elapsed:  1.4min finished\n"
     ]
    },
    {
     "name": "stdout",
     "output_type": "stream",
     "text": [
      "Fitting 3 folds for each of 480 candidates, totalling 1440 fits\n"
     ]
    },
    {
     "name": "stderr",
     "output_type": "stream",
     "text": [
      "[Parallel(n_jobs=1)]: Done 1440 out of 1440 | elapsed:  1.4min finished\n"
     ]
    },
    {
     "name": "stdout",
     "output_type": "stream",
     "text": [
      "Fitting 3 folds for each of 480 candidates, totalling 1440 fits\n"
     ]
    },
    {
     "name": "stderr",
     "output_type": "stream",
     "text": [
      "[Parallel(n_jobs=1)]: Done 1440 out of 1440 | elapsed:  1.4min finished\n"
     ]
    },
    {
     "name": "stdout",
     "output_type": "stream",
     "text": [
      "Fitting 3 folds for each of 480 candidates, totalling 1440 fits\n"
     ]
    },
    {
     "name": "stderr",
     "output_type": "stream",
     "text": [
      "[Parallel(n_jobs=1)]: Done 1440 out of 1440 | elapsed:  1.4min finished\n"
     ]
    },
    {
     "name": "stdout",
     "output_type": "stream",
     "text": [
      "Fitting 3 folds for each of 480 candidates, totalling 1440 fits\n"
     ]
    },
    {
     "name": "stderr",
     "output_type": "stream",
     "text": [
      "[Parallel(n_jobs=1)]: Done 1440 out of 1440 | elapsed:  1.4min finished\n"
     ]
    },
    {
     "name": "stdout",
     "output_type": "stream",
     "text": [
      "Fitting 3 folds for each of 480 candidates, totalling 1440 fits\n"
     ]
    },
    {
     "name": "stderr",
     "output_type": "stream",
     "text": [
      "[Parallel(n_jobs=1)]: Done 1440 out of 1440 | elapsed:  1.4min finished\n"
     ]
    },
    {
     "name": "stdout",
     "output_type": "stream",
     "text": [
      "Fitting 3 folds for each of 480 candidates, totalling 1440 fits\n"
     ]
    },
    {
     "name": "stderr",
     "output_type": "stream",
     "text": [
      "[Parallel(n_jobs=1)]: Done 1440 out of 1440 | elapsed:  1.4min finished\n"
     ]
    },
    {
     "name": "stdout",
     "output_type": "stream",
     "text": [
      "Fitting 3 folds for each of 480 candidates, totalling 1440 fits\n"
     ]
    },
    {
     "name": "stderr",
     "output_type": "stream",
     "text": [
      "[Parallel(n_jobs=1)]: Done 1440 out of 1440 | elapsed:  1.4min finished\n"
     ]
    },
    {
     "name": "stdout",
     "output_type": "stream",
     "text": [
      "Fitting 3 folds for each of 480 candidates, totalling 1440 fits\n"
     ]
    },
    {
     "name": "stderr",
     "output_type": "stream",
     "text": [
      "[Parallel(n_jobs=1)]: Done 1440 out of 1440 | elapsed:  1.4min finished\n"
     ]
    },
    {
     "name": "stdout",
     "output_type": "stream",
     "text": [
      "Fitting 3 folds for each of 480 candidates, totalling 1440 fits\n"
     ]
    },
    {
     "name": "stderr",
     "output_type": "stream",
     "text": [
      "[Parallel(n_jobs=1)]: Done 1440 out of 1440 | elapsed:  1.4min finished\n"
     ]
    },
    {
     "name": "stdout",
     "output_type": "stream",
     "text": [
      "Fitting 3 folds for each of 480 candidates, totalling 1440 fits\n"
     ]
    },
    {
     "name": "stderr",
     "output_type": "stream",
     "text": [
      "[Parallel(n_jobs=1)]: Done 1440 out of 1440 | elapsed:  1.4min finished\n"
     ]
    },
    {
     "name": "stdout",
     "output_type": "stream",
     "text": [
      "Fitting 3 folds for each of 480 candidates, totalling 1440 fits\n"
     ]
    },
    {
     "name": "stderr",
     "output_type": "stream",
     "text": [
      "[Parallel(n_jobs=1)]: Done 1440 out of 1440 | elapsed:  1.4min finished\n"
     ]
    },
    {
     "name": "stdout",
     "output_type": "stream",
     "text": [
      "Fitting 3 folds for each of 480 candidates, totalling 1440 fits\n"
     ]
    },
    {
     "name": "stderr",
     "output_type": "stream",
     "text": [
      "[Parallel(n_jobs=1)]: Done 1440 out of 1440 | elapsed:  1.4min finished\n"
     ]
    },
    {
     "name": "stdout",
     "output_type": "stream",
     "text": [
      "Fitting 3 folds for each of 480 candidates, totalling 1440 fits\n"
     ]
    },
    {
     "name": "stderr",
     "output_type": "stream",
     "text": [
      "[Parallel(n_jobs=1)]: Done 1440 out of 1440 | elapsed:  1.6min finished\n"
     ]
    },
    {
     "name": "stdout",
     "output_type": "stream",
     "text": [
      "Fitting 3 folds for each of 480 candidates, totalling 1440 fits\n"
     ]
    },
    {
     "name": "stderr",
     "output_type": "stream",
     "text": [
      "[Parallel(n_jobs=1)]: Done 1440 out of 1440 | elapsed:  1.4min finished\n"
     ]
    },
    {
     "name": "stdout",
     "output_type": "stream",
     "text": [
      "Fitting 3 folds for each of 480 candidates, totalling 1440 fits\n"
     ]
    },
    {
     "name": "stderr",
     "output_type": "stream",
     "text": [
      "[Parallel(n_jobs=1)]: Done 1440 out of 1440 | elapsed:  1.4min finished\n"
     ]
    },
    {
     "name": "stdout",
     "output_type": "stream",
     "text": [
      "Fitting 3 folds for each of 480 candidates, totalling 1440 fits\n"
     ]
    },
    {
     "name": "stderr",
     "output_type": "stream",
     "text": [
      "[Parallel(n_jobs=1)]: Done 1440 out of 1440 | elapsed:  1.4min finished\n"
     ]
    },
    {
     "name": "stdout",
     "output_type": "stream",
     "text": [
      "Fitting 3 folds for each of 480 candidates, totalling 1440 fits\n"
     ]
    },
    {
     "name": "stderr",
     "output_type": "stream",
     "text": [
      "[Parallel(n_jobs=1)]: Done 1440 out of 1440 | elapsed:  1.4min finished\n"
     ]
    },
    {
     "name": "stdout",
     "output_type": "stream",
     "text": [
      "Fitting 3 folds for each of 480 candidates, totalling 1440 fits\n"
     ]
    },
    {
     "name": "stderr",
     "output_type": "stream",
     "text": [
      "[Parallel(n_jobs=1)]: Done 1440 out of 1440 | elapsed:  1.4min finished\n"
     ]
    },
    {
     "name": "stdout",
     "output_type": "stream",
     "text": [
      "Fitting 3 folds for each of 480 candidates, totalling 1440 fits\n"
     ]
    },
    {
     "name": "stderr",
     "output_type": "stream",
     "text": [
      "[Parallel(n_jobs=1)]: Done 1440 out of 1440 | elapsed:  1.4min finished\n"
     ]
    },
    {
     "name": "stdout",
     "output_type": "stream",
     "text": [
      "Fitting 3 folds for each of 480 candidates, totalling 1440 fits\n"
     ]
    },
    {
     "name": "stderr",
     "output_type": "stream",
     "text": [
      "[Parallel(n_jobs=1)]: Done 1440 out of 1440 | elapsed:  1.4min finished\n"
     ]
    },
    {
     "name": "stdout",
     "output_type": "stream",
     "text": [
      "Fitting 3 folds for each of 480 candidates, totalling 1440 fits\n"
     ]
    },
    {
     "name": "stderr",
     "output_type": "stream",
     "text": [
      "[Parallel(n_jobs=1)]: Done 1440 out of 1440 | elapsed:  1.4min finished\n"
     ]
    },
    {
     "name": "stdout",
     "output_type": "stream",
     "text": [
      "Fitting 3 folds for each of 480 candidates, totalling 1440 fits\n"
     ]
    },
    {
     "name": "stderr",
     "output_type": "stream",
     "text": [
      "[Parallel(n_jobs=1)]: Done 1440 out of 1440 | elapsed:  1.4min finished\n"
     ]
    },
    {
     "name": "stdout",
     "output_type": "stream",
     "text": [
      "Fitting 3 folds for each of 480 candidates, totalling 1440 fits\n"
     ]
    },
    {
     "name": "stderr",
     "output_type": "stream",
     "text": [
      "[Parallel(n_jobs=1)]: Done 1440 out of 1440 | elapsed:  1.6min finished\n"
     ]
    },
    {
     "name": "stdout",
     "output_type": "stream",
     "text": [
      "Fitting 3 folds for each of 480 candidates, totalling 1440 fits\n"
     ]
    },
    {
     "name": "stderr",
     "output_type": "stream",
     "text": [
      "[Parallel(n_jobs=1)]: Done 1440 out of 1440 | elapsed:  1.4min finished\n"
     ]
    },
    {
     "name": "stdout",
     "output_type": "stream",
     "text": [
      "Fitting 3 folds for each of 480 candidates, totalling 1440 fits\n"
     ]
    },
    {
     "name": "stderr",
     "output_type": "stream",
     "text": [
      "[Parallel(n_jobs=1)]: Done 1440 out of 1440 | elapsed:  1.4min finished\n"
     ]
    },
    {
     "name": "stdout",
     "output_type": "stream",
     "text": [
      "Fitting 3 folds for each of 480 candidates, totalling 1440 fits\n"
     ]
    },
    {
     "name": "stderr",
     "output_type": "stream",
     "text": [
      "[Parallel(n_jobs=1)]: Done 1440 out of 1440 | elapsed:  1.5min finished\n"
     ]
    },
    {
     "name": "stdout",
     "output_type": "stream",
     "text": [
      "Fitting 3 folds for each of 480 candidates, totalling 1440 fits\n"
     ]
    },
    {
     "name": "stderr",
     "output_type": "stream",
     "text": [
      "[Parallel(n_jobs=1)]: Done 1440 out of 1440 | elapsed:  1.7min finished\n"
     ]
    },
    {
     "name": "stdout",
     "output_type": "stream",
     "text": [
      "Fitting 3 folds for each of 480 candidates, totalling 1440 fits\n"
     ]
    },
    {
     "name": "stderr",
     "output_type": "stream",
     "text": [
      "[Parallel(n_jobs=1)]: Done 1440 out of 1440 | elapsed:  1.6min finished\n"
     ]
    }
   ],
   "source": [
    "from sklearn import grid_search\n",
    "state_models_rf = {}\n",
    "state_gridsearch = {}\n",
    "state_model_topfeat = {}\n",
    "\n",
    "for i in long_states:\n",
    "    X_train, X_test, y_train, y_test = train_test_split(state_features_rf[i], state_target_rf[i], \n",
    "                                                        test_size=.2, random_state=1)\n",
    "    clf = RandomForestRegressor()\n",
    "    PARAMETERS = {'max_features':['auto','sqrt',0.2], 'max_leaf_nodes':[None,5,6,7,8,9,10,50], \n",
    "              'min_samples_leaf':[1,2,4,50], 'n_estimators':[6,8,10,20,25]}\n",
    "    SCORING = 'mean_squared_error'\n",
    "\n",
    "    #Grid Search\n",
    "    clf = grid_search.GridSearchCV(clf, PARAMETERS, scoring=SCORING, cv=3, verbose=True)\n",
    "    clf.fit(X_train, y_train)\n",
    "\n",
    "    #After completion, add the final best results to dict\n",
    "    state_gridsearch[i] = clf.best_estimator_\n",
    "    \n",
    "    #recursive feature elimination\n",
    "    rfecv = RFE(estimator=state_gridsearch[i], n_features_to_select=(len(X_train))/2, step=1)\n",
    "    \n",
    "    # Putting models in dict\n",
    "    state_models_rf[i] = rfecv.fit(X_train, y_train)\n",
    "    \n",
    "    q = state_models_rf[i].ranking_\n",
    "    q_list = list(q)\n",
    "    \n",
    "    # Putting important feature indexes in dict\n",
    "    state_model_topfeat[i] = [z for z, x in enumerate(q_list) if x == 1]"
   ]
  },
  {
   "cell_type": "code",
   "execution_count": 373,
   "metadata": {
    "collapsed": false
   },
   "outputs": [
    {
     "data": {
      "text/plain": [
       "[30, 35, 36, 37, 39, 40, 41, 42, 43]"
      ]
     },
     "execution_count": 373,
     "metadata": {},
     "output_type": "execute_result"
    }
   ],
   "source": [
    "state_model_topfeat['NM']"
   ]
  },
  {
   "cell_type": "code",
   "execution_count": 395,
   "metadata": {
    "collapsed": true
   },
   "outputs": [],
   "source": [
    "h = RFE(estimator=rf, n_features_to_select=(len(X_train))/2, step=1)"
   ]
  },
  {
   "cell_type": "code",
   "execution_count": 397,
   "metadata": {
    "collapsed": false
   },
   "outputs": [
    {
     "name": "stdout",
     "output_type": "stream",
     "text": [
      "Fitting 3 folds for each of 480 candidates, totalling 1440 fits\n"
     ]
    },
    {
     "ename": "ValueError",
     "evalue": "Invalid parameter max_features for estimator RFECV. Check the list of available parameters with `estimator.get_params().keys()`.",
     "output_type": "error",
     "traceback": [
      "\u001b[0;31m---------------------------------------------------------------------------\u001b[0m",
      "\u001b[0;31mValueError\u001b[0m                                Traceback (most recent call last)",
      "\u001b[0;32m<ipython-input-397-a1172b76d23b>\u001b[0m in \u001b[0;36m<module>\u001b[0;34m()\u001b[0m\n\u001b[1;32m      2\u001b[0m \u001b[0mselector\u001b[0m \u001b[0;34m=\u001b[0m \u001b[0mRFECV\u001b[0m\u001b[0;34m(\u001b[0m\u001b[0mrf\u001b[0m\u001b[0;34m,\u001b[0m \u001b[0mstep\u001b[0m\u001b[0;34m=\u001b[0m\u001b[0;36m1\u001b[0m\u001b[0;34m,\u001b[0m \u001b[0mcv\u001b[0m\u001b[0;34m=\u001b[0m\u001b[0;36m3\u001b[0m\u001b[0;34m,\u001b[0m \u001b[0mscoring\u001b[0m\u001b[0;34m=\u001b[0m\u001b[0;34m\"neg_mean_squared_error\"\u001b[0m\u001b[0;34m)\u001b[0m\u001b[0;34m\u001b[0m\u001b[0m\n\u001b[1;32m      3\u001b[0m \u001b[0mclf\u001b[0m \u001b[0;34m=\u001b[0m \u001b[0mgrid_search\u001b[0m\u001b[0;34m.\u001b[0m\u001b[0mGridSearchCV\u001b[0m\u001b[0;34m(\u001b[0m\u001b[0mselector\u001b[0m\u001b[0;34m,\u001b[0m \u001b[0mPARAMETERS\u001b[0m\u001b[0;34m,\u001b[0m \u001b[0mscoring\u001b[0m\u001b[0;34m=\u001b[0m\u001b[0mSCORING\u001b[0m\u001b[0;34m,\u001b[0m \u001b[0mcv\u001b[0m\u001b[0;34m=\u001b[0m\u001b[0;36m3\u001b[0m\u001b[0;34m,\u001b[0m \u001b[0mverbose\u001b[0m\u001b[0;34m=\u001b[0m\u001b[0mTrue\u001b[0m\u001b[0;34m)\u001b[0m\u001b[0;34m\u001b[0m\u001b[0m\n\u001b[0;32m----> 4\u001b[0;31m \u001b[0mclf\u001b[0m\u001b[0;34m.\u001b[0m\u001b[0mfit\u001b[0m\u001b[0;34m(\u001b[0m\u001b[0mX_train\u001b[0m\u001b[0;34m,\u001b[0m\u001b[0my_train\u001b[0m\u001b[0;34m)\u001b[0m\u001b[0;34m\u001b[0m\u001b[0m\n\u001b[0m\u001b[1;32m      5\u001b[0m \u001b[0;32mprint\u001b[0m \u001b[0mclf\u001b[0m\u001b[0;34m.\u001b[0m\u001b[0mbest_estimator_\u001b[0m\u001b[0;34m.\u001b[0m\u001b[0mestimator_\u001b[0m\u001b[0;34m\u001b[0m\u001b[0m\n\u001b[1;32m      6\u001b[0m \u001b[0;32mprint\u001b[0m \u001b[0mclf\u001b[0m\u001b[0;34m.\u001b[0m\u001b[0mbest_estimator_\u001b[0m\u001b[0;34m.\u001b[0m\u001b[0mranking_\u001b[0m\u001b[0;34m\u001b[0m\u001b[0m\n",
      "\u001b[0;32m/Users/sheena/anaconda/lib/python2.7/site-packages/sklearn/grid_search.pyc\u001b[0m in \u001b[0;36mfit\u001b[0;34m(self, X, y)\u001b[0m\n\u001b[1;32m    827\u001b[0m \u001b[0;34m\u001b[0m\u001b[0m\n\u001b[1;32m    828\u001b[0m         \"\"\"\n\u001b[0;32m--> 829\u001b[0;31m         \u001b[0;32mreturn\u001b[0m \u001b[0mself\u001b[0m\u001b[0;34m.\u001b[0m\u001b[0m_fit\u001b[0m\u001b[0;34m(\u001b[0m\u001b[0mX\u001b[0m\u001b[0;34m,\u001b[0m \u001b[0my\u001b[0m\u001b[0;34m,\u001b[0m \u001b[0mParameterGrid\u001b[0m\u001b[0;34m(\u001b[0m\u001b[0mself\u001b[0m\u001b[0;34m.\u001b[0m\u001b[0mparam_grid\u001b[0m\u001b[0;34m)\u001b[0m\u001b[0;34m)\u001b[0m\u001b[0;34m\u001b[0m\u001b[0m\n\u001b[0m\u001b[1;32m    830\u001b[0m \u001b[0;34m\u001b[0m\u001b[0m\n\u001b[1;32m    831\u001b[0m \u001b[0;34m\u001b[0m\u001b[0m\n",
      "\u001b[0;32m/Users/sheena/anaconda/lib/python2.7/site-packages/sklearn/grid_search.pyc\u001b[0m in \u001b[0;36m_fit\u001b[0;34m(self, X, y, parameter_iterable)\u001b[0m\n\u001b[1;32m    571\u001b[0m                                     \u001b[0mself\u001b[0m\u001b[0;34m.\u001b[0m\u001b[0mfit_params\u001b[0m\u001b[0;34m,\u001b[0m \u001b[0mreturn_parameters\u001b[0m\u001b[0;34m=\u001b[0m\u001b[0mTrue\u001b[0m\u001b[0;34m,\u001b[0m\u001b[0;34m\u001b[0m\u001b[0m\n\u001b[1;32m    572\u001b[0m                                     error_score=self.error_score)\n\u001b[0;32m--> 573\u001b[0;31m                 \u001b[0;32mfor\u001b[0m \u001b[0mparameters\u001b[0m \u001b[0;32min\u001b[0m \u001b[0mparameter_iterable\u001b[0m\u001b[0;34m\u001b[0m\u001b[0m\n\u001b[0m\u001b[1;32m    574\u001b[0m                 for train, test in cv)\n\u001b[1;32m    575\u001b[0m \u001b[0;34m\u001b[0m\u001b[0m\n",
      "\u001b[0;32m/Users/sheena/anaconda/lib/python2.7/site-packages/sklearn/externals/joblib/parallel.pyc\u001b[0m in \u001b[0;36m__call__\u001b[0;34m(self, iterable)\u001b[0m\n\u001b[1;32m    756\u001b[0m             \u001b[0;31m# was dispatched. In particular this covers the edge\u001b[0m\u001b[0;34m\u001b[0m\u001b[0;34m\u001b[0m\u001b[0m\n\u001b[1;32m    757\u001b[0m             \u001b[0;31m# case of Parallel used with an exhausted iterator.\u001b[0m\u001b[0;34m\u001b[0m\u001b[0;34m\u001b[0m\u001b[0m\n\u001b[0;32m--> 758\u001b[0;31m             \u001b[0;32mwhile\u001b[0m \u001b[0mself\u001b[0m\u001b[0;34m.\u001b[0m\u001b[0mdispatch_one_batch\u001b[0m\u001b[0;34m(\u001b[0m\u001b[0miterator\u001b[0m\u001b[0;34m)\u001b[0m\u001b[0;34m:\u001b[0m\u001b[0;34m\u001b[0m\u001b[0m\n\u001b[0m\u001b[1;32m    759\u001b[0m                 \u001b[0mself\u001b[0m\u001b[0;34m.\u001b[0m\u001b[0m_iterating\u001b[0m \u001b[0;34m=\u001b[0m \u001b[0mTrue\u001b[0m\u001b[0;34m\u001b[0m\u001b[0m\n\u001b[1;32m    760\u001b[0m             \u001b[0;32melse\u001b[0m\u001b[0;34m:\u001b[0m\u001b[0;34m\u001b[0m\u001b[0m\n",
      "\u001b[0;32m/Users/sheena/anaconda/lib/python2.7/site-packages/sklearn/externals/joblib/parallel.pyc\u001b[0m in \u001b[0;36mdispatch_one_batch\u001b[0;34m(self, iterator)\u001b[0m\n\u001b[1;32m    606\u001b[0m                 \u001b[0;32mreturn\u001b[0m \u001b[0mFalse\u001b[0m\u001b[0;34m\u001b[0m\u001b[0m\n\u001b[1;32m    607\u001b[0m             \u001b[0;32melse\u001b[0m\u001b[0;34m:\u001b[0m\u001b[0;34m\u001b[0m\u001b[0m\n\u001b[0;32m--> 608\u001b[0;31m                 \u001b[0mself\u001b[0m\u001b[0;34m.\u001b[0m\u001b[0m_dispatch\u001b[0m\u001b[0;34m(\u001b[0m\u001b[0mtasks\u001b[0m\u001b[0;34m)\u001b[0m\u001b[0;34m\u001b[0m\u001b[0m\n\u001b[0m\u001b[1;32m    609\u001b[0m                 \u001b[0;32mreturn\u001b[0m \u001b[0mTrue\u001b[0m\u001b[0;34m\u001b[0m\u001b[0m\n\u001b[1;32m    610\u001b[0m \u001b[0;34m\u001b[0m\u001b[0m\n",
      "\u001b[0;32m/Users/sheena/anaconda/lib/python2.7/site-packages/sklearn/externals/joblib/parallel.pyc\u001b[0m in \u001b[0;36m_dispatch\u001b[0;34m(self, batch)\u001b[0m\n\u001b[1;32m    569\u001b[0m         \u001b[0mdispatch_timestamp\u001b[0m \u001b[0;34m=\u001b[0m \u001b[0mtime\u001b[0m\u001b[0;34m.\u001b[0m\u001b[0mtime\u001b[0m\u001b[0;34m(\u001b[0m\u001b[0;34m)\u001b[0m\u001b[0;34m\u001b[0m\u001b[0m\n\u001b[1;32m    570\u001b[0m         \u001b[0mcb\u001b[0m \u001b[0;34m=\u001b[0m \u001b[0mBatchCompletionCallBack\u001b[0m\u001b[0;34m(\u001b[0m\u001b[0mdispatch_timestamp\u001b[0m\u001b[0;34m,\u001b[0m \u001b[0mlen\u001b[0m\u001b[0;34m(\u001b[0m\u001b[0mbatch\u001b[0m\u001b[0;34m)\u001b[0m\u001b[0;34m,\u001b[0m \u001b[0mself\u001b[0m\u001b[0;34m)\u001b[0m\u001b[0;34m\u001b[0m\u001b[0m\n\u001b[0;32m--> 571\u001b[0;31m         \u001b[0mjob\u001b[0m \u001b[0;34m=\u001b[0m \u001b[0mself\u001b[0m\u001b[0;34m.\u001b[0m\u001b[0m_backend\u001b[0m\u001b[0;34m.\u001b[0m\u001b[0mapply_async\u001b[0m\u001b[0;34m(\u001b[0m\u001b[0mbatch\u001b[0m\u001b[0;34m,\u001b[0m \u001b[0mcallback\u001b[0m\u001b[0;34m=\u001b[0m\u001b[0mcb\u001b[0m\u001b[0;34m)\u001b[0m\u001b[0;34m\u001b[0m\u001b[0m\n\u001b[0m\u001b[1;32m    572\u001b[0m         \u001b[0mself\u001b[0m\u001b[0;34m.\u001b[0m\u001b[0m_jobs\u001b[0m\u001b[0;34m.\u001b[0m\u001b[0mappend\u001b[0m\u001b[0;34m(\u001b[0m\u001b[0mjob\u001b[0m\u001b[0;34m)\u001b[0m\u001b[0;34m\u001b[0m\u001b[0m\n\u001b[1;32m    573\u001b[0m \u001b[0;34m\u001b[0m\u001b[0m\n",
      "\u001b[0;32m/Users/sheena/anaconda/lib/python2.7/site-packages/sklearn/externals/joblib/_parallel_backends.pyc\u001b[0m in \u001b[0;36mapply_async\u001b[0;34m(self, func, callback)\u001b[0m\n\u001b[1;32m    107\u001b[0m     \u001b[0;32mdef\u001b[0m \u001b[0mapply_async\u001b[0m\u001b[0;34m(\u001b[0m\u001b[0mself\u001b[0m\u001b[0;34m,\u001b[0m \u001b[0mfunc\u001b[0m\u001b[0;34m,\u001b[0m \u001b[0mcallback\u001b[0m\u001b[0;34m=\u001b[0m\u001b[0mNone\u001b[0m\u001b[0;34m)\u001b[0m\u001b[0;34m:\u001b[0m\u001b[0;34m\u001b[0m\u001b[0m\n\u001b[1;32m    108\u001b[0m         \u001b[0;34m\"\"\"Schedule a func to be run\"\"\"\u001b[0m\u001b[0;34m\u001b[0m\u001b[0m\n\u001b[0;32m--> 109\u001b[0;31m         \u001b[0mresult\u001b[0m \u001b[0;34m=\u001b[0m \u001b[0mImmediateResult\u001b[0m\u001b[0;34m(\u001b[0m\u001b[0mfunc\u001b[0m\u001b[0;34m)\u001b[0m\u001b[0;34m\u001b[0m\u001b[0m\n\u001b[0m\u001b[1;32m    110\u001b[0m         \u001b[0;32mif\u001b[0m \u001b[0mcallback\u001b[0m\u001b[0;34m:\u001b[0m\u001b[0;34m\u001b[0m\u001b[0m\n\u001b[1;32m    111\u001b[0m             \u001b[0mcallback\u001b[0m\u001b[0;34m(\u001b[0m\u001b[0mresult\u001b[0m\u001b[0;34m)\u001b[0m\u001b[0;34m\u001b[0m\u001b[0m\n",
      "\u001b[0;32m/Users/sheena/anaconda/lib/python2.7/site-packages/sklearn/externals/joblib/_parallel_backends.pyc\u001b[0m in \u001b[0;36m__init__\u001b[0;34m(self, batch)\u001b[0m\n\u001b[1;32m    324\u001b[0m         \u001b[0;31m# Don't delay the application, to avoid keeping the input\u001b[0m\u001b[0;34m\u001b[0m\u001b[0;34m\u001b[0m\u001b[0m\n\u001b[1;32m    325\u001b[0m         \u001b[0;31m# arguments in memory\u001b[0m\u001b[0;34m\u001b[0m\u001b[0;34m\u001b[0m\u001b[0m\n\u001b[0;32m--> 326\u001b[0;31m         \u001b[0mself\u001b[0m\u001b[0;34m.\u001b[0m\u001b[0mresults\u001b[0m \u001b[0;34m=\u001b[0m \u001b[0mbatch\u001b[0m\u001b[0;34m(\u001b[0m\u001b[0;34m)\u001b[0m\u001b[0;34m\u001b[0m\u001b[0m\n\u001b[0m\u001b[1;32m    327\u001b[0m \u001b[0;34m\u001b[0m\u001b[0m\n\u001b[1;32m    328\u001b[0m     \u001b[0;32mdef\u001b[0m \u001b[0mget\u001b[0m\u001b[0;34m(\u001b[0m\u001b[0mself\u001b[0m\u001b[0;34m)\u001b[0m\u001b[0;34m:\u001b[0m\u001b[0;34m\u001b[0m\u001b[0m\n",
      "\u001b[0;32m/Users/sheena/anaconda/lib/python2.7/site-packages/sklearn/externals/joblib/parallel.pyc\u001b[0m in \u001b[0;36m__call__\u001b[0;34m(self)\u001b[0m\n\u001b[1;32m    129\u001b[0m \u001b[0;34m\u001b[0m\u001b[0m\n\u001b[1;32m    130\u001b[0m     \u001b[0;32mdef\u001b[0m \u001b[0m__call__\u001b[0m\u001b[0;34m(\u001b[0m\u001b[0mself\u001b[0m\u001b[0;34m)\u001b[0m\u001b[0;34m:\u001b[0m\u001b[0;34m\u001b[0m\u001b[0m\n\u001b[0;32m--> 131\u001b[0;31m         \u001b[0;32mreturn\u001b[0m \u001b[0;34m[\u001b[0m\u001b[0mfunc\u001b[0m\u001b[0;34m(\u001b[0m\u001b[0;34m*\u001b[0m\u001b[0margs\u001b[0m\u001b[0;34m,\u001b[0m \u001b[0;34m**\u001b[0m\u001b[0mkwargs\u001b[0m\u001b[0;34m)\u001b[0m \u001b[0;32mfor\u001b[0m \u001b[0mfunc\u001b[0m\u001b[0;34m,\u001b[0m \u001b[0margs\u001b[0m\u001b[0;34m,\u001b[0m \u001b[0mkwargs\u001b[0m \u001b[0;32min\u001b[0m \u001b[0mself\u001b[0m\u001b[0;34m.\u001b[0m\u001b[0mitems\u001b[0m\u001b[0;34m]\u001b[0m\u001b[0;34m\u001b[0m\u001b[0m\n\u001b[0m\u001b[1;32m    132\u001b[0m \u001b[0;34m\u001b[0m\u001b[0m\n\u001b[1;32m    133\u001b[0m     \u001b[0;32mdef\u001b[0m \u001b[0m__len__\u001b[0m\u001b[0;34m(\u001b[0m\u001b[0mself\u001b[0m\u001b[0;34m)\u001b[0m\u001b[0;34m:\u001b[0m\u001b[0;34m\u001b[0m\u001b[0m\n",
      "\u001b[0;32m/Users/sheena/anaconda/lib/python2.7/site-packages/sklearn/cross_validation.pyc\u001b[0m in \u001b[0;36m_fit_and_score\u001b[0;34m(estimator, X, y, scorer, train, test, verbose, parameters, fit_params, return_train_score, return_parameters, error_score)\u001b[0m\n\u001b[1;32m   1652\u001b[0m \u001b[0;34m\u001b[0m\u001b[0m\n\u001b[1;32m   1653\u001b[0m     \u001b[0;32mif\u001b[0m \u001b[0mparameters\u001b[0m \u001b[0;32mis\u001b[0m \u001b[0;32mnot\u001b[0m \u001b[0mNone\u001b[0m\u001b[0;34m:\u001b[0m\u001b[0;34m\u001b[0m\u001b[0m\n\u001b[0;32m-> 1654\u001b[0;31m         \u001b[0mestimator\u001b[0m\u001b[0;34m.\u001b[0m\u001b[0mset_params\u001b[0m\u001b[0;34m(\u001b[0m\u001b[0;34m**\u001b[0m\u001b[0mparameters\u001b[0m\u001b[0;34m)\u001b[0m\u001b[0;34m\u001b[0m\u001b[0m\n\u001b[0m\u001b[1;32m   1655\u001b[0m \u001b[0;34m\u001b[0m\u001b[0m\n\u001b[1;32m   1656\u001b[0m     \u001b[0mstart_time\u001b[0m \u001b[0;34m=\u001b[0m \u001b[0mtime\u001b[0m\u001b[0;34m.\u001b[0m\u001b[0mtime\u001b[0m\u001b[0;34m(\u001b[0m\u001b[0;34m)\u001b[0m\u001b[0;34m\u001b[0m\u001b[0m\n",
      "\u001b[0;32m/Users/sheena/anaconda/lib/python2.7/site-packages/sklearn/base.pyc\u001b[0m in \u001b[0;36mset_params\u001b[0;34m(self, **params)\u001b[0m\n\u001b[1;32m    289\u001b[0m                                      \u001b[0;34m'Check the list of available parameters '\u001b[0m\u001b[0;34m\u001b[0m\u001b[0m\n\u001b[1;32m    290\u001b[0m                                      \u001b[0;34m'with `estimator.get_params().keys()`.'\u001b[0m \u001b[0;34m%\u001b[0m\u001b[0;34m\u001b[0m\u001b[0m\n\u001b[0;32m--> 291\u001b[0;31m                                      (key, self.__class__.__name__))\n\u001b[0m\u001b[1;32m    292\u001b[0m                 \u001b[0msetattr\u001b[0m\u001b[0;34m(\u001b[0m\u001b[0mself\u001b[0m\u001b[0;34m,\u001b[0m \u001b[0mkey\u001b[0m\u001b[0;34m,\u001b[0m \u001b[0mvalue\u001b[0m\u001b[0;34m)\u001b[0m\u001b[0;34m\u001b[0m\u001b[0m\n\u001b[1;32m    293\u001b[0m         \u001b[0;32mreturn\u001b[0m \u001b[0mself\u001b[0m\u001b[0;34m\u001b[0m\u001b[0m\n",
      "\u001b[0;31mValueError\u001b[0m: Invalid parameter max_features for estimator RFECV. Check the list of available parameters with `estimator.get_params().keys()`."
     ]
    }
   ],
   "source": [
    "\n",
    "selector = RFECV(rf, step=1, cv=3, scoring=\"neg_mean_squared_error\")\n",
    "clf = grid_search.GridSearchCV(selector, PARAMETERS, scoring=SCORING, cv=3, verbose=True)\n",
    "clf.fit(X_train,y_train)\n",
    "print clf.best_estimator_.estimator_\n",
    "print clf.best_estimator_.ranking_\n",
    "print clf.best_estimator_.score(X, y)"
   ]
  },
  {
   "cell_type": "code",
   "execution_count": 385,
   "metadata": {
    "collapsed": false
   },
   "outputs": [
    {
     "name": "stdout",
     "output_type": "stream",
     "text": [
      "[-1.2760854288674588, -2.6211166887917376, -3.5067224611398053, -2.0084620637938522, -1.8661855621772183, -2.6844064153439144, -2.6966928160596892, -2.3574725406962558, -2.7239336731252863, -3.2102546132222827, -3.399790110360847, -1.1895292773498867, -3.8454722222222233, -2.5280806840671115, -2.7429256810897438, -2.9972069039351807, -2.1936853571428561, -1.9035561025716092, -2.468320152505449, -1.7132093617592552, -3.648209501674549, -3.3311189304218147, -1.543304172565241, -1.6768357547031165, -2.7122729138184565, -2.0782492729344928, -1.2681744037202385, -2.1922426251856826, -2.415625043547919, -2.5573447933638058, -1.7920453189300398, -1.9498405193021482, -1.9024702982709243, -2.9709475243904158, -2.9002140225842932, -2.1584193539997525, -1.889444871794872, -2.2290566922779482]\n"
     ]
    }
   ],
   "source": [
    "score_rf = []\n",
    "for i in long_states:\n",
    "    \n",
    "    scores_rf = cross_val_score(state_models_rf[i], state_features_rf[i], state_target_rf[i], cv=3, \n",
    "                             scoring='neg_mean_squared_error').mean()\n",
    "    score_rf.append(scores_rf)\n",
    "print score_rf"
   ]
  },
  {
   "cell_type": "code",
   "execution_count": 386,
   "metadata": {
    "collapsed": false
   },
   "outputs": [
    {
     "name": "stdout",
     "output_type": "stream",
     "text": [
      "38\n"
     ]
    }
   ],
   "source": [
    "print len(score_rf)"
   ]
  },
  {
   "cell_type": "code",
   "execution_count": 394,
   "metadata": {
    "collapsed": false
   },
   "outputs": [
    {
     "name": "stdout",
     "output_type": "stream",
     "text": [
      "[0.38685086669421653, 1.0281517513190304, 0.77388656011169876, 1.399945379719574, 0.461317062653957, 1.145506535947713, 1.578948063789855, 0.96106401915312412, 0.59078145285049988, 1.2130555813269892, 0.98921183121170764, 1.224383573388202, 0.5487406976744188, 0.7666172135499103, 0.31773958333333324, 0.23447745794631983, 0.24066887755102115, 0.37313533235013063, 0.35329523809523794, 0.43201921777137964, 1.3686990915304731, 1.3699813606819589, 1.3601882203076043, 0.71209176793981555, 0.95940278674776869, 0.75968839991614268, 0.22640497554287792, 0.59856333814152851, 1.0695084269121593, 0.51498086548878907, 0.23416353202160384, 0.38692964044842926, 1.174644558070735, 0.67687478298611159, 0.89616252022456844, 0.54470565609369992, 0.47226875000000113, 0.87452716793409546]\n"
     ]
    }
   ],
   "source": [
    "score_rf_training = [] \n",
    "for i in long_states:\n",
    "    X_train, X_test, y_train, y_test = train_test_split(state_features_rf[i], state_target_rf[i], \n",
    "                                                        test_size=.2, random_state=1)\n",
    "    scores_rf_training = mean_squared_error(y_train,(state_models_rf[i].predict(X_train)))\n",
    "    score_rf_training.append(scores_rf_training)\n",
    "print score_rf_training"
   ]
  },
  {
   "cell_type": "markdown",
   "metadata": {},
   "source": [
    "### Recursive Feature Selection for each state"
   ]
  },
  {
   "cell_type": "code",
   "execution_count": 334,
   "metadata": {
    "collapsed": true
   },
   "outputs": [],
   "source": [
    " X_train, X_test, y_train, y_test = train_test_split(trial_state_features_rf['CA'], trial_state_target_rf['CA'], \n",
    "                                                        test_size=.2, random_state=1)"
   ]
  },
  {
   "cell_type": "code",
   "execution_count": 338,
   "metadata": {
    "collapsed": false
   },
   "outputs": [
    {
     "data": {
      "text/plain": [
       "RandomForestRegressor(bootstrap=True, criterion='mse', max_depth=None,\n",
       "           max_features='sqrt', max_leaf_nodes=None,\n",
       "           min_impurity_split=1e-07, min_samples_leaf=1,\n",
       "           min_samples_split=2, min_weight_fraction_leaf=0.0,\n",
       "           n_estimators=10, n_jobs=1, oob_score=False, random_state=None,\n",
       "           verbose=0, warm_start=False)"
      ]
     },
     "execution_count": 338,
     "metadata": {},
     "output_type": "execute_result"
    }
   ],
   "source": [
    "test['CA']"
   ]
  },
  {
   "cell_type": "code",
   "execution_count": 342,
   "metadata": {
    "collapsed": false
   },
   "outputs": [
    {
     "data": {
      "text/plain": [
       "48"
      ]
     },
     "execution_count": 342,
     "metadata": {},
     "output_type": "execute_result"
    }
   ],
   "source": [
    "(len(state_features_rf['CA'])/5)"
   ]
  },
  {
   "cell_type": "code",
   "execution_count": 345,
   "metadata": {
    "collapsed": false
   },
   "outputs": [
    {
     "name": "stdout",
     "output_type": "stream",
     "text": [
      "[0, 1, 2, 3, 4, 5, 6, 7, 9, 10, 11, 12, 13, 14, 15, 16, 17, 18, 20, 21, 22, 23, 24, 25, 26, 27, 28, 29, 30, 31, 32, 33, 34, 35, 36, 37, 38, 39, 41, 42, 43]\n",
      "[0, 1, 2, 3, 4, 5, 6, 7, 9, 10, 11, 12, 13, 14, 15, 16, 17, 18, 19, 20, 21, 22, 23, 24, 25, 26, 27, 28, 29, 30, 31, 32, 33, 34, 35, 36, 37, 38, 39, 40, 41, 42, 43, 44, 45]\n"
     ]
    }
   ],
   "source": [
    "for i in ['CA','TX']:\n",
    "    rfecv = RFECV(estimator=rf, step=1, cv=StratifiedKFold(5), \n",
    "                  scoring='neg_mean_squared_error')\n",
    "    z = rfecv.fit(state_features_rf[i], state_target_rf[i])\n",
    "    q = z.ranking_\n",
    "    q_list = list(q)\n",
    "    indices = [i for i, x in enumerate(q_list) if x == 1]\n",
    "    print indices"
   ]
  },
  {
   "cell_type": "code",
   "execution_count": 337,
   "metadata": {
    "collapsed": false
   },
   "outputs": [
    {
     "name": "stdout",
     "output_type": "stream",
     "text": [
      "Optimal number of features : 10\n",
      "[1 1 1 1 1 1 1 1 2 1 3 1]\n",
      "[0, 1, 2, 3, 4, 5, 6, 7, 9, 11]\n"
     ]
    },
    {
     "data": {
      "image/png": "[encoded data removed]",
      "text/plain": [
       "<matplotlib.figure.Figure at 0x1212c9fd0>"
      ]
     },
     "metadata": {},
     "output_type": "display_data"
    }
   ],
   "source": [
    "from sklearn.model_selection import StratifiedKFold\n",
    "from sklearn.feature_selection import RFECV\n",
    "from sklearn.datasets import make_classification\n",
    "\n",
    "# Create the RFE object and compute a cross-validated score.\n",
    "rf = RandomForestRegressor()\n",
    "# The \"accuracy\" scoring is proportional to the number of correct\n",
    "# classifications\n",
    "rfecv = RFECV(estimator=rf, step=1, cv=StratifiedKFold(2),\n",
    "              scoring='neg_mean_squared_error')\n",
    "z = rfecv.fit(X_train, y_train)\n",
    "\n",
    "print(\"Optimal number of features : %d\" % rfecv.n_features_)\n",
    "q = z.ranking_\n",
    "print q\n",
    "q_list = list(q)\n",
    "indices = [i for i, x in enumerate(q_list) if x == 1]\n",
    "print indices\n",
    "# Plot number of features VS. cross-validation scores\n",
    "plt.figure()\n",
    "plt.xlabel(\"Number of features selected\")\n",
    "plt.ylabel(\"Cross validation score (nb of correct classifications)\")\n",
    "plt.plot(range(1, len(rfecv.grid_scores_) + 1), rfecv.grid_scores_)\n",
    "plt.show()"
   ]
  },
  {
   "cell_type": "code",
   "execution_count": null,
   "metadata": {
    "collapsed": true
   },
   "outputs": [],
   "source": []
  }
 ],
 "metadata": {
  "kernelspec": {
   "display_name": "Python 2",
   "language": "python",
   "name": "python2"
  },
  "language_info": {
   "codemirror_mode": {
    "name": "ipython",
    "version": 2
   },
   "file_extension": ".py",
   "mimetype": "text/x-python",
   "name": "python",
   "nbconvert_exporter": "python",
   "pygments_lexer": "ipython2",
   "version": "2.7.12"
  }
 },
 "nbformat": 4,
 "nbformat_minor": 0
}
