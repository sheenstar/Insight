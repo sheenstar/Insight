{
 "cells": [
  {
   "cell_type": "markdown",
   "metadata": {},
   "source": [
    "## The goal of this project is to use two sql tables that were provided to answer the following questions:\n",
    "##### 1. What is the fraction of all samples flagged for poor quality?  Plot the distribution of fraction of flagged samples per batch.\n",
    "##### 2. Metric2 is a measure of difference between all samples in a batch and a reference sample.  The absolute value of this metric is a useful measure of quality.  Plot the distribution of the absolute value of Metric2 for flagged and unflagged samples.  Include this derived metric in your answers for subsequent questions.\n",
    "##### 3. Reagent performance is usually evaluated by aggregating metrics for samples within each batch and investigating the differences between batch aggregated measures across lots of reagent.  For example, to get the batch aggregate average of Metric1, you would group well data by batch and take the average of Metric1, then you would use this data for analysis of reagent performance.  Provide a table with a row for each lot (from the “reagent” column in the “batch” table”) and columns that indicate the average and standard error of the mean (SEM) for within batch sample flag rate and the batch aggregated mean of each metric.   Are there lots that perform differently?  Justify your answer with a statistical test.\n",
    "##### 4. A modification was made to the assay and is indicated in the “batch_data” table under the “protocol” field as “protocol_1” and “protocol_2”.  What is the flagged sample rate for each protocol?  Are there differences in batch aggregate metrics (as computed in question 3) between the two protocols?  Support your answer with plots and/or statistical tests.\n",
    "\n",
    "###### ** Note that NTC samples should be excluded from all analysis.\n",
    "\n",
    "\n"
   ]
  },
  {
   "cell_type": "markdown",
   "metadata": {},
   "source": [
    "## Table of Contents:\n",
    "* [Load data](#first-bullet)\n",
    "* [Explore data](#second-bullet)\n",
    "* [Dealing with missing values](#third-bullet)\n",
    "* [Question 1](#fourth-bullet)\n",
    "* [Question 2](#fifth-bullet)\n",
    "* [Question 3](#sixth-bullet)\n",
    "* [Question 4](#seventh-bullet)"
   ]
  },
  {
   "cell_type": "markdown",
   "metadata": {},
   "source": [
    "## Load data <a class=\"anchor\" id=\"first-bullet\"></a>"
   ]
  },
  {
   "cell_type": "code",
   "execution_count": 1,
   "metadata": {
    "collapsed": false
   },
   "outputs": [
    {
     "name": "stderr",
     "output_type": "stream",
     "text": [
      "/Users/sheena/anaconda/lib/python2.7/site-packages/matplotlib/__init__.py:872: UserWarning: axes.color_cycle is deprecated and replaced with axes.prop_cycle; please use the latter.\n",
      "  warnings.warn(self.msg_depr % (key, alt_key))\n"
     ]
    }
   ],
   "source": [
    "import sqlite3 #Importing sqplite3 to be able to query the databases\n",
    "import pandas as pd #Importing pandas as I will manipulate the data through pandas dataframes\n",
    "import matplotlib #importing plotting tools\n",
    "import matplotlib.pyplot as plt\n",
    "import seaborn as sns\n",
    "%matplotlib inline"
   ]
  },
  {
   "cell_type": "code",
   "execution_count": 2,
   "metadata": {
    "collapsed": true
   },
   "outputs": [],
   "source": [
    "sqlite_file = '/Users/sheena/Desktop/analyst_screen/data.sqlite'\n",
    "conn = sqlite3.connect(sqlite_file)\n",
    "c = conn.cursor() #connecting to database"
   ]
  },
  {
   "cell_type": "code",
   "execution_count": 3,
   "metadata": {
    "collapsed": false
   },
   "outputs": [
    {
     "name": "stdout",
     "output_type": "stream",
     "text": [
      "[(u'table', u'well_data', u'well_data', 4, u'CREATE TABLE \"well_data\" (\\n\"id\" INTEGER,\\n  \"batch\" TEXT,\\n  \"flagged\" INTEGER,\\n  \"sample_type\" TEXT,\\n  \"Metric3\" REAL,\\n  \"Metric2\" REAL,\\n  \"Metric4\" REAL,\\n  \"Metric1\" REAL\\n)'), (u'index', u'ix_well_data_id', u'well_data', 5, u'CREATE INDEX \"ix_well_data_id\"ON \"well_data\" (\"id\")'), (u'table', u'batch_data', u'batch_data', 2, u'CREATE TABLE \"batch_data\" (\\r\\n  \"id\" integer,\\r\\n  \"batch\" text,\\r\\n  \"day\" text,\\r\\n  \"Reagent1\" text,\\r\\n  \"Protocol\" text,\\r\\n  PRIMARY KEY(\"batch\", \"day\", \"Reagent1\", \"Protocol\")\\r\\n)'), (u'index', u'sqlite_autoindex_batch_data_1', u'batch_data', 3, None), (u'index', u'ix_batch_data_id', u'batch_data', 119, u'CREATE INDEX ix_batch_data_id ON \"batch_data\" (\"id\")')]\n"
     ]
    }
   ],
   "source": [
    "c.execute(\"SELECT * FROM sqlite_master;\")\n",
    "print(c.fetchall()) #Checking what is in the database"
   ]
  },
  {
   "cell_type": "code",
   "execution_count": 4,
   "metadata": {
    "collapsed": false
   },
   "outputs": [
    {
     "data": {
      "text/html": [
       "<div>\n",
       "<table border=\"1\" class=\"dataframe\">\n",
       "  <thead>\n",
       "    <tr style=\"text-align: right;\">\n",
       "      <th></th>\n",
       "      <th>id</th>\n",
       "      <th>batch</th>\n",
       "      <th>day</th>\n",
       "      <th>Reagent1</th>\n",
       "      <th>Protocol</th>\n",
       "    </tr>\n",
       "  </thead>\n",
       "  <tbody>\n",
       "    <tr>\n",
       "      <th>0</th>\n",
       "      <td>0</td>\n",
       "      <td>batch01</td>\n",
       "      <td>day01</td>\n",
       "      <td>Reagent1_lot04</td>\n",
       "      <td>protocol_01</td>\n",
       "    </tr>\n",
       "    <tr>\n",
       "      <th>1</th>\n",
       "      <td>1</td>\n",
       "      <td>batch02</td>\n",
       "      <td>day02</td>\n",
       "      <td>Reagent1_lot02</td>\n",
       "      <td>protocol_01</td>\n",
       "    </tr>\n",
       "    <tr>\n",
       "      <th>2</th>\n",
       "      <td>2</td>\n",
       "      <td>batch03</td>\n",
       "      <td>day02</td>\n",
       "      <td>Reagent1_lot02</td>\n",
       "      <td>protocol_01</td>\n",
       "    </tr>\n",
       "    <tr>\n",
       "      <th>3</th>\n",
       "      <td>3</td>\n",
       "      <td>batch06</td>\n",
       "      <td>day03</td>\n",
       "      <td>Reagent1_lot02</td>\n",
       "      <td>protocol_01</td>\n",
       "    </tr>\n",
       "    <tr>\n",
       "      <th>4</th>\n",
       "      <td>4</td>\n",
       "      <td>batch07</td>\n",
       "      <td>day03</td>\n",
       "      <td>Reagent1_lot02</td>\n",
       "      <td>protocol_01</td>\n",
       "    </tr>\n",
       "  </tbody>\n",
       "</table>\n",
       "</div>"
      ],
      "text/plain": [
       "   id    batch    day        Reagent1     Protocol\n",
       "0   0  batch01  day01  Reagent1_lot04  protocol_01\n",
       "1   1  batch02  day02  Reagent1_lot02  protocol_01\n",
       "2   2  batch03  day02  Reagent1_lot02  protocol_01\n",
       "3   3  batch06  day03  Reagent1_lot02  protocol_01\n",
       "4   4  batch07  day03  Reagent1_lot02  protocol_01"
      ]
     },
     "execution_count": 4,
     "metadata": {},
     "output_type": "execute_result"
    }
   ],
   "source": [
    "query =  \"\"\"\n",
    "            \n",
    "        SELECT * from batch_data;\n",
    "        \n",
    "        \"\"\"\n",
    "batch = pd.read_sql(query, conn)\n",
    "batch.head()"
   ]
  },
  {
   "cell_type": "code",
   "execution_count": 5,
   "metadata": {
    "collapsed": false
   },
   "outputs": [
    {
     "data": {
      "text/html": [
       "<div>\n",
       "<table border=\"1\" class=\"dataframe\">\n",
       "  <thead>\n",
       "    <tr style=\"text-align: right;\">\n",
       "      <th></th>\n",
       "      <th>id</th>\n",
       "      <th>batch</th>\n",
       "      <th>flagged</th>\n",
       "      <th>sample_type</th>\n",
       "      <th>Metric3</th>\n",
       "      <th>Metric2</th>\n",
       "      <th>Metric4</th>\n",
       "      <th>Metric1</th>\n",
       "    </tr>\n",
       "  </thead>\n",
       "  <tbody>\n",
       "    <tr>\n",
       "      <th>0</th>\n",
       "      <td>0</td>\n",
       "      <td>batch01</td>\n",
       "      <td>0.0</td>\n",
       "      <td>blood</td>\n",
       "      <td>0.431558</td>\n",
       "      <td>0.861893</td>\n",
       "      <td>-0.193786</td>\n",
       "      <td>0.294783</td>\n",
       "    </tr>\n",
       "    <tr>\n",
       "      <th>1</th>\n",
       "      <td>1</td>\n",
       "      <td>batch01</td>\n",
       "      <td>0.0</td>\n",
       "      <td>saliva</td>\n",
       "      <td>1.330214</td>\n",
       "      <td>0.011943</td>\n",
       "      <td>-0.755635</td>\n",
       "      <td>-0.590977</td>\n",
       "    </tr>\n",
       "    <tr>\n",
       "      <th>2</th>\n",
       "      <td>2</td>\n",
       "      <td>batch01</td>\n",
       "      <td>0.0</td>\n",
       "      <td>saliva</td>\n",
       "      <td>0.519384</td>\n",
       "      <td>0.872310</td>\n",
       "      <td>-0.342511</td>\n",
       "      <td>-0.968805</td>\n",
       "    </tr>\n",
       "    <tr>\n",
       "      <th>3</th>\n",
       "      <td>3</td>\n",
       "      <td>batch01</td>\n",
       "      <td>0.0</td>\n",
       "      <td>saliva</td>\n",
       "      <td>-0.229138</td>\n",
       "      <td>-0.713640</td>\n",
       "      <td>-1.053085</td>\n",
       "      <td>0.042864</td>\n",
       "    </tr>\n",
       "    <tr>\n",
       "      <th>4</th>\n",
       "      <td>4</td>\n",
       "      <td>batch01</td>\n",
       "      <td>0.0</td>\n",
       "      <td>saliva</td>\n",
       "      <td>0.834333</td>\n",
       "      <td>0.077469</td>\n",
       "      <td>0.054088</td>\n",
       "      <td>-0.109026</td>\n",
       "    </tr>\n",
       "  </tbody>\n",
       "</table>\n",
       "</div>"
      ],
      "text/plain": [
       "   id    batch  flagged sample_type   Metric3   Metric2   Metric4   Metric1\n",
       "0   0  batch01      0.0       blood  0.431558  0.861893 -0.193786  0.294783\n",
       "1   1  batch01      0.0      saliva  1.330214  0.011943 -0.755635 -0.590977\n",
       "2   2  batch01      0.0      saliva  0.519384  0.872310 -0.342511 -0.968805\n",
       "3   3  batch01      0.0      saliva -0.229138 -0.713640 -1.053085  0.042864\n",
       "4   4  batch01      0.0      saliva  0.834333  0.077469  0.054088 -0.109026"
      ]
     },
     "execution_count": 5,
     "metadata": {},
     "output_type": "execute_result"
    }
   ],
   "source": [
    "query =  \"\"\"\n",
    "            \n",
    "        SELECT * from well_data;\n",
    "        \n",
    "        \"\"\"\n",
    "well = pd.read_sql(query, conn)\n",
    "well.head()"
   ]
  },
  {
   "cell_type": "code",
   "execution_count": 6,
   "metadata": {
    "collapsed": false
   },
   "outputs": [
    {
     "data": {
      "text/plain": [
       "67"
      ]
     },
     "execution_count": 6,
     "metadata": {},
     "output_type": "execute_result"
    }
   ],
   "source": [
    "len(batch) #the length of the batch df"
   ]
  },
  {
   "cell_type": "code",
   "execution_count": 7,
   "metadata": {
    "collapsed": false
   },
   "outputs": [
    {
     "data": {
      "text/plain": [
       "6432"
      ]
     },
     "execution_count": 7,
     "metadata": {},
     "output_type": "execute_result"
    }
   ],
   "source": [
    "len(well)"
   ]
  },
  {
   "cell_type": "markdown",
   "metadata": {},
   "source": [
    "## Explore data <a class=\"anchor\" id=\"second-bullet\"></a>"
   ]
  },
  {
   "cell_type": "code",
   "execution_count": 8,
   "metadata": {
    "collapsed": false
   },
   "outputs": [
    {
     "data": {
      "text/plain": [
       "blood      4991\n",
       "saliva      783\n",
       "control     270\n",
       "NTC         209\n",
       "Name: sample_type, dtype: int64"
      ]
     },
     "execution_count": 8,
     "metadata": {},
     "output_type": "execute_result"
    }
   ],
   "source": [
    "#The NTC samples should be excluded from analysis so I'm just checking how many there are\n",
    "well.sample_type.value_counts()"
   ]
  },
  {
   "cell_type": "code",
   "execution_count": 9,
   "metadata": {
    "collapsed": false
   },
   "outputs": [
    {
     "data": {
      "text/plain": [
       "blood      4991\n",
       "saliva      783\n",
       "control     270\n",
       "Name: sample_type, dtype: int64"
      ]
     },
     "execution_count": 9,
     "metadata": {},
     "output_type": "execute_result"
    }
   ],
   "source": [
    "well_clean = well[well['sample_type'] != 'NTC']\n",
    "#Filtered out the NTC data and just checking to see if it was successful \n",
    "well_clean.sample_type.value_counts()"
   ]
  },
  {
   "cell_type": "code",
   "execution_count": 10,
   "metadata": {
    "collapsed": false
   },
   "outputs": [
    {
     "data": {
      "text/html": [
       "<div>\n",
       "<table border=\"1\" class=\"dataframe\">\n",
       "  <thead>\n",
       "    <tr style=\"text-align: right;\">\n",
       "      <th></th>\n",
       "      <th>id</th>\n",
       "      <th>batch</th>\n",
       "      <th>flagged</th>\n",
       "      <th>sample_type</th>\n",
       "      <th>Metric3</th>\n",
       "      <th>Metric2</th>\n",
       "      <th>Metric4</th>\n",
       "      <th>Metric1</th>\n",
       "    </tr>\n",
       "  </thead>\n",
       "  <tbody>\n",
       "    <tr>\n",
       "      <th>0</th>\n",
       "      <td>0</td>\n",
       "      <td>batch01</td>\n",
       "      <td>0.0</td>\n",
       "      <td>blood</td>\n",
       "      <td>0.431558</td>\n",
       "      <td>0.861893</td>\n",
       "      <td>-0.193786</td>\n",
       "      <td>0.294783</td>\n",
       "    </tr>\n",
       "    <tr>\n",
       "      <th>1</th>\n",
       "      <td>1</td>\n",
       "      <td>batch01</td>\n",
       "      <td>0.0</td>\n",
       "      <td>saliva</td>\n",
       "      <td>1.330214</td>\n",
       "      <td>0.011943</td>\n",
       "      <td>-0.755635</td>\n",
       "      <td>-0.590977</td>\n",
       "    </tr>\n",
       "    <tr>\n",
       "      <th>2</th>\n",
       "      <td>2</td>\n",
       "      <td>batch01</td>\n",
       "      <td>0.0</td>\n",
       "      <td>saliva</td>\n",
       "      <td>0.519384</td>\n",
       "      <td>0.872310</td>\n",
       "      <td>-0.342511</td>\n",
       "      <td>-0.968805</td>\n",
       "    </tr>\n",
       "    <tr>\n",
       "      <th>3</th>\n",
       "      <td>3</td>\n",
       "      <td>batch01</td>\n",
       "      <td>0.0</td>\n",
       "      <td>saliva</td>\n",
       "      <td>-0.229138</td>\n",
       "      <td>-0.713640</td>\n",
       "      <td>-1.053085</td>\n",
       "      <td>0.042864</td>\n",
       "    </tr>\n",
       "    <tr>\n",
       "      <th>4</th>\n",
       "      <td>4</td>\n",
       "      <td>batch01</td>\n",
       "      <td>0.0</td>\n",
       "      <td>saliva</td>\n",
       "      <td>0.834333</td>\n",
       "      <td>0.077469</td>\n",
       "      <td>0.054088</td>\n",
       "      <td>-0.109026</td>\n",
       "    </tr>\n",
       "  </tbody>\n",
       "</table>\n",
       "</div>"
      ],
      "text/plain": [
       "   id    batch  flagged sample_type   Metric3   Metric2   Metric4   Metric1\n",
       "0   0  batch01      0.0       blood  0.431558  0.861893 -0.193786  0.294783\n",
       "1   1  batch01      0.0      saliva  1.330214  0.011943 -0.755635 -0.590977\n",
       "2   2  batch01      0.0      saliva  0.519384  0.872310 -0.342511 -0.968805\n",
       "3   3  batch01      0.0      saliva -0.229138 -0.713640 -1.053085  0.042864\n",
       "4   4  batch01      0.0      saliva  0.834333  0.077469  0.054088 -0.109026"
      ]
     },
     "execution_count": 10,
     "metadata": {},
     "output_type": "execute_result"
    }
   ],
   "source": [
    "well_clean.head()"
   ]
  },
  {
   "cell_type": "code",
   "execution_count": 11,
   "metadata": {
    "collapsed": false
   },
   "outputs": [
    {
     "data": {
      "text/plain": [
       "id          0\n",
       "batch       0\n",
       "day         0\n",
       "Reagent1    0\n",
       "Protocol    0\n",
       "dtype: int64"
      ]
     },
     "execution_count": 11,
     "metadata": {},
     "output_type": "execute_result"
    }
   ],
   "source": [
    "#Looking for missing values\n",
    "batch.isnull().sum()"
   ]
  },
  {
   "cell_type": "code",
   "execution_count": 12,
   "metadata": {
    "collapsed": false
   },
   "outputs": [
    {
     "data": {
      "text/plain": [
       "id               0\n",
       "batch            0\n",
       "flagged         25\n",
       "sample_type    179\n",
       "Metric3          0\n",
       "Metric2          1\n",
       "Metric4        465\n",
       "Metric1        270\n",
       "dtype: int64"
      ]
     },
     "execution_count": 12,
     "metadata": {},
     "output_type": "execute_result"
    }
   ],
   "source": [
    "#Looking for missing values\n",
    "well_clean.isnull().sum()"
   ]
  },
  {
   "cell_type": "code",
   "execution_count": 13,
   "metadata": {
    "collapsed": false
   },
   "outputs": [
    {
     "data": {
      "image/png": "[encoded data removed]",
      "text/plain": [
       "<matplotlib.figure.Figure at 0x11743d290>"
      ]
     },
     "metadata": {},
     "output_type": "display_data"
    }
   ],
   "source": [
    "#Exploring data - data is not normally distributed. This informs some of the stats and metrics used in this project.\n",
    "fig = plt.figure(figsize=(12,8))\n",
    "\n",
    "ax1 = fig.add_subplot(221)\n",
    "plt.hist((abs(well_clean.Metric1)).dropna()) # Need to find and drop these 0s \n",
    "plt.title('Metric1 - frequency distribution')\n",
    "\n",
    "ax1 = fig.add_subplot(222)\n",
    "plt.hist((abs(well_clean.Metric2)).dropna()) # Need to find and drop these 0s \n",
    "plt.title('Metric2 - frequency distribution')\n",
    "\n",
    "ax1 = fig.add_subplot(223)\n",
    "plt.hist((abs(well_clean.Metric2)).dropna()) # Need to find and drop these 0s \n",
    "plt.title('Metric3  - frequency distribution')\n",
    "\n",
    "ax1 = fig.add_subplot(224)\n",
    "plt.hist((abs(well_clean.Metric4)).dropna()) # Need to find and drop these 0s \n",
    "plt.title('Metric4  - frequency distribution')\n",
    "\n",
    "fig.tight_layout()\n"
   ]
  },
  {
   "cell_type": "markdown",
   "metadata": {},
   "source": [
    "## Dealing with missing values <a class=\"anchor\" id=\"third-bullet\"></a>\n"
   ]
  },
  {
   "cell_type": "markdown",
   "metadata": {},
   "source": [
    "##### I'm checking to see if there are any relationships between any features that would allow me to predict the missing values. For instance - if flagged data is related to sample type,  then perhaps I could impute the missing flagged data from my knowledge of sample type."
   ]
  },
  {
   "cell_type": "markdown",
   "metadata": {},
   "source": [
    "###### a) flagged data"
   ]
  },
  {
   "cell_type": "code",
   "execution_count": 14,
   "metadata": {
    "collapsed": false
   },
   "outputs": [
    {
     "data": {
      "text/plain": [
       "0.0    5667\n",
       "1.0     531\n",
       "Name: flagged, dtype: int64"
      ]
     },
     "execution_count": 14,
     "metadata": {},
     "output_type": "execute_result"
    }
   ],
   "source": [
    "well_clean.flagged.value_counts() "
   ]
  },
  {
   "cell_type": "code",
   "execution_count": 15,
   "metadata": {
    "collapsed": true
   },
   "outputs": [],
   "source": [
    "import numpy as np"
   ]
  },
  {
   "cell_type": "code",
   "execution_count": 16,
   "metadata": {
    "collapsed": true
   },
   "outputs": [],
   "source": [
    "well_clean_copy = well_clean.copy()"
   ]
  },
  {
   "cell_type": "code",
   "execution_count": 17,
   "metadata": {
    "collapsed": false
   },
   "outputs": [],
   "source": [
    "well_clean_copy['flagged'] = well_clean_copy['flagged'].fillna(0.5)\n",
    "# Replacing the NaNs with a numerical value so that I can plot the flagged data vs sample_type to look for trends\n",
    "# For example - are the missing values always blood samples? "
   ]
  },
  {
   "cell_type": "code",
   "execution_count": 18,
   "metadata": {
    "collapsed": false
   },
   "outputs": [
    {
     "name": "stderr",
     "output_type": "stream",
     "text": [
      "/Users/sheena/anaconda/lib/python2.7/site-packages/matplotlib/__init__.py:892: UserWarning: axes.color_cycle is deprecated and replaced with axes.prop_cycle; please use the latter.\n",
      "  warnings.warn(self.msg_depr % (key, alt_key))\n"
     ]
    },
    {
     "data": {
      "image/png": "[encoded data removed]",
      "text/plain": [
       "<matplotlib.figure.Figure at 0x117434690>"
      ]
     },
     "metadata": {},
     "output_type": "display_data"
    }
   ],
   "source": [
    "sns.stripplot(x=\"sample_type\", y=\"flagged\", data=well_clean_copy, jitter=True)\n",
    "plt.title('Is missing flagged data related to sample type')\n",
    "plt.ylim(-.1,1.1,.5)\n",
    "plt.show()"
   ]
  },
  {
   "cell_type": "markdown",
   "metadata": {},
   "source": [
    "###### b) sample type data"
   ]
  },
  {
   "cell_type": "code",
   "execution_count": 19,
   "metadata": {
    "collapsed": true
   },
   "outputs": [],
   "source": [
    "cols = ['Metric1','Metric2','Metric3','Metric4']"
   ]
  },
  {
   "cell_type": "code",
   "execution_count": 20,
   "metadata": {
    "collapsed": false
   },
   "outputs": [],
   "source": [
    "#There is no obvious relationship between sample type and flagged data, but I will look to see if relates to other metrics\n",
    "def plot_features(title):\n",
    "    plt.figure(figsize=(8,6));\n",
    "    i = 0\n",
    "    for col in cols:\n",
    "        i += 1\n",
    "        plt.subplot(2,2,i)\n",
    "        sns.stripplot(x=\"sample_type\", y=col, data=well_clean_copy, jitter=True)\n",
    "        plt.title(title % (col))\n",
    "        plt.tight_layout()"
   ]
  },
  {
   "cell_type": "code",
   "execution_count": 21,
   "metadata": {
    "collapsed": false
   },
   "outputs": [
    {
     "data": {
      "image/png": "[encoded data removed]",
      "text/plain": [
       "<matplotlib.figure.Figure at 0x11af483d0>"
      ]
     },
     "metadata": {},
     "output_type": "display_data"
    }
   ],
   "source": [
    "plot_features('Relationship of sample type and %s') \n",
    "#There is no apparent relationship between metric type and sample type. I will assume that the missing values in the \n",
    "#sample_type category are missing at random "
   ]
  },
  {
   "cell_type": "code",
   "execution_count": 22,
   "metadata": {
    "collapsed": false
   },
   "outputs": [
    {
     "data": {
      "image/png": "[encoded data removed]",
      "text/plain": [
       "<matplotlib.figure.Figure at 0x11b9ca210>"
      ]
     },
     "metadata": {},
     "output_type": "display_data"
    }
   ],
   "source": [
    "#There were also missing values in the Metric columns, plotting Metric 1 and 3 to look for any relationships\n",
    "plt.scatter(abs(well_clean_copy.Metric1), abs(well_clean_copy.Metric3))\n",
    "plt.title('Metric1 vs Metric3 - absolute values', size=16)\n",
    "plt.show()"
   ]
  },
  {
   "cell_type": "markdown",
   "metadata": {},
   "source": [
    "###### missing data by batch"
   ]
  },
  {
   "cell_type": "code",
   "execution_count": 23,
   "metadata": {
    "collapsed": true
   },
   "outputs": [],
   "source": [
    "well_clean_final = well_clean.copy()"
   ]
  },
  {
   "cell_type": "code",
   "execution_count": 24,
   "metadata": {
    "collapsed": false
   },
   "outputs": [
    {
     "data": {
      "text/plain": [
       "67"
      ]
     },
     "execution_count": 24,
     "metadata": {},
     "output_type": "execute_result"
    }
   ],
   "source": [
    "len(well_clean_final.groupby('batch').sum())"
   ]
  },
  {
   "cell_type": "code",
   "execution_count": 25,
   "metadata": {
    "collapsed": true
   },
   "outputs": [],
   "source": [
    "#Looking to see if any features are correlated. The data is not normal, but this does not violate the assumptions \n",
    "# of correlation analysis \n",
    "def correlation_matrix(df):\n",
    "    from matplotlib import pyplot as plt\n",
    "    from matplotlib import cm as cm\n",
    "\n",
    "    fig = plt.figure(figsize=(10,6))\n",
    "    ax1 = fig.add_subplot(111)\n",
    "    cmap = cm.get_cmap('jet', 30)\n",
    "    cax = ax1.imshow(df.corr(), interpolation=\"nearest\", cmap=cmap)\n",
    "    ax1.grid(True)\n",
    "    # Add colorbar, make sure to specify tick locations to match desired ticklabels\n",
    "    fig.colorbar(cax, ticks=[-1,-.7,-.5,-.25,0,.25,.5,.7,.8,.90,1])\n",
    "    plt.ylim()\n",
    "    plt.show()"
   ]
  },
  {
   "cell_type": "code",
   "execution_count": 26,
   "metadata": {
    "collapsed": true
   },
   "outputs": [],
   "source": [
    "well_clean_final.sample_type = well_clean_final.sample_type.map({'blood':1, 'saliva':2, 'control':3})"
   ]
  },
  {
   "cell_type": "code",
   "execution_count": 27,
   "metadata": {
    "collapsed": false
   },
   "outputs": [
    {
     "data": {
      "text/html": [
       "<div>\n",
       "<table border=\"1\" class=\"dataframe\">\n",
       "  <thead>\n",
       "    <tr style=\"text-align: right;\">\n",
       "      <th></th>\n",
       "      <th>flagged</th>\n",
       "      <th>sample_type</th>\n",
       "      <th>Metric3</th>\n",
       "      <th>Metric2</th>\n",
       "      <th>Metric4</th>\n",
       "      <th>Metric1</th>\n",
       "    </tr>\n",
       "  </thead>\n",
       "  <tbody>\n",
       "    <tr>\n",
       "      <th>0</th>\n",
       "      <td>0.0</td>\n",
       "      <td>1.0</td>\n",
       "      <td>0.431558</td>\n",
       "      <td>0.861893</td>\n",
       "      <td>-0.193786</td>\n",
       "      <td>0.294783</td>\n",
       "    </tr>\n",
       "    <tr>\n",
       "      <th>1</th>\n",
       "      <td>0.0</td>\n",
       "      <td>2.0</td>\n",
       "      <td>1.330214</td>\n",
       "      <td>0.011943</td>\n",
       "      <td>-0.755635</td>\n",
       "      <td>-0.590977</td>\n",
       "    </tr>\n",
       "    <tr>\n",
       "      <th>2</th>\n",
       "      <td>0.0</td>\n",
       "      <td>2.0</td>\n",
       "      <td>0.519384</td>\n",
       "      <td>0.872310</td>\n",
       "      <td>-0.342511</td>\n",
       "      <td>-0.968805</td>\n",
       "    </tr>\n",
       "    <tr>\n",
       "      <th>3</th>\n",
       "      <td>0.0</td>\n",
       "      <td>2.0</td>\n",
       "      <td>-0.229138</td>\n",
       "      <td>-0.713640</td>\n",
       "      <td>-1.053085</td>\n",
       "      <td>0.042864</td>\n",
       "    </tr>\n",
       "    <tr>\n",
       "      <th>4</th>\n",
       "      <td>0.0</td>\n",
       "      <td>2.0</td>\n",
       "      <td>0.834333</td>\n",
       "      <td>0.077469</td>\n",
       "      <td>0.054088</td>\n",
       "      <td>-0.109026</td>\n",
       "    </tr>\n",
       "  </tbody>\n",
       "</table>\n",
       "</div>"
      ],
      "text/plain": [
       "   flagged  sample_type   Metric3   Metric2   Metric4   Metric1\n",
       "0      0.0          1.0  0.431558  0.861893 -0.193786  0.294783\n",
       "1      0.0          2.0  1.330214  0.011943 -0.755635 -0.590977\n",
       "2      0.0          2.0  0.519384  0.872310 -0.342511 -0.968805\n",
       "3      0.0          2.0 -0.229138 -0.713640 -1.053085  0.042864\n",
       "4      0.0          2.0  0.834333  0.077469  0.054088 -0.109026"
      ]
     },
     "execution_count": 27,
     "metadata": {},
     "output_type": "execute_result"
    }
   ],
   "source": [
    "features = well_clean_final.ix[:,2:] #Removing nonrelevant data to look for correlations\n",
    "features.head()"
   ]
  },
  {
   "cell_type": "code",
   "execution_count": 28,
   "metadata": {
    "collapsed": false
   },
   "outputs": [
    {
     "data": {
      "image/png": "[encoded data removed]",
      "text/plain": [
       "<matplotlib.figure.Figure at 0x11bd28190>"
      ]
     },
     "metadata": {},
     "output_type": "display_data"
    }
   ],
   "source": [
    "correlation_matrix(features) #I'm setting a threshold of above .75 to be 'strongly correlated'\n",
    "# in this case no data are stronggly correlated"
   ]
  },
  {
   "cell_type": "markdown",
   "metadata": {},
   "source": [
    "#### Since the data are not strongly correlated in any way, I do not have an intelligable way to impute missing values. As far as I know the data is missing at random. For this data challenge, two important tasks are 1) determining the amount of flagged vs unflagged samples and 2) investigating reagent performance. In this case, missing data makes up a small percentage of the total dataset and thus I can afford to drop the missing data. Another option would be to impute categorical data with the mode of that data set and replace continous data with the mean of that data set. However, in this case, I have decided not to use mode/mean imputation as I don't want to skew results by mislabeling missing flagged data for example. "
   ]
  },
  {
   "cell_type": "code",
   "execution_count": 29,
   "metadata": {
    "collapsed": false
   },
   "outputs": [
    {
     "data": {
      "text/plain": [
       "id         0\n",
       "flagged    0\n",
       "Metric3    0\n",
       "Metric2    0\n",
       "Metric4    5\n",
       "Metric1    0\n",
       "dtype: int64"
      ]
     },
     "execution_count": 29,
     "metadata": {},
     "output_type": "execute_result"
    }
   ],
   "source": [
    "g = well_clean.groupby('batch').sum()\n",
    "g.replace('NaN',np.nan) #Replacing the 'NaN' string with a null value that can be manipulated\n",
    "g.isnull().sum()"
   ]
  },
  {
   "cell_type": "code",
   "execution_count": 30,
   "metadata": {
    "collapsed": false
   },
   "outputs": [
    {
     "data": {
      "text/html": [
       "<div>\n",
       "<table border=\"1\" class=\"dataframe\">\n",
       "  <thead>\n",
       "    <tr style=\"text-align: right;\">\n",
       "      <th></th>\n",
       "      <th>id</th>\n",
       "      <th>flagged</th>\n",
       "      <th>Metric3</th>\n",
       "      <th>Metric2</th>\n",
       "      <th>Metric4</th>\n",
       "      <th>Metric1</th>\n",
       "    </tr>\n",
       "    <tr>\n",
       "      <th>batch</th>\n",
       "      <th></th>\n",
       "      <th></th>\n",
       "      <th></th>\n",
       "      <th></th>\n",
       "      <th></th>\n",
       "      <th></th>\n",
       "    </tr>\n",
       "  </thead>\n",
       "  <tbody>\n",
       "    <tr>\n",
       "      <th>batch05</th>\n",
       "      <td>49138</td>\n",
       "      <td>1.0</td>\n",
       "      <td>45.851006</td>\n",
       "      <td>3.028827</td>\n",
       "      <td>NaN</td>\n",
       "      <td>-22.961710</td>\n",
       "    </tr>\n",
       "    <tr>\n",
       "      <th>batch09</th>\n",
       "      <td>102706</td>\n",
       "      <td>14.0</td>\n",
       "      <td>61.620152</td>\n",
       "      <td>-9.451061</td>\n",
       "      <td>NaN</td>\n",
       "      <td>-14.033582</td>\n",
       "    </tr>\n",
       "    <tr>\n",
       "      <th>batch48</th>\n",
       "      <td>450737</td>\n",
       "      <td>4.0</td>\n",
       "      <td>-13.484553</td>\n",
       "      <td>7.631354</td>\n",
       "      <td>NaN</td>\n",
       "      <td>-19.059941</td>\n",
       "    </tr>\n",
       "    <tr>\n",
       "      <th>batch56</th>\n",
       "      <td>531010</td>\n",
       "      <td>13.0</td>\n",
       "      <td>-26.105251</td>\n",
       "      <td>9.065085</td>\n",
       "      <td>NaN</td>\n",
       "      <td>-18.445815</td>\n",
       "    </tr>\n",
       "    <tr>\n",
       "      <th>batch58</th>\n",
       "      <td>504466</td>\n",
       "      <td>3.0</td>\n",
       "      <td>-53.094616</td>\n",
       "      <td>-6.830342</td>\n",
       "      <td>NaN</td>\n",
       "      <td>24.267924</td>\n",
       "    </tr>\n",
       "  </tbody>\n",
       "</table>\n",
       "</div>"
      ],
      "text/plain": [
       "             id  flagged    Metric3   Metric2  Metric4    Metric1\n",
       "batch                                                            \n",
       "batch05   49138      1.0  45.851006  3.028827      NaN -22.961710\n",
       "batch09  102706     14.0  61.620152 -9.451061      NaN -14.033582\n",
       "batch48  450737      4.0 -13.484553  7.631354      NaN -19.059941\n",
       "batch56  531010     13.0 -26.105251  9.065085      NaN -18.445815\n",
       "batch58  504466      3.0 -53.094616 -6.830342      NaN  24.267924"
      ]
     },
     "execution_count": 30,
     "metadata": {},
     "output_type": "execute_result"
    }
   ],
   "source": [
    "missing_batches = g[g['Metric4'].isnull()] #These 5 batches do not have Metric 4\n",
    "# this lack of information could suggest something about the batches \n",
    "#(for example: something about these batches doesn't allow for metric 4 to be calculated)\n",
    "missing_batches"
   ]
  },
  {
   "cell_type": "markdown",
   "metadata": {},
   "source": [
    "#### Are the batches that are missing Metric4 missing from a certain reagent group or at random? "
   ]
  },
  {
   "cell_type": "code",
   "execution_count": 31,
   "metadata": {
    "collapsed": false
   },
   "outputs": [
    {
     "data": {
      "text/html": [
       "<div>\n",
       "<table border=\"1\" class=\"dataframe\">\n",
       "  <thead>\n",
       "    <tr style=\"text-align: right;\">\n",
       "      <th></th>\n",
       "      <th>batch</th>\n",
       "      <th>id</th>\n",
       "      <th>flagged</th>\n",
       "      <th>sample_type</th>\n",
       "      <th>Metric3</th>\n",
       "      <th>Metric2</th>\n",
       "      <th>Metric4</th>\n",
       "      <th>Metric1</th>\n",
       "    </tr>\n",
       "  </thead>\n",
       "  <tbody>\n",
       "    <tr>\n",
       "      <th>0</th>\n",
       "      <td>batch01</td>\n",
       "      <td>47.344086</td>\n",
       "      <td>0.123596</td>\n",
       "      <td>1.576087</td>\n",
       "      <td>0.311326</td>\n",
       "      <td>-0.073273</td>\n",
       "      <td>-0.608154</td>\n",
       "      <td>0.113959</td>\n",
       "    </tr>\n",
       "    <tr>\n",
       "      <th>1</th>\n",
       "      <td>batch02</td>\n",
       "      <td>240.365591</td>\n",
       "      <td>0.000000</td>\n",
       "      <td>1.152174</td>\n",
       "      <td>0.831602</td>\n",
       "      <td>0.012873</td>\n",
       "      <td>-0.211733</td>\n",
       "      <td>-0.297035</td>\n",
       "    </tr>\n",
       "    <tr>\n",
       "      <th>2</th>\n",
       "      <td>batch03</td>\n",
       "      <td>143.311828</td>\n",
       "      <td>0.097826</td>\n",
       "      <td>1.413043</td>\n",
       "      <td>0.708420</td>\n",
       "      <td>0.053359</td>\n",
       "      <td>-0.137104</td>\n",
       "      <td>0.042756</td>\n",
       "    </tr>\n",
       "    <tr>\n",
       "      <th>3</th>\n",
       "      <td>batch04</td>\n",
       "      <td>623.634409</td>\n",
       "      <td>0.021505</td>\n",
       "      <td>1.434783</td>\n",
       "      <td>0.432482</td>\n",
       "      <td>-0.058138</td>\n",
       "      <td>-0.316569</td>\n",
       "      <td>-0.154611</td>\n",
       "    </tr>\n",
       "    <tr>\n",
       "      <th>4</th>\n",
       "      <td>batch05</td>\n",
       "      <td>528.365591</td>\n",
       "      <td>0.010753</td>\n",
       "      <td>1.186813</td>\n",
       "      <td>0.493022</td>\n",
       "      <td>0.032568</td>\n",
       "      <td>NaN</td>\n",
       "      <td>-0.257997</td>\n",
       "    </tr>\n",
       "  </tbody>\n",
       "</table>\n",
       "</div>"
      ],
      "text/plain": [
       "     batch          id   flagged  sample_type   Metric3   Metric2   Metric4  \\\n",
       "0  batch01   47.344086  0.123596     1.576087  0.311326 -0.073273 -0.608154   \n",
       "1  batch02  240.365591  0.000000     1.152174  0.831602  0.012873 -0.211733   \n",
       "2  batch03  143.311828  0.097826     1.413043  0.708420  0.053359 -0.137104   \n",
       "3  batch04  623.634409  0.021505     1.434783  0.432482 -0.058138 -0.316569   \n",
       "4  batch05  528.365591  0.010753     1.186813  0.493022  0.032568       NaN   \n",
       "\n",
       "    Metric1  \n",
       "0  0.113959  \n",
       "1 -0.297035  \n",
       "2  0.042756  \n",
       "3 -0.154611  \n",
       "4 -0.257997  "
      ]
     },
     "execution_count": 31,
     "metadata": {},
     "output_type": "execute_result"
    }
   ],
   "source": [
    "means = well_clean_final.groupby('batch').mean()\n",
    "means.reset_index(inplace=True)\n",
    "means.head()"
   ]
  },
  {
   "cell_type": "code",
   "execution_count": 32,
   "metadata": {
    "collapsed": false
   },
   "outputs": [
    {
     "data": {
      "text/plain": [
       "67"
      ]
     },
     "execution_count": 32,
     "metadata": {},
     "output_type": "execute_result"
    }
   ],
   "source": [
    "reagents_groupby = pd.merge(means,batch,how='inner',on='batch')\n",
    "len(reagents_groupby)"
   ]
  },
  {
   "cell_type": "code",
   "execution_count": 33,
   "metadata": {
    "collapsed": true
   },
   "outputs": [],
   "source": [
    "#Grouping by reagents and batch shows me that the batches missing Metric4 are random and are\n",
    "# not related to the Reagent lot - so I can safely remove missing values."
   ]
  },
  {
   "cell_type": "code",
   "execution_count": 34,
   "metadata": {
    "collapsed": false
   },
   "outputs": [
    {
     "data": {
      "text/html": [
       "<div>\n",
       "<table border=\"1\" class=\"dataframe\">\n",
       "  <thead>\n",
       "    <tr style=\"text-align: right;\">\n",
       "      <th></th>\n",
       "      <th></th>\n",
       "      <th>id_x</th>\n",
       "      <th>flagged</th>\n",
       "      <th>sample_type</th>\n",
       "      <th>Metric3</th>\n",
       "      <th>Metric2</th>\n",
       "      <th>Metric4</th>\n",
       "      <th>Metric1</th>\n",
       "      <th>id_y</th>\n",
       "    </tr>\n",
       "    <tr>\n",
       "      <th>Reagent1</th>\n",
       "      <th>batch</th>\n",
       "      <th></th>\n",
       "      <th></th>\n",
       "      <th></th>\n",
       "      <th></th>\n",
       "      <th></th>\n",
       "      <th></th>\n",
       "      <th></th>\n",
       "      <th></th>\n",
       "    </tr>\n",
       "  </thead>\n",
       "  <tbody>\n",
       "    <tr>\n",
       "      <th rowspan=\"5\" valign=\"top\">Reagent1_lot01</th>\n",
       "      <th>batch46</th>\n",
       "      <td>4367.602151</td>\n",
       "      <td>0.000000</td>\n",
       "      <td>1.086957</td>\n",
       "      <td>-0.253472</td>\n",
       "      <td>0.038518</td>\n",
       "      <td>-0.132484</td>\n",
       "      <td>-0.075431</td>\n",
       "      <td>45</td>\n",
       "    </tr>\n",
       "    <tr>\n",
       "      <th>batch47</th>\n",
       "      <td>4464.344086</td>\n",
       "      <td>0.065217</td>\n",
       "      <td>1.193548</td>\n",
       "      <td>0.378828</td>\n",
       "      <td>0.067508</td>\n",
       "      <td>-0.025161</td>\n",
       "      <td>0.055553</td>\n",
       "      <td>46</td>\n",
       "    </tr>\n",
       "    <tr>\n",
       "      <th>batch65</th>\n",
       "      <td>6285.591398</td>\n",
       "      <td>0.087912</td>\n",
       "      <td>1.195652</td>\n",
       "      <td>0.842526</td>\n",
       "      <td>-0.023413</td>\n",
       "      <td>-0.221861</td>\n",
       "      <td>-0.215682</td>\n",
       "      <td>64</td>\n",
       "    </tr>\n",
       "    <tr>\n",
       "      <th>batch66</th>\n",
       "      <td>6191.634409</td>\n",
       "      <td>0.000000</td>\n",
       "      <td>1.097826</td>\n",
       "      <td>0.376367</td>\n",
       "      <td>0.019522</td>\n",
       "      <td>-0.170332</td>\n",
       "      <td>-0.150427</td>\n",
       "      <td>65</td>\n",
       "    </tr>\n",
       "    <tr>\n",
       "      <th>batch67</th>\n",
       "      <td>6384.387097</td>\n",
       "      <td>0.021739</td>\n",
       "      <td>1.494624</td>\n",
       "      <td>0.595008</td>\n",
       "      <td>-0.109898</td>\n",
       "      <td>-0.426735</td>\n",
       "      <td>0.147984</td>\n",
       "      <td>66</td>\n",
       "    </tr>\n",
       "    <tr>\n",
       "      <th rowspan=\"19\" valign=\"top\">Reagent1_lot02</th>\n",
       "      <th>batch02</th>\n",
       "      <td>240.365591</td>\n",
       "      <td>0.000000</td>\n",
       "      <td>1.152174</td>\n",
       "      <td>0.831602</td>\n",
       "      <td>0.012873</td>\n",
       "      <td>-0.211733</td>\n",
       "      <td>-0.297035</td>\n",
       "      <td>1</td>\n",
       "    </tr>\n",
       "    <tr>\n",
       "      <th>batch03</th>\n",
       "      <td>143.311828</td>\n",
       "      <td>0.097826</td>\n",
       "      <td>1.413043</td>\n",
       "      <td>0.708420</td>\n",
       "      <td>0.053359</td>\n",
       "      <td>-0.137104</td>\n",
       "      <td>0.042756</td>\n",
       "      <td>2</td>\n",
       "    </tr>\n",
       "    <tr>\n",
       "      <th>batch04</th>\n",
       "      <td>623.634409</td>\n",
       "      <td>0.021505</td>\n",
       "      <td>1.434783</td>\n",
       "      <td>0.432482</td>\n",
       "      <td>-0.058138</td>\n",
       "      <td>-0.316569</td>\n",
       "      <td>-0.154611</td>\n",
       "      <td>5</td>\n",
       "    </tr>\n",
       "    <tr>\n",
       "      <th>batch05</th>\n",
       "      <td>528.365591</td>\n",
       "      <td>0.010753</td>\n",
       "      <td>1.186813</td>\n",
       "      <td>0.493022</td>\n",
       "      <td>0.032568</td>\n",
       "      <td>NaN</td>\n",
       "      <td>-0.257997</td>\n",
       "      <td>6</td>\n",
       "    </tr>\n",
       "    <tr>\n",
       "      <th>batch06</th>\n",
       "      <td>336.451613</td>\n",
       "      <td>0.182796</td>\n",
       "      <td>1.086022</td>\n",
       "      <td>0.758996</td>\n",
       "      <td>0.115033</td>\n",
       "      <td>-0.170865</td>\n",
       "      <td>-0.461767</td>\n",
       "      <td>3</td>\n",
       "    </tr>\n",
       "    <tr>\n",
       "      <th>batch07</th>\n",
       "      <td>432.858696</td>\n",
       "      <td>0.293478</td>\n",
       "      <td>1.191176</td>\n",
       "      <td>-0.039099</td>\n",
       "      <td>-0.039752</td>\n",
       "      <td>0.370038</td>\n",
       "      <td>-0.332478</td>\n",
       "      <td>4</td>\n",
       "    </tr>\n",
       "    <tr>\n",
       "      <th>batch08</th>\n",
       "      <td>1006.634409</td>\n",
       "      <td>0.010753</td>\n",
       "      <td>1.141304</td>\n",
       "      <td>0.033819</td>\n",
       "      <td>0.153042</td>\n",
       "      <td>0.053200</td>\n",
       "      <td>-0.219484</td>\n",
       "      <td>7</td>\n",
       "    </tr>\n",
       "    <tr>\n",
       "      <th>batch09</th>\n",
       "      <td>1104.365591</td>\n",
       "      <td>0.150538</td>\n",
       "      <td>1.206522</td>\n",
       "      <td>0.662582</td>\n",
       "      <td>-0.101624</td>\n",
       "      <td>NaN</td>\n",
       "      <td>-0.157681</td>\n",
       "      <td>8</td>\n",
       "    </tr>\n",
       "    <tr>\n",
       "      <th>batch10</th>\n",
       "      <td>720.365591</td>\n",
       "      <td>0.021978</td>\n",
       "      <td>1.387097</td>\n",
       "      <td>0.652684</td>\n",
       "      <td>0.064770</td>\n",
       "      <td>-0.041863</td>\n",
       "      <td>0.013109</td>\n",
       "      <td>9</td>\n",
       "    </tr>\n",
       "    <tr>\n",
       "      <th>batch11</th>\n",
       "      <td>816.365591</td>\n",
       "      <td>0.215054</td>\n",
       "      <td>1.216216</td>\n",
       "      <td>0.384617</td>\n",
       "      <td>0.217409</td>\n",
       "      <td>-0.021429</td>\n",
       "      <td>-0.115171</td>\n",
       "      <td>10</td>\n",
       "    </tr>\n",
       "    <tr>\n",
       "      <th>batch12</th>\n",
       "      <td>912.365591</td>\n",
       "      <td>0.096774</td>\n",
       "      <td>1.333333</td>\n",
       "      <td>0.358375</td>\n",
       "      <td>-0.027410</td>\n",
       "      <td>-0.016276</td>\n",
       "      <td>-0.127230</td>\n",
       "      <td>11</td>\n",
       "    </tr>\n",
       "    <tr>\n",
       "      <th>batch13</th>\n",
       "      <td>1199.344086</td>\n",
       "      <td>0.150538</td>\n",
       "      <td>1.108434</td>\n",
       "      <td>0.810608</td>\n",
       "      <td>0.069594</td>\n",
       "      <td>0.095667</td>\n",
       "      <td>-0.373295</td>\n",
       "      <td>12</td>\n",
       "    </tr>\n",
       "    <tr>\n",
       "      <th>batch14</th>\n",
       "      <td>1296.376344</td>\n",
       "      <td>0.641304</td>\n",
       "      <td>1.225806</td>\n",
       "      <td>0.665945</td>\n",
       "      <td>0.163185</td>\n",
       "      <td>-0.192720</td>\n",
       "      <td>0.125697</td>\n",
       "      <td>14</td>\n",
       "    </tr>\n",
       "    <tr>\n",
       "      <th>batch15</th>\n",
       "      <td>1391.858696</td>\n",
       "      <td>0.065217</td>\n",
       "      <td>1.130435</td>\n",
       "      <td>0.669771</td>\n",
       "      <td>0.297252</td>\n",
       "      <td>-0.101283</td>\n",
       "      <td>0.077134</td>\n",
       "      <td>13</td>\n",
       "    </tr>\n",
       "    <tr>\n",
       "      <th>batch16</th>\n",
       "      <td>1488.344086</td>\n",
       "      <td>0.107527</td>\n",
       "      <td>1.184783</td>\n",
       "      <td>0.655176</td>\n",
       "      <td>-0.189387</td>\n",
       "      <td>-0.095525</td>\n",
       "      <td>-0.114864</td>\n",
       "      <td>15</td>\n",
       "    </tr>\n",
       "    <tr>\n",
       "      <th>batch17</th>\n",
       "      <td>1584.365591</td>\n",
       "      <td>0.139785</td>\n",
       "      <td>1.419355</td>\n",
       "      <td>-0.237617</td>\n",
       "      <td>-0.232137</td>\n",
       "      <td>-0.352817</td>\n",
       "      <td>-0.161346</td>\n",
       "      <td>19</td>\n",
       "    </tr>\n",
       "    <tr>\n",
       "      <th>batch18</th>\n",
       "      <td>1680.365591</td>\n",
       "      <td>0.043011</td>\n",
       "      <td>1.282609</td>\n",
       "      <td>-0.171791</td>\n",
       "      <td>0.260405</td>\n",
       "      <td>-0.212799</td>\n",
       "      <td>-0.036744</td>\n",
       "      <td>16</td>\n",
       "    </tr>\n",
       "    <tr>\n",
       "      <th>batch19</th>\n",
       "      <td>1776.365591</td>\n",
       "      <td>0.043011</td>\n",
       "      <td>1.086022</td>\n",
       "      <td>0.405563</td>\n",
       "      <td>0.082130</td>\n",
       "      <td>-0.294713</td>\n",
       "      <td>-0.391622</td>\n",
       "      <td>17</td>\n",
       "    </tr>\n",
       "    <tr>\n",
       "      <th>batch20</th>\n",
       "      <td>1871.858696</td>\n",
       "      <td>0.271739</td>\n",
       "      <td>1.114286</td>\n",
       "      <td>0.711928</td>\n",
       "      <td>0.104051</td>\n",
       "      <td>-0.034285</td>\n",
       "      <td>-0.302489</td>\n",
       "      <td>18</td>\n",
       "    </tr>\n",
       "    <tr>\n",
       "      <th rowspan=\"11\" valign=\"top\">Reagent1_lot03</th>\n",
       "      <th>batch48</th>\n",
       "      <td>4846.634409</td>\n",
       "      <td>0.043011</td>\n",
       "      <td>1.086022</td>\n",
       "      <td>-0.144995</td>\n",
       "      <td>0.082058</td>\n",
       "      <td>NaN</td>\n",
       "      <td>-0.214157</td>\n",
       "      <td>48</td>\n",
       "    </tr>\n",
       "    <tr>\n",
       "      <th>batch49</th>\n",
       "      <td>5232.365591</td>\n",
       "      <td>0.010753</td>\n",
       "      <td>1.225806</td>\n",
       "      <td>-0.786843</td>\n",
       "      <td>0.040212</td>\n",
       "      <td>0.473609</td>\n",
       "      <td>0.027727</td>\n",
       "      <td>54</td>\n",
       "    </tr>\n",
       "    <tr>\n",
       "      <th>batch50</th>\n",
       "      <td>4750.634409</td>\n",
       "      <td>0.032258</td>\n",
       "      <td>1.097826</td>\n",
       "      <td>-0.388837</td>\n",
       "      <td>-0.019061</td>\n",
       "      <td>0.586796</td>\n",
       "      <td>-0.083213</td>\n",
       "      <td>49</td>\n",
       "    </tr>\n",
       "    <tr>\n",
       "      <th>batch51</th>\n",
       "      <td>4560.365591</td>\n",
       "      <td>0.043478</td>\n",
       "      <td>1.161290</td>\n",
       "      <td>-0.252335</td>\n",
       "      <td>0.168723</td>\n",
       "      <td>0.258784</td>\n",
       "      <td>0.206839</td>\n",
       "      <td>50</td>\n",
       "    </tr>\n",
       "    <tr>\n",
       "      <th>batch52</th>\n",
       "      <td>4654.817204</td>\n",
       "      <td>0.064516</td>\n",
       "      <td>1.086022</td>\n",
       "      <td>-1.020787</td>\n",
       "      <td>0.138443</td>\n",
       "      <td>0.154126</td>\n",
       "      <td>-0.083245</td>\n",
       "      <td>47</td>\n",
       "    </tr>\n",
       "    <tr>\n",
       "      <th>batch53</th>\n",
       "      <td>4944.365591</td>\n",
       "      <td>0.021739</td>\n",
       "      <td>1.565217</td>\n",
       "      <td>-0.333444</td>\n",
       "      <td>-0.291750</td>\n",
       "      <td>0.111659</td>\n",
       "      <td>0.208625</td>\n",
       "      <td>52</td>\n",
       "    </tr>\n",
       "    <tr>\n",
       "      <th>...</th>\n",
       "      <td>...</td>\n",
       "      <td>...</td>\n",
       "      <td>...</td>\n",
       "      <td>...</td>\n",
       "      <td>...</td>\n",
       "      <td>...</td>\n",
       "      <td>...</td>\n",
       "      <td>...</td>\n",
       "    </tr>\n",
       "    <tr>\n",
       "      <th>batch61</th>\n",
       "      <td>5806.634409</td>\n",
       "      <td>0.056180</td>\n",
       "      <td>1.184783</td>\n",
       "      <td>-0.114992</td>\n",
       "      <td>-0.150951</td>\n",
       "      <td>-0.029958</td>\n",
       "      <td>-0.255799</td>\n",
       "      <td>59</td>\n",
       "    </tr>\n",
       "    <tr>\n",
       "      <th>batch62</th>\n",
       "      <td>5520.365591</td>\n",
       "      <td>0.065217</td>\n",
       "      <td>1.150538</td>\n",
       "      <td>-0.351731</td>\n",
       "      <td>-0.037962</td>\n",
       "      <td>-0.192720</td>\n",
       "      <td>0.198775</td>\n",
       "      <td>60</td>\n",
       "    </tr>\n",
       "    <tr>\n",
       "      <th>batch63</th>\n",
       "      <td>5616.365591</td>\n",
       "      <td>0.053763</td>\n",
       "      <td>1.164835</td>\n",
       "      <td>-0.076808</td>\n",
       "      <td>0.016851</td>\n",
       "      <td>0.171362</td>\n",
       "      <td>-0.108871</td>\n",
       "      <td>61</td>\n",
       "    </tr>\n",
       "    <tr>\n",
       "      <th>batch64</th>\n",
       "      <td>6000.333333</td>\n",
       "      <td>0.129032</td>\n",
       "      <td>1.172043</td>\n",
       "      <td>-0.347231</td>\n",
       "      <td>0.028416</td>\n",
       "      <td>0.025125</td>\n",
       "      <td>-0.018262</td>\n",
       "      <td>62</td>\n",
       "    </tr>\n",
       "    <tr>\n",
       "      <th rowspan=\"26\" valign=\"top\">Reagent1_lot04</th>\n",
       "      <th>batch01</th>\n",
       "      <td>47.344086</td>\n",
       "      <td>0.123596</td>\n",
       "      <td>1.576087</td>\n",
       "      <td>0.311326</td>\n",
       "      <td>-0.073273</td>\n",
       "      <td>-0.608154</td>\n",
       "      <td>0.113959</td>\n",
       "      <td>0</td>\n",
       "    </tr>\n",
       "    <tr>\n",
       "      <th>batch21</th>\n",
       "      <td>2448.365591</td>\n",
       "      <td>0.172043</td>\n",
       "      <td>1.129032</td>\n",
       "      <td>0.598500</td>\n",
       "      <td>-0.125213</td>\n",
       "      <td>0.087671</td>\n",
       "      <td>-0.096100</td>\n",
       "      <td>22</td>\n",
       "    </tr>\n",
       "    <tr>\n",
       "      <th>batch22</th>\n",
       "      <td>1967.344086</td>\n",
       "      <td>0.172043</td>\n",
       "      <td>1.408602</td>\n",
       "      <td>0.608637</td>\n",
       "      <td>-0.083220</td>\n",
       "      <td>-0.281564</td>\n",
       "      <td>0.018528</td>\n",
       "      <td>20</td>\n",
       "    </tr>\n",
       "    <tr>\n",
       "      <th>batch23</th>\n",
       "      <td>2543.560440</td>\n",
       "      <td>0.065934</td>\n",
       "      <td>1.146067</td>\n",
       "      <td>1.226365</td>\n",
       "      <td>-0.039335</td>\n",
       "      <td>-0.007109</td>\n",
       "      <td>-0.286537</td>\n",
       "      <td>21</td>\n",
       "    </tr>\n",
       "    <tr>\n",
       "      <th>batch24</th>\n",
       "      <td>2064.365591</td>\n",
       "      <td>0.086022</td>\n",
       "      <td>1.086957</td>\n",
       "      <td>0.452876</td>\n",
       "      <td>0.213477</td>\n",
       "      <td>-0.078645</td>\n",
       "      <td>-0.403038</td>\n",
       "      <td>23</td>\n",
       "    </tr>\n",
       "    <tr>\n",
       "      <th>batch25</th>\n",
       "      <td>2160.365591</td>\n",
       "      <td>0.032258</td>\n",
       "      <td>1.096774</td>\n",
       "      <td>0.080364</td>\n",
       "      <td>-0.085080</td>\n",
       "      <td>-0.068694</td>\n",
       "      <td>-0.158060</td>\n",
       "      <td>24</td>\n",
       "    </tr>\n",
       "    <tr>\n",
       "      <th>batch26</th>\n",
       "      <td>2257.655914</td>\n",
       "      <td>0.053763</td>\n",
       "      <td>1.129032</td>\n",
       "      <td>0.623928</td>\n",
       "      <td>-0.034723</td>\n",
       "      <td>-0.035111</td>\n",
       "      <td>-0.306244</td>\n",
       "      <td>25</td>\n",
       "    </tr>\n",
       "    <tr>\n",
       "      <th>batch27</th>\n",
       "      <td>2352.365591</td>\n",
       "      <td>0.075269</td>\n",
       "      <td>1.093023</td>\n",
       "      <td>0.192575</td>\n",
       "      <td>0.078111</td>\n",
       "      <td>0.142044</td>\n",
       "      <td>-0.322202</td>\n",
       "      <td>26</td>\n",
       "    </tr>\n",
       "    <tr>\n",
       "      <th>batch28</th>\n",
       "      <td>2640.688172</td>\n",
       "      <td>0.021505</td>\n",
       "      <td>1.161290</td>\n",
       "      <td>0.415352</td>\n",
       "      <td>0.055421</td>\n",
       "      <td>-0.000640</td>\n",
       "      <td>0.095099</td>\n",
       "      <td>27</td>\n",
       "    </tr>\n",
       "    <tr>\n",
       "      <th>batch29</th>\n",
       "      <td>2734.311828</td>\n",
       "      <td>0.021505</td>\n",
       "      <td>1.440860</td>\n",
       "      <td>0.485124</td>\n",
       "      <td>-0.088727</td>\n",
       "      <td>-0.456942</td>\n",
       "      <td>0.385733</td>\n",
       "      <td>28</td>\n",
       "    </tr>\n",
       "    <tr>\n",
       "      <th>batch30</th>\n",
       "      <td>3215.858696</td>\n",
       "      <td>0.097826</td>\n",
       "      <td>1.533333</td>\n",
       "      <td>-0.270357</td>\n",
       "      <td>-0.175051</td>\n",
       "      <td>-0.034823</td>\n",
       "      <td>0.225781</td>\n",
       "      <td>30</td>\n",
       "    </tr>\n",
       "    <tr>\n",
       "      <th>batch31</th>\n",
       "      <td>3312.365591</td>\n",
       "      <td>0.021505</td>\n",
       "      <td>1.239130</td>\n",
       "      <td>-0.097261</td>\n",
       "      <td>0.111405</td>\n",
       "      <td>-0.104054</td>\n",
       "      <td>0.094340</td>\n",
       "      <td>31</td>\n",
       "    </tr>\n",
       "    <tr>\n",
       "      <th>batch32</th>\n",
       "      <td>2832.365591</td>\n",
       "      <td>0.000000</td>\n",
       "      <td>1.097826</td>\n",
       "      <td>-0.490260</td>\n",
       "      <td>0.076343</td>\n",
       "      <td>0.152527</td>\n",
       "      <td>-0.190120</td>\n",
       "      <td>32</td>\n",
       "    </tr>\n",
       "    <tr>\n",
       "      <th>batch33</th>\n",
       "      <td>2928.365591</td>\n",
       "      <td>0.182796</td>\n",
       "      <td>1.239130</td>\n",
       "      <td>1.101079</td>\n",
       "      <td>0.207624</td>\n",
       "      <td>0.015707</td>\n",
       "      <td>-0.052326</td>\n",
       "      <td>33</td>\n",
       "    </tr>\n",
       "    <tr>\n",
       "      <th>batch34</th>\n",
       "      <td>3024.365591</td>\n",
       "      <td>0.000000</td>\n",
       "      <td>1.153846</td>\n",
       "      <td>0.781463</td>\n",
       "      <td>0.160396</td>\n",
       "      <td>-0.046839</td>\n",
       "      <td>-0.194826</td>\n",
       "      <td>29</td>\n",
       "    </tr>\n",
       "    <tr>\n",
       "      <th>batch35</th>\n",
       "      <td>3120.365591</td>\n",
       "      <td>0.054348</td>\n",
       "      <td>1.376344</td>\n",
       "      <td>0.454577</td>\n",
       "      <td>0.000776</td>\n",
       "      <td>-0.346776</td>\n",
       "      <td>-0.090701</td>\n",
       "      <td>34</td>\n",
       "    </tr>\n",
       "    <tr>\n",
       "      <th>batch36</th>\n",
       "      <td>3408.344086</td>\n",
       "      <td>0.064516</td>\n",
       "      <td>1.434783</td>\n",
       "      <td>0.162465</td>\n",
       "      <td>-0.117846</td>\n",
       "      <td>-0.131063</td>\n",
       "      <td>0.087056</td>\n",
       "      <td>35</td>\n",
       "    </tr>\n",
       "    <tr>\n",
       "      <th>batch37</th>\n",
       "      <td>3696.365591</td>\n",
       "      <td>0.225806</td>\n",
       "      <td>1.289474</td>\n",
       "      <td>-0.055884</td>\n",
       "      <td>0.026240</td>\n",
       "      <td>0.036675</td>\n",
       "      <td>-0.309232</td>\n",
       "      <td>37</td>\n",
       "    </tr>\n",
       "    <tr>\n",
       "      <th>batch38</th>\n",
       "      <td>3788.247312</td>\n",
       "      <td>0.000000</td>\n",
       "      <td>1.129032</td>\n",
       "      <td>0.256108</td>\n",
       "      <td>-0.184672</td>\n",
       "      <td>0.012687</td>\n",
       "      <td>-0.311487</td>\n",
       "      <td>38</td>\n",
       "    </tr>\n",
       "    <tr>\n",
       "      <th>batch39</th>\n",
       "      <td>3507.333333</td>\n",
       "      <td>0.053763</td>\n",
       "      <td>1.090909</td>\n",
       "      <td>0.736173</td>\n",
       "      <td>0.065547</td>\n",
       "      <td>-0.105653</td>\n",
       "      <td>-0.185195</td>\n",
       "      <td>39</td>\n",
       "    </tr>\n",
       "    <tr>\n",
       "      <th>batch40</th>\n",
       "      <td>4079.634409</td>\n",
       "      <td>0.010753</td>\n",
       "      <td>1.206522</td>\n",
       "      <td>0.389600</td>\n",
       "      <td>-0.167917</td>\n",
       "      <td>0.226978</td>\n",
       "      <td>-0.094045</td>\n",
       "      <td>41</td>\n",
       "    </tr>\n",
       "    <tr>\n",
       "      <th>batch41</th>\n",
       "      <td>3600.139785</td>\n",
       "      <td>0.065217</td>\n",
       "      <td>1.228261</td>\n",
       "      <td>0.546987</td>\n",
       "      <td>0.043118</td>\n",
       "      <td>0.103485</td>\n",
       "      <td>-0.172465</td>\n",
       "      <td>36</td>\n",
       "    </tr>\n",
       "    <tr>\n",
       "      <th>batch42</th>\n",
       "      <td>3889.365591</td>\n",
       "      <td>0.204301</td>\n",
       "      <td>1.419355</td>\n",
       "      <td>0.346825</td>\n",
       "      <td>0.194477</td>\n",
       "      <td>-0.200539</td>\n",
       "      <td>0.053678</td>\n",
       "      <td>40</td>\n",
       "    </tr>\n",
       "    <tr>\n",
       "      <th>batch43</th>\n",
       "      <td>3984.967391</td>\n",
       "      <td>0.326087</td>\n",
       "      <td>1.121212</td>\n",
       "      <td>0.423810</td>\n",
       "      <td>-0.139777</td>\n",
       "      <td>0.233168</td>\n",
       "      <td>-0.344746</td>\n",
       "      <td>42</td>\n",
       "    </tr>\n",
       "    <tr>\n",
       "      <th>batch44</th>\n",
       "      <td>4175.322581</td>\n",
       "      <td>0.043011</td>\n",
       "      <td>1.112360</td>\n",
       "      <td>0.767242</td>\n",
       "      <td>0.031893</td>\n",
       "      <td>0.054976</td>\n",
       "      <td>-0.131012</td>\n",
       "      <td>43</td>\n",
       "    </tr>\n",
       "    <tr>\n",
       "      <th>batch45</th>\n",
       "      <td>4272.333333</td>\n",
       "      <td>0.064516</td>\n",
       "      <td>1.225806</td>\n",
       "      <td>0.290396</td>\n",
       "      <td>0.136538</td>\n",
       "      <td>-0.309283</td>\n",
       "      <td>0.267086</td>\n",
       "      <td>44</td>\n",
       "    </tr>\n",
       "  </tbody>\n",
       "</table>\n",
       "<p>67 rows × 8 columns</p>\n",
       "</div>"
      ],
      "text/plain": [
       "                               id_x   flagged  sample_type   Metric3  \\\n",
       "Reagent1       batch                                                   \n",
       "Reagent1_lot01 batch46  4367.602151  0.000000     1.086957 -0.253472   \n",
       "               batch47  4464.344086  0.065217     1.193548  0.378828   \n",
       "               batch65  6285.591398  0.087912     1.195652  0.842526   \n",
       "               batch66  6191.634409  0.000000     1.097826  0.376367   \n",
       "               batch67  6384.387097  0.021739     1.494624  0.595008   \n",
       "Reagent1_lot02 batch02   240.365591  0.000000     1.152174  0.831602   \n",
       "               batch03   143.311828  0.097826     1.413043  0.708420   \n",
       "               batch04   623.634409  0.021505     1.434783  0.432482   \n",
       "               batch05   528.365591  0.010753     1.186813  0.493022   \n",
       "               batch06   336.451613  0.182796     1.086022  0.758996   \n",
       "               batch07   432.858696  0.293478     1.191176 -0.039099   \n",
       "               batch08  1006.634409  0.010753     1.141304  0.033819   \n",
       "               batch09  1104.365591  0.150538     1.206522  0.662582   \n",
       "               batch10   720.365591  0.021978     1.387097  0.652684   \n",
       "               batch11   816.365591  0.215054     1.216216  0.384617   \n",
       "               batch12   912.365591  0.096774     1.333333  0.358375   \n",
       "               batch13  1199.344086  0.150538     1.108434  0.810608   \n",
       "               batch14  1296.376344  0.641304     1.225806  0.665945   \n",
       "               batch15  1391.858696  0.065217     1.130435  0.669771   \n",
       "               batch16  1488.344086  0.107527     1.184783  0.655176   \n",
       "               batch17  1584.365591  0.139785     1.419355 -0.237617   \n",
       "               batch18  1680.365591  0.043011     1.282609 -0.171791   \n",
       "               batch19  1776.365591  0.043011     1.086022  0.405563   \n",
       "               batch20  1871.858696  0.271739     1.114286  0.711928   \n",
       "Reagent1_lot03 batch48  4846.634409  0.043011     1.086022 -0.144995   \n",
       "               batch49  5232.365591  0.010753     1.225806 -0.786843   \n",
       "               batch50  4750.634409  0.032258     1.097826 -0.388837   \n",
       "               batch51  4560.365591  0.043478     1.161290 -0.252335   \n",
       "               batch52  4654.817204  0.064516     1.086022 -1.020787   \n",
       "               batch53  4944.365591  0.021739     1.565217 -0.333444   \n",
       "...                             ...       ...          ...       ...   \n",
       "               batch61  5806.634409  0.056180     1.184783 -0.114992   \n",
       "               batch62  5520.365591  0.065217     1.150538 -0.351731   \n",
       "               batch63  5616.365591  0.053763     1.164835 -0.076808   \n",
       "               batch64  6000.333333  0.129032     1.172043 -0.347231   \n",
       "Reagent1_lot04 batch01    47.344086  0.123596     1.576087  0.311326   \n",
       "               batch21  2448.365591  0.172043     1.129032  0.598500   \n",
       "               batch22  1967.344086  0.172043     1.408602  0.608637   \n",
       "               batch23  2543.560440  0.065934     1.146067  1.226365   \n",
       "               batch24  2064.365591  0.086022     1.086957  0.452876   \n",
       "               batch25  2160.365591  0.032258     1.096774  0.080364   \n",
       "               batch26  2257.655914  0.053763     1.129032  0.623928   \n",
       "               batch27  2352.365591  0.075269     1.093023  0.192575   \n",
       "               batch28  2640.688172  0.021505     1.161290  0.415352   \n",
       "               batch29  2734.311828  0.021505     1.440860  0.485124   \n",
       "               batch30  3215.858696  0.097826     1.533333 -0.270357   \n",
       "               batch31  3312.365591  0.021505     1.239130 -0.097261   \n",
       "               batch32  2832.365591  0.000000     1.097826 -0.490260   \n",
       "               batch33  2928.365591  0.182796     1.239130  1.101079   \n",
       "               batch34  3024.365591  0.000000     1.153846  0.781463   \n",
       "               batch35  3120.365591  0.054348     1.376344  0.454577   \n",
       "               batch36  3408.344086  0.064516     1.434783  0.162465   \n",
       "               batch37  3696.365591  0.225806     1.289474 -0.055884   \n",
       "               batch38  3788.247312  0.000000     1.129032  0.256108   \n",
       "               batch39  3507.333333  0.053763     1.090909  0.736173   \n",
       "               batch40  4079.634409  0.010753     1.206522  0.389600   \n",
       "               batch41  3600.139785  0.065217     1.228261  0.546987   \n",
       "               batch42  3889.365591  0.204301     1.419355  0.346825   \n",
       "               batch43  3984.967391  0.326087     1.121212  0.423810   \n",
       "               batch44  4175.322581  0.043011     1.112360  0.767242   \n",
       "               batch45  4272.333333  0.064516     1.225806  0.290396   \n",
       "\n",
       "                         Metric2   Metric4   Metric1  id_y  \n",
       "Reagent1       batch                                        \n",
       "Reagent1_lot01 batch46  0.038518 -0.132484 -0.075431    45  \n",
       "               batch47  0.067508 -0.025161  0.055553    46  \n",
       "               batch65 -0.023413 -0.221861 -0.215682    64  \n",
       "               batch66  0.019522 -0.170332 -0.150427    65  \n",
       "               batch67 -0.109898 -0.426735  0.147984    66  \n",
       "Reagent1_lot02 batch02  0.012873 -0.211733 -0.297035     1  \n",
       "               batch03  0.053359 -0.137104  0.042756     2  \n",
       "               batch04 -0.058138 -0.316569 -0.154611     5  \n",
       "               batch05  0.032568       NaN -0.257997     6  \n",
       "               batch06  0.115033 -0.170865 -0.461767     3  \n",
       "               batch07 -0.039752  0.370038 -0.332478     4  \n",
       "               batch08  0.153042  0.053200 -0.219484     7  \n",
       "               batch09 -0.101624       NaN -0.157681     8  \n",
       "               batch10  0.064770 -0.041863  0.013109     9  \n",
       "               batch11  0.217409 -0.021429 -0.115171    10  \n",
       "               batch12 -0.027410 -0.016276 -0.127230    11  \n",
       "               batch13  0.069594  0.095667 -0.373295    12  \n",
       "               batch14  0.163185 -0.192720  0.125697    14  \n",
       "               batch15  0.297252 -0.101283  0.077134    13  \n",
       "               batch16 -0.189387 -0.095525 -0.114864    15  \n",
       "               batch17 -0.232137 -0.352817 -0.161346    19  \n",
       "               batch18  0.260405 -0.212799 -0.036744    16  \n",
       "               batch19  0.082130 -0.294713 -0.391622    17  \n",
       "               batch20  0.104051 -0.034285 -0.302489    18  \n",
       "Reagent1_lot03 batch48  0.082058       NaN -0.214157    48  \n",
       "               batch49  0.040212  0.473609  0.027727    54  \n",
       "               batch50 -0.019061  0.586796 -0.083213    49  \n",
       "               batch51  0.168723  0.258784  0.206839    50  \n",
       "               batch52  0.138443  0.154126 -0.083245    47  \n",
       "               batch53 -0.291750  0.111659  0.208625    52  \n",
       "...                          ...       ...       ...   ...  \n",
       "               batch61 -0.150951 -0.029958 -0.255799    59  \n",
       "               batch62 -0.037962 -0.192720  0.198775    60  \n",
       "               batch63  0.016851  0.171362 -0.108871    61  \n",
       "               batch64  0.028416  0.025125 -0.018262    62  \n",
       "Reagent1_lot04 batch01 -0.073273 -0.608154  0.113959     0  \n",
       "               batch21 -0.125213  0.087671 -0.096100    22  \n",
       "               batch22 -0.083220 -0.281564  0.018528    20  \n",
       "               batch23 -0.039335 -0.007109 -0.286537    21  \n",
       "               batch24  0.213477 -0.078645 -0.403038    23  \n",
       "               batch25 -0.085080 -0.068694 -0.158060    24  \n",
       "               batch26 -0.034723 -0.035111 -0.306244    25  \n",
       "               batch27  0.078111  0.142044 -0.322202    26  \n",
       "               batch28  0.055421 -0.000640  0.095099    27  \n",
       "               batch29 -0.088727 -0.456942  0.385733    28  \n",
       "               batch30 -0.175051 -0.034823  0.225781    30  \n",
       "               batch31  0.111405 -0.104054  0.094340    31  \n",
       "               batch32  0.076343  0.152527 -0.190120    32  \n",
       "               batch33  0.207624  0.015707 -0.052326    33  \n",
       "               batch34  0.160396 -0.046839 -0.194826    29  \n",
       "               batch35  0.000776 -0.346776 -0.090701    34  \n",
       "               batch36 -0.117846 -0.131063  0.087056    35  \n",
       "               batch37  0.026240  0.036675 -0.309232    37  \n",
       "               batch38 -0.184672  0.012687 -0.311487    38  \n",
       "               batch39  0.065547 -0.105653 -0.185195    39  \n",
       "               batch40 -0.167917  0.226978 -0.094045    41  \n",
       "               batch41  0.043118  0.103485 -0.172465    36  \n",
       "               batch42  0.194477 -0.200539  0.053678    40  \n",
       "               batch43 -0.139777  0.233168 -0.344746    42  \n",
       "               batch44  0.031893  0.054976 -0.131012    43  \n",
       "               batch45  0.136538 -0.309283  0.267086    44  \n",
       "\n",
       "[67 rows x 8 columns]"
      ]
     },
     "execution_count": 34,
     "metadata": {},
     "output_type": "execute_result"
    }
   ],
   "source": [
    "reagents_groupby.groupby(['Reagent1','batch']).sum()"
   ]
  },
  {
   "cell_type": "code",
   "execution_count": 35,
   "metadata": {
    "collapsed": true
   },
   "outputs": [],
   "source": [
    "well_clean_final.dropna(inplace=True)\n",
    "#I'm dropping the missing values instead of doing mean/mode imputation"
   ]
  },
  {
   "cell_type": "code",
   "execution_count": 36,
   "metadata": {
    "collapsed": false
   },
   "outputs": [
    {
     "data": {
      "text/plain": [
       "62"
      ]
     },
     "execution_count": 36,
     "metadata": {},
     "output_type": "execute_result"
    }
   ],
   "source": [
    "len(well_clean_final.groupby('batch').sum())"
   ]
  },
  {
   "cell_type": "code",
   "execution_count": 37,
   "metadata": {
    "collapsed": false
   },
   "outputs": [
    {
     "data": {
      "text/plain": [
       "id             0\n",
       "batch          0\n",
       "flagged        0\n",
       "sample_type    0\n",
       "Metric3        0\n",
       "Metric2        0\n",
       "Metric4        0\n",
       "Metric1        0\n",
       "dtype: int64"
      ]
     },
     "execution_count": 37,
     "metadata": {},
     "output_type": "execute_result"
    }
   ],
   "source": [
    "well_clean_final.isnull().sum()"
   ]
  },
  {
   "cell_type": "markdown",
   "metadata": {},
   "source": [
    "## Question 1<a class=\"anchor\" id=\"fourth-bullet\"></a>\n"
   ]
  },
  {
   "cell_type": "markdown",
   "metadata": {},
   "source": [
    "#### What is the fraction of all samples flagged for poor quality?  Plot the distribution of fraction of flagged samples per batch."
   ]
  },
  {
   "cell_type": "code",
   "execution_count": 38,
   "metadata": {
    "collapsed": false
   },
   "outputs": [],
   "source": [
    "from __future__ import division #this just forces the fraction to be a float"
   ]
  },
  {
   "cell_type": "code",
   "execution_count": 39,
   "metadata": {
    "collapsed": false
   },
   "outputs": [
    {
     "data": {
      "text/plain": [
       "0.07211925866236905"
      ]
     },
     "execution_count": 39,
     "metadata": {},
     "output_type": "execute_result"
    }
   ],
   "source": [
    "len(well_clean_final[well_clean_final['flagged'] == 1.0]) / len(well_clean_final[well_clean_final['flagged'] == 0.0])"
   ]
  },
  {
   "cell_type": "code",
   "execution_count": 40,
   "metadata": {
    "collapsed": false
   },
   "outputs": [
    {
     "data": {
      "text/plain": [
       "4964"
      ]
     },
     "execution_count": 40,
     "metadata": {},
     "output_type": "execute_result"
    }
   ],
   "source": [
    "len(well_clean_final[well_clean_final['flagged'] == 0.0])"
   ]
  },
  {
   "cell_type": "code",
   "execution_count": 41,
   "metadata": {
    "collapsed": false
   },
   "outputs": [
    {
     "data": {
      "text/html": [
       "<div>\n",
       "<table border=\"1\" class=\"dataframe\">\n",
       "  <thead>\n",
       "    <tr style=\"text-align: right;\">\n",
       "      <th></th>\n",
       "      <th>batch</th>\n",
       "      <th>flagged</th>\n",
       "      <th>sample_type</th>\n",
       "      <th>Metric3</th>\n",
       "      <th>Metric2</th>\n",
       "      <th>Metric4</th>\n",
       "      <th>Metric1</th>\n",
       "    </tr>\n",
       "  </thead>\n",
       "  <tbody>\n",
       "    <tr>\n",
       "      <th>0</th>\n",
       "      <td>batch01</td>\n",
       "      <td>11.0</td>\n",
       "      <td>125.0</td>\n",
       "      <td>23.848108</td>\n",
       "      <td>-7.042390</td>\n",
       "      <td>-51.079632</td>\n",
       "      <td>13.654480</td>\n",
       "    </tr>\n",
       "    <tr>\n",
       "      <th>1</th>\n",
       "      <td>batch02</td>\n",
       "      <td>0.0</td>\n",
       "      <td>94.0</td>\n",
       "      <td>72.808618</td>\n",
       "      <td>0.659266</td>\n",
       "      <td>-15.747731</td>\n",
       "      <td>-26.051738</td>\n",
       "    </tr>\n",
       "    <tr>\n",
       "      <th>2</th>\n",
       "      <td>batch03</td>\n",
       "      <td>9.0</td>\n",
       "      <td>116.0</td>\n",
       "      <td>59.750953</td>\n",
       "      <td>3.572488</td>\n",
       "      <td>-12.182852</td>\n",
       "      <td>5.278436</td>\n",
       "    </tr>\n",
       "    <tr>\n",
       "      <th>3</th>\n",
       "      <td>batch04</td>\n",
       "      <td>2.0</td>\n",
       "      <td>120.0</td>\n",
       "      <td>36.971431</td>\n",
       "      <td>-6.178637</td>\n",
       "      <td>-30.256649</td>\n",
       "      <td>-13.460169</td>\n",
       "    </tr>\n",
       "    <tr>\n",
       "      <th>4</th>\n",
       "      <td>batch06</td>\n",
       "      <td>17.0</td>\n",
       "      <td>89.0</td>\n",
       "      <td>67.431094</td>\n",
       "      <td>13.224166</td>\n",
       "      <td>-14.586471</td>\n",
       "      <td>-41.097284</td>\n",
       "    </tr>\n",
       "  </tbody>\n",
       "</table>\n",
       "</div>"
      ],
      "text/plain": [
       "     batch  flagged  sample_type    Metric3    Metric2    Metric4    Metric1\n",
       "0  batch01     11.0        125.0  23.848108  -7.042390 -51.079632  13.654480\n",
       "1  batch02      0.0         94.0  72.808618   0.659266 -15.747731 -26.051738\n",
       "2  batch03      9.0        116.0  59.750953   3.572488 -12.182852   5.278436\n",
       "3  batch04      2.0        120.0  36.971431  -6.178637 -30.256649 -13.460169\n",
       "4  batch06     17.0         89.0  67.431094  13.224166 -14.586471 -41.097284"
      ]
     },
     "execution_count": 41,
     "metadata": {},
     "output_type": "execute_result"
    }
   ],
   "source": [
    "#beginning to calculate the flagrate\n",
    "flagrate = well_clean_final.groupby('batch').sum()\n",
    "del flagrate['id']\n",
    "flagrate.reset_index(inplace=True)\n",
    "flagrate.head()"
   ]
  },
  {
   "cell_type": "code",
   "execution_count": 42,
   "metadata": {
    "collapsed": true
   },
   "outputs": [],
   "source": [
    "#calculation for flagrate is the # of flagged instance over the total\n",
    "for i in range(0,len(flagrate)):\n",
    "    flagrate.replace(flagrate.flagged.iloc[i], flagrate.flagged.iloc[i]/\n",
    "                       well_clean_final.groupby('batch').size()[i], inplace=True)"
   ]
  },
  {
   "cell_type": "code",
   "execution_count": 43,
   "metadata": {
    "collapsed": false
   },
   "outputs": [
    {
     "data": {
      "text/html": [
       "<div>\n",
       "<table border=\"1\" class=\"dataframe\">\n",
       "  <thead>\n",
       "    <tr style=\"text-align: right;\">\n",
       "      <th></th>\n",
       "      <th>batch</th>\n",
       "      <th>flagrate</th>\n",
       "      <th>sample_type</th>\n",
       "      <th>Metric3</th>\n",
       "      <th>Metric2</th>\n",
       "      <th>Metric4</th>\n",
       "      <th>Metric1</th>\n",
       "    </tr>\n",
       "  </thead>\n",
       "  <tbody>\n",
       "    <tr>\n",
       "      <th>0</th>\n",
       "      <td>batch01</td>\n",
       "      <td>1.471375e-03</td>\n",
       "      <td>125.0</td>\n",
       "      <td>23.848108</td>\n",
       "      <td>-7.042390</td>\n",
       "      <td>-51.079632</td>\n",
       "      <td>13.654480</td>\n",
       "    </tr>\n",
       "    <tr>\n",
       "      <th>1</th>\n",
       "      <td>batch02</td>\n",
       "      <td>0.000000e+00</td>\n",
       "      <td>94.0</td>\n",
       "      <td>72.808618</td>\n",
       "      <td>0.659266</td>\n",
       "      <td>-15.747731</td>\n",
       "      <td>-26.051738</td>\n",
       "    </tr>\n",
       "    <tr>\n",
       "      <th>2</th>\n",
       "      <td>batch03</td>\n",
       "      <td>1.351558e-05</td>\n",
       "      <td>116.0</td>\n",
       "      <td>59.750953</td>\n",
       "      <td>3.572488</td>\n",
       "      <td>-12.182852</td>\n",
       "      <td>5.278436</td>\n",
       "    </tr>\n",
       "    <tr>\n",
       "      <th>3</th>\n",
       "      <td>batch04</td>\n",
       "      <td>5.692002e-16</td>\n",
       "      <td>120.0</td>\n",
       "      <td>36.971431</td>\n",
       "      <td>-6.178637</td>\n",
       "      <td>-30.256649</td>\n",
       "      <td>-13.460169</td>\n",
       "    </tr>\n",
       "    <tr>\n",
       "      <th>4</th>\n",
       "      <td>batch06</td>\n",
       "      <td>2.170582e-03</td>\n",
       "      <td>89.0</td>\n",
       "      <td>67.431094</td>\n",
       "      <td>13.224166</td>\n",
       "      <td>-14.586471</td>\n",
       "      <td>-41.097284</td>\n",
       "    </tr>\n",
       "  </tbody>\n",
       "</table>\n",
       "</div>"
      ],
      "text/plain": [
       "     batch      flagrate  sample_type    Metric3    Metric2    Metric4  \\\n",
       "0  batch01  1.471375e-03        125.0  23.848108  -7.042390 -51.079632   \n",
       "1  batch02  0.000000e+00         94.0  72.808618   0.659266 -15.747731   \n",
       "2  batch03  1.351558e-05        116.0  59.750953   3.572488 -12.182852   \n",
       "3  batch04  5.692002e-16        120.0  36.971431  -6.178637 -30.256649   \n",
       "4  batch06  2.170582e-03         89.0  67.431094  13.224166 -14.586471   \n",
       "\n",
       "     Metric1  \n",
       "0  13.654480  \n",
       "1 -26.051738  \n",
       "2   5.278436  \n",
       "3 -13.460169  \n",
       "4 -41.097284  "
      ]
     },
     "execution_count": 43,
     "metadata": {},
     "output_type": "execute_result"
    }
   ],
   "source": [
    "flagrate.rename(columns={'flagged':'flagrate'},inplace=True) #renmaing columns for clarity\n",
    "flagrate.head()"
   ]
  },
  {
   "cell_type": "code",
   "execution_count": 44,
   "metadata": {
    "collapsed": false
   },
   "outputs": [
    {
     "data": {
      "text/plain": [
       "batch           batch67\n",
       "flagrate       0.659091\n",
       "sample_type         130\n",
       "Metric3         105.472\n",
       "Metric2         24.6734\n",
       "Metric4         50.3356\n",
       "Metric1         34.3303\n",
       "dtype: object"
      ]
     },
     "execution_count": 44,
     "metadata": {},
     "output_type": "execute_result"
    }
   ],
   "source": [
    "flagrate.max()"
   ]
  },
  {
   "cell_type": "code",
   "execution_count": 45,
   "metadata": {
    "collapsed": false
   },
   "outputs": [
    {
     "data": {
      "image/png": "[encoded data removed]",
      "text/plain": [
       "<matplotlib.figure.Figure at 0x11bd28a50>"
      ]
     },
     "metadata": {},
     "output_type": "display_data"
    }
   ],
   "source": [
    "#Plotting histogram of flagrate\n",
    "plt.hist(flagrate.flagrate)\n",
    "plt.title('Histogram of Flagrate', size=16)\n",
    "plt.ylabel('Frequency of batches in each bin')\n",
    "plt.xlabel('Fraction of flagged/unflagged samples per batch')\n",
    "plt.show()"
   ]
  },
  {
   "cell_type": "markdown",
   "metadata": {},
   "source": [
    "## Question 2<a class=\"anchor\" id=\"fifth-bullet\"></a>\n"
   ]
  },
  {
   "cell_type": "markdown",
   "metadata": {},
   "source": [
    "#### Metric2 is a measure of difference between all samples in a batch and a reference sample.  The absolute value of this metric is a useful measure of quality.  Plot the distribution of the absolute value of Metric2 for flagged and unflagged samples.  Include this derived metric in your answers for subsequent questions.\n"
   ]
  },
  {
   "cell_type": "code",
   "execution_count": 46,
   "metadata": {
    "collapsed": false
   },
   "outputs": [
    {
     "data": {
      "text/html": [
       "<div>\n",
       "<table border=\"1\" class=\"dataframe\">\n",
       "  <thead>\n",
       "    <tr style=\"text-align: right;\">\n",
       "      <th></th>\n",
       "      <th>id</th>\n",
       "      <th>batch</th>\n",
       "      <th>flagged</th>\n",
       "      <th>sample_type</th>\n",
       "      <th>Metric3</th>\n",
       "      <th>Metric2</th>\n",
       "      <th>Metric4</th>\n",
       "      <th>Metric1</th>\n",
       "      <th>Metric1_abs</th>\n",
       "      <th>Metric2_abs</th>\n",
       "      <th>Metric3_abs</th>\n",
       "      <th>Metric4_abs</th>\n",
       "    </tr>\n",
       "  </thead>\n",
       "  <tbody>\n",
       "    <tr>\n",
       "      <th>0</th>\n",
       "      <td>0</td>\n",
       "      <td>batch01</td>\n",
       "      <td>0.0</td>\n",
       "      <td>1.0</td>\n",
       "      <td>0.431558</td>\n",
       "      <td>0.861893</td>\n",
       "      <td>-0.193786</td>\n",
       "      <td>0.294783</td>\n",
       "      <td>0.294783</td>\n",
       "      <td>0.861893</td>\n",
       "      <td>0.431558</td>\n",
       "      <td>0.193786</td>\n",
       "    </tr>\n",
       "    <tr>\n",
       "      <th>1</th>\n",
       "      <td>1</td>\n",
       "      <td>batch01</td>\n",
       "      <td>0.0</td>\n",
       "      <td>2.0</td>\n",
       "      <td>1.330214</td>\n",
       "      <td>0.011943</td>\n",
       "      <td>-0.755635</td>\n",
       "      <td>-0.590977</td>\n",
       "      <td>0.590977</td>\n",
       "      <td>0.011943</td>\n",
       "      <td>1.330214</td>\n",
       "      <td>0.755635</td>\n",
       "    </tr>\n",
       "    <tr>\n",
       "      <th>2</th>\n",
       "      <td>2</td>\n",
       "      <td>batch01</td>\n",
       "      <td>0.0</td>\n",
       "      <td>2.0</td>\n",
       "      <td>0.519384</td>\n",
       "      <td>0.872310</td>\n",
       "      <td>-0.342511</td>\n",
       "      <td>-0.968805</td>\n",
       "      <td>0.968805</td>\n",
       "      <td>0.872310</td>\n",
       "      <td>0.519384</td>\n",
       "      <td>0.342511</td>\n",
       "    </tr>\n",
       "    <tr>\n",
       "      <th>3</th>\n",
       "      <td>3</td>\n",
       "      <td>batch01</td>\n",
       "      <td>0.0</td>\n",
       "      <td>2.0</td>\n",
       "      <td>-0.229138</td>\n",
       "      <td>-0.713640</td>\n",
       "      <td>-1.053085</td>\n",
       "      <td>0.042864</td>\n",
       "      <td>0.042864</td>\n",
       "      <td>0.713640</td>\n",
       "      <td>0.229138</td>\n",
       "      <td>1.053085</td>\n",
       "    </tr>\n",
       "    <tr>\n",
       "      <th>4</th>\n",
       "      <td>4</td>\n",
       "      <td>batch01</td>\n",
       "      <td>0.0</td>\n",
       "      <td>2.0</td>\n",
       "      <td>0.834333</td>\n",
       "      <td>0.077469</td>\n",
       "      <td>0.054088</td>\n",
       "      <td>-0.109026</td>\n",
       "      <td>0.109026</td>\n",
       "      <td>0.077469</td>\n",
       "      <td>0.834333</td>\n",
       "      <td>0.054088</td>\n",
       "    </tr>\n",
       "  </tbody>\n",
       "</table>\n",
       "</div>"
      ],
      "text/plain": [
       "   id    batch  flagged  sample_type   Metric3   Metric2   Metric4   Metric1  \\\n",
       "0   0  batch01      0.0          1.0  0.431558  0.861893 -0.193786  0.294783   \n",
       "1   1  batch01      0.0          2.0  1.330214  0.011943 -0.755635 -0.590977   \n",
       "2   2  batch01      0.0          2.0  0.519384  0.872310 -0.342511 -0.968805   \n",
       "3   3  batch01      0.0          2.0 -0.229138 -0.713640 -1.053085  0.042864   \n",
       "4   4  batch01      0.0          2.0  0.834333  0.077469  0.054088 -0.109026   \n",
       "\n",
       "   Metric1_abs  Metric2_abs  Metric3_abs  Metric4_abs  \n",
       "0     0.294783     0.861893     0.431558     0.193786  \n",
       "1     0.590977     0.011943     1.330214     0.755635  \n",
       "2     0.968805     0.872310     0.519384     0.342511  \n",
       "3     0.042864     0.713640     0.229138     1.053085  \n",
       "4     0.109026     0.077469     0.834333     0.054088  "
      ]
     },
     "execution_count": 46,
     "metadata": {},
     "output_type": "execute_result"
    }
   ],
   "source": [
    "well_clean_final['Metric1_abs'] = abs(well_clean_final['Metric1'])\n",
    "\n",
    "well_clean_final['Metric2_abs'] = abs(well_clean_final['Metric2'])\n",
    "\n",
    "well_clean_final['Metric3_abs'] = abs(well_clean_final['Metric3'])\n",
    "\n",
    "well_clean_final['Metric4_abs'] = abs(well_clean_final['Metric4'])\n",
    "\n",
    "well_clean_final.head()"
   ]
  },
  {
   "cell_type": "code",
   "execution_count": 47,
   "metadata": {
    "collapsed": false
   },
   "outputs": [
    {
     "data": {
      "text/plain": [
       "0.012702612816099999"
      ]
     },
     "execution_count": 47,
     "metadata": {},
     "output_type": "execute_result"
    }
   ],
   "source": [
    "(well_clean_final[well_clean_final['flagged'] == 1].Metric2_abs).min()"
   ]
  },
  {
   "cell_type": "code",
   "execution_count": 48,
   "metadata": {
    "collapsed": false
   },
   "outputs": [
    {
     "data": {
      "image/png": "[encoded data removed]",
      "text/plain": [
       "<matplotlib.figure.Figure at 0x11c333610>"
      ]
     },
     "metadata": {},
     "output_type": "display_data"
    }
   ],
   "source": [
    "plt.hist(well_clean_final[well_clean_final['flagged'] == 1].Metric2_abs)\n",
    "plt.title('Frequency Distribution of Metric 2(abs) for Flagged Data', size = 14)\n",
    "plt.ylabel('Frequency')\n",
    "plt.xlabel('Absolute value of Metric 2')\n",
    "plt.tight_layout()\n",
    "plt.show()"
   ]
  },
  {
   "cell_type": "code",
   "execution_count": 49,
   "metadata": {
    "collapsed": false
   },
   "outputs": [
    {
     "data": {
      "image/png": "[encoded data removed]",
      "text/plain": [
       "<matplotlib.figure.Figure at 0x11c72e850>"
      ]
     },
     "metadata": {},
     "output_type": "display_data"
    }
   ],
   "source": [
    "plt.hist(well_clean_final[well_clean_final['flagged'] == 0].Metric2_abs, color='grey')\n",
    "plt.title('Frequency Distribution of Metric 2(abs) for Not-Flagged Data', size = 14)\n",
    "plt.tight_layout()\n",
    "plt.ylabel('Frequency')\n",
    "plt.xlabel('Absolute value of Metric 2')\n",
    "plt.show()"
   ]
  },
  {
   "cell_type": "code",
   "execution_count": 50,
   "metadata": {
    "collapsed": false
   },
   "outputs": [
    {
     "data": {
      "text/plain": [
       "2187"
      ]
     },
     "execution_count": 50,
     "metadata": {},
     "output_type": "execute_result"
    }
   ],
   "source": [
    "(well_clean_final[well_clean_final['flagged'] == 0].Metric2_abs < 0.25).sum() \n",
    "#Just doing a quick check to make sure the y-axis on my histogram makes sense"
   ]
  },
  {
   "cell_type": "markdown",
   "metadata": {},
   "source": [
    "## Question 3<a class=\"anchor\" id=\"sixth-bullet\"></a>\n"
   ]
  },
  {
   "cell_type": "markdown",
   "metadata": {},
   "source": [
    "#### Reagent performance is usually evaluated by aggregating metrics for samples within each batch and investigating the differences between batch aggregated measures across lots of reagent.  For example, to get the batch aggregate average of Metric1, you would group well data by batch and take the average of Metric1, then you would use this data for analysis of reagent performance.  Provide a table with a row for each lot (from the “reagent” column in the “batch” table”) and columns that indicate the average and standard error of the mean (SEM) for within batch sample flag rate and the batch aggregated mean of each metric.   Are there lots that perform differently?  Justify your answer with a statistical test."
   ]
  },
  {
   "cell_type": "code",
   "execution_count": 51,
   "metadata": {
    "collapsed": false
   },
   "outputs": [
    {
     "data": {
      "text/plain": [
       "Reagent1_lot04    26\n",
       "Reagent1_lot02    19\n",
       "Reagent1_lot03    17\n",
       "Reagent1_lot01     5\n",
       "Name: Reagent1, dtype: int64"
      ]
     },
     "execution_count": 51,
     "metadata": {},
     "output_type": "execute_result"
    }
   ],
   "source": [
    "batch.Reagent1.value_counts()"
   ]
  },
  {
   "cell_type": "code",
   "execution_count": 52,
   "metadata": {
    "collapsed": false
   },
   "outputs": [
    {
     "data": {
      "text/html": [
       "<div>\n",
       "<table border=\"1\" class=\"dataframe\">\n",
       "  <thead>\n",
       "    <tr style=\"text-align: right;\">\n",
       "      <th></th>\n",
       "      <th>id</th>\n",
       "      <th>batch</th>\n",
       "      <th>day</th>\n",
       "      <th>Reagent1</th>\n",
       "      <th>Protocol</th>\n",
       "    </tr>\n",
       "  </thead>\n",
       "  <tbody>\n",
       "    <tr>\n",
       "      <th>0</th>\n",
       "      <td>0</td>\n",
       "      <td>batch01</td>\n",
       "      <td>day01</td>\n",
       "      <td>Reagent1_lot04</td>\n",
       "      <td>protocol_01</td>\n",
       "    </tr>\n",
       "    <tr>\n",
       "      <th>1</th>\n",
       "      <td>1</td>\n",
       "      <td>batch02</td>\n",
       "      <td>day02</td>\n",
       "      <td>Reagent1_lot02</td>\n",
       "      <td>protocol_01</td>\n",
       "    </tr>\n",
       "    <tr>\n",
       "      <th>2</th>\n",
       "      <td>2</td>\n",
       "      <td>batch03</td>\n",
       "      <td>day02</td>\n",
       "      <td>Reagent1_lot02</td>\n",
       "      <td>protocol_01</td>\n",
       "    </tr>\n",
       "    <tr>\n",
       "      <th>3</th>\n",
       "      <td>3</td>\n",
       "      <td>batch06</td>\n",
       "      <td>day03</td>\n",
       "      <td>Reagent1_lot02</td>\n",
       "      <td>protocol_01</td>\n",
       "    </tr>\n",
       "    <tr>\n",
       "      <th>4</th>\n",
       "      <td>4</td>\n",
       "      <td>batch07</td>\n",
       "      <td>day03</td>\n",
       "      <td>Reagent1_lot02</td>\n",
       "      <td>protocol_01</td>\n",
       "    </tr>\n",
       "  </tbody>\n",
       "</table>\n",
       "</div>"
      ],
      "text/plain": [
       "   id    batch    day        Reagent1     Protocol\n",
       "0   0  batch01  day01  Reagent1_lot04  protocol_01\n",
       "1   1  batch02  day02  Reagent1_lot02  protocol_01\n",
       "2   2  batch03  day02  Reagent1_lot02  protocol_01\n",
       "3   3  batch06  day03  Reagent1_lot02  protocol_01\n",
       "4   4  batch07  day03  Reagent1_lot02  protocol_01"
      ]
     },
     "execution_count": 52,
     "metadata": {},
     "output_type": "execute_result"
    }
   ],
   "source": [
    "batch.head()"
   ]
  },
  {
   "cell_type": "code",
   "execution_count": 53,
   "metadata": {
    "collapsed": false
   },
   "outputs": [
    {
     "data": {
      "text/html": [
       "<div>\n",
       "<table border=\"1\" class=\"dataframe\">\n",
       "  <thead>\n",
       "    <tr style=\"text-align: right;\">\n",
       "      <th></th>\n",
       "      <th>batch</th>\n",
       "      <th>flagged</th>\n",
       "      <th>sample_type</th>\n",
       "      <th>Metric3</th>\n",
       "      <th>Metric2</th>\n",
       "      <th>Metric4</th>\n",
       "      <th>Metric1</th>\n",
       "      <th>Metric1_abs</th>\n",
       "      <th>Metric2_abs</th>\n",
       "      <th>Metric3_abs</th>\n",
       "      <th>Metric4_abs</th>\n",
       "    </tr>\n",
       "  </thead>\n",
       "  <tbody>\n",
       "    <tr>\n",
       "      <th>0</th>\n",
       "      <td>batch01</td>\n",
       "      <td>11.0</td>\n",
       "      <td>125.0</td>\n",
       "      <td>23.848108</td>\n",
       "      <td>-7.042390</td>\n",
       "      <td>-51.079632</td>\n",
       "      <td>13.654480</td>\n",
       "      <td>70.731588</td>\n",
       "      <td>65.762320</td>\n",
       "      <td>70.158631</td>\n",
       "      <td>54.535017</td>\n",
       "    </tr>\n",
       "    <tr>\n",
       "      <th>1</th>\n",
       "      <td>batch02</td>\n",
       "      <td>0.0</td>\n",
       "      <td>94.0</td>\n",
       "      <td>72.808618</td>\n",
       "      <td>0.659266</td>\n",
       "      <td>-15.747731</td>\n",
       "      <td>-26.051738</td>\n",
       "      <td>39.387123</td>\n",
       "      <td>32.460283</td>\n",
       "      <td>75.506674</td>\n",
       "      <td>44.666838</td>\n",
       "    </tr>\n",
       "    <tr>\n",
       "      <th>2</th>\n",
       "      <td>batch03</td>\n",
       "      <td>9.0</td>\n",
       "      <td>116.0</td>\n",
       "      <td>59.750953</td>\n",
       "      <td>3.572488</td>\n",
       "      <td>-12.182852</td>\n",
       "      <td>5.278436</td>\n",
       "      <td>64.355673</td>\n",
       "      <td>56.069266</td>\n",
       "      <td>97.560169</td>\n",
       "      <td>62.584551</td>\n",
       "    </tr>\n",
       "    <tr>\n",
       "      <th>3</th>\n",
       "      <td>batch04</td>\n",
       "      <td>2.0</td>\n",
       "      <td>120.0</td>\n",
       "      <td>36.971431</td>\n",
       "      <td>-6.178637</td>\n",
       "      <td>-30.256649</td>\n",
       "      <td>-13.460169</td>\n",
       "      <td>57.704430</td>\n",
       "      <td>51.049368</td>\n",
       "      <td>56.344866</td>\n",
       "      <td>48.521597</td>\n",
       "    </tr>\n",
       "    <tr>\n",
       "      <th>4</th>\n",
       "      <td>batch06</td>\n",
       "      <td>17.0</td>\n",
       "      <td>89.0</td>\n",
       "      <td>67.431094</td>\n",
       "      <td>13.224166</td>\n",
       "      <td>-14.586471</td>\n",
       "      <td>-41.097284</td>\n",
       "      <td>44.636631</td>\n",
       "      <td>77.816036</td>\n",
       "      <td>68.788089</td>\n",
       "      <td>36.952665</td>\n",
       "    </tr>\n",
       "  </tbody>\n",
       "</table>\n",
       "</div>"
      ],
      "text/plain": [
       "     batch  flagged  sample_type    Metric3    Metric2    Metric4    Metric1  \\\n",
       "0  batch01     11.0        125.0  23.848108  -7.042390 -51.079632  13.654480   \n",
       "1  batch02      0.0         94.0  72.808618   0.659266 -15.747731 -26.051738   \n",
       "2  batch03      9.0        116.0  59.750953   3.572488 -12.182852   5.278436   \n",
       "3  batch04      2.0        120.0  36.971431  -6.178637 -30.256649 -13.460169   \n",
       "4  batch06     17.0         89.0  67.431094  13.224166 -14.586471 -41.097284   \n",
       "\n",
       "   Metric1_abs  Metric2_abs  Metric3_abs  Metric4_abs  \n",
       "0    70.731588    65.762320    70.158631    54.535017  \n",
       "1    39.387123    32.460283    75.506674    44.666838  \n",
       "2    64.355673    56.069266    97.560169    62.584551  \n",
       "3    57.704430    51.049368    56.344866    48.521597  \n",
       "4    44.636631    77.816036    68.788089    36.952665  "
      ]
     },
     "execution_count": 53,
     "metadata": {},
     "output_type": "execute_result"
    }
   ],
   "source": [
    "#beginning to calculate flagrate per batch\n",
    "flagrate = well_clean_final.groupby('batch').sum()\n",
    "del flagrate['id']\n",
    "flagrate.reset_index(inplace=True)\n",
    "flagrate.head()"
   ]
  },
  {
   "cell_type": "code",
   "execution_count": 54,
   "metadata": {
    "collapsed": false
   },
   "outputs": [],
   "source": [
    "#dividing the # of flagged instance over the total number of instance to get flagrate\n",
    "\n",
    "for i in range(0,len(flagrate)):\n",
    "    flagrate.replace(flagrate.flagged.iloc[i], flagrate.flagged.iloc[i]/\n",
    "                       well_clean_final.groupby('batch').size()[i], inplace=True)"
   ]
  },
  {
   "cell_type": "code",
   "execution_count": 55,
   "metadata": {
    "collapsed": false
   },
   "outputs": [
    {
     "data": {
      "text/html": [
       "<div>\n",
       "<table border=\"1\" class=\"dataframe\">\n",
       "  <thead>\n",
       "    <tr style=\"text-align: right;\">\n",
       "      <th></th>\n",
       "      <th>batch</th>\n",
       "      <th>flagrate</th>\n",
       "      <th>sample_type</th>\n",
       "      <th>Metric3</th>\n",
       "      <th>Metric2</th>\n",
       "      <th>Metric4</th>\n",
       "      <th>Metric1</th>\n",
       "      <th>Metric1_abs</th>\n",
       "      <th>Metric2_abs</th>\n",
       "      <th>Metric3_abs</th>\n",
       "      <th>Metric4_abs</th>\n",
       "    </tr>\n",
       "  </thead>\n",
       "  <tbody>\n",
       "    <tr>\n",
       "      <th>0</th>\n",
       "      <td>batch01</td>\n",
       "      <td>1.471375e-03</td>\n",
       "      <td>125.0</td>\n",
       "      <td>23.848108</td>\n",
       "      <td>-7.042390</td>\n",
       "      <td>-51.079632</td>\n",
       "      <td>13.654480</td>\n",
       "      <td>70.731588</td>\n",
       "      <td>65.762320</td>\n",
       "      <td>70.158631</td>\n",
       "      <td>54.535017</td>\n",
       "    </tr>\n",
       "    <tr>\n",
       "      <th>1</th>\n",
       "      <td>batch02</td>\n",
       "      <td>0.000000e+00</td>\n",
       "      <td>94.0</td>\n",
       "      <td>72.808618</td>\n",
       "      <td>0.659266</td>\n",
       "      <td>-15.747731</td>\n",
       "      <td>-26.051738</td>\n",
       "      <td>39.387123</td>\n",
       "      <td>32.460283</td>\n",
       "      <td>75.506674</td>\n",
       "      <td>44.666838</td>\n",
       "    </tr>\n",
       "    <tr>\n",
       "      <th>2</th>\n",
       "      <td>batch03</td>\n",
       "      <td>1.351558e-05</td>\n",
       "      <td>116.0</td>\n",
       "      <td>59.750953</td>\n",
       "      <td>3.572488</td>\n",
       "      <td>-12.182852</td>\n",
       "      <td>5.278436</td>\n",
       "      <td>64.355673</td>\n",
       "      <td>56.069266</td>\n",
       "      <td>97.560169</td>\n",
       "      <td>62.584551</td>\n",
       "    </tr>\n",
       "    <tr>\n",
       "      <th>3</th>\n",
       "      <td>batch04</td>\n",
       "      <td>5.692002e-16</td>\n",
       "      <td>120.0</td>\n",
       "      <td>36.971431</td>\n",
       "      <td>-6.178637</td>\n",
       "      <td>-30.256649</td>\n",
       "      <td>-13.460169</td>\n",
       "      <td>57.704430</td>\n",
       "      <td>51.049368</td>\n",
       "      <td>56.344866</td>\n",
       "      <td>48.521597</td>\n",
       "    </tr>\n",
       "    <tr>\n",
       "      <th>4</th>\n",
       "      <td>batch06</td>\n",
       "      <td>2.170582e-03</td>\n",
       "      <td>89.0</td>\n",
       "      <td>67.431094</td>\n",
       "      <td>13.224166</td>\n",
       "      <td>-14.586471</td>\n",
       "      <td>-41.097284</td>\n",
       "      <td>44.636631</td>\n",
       "      <td>77.816036</td>\n",
       "      <td>68.788089</td>\n",
       "      <td>36.952665</td>\n",
       "    </tr>\n",
       "  </tbody>\n",
       "</table>\n",
       "</div>"
      ],
      "text/plain": [
       "     batch      flagrate  sample_type    Metric3    Metric2    Metric4  \\\n",
       "0  batch01  1.471375e-03        125.0  23.848108  -7.042390 -51.079632   \n",
       "1  batch02  0.000000e+00         94.0  72.808618   0.659266 -15.747731   \n",
       "2  batch03  1.351558e-05        116.0  59.750953   3.572488 -12.182852   \n",
       "3  batch04  5.692002e-16        120.0  36.971431  -6.178637 -30.256649   \n",
       "4  batch06  2.170582e-03         89.0  67.431094  13.224166 -14.586471   \n",
       "\n",
       "     Metric1  Metric1_abs  Metric2_abs  Metric3_abs  Metric4_abs  \n",
       "0  13.654480    70.731588    65.762320    70.158631    54.535017  \n",
       "1 -26.051738    39.387123    32.460283    75.506674    44.666838  \n",
       "2   5.278436    64.355673    56.069266    97.560169    62.584551  \n",
       "3 -13.460169    57.704430    51.049368    56.344866    48.521597  \n",
       "4 -41.097284    44.636631    77.816036    68.788089    36.952665  "
      ]
     },
     "execution_count": 55,
     "metadata": {},
     "output_type": "execute_result"
    }
   ],
   "source": [
    "#renaming the column more appropriately\n",
    "flagrate.rename(columns={'flagged': 'flagrate'},inplace=True)\n",
    "flagrate.head()"
   ]
  },
  {
   "cell_type": "code",
   "execution_count": 56,
   "metadata": {
    "collapsed": false
   },
   "outputs": [],
   "source": [
    "#selecting relevant columns for further analyses\n",
    "well_means = flagrate.ix[:,[0,1,7,8,9,10]]"
   ]
  },
  {
   "cell_type": "code",
   "execution_count": 57,
   "metadata": {
    "collapsed": false
   },
   "outputs": [
    {
     "data": {
      "text/html": [
       "<div>\n",
       "<table border=\"1\" class=\"dataframe\">\n",
       "  <thead>\n",
       "    <tr style=\"text-align: right;\">\n",
       "      <th></th>\n",
       "      <th>batch</th>\n",
       "      <th>flagrate</th>\n",
       "      <th>Metric1_abs</th>\n",
       "      <th>Metric2_abs</th>\n",
       "      <th>Metric3_abs</th>\n",
       "      <th>Metric4_abs</th>\n",
       "    </tr>\n",
       "  </thead>\n",
       "  <tbody>\n",
       "    <tr>\n",
       "      <th>0</th>\n",
       "      <td>batch01</td>\n",
       "      <td>1.471375e-03</td>\n",
       "      <td>70.731588</td>\n",
       "      <td>65.762320</td>\n",
       "      <td>70.158631</td>\n",
       "      <td>54.535017</td>\n",
       "    </tr>\n",
       "    <tr>\n",
       "      <th>1</th>\n",
       "      <td>batch02</td>\n",
       "      <td>0.000000e+00</td>\n",
       "      <td>39.387123</td>\n",
       "      <td>32.460283</td>\n",
       "      <td>75.506674</td>\n",
       "      <td>44.666838</td>\n",
       "    </tr>\n",
       "    <tr>\n",
       "      <th>2</th>\n",
       "      <td>batch03</td>\n",
       "      <td>1.351558e-05</td>\n",
       "      <td>64.355673</td>\n",
       "      <td>56.069266</td>\n",
       "      <td>97.560169</td>\n",
       "      <td>62.584551</td>\n",
       "    </tr>\n",
       "    <tr>\n",
       "      <th>3</th>\n",
       "      <td>batch04</td>\n",
       "      <td>5.692002e-16</td>\n",
       "      <td>57.704430</td>\n",
       "      <td>51.049368</td>\n",
       "      <td>56.344866</td>\n",
       "      <td>48.521597</td>\n",
       "    </tr>\n",
       "    <tr>\n",
       "      <th>4</th>\n",
       "      <td>batch06</td>\n",
       "      <td>2.170582e-03</td>\n",
       "      <td>44.636631</td>\n",
       "      <td>77.816036</td>\n",
       "      <td>68.788089</td>\n",
       "      <td>36.952665</td>\n",
       "    </tr>\n",
       "  </tbody>\n",
       "</table>\n",
       "</div>"
      ],
      "text/plain": [
       "     batch      flagrate  Metric1_abs  Metric2_abs  Metric3_abs  Metric4_abs\n",
       "0  batch01  1.471375e-03    70.731588    65.762320    70.158631    54.535017\n",
       "1  batch02  0.000000e+00    39.387123    32.460283    75.506674    44.666838\n",
       "2  batch03  1.351558e-05    64.355673    56.069266    97.560169    62.584551\n",
       "3  batch04  5.692002e-16    57.704430    51.049368    56.344866    48.521597\n",
       "4  batch06  2.170582e-03    44.636631    77.816036    68.788089    36.952665"
      ]
     },
     "execution_count": 57,
     "metadata": {},
     "output_type": "execute_result"
    }
   ],
   "source": [
    "well_means.head()"
   ]
  },
  {
   "cell_type": "code",
   "execution_count": 58,
   "metadata": {
    "collapsed": false
   },
   "outputs": [
    {
     "data": {
      "text/plain": [
       "62"
      ]
     },
     "execution_count": 58,
     "metadata": {},
     "output_type": "execute_result"
    }
   ],
   "source": [
    "#Merging the dataframe containing the mean of the metrics from well dataset with the batch dataset\n",
    "reagents = pd.merge(well_means, batch, on=['batch'], how='inner')\n",
    "len(reagents)"
   ]
  },
  {
   "cell_type": "code",
   "execution_count": 59,
   "metadata": {
    "collapsed": false
   },
   "outputs": [
    {
     "data": {
      "text/html": [
       "<div>\n",
       "<table border=\"1\" class=\"dataframe\">\n",
       "  <thead>\n",
       "    <tr style=\"text-align: right;\">\n",
       "      <th></th>\n",
       "      <th>Reagent1</th>\n",
       "      <th>flagrate_sem</th>\n",
       "      <th>Metric1_abs</th>\n",
       "      <th>Metric2_abs</th>\n",
       "      <th>Metric3_abs</th>\n",
       "      <th>Metric4_abs</th>\n",
       "      <th>id</th>\n",
       "    </tr>\n",
       "  </thead>\n",
       "  <tbody>\n",
       "    <tr>\n",
       "      <th>0</th>\n",
       "      <td>Reagent1_lot01</td>\n",
       "      <td>0.000473</td>\n",
       "      <td>13.683555</td>\n",
       "      <td>13.035451</td>\n",
       "      <td>21.564566</td>\n",
       "      <td>15.422345</td>\n",
       "      <td>10.709809</td>\n",
       "    </tr>\n",
       "    <tr>\n",
       "      <th>1</th>\n",
       "      <td>Reagent1_lot02</td>\n",
       "      <td>0.161779</td>\n",
       "      <td>11.658333</td>\n",
       "      <td>21.485413</td>\n",
       "      <td>19.887249</td>\n",
       "      <td>10.337683</td>\n",
       "      <td>5.851722</td>\n",
       "    </tr>\n",
       "    <tr>\n",
       "      <th>2</th>\n",
       "      <td>Reagent1_lot03</td>\n",
       "      <td>0.000393</td>\n",
       "      <td>9.956597</td>\n",
       "      <td>7.359168</td>\n",
       "      <td>15.514746</td>\n",
       "      <td>22.240798</td>\n",
       "      <td>5.139804</td>\n",
       "    </tr>\n",
       "    <tr>\n",
       "      <th>3</th>\n",
       "      <td>Reagent1_lot04</td>\n",
       "      <td>0.041805</td>\n",
       "      <td>14.531967</td>\n",
       "      <td>19.257458</td>\n",
       "      <td>21.019433</td>\n",
       "      <td>15.825740</td>\n",
       "      <td>9.559530</td>\n",
       "    </tr>\n",
       "  </tbody>\n",
       "</table>\n",
       "</div>"
      ],
      "text/plain": [
       "         Reagent1  flagrate_sem  Metric1_abs  Metric2_abs  Metric3_abs  \\\n",
       "0  Reagent1_lot01      0.000473    13.683555    13.035451    21.564566   \n",
       "1  Reagent1_lot02      0.161779    11.658333    21.485413    19.887249   \n",
       "2  Reagent1_lot03      0.000393     9.956597     7.359168    15.514746   \n",
       "3  Reagent1_lot04      0.041805    14.531967    19.257458    21.019433   \n",
       "\n",
       "   Metric4_abs         id  \n",
       "0    15.422345  10.709809  \n",
       "1    10.337683   5.851722  \n",
       "2    22.240798   5.139804  \n",
       "3    15.825740   9.559530  "
      ]
     },
     "execution_count": 59,
     "metadata": {},
     "output_type": "execute_result"
    }
   ],
   "source": [
    "#beginning to calculate the sem for flagrate - first by calculating the standard deviation of \n",
    "#flagrate and then subsequently i will divide by the squareroot of n\n",
    "reagents_std = reagents.groupby(['Reagent1']).std()\n",
    "reagents_std.rename(columns={'flagrate': 'flagrate_sem'},inplace=True)\n",
    "reagents_std.reset_index(inplace=True)\n",
    "reagents_std"
   ]
  },
  {
   "cell_type": "code",
   "execution_count": 60,
   "metadata": {
    "collapsed": true
   },
   "outputs": [],
   "source": [
    "import math"
   ]
  },
  {
   "cell_type": "code",
   "execution_count": 63,
   "metadata": {
    "collapsed": false
   },
   "outputs": [],
   "source": [
    "#calculating the sem for the flagrate and updating the dataframe\n",
    "for i in range(0,len(reagents_std)):\n",
    "    reagents_std.replace(reagents_std['flagrate_sem'].iloc[0], reagents_std['flagrate_sem'].iloc[0]/\n",
    "                       math.sqrt(reagents.groupby(['Reagent1']).size()[0]),inplace=True)"
   ]
  },
  {
   "cell_type": "code",
   "execution_count": 64,
   "metadata": {
    "collapsed": false
   },
   "outputs": [
    {
     "data": {
      "text/html": [
       "<div>\n",
       "<table border=\"1\" class=\"dataframe\">\n",
       "  <thead>\n",
       "    <tr style=\"text-align: right;\">\n",
       "      <th></th>\n",
       "      <th>Reagent1</th>\n",
       "      <th>flagrate_sem</th>\n",
       "      <th>Metric1_abs</th>\n",
       "      <th>Metric2_abs</th>\n",
       "      <th>Metric3_abs</th>\n",
       "      <th>Metric4_abs</th>\n",
       "      <th>id</th>\n",
       "    </tr>\n",
       "  </thead>\n",
       "  <tbody>\n",
       "    <tr>\n",
       "      <th>0</th>\n",
       "      <td>Reagent1_lot01</td>\n",
       "      <td>0.000019</td>\n",
       "      <td>13.683555</td>\n",
       "      <td>13.035451</td>\n",
       "      <td>21.564566</td>\n",
       "      <td>15.422345</td>\n",
       "      <td>10.709809</td>\n",
       "    </tr>\n",
       "    <tr>\n",
       "      <th>1</th>\n",
       "      <td>Reagent1_lot02</td>\n",
       "      <td>0.161779</td>\n",
       "      <td>11.658333</td>\n",
       "      <td>21.485413</td>\n",
       "      <td>19.887249</td>\n",
       "      <td>10.337683</td>\n",
       "      <td>5.851722</td>\n",
       "    </tr>\n",
       "    <tr>\n",
       "      <th>2</th>\n",
       "      <td>Reagent1_lot03</td>\n",
       "      <td>0.000393</td>\n",
       "      <td>9.956597</td>\n",
       "      <td>7.359168</td>\n",
       "      <td>15.514746</td>\n",
       "      <td>22.240798</td>\n",
       "      <td>5.139804</td>\n",
       "    </tr>\n",
       "    <tr>\n",
       "      <th>3</th>\n",
       "      <td>Reagent1_lot04</td>\n",
       "      <td>0.041805</td>\n",
       "      <td>14.531967</td>\n",
       "      <td>19.257458</td>\n",
       "      <td>21.019433</td>\n",
       "      <td>15.825740</td>\n",
       "      <td>9.559530</td>\n",
       "    </tr>\n",
       "  </tbody>\n",
       "</table>\n",
       "</div>"
      ],
      "text/plain": [
       "         Reagent1  flagrate_sem  Metric1_abs  Metric2_abs  Metric3_abs  \\\n",
       "0  Reagent1_lot01      0.000019    13.683555    13.035451    21.564566   \n",
       "1  Reagent1_lot02      0.161779    11.658333    21.485413    19.887249   \n",
       "2  Reagent1_lot03      0.000393     9.956597     7.359168    15.514746   \n",
       "3  Reagent1_lot04      0.041805    14.531967    19.257458    21.019433   \n",
       "\n",
       "   Metric4_abs         id  \n",
       "0    15.422345  10.709809  \n",
       "1    10.337683   5.851722  \n",
       "2    22.240798   5.139804  \n",
       "3    15.825740   9.559530  "
      ]
     },
     "execution_count": 64,
     "metadata": {},
     "output_type": "execute_result"
    }
   ],
   "source": [
    "reagents_std"
   ]
  },
  {
   "cell_type": "code",
   "execution_count": 65,
   "metadata": {
    "collapsed": false
   },
   "outputs": [
    {
     "data": {
      "text/html": [
       "<div>\n",
       "<table border=\"1\" class=\"dataframe\">\n",
       "  <thead>\n",
       "    <tr style=\"text-align: right;\">\n",
       "      <th></th>\n",
       "      <th>Reagent1</th>\n",
       "      <th>flagrate</th>\n",
       "      <th>flagrate_sem</th>\n",
       "      <th>Metric1_abs</th>\n",
       "      <th>Metric2_abs</th>\n",
       "      <th>Metric3_abs</th>\n",
       "      <th>Metric4_abs</th>\n",
       "    </tr>\n",
       "  </thead>\n",
       "  <tbody>\n",
       "    <tr>\n",
       "      <th>0</th>\n",
       "      <td>Reagent1_lot01</td>\n",
       "      <td>0.000211</td>\n",
       "      <td>0.000019</td>\n",
       "      <td>38.792081</td>\n",
       "      <td>30.919927</td>\n",
       "      <td>58.025179</td>\n",
       "      <td>47.467986</td>\n",
       "    </tr>\n",
       "    <tr>\n",
       "      <th>1</th>\n",
       "      <td>Reagent1_lot02</td>\n",
       "      <td>0.054177</td>\n",
       "      <td>0.161779</td>\n",
       "      <td>43.656811</td>\n",
       "      <td>54.664940</td>\n",
       "      <td>59.733398</td>\n",
       "      <td>41.189509</td>\n",
       "    </tr>\n",
       "    <tr>\n",
       "      <th>2</th>\n",
       "      <td>Reagent1_lot03</td>\n",
       "      <td>0.000105</td>\n",
       "      <td>0.000393</td>\n",
       "      <td>39.756206</td>\n",
       "      <td>31.162554</td>\n",
       "      <td>48.181897</td>\n",
       "      <td>56.485913</td>\n",
       "    </tr>\n",
       "    <tr>\n",
       "      <th>3</th>\n",
       "      <td>Reagent1_lot04</td>\n",
       "      <td>0.008548</td>\n",
       "      <td>0.041805</td>\n",
       "      <td>44.761583</td>\n",
       "      <td>45.885483</td>\n",
       "      <td>58.091957</td>\n",
       "      <td>45.140729</td>\n",
       "    </tr>\n",
       "  </tbody>\n",
       "</table>\n",
       "</div>"
      ],
      "text/plain": [
       "         Reagent1  flagrate  flagrate_sem  Metric1_abs  Metric2_abs  \\\n",
       "0  Reagent1_lot01  0.000211      0.000019    38.792081    30.919927   \n",
       "1  Reagent1_lot02  0.054177      0.161779    43.656811    54.664940   \n",
       "2  Reagent1_lot03  0.000105      0.000393    39.756206    31.162554   \n",
       "3  Reagent1_lot04  0.008548      0.041805    44.761583    45.885483   \n",
       "\n",
       "   Metric3_abs  Metric4_abs  \n",
       "0    58.025179    47.467986  \n",
       "1    59.733398    41.189509  \n",
       "2    48.181897    56.485913  \n",
       "3    58.091957    45.140729  "
      ]
     },
     "execution_count": 65,
     "metadata": {},
     "output_type": "execute_result"
    }
   ],
   "source": [
    "#putting together a final table of key metrics for #3\n",
    "reagents_mean = reagents.groupby(['Reagent1']).mean()\n",
    "del reagents_mean['id']\n",
    "reagents_mean.reset_index(inplace=True)\n",
    "reagents_mean['flagrate_sem'] = reagents_std['flagrate_sem']\n",
    "reagents_mean = reagents_mean[['Reagent1','flagrate','flagrate_sem','Metric1_abs','Metric2_abs',\n",
    "                              'Metric3_abs','Metric4_abs']]\n",
    "#reordering the columns for clarity\n",
    "reagents_mean"
   ]
  },
  {
   "cell_type": "code",
   "execution_count": 66,
   "metadata": {
    "collapsed": false
   },
   "outputs": [
    {
     "data": {
      "image/png": "[encoded data removed]",
      "text/plain": [
       "<matplotlib.figure.Figure at 0x11c76e290>"
      ]
     },
     "metadata": {},
     "output_type": "display_data"
    }
   ],
   "source": [
    "#creating a plot of metrics by reagent\n",
    "fig = plt.figure(figsize=(14,8))\n",
    "ax = fig.add_subplot(111)\n",
    "wid = .2\n",
    "ind = np.arange(len(reagents_mean.Metric1_abs))\n",
    "plt.bar(ind, reagents_mean.Metric1_abs, color='grey', ecolor='black', width=.2,label='Metric1')\n",
    "plt.bar(ind+wid, reagents_mean.Metric2_abs, color='blue', ecolor='black', width=.2,label='Metric2')\n",
    "plt.bar(ind+wid+wid, reagents_mean.Metric3_abs, color='purple',ecolor='black', width=.2,label='Metric3')\n",
    "plt.bar(ind+3*wid, reagents_mean.Metric4_abs, color='red',ecolor='black', width=.2, label='Metric4')\n",
    "plt.legend(loc=2)\n",
    "plt.title('Absolute Value of Metrics by Reagent Lot', size=16)\n",
    "plt.ylabel('Absolute Value of Metrics', size=12)\n",
    "\n",
    "xTickMarks = [i for i in ['Reagent1_lot1','Reagent1_lot2','Reagent1_lot3','Reagent1_lot4']]\n",
    "ax.set_xticks(ind+2*wid)\n",
    "xtickNames = ax.set_xticklabels(xTickMarks, fontsize=8)\n",
    "plt.setp(xtickNames,fontsize=16)\n",
    "\n",
    "ax.legend(loc=2)\n",
    "plt.show()"
   ]
  },
  {
   "cell_type": "code",
   "execution_count": 67,
   "metadata": {
    "collapsed": false
   },
   "outputs": [
    {
     "data": {
      "image/png": "[encoded data removed]",
      "text/plain": [
       "<matplotlib.figure.Figure at 0x11c879350>"
      ]
     },
     "metadata": {},
     "output_type": "display_data"
    }
   ],
   "source": [
    "#creating a plot of flagrate by reagent\n",
    "fig = plt.figure(figsize=(14,8))\n",
    "ax = fig.add_subplot(111)\n",
    "wid = .2\n",
    "ind = np.arange(len(reagents_mean.Metric1_abs))\n",
    "plt.bar(ind, reagents_mean.flagrate, color='grey', ecolor='black', width=.2, yerr=reagents_mean.flagrate_sem)\n",
    "\n",
    "plt.title('Flagrate by Reagent Lot', size=16)\n",
    "plt.ylabel('Flagrate', size=12)\n",
    "\n",
    "xTickMarks = [i for i in ['Reagent1_lot1','Reagent1_lot2','Reagent1_lot3','Reagent1_lot4']]\n",
    "ax.set_xticks(ind+wid)\n",
    "xtickNames = ax.set_xticklabels(xTickMarks, fontsize=8)\n",
    "plt.setp(xtickNames,fontsize=16)\n",
    "\n",
    "plt.show()\n",
    "\n"
   ]
  },
  {
   "cell_type": "code",
   "execution_count": 68,
   "metadata": {
    "collapsed": false
   },
   "outputs": [
    {
     "data": {
      "text/html": [
       "<div>\n",
       "<table border=\"1\" class=\"dataframe\">\n",
       "  <thead>\n",
       "    <tr style=\"text-align: right;\">\n",
       "      <th></th>\n",
       "      <th>Reagent1</th>\n",
       "      <th>batch</th>\n",
       "      <th>flagrate</th>\n",
       "      <th>Metric1_abs</th>\n",
       "      <th>Metric2_abs</th>\n",
       "      <th>Metric3_abs</th>\n",
       "      <th>Metric4_abs</th>\n",
       "      <th>id</th>\n",
       "    </tr>\n",
       "  </thead>\n",
       "  <tbody>\n",
       "    <tr>\n",
       "      <th>0</th>\n",
       "      <td>Reagent1_lot01</td>\n",
       "      <td>batch46</td>\n",
       "      <td>0.000000e+00</td>\n",
       "      <td>28.125194</td>\n",
       "      <td>16.960094</td>\n",
       "      <td>29.975500</td>\n",
       "      <td>32.474330</td>\n",
       "      <td>45</td>\n",
       "    </tr>\n",
       "    <tr>\n",
       "      <th>1</th>\n",
       "      <td>Reagent1_lot01</td>\n",
       "      <td>batch47</td>\n",
       "      <td>1.503090e-13</td>\n",
       "      <td>42.461872</td>\n",
       "      <td>39.192014</td>\n",
       "      <td>61.763651</td>\n",
       "      <td>35.883335</td>\n",
       "      <td>46</td>\n",
       "    </tr>\n",
       "    <tr>\n",
       "      <th>2</th>\n",
       "      <td>Reagent1_lot01</td>\n",
       "      <td>batch65</td>\n",
       "      <td>1.057082e-03</td>\n",
       "      <td>34.433188</td>\n",
       "      <td>43.059673</td>\n",
       "      <td>85.737681</td>\n",
       "      <td>62.895400</td>\n",
       "      <td>64</td>\n",
       "    </tr>\n",
       "    <tr>\n",
       "      <th>3</th>\n",
       "      <td>Reagent1_lot01</td>\n",
       "      <td>batch66</td>\n",
       "      <td>0.000000e+00</td>\n",
       "      <td>28.065353</td>\n",
       "      <td>16.553910</td>\n",
       "      <td>44.374759</td>\n",
       "      <td>40.956149</td>\n",
       "      <td>65</td>\n",
       "    </tr>\n",
       "    <tr>\n",
       "      <th>4</th>\n",
       "      <td>Reagent1_lot01</td>\n",
       "      <td>batch67</td>\n",
       "      <td>5.692002e-16</td>\n",
       "      <td>60.874795</td>\n",
       "      <td>38.833945</td>\n",
       "      <td>68.274306</td>\n",
       "      <td>65.130714</td>\n",
       "      <td>66</td>\n",
       "    </tr>\n",
       "  </tbody>\n",
       "</table>\n",
       "</div>"
      ],
      "text/plain": [
       "         Reagent1    batch      flagrate  Metric1_abs  Metric2_abs  \\\n",
       "0  Reagent1_lot01  batch46  0.000000e+00    28.125194    16.960094   \n",
       "1  Reagent1_lot01  batch47  1.503090e-13    42.461872    39.192014   \n",
       "2  Reagent1_lot01  batch65  1.057082e-03    34.433188    43.059673   \n",
       "3  Reagent1_lot01  batch66  0.000000e+00    28.065353    16.553910   \n",
       "4  Reagent1_lot01  batch67  5.692002e-16    60.874795    38.833945   \n",
       "\n",
       "   Metric3_abs  Metric4_abs  id  \n",
       "0    29.975500    32.474330  45  \n",
       "1    61.763651    35.883335  46  \n",
       "2    85.737681    62.895400  64  \n",
       "3    44.374759    40.956149  65  \n",
       "4    68.274306    65.130714  66  "
      ]
     },
     "execution_count": 68,
     "metadata": {},
     "output_type": "execute_result"
    }
   ],
   "source": [
    "r = reagents.groupby(['Reagent1','batch']).sum()\n",
    "r.reset_index(inplace=True)\n",
    "r.head()"
   ]
  },
  {
   "cell_type": "code",
   "execution_count": 69,
   "metadata": {
    "collapsed": false
   },
   "outputs": [
    {
     "data": {
      "text/html": [
       "<div>\n",
       "<table border=\"1\" class=\"dataframe\">\n",
       "  <thead>\n",
       "    <tr style=\"text-align: right;\">\n",
       "      <th></th>\n",
       "      <th>Reagent1</th>\n",
       "      <th>batch</th>\n",
       "      <th>flagrate</th>\n",
       "      <th>Metric1_abs</th>\n",
       "      <th>Metric2_abs</th>\n",
       "      <th>Metric3_abs</th>\n",
       "      <th>Metric4_abs</th>\n",
       "      <th>id</th>\n",
       "    </tr>\n",
       "  </thead>\n",
       "  <tbody>\n",
       "    <tr>\n",
       "      <th>0</th>\n",
       "      <td>Reagent1_lot01</td>\n",
       "      <td>batch46</td>\n",
       "      <td>0.000000e+00</td>\n",
       "      <td>28.125194</td>\n",
       "      <td>16.960094</td>\n",
       "      <td>29.975500</td>\n",
       "      <td>32.474330</td>\n",
       "      <td>45</td>\n",
       "    </tr>\n",
       "    <tr>\n",
       "      <th>1</th>\n",
       "      <td>Reagent1_lot01</td>\n",
       "      <td>batch47</td>\n",
       "      <td>1.503090e-13</td>\n",
       "      <td>42.461872</td>\n",
       "      <td>39.192014</td>\n",
       "      <td>61.763651</td>\n",
       "      <td>35.883335</td>\n",
       "      <td>46</td>\n",
       "    </tr>\n",
       "    <tr>\n",
       "      <th>2</th>\n",
       "      <td>Reagent1_lot01</td>\n",
       "      <td>batch65</td>\n",
       "      <td>1.057082e-03</td>\n",
       "      <td>34.433188</td>\n",
       "      <td>43.059673</td>\n",
       "      <td>85.737681</td>\n",
       "      <td>62.895400</td>\n",
       "      <td>64</td>\n",
       "    </tr>\n",
       "    <tr>\n",
       "      <th>3</th>\n",
       "      <td>Reagent1_lot01</td>\n",
       "      <td>batch66</td>\n",
       "      <td>0.000000e+00</td>\n",
       "      <td>28.065353</td>\n",
       "      <td>16.553910</td>\n",
       "      <td>44.374759</td>\n",
       "      <td>40.956149</td>\n",
       "      <td>65</td>\n",
       "    </tr>\n",
       "    <tr>\n",
       "      <th>4</th>\n",
       "      <td>Reagent1_lot01</td>\n",
       "      <td>batch67</td>\n",
       "      <td>5.692002e-16</td>\n",
       "      <td>60.874795</td>\n",
       "      <td>38.833945</td>\n",
       "      <td>68.274306</td>\n",
       "      <td>65.130714</td>\n",
       "      <td>66</td>\n",
       "    </tr>\n",
       "  </tbody>\n",
       "</table>\n",
       "</div>"
      ],
      "text/plain": [
       "         Reagent1    batch      flagrate  Metric1_abs  Metric2_abs  \\\n",
       "0  Reagent1_lot01  batch46  0.000000e+00    28.125194    16.960094   \n",
       "1  Reagent1_lot01  batch47  1.503090e-13    42.461872    39.192014   \n",
       "2  Reagent1_lot01  batch65  1.057082e-03    34.433188    43.059673   \n",
       "3  Reagent1_lot01  batch66  0.000000e+00    28.065353    16.553910   \n",
       "4  Reagent1_lot01  batch67  5.692002e-16    60.874795    38.833945   \n",
       "\n",
       "   Metric3_abs  Metric4_abs  id  \n",
       "0    29.975500    32.474330  45  \n",
       "1    61.763651    35.883335  46  \n",
       "2    85.737681    62.895400  64  \n",
       "3    44.374759    40.956149  65  \n",
       "4    68.274306    65.130714  66  "
      ]
     },
     "execution_count": 69,
     "metadata": {},
     "output_type": "execute_result"
    }
   ],
   "source": [
    "#Creating a dataframe for each reagent so that I can compare metrics across reagents statistically\n",
    "R1 = r[r['Reagent1'] == 'Reagent1_lot01']\n",
    "R1"
   ]
  },
  {
   "cell_type": "code",
   "execution_count": 70,
   "metadata": {
    "collapsed": false
   },
   "outputs": [
    {
     "data": {
      "text/html": [
       "<div>\n",
       "<table border=\"1\" class=\"dataframe\">\n",
       "  <thead>\n",
       "    <tr style=\"text-align: right;\">\n",
       "      <th></th>\n",
       "      <th>Reagent1</th>\n",
       "      <th>batch</th>\n",
       "      <th>flagrate</th>\n",
       "      <th>Metric1_abs</th>\n",
       "      <th>Metric2_abs</th>\n",
       "      <th>Metric3_abs</th>\n",
       "      <th>Metric4_abs</th>\n",
       "      <th>id</th>\n",
       "    </tr>\n",
       "  </thead>\n",
       "  <tbody>\n",
       "    <tr>\n",
       "      <th>5</th>\n",
       "      <td>Reagent1_lot02</td>\n",
       "      <td>batch02</td>\n",
       "      <td>0.000000e+00</td>\n",
       "      <td>39.387123</td>\n",
       "      <td>32.460283</td>\n",
       "      <td>75.506674</td>\n",
       "      <td>44.666838</td>\n",
       "      <td>1</td>\n",
       "    </tr>\n",
       "    <tr>\n",
       "      <th>6</th>\n",
       "      <td>Reagent1_lot02</td>\n",
       "      <td>batch03</td>\n",
       "      <td>1.351558e-05</td>\n",
       "      <td>64.355673</td>\n",
       "      <td>56.069266</td>\n",
       "      <td>97.560169</td>\n",
       "      <td>62.584551</td>\n",
       "      <td>2</td>\n",
       "    </tr>\n",
       "    <tr>\n",
       "      <th>7</th>\n",
       "      <td>Reagent1_lot02</td>\n",
       "      <td>batch04</td>\n",
       "      <td>5.692002e-16</td>\n",
       "      <td>57.704430</td>\n",
       "      <td>51.049368</td>\n",
       "      <td>56.344866</td>\n",
       "      <td>48.521597</td>\n",
       "      <td>5</td>\n",
       "    </tr>\n",
       "    <tr>\n",
       "      <th>8</th>\n",
       "      <td>Reagent1_lot02</td>\n",
       "      <td>batch06</td>\n",
       "      <td>2.170582e-03</td>\n",
       "      <td>44.636631</td>\n",
       "      <td>77.816036</td>\n",
       "      <td>68.788089</td>\n",
       "      <td>36.952665</td>\n",
       "      <td>3</td>\n",
       "    </tr>\n",
       "    <tr>\n",
       "      <th>9</th>\n",
       "      <td>Reagent1_lot02</td>\n",
       "      <td>batch07</td>\n",
       "      <td>7.980082e-06</td>\n",
       "      <td>27.587630</td>\n",
       "      <td>28.591045</td>\n",
       "      <td>29.158687</td>\n",
       "      <td>43.523979</td>\n",
       "      <td>4</td>\n",
       "    </tr>\n",
       "    <tr>\n",
       "      <th>10</th>\n",
       "      <td>Reagent1_lot02</td>\n",
       "      <td>batch08</td>\n",
       "      <td>2.973609e-14</td>\n",
       "      <td>30.701123</td>\n",
       "      <td>37.632792</td>\n",
       "      <td>26.892426</td>\n",
       "      <td>33.303773</td>\n",
       "      <td>7</td>\n",
       "    </tr>\n",
       "    <tr>\n",
       "      <th>11</th>\n",
       "      <td>Reagent1_lot02</td>\n",
       "      <td>batch10</td>\n",
       "      <td>5.692002e-16</td>\n",
       "      <td>47.155389</td>\n",
       "      <td>42.845314</td>\n",
       "      <td>67.918899</td>\n",
       "      <td>48.886884</td>\n",
       "      <td>9</td>\n",
       "    </tr>\n",
       "    <tr>\n",
       "      <th>12</th>\n",
       "      <td>Reagent1_lot02</td>\n",
       "      <td>batch11</td>\n",
       "      <td>2.973609e-14</td>\n",
       "      <td>33.828976</td>\n",
       "      <td>33.743649</td>\n",
       "      <td>38.307801</td>\n",
       "      <td>35.339399</td>\n",
       "      <td>10</td>\n",
       "    </tr>\n",
       "    <tr>\n",
       "      <th>13</th>\n",
       "      <td>Reagent1_lot02</td>\n",
       "      <td>batch12</td>\n",
       "      <td>1.351558e-05</td>\n",
       "      <td>59.822266</td>\n",
       "      <td>68.022022</td>\n",
       "      <td>73.709778</td>\n",
       "      <td>51.344660</td>\n",
       "      <td>11</td>\n",
       "    </tr>\n",
       "    <tr>\n",
       "      <th>14</th>\n",
       "      <td>Reagent1_lot02</td>\n",
       "      <td>batch13</td>\n",
       "      <td>1.849113e-13</td>\n",
       "      <td>32.885097</td>\n",
       "      <td>44.949778</td>\n",
       "      <td>76.646239</td>\n",
       "      <td>25.280349</td>\n",
       "      <td>12</td>\n",
       "    </tr>\n",
       "    <tr>\n",
       "      <th>15</th>\n",
       "      <td>Reagent1_lot02</td>\n",
       "      <td>batch14</td>\n",
       "      <td>6.590909e-01</td>\n",
       "      <td>45.959683</td>\n",
       "      <td>112.358724</td>\n",
       "      <td>78.948938</td>\n",
       "      <td>41.204094</td>\n",
       "      <td>14</td>\n",
       "    </tr>\n",
       "    <tr>\n",
       "      <th>16</th>\n",
       "      <td>Reagent1_lot02</td>\n",
       "      <td>batch15</td>\n",
       "      <td>1.503090e-13</td>\n",
       "      <td>37.245174</td>\n",
       "      <td>71.741423</td>\n",
       "      <td>74.520991</td>\n",
       "      <td>32.593060</td>\n",
       "      <td>13</td>\n",
       "    </tr>\n",
       "    <tr>\n",
       "      <th>17</th>\n",
       "      <td>Reagent1_lot02</td>\n",
       "      <td>batch16</td>\n",
       "      <td>1.136364e-01</td>\n",
       "      <td>52.003344</td>\n",
       "      <td>58.277257</td>\n",
       "      <td>66.256297</td>\n",
       "      <td>46.941312</td>\n",
       "      <td>15</td>\n",
       "    </tr>\n",
       "    <tr>\n",
       "      <th>18</th>\n",
       "      <td>Reagent1_lot02</td>\n",
       "      <td>batch17</td>\n",
       "      <td>1.460674e-01</td>\n",
       "      <td>51.780255</td>\n",
       "      <td>78.566564</td>\n",
       "      <td>48.322328</td>\n",
       "      <td>50.007386</td>\n",
       "      <td>19</td>\n",
       "    </tr>\n",
       "    <tr>\n",
       "      <th>19</th>\n",
       "      <td>Reagent1_lot02</td>\n",
       "      <td>batch18</td>\n",
       "      <td>1.849113e-13</td>\n",
       "      <td>51.436165</td>\n",
       "      <td>47.660379</td>\n",
       "      <td>35.721859</td>\n",
       "      <td>44.050831</td>\n",
       "      <td>16</td>\n",
       "    </tr>\n",
       "    <tr>\n",
       "      <th>20</th>\n",
       "      <td>Reagent1_lot02</td>\n",
       "      <td>batch19</td>\n",
       "      <td>1.849113e-13</td>\n",
       "      <td>41.228621</td>\n",
       "      <td>47.655432</td>\n",
       "      <td>46.977431</td>\n",
       "      <td>33.984002</td>\n",
       "      <td>17</td>\n",
       "    </tr>\n",
       "    <tr>\n",
       "      <th>21</th>\n",
       "      <td>Reagent1_lot02</td>\n",
       "      <td>batch20</td>\n",
       "      <td>7.980082e-06</td>\n",
       "      <td>24.448200</td>\n",
       "      <td>39.864651</td>\n",
       "      <td>53.886294</td>\n",
       "      <td>21.036279</td>\n",
       "      <td>18</td>\n",
       "    </tr>\n",
       "  </tbody>\n",
       "</table>\n",
       "</div>"
      ],
      "text/plain": [
       "          Reagent1    batch      flagrate  Metric1_abs  Metric2_abs  \\\n",
       "5   Reagent1_lot02  batch02  0.000000e+00    39.387123    32.460283   \n",
       "6   Reagent1_lot02  batch03  1.351558e-05    64.355673    56.069266   \n",
       "7   Reagent1_lot02  batch04  5.692002e-16    57.704430    51.049368   \n",
       "8   Reagent1_lot02  batch06  2.170582e-03    44.636631    77.816036   \n",
       "9   Reagent1_lot02  batch07  7.980082e-06    27.587630    28.591045   \n",
       "10  Reagent1_lot02  batch08  2.973609e-14    30.701123    37.632792   \n",
       "11  Reagent1_lot02  batch10  5.692002e-16    47.155389    42.845314   \n",
       "12  Reagent1_lot02  batch11  2.973609e-14    33.828976    33.743649   \n",
       "13  Reagent1_lot02  batch12  1.351558e-05    59.822266    68.022022   \n",
       "14  Reagent1_lot02  batch13  1.849113e-13    32.885097    44.949778   \n",
       "15  Reagent1_lot02  batch14  6.590909e-01    45.959683   112.358724   \n",
       "16  Reagent1_lot02  batch15  1.503090e-13    37.245174    71.741423   \n",
       "17  Reagent1_lot02  batch16  1.136364e-01    52.003344    58.277257   \n",
       "18  Reagent1_lot02  batch17  1.460674e-01    51.780255    78.566564   \n",
       "19  Reagent1_lot02  batch18  1.849113e-13    51.436165    47.660379   \n",
       "20  Reagent1_lot02  batch19  1.849113e-13    41.228621    47.655432   \n",
       "21  Reagent1_lot02  batch20  7.980082e-06    24.448200    39.864651   \n",
       "\n",
       "    Metric3_abs  Metric4_abs  id  \n",
       "5     75.506674    44.666838   1  \n",
       "6     97.560169    62.584551   2  \n",
       "7     56.344866    48.521597   5  \n",
       "8     68.788089    36.952665   3  \n",
       "9     29.158687    43.523979   4  \n",
       "10    26.892426    33.303773   7  \n",
       "11    67.918899    48.886884   9  \n",
       "12    38.307801    35.339399  10  \n",
       "13    73.709778    51.344660  11  \n",
       "14    76.646239    25.280349  12  \n",
       "15    78.948938    41.204094  14  \n",
       "16    74.520991    32.593060  13  \n",
       "17    66.256297    46.941312  15  \n",
       "18    48.322328    50.007386  19  \n",
       "19    35.721859    44.050831  16  \n",
       "20    46.977431    33.984002  17  \n",
       "21    53.886294    21.036279  18  "
      ]
     },
     "execution_count": 70,
     "metadata": {},
     "output_type": "execute_result"
    }
   ],
   "source": [
    "R2 = r[r['Reagent1'] == 'Reagent1_lot02']\n",
    "R2"
   ]
  },
  {
   "cell_type": "code",
   "execution_count": 71,
   "metadata": {
    "collapsed": false
   },
   "outputs": [],
   "source": [
    "R3 = r[r['Reagent1'] == 'Reagent1_lot03']\n",
    "R4 = r[r['Reagent1'] == 'Reagent1_lot04']"
   ]
  },
  {
   "cell_type": "code",
   "execution_count": 72,
   "metadata": {
    "collapsed": true
   },
   "outputs": [],
   "source": [
    "from scipy.stats import mstats"
   ]
  },
  {
   "cell_type": "code",
   "execution_count": 73,
   "metadata": {
    "collapsed": false
   },
   "outputs": [
    {
     "data": {
      "text/plain": [
       "(1.5325260679448358, 0.67478393148755766)"
      ]
     },
     "execution_count": 73,
     "metadata": {},
     "output_type": "execute_result"
    }
   ],
   "source": [
    "# Kruskal-Wallis for Metric 1\n",
    "H, pval = mstats.kruskalwallis(R1.Metric1_abs, R2.Metric1_abs, \n",
    "                               R3.Metric1_abs, R3.Metric1_abs)\n",
    "H, pval"
   ]
  },
  {
   "cell_type": "code",
   "execution_count": 74,
   "metadata": {
    "collapsed": false
   },
   "outputs": [
    {
     "data": {
      "text/plain": [
       "(19.594717160325263, 0.00020594138822211576)"
      ]
     },
     "execution_count": 74,
     "metadata": {},
     "output_type": "execute_result"
    }
   ],
   "source": [
    "# Kruskal-Wallis for Metric 2\n",
    "H, pval = mstats.kruskalwallis(R1.Metric2_abs, R2.Metric2_abs, \n",
    "                               R3.Metric2_abs, R3.Metric2_abs)\n",
    "H, pval"
   ]
  },
  {
   "cell_type": "code",
   "execution_count": 75,
   "metadata": {
    "collapsed": false
   },
   "outputs": [
    {
     "data": {
      "text/plain": [
       "(4.1800716250172574, 0.24266468224719254)"
      ]
     },
     "execution_count": 75,
     "metadata": {},
     "output_type": "execute_result"
    }
   ],
   "source": [
    "# Kruskal-Wallis for Metric 3\n",
    "H, pval = mstats.kruskalwallis(R1.Metric3_abs, R2.Metric3_abs, \n",
    "                               R3.Metric3_abs, R3.Metric3_abs)\n",
    "H, pval"
   ]
  },
  {
   "cell_type": "code",
   "execution_count": 76,
   "metadata": {
    "collapsed": false
   },
   "outputs": [
    {
     "data": {
      "text/plain": [
       "(5.4782730852179, 0.13994391809447804)"
      ]
     },
     "execution_count": 76,
     "metadata": {},
     "output_type": "execute_result"
    }
   ],
   "source": [
    "# Kruskal-Wallis for Metric 4\n",
    "H, pval = mstats.kruskalwallis(R1.Metric4_abs, R2.Metric4_abs, \n",
    "                               R3.Metric4_abs, R3.Metric4_abs)\n",
    "H, pval"
   ]
  },
  {
   "cell_type": "markdown",
   "metadata": {},
   "source": [
    "## Question 4<a class=\"anchor\" id=\"seventh-bullet\"></a>\n"
   ]
  },
  {
   "cell_type": "markdown",
   "metadata": {},
   "source": [
    "###### A modification was made to the assay and is indicated in the “batch_data” table under the “protocol” field as “protocol_1” and “protocol_2”.  What is the flagged sample rate for each protocol?  Are there differences in batch aggregate metrics (as computed in question 3) between the two protocols?  Support your answer with plots and/or statistical tests."
   ]
  },
  {
   "cell_type": "code",
   "execution_count": 77,
   "metadata": {
    "collapsed": false
   },
   "outputs": [],
   "source": [
    "#Going to create a dictionary of which batch belongs to which protocol\n",
    "batch_protocols = {}\n",
    "for i in range(0,len(batch)):\n",
    "    batch_protocols[batch.batch[i]] = batch.Protocol[i]"
   ]
  },
  {
   "cell_type": "code",
   "execution_count": 78,
   "metadata": {
    "collapsed": true
   },
   "outputs": [],
   "source": [
    "#mapping the dictionary to a new column so I can analyze data by protocol type\n",
    "well_clean_final['protocol'] = well_clean_final['batch'].map(batch_protocols)"
   ]
  },
  {
   "cell_type": "code",
   "execution_count": 79,
   "metadata": {
    "collapsed": false
   },
   "outputs": [
    {
     "data": {
      "text/html": [
       "<div>\n",
       "<table border=\"1\" class=\"dataframe\">\n",
       "  <thead>\n",
       "    <tr style=\"text-align: right;\">\n",
       "      <th></th>\n",
       "      <th>id</th>\n",
       "      <th>batch</th>\n",
       "      <th>flagged</th>\n",
       "      <th>sample_type</th>\n",
       "      <th>Metric3</th>\n",
       "      <th>Metric2</th>\n",
       "      <th>Metric4</th>\n",
       "      <th>Metric1</th>\n",
       "      <th>Metric1_abs</th>\n",
       "      <th>Metric2_abs</th>\n",
       "      <th>Metric3_abs</th>\n",
       "      <th>Metric4_abs</th>\n",
       "      <th>protocol</th>\n",
       "    </tr>\n",
       "  </thead>\n",
       "  <tbody>\n",
       "    <tr>\n",
       "      <th>0</th>\n",
       "      <td>0</td>\n",
       "      <td>batch01</td>\n",
       "      <td>0.0</td>\n",
       "      <td>1.0</td>\n",
       "      <td>0.431558</td>\n",
       "      <td>0.861893</td>\n",
       "      <td>-0.193786</td>\n",
       "      <td>0.294783</td>\n",
       "      <td>0.294783</td>\n",
       "      <td>0.861893</td>\n",
       "      <td>0.431558</td>\n",
       "      <td>0.193786</td>\n",
       "      <td>protocol_01</td>\n",
       "    </tr>\n",
       "    <tr>\n",
       "      <th>1</th>\n",
       "      <td>1</td>\n",
       "      <td>batch01</td>\n",
       "      <td>0.0</td>\n",
       "      <td>2.0</td>\n",
       "      <td>1.330214</td>\n",
       "      <td>0.011943</td>\n",
       "      <td>-0.755635</td>\n",
       "      <td>-0.590977</td>\n",
       "      <td>0.590977</td>\n",
       "      <td>0.011943</td>\n",
       "      <td>1.330214</td>\n",
       "      <td>0.755635</td>\n",
       "      <td>protocol_01</td>\n",
       "    </tr>\n",
       "    <tr>\n",
       "      <th>2</th>\n",
       "      <td>2</td>\n",
       "      <td>batch01</td>\n",
       "      <td>0.0</td>\n",
       "      <td>2.0</td>\n",
       "      <td>0.519384</td>\n",
       "      <td>0.872310</td>\n",
       "      <td>-0.342511</td>\n",
       "      <td>-0.968805</td>\n",
       "      <td>0.968805</td>\n",
       "      <td>0.872310</td>\n",
       "      <td>0.519384</td>\n",
       "      <td>0.342511</td>\n",
       "      <td>protocol_01</td>\n",
       "    </tr>\n",
       "    <tr>\n",
       "      <th>3</th>\n",
       "      <td>3</td>\n",
       "      <td>batch01</td>\n",
       "      <td>0.0</td>\n",
       "      <td>2.0</td>\n",
       "      <td>-0.229138</td>\n",
       "      <td>-0.713640</td>\n",
       "      <td>-1.053085</td>\n",
       "      <td>0.042864</td>\n",
       "      <td>0.042864</td>\n",
       "      <td>0.713640</td>\n",
       "      <td>0.229138</td>\n",
       "      <td>1.053085</td>\n",
       "      <td>protocol_01</td>\n",
       "    </tr>\n",
       "    <tr>\n",
       "      <th>4</th>\n",
       "      <td>4</td>\n",
       "      <td>batch01</td>\n",
       "      <td>0.0</td>\n",
       "      <td>2.0</td>\n",
       "      <td>0.834333</td>\n",
       "      <td>0.077469</td>\n",
       "      <td>0.054088</td>\n",
       "      <td>-0.109026</td>\n",
       "      <td>0.109026</td>\n",
       "      <td>0.077469</td>\n",
       "      <td>0.834333</td>\n",
       "      <td>0.054088</td>\n",
       "      <td>protocol_01</td>\n",
       "    </tr>\n",
       "  </tbody>\n",
       "</table>\n",
       "</div>"
      ],
      "text/plain": [
       "   id    batch  flagged  sample_type   Metric3   Metric2   Metric4   Metric1  \\\n",
       "0   0  batch01      0.0          1.0  0.431558  0.861893 -0.193786  0.294783   \n",
       "1   1  batch01      0.0          2.0  1.330214  0.011943 -0.755635 -0.590977   \n",
       "2   2  batch01      0.0          2.0  0.519384  0.872310 -0.342511 -0.968805   \n",
       "3   3  batch01      0.0          2.0 -0.229138 -0.713640 -1.053085  0.042864   \n",
       "4   4  batch01      0.0          2.0  0.834333  0.077469  0.054088 -0.109026   \n",
       "\n",
       "   Metric1_abs  Metric2_abs  Metric3_abs  Metric4_abs     protocol  \n",
       "0     0.294783     0.861893     0.431558     0.193786  protocol_01  \n",
       "1     0.590977     0.011943     1.330214     0.755635  protocol_01  \n",
       "2     0.968805     0.872310     0.519384     0.342511  protocol_01  \n",
       "3     0.042864     0.713640     0.229138     1.053085  protocol_01  \n",
       "4     0.109026     0.077469     0.834333     0.054088  protocol_01  "
      ]
     },
     "execution_count": 79,
     "metadata": {},
     "output_type": "execute_result"
    }
   ],
   "source": [
    "well_clean_final.head()"
   ]
  },
  {
   "cell_type": "code",
   "execution_count": 81,
   "metadata": {
    "collapsed": true
   },
   "outputs": [],
   "source": [
    "well_prot1 = well_clean_final[well_clean_final['protocol'] == 'protocol_01']\n",
    "well_prot2 = well_clean_final[well_clean_final['protocol'] == 'protocol_02']"
   ]
  },
  {
   "cell_type": "code",
   "execution_count": 82,
   "metadata": {
    "collapsed": false
   },
   "outputs": [
    {
     "data": {
      "text/plain": [
       "0.10111111111111111"
      ]
     },
     "execution_count": 82,
     "metadata": {},
     "output_type": "execute_result"
    }
   ],
   "source": [
    "#fraction of flagged samples for protcol1\n",
    "len(well_prot1[well_prot1['flagged'] == 1.0]) / len(well_prot1[well_prot1['flagged'] == 0.0])"
   ]
  },
  {
   "cell_type": "code",
   "execution_count": 83,
   "metadata": {
    "collapsed": false
   },
   "outputs": [
    {
     "data": {
      "text/plain": [
       "0.037544169611307424"
      ]
     },
     "execution_count": 83,
     "metadata": {},
     "output_type": "execute_result"
    }
   ],
   "source": [
    "#fraction of flagged samples for protcol2\n",
    "len(well_prot2[well_prot2['flagged'] == 1.0]) / len(well_prot2[well_prot2['flagged'] == 0.0])"
   ]
  },
  {
   "cell_type": "code",
   "execution_count": 84,
   "metadata": {
    "collapsed": false
   },
   "outputs": [
    {
     "data": {
      "text/plain": [
       "35"
      ]
     },
     "execution_count": 84,
     "metadata": {},
     "output_type": "execute_result"
    }
   ],
   "source": [
    "prot1_means = well_prot1.groupby('batch').sum()\n",
    "len(prot1_means)"
   ]
  },
  {
   "cell_type": "code",
   "execution_count": 85,
   "metadata": {
    "collapsed": false
   },
   "outputs": [
    {
     "data": {
      "text/html": [
       "<div>\n",
       "<table border=\"1\" class=\"dataframe\">\n",
       "  <thead>\n",
       "    <tr style=\"text-align: right;\">\n",
       "      <th></th>\n",
       "      <th>batch</th>\n",
       "      <th>flagged</th>\n",
       "      <th>sample_type</th>\n",
       "      <th>Metric3</th>\n",
       "      <th>Metric2</th>\n",
       "      <th>Metric4</th>\n",
       "      <th>Metric1</th>\n",
       "      <th>Metric1_abs</th>\n",
       "      <th>Metric2_abs</th>\n",
       "      <th>Metric3_abs</th>\n",
       "      <th>Metric4_abs</th>\n",
       "    </tr>\n",
       "  </thead>\n",
       "  <tbody>\n",
       "    <tr>\n",
       "      <th>0</th>\n",
       "      <td>batch01</td>\n",
       "      <td>11.0</td>\n",
       "      <td>125.0</td>\n",
       "      <td>23.848108</td>\n",
       "      <td>-7.042390</td>\n",
       "      <td>-51.079632</td>\n",
       "      <td>13.654480</td>\n",
       "      <td>70.731588</td>\n",
       "      <td>65.762320</td>\n",
       "      <td>70.158631</td>\n",
       "      <td>54.535017</td>\n",
       "    </tr>\n",
       "    <tr>\n",
       "      <th>1</th>\n",
       "      <td>batch02</td>\n",
       "      <td>0.0</td>\n",
       "      <td>94.0</td>\n",
       "      <td>72.808618</td>\n",
       "      <td>0.659266</td>\n",
       "      <td>-15.747731</td>\n",
       "      <td>-26.051738</td>\n",
       "      <td>39.387123</td>\n",
       "      <td>32.460283</td>\n",
       "      <td>75.506674</td>\n",
       "      <td>44.666838</td>\n",
       "    </tr>\n",
       "    <tr>\n",
       "      <th>2</th>\n",
       "      <td>batch03</td>\n",
       "      <td>9.0</td>\n",
       "      <td>116.0</td>\n",
       "      <td>59.750953</td>\n",
       "      <td>3.572488</td>\n",
       "      <td>-12.182852</td>\n",
       "      <td>5.278436</td>\n",
       "      <td>64.355673</td>\n",
       "      <td>56.069266</td>\n",
       "      <td>97.560169</td>\n",
       "      <td>62.584551</td>\n",
       "    </tr>\n",
       "    <tr>\n",
       "      <th>3</th>\n",
       "      <td>batch04</td>\n",
       "      <td>2.0</td>\n",
       "      <td>120.0</td>\n",
       "      <td>36.971431</td>\n",
       "      <td>-6.178637</td>\n",
       "      <td>-30.256649</td>\n",
       "      <td>-13.460169</td>\n",
       "      <td>57.704430</td>\n",
       "      <td>51.049368</td>\n",
       "      <td>56.344866</td>\n",
       "      <td>48.521597</td>\n",
       "    </tr>\n",
       "    <tr>\n",
       "      <th>4</th>\n",
       "      <td>batch06</td>\n",
       "      <td>17.0</td>\n",
       "      <td>89.0</td>\n",
       "      <td>67.431094</td>\n",
       "      <td>13.224166</td>\n",
       "      <td>-14.586471</td>\n",
       "      <td>-41.097284</td>\n",
       "      <td>44.636631</td>\n",
       "      <td>77.816036</td>\n",
       "      <td>68.788089</td>\n",
       "      <td>36.952665</td>\n",
       "    </tr>\n",
       "  </tbody>\n",
       "</table>\n",
       "</div>"
      ],
      "text/plain": [
       "     batch  flagged  sample_type    Metric3    Metric2    Metric4    Metric1  \\\n",
       "0  batch01     11.0        125.0  23.848108  -7.042390 -51.079632  13.654480   \n",
       "1  batch02      0.0         94.0  72.808618   0.659266 -15.747731 -26.051738   \n",
       "2  batch03      9.0        116.0  59.750953   3.572488 -12.182852   5.278436   \n",
       "3  batch04      2.0        120.0  36.971431  -6.178637 -30.256649 -13.460169   \n",
       "4  batch06     17.0         89.0  67.431094  13.224166 -14.586471 -41.097284   \n",
       "\n",
       "   Metric1_abs  Metric2_abs  Metric3_abs  Metric4_abs  \n",
       "0    70.731588    65.762320    70.158631    54.535017  \n",
       "1    39.387123    32.460283    75.506674    44.666838  \n",
       "2    64.355673    56.069266    97.560169    62.584551  \n",
       "3    57.704430    51.049368    56.344866    48.521597  \n",
       "4    44.636631    77.816036    68.788089    36.952665  "
      ]
     },
     "execution_count": 85,
     "metadata": {},
     "output_type": "execute_result"
    }
   ],
   "source": [
    "#Creating a table of metric means for protcol 1 for graphing purposes\n",
    "prot1_means.head()\n",
    "del prot1_means['id']\n",
    "prot1_means.reset_index(inplace=True)\n",
    "prot1_means.head()"
   ]
  },
  {
   "cell_type": "code",
   "execution_count": 86,
   "metadata": {
    "collapsed": false
   },
   "outputs": [
    {
     "data": {
      "text/html": [
       "<div>\n",
       "<table border=\"1\" class=\"dataframe\">\n",
       "  <thead>\n",
       "    <tr style=\"text-align: right;\">\n",
       "      <th></th>\n",
       "      <th>batch</th>\n",
       "      <th>flagged</th>\n",
       "      <th>sample_type</th>\n",
       "      <th>Metric3</th>\n",
       "      <th>Metric2</th>\n",
       "      <th>Metric4</th>\n",
       "      <th>Metric1</th>\n",
       "      <th>Metric1_abs</th>\n",
       "      <th>Metric2_abs</th>\n",
       "      <th>Metric3_abs</th>\n",
       "      <th>Metric4_abs</th>\n",
       "    </tr>\n",
       "  </thead>\n",
       "  <tbody>\n",
       "    <tr>\n",
       "      <th>0</th>\n",
       "      <td>batch27</td>\n",
       "      <td>0.0</td>\n",
       "      <td>82.0</td>\n",
       "      <td>22.464857</td>\n",
       "      <td>5.230886</td>\n",
       "      <td>13.457851</td>\n",
       "      <td>-26.852075</td>\n",
       "      <td>29.419156</td>\n",
       "      <td>19.065945</td>\n",
       "      <td>29.289981</td>\n",
       "      <td>29.739104</td>\n",
       "    </tr>\n",
       "    <tr>\n",
       "      <th>1</th>\n",
       "      <td>batch28</td>\n",
       "      <td>2.0</td>\n",
       "      <td>96.0</td>\n",
       "      <td>35.404793</td>\n",
       "      <td>2.419162</td>\n",
       "      <td>-1.052525</td>\n",
       "      <td>8.463776</td>\n",
       "      <td>41.382565</td>\n",
       "      <td>23.908213</td>\n",
       "      <td>60.098974</td>\n",
       "      <td>42.236350</td>\n",
       "    </tr>\n",
       "    <tr>\n",
       "      <th>2</th>\n",
       "      <td>batch29</td>\n",
       "      <td>2.0</td>\n",
       "      <td>122.0</td>\n",
       "      <td>42.265465</td>\n",
       "      <td>-9.401268</td>\n",
       "      <td>-39.621791</td>\n",
       "      <td>34.330271</td>\n",
       "      <td>55.280728</td>\n",
       "      <td>29.684134</td>\n",
       "      <td>63.347004</td>\n",
       "      <td>49.407765</td>\n",
       "    </tr>\n",
       "    <tr>\n",
       "      <th>3</th>\n",
       "      <td>batch30</td>\n",
       "      <td>9.0</td>\n",
       "      <td>126.0</td>\n",
       "      <td>-25.904910</td>\n",
       "      <td>-17.006651</td>\n",
       "      <td>-3.924883</td>\n",
       "      <td>21.597876</td>\n",
       "      <td>78.487658</td>\n",
       "      <td>38.187682</td>\n",
       "      <td>42.566209</td>\n",
       "      <td>52.217358</td>\n",
       "    </tr>\n",
       "    <tr>\n",
       "      <th>4</th>\n",
       "      <td>batch31</td>\n",
       "      <td>2.0</td>\n",
       "      <td>96.0</td>\n",
       "      <td>-7.266720</td>\n",
       "      <td>8.485233</td>\n",
       "      <td>-6.915902</td>\n",
       "      <td>8.873385</td>\n",
       "      <td>54.018747</td>\n",
       "      <td>27.096549</td>\n",
       "      <td>23.469708</td>\n",
       "      <td>49.115108</td>\n",
       "    </tr>\n",
       "  </tbody>\n",
       "</table>\n",
       "</div>"
      ],
      "text/plain": [
       "     batch  flagged  sample_type    Metric3    Metric2    Metric4    Metric1  \\\n",
       "0  batch27      0.0         82.0  22.464857   5.230886  13.457851 -26.852075   \n",
       "1  batch28      2.0         96.0  35.404793   2.419162  -1.052525   8.463776   \n",
       "2  batch29      2.0        122.0  42.265465  -9.401268 -39.621791  34.330271   \n",
       "3  batch30      9.0        126.0 -25.904910 -17.006651  -3.924883  21.597876   \n",
       "4  batch31      2.0         96.0  -7.266720   8.485233  -6.915902   8.873385   \n",
       "\n",
       "   Metric1_abs  Metric2_abs  Metric3_abs  Metric4_abs  \n",
       "0    29.419156    19.065945    29.289981    29.739104  \n",
       "1    41.382565    23.908213    60.098974    42.236350  \n",
       "2    55.280728    29.684134    63.347004    49.407765  \n",
       "3    78.487658    38.187682    42.566209    52.217358  \n",
       "4    54.018747    27.096549    23.469708    49.115108  "
      ]
     },
     "execution_count": 86,
     "metadata": {},
     "output_type": "execute_result"
    }
   ],
   "source": [
    "#Creating a table of metric means for protcol 2 for graphing purposes\n",
    "prot2_means = well_prot2.groupby('batch').sum()\n",
    "del prot2_means['id']\n",
    "prot2_means.reset_index(inplace=True)\n",
    "prot2_means.head()"
   ]
  },
  {
   "cell_type": "code",
   "execution_count": 87,
   "metadata": {
    "collapsed": false
   },
   "outputs": [],
   "source": [
    "#starting to create flagrate for protocol1 data\n",
    "for i in range(0,len(prot1_means)):\n",
    "    prot1_means.replace(prot1_means.flagged.iloc[i], prot1_means.flagged.iloc[i]/\n",
    "                       well_prot1.groupby('batch').size()[i], inplace=True)"
   ]
  },
  {
   "cell_type": "code",
   "execution_count": 88,
   "metadata": {
    "collapsed": false
   },
   "outputs": [],
   "source": [
    "#creating flagrate data for protocol 2\n",
    "for i in range(0,len(prot2_means)):\n",
    "    prot2_means.replace(prot2_means.flagged.iloc[i], prot2_means.flagged.iloc[i]/\n",
    "                       well_prot2.groupby('batch').size()[i], inplace=True)"
   ]
  },
  {
   "cell_type": "code",
   "execution_count": 89,
   "metadata": {
    "collapsed": false
   },
   "outputs": [],
   "source": [
    "prot1_means.rename(columns={'flagged':'flagrate'}, inplace=True)\n",
    "prot2_means.rename(columns={'flagged':'flagrate'}, inplace=True)"
   ]
  },
  {
   "cell_type": "code",
   "execution_count": 90,
   "metadata": {
    "collapsed": false
   },
   "outputs": [
    {
     "data": {
      "text/html": [
       "<div>\n",
       "<table border=\"1\" class=\"dataframe\">\n",
       "  <thead>\n",
       "    <tr style=\"text-align: right;\">\n",
       "      <th></th>\n",
       "      <th>batch</th>\n",
       "      <th>flagrate</th>\n",
       "      <th>sample_type</th>\n",
       "      <th>Metric3</th>\n",
       "      <th>Metric2</th>\n",
       "      <th>Metric4</th>\n",
       "      <th>Metric1</th>\n",
       "      <th>Metric1_abs</th>\n",
       "      <th>Metric2_abs</th>\n",
       "      <th>Metric3_abs</th>\n",
       "      <th>Metric4_abs</th>\n",
       "    </tr>\n",
       "  </thead>\n",
       "  <tbody>\n",
       "    <tr>\n",
       "      <th>0</th>\n",
       "      <td>batch01</td>\n",
       "      <td>0.130952</td>\n",
       "      <td>125.0</td>\n",
       "      <td>23.848108</td>\n",
       "      <td>-7.042390</td>\n",
       "      <td>-51.079632</td>\n",
       "      <td>13.654480</td>\n",
       "      <td>70.731588</td>\n",
       "      <td>65.762320</td>\n",
       "      <td>70.158631</td>\n",
       "      <td>54.535017</td>\n",
       "    </tr>\n",
       "    <tr>\n",
       "      <th>1</th>\n",
       "      <td>batch02</td>\n",
       "      <td>0.000000</td>\n",
       "      <td>94.0</td>\n",
       "      <td>72.808618</td>\n",
       "      <td>0.659266</td>\n",
       "      <td>-15.747731</td>\n",
       "      <td>-26.051738</td>\n",
       "      <td>39.387123</td>\n",
       "      <td>32.460283</td>\n",
       "      <td>75.506674</td>\n",
       "      <td>44.666838</td>\n",
       "    </tr>\n",
       "    <tr>\n",
       "      <th>2</th>\n",
       "      <td>batch03</td>\n",
       "      <td>0.001162</td>\n",
       "      <td>116.0</td>\n",
       "      <td>59.750953</td>\n",
       "      <td>3.572488</td>\n",
       "      <td>-12.182852</td>\n",
       "      <td>5.278436</td>\n",
       "      <td>64.355673</td>\n",
       "      <td>56.069266</td>\n",
       "      <td>97.560169</td>\n",
       "      <td>62.584551</td>\n",
       "    </tr>\n",
       "    <tr>\n",
       "      <th>3</th>\n",
       "      <td>batch04</td>\n",
       "      <td>0.000261</td>\n",
       "      <td>120.0</td>\n",
       "      <td>36.971431</td>\n",
       "      <td>-6.178637</td>\n",
       "      <td>-30.256649</td>\n",
       "      <td>-13.460169</td>\n",
       "      <td>57.704430</td>\n",
       "      <td>51.049368</td>\n",
       "      <td>56.344866</td>\n",
       "      <td>48.521597</td>\n",
       "    </tr>\n",
       "    <tr>\n",
       "      <th>4</th>\n",
       "      <td>batch06</td>\n",
       "      <td>0.002171</td>\n",
       "      <td>89.0</td>\n",
       "      <td>67.431094</td>\n",
       "      <td>13.224166</td>\n",
       "      <td>-14.586471</td>\n",
       "      <td>-41.097284</td>\n",
       "      <td>44.636631</td>\n",
       "      <td>77.816036</td>\n",
       "      <td>68.788089</td>\n",
       "      <td>36.952665</td>\n",
       "    </tr>\n",
       "  </tbody>\n",
       "</table>\n",
       "</div>"
      ],
      "text/plain": [
       "     batch  flagrate  sample_type    Metric3    Metric2    Metric4    Metric1  \\\n",
       "0  batch01  0.130952        125.0  23.848108  -7.042390 -51.079632  13.654480   \n",
       "1  batch02  0.000000         94.0  72.808618   0.659266 -15.747731 -26.051738   \n",
       "2  batch03  0.001162        116.0  59.750953   3.572488 -12.182852   5.278436   \n",
       "3  batch04  0.000261        120.0  36.971431  -6.178637 -30.256649 -13.460169   \n",
       "4  batch06  0.002171         89.0  67.431094  13.224166 -14.586471 -41.097284   \n",
       "\n",
       "   Metric1_abs  Metric2_abs  Metric3_abs  Metric4_abs  \n",
       "0    70.731588    65.762320    70.158631    54.535017  \n",
       "1    39.387123    32.460283    75.506674    44.666838  \n",
       "2    64.355673    56.069266    97.560169    62.584551  \n",
       "3    57.704430    51.049368    56.344866    48.521597  \n",
       "4    44.636631    77.816036    68.788089    36.952665  "
      ]
     },
     "execution_count": 90,
     "metadata": {},
     "output_type": "execute_result"
    }
   ],
   "source": [
    "prot1_means.head()"
   ]
  },
  {
   "cell_type": "code",
   "execution_count": 91,
   "metadata": {
    "collapsed": false
   },
   "outputs": [
    {
     "data": {
      "text/html": [
       "<div>\n",
       "<table border=\"1\" class=\"dataframe\">\n",
       "  <thead>\n",
       "    <tr style=\"text-align: right;\">\n",
       "      <th></th>\n",
       "      <th>batch</th>\n",
       "      <th>flagrate</th>\n",
       "      <th>sample_type</th>\n",
       "      <th>Metric3</th>\n",
       "      <th>Metric2</th>\n",
       "      <th>Metric4</th>\n",
       "      <th>Metric1</th>\n",
       "      <th>Metric1_abs</th>\n",
       "      <th>Metric2_abs</th>\n",
       "      <th>Metric3_abs</th>\n",
       "      <th>Metric4_abs</th>\n",
       "    </tr>\n",
       "  </thead>\n",
       "  <tbody>\n",
       "    <tr>\n",
       "      <th>0</th>\n",
       "      <td>batch27</td>\n",
       "      <td>0.000000e+00</td>\n",
       "      <td>82.0</td>\n",
       "      <td>22.464857</td>\n",
       "      <td>5.230886</td>\n",
       "      <td>13.457851</td>\n",
       "      <td>-26.852075</td>\n",
       "      <td>29.419156</td>\n",
       "      <td>19.065945</td>\n",
       "      <td>29.289981</td>\n",
       "      <td>29.739104</td>\n",
       "    </tr>\n",
       "    <tr>\n",
       "      <th>1</th>\n",
       "      <td>batch28</td>\n",
       "      <td>4.357796e-12</td>\n",
       "      <td>96.0</td>\n",
       "      <td>35.404793</td>\n",
       "      <td>2.419162</td>\n",
       "      <td>-1.052525</td>\n",
       "      <td>8.463776</td>\n",
       "      <td>41.382565</td>\n",
       "      <td>23.908213</td>\n",
       "      <td>60.098974</td>\n",
       "      <td>42.236350</td>\n",
       "    </tr>\n",
       "    <tr>\n",
       "      <th>2</th>\n",
       "      <td>batch29</td>\n",
       "      <td>4.357796e-12</td>\n",
       "      <td>122.0</td>\n",
       "      <td>42.265465</td>\n",
       "      <td>-9.401268</td>\n",
       "      <td>-39.621791</td>\n",
       "      <td>34.330271</td>\n",
       "      <td>55.280728</td>\n",
       "      <td>29.684134</td>\n",
       "      <td>63.347004</td>\n",
       "      <td>49.407765</td>\n",
       "    </tr>\n",
       "    <tr>\n",
       "      <th>3</th>\n",
       "      <td>batch30</td>\n",
       "      <td>1.046512e-01</td>\n",
       "      <td>126.0</td>\n",
       "      <td>-25.904910</td>\n",
       "      <td>-17.006651</td>\n",
       "      <td>-3.924883</td>\n",
       "      <td>21.597876</td>\n",
       "      <td>78.487658</td>\n",
       "      <td>38.187682</td>\n",
       "      <td>42.566209</td>\n",
       "      <td>52.217358</td>\n",
       "    </tr>\n",
       "    <tr>\n",
       "      <th>4</th>\n",
       "      <td>batch31</td>\n",
       "      <td>4.357796e-12</td>\n",
       "      <td>96.0</td>\n",
       "      <td>-7.266720</td>\n",
       "      <td>8.485233</td>\n",
       "      <td>-6.915902</td>\n",
       "      <td>8.873385</td>\n",
       "      <td>54.018747</td>\n",
       "      <td>27.096549</td>\n",
       "      <td>23.469708</td>\n",
       "      <td>49.115108</td>\n",
       "    </tr>\n",
       "  </tbody>\n",
       "</table>\n",
       "</div>"
      ],
      "text/plain": [
       "     batch      flagrate  sample_type    Metric3    Metric2    Metric4  \\\n",
       "0  batch27  0.000000e+00         82.0  22.464857   5.230886  13.457851   \n",
       "1  batch28  4.357796e-12         96.0  35.404793   2.419162  -1.052525   \n",
       "2  batch29  4.357796e-12        122.0  42.265465  -9.401268 -39.621791   \n",
       "3  batch30  1.046512e-01        126.0 -25.904910 -17.006651  -3.924883   \n",
       "4  batch31  4.357796e-12         96.0  -7.266720   8.485233  -6.915902   \n",
       "\n",
       "     Metric1  Metric1_abs  Metric2_abs  Metric3_abs  Metric4_abs  \n",
       "0 -26.852075    29.419156    19.065945    29.289981    29.739104  \n",
       "1   8.463776    41.382565    23.908213    60.098974    42.236350  \n",
       "2  34.330271    55.280728    29.684134    63.347004    49.407765  \n",
       "3  21.597876    78.487658    38.187682    42.566209    52.217358  \n",
       "4   8.873385    54.018747    27.096549    23.469708    49.115108  "
      ]
     },
     "execution_count": 91,
     "metadata": {},
     "output_type": "execute_result"
    }
   ],
   "source": [
    "prot2_means.head()"
   ]
  },
  {
   "cell_type": "code",
   "execution_count": 92,
   "metadata": {
    "collapsed": false
   },
   "outputs": [
    {
     "name": "stdout",
     "output_type": "stream",
     "text": [
      "<class 'pandas.core.frame.DataFrame'>\n",
      "RangeIndex: 35 entries, 0 to 34\n",
      "Data columns (total 2 columns):\n",
      "flagrate_prot1    35 non-null float64\n",
      "flagrate_prot2    27 non-null float64\n",
      "dtypes: float64(2)\n",
      "memory usage: 632.0 bytes\n"
     ]
    }
   ],
   "source": [
    "#Greating a dataframe with only flagrates of the two protocols\n",
    "flagrate_prot = pd.DataFrame(prot1_means, columns=['flagrate'])\n",
    "flagrate_prot.rename(columns={'flagrate':'flagrate_prot1'},inplace=True)\n",
    "flagrate_prot['flagrate_prot2']=prot2_means['flagrate']\n",
    "flagrate_prot.flagrate_prot2.dropna(inplace=True)\n",
    "flagrate_prot.info()"
   ]
  },
  {
   "cell_type": "code",
   "execution_count": 93,
   "metadata": {
    "collapsed": false
   },
   "outputs": [
    {
     "data": {
      "text/plain": [
       "MannwhitneyuResult(statistic=696.0, pvalue=0.32849453644881244)"
      ]
     },
     "execution_count": 93,
     "metadata": {},
     "output_type": "execute_result"
    }
   ],
   "source": [
    "#Mann-Whitney test for flagrates\n",
    "from scipy.stats import mannwhitneyu\n",
    "mannwhitneyu(flagrate_prot['flagrate_prot1'],flagrate_prot['flagrate_prot2'])"
   ]
  },
  {
   "cell_type": "code",
   "execution_count": 117,
   "metadata": {
    "collapsed": false
   },
   "outputs": [
    {
     "data": {
      "text/plain": [
       "35"
      ]
     },
     "execution_count": 117,
     "metadata": {},
     "output_type": "execute_result"
    }
   ],
   "source": [
    "#merging protocol 1 metric means with reagent data \n",
    "reagents_prot1 = pd.merge(prot1_means, batch, on=['batch'], how='inner')\n",
    "len(reagents_prot1)"
   ]
  },
  {
   "cell_type": "code",
   "execution_count": 118,
   "metadata": {
    "collapsed": false
   },
   "outputs": [
    {
     "data": {
      "text/html": [
       "<div>\n",
       "<table border=\"1\" class=\"dataframe\">\n",
       "  <thead>\n",
       "    <tr style=\"text-align: right;\">\n",
       "      <th></th>\n",
       "      <th>Reagent1</th>\n",
       "      <th>flagrate</th>\n",
       "      <th>sample_type</th>\n",
       "      <th>Metric3</th>\n",
       "      <th>Metric2</th>\n",
       "      <th>Metric4</th>\n",
       "      <th>Metric1</th>\n",
       "      <th>Metric1_abs</th>\n",
       "      <th>Metric2_abs</th>\n",
       "      <th>Metric3_abs</th>\n",
       "      <th>Metric4_abs</th>\n",
       "      <th>id</th>\n",
       "    </tr>\n",
       "  </thead>\n",
       "  <tbody>\n",
       "    <tr>\n",
       "      <th>0</th>\n",
       "      <td>Reagent1_lot02</td>\n",
       "      <td>5.434361e-02</td>\n",
       "      <td>96.176471</td>\n",
       "      <td>37.093681</td>\n",
       "      <td>4.612886</td>\n",
       "      <td>-8.410055</td>\n",
       "      <td>-12.595653</td>\n",
       "      <td>43.656811</td>\n",
       "      <td>54.664940</td>\n",
       "      <td>59.733398</td>\n",
       "      <td>41.189509</td>\n",
       "      <td>10.352941</td>\n",
       "    </tr>\n",
       "    <tr>\n",
       "      <th>1</th>\n",
       "      <td>Reagent1_lot03</td>\n",
       "      <td>8.338643e-08</td>\n",
       "      <td>93.500000</td>\n",
       "      <td>-17.581396</td>\n",
       "      <td>-0.390721</td>\n",
       "      <td>-0.100847</td>\n",
       "      <td>4.454054</td>\n",
       "      <td>37.947047</td>\n",
       "      <td>38.231472</td>\n",
       "      <td>42.304119</td>\n",
       "      <td>40.634157</td>\n",
       "      <td>60.500000</td>\n",
       "    </tr>\n",
       "    <tr>\n",
       "      <th>2</th>\n",
       "      <td>Reagent1_lot04</td>\n",
       "      <td>2.759895e-02</td>\n",
       "      <td>97.562500</td>\n",
       "      <td>49.779575</td>\n",
       "      <td>1.451169</td>\n",
       "      <td>-8.545490</td>\n",
       "      <td>-9.335901</td>\n",
       "      <td>43.557412</td>\n",
       "      <td>55.356516</td>\n",
       "      <td>65.438982</td>\n",
       "      <td>40.764946</td>\n",
       "      <td>30.000000</td>\n",
       "    </tr>\n",
       "  </tbody>\n",
       "</table>\n",
       "</div>"
      ],
      "text/plain": [
       "         Reagent1      flagrate  sample_type    Metric3   Metric2   Metric4  \\\n",
       "0  Reagent1_lot02  5.434361e-02    96.176471  37.093681  4.612886 -8.410055   \n",
       "1  Reagent1_lot03  8.338643e-08    93.500000 -17.581396 -0.390721 -0.100847   \n",
       "2  Reagent1_lot04  2.759895e-02    97.562500  49.779575  1.451169 -8.545490   \n",
       "\n",
       "     Metric1  Metric1_abs  Metric2_abs  Metric3_abs  Metric4_abs         id  \n",
       "0 -12.595653    43.656811    54.664940    59.733398    41.189509  10.352941  \n",
       "1   4.454054    37.947047    38.231472    42.304119    40.634157  60.500000  \n",
       "2  -9.335901    43.557412    55.356516    65.438982    40.764946  30.000000  "
      ]
     },
     "execution_count": 118,
     "metadata": {},
     "output_type": "execute_result"
    }
   ],
   "source": [
    "reagents_prot1 = reagents_prot1.groupby(['Reagent1']).mean()\n",
    "reagents_prot1.reset_index(inplace=True)\n",
    "reagents_prot1"
   ]
  },
  {
   "cell_type": "code",
   "execution_count": 119,
   "metadata": {
    "collapsed": true
   },
   "outputs": [],
   "source": [
    "reagents_prot1.loc[3] = [0,0,0,0,0,0,0,0,0,0,0,0]"
   ]
  },
  {
   "cell_type": "code",
   "execution_count": 120,
   "metadata": {
    "collapsed": false
   },
   "outputs": [
    {
     "data": {
      "text/html": [
       "<div>\n",
       "<table border=\"1\" class=\"dataframe\">\n",
       "  <thead>\n",
       "    <tr style=\"text-align: right;\">\n",
       "      <th></th>\n",
       "      <th>Reagent1</th>\n",
       "      <th>flagrate</th>\n",
       "      <th>sample_type</th>\n",
       "      <th>Metric3</th>\n",
       "      <th>Metric2</th>\n",
       "      <th>Metric4</th>\n",
       "      <th>Metric1</th>\n",
       "      <th>Metric1_abs</th>\n",
       "      <th>Metric2_abs</th>\n",
       "      <th>Metric3_abs</th>\n",
       "      <th>Metric4_abs</th>\n",
       "      <th>id</th>\n",
       "    </tr>\n",
       "  </thead>\n",
       "  <tbody>\n",
       "    <tr>\n",
       "      <th>3</th>\n",
       "      <td>0</td>\n",
       "      <td>0.000000e+00</td>\n",
       "      <td>0.000000</td>\n",
       "      <td>0.000000</td>\n",
       "      <td>0.000000</td>\n",
       "      <td>0.000000</td>\n",
       "      <td>0.000000</td>\n",
       "      <td>0.000000</td>\n",
       "      <td>0.000000</td>\n",
       "      <td>0.000000</td>\n",
       "      <td>0.000000</td>\n",
       "      <td>0.000000</td>\n",
       "    </tr>\n",
       "    <tr>\n",
       "      <th>0</th>\n",
       "      <td>Reagent1_lot02</td>\n",
       "      <td>5.434361e-02</td>\n",
       "      <td>96.176471</td>\n",
       "      <td>37.093681</td>\n",
       "      <td>4.612886</td>\n",
       "      <td>-8.410055</td>\n",
       "      <td>-12.595653</td>\n",
       "      <td>43.656811</td>\n",
       "      <td>54.664940</td>\n",
       "      <td>59.733398</td>\n",
       "      <td>41.189509</td>\n",
       "      <td>10.352941</td>\n",
       "    </tr>\n",
       "    <tr>\n",
       "      <th>1</th>\n",
       "      <td>Reagent1_lot03</td>\n",
       "      <td>8.338643e-08</td>\n",
       "      <td>93.500000</td>\n",
       "      <td>-17.581396</td>\n",
       "      <td>-0.390721</td>\n",
       "      <td>-0.100847</td>\n",
       "      <td>4.454054</td>\n",
       "      <td>37.947047</td>\n",
       "      <td>38.231472</td>\n",
       "      <td>42.304119</td>\n",
       "      <td>40.634157</td>\n",
       "      <td>60.500000</td>\n",
       "    </tr>\n",
       "    <tr>\n",
       "      <th>2</th>\n",
       "      <td>Reagent1_lot04</td>\n",
       "      <td>2.759895e-02</td>\n",
       "      <td>97.562500</td>\n",
       "      <td>49.779575</td>\n",
       "      <td>1.451169</td>\n",
       "      <td>-8.545490</td>\n",
       "      <td>-9.335901</td>\n",
       "      <td>43.557412</td>\n",
       "      <td>55.356516</td>\n",
       "      <td>65.438982</td>\n",
       "      <td>40.764946</td>\n",
       "      <td>30.000000</td>\n",
       "    </tr>\n",
       "  </tbody>\n",
       "</table>\n",
       "</div>"
      ],
      "text/plain": [
       "         Reagent1      flagrate  sample_type    Metric3   Metric2   Metric4  \\\n",
       "3               0  0.000000e+00     0.000000   0.000000  0.000000  0.000000   \n",
       "0  Reagent1_lot02  5.434361e-02    96.176471  37.093681  4.612886 -8.410055   \n",
       "1  Reagent1_lot03  8.338643e-08    93.500000 -17.581396 -0.390721 -0.100847   \n",
       "2  Reagent1_lot04  2.759895e-02    97.562500  49.779575  1.451169 -8.545490   \n",
       "\n",
       "     Metric1  Metric1_abs  Metric2_abs  Metric3_abs  Metric4_abs         id  \n",
       "3   0.000000     0.000000     0.000000     0.000000     0.000000   0.000000  \n",
       "0 -12.595653    43.656811    54.664940    59.733398    41.189509  10.352941  \n",
       "1   4.454054    37.947047    38.231472    42.304119    40.634157  60.500000  \n",
       "2  -9.335901    43.557412    55.356516    65.438982    40.764946  30.000000  "
      ]
     },
     "execution_count": 120,
     "metadata": {},
     "output_type": "execute_result"
    }
   ],
   "source": [
    "reagents_prot1 = reagents_prot1.reindex([3,0,1,2])\n",
    "reagents_prot1"
   ]
  },
  {
   "cell_type": "code",
   "execution_count": 121,
   "metadata": {
    "collapsed": false
   },
   "outputs": [
    {
     "data": {
      "text/html": [
       "<div>\n",
       "<table border=\"1\" class=\"dataframe\">\n",
       "  <thead>\n",
       "    <tr style=\"text-align: right;\">\n",
       "      <th></th>\n",
       "      <th>Reagent1</th>\n",
       "      <th>flagrate</th>\n",
       "      <th>sample_type</th>\n",
       "      <th>Metric3</th>\n",
       "      <th>Metric2</th>\n",
       "      <th>Metric4</th>\n",
       "      <th>Metric1</th>\n",
       "      <th>Metric1_abs</th>\n",
       "      <th>Metric2_abs</th>\n",
       "      <th>Metric3_abs</th>\n",
       "      <th>Metric4_abs</th>\n",
       "      <th>id</th>\n",
       "    </tr>\n",
       "  </thead>\n",
       "  <tbody>\n",
       "    <tr>\n",
       "      <th>0</th>\n",
       "      <td>Reagent1_lot01</td>\n",
       "      <td>0.018605</td>\n",
       "      <td>98.400000</td>\n",
       "      <td>33.109959</td>\n",
       "      <td>-2.348784</td>\n",
       "      <td>-15.737219</td>\n",
       "      <td>-6.367748</td>\n",
       "      <td>38.792081</td>\n",
       "      <td>30.919927</td>\n",
       "      <td>58.025179</td>\n",
       "      <td>47.467986</td>\n",
       "      <td>57.200000</td>\n",
       "    </tr>\n",
       "    <tr>\n",
       "      <th>1</th>\n",
       "      <td>Reagent1_lot03</td>\n",
       "      <td>0.015261</td>\n",
       "      <td>96.833333</td>\n",
       "      <td>-36.665984</td>\n",
       "      <td>-2.846345</td>\n",
       "      <td>20.101801</td>\n",
       "      <td>1.783228</td>\n",
       "      <td>40.057732</td>\n",
       "      <td>29.984401</td>\n",
       "      <td>49.161527</td>\n",
       "      <td>59.127873</td>\n",
       "      <td>54.583333</td>\n",
       "    </tr>\n",
       "    <tr>\n",
       "      <th>2</th>\n",
       "      <td>Reagent1_lot04</td>\n",
       "      <td>0.010466</td>\n",
       "      <td>101.000000</td>\n",
       "      <td>11.111393</td>\n",
       "      <td>-3.284907</td>\n",
       "      <td>-2.465882</td>\n",
       "      <td>-2.681737</td>\n",
       "      <td>46.688257</td>\n",
       "      <td>30.731829</td>\n",
       "      <td>46.336716</td>\n",
       "      <td>52.141982</td>\n",
       "      <td>32.000000</td>\n",
       "    </tr>\n",
       "  </tbody>\n",
       "</table>\n",
       "</div>"
      ],
      "text/plain": [
       "         Reagent1  flagrate  sample_type    Metric3   Metric2    Metric4  \\\n",
       "0  Reagent1_lot01  0.018605    98.400000  33.109959 -2.348784 -15.737219   \n",
       "1  Reagent1_lot03  0.015261    96.833333 -36.665984 -2.846345  20.101801   \n",
       "2  Reagent1_lot04  0.010466   101.000000  11.111393 -3.284907  -2.465882   \n",
       "\n",
       "    Metric1  Metric1_abs  Metric2_abs  Metric3_abs  Metric4_abs         id  \n",
       "0 -6.367748    38.792081    30.919927    58.025179    47.467986  57.200000  \n",
       "1  1.783228    40.057732    29.984401    49.161527    59.127873  54.583333  \n",
       "2 -2.681737    46.688257    30.731829    46.336716    52.141982  32.000000  "
      ]
     },
     "execution_count": 121,
     "metadata": {},
     "output_type": "execute_result"
    }
   ],
   "source": [
    "#merging protocol 2 metric means with reagent data \n",
    "reagents_prot2 = pd.merge(prot2_means, batch, on=['batch'], how='inner')\n",
    "reagents_prot2 = reagents_prot2.groupby(['Reagent1']).mean()\n",
    "reagents_prot2.reset_index(inplace=True)\n",
    "reagents_prot2"
   ]
  },
  {
   "cell_type": "code",
   "execution_count": 122,
   "metadata": {
    "collapsed": false
   },
   "outputs": [],
   "source": [
    "reagents_prot2.loc[3] = [0,0,0,0,0,0,0,0,0,0,0,0]"
   ]
  },
  {
   "cell_type": "code",
   "execution_count": 123,
   "metadata": {
    "collapsed": false
   },
   "outputs": [],
   "source": [
    "reagents_prot2 = reagents_prot2.reindex([0,3,1,2]) #reorganizing the indices for clarity"
   ]
  },
  {
   "cell_type": "code",
   "execution_count": 124,
   "metadata": {
    "collapsed": false
   },
   "outputs": [
    {
     "data": {
      "text/html": [
       "<div>\n",
       "<table border=\"1\" class=\"dataframe\">\n",
       "  <thead>\n",
       "    <tr style=\"text-align: right;\">\n",
       "      <th></th>\n",
       "      <th>Reagent1</th>\n",
       "      <th>flagrate</th>\n",
       "      <th>sample_type</th>\n",
       "      <th>Metric3</th>\n",
       "      <th>Metric2</th>\n",
       "      <th>Metric4</th>\n",
       "      <th>Metric1</th>\n",
       "      <th>Metric1_abs</th>\n",
       "      <th>Metric2_abs</th>\n",
       "      <th>Metric3_abs</th>\n",
       "      <th>Metric4_abs</th>\n",
       "      <th>id</th>\n",
       "    </tr>\n",
       "  </thead>\n",
       "  <tbody>\n",
       "    <tr>\n",
       "      <th>0</th>\n",
       "      <td>Reagent1_lot01</td>\n",
       "      <td>0.018605</td>\n",
       "      <td>98.400000</td>\n",
       "      <td>33.109959</td>\n",
       "      <td>-2.348784</td>\n",
       "      <td>-15.737219</td>\n",
       "      <td>-6.367748</td>\n",
       "      <td>38.792081</td>\n",
       "      <td>30.919927</td>\n",
       "      <td>58.025179</td>\n",
       "      <td>47.467986</td>\n",
       "      <td>57.200000</td>\n",
       "    </tr>\n",
       "    <tr>\n",
       "      <th>3</th>\n",
       "      <td>0</td>\n",
       "      <td>0.000000</td>\n",
       "      <td>0.000000</td>\n",
       "      <td>0.000000</td>\n",
       "      <td>0.000000</td>\n",
       "      <td>0.000000</td>\n",
       "      <td>0.000000</td>\n",
       "      <td>0.000000</td>\n",
       "      <td>0.000000</td>\n",
       "      <td>0.000000</td>\n",
       "      <td>0.000000</td>\n",
       "      <td>0.000000</td>\n",
       "    </tr>\n",
       "    <tr>\n",
       "      <th>1</th>\n",
       "      <td>Reagent1_lot03</td>\n",
       "      <td>0.015261</td>\n",
       "      <td>96.833333</td>\n",
       "      <td>-36.665984</td>\n",
       "      <td>-2.846345</td>\n",
       "      <td>20.101801</td>\n",
       "      <td>1.783228</td>\n",
       "      <td>40.057732</td>\n",
       "      <td>29.984401</td>\n",
       "      <td>49.161527</td>\n",
       "      <td>59.127873</td>\n",
       "      <td>54.583333</td>\n",
       "    </tr>\n",
       "    <tr>\n",
       "      <th>2</th>\n",
       "      <td>Reagent1_lot04</td>\n",
       "      <td>0.010466</td>\n",
       "      <td>101.000000</td>\n",
       "      <td>11.111393</td>\n",
       "      <td>-3.284907</td>\n",
       "      <td>-2.465882</td>\n",
       "      <td>-2.681737</td>\n",
       "      <td>46.688257</td>\n",
       "      <td>30.731829</td>\n",
       "      <td>46.336716</td>\n",
       "      <td>52.141982</td>\n",
       "      <td>32.000000</td>\n",
       "    </tr>\n",
       "  </tbody>\n",
       "</table>\n",
       "</div>"
      ],
      "text/plain": [
       "         Reagent1  flagrate  sample_type    Metric3   Metric2    Metric4  \\\n",
       "0  Reagent1_lot01  0.018605    98.400000  33.109959 -2.348784 -15.737219   \n",
       "3               0  0.000000     0.000000   0.000000  0.000000   0.000000   \n",
       "1  Reagent1_lot03  0.015261    96.833333 -36.665984 -2.846345  20.101801   \n",
       "2  Reagent1_lot04  0.010466   101.000000  11.111393 -3.284907  -2.465882   \n",
       "\n",
       "    Metric1  Metric1_abs  Metric2_abs  Metric3_abs  Metric4_abs         id  \n",
       "0 -6.367748    38.792081    30.919927    58.025179    47.467986  57.200000  \n",
       "3  0.000000     0.000000     0.000000     0.000000     0.000000   0.000000  \n",
       "1  1.783228    40.057732    29.984401    49.161527    59.127873  54.583333  \n",
       "2 -2.681737    46.688257    30.731829    46.336716    52.141982  32.000000  "
      ]
     },
     "execution_count": 124,
     "metadata": {},
     "output_type": "execute_result"
    }
   ],
   "source": [
    "reagents_prot2"
   ]
  },
  {
   "cell_type": "code",
   "execution_count": 125,
   "metadata": {
    "collapsed": false
   },
   "outputs": [
    {
     "data": {
      "text/html": [
       "<div>\n",
       "<table border=\"1\" class=\"dataframe\">\n",
       "  <thead>\n",
       "    <tr style=\"text-align: right;\">\n",
       "      <th></th>\n",
       "      <th>Reagent1</th>\n",
       "      <th>flagrate</th>\n",
       "      <th>sample_type</th>\n",
       "      <th>Metric3</th>\n",
       "      <th>Metric2</th>\n",
       "      <th>Metric4</th>\n",
       "      <th>Metric1</th>\n",
       "      <th>Metric1_abs</th>\n",
       "      <th>Metric2_abs</th>\n",
       "      <th>Metric3_abs</th>\n",
       "      <th>Metric4_abs</th>\n",
       "      <th>id</th>\n",
       "    </tr>\n",
       "  </thead>\n",
       "  <tbody>\n",
       "    <tr>\n",
       "      <th>3</th>\n",
       "      <td>0</td>\n",
       "      <td>0.000000e+00</td>\n",
       "      <td>0.000000</td>\n",
       "      <td>0.000000</td>\n",
       "      <td>0.000000</td>\n",
       "      <td>0.000000</td>\n",
       "      <td>0.000000</td>\n",
       "      <td>0.000000</td>\n",
       "      <td>0.000000</td>\n",
       "      <td>0.000000</td>\n",
       "      <td>0.000000</td>\n",
       "      <td>0.000000</td>\n",
       "    </tr>\n",
       "    <tr>\n",
       "      <th>0</th>\n",
       "      <td>Reagent1_lot02</td>\n",
       "      <td>5.434361e-02</td>\n",
       "      <td>96.176471</td>\n",
       "      <td>37.093681</td>\n",
       "      <td>4.612886</td>\n",
       "      <td>-8.410055</td>\n",
       "      <td>-12.595653</td>\n",
       "      <td>43.656811</td>\n",
       "      <td>54.664940</td>\n",
       "      <td>59.733398</td>\n",
       "      <td>41.189509</td>\n",
       "      <td>10.352941</td>\n",
       "    </tr>\n",
       "    <tr>\n",
       "      <th>1</th>\n",
       "      <td>Reagent1_lot03</td>\n",
       "      <td>8.338643e-08</td>\n",
       "      <td>93.500000</td>\n",
       "      <td>-17.581396</td>\n",
       "      <td>-0.390721</td>\n",
       "      <td>-0.100847</td>\n",
       "      <td>4.454054</td>\n",
       "      <td>37.947047</td>\n",
       "      <td>38.231472</td>\n",
       "      <td>42.304119</td>\n",
       "      <td>40.634157</td>\n",
       "      <td>60.500000</td>\n",
       "    </tr>\n",
       "    <tr>\n",
       "      <th>2</th>\n",
       "      <td>Reagent1_lot04</td>\n",
       "      <td>2.759895e-02</td>\n",
       "      <td>97.562500</td>\n",
       "      <td>49.779575</td>\n",
       "      <td>1.451169</td>\n",
       "      <td>-8.545490</td>\n",
       "      <td>-9.335901</td>\n",
       "      <td>43.557412</td>\n",
       "      <td>55.356516</td>\n",
       "      <td>65.438982</td>\n",
       "      <td>40.764946</td>\n",
       "      <td>30.000000</td>\n",
       "    </tr>\n",
       "  </tbody>\n",
       "</table>\n",
       "</div>"
      ],
      "text/plain": [
       "         Reagent1      flagrate  sample_type    Metric3   Metric2   Metric4  \\\n",
       "3               0  0.000000e+00     0.000000   0.000000  0.000000  0.000000   \n",
       "0  Reagent1_lot02  5.434361e-02    96.176471  37.093681  4.612886 -8.410055   \n",
       "1  Reagent1_lot03  8.338643e-08    93.500000 -17.581396 -0.390721 -0.100847   \n",
       "2  Reagent1_lot04  2.759895e-02    97.562500  49.779575  1.451169 -8.545490   \n",
       "\n",
       "     Metric1  Metric1_abs  Metric2_abs  Metric3_abs  Metric4_abs         id  \n",
       "3   0.000000     0.000000     0.000000     0.000000     0.000000   0.000000  \n",
       "0 -12.595653    43.656811    54.664940    59.733398    41.189509  10.352941  \n",
       "1   4.454054    37.947047    38.231472    42.304119    40.634157  60.500000  \n",
       "2  -9.335901    43.557412    55.356516    65.438982    40.764946  30.000000  "
      ]
     },
     "execution_count": 125,
     "metadata": {},
     "output_type": "execute_result"
    }
   ],
   "source": [
    "reagents_prot1"
   ]
  },
  {
   "cell_type": "code",
   "execution_count": 126,
   "metadata": {
    "collapsed": false,
    "scrolled": true
   },
   "outputs": [
    {
     "name": "stderr",
     "output_type": "stream",
     "text": [
      "/Users/sheena/anaconda/lib/python2.7/site-packages/matplotlib/axes/_axes.py:519: UserWarning: No labelled objects found. Use label='...' kwarg on individual plots.\n",
      "  warnings.warn(\"No labelled objects found. \"\n"
     ]
    },
    {
     "data": {
      "image/png": "[encoded data removed]",
      "text/plain": [
       "<matplotlib.figure.Figure at 0x11c439a90>"
      ]
     },
     "metadata": {},
     "output_type": "display_data"
    }
   ],
   "source": [
    "#creating a plot of metrics by reagent\n",
    "fig = plt.figure(figsize=(16,10))\n",
    "\n",
    "ax = fig.add_subplot(221) \n",
    "wid = .2\n",
    "ind = np.arange(len(reagents_prot2.Metric1_abs))\n",
    "plt.bar(ind, reagents_prot1.Metric1_abs, color='grey', width=.2,label='Protocol 1')\n",
    "plt.bar(ind+wid, reagents_prot2.Metric1_abs, color='blue', width=.2,label='Protocol 2')\n",
    "plt.legend(loc=2)\n",
    "plt.title('Absolute Value of Metric1 by Reagent Lot', size=16)\n",
    "plt.ylabel('Absolute Value of Metric1', size=12)\n",
    "xTickMarks = [i for i in ['Reagent1_lot1','Reagent1_lot2','Reagent1_lot3','Reagent1_lot4']]\n",
    "ax.set_xticks(ind+wid)\n",
    "xtickNames = ax.set_xticklabels(xTickMarks, fontsize=8)\n",
    "plt.setp(xtickNames,fontsize=16)\n",
    "ax.legend(loc=2)\n",
    "\n",
    "ax1 = fig.add_subplot(222) \n",
    "wid = .2\n",
    "ind = np.arange(len(reagents_prot2.Metric2_abs))\n",
    "plt.bar(ind, reagents_prot1.Metric2_abs, color='grey', width=.2)\n",
    "plt.bar(ind+wid, reagents_prot2.Metric2_abs, color='blue', width=.2)\n",
    "plt.legend(loc=2)\n",
    "plt.title('Absolute Value of Metric2 by Reagent Lot', size=16)\n",
    "plt.ylabel('Absolute Value of Metric2', size=12)\n",
    "xTickMarks = [i for i in ['Reagent1_lot1','Reagent1_lot2','Reagent1_lot3','Reagent1_lot4']]\n",
    "ax1.set_xticks(ind+wid)\n",
    "xtickNames = ax1.set_xticklabels(xTickMarks, fontsize=8)\n",
    "plt.setp(xtickNames,fontsize=16)\n",
    "\n",
    "ax2 = fig.add_subplot(223) \n",
    "wid = .2\n",
    "ind = np.arange(len(reagents_prot2.Metric3_abs))\n",
    "plt.bar(ind, reagents_prot1.Metric3_abs, color='grey', width=.2)\n",
    "plt.bar(ind+wid, reagents_prot2.Metric3_abs, color='blue', width=.2)\n",
    "plt.legend(loc=2)\n",
    "plt.title('Absolute Value of Metric3 by Reagent Lot', size=16)\n",
    "plt.ylabel('Absolute Value of Metric3', size=12)\n",
    "xTickMarks = [i for i in ['Reagent1_lot1','Reagent1_lot2','Reagent1_lot3','Reagent1_lot4']]\n",
    "ax2.set_xticks(ind+wid)\n",
    "xtickNames = ax2.set_xticklabels(xTickMarks, fontsize=8)\n",
    "plt.setp(xtickNames,fontsize=16)\n",
    "\n",
    "ax3 = fig.add_subplot(224) \n",
    "wid = .2\n",
    "ind = np.arange(len(reagents_prot2.Metric4_abs))\n",
    "plt.bar(ind, reagents_prot1.Metric4_abs, color='grey', width=.2)\n",
    "plt.bar(ind+wid, reagents_prot2.Metric4_abs, color='blue', width=.2)\n",
    "plt.legend(loc=2)\n",
    "plt.title('Absolute Value of Metric4 by Reagent Lot', size=16)\n",
    "plt.ylabel('Absolute Value of Metric4', size=12)\n",
    "xTickMarks = [i for i in ['Reagent1_lot1','Reagent1_lot2','Reagent1_lot3','Reagent1_lot4']]\n",
    "ax3.set_xticks(ind+wid)\n",
    "xtickNames = ax3.set_xticklabels(xTickMarks, fontsize=8)\n",
    "plt.setp(xtickNames,fontsize=16)\n",
    "\n",
    "fig.tight_layout()\n",
    "plt.show()"
   ]
  },
  {
   "cell_type": "code",
   "execution_count": null,
   "metadata": {
    "collapsed": true
   },
   "outputs": [],
   "source": []
  }
 ],
 "metadata": {
  "kernelspec": {
   "display_name": "Python 2",
   "language": "python",
   "name": "python2"
  },
  "language_info": {
   "codemirror_mode": {
    "name": "ipython",
    "version": 2
   },
   "file_extension": ".py",
   "mimetype": "text/x-python",
   "name": "python",
   "nbconvert_exporter": "python",
   "pygments_lexer": "ipython2",
   "version": "2.7.12"
  }
 },
 "nbformat": 4,
 "nbformat_minor": 0
}
