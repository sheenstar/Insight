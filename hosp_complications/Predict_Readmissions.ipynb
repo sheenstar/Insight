{
 "cells": [
  {
   "cell_type": "markdown",
   "metadata": {},
   "source": [
    "## Predicting Hospital Readmissions - Medicare Hospital Compare Data"
   ]
  },
  {
   "cell_type": "markdown",
   "metadata": {},
   "source": [
    "### There are 6 relevant data sets\n",
    "#### Target data is included in Readmissions_and_Death.csv. I am using the Readmissions data for all 8 diseases\n",
    "#### Feature data comes from 6 different data sets. Hospital Names are common to all datasets"
   ]
  },
  {
   "cell_type": "code",
   "execution_count": 18,
   "metadata": {
    "collapsed": true
   },
   "outputs": [],
   "source": [
    "import numpy as np\n",
    "import pandas as pd\n",
    "import matplotlib\n",
    "import matplotlib.pyplot as plt\n",
    "\n",
    "%matplotlib inline"
   ]
  },
  {
   "cell_type": "code",
   "execution_count": 19,
   "metadata": {
    "collapsed": true
   },
   "outputs": [],
   "source": [
    "comp = pd.read_csv('Complications_-_Hospital.csv')\n",
    "death = pd.read_csv('Readmissions_and_Deaths.csv')"
   ]
  },
  {
   "cell_type": "code",
   "execution_count": 20,
   "metadata": {
    "collapsed": false
   },
   "outputs": [
    {
     "name": "stdout",
     "output_type": "stream",
     "text": [
      "<class 'pandas.core.frame.DataFrame'>\n",
      "Int64Index: 38456 entries, 6 to 67297\n",
      "Data columns (total 19 columns):\n",
      "Provider ID             38456 non-null int64\n",
      "Hospital Name           38456 non-null object\n",
      "Address                 38456 non-null object\n",
      "City                    38456 non-null object\n",
      "State                   38456 non-null object\n",
      "ZIP Code                38456 non-null int64\n",
      "County Name             38336 non-null object\n",
      "Phone Number            38456 non-null int64\n",
      "Measure Name            38456 non-null object\n",
      "Measure ID              38456 non-null object\n",
      "Compared to National    38456 non-null object\n",
      "Denominator             38456 non-null object\n",
      "Score                   38456 non-null object\n",
      "Lower Estimate          38456 non-null object\n",
      "Higher Estimate         38456 non-null object\n",
      "Footnote                14162 non-null object\n",
      "Measure Start Date      38456 non-null object\n",
      "Measure End Date        38456 non-null object\n",
      "Location                0 non-null float64\n",
      "dtypes: float64(1), int64(3), object(15)\n",
      "memory usage: 5.9+ MB\n"
     ]
    }
   ],
   "source": [
    "readm_only = death[death['Measure ID'].str.contains('READM')] #excluding mortality\n",
    "readm_only.info() #dataframe of readmissions only"
   ]
  },
  {
   "cell_type": "markdown",
   "metadata": {},
   "source": [
    "## Example of Readmit scores for one random hosp"
   ]
  },
  {
   "cell_type": "code",
   "execution_count": 21,
   "metadata": {
    "collapsed": true
   },
   "outputs": [],
   "source": [
    "abbot = readm_only[readm_only['Hospital Name'] == 'ABBOTT NORTHWESTERN HOSPITAL'] #just grabbing one example to graph"
   ]
  },
  {
   "cell_type": "code",
   "execution_count": 22,
   "metadata": {
    "collapsed": true
   },
   "outputs": [],
   "source": [
    "list_conditions = ['Heart Attack', 'Coronary Artery Bypass', 'COPD', 'Heart Failure', 'Hip/Knee Replacement',\n",
    "                          'General', 'Pneumonia', 'Stroke']"
   ]
  },
  {
   "cell_type": "code",
   "execution_count": 23,
   "metadata": {
    "collapsed": false
   },
   "outputs": [
    {
     "data": {
      "image/png": "[encoded data removed]",
      "text/plain": [
       "<matplotlib.figure.Figure at 0x11af74f90>"
      ]
     },
     "metadata": {},
     "output_type": "display_data"
    }
   ],
   "source": [
    "fig = plt.figure(figsize=(8,6))\n",
    "ax = fig.add_subplot(111)\n",
    "wid = .3\n",
    "ind = ind = np.arange(len(abbot.Score))\n",
    "plt.bar(ind, abbot.Score)\n",
    "\n",
    "xTickMarks = [i for i in list_conditions]\n",
    "ax.set_xticks(ind)\n",
    "xtickNames = ax.set_xticklabels(xTickMarks, fontsize=8)\n",
    "ax.set_xlim(-wid,len(ind)+wid)\n",
    "plt.setp(xtickNames, rotation=45, fontsize=10)\n",
    "plt.ylabel('Readmission Score')\n",
    "plt.title('Abbott Northwestern Hospital')\n",
    "fig.tight_layout()\n",
    "fig.subplots_adjust(bottom=0.2)\n",
    "plt.show()"
   ]
  },
  {
   "cell_type": "code",
   "execution_count": 24,
   "metadata": {
    "collapsed": false
   },
   "outputs": [
    {
     "data": {
      "text/plain": [
       "38456"
      ]
     },
     "execution_count": 24,
     "metadata": {},
     "output_type": "execute_result"
    }
   ],
   "source": [
    "readm_only.Score.notnull().count()"
   ]
  },
  {
   "cell_type": "code",
   "execution_count": 25,
   "metadata": {
    "collapsed": false
   },
   "outputs": [
    {
     "data": {
      "text/plain": [
       "6    16.5\n",
       "Name: Score, dtype: object"
      ]
     },
     "execution_count": 25,
     "metadata": {},
     "output_type": "execute_result"
    }
   ],
   "source": [
    "readm_only.Score[:1] #Why is this an object and not a float - because of NaNs?"
   ]
  },
  {
   "cell_type": "code",
   "execution_count": 26,
   "metadata": {
    "collapsed": false
   },
   "outputs": [
    {
     "data": {
      "text/plain": [
       "array(['16.5', '15.1', '21.1', '21.4', '5.1', '15.4', '18.7', '12.7',\n",
       "       '16.7', 'Not Available', '18.0', '21.9', '5.7', '14.9', '16.4',\n",
       "       '13.4', '16.1', '15.2', '19.8', '20.6', '5.0', '17.9', '12.0',\n",
       "       '19.9', '16.6', '17.3', '11.3', '19.2', '23.1', '15.7', '16.0',\n",
       "       '17.7', '15.0', '19.6', '15.3', '23.4', '19.4', '12.8', '15.8',\n",
       "       '21.5', '14.7', '17.1', '12.4', '23.0', '22.4', '4.1', '15.9',\n",
       "       '18.3', '13.5', '21.3', '14.8', '18.1', '15.6', '19.5', '23.3',\n",
       "       '4.7', '18.6', '13.8', '14.0', '17.2', '19.0', '4.9', '16.9',\n",
       "       '13.0', '16.8', '12.6', '23.2', '5.9', '12.1', '21.6', '16.3',\n",
       "       '23.7', '20.1', '21.7', '16.2', '22.8', '4.6', '12.5', '3.9',\n",
       "       '20.3', '24.0', '13.7', '4.8', '12.3', '19.7', '21.0', '6.7',\n",
       "       '13.1', '20.8', '22.2', '11.2', '14.2', '22.3', '17.5', '20.0',\n",
       "       '22.5', '4.3', '20.4', '19.1', '14.6', '13.3', '17.8', '22.6',\n",
       "       '14.1', '18.8', '20.7', '20.9', '20.2', '6.2', '22.9', '13.2',\n",
       "       '5.5', '15.5', '21.8', '14.3', '20.5', '22.0', '10.5', '4.5',\n",
       "       '14.4', '5.2', '22.1', '18.9', '23.6', '17.6', '12.2', '12.9',\n",
       "       '21.2', '18.4', '17.0', '19.3', '17.4', '18.2', '22.7', '5.4',\n",
       "       '4.2', '10.0', '4.4', '4.0', '11.7', '23.8', '5.3', '11.6', '10.8',\n",
       "       '9.8', '24.6', '3.7', '13.6', '11.5', '14.5', '24.8', '13.9',\n",
       "       '11.4', '3.8', '24.4', '23.9', '10.9', '11.8', '3.6', '11.0',\n",
       "       '11.9', '23.5', '24.7', '26.2', '18.5', '24.3', '25.2', '26.1',\n",
       "       '24.2', '24.5', '24.9', '3.3', '10.7', '25.3', '6.1', '10.6', '3.4',\n",
       "       '25.0', '24.1', '10.3', '2.9', '11.1', '5.6', '3.5', '26.3', '25.9',\n",
       "       '2.4', '9.6', '10.2', '3.2', '5.8', '6.3', '25.5', '3.0', '26.4',\n",
       "       '27.0', '25.4', '26.0', '25.7', '26.7', '6.5', '25.1', '6.4',\n",
       "       '10.4', '6.0', '25.8', '9.9', '10.1', '31.3', '6.6', '9.1', '26.9',\n",
       "       '26.8', '6.8', '25.6', '27.2', '27.4', '6.9', '7.8'], dtype=object)"
      ]
     },
     "execution_count": 26,
     "metadata": {},
     "output_type": "execute_result"
    }
   ],
   "source": [
    "readm_only.Score.unique() #'Not Available' is screwing this up "
   ]
  },
  {
   "cell_type": "code",
   "execution_count": 27,
   "metadata": {
    "collapsed": false
   },
   "outputs": [
    {
     "data": {
      "text/html": [
       "<div>\n",
       "<table border=\"1\" class=\"dataframe\">\n",
       "  <thead>\n",
       "    <tr style=\"text-align: right;\">\n",
       "      <th></th>\n",
       "      <th>Provider ID</th>\n",
       "      <th>Hospital Name</th>\n",
       "      <th>Address</th>\n",
       "      <th>City</th>\n",
       "      <th>State</th>\n",
       "      <th>ZIP Code</th>\n",
       "      <th>County Name</th>\n",
       "      <th>Phone Number</th>\n",
       "      <th>Measure Name</th>\n",
       "      <th>Measure ID</th>\n",
       "      <th>Compared to National</th>\n",
       "      <th>Denominator</th>\n",
       "      <th>Score</th>\n",
       "      <th>Lower Estimate</th>\n",
       "      <th>Higher Estimate</th>\n",
       "      <th>Footnote</th>\n",
       "      <th>Measure Start Date</th>\n",
       "      <th>Measure End Date</th>\n",
       "      <th>Location</th>\n",
       "    </tr>\n",
       "  </thead>\n",
       "  <tbody>\n",
       "  </tbody>\n",
       "</table>\n",
       "</div>"
      ],
      "text/plain": [
       "Empty DataFrame\n",
       "Columns: [Provider ID, Hospital Name, Address, City, State, ZIP Code, County Name, Phone Number, Measure Name, Measure ID, Compared to National, Denominator, Score, Lower Estimate, Higher Estimate, Footnote, Measure Start Date, Measure End Date, Location]\n",
       "Index: []"
      ]
     },
     "execution_count": 27,
     "metadata": {},
     "output_type": "execute_result"
    }
   ],
   "source": [
    "readm_only[readm_only['Score'] == 0] #There are no 0s in this dataframe"
   ]
  },
  {
   "cell_type": "code",
   "execution_count": 28,
   "metadata": {
    "collapsed": false
   },
   "outputs": [],
   "source": [
    "z = readm_only['Score'].replace({'Not Available':'0'}) "
   ]
  },
  {
   "cell_type": "code",
   "execution_count": 30,
   "metadata": {
    "collapsed": false
   },
   "outputs": [
    {
     "name": "stderr",
     "output_type": "stream",
     "text": [
      "/Users/sheena/anaconda/lib/python2.7/site-packages/ipykernel/__main__.py:1: SettingWithCopyWarning: \n",
      "A value is trying to be set on a copy of a slice from a DataFrame.\n",
      "Try using .loc[row_indexer,col_indexer] = value instead\n",
      "\n",
      "See the caveats in the documentation: http://pandas.pydata.org/pandas-docs/stable/indexing.html#indexing-view-versus-copy\n",
      "  if __name__ == '__main__':\n"
     ]
    }
   ],
   "source": [
    "readm_only['Score'] = z.astype(float)"
   ]
  },
  {
   "cell_type": "code",
   "execution_count": 31,
   "metadata": {
    "collapsed": false
   },
   "outputs": [
    {
     "data": {
      "text/plain": [
       "Provider ID               int64\n",
       "Hospital Name            object\n",
       "Address                  object\n",
       "City                     object\n",
       "State                    object\n",
       "ZIP Code                  int64\n",
       "County Name              object\n",
       "Phone Number              int64\n",
       "Measure Name             object\n",
       "Measure ID               object\n",
       "Compared to National     object\n",
       "Denominator              object\n",
       "Score                   float64\n",
       "Lower Estimate           object\n",
       "Higher Estimate          object\n",
       "Footnote                 object\n",
       "Measure Start Date       object\n",
       "Measure End Date         object\n",
       "Location                float64\n",
       "dtype: object"
      ]
     },
     "execution_count": 31,
     "metadata": {},
     "output_type": "execute_result"
    }
   ],
   "source": [
    "readm_only.dtypes"
   ]
  },
  {
   "cell_type": "code",
   "execution_count": 33,
   "metadata": {
    "collapsed": false
   },
   "outputs": [],
   "source": [
    "r = pd.pivot_table(readm_only, index='Hospital Name', columns = 'Measure ID', values = 'Score')\n",
    "#r.index = r.index.droplevel()"
   ]
  },
  {
   "cell_type": "code",
   "execution_count": 34,
   "metadata": {
    "collapsed": false,
    "scrolled": false
   },
   "outputs": [
    {
     "data": {
      "text/html": [
       "<div>\n",
       "<table border=\"1\" class=\"dataframe\">\n",
       "  <thead>\n",
       "    <tr style=\"text-align: right;\">\n",
       "      <th>Measure ID</th>\n",
       "      <th>READM_30_AMI</th>\n",
       "      <th>READM_30_CABG</th>\n",
       "      <th>READM_30_COPD</th>\n",
       "      <th>READM_30_HF</th>\n",
       "      <th>READM_30_HIP_KNEE</th>\n",
       "      <th>READM_30_HOSP_WIDE</th>\n",
       "      <th>READM_30_PN</th>\n",
       "      <th>READM_30_STK</th>\n",
       "    </tr>\n",
       "    <tr>\n",
       "      <th>Hospital Name</th>\n",
       "      <th></th>\n",
       "      <th></th>\n",
       "      <th></th>\n",
       "      <th></th>\n",
       "      <th></th>\n",
       "      <th></th>\n",
       "      <th></th>\n",
       "      <th></th>\n",
       "    </tr>\n",
       "  </thead>\n",
       "  <tbody>\n",
       "    <tr>\n",
       "      <th>ABBEVILLE AREA MEDICAL CENTER</th>\n",
       "      <td>0.0</td>\n",
       "      <td>0.0</td>\n",
       "      <td>20.3</td>\n",
       "      <td>21.1</td>\n",
       "      <td>4.4</td>\n",
       "      <td>15.7</td>\n",
       "      <td>17.3</td>\n",
       "      <td>0.0</td>\n",
       "    </tr>\n",
       "    <tr>\n",
       "      <th>ABBEVILLE GENERAL HOSPITAL</th>\n",
       "      <td>0.0</td>\n",
       "      <td>0.0</td>\n",
       "      <td>19.1</td>\n",
       "      <td>24.6</td>\n",
       "      <td>4.2</td>\n",
       "      <td>16.0</td>\n",
       "      <td>17.8</td>\n",
       "      <td>0.0</td>\n",
       "    </tr>\n",
       "    <tr>\n",
       "      <th>ABBOTT NORTHWESTERN HOSPITAL</th>\n",
       "      <td>16.8</td>\n",
       "      <td>13.4</td>\n",
       "      <td>20.4</td>\n",
       "      <td>22.5</td>\n",
       "      <td>4.4</td>\n",
       "      <td>15.0</td>\n",
       "      <td>19.6</td>\n",
       "      <td>13.7</td>\n",
       "    </tr>\n",
       "    <tr>\n",
       "      <th>ABILENE REGIONAL MEDICAL CENTER</th>\n",
       "      <td>16.4</td>\n",
       "      <td>15.0</td>\n",
       "      <td>18.3</td>\n",
       "      <td>22.4</td>\n",
       "      <td>4.0</td>\n",
       "      <td>14.5</td>\n",
       "      <td>15.5</td>\n",
       "      <td>13.5</td>\n",
       "    </tr>\n",
       "    <tr>\n",
       "      <th>ABINGTON MEMORIAL HOSPITAL</th>\n",
       "      <td>18.1</td>\n",
       "      <td>13.9</td>\n",
       "      <td>22.8</td>\n",
       "      <td>21.6</td>\n",
       "      <td>5.4</td>\n",
       "      <td>16.2</td>\n",
       "      <td>16.2</td>\n",
       "      <td>12.3</td>\n",
       "    </tr>\n",
       "  </tbody>\n",
       "</table>\n",
       "</div>"
      ],
      "text/plain": [
       "Measure ID                       READM_30_AMI  READM_30_CABG  READM_30_COPD  \\\n",
       "Hospital Name                                                                 \n",
       "ABBEVILLE AREA MEDICAL CENTER             0.0            0.0           20.3   \n",
       "ABBEVILLE GENERAL HOSPITAL                0.0            0.0           19.1   \n",
       "ABBOTT NORTHWESTERN HOSPITAL             16.8           13.4           20.4   \n",
       "ABILENE REGIONAL MEDICAL CENTER          16.4           15.0           18.3   \n",
       "ABINGTON MEMORIAL HOSPITAL               18.1           13.9           22.8   \n",
       "\n",
       "Measure ID                       READM_30_HF  READM_30_HIP_KNEE  \\\n",
       "Hospital Name                                                     \n",
       "ABBEVILLE AREA MEDICAL CENTER           21.1                4.4   \n",
       "ABBEVILLE GENERAL HOSPITAL              24.6                4.2   \n",
       "ABBOTT NORTHWESTERN HOSPITAL            22.5                4.4   \n",
       "ABILENE REGIONAL MEDICAL CENTER         22.4                4.0   \n",
       "ABINGTON MEMORIAL HOSPITAL              21.6                5.4   \n",
       "\n",
       "Measure ID                       READM_30_HOSP_WIDE  READM_30_PN  READM_30_STK  \n",
       "Hospital Name                                                                   \n",
       "ABBEVILLE AREA MEDICAL CENTER                  15.7         17.3           0.0  \n",
       "ABBEVILLE GENERAL HOSPITAL                     16.0         17.8           0.0  \n",
       "ABBOTT NORTHWESTERN HOSPITAL                   15.0         19.6          13.7  \n",
       "ABILENE REGIONAL MEDICAL CENTER                14.5         15.5          13.5  \n",
       "ABINGTON MEMORIAL HOSPITAL                     16.2         16.2          12.3  "
      ]
     },
     "execution_count": 34,
     "metadata": {},
     "output_type": "execute_result"
    }
   ],
   "source": [
    "r.head()"
   ]
  },
  {
   "cell_type": "code",
   "execution_count": 35,
   "metadata": {
    "collapsed": false
   },
   "outputs": [
    {
     "name": "stdout",
     "output_type": "stream",
     "text": [
      "READM_30_AMI\n",
      "READM_30_CABG\n",
      "READM_30_COPD\n",
      "READM_30_HF\n",
      "READM_30_HIP_KNEE\n",
      "READM_30_HOSP_WIDE\n",
      "READM_30_PN\n",
      "READM_30_STK\n"
     ]
    }
   ],
   "source": [
    "for x in r.columns:\n",
    "    print x"
   ]
  },
  {
   "cell_type": "code",
   "execution_count": 36,
   "metadata": {
    "collapsed": false
   },
   "outputs": [],
   "source": [
    "lis = []\n",
    "for x in r.columns:\n",
    "    lis.append(r[x].mean(axis=0))"
   ]
  },
  {
   "cell_type": "code",
   "execution_count": 37,
   "metadata": {
    "collapsed": false
   },
   "outputs": [
    {
     "data": {
      "text/plain": [
       "[7.526218687996018,\n",
       " 3.031933335400133,\n",
       " 15.121803643766526,\n",
       " 16.606390103133304,\n",
       " 2.6075737588872347,\n",
       " 14.239729869378294,\n",
       " 14.520119977678572,\n",
       " 6.775762881324414]"
      ]
     },
     "execution_count": 37,
     "metadata": {},
     "output_type": "execute_result"
    }
   ],
   "source": [
    "lis"
   ]
  },
  {
   "cell_type": "markdown",
   "metadata": {},
   "source": [
    "## Average Readmission Scores per disease"
   ]
  },
  {
   "cell_type": "code",
   "execution_count": 39,
   "metadata": {
    "collapsed": false
   },
   "outputs": [
    {
     "data": {
      "image/png": "[encoded data removed]",
      "text/plain": [
       "<matplotlib.figure.Figure at 0x114f14610>"
      ]
     },
     "metadata": {},
     "output_type": "display_data"
    }
   ],
   "source": [
    "fig = plt.figure(figsize=(8,6))\n",
    "ax = fig.add_subplot(111)\n",
    "\n",
    "leng = np.arange(len(lis))\n",
    "plt.bar(leng, lis)\n",
    "\n",
    "xTickMarks = [i for i in list_conditions]\n",
    "ax.set_xticks(leng)\n",
    "xtickNames = ax.set_xticklabels(xTickMarks, fontsize=8)\n",
    "ax.set_xlim(-wid,len(ind)+wid)\n",
    "plt.setp(xtickNames, rotation=45, fontsize=10)\n",
    "plt.ylabel('Ave Readmission Score')\n",
    "plt.title('Average Readmission Scores across hospitals')\n",
    "fig.tight_layout()\n",
    "fig.subplots_adjust(bottom=0.2)\n",
    "plt.show()\n",
    "plt.show()"
   ]
  },
  {
   "cell_type": "code",
   "execution_count": 40,
   "metadata": {
    "collapsed": false
   },
   "outputs": [
    {
     "data": {
      "text/html": [
       "<div>\n",
       "<table border=\"1\" class=\"dataframe\">\n",
       "  <thead>\n",
       "    <tr style=\"text-align: right;\">\n",
       "      <th></th>\n",
       "      <th>Provider ID</th>\n",
       "      <th>Hospital Name</th>\n",
       "      <th>Address</th>\n",
       "      <th>City</th>\n",
       "      <th>State</th>\n",
       "      <th>ZIP Code</th>\n",
       "      <th>County Name</th>\n",
       "      <th>Phone Number</th>\n",
       "      <th>Measure Name</th>\n",
       "      <th>Measure ID</th>\n",
       "      <th>Compared to National</th>\n",
       "      <th>Denominator</th>\n",
       "      <th>Score</th>\n",
       "      <th>Lower Estimate</th>\n",
       "      <th>Higher Estimate</th>\n",
       "      <th>Footnote</th>\n",
       "      <th>Measure Start Date</th>\n",
       "      <th>Measure End Date</th>\n",
       "      <th>Location</th>\n",
       "    </tr>\n",
       "  </thead>\n",
       "  <tbody>\n",
       "    <tr>\n",
       "      <th>0</th>\n",
       "      <td>10001</td>\n",
       "      <td>SOUTHEAST ALABAMA MEDICAL CENTER</td>\n",
       "      <td>1108 ROSS CLARK CIRCLE</td>\n",
       "      <td>DOTHAN</td>\n",
       "      <td>AL</td>\n",
       "      <td>36301</td>\n",
       "      <td>HOUSTON</td>\n",
       "      <td>3347938701</td>\n",
       "      <td>Rate of complications for hip/knee replacement...</td>\n",
       "      <td>COMP_HIP_KNEE</td>\n",
       "      <td>No Different than the National Rate</td>\n",
       "      <td>331</td>\n",
       "      <td>3.8</td>\n",
       "      <td>2.6</td>\n",
       "      <td>5.5</td>\n",
       "      <td>NaN</td>\n",
       "      <td>04/01/2012</td>\n",
       "      <td>03/31/2015</td>\n",
       "      <td>NaN</td>\n",
       "    </tr>\n",
       "    <tr>\n",
       "      <th>1</th>\n",
       "      <td>10001</td>\n",
       "      <td>SOUTHEAST ALABAMA MEDICAL CENTER</td>\n",
       "      <td>1108 ROSS CLARK CIRCLE</td>\n",
       "      <td>DOTHAN</td>\n",
       "      <td>AL</td>\n",
       "      <td>36301</td>\n",
       "      <td>HOUSTON</td>\n",
       "      <td>3347938701</td>\n",
       "      <td>Serious blood clots after surgery</td>\n",
       "      <td>PSI_12_POSTOP_PULMEMB_DVT</td>\n",
       "      <td>No Different than the National Rate</td>\n",
       "      <td>4549</td>\n",
       "      <td>3.32</td>\n",
       "      <td>1.25</td>\n",
       "      <td>5.38</td>\n",
       "      <td>NaN</td>\n",
       "      <td>07/01/2013</td>\n",
       "      <td>06/30/2015</td>\n",
       "      <td>NaN</td>\n",
       "    </tr>\n",
       "    <tr>\n",
       "      <th>2</th>\n",
       "      <td>10001</td>\n",
       "      <td>SOUTHEAST ALABAMA MEDICAL CENTER</td>\n",
       "      <td>1108 ROSS CLARK CIRCLE</td>\n",
       "      <td>DOTHAN</td>\n",
       "      <td>AL</td>\n",
       "      <td>36301</td>\n",
       "      <td>HOUSTON</td>\n",
       "      <td>3347938701</td>\n",
       "      <td>Blood stream infection after surgery</td>\n",
       "      <td>PSI_13_POST_SEPSIS</td>\n",
       "      <td>No Different than the National Rate</td>\n",
       "      <td>578</td>\n",
       "      <td>5.72</td>\n",
       "      <td>0.00</td>\n",
       "      <td>11.48</td>\n",
       "      <td>NaN</td>\n",
       "      <td>07/01/2013</td>\n",
       "      <td>06/30/2015</td>\n",
       "      <td>NaN</td>\n",
       "    </tr>\n",
       "    <tr>\n",
       "      <th>3</th>\n",
       "      <td>10001</td>\n",
       "      <td>SOUTHEAST ALABAMA MEDICAL CENTER</td>\n",
       "      <td>1108 ROSS CLARK CIRCLE</td>\n",
       "      <td>DOTHAN</td>\n",
       "      <td>AL</td>\n",
       "      <td>36301</td>\n",
       "      <td>HOUSTON</td>\n",
       "      <td>3347938701</td>\n",
       "      <td>A wound that splits open  after surgery on the...</td>\n",
       "      <td>PSI_14_POSTOP_DEHIS</td>\n",
       "      <td>No Different than the National Rate</td>\n",
       "      <td>445</td>\n",
       "      <td>2.72</td>\n",
       "      <td>0.65</td>\n",
       "      <td>4.79</td>\n",
       "      <td>NaN</td>\n",
       "      <td>07/01/2013</td>\n",
       "      <td>06/30/2015</td>\n",
       "      <td>NaN</td>\n",
       "    </tr>\n",
       "    <tr>\n",
       "      <th>4</th>\n",
       "      <td>10001</td>\n",
       "      <td>SOUTHEAST ALABAMA MEDICAL CENTER</td>\n",
       "      <td>1108 ROSS CLARK CIRCLE</td>\n",
       "      <td>DOTHAN</td>\n",
       "      <td>AL</td>\n",
       "      <td>36301</td>\n",
       "      <td>HOUSTON</td>\n",
       "      <td>3347938701</td>\n",
       "      <td>Accidental cuts and tears from medical treatment</td>\n",
       "      <td>PSI_15_ACC_LAC</td>\n",
       "      <td>No Different than the National Rate</td>\n",
       "      <td>16429</td>\n",
       "      <td>1.35</td>\n",
       "      <td>0.76</td>\n",
       "      <td>1.95</td>\n",
       "      <td>NaN</td>\n",
       "      <td>07/01/2013</td>\n",
       "      <td>06/30/2015</td>\n",
       "      <td>NaN</td>\n",
       "    </tr>\n",
       "  </tbody>\n",
       "</table>\n",
       "</div>"
      ],
      "text/plain": [
       "   Provider ID                     Hospital Name                 Address  \\\n",
       "0        10001  SOUTHEAST ALABAMA MEDICAL CENTER  1108 ROSS CLARK CIRCLE   \n",
       "1        10001  SOUTHEAST ALABAMA MEDICAL CENTER  1108 ROSS CLARK CIRCLE   \n",
       "2        10001  SOUTHEAST ALABAMA MEDICAL CENTER  1108 ROSS CLARK CIRCLE   \n",
       "3        10001  SOUTHEAST ALABAMA MEDICAL CENTER  1108 ROSS CLARK CIRCLE   \n",
       "4        10001  SOUTHEAST ALABAMA MEDICAL CENTER  1108 ROSS CLARK CIRCLE   \n",
       "\n",
       "     City State  ZIP Code County Name  Phone Number  \\\n",
       "0  DOTHAN    AL     36301     HOUSTON    3347938701   \n",
       "1  DOTHAN    AL     36301     HOUSTON    3347938701   \n",
       "2  DOTHAN    AL     36301     HOUSTON    3347938701   \n",
       "3  DOTHAN    AL     36301     HOUSTON    3347938701   \n",
       "4  DOTHAN    AL     36301     HOUSTON    3347938701   \n",
       "\n",
       "                                        Measure Name  \\\n",
       "0  Rate of complications for hip/knee replacement...   \n",
       "1                  Serious blood clots after surgery   \n",
       "2               Blood stream infection after surgery   \n",
       "3  A wound that splits open  after surgery on the...   \n",
       "4   Accidental cuts and tears from medical treatment   \n",
       "\n",
       "                  Measure ID                 Compared to National Denominator  \\\n",
       "0              COMP_HIP_KNEE  No Different than the National Rate         331   \n",
       "1  PSI_12_POSTOP_PULMEMB_DVT  No Different than the National Rate        4549   \n",
       "2         PSI_13_POST_SEPSIS  No Different than the National Rate         578   \n",
       "3        PSI_14_POSTOP_DEHIS  No Different than the National Rate         445   \n",
       "4             PSI_15_ACC_LAC  No Different than the National Rate       16429   \n",
       "\n",
       "  Score Lower Estimate Higher Estimate Footnote Measure Start Date  \\\n",
       "0   3.8            2.6             5.5      NaN         04/01/2012   \n",
       "1  3.32           1.25            5.38      NaN         07/01/2013   \n",
       "2  5.72           0.00           11.48      NaN         07/01/2013   \n",
       "3  2.72           0.65            4.79      NaN         07/01/2013   \n",
       "4  1.35           0.76            1.95      NaN         07/01/2013   \n",
       "\n",
       "  Measure End Date  Location  \n",
       "0       03/31/2015       NaN  \n",
       "1       06/30/2015       NaN  \n",
       "2       06/30/2015       NaN  \n",
       "3       06/30/2015       NaN  \n",
       "4       06/30/2015       NaN  "
      ]
     },
     "execution_count": 40,
     "metadata": {},
     "output_type": "execute_result"
    }
   ],
   "source": [
    "comp.head()"
   ]
  },
  {
   "cell_type": "code",
   "execution_count": 41,
   "metadata": {
    "collapsed": false
   },
   "outputs": [
    {
     "name": "stdout",
     "output_type": "stream",
     "text": [
      "<class 'pandas.core.frame.DataFrame'>\n",
      "RangeIndex: 52877 entries, 0 to 52876\n",
      "Data columns (total 19 columns):\n",
      "Provider ID             52877 non-null int64\n",
      "Hospital Name           52877 non-null object\n",
      "Address                 52877 non-null object\n",
      "City                    52877 non-null object\n",
      "State                   52877 non-null object\n",
      "ZIP Code                52877 non-null int64\n",
      "County Name             52712 non-null object\n",
      "Phone Number            52877 non-null int64\n",
      "Measure Name            52877 non-null object\n",
      "Measure ID              52877 non-null object\n",
      "Compared to National    52877 non-null object\n",
      "Denominator             52877 non-null object\n",
      "Score                   52877 non-null object\n",
      "Lower Estimate          52877 non-null object\n",
      "Higher Estimate         52877 non-null object\n",
      "Footnote                21804 non-null object\n",
      "Measure Start Date      52877 non-null object\n",
      "Measure End Date        52877 non-null object\n",
      "Location                0 non-null float64\n",
      "dtypes: float64(1), int64(3), object(15)\n",
      "memory usage: 7.7+ MB\n"
     ]
    }
   ],
   "source": [
    "comp.info() #Same problem here with the scores being objects and not floats"
   ]
  },
  {
   "cell_type": "code",
   "execution_count": 42,
   "metadata": {
    "collapsed": false
   },
   "outputs": [
    {
     "data": {
      "text/plain": [
       "0"
      ]
     },
     "execution_count": 42,
     "metadata": {},
     "output_type": "execute_result"
    }
   ],
   "source": [
    "len(comp[comp.Score == 0]) # No 0 values here, so I'm safe to assign Not Availables to 0 "
   ]
  },
  {
   "cell_type": "code",
   "execution_count": 43,
   "metadata": {
    "collapsed": false
   },
   "outputs": [],
   "source": [
    "comp['Score'].replace('Not Available', 0, inplace=True)"
   ]
  },
  {
   "cell_type": "code",
   "execution_count": 44,
   "metadata": {
    "collapsed": false
   },
   "outputs": [
    {
     "data": {
      "text/plain": [
       "Provider ID               int64\n",
       "Hospital Name            object\n",
       "Address                  object\n",
       "City                     object\n",
       "State                    object\n",
       "ZIP Code                  int64\n",
       "County Name              object\n",
       "Phone Number              int64\n",
       "Measure Name             object\n",
       "Measure ID               object\n",
       "Compared to National     object\n",
       "Denominator              object\n",
       "Score                   float64\n",
       "Lower Estimate           object\n",
       "Higher Estimate          object\n",
       "Footnote                 object\n",
       "Measure Start Date       object\n",
       "Measure End Date         object\n",
       "Location                float64\n",
       "dtype: object"
      ]
     },
     "execution_count": 44,
     "metadata": {},
     "output_type": "execute_result"
    }
   ],
   "source": [
    "comp['Score'] = comp['Score'].astype(float)\n",
    "comp.dtypes"
   ]
  },
  {
   "cell_type": "code",
   "execution_count": 45,
   "metadata": {
    "collapsed": false
   },
   "outputs": [
    {
     "name": "stdout",
     "output_type": "stream",
     "text": [
      "'Not Available' appears 21801 times and 0 appears 0 times for Lower Estimates.\n"
     ]
    }
   ],
   "source": [
    "na = len(comp[comp['Lower Estimate'] == 'Not Available'])\n",
    "zero = len(comp[comp['Lower Estimate'] == 0]) \n",
    "print \"'Not Available' appears %s times and 0 appears %s times for Lower Estimates.\" % (na, zero)\n",
    "#Not Availables exists here too but there are no 0s"
   ]
  },
  {
   "cell_type": "code",
   "execution_count": 46,
   "metadata": {
    "collapsed": false
   },
   "outputs": [
    {
     "name": "stdout",
     "output_type": "stream",
     "text": [
      "'Not Available' appears 21801 times and 0 appears 0 times for Higher Estimates.\n"
     ]
    }
   ],
   "source": [
    "na_h = len(comp[comp['Higher Estimate'] == 'Not Available'])\n",
    "zero_h = len(comp[comp['Higher Estimate'] == 0]) \n",
    "print \"'Not Available' appears %s times and 0 appears %s times for Higher Estimates.\" % (na_h, zero_h)\n",
    "#Not Availables exists here too but there are no 0s"
   ]
  },
  {
   "cell_type": "code",
   "execution_count": 47,
   "metadata": {
    "collapsed": false
   },
   "outputs": [],
   "source": [
    "comp['Lower Estimate'] = comp['Lower Estimate'].replace('Not Available', 0)"
   ]
  },
  {
   "cell_type": "code",
   "execution_count": 48,
   "metadata": {
    "collapsed": false
   },
   "outputs": [
    {
     "data": {
      "text/plain": [
       "dtype('float64')"
      ]
     },
     "execution_count": 48,
     "metadata": {},
     "output_type": "execute_result"
    }
   ],
   "source": [
    "comp['Lower Estimate'] = comp['Lower Estimate'].astype(float)\n",
    "comp['Lower Estimate'].dtype"
   ]
  },
  {
   "cell_type": "code",
   "execution_count": 49,
   "metadata": {
    "collapsed": false
   },
   "outputs": [
    {
     "data": {
      "text/plain": [
       "dtype('float64')"
      ]
     },
     "execution_count": 49,
     "metadata": {},
     "output_type": "execute_result"
    }
   ],
   "source": [
    "comp['Higher Estimate'] = comp['Higher Estimate'].replace('Not Available', 0)\n",
    "comp['Higher Estimate'] = comp['Higher Estimate'].astype(float)\n",
    "comp['Higher Estimate'].dtype"
   ]
  },
  {
   "cell_type": "code",
   "execution_count": 50,
   "metadata": {
    "collapsed": false
   },
   "outputs": [
    {
     "data": {
      "text/html": [
       "<div>\n",
       "<table border=\"1\" class=\"dataframe\">\n",
       "  <thead>\n",
       "    <tr style=\"text-align: right;\">\n",
       "      <th>Measure ID</th>\n",
       "      <th>COMP_HIP_KNEE</th>\n",
       "      <th>PSI_12_POSTOP_PULMEMB_DVT</th>\n",
       "      <th>PSI_13_POST_SEPSIS</th>\n",
       "      <th>PSI_14_POSTOP_DEHIS</th>\n",
       "      <th>PSI_15_ACC_LAC</th>\n",
       "      <th>PSI_3_ULCER</th>\n",
       "      <th>PSI_4_SURG_COMP</th>\n",
       "      <th>PSI_6_IAT_PTX</th>\n",
       "      <th>PSI_7_CVCBI</th>\n",
       "      <th>PSI_8_POST_HIP</th>\n",
       "      <th>PSI_90_SAFETY</th>\n",
       "    </tr>\n",
       "    <tr>\n",
       "      <th>Hospital Name</th>\n",
       "      <th></th>\n",
       "      <th></th>\n",
       "      <th></th>\n",
       "      <th></th>\n",
       "      <th></th>\n",
       "      <th></th>\n",
       "      <th></th>\n",
       "      <th></th>\n",
       "      <th></th>\n",
       "      <th></th>\n",
       "      <th></th>\n",
       "    </tr>\n",
       "  </thead>\n",
       "  <tbody>\n",
       "    <tr>\n",
       "      <th>ABBEVILLE AREA MEDICAL CENTER</th>\n",
       "      <td>3.0</td>\n",
       "      <td>0.00</td>\n",
       "      <td>0.00</td>\n",
       "      <td>0.00</td>\n",
       "      <td>0.00</td>\n",
       "      <td>0.00</td>\n",
       "      <td>0.00</td>\n",
       "      <td>0.00</td>\n",
       "      <td>0.00</td>\n",
       "      <td>0.00</td>\n",
       "      <td>0.00</td>\n",
       "    </tr>\n",
       "    <tr>\n",
       "      <th>ABBEVILLE GENERAL HOSPITAL</th>\n",
       "      <td>3.0</td>\n",
       "      <td>6.51</td>\n",
       "      <td>0.00</td>\n",
       "      <td>2.28</td>\n",
       "      <td>1.69</td>\n",
       "      <td>0.35</td>\n",
       "      <td>0.00</td>\n",
       "      <td>0.39</td>\n",
       "      <td>0.16</td>\n",
       "      <td>0.06</td>\n",
       "      <td>1.02</td>\n",
       "    </tr>\n",
       "    <tr>\n",
       "      <th>ABBOTT NORTHWESTERN HOSPITAL</th>\n",
       "      <td>2.5</td>\n",
       "      <td>5.23</td>\n",
       "      <td>11.26</td>\n",
       "      <td>1.78</td>\n",
       "      <td>1.96</td>\n",
       "      <td>0.10</td>\n",
       "      <td>124.52</td>\n",
       "      <td>0.32</td>\n",
       "      <td>0.11</td>\n",
       "      <td>0.06</td>\n",
       "      <td>0.97</td>\n",
       "    </tr>\n",
       "    <tr>\n",
       "      <th>ABILENE REGIONAL MEDICAL CENTER</th>\n",
       "      <td>3.1</td>\n",
       "      <td>3.43</td>\n",
       "      <td>6.36</td>\n",
       "      <td>2.21</td>\n",
       "      <td>1.17</td>\n",
       "      <td>0.16</td>\n",
       "      <td>138.47</td>\n",
       "      <td>0.40</td>\n",
       "      <td>0.12</td>\n",
       "      <td>0.06</td>\n",
       "      <td>0.67</td>\n",
       "    </tr>\n",
       "    <tr>\n",
       "      <th>ABINGTON MEMORIAL HOSPITAL</th>\n",
       "      <td>4.3</td>\n",
       "      <td>8.47</td>\n",
       "      <td>10.30</td>\n",
       "      <td>3.59</td>\n",
       "      <td>1.29</td>\n",
       "      <td>1.09</td>\n",
       "      <td>153.64</td>\n",
       "      <td>0.32</td>\n",
       "      <td>0.13</td>\n",
       "      <td>0.06</td>\n",
       "      <td>1.10</td>\n",
       "    </tr>\n",
       "  </tbody>\n",
       "</table>\n",
       "</div>"
      ],
      "text/plain": [
       "Measure ID                       COMP_HIP_KNEE  PSI_12_POSTOP_PULMEMB_DVT  \\\n",
       "Hospital Name                                                               \n",
       "ABBEVILLE AREA MEDICAL CENTER              3.0                       0.00   \n",
       "ABBEVILLE GENERAL HOSPITAL                 3.0                       6.51   \n",
       "ABBOTT NORTHWESTERN HOSPITAL               2.5                       5.23   \n",
       "ABILENE REGIONAL MEDICAL CENTER            3.1                       3.43   \n",
       "ABINGTON MEMORIAL HOSPITAL                 4.3                       8.47   \n",
       "\n",
       "Measure ID                       PSI_13_POST_SEPSIS  PSI_14_POSTOP_DEHIS  \\\n",
       "Hospital Name                                                              \n",
       "ABBEVILLE AREA MEDICAL CENTER                  0.00                 0.00   \n",
       "ABBEVILLE GENERAL HOSPITAL                     0.00                 2.28   \n",
       "ABBOTT NORTHWESTERN HOSPITAL                  11.26                 1.78   \n",
       "ABILENE REGIONAL MEDICAL CENTER                6.36                 2.21   \n",
       "ABINGTON MEMORIAL HOSPITAL                    10.30                 3.59   \n",
       "\n",
       "Measure ID                       PSI_15_ACC_LAC  PSI_3_ULCER  PSI_4_SURG_COMP  \\\n",
       "Hospital Name                                                                   \n",
       "ABBEVILLE AREA MEDICAL CENTER              0.00         0.00             0.00   \n",
       "ABBEVILLE GENERAL HOSPITAL                 1.69         0.35             0.00   \n",
       "ABBOTT NORTHWESTERN HOSPITAL               1.96         0.10           124.52   \n",
       "ABILENE REGIONAL MEDICAL CENTER            1.17         0.16           138.47   \n",
       "ABINGTON MEMORIAL HOSPITAL                 1.29         1.09           153.64   \n",
       "\n",
       "Measure ID                       PSI_6_IAT_PTX  PSI_7_CVCBI  PSI_8_POST_HIP  \\\n",
       "Hospital Name                                                                 \n",
       "ABBEVILLE AREA MEDICAL CENTER             0.00         0.00            0.00   \n",
       "ABBEVILLE GENERAL HOSPITAL                0.39         0.16            0.06   \n",
       "ABBOTT NORTHWESTERN HOSPITAL              0.32         0.11            0.06   \n",
       "ABILENE REGIONAL MEDICAL CENTER           0.40         0.12            0.06   \n",
       "ABINGTON MEMORIAL HOSPITAL                0.32         0.13            0.06   \n",
       "\n",
       "Measure ID                       PSI_90_SAFETY  \n",
       "Hospital Name                                   \n",
       "ABBEVILLE AREA MEDICAL CENTER             0.00  \n",
       "ABBEVILLE GENERAL HOSPITAL                1.02  \n",
       "ABBOTT NORTHWESTERN HOSPITAL              0.97  \n",
       "ABILENE REGIONAL MEDICAL CENTER           0.67  \n",
       "ABINGTON MEMORIAL HOSPITAL                1.10  "
      ]
     },
     "execution_count": 50,
     "metadata": {},
     "output_type": "execute_result"
    }
   ],
   "source": [
    "comp_score = pd.pivot_table(comp, index='Hospital Name', columns = 'Measure ID', values = 'Score')\n",
    "comp_score.head()"
   ]
  },
  {
   "cell_type": "code",
   "execution_count": 53,
   "metadata": {
    "collapsed": false
   },
   "outputs": [
    {
     "data": {
      "text/html": [
       "<div>\n",
       "<table border=\"1\" class=\"dataframe\">\n",
       "  <thead>\n",
       "    <tr style=\"text-align: right;\">\n",
       "      <th>Measure ID</th>\n",
       "      <th>COMP_HIP_KNEE</th>\n",
       "      <th>PSI_12_POSTOP_PULMEMB_DVT</th>\n",
       "      <th>PSI_13_POST_SEPSIS</th>\n",
       "      <th>PSI_14_POSTOP_DEHIS</th>\n",
       "      <th>PSI_15_ACC_LAC</th>\n",
       "      <th>PSI_3_ULCER</th>\n",
       "      <th>PSI_4_SURG_COMP</th>\n",
       "      <th>PSI_6_IAT_PTX</th>\n",
       "      <th>PSI_7_CVCBI</th>\n",
       "      <th>PSI_8_POST_HIP</th>\n",
       "      <th>PSI_90_SAFETY</th>\n",
       "    </tr>\n",
       "    <tr>\n",
       "      <th>Hospital Name</th>\n",
       "      <th></th>\n",
       "      <th></th>\n",
       "      <th></th>\n",
       "      <th></th>\n",
       "      <th></th>\n",
       "      <th></th>\n",
       "      <th></th>\n",
       "      <th></th>\n",
       "      <th></th>\n",
       "      <th></th>\n",
       "      <th></th>\n",
       "    </tr>\n",
       "  </thead>\n",
       "  <tbody>\n",
       "    <tr>\n",
       "      <th>ABBEVILLE AREA MEDICAL CENTER</th>\n",
       "      <td>1.7</td>\n",
       "      <td>0.00</td>\n",
       "      <td>0.00</td>\n",
       "      <td>0.00</td>\n",
       "      <td>0.00</td>\n",
       "      <td>0.00</td>\n",
       "      <td>0.00</td>\n",
       "      <td>0.00</td>\n",
       "      <td>0.0</td>\n",
       "      <td>0.00</td>\n",
       "      <td>0.00</td>\n",
       "    </tr>\n",
       "    <tr>\n",
       "      <th>ABBEVILLE GENERAL HOSPITAL</th>\n",
       "      <td>1.7</td>\n",
       "      <td>1.67</td>\n",
       "      <td>0.00</td>\n",
       "      <td>0.00</td>\n",
       "      <td>0.37</td>\n",
       "      <td>0.00</td>\n",
       "      <td>0.00</td>\n",
       "      <td>0.07</td>\n",
       "      <td>0.0</td>\n",
       "      <td>0.06</td>\n",
       "      <td>0.57</td>\n",
       "    </tr>\n",
       "    <tr>\n",
       "      <th>ABBOTT NORTHWESTERN HOSPITAL</th>\n",
       "      <td>1.7</td>\n",
       "      <td>3.47</td>\n",
       "      <td>6.15</td>\n",
       "      <td>0.00</td>\n",
       "      <td>1.42</td>\n",
       "      <td>0.00</td>\n",
       "      <td>92.72</td>\n",
       "      <td>0.09</td>\n",
       "      <td>0.0</td>\n",
       "      <td>0.06</td>\n",
       "      <td>0.78</td>\n",
       "    </tr>\n",
       "    <tr>\n",
       "      <th>ABILENE REGIONAL MEDICAL CENTER</th>\n",
       "      <td>2.0</td>\n",
       "      <td>0.17</td>\n",
       "      <td>0.00</td>\n",
       "      <td>0.00</td>\n",
       "      <td>0.27</td>\n",
       "      <td>0.00</td>\n",
       "      <td>92.17</td>\n",
       "      <td>0.12</td>\n",
       "      <td>0.0</td>\n",
       "      <td>0.06</td>\n",
       "      <td>0.36</td>\n",
       "    </tr>\n",
       "    <tr>\n",
       "      <th>ABINGTON MEMORIAL HOSPITAL</th>\n",
       "      <td>3.3</td>\n",
       "      <td>6.51</td>\n",
       "      <td>4.19</td>\n",
       "      <td>1.53</td>\n",
       "      <td>0.75</td>\n",
       "      <td>0.51</td>\n",
       "      <td>117.66</td>\n",
       "      <td>0.09</td>\n",
       "      <td>0.0</td>\n",
       "      <td>0.06</td>\n",
       "      <td>0.91</td>\n",
       "    </tr>\n",
       "  </tbody>\n",
       "</table>\n",
       "</div>"
      ],
      "text/plain": [
       "Measure ID                       COMP_HIP_KNEE  PSI_12_POSTOP_PULMEMB_DVT  \\\n",
       "Hospital Name                                                               \n",
       "ABBEVILLE AREA MEDICAL CENTER              1.7                       0.00   \n",
       "ABBEVILLE GENERAL HOSPITAL                 1.7                       1.67   \n",
       "ABBOTT NORTHWESTERN HOSPITAL               1.7                       3.47   \n",
       "ABILENE REGIONAL MEDICAL CENTER            2.0                       0.17   \n",
       "ABINGTON MEMORIAL HOSPITAL                 3.3                       6.51   \n",
       "\n",
       "Measure ID                       PSI_13_POST_SEPSIS  PSI_14_POSTOP_DEHIS  \\\n",
       "Hospital Name                                                              \n",
       "ABBEVILLE AREA MEDICAL CENTER                  0.00                 0.00   \n",
       "ABBEVILLE GENERAL HOSPITAL                     0.00                 0.00   \n",
       "ABBOTT NORTHWESTERN HOSPITAL                   6.15                 0.00   \n",
       "ABILENE REGIONAL MEDICAL CENTER                0.00                 0.00   \n",
       "ABINGTON MEMORIAL HOSPITAL                     4.19                 1.53   \n",
       "\n",
       "Measure ID                       PSI_15_ACC_LAC  PSI_3_ULCER  PSI_4_SURG_COMP  \\\n",
       "Hospital Name                                                                   \n",
       "ABBEVILLE AREA MEDICAL CENTER              0.00         0.00             0.00   \n",
       "ABBEVILLE GENERAL HOSPITAL                 0.37         0.00             0.00   \n",
       "ABBOTT NORTHWESTERN HOSPITAL               1.42         0.00            92.72   \n",
       "ABILENE REGIONAL MEDICAL CENTER            0.27         0.00            92.17   \n",
       "ABINGTON MEMORIAL HOSPITAL                 0.75         0.51           117.66   \n",
       "\n",
       "Measure ID                       PSI_6_IAT_PTX  PSI_7_CVCBI  PSI_8_POST_HIP  \\\n",
       "Hospital Name                                                                 \n",
       "ABBEVILLE AREA MEDICAL CENTER             0.00          0.0            0.00   \n",
       "ABBEVILLE GENERAL HOSPITAL                0.07          0.0            0.06   \n",
       "ABBOTT NORTHWESTERN HOSPITAL              0.09          0.0            0.06   \n",
       "ABILENE REGIONAL MEDICAL CENTER           0.12          0.0            0.06   \n",
       "ABINGTON MEMORIAL HOSPITAL                0.09          0.0            0.06   \n",
       "\n",
       "Measure ID                       PSI_90_SAFETY  \n",
       "Hospital Name                                   \n",
       "ABBEVILLE AREA MEDICAL CENTER             0.00  \n",
       "ABBEVILLE GENERAL HOSPITAL                0.57  \n",
       "ABBOTT NORTHWESTERN HOSPITAL              0.78  \n",
       "ABILENE REGIONAL MEDICAL CENTER           0.36  \n",
       "ABINGTON MEMORIAL HOSPITAL                0.91  "
      ]
     },
     "execution_count": 53,
     "metadata": {},
     "output_type": "execute_result"
    }
   ],
   "source": [
    "comp_low = pd.pivot_table(comp, index='Hospital Name', columns = 'Measure ID', values = 'Lower Estimate')\n",
    "comp_low.head()"
   ]
  },
  {
   "cell_type": "code",
   "execution_count": 54,
   "metadata": {
    "collapsed": false
   },
   "outputs": [],
   "source": [
    "col_list_low = list(comp_low.columns.values)"
   ]
  },
  {
   "cell_type": "code",
   "execution_count": 55,
   "metadata": {
    "collapsed": false
   },
   "outputs": [
    {
     "name": "stdout",
     "output_type": "stream",
     "text": [
      "['COMP_HIP_KNEE_low', 'PSI_12_POSTOP_PULMEMB_DVT_low', 'PSI_13_POST_SEPSIS_low', 'PSI_14_POSTOP_DEHIS_low', 'PSI_15_ACC_LAC_low', 'PSI_3_ULCER_low', 'PSI_4_SURG_COMP_low', 'PSI_6_IAT_PTX_low', 'PSI_7_CVCBI_low', 'PSI_8_POST_HIP_low', 'PSI_90_SAFETY_low']\n"
     ]
    }
   ],
   "source": [
    "low_cols = []\n",
    "for i in col_list_low:\n",
    "    low_cols.append(i + '_low')\n",
    "print low_cols"
   ]
  },
  {
   "cell_type": "code",
   "execution_count": 56,
   "metadata": {
    "collapsed": false
   },
   "outputs": [],
   "source": [
    "comp_low.columns = low_cols"
   ]
  },
  {
   "cell_type": "code",
   "execution_count": 57,
   "metadata": {
    "collapsed": false
   },
   "outputs": [
    {
     "data": {
      "text/html": [
       "<div>\n",
       "<table border=\"1\" class=\"dataframe\">\n",
       "  <thead>\n",
       "    <tr style=\"text-align: right;\">\n",
       "      <th></th>\n",
       "      <th>COMP_HIP_KNEE_low</th>\n",
       "      <th>PSI_12_POSTOP_PULMEMB_DVT_low</th>\n",
       "      <th>PSI_13_POST_SEPSIS_low</th>\n",
       "      <th>PSI_14_POSTOP_DEHIS_low</th>\n",
       "      <th>PSI_15_ACC_LAC_low</th>\n",
       "      <th>PSI_3_ULCER_low</th>\n",
       "      <th>PSI_4_SURG_COMP_low</th>\n",
       "      <th>PSI_6_IAT_PTX_low</th>\n",
       "      <th>PSI_7_CVCBI_low</th>\n",
       "      <th>PSI_8_POST_HIP_low</th>\n",
       "      <th>PSI_90_SAFETY_low</th>\n",
       "    </tr>\n",
       "    <tr>\n",
       "      <th>Hospital Name</th>\n",
       "      <th></th>\n",
       "      <th></th>\n",
       "      <th></th>\n",
       "      <th></th>\n",
       "      <th></th>\n",
       "      <th></th>\n",
       "      <th></th>\n",
       "      <th></th>\n",
       "      <th></th>\n",
       "      <th></th>\n",
       "      <th></th>\n",
       "    </tr>\n",
       "  </thead>\n",
       "  <tbody>\n",
       "    <tr>\n",
       "      <th>ABBEVILLE AREA MEDICAL CENTER</th>\n",
       "      <td>1.7</td>\n",
       "      <td>0.00</td>\n",
       "      <td>0.00</td>\n",
       "      <td>0.00</td>\n",
       "      <td>0.00</td>\n",
       "      <td>0.00</td>\n",
       "      <td>0.00</td>\n",
       "      <td>0.00</td>\n",
       "      <td>0.0</td>\n",
       "      <td>0.00</td>\n",
       "      <td>0.00</td>\n",
       "    </tr>\n",
       "    <tr>\n",
       "      <th>ABBEVILLE GENERAL HOSPITAL</th>\n",
       "      <td>1.7</td>\n",
       "      <td>1.67</td>\n",
       "      <td>0.00</td>\n",
       "      <td>0.00</td>\n",
       "      <td>0.37</td>\n",
       "      <td>0.00</td>\n",
       "      <td>0.00</td>\n",
       "      <td>0.07</td>\n",
       "      <td>0.0</td>\n",
       "      <td>0.06</td>\n",
       "      <td>0.57</td>\n",
       "    </tr>\n",
       "    <tr>\n",
       "      <th>ABBOTT NORTHWESTERN HOSPITAL</th>\n",
       "      <td>1.7</td>\n",
       "      <td>3.47</td>\n",
       "      <td>6.15</td>\n",
       "      <td>0.00</td>\n",
       "      <td>1.42</td>\n",
       "      <td>0.00</td>\n",
       "      <td>92.72</td>\n",
       "      <td>0.09</td>\n",
       "      <td>0.0</td>\n",
       "      <td>0.06</td>\n",
       "      <td>0.78</td>\n",
       "    </tr>\n",
       "    <tr>\n",
       "      <th>ABILENE REGIONAL MEDICAL CENTER</th>\n",
       "      <td>2.0</td>\n",
       "      <td>0.17</td>\n",
       "      <td>0.00</td>\n",
       "      <td>0.00</td>\n",
       "      <td>0.27</td>\n",
       "      <td>0.00</td>\n",
       "      <td>92.17</td>\n",
       "      <td>0.12</td>\n",
       "      <td>0.0</td>\n",
       "      <td>0.06</td>\n",
       "      <td>0.36</td>\n",
       "    </tr>\n",
       "    <tr>\n",
       "      <th>ABINGTON MEMORIAL HOSPITAL</th>\n",
       "      <td>3.3</td>\n",
       "      <td>6.51</td>\n",
       "      <td>4.19</td>\n",
       "      <td>1.53</td>\n",
       "      <td>0.75</td>\n",
       "      <td>0.51</td>\n",
       "      <td>117.66</td>\n",
       "      <td>0.09</td>\n",
       "      <td>0.0</td>\n",
       "      <td>0.06</td>\n",
       "      <td>0.91</td>\n",
       "    </tr>\n",
       "  </tbody>\n",
       "</table>\n",
       "</div>"
      ],
      "text/plain": [
       "                                 COMP_HIP_KNEE_low  \\\n",
       "Hospital Name                                        \n",
       "ABBEVILLE AREA MEDICAL CENTER                  1.7   \n",
       "ABBEVILLE GENERAL HOSPITAL                     1.7   \n",
       "ABBOTT NORTHWESTERN HOSPITAL                   1.7   \n",
       "ABILENE REGIONAL MEDICAL CENTER                2.0   \n",
       "ABINGTON MEMORIAL HOSPITAL                     3.3   \n",
       "\n",
       "                                 PSI_12_POSTOP_PULMEMB_DVT_low  \\\n",
       "Hospital Name                                                    \n",
       "ABBEVILLE AREA MEDICAL CENTER                             0.00   \n",
       "ABBEVILLE GENERAL HOSPITAL                                1.67   \n",
       "ABBOTT NORTHWESTERN HOSPITAL                              3.47   \n",
       "ABILENE REGIONAL MEDICAL CENTER                           0.17   \n",
       "ABINGTON MEMORIAL HOSPITAL                                6.51   \n",
       "\n",
       "                                 PSI_13_POST_SEPSIS_low  \\\n",
       "Hospital Name                                             \n",
       "ABBEVILLE AREA MEDICAL CENTER                      0.00   \n",
       "ABBEVILLE GENERAL HOSPITAL                         0.00   \n",
       "ABBOTT NORTHWESTERN HOSPITAL                       6.15   \n",
       "ABILENE REGIONAL MEDICAL CENTER                    0.00   \n",
       "ABINGTON MEMORIAL HOSPITAL                         4.19   \n",
       "\n",
       "                                 PSI_14_POSTOP_DEHIS_low  PSI_15_ACC_LAC_low  \\\n",
       "Hospital Name                                                                  \n",
       "ABBEVILLE AREA MEDICAL CENTER                       0.00                0.00   \n",
       "ABBEVILLE GENERAL HOSPITAL                          0.00                0.37   \n",
       "ABBOTT NORTHWESTERN HOSPITAL                        0.00                1.42   \n",
       "ABILENE REGIONAL MEDICAL CENTER                     0.00                0.27   \n",
       "ABINGTON MEMORIAL HOSPITAL                          1.53                0.75   \n",
       "\n",
       "                                 PSI_3_ULCER_low  PSI_4_SURG_COMP_low  \\\n",
       "Hospital Name                                                           \n",
       "ABBEVILLE AREA MEDICAL CENTER               0.00                 0.00   \n",
       "ABBEVILLE GENERAL HOSPITAL                  0.00                 0.00   \n",
       "ABBOTT NORTHWESTERN HOSPITAL                0.00                92.72   \n",
       "ABILENE REGIONAL MEDICAL CENTER             0.00                92.17   \n",
       "ABINGTON MEMORIAL HOSPITAL                  0.51               117.66   \n",
       "\n",
       "                                 PSI_6_IAT_PTX_low  PSI_7_CVCBI_low  \\\n",
       "Hospital Name                                                         \n",
       "ABBEVILLE AREA MEDICAL CENTER                 0.00              0.0   \n",
       "ABBEVILLE GENERAL HOSPITAL                    0.07              0.0   \n",
       "ABBOTT NORTHWESTERN HOSPITAL                  0.09              0.0   \n",
       "ABILENE REGIONAL MEDICAL CENTER               0.12              0.0   \n",
       "ABINGTON MEMORIAL HOSPITAL                    0.09              0.0   \n",
       "\n",
       "                                 PSI_8_POST_HIP_low  PSI_90_SAFETY_low  \n",
       "Hospital Name                                                           \n",
       "ABBEVILLE AREA MEDICAL CENTER                  0.00               0.00  \n",
       "ABBEVILLE GENERAL HOSPITAL                     0.06               0.57  \n",
       "ABBOTT NORTHWESTERN HOSPITAL                   0.06               0.78  \n",
       "ABILENE REGIONAL MEDICAL CENTER                0.06               0.36  \n",
       "ABINGTON MEMORIAL HOSPITAL                     0.06               0.91  "
      ]
     },
     "execution_count": 57,
     "metadata": {},
     "output_type": "execute_result"
    }
   ],
   "source": [
    "comp_low.head()"
   ]
  },
  {
   "cell_type": "code",
   "execution_count": 58,
   "metadata": {
    "collapsed": true
   },
   "outputs": [],
   "source": [
    "comp_high = pd.pivot_table(comp, index='Hospital Name', columns = 'Measure ID', values = 'Higher Estimate')"
   ]
  },
  {
   "cell_type": "code",
   "execution_count": 59,
   "metadata": {
    "collapsed": true
   },
   "outputs": [],
   "source": [
    "col_list_high = list(comp_high.columns.values)"
   ]
  },
  {
   "cell_type": "code",
   "execution_count": 60,
   "metadata": {
    "collapsed": false
   },
   "outputs": [
    {
     "name": "stdout",
     "output_type": "stream",
     "text": [
      "['COMP_HIP_KNEE_high', 'PSI_12_POSTOP_PULMEMB_DVT_high', 'PSI_13_POST_SEPSIS_high', 'PSI_14_POSTOP_DEHIS_high', 'PSI_15_ACC_LAC_high', 'PSI_3_ULCER_high', 'PSI_4_SURG_COMP_high', 'PSI_6_IAT_PTX_high', 'PSI_7_CVCBI_high', 'PSI_8_POST_HIP_high', 'PSI_90_SAFETY_high']\n"
     ]
    }
   ],
   "source": [
    "high_cols = []\n",
    "for i in col_list_high:\n",
    "    high_cols.append(i + '_high')\n",
    "print high_cols"
   ]
  },
  {
   "cell_type": "code",
   "execution_count": 61,
   "metadata": {
    "collapsed": true
   },
   "outputs": [],
   "source": [
    "comp_high.columns = high_cols"
   ]
  },
  {
   "cell_type": "code",
   "execution_count": 62,
   "metadata": {
    "collapsed": false
   },
   "outputs": [
    {
     "data": {
      "text/html": [
       "<div>\n",
       "<table border=\"1\" class=\"dataframe\">\n",
       "  <thead>\n",
       "    <tr style=\"text-align: right;\">\n",
       "      <th></th>\n",
       "      <th>COMP_HIP_KNEE_high</th>\n",
       "      <th>PSI_12_POSTOP_PULMEMB_DVT_high</th>\n",
       "      <th>PSI_13_POST_SEPSIS_high</th>\n",
       "      <th>PSI_14_POSTOP_DEHIS_high</th>\n",
       "      <th>PSI_15_ACC_LAC_high</th>\n",
       "      <th>PSI_3_ULCER_high</th>\n",
       "      <th>PSI_4_SURG_COMP_high</th>\n",
       "      <th>PSI_6_IAT_PTX_high</th>\n",
       "      <th>PSI_7_CVCBI_high</th>\n",
       "      <th>PSI_8_POST_HIP_high</th>\n",
       "      <th>PSI_90_SAFETY_high</th>\n",
       "    </tr>\n",
       "    <tr>\n",
       "      <th>Hospital Name</th>\n",
       "      <th></th>\n",
       "      <th></th>\n",
       "      <th></th>\n",
       "      <th></th>\n",
       "      <th></th>\n",
       "      <th></th>\n",
       "      <th></th>\n",
       "      <th></th>\n",
       "      <th></th>\n",
       "      <th></th>\n",
       "      <th></th>\n",
       "    </tr>\n",
       "  </thead>\n",
       "  <tbody>\n",
       "    <tr>\n",
       "      <th>ABBEVILLE AREA MEDICAL CENTER</th>\n",
       "      <td>5.2</td>\n",
       "      <td>0.00</td>\n",
       "      <td>0.00</td>\n",
       "      <td>0.00</td>\n",
       "      <td>0.00</td>\n",
       "      <td>0.00</td>\n",
       "      <td>0.00</td>\n",
       "      <td>0.00</td>\n",
       "      <td>0.00</td>\n",
       "      <td>0.00</td>\n",
       "      <td>0.00</td>\n",
       "    </tr>\n",
       "    <tr>\n",
       "      <th>ABBEVILLE GENERAL HOSPITAL</th>\n",
       "      <td>5.0</td>\n",
       "      <td>11.34</td>\n",
       "      <td>0.00</td>\n",
       "      <td>4.60</td>\n",
       "      <td>3.02</td>\n",
       "      <td>1.65</td>\n",
       "      <td>0.00</td>\n",
       "      <td>0.71</td>\n",
       "      <td>0.47</td>\n",
       "      <td>0.06</td>\n",
       "      <td>1.47</td>\n",
       "    </tr>\n",
       "    <tr>\n",
       "      <th>ABBOTT NORTHWESTERN HOSPITAL</th>\n",
       "      <td>3.7</td>\n",
       "      <td>6.99</td>\n",
       "      <td>16.38</td>\n",
       "      <td>3.83</td>\n",
       "      <td>2.49</td>\n",
       "      <td>0.80</td>\n",
       "      <td>156.32</td>\n",
       "      <td>0.54</td>\n",
       "      <td>0.32</td>\n",
       "      <td>0.06</td>\n",
       "      <td>1.16</td>\n",
       "    </tr>\n",
       "    <tr>\n",
       "      <th>ABILENE REGIONAL MEDICAL CENTER</th>\n",
       "      <td>4.7</td>\n",
       "      <td>6.68</td>\n",
       "      <td>12.96</td>\n",
       "      <td>4.49</td>\n",
       "      <td>2.08</td>\n",
       "      <td>1.04</td>\n",
       "      <td>184.78</td>\n",
       "      <td>0.68</td>\n",
       "      <td>0.40</td>\n",
       "      <td>0.06</td>\n",
       "      <td>0.98</td>\n",
       "    </tr>\n",
       "    <tr>\n",
       "      <th>ABINGTON MEMORIAL HOSPITAL</th>\n",
       "      <td>5.7</td>\n",
       "      <td>10.43</td>\n",
       "      <td>16.42</td>\n",
       "      <td>5.65</td>\n",
       "      <td>1.83</td>\n",
       "      <td>1.67</td>\n",
       "      <td>189.61</td>\n",
       "      <td>0.54</td>\n",
       "      <td>0.35</td>\n",
       "      <td>0.06</td>\n",
       "      <td>1.30</td>\n",
       "    </tr>\n",
       "  </tbody>\n",
       "</table>\n",
       "</div>"
      ],
      "text/plain": [
       "                                 COMP_HIP_KNEE_high  \\\n",
       "Hospital Name                                         \n",
       "ABBEVILLE AREA MEDICAL CENTER                   5.2   \n",
       "ABBEVILLE GENERAL HOSPITAL                      5.0   \n",
       "ABBOTT NORTHWESTERN HOSPITAL                    3.7   \n",
       "ABILENE REGIONAL MEDICAL CENTER                 4.7   \n",
       "ABINGTON MEMORIAL HOSPITAL                      5.7   \n",
       "\n",
       "                                 PSI_12_POSTOP_PULMEMB_DVT_high  \\\n",
       "Hospital Name                                                     \n",
       "ABBEVILLE AREA MEDICAL CENTER                              0.00   \n",
       "ABBEVILLE GENERAL HOSPITAL                                11.34   \n",
       "ABBOTT NORTHWESTERN HOSPITAL                               6.99   \n",
       "ABILENE REGIONAL MEDICAL CENTER                            6.68   \n",
       "ABINGTON MEMORIAL HOSPITAL                                10.43   \n",
       "\n",
       "                                 PSI_13_POST_SEPSIS_high  \\\n",
       "Hospital Name                                              \n",
       "ABBEVILLE AREA MEDICAL CENTER                       0.00   \n",
       "ABBEVILLE GENERAL HOSPITAL                          0.00   \n",
       "ABBOTT NORTHWESTERN HOSPITAL                       16.38   \n",
       "ABILENE REGIONAL MEDICAL CENTER                    12.96   \n",
       "ABINGTON MEMORIAL HOSPITAL                         16.42   \n",
       "\n",
       "                                 PSI_14_POSTOP_DEHIS_high  \\\n",
       "Hospital Name                                               \n",
       "ABBEVILLE AREA MEDICAL CENTER                        0.00   \n",
       "ABBEVILLE GENERAL HOSPITAL                           4.60   \n",
       "ABBOTT NORTHWESTERN HOSPITAL                         3.83   \n",
       "ABILENE REGIONAL MEDICAL CENTER                      4.49   \n",
       "ABINGTON MEMORIAL HOSPITAL                           5.65   \n",
       "\n",
       "                                 PSI_15_ACC_LAC_high  PSI_3_ULCER_high  \\\n",
       "Hospital Name                                                            \n",
       "ABBEVILLE AREA MEDICAL CENTER                   0.00              0.00   \n",
       "ABBEVILLE GENERAL HOSPITAL                      3.02              1.65   \n",
       "ABBOTT NORTHWESTERN HOSPITAL                    2.49              0.80   \n",
       "ABILENE REGIONAL MEDICAL CENTER                 2.08              1.04   \n",
       "ABINGTON MEMORIAL HOSPITAL                      1.83              1.67   \n",
       "\n",
       "                                 PSI_4_SURG_COMP_high  PSI_6_IAT_PTX_high  \\\n",
       "Hospital Name                                                               \n",
       "ABBEVILLE AREA MEDICAL CENTER                    0.00                0.00   \n",
       "ABBEVILLE GENERAL HOSPITAL                       0.00                0.71   \n",
       "ABBOTT NORTHWESTERN HOSPITAL                   156.32                0.54   \n",
       "ABILENE REGIONAL MEDICAL CENTER                184.78                0.68   \n",
       "ABINGTON MEMORIAL HOSPITAL                     189.61                0.54   \n",
       "\n",
       "                                 PSI_7_CVCBI_high  PSI_8_POST_HIP_high  \\\n",
       "Hospital Name                                                            \n",
       "ABBEVILLE AREA MEDICAL CENTER                0.00                 0.00   \n",
       "ABBEVILLE GENERAL HOSPITAL                   0.47                 0.06   \n",
       "ABBOTT NORTHWESTERN HOSPITAL                 0.32                 0.06   \n",
       "ABILENE REGIONAL MEDICAL CENTER              0.40                 0.06   \n",
       "ABINGTON MEMORIAL HOSPITAL                   0.35                 0.06   \n",
       "\n",
       "                                 PSI_90_SAFETY_high  \n",
       "Hospital Name                                        \n",
       "ABBEVILLE AREA MEDICAL CENTER                  0.00  \n",
       "ABBEVILLE GENERAL HOSPITAL                     1.47  \n",
       "ABBOTT NORTHWESTERN HOSPITAL                   1.16  \n",
       "ABILENE REGIONAL MEDICAL CENTER                0.98  \n",
       "ABINGTON MEMORIAL HOSPITAL                     1.30  "
      ]
     },
     "execution_count": 62,
     "metadata": {},
     "output_type": "execute_result"
    }
   ],
   "source": [
    "comp_high.head()"
   ]
  },
  {
   "cell_type": "code",
   "execution_count": 179,
   "metadata": {
    "collapsed": false
   },
   "outputs": [
    {
     "data": {
      "text/html": [
       "<div>\n",
       "<table border=\"1\" class=\"dataframe\">\n",
       "  <thead>\n",
       "    <tr style=\"text-align: right;\">\n",
       "      <th></th>\n",
       "      <th>Hospital_Name</th>\n",
       "      <th>Provider ID</th>\n",
       "      <th>State</th>\n",
       "      <th>Fiscal Year</th>\n",
       "      <th>Domain_1_Score</th>\n",
       "      <th>Domain_1_Score_Footnote</th>\n",
       "      <th>Domain_1_Start_Date</th>\n",
       "      <th>Domain_1_End_Date</th>\n",
       "      <th>AHRQ_PSI_90_Score</th>\n",
       "      <th>AHRQ_PSI_90_Score_Footnote</th>\n",
       "      <th>...</th>\n",
       "      <th>MRSA_Score</th>\n",
       "      <th>MRSA_Footnote</th>\n",
       "      <th>CDI_Score</th>\n",
       "      <th>CDI_Footnote</th>\n",
       "      <th>Domain_2_Start_Date</th>\n",
       "      <th>Domain_2_End_Date</th>\n",
       "      <th>Total_HAC_Score</th>\n",
       "      <th>Total_HAC_Score_Footnote</th>\n",
       "      <th>Payment_Reduction</th>\n",
       "      <th>Payment_Reduction_Footnote</th>\n",
       "    </tr>\n",
       "  </thead>\n",
       "  <tbody>\n",
       "    <tr>\n",
       "      <th>0</th>\n",
       "      <td>ADVENTIST MEDICAL CENTER</td>\n",
       "      <td>50121</td>\n",
       "      <td>CA</td>\n",
       "      <td>2017</td>\n",
       "      <td>3.0</td>\n",
       "      <td>NaN</td>\n",
       "      <td>01-JUL-13</td>\n",
       "      <td>30-JUN-15</td>\n",
       "      <td>3.0</td>\n",
       "      <td>NaN</td>\n",
       "      <td>...</td>\n",
       "      <td>4.0</td>\n",
       "      <td>NaN</td>\n",
       "      <td>5.0</td>\n",
       "      <td>NaN</td>\n",
       "      <td>01-JAN-14</td>\n",
       "      <td>31-DEC-15</td>\n",
       "      <td>7.08</td>\n",
       "      <td>NaN</td>\n",
       "      <td>Yes</td>\n",
       "      <td>NaN</td>\n",
       "    </tr>\n",
       "    <tr>\n",
       "      <th>1</th>\n",
       "      <td>DAMERON HOSPITAL</td>\n",
       "      <td>50122</td>\n",
       "      <td>CA</td>\n",
       "      <td>2017</td>\n",
       "      <td>10.0</td>\n",
       "      <td>NaN</td>\n",
       "      <td>01-JUL-13</td>\n",
       "      <td>30-JUN-15</td>\n",
       "      <td>10.0</td>\n",
       "      <td>NaN</td>\n",
       "      <td>...</td>\n",
       "      <td>10.0</td>\n",
       "      <td>NaN</td>\n",
       "      <td>9.0</td>\n",
       "      <td>NaN</td>\n",
       "      <td>01-JAN-14</td>\n",
       "      <td>31-DEC-15</td>\n",
       "      <td>8.13</td>\n",
       "      <td>NaN</td>\n",
       "      <td>Yes</td>\n",
       "      <td>NaN</td>\n",
       "    </tr>\n",
       "    <tr>\n",
       "      <th>2</th>\n",
       "      <td>USC VERDUGO HILLS HOSPITAL</td>\n",
       "      <td>50124</td>\n",
       "      <td>CA</td>\n",
       "      <td>2017</td>\n",
       "      <td>4.0</td>\n",
       "      <td>NaN</td>\n",
       "      <td>01-JUL-13</td>\n",
       "      <td>30-JUN-15</td>\n",
       "      <td>4.0</td>\n",
       "      <td>NaN</td>\n",
       "      <td>...</td>\n",
       "      <td>4.0</td>\n",
       "      <td>NaN</td>\n",
       "      <td>5.0</td>\n",
       "      <td>NaN</td>\n",
       "      <td>01-JAN-14</td>\n",
       "      <td>31-DEC-15</td>\n",
       "      <td>5.70</td>\n",
       "      <td>NaN</td>\n",
       "      <td>No</td>\n",
       "      <td>NaN</td>\n",
       "    </tr>\n",
       "    <tr>\n",
       "      <th>3</th>\n",
       "      <td>REGIONAL MEDICAL CENTER OF SAN JOSE</td>\n",
       "      <td>50125</td>\n",
       "      <td>CA</td>\n",
       "      <td>2017</td>\n",
       "      <td>9.0</td>\n",
       "      <td>NaN</td>\n",
       "      <td>01-JUL-13</td>\n",
       "      <td>30-JUN-15</td>\n",
       "      <td>9.0</td>\n",
       "      <td>NaN</td>\n",
       "      <td>...</td>\n",
       "      <td>9.0</td>\n",
       "      <td>NaN</td>\n",
       "      <td>8.0</td>\n",
       "      <td>NaN</td>\n",
       "      <td>01-JAN-14</td>\n",
       "      <td>31-DEC-15</td>\n",
       "      <td>8.83</td>\n",
       "      <td>NaN</td>\n",
       "      <td>Yes</td>\n",
       "      <td>NaN</td>\n",
       "    </tr>\n",
       "    <tr>\n",
       "      <th>4</th>\n",
       "      <td>VALLEY PRESBYTERIAN HOSPITAL</td>\n",
       "      <td>50126</td>\n",
       "      <td>CA</td>\n",
       "      <td>2017</td>\n",
       "      <td>8.0</td>\n",
       "      <td>NaN</td>\n",
       "      <td>01-JUL-13</td>\n",
       "      <td>30-JUN-15</td>\n",
       "      <td>8.0</td>\n",
       "      <td>NaN</td>\n",
       "      <td>...</td>\n",
       "      <td>8.0</td>\n",
       "      <td>NaN</td>\n",
       "      <td>8.0</td>\n",
       "      <td>NaN</td>\n",
       "      <td>01-JAN-14</td>\n",
       "      <td>31-DEC-15</td>\n",
       "      <td>7.32</td>\n",
       "      <td>NaN</td>\n",
       "      <td>Yes</td>\n",
       "      <td>NaN</td>\n",
       "    </tr>\n",
       "  </tbody>\n",
       "</table>\n",
       "<p>5 rows × 28 columns</p>\n",
       "</div>"
      ],
      "text/plain": [
       "                         Hospital_Name  Provider ID State  Fiscal Year  \\\n",
       "0             ADVENTIST MEDICAL CENTER        50121    CA         2017   \n",
       "1                     DAMERON HOSPITAL        50122    CA         2017   \n",
       "2           USC VERDUGO HILLS HOSPITAL        50124    CA         2017   \n",
       "3  REGIONAL MEDICAL CENTER OF SAN JOSE        50125    CA         2017   \n",
       "4         VALLEY PRESBYTERIAN HOSPITAL        50126    CA         2017   \n",
       "\n",
       "   Domain_1_Score  Domain_1_Score_Footnote Domain_1_Start_Date  \\\n",
       "0             3.0                      NaN           01-JUL-13   \n",
       "1            10.0                      NaN           01-JUL-13   \n",
       "2             4.0                      NaN           01-JUL-13   \n",
       "3             9.0                      NaN           01-JUL-13   \n",
       "4             8.0                      NaN           01-JUL-13   \n",
       "\n",
       "  Domain_1_End_Date  AHRQ_PSI_90_Score  AHRQ_PSI_90_Score_Footnote  \\\n",
       "0         30-JUN-15                3.0                         NaN   \n",
       "1         30-JUN-15               10.0                         NaN   \n",
       "2         30-JUN-15                4.0                         NaN   \n",
       "3         30-JUN-15                9.0                         NaN   \n",
       "4         30-JUN-15                8.0                         NaN   \n",
       "\n",
       "              ...              MRSA_Score  MRSA_Footnote  CDI_Score  \\\n",
       "0             ...                     4.0            NaN        5.0   \n",
       "1             ...                    10.0            NaN        9.0   \n",
       "2             ...                     4.0            NaN        5.0   \n",
       "3             ...                     9.0            NaN        8.0   \n",
       "4             ...                     8.0            NaN        8.0   \n",
       "\n",
       "   CDI_Footnote  Domain_2_Start_Date  Domain_2_End_Date  Total_HAC_Score  \\\n",
       "0           NaN            01-JAN-14          31-DEC-15             7.08   \n",
       "1           NaN            01-JAN-14          31-DEC-15             8.13   \n",
       "2           NaN            01-JAN-14          31-DEC-15             5.70   \n",
       "3           NaN            01-JAN-14          31-DEC-15             8.83   \n",
       "4           NaN            01-JAN-14          31-DEC-15             7.32   \n",
       "\n",
       "   Total_HAC_Score_Footnote  Payment_Reduction  Payment_Reduction_Footnote  \n",
       "0                       NaN                Yes                         NaN  \n",
       "1                       NaN                Yes                         NaN  \n",
       "2                       NaN                 No                         NaN  \n",
       "3                       NaN                Yes                         NaN  \n",
       "4                       NaN                Yes                         NaN  \n",
       "\n",
       "[5 rows x 28 columns]"
      ]
     },
     "execution_count": 179,
     "metadata": {},
     "output_type": "execute_result"
    }
   ],
   "source": [
    "reduc = pd.read_csv('Hospital-Acquired_Condition_Reduction_Program.csv')\n",
    "reduc.head()"
   ]
  },
  {
   "cell_type": "code",
   "execution_count": 180,
   "metadata": {
    "collapsed": false
   },
   "outputs": [
    {
     "name": "stdout",
     "output_type": "stream",
     "text": [
      "<class 'pandas.core.frame.DataFrame'>\n",
      "RangeIndex: 3313 entries, 0 to 3312\n",
      "Data columns (total 28 columns):\n",
      "Hospital_Name                 3313 non-null object\n",
      "Provider ID                   3313 non-null int64\n",
      "State                         3313 non-null object\n",
      "Fiscal Year                   3313 non-null int64\n",
      "Domain_1_Score                3179 non-null float64\n",
      "Domain_1_Score_Footnote       134 non-null float64\n",
      "Domain_1_Start_Date           3313 non-null object\n",
      "Domain_1_End_Date             3313 non-null object\n",
      "AHRQ_PSI_90_Score             3216 non-null float64\n",
      "AHRQ_PSI_90_Score_Footnote    134 non-null float64\n",
      "Domain_2_Score                3173 non-null float64\n",
      "Domain_2_Score_Footnote       170 non-null float64\n",
      "CLABSI_Score                  2296 non-null float64\n",
      "CLABSI_Score_Footnote         1034 non-null float64\n",
      "CAUTI_Score                   2581 non-null float64\n",
      "CAUTI_Score_Footnote          749 non-null float64\n",
      "SSI_Score                     2573 non-null float64\n",
      "SSI_Score_Footnote            769 non-null float64\n",
      "MRSA_Score                    2373 non-null float64\n",
      "MRSA_Footnote                 964 non-null float64\n",
      "CDI_Score                     3161 non-null float64\n",
      "CDI_Footnote                  176 non-null float64\n",
      "Domain_2_Start_Date           3313 non-null object\n",
      "Domain_2_End_Date             3313 non-null object\n",
      "Total_HAC_Score               3250 non-null float64\n",
      "Total_HAC_Score_Footnote      79 non-null object\n",
      "Payment_Reduction             3266 non-null object\n",
      "Payment_Reduction_Footnote    84 non-null object\n",
      "dtypes: float64(17), int64(2), object(9)\n",
      "memory usage: 724.8+ KB\n"
     ]
    }
   ],
   "source": [
    "reduc.info()"
   ]
  },
  {
   "cell_type": "code",
   "execution_count": 181,
   "metadata": {
    "collapsed": false
   },
   "outputs": [
    {
     "data": {
      "text/html": [
       "<div>\n",
       "<table border=\"1\" class=\"dataframe\">\n",
       "  <thead>\n",
       "    <tr style=\"text-align: right;\">\n",
       "      <th></th>\n",
       "      <th>Hospital_Name</th>\n",
       "      <th>AHRQ_PSI_90_Score</th>\n",
       "      <th>CLABSI_Score</th>\n",
       "      <th>CAUTI_Score</th>\n",
       "      <th>SSI_Score</th>\n",
       "      <th>MRSA_Score</th>\n",
       "      <th>CDI_Score</th>\n",
       "    </tr>\n",
       "  </thead>\n",
       "  <tbody>\n",
       "    <tr>\n",
       "      <th>0</th>\n",
       "      <td>ADVENTIST MEDICAL CENTER</td>\n",
       "      <td>3.0</td>\n",
       "      <td>10.0</td>\n",
       "      <td>10.0</td>\n",
       "      <td>10.0</td>\n",
       "      <td>4.0</td>\n",
       "      <td>5.0</td>\n",
       "    </tr>\n",
       "    <tr>\n",
       "      <th>1</th>\n",
       "      <td>DAMERON HOSPITAL</td>\n",
       "      <td>10.0</td>\n",
       "      <td>8.0</td>\n",
       "      <td>9.0</td>\n",
       "      <td>3.0</td>\n",
       "      <td>10.0</td>\n",
       "      <td>9.0</td>\n",
       "    </tr>\n",
       "    <tr>\n",
       "      <th>2</th>\n",
       "      <td>USC VERDUGO HILLS HOSPITAL</td>\n",
       "      <td>4.0</td>\n",
       "      <td>10.0</td>\n",
       "      <td>9.0</td>\n",
       "      <td>2.0</td>\n",
       "      <td>4.0</td>\n",
       "      <td>5.0</td>\n",
       "    </tr>\n",
       "    <tr>\n",
       "      <th>3</th>\n",
       "      <td>REGIONAL MEDICAL CENTER OF SAN JOSE</td>\n",
       "      <td>9.0</td>\n",
       "      <td>9.0</td>\n",
       "      <td>9.0</td>\n",
       "      <td>9.0</td>\n",
       "      <td>9.0</td>\n",
       "      <td>8.0</td>\n",
       "    </tr>\n",
       "    <tr>\n",
       "      <th>4</th>\n",
       "      <td>VALLEY PRESBYTERIAN HOSPITAL</td>\n",
       "      <td>8.0</td>\n",
       "      <td>8.0</td>\n",
       "      <td>4.0</td>\n",
       "      <td>8.0</td>\n",
       "      <td>8.0</td>\n",
       "      <td>8.0</td>\n",
       "    </tr>\n",
       "  </tbody>\n",
       "</table>\n",
       "</div>"
      ],
      "text/plain": [
       "                         Hospital_Name  AHRQ_PSI_90_Score  CLABSI_Score  \\\n",
       "0             ADVENTIST MEDICAL CENTER                3.0          10.0   \n",
       "1                     DAMERON HOSPITAL               10.0           8.0   \n",
       "2           USC VERDUGO HILLS HOSPITAL                4.0          10.0   \n",
       "3  REGIONAL MEDICAL CENTER OF SAN JOSE                9.0           9.0   \n",
       "4         VALLEY PRESBYTERIAN HOSPITAL                8.0           8.0   \n",
       "\n",
       "   CAUTI_Score  SSI_Score  MRSA_Score  CDI_Score  \n",
       "0         10.0       10.0         4.0        5.0  \n",
       "1          9.0        3.0        10.0        9.0  \n",
       "2          9.0        2.0         4.0        5.0  \n",
       "3          9.0        9.0         9.0        8.0  \n",
       "4          4.0        8.0         8.0        8.0  "
      ]
     },
     "execution_count": 181,
     "metadata": {},
     "output_type": "execute_result"
    }
   ],
   "source": [
    "#only grabbing relevant features\n",
    "feat_list = ['Hospital_Name', 'AHRQ_PSI_90_Score','CLABSI_Score','CAUTI_Score','SSI_Score','MRSA_Score','CDI_Score']\n",
    "reduc = reduc[feat_list]\n",
    "reduc.head()"
   ]
  },
  {
   "cell_type": "code",
   "execution_count": 182,
   "metadata": {
    "collapsed": false
   },
   "outputs": [
    {
     "name": "stdout",
     "output_type": "stream",
     "text": [
      "There are 97 null values and 0 appears 0 times for AHRQ_PSI_90_Score.\n",
      "There are 1017 null values and 0 appears 0 times for CLABSI_Score.\n",
      "There are 732 null values and 0 appears 0 times for CAUTI_Score.\n",
      "There are 740 null values and 0 appears 0 times for SSI_Score.\n",
      "There are 940 null values and 0 appears 0 times for MRSA_Score.\n",
      "There are 152 null values and 0 appears 0 times for CDI_Score.\n"
     ]
    }
   ],
   "source": [
    "for f in feat_list[1:]:\n",
    "    null = reduc[f].isnull().sum()\n",
    "    temp_zero = len(reduc[reduc[f] == 0]) \n",
    "    print \"There are %s null values and 0 appears %s times for %s.\" % (null, temp_zero, f)\n",
    "    #Nans exists here too but there are no 0s"
   ]
  },
  {
   "cell_type": "code",
   "execution_count": 183,
   "metadata": {
    "collapsed": false
   },
   "outputs": [],
   "source": [
    "for f in feat_list[1:]:\n",
    "    reduc[f].fillna(value=0,inplace=True)"
   ]
  },
  {
   "cell_type": "code",
   "execution_count": 184,
   "metadata": {
    "collapsed": false
   },
   "outputs": [
    {
     "name": "stdout",
     "output_type": "stream",
     "text": [
      "<class 'pandas.core.frame.DataFrame'>\n",
      "RangeIndex: 3313 entries, 0 to 3312\n",
      "Data columns (total 7 columns):\n",
      "Hospital_Name        3313 non-null object\n",
      "AHRQ_PSI_90_Score    3313 non-null float64\n",
      "CLABSI_Score         3313 non-null float64\n",
      "CAUTI_Score          3313 non-null float64\n",
      "SSI_Score            3313 non-null float64\n",
      "MRSA_Score           3313 non-null float64\n",
      "CDI_Score            3313 non-null float64\n",
      "dtypes: float64(6), object(1)\n",
      "memory usage: 181.2+ KB\n"
     ]
    }
   ],
   "source": [
    "reduc.info() #Replaced the null values. Don't need to pivot this table "
   ]
  },
  {
   "cell_type": "code",
   "execution_count": 71,
   "metadata": {
    "collapsed": false
   },
   "outputs": [],
   "source": []
  },
  {
   "cell_type": "code",
   "execution_count": 72,
   "metadata": {
    "collapsed": false
   },
   "outputs": [
    {
     "data": {
      "text/html": [
       "<div>\n",
       "<table border=\"1\" class=\"dataframe\">\n",
       "  <thead>\n",
       "    <tr style=\"text-align: right;\">\n",
       "      <th></th>\n",
       "      <th>Hospital_Name</th>\n",
       "      <th>Provider_ID</th>\n",
       "      <th>State</th>\n",
       "      <th>Period</th>\n",
       "      <th>Claim_Type</th>\n",
       "      <th>Avg_Spending_Per_Episode_Hospital</th>\n",
       "      <th>Avg_Spending_Per_Episode_State</th>\n",
       "      <th>Avg_Spending_Per_Episode_Nation</th>\n",
       "      <th>Percent_of_Spending_Hospital</th>\n",
       "      <th>Percent_of_Spending_State</th>\n",
       "      <th>Percent_of_Spending_Nation</th>\n",
       "    </tr>\n",
       "  </thead>\n",
       "  <tbody>\n",
       "    <tr>\n",
       "      <th>0</th>\n",
       "      <td>HELEN KELLER HOSPITAL</td>\n",
       "      <td>10019</td>\n",
       "      <td>AL</td>\n",
       "      <td>During Index Hospital Admission</td>\n",
       "      <td>Skilled Nursing Facility</td>\n",
       "      <td>$0.00</td>\n",
       "      <td>$0.00</td>\n",
       "      <td>$0.00</td>\n",
       "      <td>0%</td>\n",
       "      <td>0%</td>\n",
       "      <td>0%</td>\n",
       "    </tr>\n",
       "    <tr>\n",
       "      <th>1</th>\n",
       "      <td>HELEN KELLER HOSPITAL</td>\n",
       "      <td>10019</td>\n",
       "      <td>AL</td>\n",
       "      <td>During Index Hospital Admission</td>\n",
       "      <td>Durable Medical Equipment</td>\n",
       "      <td>$18.00</td>\n",
       "      <td>$31.00</td>\n",
       "      <td>$24.00</td>\n",
       "      <td>0.1%</td>\n",
       "      <td>0.16%</td>\n",
       "      <td>0.12%</td>\n",
       "    </tr>\n",
       "    <tr>\n",
       "      <th>2</th>\n",
       "      <td>HELEN KELLER HOSPITAL</td>\n",
       "      <td>10019</td>\n",
       "      <td>AL</td>\n",
       "      <td>During Index Hospital Admission</td>\n",
       "      <td>Carrier</td>\n",
       "      <td>$1062.00</td>\n",
       "      <td>$1480.00</td>\n",
       "      <td>$1540.00</td>\n",
       "      <td>6.01%</td>\n",
       "      <td>7.71%</td>\n",
       "      <td>7.52%</td>\n",
       "    </tr>\n",
       "    <tr>\n",
       "      <th>3</th>\n",
       "      <td>HELEN KELLER HOSPITAL</td>\n",
       "      <td>10019</td>\n",
       "      <td>AL</td>\n",
       "      <td>1 through 30 days After Discharge from Index H...</td>\n",
       "      <td>Home Health Agency</td>\n",
       "      <td>$917.00</td>\n",
       "      <td>$948.00</td>\n",
       "      <td>$816.00</td>\n",
       "      <td>5.19%</td>\n",
       "      <td>4.94%</td>\n",
       "      <td>3.98%</td>\n",
       "    </tr>\n",
       "    <tr>\n",
       "      <th>4</th>\n",
       "      <td>HELEN KELLER HOSPITAL</td>\n",
       "      <td>10019</td>\n",
       "      <td>AL</td>\n",
       "      <td>1 through 30 days After Discharge from Index H...</td>\n",
       "      <td>Hospice</td>\n",
       "      <td>$172.00</td>\n",
       "      <td>$154.00</td>\n",
       "      <td>$122.00</td>\n",
       "      <td>0.97%</td>\n",
       "      <td>0.8%</td>\n",
       "      <td>0.6%</td>\n",
       "    </tr>\n",
       "  </tbody>\n",
       "</table>\n",
       "</div>"
      ],
      "text/plain": [
       "           Hospital_Name  Provider_ID State  \\\n",
       "0  HELEN KELLER HOSPITAL        10019    AL   \n",
       "1  HELEN KELLER HOSPITAL        10019    AL   \n",
       "2  HELEN KELLER HOSPITAL        10019    AL   \n",
       "3  HELEN KELLER HOSPITAL        10019    AL   \n",
       "4  HELEN KELLER HOSPITAL        10019    AL   \n",
       "\n",
       "                                              Period  \\\n",
       "0                    During Index Hospital Admission   \n",
       "1                    During Index Hospital Admission   \n",
       "2                    During Index Hospital Admission   \n",
       "3  1 through 30 days After Discharge from Index H...   \n",
       "4  1 through 30 days After Discharge from Index H...   \n",
       "\n",
       "                  Claim_Type Avg_Spending_Per_Episode_Hospital  \\\n",
       "0   Skilled Nursing Facility                             $0.00   \n",
       "1  Durable Medical Equipment                            $18.00   \n",
       "2                    Carrier                          $1062.00   \n",
       "3         Home Health Agency                           $917.00   \n",
       "4                    Hospice                           $172.00   \n",
       "\n",
       "  Avg_Spending_Per_Episode_State Avg_Spending_Per_Episode_Nation  \\\n",
       "0                          $0.00                           $0.00   \n",
       "1                         $31.00                          $24.00   \n",
       "2                       $1480.00                        $1540.00   \n",
       "3                        $948.00                         $816.00   \n",
       "4                        $154.00                         $122.00   \n",
       "\n",
       "  Percent_of_Spending_Hospital Percent_of_Spending_State  \\\n",
       "0                           0%                        0%   \n",
       "1                         0.1%                     0.16%   \n",
       "2                        6.01%                     7.71%   \n",
       "3                        5.19%                     4.94%   \n",
       "4                        0.97%                      0.8%   \n",
       "\n",
       "  Percent_of_Spending_Nation  \n",
       "0                         0%  \n",
       "1                      0.12%  \n",
       "2                      7.52%  \n",
       "3                      3.98%  \n",
       "4                       0.6%  "
      ]
     },
     "execution_count": 72,
     "metadata": {},
     "output_type": "execute_result"
    }
   ],
   "source": [
    "spending = pd.read_csv('Medicare_Hospital_Spending_by_Claim.csv')\n",
    "spending.head()"
   ]
  },
  {
   "cell_type": "code",
   "execution_count": 73,
   "metadata": {
    "collapsed": false
   },
   "outputs": [],
   "source": [
    "spending = spending[(spending['Claim_Type'] == 'Inpatient') | (spending['Claim_Type'] == 'Outpatient') ]"
   ]
  },
  {
   "cell_type": "code",
   "execution_count": 74,
   "metadata": {
    "collapsed": true
   },
   "outputs": [],
   "source": [
    "spending = spending[(spending['Period'] == '1 through 30 days After Discharge from Index Hospital Admission') | \n",
    "                    (spending['Period'] == '1 to 3 days Prior to Index Hospital Admission') |\n",
    "                    (spending['Period'] == 'During Index Hospital Admission')]"
   ]
  },
  {
   "cell_type": "code",
   "execution_count": 75,
   "metadata": {
    "collapsed": false
   },
   "outputs": [],
   "source": [
    "spending['Avg_Spending_Per_Episode_Hospital'] = (spending.Avg_Spending_Per_Episode_Hospital.str.replace('$', ' ')).astype(float) \n",
    "#Removing $, convert to float"
   ]
  },
  {
   "cell_type": "code",
   "execution_count": 76,
   "metadata": {
    "collapsed": false
   },
   "outputs": [
    {
     "data": {
      "text/plain": [
       "0"
      ]
     },
     "execution_count": 76,
     "metadata": {},
     "output_type": "execute_result"
    }
   ],
   "source": [
    "spending.Avg_Spending_Per_Episode_Hospital.isnull().sum() #No missing values here"
   ]
  },
  {
   "cell_type": "code",
   "execution_count": 77,
   "metadata": {
    "collapsed": false
   },
   "outputs": [],
   "source": [
    "spending_in = spending[spending['Claim_Type'] == 'Inpatient']\n",
    "spending_out = spending[spending['Claim_Type'] == 'Outpatient']"
   ]
  },
  {
   "cell_type": "code",
   "execution_count": 78,
   "metadata": {
    "collapsed": false
   },
   "outputs": [],
   "source": [
    "spending_in_pivot = pd.pivot_table(spending_in, index='Hospital_Name', columns='Period', values='Avg_Spending_Per_Episode_Hospital')"
   ]
  },
  {
   "cell_type": "code",
   "execution_count": 79,
   "metadata": {
    "collapsed": false
   },
   "outputs": [
    {
     "data": {
      "text/html": [
       "<div>\n",
       "<table border=\"1\" class=\"dataframe\">\n",
       "  <thead>\n",
       "    <tr style=\"text-align: right;\">\n",
       "      <th>Period</th>\n",
       "      <th>1 through 30 days After Discharge from Index Hospital Admission</th>\n",
       "      <th>1 to 3 days Prior to Index Hospital Admission</th>\n",
       "      <th>During Index Hospital Admission</th>\n",
       "    </tr>\n",
       "    <tr>\n",
       "      <th>Hospital_Name</th>\n",
       "      <th></th>\n",
       "      <th></th>\n",
       "      <th></th>\n",
       "    </tr>\n",
       "  </thead>\n",
       "  <tbody>\n",
       "    <tr>\n",
       "      <th>ABBEVILLE GENERAL HOSPITAL</th>\n",
       "      <td>2499.0</td>\n",
       "      <td>0.0</td>\n",
       "      <td>7515.0</td>\n",
       "    </tr>\n",
       "    <tr>\n",
       "      <th>ABBOTT NORTHWESTERN HOSPITAL</th>\n",
       "      <td>2355.0</td>\n",
       "      <td>5.0</td>\n",
       "      <td>11721.0</td>\n",
       "    </tr>\n",
       "    <tr>\n",
       "      <th>ABILENE REGIONAL MEDICAL CENTER</th>\n",
       "      <td>3873.0</td>\n",
       "      <td>14.0</td>\n",
       "      <td>9918.0</td>\n",
       "    </tr>\n",
       "    <tr>\n",
       "      <th>ABINGTON HEALTH LANSDALE HOSPITAL</th>\n",
       "      <td>1600.0</td>\n",
       "      <td>0.0</td>\n",
       "      <td>7500.0</td>\n",
       "    </tr>\n",
       "    <tr>\n",
       "      <th>ABINGTON MEMORIAL HOSPITAL</th>\n",
       "      <td>2011.0</td>\n",
       "      <td>3.0</td>\n",
       "      <td>8731.0</td>\n",
       "    </tr>\n",
       "    <tr>\n",
       "      <th>ABRAZO CENTRAL CAMPUS</th>\n",
       "      <td>3577.0</td>\n",
       "      <td>8.0</td>\n",
       "      <td>11295.0</td>\n",
       "    </tr>\n",
       "    <tr>\n",
       "      <th>ABRAZO MARYVALE CAMPUS</th>\n",
       "      <td>2236.0</td>\n",
       "      <td>30.0</td>\n",
       "      <td>7444.0</td>\n",
       "    </tr>\n",
       "    <tr>\n",
       "      <th>ABRAZO SCOTTSDALE CAMPUS</th>\n",
       "      <td>2991.0</td>\n",
       "      <td>0.0</td>\n",
       "      <td>7475.0</td>\n",
       "    </tr>\n",
       "    <tr>\n",
       "      <th>ABRAZO WEST CAMPUS</th>\n",
       "      <td>2194.0</td>\n",
       "      <td>4.0</td>\n",
       "      <td>8450.0</td>\n",
       "    </tr>\n",
       "    <tr>\n",
       "      <th>ACADIA GENERAL HOSPITAL</th>\n",
       "      <td>2984.0</td>\n",
       "      <td>0.0</td>\n",
       "      <td>6833.0</td>\n",
       "    </tr>\n",
       "    <tr>\n",
       "      <th>ACMH HOSPITAL</th>\n",
       "      <td>2243.0</td>\n",
       "      <td>0.0</td>\n",
       "      <td>7297.0</td>\n",
       "    </tr>\n",
       "    <tr>\n",
       "      <th>ACOMA-CANONCITO-LAGUNA IHS HOSPITAL</th>\n",
       "      <td>1278.0</td>\n",
       "      <td>0.0</td>\n",
       "      <td>4791.0</td>\n",
       "    </tr>\n",
       "    <tr>\n",
       "      <th>ADCARE HOSPITAL OF WORCESTER INC</th>\n",
       "      <td>1689.0</td>\n",
       "      <td>10.0</td>\n",
       "      <td>4850.0</td>\n",
       "    </tr>\n",
       "    <tr>\n",
       "      <th>ADENA REGIONAL MEDICAL CENTER</th>\n",
       "      <td>1756.0</td>\n",
       "      <td>9.0</td>\n",
       "      <td>8670.0</td>\n",
       "    </tr>\n",
       "    <tr>\n",
       "      <th>ADIRONDACK MEDICAL CENTER</th>\n",
       "      <td>1138.0</td>\n",
       "      <td>0.0</td>\n",
       "      <td>9541.0</td>\n",
       "    </tr>\n",
       "    <tr>\n",
       "      <th>ADVANCED SURGICAL HOSPITAL</th>\n",
       "      <td>1416.0</td>\n",
       "      <td>0.0</td>\n",
       "      <td>12796.0</td>\n",
       "    </tr>\n",
       "    <tr>\n",
       "      <th>ADVENTIST BOLINGBROOK HOSPITAL</th>\n",
       "      <td>2067.0</td>\n",
       "      <td>0.0</td>\n",
       "      <td>7740.0</td>\n",
       "    </tr>\n",
       "    <tr>\n",
       "      <th>ADVENTIST GLENOAKS HOSPITAL</th>\n",
       "      <td>3072.0</td>\n",
       "      <td>9.0</td>\n",
       "      <td>7469.0</td>\n",
       "    </tr>\n",
       "    <tr>\n",
       "      <th>ADVENTIST LA GRANGE MEMORIAL HOSPITAL</th>\n",
       "      <td>2461.0</td>\n",
       "      <td>0.0</td>\n",
       "      <td>8551.0</td>\n",
       "    </tr>\n",
       "    <tr>\n",
       "      <th>ADVENTIST MEDICAL CENTER</th>\n",
       "      <td>1727.5</td>\n",
       "      <td>3.0</td>\n",
       "      <td>9158.5</td>\n",
       "    </tr>\n",
       "    <tr>\n",
       "      <th>ADVENTIST MEDICAL CENTER - REEDLEY</th>\n",
       "      <td>961.0</td>\n",
       "      <td>0.0</td>\n",
       "      <td>5583.0</td>\n",
       "    </tr>\n",
       "    <tr>\n",
       "      <th>ADVOCATE BROMENN MEDICAL CENTER</th>\n",
       "      <td>2317.0</td>\n",
       "      <td>0.0</td>\n",
       "      <td>9067.0</td>\n",
       "    </tr>\n",
       "    <tr>\n",
       "      <th>ADVOCATE CHRIST HOSPITAL &amp; MEDICAL CENTER</th>\n",
       "      <td>2843.0</td>\n",
       "      <td>15.0</td>\n",
       "      <td>10155.0</td>\n",
       "    </tr>\n",
       "    <tr>\n",
       "      <th>ADVOCATE CONDELL MEDICAL CENTER</th>\n",
       "      <td>1843.0</td>\n",
       "      <td>0.0</td>\n",
       "      <td>8874.0</td>\n",
       "    </tr>\n",
       "    <tr>\n",
       "      <th>ADVOCATE GOOD SAMARITAN HOSPITAL</th>\n",
       "      <td>2740.0</td>\n",
       "      <td>2.0</td>\n",
       "      <td>9538.0</td>\n",
       "    </tr>\n",
       "    <tr>\n",
       "      <th>ADVOCATE GOOD SHEPHERD HOSPITAL</th>\n",
       "      <td>1803.0</td>\n",
       "      <td>2.0</td>\n",
       "      <td>9211.0</td>\n",
       "    </tr>\n",
       "    <tr>\n",
       "      <th>ADVOCATE ILLINOIS MASONIC MEDICAL CENTER</th>\n",
       "      <td>3174.0</td>\n",
       "      <td>2.0</td>\n",
       "      <td>8542.0</td>\n",
       "    </tr>\n",
       "    <tr>\n",
       "      <th>ADVOCATE LUTHERAN GENERAL HOSPITAL</th>\n",
       "      <td>2759.0</td>\n",
       "      <td>2.0</td>\n",
       "      <td>9409.0</td>\n",
       "    </tr>\n",
       "    <tr>\n",
       "      <th>ADVOCATE SHERMAN HOSPITAL</th>\n",
       "      <td>3147.0</td>\n",
       "      <td>0.0</td>\n",
       "      <td>8513.0</td>\n",
       "    </tr>\n",
       "    <tr>\n",
       "      <th>ADVOCATE SOUTH SUBURBAN HOSPITAL</th>\n",
       "      <td>2531.0</td>\n",
       "      <td>1.0</td>\n",
       "      <td>8351.0</td>\n",
       "    </tr>\n",
       "    <tr>\n",
       "      <th>...</th>\n",
       "      <td>...</td>\n",
       "      <td>...</td>\n",
       "      <td>...</td>\n",
       "    </tr>\n",
       "    <tr>\n",
       "      <th>WITHAM HEALTH SERVICES</th>\n",
       "      <td>1259.0</td>\n",
       "      <td>5.0</td>\n",
       "      <td>6653.0</td>\n",
       "    </tr>\n",
       "    <tr>\n",
       "      <th>WOMAN'S CHRISTIAN ASSOCIATION</th>\n",
       "      <td>2227.0</td>\n",
       "      <td>1.0</td>\n",
       "      <td>7396.0</td>\n",
       "    </tr>\n",
       "    <tr>\n",
       "      <th>WOMAN'S HOSPITAL</th>\n",
       "      <td>1608.0</td>\n",
       "      <td>0.0</td>\n",
       "      <td>7964.0</td>\n",
       "    </tr>\n",
       "    <tr>\n",
       "      <th>WOMANS HOSPITAL OF TEXASTHE</th>\n",
       "      <td>1185.0</td>\n",
       "      <td>0.0</td>\n",
       "      <td>6663.0</td>\n",
       "    </tr>\n",
       "    <tr>\n",
       "      <th>WOMEN AND INFANTS HOSPITAL OF RHODE ISLAND</th>\n",
       "      <td>1363.0</td>\n",
       "      <td>18.0</td>\n",
       "      <td>7611.0</td>\n",
       "    </tr>\n",
       "    <tr>\n",
       "      <th>WOMEN'S AND CHILDREN'S HOSPITAL</th>\n",
       "      <td>5090.0</td>\n",
       "      <td>7.0</td>\n",
       "      <td>11674.0</td>\n",
       "    </tr>\n",
       "    <tr>\n",
       "      <th>WOMEN'S HOSPITAL THE</th>\n",
       "      <td>414.0</td>\n",
       "      <td>0.0</td>\n",
       "      <td>7229.0</td>\n",
       "    </tr>\n",
       "    <tr>\n",
       "      <th>WOOD COUNTY HOSPITAL</th>\n",
       "      <td>1160.0</td>\n",
       "      <td>0.0</td>\n",
       "      <td>7357.0</td>\n",
       "    </tr>\n",
       "    <tr>\n",
       "      <th>WOODHULL MEDICAL AND MENTAL HEALTH CENTER</th>\n",
       "      <td>3491.0</td>\n",
       "      <td>17.0</td>\n",
       "      <td>7117.0</td>\n",
       "    </tr>\n",
       "    <tr>\n",
       "      <th>WOODLAND HEIGHTS MEDICAL CENTER</th>\n",
       "      <td>2354.0</td>\n",
       "      <td>3.0</td>\n",
       "      <td>9328.0</td>\n",
       "    </tr>\n",
       "    <tr>\n",
       "      <th>WOODLAND MEMORIAL HOSPITAL</th>\n",
       "      <td>1264.0</td>\n",
       "      <td>0.0</td>\n",
       "      <td>10144.0</td>\n",
       "    </tr>\n",
       "    <tr>\n",
       "      <th>WOODWARD REGIONAL HOSPITAL</th>\n",
       "      <td>2381.0</td>\n",
       "      <td>0.0</td>\n",
       "      <td>6976.0</td>\n",
       "    </tr>\n",
       "    <tr>\n",
       "      <th>WOOSTER COMMUNITY HOSPITAL</th>\n",
       "      <td>2757.0</td>\n",
       "      <td>12.0</td>\n",
       "      <td>7438.0</td>\n",
       "    </tr>\n",
       "    <tr>\n",
       "      <th>WUESTHOFF MEDICAL CENTER  ROCKLEDGE</th>\n",
       "      <td>2611.0</td>\n",
       "      <td>2.0</td>\n",
       "      <td>8186.0</td>\n",
       "    </tr>\n",
       "    <tr>\n",
       "      <th>WUESTHOFF MELBOURNE</th>\n",
       "      <td>3069.0</td>\n",
       "      <td>0.0</td>\n",
       "      <td>9454.0</td>\n",
       "    </tr>\n",
       "    <tr>\n",
       "      <th>WYCKOFF HEIGHTS MEDICAL CENTER</th>\n",
       "      <td>2609.0</td>\n",
       "      <td>0.0</td>\n",
       "      <td>7781.0</td>\n",
       "    </tr>\n",
       "    <tr>\n",
       "      <th>WYOMING COUNTY COMMUNITY HOSPITAL</th>\n",
       "      <td>1646.0</td>\n",
       "      <td>0.0</td>\n",
       "      <td>6055.0</td>\n",
       "    </tr>\n",
       "    <tr>\n",
       "      <th>WYOMING MEDICAL CENTER</th>\n",
       "      <td>4152.0</td>\n",
       "      <td>16.0</td>\n",
       "      <td>10232.0</td>\n",
       "    </tr>\n",
       "    <tr>\n",
       "      <th>WYTHE COUNTY COMMUNITY HOSPITAL</th>\n",
       "      <td>1139.0</td>\n",
       "      <td>0.0</td>\n",
       "      <td>7639.0</td>\n",
       "    </tr>\n",
       "    <tr>\n",
       "      <th>YAKIMA HMA INC. D/B/A YAKIMA REGIONAL MEDICAL AND CARDIAC CENTER</th>\n",
       "      <td>2695.0</td>\n",
       "      <td>12.0</td>\n",
       "      <td>10641.0</td>\n",
       "    </tr>\n",
       "    <tr>\n",
       "      <th>YAKIMA VALLEY MEMORIAL HOSPITAL</th>\n",
       "      <td>1650.0</td>\n",
       "      <td>3.0</td>\n",
       "      <td>9666.0</td>\n",
       "    </tr>\n",
       "    <tr>\n",
       "      <th>YALE-NEW HAVEN HOSPITAL</th>\n",
       "      <td>2491.0</td>\n",
       "      <td>3.0</td>\n",
       "      <td>10173.0</td>\n",
       "    </tr>\n",
       "    <tr>\n",
       "      <th>YALOBUSHA GENERAL HOSPITAL</th>\n",
       "      <td>1222.0</td>\n",
       "      <td>0.0</td>\n",
       "      <td>4695.0</td>\n",
       "    </tr>\n",
       "    <tr>\n",
       "      <th>YAMPA VALLEY MEDICAL CENTER</th>\n",
       "      <td>1395.0</td>\n",
       "      <td>0.0</td>\n",
       "      <td>9944.0</td>\n",
       "    </tr>\n",
       "    <tr>\n",
       "      <th>YAVAPAI REGIONAL MEDICAL CENTER</th>\n",
       "      <td>3488.0</td>\n",
       "      <td>7.0</td>\n",
       "      <td>9146.0</td>\n",
       "    </tr>\n",
       "    <tr>\n",
       "      <th>YAVAPAI REGIONAL MEDICAL CENTER-EAST CAMPUS</th>\n",
       "      <td>3161.0</td>\n",
       "      <td>0.0</td>\n",
       "      <td>7933.0</td>\n",
       "    </tr>\n",
       "    <tr>\n",
       "      <th>YORK HOSPITAL</th>\n",
       "      <td>3312.0</td>\n",
       "      <td>2.5</td>\n",
       "      <td>8832.5</td>\n",
       "    </tr>\n",
       "    <tr>\n",
       "      <th>YUKON KUSKOKWIM DELTA REG HOSPITAL</th>\n",
       "      <td>1707.0</td>\n",
       "      <td>0.0</td>\n",
       "      <td>5413.0</td>\n",
       "    </tr>\n",
       "    <tr>\n",
       "      <th>YUMA REGIONAL MEDICAL CENTER</th>\n",
       "      <td>3995.0</td>\n",
       "      <td>2.0</td>\n",
       "      <td>9815.0</td>\n",
       "    </tr>\n",
       "    <tr>\n",
       "      <th>ZUNI COMPREHENSIVE COMMUNITY HEALTH CENTER</th>\n",
       "      <td>2145.0</td>\n",
       "      <td>0.0</td>\n",
       "      <td>6387.0</td>\n",
       "    </tr>\n",
       "  </tbody>\n",
       "</table>\n",
       "<p>3059 rows × 3 columns</p>\n",
       "</div>"
      ],
      "text/plain": [
       "Period                                              1 through 30 days After Discharge from Index Hospital Admission  \\\n",
       "Hospital_Name                                                                                                         \n",
       "ABBEVILLE GENERAL HOSPITAL                                                                     2499.0                 \n",
       "ABBOTT NORTHWESTERN HOSPITAL                                                                   2355.0                 \n",
       "ABILENE REGIONAL MEDICAL CENTER                                                                3873.0                 \n",
       "ABINGTON HEALTH LANSDALE HOSPITAL                                                              1600.0                 \n",
       "ABINGTON MEMORIAL HOSPITAL                                                                     2011.0                 \n",
       "ABRAZO CENTRAL CAMPUS                                                                          3577.0                 \n",
       "ABRAZO MARYVALE CAMPUS                                                                         2236.0                 \n",
       "ABRAZO SCOTTSDALE CAMPUS                                                                       2991.0                 \n",
       "ABRAZO WEST CAMPUS                                                                             2194.0                 \n",
       "ACADIA GENERAL HOSPITAL                                                                        2984.0                 \n",
       "ACMH HOSPITAL                                                                                  2243.0                 \n",
       "ACOMA-CANONCITO-LAGUNA IHS HOSPITAL                                                            1278.0                 \n",
       "ADCARE HOSPITAL OF WORCESTER INC                                                               1689.0                 \n",
       "ADENA REGIONAL MEDICAL CENTER                                                                  1756.0                 \n",
       "ADIRONDACK MEDICAL CENTER                                                                      1138.0                 \n",
       "ADVANCED SURGICAL HOSPITAL                                                                     1416.0                 \n",
       "ADVENTIST BOLINGBROOK HOSPITAL                                                                 2067.0                 \n",
       "ADVENTIST GLENOAKS HOSPITAL                                                                    3072.0                 \n",
       "ADVENTIST LA GRANGE MEMORIAL HOSPITAL                                                          2461.0                 \n",
       "ADVENTIST MEDICAL CENTER                                                                       1727.5                 \n",
       "ADVENTIST MEDICAL CENTER - REEDLEY                                                              961.0                 \n",
       "ADVOCATE BROMENN MEDICAL CENTER                                                                2317.0                 \n",
       "ADVOCATE CHRIST HOSPITAL & MEDICAL CENTER                                                      2843.0                 \n",
       "ADVOCATE CONDELL MEDICAL CENTER                                                                1843.0                 \n",
       "ADVOCATE GOOD SAMARITAN HOSPITAL                                                               2740.0                 \n",
       "ADVOCATE GOOD SHEPHERD HOSPITAL                                                                1803.0                 \n",
       "ADVOCATE ILLINOIS MASONIC MEDICAL CENTER                                                       3174.0                 \n",
       "ADVOCATE LUTHERAN GENERAL HOSPITAL                                                             2759.0                 \n",
       "ADVOCATE SHERMAN HOSPITAL                                                                      3147.0                 \n",
       "ADVOCATE SOUTH SUBURBAN HOSPITAL                                                               2531.0                 \n",
       "...                                                                                               ...                 \n",
       "WITHAM HEALTH SERVICES                                                                         1259.0                 \n",
       "WOMAN'S CHRISTIAN ASSOCIATION                                                                  2227.0                 \n",
       "WOMAN'S HOSPITAL                                                                               1608.0                 \n",
       "WOMANS HOSPITAL OF TEXASTHE                                                                    1185.0                 \n",
       "WOMEN AND INFANTS HOSPITAL OF RHODE ISLAND                                                     1363.0                 \n",
       "WOMEN'S AND CHILDREN'S HOSPITAL                                                                5090.0                 \n",
       "WOMEN'S HOSPITAL THE                                                                            414.0                 \n",
       "WOOD COUNTY HOSPITAL                                                                           1160.0                 \n",
       "WOODHULL MEDICAL AND MENTAL HEALTH CENTER                                                      3491.0                 \n",
       "WOODLAND HEIGHTS MEDICAL CENTER                                                                2354.0                 \n",
       "WOODLAND MEMORIAL HOSPITAL                                                                     1264.0                 \n",
       "WOODWARD REGIONAL HOSPITAL                                                                     2381.0                 \n",
       "WOOSTER COMMUNITY HOSPITAL                                                                     2757.0                 \n",
       "WUESTHOFF MEDICAL CENTER  ROCKLEDGE                                                            2611.0                 \n",
       "WUESTHOFF MELBOURNE                                                                            3069.0                 \n",
       "WYCKOFF HEIGHTS MEDICAL CENTER                                                                 2609.0                 \n",
       "WYOMING COUNTY COMMUNITY HOSPITAL                                                              1646.0                 \n",
       "WYOMING MEDICAL CENTER                                                                         4152.0                 \n",
       "WYTHE COUNTY COMMUNITY HOSPITAL                                                                1139.0                 \n",
       "YAKIMA HMA INC. D/B/A YAKIMA REGIONAL MEDICAL A...                                             2695.0                 \n",
       "YAKIMA VALLEY MEMORIAL HOSPITAL                                                                1650.0                 \n",
       "YALE-NEW HAVEN HOSPITAL                                                                        2491.0                 \n",
       "YALOBUSHA GENERAL HOSPITAL                                                                     1222.0                 \n",
       "YAMPA VALLEY MEDICAL CENTER                                                                    1395.0                 \n",
       "YAVAPAI REGIONAL MEDICAL CENTER                                                                3488.0                 \n",
       "YAVAPAI REGIONAL MEDICAL CENTER-EAST CAMPUS                                                    3161.0                 \n",
       "YORK HOSPITAL                                                                                  3312.0                 \n",
       "YUKON KUSKOKWIM DELTA REG HOSPITAL                                                             1707.0                 \n",
       "YUMA REGIONAL MEDICAL CENTER                                                                   3995.0                 \n",
       "ZUNI COMPREHENSIVE COMMUNITY HEALTH CENTER                                                     2145.0                 \n",
       "\n",
       "Period                                              1 to 3 days Prior to Index Hospital Admission  \\\n",
       "Hospital_Name                                                                                       \n",
       "ABBEVILLE GENERAL HOSPITAL                                                                    0.0   \n",
       "ABBOTT NORTHWESTERN HOSPITAL                                                                  5.0   \n",
       "ABILENE REGIONAL MEDICAL CENTER                                                              14.0   \n",
       "ABINGTON HEALTH LANSDALE HOSPITAL                                                             0.0   \n",
       "ABINGTON MEMORIAL HOSPITAL                                                                    3.0   \n",
       "ABRAZO CENTRAL CAMPUS                                                                         8.0   \n",
       "ABRAZO MARYVALE CAMPUS                                                                       30.0   \n",
       "ABRAZO SCOTTSDALE CAMPUS                                                                      0.0   \n",
       "ABRAZO WEST CAMPUS                                                                            4.0   \n",
       "ACADIA GENERAL HOSPITAL                                                                       0.0   \n",
       "ACMH HOSPITAL                                                                                 0.0   \n",
       "ACOMA-CANONCITO-LAGUNA IHS HOSPITAL                                                           0.0   \n",
       "ADCARE HOSPITAL OF WORCESTER INC                                                             10.0   \n",
       "ADENA REGIONAL MEDICAL CENTER                                                                 9.0   \n",
       "ADIRONDACK MEDICAL CENTER                                                                     0.0   \n",
       "ADVANCED SURGICAL HOSPITAL                                                                    0.0   \n",
       "ADVENTIST BOLINGBROOK HOSPITAL                                                                0.0   \n",
       "ADVENTIST GLENOAKS HOSPITAL                                                                   9.0   \n",
       "ADVENTIST LA GRANGE MEMORIAL HOSPITAL                                                         0.0   \n",
       "ADVENTIST MEDICAL CENTER                                                                      3.0   \n",
       "ADVENTIST MEDICAL CENTER - REEDLEY                                                            0.0   \n",
       "ADVOCATE BROMENN MEDICAL CENTER                                                               0.0   \n",
       "ADVOCATE CHRIST HOSPITAL & MEDICAL CENTER                                                    15.0   \n",
       "ADVOCATE CONDELL MEDICAL CENTER                                                               0.0   \n",
       "ADVOCATE GOOD SAMARITAN HOSPITAL                                                              2.0   \n",
       "ADVOCATE GOOD SHEPHERD HOSPITAL                                                               2.0   \n",
       "ADVOCATE ILLINOIS MASONIC MEDICAL CENTER                                                      2.0   \n",
       "ADVOCATE LUTHERAN GENERAL HOSPITAL                                                            2.0   \n",
       "ADVOCATE SHERMAN HOSPITAL                                                                     0.0   \n",
       "ADVOCATE SOUTH SUBURBAN HOSPITAL                                                              1.0   \n",
       "...                                                                                           ...   \n",
       "WITHAM HEALTH SERVICES                                                                        5.0   \n",
       "WOMAN'S CHRISTIAN ASSOCIATION                                                                 1.0   \n",
       "WOMAN'S HOSPITAL                                                                              0.0   \n",
       "WOMANS HOSPITAL OF TEXASTHE                                                                   0.0   \n",
       "WOMEN AND INFANTS HOSPITAL OF RHODE ISLAND                                                   18.0   \n",
       "WOMEN'S AND CHILDREN'S HOSPITAL                                                               7.0   \n",
       "WOMEN'S HOSPITAL THE                                                                          0.0   \n",
       "WOOD COUNTY HOSPITAL                                                                          0.0   \n",
       "WOODHULL MEDICAL AND MENTAL HEALTH CENTER                                                    17.0   \n",
       "WOODLAND HEIGHTS MEDICAL CENTER                                                               3.0   \n",
       "WOODLAND MEMORIAL HOSPITAL                                                                    0.0   \n",
       "WOODWARD REGIONAL HOSPITAL                                                                    0.0   \n",
       "WOOSTER COMMUNITY HOSPITAL                                                                   12.0   \n",
       "WUESTHOFF MEDICAL CENTER  ROCKLEDGE                                                           2.0   \n",
       "WUESTHOFF MELBOURNE                                                                           0.0   \n",
       "WYCKOFF HEIGHTS MEDICAL CENTER                                                                0.0   \n",
       "WYOMING COUNTY COMMUNITY HOSPITAL                                                             0.0   \n",
       "WYOMING MEDICAL CENTER                                                                       16.0   \n",
       "WYTHE COUNTY COMMUNITY HOSPITAL                                                               0.0   \n",
       "YAKIMA HMA INC. D/B/A YAKIMA REGIONAL MEDICAL A...                                           12.0   \n",
       "YAKIMA VALLEY MEMORIAL HOSPITAL                                                               3.0   \n",
       "YALE-NEW HAVEN HOSPITAL                                                                       3.0   \n",
       "YALOBUSHA GENERAL HOSPITAL                                                                    0.0   \n",
       "YAMPA VALLEY MEDICAL CENTER                                                                   0.0   \n",
       "YAVAPAI REGIONAL MEDICAL CENTER                                                               7.0   \n",
       "YAVAPAI REGIONAL MEDICAL CENTER-EAST CAMPUS                                                   0.0   \n",
       "YORK HOSPITAL                                                                                 2.5   \n",
       "YUKON KUSKOKWIM DELTA REG HOSPITAL                                                            0.0   \n",
       "YUMA REGIONAL MEDICAL CENTER                                                                  2.0   \n",
       "ZUNI COMPREHENSIVE COMMUNITY HEALTH CENTER                                                    0.0   \n",
       "\n",
       "Period                                              During Index Hospital Admission  \n",
       "Hospital_Name                                                                        \n",
       "ABBEVILLE GENERAL HOSPITAL                                                   7515.0  \n",
       "ABBOTT NORTHWESTERN HOSPITAL                                                11721.0  \n",
       "ABILENE REGIONAL MEDICAL CENTER                                              9918.0  \n",
       "ABINGTON HEALTH LANSDALE HOSPITAL                                            7500.0  \n",
       "ABINGTON MEMORIAL HOSPITAL                                                   8731.0  \n",
       "ABRAZO CENTRAL CAMPUS                                                       11295.0  \n",
       "ABRAZO MARYVALE CAMPUS                                                       7444.0  \n",
       "ABRAZO SCOTTSDALE CAMPUS                                                     7475.0  \n",
       "ABRAZO WEST CAMPUS                                                           8450.0  \n",
       "ACADIA GENERAL HOSPITAL                                                      6833.0  \n",
       "ACMH HOSPITAL                                                                7297.0  \n",
       "ACOMA-CANONCITO-LAGUNA IHS HOSPITAL                                          4791.0  \n",
       "ADCARE HOSPITAL OF WORCESTER INC                                             4850.0  \n",
       "ADENA REGIONAL MEDICAL CENTER                                                8670.0  \n",
       "ADIRONDACK MEDICAL CENTER                                                    9541.0  \n",
       "ADVANCED SURGICAL HOSPITAL                                                  12796.0  \n",
       "ADVENTIST BOLINGBROOK HOSPITAL                                               7740.0  \n",
       "ADVENTIST GLENOAKS HOSPITAL                                                  7469.0  \n",
       "ADVENTIST LA GRANGE MEMORIAL HOSPITAL                                        8551.0  \n",
       "ADVENTIST MEDICAL CENTER                                                     9158.5  \n",
       "ADVENTIST MEDICAL CENTER - REEDLEY                                           5583.0  \n",
       "ADVOCATE BROMENN MEDICAL CENTER                                              9067.0  \n",
       "ADVOCATE CHRIST HOSPITAL & MEDICAL CENTER                                   10155.0  \n",
       "ADVOCATE CONDELL MEDICAL CENTER                                              8874.0  \n",
       "ADVOCATE GOOD SAMARITAN HOSPITAL                                             9538.0  \n",
       "ADVOCATE GOOD SHEPHERD HOSPITAL                                              9211.0  \n",
       "ADVOCATE ILLINOIS MASONIC MEDICAL CENTER                                     8542.0  \n",
       "ADVOCATE LUTHERAN GENERAL HOSPITAL                                           9409.0  \n",
       "ADVOCATE SHERMAN HOSPITAL                                                    8513.0  \n",
       "ADVOCATE SOUTH SUBURBAN HOSPITAL                                             8351.0  \n",
       "...                                                                             ...  \n",
       "WITHAM HEALTH SERVICES                                                       6653.0  \n",
       "WOMAN'S CHRISTIAN ASSOCIATION                                                7396.0  \n",
       "WOMAN'S HOSPITAL                                                             7964.0  \n",
       "WOMANS HOSPITAL OF TEXASTHE                                                  6663.0  \n",
       "WOMEN AND INFANTS HOSPITAL OF RHODE ISLAND                                   7611.0  \n",
       "WOMEN'S AND CHILDREN'S HOSPITAL                                             11674.0  \n",
       "WOMEN'S HOSPITAL THE                                                         7229.0  \n",
       "WOOD COUNTY HOSPITAL                                                         7357.0  \n",
       "WOODHULL MEDICAL AND MENTAL HEALTH CENTER                                    7117.0  \n",
       "WOODLAND HEIGHTS MEDICAL CENTER                                              9328.0  \n",
       "WOODLAND MEMORIAL HOSPITAL                                                  10144.0  \n",
       "WOODWARD REGIONAL HOSPITAL                                                   6976.0  \n",
       "WOOSTER COMMUNITY HOSPITAL                                                   7438.0  \n",
       "WUESTHOFF MEDICAL CENTER  ROCKLEDGE                                          8186.0  \n",
       "WUESTHOFF MELBOURNE                                                          9454.0  \n",
       "WYCKOFF HEIGHTS MEDICAL CENTER                                               7781.0  \n",
       "WYOMING COUNTY COMMUNITY HOSPITAL                                            6055.0  \n",
       "WYOMING MEDICAL CENTER                                                      10232.0  \n",
       "WYTHE COUNTY COMMUNITY HOSPITAL                                              7639.0  \n",
       "YAKIMA HMA INC. D/B/A YAKIMA REGIONAL MEDICAL A...                          10641.0  \n",
       "YAKIMA VALLEY MEMORIAL HOSPITAL                                              9666.0  \n",
       "YALE-NEW HAVEN HOSPITAL                                                     10173.0  \n",
       "YALOBUSHA GENERAL HOSPITAL                                                   4695.0  \n",
       "YAMPA VALLEY MEDICAL CENTER                                                  9944.0  \n",
       "YAVAPAI REGIONAL MEDICAL CENTER                                              9146.0  \n",
       "YAVAPAI REGIONAL MEDICAL CENTER-EAST CAMPUS                                  7933.0  \n",
       "YORK HOSPITAL                                                                8832.5  \n",
       "YUKON KUSKOKWIM DELTA REG HOSPITAL                                           5413.0  \n",
       "YUMA REGIONAL MEDICAL CENTER                                                 9815.0  \n",
       "ZUNI COMPREHENSIVE COMMUNITY HEALTH CENTER                                   6387.0  \n",
       "\n",
       "[3059 rows x 3 columns]"
      ]
     },
     "execution_count": 79,
     "metadata": {},
     "output_type": "execute_result"
    }
   ],
   "source": [
    "spending_in_pivot"
   ]
  },
  {
   "cell_type": "code",
   "execution_count": 80,
   "metadata": {
    "collapsed": false
   },
   "outputs": [
    {
     "name": "stdout",
     "output_type": "stream",
     "text": [
      "<class 'pandas.core.frame.DataFrame'>\n",
      "Index: 3059 entries, ABBEVILLE GENERAL HOSPITAL to ZUNI COMPREHENSIVE COMMUNITY HEALTH CENTER\n",
      "Data columns (total 3 columns):\n",
      "1 through 30 days After Discharge from Index Hospital Admission    3059 non-null float64\n",
      "1 to 3 days Prior to Index Hospital Admission                      3059 non-null float64\n",
      "During Index Hospital Admission                                    3059 non-null float64\n",
      "dtypes: float64(3)\n",
      "memory usage: 95.6+ KB\n"
     ]
    }
   ],
   "source": [
    "spending_in_pivot.info()"
   ]
  },
  {
   "cell_type": "code",
   "execution_count": 81,
   "metadata": {
    "collapsed": true
   },
   "outputs": [],
   "source": [
    "spending_out_pivot = pd.pivot_table(spending_out, index='Hospital_Name', columns='Period', values='Avg_Spending_Per_Episode_Hospital')"
   ]
  },
  {
   "cell_type": "code",
   "execution_count": 120,
   "metadata": {
    "collapsed": false
   },
   "outputs": [
    {
     "data": {
      "text/html": [
       "<div>\n",
       "<table border=\"1\" class=\"dataframe\">\n",
       "  <thead>\n",
       "    <tr style=\"text-align: right;\">\n",
       "      <th></th>\n",
       "      <th>Provider ID</th>\n",
       "      <th>Hospital name</th>\n",
       "      <th>Address</th>\n",
       "      <th>City</th>\n",
       "      <th>State</th>\n",
       "      <th>ZIP Code</th>\n",
       "      <th>County name</th>\n",
       "      <th>Phone number</th>\n",
       "      <th>Payment measure name</th>\n",
       "      <th>Payment measure ID</th>\n",
       "      <th>...</th>\n",
       "      <th>Lower estimate</th>\n",
       "      <th>Higher estimate</th>\n",
       "      <th>Payment footnote</th>\n",
       "      <th>Value of care display name</th>\n",
       "      <th>Value of care display ID</th>\n",
       "      <th>Value of care category</th>\n",
       "      <th>Value of care footnote</th>\n",
       "      <th>Measure start date</th>\n",
       "      <th>Measure End Date</th>\n",
       "      <th>Location</th>\n",
       "    </tr>\n",
       "  </thead>\n",
       "  <tbody>\n",
       "    <tr>\n",
       "      <th>0</th>\n",
       "      <td>10005</td>\n",
       "      <td>MARSHALL MEDICAL CENTER SOUTH</td>\n",
       "      <td>2505 U S HIGHWAY 431 NORTH</td>\n",
       "      <td>BOAZ</td>\n",
       "      <td>AL</td>\n",
       "      <td>35957</td>\n",
       "      <td>MARSHALL</td>\n",
       "      <td>2565938310</td>\n",
       "      <td>Payment for heart attack patients</td>\n",
       "      <td>PAYM_30_AMI</td>\n",
       "      <td>...</td>\n",
       "      <td>$20,404</td>\n",
       "      <td>$26,226</td>\n",
       "      <td>NaN</td>\n",
       "      <td>Value of Care Heart Attack measure</td>\n",
       "      <td>MORT_PAYM_30_AMI</td>\n",
       "      <td>Average mortality and average payment</td>\n",
       "      <td>NaN</td>\n",
       "      <td>07/01/2012</td>\n",
       "      <td>06/30/2015</td>\n",
       "      <td>2505 U S HIGHWAY 431 NORTH\\nBOAZ, AL 35957\\n</td>\n",
       "    </tr>\n",
       "    <tr>\n",
       "      <th>1</th>\n",
       "      <td>10005</td>\n",
       "      <td>MARSHALL MEDICAL CENTER SOUTH</td>\n",
       "      <td>2505 U S HIGHWAY 431 NORTH</td>\n",
       "      <td>BOAZ</td>\n",
       "      <td>AL</td>\n",
       "      <td>35957</td>\n",
       "      <td>MARSHALL</td>\n",
       "      <td>2565938310</td>\n",
       "      <td>Payment for heart failure patients</td>\n",
       "      <td>PAYM_30_HF</td>\n",
       "      <td>...</td>\n",
       "      <td>$15,237</td>\n",
       "      <td>$17,547</td>\n",
       "      <td>NaN</td>\n",
       "      <td>Value of Care Heart Failure measure</td>\n",
       "      <td>MORT_PAYM_30_HF</td>\n",
       "      <td>Worse mortality and average payment</td>\n",
       "      <td>NaN</td>\n",
       "      <td>07/01/2012</td>\n",
       "      <td>06/30/2015</td>\n",
       "      <td>2505 U S HIGHWAY 431 NORTH\\nBOAZ, AL 35957\\n</td>\n",
       "    </tr>\n",
       "    <tr>\n",
       "      <th>2</th>\n",
       "      <td>10005</td>\n",
       "      <td>MARSHALL MEDICAL CENTER SOUTH</td>\n",
       "      <td>2505 U S HIGHWAY 431 NORTH</td>\n",
       "      <td>BOAZ</td>\n",
       "      <td>AL</td>\n",
       "      <td>35957</td>\n",
       "      <td>MARSHALL</td>\n",
       "      <td>2565938310</td>\n",
       "      <td>Payment for pneumonia patients</td>\n",
       "      <td>PAYM_30_PN</td>\n",
       "      <td>...</td>\n",
       "      <td>$13,642</td>\n",
       "      <td>$15,118</td>\n",
       "      <td>NaN</td>\n",
       "      <td>Value of Care Pneumonia measure</td>\n",
       "      <td>MORT_PAYM_30_PN</td>\n",
       "      <td>Worse mortality and average payment</td>\n",
       "      <td>NaN</td>\n",
       "      <td>07/01/2012</td>\n",
       "      <td>06/30/2015</td>\n",
       "      <td>2505 U S HIGHWAY 431 NORTH\\nBOAZ, AL 35957\\n</td>\n",
       "    </tr>\n",
       "    <tr>\n",
       "      <th>3</th>\n",
       "      <td>10012</td>\n",
       "      <td>DEKALB REGIONAL MEDICAL CENTER</td>\n",
       "      <td>200 MED CENTER DRIVE</td>\n",
       "      <td>FORT PAYNE</td>\n",
       "      <td>AL</td>\n",
       "      <td>35968</td>\n",
       "      <td>DE KALB</td>\n",
       "      <td>2568453150</td>\n",
       "      <td>Payment for heart attack patients</td>\n",
       "      <td>PAYM_30_AMI</td>\n",
       "      <td>...</td>\n",
       "      <td>$20,910</td>\n",
       "      <td>$25,353</td>\n",
       "      <td>NaN</td>\n",
       "      <td>Value of Care Heart Attack measure</td>\n",
       "      <td>MORT_PAYM_30_AMI</td>\n",
       "      <td>Average mortality and average payment</td>\n",
       "      <td>NaN</td>\n",
       "      <td>07/01/2012</td>\n",
       "      <td>06/30/2015</td>\n",
       "      <td>200 MED CENTER DRIVE\\nFORT PAYNE, AL 35968\\n</td>\n",
       "    </tr>\n",
       "    <tr>\n",
       "      <th>4</th>\n",
       "      <td>10012</td>\n",
       "      <td>DEKALB REGIONAL MEDICAL CENTER</td>\n",
       "      <td>200 MED CENTER DRIVE</td>\n",
       "      <td>FORT PAYNE</td>\n",
       "      <td>AL</td>\n",
       "      <td>35968</td>\n",
       "      <td>DE KALB</td>\n",
       "      <td>2568453150</td>\n",
       "      <td>Payment for heart failure patients</td>\n",
       "      <td>PAYM_30_HF</td>\n",
       "      <td>...</td>\n",
       "      <td>$15,113</td>\n",
       "      <td>$18,491</td>\n",
       "      <td>NaN</td>\n",
       "      <td>Value of Care Heart Failure measure</td>\n",
       "      <td>MORT_PAYM_30_HF</td>\n",
       "      <td>Average mortality and average payment</td>\n",
       "      <td>NaN</td>\n",
       "      <td>07/01/2012</td>\n",
       "      <td>06/30/2015</td>\n",
       "      <td>200 MED CENTER DRIVE\\nFORT PAYNE, AL 35968\\n</td>\n",
       "    </tr>\n",
       "  </tbody>\n",
       "</table>\n",
       "<p>5 rows × 23 columns</p>\n",
       "</div>"
      ],
      "text/plain": [
       "   Provider ID                   Hospital name                     Address  \\\n",
       "0        10005   MARSHALL MEDICAL CENTER SOUTH  2505 U S HIGHWAY 431 NORTH   \n",
       "1        10005   MARSHALL MEDICAL CENTER SOUTH  2505 U S HIGHWAY 431 NORTH   \n",
       "2        10005   MARSHALL MEDICAL CENTER SOUTH  2505 U S HIGHWAY 431 NORTH   \n",
       "3        10012  DEKALB REGIONAL MEDICAL CENTER        200 MED CENTER DRIVE   \n",
       "4        10012  DEKALB REGIONAL MEDICAL CENTER        200 MED CENTER DRIVE   \n",
       "\n",
       "         City State  ZIP Code County name  Phone number  \\\n",
       "0        BOAZ    AL     35957    MARSHALL    2565938310   \n",
       "1        BOAZ    AL     35957    MARSHALL    2565938310   \n",
       "2        BOAZ    AL     35957    MARSHALL    2565938310   \n",
       "3  FORT PAYNE    AL     35968     DE KALB    2568453150   \n",
       "4  FORT PAYNE    AL     35968     DE KALB    2568453150   \n",
       "\n",
       "                 Payment measure name Payment measure ID  \\\n",
       "0   Payment for heart attack patients        PAYM_30_AMI   \n",
       "1  Payment for heart failure patients         PAYM_30_HF   \n",
       "2      Payment for pneumonia patients         PAYM_30_PN   \n",
       "3   Payment for heart attack patients        PAYM_30_AMI   \n",
       "4  Payment for heart failure patients         PAYM_30_HF   \n",
       "\n",
       "                       ...                      Lower estimate  \\\n",
       "0                      ...                             $20,404   \n",
       "1                      ...                             $15,237   \n",
       "2                      ...                             $13,642   \n",
       "3                      ...                             $20,910   \n",
       "4                      ...                             $15,113   \n",
       "\n",
       "  Higher estimate Payment footnote           Value of care display name  \\\n",
       "0         $26,226              NaN   Value of Care Heart Attack measure   \n",
       "1         $17,547              NaN  Value of Care Heart Failure measure   \n",
       "2         $15,118              NaN      Value of Care Pneumonia measure   \n",
       "3         $25,353              NaN   Value of Care Heart Attack measure   \n",
       "4         $18,491              NaN  Value of Care Heart Failure measure   \n",
       "\n",
       "  Value of care display ID                 Value of care category  \\\n",
       "0         MORT_PAYM_30_AMI  Average mortality and average payment   \n",
       "1          MORT_PAYM_30_HF    Worse mortality and average payment   \n",
       "2          MORT_PAYM_30_PN    Worse mortality and average payment   \n",
       "3         MORT_PAYM_30_AMI  Average mortality and average payment   \n",
       "4          MORT_PAYM_30_HF  Average mortality and average payment   \n",
       "\n",
       "  Value of care footnote Measure start date Measure End Date  \\\n",
       "0                    NaN         07/01/2012       06/30/2015   \n",
       "1                    NaN         07/01/2012       06/30/2015   \n",
       "2                    NaN         07/01/2012       06/30/2015   \n",
       "3                    NaN         07/01/2012       06/30/2015   \n",
       "4                    NaN         07/01/2012       06/30/2015   \n",
       "\n",
       "                                       Location  \n",
       "0  2505 U S HIGHWAY 431 NORTH\\nBOAZ, AL 35957\\n  \n",
       "1  2505 U S HIGHWAY 431 NORTH\\nBOAZ, AL 35957\\n  \n",
       "2  2505 U S HIGHWAY 431 NORTH\\nBOAZ, AL 35957\\n  \n",
       "3  200 MED CENTER DRIVE\\nFORT PAYNE, AL 35968\\n  \n",
       "4  200 MED CENTER DRIVE\\nFORT PAYNE, AL 35968\\n  \n",
       "\n",
       "[5 rows x 23 columns]"
      ]
     },
     "execution_count": 120,
     "metadata": {},
     "output_type": "execute_result"
    }
   ],
   "source": [
    "pay = pd.read_csv('Payment_and_value_of_care_-_Hospital.csv')\n",
    "pay.head()"
   ]
  },
  {
   "cell_type": "code",
   "execution_count": 121,
   "metadata": {
    "collapsed": false
   },
   "outputs": [
    {
     "data": {
      "text/html": [
       "<div>\n",
       "<table border=\"1\" class=\"dataframe\">\n",
       "  <thead>\n",
       "    <tr style=\"text-align: right;\">\n",
       "      <th></th>\n",
       "      <th>Hospital name</th>\n",
       "      <th>ZIP Code</th>\n",
       "      <th>Payment measure ID</th>\n",
       "      <th>Payment</th>\n",
       "      <th>Lower estimate</th>\n",
       "      <th>Higher estimate</th>\n",
       "    </tr>\n",
       "  </thead>\n",
       "  <tbody>\n",
       "    <tr>\n",
       "      <th>0</th>\n",
       "      <td>MARSHALL MEDICAL CENTER SOUTH</td>\n",
       "      <td>35957</td>\n",
       "      <td>PAYM_30_AMI</td>\n",
       "      <td>$23,171</td>\n",
       "      <td>$20,404</td>\n",
       "      <td>$26,226</td>\n",
       "    </tr>\n",
       "    <tr>\n",
       "      <th>1</th>\n",
       "      <td>MARSHALL MEDICAL CENTER SOUTH</td>\n",
       "      <td>35957</td>\n",
       "      <td>PAYM_30_HF</td>\n",
       "      <td>$16,376</td>\n",
       "      <td>$15,237</td>\n",
       "      <td>$17,547</td>\n",
       "    </tr>\n",
       "    <tr>\n",
       "      <th>2</th>\n",
       "      <td>MARSHALL MEDICAL CENTER SOUTH</td>\n",
       "      <td>35957</td>\n",
       "      <td>PAYM_30_PN</td>\n",
       "      <td>$14,384</td>\n",
       "      <td>$13,642</td>\n",
       "      <td>$15,118</td>\n",
       "    </tr>\n",
       "    <tr>\n",
       "      <th>3</th>\n",
       "      <td>DEKALB REGIONAL MEDICAL CENTER</td>\n",
       "      <td>35968</td>\n",
       "      <td>PAYM_30_AMI</td>\n",
       "      <td>$22,997</td>\n",
       "      <td>$20,910</td>\n",
       "      <td>$25,353</td>\n",
       "    </tr>\n",
       "    <tr>\n",
       "      <th>4</th>\n",
       "      <td>DEKALB REGIONAL MEDICAL CENTER</td>\n",
       "      <td>35968</td>\n",
       "      <td>PAYM_30_HF</td>\n",
       "      <td>$16,722</td>\n",
       "      <td>$15,113</td>\n",
       "      <td>$18,491</td>\n",
       "    </tr>\n",
       "  </tbody>\n",
       "</table>\n",
       "</div>"
      ],
      "text/plain": [
       "                    Hospital name  ZIP Code Payment measure ID  Payment  \\\n",
       "0   MARSHALL MEDICAL CENTER SOUTH     35957        PAYM_30_AMI  $23,171   \n",
       "1   MARSHALL MEDICAL CENTER SOUTH     35957         PAYM_30_HF  $16,376   \n",
       "2   MARSHALL MEDICAL CENTER SOUTH     35957         PAYM_30_PN  $14,384   \n",
       "3  DEKALB REGIONAL MEDICAL CENTER     35968        PAYM_30_AMI  $22,997   \n",
       "4  DEKALB REGIONAL MEDICAL CENTER     35968         PAYM_30_HF  $16,722   \n",
       "\n",
       "  Lower estimate Higher estimate  \n",
       "0        $20,404         $26,226  \n",
       "1        $15,237         $17,547  \n",
       "2        $13,642         $15,118  \n",
       "3        $20,910         $25,353  \n",
       "4        $15,113         $18,491  "
      ]
     },
     "execution_count": 121,
     "metadata": {},
     "output_type": "execute_result"
    }
   ],
   "source": [
    "pay_feat_list = ['Hospital name', 'ZIP Code', 'Payment measure ID', 'Payment', 'Lower estimate', 'Higher estimate']\n",
    "pay = pay[pay_feat_list]\n",
    "pay.head ()"
   ]
  },
  {
   "cell_type": "code",
   "execution_count": 122,
   "metadata": {
    "collapsed": false
   },
   "outputs": [
    {
     "name": "stdout",
     "output_type": "stream",
     "text": [
      "There are 0 null values, 4547 'Not Availables' and 0 appears 0 times for Payment.\n",
      "There are 0 null values, 4547 'Not Availables' and 0 appears 0 times for Lower estimate.\n",
      "There are 0 null values, 4547 'Not Availables' and 0 appears 0 times for Higher estimate.\n"
     ]
    }
   ],
   "source": [
    "for f in pay_feat_list[3:6]:\n",
    "    null = pay[f].isnull().sum()\n",
    "    temp_zero = len(pay[pay[f] == 0]) \n",
    "    temp_na = len(pay[pay[f] == 'Not Available']) \n",
    "    print \"There are %s null values, %s 'Not Availables' and 0 appears %s times for %s.\" % (null, temp_na, temp_zero, f)\n",
    "    #Nans exists here too but there are no 0s"
   ]
  },
  {
   "cell_type": "code",
   "execution_count": 123,
   "metadata": {
    "collapsed": false
   },
   "outputs": [
    {
     "name": "stdout",
     "output_type": "stream",
     "text": [
      "There are 0 null values, 4547 'Not Availables' and 0 appears 0 times for Payment.\n",
      "There are 0 null values, 4547 'Not Availables' and 0 appears 0 times for Lower estimate.\n",
      "There are 0 null values, 4547 'Not Availables' and 0 appears 0 times for Higher estimate.\n"
     ]
    }
   ],
   "source": [
    "#Since there are no 0s, I will fill in Not Availables with 0\n",
    "for f in pay_feat_list[3:6]:\n",
    "    null = pay[f].isnull().sum()\n",
    "    temp_zero = len(pay[pay[f] == 0]) \n",
    "    temp_na = len(pay[pay[f] == 'Not Available']) \n",
    "    print \"There are %s null values, %s 'Not Availables' and 0 appears %s times for %s.\" % (null, temp_na, temp_zero, f)"
   ]
  },
  {
   "cell_type": "code",
   "execution_count": 126,
   "metadata": {
    "collapsed": false
   },
   "outputs": [],
   "source": [
    "for col in pay.columns[3:6]:\n",
    "    pay[col] = pay[col].replace({'Not Available':'0'})"
   ]
  },
  {
   "cell_type": "code",
   "execution_count": 129,
   "metadata": {
    "collapsed": false
   },
   "outputs": [],
   "source": [
    "for col in pay.columns[3:6]:\n",
    "    pay[col] = (pay[col].str.replace('$', ''))\n",
    "    pay[col] = (pay[col].str.replace(',', ''))\n",
    "    pay[col] = pay[col].astype(float)"
   ]
  },
  {
   "cell_type": "code",
   "execution_count": 131,
   "metadata": {
    "collapsed": false
   },
   "outputs": [
    {
     "data": {
      "text/html": [
       "<div>\n",
       "<table border=\"1\" class=\"dataframe\">\n",
       "  <thead>\n",
       "    <tr style=\"text-align: right;\">\n",
       "      <th></th>\n",
       "      <th>Hospital name</th>\n",
       "      <th>ZIP Code</th>\n",
       "      <th>Payment measure ID</th>\n",
       "      <th>Payment</th>\n",
       "      <th>Lower estimate</th>\n",
       "      <th>Higher estimate</th>\n",
       "    </tr>\n",
       "  </thead>\n",
       "  <tbody>\n",
       "    <tr>\n",
       "      <th>0</th>\n",
       "      <td>MARSHALL MEDICAL CENTER SOUTH</td>\n",
       "      <td>35957</td>\n",
       "      <td>PAYM_30_AMI</td>\n",
       "      <td>23171.0</td>\n",
       "      <td>20404.0</td>\n",
       "      <td>26226.0</td>\n",
       "    </tr>\n",
       "    <tr>\n",
       "      <th>1</th>\n",
       "      <td>MARSHALL MEDICAL CENTER SOUTH</td>\n",
       "      <td>35957</td>\n",
       "      <td>PAYM_30_HF</td>\n",
       "      <td>16376.0</td>\n",
       "      <td>15237.0</td>\n",
       "      <td>17547.0</td>\n",
       "    </tr>\n",
       "    <tr>\n",
       "      <th>2</th>\n",
       "      <td>MARSHALL MEDICAL CENTER SOUTH</td>\n",
       "      <td>35957</td>\n",
       "      <td>PAYM_30_PN</td>\n",
       "      <td>14384.0</td>\n",
       "      <td>13642.0</td>\n",
       "      <td>15118.0</td>\n",
       "    </tr>\n",
       "    <tr>\n",
       "      <th>3</th>\n",
       "      <td>DEKALB REGIONAL MEDICAL CENTER</td>\n",
       "      <td>35968</td>\n",
       "      <td>PAYM_30_AMI</td>\n",
       "      <td>22997.0</td>\n",
       "      <td>20910.0</td>\n",
       "      <td>25353.0</td>\n",
       "    </tr>\n",
       "    <tr>\n",
       "      <th>4</th>\n",
       "      <td>DEKALB REGIONAL MEDICAL CENTER</td>\n",
       "      <td>35968</td>\n",
       "      <td>PAYM_30_HF</td>\n",
       "      <td>16722.0</td>\n",
       "      <td>15113.0</td>\n",
       "      <td>18491.0</td>\n",
       "    </tr>\n",
       "  </tbody>\n",
       "</table>\n",
       "</div>"
      ],
      "text/plain": [
       "                    Hospital name  ZIP Code Payment measure ID  Payment  \\\n",
       "0   MARSHALL MEDICAL CENTER SOUTH     35957        PAYM_30_AMI  23171.0   \n",
       "1   MARSHALL MEDICAL CENTER SOUTH     35957         PAYM_30_HF  16376.0   \n",
       "2   MARSHALL MEDICAL CENTER SOUTH     35957         PAYM_30_PN  14384.0   \n",
       "3  DEKALB REGIONAL MEDICAL CENTER     35968        PAYM_30_AMI  22997.0   \n",
       "4  DEKALB REGIONAL MEDICAL CENTER     35968         PAYM_30_HF  16722.0   \n",
       "\n",
       "   Lower estimate  Higher estimate  \n",
       "0         20404.0          26226.0  \n",
       "1         15237.0          17547.0  \n",
       "2         13642.0          15118.0  \n",
       "3         20910.0          25353.0  \n",
       "4         15113.0          18491.0  "
      ]
     },
     "execution_count": 131,
     "metadata": {},
     "output_type": "execute_result"
    }
   ],
   "source": [
    "pay.head()"
   ]
  },
  {
   "cell_type": "code",
   "execution_count": 146,
   "metadata": {
    "collapsed": false
   },
   "outputs": [
    {
     "data": {
      "text/html": [
       "<div>\n",
       "<table border=\"1\" class=\"dataframe\">\n",
       "  <thead>\n",
       "    <tr style=\"text-align: right;\">\n",
       "      <th>Payment measure ID</th>\n",
       "      <th>PAYM_30_AMI</th>\n",
       "      <th>PAYM_30_HF</th>\n",
       "      <th>PAYM_30_PN</th>\n",
       "    </tr>\n",
       "    <tr>\n",
       "      <th>Hospital name</th>\n",
       "      <th></th>\n",
       "      <th></th>\n",
       "      <th></th>\n",
       "    </tr>\n",
       "  </thead>\n",
       "  <tbody>\n",
       "    <tr>\n",
       "      <th>ABBEVILLE AREA MEDICAL CENTER</th>\n",
       "      <td>0.0</td>\n",
       "      <td>14185.0</td>\n",
       "      <td>11981.0</td>\n",
       "    </tr>\n",
       "    <tr>\n",
       "      <th>ABBEVILLE GENERAL HOSPITAL</th>\n",
       "      <td>0.0</td>\n",
       "      <td>17578.0</td>\n",
       "      <td>14218.0</td>\n",
       "    </tr>\n",
       "    <tr>\n",
       "      <th>ABBOTT NORTHWESTERN HOSPITAL</th>\n",
       "      <td>21099.0</td>\n",
       "      <td>17110.0</td>\n",
       "      <td>14609.0</td>\n",
       "    </tr>\n",
       "    <tr>\n",
       "      <th>ABILENE REGIONAL MEDICAL CENTER</th>\n",
       "      <td>21553.0</td>\n",
       "      <td>17531.0</td>\n",
       "      <td>15194.0</td>\n",
       "    </tr>\n",
       "    <tr>\n",
       "      <th>ABINGTON MEMORIAL HOSPITAL</th>\n",
       "      <td>23950.0</td>\n",
       "      <td>17047.0</td>\n",
       "      <td>14605.0</td>\n",
       "    </tr>\n",
       "  </tbody>\n",
       "</table>\n",
       "</div>"
      ],
      "text/plain": [
       "Payment measure ID               PAYM_30_AMI  PAYM_30_HF  PAYM_30_PN\n",
       "Hospital name                                                       \n",
       "ABBEVILLE AREA MEDICAL CENTER            0.0     14185.0     11981.0\n",
       "ABBEVILLE GENERAL HOSPITAL               0.0     17578.0     14218.0\n",
       "ABBOTT NORTHWESTERN HOSPITAL         21099.0     17110.0     14609.0\n",
       "ABILENE REGIONAL MEDICAL CENTER      21553.0     17531.0     15194.0\n",
       "ABINGTON MEMORIAL HOSPITAL           23950.0     17047.0     14605.0"
      ]
     },
     "execution_count": 146,
     "metadata": {},
     "output_type": "execute_result"
    }
   ],
   "source": [
    "#Create 2 pivot tables\n",
    "pay_pay = pd.pivot_table(pay, index='Hospital name', columns = 'Payment measure ID', values='Payment')\n",
    "pay_pay.head()"
   ]
  },
  {
   "cell_type": "code",
   "execution_count": 135,
   "metadata": {
    "collapsed": false
   },
   "outputs": [
    {
     "data": {
      "text/html": [
       "<div>\n",
       "<table border=\"1\" class=\"dataframe\">\n",
       "  <thead>\n",
       "    <tr style=\"text-align: right;\">\n",
       "      <th>Payment measure ID</th>\n",
       "      <th>PAYM_30_AMI</th>\n",
       "      <th>PAYM_30_HF</th>\n",
       "      <th>PAYM_30_PN</th>\n",
       "    </tr>\n",
       "    <tr>\n",
       "      <th>Hospital name</th>\n",
       "      <th></th>\n",
       "      <th></th>\n",
       "      <th></th>\n",
       "    </tr>\n",
       "  </thead>\n",
       "  <tbody>\n",
       "    <tr>\n",
       "      <th>ABBEVILLE AREA MEDICAL CENTER</th>\n",
       "      <td>0.0</td>\n",
       "      <td>12159.0</td>\n",
       "      <td>10546.0</td>\n",
       "    </tr>\n",
       "    <tr>\n",
       "      <th>ABBEVILLE GENERAL HOSPITAL</th>\n",
       "      <td>0.0</td>\n",
       "      <td>15713.0</td>\n",
       "      <td>12664.0</td>\n",
       "    </tr>\n",
       "    <tr>\n",
       "      <th>ABBOTT NORTHWESTERN HOSPITAL</th>\n",
       "      <td>19867.0</td>\n",
       "      <td>16130.0</td>\n",
       "      <td>13399.0</td>\n",
       "    </tr>\n",
       "    <tr>\n",
       "      <th>ABILENE REGIONAL MEDICAL CENTER</th>\n",
       "      <td>19736.0</td>\n",
       "      <td>16058.0</td>\n",
       "      <td>13938.0</td>\n",
       "    </tr>\n",
       "    <tr>\n",
       "      <th>ABINGTON MEMORIAL HOSPITAL</th>\n",
       "      <td>22336.0</td>\n",
       "      <td>16325.0</td>\n",
       "      <td>13905.0</td>\n",
       "    </tr>\n",
       "  </tbody>\n",
       "</table>\n",
       "</div>"
      ],
      "text/plain": [
       "Payment measure ID               PAYM_30_AMI  PAYM_30_HF  PAYM_30_PN\n",
       "Hospital name                                                       \n",
       "ABBEVILLE AREA MEDICAL CENTER            0.0     12159.0     10546.0\n",
       "ABBEVILLE GENERAL HOSPITAL               0.0     15713.0     12664.0\n",
       "ABBOTT NORTHWESTERN HOSPITAL         19867.0     16130.0     13399.0\n",
       "ABILENE REGIONAL MEDICAL CENTER      19736.0     16058.0     13938.0\n",
       "ABINGTON MEMORIAL HOSPITAL           22336.0     16325.0     13905.0"
      ]
     },
     "execution_count": 135,
     "metadata": {},
     "output_type": "execute_result"
    }
   ],
   "source": [
    "#Creating low estimate table\n",
    "pay_low = pd.pivot_table(pay, index='Hospital name', columns = 'Payment measure ID', values = 'Lower estimate')\n",
    "pay_low.head()"
   ]
  },
  {
   "cell_type": "code",
   "execution_count": 136,
   "metadata": {
    "collapsed": true
   },
   "outputs": [],
   "source": [
    "pay_low_cols = list(pay_low.columns.values)"
   ]
  },
  {
   "cell_type": "code",
   "execution_count": 137,
   "metadata": {
    "collapsed": false
   },
   "outputs": [
    {
     "name": "stdout",
     "output_type": "stream",
     "text": [
      "['PAYM_30_AMI_low', 'PAYM_30_HF_low', 'PAYM_30_PN_low']\n"
     ]
    }
   ],
   "source": [
    "pay_low_col_lis = []\n",
    "for i in pay_low_cols:\n",
    "    pay_low_col_lis.append(i + '_low')\n",
    "print pay_low_col_lis"
   ]
  },
  {
   "cell_type": "code",
   "execution_count": 138,
   "metadata": {
    "collapsed": true
   },
   "outputs": [],
   "source": [
    "pay_low.columns = pay_low_col_lis"
   ]
  },
  {
   "cell_type": "markdown",
   "metadata": {},
   "source": [
    "import re\n",
    "def regex(row):\n",
    "    return re.sub(r\"[^0-9]\", \"\", row)"
   ]
  },
  {
   "cell_type": "markdown",
   "metadata": {},
   "source": [
    "pay['Payment'] = pay.apply(regex, axis=1)"
   ]
  },
  {
   "cell_type": "markdown",
   "metadata": {},
   "source": [
    "pay['New'] = pay.apply(regex('Payment'), axis=1)"
   ]
  },
  {
   "cell_type": "code",
   "execution_count": 147,
   "metadata": {
    "collapsed": false
   },
   "outputs": [
    {
     "name": "stdout",
     "output_type": "stream",
     "text": [
      "<class 'pandas.core.frame.DataFrame'>\n",
      "Index: 4608 entries, ABBEVILLE AREA MEDICAL CENTER to ZUNI COMPREHENSIVE COMMUNITY HEALTH CENTER\n",
      "Data columns (total 3 columns):\n",
      "PAYM_30_AMI    4608 non-null float64\n",
      "PAYM_30_HF     4608 non-null float64\n",
      "PAYM_30_PN     4608 non-null float64\n",
      "dtypes: float64(3)\n",
      "memory usage: 144.0+ KB\n"
     ]
    }
   ],
   "source": [
    "pay_pay.info()"
   ]
  },
  {
   "cell_type": "code",
   "execution_count": 143,
   "metadata": {
    "collapsed": false
   },
   "outputs": [
    {
     "name": "stdout",
     "output_type": "stream",
     "text": [
      "['PAYM_30_AMI_high', 'PAYM_30_HF_high', 'PAYM_30_PN_high']\n"
     ]
    }
   ],
   "source": [
    "#Creating a high estimates table\n",
    "pay_high = pd.pivot_table(pay, index='Hospital name', columns = 'Payment measure ID', values = 'Higher estimate')\n",
    "pay_high_cols = list(pay_high.columns.values)\n",
    "pay_high_col_lis = []\n",
    "for i in pay_high_cols:\n",
    "    pay_high_col_lis.append(i + '_high')\n",
    "print pay_high_col_lis"
   ]
  },
  {
   "cell_type": "code",
   "execution_count": 144,
   "metadata": {
    "collapsed": true
   },
   "outputs": [],
   "source": [
    "pay_high.columns = pay_high_col_lis"
   ]
  },
  {
   "cell_type": "code",
   "execution_count": 145,
   "metadata": {
    "collapsed": false
   },
   "outputs": [
    {
     "name": "stdout",
     "output_type": "stream",
     "text": [
      "<class 'pandas.core.frame.DataFrame'>\n",
      "Index: 4608 entries, ABBEVILLE AREA MEDICAL CENTER to ZUNI COMPREHENSIVE COMMUNITY HEALTH CENTER\n",
      "Data columns (total 3 columns):\n",
      "PAYM_30_AMI_high    4608 non-null float64\n",
      "PAYM_30_HF_high     4608 non-null float64\n",
      "PAYM_30_PN_high     4608 non-null float64\n",
      "dtypes: float64(3)\n",
      "memory usage: 144.0+ KB\n"
     ]
    }
   ],
   "source": [
    "pay_high.info()"
   ]
  },
  {
   "cell_type": "code",
   "execution_count": 185,
   "metadata": {
    "collapsed": false
   },
   "outputs": [],
   "source": [
    "#making copies of all dataframes to maniupulate\n",
    "comp_score_copy = comp_score.copy()\n",
    "comp_score_low_copy = comp_low.copy()\n",
    "comp_score_high_copy = comp_high.copy()\n",
    "spending_in_pivot_copy = spending_in_pivot.copy()\n",
    "spending_out_pivot_copy = spending_out_pivot.copy()\n",
    "reduc_copy = reduc.copy()\n",
    "pay_pay_copy = pay_pay.copy()\n",
    "pay_low_copy = pay_low.copy()\n",
    "pay_high_copy = pay_high.copy()"
   ]
  },
  {
   "cell_type": "code",
   "execution_count": 186,
   "metadata": {
    "collapsed": false
   },
   "outputs": [],
   "source": [
    "funcs = [comp_score_copy, comp_score_high_copy, comp_score_low_copy, spending_in_pivot_copy, \n",
    "         spending_out_pivot_copy, pay_pay_copy, pay_low_copy, pay_high_copy]\n",
    "for func in funcs:\n",
    "    func.reset_index(inplace=True)\n",
    "    #reseting index so that I can have hospital name as column to join on"
   ]
  },
  {
   "cell_type": "code",
   "execution_count": 187,
   "metadata": {
    "collapsed": false
   },
   "outputs": [
    {
     "name": "stdout",
     "output_type": "stream",
     "text": [
      "<class 'pandas.core.frame.DataFrame'>\n",
      "RangeIndex: 4608 entries, 0 to 4607\n",
      "Data columns (total 4 columns):\n",
      "Hospital name       4608 non-null object\n",
      "PAYM_30_AMI_high    4608 non-null float64\n",
      "PAYM_30_HF_high     4608 non-null float64\n",
      "PAYM_30_PN_high     4608 non-null float64\n",
      "dtypes: float64(3), object(1)\n",
      "memory usage: 144.1+ KB\n"
     ]
    }
   ],
   "source": [
    "pay_high_copy.info() #Need to rename Hospital_Name so that they match in all dfs"
   ]
  },
  {
   "cell_type": "code",
   "execution_count": 188,
   "metadata": {
    "collapsed": true
   },
   "outputs": [],
   "source": [
    "spending_in_pivot_copy.rename(columns={\"Hospital_Name\": \"Hospital Name\"}, inplace=True)\n",
    "spending_out_pivot_copy.rename(columns={\"Hospital_Name\": \"Hospital Name\"}, inplace=True)"
   ]
  },
  {
   "cell_type": "code",
   "execution_count": 189,
   "metadata": {
    "collapsed": false
   },
   "outputs": [
    {
     "name": "stdout",
     "output_type": "stream",
     "text": [
      "<class 'pandas.core.frame.DataFrame'>\n",
      "RangeIndex: 3313 entries, 0 to 3312\n",
      "Data columns (total 7 columns):\n",
      "Hospital_Name        3313 non-null object\n",
      "AHRQ_PSI_90_Score    3313 non-null float64\n",
      "CLABSI_Score         3313 non-null float64\n",
      "CAUTI_Score          3313 non-null float64\n",
      "SSI_Score            3313 non-null float64\n",
      "MRSA_Score           3313 non-null float64\n",
      "CDI_Score            3313 non-null float64\n",
      "dtypes: float64(6), object(1)\n",
      "memory usage: 181.2+ KB\n"
     ]
    }
   ],
   "source": [
    "reduc_copy.info()"
   ]
  },
  {
   "cell_type": "code",
   "execution_count": 190,
   "metadata": {
    "collapsed": true
   },
   "outputs": [],
   "source": [
    "reduc_copy.rename(columns={\"Hospital_Name\": \"Hospital Name\"}, inplace=True)"
   ]
  },
  {
   "cell_type": "code",
   "execution_count": 191,
   "metadata": {
    "collapsed": false
   },
   "outputs": [
    {
     "name": "stdout",
     "output_type": "stream",
     "text": [
      "<class 'pandas.core.frame.DataFrame'>\n",
      "RangeIndex: 4608 entries, 0 to 4607\n",
      "Data columns (total 4 columns):\n",
      "Hospital name    4608 non-null object\n",
      "PAYM_30_AMI      4608 non-null float64\n",
      "PAYM_30_HF       4608 non-null float64\n",
      "PAYM_30_PN       4608 non-null float64\n",
      "dtypes: float64(3), object(1)\n",
      "memory usage: 144.1+ KB\n"
     ]
    }
   ],
   "source": [
    "pay_pay_copy.info()"
   ]
  },
  {
   "cell_type": "code",
   "execution_count": 192,
   "metadata": {
    "collapsed": true
   },
   "outputs": [],
   "source": [
    "pay_pay_copy.rename(columns={\"Hospital name\": \"Hospital Name\"}, inplace=True)\n",
    "pay_low_copy.rename(columns={\"Hospital name\": \"Hospital Name\"}, inplace=True)\n",
    "pay_high_copy.rename(columns={\"Hospital name\": \"Hospital Name\"}, inplace=True)"
   ]
  },
  {
   "cell_type": "code",
   "execution_count": 213,
   "metadata": {
    "collapsed": false
   },
   "outputs": [
    {
     "name": "stdout",
     "output_type": "stream",
     "text": [
      "<class 'pandas.core.frame.DataFrame'>\n",
      "Int64Index: 4608 entries, 0 to 4607\n",
      "Data columns (total 23 columns):\n",
      "Hospital Name                    4608 non-null object\n",
      "COMP_HIP_KNEE                    4608 non-null float64\n",
      "PSI_12_POSTOP_PULMEMB_DVT        4608 non-null float64\n",
      "PSI_13_POST_SEPSIS               4608 non-null float64\n",
      "PSI_14_POSTOP_DEHIS              4608 non-null float64\n",
      "PSI_15_ACC_LAC                   4608 non-null float64\n",
      "PSI_3_ULCER                      4608 non-null float64\n",
      "PSI_4_SURG_COMP                  4608 non-null float64\n",
      "PSI_6_IAT_PTX                    4608 non-null float64\n",
      "PSI_7_CVCBI                      4608 non-null float64\n",
      "PSI_8_POST_HIP                   4608 non-null float64\n",
      "PSI_90_SAFETY                    4608 non-null float64\n",
      "COMP_HIP_KNEE_low                4608 non-null float64\n",
      "PSI_12_POSTOP_PULMEMB_DVT_low    4608 non-null float64\n",
      "PSI_13_POST_SEPSIS_low           4608 non-null float64\n",
      "PSI_14_POSTOP_DEHIS_low          4608 non-null float64\n",
      "PSI_15_ACC_LAC_low               4608 non-null float64\n",
      "PSI_3_ULCER_low                  4608 non-null float64\n",
      "PSI_4_SURG_COMP_low              4608 non-null float64\n",
      "PSI_6_IAT_PTX_low                4608 non-null float64\n",
      "PSI_7_CVCBI_low                  4608 non-null float64\n",
      "PSI_8_POST_HIP_low               4608 non-null float64\n",
      "PSI_90_SAFETY_low                4608 non-null float64\n",
      "dtypes: float64(22), object(1)\n",
      "memory usage: 864.0+ KB\n"
     ]
    }
   ],
   "source": [
    "#Just merging one by one and checking\n",
    "d = pd.merge(comp_score_copy, comp_score_low_copy, on='Hospital Name', how='inner', copy=True)\n",
    "d.info()"
   ]
  },
  {
   "cell_type": "code",
   "execution_count": 214,
   "metadata": {
    "collapsed": false
   },
   "outputs": [
    {
     "name": "stdout",
     "output_type": "stream",
     "text": [
      "<class 'pandas.core.frame.DataFrame'>\n",
      "Int64Index: 4608 entries, 0 to 4607\n",
      "Data columns (total 34 columns):\n",
      "Hospital Name                     4608 non-null object\n",
      "COMP_HIP_KNEE                     4608 non-null float64\n",
      "PSI_12_POSTOP_PULMEMB_DVT         4608 non-null float64\n",
      "PSI_13_POST_SEPSIS                4608 non-null float64\n",
      "PSI_14_POSTOP_DEHIS               4608 non-null float64\n",
      "PSI_15_ACC_LAC                    4608 non-null float64\n",
      "PSI_3_ULCER                       4608 non-null float64\n",
      "PSI_4_SURG_COMP                   4608 non-null float64\n",
      "PSI_6_IAT_PTX                     4608 non-null float64\n",
      "PSI_7_CVCBI                       4608 non-null float64\n",
      "PSI_8_POST_HIP                    4608 non-null float64\n",
      "PSI_90_SAFETY                     4608 non-null float64\n",
      "COMP_HIP_KNEE_low                 4608 non-null float64\n",
      "PSI_12_POSTOP_PULMEMB_DVT_low     4608 non-null float64\n",
      "PSI_13_POST_SEPSIS_low            4608 non-null float64\n",
      "PSI_14_POSTOP_DEHIS_low           4608 non-null float64\n",
      "PSI_15_ACC_LAC_low                4608 non-null float64\n",
      "PSI_3_ULCER_low                   4608 non-null float64\n",
      "PSI_4_SURG_COMP_low               4608 non-null float64\n",
      "PSI_6_IAT_PTX_low                 4608 non-null float64\n",
      "PSI_7_CVCBI_low                   4608 non-null float64\n",
      "PSI_8_POST_HIP_low                4608 non-null float64\n",
      "PSI_90_SAFETY_low                 4608 non-null float64\n",
      "COMP_HIP_KNEE_high                4608 non-null float64\n",
      "PSI_12_POSTOP_PULMEMB_DVT_high    4608 non-null float64\n",
      "PSI_13_POST_SEPSIS_high           4608 non-null float64\n",
      "PSI_14_POSTOP_DEHIS_high          4608 non-null float64\n",
      "PSI_15_ACC_LAC_high               4608 non-null float64\n",
      "PSI_3_ULCER_high                  4608 non-null float64\n",
      "PSI_4_SURG_COMP_high              4608 non-null float64\n",
      "PSI_6_IAT_PTX_high                4608 non-null float64\n",
      "PSI_7_CVCBI_high                  4608 non-null float64\n",
      "PSI_8_POST_HIP_high               4608 non-null float64\n",
      "PSI_90_SAFETY_high                4608 non-null float64\n",
      "dtypes: float64(33), object(1)\n",
      "memory usage: 1.2+ MB\n"
     ]
    }
   ],
   "source": [
    "d = pd.merge(d, comp_score_high_copy, on='Hospital Name', how='inner', copy=True)\n",
    "d.info()"
   ]
  },
  {
   "cell_type": "code",
   "execution_count": null,
   "metadata": {
    "collapsed": true
   },
   "outputs": [],
   "source": [
    "## just names of all the feature tables\n",
    "#comp_score_copy, comp_score_high_copy, comp_score_low_copy, spending_in_pivot_copy, \n",
    "         #spending_out_pivot_copy, pay_pay_copy, pay_low_copy, pay_high_copy, reduc_copy"
   ]
  },
  {
   "cell_type": "code",
   "execution_count": 215,
   "metadata": {
    "collapsed": false
   },
   "outputs": [
    {
     "name": "stdout",
     "output_type": "stream",
     "text": [
      "<class 'pandas.core.frame.DataFrame'>\n",
      "Int64Index: 2576 entries, 0 to 2575\n",
      "Data columns (total 37 columns):\n",
      "Hospital Name                                                      2576 non-null object\n",
      "COMP_HIP_KNEE                                                      2576 non-null float64\n",
      "PSI_12_POSTOP_PULMEMB_DVT                                          2576 non-null float64\n",
      "PSI_13_POST_SEPSIS                                                 2576 non-null float64\n",
      "PSI_14_POSTOP_DEHIS                                                2576 non-null float64\n",
      "PSI_15_ACC_LAC                                                     2576 non-null float64\n",
      "PSI_3_ULCER                                                        2576 non-null float64\n",
      "PSI_4_SURG_COMP                                                    2576 non-null float64\n",
      "PSI_6_IAT_PTX                                                      2576 non-null float64\n",
      "PSI_7_CVCBI                                                        2576 non-null float64\n",
      "PSI_8_POST_HIP                                                     2576 non-null float64\n",
      "PSI_90_SAFETY                                                      2576 non-null float64\n",
      "COMP_HIP_KNEE_low                                                  2576 non-null float64\n",
      "PSI_12_POSTOP_PULMEMB_DVT_low                                      2576 non-null float64\n",
      "PSI_13_POST_SEPSIS_low                                             2576 non-null float64\n",
      "PSI_14_POSTOP_DEHIS_low                                            2576 non-null float64\n",
      "PSI_15_ACC_LAC_low                                                 2576 non-null float64\n",
      "PSI_3_ULCER_low                                                    2576 non-null float64\n",
      "PSI_4_SURG_COMP_low                                                2576 non-null float64\n",
      "PSI_6_IAT_PTX_low                                                  2576 non-null float64\n",
      "PSI_7_CVCBI_low                                                    2576 non-null float64\n",
      "PSI_8_POST_HIP_low                                                 2576 non-null float64\n",
      "PSI_90_SAFETY_low                                                  2576 non-null float64\n",
      "COMP_HIP_KNEE_high                                                 2576 non-null float64\n",
      "PSI_12_POSTOP_PULMEMB_DVT_high                                     2576 non-null float64\n",
      "PSI_13_POST_SEPSIS_high                                            2576 non-null float64\n",
      "PSI_14_POSTOP_DEHIS_high                                           2576 non-null float64\n",
      "PSI_15_ACC_LAC_high                                                2576 non-null float64\n",
      "PSI_3_ULCER_high                                                   2576 non-null float64\n",
      "PSI_4_SURG_COMP_high                                               2576 non-null float64\n",
      "PSI_6_IAT_PTX_high                                                 2576 non-null float64\n",
      "PSI_7_CVCBI_high                                                   2576 non-null float64\n",
      "PSI_8_POST_HIP_high                                                2576 non-null float64\n",
      "PSI_90_SAFETY_high                                                 2576 non-null float64\n",
      "1 through 30 days After Discharge from Index Hospital Admission    2576 non-null float64\n",
      "1 to 3 days Prior to Index Hospital Admission                      2576 non-null float64\n",
      "During Index Hospital Admission                                    2576 non-null float64\n",
      "dtypes: float64(36), object(1)\n",
      "memory usage: 764.8+ KB\n"
     ]
    }
   ],
   "source": [
    "d = pd.merge(d, spending_in_pivot_copy, on='Hospital Name', how='inner', copy=True)\n",
    "d.info()"
   ]
  },
  {
   "cell_type": "code",
   "execution_count": 216,
   "metadata": {
    "collapsed": false
   },
   "outputs": [
    {
     "name": "stdout",
     "output_type": "stream",
     "text": [
      "<class 'pandas.core.frame.DataFrame'>\n",
      "Int64Index: 2576 entries, 0 to 2575\n",
      "Data columns (total 40 columns):\n",
      "Hospital Name                                                        2576 non-null object\n",
      "COMP_HIP_KNEE                                                        2576 non-null float64\n",
      "PSI_12_POSTOP_PULMEMB_DVT                                            2576 non-null float64\n",
      "PSI_13_POST_SEPSIS                                                   2576 non-null float64\n",
      "PSI_14_POSTOP_DEHIS                                                  2576 non-null float64\n",
      "PSI_15_ACC_LAC                                                       2576 non-null float64\n",
      "PSI_3_ULCER                                                          2576 non-null float64\n",
      "PSI_4_SURG_COMP                                                      2576 non-null float64\n",
      "PSI_6_IAT_PTX                                                        2576 non-null float64\n",
      "PSI_7_CVCBI                                                          2576 non-null float64\n",
      "PSI_8_POST_HIP                                                       2576 non-null float64\n",
      "PSI_90_SAFETY                                                        2576 non-null float64\n",
      "COMP_HIP_KNEE_low                                                    2576 non-null float64\n",
      "PSI_12_POSTOP_PULMEMB_DVT_low                                        2576 non-null float64\n",
      "PSI_13_POST_SEPSIS_low                                               2576 non-null float64\n",
      "PSI_14_POSTOP_DEHIS_low                                              2576 non-null float64\n",
      "PSI_15_ACC_LAC_low                                                   2576 non-null float64\n",
      "PSI_3_ULCER_low                                                      2576 non-null float64\n",
      "PSI_4_SURG_COMP_low                                                  2576 non-null float64\n",
      "PSI_6_IAT_PTX_low                                                    2576 non-null float64\n",
      "PSI_7_CVCBI_low                                                      2576 non-null float64\n",
      "PSI_8_POST_HIP_low                                                   2576 non-null float64\n",
      "PSI_90_SAFETY_low                                                    2576 non-null float64\n",
      "COMP_HIP_KNEE_high                                                   2576 non-null float64\n",
      "PSI_12_POSTOP_PULMEMB_DVT_high                                       2576 non-null float64\n",
      "PSI_13_POST_SEPSIS_high                                              2576 non-null float64\n",
      "PSI_14_POSTOP_DEHIS_high                                             2576 non-null float64\n",
      "PSI_15_ACC_LAC_high                                                  2576 non-null float64\n",
      "PSI_3_ULCER_high                                                     2576 non-null float64\n",
      "PSI_4_SURG_COMP_high                                                 2576 non-null float64\n",
      "PSI_6_IAT_PTX_high                                                   2576 non-null float64\n",
      "PSI_7_CVCBI_high                                                     2576 non-null float64\n",
      "PSI_8_POST_HIP_high                                                  2576 non-null float64\n",
      "PSI_90_SAFETY_high                                                   2576 non-null float64\n",
      "1 through 30 days After Discharge from Index Hospital Admission_x    2576 non-null float64\n",
      "1 to 3 days Prior to Index Hospital Admission_x                      2576 non-null float64\n",
      "During Index Hospital Admission_x                                    2576 non-null float64\n",
      "1 through 30 days After Discharge from Index Hospital Admission_y    2576 non-null float64\n",
      "1 to 3 days Prior to Index Hospital Admission_y                      2576 non-null float64\n",
      "During Index Hospital Admission_y                                    2576 non-null float64\n",
      "dtypes: float64(39), object(1)\n",
      "memory usage: 825.1+ KB\n"
     ]
    }
   ],
   "source": [
    "d = pd.merge(d, spending_out_pivot_copy, on='Hospital Name', how='inner', copy=True)\n",
    "d.info()"
   ]
  },
  {
   "cell_type": "code",
   "execution_count": 217,
   "metadata": {
    "collapsed": false
   },
   "outputs": [
    {
     "name": "stdout",
     "output_type": "stream",
     "text": [
      "<class 'pandas.core.frame.DataFrame'>\n",
      "Int64Index: 2687 entries, 0 to 2686\n",
      "Data columns (total 46 columns):\n",
      "Hospital Name                                                        2687 non-null object\n",
      "COMP_HIP_KNEE                                                        2687 non-null float64\n",
      "PSI_12_POSTOP_PULMEMB_DVT                                            2687 non-null float64\n",
      "PSI_13_POST_SEPSIS                                                   2687 non-null float64\n",
      "PSI_14_POSTOP_DEHIS                                                  2687 non-null float64\n",
      "PSI_15_ACC_LAC                                                       2687 non-null float64\n",
      "PSI_3_ULCER                                                          2687 non-null float64\n",
      "PSI_4_SURG_COMP                                                      2687 non-null float64\n",
      "PSI_6_IAT_PTX                                                        2687 non-null float64\n",
      "PSI_7_CVCBI                                                          2687 non-null float64\n",
      "PSI_8_POST_HIP                                                       2687 non-null float64\n",
      "PSI_90_SAFETY                                                        2687 non-null float64\n",
      "COMP_HIP_KNEE_low                                                    2687 non-null float64\n",
      "PSI_12_POSTOP_PULMEMB_DVT_low                                        2687 non-null float64\n",
      "PSI_13_POST_SEPSIS_low                                               2687 non-null float64\n",
      "PSI_14_POSTOP_DEHIS_low                                              2687 non-null float64\n",
      "PSI_15_ACC_LAC_low                                                   2687 non-null float64\n",
      "PSI_3_ULCER_low                                                      2687 non-null float64\n",
      "PSI_4_SURG_COMP_low                                                  2687 non-null float64\n",
      "PSI_6_IAT_PTX_low                                                    2687 non-null float64\n",
      "PSI_7_CVCBI_low                                                      2687 non-null float64\n",
      "PSI_8_POST_HIP_low                                                   2687 non-null float64\n",
      "PSI_90_SAFETY_low                                                    2687 non-null float64\n",
      "COMP_HIP_KNEE_high                                                   2687 non-null float64\n",
      "PSI_12_POSTOP_PULMEMB_DVT_high                                       2687 non-null float64\n",
      "PSI_13_POST_SEPSIS_high                                              2687 non-null float64\n",
      "PSI_14_POSTOP_DEHIS_high                                             2687 non-null float64\n",
      "PSI_15_ACC_LAC_high                                                  2687 non-null float64\n",
      "PSI_3_ULCER_high                                                     2687 non-null float64\n",
      "PSI_4_SURG_COMP_high                                                 2687 non-null float64\n",
      "PSI_6_IAT_PTX_high                                                   2687 non-null float64\n",
      "PSI_7_CVCBI_high                                                     2687 non-null float64\n",
      "PSI_8_POST_HIP_high                                                  2687 non-null float64\n",
      "PSI_90_SAFETY_high                                                   2687 non-null float64\n",
      "1 through 30 days After Discharge from Index Hospital Admission_x    2687 non-null float64\n",
      "1 to 3 days Prior to Index Hospital Admission_x                      2687 non-null float64\n",
      "During Index Hospital Admission_x                                    2687 non-null float64\n",
      "1 through 30 days After Discharge from Index Hospital Admission_y    2687 non-null float64\n",
      "1 to 3 days Prior to Index Hospital Admission_y                      2687 non-null float64\n",
      "During Index Hospital Admission_y                                    2687 non-null float64\n",
      "AHRQ_PSI_90_Score                                                    2687 non-null float64\n",
      "CLABSI_Score                                                         2687 non-null float64\n",
      "CAUTI_Score                                                          2687 non-null float64\n",
      "SSI_Score                                                            2687 non-null float64\n",
      "MRSA_Score                                                           2687 non-null float64\n",
      "CDI_Score                                                            2687 non-null float64\n",
      "dtypes: float64(45), object(1)\n",
      "memory usage: 986.6+ KB\n"
     ]
    }
   ],
   "source": [
    "d = pd.merge(d, reduc_copy, on='Hospital Name', how='inner', copy=True)\n",
    "d.info()"
   ]
  },
  {
   "cell_type": "code",
   "execution_count": 218,
   "metadata": {
    "collapsed": false
   },
   "outputs": [
    {
     "name": "stdout",
     "output_type": "stream",
     "text": [
      "<class 'pandas.core.frame.DataFrame'>\n",
      "Int64Index: 2687 entries, 0 to 2686\n",
      "Data columns (total 49 columns):\n",
      "Hospital Name                                                        2687 non-null object\n",
      "COMP_HIP_KNEE                                                        2687 non-null float64\n",
      "PSI_12_POSTOP_PULMEMB_DVT                                            2687 non-null float64\n",
      "PSI_13_POST_SEPSIS                                                   2687 non-null float64\n",
      "PSI_14_POSTOP_DEHIS                                                  2687 non-null float64\n",
      "PSI_15_ACC_LAC                                                       2687 non-null float64\n",
      "PSI_3_ULCER                                                          2687 non-null float64\n",
      "PSI_4_SURG_COMP                                                      2687 non-null float64\n",
      "PSI_6_IAT_PTX                                                        2687 non-null float64\n",
      "PSI_7_CVCBI                                                          2687 non-null float64\n",
      "PSI_8_POST_HIP                                                       2687 non-null float64\n",
      "PSI_90_SAFETY                                                        2687 non-null float64\n",
      "COMP_HIP_KNEE_low                                                    2687 non-null float64\n",
      "PSI_12_POSTOP_PULMEMB_DVT_low                                        2687 non-null float64\n",
      "PSI_13_POST_SEPSIS_low                                               2687 non-null float64\n",
      "PSI_14_POSTOP_DEHIS_low                                              2687 non-null float64\n",
      "PSI_15_ACC_LAC_low                                                   2687 non-null float64\n",
      "PSI_3_ULCER_low                                                      2687 non-null float64\n",
      "PSI_4_SURG_COMP_low                                                  2687 non-null float64\n",
      "PSI_6_IAT_PTX_low                                                    2687 non-null float64\n",
      "PSI_7_CVCBI_low                                                      2687 non-null float64\n",
      "PSI_8_POST_HIP_low                                                   2687 non-null float64\n",
      "PSI_90_SAFETY_low                                                    2687 non-null float64\n",
      "COMP_HIP_KNEE_high                                                   2687 non-null float64\n",
      "PSI_12_POSTOP_PULMEMB_DVT_high                                       2687 non-null float64\n",
      "PSI_13_POST_SEPSIS_high                                              2687 non-null float64\n",
      "PSI_14_POSTOP_DEHIS_high                                             2687 non-null float64\n",
      "PSI_15_ACC_LAC_high                                                  2687 non-null float64\n",
      "PSI_3_ULCER_high                                                     2687 non-null float64\n",
      "PSI_4_SURG_COMP_high                                                 2687 non-null float64\n",
      "PSI_6_IAT_PTX_high                                                   2687 non-null float64\n",
      "PSI_7_CVCBI_high                                                     2687 non-null float64\n",
      "PSI_8_POST_HIP_high                                                  2687 non-null float64\n",
      "PSI_90_SAFETY_high                                                   2687 non-null float64\n",
      "1 through 30 days After Discharge from Index Hospital Admission_x    2687 non-null float64\n",
      "1 to 3 days Prior to Index Hospital Admission_x                      2687 non-null float64\n",
      "During Index Hospital Admission_x                                    2687 non-null float64\n",
      "1 through 30 days After Discharge from Index Hospital Admission_y    2687 non-null float64\n",
      "1 to 3 days Prior to Index Hospital Admission_y                      2687 non-null float64\n",
      "During Index Hospital Admission_y                                    2687 non-null float64\n",
      "AHRQ_PSI_90_Score                                                    2687 non-null float64\n",
      "CLABSI_Score                                                         2687 non-null float64\n",
      "CAUTI_Score                                                          2687 non-null float64\n",
      "SSI_Score                                                            2687 non-null float64\n",
      "MRSA_Score                                                           2687 non-null float64\n",
      "CDI_Score                                                            2687 non-null float64\n",
      "PAYM_30_AMI                                                          2687 non-null float64\n",
      "PAYM_30_HF                                                           2687 non-null float64\n",
      "PAYM_30_PN                                                           2687 non-null float64\n",
      "dtypes: float64(48), object(1)\n",
      "memory usage: 1.0+ MB\n"
     ]
    }
   ],
   "source": [
    "d = pd.merge(d, pay_pay_copy, on='Hospital Name', how='inner', copy=True)\n",
    "d.info()"
   ]
  },
  {
   "cell_type": "code",
   "execution_count": 219,
   "metadata": {
    "collapsed": false
   },
   "outputs": [
    {
     "name": "stdout",
     "output_type": "stream",
     "text": [
      "<class 'pandas.core.frame.DataFrame'>\n",
      "Int64Index: 2687 entries, 0 to 2686\n",
      "Data columns (total 52 columns):\n",
      "Hospital Name                                                        2687 non-null object\n",
      "COMP_HIP_KNEE                                                        2687 non-null float64\n",
      "PSI_12_POSTOP_PULMEMB_DVT                                            2687 non-null float64\n",
      "PSI_13_POST_SEPSIS                                                   2687 non-null float64\n",
      "PSI_14_POSTOP_DEHIS                                                  2687 non-null float64\n",
      "PSI_15_ACC_LAC                                                       2687 non-null float64\n",
      "PSI_3_ULCER                                                          2687 non-null float64\n",
      "PSI_4_SURG_COMP                                                      2687 non-null float64\n",
      "PSI_6_IAT_PTX                                                        2687 non-null float64\n",
      "PSI_7_CVCBI                                                          2687 non-null float64\n",
      "PSI_8_POST_HIP                                                       2687 non-null float64\n",
      "PSI_90_SAFETY                                                        2687 non-null float64\n",
      "COMP_HIP_KNEE_low                                                    2687 non-null float64\n",
      "PSI_12_POSTOP_PULMEMB_DVT_low                                        2687 non-null float64\n",
      "PSI_13_POST_SEPSIS_low                                               2687 non-null float64\n",
      "PSI_14_POSTOP_DEHIS_low                                              2687 non-null float64\n",
      "PSI_15_ACC_LAC_low                                                   2687 non-null float64\n",
      "PSI_3_ULCER_low                                                      2687 non-null float64\n",
      "PSI_4_SURG_COMP_low                                                  2687 non-null float64\n",
      "PSI_6_IAT_PTX_low                                                    2687 non-null float64\n",
      "PSI_7_CVCBI_low                                                      2687 non-null float64\n",
      "PSI_8_POST_HIP_low                                                   2687 non-null float64\n",
      "PSI_90_SAFETY_low                                                    2687 non-null float64\n",
      "COMP_HIP_KNEE_high                                                   2687 non-null float64\n",
      "PSI_12_POSTOP_PULMEMB_DVT_high                                       2687 non-null float64\n",
      "PSI_13_POST_SEPSIS_high                                              2687 non-null float64\n",
      "PSI_14_POSTOP_DEHIS_high                                             2687 non-null float64\n",
      "PSI_15_ACC_LAC_high                                                  2687 non-null float64\n",
      "PSI_3_ULCER_high                                                     2687 non-null float64\n",
      "PSI_4_SURG_COMP_high                                                 2687 non-null float64\n",
      "PSI_6_IAT_PTX_high                                                   2687 non-null float64\n",
      "PSI_7_CVCBI_high                                                     2687 non-null float64\n",
      "PSI_8_POST_HIP_high                                                  2687 non-null float64\n",
      "PSI_90_SAFETY_high                                                   2687 non-null float64\n",
      "1 through 30 days After Discharge from Index Hospital Admission_x    2687 non-null float64\n",
      "1 to 3 days Prior to Index Hospital Admission_x                      2687 non-null float64\n",
      "During Index Hospital Admission_x                                    2687 non-null float64\n",
      "1 through 30 days After Discharge from Index Hospital Admission_y    2687 non-null float64\n",
      "1 to 3 days Prior to Index Hospital Admission_y                      2687 non-null float64\n",
      "During Index Hospital Admission_y                                    2687 non-null float64\n",
      "AHRQ_PSI_90_Score                                                    2687 non-null float64\n",
      "CLABSI_Score                                                         2687 non-null float64\n",
      "CAUTI_Score                                                          2687 non-null float64\n",
      "SSI_Score                                                            2687 non-null float64\n",
      "MRSA_Score                                                           2687 non-null float64\n",
      "CDI_Score                                                            2687 non-null float64\n",
      "PAYM_30_AMI                                                          2687 non-null float64\n",
      "PAYM_30_HF                                                           2687 non-null float64\n",
      "PAYM_30_PN                                                           2687 non-null float64\n",
      "PAYM_30_AMI_low                                                      2687 non-null float64\n",
      "PAYM_30_HF_low                                                       2687 non-null float64\n",
      "PAYM_30_PN_low                                                       2687 non-null float64\n",
      "dtypes: float64(51), object(1)\n",
      "memory usage: 1.1+ MB\n"
     ]
    }
   ],
   "source": [
    "d = pd.merge(d, pay_low_copy, on='Hospital Name', how='inner', copy=True)\n",
    "d.info()"
   ]
  },
  {
   "cell_type": "code",
   "execution_count": 221,
   "metadata": {
    "collapsed": false
   },
   "outputs": [
    {
     "name": "stdout",
     "output_type": "stream",
     "text": [
      "<class 'pandas.core.frame.DataFrame'>\n",
      "Int64Index: 2687 entries, 0 to 2686\n",
      "Data columns (total 58 columns):\n",
      "Hospital Name                                                        2687 non-null object\n",
      "COMP_HIP_KNEE                                                        2687 non-null float64\n",
      "PSI_12_POSTOP_PULMEMB_DVT                                            2687 non-null float64\n",
      "PSI_13_POST_SEPSIS                                                   2687 non-null float64\n",
      "PSI_14_POSTOP_DEHIS                                                  2687 non-null float64\n",
      "PSI_15_ACC_LAC                                                       2687 non-null float64\n",
      "PSI_3_ULCER                                                          2687 non-null float64\n",
      "PSI_4_SURG_COMP                                                      2687 non-null float64\n",
      "PSI_6_IAT_PTX                                                        2687 non-null float64\n",
      "PSI_7_CVCBI                                                          2687 non-null float64\n",
      "PSI_8_POST_HIP                                                       2687 non-null float64\n",
      "PSI_90_SAFETY                                                        2687 non-null float64\n",
      "COMP_HIP_KNEE_low                                                    2687 non-null float64\n",
      "PSI_12_POSTOP_PULMEMB_DVT_low                                        2687 non-null float64\n",
      "PSI_13_POST_SEPSIS_low                                               2687 non-null float64\n",
      "PSI_14_POSTOP_DEHIS_low                                              2687 non-null float64\n",
      "PSI_15_ACC_LAC_low                                                   2687 non-null float64\n",
      "PSI_3_ULCER_low                                                      2687 non-null float64\n",
      "PSI_4_SURG_COMP_low                                                  2687 non-null float64\n",
      "PSI_6_IAT_PTX_low                                                    2687 non-null float64\n",
      "PSI_7_CVCBI_low                                                      2687 non-null float64\n",
      "PSI_8_POST_HIP_low                                                   2687 non-null float64\n",
      "PSI_90_SAFETY_low                                                    2687 non-null float64\n",
      "COMP_HIP_KNEE_high                                                   2687 non-null float64\n",
      "PSI_12_POSTOP_PULMEMB_DVT_high                                       2687 non-null float64\n",
      "PSI_13_POST_SEPSIS_high                                              2687 non-null float64\n",
      "PSI_14_POSTOP_DEHIS_high                                             2687 non-null float64\n",
      "PSI_15_ACC_LAC_high                                                  2687 non-null float64\n",
      "PSI_3_ULCER_high                                                     2687 non-null float64\n",
      "PSI_4_SURG_COMP_high                                                 2687 non-null float64\n",
      "PSI_6_IAT_PTX_high                                                   2687 non-null float64\n",
      "PSI_7_CVCBI_high                                                     2687 non-null float64\n",
      "PSI_8_POST_HIP_high                                                  2687 non-null float64\n",
      "PSI_90_SAFETY_high                                                   2687 non-null float64\n",
      "1 through 30 days After Discharge from Index Hospital Admission_x    2687 non-null float64\n",
      "1 to 3 days Prior to Index Hospital Admission_x                      2687 non-null float64\n",
      "During Index Hospital Admission_x                                    2687 non-null float64\n",
      "1 through 30 days After Discharge from Index Hospital Admission_y    2687 non-null float64\n",
      "1 to 3 days Prior to Index Hospital Admission_y                      2687 non-null float64\n",
      "During Index Hospital Admission_y                                    2687 non-null float64\n",
      "AHRQ_PSI_90_Score                                                    2687 non-null float64\n",
      "CLABSI_Score                                                         2687 non-null float64\n",
      "CAUTI_Score                                                          2687 non-null float64\n",
      "SSI_Score                                                            2687 non-null float64\n",
      "MRSA_Score                                                           2687 non-null float64\n",
      "CDI_Score                                                            2687 non-null float64\n",
      "PAYM_30_AMI                                                          2687 non-null float64\n",
      "PAYM_30_HF                                                           2687 non-null float64\n",
      "PAYM_30_PN                                                           2687 non-null float64\n",
      "PAYM_30_AMI_low                                                      2687 non-null float64\n",
      "PAYM_30_HF_low                                                       2687 non-null float64\n",
      "PAYM_30_PN_low                                                       2687 non-null float64\n",
      "PAYM_30_AMI_high_x                                                   2687 non-null float64\n",
      "PAYM_30_HF_high_x                                                    2687 non-null float64\n",
      "PAYM_30_PN_high_x                                                    2687 non-null float64\n",
      "PAYM_30_AMI_high_y                                                   2687 non-null float64\n",
      "PAYM_30_HF_high_y                                                    2687 non-null float64\n",
      "PAYM_30_PN_high_y                                                    2687 non-null float64\n",
      "dtypes: float64(57), object(1)\n",
      "memory usage: 1.2+ MB\n"
     ]
    }
   ],
   "source": [
    "features = pd.merge(d, pay_high_copy, on='Hospital Name', how='inner', copy=True)\n",
    "features.info()"
   ]
  },
  {
   "cell_type": "code",
   "execution_count": 222,
   "metadata": {
    "collapsed": false
   },
   "outputs": [
    {
     "data": {
      "text/html": [
       "<div>\n",
       "<table border=\"1\" class=\"dataframe\">\n",
       "  <thead>\n",
       "    <tr style=\"text-align: right;\">\n",
       "      <th></th>\n",
       "      <th>Hospital Name</th>\n",
       "      <th>COMP_HIP_KNEE</th>\n",
       "      <th>PSI_12_POSTOP_PULMEMB_DVT</th>\n",
       "      <th>PSI_13_POST_SEPSIS</th>\n",
       "      <th>PSI_14_POSTOP_DEHIS</th>\n",
       "      <th>PSI_15_ACC_LAC</th>\n",
       "      <th>PSI_3_ULCER</th>\n",
       "      <th>PSI_4_SURG_COMP</th>\n",
       "      <th>PSI_6_IAT_PTX</th>\n",
       "      <th>PSI_7_CVCBI</th>\n",
       "      <th>...</th>\n",
       "      <th>PAYM_30_PN</th>\n",
       "      <th>PAYM_30_AMI_low</th>\n",
       "      <th>PAYM_30_HF_low</th>\n",
       "      <th>PAYM_30_PN_low</th>\n",
       "      <th>PAYM_30_AMI_high_x</th>\n",
       "      <th>PAYM_30_HF_high_x</th>\n",
       "      <th>PAYM_30_PN_high_x</th>\n",
       "      <th>PAYM_30_AMI_high_y</th>\n",
       "      <th>PAYM_30_HF_high_y</th>\n",
       "      <th>PAYM_30_PN_high_y</th>\n",
       "    </tr>\n",
       "  </thead>\n",
       "  <tbody>\n",
       "    <tr>\n",
       "      <th>0</th>\n",
       "      <td>ABBEVILLE GENERAL HOSPITAL</td>\n",
       "      <td>3.0</td>\n",
       "      <td>6.51</td>\n",
       "      <td>0.00</td>\n",
       "      <td>2.28</td>\n",
       "      <td>1.69</td>\n",
       "      <td>0.35</td>\n",
       "      <td>0.00</td>\n",
       "      <td>0.39</td>\n",
       "      <td>0.16</td>\n",
       "      <td>...</td>\n",
       "      <td>14218.0</td>\n",
       "      <td>0.0</td>\n",
       "      <td>15713.0</td>\n",
       "      <td>12664.0</td>\n",
       "      <td>0.0</td>\n",
       "      <td>19513.0</td>\n",
       "      <td>15770.0</td>\n",
       "      <td>0.0</td>\n",
       "      <td>19513.0</td>\n",
       "      <td>15770.0</td>\n",
       "    </tr>\n",
       "    <tr>\n",
       "      <th>1</th>\n",
       "      <td>ABBOTT NORTHWESTERN HOSPITAL</td>\n",
       "      <td>2.5</td>\n",
       "      <td>5.23</td>\n",
       "      <td>11.26</td>\n",
       "      <td>1.78</td>\n",
       "      <td>1.96</td>\n",
       "      <td>0.10</td>\n",
       "      <td>124.52</td>\n",
       "      <td>0.32</td>\n",
       "      <td>0.11</td>\n",
       "      <td>...</td>\n",
       "      <td>14609.0</td>\n",
       "      <td>19867.0</td>\n",
       "      <td>16130.0</td>\n",
       "      <td>13399.0</td>\n",
       "      <td>22500.0</td>\n",
       "      <td>18148.0</td>\n",
       "      <td>15808.0</td>\n",
       "      <td>22500.0</td>\n",
       "      <td>18148.0</td>\n",
       "      <td>15808.0</td>\n",
       "    </tr>\n",
       "    <tr>\n",
       "      <th>2</th>\n",
       "      <td>ABILENE REGIONAL MEDICAL CENTER</td>\n",
       "      <td>3.1</td>\n",
       "      <td>3.43</td>\n",
       "      <td>6.36</td>\n",
       "      <td>2.21</td>\n",
       "      <td>1.17</td>\n",
       "      <td>0.16</td>\n",
       "      <td>138.47</td>\n",
       "      <td>0.40</td>\n",
       "      <td>0.12</td>\n",
       "      <td>...</td>\n",
       "      <td>15194.0</td>\n",
       "      <td>19736.0</td>\n",
       "      <td>16058.0</td>\n",
       "      <td>13938.0</td>\n",
       "      <td>23617.0</td>\n",
       "      <td>19077.0</td>\n",
       "      <td>16470.0</td>\n",
       "      <td>23617.0</td>\n",
       "      <td>19077.0</td>\n",
       "      <td>16470.0</td>\n",
       "    </tr>\n",
       "    <tr>\n",
       "      <th>3</th>\n",
       "      <td>ABINGTON MEMORIAL HOSPITAL</td>\n",
       "      <td>4.3</td>\n",
       "      <td>8.47</td>\n",
       "      <td>10.30</td>\n",
       "      <td>3.59</td>\n",
       "      <td>1.29</td>\n",
       "      <td>1.09</td>\n",
       "      <td>153.64</td>\n",
       "      <td>0.32</td>\n",
       "      <td>0.13</td>\n",
       "      <td>...</td>\n",
       "      <td>14605.0</td>\n",
       "      <td>22336.0</td>\n",
       "      <td>16325.0</td>\n",
       "      <td>13905.0</td>\n",
       "      <td>25677.0</td>\n",
       "      <td>17847.0</td>\n",
       "      <td>15275.0</td>\n",
       "      <td>25677.0</td>\n",
       "      <td>17847.0</td>\n",
       "      <td>15275.0</td>\n",
       "    </tr>\n",
       "    <tr>\n",
       "      <th>4</th>\n",
       "      <td>ABRAZO CENTRAL CAMPUS</td>\n",
       "      <td>2.7</td>\n",
       "      <td>3.48</td>\n",
       "      <td>9.23</td>\n",
       "      <td>2.16</td>\n",
       "      <td>1.31</td>\n",
       "      <td>0.21</td>\n",
       "      <td>138.09</td>\n",
       "      <td>0.51</td>\n",
       "      <td>0.21</td>\n",
       "      <td>...</td>\n",
       "      <td>15242.0</td>\n",
       "      <td>21822.0</td>\n",
       "      <td>15243.0</td>\n",
       "      <td>13476.0</td>\n",
       "      <td>26871.0</td>\n",
       "      <td>18570.0</td>\n",
       "      <td>16999.0</td>\n",
       "      <td>26871.0</td>\n",
       "      <td>18570.0</td>\n",
       "      <td>16999.0</td>\n",
       "    </tr>\n",
       "  </tbody>\n",
       "</table>\n",
       "<p>5 rows × 58 columns</p>\n",
       "</div>"
      ],
      "text/plain": [
       "                     Hospital Name  COMP_HIP_KNEE  PSI_12_POSTOP_PULMEMB_DVT  \\\n",
       "0       ABBEVILLE GENERAL HOSPITAL            3.0                       6.51   \n",
       "1     ABBOTT NORTHWESTERN HOSPITAL            2.5                       5.23   \n",
       "2  ABILENE REGIONAL MEDICAL CENTER            3.1                       3.43   \n",
       "3       ABINGTON MEMORIAL HOSPITAL            4.3                       8.47   \n",
       "4            ABRAZO CENTRAL CAMPUS            2.7                       3.48   \n",
       "\n",
       "   PSI_13_POST_SEPSIS  PSI_14_POSTOP_DEHIS  PSI_15_ACC_LAC  PSI_3_ULCER  \\\n",
       "0                0.00                 2.28            1.69         0.35   \n",
       "1               11.26                 1.78            1.96         0.10   \n",
       "2                6.36                 2.21            1.17         0.16   \n",
       "3               10.30                 3.59            1.29         1.09   \n",
       "4                9.23                 2.16            1.31         0.21   \n",
       "\n",
       "   PSI_4_SURG_COMP  PSI_6_IAT_PTX  PSI_7_CVCBI        ...          PAYM_30_PN  \\\n",
       "0             0.00           0.39         0.16        ...             14218.0   \n",
       "1           124.52           0.32         0.11        ...             14609.0   \n",
       "2           138.47           0.40         0.12        ...             15194.0   \n",
       "3           153.64           0.32         0.13        ...             14605.0   \n",
       "4           138.09           0.51         0.21        ...             15242.0   \n",
       "\n",
       "   PAYM_30_AMI_low  PAYM_30_HF_low  PAYM_30_PN_low  PAYM_30_AMI_high_x  \\\n",
       "0              0.0         15713.0         12664.0                 0.0   \n",
       "1          19867.0         16130.0         13399.0             22500.0   \n",
       "2          19736.0         16058.0         13938.0             23617.0   \n",
       "3          22336.0         16325.0         13905.0             25677.0   \n",
       "4          21822.0         15243.0         13476.0             26871.0   \n",
       "\n",
       "   PAYM_30_HF_high_x  PAYM_30_PN_high_x  PAYM_30_AMI_high_y  \\\n",
       "0            19513.0            15770.0                 0.0   \n",
       "1            18148.0            15808.0             22500.0   \n",
       "2            19077.0            16470.0             23617.0   \n",
       "3            17847.0            15275.0             25677.0   \n",
       "4            18570.0            16999.0             26871.0   \n",
       "\n",
       "   PAYM_30_HF_high_y  PAYM_30_PN_high_y  \n",
       "0            19513.0            15770.0  \n",
       "1            18148.0            15808.0  \n",
       "2            19077.0            16470.0  \n",
       "3            17847.0            15275.0  \n",
       "4            18570.0            16999.0  \n",
       "\n",
       "[5 rows x 58 columns]"
      ]
     },
     "execution_count": 222,
     "metadata": {},
     "output_type": "execute_result"
    }
   ],
   "source": [
    "features.head()"
   ]
  },
  {
   "cell_type": "code",
   "execution_count": 224,
   "metadata": {
    "collapsed": false
   },
   "outputs": [
    {
     "data": {
      "text/html": [
       "<div>\n",
       "<table border=\"1\" class=\"dataframe\">\n",
       "  <thead>\n",
       "    <tr style=\"text-align: right;\">\n",
       "      <th>Measure ID</th>\n",
       "      <th>READM_30_AMI</th>\n",
       "      <th>READM_30_CABG</th>\n",
       "      <th>READM_30_COPD</th>\n",
       "      <th>READM_30_HF</th>\n",
       "      <th>READM_30_HIP_KNEE</th>\n",
       "      <th>READM_30_HOSP_WIDE</th>\n",
       "      <th>READM_30_PN</th>\n",
       "      <th>READM_30_STK</th>\n",
       "    </tr>\n",
       "    <tr>\n",
       "      <th>Hospital Name</th>\n",
       "      <th></th>\n",
       "      <th></th>\n",
       "      <th></th>\n",
       "      <th></th>\n",
       "      <th></th>\n",
       "      <th></th>\n",
       "      <th></th>\n",
       "      <th></th>\n",
       "    </tr>\n",
       "  </thead>\n",
       "  <tbody>\n",
       "    <tr>\n",
       "      <th>ABBEVILLE AREA MEDICAL CENTER</th>\n",
       "      <td>0.0</td>\n",
       "      <td>0.0</td>\n",
       "      <td>20.3</td>\n",
       "      <td>21.1</td>\n",
       "      <td>4.4</td>\n",
       "      <td>15.7</td>\n",
       "      <td>17.3</td>\n",
       "      <td>0.0</td>\n",
       "    </tr>\n",
       "    <tr>\n",
       "      <th>ABBEVILLE GENERAL HOSPITAL</th>\n",
       "      <td>0.0</td>\n",
       "      <td>0.0</td>\n",
       "      <td>19.1</td>\n",
       "      <td>24.6</td>\n",
       "      <td>4.2</td>\n",
       "      <td>16.0</td>\n",
       "      <td>17.8</td>\n",
       "      <td>0.0</td>\n",
       "    </tr>\n",
       "    <tr>\n",
       "      <th>ABBOTT NORTHWESTERN HOSPITAL</th>\n",
       "      <td>16.8</td>\n",
       "      <td>13.4</td>\n",
       "      <td>20.4</td>\n",
       "      <td>22.5</td>\n",
       "      <td>4.4</td>\n",
       "      <td>15.0</td>\n",
       "      <td>19.6</td>\n",
       "      <td>13.7</td>\n",
       "    </tr>\n",
       "    <tr>\n",
       "      <th>ABILENE REGIONAL MEDICAL CENTER</th>\n",
       "      <td>16.4</td>\n",
       "      <td>15.0</td>\n",
       "      <td>18.3</td>\n",
       "      <td>22.4</td>\n",
       "      <td>4.0</td>\n",
       "      <td>14.5</td>\n",
       "      <td>15.5</td>\n",
       "      <td>13.5</td>\n",
       "    </tr>\n",
       "    <tr>\n",
       "      <th>ABINGTON MEMORIAL HOSPITAL</th>\n",
       "      <td>18.1</td>\n",
       "      <td>13.9</td>\n",
       "      <td>22.8</td>\n",
       "      <td>21.6</td>\n",
       "      <td>5.4</td>\n",
       "      <td>16.2</td>\n",
       "      <td>16.2</td>\n",
       "      <td>12.3</td>\n",
       "    </tr>\n",
       "  </tbody>\n",
       "</table>\n",
       "</div>"
      ],
      "text/plain": [
       "Measure ID                       READM_30_AMI  READM_30_CABG  READM_30_COPD  \\\n",
       "Hospital Name                                                                 \n",
       "ABBEVILLE AREA MEDICAL CENTER             0.0            0.0           20.3   \n",
       "ABBEVILLE GENERAL HOSPITAL                0.0            0.0           19.1   \n",
       "ABBOTT NORTHWESTERN HOSPITAL             16.8           13.4           20.4   \n",
       "ABILENE REGIONAL MEDICAL CENTER          16.4           15.0           18.3   \n",
       "ABINGTON MEMORIAL HOSPITAL               18.1           13.9           22.8   \n",
       "\n",
       "Measure ID                       READM_30_HF  READM_30_HIP_KNEE  \\\n",
       "Hospital Name                                                     \n",
       "ABBEVILLE AREA MEDICAL CENTER           21.1                4.4   \n",
       "ABBEVILLE GENERAL HOSPITAL              24.6                4.2   \n",
       "ABBOTT NORTHWESTERN HOSPITAL            22.5                4.4   \n",
       "ABILENE REGIONAL MEDICAL CENTER         22.4                4.0   \n",
       "ABINGTON MEMORIAL HOSPITAL              21.6                5.4   \n",
       "\n",
       "Measure ID                       READM_30_HOSP_WIDE  READM_30_PN  READM_30_STK  \n",
       "Hospital Name                                                                   \n",
       "ABBEVILLE AREA MEDICAL CENTER                  15.7         17.3           0.0  \n",
       "ABBEVILLE GENERAL HOSPITAL                     16.0         17.8           0.0  \n",
       "ABBOTT NORTHWESTERN HOSPITAL                   15.0         19.6          13.7  \n",
       "ABILENE REGIONAL MEDICAL CENTER                14.5         15.5          13.5  \n",
       "ABINGTON MEMORIAL HOSPITAL                     16.2         16.2          12.3  "
      ]
     },
     "execution_count": 224,
     "metadata": {},
     "output_type": "execute_result"
    }
   ],
   "source": [
    "target = r\n",
    "target.head()"
   ]
  },
  {
   "cell_type": "code",
   "execution_count": 230,
   "metadata": {
    "collapsed": false
   },
   "outputs": [],
   "source": [
    "tar_col = list(target.columns)"
   ]
  },
  {
   "cell_type": "code",
   "execution_count": 254,
   "metadata": {
    "collapsed": false
   },
   "outputs": [],
   "source": [
    "#Plotting hist of all diseaeses\n",
    "def plot_features(title):\n",
    "    plt.figure(figsize=(10,14));\n",
    "    i = 0\n",
    "    for x in target.columns:\n",
    "        i += 1\n",
    "        plt.subplot(4,2,i)\n",
    "        target[x].hist()\n",
    "        plt.title(title)\n",
    "        plt.tight_layout()"
   ]
  },
  {
   "cell_type": "code",
   "execution_count": 257,
   "metadata": {
    "collapsed": false
   },
   "outputs": [
    {
     "data": {
      "image/png": "[encoded data removed]",
      "text/plain": [
       "<matplotlib.figure.Figure at 0x11fa30b10>"
      ]
     },
     "metadata": {},
     "output_type": "display_data"
    },
    {
     "data": {
      "image/png": "[encoded data removed]",
      "text/plain": [
       "<matplotlib.figure.Figure at 0x12feebe90>"
      ]
     },
     "metadata": {},
     "output_type": "display_data"
    },
    {
     "data": {
      "image/png": "[encoded data removed]",
      "text/plain": [
       "<matplotlib.figure.Figure at 0x134dfe910>"
      ]
     },
     "metadata": {},
     "output_type": "display_data"
    },
    {
     "data": {
      "image/png": "[encoded data removed]",
      "text/plain": [
       "<matplotlib.figure.Figure at 0x123a94a50>"
      ]
     },
     "metadata": {},
     "output_type": "display_data"
    },
    {
     "data": {
      "image/png": "[encoded data removed]",
      "text/plain": [
       "<matplotlib.figure.Figure at 0x13541f990>"
      ]
     },
     "metadata": {},
     "output_type": "display_data"
    },
    {
     "data": {
      "image/png": "[encoded data removed]",
      "text/plain": [
       "<matplotlib.figure.Figure at 0x134e7edd0>"
      ]
     },
     "metadata": {},
     "output_type": "display_data"
    },
    {
     "data": {
      "image/png": "[encoded data removed]",
      "text/plain": [
       "<matplotlib.figure.Figure at 0x12925c850>"
      ]
     },
     "metadata": {},
     "output_type": "display_data"
    },
    {
     "data": {
      "image/png": "[encoded data removed]",
      "text/plain": [
       "<matplotlib.figure.Figure at 0x1233ee490>"
      ]
     },
     "metadata": {},
     "output_type": "display_data"
    }
   ],
   "source": [
    "for x in tar_col:\n",
    "    plot_features('Relationship of %s and %s')"
   ]
  },
  {
   "cell_type": "code",
   "execution_count": null,
   "metadata": {
    "collapsed": true
   },
   "outputs": [],
   "source": []
  }
 ],
 "metadata": {
  "kernelspec": {
   "display_name": "Python 2",
   "language": "python",
   "name": "python2"
  },
  "language_info": {
   "codemirror_mode": {
    "name": "ipython",
    "version": 2
   },
   "file_extension": ".py",
   "mimetype": "text/x-python",
   "name": "python",
   "nbconvert_exporter": "python",
   "pygments_lexer": "ipython2",
   "version": "2.7.12"
  }
 },
 "nbformat": 4,
 "nbformat_minor": 0
}
