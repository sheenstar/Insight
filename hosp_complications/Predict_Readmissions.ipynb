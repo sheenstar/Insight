{
 "cells": [
  {
   "cell_type": "markdown",
   "metadata": {},
   "source": [
    "## Predicting Hospital Readmissions - Medicare Hospital Compare Data"
   ]
  },
  {
   "cell_type": "markdown",
   "metadata": {},
   "source": [
    "### There are 6 relevant data sets\n",
    "#### Target data is included in Readmissions_and_Death.csv. I am using the Readmissions data for all 8 diseases\n",
    "#### Feature data comes from 6 different data sets. Hospital Names are common to all datasets"
   ]
  },
  {
   "cell_type": "code",
   "execution_count": 1104,
   "metadata": {
    "collapsed": true
   },
   "outputs": [],
   "source": [
    "import numpy as np\n",
    "import pandas as pd\n",
    "import matplotlib\n",
    "import matplotlib.pyplot as plt\n",
    "\n",
    "%matplotlib inline"
   ]
  },
  {
   "cell_type": "code",
   "execution_count": 1105,
   "metadata": {
    "collapsed": true
   },
   "outputs": [],
   "source": [
    "death = pd.read_csv('Readmissions_and_Deaths.csv')"
   ]
  },
  {
   "cell_type": "code",
   "execution_count": 1106,
   "metadata": {
    "collapsed": false
   },
   "outputs": [
    {
     "name": "stdout",
     "output_type": "stream",
     "text": [
      "<class 'pandas.core.frame.DataFrame'>\n",
      "Int64Index: 38456 entries, 6 to 67297\n",
      "Data columns (total 19 columns):\n",
      "Provider ID             38456 non-null int64\n",
      "Hospital Name           38456 non-null object\n",
      "Address                 38456 non-null object\n",
      "City                    38456 non-null object\n",
      "State                   38456 non-null object\n",
      "ZIP Code                38456 non-null int64\n",
      "County Name             38336 non-null object\n",
      "Phone Number            38456 non-null int64\n",
      "Measure Name            38456 non-null object\n",
      "Measure ID              38456 non-null object\n",
      "Compared to National    38456 non-null object\n",
      "Denominator             38456 non-null object\n",
      "Score                   38456 non-null object\n",
      "Lower Estimate          38456 non-null object\n",
      "Higher Estimate         38456 non-null object\n",
      "Footnote                14162 non-null object\n",
      "Measure Start Date      38456 non-null object\n",
      "Measure End Date        38456 non-null object\n",
      "Location                0 non-null float64\n",
      "dtypes: float64(1), int64(3), object(15)\n",
      "memory usage: 5.9+ MB\n"
     ]
    }
   ],
   "source": [
    "readm_only = death[death['Measure ID'].str.contains('READM')] #excluding mortality\n",
    "readm_only.info() #dataframe of readmissions only"
   ]
  },
  {
   "cell_type": "markdown",
   "metadata": {},
   "source": [
    "## Example of Readmit scores for one random hosp"
   ]
  },
  {
   "cell_type": "code",
   "execution_count": 1107,
   "metadata": {
    "collapsed": true
   },
   "outputs": [],
   "source": [
    "abbot = readm_only[readm_only['Hospital Name'] == 'ABBOTT NORTHWESTERN HOSPITAL'] #just grabbing one example to graph"
   ]
  },
  {
   "cell_type": "code",
   "execution_count": 1108,
   "metadata": {
    "collapsed": true
   },
   "outputs": [],
   "source": [
    "list_conditions = ['Heart Attack', 'Coronary Artery Bypass', 'COPD', 'Heart Failure', 'Hip/Knee Replacement',\n",
    "                          'General', 'Pneumonia', 'Stroke']"
   ]
  },
  {
   "cell_type": "code",
   "execution_count": 1109,
   "metadata": {
    "collapsed": false
   },
   "outputs": [
    {
     "data": {
      "image/png": "[encoded data removed]",
      "text/plain": [
       "<matplotlib.figure.Figure at 0x12ae492d0>"
      ]
     },
     "metadata": {},
     "output_type": "display_data"
    }
   ],
   "source": [
    "fig = plt.figure(figsize=(8,6))\n",
    "ax = fig.add_subplot(111)\n",
    "wid = .3\n",
    "ind = ind = np.arange(len(abbot.Score))\n",
    "plt.bar(ind, abbot.Score)\n",
    "\n",
    "xTickMarks = [i for i in list_conditions]\n",
    "ax.set_xticks(ind)\n",
    "xtickNames = ax.set_xticklabels(xTickMarks, fontsize=8)\n",
    "ax.set_xlim(-wid,len(ind)+wid)\n",
    "plt.setp(xtickNames, rotation=45, fontsize=10)\n",
    "plt.ylabel('Readmission Score')\n",
    "plt.title('Abbott Northwestern Hospital')\n",
    "fig.tight_layout()\n",
    "fig.subplots_adjust(bottom=0.2)\n",
    "plt.show()"
   ]
  },
  {
   "cell_type": "code",
   "execution_count": 1110,
   "metadata": {
    "collapsed": false
   },
   "outputs": [
    {
     "data": {
      "text/plain": [
       "38456"
      ]
     },
     "execution_count": 1110,
     "metadata": {},
     "output_type": "execute_result"
    }
   ],
   "source": [
    "readm_only.Score.notnull().count()"
   ]
  },
  {
   "cell_type": "code",
   "execution_count": 1111,
   "metadata": {
    "collapsed": false
   },
   "outputs": [
    {
     "data": {
      "text/plain": [
       "6    16.5\n",
       "Name: Score, dtype: object"
      ]
     },
     "execution_count": 1111,
     "metadata": {},
     "output_type": "execute_result"
    }
   ],
   "source": [
    "readm_only.Score[:1] #Why is this an object and not a float - because of NaNs?"
   ]
  },
  {
   "cell_type": "code",
   "execution_count": 1112,
   "metadata": {
    "collapsed": false
   },
   "outputs": [
    {
     "data": {
      "text/plain": [
       "array(['16.5', '15.1', '21.1', '21.4', '5.1', '15.4', '18.7', '12.7',\n",
       "       '16.7', 'Not Available', '18.0', '21.9', '5.7', '14.9', '16.4',\n",
       "       '13.4', '16.1', '15.2', '19.8', '20.6', '5.0', '17.9', '12.0',\n",
       "       '19.9', '16.6', '17.3', '11.3', '19.2', '23.1', '15.7', '16.0',\n",
       "       '17.7', '15.0', '19.6', '15.3', '23.4', '19.4', '12.8', '15.8',\n",
       "       '21.5', '14.7', '17.1', '12.4', '23.0', '22.4', '4.1', '15.9',\n",
       "       '18.3', '13.5', '21.3', '14.8', '18.1', '15.6', '19.5', '23.3',\n",
       "       '4.7', '18.6', '13.8', '14.0', '17.2', '19.0', '4.9', '16.9',\n",
       "       '13.0', '16.8', '12.6', '23.2', '5.9', '12.1', '21.6', '16.3',\n",
       "       '23.7', '20.1', '21.7', '16.2', '22.8', '4.6', '12.5', '3.9',\n",
       "       '20.3', '24.0', '13.7', '4.8', '12.3', '19.7', '21.0', '6.7',\n",
       "       '13.1', '20.8', '22.2', '11.2', '14.2', '22.3', '17.5', '20.0',\n",
       "       '22.5', '4.3', '20.4', '19.1', '14.6', '13.3', '17.8', '22.6',\n",
       "       '14.1', '18.8', '20.7', '20.9', '20.2', '6.2', '22.9', '13.2',\n",
       "       '5.5', '15.5', '21.8', '14.3', '20.5', '22.0', '10.5', '4.5',\n",
       "       '14.4', '5.2', '22.1', '18.9', '23.6', '17.6', '12.2', '12.9',\n",
       "       '21.2', '18.4', '17.0', '19.3', '17.4', '18.2', '22.7', '5.4',\n",
       "       '4.2', '10.0', '4.4', '4.0', '11.7', '23.8', '5.3', '11.6', '10.8',\n",
       "       '9.8', '24.6', '3.7', '13.6', '11.5', '14.5', '24.8', '13.9',\n",
       "       '11.4', '3.8', '24.4', '23.9', '10.9', '11.8', '3.6', '11.0',\n",
       "       '11.9', '23.5', '24.7', '26.2', '18.5', '24.3', '25.2', '26.1',\n",
       "       '24.2', '24.5', '24.9', '3.3', '10.7', '25.3', '6.1', '10.6', '3.4',\n",
       "       '25.0', '24.1', '10.3', '2.9', '11.1', '5.6', '3.5', '26.3', '25.9',\n",
       "       '2.4', '9.6', '10.2', '3.2', '5.8', '6.3', '25.5', '3.0', '26.4',\n",
       "       '27.0', '25.4', '26.0', '25.7', '26.7', '6.5', '25.1', '6.4',\n",
       "       '10.4', '6.0', '25.8', '9.9', '10.1', '31.3', '6.6', '9.1', '26.9',\n",
       "       '26.8', '6.8', '25.6', '27.2', '27.4', '6.9', '7.8'], dtype=object)"
      ]
     },
     "execution_count": 1112,
     "metadata": {},
     "output_type": "execute_result"
    }
   ],
   "source": [
    "readm_only.Score.unique() #'Not Available' is screwing this up "
   ]
  },
  {
   "cell_type": "code",
   "execution_count": 1113,
   "metadata": {
    "collapsed": false
   },
   "outputs": [
    {
     "data": {
      "text/html": [
       "<div>\n",
       "<table border=\"1\" class=\"dataframe\">\n",
       "  <thead>\n",
       "    <tr style=\"text-align: right;\">\n",
       "      <th></th>\n",
       "      <th>Provider ID</th>\n",
       "      <th>Hospital Name</th>\n",
       "      <th>Address</th>\n",
       "      <th>City</th>\n",
       "      <th>State</th>\n",
       "      <th>ZIP Code</th>\n",
       "      <th>County Name</th>\n",
       "      <th>Phone Number</th>\n",
       "      <th>Measure Name</th>\n",
       "      <th>Measure ID</th>\n",
       "      <th>Compared to National</th>\n",
       "      <th>Denominator</th>\n",
       "      <th>Score</th>\n",
       "      <th>Lower Estimate</th>\n",
       "      <th>Higher Estimate</th>\n",
       "      <th>Footnote</th>\n",
       "      <th>Measure Start Date</th>\n",
       "      <th>Measure End Date</th>\n",
       "      <th>Location</th>\n",
       "    </tr>\n",
       "  </thead>\n",
       "  <tbody>\n",
       "  </tbody>\n",
       "</table>\n",
       "</div>"
      ],
      "text/plain": [
       "Empty DataFrame\n",
       "Columns: [Provider ID, Hospital Name, Address, City, State, ZIP Code, County Name, Phone Number, Measure Name, Measure ID, Compared to National, Denominator, Score, Lower Estimate, Higher Estimate, Footnote, Measure Start Date, Measure End Date, Location]\n",
       "Index: []"
      ]
     },
     "execution_count": 1113,
     "metadata": {},
     "output_type": "execute_result"
    }
   ],
   "source": [
    "readm_only[readm_only['Score'] == 0] #There are no 0s in this dataframe"
   ]
  },
  {
   "cell_type": "code",
   "execution_count": 1114,
   "metadata": {
    "collapsed": false
   },
   "outputs": [],
   "source": [
    "z = readm_only['Score'].replace({'Not Available':'0'}) "
   ]
  },
  {
   "cell_type": "code",
   "execution_count": 1115,
   "metadata": {
    "collapsed": false
   },
   "outputs": [
    {
     "name": "stderr",
     "output_type": "stream",
     "text": [
      "/Users/sheena/anaconda/lib/python2.7/site-packages/ipykernel/__main__.py:1: SettingWithCopyWarning: \n",
      "A value is trying to be set on a copy of a slice from a DataFrame.\n",
      "Try using .loc[row_indexer,col_indexer] = value instead\n",
      "\n",
      "See the caveats in the documentation: http://pandas.pydata.org/pandas-docs/stable/indexing.html#indexing-view-versus-copy\n",
      "  if __name__ == '__main__':\n"
     ]
    }
   ],
   "source": [
    "readm_only['Score'] = z.astype(float)"
   ]
  },
  {
   "cell_type": "code",
   "execution_count": 1116,
   "metadata": {
    "collapsed": false
   },
   "outputs": [
    {
     "data": {
      "text/plain": [
       "Provider ID               int64\n",
       "Hospital Name            object\n",
       "Address                  object\n",
       "City                     object\n",
       "State                    object\n",
       "ZIP Code                  int64\n",
       "County Name              object\n",
       "Phone Number              int64\n",
       "Measure Name             object\n",
       "Measure ID               object\n",
       "Compared to National     object\n",
       "Denominator              object\n",
       "Score                   float64\n",
       "Lower Estimate           object\n",
       "Higher Estimate          object\n",
       "Footnote                 object\n",
       "Measure Start Date       object\n",
       "Measure End Date         object\n",
       "Location                float64\n",
       "dtype: object"
      ]
     },
     "execution_count": 1116,
     "metadata": {},
     "output_type": "execute_result"
    }
   ],
   "source": [
    "readm_only.dtypes"
   ]
  },
  {
   "cell_type": "code",
   "execution_count": 1117,
   "metadata": {
    "collapsed": false
   },
   "outputs": [],
   "source": [
    "r = pd.pivot_table(readm_only, index=['Hospital Name', 'State'], columns = 'Measure ID', values = 'Score')\n",
    "#r.index = r.index.droplevel()"
   ]
  },
  {
   "cell_type": "code",
   "execution_count": 1118,
   "metadata": {
    "collapsed": false,
    "scrolled": false
   },
   "outputs": [
    {
     "data": {
      "text/html": [
       "<div>\n",
       "<table border=\"1\" class=\"dataframe\">\n",
       "  <thead>\n",
       "    <tr style=\"text-align: right;\">\n",
       "      <th></th>\n",
       "      <th>Measure ID</th>\n",
       "      <th>READM_30_AMI</th>\n",
       "      <th>READM_30_CABG</th>\n",
       "      <th>READM_30_COPD</th>\n",
       "      <th>READM_30_HF</th>\n",
       "      <th>READM_30_HIP_KNEE</th>\n",
       "      <th>READM_30_HOSP_WIDE</th>\n",
       "      <th>READM_30_PN</th>\n",
       "      <th>READM_30_STK</th>\n",
       "    </tr>\n",
       "    <tr>\n",
       "      <th>Hospital Name</th>\n",
       "      <th>State</th>\n",
       "      <th></th>\n",
       "      <th></th>\n",
       "      <th></th>\n",
       "      <th></th>\n",
       "      <th></th>\n",
       "      <th></th>\n",
       "      <th></th>\n",
       "      <th></th>\n",
       "    </tr>\n",
       "  </thead>\n",
       "  <tbody>\n",
       "    <tr>\n",
       "      <th>ABBEVILLE AREA MEDICAL CENTER</th>\n",
       "      <th>SC</th>\n",
       "      <td>0.0</td>\n",
       "      <td>0.0</td>\n",
       "      <td>20.3</td>\n",
       "      <td>21.1</td>\n",
       "      <td>4.4</td>\n",
       "      <td>15.7</td>\n",
       "      <td>17.3</td>\n",
       "      <td>0.0</td>\n",
       "    </tr>\n",
       "    <tr>\n",
       "      <th>ABBEVILLE GENERAL HOSPITAL</th>\n",
       "      <th>LA</th>\n",
       "      <td>0.0</td>\n",
       "      <td>0.0</td>\n",
       "      <td>19.1</td>\n",
       "      <td>24.6</td>\n",
       "      <td>4.2</td>\n",
       "      <td>16.0</td>\n",
       "      <td>17.8</td>\n",
       "      <td>0.0</td>\n",
       "    </tr>\n",
       "    <tr>\n",
       "      <th>ABBOTT NORTHWESTERN HOSPITAL</th>\n",
       "      <th>MN</th>\n",
       "      <td>16.8</td>\n",
       "      <td>13.4</td>\n",
       "      <td>20.4</td>\n",
       "      <td>22.5</td>\n",
       "      <td>4.4</td>\n",
       "      <td>15.0</td>\n",
       "      <td>19.6</td>\n",
       "      <td>13.7</td>\n",
       "    </tr>\n",
       "    <tr>\n",
       "      <th>ABILENE REGIONAL MEDICAL CENTER</th>\n",
       "      <th>TX</th>\n",
       "      <td>16.4</td>\n",
       "      <td>15.0</td>\n",
       "      <td>18.3</td>\n",
       "      <td>22.4</td>\n",
       "      <td>4.0</td>\n",
       "      <td>14.5</td>\n",
       "      <td>15.5</td>\n",
       "      <td>13.5</td>\n",
       "    </tr>\n",
       "    <tr>\n",
       "      <th>ABINGTON MEMORIAL HOSPITAL</th>\n",
       "      <th>PA</th>\n",
       "      <td>18.1</td>\n",
       "      <td>13.9</td>\n",
       "      <td>22.8</td>\n",
       "      <td>21.6</td>\n",
       "      <td>5.4</td>\n",
       "      <td>16.2</td>\n",
       "      <td>16.2</td>\n",
       "      <td>12.3</td>\n",
       "    </tr>\n",
       "  </tbody>\n",
       "</table>\n",
       "</div>"
      ],
      "text/plain": [
       "Measure ID                             READM_30_AMI  READM_30_CABG  \\\n",
       "Hospital Name                   State                                \n",
       "ABBEVILLE AREA MEDICAL CENTER   SC              0.0            0.0   \n",
       "ABBEVILLE GENERAL HOSPITAL      LA              0.0            0.0   \n",
       "ABBOTT NORTHWESTERN HOSPITAL    MN             16.8           13.4   \n",
       "ABILENE REGIONAL MEDICAL CENTER TX             16.4           15.0   \n",
       "ABINGTON MEMORIAL HOSPITAL      PA             18.1           13.9   \n",
       "\n",
       "Measure ID                             READM_30_COPD  READM_30_HF  \\\n",
       "Hospital Name                   State                               \n",
       "ABBEVILLE AREA MEDICAL CENTER   SC              20.3         21.1   \n",
       "ABBEVILLE GENERAL HOSPITAL      LA              19.1         24.6   \n",
       "ABBOTT NORTHWESTERN HOSPITAL    MN              20.4         22.5   \n",
       "ABILENE REGIONAL MEDICAL CENTER TX              18.3         22.4   \n",
       "ABINGTON MEMORIAL HOSPITAL      PA              22.8         21.6   \n",
       "\n",
       "Measure ID                             READM_30_HIP_KNEE  READM_30_HOSP_WIDE  \\\n",
       "Hospital Name                   State                                          \n",
       "ABBEVILLE AREA MEDICAL CENTER   SC                   4.4                15.7   \n",
       "ABBEVILLE GENERAL HOSPITAL      LA                   4.2                16.0   \n",
       "ABBOTT NORTHWESTERN HOSPITAL    MN                   4.4                15.0   \n",
       "ABILENE REGIONAL MEDICAL CENTER TX                   4.0                14.5   \n",
       "ABINGTON MEMORIAL HOSPITAL      PA                   5.4                16.2   \n",
       "\n",
       "Measure ID                             READM_30_PN  READM_30_STK  \n",
       "Hospital Name                   State                             \n",
       "ABBEVILLE AREA MEDICAL CENTER   SC            17.3           0.0  \n",
       "ABBEVILLE GENERAL HOSPITAL      LA            17.8           0.0  \n",
       "ABBOTT NORTHWESTERN HOSPITAL    MN            19.6          13.7  \n",
       "ABILENE REGIONAL MEDICAL CENTER TX            15.5          13.5  \n",
       "ABINGTON MEMORIAL HOSPITAL      PA            16.2          12.3  "
      ]
     },
     "execution_count": 1118,
     "metadata": {},
     "output_type": "execute_result"
    }
   ],
   "source": [
    "r.head()"
   ]
  },
  {
   "cell_type": "code",
   "execution_count": 1150,
   "metadata": {
    "collapsed": false
   },
   "outputs": [],
   "source": [
    "r.reset_index(inplace=True)"
   ]
  },
  {
   "cell_type": "code",
   "execution_count": 1152,
   "metadata": {
    "collapsed": false
   },
   "outputs": [
    {
     "name": "stdout",
     "output_type": "stream",
     "text": [
      "READM_30_AMI\n",
      "READM_30_CABG\n",
      "READM_30_COPD\n",
      "READM_30_HF\n",
      "READM_30_HIP_KNEE\n",
      "READM_30_HOSP_WIDE\n",
      "READM_30_PN\n",
      "READM_30_STK\n"
     ]
    }
   ],
   "source": [
    "for x in r.columns[2:]:\n",
    "    print x"
   ]
  },
  {
   "cell_type": "code",
   "execution_count": 1153,
   "metadata": {
    "collapsed": false
   },
   "outputs": [
    {
     "name": "stdout",
     "output_type": "stream",
     "text": [
      "<class 'pandas.core.frame.DataFrame'>\n",
      "RangeIndex: 4785 entries, 0 to 4784\n",
      "Data columns (total 10 columns):\n",
      "Hospital Name         4785 non-null object\n",
      "State                 4785 non-null object\n",
      "READM_30_AMI          4785 non-null float64\n",
      "READM_30_CABG         4785 non-null float64\n",
      "READM_30_COPD         4785 non-null float64\n",
      "READM_30_HF           4785 non-null float64\n",
      "READM_30_HIP_KNEE     4785 non-null float64\n",
      "READM_30_HOSP_WIDE    4785 non-null float64\n",
      "READM_30_PN           4785 non-null float64\n",
      "READM_30_STK          4785 non-null float64\n",
      "dtypes: float64(8), object(2)\n",
      "memory usage: 373.9+ KB\n"
     ]
    }
   ],
   "source": [
    "r.info()"
   ]
  },
  {
   "cell_type": "code",
   "execution_count": 1154,
   "metadata": {
    "collapsed": false
   },
   "outputs": [],
   "source": [
    "lis = []\n",
    "for x in r.columns[2:]:\n",
    "    lis.append(r[x].mean(axis=0))"
   ]
  },
  {
   "cell_type": "code",
   "execution_count": 1155,
   "metadata": {
    "collapsed": false
   },
   "outputs": [
    {
     "data": {
      "text/plain": [
       "[7.587412051549975,\n",
       " 3.0684326018808794,\n",
       " 15.169155346569163,\n",
       " 16.659021246952307,\n",
       " 2.617817833507489,\n",
       " 14.248333333333317,\n",
       " 14.55699407871823,\n",
       " 6.813686868686879]"
      ]
     },
     "execution_count": 1155,
     "metadata": {},
     "output_type": "execute_result"
    }
   ],
   "source": [
    "lis"
   ]
  },
  {
   "cell_type": "markdown",
   "metadata": {},
   "source": [
    "## Average Readmission Scores per disease"
   ]
  },
  {
   "cell_type": "code",
   "execution_count": 1123,
   "metadata": {
    "collapsed": false
   },
   "outputs": [
    {
     "data": {
      "image/png": "[encoded data removed]",
      "text/plain": [
       "<matplotlib.figure.Figure at 0x12952e7d0>"
      ]
     },
     "metadata": {},
     "output_type": "display_data"
    }
   ],
   "source": [
    "fig = plt.figure(figsize=(8,6))\n",
    "ax = fig.add_subplot(111)\n",
    "\n",
    "leng = np.arange(len(lis))\n",
    "plt.bar(leng, lis)\n",
    "\n",
    "xTickMarks = [i for i in list_conditions]\n",
    "ax.set_xticks(leng)\n",
    "xtickNames = ax.set_xticklabels(xTickMarks, fontsize=8)\n",
    "ax.set_xlim(-wid,len(ind)+wid)\n",
    "plt.setp(xtickNames, rotation=45, fontsize=10)\n",
    "plt.ylabel('Ave Readmission Score')\n",
    "plt.title('Average Readmission Scores across hospitals')\n",
    "fig.tight_layout()\n",
    "fig.subplots_adjust(bottom=0.2)\n",
    "plt.show()\n",
    "#HF has a large impact and knee_hip has a smaller impact"
   ]
  },
  {
   "cell_type": "markdown",
   "metadata": {},
   "source": [
    "## Readmission rates by state"
   ]
  },
  {
   "cell_type": "code",
   "execution_count": 1129,
   "metadata": {
    "collapsed": false
   },
   "outputs": [
    {
     "data": {
      "text/plain": [
       "0"
      ]
     },
     "execution_count": 1129,
     "metadata": {},
     "output_type": "execute_result"
    }
   ],
   "source": [
    "r['READM_30_HF'].isnull().sum() # No null values in REadmission rates for HD"
   ]
  },
  {
   "cell_type": "code",
   "execution_count": 1134,
   "metadata": {
    "collapsed": false
   },
   "outputs": [
    {
     "data": {
      "text/html": [
       "<div>\n",
       "<table border=\"1\" class=\"dataframe\">\n",
       "  <thead>\n",
       "    <tr style=\"text-align: right;\">\n",
       "      <th></th>\n",
       "      <th>Measure ID</th>\n",
       "      <th>READM_30_AMI</th>\n",
       "      <th>READM_30_CABG</th>\n",
       "      <th>READM_30_COPD</th>\n",
       "      <th>READM_30_HF</th>\n",
       "      <th>READM_30_HIP_KNEE</th>\n",
       "      <th>READM_30_HOSP_WIDE</th>\n",
       "      <th>READM_30_PN</th>\n",
       "      <th>READM_30_STK</th>\n",
       "    </tr>\n",
       "    <tr>\n",
       "      <th>Hospital Name</th>\n",
       "      <th>State</th>\n",
       "      <th></th>\n",
       "      <th></th>\n",
       "      <th></th>\n",
       "      <th></th>\n",
       "      <th></th>\n",
       "      <th></th>\n",
       "      <th></th>\n",
       "      <th></th>\n",
       "    </tr>\n",
       "  </thead>\n",
       "  <tbody>\n",
       "    <tr>\n",
       "      <th>ACADIA ST LANDRY</th>\n",
       "      <th>LA</th>\n",
       "      <td>0.0</td>\n",
       "      <td>0.0</td>\n",
       "      <td>0.0</td>\n",
       "      <td>0.0</td>\n",
       "      <td>0.0</td>\n",
       "      <td>0.0</td>\n",
       "      <td>0.0</td>\n",
       "      <td>0.0</td>\n",
       "    </tr>\n",
       "    <tr>\n",
       "      <th>AD HOSPITAL EAST, LLC</th>\n",
       "      <th>TX</th>\n",
       "      <td>0.0</td>\n",
       "      <td>0.0</td>\n",
       "      <td>0.0</td>\n",
       "      <td>0.0</td>\n",
       "      <td>0.0</td>\n",
       "      <td>0.0</td>\n",
       "      <td>0.0</td>\n",
       "      <td>0.0</td>\n",
       "    </tr>\n",
       "    <tr>\n",
       "      <th>ADAIR COUNTY MEMORIAL HOSPITAL</th>\n",
       "      <th>IA</th>\n",
       "      <td>0.0</td>\n",
       "      <td>0.0</td>\n",
       "      <td>0.0</td>\n",
       "      <td>0.0</td>\n",
       "      <td>0.0</td>\n",
       "      <td>15.5</td>\n",
       "      <td>16.0</td>\n",
       "      <td>0.0</td>\n",
       "    </tr>\n",
       "    <tr>\n",
       "      <th>ADCARE HOSPITAL OF WORCESTER INC</th>\n",
       "      <th>MA</th>\n",
       "      <td>0.0</td>\n",
       "      <td>0.0</td>\n",
       "      <td>0.0</td>\n",
       "      <td>0.0</td>\n",
       "      <td>0.0</td>\n",
       "      <td>17.4</td>\n",
       "      <td>0.0</td>\n",
       "      <td>0.0</td>\n",
       "    </tr>\n",
       "    <tr>\n",
       "      <th>ADMIN DE SERVICIOS MEDICOS  PUERTO RIC</th>\n",
       "      <th>PR</th>\n",
       "      <td>0.0</td>\n",
       "      <td>0.0</td>\n",
       "      <td>0.0</td>\n",
       "      <td>0.0</td>\n",
       "      <td>0.0</td>\n",
       "      <td>0.0</td>\n",
       "      <td>0.0</td>\n",
       "      <td>0.0</td>\n",
       "    </tr>\n",
       "    <tr>\n",
       "      <th>ADVANCED SURGICAL HOSPITAL</th>\n",
       "      <th>PA</th>\n",
       "      <td>0.0</td>\n",
       "      <td>0.0</td>\n",
       "      <td>0.0</td>\n",
       "      <td>0.0</td>\n",
       "      <td>4.6</td>\n",
       "      <td>16.4</td>\n",
       "      <td>0.0</td>\n",
       "      <td>0.0</td>\n",
       "    </tr>\n",
       "    <tr>\n",
       "      <th>ADVENTIST HEALTH MEDICAL CENTER TEHACHAPI VALLEY</th>\n",
       "      <th>CA</th>\n",
       "      <td>0.0</td>\n",
       "      <td>0.0</td>\n",
       "      <td>0.0</td>\n",
       "      <td>0.0</td>\n",
       "      <td>0.0</td>\n",
       "      <td>15.4</td>\n",
       "      <td>17.0</td>\n",
       "      <td>0.0</td>\n",
       "    </tr>\n",
       "    <tr>\n",
       "      <th>ADVENTIST HEALTHCARE SHADY GROVE MEDICAL CENTER</th>\n",
       "      <th>MD</th>\n",
       "      <td>0.0</td>\n",
       "      <td>0.0</td>\n",
       "      <td>0.0</td>\n",
       "      <td>0.0</td>\n",
       "      <td>0.0</td>\n",
       "      <td>0.0</td>\n",
       "      <td>0.0</td>\n",
       "      <td>0.0</td>\n",
       "    </tr>\n",
       "    <tr>\n",
       "      <th>ADVENTIST HEALTHCARE WASHINGTON ADVENTIST HOSPITAL</th>\n",
       "      <th>MD</th>\n",
       "      <td>0.0</td>\n",
       "      <td>0.0</td>\n",
       "      <td>0.0</td>\n",
       "      <td>0.0</td>\n",
       "      <td>0.0</td>\n",
       "      <td>0.0</td>\n",
       "      <td>0.0</td>\n",
       "      <td>0.0</td>\n",
       "    </tr>\n",
       "    <tr>\n",
       "      <th>ADVENTIST MEDICAL CENTER - REEDLEY</th>\n",
       "      <th>CA</th>\n",
       "      <td>0.0</td>\n",
       "      <td>0.0</td>\n",
       "      <td>20.0</td>\n",
       "      <td>0.0</td>\n",
       "      <td>0.0</td>\n",
       "      <td>15.2</td>\n",
       "      <td>16.8</td>\n",
       "      <td>0.0</td>\n",
       "    </tr>\n",
       "    <tr>\n",
       "      <th>AKRON CHILDREN'S HOSPITAL</th>\n",
       "      <th>OH</th>\n",
       "      <td>0.0</td>\n",
       "      <td>0.0</td>\n",
       "      <td>0.0</td>\n",
       "      <td>0.0</td>\n",
       "      <td>0.0</td>\n",
       "      <td>0.0</td>\n",
       "      <td>0.0</td>\n",
       "      <td>0.0</td>\n",
       "    </tr>\n",
       "    <tr>\n",
       "      <th>ALFRED I DUPONT HOSPITAL FOR CHILDREN</th>\n",
       "      <th>DE</th>\n",
       "      <td>0.0</td>\n",
       "      <td>0.0</td>\n",
       "      <td>0.0</td>\n",
       "      <td>0.0</td>\n",
       "      <td>0.0</td>\n",
       "      <td>0.0</td>\n",
       "      <td>0.0</td>\n",
       "      <td>0.0</td>\n",
       "    </tr>\n",
       "    <tr>\n",
       "      <th>ALICE PECK DAY MEMORIAL HOSPITAL</th>\n",
       "      <th>NH</th>\n",
       "      <td>0.0</td>\n",
       "      <td>0.0</td>\n",
       "      <td>19.4</td>\n",
       "      <td>0.0</td>\n",
       "      <td>4.8</td>\n",
       "      <td>16.4</td>\n",
       "      <td>17.2</td>\n",
       "      <td>0.0</td>\n",
       "    </tr>\n",
       "    <tr>\n",
       "      <th>ALL CHILDREN'S HOSPITAL, INC</th>\n",
       "      <th>FL</th>\n",
       "      <td>0.0</td>\n",
       "      <td>0.0</td>\n",
       "      <td>0.0</td>\n",
       "      <td>0.0</td>\n",
       "      <td>0.0</td>\n",
       "      <td>0.0</td>\n",
       "      <td>0.0</td>\n",
       "      <td>0.0</td>\n",
       "    </tr>\n",
       "    <tr>\n",
       "      <th>ALLEGIANCE SPECIALTY HOSPITAL OF KILGORE</th>\n",
       "      <th>TX</th>\n",
       "      <td>0.0</td>\n",
       "      <td>0.0</td>\n",
       "      <td>0.0</td>\n",
       "      <td>0.0</td>\n",
       "      <td>0.0</td>\n",
       "      <td>0.0</td>\n",
       "      <td>0.0</td>\n",
       "      <td>0.0</td>\n",
       "    </tr>\n",
       "    <tr>\n",
       "      <th>ALLEN PARISH HOSPITAL</th>\n",
       "      <th>LA</th>\n",
       "      <td>0.0</td>\n",
       "      <td>0.0</td>\n",
       "      <td>0.0</td>\n",
       "      <td>0.0</td>\n",
       "      <td>0.0</td>\n",
       "      <td>15.3</td>\n",
       "      <td>16.6</td>\n",
       "      <td>0.0</td>\n",
       "    </tr>\n",
       "    <tr>\n",
       "      <th>ALLENDALE COUNTY HOSPITAL</th>\n",
       "      <th>SC</th>\n",
       "      <td>0.0</td>\n",
       "      <td>0.0</td>\n",
       "      <td>0.0</td>\n",
       "      <td>0.0</td>\n",
       "      <td>0.0</td>\n",
       "      <td>15.5</td>\n",
       "      <td>17.0</td>\n",
       "      <td>0.0</td>\n",
       "    </tr>\n",
       "    <tr>\n",
       "      <th>ALLIANCE HEALTH CENTER</th>\n",
       "      <th>MS</th>\n",
       "      <td>0.0</td>\n",
       "      <td>0.0</td>\n",
       "      <td>0.0</td>\n",
       "      <td>0.0</td>\n",
       "      <td>0.0</td>\n",
       "      <td>0.0</td>\n",
       "      <td>0.0</td>\n",
       "      <td>0.0</td>\n",
       "    </tr>\n",
       "    <tr>\n",
       "      <th>ALTUS BAYTOWN HOSPITAL</th>\n",
       "      <th>TX</th>\n",
       "      <td>0.0</td>\n",
       "      <td>0.0</td>\n",
       "      <td>0.0</td>\n",
       "      <td>0.0</td>\n",
       "      <td>0.0</td>\n",
       "      <td>0.0</td>\n",
       "      <td>0.0</td>\n",
       "      <td>0.0</td>\n",
       "    </tr>\n",
       "    <tr>\n",
       "      <th>ANAHEIM GLOBAL MEDICAL CENTER</th>\n",
       "      <th>CA</th>\n",
       "      <td>0.0</td>\n",
       "      <td>0.0</td>\n",
       "      <td>0.0</td>\n",
       "      <td>0.0</td>\n",
       "      <td>0.0</td>\n",
       "      <td>15.8</td>\n",
       "      <td>17.7</td>\n",
       "      <td>0.0</td>\n",
       "    </tr>\n",
       "    <tr>\n",
       "      <th>ANDERSON COUNTY HOSPITAL</th>\n",
       "      <th>KS</th>\n",
       "      <td>0.0</td>\n",
       "      <td>0.0</td>\n",
       "      <td>0.0</td>\n",
       "      <td>0.0</td>\n",
       "      <td>0.0</td>\n",
       "      <td>15.9</td>\n",
       "      <td>16.9</td>\n",
       "      <td>0.0</td>\n",
       "    </tr>\n",
       "    <tr>\n",
       "      <th>ANDERSON RMC SOUTH</th>\n",
       "      <th>MS</th>\n",
       "      <td>0.0</td>\n",
       "      <td>0.0</td>\n",
       "      <td>0.0</td>\n",
       "      <td>0.0</td>\n",
       "      <td>0.0</td>\n",
       "      <td>0.0</td>\n",
       "      <td>0.0</td>\n",
       "      <td>0.0</td>\n",
       "    </tr>\n",
       "    <tr>\n",
       "      <th>ANIMAS SURGICAL HOSPITAL, LLC</th>\n",
       "      <th>CO</th>\n",
       "      <td>0.0</td>\n",
       "      <td>0.0</td>\n",
       "      <td>0.0</td>\n",
       "      <td>0.0</td>\n",
       "      <td>3.9</td>\n",
       "      <td>14.3</td>\n",
       "      <td>0.0</td>\n",
       "      <td>0.0</td>\n",
       "    </tr>\n",
       "    <tr>\n",
       "      <th>ANN &amp; ROBERT H LURIE CHILDRENS HOSPITAL OF CHICAGO</th>\n",
       "      <th>IL</th>\n",
       "      <td>0.0</td>\n",
       "      <td>0.0</td>\n",
       "      <td>0.0</td>\n",
       "      <td>0.0</td>\n",
       "      <td>0.0</td>\n",
       "      <td>0.0</td>\n",
       "      <td>0.0</td>\n",
       "      <td>0.0</td>\n",
       "    </tr>\n",
       "    <tr>\n",
       "      <th>ANNE ARUNDEL MEDICAL CENTER</th>\n",
       "      <th>MD</th>\n",
       "      <td>0.0</td>\n",
       "      <td>0.0</td>\n",
       "      <td>0.0</td>\n",
       "      <td>0.0</td>\n",
       "      <td>0.0</td>\n",
       "      <td>0.0</td>\n",
       "      <td>0.0</td>\n",
       "      <td>0.0</td>\n",
       "    </tr>\n",
       "    <tr>\n",
       "      <th>ANNE BATES LEACH EYE HOSPITAL</th>\n",
       "      <th>FL</th>\n",
       "      <td>0.0</td>\n",
       "      <td>0.0</td>\n",
       "      <td>0.0</td>\n",
       "      <td>0.0</td>\n",
       "      <td>0.0</td>\n",
       "      <td>0.0</td>\n",
       "      <td>0.0</td>\n",
       "      <td>0.0</td>\n",
       "    </tr>\n",
       "    <tr>\n",
       "      <th>ANNIE JEFFREY MEMORIAL COUNTY HEALTH CENTER</th>\n",
       "      <th>NE</th>\n",
       "      <td>0.0</td>\n",
       "      <td>0.0</td>\n",
       "      <td>0.0</td>\n",
       "      <td>0.0</td>\n",
       "      <td>0.0</td>\n",
       "      <td>16.0</td>\n",
       "      <td>16.5</td>\n",
       "      <td>0.0</td>\n",
       "    </tr>\n",
       "    <tr>\n",
       "      <th>ANSON GENERAL HOSPITAL</th>\n",
       "      <th>TX</th>\n",
       "      <td>0.0</td>\n",
       "      <td>0.0</td>\n",
       "      <td>20.7</td>\n",
       "      <td>0.0</td>\n",
       "      <td>0.0</td>\n",
       "      <td>16.8</td>\n",
       "      <td>18.0</td>\n",
       "      <td>0.0</td>\n",
       "    </tr>\n",
       "    <tr>\n",
       "      <th>ANTELOPE MEMORIAL HOSPITAL</th>\n",
       "      <th>NE</th>\n",
       "      <td>0.0</td>\n",
       "      <td>0.0</td>\n",
       "      <td>19.8</td>\n",
       "      <td>0.0</td>\n",
       "      <td>0.0</td>\n",
       "      <td>15.1</td>\n",
       "      <td>14.9</td>\n",
       "      <td>0.0</td>\n",
       "    </tr>\n",
       "    <tr>\n",
       "      <th>APPLETON MUNICIPAL HOSPITAL</th>\n",
       "      <th>MN</th>\n",
       "      <td>0.0</td>\n",
       "      <td>0.0</td>\n",
       "      <td>0.0</td>\n",
       "      <td>0.0</td>\n",
       "      <td>0.0</td>\n",
       "      <td>0.0</td>\n",
       "      <td>0.0</td>\n",
       "      <td>0.0</td>\n",
       "    </tr>\n",
       "    <tr>\n",
       "      <th>...</th>\n",
       "      <th>...</th>\n",
       "      <td>...</td>\n",
       "      <td>...</td>\n",
       "      <td>...</td>\n",
       "      <td>...</td>\n",
       "      <td>...</td>\n",
       "      <td>...</td>\n",
       "      <td>...</td>\n",
       "      <td>...</td>\n",
       "    </tr>\n",
       "    <tr>\n",
       "      <th>WELLMONT HANCOCK COUNTY HOSPITAL</th>\n",
       "      <th>TN</th>\n",
       "      <td>0.0</td>\n",
       "      <td>0.0</td>\n",
       "      <td>0.0</td>\n",
       "      <td>0.0</td>\n",
       "      <td>0.0</td>\n",
       "      <td>15.7</td>\n",
       "      <td>16.9</td>\n",
       "      <td>0.0</td>\n",
       "    </tr>\n",
       "    <tr>\n",
       "      <th>WELLSPAN SURGERY AND REHABILITATION HOSPITAL</th>\n",
       "      <th>PA</th>\n",
       "      <td>0.0</td>\n",
       "      <td>0.0</td>\n",
       "      <td>0.0</td>\n",
       "      <td>0.0</td>\n",
       "      <td>5.5</td>\n",
       "      <td>17.2</td>\n",
       "      <td>0.0</td>\n",
       "      <td>0.0</td>\n",
       "    </tr>\n",
       "    <tr>\n",
       "      <th>WELLSTAR SYLVAN GROVE HOSPITAL</th>\n",
       "      <th>GA</th>\n",
       "      <td>0.0</td>\n",
       "      <td>0.0</td>\n",
       "      <td>0.0</td>\n",
       "      <td>0.0</td>\n",
       "      <td>0.0</td>\n",
       "      <td>15.7</td>\n",
       "      <td>0.0</td>\n",
       "      <td>0.0</td>\n",
       "    </tr>\n",
       "    <tr>\n",
       "      <th>WEST COVINA MEDICAL CENTER, INC</th>\n",
       "      <th>CA</th>\n",
       "      <td>0.0</td>\n",
       "      <td>0.0</td>\n",
       "      <td>0.0</td>\n",
       "      <td>0.0</td>\n",
       "      <td>4.4</td>\n",
       "      <td>15.3</td>\n",
       "      <td>0.0</td>\n",
       "      <td>0.0</td>\n",
       "    </tr>\n",
       "    <tr>\n",
       "      <th>WEST FELICIANA PARISH HOSPITAL</th>\n",
       "      <th>LA</th>\n",
       "      <td>0.0</td>\n",
       "      <td>0.0</td>\n",
       "      <td>0.0</td>\n",
       "      <td>0.0</td>\n",
       "      <td>0.0</td>\n",
       "      <td>0.0</td>\n",
       "      <td>0.0</td>\n",
       "      <td>0.0</td>\n",
       "    </tr>\n",
       "    <tr>\n",
       "      <th>WEST HOLT MEMORIAL HOSPITAL</th>\n",
       "      <th>NE</th>\n",
       "      <td>0.0</td>\n",
       "      <td>0.0</td>\n",
       "      <td>19.6</td>\n",
       "      <td>0.0</td>\n",
       "      <td>0.0</td>\n",
       "      <td>15.1</td>\n",
       "      <td>17.3</td>\n",
       "      <td>0.0</td>\n",
       "    </tr>\n",
       "    <tr>\n",
       "      <th>WEST VALLEY HOSPITAL</th>\n",
       "      <th>OR</th>\n",
       "      <td>0.0</td>\n",
       "      <td>0.0</td>\n",
       "      <td>0.0</td>\n",
       "      <td>0.0</td>\n",
       "      <td>0.0</td>\n",
       "      <td>15.2</td>\n",
       "      <td>15.8</td>\n",
       "      <td>0.0</td>\n",
       "    </tr>\n",
       "    <tr>\n",
       "      <th>WESTERN MARYLAND REGIONAL MEDICAL CENTER</th>\n",
       "      <th>MD</th>\n",
       "      <td>0.0</td>\n",
       "      <td>0.0</td>\n",
       "      <td>0.0</td>\n",
       "      <td>0.0</td>\n",
       "      <td>0.0</td>\n",
       "      <td>0.0</td>\n",
       "      <td>0.0</td>\n",
       "      <td>0.0</td>\n",
       "    </tr>\n",
       "    <tr>\n",
       "      <th>WESTFIELD MEMORIAL HOSPITAL, INC</th>\n",
       "      <th>NY</th>\n",
       "      <td>0.0</td>\n",
       "      <td>0.0</td>\n",
       "      <td>0.0</td>\n",
       "      <td>0.0</td>\n",
       "      <td>0.0</td>\n",
       "      <td>0.0</td>\n",
       "      <td>0.0</td>\n",
       "      <td>0.0</td>\n",
       "    </tr>\n",
       "    <tr>\n",
       "      <th>WESTON COUNTY HEALTH SERVICES</th>\n",
       "      <th>WY</th>\n",
       "      <td>0.0</td>\n",
       "      <td>0.0</td>\n",
       "      <td>0.0</td>\n",
       "      <td>0.0</td>\n",
       "      <td>0.0</td>\n",
       "      <td>15.2</td>\n",
       "      <td>0.0</td>\n",
       "      <td>0.0</td>\n",
       "    </tr>\n",
       "    <tr>\n",
       "      <th>WHEATLAND MEMORIAL HOSPITAL</th>\n",
       "      <th>MT</th>\n",
       "      <td>0.0</td>\n",
       "      <td>0.0</td>\n",
       "      <td>0.0</td>\n",
       "      <td>0.0</td>\n",
       "      <td>0.0</td>\n",
       "      <td>0.0</td>\n",
       "      <td>0.0</td>\n",
       "      <td>0.0</td>\n",
       "    </tr>\n",
       "    <tr>\n",
       "      <th>WHITE MOUNTAIN REGIONAL MEDICAL CENTER</th>\n",
       "      <th>AZ</th>\n",
       "      <td>0.0</td>\n",
       "      <td>0.0</td>\n",
       "      <td>0.0</td>\n",
       "      <td>0.0</td>\n",
       "      <td>0.0</td>\n",
       "      <td>15.3</td>\n",
       "      <td>16.5</td>\n",
       "      <td>0.0</td>\n",
       "    </tr>\n",
       "    <tr>\n",
       "      <th>WHITERIVER PHS INDIAN HOSPITAL</th>\n",
       "      <th>AZ</th>\n",
       "      <td>0.0</td>\n",
       "      <td>0.0</td>\n",
       "      <td>0.0</td>\n",
       "      <td>0.0</td>\n",
       "      <td>0.0</td>\n",
       "      <td>15.6</td>\n",
       "      <td>16.7</td>\n",
       "      <td>0.0</td>\n",
       "    </tr>\n",
       "    <tr>\n",
       "      <th>WHITFIELD MEDICAL SURGICAL HOSPITAL</th>\n",
       "      <th>MS</th>\n",
       "      <td>0.0</td>\n",
       "      <td>0.0</td>\n",
       "      <td>0.0</td>\n",
       "      <td>0.0</td>\n",
       "      <td>0.0</td>\n",
       "      <td>0.0</td>\n",
       "      <td>16.0</td>\n",
       "      <td>0.0</td>\n",
       "    </tr>\n",
       "    <tr>\n",
       "      <th>WICHITA COUNTY HEALTH CENTER</th>\n",
       "      <th>KS</th>\n",
       "      <td>0.0</td>\n",
       "      <td>0.0</td>\n",
       "      <td>0.0</td>\n",
       "      <td>0.0</td>\n",
       "      <td>0.0</td>\n",
       "      <td>15.4</td>\n",
       "      <td>0.0</td>\n",
       "      <td>0.0</td>\n",
       "    </tr>\n",
       "    <tr>\n",
       "      <th>WICKENBURG COMMUNITY HOSPITAL</th>\n",
       "      <th>AZ</th>\n",
       "      <td>0.0</td>\n",
       "      <td>0.0</td>\n",
       "      <td>18.7</td>\n",
       "      <td>0.0</td>\n",
       "      <td>0.0</td>\n",
       "      <td>15.9</td>\n",
       "      <td>16.7</td>\n",
       "      <td>0.0</td>\n",
       "    </tr>\n",
       "    <tr>\n",
       "      <th>WILBARGER GENERAL HOSPITAL</th>\n",
       "      <th>TX</th>\n",
       "      <td>0.0</td>\n",
       "      <td>0.0</td>\n",
       "      <td>0.0</td>\n",
       "      <td>0.0</td>\n",
       "      <td>0.0</td>\n",
       "      <td>14.9</td>\n",
       "      <td>15.0</td>\n",
       "      <td>0.0</td>\n",
       "    </tr>\n",
       "    <tr>\n",
       "      <th>WILLAPA HARBOR HOSPITAL</th>\n",
       "      <th>WA</th>\n",
       "      <td>0.0</td>\n",
       "      <td>0.0</td>\n",
       "      <td>19.6</td>\n",
       "      <td>0.0</td>\n",
       "      <td>0.0</td>\n",
       "      <td>15.5</td>\n",
       "      <td>16.9</td>\n",
       "      <td>0.0</td>\n",
       "    </tr>\n",
       "    <tr>\n",
       "      <th>WILMINGTON TREATMENT CENTER</th>\n",
       "      <th>NC</th>\n",
       "      <td>0.0</td>\n",
       "      <td>0.0</td>\n",
       "      <td>0.0</td>\n",
       "      <td>0.0</td>\n",
       "      <td>0.0</td>\n",
       "      <td>0.0</td>\n",
       "      <td>0.0</td>\n",
       "      <td>0.0</td>\n",
       "    </tr>\n",
       "    <tr>\n",
       "      <th>WILSON MEDICAL CENTER</th>\n",
       "      <th>KS</th>\n",
       "      <td>0.0</td>\n",
       "      <td>0.0</td>\n",
       "      <td>19.8</td>\n",
       "      <td>0.0</td>\n",
       "      <td>0.0</td>\n",
       "      <td>15.4</td>\n",
       "      <td>16.8</td>\n",
       "      <td>0.0</td>\n",
       "    </tr>\n",
       "    <tr>\n",
       "      <th>WINDOM AREA HOSPITAL</th>\n",
       "      <th>MN</th>\n",
       "      <td>0.0</td>\n",
       "      <td>0.0</td>\n",
       "      <td>0.0</td>\n",
       "      <td>0.0</td>\n",
       "      <td>0.0</td>\n",
       "      <td>15.8</td>\n",
       "      <td>16.0</td>\n",
       "      <td>0.0</td>\n",
       "    </tr>\n",
       "    <tr>\n",
       "      <th>WINKLER COUNTY MEMORIAL HOSPITAL</th>\n",
       "      <th>TX</th>\n",
       "      <td>0.0</td>\n",
       "      <td>0.0</td>\n",
       "      <td>0.0</td>\n",
       "      <td>0.0</td>\n",
       "      <td>0.0</td>\n",
       "      <td>0.0</td>\n",
       "      <td>0.0</td>\n",
       "      <td>0.0</td>\n",
       "    </tr>\n",
       "    <tr>\n",
       "      <th>WOMAN'S HOSPITAL</th>\n",
       "      <th>LA</th>\n",
       "      <td>0.0</td>\n",
       "      <td>0.0</td>\n",
       "      <td>0.0</td>\n",
       "      <td>0.0</td>\n",
       "      <td>0.0</td>\n",
       "      <td>15.6</td>\n",
       "      <td>0.0</td>\n",
       "      <td>0.0</td>\n",
       "    </tr>\n",
       "    <tr>\n",
       "      <th>WOMANS HOSPITAL OF TEXAS,THE</th>\n",
       "      <th>TX</th>\n",
       "      <td>0.0</td>\n",
       "      <td>0.0</td>\n",
       "      <td>0.0</td>\n",
       "      <td>0.0</td>\n",
       "      <td>0.0</td>\n",
       "      <td>15.5</td>\n",
       "      <td>0.0</td>\n",
       "      <td>0.0</td>\n",
       "    </tr>\n",
       "    <tr>\n",
       "      <th>WOMEN AND INFANTS HOSPITAL OF RHODE ISLAND</th>\n",
       "      <th>RI</th>\n",
       "      <td>0.0</td>\n",
       "      <td>0.0</td>\n",
       "      <td>0.0</td>\n",
       "      <td>0.0</td>\n",
       "      <td>0.0</td>\n",
       "      <td>15.4</td>\n",
       "      <td>0.0</td>\n",
       "      <td>0.0</td>\n",
       "    </tr>\n",
       "    <tr>\n",
       "      <th>WOMEN'S HOSPITAL THE</th>\n",
       "      <th>IN</th>\n",
       "      <td>0.0</td>\n",
       "      <td>0.0</td>\n",
       "      <td>0.0</td>\n",
       "      <td>0.0</td>\n",
       "      <td>0.0</td>\n",
       "      <td>0.0</td>\n",
       "      <td>0.0</td>\n",
       "      <td>0.0</td>\n",
       "    </tr>\n",
       "    <tr>\n",
       "      <th>WOODS AT PARKSIDE,THE</th>\n",
       "      <th>OH</th>\n",
       "      <td>0.0</td>\n",
       "      <td>0.0</td>\n",
       "      <td>0.0</td>\n",
       "      <td>0.0</td>\n",
       "      <td>0.0</td>\n",
       "      <td>0.0</td>\n",
       "      <td>0.0</td>\n",
       "      <td>0.0</td>\n",
       "    </tr>\n",
       "    <tr>\n",
       "      <th>WRANGELL MEDICAL CENTER</th>\n",
       "      <th>AK</th>\n",
       "      <td>0.0</td>\n",
       "      <td>0.0</td>\n",
       "      <td>0.0</td>\n",
       "      <td>0.0</td>\n",
       "      <td>0.0</td>\n",
       "      <td>15.4</td>\n",
       "      <td>0.0</td>\n",
       "      <td>0.0</td>\n",
       "    </tr>\n",
       "    <tr>\n",
       "      <th>WRAY COMMUNITY DISTRICT HOSPITAL</th>\n",
       "      <th>CO</th>\n",
       "      <td>0.0</td>\n",
       "      <td>0.0</td>\n",
       "      <td>0.0</td>\n",
       "      <td>0.0</td>\n",
       "      <td>4.5</td>\n",
       "      <td>15.3</td>\n",
       "      <td>17.4</td>\n",
       "      <td>0.0</td>\n",
       "    </tr>\n",
       "    <tr>\n",
       "      <th>ZUNI COMPREHENSIVE COMMUNITY HEALTH CENTER</th>\n",
       "      <th>NM</th>\n",
       "      <td>0.0</td>\n",
       "      <td>0.0</td>\n",
       "      <td>0.0</td>\n",
       "      <td>0.0</td>\n",
       "      <td>0.0</td>\n",
       "      <td>15.4</td>\n",
       "      <td>17.3</td>\n",
       "      <td>0.0</td>\n",
       "    </tr>\n",
       "  </tbody>\n",
       "</table>\n",
       "<p>1152 rows × 8 columns</p>\n",
       "</div>"
      ],
      "text/plain": [
       "Measure ID                                                READM_30_AMI  \\\n",
       "Hospital Name                                      State                 \n",
       "ACADIA ST LANDRY                                   LA              0.0   \n",
       "AD HOSPITAL EAST, LLC                              TX              0.0   \n",
       "ADAIR COUNTY MEMORIAL HOSPITAL                     IA              0.0   \n",
       "ADCARE HOSPITAL OF WORCESTER INC                   MA              0.0   \n",
       "ADMIN DE SERVICIOS MEDICOS  PUERTO RIC             PR              0.0   \n",
       "ADVANCED SURGICAL HOSPITAL                         PA              0.0   \n",
       "ADVENTIST HEALTH MEDICAL CENTER TEHACHAPI VALLEY   CA              0.0   \n",
       "ADVENTIST HEALTHCARE SHADY GROVE MEDICAL CENTER    MD              0.0   \n",
       "ADVENTIST HEALTHCARE WASHINGTON ADVENTIST HOSPITAL MD              0.0   \n",
       "ADVENTIST MEDICAL CENTER - REEDLEY                 CA              0.0   \n",
       "AKRON CHILDREN'S HOSPITAL                          OH              0.0   \n",
       "ALFRED I DUPONT HOSPITAL FOR CHILDREN              DE              0.0   \n",
       "ALICE PECK DAY MEMORIAL HOSPITAL                   NH              0.0   \n",
       "ALL CHILDREN'S HOSPITAL, INC                       FL              0.0   \n",
       "ALLEGIANCE SPECIALTY HOSPITAL OF KILGORE           TX              0.0   \n",
       "ALLEN PARISH HOSPITAL                              LA              0.0   \n",
       "ALLENDALE COUNTY HOSPITAL                          SC              0.0   \n",
       "ALLIANCE HEALTH CENTER                             MS              0.0   \n",
       "ALTUS BAYTOWN HOSPITAL                             TX              0.0   \n",
       "ANAHEIM GLOBAL MEDICAL CENTER                      CA              0.0   \n",
       "ANDERSON COUNTY HOSPITAL                           KS              0.0   \n",
       "ANDERSON RMC SOUTH                                 MS              0.0   \n",
       "ANIMAS SURGICAL HOSPITAL, LLC                      CO              0.0   \n",
       "ANN & ROBERT H LURIE CHILDRENS HOSPITAL OF CHICAGO IL              0.0   \n",
       "ANNE ARUNDEL MEDICAL CENTER                        MD              0.0   \n",
       "ANNE BATES LEACH EYE HOSPITAL                      FL              0.0   \n",
       "ANNIE JEFFREY MEMORIAL COUNTY HEALTH CENTER        NE              0.0   \n",
       "ANSON GENERAL HOSPITAL                             TX              0.0   \n",
       "ANTELOPE MEMORIAL HOSPITAL                         NE              0.0   \n",
       "APPLETON MUNICIPAL HOSPITAL                        MN              0.0   \n",
       "...                                                                ...   \n",
       "WELLMONT HANCOCK COUNTY HOSPITAL                   TN              0.0   \n",
       "WELLSPAN SURGERY AND REHABILITATION HOSPITAL       PA              0.0   \n",
       "WELLSTAR SYLVAN GROVE HOSPITAL                     GA              0.0   \n",
       "WEST COVINA MEDICAL CENTER, INC                    CA              0.0   \n",
       "WEST FELICIANA PARISH HOSPITAL                     LA              0.0   \n",
       "WEST HOLT MEMORIAL HOSPITAL                        NE              0.0   \n",
       "WEST VALLEY HOSPITAL                               OR              0.0   \n",
       "WESTERN MARYLAND REGIONAL MEDICAL CENTER           MD              0.0   \n",
       "WESTFIELD MEMORIAL HOSPITAL, INC                   NY              0.0   \n",
       "WESTON COUNTY HEALTH SERVICES                      WY              0.0   \n",
       "WHEATLAND MEMORIAL HOSPITAL                        MT              0.0   \n",
       "WHITE MOUNTAIN REGIONAL MEDICAL CENTER             AZ              0.0   \n",
       "WHITERIVER PHS INDIAN HOSPITAL                     AZ              0.0   \n",
       "WHITFIELD MEDICAL SURGICAL HOSPITAL                MS              0.0   \n",
       "WICHITA COUNTY HEALTH CENTER                       KS              0.0   \n",
       "WICKENBURG COMMUNITY HOSPITAL                      AZ              0.0   \n",
       "WILBARGER GENERAL HOSPITAL                         TX              0.0   \n",
       "WILLAPA HARBOR HOSPITAL                            WA              0.0   \n",
       "WILMINGTON TREATMENT CENTER                        NC              0.0   \n",
       "WILSON MEDICAL CENTER                              KS              0.0   \n",
       "WINDOM AREA HOSPITAL                               MN              0.0   \n",
       "WINKLER COUNTY MEMORIAL HOSPITAL                   TX              0.0   \n",
       "WOMAN'S HOSPITAL                                   LA              0.0   \n",
       "WOMANS HOSPITAL OF TEXAS,THE                       TX              0.0   \n",
       "WOMEN AND INFANTS HOSPITAL OF RHODE ISLAND         RI              0.0   \n",
       "WOMEN'S HOSPITAL THE                               IN              0.0   \n",
       "WOODS AT PARKSIDE,THE                              OH              0.0   \n",
       "WRANGELL MEDICAL CENTER                            AK              0.0   \n",
       "WRAY COMMUNITY DISTRICT HOSPITAL                   CO              0.0   \n",
       "ZUNI COMPREHENSIVE COMMUNITY HEALTH CENTER         NM              0.0   \n",
       "\n",
       "Measure ID                                                READM_30_CABG  \\\n",
       "Hospital Name                                      State                  \n",
       "ACADIA ST LANDRY                                   LA               0.0   \n",
       "AD HOSPITAL EAST, LLC                              TX               0.0   \n",
       "ADAIR COUNTY MEMORIAL HOSPITAL                     IA               0.0   \n",
       "ADCARE HOSPITAL OF WORCESTER INC                   MA               0.0   \n",
       "ADMIN DE SERVICIOS MEDICOS  PUERTO RIC             PR               0.0   \n",
       "ADVANCED SURGICAL HOSPITAL                         PA               0.0   \n",
       "ADVENTIST HEALTH MEDICAL CENTER TEHACHAPI VALLEY   CA               0.0   \n",
       "ADVENTIST HEALTHCARE SHADY GROVE MEDICAL CENTER    MD               0.0   \n",
       "ADVENTIST HEALTHCARE WASHINGTON ADVENTIST HOSPITAL MD               0.0   \n",
       "ADVENTIST MEDICAL CENTER - REEDLEY                 CA               0.0   \n",
       "AKRON CHILDREN'S HOSPITAL                          OH               0.0   \n",
       "ALFRED I DUPONT HOSPITAL FOR CHILDREN              DE               0.0   \n",
       "ALICE PECK DAY MEMORIAL HOSPITAL                   NH               0.0   \n",
       "ALL CHILDREN'S HOSPITAL, INC                       FL               0.0   \n",
       "ALLEGIANCE SPECIALTY HOSPITAL OF KILGORE           TX               0.0   \n",
       "ALLEN PARISH HOSPITAL                              LA               0.0   \n",
       "ALLENDALE COUNTY HOSPITAL                          SC               0.0   \n",
       "ALLIANCE HEALTH CENTER                             MS               0.0   \n",
       "ALTUS BAYTOWN HOSPITAL                             TX               0.0   \n",
       "ANAHEIM GLOBAL MEDICAL CENTER                      CA               0.0   \n",
       "ANDERSON COUNTY HOSPITAL                           KS               0.0   \n",
       "ANDERSON RMC SOUTH                                 MS               0.0   \n",
       "ANIMAS SURGICAL HOSPITAL, LLC                      CO               0.0   \n",
       "ANN & ROBERT H LURIE CHILDRENS HOSPITAL OF CHICAGO IL               0.0   \n",
       "ANNE ARUNDEL MEDICAL CENTER                        MD               0.0   \n",
       "ANNE BATES LEACH EYE HOSPITAL                      FL               0.0   \n",
       "ANNIE JEFFREY MEMORIAL COUNTY HEALTH CENTER        NE               0.0   \n",
       "ANSON GENERAL HOSPITAL                             TX               0.0   \n",
       "ANTELOPE MEMORIAL HOSPITAL                         NE               0.0   \n",
       "APPLETON MUNICIPAL HOSPITAL                        MN               0.0   \n",
       "...                                                                 ...   \n",
       "WELLMONT HANCOCK COUNTY HOSPITAL                   TN               0.0   \n",
       "WELLSPAN SURGERY AND REHABILITATION HOSPITAL       PA               0.0   \n",
       "WELLSTAR SYLVAN GROVE HOSPITAL                     GA               0.0   \n",
       "WEST COVINA MEDICAL CENTER, INC                    CA               0.0   \n",
       "WEST FELICIANA PARISH HOSPITAL                     LA               0.0   \n",
       "WEST HOLT MEMORIAL HOSPITAL                        NE               0.0   \n",
       "WEST VALLEY HOSPITAL                               OR               0.0   \n",
       "WESTERN MARYLAND REGIONAL MEDICAL CENTER           MD               0.0   \n",
       "WESTFIELD MEMORIAL HOSPITAL, INC                   NY               0.0   \n",
       "WESTON COUNTY HEALTH SERVICES                      WY               0.0   \n",
       "WHEATLAND MEMORIAL HOSPITAL                        MT               0.0   \n",
       "WHITE MOUNTAIN REGIONAL MEDICAL CENTER             AZ               0.0   \n",
       "WHITERIVER PHS INDIAN HOSPITAL                     AZ               0.0   \n",
       "WHITFIELD MEDICAL SURGICAL HOSPITAL                MS               0.0   \n",
       "WICHITA COUNTY HEALTH CENTER                       KS               0.0   \n",
       "WICKENBURG COMMUNITY HOSPITAL                      AZ               0.0   \n",
       "WILBARGER GENERAL HOSPITAL                         TX               0.0   \n",
       "WILLAPA HARBOR HOSPITAL                            WA               0.0   \n",
       "WILMINGTON TREATMENT CENTER                        NC               0.0   \n",
       "WILSON MEDICAL CENTER                              KS               0.0   \n",
       "WINDOM AREA HOSPITAL                               MN               0.0   \n",
       "WINKLER COUNTY MEMORIAL HOSPITAL                   TX               0.0   \n",
       "WOMAN'S HOSPITAL                                   LA               0.0   \n",
       "WOMANS HOSPITAL OF TEXAS,THE                       TX               0.0   \n",
       "WOMEN AND INFANTS HOSPITAL OF RHODE ISLAND         RI               0.0   \n",
       "WOMEN'S HOSPITAL THE                               IN               0.0   \n",
       "WOODS AT PARKSIDE,THE                              OH               0.0   \n",
       "WRANGELL MEDICAL CENTER                            AK               0.0   \n",
       "WRAY COMMUNITY DISTRICT HOSPITAL                   CO               0.0   \n",
       "ZUNI COMPREHENSIVE COMMUNITY HEALTH CENTER         NM               0.0   \n",
       "\n",
       "Measure ID                                                READM_30_COPD  \\\n",
       "Hospital Name                                      State                  \n",
       "ACADIA ST LANDRY                                   LA               0.0   \n",
       "AD HOSPITAL EAST, LLC                              TX               0.0   \n",
       "ADAIR COUNTY MEMORIAL HOSPITAL                     IA               0.0   \n",
       "ADCARE HOSPITAL OF WORCESTER INC                   MA               0.0   \n",
       "ADMIN DE SERVICIOS MEDICOS  PUERTO RIC             PR               0.0   \n",
       "ADVANCED SURGICAL HOSPITAL                         PA               0.0   \n",
       "ADVENTIST HEALTH MEDICAL CENTER TEHACHAPI VALLEY   CA               0.0   \n",
       "ADVENTIST HEALTHCARE SHADY GROVE MEDICAL CENTER    MD               0.0   \n",
       "ADVENTIST HEALTHCARE WASHINGTON ADVENTIST HOSPITAL MD               0.0   \n",
       "ADVENTIST MEDICAL CENTER - REEDLEY                 CA              20.0   \n",
       "AKRON CHILDREN'S HOSPITAL                          OH               0.0   \n",
       "ALFRED I DUPONT HOSPITAL FOR CHILDREN              DE               0.0   \n",
       "ALICE PECK DAY MEMORIAL HOSPITAL                   NH              19.4   \n",
       "ALL CHILDREN'S HOSPITAL, INC                       FL               0.0   \n",
       "ALLEGIANCE SPECIALTY HOSPITAL OF KILGORE           TX               0.0   \n",
       "ALLEN PARISH HOSPITAL                              LA               0.0   \n",
       "ALLENDALE COUNTY HOSPITAL                          SC               0.0   \n",
       "ALLIANCE HEALTH CENTER                             MS               0.0   \n",
       "ALTUS BAYTOWN HOSPITAL                             TX               0.0   \n",
       "ANAHEIM GLOBAL MEDICAL CENTER                      CA               0.0   \n",
       "ANDERSON COUNTY HOSPITAL                           KS               0.0   \n",
       "ANDERSON RMC SOUTH                                 MS               0.0   \n",
       "ANIMAS SURGICAL HOSPITAL, LLC                      CO               0.0   \n",
       "ANN & ROBERT H LURIE CHILDRENS HOSPITAL OF CHICAGO IL               0.0   \n",
       "ANNE ARUNDEL MEDICAL CENTER                        MD               0.0   \n",
       "ANNE BATES LEACH EYE HOSPITAL                      FL               0.0   \n",
       "ANNIE JEFFREY MEMORIAL COUNTY HEALTH CENTER        NE               0.0   \n",
       "ANSON GENERAL HOSPITAL                             TX              20.7   \n",
       "ANTELOPE MEMORIAL HOSPITAL                         NE              19.8   \n",
       "APPLETON MUNICIPAL HOSPITAL                        MN               0.0   \n",
       "...                                                                 ...   \n",
       "WELLMONT HANCOCK COUNTY HOSPITAL                   TN               0.0   \n",
       "WELLSPAN SURGERY AND REHABILITATION HOSPITAL       PA               0.0   \n",
       "WELLSTAR SYLVAN GROVE HOSPITAL                     GA               0.0   \n",
       "WEST COVINA MEDICAL CENTER, INC                    CA               0.0   \n",
       "WEST FELICIANA PARISH HOSPITAL                     LA               0.0   \n",
       "WEST HOLT MEMORIAL HOSPITAL                        NE              19.6   \n",
       "WEST VALLEY HOSPITAL                               OR               0.0   \n",
       "WESTERN MARYLAND REGIONAL MEDICAL CENTER           MD               0.0   \n",
       "WESTFIELD MEMORIAL HOSPITAL, INC                   NY               0.0   \n",
       "WESTON COUNTY HEALTH SERVICES                      WY               0.0   \n",
       "WHEATLAND MEMORIAL HOSPITAL                        MT               0.0   \n",
       "WHITE MOUNTAIN REGIONAL MEDICAL CENTER             AZ               0.0   \n",
       "WHITERIVER PHS INDIAN HOSPITAL                     AZ               0.0   \n",
       "WHITFIELD MEDICAL SURGICAL HOSPITAL                MS               0.0   \n",
       "WICHITA COUNTY HEALTH CENTER                       KS               0.0   \n",
       "WICKENBURG COMMUNITY HOSPITAL                      AZ              18.7   \n",
       "WILBARGER GENERAL HOSPITAL                         TX               0.0   \n",
       "WILLAPA HARBOR HOSPITAL                            WA              19.6   \n",
       "WILMINGTON TREATMENT CENTER                        NC               0.0   \n",
       "WILSON MEDICAL CENTER                              KS              19.8   \n",
       "WINDOM AREA HOSPITAL                               MN               0.0   \n",
       "WINKLER COUNTY MEMORIAL HOSPITAL                   TX               0.0   \n",
       "WOMAN'S HOSPITAL                                   LA               0.0   \n",
       "WOMANS HOSPITAL OF TEXAS,THE                       TX               0.0   \n",
       "WOMEN AND INFANTS HOSPITAL OF RHODE ISLAND         RI               0.0   \n",
       "WOMEN'S HOSPITAL THE                               IN               0.0   \n",
       "WOODS AT PARKSIDE,THE                              OH               0.0   \n",
       "WRANGELL MEDICAL CENTER                            AK               0.0   \n",
       "WRAY COMMUNITY DISTRICT HOSPITAL                   CO               0.0   \n",
       "ZUNI COMPREHENSIVE COMMUNITY HEALTH CENTER         NM               0.0   \n",
       "\n",
       "Measure ID                                                READM_30_HF  \\\n",
       "Hospital Name                                      State                \n",
       "ACADIA ST LANDRY                                   LA             0.0   \n",
       "AD HOSPITAL EAST, LLC                              TX             0.0   \n",
       "ADAIR COUNTY MEMORIAL HOSPITAL                     IA             0.0   \n",
       "ADCARE HOSPITAL OF WORCESTER INC                   MA             0.0   \n",
       "ADMIN DE SERVICIOS MEDICOS  PUERTO RIC             PR             0.0   \n",
       "ADVANCED SURGICAL HOSPITAL                         PA             0.0   \n",
       "ADVENTIST HEALTH MEDICAL CENTER TEHACHAPI VALLEY   CA             0.0   \n",
       "ADVENTIST HEALTHCARE SHADY GROVE MEDICAL CENTER    MD             0.0   \n",
       "ADVENTIST HEALTHCARE WASHINGTON ADVENTIST HOSPITAL MD             0.0   \n",
       "ADVENTIST MEDICAL CENTER - REEDLEY                 CA             0.0   \n",
       "AKRON CHILDREN'S HOSPITAL                          OH             0.0   \n",
       "ALFRED I DUPONT HOSPITAL FOR CHILDREN              DE             0.0   \n",
       "ALICE PECK DAY MEMORIAL HOSPITAL                   NH             0.0   \n",
       "ALL CHILDREN'S HOSPITAL, INC                       FL             0.0   \n",
       "ALLEGIANCE SPECIALTY HOSPITAL OF KILGORE           TX             0.0   \n",
       "ALLEN PARISH HOSPITAL                              LA             0.0   \n",
       "ALLENDALE COUNTY HOSPITAL                          SC             0.0   \n",
       "ALLIANCE HEALTH CENTER                             MS             0.0   \n",
       "ALTUS BAYTOWN HOSPITAL                             TX             0.0   \n",
       "ANAHEIM GLOBAL MEDICAL CENTER                      CA             0.0   \n",
       "ANDERSON COUNTY HOSPITAL                           KS             0.0   \n",
       "ANDERSON RMC SOUTH                                 MS             0.0   \n",
       "ANIMAS SURGICAL HOSPITAL, LLC                      CO             0.0   \n",
       "ANN & ROBERT H LURIE CHILDRENS HOSPITAL OF CHICAGO IL             0.0   \n",
       "ANNE ARUNDEL MEDICAL CENTER                        MD             0.0   \n",
       "ANNE BATES LEACH EYE HOSPITAL                      FL             0.0   \n",
       "ANNIE JEFFREY MEMORIAL COUNTY HEALTH CENTER        NE             0.0   \n",
       "ANSON GENERAL HOSPITAL                             TX             0.0   \n",
       "ANTELOPE MEMORIAL HOSPITAL                         NE             0.0   \n",
       "APPLETON MUNICIPAL HOSPITAL                        MN             0.0   \n",
       "...                                                               ...   \n",
       "WELLMONT HANCOCK COUNTY HOSPITAL                   TN             0.0   \n",
       "WELLSPAN SURGERY AND REHABILITATION HOSPITAL       PA             0.0   \n",
       "WELLSTAR SYLVAN GROVE HOSPITAL                     GA             0.0   \n",
       "WEST COVINA MEDICAL CENTER, INC                    CA             0.0   \n",
       "WEST FELICIANA PARISH HOSPITAL                     LA             0.0   \n",
       "WEST HOLT MEMORIAL HOSPITAL                        NE             0.0   \n",
       "WEST VALLEY HOSPITAL                               OR             0.0   \n",
       "WESTERN MARYLAND REGIONAL MEDICAL CENTER           MD             0.0   \n",
       "WESTFIELD MEMORIAL HOSPITAL, INC                   NY             0.0   \n",
       "WESTON COUNTY HEALTH SERVICES                      WY             0.0   \n",
       "WHEATLAND MEMORIAL HOSPITAL                        MT             0.0   \n",
       "WHITE MOUNTAIN REGIONAL MEDICAL CENTER             AZ             0.0   \n",
       "WHITERIVER PHS INDIAN HOSPITAL                     AZ             0.0   \n",
       "WHITFIELD MEDICAL SURGICAL HOSPITAL                MS             0.0   \n",
       "WICHITA COUNTY HEALTH CENTER                       KS             0.0   \n",
       "WICKENBURG COMMUNITY HOSPITAL                      AZ             0.0   \n",
       "WILBARGER GENERAL HOSPITAL                         TX             0.0   \n",
       "WILLAPA HARBOR HOSPITAL                            WA             0.0   \n",
       "WILMINGTON TREATMENT CENTER                        NC             0.0   \n",
       "WILSON MEDICAL CENTER                              KS             0.0   \n",
       "WINDOM AREA HOSPITAL                               MN             0.0   \n",
       "WINKLER COUNTY MEMORIAL HOSPITAL                   TX             0.0   \n",
       "WOMAN'S HOSPITAL                                   LA             0.0   \n",
       "WOMANS HOSPITAL OF TEXAS,THE                       TX             0.0   \n",
       "WOMEN AND INFANTS HOSPITAL OF RHODE ISLAND         RI             0.0   \n",
       "WOMEN'S HOSPITAL THE                               IN             0.0   \n",
       "WOODS AT PARKSIDE,THE                              OH             0.0   \n",
       "WRANGELL MEDICAL CENTER                            AK             0.0   \n",
       "WRAY COMMUNITY DISTRICT HOSPITAL                   CO             0.0   \n",
       "ZUNI COMPREHENSIVE COMMUNITY HEALTH CENTER         NM             0.0   \n",
       "\n",
       "Measure ID                                                READM_30_HIP_KNEE  \\\n",
       "Hospital Name                                      State                      \n",
       "ACADIA ST LANDRY                                   LA                   0.0   \n",
       "AD HOSPITAL EAST, LLC                              TX                   0.0   \n",
       "ADAIR COUNTY MEMORIAL HOSPITAL                     IA                   0.0   \n",
       "ADCARE HOSPITAL OF WORCESTER INC                   MA                   0.0   \n",
       "ADMIN DE SERVICIOS MEDICOS  PUERTO RIC             PR                   0.0   \n",
       "ADVANCED SURGICAL HOSPITAL                         PA                   4.6   \n",
       "ADVENTIST HEALTH MEDICAL CENTER TEHACHAPI VALLEY   CA                   0.0   \n",
       "ADVENTIST HEALTHCARE SHADY GROVE MEDICAL CENTER    MD                   0.0   \n",
       "ADVENTIST HEALTHCARE WASHINGTON ADVENTIST HOSPITAL MD                   0.0   \n",
       "ADVENTIST MEDICAL CENTER - REEDLEY                 CA                   0.0   \n",
       "AKRON CHILDREN'S HOSPITAL                          OH                   0.0   \n",
       "ALFRED I DUPONT HOSPITAL FOR CHILDREN              DE                   0.0   \n",
       "ALICE PECK DAY MEMORIAL HOSPITAL                   NH                   4.8   \n",
       "ALL CHILDREN'S HOSPITAL, INC                       FL                   0.0   \n",
       "ALLEGIANCE SPECIALTY HOSPITAL OF KILGORE           TX                   0.0   \n",
       "ALLEN PARISH HOSPITAL                              LA                   0.0   \n",
       "ALLENDALE COUNTY HOSPITAL                          SC                   0.0   \n",
       "ALLIANCE HEALTH CENTER                             MS                   0.0   \n",
       "ALTUS BAYTOWN HOSPITAL                             TX                   0.0   \n",
       "ANAHEIM GLOBAL MEDICAL CENTER                      CA                   0.0   \n",
       "ANDERSON COUNTY HOSPITAL                           KS                   0.0   \n",
       "ANDERSON RMC SOUTH                                 MS                   0.0   \n",
       "ANIMAS SURGICAL HOSPITAL, LLC                      CO                   3.9   \n",
       "ANN & ROBERT H LURIE CHILDRENS HOSPITAL OF CHICAGO IL                   0.0   \n",
       "ANNE ARUNDEL MEDICAL CENTER                        MD                   0.0   \n",
       "ANNE BATES LEACH EYE HOSPITAL                      FL                   0.0   \n",
       "ANNIE JEFFREY MEMORIAL COUNTY HEALTH CENTER        NE                   0.0   \n",
       "ANSON GENERAL HOSPITAL                             TX                   0.0   \n",
       "ANTELOPE MEMORIAL HOSPITAL                         NE                   0.0   \n",
       "APPLETON MUNICIPAL HOSPITAL                        MN                   0.0   \n",
       "...                                                                     ...   \n",
       "WELLMONT HANCOCK COUNTY HOSPITAL                   TN                   0.0   \n",
       "WELLSPAN SURGERY AND REHABILITATION HOSPITAL       PA                   5.5   \n",
       "WELLSTAR SYLVAN GROVE HOSPITAL                     GA                   0.0   \n",
       "WEST COVINA MEDICAL CENTER, INC                    CA                   4.4   \n",
       "WEST FELICIANA PARISH HOSPITAL                     LA                   0.0   \n",
       "WEST HOLT MEMORIAL HOSPITAL                        NE                   0.0   \n",
       "WEST VALLEY HOSPITAL                               OR                   0.0   \n",
       "WESTERN MARYLAND REGIONAL MEDICAL CENTER           MD                   0.0   \n",
       "WESTFIELD MEMORIAL HOSPITAL, INC                   NY                   0.0   \n",
       "WESTON COUNTY HEALTH SERVICES                      WY                   0.0   \n",
       "WHEATLAND MEMORIAL HOSPITAL                        MT                   0.0   \n",
       "WHITE MOUNTAIN REGIONAL MEDICAL CENTER             AZ                   0.0   \n",
       "WHITERIVER PHS INDIAN HOSPITAL                     AZ                   0.0   \n",
       "WHITFIELD MEDICAL SURGICAL HOSPITAL                MS                   0.0   \n",
       "WICHITA COUNTY HEALTH CENTER                       KS                   0.0   \n",
       "WICKENBURG COMMUNITY HOSPITAL                      AZ                   0.0   \n",
       "WILBARGER GENERAL HOSPITAL                         TX                   0.0   \n",
       "WILLAPA HARBOR HOSPITAL                            WA                   0.0   \n",
       "WILMINGTON TREATMENT CENTER                        NC                   0.0   \n",
       "WILSON MEDICAL CENTER                              KS                   0.0   \n",
       "WINDOM AREA HOSPITAL                               MN                   0.0   \n",
       "WINKLER COUNTY MEMORIAL HOSPITAL                   TX                   0.0   \n",
       "WOMAN'S HOSPITAL                                   LA                   0.0   \n",
       "WOMANS HOSPITAL OF TEXAS,THE                       TX                   0.0   \n",
       "WOMEN AND INFANTS HOSPITAL OF RHODE ISLAND         RI                   0.0   \n",
       "WOMEN'S HOSPITAL THE                               IN                   0.0   \n",
       "WOODS AT PARKSIDE,THE                              OH                   0.0   \n",
       "WRANGELL MEDICAL CENTER                            AK                   0.0   \n",
       "WRAY COMMUNITY DISTRICT HOSPITAL                   CO                   4.5   \n",
       "ZUNI COMPREHENSIVE COMMUNITY HEALTH CENTER         NM                   0.0   \n",
       "\n",
       "Measure ID                                                READM_30_HOSP_WIDE  \\\n",
       "Hospital Name                                      State                       \n",
       "ACADIA ST LANDRY                                   LA                    0.0   \n",
       "AD HOSPITAL EAST, LLC                              TX                    0.0   \n",
       "ADAIR COUNTY MEMORIAL HOSPITAL                     IA                   15.5   \n",
       "ADCARE HOSPITAL OF WORCESTER INC                   MA                   17.4   \n",
       "ADMIN DE SERVICIOS MEDICOS  PUERTO RIC             PR                    0.0   \n",
       "ADVANCED SURGICAL HOSPITAL                         PA                   16.4   \n",
       "ADVENTIST HEALTH MEDICAL CENTER TEHACHAPI VALLEY   CA                   15.4   \n",
       "ADVENTIST HEALTHCARE SHADY GROVE MEDICAL CENTER    MD                    0.0   \n",
       "ADVENTIST HEALTHCARE WASHINGTON ADVENTIST HOSPITAL MD                    0.0   \n",
       "ADVENTIST MEDICAL CENTER - REEDLEY                 CA                   15.2   \n",
       "AKRON CHILDREN'S HOSPITAL                          OH                    0.0   \n",
       "ALFRED I DUPONT HOSPITAL FOR CHILDREN              DE                    0.0   \n",
       "ALICE PECK DAY MEMORIAL HOSPITAL                   NH                   16.4   \n",
       "ALL CHILDREN'S HOSPITAL, INC                       FL                    0.0   \n",
       "ALLEGIANCE SPECIALTY HOSPITAL OF KILGORE           TX                    0.0   \n",
       "ALLEN PARISH HOSPITAL                              LA                   15.3   \n",
       "ALLENDALE COUNTY HOSPITAL                          SC                   15.5   \n",
       "ALLIANCE HEALTH CENTER                             MS                    0.0   \n",
       "ALTUS BAYTOWN HOSPITAL                             TX                    0.0   \n",
       "ANAHEIM GLOBAL MEDICAL CENTER                      CA                   15.8   \n",
       "ANDERSON COUNTY HOSPITAL                           KS                   15.9   \n",
       "ANDERSON RMC SOUTH                                 MS                    0.0   \n",
       "ANIMAS SURGICAL HOSPITAL, LLC                      CO                   14.3   \n",
       "ANN & ROBERT H LURIE CHILDRENS HOSPITAL OF CHICAGO IL                    0.0   \n",
       "ANNE ARUNDEL MEDICAL CENTER                        MD                    0.0   \n",
       "ANNE BATES LEACH EYE HOSPITAL                      FL                    0.0   \n",
       "ANNIE JEFFREY MEMORIAL COUNTY HEALTH CENTER        NE                   16.0   \n",
       "ANSON GENERAL HOSPITAL                             TX                   16.8   \n",
       "ANTELOPE MEMORIAL HOSPITAL                         NE                   15.1   \n",
       "APPLETON MUNICIPAL HOSPITAL                        MN                    0.0   \n",
       "...                                                                      ...   \n",
       "WELLMONT HANCOCK COUNTY HOSPITAL                   TN                   15.7   \n",
       "WELLSPAN SURGERY AND REHABILITATION HOSPITAL       PA                   17.2   \n",
       "WELLSTAR SYLVAN GROVE HOSPITAL                     GA                   15.7   \n",
       "WEST COVINA MEDICAL CENTER, INC                    CA                   15.3   \n",
       "WEST FELICIANA PARISH HOSPITAL                     LA                    0.0   \n",
       "WEST HOLT MEMORIAL HOSPITAL                        NE                   15.1   \n",
       "WEST VALLEY HOSPITAL                               OR                   15.2   \n",
       "WESTERN MARYLAND REGIONAL MEDICAL CENTER           MD                    0.0   \n",
       "WESTFIELD MEMORIAL HOSPITAL, INC                   NY                    0.0   \n",
       "WESTON COUNTY HEALTH SERVICES                      WY                   15.2   \n",
       "WHEATLAND MEMORIAL HOSPITAL                        MT                    0.0   \n",
       "WHITE MOUNTAIN REGIONAL MEDICAL CENTER             AZ                   15.3   \n",
       "WHITERIVER PHS INDIAN HOSPITAL                     AZ                   15.6   \n",
       "WHITFIELD MEDICAL SURGICAL HOSPITAL                MS                    0.0   \n",
       "WICHITA COUNTY HEALTH CENTER                       KS                   15.4   \n",
       "WICKENBURG COMMUNITY HOSPITAL                      AZ                   15.9   \n",
       "WILBARGER GENERAL HOSPITAL                         TX                   14.9   \n",
       "WILLAPA HARBOR HOSPITAL                            WA                   15.5   \n",
       "WILMINGTON TREATMENT CENTER                        NC                    0.0   \n",
       "WILSON MEDICAL CENTER                              KS                   15.4   \n",
       "WINDOM AREA HOSPITAL                               MN                   15.8   \n",
       "WINKLER COUNTY MEMORIAL HOSPITAL                   TX                    0.0   \n",
       "WOMAN'S HOSPITAL                                   LA                   15.6   \n",
       "WOMANS HOSPITAL OF TEXAS,THE                       TX                   15.5   \n",
       "WOMEN AND INFANTS HOSPITAL OF RHODE ISLAND         RI                   15.4   \n",
       "WOMEN'S HOSPITAL THE                               IN                    0.0   \n",
       "WOODS AT PARKSIDE,THE                              OH                    0.0   \n",
       "WRANGELL MEDICAL CENTER                            AK                   15.4   \n",
       "WRAY COMMUNITY DISTRICT HOSPITAL                   CO                   15.3   \n",
       "ZUNI COMPREHENSIVE COMMUNITY HEALTH CENTER         NM                   15.4   \n",
       "\n",
       "Measure ID                                                READM_30_PN  \\\n",
       "Hospital Name                                      State                \n",
       "ACADIA ST LANDRY                                   LA             0.0   \n",
       "AD HOSPITAL EAST, LLC                              TX             0.0   \n",
       "ADAIR COUNTY MEMORIAL HOSPITAL                     IA            16.0   \n",
       "ADCARE HOSPITAL OF WORCESTER INC                   MA             0.0   \n",
       "ADMIN DE SERVICIOS MEDICOS  PUERTO RIC             PR             0.0   \n",
       "ADVANCED SURGICAL HOSPITAL                         PA             0.0   \n",
       "ADVENTIST HEALTH MEDICAL CENTER TEHACHAPI VALLEY   CA            17.0   \n",
       "ADVENTIST HEALTHCARE SHADY GROVE MEDICAL CENTER    MD             0.0   \n",
       "ADVENTIST HEALTHCARE WASHINGTON ADVENTIST HOSPITAL MD             0.0   \n",
       "ADVENTIST MEDICAL CENTER - REEDLEY                 CA            16.8   \n",
       "AKRON CHILDREN'S HOSPITAL                          OH             0.0   \n",
       "ALFRED I DUPONT HOSPITAL FOR CHILDREN              DE             0.0   \n",
       "ALICE PECK DAY MEMORIAL HOSPITAL                   NH            17.2   \n",
       "ALL CHILDREN'S HOSPITAL, INC                       FL             0.0   \n",
       "ALLEGIANCE SPECIALTY HOSPITAL OF KILGORE           TX             0.0   \n",
       "ALLEN PARISH HOSPITAL                              LA            16.6   \n",
       "ALLENDALE COUNTY HOSPITAL                          SC            17.0   \n",
       "ALLIANCE HEALTH CENTER                             MS             0.0   \n",
       "ALTUS BAYTOWN HOSPITAL                             TX             0.0   \n",
       "ANAHEIM GLOBAL MEDICAL CENTER                      CA            17.7   \n",
       "ANDERSON COUNTY HOSPITAL                           KS            16.9   \n",
       "ANDERSON RMC SOUTH                                 MS             0.0   \n",
       "ANIMAS SURGICAL HOSPITAL, LLC                      CO             0.0   \n",
       "ANN & ROBERT H LURIE CHILDRENS HOSPITAL OF CHICAGO IL             0.0   \n",
       "ANNE ARUNDEL MEDICAL CENTER                        MD             0.0   \n",
       "ANNE BATES LEACH EYE HOSPITAL                      FL             0.0   \n",
       "ANNIE JEFFREY MEMORIAL COUNTY HEALTH CENTER        NE            16.5   \n",
       "ANSON GENERAL HOSPITAL                             TX            18.0   \n",
       "ANTELOPE MEMORIAL HOSPITAL                         NE            14.9   \n",
       "APPLETON MUNICIPAL HOSPITAL                        MN             0.0   \n",
       "...                                                               ...   \n",
       "WELLMONT HANCOCK COUNTY HOSPITAL                   TN            16.9   \n",
       "WELLSPAN SURGERY AND REHABILITATION HOSPITAL       PA             0.0   \n",
       "WELLSTAR SYLVAN GROVE HOSPITAL                     GA             0.0   \n",
       "WEST COVINA MEDICAL CENTER, INC                    CA             0.0   \n",
       "WEST FELICIANA PARISH HOSPITAL                     LA             0.0   \n",
       "WEST HOLT MEMORIAL HOSPITAL                        NE            17.3   \n",
       "WEST VALLEY HOSPITAL                               OR            15.8   \n",
       "WESTERN MARYLAND REGIONAL MEDICAL CENTER           MD             0.0   \n",
       "WESTFIELD MEMORIAL HOSPITAL, INC                   NY             0.0   \n",
       "WESTON COUNTY HEALTH SERVICES                      WY             0.0   \n",
       "WHEATLAND MEMORIAL HOSPITAL                        MT             0.0   \n",
       "WHITE MOUNTAIN REGIONAL MEDICAL CENTER             AZ            16.5   \n",
       "WHITERIVER PHS INDIAN HOSPITAL                     AZ            16.7   \n",
       "WHITFIELD MEDICAL SURGICAL HOSPITAL                MS            16.0   \n",
       "WICHITA COUNTY HEALTH CENTER                       KS             0.0   \n",
       "WICKENBURG COMMUNITY HOSPITAL                      AZ            16.7   \n",
       "WILBARGER GENERAL HOSPITAL                         TX            15.0   \n",
       "WILLAPA HARBOR HOSPITAL                            WA            16.9   \n",
       "WILMINGTON TREATMENT CENTER                        NC             0.0   \n",
       "WILSON MEDICAL CENTER                              KS            16.8   \n",
       "WINDOM AREA HOSPITAL                               MN            16.0   \n",
       "WINKLER COUNTY MEMORIAL HOSPITAL                   TX             0.0   \n",
       "WOMAN'S HOSPITAL                                   LA             0.0   \n",
       "WOMANS HOSPITAL OF TEXAS,THE                       TX             0.0   \n",
       "WOMEN AND INFANTS HOSPITAL OF RHODE ISLAND         RI             0.0   \n",
       "WOMEN'S HOSPITAL THE                               IN             0.0   \n",
       "WOODS AT PARKSIDE,THE                              OH             0.0   \n",
       "WRANGELL MEDICAL CENTER                            AK             0.0   \n",
       "WRAY COMMUNITY DISTRICT HOSPITAL                   CO            17.4   \n",
       "ZUNI COMPREHENSIVE COMMUNITY HEALTH CENTER         NM            17.3   \n",
       "\n",
       "Measure ID                                                READM_30_STK  \n",
       "Hospital Name                                      State                \n",
       "ACADIA ST LANDRY                                   LA              0.0  \n",
       "AD HOSPITAL EAST, LLC                              TX              0.0  \n",
       "ADAIR COUNTY MEMORIAL HOSPITAL                     IA              0.0  \n",
       "ADCARE HOSPITAL OF WORCESTER INC                   MA              0.0  \n",
       "ADMIN DE SERVICIOS MEDICOS  PUERTO RIC             PR              0.0  \n",
       "ADVANCED SURGICAL HOSPITAL                         PA              0.0  \n",
       "ADVENTIST HEALTH MEDICAL CENTER TEHACHAPI VALLEY   CA              0.0  \n",
       "ADVENTIST HEALTHCARE SHADY GROVE MEDICAL CENTER    MD              0.0  \n",
       "ADVENTIST HEALTHCARE WASHINGTON ADVENTIST HOSPITAL MD              0.0  \n",
       "ADVENTIST MEDICAL CENTER - REEDLEY                 CA              0.0  \n",
       "AKRON CHILDREN'S HOSPITAL                          OH              0.0  \n",
       "ALFRED I DUPONT HOSPITAL FOR CHILDREN              DE              0.0  \n",
       "ALICE PECK DAY MEMORIAL HOSPITAL                   NH              0.0  \n",
       "ALL CHILDREN'S HOSPITAL, INC                       FL              0.0  \n",
       "ALLEGIANCE SPECIALTY HOSPITAL OF KILGORE           TX              0.0  \n",
       "ALLEN PARISH HOSPITAL                              LA              0.0  \n",
       "ALLENDALE COUNTY HOSPITAL                          SC              0.0  \n",
       "ALLIANCE HEALTH CENTER                             MS              0.0  \n",
       "ALTUS BAYTOWN HOSPITAL                             TX              0.0  \n",
       "ANAHEIM GLOBAL MEDICAL CENTER                      CA              0.0  \n",
       "ANDERSON COUNTY HOSPITAL                           KS              0.0  \n",
       "ANDERSON RMC SOUTH                                 MS              0.0  \n",
       "ANIMAS SURGICAL HOSPITAL, LLC                      CO              0.0  \n",
       "ANN & ROBERT H LURIE CHILDRENS HOSPITAL OF CHICAGO IL              0.0  \n",
       "ANNE ARUNDEL MEDICAL CENTER                        MD              0.0  \n",
       "ANNE BATES LEACH EYE HOSPITAL                      FL              0.0  \n",
       "ANNIE JEFFREY MEMORIAL COUNTY HEALTH CENTER        NE              0.0  \n",
       "ANSON GENERAL HOSPITAL                             TX              0.0  \n",
       "ANTELOPE MEMORIAL HOSPITAL                         NE              0.0  \n",
       "APPLETON MUNICIPAL HOSPITAL                        MN              0.0  \n",
       "...                                                                ...  \n",
       "WELLMONT HANCOCK COUNTY HOSPITAL                   TN              0.0  \n",
       "WELLSPAN SURGERY AND REHABILITATION HOSPITAL       PA              0.0  \n",
       "WELLSTAR SYLVAN GROVE HOSPITAL                     GA              0.0  \n",
       "WEST COVINA MEDICAL CENTER, INC                    CA              0.0  \n",
       "WEST FELICIANA PARISH HOSPITAL                     LA              0.0  \n",
       "WEST HOLT MEMORIAL HOSPITAL                        NE              0.0  \n",
       "WEST VALLEY HOSPITAL                               OR              0.0  \n",
       "WESTERN MARYLAND REGIONAL MEDICAL CENTER           MD              0.0  \n",
       "WESTFIELD MEMORIAL HOSPITAL, INC                   NY              0.0  \n",
       "WESTON COUNTY HEALTH SERVICES                      WY              0.0  \n",
       "WHEATLAND MEMORIAL HOSPITAL                        MT              0.0  \n",
       "WHITE MOUNTAIN REGIONAL MEDICAL CENTER             AZ              0.0  \n",
       "WHITERIVER PHS INDIAN HOSPITAL                     AZ              0.0  \n",
       "WHITFIELD MEDICAL SURGICAL HOSPITAL                MS              0.0  \n",
       "WICHITA COUNTY HEALTH CENTER                       KS              0.0  \n",
       "WICKENBURG COMMUNITY HOSPITAL                      AZ              0.0  \n",
       "WILBARGER GENERAL HOSPITAL                         TX              0.0  \n",
       "WILLAPA HARBOR HOSPITAL                            WA              0.0  \n",
       "WILMINGTON TREATMENT CENTER                        NC              0.0  \n",
       "WILSON MEDICAL CENTER                              KS              0.0  \n",
       "WINDOM AREA HOSPITAL                               MN              0.0  \n",
       "WINKLER COUNTY MEMORIAL HOSPITAL                   TX              0.0  \n",
       "WOMAN'S HOSPITAL                                   LA              0.0  \n",
       "WOMANS HOSPITAL OF TEXAS,THE                       TX              0.0  \n",
       "WOMEN AND INFANTS HOSPITAL OF RHODE ISLAND         RI              0.0  \n",
       "WOMEN'S HOSPITAL THE                               IN              0.0  \n",
       "WOODS AT PARKSIDE,THE                              OH              0.0  \n",
       "WRANGELL MEDICAL CENTER                            AK              0.0  \n",
       "WRAY COMMUNITY DISTRICT HOSPITAL                   CO              0.0  \n",
       "ZUNI COMPREHENSIVE COMMUNITY HEALTH CENTER         NM              0.0  \n",
       "\n",
       "[1152 rows x 8 columns]"
      ]
     },
     "execution_count": 1134,
     "metadata": {},
     "output_type": "execute_result"
    }
   ],
   "source": [
    "r[r['READM_30_HF'] == 0 ] #There are some 0 values here but it is unclear if the 0s are missing values or 0s"
   ]
  },
  {
   "cell_type": "code",
   "execution_count": 1139,
   "metadata": {
    "collapsed": false
   },
   "outputs": [
    {
     "data": {
      "image/png": "[encoded data removed]",
      "text/plain": [
       "<matplotlib.figure.Figure at 0x12bc63c10>"
      ]
     },
     "metadata": {},
     "output_type": "display_data"
    }
   ],
   "source": [
    "# is this a normal dist? #Are the 0s real 0s or missing values?\n",
    "plt.hist(r[r['READM_30_HF'] > 0].READM_30_HF)\n",
    "plt.title('Histogram of Readmission Rates-HF , excluding 0')\n",
    "plt.show()"
   ]
  },
  {
   "cell_type": "code",
   "execution_count": 1140,
   "metadata": {
    "collapsed": false
   },
   "outputs": [
    {
     "data": {
      "text/plain": [
       "(0.9685484170913696, 1.6758338818199593e-27)"
      ]
     },
     "execution_count": 1140,
     "metadata": {},
     "output_type": "execute_result"
    }
   ],
   "source": [
    "#is it normal?\n",
    "from scipy import stats\n",
    "stats.shapiro(r[r['READM_30_HF'] > 0].READM_30_HF) #Yes data is normal without the 0s."
   ]
  },
  {
   "cell_type": "code",
   "execution_count": 1141,
   "metadata": {
    "collapsed": false
   },
   "outputs": [
    {
     "data": {
      "text/plain": [
       "(0.65406334400177, 0.0)"
      ]
     },
     "execution_count": 1141,
     "metadata": {},
     "output_type": "execute_result"
    }
   ],
   "source": [
    "# Is data normal with the 0s?\n",
    "stats.shapiro(r['READM_30_HF']) #Still normal?"
   ]
  },
  {
   "cell_type": "code",
   "execution_count": 1176,
   "metadata": {
    "collapsed": false
   },
   "outputs": [
    {
     "name": "stdout",
     "output_type": "stream",
     "text": [
      "['AK', 'AL', 'AR', 'AS', 'AZ', 'CA', 'CO', 'CT', 'DC', 'DE', 'FL', 'GA', 'GU', 'HI', 'IA', 'ID', 'IL', 'IN', 'KS', 'KY', 'LA', 'MA', 'MD', 'ME', 'MI', 'MN', 'MO', 'MP', 'MS', 'MT', 'NC', 'ND', 'NE', 'NH', 'NJ', 'NM', 'NV', 'NY', 'OH', 'OK', 'OR', 'PA', 'PR', 'RI', 'SC', 'SD', 'TN', 'TX', 'UT', 'VA', 'VI', 'VT', 'WA', 'WI', 'WV', 'WY']\n"
     ]
    }
   ],
   "source": [
    "states = list(r.State.unique())\n",
    "states = sorted(states)\n",
    "print states #alpha order states"
   ]
  },
  {
   "cell_type": "code",
   "execution_count": 1188,
   "metadata": {
    "collapsed": true
   },
   "outputs": [],
   "source": [
    "states_cols = ['State','READM_30_HF']"
   ]
  },
  {
   "cell_type": "code",
   "execution_count": 1228,
   "metadata": {
    "collapsed": false
   },
   "outputs": [],
   "source": [
    "#creating dict of states for plotting\n",
    "states_df = r[states_cols].sort_values('State')\n",
    "state_hf_target = {}\n",
    "for i in states:\n",
    "    state_hf_target[i] = states_df[states_df['State'] == i].READM_30_HF"
   ]
  },
  {
   "cell_type": "code",
   "execution_count": 1217,
   "metadata": {
    "collapsed": true
   },
   "outputs": [],
   "source": [
    "state_hf_alpha = {}\n",
    "for i in states:\n",
    "    state_hf_alpha[i] = state_hf_target[i].mean()"
   ]
  },
  {
   "cell_type": "code",
   "execution_count": 1219,
   "metadata": {
    "collapsed": false
   },
   "outputs": [
    {
     "data": {
      "text/plain": [
       "8.831818181818182"
      ]
     },
     "execution_count": 1219,
     "metadata": {},
     "output_type": "execute_result"
    }
   ],
   "source": [
    "state_hf_alpha['AK']"
   ]
  },
  {
   "cell_type": "code",
   "execution_count": 1380,
   "metadata": {
    "collapsed": false
   },
   "outputs": [
    {
     "name": "stdout",
     "output_type": "stream",
     "text": [
      "There are 22 entries for AK.\n",
      "There are 89 entries for AL.\n",
      "There are 74 entries for AR.\n",
      "There are 1 entries for AS.\n",
      "There are 81 entries for AZ.\n",
      "There are 337 entries for CA.\n",
      "There are 78 entries for CO.\n",
      "There are 31 entries for CT.\n",
      "There are 8 entries for DC.\n",
      "There are 7 entries for DE.\n",
      "There are 186 entries for FL.\n",
      "There are 134 entries for GA.\n",
      "There are 2 entries for GU.\n",
      "There are 23 entries for HI.\n",
      "There are 116 entries for IA.\n",
      "There are 41 entries for ID.\n",
      "There are 178 entries for IL.\n",
      "There are 120 entries for IN.\n",
      "There are 137 entries for KS.\n",
      "There are 94 entries for KY.\n",
      "There are 122 entries for LA.\n",
      "There are 64 entries for MA.\n",
      "There are 49 entries for MD.\n",
      "There are 33 entries for ME.\n",
      "There are 131 entries for MI.\n",
      "There are 130 entries for MN.\n",
      "There are 114 entries for MO.\n",
      "There are 1 entries for MP.\n",
      "There are 96 entries for MS.\n",
      "There are 61 entries for MT.\n",
      "There are 106 entries for NC.\n",
      "There are 44 entries for ND.\n",
      "There are 89 entries for NE.\n",
      "There are 26 entries for NH.\n",
      "There are 66 entries for NJ.\n",
      "There are 41 entries for NM.\n",
      "There are 33 entries for NV.\n",
      "There are 172 entries for NY.\n",
      "There are 165 entries for OH.\n",
      "There are 123 entries for OK.\n",
      "There are 60 entries for OR.\n",
      "There are 170 entries for PA.\n",
      "There are 52 entries for PR.\n",
      "There are 11 entries for RI.\n",
      "There are 60 entries for SC.\n",
      "There are 59 entries for SD.\n",
      "There are 109 entries for TN.\n",
      "There are 401 entries for TX.\n",
      "There are 46 entries for UT.\n",
      "There are 86 entries for VA.\n",
      "There are 2 entries for VI.\n",
      "There are 14 entries for VT.\n",
      "There are 90 entries for WA.\n",
      "There are 124 entries for WI.\n",
      "There are 49 entries for WV.\n",
      "There are 27 entries for WY.\n"
     ]
    }
   ],
   "source": [
    "for i in states:\n",
    "    print \"There are %s entries for %s.\" % (len(state_hf_target[i]), i)"
   ]
  },
  {
   "cell_type": "code",
   "execution_count": 1235,
   "metadata": {
    "collapsed": false
   },
   "outputs": [],
   "source": [
    "import operator\n",
    "sorted_dict = sorted(state_hf_alpha.items(), key=operator.itemgetter(1))\n",
    "#Sorting by value of target"
   ]
  },
  {
   "cell_type": "code",
   "execution_count": 1267,
   "metadata": {
    "collapsed": false
   },
   "outputs": [
    {
     "data": {
      "image/png": "[encoded data removed]",
      "text/plain": [
       "<matplotlib.figure.Figure at 0x1402b0850>"
      ]
     },
     "metadata": {},
     "output_type": "display_data"
    }
   ],
   "source": [
    "fig = plt.figure(figsize=(12,6))\n",
    "ax = fig.add_subplot(111)\n",
    "\n",
    "ind = np.arange(len(x_val))\n",
    "x_val = [x[0] for x in sorted_dict]\n",
    "y_val = [x[1] for x in sorted_dict]\n",
    "\n",
    "plt.bar(range(len(y_val)), y_val)\n",
    "xTickMarks = [i for i in x_val]\n",
    "ax.set_xticks(ind)\n",
    "xtickNames = ax.set_xticklabels(xTickMarks, fontsize=8)\n",
    "plt.setp(xtickNames, rotation=75, fontsize=10)\n",
    "plt.title('Readmission Rates by State')\n",
    "plt.show()"
   ]
  },
  {
   "cell_type": "code",
   "execution_count": 1367,
   "metadata": {
    "collapsed": false
   },
   "outputs": [
    {
     "data": {
      "text/plain": [
       "['AK',\n",
       " 'AL',\n",
       " 'AR',\n",
       " 'AS',\n",
       " 'AZ',\n",
       " 'CA',\n",
       " 'CO',\n",
       " 'CT',\n",
       " 'DC',\n",
       " 'DE',\n",
       " 'FL',\n",
       " 'GA',\n",
       " 'GU',\n",
       " 'HI',\n",
       " 'IA',\n",
       " 'ID',\n",
       " 'IL',\n",
       " 'IN',\n",
       " 'KS',\n",
       " 'KY',\n",
       " 'LA',\n",
       " 'MA',\n",
       " 'MD',\n",
       " 'ME',\n",
       " 'MI',\n",
       " 'MN',\n",
       " 'MO',\n",
       " 'MP',\n",
       " 'MS',\n",
       " 'MT',\n",
       " 'NC',\n",
       " 'ND',\n",
       " 'NE',\n",
       " 'NH',\n",
       " 'NJ',\n",
       " 'NM',\n",
       " 'NV',\n",
       " 'NY',\n",
       " 'OH',\n",
       " 'OK',\n",
       " 'OR',\n",
       " 'PA',\n",
       " 'PR',\n",
       " 'RI',\n",
       " 'SC',\n",
       " 'SD',\n",
       " 'TN',\n",
       " 'TX',\n",
       " 'UT',\n",
       " 'VA',\n",
       " 'VI',\n",
       " 'VT',\n",
       " 'WA',\n",
       " 'WI',\n",
       " 'WV',\n",
       " 'WY']"
      ]
     },
     "execution_count": 1367,
     "metadata": {},
     "output_type": "execute_result"
    }
   ],
   "source": [
    "states # Something weird is going on: 6 extra states (DC, GU, MP, PR, VI, AS)"
   ]
  },
  {
   "cell_type": "code",
   "execution_count": 1266,
   "metadata": {
    "collapsed": false
   },
   "outputs": [
    {
     "data": {
      "image/png": "[encoded data removed]",
      "text/plain": [
       "<matplotlib.figure.Figure at 0x1425b24d0>"
      ]
     },
     "metadata": {},
     "output_type": "display_data"
    }
   ],
   "source": [
    "#normalized values by state\n",
    "fig = plt.figure(figsize=(12,6))\n",
    "ax = fig.add_subplot(111)\n",
    "\n",
    "ind = np.arange(len(list1))\n",
    "wid = .3\n",
    "plt.bar(ind, list1)\n",
    "xTickMarks = [i for i in state]\n",
    "ax.set_xticks(ind)\n",
    "xtickNames = ax.set_xticklabels(xTickMarks, fontsize=8)\n",
    "plt.setp(xtickNames, rotation=75, fontsize=10)\n",
    "plt.title('Readmission rate by state')\n",
    "plt.ylabel('Readmission rate')\n",
    "plt.show()"
   ]
  },
  {
   "cell_type": "markdown",
   "metadata": {},
   "source": [
    "### Feature set 1 - Complications data after Hip/Knee\n",
    "#### Average complication rates"
   ]
  },
  {
   "cell_type": "code",
   "execution_count": 415,
   "metadata": {
    "collapsed": false
   },
   "outputs": [
    {
     "data": {
      "text/html": [
       "<div>\n",
       "<table border=\"1\" class=\"dataframe\">\n",
       "  <thead>\n",
       "    <tr style=\"text-align: right;\">\n",
       "      <th></th>\n",
       "      <th>Provider ID</th>\n",
       "      <th>Hospital Name</th>\n",
       "      <th>Address</th>\n",
       "      <th>City</th>\n",
       "      <th>State</th>\n",
       "      <th>ZIP Code</th>\n",
       "      <th>County Name</th>\n",
       "      <th>Phone Number</th>\n",
       "      <th>Measure Name</th>\n",
       "      <th>Measure ID</th>\n",
       "      <th>Compared to National</th>\n",
       "      <th>Denominator</th>\n",
       "      <th>Score</th>\n",
       "      <th>Lower Estimate</th>\n",
       "      <th>Higher Estimate</th>\n",
       "      <th>Footnote</th>\n",
       "      <th>Measure Start Date</th>\n",
       "      <th>Measure End Date</th>\n",
       "      <th>Location</th>\n",
       "    </tr>\n",
       "  </thead>\n",
       "  <tbody>\n",
       "    <tr>\n",
       "      <th>0</th>\n",
       "      <td>10001</td>\n",
       "      <td>SOUTHEAST ALABAMA MEDICAL CENTER</td>\n",
       "      <td>1108 ROSS CLARK CIRCLE</td>\n",
       "      <td>DOTHAN</td>\n",
       "      <td>AL</td>\n",
       "      <td>36301</td>\n",
       "      <td>HOUSTON</td>\n",
       "      <td>3347938701</td>\n",
       "      <td>Rate of complications for hip/knee replacement...</td>\n",
       "      <td>COMP_HIP_KNEE</td>\n",
       "      <td>No Different than the National Rate</td>\n",
       "      <td>331</td>\n",
       "      <td>3.8</td>\n",
       "      <td>2.6</td>\n",
       "      <td>5.5</td>\n",
       "      <td>NaN</td>\n",
       "      <td>04/01/2012</td>\n",
       "      <td>03/31/2015</td>\n",
       "      <td>NaN</td>\n",
       "    </tr>\n",
       "    <tr>\n",
       "      <th>1</th>\n",
       "      <td>10001</td>\n",
       "      <td>SOUTHEAST ALABAMA MEDICAL CENTER</td>\n",
       "      <td>1108 ROSS CLARK CIRCLE</td>\n",
       "      <td>DOTHAN</td>\n",
       "      <td>AL</td>\n",
       "      <td>36301</td>\n",
       "      <td>HOUSTON</td>\n",
       "      <td>3347938701</td>\n",
       "      <td>Serious blood clots after surgery</td>\n",
       "      <td>PSI_12_POSTOP_PULMEMB_DVT</td>\n",
       "      <td>No Different than the National Rate</td>\n",
       "      <td>4549</td>\n",
       "      <td>3.32</td>\n",
       "      <td>1.25</td>\n",
       "      <td>5.38</td>\n",
       "      <td>NaN</td>\n",
       "      <td>07/01/2013</td>\n",
       "      <td>06/30/2015</td>\n",
       "      <td>NaN</td>\n",
       "    </tr>\n",
       "    <tr>\n",
       "      <th>2</th>\n",
       "      <td>10001</td>\n",
       "      <td>SOUTHEAST ALABAMA MEDICAL CENTER</td>\n",
       "      <td>1108 ROSS CLARK CIRCLE</td>\n",
       "      <td>DOTHAN</td>\n",
       "      <td>AL</td>\n",
       "      <td>36301</td>\n",
       "      <td>HOUSTON</td>\n",
       "      <td>3347938701</td>\n",
       "      <td>Blood stream infection after surgery</td>\n",
       "      <td>PSI_13_POST_SEPSIS</td>\n",
       "      <td>No Different than the National Rate</td>\n",
       "      <td>578</td>\n",
       "      <td>5.72</td>\n",
       "      <td>0.00</td>\n",
       "      <td>11.48</td>\n",
       "      <td>NaN</td>\n",
       "      <td>07/01/2013</td>\n",
       "      <td>06/30/2015</td>\n",
       "      <td>NaN</td>\n",
       "    </tr>\n",
       "    <tr>\n",
       "      <th>3</th>\n",
       "      <td>10001</td>\n",
       "      <td>SOUTHEAST ALABAMA MEDICAL CENTER</td>\n",
       "      <td>1108 ROSS CLARK CIRCLE</td>\n",
       "      <td>DOTHAN</td>\n",
       "      <td>AL</td>\n",
       "      <td>36301</td>\n",
       "      <td>HOUSTON</td>\n",
       "      <td>3347938701</td>\n",
       "      <td>A wound that splits open  after surgery on the...</td>\n",
       "      <td>PSI_14_POSTOP_DEHIS</td>\n",
       "      <td>No Different than the National Rate</td>\n",
       "      <td>445</td>\n",
       "      <td>2.72</td>\n",
       "      <td>0.65</td>\n",
       "      <td>4.79</td>\n",
       "      <td>NaN</td>\n",
       "      <td>07/01/2013</td>\n",
       "      <td>06/30/2015</td>\n",
       "      <td>NaN</td>\n",
       "    </tr>\n",
       "    <tr>\n",
       "      <th>4</th>\n",
       "      <td>10001</td>\n",
       "      <td>SOUTHEAST ALABAMA MEDICAL CENTER</td>\n",
       "      <td>1108 ROSS CLARK CIRCLE</td>\n",
       "      <td>DOTHAN</td>\n",
       "      <td>AL</td>\n",
       "      <td>36301</td>\n",
       "      <td>HOUSTON</td>\n",
       "      <td>3347938701</td>\n",
       "      <td>Accidental cuts and tears from medical treatment</td>\n",
       "      <td>PSI_15_ACC_LAC</td>\n",
       "      <td>No Different than the National Rate</td>\n",
       "      <td>16429</td>\n",
       "      <td>1.35</td>\n",
       "      <td>0.76</td>\n",
       "      <td>1.95</td>\n",
       "      <td>NaN</td>\n",
       "      <td>07/01/2013</td>\n",
       "      <td>06/30/2015</td>\n",
       "      <td>NaN</td>\n",
       "    </tr>\n",
       "  </tbody>\n",
       "</table>\n",
       "</div>"
      ],
      "text/plain": [
       "   Provider ID                     Hospital Name                 Address  \\\n",
       "0        10001  SOUTHEAST ALABAMA MEDICAL CENTER  1108 ROSS CLARK CIRCLE   \n",
       "1        10001  SOUTHEAST ALABAMA MEDICAL CENTER  1108 ROSS CLARK CIRCLE   \n",
       "2        10001  SOUTHEAST ALABAMA MEDICAL CENTER  1108 ROSS CLARK CIRCLE   \n",
       "3        10001  SOUTHEAST ALABAMA MEDICAL CENTER  1108 ROSS CLARK CIRCLE   \n",
       "4        10001  SOUTHEAST ALABAMA MEDICAL CENTER  1108 ROSS CLARK CIRCLE   \n",
       "\n",
       "     City State  ZIP Code County Name  Phone Number  \\\n",
       "0  DOTHAN    AL     36301     HOUSTON    3347938701   \n",
       "1  DOTHAN    AL     36301     HOUSTON    3347938701   \n",
       "2  DOTHAN    AL     36301     HOUSTON    3347938701   \n",
       "3  DOTHAN    AL     36301     HOUSTON    3347938701   \n",
       "4  DOTHAN    AL     36301     HOUSTON    3347938701   \n",
       "\n",
       "                                        Measure Name  \\\n",
       "0  Rate of complications for hip/knee replacement...   \n",
       "1                  Serious blood clots after surgery   \n",
       "2               Blood stream infection after surgery   \n",
       "3  A wound that splits open  after surgery on the...   \n",
       "4   Accidental cuts and tears from medical treatment   \n",
       "\n",
       "                  Measure ID                 Compared to National Denominator  \\\n",
       "0              COMP_HIP_KNEE  No Different than the National Rate         331   \n",
       "1  PSI_12_POSTOP_PULMEMB_DVT  No Different than the National Rate        4549   \n",
       "2         PSI_13_POST_SEPSIS  No Different than the National Rate         578   \n",
       "3        PSI_14_POSTOP_DEHIS  No Different than the National Rate         445   \n",
       "4             PSI_15_ACC_LAC  No Different than the National Rate       16429   \n",
       "\n",
       "  Score Lower Estimate Higher Estimate Footnote Measure Start Date  \\\n",
       "0   3.8            2.6             5.5      NaN         04/01/2012   \n",
       "1  3.32           1.25            5.38      NaN         07/01/2013   \n",
       "2  5.72           0.00           11.48      NaN         07/01/2013   \n",
       "3  2.72           0.65            4.79      NaN         07/01/2013   \n",
       "4  1.35           0.76            1.95      NaN         07/01/2013   \n",
       "\n",
       "  Measure End Date  Location  \n",
       "0       03/31/2015       NaN  \n",
       "1       06/30/2015       NaN  \n",
       "2       06/30/2015       NaN  \n",
       "3       06/30/2015       NaN  \n",
       "4       06/30/2015       NaN  "
      ]
     },
     "execution_count": 415,
     "metadata": {},
     "output_type": "execute_result"
    }
   ],
   "source": [
    "comp.head()"
   ]
  },
  {
   "cell_type": "code",
   "execution_count": 416,
   "metadata": {
    "collapsed": false
   },
   "outputs": [
    {
     "name": "stdout",
     "output_type": "stream",
     "text": [
      "<class 'pandas.core.frame.DataFrame'>\n",
      "RangeIndex: 52877 entries, 0 to 52876\n",
      "Data columns (total 19 columns):\n",
      "Provider ID             52877 non-null int64\n",
      "Hospital Name           52877 non-null object\n",
      "Address                 52877 non-null object\n",
      "City                    52877 non-null object\n",
      "State                   52877 non-null object\n",
      "ZIP Code                52877 non-null int64\n",
      "County Name             52712 non-null object\n",
      "Phone Number            52877 non-null int64\n",
      "Measure Name            52877 non-null object\n",
      "Measure ID              52877 non-null object\n",
      "Compared to National    52877 non-null object\n",
      "Denominator             52877 non-null object\n",
      "Score                   52877 non-null object\n",
      "Lower Estimate          52877 non-null object\n",
      "Higher Estimate         52877 non-null object\n",
      "Footnote                21804 non-null object\n",
      "Measure Start Date      52877 non-null object\n",
      "Measure End Date        52877 non-null object\n",
      "Location                0 non-null float64\n",
      "dtypes: float64(1), int64(3), object(15)\n",
      "memory usage: 7.7+ MB\n"
     ]
    }
   ],
   "source": [
    "comp.info() #Same problem here with the scores being objects and not floats"
   ]
  },
  {
   "cell_type": "code",
   "execution_count": 417,
   "metadata": {
    "collapsed": false
   },
   "outputs": [
    {
     "data": {
      "text/plain": [
       "0"
      ]
     },
     "execution_count": 417,
     "metadata": {},
     "output_type": "execute_result"
    }
   ],
   "source": [
    "len(comp[comp.Score == 0]) # No 0 values here, so I'm safe to assign Not Availables to 0 "
   ]
  },
  {
   "cell_type": "code",
   "execution_count": 418,
   "metadata": {
    "collapsed": false
   },
   "outputs": [],
   "source": [
    "comp['Score'].replace('Not Available', 0, inplace=True)"
   ]
  },
  {
   "cell_type": "code",
   "execution_count": 419,
   "metadata": {
    "collapsed": false
   },
   "outputs": [
    {
     "data": {
      "text/plain": [
       "Provider ID               int64\n",
       "Hospital Name            object\n",
       "Address                  object\n",
       "City                     object\n",
       "State                    object\n",
       "ZIP Code                  int64\n",
       "County Name              object\n",
       "Phone Number              int64\n",
       "Measure Name             object\n",
       "Measure ID               object\n",
       "Compared to National     object\n",
       "Denominator              object\n",
       "Score                   float64\n",
       "Lower Estimate           object\n",
       "Higher Estimate          object\n",
       "Footnote                 object\n",
       "Measure Start Date       object\n",
       "Measure End Date         object\n",
       "Location                float64\n",
       "dtype: object"
      ]
     },
     "execution_count": 419,
     "metadata": {},
     "output_type": "execute_result"
    }
   ],
   "source": [
    "comp['Score'] = comp['Score'].astype(float)\n",
    "comp.dtypes"
   ]
  },
  {
   "cell_type": "markdown",
   "metadata": {},
   "source": [
    "#### High and Low end complication rates"
   ]
  },
  {
   "cell_type": "code",
   "execution_count": 420,
   "metadata": {
    "collapsed": false
   },
   "outputs": [
    {
     "name": "stdout",
     "output_type": "stream",
     "text": [
      "'Not Available' appears 21801 times and 0 appears 0 times for Lower Estimates.\n"
     ]
    }
   ],
   "source": [
    "na = len(comp[comp['Lower Estimate'] == 'Not Available'])\n",
    "zero = len(comp[comp['Lower Estimate'] == 0]) \n",
    "print \"'Not Available' appears %s times and 0 appears %s times for Lower Estimates.\" % (na, zero)\n",
    "#Not Availables exists here too but there are no 0s"
   ]
  },
  {
   "cell_type": "code",
   "execution_count": 421,
   "metadata": {
    "collapsed": false
   },
   "outputs": [
    {
     "name": "stdout",
     "output_type": "stream",
     "text": [
      "'Not Available' appears 21801 times and 0 appears 0 times for Higher Estimates.\n"
     ]
    }
   ],
   "source": [
    "na_h = len(comp[comp['Higher Estimate'] == 'Not Available'])\n",
    "zero_h = len(comp[comp['Higher Estimate'] == 0]) \n",
    "print \"'Not Available' appears %s times and 0 appears %s times for Higher Estimates.\" % (na_h, zero_h)\n",
    "#Not Availables exists here too but there are no 0s"
   ]
  },
  {
   "cell_type": "code",
   "execution_count": 422,
   "metadata": {
    "collapsed": false
   },
   "outputs": [],
   "source": [
    "comp['Lower Estimate'] = comp['Lower Estimate'].replace('Not Available', 0)"
   ]
  },
  {
   "cell_type": "code",
   "execution_count": 423,
   "metadata": {
    "collapsed": false
   },
   "outputs": [
    {
     "data": {
      "text/plain": [
       "dtype('float64')"
      ]
     },
     "execution_count": 423,
     "metadata": {},
     "output_type": "execute_result"
    }
   ],
   "source": [
    "comp['Lower Estimate'] = comp['Lower Estimate'].astype(float)\n",
    "comp['Lower Estimate'].dtype"
   ]
  },
  {
   "cell_type": "code",
   "execution_count": 424,
   "metadata": {
    "collapsed": false
   },
   "outputs": [
    {
     "data": {
      "text/plain": [
       "dtype('float64')"
      ]
     },
     "execution_count": 424,
     "metadata": {},
     "output_type": "execute_result"
    }
   ],
   "source": [
    "comp['Higher Estimate'] = comp['Higher Estimate'].replace('Not Available', 0)\n",
    "comp['Higher Estimate'] = comp['Higher Estimate'].astype(float)\n",
    "comp['Higher Estimate'].dtype"
   ]
  },
  {
   "cell_type": "code",
   "execution_count": 425,
   "metadata": {
    "collapsed": false
   },
   "outputs": [
    {
     "name": "stdout",
     "output_type": "stream",
     "text": [
      "<class 'pandas.core.frame.DataFrame'>\n",
      "MultiIndex: 4785 entries, (ABBEVILLE AREA MEDICAL CENTER, SC) to (ZUNI COMPREHENSIVE COMMUNITY HEALTH CENTER, NM)\n",
      "Data columns (total 11 columns):\n",
      "COMP_HIP_KNEE                4785 non-null float64\n",
      "PSI_12_POSTOP_PULMEMB_DVT    4785 non-null float64\n",
      "PSI_13_POST_SEPSIS           4785 non-null float64\n",
      "PSI_14_POSTOP_DEHIS          4785 non-null float64\n",
      "PSI_15_ACC_LAC               4785 non-null float64\n",
      "PSI_3_ULCER                  4785 non-null float64\n",
      "PSI_4_SURG_COMP              4785 non-null float64\n",
      "PSI_6_IAT_PTX                4785 non-null float64\n",
      "PSI_7_CVCBI                  4785 non-null float64\n",
      "PSI_8_POST_HIP               4785 non-null float64\n",
      "PSI_90_SAFETY                4785 non-null float64\n",
      "dtypes: float64(11)\n",
      "memory usage: 448.6+ KB\n"
     ]
    }
   ],
   "source": [
    "comp_score.info()"
   ]
  },
  {
   "cell_type": "code",
   "execution_count": 426,
   "metadata": {
    "collapsed": false
   },
   "outputs": [
    {
     "data": {
      "text/html": [
       "<div>\n",
       "<table border=\"1\" class=\"dataframe\">\n",
       "  <thead>\n",
       "    <tr style=\"text-align: right;\">\n",
       "      <th></th>\n",
       "      <th>Measure ID</th>\n",
       "      <th>COMP_HIP_KNEE</th>\n",
       "      <th>PSI_12_POSTOP_PULMEMB_DVT</th>\n",
       "      <th>PSI_13_POST_SEPSIS</th>\n",
       "      <th>PSI_14_POSTOP_DEHIS</th>\n",
       "      <th>PSI_15_ACC_LAC</th>\n",
       "      <th>PSI_3_ULCER</th>\n",
       "      <th>PSI_4_SURG_COMP</th>\n",
       "      <th>PSI_6_IAT_PTX</th>\n",
       "      <th>PSI_7_CVCBI</th>\n",
       "      <th>PSI_8_POST_HIP</th>\n",
       "      <th>PSI_90_SAFETY</th>\n",
       "    </tr>\n",
       "    <tr>\n",
       "      <th>Hospital Name</th>\n",
       "      <th>State</th>\n",
       "      <th></th>\n",
       "      <th></th>\n",
       "      <th></th>\n",
       "      <th></th>\n",
       "      <th></th>\n",
       "      <th></th>\n",
       "      <th></th>\n",
       "      <th></th>\n",
       "      <th></th>\n",
       "      <th></th>\n",
       "      <th></th>\n",
       "    </tr>\n",
       "  </thead>\n",
       "  <tbody>\n",
       "    <tr>\n",
       "      <th>ABBEVILLE AREA MEDICAL CENTER</th>\n",
       "      <th>SC</th>\n",
       "      <td>3.0</td>\n",
       "      <td>0.00</td>\n",
       "      <td>0.00</td>\n",
       "      <td>0.00</td>\n",
       "      <td>0.00</td>\n",
       "      <td>0.00</td>\n",
       "      <td>0.00</td>\n",
       "      <td>0.00</td>\n",
       "      <td>0.00</td>\n",
       "      <td>0.00</td>\n",
       "      <td>0.00</td>\n",
       "    </tr>\n",
       "    <tr>\n",
       "      <th>ABBEVILLE GENERAL HOSPITAL</th>\n",
       "      <th>LA</th>\n",
       "      <td>3.0</td>\n",
       "      <td>6.51</td>\n",
       "      <td>0.00</td>\n",
       "      <td>2.28</td>\n",
       "      <td>1.69</td>\n",
       "      <td>0.35</td>\n",
       "      <td>0.00</td>\n",
       "      <td>0.39</td>\n",
       "      <td>0.16</td>\n",
       "      <td>0.06</td>\n",
       "      <td>1.02</td>\n",
       "    </tr>\n",
       "    <tr>\n",
       "      <th>ABBOTT NORTHWESTERN HOSPITAL</th>\n",
       "      <th>MN</th>\n",
       "      <td>2.5</td>\n",
       "      <td>5.23</td>\n",
       "      <td>11.26</td>\n",
       "      <td>1.78</td>\n",
       "      <td>1.96</td>\n",
       "      <td>0.10</td>\n",
       "      <td>124.52</td>\n",
       "      <td>0.32</td>\n",
       "      <td>0.11</td>\n",
       "      <td>0.06</td>\n",
       "      <td>0.97</td>\n",
       "    </tr>\n",
       "    <tr>\n",
       "      <th>ABILENE REGIONAL MEDICAL CENTER</th>\n",
       "      <th>TX</th>\n",
       "      <td>3.1</td>\n",
       "      <td>3.43</td>\n",
       "      <td>6.36</td>\n",
       "      <td>2.21</td>\n",
       "      <td>1.17</td>\n",
       "      <td>0.16</td>\n",
       "      <td>138.47</td>\n",
       "      <td>0.40</td>\n",
       "      <td>0.12</td>\n",
       "      <td>0.06</td>\n",
       "      <td>0.67</td>\n",
       "    </tr>\n",
       "    <tr>\n",
       "      <th>ABINGTON MEMORIAL HOSPITAL</th>\n",
       "      <th>PA</th>\n",
       "      <td>4.3</td>\n",
       "      <td>8.47</td>\n",
       "      <td>10.30</td>\n",
       "      <td>3.59</td>\n",
       "      <td>1.29</td>\n",
       "      <td>1.09</td>\n",
       "      <td>153.64</td>\n",
       "      <td>0.32</td>\n",
       "      <td>0.13</td>\n",
       "      <td>0.06</td>\n",
       "      <td>1.10</td>\n",
       "    </tr>\n",
       "  </tbody>\n",
       "</table>\n",
       "</div>"
      ],
      "text/plain": [
       "Measure ID                             COMP_HIP_KNEE  \\\n",
       "Hospital Name                   State                  \n",
       "ABBEVILLE AREA MEDICAL CENTER   SC               3.0   \n",
       "ABBEVILLE GENERAL HOSPITAL      LA               3.0   \n",
       "ABBOTT NORTHWESTERN HOSPITAL    MN               2.5   \n",
       "ABILENE REGIONAL MEDICAL CENTER TX               3.1   \n",
       "ABINGTON MEMORIAL HOSPITAL      PA               4.3   \n",
       "\n",
       "Measure ID                             PSI_12_POSTOP_PULMEMB_DVT  \\\n",
       "Hospital Name                   State                              \n",
       "ABBEVILLE AREA MEDICAL CENTER   SC                          0.00   \n",
       "ABBEVILLE GENERAL HOSPITAL      LA                          6.51   \n",
       "ABBOTT NORTHWESTERN HOSPITAL    MN                          5.23   \n",
       "ABILENE REGIONAL MEDICAL CENTER TX                          3.43   \n",
       "ABINGTON MEMORIAL HOSPITAL      PA                          8.47   \n",
       "\n",
       "Measure ID                             PSI_13_POST_SEPSIS  \\\n",
       "Hospital Name                   State                       \n",
       "ABBEVILLE AREA MEDICAL CENTER   SC                   0.00   \n",
       "ABBEVILLE GENERAL HOSPITAL      LA                   0.00   \n",
       "ABBOTT NORTHWESTERN HOSPITAL    MN                  11.26   \n",
       "ABILENE REGIONAL MEDICAL CENTER TX                   6.36   \n",
       "ABINGTON MEMORIAL HOSPITAL      PA                  10.30   \n",
       "\n",
       "Measure ID                             PSI_14_POSTOP_DEHIS  PSI_15_ACC_LAC  \\\n",
       "Hospital Name                   State                                        \n",
       "ABBEVILLE AREA MEDICAL CENTER   SC                    0.00            0.00   \n",
       "ABBEVILLE GENERAL HOSPITAL      LA                    2.28            1.69   \n",
       "ABBOTT NORTHWESTERN HOSPITAL    MN                    1.78            1.96   \n",
       "ABILENE REGIONAL MEDICAL CENTER TX                    2.21            1.17   \n",
       "ABINGTON MEMORIAL HOSPITAL      PA                    3.59            1.29   \n",
       "\n",
       "Measure ID                             PSI_3_ULCER  PSI_4_SURG_COMP  \\\n",
       "Hospital Name                   State                                 \n",
       "ABBEVILLE AREA MEDICAL CENTER   SC            0.00             0.00   \n",
       "ABBEVILLE GENERAL HOSPITAL      LA            0.35             0.00   \n",
       "ABBOTT NORTHWESTERN HOSPITAL    MN            0.10           124.52   \n",
       "ABILENE REGIONAL MEDICAL CENTER TX            0.16           138.47   \n",
       "ABINGTON MEMORIAL HOSPITAL      PA            1.09           153.64   \n",
       "\n",
       "Measure ID                             PSI_6_IAT_PTX  PSI_7_CVCBI  \\\n",
       "Hospital Name                   State                               \n",
       "ABBEVILLE AREA MEDICAL CENTER   SC              0.00         0.00   \n",
       "ABBEVILLE GENERAL HOSPITAL      LA              0.39         0.16   \n",
       "ABBOTT NORTHWESTERN HOSPITAL    MN              0.32         0.11   \n",
       "ABILENE REGIONAL MEDICAL CENTER TX              0.40         0.12   \n",
       "ABINGTON MEMORIAL HOSPITAL      PA              0.32         0.13   \n",
       "\n",
       "Measure ID                             PSI_8_POST_HIP  PSI_90_SAFETY  \n",
       "Hospital Name                   State                                 \n",
       "ABBEVILLE AREA MEDICAL CENTER   SC               0.00           0.00  \n",
       "ABBEVILLE GENERAL HOSPITAL      LA               0.06           1.02  \n",
       "ABBOTT NORTHWESTERN HOSPITAL    MN               0.06           0.97  \n",
       "ABILENE REGIONAL MEDICAL CENTER TX               0.06           0.67  \n",
       "ABINGTON MEMORIAL HOSPITAL      PA               0.06           1.10  "
      ]
     },
     "execution_count": 426,
     "metadata": {},
     "output_type": "execute_result"
    }
   ],
   "source": [
    "comp_score = pd.pivot_table(comp, index=['Hospital Name', 'State'], columns = 'Measure ID', values = 'Score')\n",
    "comp_score.head()"
   ]
  },
  {
   "cell_type": "code",
   "execution_count": 427,
   "metadata": {
    "collapsed": false
   },
   "outputs": [
    {
     "data": {
      "text/html": [
       "<div>\n",
       "<table border=\"1\" class=\"dataframe\">\n",
       "  <thead>\n",
       "    <tr style=\"text-align: right;\">\n",
       "      <th></th>\n",
       "      <th>Measure ID</th>\n",
       "      <th>COMP_HIP_KNEE</th>\n",
       "      <th>PSI_12_POSTOP_PULMEMB_DVT</th>\n",
       "      <th>PSI_13_POST_SEPSIS</th>\n",
       "      <th>PSI_14_POSTOP_DEHIS</th>\n",
       "      <th>PSI_15_ACC_LAC</th>\n",
       "      <th>PSI_3_ULCER</th>\n",
       "      <th>PSI_4_SURG_COMP</th>\n",
       "      <th>PSI_6_IAT_PTX</th>\n",
       "      <th>PSI_7_CVCBI</th>\n",
       "      <th>PSI_8_POST_HIP</th>\n",
       "      <th>PSI_90_SAFETY</th>\n",
       "    </tr>\n",
       "    <tr>\n",
       "      <th>Hospital Name</th>\n",
       "      <th>State</th>\n",
       "      <th></th>\n",
       "      <th></th>\n",
       "      <th></th>\n",
       "      <th></th>\n",
       "      <th></th>\n",
       "      <th></th>\n",
       "      <th></th>\n",
       "      <th></th>\n",
       "      <th></th>\n",
       "      <th></th>\n",
       "      <th></th>\n",
       "    </tr>\n",
       "  </thead>\n",
       "  <tbody>\n",
       "    <tr>\n",
       "      <th>ABBEVILLE AREA MEDICAL CENTER</th>\n",
       "      <th>SC</th>\n",
       "      <td>1.7</td>\n",
       "      <td>0.00</td>\n",
       "      <td>0.00</td>\n",
       "      <td>0.00</td>\n",
       "      <td>0.00</td>\n",
       "      <td>0.00</td>\n",
       "      <td>0.00</td>\n",
       "      <td>0.00</td>\n",
       "      <td>0.0</td>\n",
       "      <td>0.00</td>\n",
       "      <td>0.00</td>\n",
       "    </tr>\n",
       "    <tr>\n",
       "      <th>ABBEVILLE GENERAL HOSPITAL</th>\n",
       "      <th>LA</th>\n",
       "      <td>1.7</td>\n",
       "      <td>1.67</td>\n",
       "      <td>0.00</td>\n",
       "      <td>0.00</td>\n",
       "      <td>0.37</td>\n",
       "      <td>0.00</td>\n",
       "      <td>0.00</td>\n",
       "      <td>0.07</td>\n",
       "      <td>0.0</td>\n",
       "      <td>0.06</td>\n",
       "      <td>0.57</td>\n",
       "    </tr>\n",
       "    <tr>\n",
       "      <th>ABBOTT NORTHWESTERN HOSPITAL</th>\n",
       "      <th>MN</th>\n",
       "      <td>1.7</td>\n",
       "      <td>3.47</td>\n",
       "      <td>6.15</td>\n",
       "      <td>0.00</td>\n",
       "      <td>1.42</td>\n",
       "      <td>0.00</td>\n",
       "      <td>92.72</td>\n",
       "      <td>0.09</td>\n",
       "      <td>0.0</td>\n",
       "      <td>0.06</td>\n",
       "      <td>0.78</td>\n",
       "    </tr>\n",
       "    <tr>\n",
       "      <th>ABILENE REGIONAL MEDICAL CENTER</th>\n",
       "      <th>TX</th>\n",
       "      <td>2.0</td>\n",
       "      <td>0.17</td>\n",
       "      <td>0.00</td>\n",
       "      <td>0.00</td>\n",
       "      <td>0.27</td>\n",
       "      <td>0.00</td>\n",
       "      <td>92.17</td>\n",
       "      <td>0.12</td>\n",
       "      <td>0.0</td>\n",
       "      <td>0.06</td>\n",
       "      <td>0.36</td>\n",
       "    </tr>\n",
       "    <tr>\n",
       "      <th>ABINGTON MEMORIAL HOSPITAL</th>\n",
       "      <th>PA</th>\n",
       "      <td>3.3</td>\n",
       "      <td>6.51</td>\n",
       "      <td>4.19</td>\n",
       "      <td>1.53</td>\n",
       "      <td>0.75</td>\n",
       "      <td>0.51</td>\n",
       "      <td>117.66</td>\n",
       "      <td>0.09</td>\n",
       "      <td>0.0</td>\n",
       "      <td>0.06</td>\n",
       "      <td>0.91</td>\n",
       "    </tr>\n",
       "  </tbody>\n",
       "</table>\n",
       "</div>"
      ],
      "text/plain": [
       "Measure ID                             COMP_HIP_KNEE  \\\n",
       "Hospital Name                   State                  \n",
       "ABBEVILLE AREA MEDICAL CENTER   SC               1.7   \n",
       "ABBEVILLE GENERAL HOSPITAL      LA               1.7   \n",
       "ABBOTT NORTHWESTERN HOSPITAL    MN               1.7   \n",
       "ABILENE REGIONAL MEDICAL CENTER TX               2.0   \n",
       "ABINGTON MEMORIAL HOSPITAL      PA               3.3   \n",
       "\n",
       "Measure ID                             PSI_12_POSTOP_PULMEMB_DVT  \\\n",
       "Hospital Name                   State                              \n",
       "ABBEVILLE AREA MEDICAL CENTER   SC                          0.00   \n",
       "ABBEVILLE GENERAL HOSPITAL      LA                          1.67   \n",
       "ABBOTT NORTHWESTERN HOSPITAL    MN                          3.47   \n",
       "ABILENE REGIONAL MEDICAL CENTER TX                          0.17   \n",
       "ABINGTON MEMORIAL HOSPITAL      PA                          6.51   \n",
       "\n",
       "Measure ID                             PSI_13_POST_SEPSIS  \\\n",
       "Hospital Name                   State                       \n",
       "ABBEVILLE AREA MEDICAL CENTER   SC                   0.00   \n",
       "ABBEVILLE GENERAL HOSPITAL      LA                   0.00   \n",
       "ABBOTT NORTHWESTERN HOSPITAL    MN                   6.15   \n",
       "ABILENE REGIONAL MEDICAL CENTER TX                   0.00   \n",
       "ABINGTON MEMORIAL HOSPITAL      PA                   4.19   \n",
       "\n",
       "Measure ID                             PSI_14_POSTOP_DEHIS  PSI_15_ACC_LAC  \\\n",
       "Hospital Name                   State                                        \n",
       "ABBEVILLE AREA MEDICAL CENTER   SC                    0.00            0.00   \n",
       "ABBEVILLE GENERAL HOSPITAL      LA                    0.00            0.37   \n",
       "ABBOTT NORTHWESTERN HOSPITAL    MN                    0.00            1.42   \n",
       "ABILENE REGIONAL MEDICAL CENTER TX                    0.00            0.27   \n",
       "ABINGTON MEMORIAL HOSPITAL      PA                    1.53            0.75   \n",
       "\n",
       "Measure ID                             PSI_3_ULCER  PSI_4_SURG_COMP  \\\n",
       "Hospital Name                   State                                 \n",
       "ABBEVILLE AREA MEDICAL CENTER   SC            0.00             0.00   \n",
       "ABBEVILLE GENERAL HOSPITAL      LA            0.00             0.00   \n",
       "ABBOTT NORTHWESTERN HOSPITAL    MN            0.00            92.72   \n",
       "ABILENE REGIONAL MEDICAL CENTER TX            0.00            92.17   \n",
       "ABINGTON MEMORIAL HOSPITAL      PA            0.51           117.66   \n",
       "\n",
       "Measure ID                             PSI_6_IAT_PTX  PSI_7_CVCBI  \\\n",
       "Hospital Name                   State                               \n",
       "ABBEVILLE AREA MEDICAL CENTER   SC              0.00          0.0   \n",
       "ABBEVILLE GENERAL HOSPITAL      LA              0.07          0.0   \n",
       "ABBOTT NORTHWESTERN HOSPITAL    MN              0.09          0.0   \n",
       "ABILENE REGIONAL MEDICAL CENTER TX              0.12          0.0   \n",
       "ABINGTON MEMORIAL HOSPITAL      PA              0.09          0.0   \n",
       "\n",
       "Measure ID                             PSI_8_POST_HIP  PSI_90_SAFETY  \n",
       "Hospital Name                   State                                 \n",
       "ABBEVILLE AREA MEDICAL CENTER   SC               0.00           0.00  \n",
       "ABBEVILLE GENERAL HOSPITAL      LA               0.06           0.57  \n",
       "ABBOTT NORTHWESTERN HOSPITAL    MN               0.06           0.78  \n",
       "ABILENE REGIONAL MEDICAL CENTER TX               0.06           0.36  \n",
       "ABINGTON MEMORIAL HOSPITAL      PA               0.06           0.91  "
      ]
     },
     "execution_count": 427,
     "metadata": {},
     "output_type": "execute_result"
    }
   ],
   "source": [
    "comp_low = pd.pivot_table(comp, index=['Hospital Name', 'State'], columns = 'Measure ID', values = 'Lower Estimate')\n",
    "comp_low.head()"
   ]
  },
  {
   "cell_type": "code",
   "execution_count": 428,
   "metadata": {
    "collapsed": false
   },
   "outputs": [],
   "source": [
    "col_list_low = list(comp_low.columns.values)"
   ]
  },
  {
   "cell_type": "code",
   "execution_count": 429,
   "metadata": {
    "collapsed": false
   },
   "outputs": [
    {
     "name": "stdout",
     "output_type": "stream",
     "text": [
      "['COMP_HIP_KNEE_low', 'PSI_12_POSTOP_PULMEMB_DVT_low', 'PSI_13_POST_SEPSIS_low', 'PSI_14_POSTOP_DEHIS_low', 'PSI_15_ACC_LAC_low', 'PSI_3_ULCER_low', 'PSI_4_SURG_COMP_low', 'PSI_6_IAT_PTX_low', 'PSI_7_CVCBI_low', 'PSI_8_POST_HIP_low', 'PSI_90_SAFETY_low']\n"
     ]
    }
   ],
   "source": [
    "low_cols = []\n",
    "for i in col_list_low:\n",
    "    low_cols.append(i + '_low')\n",
    "print low_cols"
   ]
  },
  {
   "cell_type": "code",
   "execution_count": 430,
   "metadata": {
    "collapsed": false
   },
   "outputs": [],
   "source": [
    "comp_low.columns = low_cols"
   ]
  },
  {
   "cell_type": "code",
   "execution_count": 431,
   "metadata": {
    "collapsed": false
   },
   "outputs": [
    {
     "data": {
      "text/html": [
       "<div>\n",
       "<table border=\"1\" class=\"dataframe\">\n",
       "  <thead>\n",
       "    <tr style=\"text-align: right;\">\n",
       "      <th></th>\n",
       "      <th></th>\n",
       "      <th>COMP_HIP_KNEE_low</th>\n",
       "      <th>PSI_12_POSTOP_PULMEMB_DVT_low</th>\n",
       "      <th>PSI_13_POST_SEPSIS_low</th>\n",
       "      <th>PSI_14_POSTOP_DEHIS_low</th>\n",
       "      <th>PSI_15_ACC_LAC_low</th>\n",
       "      <th>PSI_3_ULCER_low</th>\n",
       "      <th>PSI_4_SURG_COMP_low</th>\n",
       "      <th>PSI_6_IAT_PTX_low</th>\n",
       "      <th>PSI_7_CVCBI_low</th>\n",
       "      <th>PSI_8_POST_HIP_low</th>\n",
       "      <th>PSI_90_SAFETY_low</th>\n",
       "    </tr>\n",
       "    <tr>\n",
       "      <th>Hospital Name</th>\n",
       "      <th>State</th>\n",
       "      <th></th>\n",
       "      <th></th>\n",
       "      <th></th>\n",
       "      <th></th>\n",
       "      <th></th>\n",
       "      <th></th>\n",
       "      <th></th>\n",
       "      <th></th>\n",
       "      <th></th>\n",
       "      <th></th>\n",
       "      <th></th>\n",
       "    </tr>\n",
       "  </thead>\n",
       "  <tbody>\n",
       "    <tr>\n",
       "      <th>ABBEVILLE AREA MEDICAL CENTER</th>\n",
       "      <th>SC</th>\n",
       "      <td>1.7</td>\n",
       "      <td>0.00</td>\n",
       "      <td>0.00</td>\n",
       "      <td>0.00</td>\n",
       "      <td>0.00</td>\n",
       "      <td>0.00</td>\n",
       "      <td>0.00</td>\n",
       "      <td>0.00</td>\n",
       "      <td>0.0</td>\n",
       "      <td>0.00</td>\n",
       "      <td>0.00</td>\n",
       "    </tr>\n",
       "    <tr>\n",
       "      <th>ABBEVILLE GENERAL HOSPITAL</th>\n",
       "      <th>LA</th>\n",
       "      <td>1.7</td>\n",
       "      <td>1.67</td>\n",
       "      <td>0.00</td>\n",
       "      <td>0.00</td>\n",
       "      <td>0.37</td>\n",
       "      <td>0.00</td>\n",
       "      <td>0.00</td>\n",
       "      <td>0.07</td>\n",
       "      <td>0.0</td>\n",
       "      <td>0.06</td>\n",
       "      <td>0.57</td>\n",
       "    </tr>\n",
       "    <tr>\n",
       "      <th>ABBOTT NORTHWESTERN HOSPITAL</th>\n",
       "      <th>MN</th>\n",
       "      <td>1.7</td>\n",
       "      <td>3.47</td>\n",
       "      <td>6.15</td>\n",
       "      <td>0.00</td>\n",
       "      <td>1.42</td>\n",
       "      <td>0.00</td>\n",
       "      <td>92.72</td>\n",
       "      <td>0.09</td>\n",
       "      <td>0.0</td>\n",
       "      <td>0.06</td>\n",
       "      <td>0.78</td>\n",
       "    </tr>\n",
       "    <tr>\n",
       "      <th>ABILENE REGIONAL MEDICAL CENTER</th>\n",
       "      <th>TX</th>\n",
       "      <td>2.0</td>\n",
       "      <td>0.17</td>\n",
       "      <td>0.00</td>\n",
       "      <td>0.00</td>\n",
       "      <td>0.27</td>\n",
       "      <td>0.00</td>\n",
       "      <td>92.17</td>\n",
       "      <td>0.12</td>\n",
       "      <td>0.0</td>\n",
       "      <td>0.06</td>\n",
       "      <td>0.36</td>\n",
       "    </tr>\n",
       "    <tr>\n",
       "      <th>ABINGTON MEMORIAL HOSPITAL</th>\n",
       "      <th>PA</th>\n",
       "      <td>3.3</td>\n",
       "      <td>6.51</td>\n",
       "      <td>4.19</td>\n",
       "      <td>1.53</td>\n",
       "      <td>0.75</td>\n",
       "      <td>0.51</td>\n",
       "      <td>117.66</td>\n",
       "      <td>0.09</td>\n",
       "      <td>0.0</td>\n",
       "      <td>0.06</td>\n",
       "      <td>0.91</td>\n",
       "    </tr>\n",
       "  </tbody>\n",
       "</table>\n",
       "</div>"
      ],
      "text/plain": [
       "                                       COMP_HIP_KNEE_low  \\\n",
       "Hospital Name                   State                      \n",
       "ABBEVILLE AREA MEDICAL CENTER   SC                   1.7   \n",
       "ABBEVILLE GENERAL HOSPITAL      LA                   1.7   \n",
       "ABBOTT NORTHWESTERN HOSPITAL    MN                   1.7   \n",
       "ABILENE REGIONAL MEDICAL CENTER TX                   2.0   \n",
       "ABINGTON MEMORIAL HOSPITAL      PA                   3.3   \n",
       "\n",
       "                                       PSI_12_POSTOP_PULMEMB_DVT_low  \\\n",
       "Hospital Name                   State                                  \n",
       "ABBEVILLE AREA MEDICAL CENTER   SC                              0.00   \n",
       "ABBEVILLE GENERAL HOSPITAL      LA                              1.67   \n",
       "ABBOTT NORTHWESTERN HOSPITAL    MN                              3.47   \n",
       "ABILENE REGIONAL MEDICAL CENTER TX                              0.17   \n",
       "ABINGTON MEMORIAL HOSPITAL      PA                              6.51   \n",
       "\n",
       "                                       PSI_13_POST_SEPSIS_low  \\\n",
       "Hospital Name                   State                           \n",
       "ABBEVILLE AREA MEDICAL CENTER   SC                       0.00   \n",
       "ABBEVILLE GENERAL HOSPITAL      LA                       0.00   \n",
       "ABBOTT NORTHWESTERN HOSPITAL    MN                       6.15   \n",
       "ABILENE REGIONAL MEDICAL CENTER TX                       0.00   \n",
       "ABINGTON MEMORIAL HOSPITAL      PA                       4.19   \n",
       "\n",
       "                                       PSI_14_POSTOP_DEHIS_low  \\\n",
       "Hospital Name                   State                            \n",
       "ABBEVILLE AREA MEDICAL CENTER   SC                        0.00   \n",
       "ABBEVILLE GENERAL HOSPITAL      LA                        0.00   \n",
       "ABBOTT NORTHWESTERN HOSPITAL    MN                        0.00   \n",
       "ABILENE REGIONAL MEDICAL CENTER TX                        0.00   \n",
       "ABINGTON MEMORIAL HOSPITAL      PA                        1.53   \n",
       "\n",
       "                                       PSI_15_ACC_LAC_low  PSI_3_ULCER_low  \\\n",
       "Hospital Name                   State                                        \n",
       "ABBEVILLE AREA MEDICAL CENTER   SC                   0.00             0.00   \n",
       "ABBEVILLE GENERAL HOSPITAL      LA                   0.37             0.00   \n",
       "ABBOTT NORTHWESTERN HOSPITAL    MN                   1.42             0.00   \n",
       "ABILENE REGIONAL MEDICAL CENTER TX                   0.27             0.00   \n",
       "ABINGTON MEMORIAL HOSPITAL      PA                   0.75             0.51   \n",
       "\n",
       "                                       PSI_4_SURG_COMP_low  PSI_6_IAT_PTX_low  \\\n",
       "Hospital Name                   State                                           \n",
       "ABBEVILLE AREA MEDICAL CENTER   SC                    0.00               0.00   \n",
       "ABBEVILLE GENERAL HOSPITAL      LA                    0.00               0.07   \n",
       "ABBOTT NORTHWESTERN HOSPITAL    MN                   92.72               0.09   \n",
       "ABILENE REGIONAL MEDICAL CENTER TX                   92.17               0.12   \n",
       "ABINGTON MEMORIAL HOSPITAL      PA                  117.66               0.09   \n",
       "\n",
       "                                       PSI_7_CVCBI_low  PSI_8_POST_HIP_low  \\\n",
       "Hospital Name                   State                                        \n",
       "ABBEVILLE AREA MEDICAL CENTER   SC                 0.0                0.00   \n",
       "ABBEVILLE GENERAL HOSPITAL      LA                 0.0                0.06   \n",
       "ABBOTT NORTHWESTERN HOSPITAL    MN                 0.0                0.06   \n",
       "ABILENE REGIONAL MEDICAL CENTER TX                 0.0                0.06   \n",
       "ABINGTON MEMORIAL HOSPITAL      PA                 0.0                0.06   \n",
       "\n",
       "                                       PSI_90_SAFETY_low  \n",
       "Hospital Name                   State                     \n",
       "ABBEVILLE AREA MEDICAL CENTER   SC                  0.00  \n",
       "ABBEVILLE GENERAL HOSPITAL      LA                  0.57  \n",
       "ABBOTT NORTHWESTERN HOSPITAL    MN                  0.78  \n",
       "ABILENE REGIONAL MEDICAL CENTER TX                  0.36  \n",
       "ABINGTON MEMORIAL HOSPITAL      PA                  0.91  "
      ]
     },
     "execution_count": 431,
     "metadata": {},
     "output_type": "execute_result"
    }
   ],
   "source": [
    "comp_low.head()"
   ]
  },
  {
   "cell_type": "code",
   "execution_count": 432,
   "metadata": {
    "collapsed": true
   },
   "outputs": [],
   "source": [
    "comp_high = pd.pivot_table(comp, index=['Hospital Name','State'], columns = 'Measure ID', values = 'Higher Estimate')"
   ]
  },
  {
   "cell_type": "code",
   "execution_count": 433,
   "metadata": {
    "collapsed": true
   },
   "outputs": [],
   "source": [
    "col_list_high = list(comp_high.columns.values)"
   ]
  },
  {
   "cell_type": "code",
   "execution_count": 434,
   "metadata": {
    "collapsed": false
   },
   "outputs": [
    {
     "name": "stdout",
     "output_type": "stream",
     "text": [
      "['COMP_HIP_KNEE_high', 'PSI_12_POSTOP_PULMEMB_DVT_high', 'PSI_13_POST_SEPSIS_high', 'PSI_14_POSTOP_DEHIS_high', 'PSI_15_ACC_LAC_high', 'PSI_3_ULCER_high', 'PSI_4_SURG_COMP_high', 'PSI_6_IAT_PTX_high', 'PSI_7_CVCBI_high', 'PSI_8_POST_HIP_high', 'PSI_90_SAFETY_high']\n"
     ]
    }
   ],
   "source": [
    "high_cols = []\n",
    "for i in col_list_high:\n",
    "    high_cols.append(i + '_high')\n",
    "print high_cols"
   ]
  },
  {
   "cell_type": "code",
   "execution_count": 435,
   "metadata": {
    "collapsed": true
   },
   "outputs": [],
   "source": [
    "comp_high.columns = high_cols"
   ]
  },
  {
   "cell_type": "code",
   "execution_count": 436,
   "metadata": {
    "collapsed": false
   },
   "outputs": [
    {
     "data": {
      "text/html": [
       "<div>\n",
       "<table border=\"1\" class=\"dataframe\">\n",
       "  <thead>\n",
       "    <tr style=\"text-align: right;\">\n",
       "      <th></th>\n",
       "      <th></th>\n",
       "      <th>COMP_HIP_KNEE_high</th>\n",
       "      <th>PSI_12_POSTOP_PULMEMB_DVT_high</th>\n",
       "      <th>PSI_13_POST_SEPSIS_high</th>\n",
       "      <th>PSI_14_POSTOP_DEHIS_high</th>\n",
       "      <th>PSI_15_ACC_LAC_high</th>\n",
       "      <th>PSI_3_ULCER_high</th>\n",
       "      <th>PSI_4_SURG_COMP_high</th>\n",
       "      <th>PSI_6_IAT_PTX_high</th>\n",
       "      <th>PSI_7_CVCBI_high</th>\n",
       "      <th>PSI_8_POST_HIP_high</th>\n",
       "      <th>PSI_90_SAFETY_high</th>\n",
       "    </tr>\n",
       "    <tr>\n",
       "      <th>Hospital Name</th>\n",
       "      <th>State</th>\n",
       "      <th></th>\n",
       "      <th></th>\n",
       "      <th></th>\n",
       "      <th></th>\n",
       "      <th></th>\n",
       "      <th></th>\n",
       "      <th></th>\n",
       "      <th></th>\n",
       "      <th></th>\n",
       "      <th></th>\n",
       "      <th></th>\n",
       "    </tr>\n",
       "  </thead>\n",
       "  <tbody>\n",
       "    <tr>\n",
       "      <th>ABBEVILLE AREA MEDICAL CENTER</th>\n",
       "      <th>SC</th>\n",
       "      <td>5.2</td>\n",
       "      <td>0.00</td>\n",
       "      <td>0.00</td>\n",
       "      <td>0.00</td>\n",
       "      <td>0.00</td>\n",
       "      <td>0.00</td>\n",
       "      <td>0.00</td>\n",
       "      <td>0.00</td>\n",
       "      <td>0.00</td>\n",
       "      <td>0.00</td>\n",
       "      <td>0.00</td>\n",
       "    </tr>\n",
       "    <tr>\n",
       "      <th>ABBEVILLE GENERAL HOSPITAL</th>\n",
       "      <th>LA</th>\n",
       "      <td>5.0</td>\n",
       "      <td>11.34</td>\n",
       "      <td>0.00</td>\n",
       "      <td>4.60</td>\n",
       "      <td>3.02</td>\n",
       "      <td>1.65</td>\n",
       "      <td>0.00</td>\n",
       "      <td>0.71</td>\n",
       "      <td>0.47</td>\n",
       "      <td>0.06</td>\n",
       "      <td>1.47</td>\n",
       "    </tr>\n",
       "    <tr>\n",
       "      <th>ABBOTT NORTHWESTERN HOSPITAL</th>\n",
       "      <th>MN</th>\n",
       "      <td>3.7</td>\n",
       "      <td>6.99</td>\n",
       "      <td>16.38</td>\n",
       "      <td>3.83</td>\n",
       "      <td>2.49</td>\n",
       "      <td>0.80</td>\n",
       "      <td>156.32</td>\n",
       "      <td>0.54</td>\n",
       "      <td>0.32</td>\n",
       "      <td>0.06</td>\n",
       "      <td>1.16</td>\n",
       "    </tr>\n",
       "    <tr>\n",
       "      <th>ABILENE REGIONAL MEDICAL CENTER</th>\n",
       "      <th>TX</th>\n",
       "      <td>4.7</td>\n",
       "      <td>6.68</td>\n",
       "      <td>12.96</td>\n",
       "      <td>4.49</td>\n",
       "      <td>2.08</td>\n",
       "      <td>1.04</td>\n",
       "      <td>184.78</td>\n",
       "      <td>0.68</td>\n",
       "      <td>0.40</td>\n",
       "      <td>0.06</td>\n",
       "      <td>0.98</td>\n",
       "    </tr>\n",
       "    <tr>\n",
       "      <th>ABINGTON MEMORIAL HOSPITAL</th>\n",
       "      <th>PA</th>\n",
       "      <td>5.7</td>\n",
       "      <td>10.43</td>\n",
       "      <td>16.42</td>\n",
       "      <td>5.65</td>\n",
       "      <td>1.83</td>\n",
       "      <td>1.67</td>\n",
       "      <td>189.61</td>\n",
       "      <td>0.54</td>\n",
       "      <td>0.35</td>\n",
       "      <td>0.06</td>\n",
       "      <td>1.30</td>\n",
       "    </tr>\n",
       "  </tbody>\n",
       "</table>\n",
       "</div>"
      ],
      "text/plain": [
       "                                       COMP_HIP_KNEE_high  \\\n",
       "Hospital Name                   State                       \n",
       "ABBEVILLE AREA MEDICAL CENTER   SC                    5.2   \n",
       "ABBEVILLE GENERAL HOSPITAL      LA                    5.0   \n",
       "ABBOTT NORTHWESTERN HOSPITAL    MN                    3.7   \n",
       "ABILENE REGIONAL MEDICAL CENTER TX                    4.7   \n",
       "ABINGTON MEMORIAL HOSPITAL      PA                    5.7   \n",
       "\n",
       "                                       PSI_12_POSTOP_PULMEMB_DVT_high  \\\n",
       "Hospital Name                   State                                   \n",
       "ABBEVILLE AREA MEDICAL CENTER   SC                               0.00   \n",
       "ABBEVILLE GENERAL HOSPITAL      LA                              11.34   \n",
       "ABBOTT NORTHWESTERN HOSPITAL    MN                               6.99   \n",
       "ABILENE REGIONAL MEDICAL CENTER TX                               6.68   \n",
       "ABINGTON MEMORIAL HOSPITAL      PA                              10.43   \n",
       "\n",
       "                                       PSI_13_POST_SEPSIS_high  \\\n",
       "Hospital Name                   State                            \n",
       "ABBEVILLE AREA MEDICAL CENTER   SC                        0.00   \n",
       "ABBEVILLE GENERAL HOSPITAL      LA                        0.00   \n",
       "ABBOTT NORTHWESTERN HOSPITAL    MN                       16.38   \n",
       "ABILENE REGIONAL MEDICAL CENTER TX                       12.96   \n",
       "ABINGTON MEMORIAL HOSPITAL      PA                       16.42   \n",
       "\n",
       "                                       PSI_14_POSTOP_DEHIS_high  \\\n",
       "Hospital Name                   State                             \n",
       "ABBEVILLE AREA MEDICAL CENTER   SC                         0.00   \n",
       "ABBEVILLE GENERAL HOSPITAL      LA                         4.60   \n",
       "ABBOTT NORTHWESTERN HOSPITAL    MN                         3.83   \n",
       "ABILENE REGIONAL MEDICAL CENTER TX                         4.49   \n",
       "ABINGTON MEMORIAL HOSPITAL      PA                         5.65   \n",
       "\n",
       "                                       PSI_15_ACC_LAC_high  PSI_3_ULCER_high  \\\n",
       "Hospital Name                   State                                          \n",
       "ABBEVILLE AREA MEDICAL CENTER   SC                    0.00              0.00   \n",
       "ABBEVILLE GENERAL HOSPITAL      LA                    3.02              1.65   \n",
       "ABBOTT NORTHWESTERN HOSPITAL    MN                    2.49              0.80   \n",
       "ABILENE REGIONAL MEDICAL CENTER TX                    2.08              1.04   \n",
       "ABINGTON MEMORIAL HOSPITAL      PA                    1.83              1.67   \n",
       "\n",
       "                                       PSI_4_SURG_COMP_high  \\\n",
       "Hospital Name                   State                         \n",
       "ABBEVILLE AREA MEDICAL CENTER   SC                     0.00   \n",
       "ABBEVILLE GENERAL HOSPITAL      LA                     0.00   \n",
       "ABBOTT NORTHWESTERN HOSPITAL    MN                   156.32   \n",
       "ABILENE REGIONAL MEDICAL CENTER TX                   184.78   \n",
       "ABINGTON MEMORIAL HOSPITAL      PA                   189.61   \n",
       "\n",
       "                                       PSI_6_IAT_PTX_high  PSI_7_CVCBI_high  \\\n",
       "Hospital Name                   State                                         \n",
       "ABBEVILLE AREA MEDICAL CENTER   SC                   0.00              0.00   \n",
       "ABBEVILLE GENERAL HOSPITAL      LA                   0.71              0.47   \n",
       "ABBOTT NORTHWESTERN HOSPITAL    MN                   0.54              0.32   \n",
       "ABILENE REGIONAL MEDICAL CENTER TX                   0.68              0.40   \n",
       "ABINGTON MEMORIAL HOSPITAL      PA                   0.54              0.35   \n",
       "\n",
       "                                       PSI_8_POST_HIP_high  PSI_90_SAFETY_high  \n",
       "Hospital Name                   State                                           \n",
       "ABBEVILLE AREA MEDICAL CENTER   SC                    0.00                0.00  \n",
       "ABBEVILLE GENERAL HOSPITAL      LA                    0.06                1.47  \n",
       "ABBOTT NORTHWESTERN HOSPITAL    MN                    0.06                1.16  \n",
       "ABILENE REGIONAL MEDICAL CENTER TX                    0.06                0.98  \n",
       "ABINGTON MEMORIAL HOSPITAL      PA                    0.06                1.30  "
      ]
     },
     "execution_count": 436,
     "metadata": {},
     "output_type": "execute_result"
    }
   ],
   "source": [
    "comp_high.head()"
   ]
  },
  {
   "cell_type": "markdown",
   "metadata": {},
   "source": [
    "#### Features from Hospital-Acquired_Condition_Reduction_Program"
   ]
  },
  {
   "cell_type": "code",
   "execution_count": 437,
   "metadata": {
    "collapsed": false
   },
   "outputs": [
    {
     "data": {
      "text/html": [
       "<div>\n",
       "<table border=\"1\" class=\"dataframe\">\n",
       "  <thead>\n",
       "    <tr style=\"text-align: right;\">\n",
       "      <th></th>\n",
       "      <th>Hospital_Name</th>\n",
       "      <th>Provider ID</th>\n",
       "      <th>State</th>\n",
       "      <th>Fiscal Year</th>\n",
       "      <th>Domain_1_Score</th>\n",
       "      <th>Domain_1_Score_Footnote</th>\n",
       "      <th>Domain_1_Start_Date</th>\n",
       "      <th>Domain_1_End_Date</th>\n",
       "      <th>AHRQ_PSI_90_Score</th>\n",
       "      <th>AHRQ_PSI_90_Score_Footnote</th>\n",
       "      <th>...</th>\n",
       "      <th>MRSA_Score</th>\n",
       "      <th>MRSA_Footnote</th>\n",
       "      <th>CDI_Score</th>\n",
       "      <th>CDI_Footnote</th>\n",
       "      <th>Domain_2_Start_Date</th>\n",
       "      <th>Domain_2_End_Date</th>\n",
       "      <th>Total_HAC_Score</th>\n",
       "      <th>Total_HAC_Score_Footnote</th>\n",
       "      <th>Payment_Reduction</th>\n",
       "      <th>Payment_Reduction_Footnote</th>\n",
       "    </tr>\n",
       "  </thead>\n",
       "  <tbody>\n",
       "    <tr>\n",
       "      <th>0</th>\n",
       "      <td>ADVENTIST MEDICAL CENTER</td>\n",
       "      <td>50121</td>\n",
       "      <td>CA</td>\n",
       "      <td>2017</td>\n",
       "      <td>3.0</td>\n",
       "      <td>NaN</td>\n",
       "      <td>01-JUL-13</td>\n",
       "      <td>30-JUN-15</td>\n",
       "      <td>3.0</td>\n",
       "      <td>NaN</td>\n",
       "      <td>...</td>\n",
       "      <td>4.0</td>\n",
       "      <td>NaN</td>\n",
       "      <td>5.0</td>\n",
       "      <td>NaN</td>\n",
       "      <td>01-JAN-14</td>\n",
       "      <td>31-DEC-15</td>\n",
       "      <td>7.08</td>\n",
       "      <td>NaN</td>\n",
       "      <td>Yes</td>\n",
       "      <td>NaN</td>\n",
       "    </tr>\n",
       "    <tr>\n",
       "      <th>1</th>\n",
       "      <td>DAMERON HOSPITAL</td>\n",
       "      <td>50122</td>\n",
       "      <td>CA</td>\n",
       "      <td>2017</td>\n",
       "      <td>10.0</td>\n",
       "      <td>NaN</td>\n",
       "      <td>01-JUL-13</td>\n",
       "      <td>30-JUN-15</td>\n",
       "      <td>10.0</td>\n",
       "      <td>NaN</td>\n",
       "      <td>...</td>\n",
       "      <td>10.0</td>\n",
       "      <td>NaN</td>\n",
       "      <td>9.0</td>\n",
       "      <td>NaN</td>\n",
       "      <td>01-JAN-14</td>\n",
       "      <td>31-DEC-15</td>\n",
       "      <td>8.13</td>\n",
       "      <td>NaN</td>\n",
       "      <td>Yes</td>\n",
       "      <td>NaN</td>\n",
       "    </tr>\n",
       "    <tr>\n",
       "      <th>2</th>\n",
       "      <td>USC VERDUGO HILLS HOSPITAL</td>\n",
       "      <td>50124</td>\n",
       "      <td>CA</td>\n",
       "      <td>2017</td>\n",
       "      <td>4.0</td>\n",
       "      <td>NaN</td>\n",
       "      <td>01-JUL-13</td>\n",
       "      <td>30-JUN-15</td>\n",
       "      <td>4.0</td>\n",
       "      <td>NaN</td>\n",
       "      <td>...</td>\n",
       "      <td>4.0</td>\n",
       "      <td>NaN</td>\n",
       "      <td>5.0</td>\n",
       "      <td>NaN</td>\n",
       "      <td>01-JAN-14</td>\n",
       "      <td>31-DEC-15</td>\n",
       "      <td>5.70</td>\n",
       "      <td>NaN</td>\n",
       "      <td>No</td>\n",
       "      <td>NaN</td>\n",
       "    </tr>\n",
       "    <tr>\n",
       "      <th>3</th>\n",
       "      <td>REGIONAL MEDICAL CENTER OF SAN JOSE</td>\n",
       "      <td>50125</td>\n",
       "      <td>CA</td>\n",
       "      <td>2017</td>\n",
       "      <td>9.0</td>\n",
       "      <td>NaN</td>\n",
       "      <td>01-JUL-13</td>\n",
       "      <td>30-JUN-15</td>\n",
       "      <td>9.0</td>\n",
       "      <td>NaN</td>\n",
       "      <td>...</td>\n",
       "      <td>9.0</td>\n",
       "      <td>NaN</td>\n",
       "      <td>8.0</td>\n",
       "      <td>NaN</td>\n",
       "      <td>01-JAN-14</td>\n",
       "      <td>31-DEC-15</td>\n",
       "      <td>8.83</td>\n",
       "      <td>NaN</td>\n",
       "      <td>Yes</td>\n",
       "      <td>NaN</td>\n",
       "    </tr>\n",
       "    <tr>\n",
       "      <th>4</th>\n",
       "      <td>VALLEY PRESBYTERIAN HOSPITAL</td>\n",
       "      <td>50126</td>\n",
       "      <td>CA</td>\n",
       "      <td>2017</td>\n",
       "      <td>8.0</td>\n",
       "      <td>NaN</td>\n",
       "      <td>01-JUL-13</td>\n",
       "      <td>30-JUN-15</td>\n",
       "      <td>8.0</td>\n",
       "      <td>NaN</td>\n",
       "      <td>...</td>\n",
       "      <td>8.0</td>\n",
       "      <td>NaN</td>\n",
       "      <td>8.0</td>\n",
       "      <td>NaN</td>\n",
       "      <td>01-JAN-14</td>\n",
       "      <td>31-DEC-15</td>\n",
       "      <td>7.32</td>\n",
       "      <td>NaN</td>\n",
       "      <td>Yes</td>\n",
       "      <td>NaN</td>\n",
       "    </tr>\n",
       "  </tbody>\n",
       "</table>\n",
       "<p>5 rows × 28 columns</p>\n",
       "</div>"
      ],
      "text/plain": [
       "                         Hospital_Name  Provider ID State  Fiscal Year  \\\n",
       "0             ADVENTIST MEDICAL CENTER        50121    CA         2017   \n",
       "1                     DAMERON HOSPITAL        50122    CA         2017   \n",
       "2           USC VERDUGO HILLS HOSPITAL        50124    CA         2017   \n",
       "3  REGIONAL MEDICAL CENTER OF SAN JOSE        50125    CA         2017   \n",
       "4         VALLEY PRESBYTERIAN HOSPITAL        50126    CA         2017   \n",
       "\n",
       "   Domain_1_Score  Domain_1_Score_Footnote Domain_1_Start_Date  \\\n",
       "0             3.0                      NaN           01-JUL-13   \n",
       "1            10.0                      NaN           01-JUL-13   \n",
       "2             4.0                      NaN           01-JUL-13   \n",
       "3             9.0                      NaN           01-JUL-13   \n",
       "4             8.0                      NaN           01-JUL-13   \n",
       "\n",
       "  Domain_1_End_Date  AHRQ_PSI_90_Score  AHRQ_PSI_90_Score_Footnote  \\\n",
       "0         30-JUN-15                3.0                         NaN   \n",
       "1         30-JUN-15               10.0                         NaN   \n",
       "2         30-JUN-15                4.0                         NaN   \n",
       "3         30-JUN-15                9.0                         NaN   \n",
       "4         30-JUN-15                8.0                         NaN   \n",
       "\n",
       "              ...              MRSA_Score  MRSA_Footnote  CDI_Score  \\\n",
       "0             ...                     4.0            NaN        5.0   \n",
       "1             ...                    10.0            NaN        9.0   \n",
       "2             ...                     4.0            NaN        5.0   \n",
       "3             ...                     9.0            NaN        8.0   \n",
       "4             ...                     8.0            NaN        8.0   \n",
       "\n",
       "   CDI_Footnote  Domain_2_Start_Date  Domain_2_End_Date  Total_HAC_Score  \\\n",
       "0           NaN            01-JAN-14          31-DEC-15             7.08   \n",
       "1           NaN            01-JAN-14          31-DEC-15             8.13   \n",
       "2           NaN            01-JAN-14          31-DEC-15             5.70   \n",
       "3           NaN            01-JAN-14          31-DEC-15             8.83   \n",
       "4           NaN            01-JAN-14          31-DEC-15             7.32   \n",
       "\n",
       "   Total_HAC_Score_Footnote  Payment_Reduction  Payment_Reduction_Footnote  \n",
       "0                       NaN                Yes                         NaN  \n",
       "1                       NaN                Yes                         NaN  \n",
       "2                       NaN                 No                         NaN  \n",
       "3                       NaN                Yes                         NaN  \n",
       "4                       NaN                Yes                         NaN  \n",
       "\n",
       "[5 rows x 28 columns]"
      ]
     },
     "execution_count": 437,
     "metadata": {},
     "output_type": "execute_result"
    }
   ],
   "source": [
    "reduc = pd.read_csv('Hospital-Acquired_Condition_Reduction_Program.csv')\n",
    "reduc.head()"
   ]
  },
  {
   "cell_type": "code",
   "execution_count": 438,
   "metadata": {
    "collapsed": false
   },
   "outputs": [
    {
     "name": "stdout",
     "output_type": "stream",
     "text": [
      "<class 'pandas.core.frame.DataFrame'>\n",
      "RangeIndex: 3313 entries, 0 to 3312\n",
      "Data columns (total 28 columns):\n",
      "Hospital_Name                 3313 non-null object\n",
      "Provider ID                   3313 non-null int64\n",
      "State                         3313 non-null object\n",
      "Fiscal Year                   3313 non-null int64\n",
      "Domain_1_Score                3179 non-null float64\n",
      "Domain_1_Score_Footnote       134 non-null float64\n",
      "Domain_1_Start_Date           3313 non-null object\n",
      "Domain_1_End_Date             3313 non-null object\n",
      "AHRQ_PSI_90_Score             3216 non-null float64\n",
      "AHRQ_PSI_90_Score_Footnote    134 non-null float64\n",
      "Domain_2_Score                3173 non-null float64\n",
      "Domain_2_Score_Footnote       170 non-null float64\n",
      "CLABSI_Score                  2296 non-null float64\n",
      "CLABSI_Score_Footnote         1034 non-null float64\n",
      "CAUTI_Score                   2581 non-null float64\n",
      "CAUTI_Score_Footnote          749 non-null float64\n",
      "SSI_Score                     2573 non-null float64\n",
      "SSI_Score_Footnote            769 non-null float64\n",
      "MRSA_Score                    2373 non-null float64\n",
      "MRSA_Footnote                 964 non-null float64\n",
      "CDI_Score                     3161 non-null float64\n",
      "CDI_Footnote                  176 non-null float64\n",
      "Domain_2_Start_Date           3313 non-null object\n",
      "Domain_2_End_Date             3313 non-null object\n",
      "Total_HAC_Score               3250 non-null float64\n",
      "Total_HAC_Score_Footnote      79 non-null object\n",
      "Payment_Reduction             3266 non-null object\n",
      "Payment_Reduction_Footnote    84 non-null object\n",
      "dtypes: float64(17), int64(2), object(9)\n",
      "memory usage: 724.8+ KB\n"
     ]
    }
   ],
   "source": [
    "reduc.info()"
   ]
  },
  {
   "cell_type": "code",
   "execution_count": 439,
   "metadata": {
    "collapsed": false
   },
   "outputs": [
    {
     "data": {
      "text/html": [
       "<div>\n",
       "<table border=\"1\" class=\"dataframe\">\n",
       "  <thead>\n",
       "    <tr style=\"text-align: right;\">\n",
       "      <th></th>\n",
       "      <th>Hospital_Name</th>\n",
       "      <th>State</th>\n",
       "      <th>AHRQ_PSI_90_Score</th>\n",
       "      <th>CLABSI_Score</th>\n",
       "      <th>CAUTI_Score</th>\n",
       "      <th>SSI_Score</th>\n",
       "      <th>MRSA_Score</th>\n",
       "      <th>CDI_Score</th>\n",
       "    </tr>\n",
       "  </thead>\n",
       "  <tbody>\n",
       "    <tr>\n",
       "      <th>0</th>\n",
       "      <td>ADVENTIST MEDICAL CENTER</td>\n",
       "      <td>CA</td>\n",
       "      <td>3.0</td>\n",
       "      <td>10.0</td>\n",
       "      <td>10.0</td>\n",
       "      <td>10.0</td>\n",
       "      <td>4.0</td>\n",
       "      <td>5.0</td>\n",
       "    </tr>\n",
       "    <tr>\n",
       "      <th>1</th>\n",
       "      <td>DAMERON HOSPITAL</td>\n",
       "      <td>CA</td>\n",
       "      <td>10.0</td>\n",
       "      <td>8.0</td>\n",
       "      <td>9.0</td>\n",
       "      <td>3.0</td>\n",
       "      <td>10.0</td>\n",
       "      <td>9.0</td>\n",
       "    </tr>\n",
       "    <tr>\n",
       "      <th>2</th>\n",
       "      <td>USC VERDUGO HILLS HOSPITAL</td>\n",
       "      <td>CA</td>\n",
       "      <td>4.0</td>\n",
       "      <td>10.0</td>\n",
       "      <td>9.0</td>\n",
       "      <td>2.0</td>\n",
       "      <td>4.0</td>\n",
       "      <td>5.0</td>\n",
       "    </tr>\n",
       "    <tr>\n",
       "      <th>3</th>\n",
       "      <td>REGIONAL MEDICAL CENTER OF SAN JOSE</td>\n",
       "      <td>CA</td>\n",
       "      <td>9.0</td>\n",
       "      <td>9.0</td>\n",
       "      <td>9.0</td>\n",
       "      <td>9.0</td>\n",
       "      <td>9.0</td>\n",
       "      <td>8.0</td>\n",
       "    </tr>\n",
       "    <tr>\n",
       "      <th>4</th>\n",
       "      <td>VALLEY PRESBYTERIAN HOSPITAL</td>\n",
       "      <td>CA</td>\n",
       "      <td>8.0</td>\n",
       "      <td>8.0</td>\n",
       "      <td>4.0</td>\n",
       "      <td>8.0</td>\n",
       "      <td>8.0</td>\n",
       "      <td>8.0</td>\n",
       "    </tr>\n",
       "  </tbody>\n",
       "</table>\n",
       "</div>"
      ],
      "text/plain": [
       "                         Hospital_Name State  AHRQ_PSI_90_Score  CLABSI_Score  \\\n",
       "0             ADVENTIST MEDICAL CENTER    CA                3.0          10.0   \n",
       "1                     DAMERON HOSPITAL    CA               10.0           8.0   \n",
       "2           USC VERDUGO HILLS HOSPITAL    CA                4.0          10.0   \n",
       "3  REGIONAL MEDICAL CENTER OF SAN JOSE    CA                9.0           9.0   \n",
       "4         VALLEY PRESBYTERIAN HOSPITAL    CA                8.0           8.0   \n",
       "\n",
       "   CAUTI_Score  SSI_Score  MRSA_Score  CDI_Score  \n",
       "0         10.0       10.0         4.0        5.0  \n",
       "1          9.0        3.0        10.0        9.0  \n",
       "2          9.0        2.0         4.0        5.0  \n",
       "3          9.0        9.0         9.0        8.0  \n",
       "4          4.0        8.0         8.0        8.0  "
      ]
     },
     "execution_count": 439,
     "metadata": {},
     "output_type": "execute_result"
    }
   ],
   "source": [
    "#only grabbing relevant features\n",
    "feat_list = ['Hospital_Name', 'State', 'AHRQ_PSI_90_Score','CLABSI_Score','CAUTI_Score','SSI_Score','MRSA_Score','CDI_Score']\n",
    "reduc = reduc[feat_list]\n",
    "reduc.head()"
   ]
  },
  {
   "cell_type": "code",
   "execution_count": 1390,
   "metadata": {
    "collapsed": false
   },
   "outputs": [
    {
     "data": {
      "text/plain": [
       "['AHRQ_PSI_90_Score',\n",
       " 'CLABSI_Score',\n",
       " 'CAUTI_Score',\n",
       " 'SSI_Score',\n",
       " 'MRSA_Score',\n",
       " 'CDI_Score']"
      ]
     },
     "execution_count": 1390,
     "metadata": {},
     "output_type": "execute_result"
    }
   ],
   "source": [
    "feat_list[2:]"
   ]
  },
  {
   "cell_type": "code",
   "execution_count": 1393,
   "metadata": {
    "collapsed": false
   },
   "outputs": [
    {
     "name": "stdout",
     "output_type": "stream",
     "text": [
      "There are 0 null values, 0 appears 97 times for AHRQ_PSI_90_Score.\n",
      "There are 0 null values, 0 appears 1017 times for CLABSI_Score.\n",
      "There are 0 null values, 0 appears 732 times for CAUTI_Score.\n",
      "There are 0 null values, 0 appears 740 times for SSI_Score.\n",
      "There are 0 null values, 0 appears 940 times for MRSA_Score.\n",
      "There are 0 null values, 0 appears 152 times for CDI_Score.\n"
     ]
    }
   ],
   "source": [
    "for f in feat_list[2:]:\n",
    "    null = reduc[f].isnull().sum()\n",
    "    temp_zero = len(reduc[reduc[f] == 0]) \n",
    "    print \"There are %s null values, 0 appears %s times for %s.\" % (null, temp_zero, f)\n",
    "    #Nans exists here too but there are no 0s"
   ]
  },
  {
   "cell_type": "code",
   "execution_count": 441,
   "metadata": {
    "collapsed": false
   },
   "outputs": [],
   "source": [
    "for f in feat_list[1:]:\n",
    "    reduc[f].fillna(value=0,inplace=True)"
   ]
  },
  {
   "cell_type": "code",
   "execution_count": 442,
   "metadata": {
    "collapsed": false
   },
   "outputs": [
    {
     "name": "stdout",
     "output_type": "stream",
     "text": [
      "<class 'pandas.core.frame.DataFrame'>\n",
      "RangeIndex: 3313 entries, 0 to 3312\n",
      "Data columns (total 8 columns):\n",
      "Hospital_Name        3313 non-null object\n",
      "State                3313 non-null object\n",
      "AHRQ_PSI_90_Score    3313 non-null float64\n",
      "CLABSI_Score         3313 non-null float64\n",
      "CAUTI_Score          3313 non-null float64\n",
      "SSI_Score            3313 non-null float64\n",
      "MRSA_Score           3313 non-null float64\n",
      "CDI_Score            3313 non-null float64\n",
      "dtypes: float64(6), object(2)\n",
      "memory usage: 207.1+ KB\n"
     ]
    }
   ],
   "source": [
    "reduc.info() #Replaced the null values. Don't need to pivot this table "
   ]
  },
  {
   "cell_type": "markdown",
   "metadata": {},
   "source": [
    "#### Features related to spending by claim "
   ]
  },
  {
   "cell_type": "code",
   "execution_count": 1394,
   "metadata": {
    "collapsed": false
   },
   "outputs": [
    {
     "data": {
      "text/html": [
       "<div>\n",
       "<table border=\"1\" class=\"dataframe\">\n",
       "  <thead>\n",
       "    <tr style=\"text-align: right;\">\n",
       "      <th></th>\n",
       "      <th>Hospital_Name</th>\n",
       "      <th>Provider_ID</th>\n",
       "      <th>State</th>\n",
       "      <th>Period</th>\n",
       "      <th>Claim_Type</th>\n",
       "      <th>Avg_Spending_Per_Episode_Hospital</th>\n",
       "      <th>Avg_Spending_Per_Episode_State</th>\n",
       "      <th>Avg_Spending_Per_Episode_Nation</th>\n",
       "      <th>Percent_of_Spending_Hospital</th>\n",
       "      <th>Percent_of_Spending_State</th>\n",
       "      <th>Percent_of_Spending_Nation</th>\n",
       "    </tr>\n",
       "  </thead>\n",
       "  <tbody>\n",
       "    <tr>\n",
       "      <th>0</th>\n",
       "      <td>HELEN KELLER HOSPITAL</td>\n",
       "      <td>10019</td>\n",
       "      <td>AL</td>\n",
       "      <td>During Index Hospital Admission</td>\n",
       "      <td>Skilled Nursing Facility</td>\n",
       "      <td>$0.00</td>\n",
       "      <td>$0.00</td>\n",
       "      <td>$0.00</td>\n",
       "      <td>0%</td>\n",
       "      <td>0%</td>\n",
       "      <td>0%</td>\n",
       "    </tr>\n",
       "    <tr>\n",
       "      <th>1</th>\n",
       "      <td>HELEN KELLER HOSPITAL</td>\n",
       "      <td>10019</td>\n",
       "      <td>AL</td>\n",
       "      <td>During Index Hospital Admission</td>\n",
       "      <td>Durable Medical Equipment</td>\n",
       "      <td>$18.00</td>\n",
       "      <td>$31.00</td>\n",
       "      <td>$24.00</td>\n",
       "      <td>0.1%</td>\n",
       "      <td>0.16%</td>\n",
       "      <td>0.12%</td>\n",
       "    </tr>\n",
       "    <tr>\n",
       "      <th>2</th>\n",
       "      <td>HELEN KELLER HOSPITAL</td>\n",
       "      <td>10019</td>\n",
       "      <td>AL</td>\n",
       "      <td>During Index Hospital Admission</td>\n",
       "      <td>Carrier</td>\n",
       "      <td>$1062.00</td>\n",
       "      <td>$1480.00</td>\n",
       "      <td>$1540.00</td>\n",
       "      <td>6.01%</td>\n",
       "      <td>7.71%</td>\n",
       "      <td>7.52%</td>\n",
       "    </tr>\n",
       "    <tr>\n",
       "      <th>3</th>\n",
       "      <td>HELEN KELLER HOSPITAL</td>\n",
       "      <td>10019</td>\n",
       "      <td>AL</td>\n",
       "      <td>1 through 30 days After Discharge from Index H...</td>\n",
       "      <td>Home Health Agency</td>\n",
       "      <td>$917.00</td>\n",
       "      <td>$948.00</td>\n",
       "      <td>$816.00</td>\n",
       "      <td>5.19%</td>\n",
       "      <td>4.94%</td>\n",
       "      <td>3.98%</td>\n",
       "    </tr>\n",
       "    <tr>\n",
       "      <th>4</th>\n",
       "      <td>HELEN KELLER HOSPITAL</td>\n",
       "      <td>10019</td>\n",
       "      <td>AL</td>\n",
       "      <td>1 through 30 days After Discharge from Index H...</td>\n",
       "      <td>Hospice</td>\n",
       "      <td>$172.00</td>\n",
       "      <td>$154.00</td>\n",
       "      <td>$122.00</td>\n",
       "      <td>0.97%</td>\n",
       "      <td>0.8%</td>\n",
       "      <td>0.6%</td>\n",
       "    </tr>\n",
       "  </tbody>\n",
       "</table>\n",
       "</div>"
      ],
      "text/plain": [
       "           Hospital_Name  Provider_ID State  \\\n",
       "0  HELEN KELLER HOSPITAL        10019    AL   \n",
       "1  HELEN KELLER HOSPITAL        10019    AL   \n",
       "2  HELEN KELLER HOSPITAL        10019    AL   \n",
       "3  HELEN KELLER HOSPITAL        10019    AL   \n",
       "4  HELEN KELLER HOSPITAL        10019    AL   \n",
       "\n",
       "                                              Period  \\\n",
       "0                    During Index Hospital Admission   \n",
       "1                    During Index Hospital Admission   \n",
       "2                    During Index Hospital Admission   \n",
       "3  1 through 30 days After Discharge from Index H...   \n",
       "4  1 through 30 days After Discharge from Index H...   \n",
       "\n",
       "                  Claim_Type Avg_Spending_Per_Episode_Hospital  \\\n",
       "0   Skilled Nursing Facility                             $0.00   \n",
       "1  Durable Medical Equipment                            $18.00   \n",
       "2                    Carrier                          $1062.00   \n",
       "3         Home Health Agency                           $917.00   \n",
       "4                    Hospice                           $172.00   \n",
       "\n",
       "  Avg_Spending_Per_Episode_State Avg_Spending_Per_Episode_Nation  \\\n",
       "0                          $0.00                           $0.00   \n",
       "1                         $31.00                          $24.00   \n",
       "2                       $1480.00                        $1540.00   \n",
       "3                        $948.00                         $816.00   \n",
       "4                        $154.00                         $122.00   \n",
       "\n",
       "  Percent_of_Spending_Hospital Percent_of_Spending_State  \\\n",
       "0                           0%                        0%   \n",
       "1                         0.1%                     0.16%   \n",
       "2                        6.01%                     7.71%   \n",
       "3                        5.19%                     4.94%   \n",
       "4                        0.97%                      0.8%   \n",
       "\n",
       "  Percent_of_Spending_Nation  \n",
       "0                         0%  \n",
       "1                      0.12%  \n",
       "2                      7.52%  \n",
       "3                      3.98%  \n",
       "4                       0.6%  "
      ]
     },
     "execution_count": 1394,
     "metadata": {},
     "output_type": "execute_result"
    }
   ],
   "source": [
    "spending = pd.read_csv('Medicare_Hospital_Spending_by_Claim.csv')\n",
    "spending.head()"
   ]
  },
  {
   "cell_type": "code",
   "execution_count": 1395,
   "metadata": {
    "collapsed": false
   },
   "outputs": [],
   "source": [
    "spending = spending[(spending['Claim_Type'] == 'Inpatient') | (spending['Claim_Type'] == 'Outpatient') ]"
   ]
  },
  {
   "cell_type": "code",
   "execution_count": 1396,
   "metadata": {
    "collapsed": true
   },
   "outputs": [],
   "source": [
    "spending = spending[(spending['Period'] == '1 through 30 days After Discharge from Index Hospital Admission') | \n",
    "                    (spending['Period'] == '1 to 3 days Prior to Index Hospital Admission') |\n",
    "                    (spending['Period'] == 'During Index Hospital Admission')]"
   ]
  },
  {
   "cell_type": "code",
   "execution_count": 1397,
   "metadata": {
    "collapsed": false
   },
   "outputs": [],
   "source": [
    "spending['Avg_Spending_Per_Episode_Hospital'] = (spending.Avg_Spending_Per_Episode_Hospital.str.replace('$', ' ')).astype(float) \n",
    "#Removing $, convert to float"
   ]
  },
  {
   "cell_type": "code",
   "execution_count": 1398,
   "metadata": {
    "collapsed": false
   },
   "outputs": [
    {
     "data": {
      "text/plain": [
       "0"
      ]
     },
     "execution_count": 1398,
     "metadata": {},
     "output_type": "execute_result"
    }
   ],
   "source": [
    "spending.Avg_Spending_Per_Episode_Hospital.isnull().sum() #No missing values here"
   ]
  },
  {
   "cell_type": "code",
   "execution_count": 1402,
   "metadata": {
    "collapsed": false
   },
   "outputs": [
    {
     "data": {
      "text/plain": [
       "4616"
      ]
     },
     "execution_count": 1402,
     "metadata": {},
     "output_type": "execute_result"
    }
   ],
   "source": [
    "len(spending[spending['Avg_Spending_Per_Episode_Hospital'] == 0])"
   ]
  },
  {
   "cell_type": "code",
   "execution_count": 1399,
   "metadata": {
    "collapsed": false
   },
   "outputs": [
    {
     "data": {
      "text/plain": [
       "array([  2518.,    473.,     12., ...,   1140.,  10706.,   9437.])"
      ]
     },
     "execution_count": 1399,
     "metadata": {},
     "output_type": "execute_result"
    }
   ],
   "source": [
    "spending.Avg_Spending_Per_Episode_Hospital.unique()"
   ]
  },
  {
   "cell_type": "code",
   "execution_count": 449,
   "metadata": {
    "collapsed": false
   },
   "outputs": [],
   "source": [
    "spending_in = spending[spending['Claim_Type'] == 'Inpatient']\n",
    "spending_out = spending[spending['Claim_Type'] == 'Outpatient']"
   ]
  },
  {
   "cell_type": "code",
   "execution_count": 528,
   "metadata": {
    "collapsed": false
   },
   "outputs": [],
   "source": [
    "spending_in_pivot = pd.pivot_table(spending_in, index=['Hospital_Name', 'State'], columns='Period', values='Avg_Spending_Per_Episode_Hospital')"
   ]
  },
  {
   "cell_type": "code",
   "execution_count": 529,
   "metadata": {
    "collapsed": false
   },
   "outputs": [
    {
     "name": "stdout",
     "output_type": "stream",
     "text": [
      "['1 through 30 days After Discharge from Index Hospital Admission_inpatient', '1 to 3 days Prior to Index Hospital Admission_inpatient', 'During Index Hospital Admission_inpatient']\n"
     ]
    }
   ],
   "source": [
    "spending_in_pivot_col = list(spending_in_pivot.columns.values)\n",
    "spending_in_cols = []\n",
    "for i in spending_in_pivot.columns:\n",
    "    spending_in_cols.append(i + '_inpatient')\n",
    "print spending_in_cols"
   ]
  },
  {
   "cell_type": "code",
   "execution_count": 530,
   "metadata": {
    "collapsed": true
   },
   "outputs": [],
   "source": [
    "spending_in_pivot.columns = spending_in_cols"
   ]
  },
  {
   "cell_type": "code",
   "execution_count": 531,
   "metadata": {
    "collapsed": false
   },
   "outputs": [
    {
     "name": "stdout",
     "output_type": "stream",
     "text": [
      "<class 'pandas.core.frame.DataFrame'>\n",
      "MultiIndex: 3156 entries, (ABBEVILLE GENERAL HOSPITAL, LA) to (ZUNI COMPREHENSIVE COMMUNITY HEALTH CENTER, NM)\n",
      "Data columns (total 3 columns):\n",
      "1 through 30 days After Discharge from Index Hospital Admission_inpatient    3156 non-null float64\n",
      "1 to 3 days Prior to Index Hospital Admission_inpatient                      3156 non-null float64\n",
      "During Index Hospital Admission_inpatient                                    3156 non-null float64\n",
      "dtypes: float64(3)\n",
      "memory usage: 98.6+ KB\n"
     ]
    }
   ],
   "source": [
    "spending_in_pivot.info()"
   ]
  },
  {
   "cell_type": "code",
   "execution_count": null,
   "metadata": {
    "collapsed": true
   },
   "outputs": [],
   "source": [
    "#There are no null values here but I want to check for 0s and for 'Not Availables'. In this case 0 isn't necessarily\n",
    "# a missing value. There shouldn't be zeros in the During Index Hospital Admission column"
   ]
  },
  {
   "cell_type": "code",
   "execution_count": 1407,
   "metadata": {
    "collapsed": false
   },
   "outputs": [
    {
     "name": "stdout",
     "output_type": "stream",
     "text": [
      "4\n",
      "1438\n",
      "0\n"
     ]
    }
   ],
   "source": [
    "for x in ['1 through 30 days After Discharge from Index Hospital Admission_inpatient', \n",
    "          '1 to 3 days Prior to Index Hospital Admission_inpatient', 'During Index Hospital Admission_inpatient']:\n",
    "    print len(spending_in_pivot[spending_in_pivot[x] == 0])"
   ]
  },
  {
   "cell_type": "code",
   "execution_count": 522,
   "metadata": {
    "collapsed": true
   },
   "outputs": [],
   "source": [
    "spending_out_pivot = pd.pivot_table(spending_out, index=['Hospital_Name','State'], columns='Period', values='Avg_Spending_Per_Episode_Hospital')"
   ]
  },
  {
   "cell_type": "code",
   "execution_count": 523,
   "metadata": {
    "collapsed": false
   },
   "outputs": [
    {
     "name": "stdout",
     "output_type": "stream",
     "text": [
      "['1 through 30 days After Discharge from Index Hospital Admission_outpatient', '1 to 3 days Prior to Index Hospital Admission_outpatient', 'During Index Hospital Admission_outpatient']\n"
     ]
    }
   ],
   "source": [
    "spending_out_pivot_col = list(spending_out_pivot.columns.values)\n",
    "spending_out_cols = []\n",
    "for i in spending_out_pivot.columns:\n",
    "    spending_out_cols.append(i + '_outpatient')\n",
    "print spending_out_cols"
   ]
  },
  {
   "cell_type": "code",
   "execution_count": 525,
   "metadata": {
    "collapsed": false
   },
   "outputs": [],
   "source": [
    "spending_out_pivot.columns = spending_out_cols"
   ]
  },
  {
   "cell_type": "code",
   "execution_count": 532,
   "metadata": {
    "collapsed": false
   },
   "outputs": [
    {
     "name": "stdout",
     "output_type": "stream",
     "text": [
      "<class 'pandas.core.frame.DataFrame'>\n",
      "MultiIndex: 3156 entries, (ABBEVILLE GENERAL HOSPITAL, LA) to (ZUNI COMPREHENSIVE COMMUNITY HEALTH CENTER, NM)\n",
      "Data columns (total 3 columns):\n",
      "1 through 30 days After Discharge from Index Hospital Admission_outpatient    3156 non-null float64\n",
      "1 to 3 days Prior to Index Hospital Admission_outpatient                      3156 non-null float64\n",
      "During Index Hospital Admission_outpatient                                    3156 non-null float64\n",
      "dtypes: float64(3)\n",
      "memory usage: 98.6+ KB\n"
     ]
    }
   ],
   "source": [
    "spending_out_pivot.info()"
   ]
  },
  {
   "cell_type": "code",
   "execution_count": 787,
   "metadata": {
    "collapsed": false
   },
   "outputs": [
    {
     "data": {
      "text/html": [
       "<div>\n",
       "<table border=\"1\" class=\"dataframe\">\n",
       "  <thead>\n",
       "    <tr style=\"text-align: right;\">\n",
       "      <th></th>\n",
       "      <th></th>\n",
       "      <th>1 through 30 days After Discharge from Index Hospital Admission_outpatient</th>\n",
       "      <th>1 to 3 days Prior to Index Hospital Admission_outpatient</th>\n",
       "      <th>During Index Hospital Admission_outpatient</th>\n",
       "    </tr>\n",
       "    <tr>\n",
       "      <th>Hospital_Name</th>\n",
       "      <th>State</th>\n",
       "      <th></th>\n",
       "      <th></th>\n",
       "      <th></th>\n",
       "    </tr>\n",
       "  </thead>\n",
       "  <tbody>\n",
       "    <tr>\n",
       "      <th>ABBEVILLE GENERAL HOSPITAL</th>\n",
       "      <th>LA</th>\n",
       "      <td>776.0</td>\n",
       "      <td>41.0</td>\n",
       "      <td>0.0</td>\n",
       "    </tr>\n",
       "    <tr>\n",
       "      <th>ABBOTT NORTHWESTERN HOSPITAL</th>\n",
       "      <th>MN</th>\n",
       "      <td>903.0</td>\n",
       "      <td>543.0</td>\n",
       "      <td>0.0</td>\n",
       "    </tr>\n",
       "    <tr>\n",
       "      <th>ABILENE REGIONAL MEDICAL CENTER</th>\n",
       "      <th>TX</th>\n",
       "      <td>622.0</td>\n",
       "      <td>246.0</td>\n",
       "      <td>0.0</td>\n",
       "    </tr>\n",
       "    <tr>\n",
       "      <th>ABINGTON HEALTH LANSDALE HOSPITAL</th>\n",
       "      <th>PA</th>\n",
       "      <td>602.0</td>\n",
       "      <td>27.0</td>\n",
       "      <td>0.0</td>\n",
       "    </tr>\n",
       "    <tr>\n",
       "      <th>ABINGTON MEMORIAL HOSPITAL</th>\n",
       "      <th>PA</th>\n",
       "      <td>666.0</td>\n",
       "      <td>45.0</td>\n",
       "      <td>0.0</td>\n",
       "    </tr>\n",
       "  </tbody>\n",
       "</table>\n",
       "</div>"
      ],
      "text/plain": [
       "                                         1 through 30 days After Discharge from Index Hospital Admission_outpatient  \\\n",
       "Hospital_Name                     State                                                                               \n",
       "ABBEVILLE GENERAL HOSPITAL        LA                                                 776.0                            \n",
       "ABBOTT NORTHWESTERN HOSPITAL      MN                                                 903.0                            \n",
       "ABILENE REGIONAL MEDICAL CENTER   TX                                                 622.0                            \n",
       "ABINGTON HEALTH LANSDALE HOSPITAL PA                                                 602.0                            \n",
       "ABINGTON MEMORIAL HOSPITAL        PA                                                 666.0                            \n",
       "\n",
       "                                         1 to 3 days Prior to Index Hospital Admission_outpatient  \\\n",
       "Hospital_Name                     State                                                             \n",
       "ABBEVILLE GENERAL HOSPITAL        LA                                                  41.0          \n",
       "ABBOTT NORTHWESTERN HOSPITAL      MN                                                 543.0          \n",
       "ABILENE REGIONAL MEDICAL CENTER   TX                                                 246.0          \n",
       "ABINGTON HEALTH LANSDALE HOSPITAL PA                                                  27.0          \n",
       "ABINGTON MEMORIAL HOSPITAL        PA                                                  45.0          \n",
       "\n",
       "                                         During Index Hospital Admission_outpatient  \n",
       "Hospital_Name                     State                                              \n",
       "ABBEVILLE GENERAL HOSPITAL        LA                                            0.0  \n",
       "ABBOTT NORTHWESTERN HOSPITAL      MN                                            0.0  \n",
       "ABILENE REGIONAL MEDICAL CENTER   TX                                            0.0  \n",
       "ABINGTON HEALTH LANSDALE HOSPITAL PA                                            0.0  \n",
       "ABINGTON MEMORIAL HOSPITAL        PA                                            0.0  "
      ]
     },
     "execution_count": 787,
     "metadata": {},
     "output_type": "execute_result"
    }
   ],
   "source": [
    "spending_out_pivot.head()"
   ]
  },
  {
   "cell_type": "code",
   "execution_count": 789,
   "metadata": {
    "collapsed": false
   },
   "outputs": [],
   "source": [
    "spending_out_pivot.drop('During Index Hospital Admission_outpatient', axis=1, inplace=True)\n",
    "#Dropping this column - its all zeros because there is not inpatient spending for outpatient care!!"
   ]
  },
  {
   "cell_type": "code",
   "execution_count": 790,
   "metadata": {
    "collapsed": false
   },
   "outputs": [
    {
     "data": {
      "text/html": [
       "<div>\n",
       "<table border=\"1\" class=\"dataframe\">\n",
       "  <thead>\n",
       "    <tr style=\"text-align: right;\">\n",
       "      <th></th>\n",
       "      <th></th>\n",
       "      <th>1 through 30 days After Discharge from Index Hospital Admission_outpatient</th>\n",
       "      <th>1 to 3 days Prior to Index Hospital Admission_outpatient</th>\n",
       "    </tr>\n",
       "    <tr>\n",
       "      <th>Hospital_Name</th>\n",
       "      <th>State</th>\n",
       "      <th></th>\n",
       "      <th></th>\n",
       "    </tr>\n",
       "  </thead>\n",
       "  <tbody>\n",
       "    <tr>\n",
       "      <th>ABBEVILLE GENERAL HOSPITAL</th>\n",
       "      <th>LA</th>\n",
       "      <td>776.0</td>\n",
       "      <td>41.0</td>\n",
       "    </tr>\n",
       "    <tr>\n",
       "      <th>ABBOTT NORTHWESTERN HOSPITAL</th>\n",
       "      <th>MN</th>\n",
       "      <td>903.0</td>\n",
       "      <td>543.0</td>\n",
       "    </tr>\n",
       "    <tr>\n",
       "      <th>ABILENE REGIONAL MEDICAL CENTER</th>\n",
       "      <th>TX</th>\n",
       "      <td>622.0</td>\n",
       "      <td>246.0</td>\n",
       "    </tr>\n",
       "    <tr>\n",
       "      <th>ABINGTON HEALTH LANSDALE HOSPITAL</th>\n",
       "      <th>PA</th>\n",
       "      <td>602.0</td>\n",
       "      <td>27.0</td>\n",
       "    </tr>\n",
       "    <tr>\n",
       "      <th>ABINGTON MEMORIAL HOSPITAL</th>\n",
       "      <th>PA</th>\n",
       "      <td>666.0</td>\n",
       "      <td>45.0</td>\n",
       "    </tr>\n",
       "  </tbody>\n",
       "</table>\n",
       "</div>"
      ],
      "text/plain": [
       "                                         1 through 30 days After Discharge from Index Hospital Admission_outpatient  \\\n",
       "Hospital_Name                     State                                                                               \n",
       "ABBEVILLE GENERAL HOSPITAL        LA                                                 776.0                            \n",
       "ABBOTT NORTHWESTERN HOSPITAL      MN                                                 903.0                            \n",
       "ABILENE REGIONAL MEDICAL CENTER   TX                                                 622.0                            \n",
       "ABINGTON HEALTH LANSDALE HOSPITAL PA                                                 602.0                            \n",
       "ABINGTON MEMORIAL HOSPITAL        PA                                                 666.0                            \n",
       "\n",
       "                                         1 to 3 days Prior to Index Hospital Admission_outpatient  \n",
       "Hospital_Name                     State                                                            \n",
       "ABBEVILLE GENERAL HOSPITAL        LA                                                  41.0         \n",
       "ABBOTT NORTHWESTERN HOSPITAL      MN                                                 543.0         \n",
       "ABILENE REGIONAL MEDICAL CENTER   TX                                                 246.0         \n",
       "ABINGTON HEALTH LANSDALE HOSPITAL PA                                                  27.0         \n",
       "ABINGTON MEMORIAL HOSPITAL        PA                                                  45.0         "
      ]
     },
     "execution_count": 790,
     "metadata": {},
     "output_type": "execute_result"
    }
   ],
   "source": [
    "spending_out_pivot.head()"
   ]
  },
  {
   "cell_type": "code",
   "execution_count": 1410,
   "metadata": {
    "collapsed": false
   },
   "outputs": [
    {
     "name": "stdout",
     "output_type": "stream",
     "text": [
      "0\n",
      "4\n"
     ]
    }
   ],
   "source": [
    "for x in ['1 through 30 days After Discharge from Index Hospital Admission_outpatient', \n",
    "          '1 to 3 days Prior to Index Hospital Admission_outpatient']:\n",
    "    print len(spending_out_pivot[spending_out_pivot[x] == 0])"
   ]
  },
  {
   "cell_type": "markdown",
   "metadata": {},
   "source": [
    "#### Spending by Claim (HF, AMI, PN)"
   ]
  },
  {
   "cell_type": "code",
   "execution_count": 455,
   "metadata": {
    "collapsed": false
   },
   "outputs": [
    {
     "data": {
      "text/html": [
       "<div>\n",
       "<table border=\"1\" class=\"dataframe\">\n",
       "  <thead>\n",
       "    <tr style=\"text-align: right;\">\n",
       "      <th></th>\n",
       "      <th>Provider ID</th>\n",
       "      <th>Hospital name</th>\n",
       "      <th>Address</th>\n",
       "      <th>City</th>\n",
       "      <th>State</th>\n",
       "      <th>ZIP Code</th>\n",
       "      <th>County name</th>\n",
       "      <th>Phone number</th>\n",
       "      <th>Payment measure name</th>\n",
       "      <th>Payment measure ID</th>\n",
       "      <th>...</th>\n",
       "      <th>Lower estimate</th>\n",
       "      <th>Higher estimate</th>\n",
       "      <th>Payment footnote</th>\n",
       "      <th>Value of care display name</th>\n",
       "      <th>Value of care display ID</th>\n",
       "      <th>Value of care category</th>\n",
       "      <th>Value of care footnote</th>\n",
       "      <th>Measure start date</th>\n",
       "      <th>Measure End Date</th>\n",
       "      <th>Location</th>\n",
       "    </tr>\n",
       "  </thead>\n",
       "  <tbody>\n",
       "    <tr>\n",
       "      <th>0</th>\n",
       "      <td>10005</td>\n",
       "      <td>MARSHALL MEDICAL CENTER SOUTH</td>\n",
       "      <td>2505 U S HIGHWAY 431 NORTH</td>\n",
       "      <td>BOAZ</td>\n",
       "      <td>AL</td>\n",
       "      <td>35957</td>\n",
       "      <td>MARSHALL</td>\n",
       "      <td>2565938310</td>\n",
       "      <td>Payment for heart attack patients</td>\n",
       "      <td>PAYM_30_AMI</td>\n",
       "      <td>...</td>\n",
       "      <td>$20,404</td>\n",
       "      <td>$26,226</td>\n",
       "      <td>NaN</td>\n",
       "      <td>Value of Care Heart Attack measure</td>\n",
       "      <td>MORT_PAYM_30_AMI</td>\n",
       "      <td>Average mortality and average payment</td>\n",
       "      <td>NaN</td>\n",
       "      <td>07/01/2012</td>\n",
       "      <td>06/30/2015</td>\n",
       "      <td>2505 U S HIGHWAY 431 NORTH\\nBOAZ, AL 35957\\n</td>\n",
       "    </tr>\n",
       "    <tr>\n",
       "      <th>1</th>\n",
       "      <td>10005</td>\n",
       "      <td>MARSHALL MEDICAL CENTER SOUTH</td>\n",
       "      <td>2505 U S HIGHWAY 431 NORTH</td>\n",
       "      <td>BOAZ</td>\n",
       "      <td>AL</td>\n",
       "      <td>35957</td>\n",
       "      <td>MARSHALL</td>\n",
       "      <td>2565938310</td>\n",
       "      <td>Payment for heart failure patients</td>\n",
       "      <td>PAYM_30_HF</td>\n",
       "      <td>...</td>\n",
       "      <td>$15,237</td>\n",
       "      <td>$17,547</td>\n",
       "      <td>NaN</td>\n",
       "      <td>Value of Care Heart Failure measure</td>\n",
       "      <td>MORT_PAYM_30_HF</td>\n",
       "      <td>Worse mortality and average payment</td>\n",
       "      <td>NaN</td>\n",
       "      <td>07/01/2012</td>\n",
       "      <td>06/30/2015</td>\n",
       "      <td>2505 U S HIGHWAY 431 NORTH\\nBOAZ, AL 35957\\n</td>\n",
       "    </tr>\n",
       "    <tr>\n",
       "      <th>2</th>\n",
       "      <td>10005</td>\n",
       "      <td>MARSHALL MEDICAL CENTER SOUTH</td>\n",
       "      <td>2505 U S HIGHWAY 431 NORTH</td>\n",
       "      <td>BOAZ</td>\n",
       "      <td>AL</td>\n",
       "      <td>35957</td>\n",
       "      <td>MARSHALL</td>\n",
       "      <td>2565938310</td>\n",
       "      <td>Payment for pneumonia patients</td>\n",
       "      <td>PAYM_30_PN</td>\n",
       "      <td>...</td>\n",
       "      <td>$13,642</td>\n",
       "      <td>$15,118</td>\n",
       "      <td>NaN</td>\n",
       "      <td>Value of Care Pneumonia measure</td>\n",
       "      <td>MORT_PAYM_30_PN</td>\n",
       "      <td>Worse mortality and average payment</td>\n",
       "      <td>NaN</td>\n",
       "      <td>07/01/2012</td>\n",
       "      <td>06/30/2015</td>\n",
       "      <td>2505 U S HIGHWAY 431 NORTH\\nBOAZ, AL 35957\\n</td>\n",
       "    </tr>\n",
       "    <tr>\n",
       "      <th>3</th>\n",
       "      <td>10012</td>\n",
       "      <td>DEKALB REGIONAL MEDICAL CENTER</td>\n",
       "      <td>200 MED CENTER DRIVE</td>\n",
       "      <td>FORT PAYNE</td>\n",
       "      <td>AL</td>\n",
       "      <td>35968</td>\n",
       "      <td>DE KALB</td>\n",
       "      <td>2568453150</td>\n",
       "      <td>Payment for heart attack patients</td>\n",
       "      <td>PAYM_30_AMI</td>\n",
       "      <td>...</td>\n",
       "      <td>$20,910</td>\n",
       "      <td>$25,353</td>\n",
       "      <td>NaN</td>\n",
       "      <td>Value of Care Heart Attack measure</td>\n",
       "      <td>MORT_PAYM_30_AMI</td>\n",
       "      <td>Average mortality and average payment</td>\n",
       "      <td>NaN</td>\n",
       "      <td>07/01/2012</td>\n",
       "      <td>06/30/2015</td>\n",
       "      <td>200 MED CENTER DRIVE\\nFORT PAYNE, AL 35968\\n</td>\n",
       "    </tr>\n",
       "    <tr>\n",
       "      <th>4</th>\n",
       "      <td>10012</td>\n",
       "      <td>DEKALB REGIONAL MEDICAL CENTER</td>\n",
       "      <td>200 MED CENTER DRIVE</td>\n",
       "      <td>FORT PAYNE</td>\n",
       "      <td>AL</td>\n",
       "      <td>35968</td>\n",
       "      <td>DE KALB</td>\n",
       "      <td>2568453150</td>\n",
       "      <td>Payment for heart failure patients</td>\n",
       "      <td>PAYM_30_HF</td>\n",
       "      <td>...</td>\n",
       "      <td>$15,113</td>\n",
       "      <td>$18,491</td>\n",
       "      <td>NaN</td>\n",
       "      <td>Value of Care Heart Failure measure</td>\n",
       "      <td>MORT_PAYM_30_HF</td>\n",
       "      <td>Average mortality and average payment</td>\n",
       "      <td>NaN</td>\n",
       "      <td>07/01/2012</td>\n",
       "      <td>06/30/2015</td>\n",
       "      <td>200 MED CENTER DRIVE\\nFORT PAYNE, AL 35968\\n</td>\n",
       "    </tr>\n",
       "  </tbody>\n",
       "</table>\n",
       "<p>5 rows × 23 columns</p>\n",
       "</div>"
      ],
      "text/plain": [
       "   Provider ID                   Hospital name                     Address  \\\n",
       "0        10005   MARSHALL MEDICAL CENTER SOUTH  2505 U S HIGHWAY 431 NORTH   \n",
       "1        10005   MARSHALL MEDICAL CENTER SOUTH  2505 U S HIGHWAY 431 NORTH   \n",
       "2        10005   MARSHALL MEDICAL CENTER SOUTH  2505 U S HIGHWAY 431 NORTH   \n",
       "3        10012  DEKALB REGIONAL MEDICAL CENTER        200 MED CENTER DRIVE   \n",
       "4        10012  DEKALB REGIONAL MEDICAL CENTER        200 MED CENTER DRIVE   \n",
       "\n",
       "         City State  ZIP Code County name  Phone number  \\\n",
       "0        BOAZ    AL     35957    MARSHALL    2565938310   \n",
       "1        BOAZ    AL     35957    MARSHALL    2565938310   \n",
       "2        BOAZ    AL     35957    MARSHALL    2565938310   \n",
       "3  FORT PAYNE    AL     35968     DE KALB    2568453150   \n",
       "4  FORT PAYNE    AL     35968     DE KALB    2568453150   \n",
       "\n",
       "                 Payment measure name Payment measure ID  \\\n",
       "0   Payment for heart attack patients        PAYM_30_AMI   \n",
       "1  Payment for heart failure patients         PAYM_30_HF   \n",
       "2      Payment for pneumonia patients         PAYM_30_PN   \n",
       "3   Payment for heart attack patients        PAYM_30_AMI   \n",
       "4  Payment for heart failure patients         PAYM_30_HF   \n",
       "\n",
       "                       ...                      Lower estimate  \\\n",
       "0                      ...                             $20,404   \n",
       "1                      ...                             $15,237   \n",
       "2                      ...                             $13,642   \n",
       "3                      ...                             $20,910   \n",
       "4                      ...                             $15,113   \n",
       "\n",
       "  Higher estimate Payment footnote           Value of care display name  \\\n",
       "0         $26,226              NaN   Value of Care Heart Attack measure   \n",
       "1         $17,547              NaN  Value of Care Heart Failure measure   \n",
       "2         $15,118              NaN      Value of Care Pneumonia measure   \n",
       "3         $25,353              NaN   Value of Care Heart Attack measure   \n",
       "4         $18,491              NaN  Value of Care Heart Failure measure   \n",
       "\n",
       "  Value of care display ID                 Value of care category  \\\n",
       "0         MORT_PAYM_30_AMI  Average mortality and average payment   \n",
       "1          MORT_PAYM_30_HF    Worse mortality and average payment   \n",
       "2          MORT_PAYM_30_PN    Worse mortality and average payment   \n",
       "3         MORT_PAYM_30_AMI  Average mortality and average payment   \n",
       "4          MORT_PAYM_30_HF  Average mortality and average payment   \n",
       "\n",
       "  Value of care footnote Measure start date Measure End Date  \\\n",
       "0                    NaN         07/01/2012       06/30/2015   \n",
       "1                    NaN         07/01/2012       06/30/2015   \n",
       "2                    NaN         07/01/2012       06/30/2015   \n",
       "3                    NaN         07/01/2012       06/30/2015   \n",
       "4                    NaN         07/01/2012       06/30/2015   \n",
       "\n",
       "                                       Location  \n",
       "0  2505 U S HIGHWAY 431 NORTH\\nBOAZ, AL 35957\\n  \n",
       "1  2505 U S HIGHWAY 431 NORTH\\nBOAZ, AL 35957\\n  \n",
       "2  2505 U S HIGHWAY 431 NORTH\\nBOAZ, AL 35957\\n  \n",
       "3  200 MED CENTER DRIVE\\nFORT PAYNE, AL 35968\\n  \n",
       "4  200 MED CENTER DRIVE\\nFORT PAYNE, AL 35968\\n  \n",
       "\n",
       "[5 rows x 23 columns]"
      ]
     },
     "execution_count": 455,
     "metadata": {},
     "output_type": "execute_result"
    }
   ],
   "source": [
    "pay = pd.read_csv('Payment_and_value_of_care_-_Hospital.csv')\n",
    "pay.head()"
   ]
  },
  {
   "cell_type": "code",
   "execution_count": 456,
   "metadata": {
    "collapsed": false
   },
   "outputs": [
    {
     "data": {
      "text/html": [
       "<div>\n",
       "<table border=\"1\" class=\"dataframe\">\n",
       "  <thead>\n",
       "    <tr style=\"text-align: right;\">\n",
       "      <th></th>\n",
       "      <th>Hospital name</th>\n",
       "      <th>State</th>\n",
       "      <th>Payment measure ID</th>\n",
       "      <th>Payment</th>\n",
       "      <th>Lower estimate</th>\n",
       "      <th>Higher estimate</th>\n",
       "    </tr>\n",
       "  </thead>\n",
       "  <tbody>\n",
       "    <tr>\n",
       "      <th>0</th>\n",
       "      <td>MARSHALL MEDICAL CENTER SOUTH</td>\n",
       "      <td>AL</td>\n",
       "      <td>PAYM_30_AMI</td>\n",
       "      <td>$23,171</td>\n",
       "      <td>$20,404</td>\n",
       "      <td>$26,226</td>\n",
       "    </tr>\n",
       "    <tr>\n",
       "      <th>1</th>\n",
       "      <td>MARSHALL MEDICAL CENTER SOUTH</td>\n",
       "      <td>AL</td>\n",
       "      <td>PAYM_30_HF</td>\n",
       "      <td>$16,376</td>\n",
       "      <td>$15,237</td>\n",
       "      <td>$17,547</td>\n",
       "    </tr>\n",
       "    <tr>\n",
       "      <th>2</th>\n",
       "      <td>MARSHALL MEDICAL CENTER SOUTH</td>\n",
       "      <td>AL</td>\n",
       "      <td>PAYM_30_PN</td>\n",
       "      <td>$14,384</td>\n",
       "      <td>$13,642</td>\n",
       "      <td>$15,118</td>\n",
       "    </tr>\n",
       "    <tr>\n",
       "      <th>3</th>\n",
       "      <td>DEKALB REGIONAL MEDICAL CENTER</td>\n",
       "      <td>AL</td>\n",
       "      <td>PAYM_30_AMI</td>\n",
       "      <td>$22,997</td>\n",
       "      <td>$20,910</td>\n",
       "      <td>$25,353</td>\n",
       "    </tr>\n",
       "    <tr>\n",
       "      <th>4</th>\n",
       "      <td>DEKALB REGIONAL MEDICAL CENTER</td>\n",
       "      <td>AL</td>\n",
       "      <td>PAYM_30_HF</td>\n",
       "      <td>$16,722</td>\n",
       "      <td>$15,113</td>\n",
       "      <td>$18,491</td>\n",
       "    </tr>\n",
       "  </tbody>\n",
       "</table>\n",
       "</div>"
      ],
      "text/plain": [
       "                    Hospital name State Payment measure ID  Payment  \\\n",
       "0   MARSHALL MEDICAL CENTER SOUTH    AL        PAYM_30_AMI  $23,171   \n",
       "1   MARSHALL MEDICAL CENTER SOUTH    AL         PAYM_30_HF  $16,376   \n",
       "2   MARSHALL MEDICAL CENTER SOUTH    AL         PAYM_30_PN  $14,384   \n",
       "3  DEKALB REGIONAL MEDICAL CENTER    AL        PAYM_30_AMI  $22,997   \n",
       "4  DEKALB REGIONAL MEDICAL CENTER    AL         PAYM_30_HF  $16,722   \n",
       "\n",
       "  Lower estimate Higher estimate  \n",
       "0        $20,404         $26,226  \n",
       "1        $15,237         $17,547  \n",
       "2        $13,642         $15,118  \n",
       "3        $20,910         $25,353  \n",
       "4        $15,113         $18,491  "
      ]
     },
     "execution_count": 456,
     "metadata": {},
     "output_type": "execute_result"
    }
   ],
   "source": [
    "pay_feat_list = ['Hospital name', 'State', 'Payment measure ID', 'Payment', 'Lower estimate', 'Higher estimate']\n",
    "pay = pay[pay_feat_list]\n",
    "pay.head ()"
   ]
  },
  {
   "cell_type": "code",
   "execution_count": 457,
   "metadata": {
    "collapsed": false
   },
   "outputs": [
    {
     "name": "stdout",
     "output_type": "stream",
     "text": [
      "There are 0 null values, 4547 'Not Availables' and 0 appears 0 times for Payment.\n",
      "There are 0 null values, 4547 'Not Availables' and 0 appears 0 times for Lower estimate.\n",
      "There are 0 null values, 4547 'Not Availables' and 0 appears 0 times for Higher estimate.\n"
     ]
    }
   ],
   "source": [
    "for f in pay_feat_list[3:6]:\n",
    "    null = pay[f].isnull().sum()\n",
    "    temp_zero = len(pay[pay[f] == 0]) \n",
    "    temp_na = len(pay[pay[f] == 'Not Available']) \n",
    "    print \"There are %s null values, %s 'Not Availables' and 0 appears %s times for %s.\" % (null, temp_na, temp_zero, f)\n",
    "    #Nans exists here too but there are no 0s"
   ]
  },
  {
   "cell_type": "code",
   "execution_count": 458,
   "metadata": {
    "collapsed": false
   },
   "outputs": [
    {
     "name": "stdout",
     "output_type": "stream",
     "text": [
      "There are 0 null values, 4547 'Not Availables' and 0 appears 0 times for Payment.\n",
      "There are 0 null values, 4547 'Not Availables' and 0 appears 0 times for Lower estimate.\n",
      "There are 0 null values, 4547 'Not Availables' and 0 appears 0 times for Higher estimate.\n"
     ]
    }
   ],
   "source": [
    "#Since there are no 0s, I will fill in Not Availables with 0\n",
    "for f in pay_feat_list[3:6]:\n",
    "    null = pay[f].isnull().sum()\n",
    "    temp_zero = len(pay[pay[f] == 0]) \n",
    "    temp_na = len(pay[pay[f] == 'Not Available']) \n",
    "    print \"There are %s null values, %s 'Not Availables' and 0 appears %s times for %s.\" % (null, temp_na, temp_zero, f)"
   ]
  },
  {
   "cell_type": "code",
   "execution_count": 459,
   "metadata": {
    "collapsed": false
   },
   "outputs": [],
   "source": [
    "for col in pay.columns[3:6]:\n",
    "    pay[col] = pay[col].replace({'Not Available':'0'})"
   ]
  },
  {
   "cell_type": "code",
   "execution_count": 460,
   "metadata": {
    "collapsed": false
   },
   "outputs": [],
   "source": [
    "for col in pay.columns[3:6]:\n",
    "    pay[col] = (pay[col].str.replace('$', ''))\n",
    "    pay[col] = (pay[col].str.replace(',', ''))\n",
    "    pay[col] = pay[col].astype(float)"
   ]
  },
  {
   "cell_type": "code",
   "execution_count": 461,
   "metadata": {
    "collapsed": false
   },
   "outputs": [
    {
     "data": {
      "text/html": [
       "<div>\n",
       "<table border=\"1\" class=\"dataframe\">\n",
       "  <thead>\n",
       "    <tr style=\"text-align: right;\">\n",
       "      <th></th>\n",
       "      <th>Hospital name</th>\n",
       "      <th>State</th>\n",
       "      <th>Payment measure ID</th>\n",
       "      <th>Payment</th>\n",
       "      <th>Lower estimate</th>\n",
       "      <th>Higher estimate</th>\n",
       "    </tr>\n",
       "  </thead>\n",
       "  <tbody>\n",
       "    <tr>\n",
       "      <th>0</th>\n",
       "      <td>MARSHALL MEDICAL CENTER SOUTH</td>\n",
       "      <td>AL</td>\n",
       "      <td>PAYM_30_AMI</td>\n",
       "      <td>23171.0</td>\n",
       "      <td>20404.0</td>\n",
       "      <td>26226.0</td>\n",
       "    </tr>\n",
       "    <tr>\n",
       "      <th>1</th>\n",
       "      <td>MARSHALL MEDICAL CENTER SOUTH</td>\n",
       "      <td>AL</td>\n",
       "      <td>PAYM_30_HF</td>\n",
       "      <td>16376.0</td>\n",
       "      <td>15237.0</td>\n",
       "      <td>17547.0</td>\n",
       "    </tr>\n",
       "    <tr>\n",
       "      <th>2</th>\n",
       "      <td>MARSHALL MEDICAL CENTER SOUTH</td>\n",
       "      <td>AL</td>\n",
       "      <td>PAYM_30_PN</td>\n",
       "      <td>14384.0</td>\n",
       "      <td>13642.0</td>\n",
       "      <td>15118.0</td>\n",
       "    </tr>\n",
       "    <tr>\n",
       "      <th>3</th>\n",
       "      <td>DEKALB REGIONAL MEDICAL CENTER</td>\n",
       "      <td>AL</td>\n",
       "      <td>PAYM_30_AMI</td>\n",
       "      <td>22997.0</td>\n",
       "      <td>20910.0</td>\n",
       "      <td>25353.0</td>\n",
       "    </tr>\n",
       "    <tr>\n",
       "      <th>4</th>\n",
       "      <td>DEKALB REGIONAL MEDICAL CENTER</td>\n",
       "      <td>AL</td>\n",
       "      <td>PAYM_30_HF</td>\n",
       "      <td>16722.0</td>\n",
       "      <td>15113.0</td>\n",
       "      <td>18491.0</td>\n",
       "    </tr>\n",
       "  </tbody>\n",
       "</table>\n",
       "</div>"
      ],
      "text/plain": [
       "                    Hospital name State Payment measure ID  Payment  \\\n",
       "0   MARSHALL MEDICAL CENTER SOUTH    AL        PAYM_30_AMI  23171.0   \n",
       "1   MARSHALL MEDICAL CENTER SOUTH    AL         PAYM_30_HF  16376.0   \n",
       "2   MARSHALL MEDICAL CENTER SOUTH    AL         PAYM_30_PN  14384.0   \n",
       "3  DEKALB REGIONAL MEDICAL CENTER    AL        PAYM_30_AMI  22997.0   \n",
       "4  DEKALB REGIONAL MEDICAL CENTER    AL         PAYM_30_HF  16722.0   \n",
       "\n",
       "   Lower estimate  Higher estimate  \n",
       "0         20404.0          26226.0  \n",
       "1         15237.0          17547.0  \n",
       "2         13642.0          15118.0  \n",
       "3         20910.0          25353.0  \n",
       "4         15113.0          18491.0  "
      ]
     },
     "execution_count": 461,
     "metadata": {},
     "output_type": "execute_result"
    }
   ],
   "source": [
    "pay.head()"
   ]
  },
  {
   "cell_type": "code",
   "execution_count": 462,
   "metadata": {
    "collapsed": false
   },
   "outputs": [
    {
     "data": {
      "text/html": [
       "<div>\n",
       "<table border=\"1\" class=\"dataframe\">\n",
       "  <thead>\n",
       "    <tr style=\"text-align: right;\">\n",
       "      <th></th>\n",
       "      <th>Payment measure ID</th>\n",
       "      <th>PAYM_30_AMI</th>\n",
       "      <th>PAYM_30_HF</th>\n",
       "      <th>PAYM_30_PN</th>\n",
       "    </tr>\n",
       "    <tr>\n",
       "      <th>Hospital name</th>\n",
       "      <th>State</th>\n",
       "      <th></th>\n",
       "      <th></th>\n",
       "      <th></th>\n",
       "    </tr>\n",
       "  </thead>\n",
       "  <tbody>\n",
       "    <tr>\n",
       "      <th>ABBEVILLE AREA MEDICAL CENTER</th>\n",
       "      <th>SC</th>\n",
       "      <td>0.0</td>\n",
       "      <td>14185.0</td>\n",
       "      <td>11981.0</td>\n",
       "    </tr>\n",
       "    <tr>\n",
       "      <th>ABBEVILLE GENERAL HOSPITAL</th>\n",
       "      <th>LA</th>\n",
       "      <td>0.0</td>\n",
       "      <td>17578.0</td>\n",
       "      <td>14218.0</td>\n",
       "    </tr>\n",
       "    <tr>\n",
       "      <th>ABBOTT NORTHWESTERN HOSPITAL</th>\n",
       "      <th>MN</th>\n",
       "      <td>21099.0</td>\n",
       "      <td>17110.0</td>\n",
       "      <td>14609.0</td>\n",
       "    </tr>\n",
       "    <tr>\n",
       "      <th>ABILENE REGIONAL MEDICAL CENTER</th>\n",
       "      <th>TX</th>\n",
       "      <td>21553.0</td>\n",
       "      <td>17531.0</td>\n",
       "      <td>15194.0</td>\n",
       "    </tr>\n",
       "    <tr>\n",
       "      <th>ABINGTON MEMORIAL HOSPITAL</th>\n",
       "      <th>PA</th>\n",
       "      <td>23950.0</td>\n",
       "      <td>17047.0</td>\n",
       "      <td>14605.0</td>\n",
       "    </tr>\n",
       "  </tbody>\n",
       "</table>\n",
       "</div>"
      ],
      "text/plain": [
       "Payment measure ID                     PAYM_30_AMI  PAYM_30_HF  PAYM_30_PN\n",
       "Hospital name                   State                                     \n",
       "ABBEVILLE AREA MEDICAL CENTER   SC             0.0     14185.0     11981.0\n",
       "ABBEVILLE GENERAL HOSPITAL      LA             0.0     17578.0     14218.0\n",
       "ABBOTT NORTHWESTERN HOSPITAL    MN         21099.0     17110.0     14609.0\n",
       "ABILENE REGIONAL MEDICAL CENTER TX         21553.0     17531.0     15194.0\n",
       "ABINGTON MEMORIAL HOSPITAL      PA         23950.0     17047.0     14605.0"
      ]
     },
     "execution_count": 462,
     "metadata": {},
     "output_type": "execute_result"
    }
   ],
   "source": [
    "#Create 2 pivot tables\n",
    "pay_pay = pd.pivot_table(pay, index=['Hospital name','State'], columns = 'Payment measure ID', values='Payment')\n",
    "pay_pay.head()"
   ]
  },
  {
   "cell_type": "code",
   "execution_count": 463,
   "metadata": {
    "collapsed": false
   },
   "outputs": [
    {
     "data": {
      "text/html": [
       "<div>\n",
       "<table border=\"1\" class=\"dataframe\">\n",
       "  <thead>\n",
       "    <tr style=\"text-align: right;\">\n",
       "      <th></th>\n",
       "      <th>Payment measure ID</th>\n",
       "      <th>PAYM_30_AMI</th>\n",
       "      <th>PAYM_30_HF</th>\n",
       "      <th>PAYM_30_PN</th>\n",
       "    </tr>\n",
       "    <tr>\n",
       "      <th>Hospital name</th>\n",
       "      <th>State</th>\n",
       "      <th></th>\n",
       "      <th></th>\n",
       "      <th></th>\n",
       "    </tr>\n",
       "  </thead>\n",
       "  <tbody>\n",
       "    <tr>\n",
       "      <th>ABBEVILLE AREA MEDICAL CENTER</th>\n",
       "      <th>SC</th>\n",
       "      <td>0.0</td>\n",
       "      <td>12159.0</td>\n",
       "      <td>10546.0</td>\n",
       "    </tr>\n",
       "    <tr>\n",
       "      <th>ABBEVILLE GENERAL HOSPITAL</th>\n",
       "      <th>LA</th>\n",
       "      <td>0.0</td>\n",
       "      <td>15713.0</td>\n",
       "      <td>12664.0</td>\n",
       "    </tr>\n",
       "    <tr>\n",
       "      <th>ABBOTT NORTHWESTERN HOSPITAL</th>\n",
       "      <th>MN</th>\n",
       "      <td>19867.0</td>\n",
       "      <td>16130.0</td>\n",
       "      <td>13399.0</td>\n",
       "    </tr>\n",
       "    <tr>\n",
       "      <th>ABILENE REGIONAL MEDICAL CENTER</th>\n",
       "      <th>TX</th>\n",
       "      <td>19736.0</td>\n",
       "      <td>16058.0</td>\n",
       "      <td>13938.0</td>\n",
       "    </tr>\n",
       "    <tr>\n",
       "      <th>ABINGTON MEMORIAL HOSPITAL</th>\n",
       "      <th>PA</th>\n",
       "      <td>22336.0</td>\n",
       "      <td>16325.0</td>\n",
       "      <td>13905.0</td>\n",
       "    </tr>\n",
       "  </tbody>\n",
       "</table>\n",
       "</div>"
      ],
      "text/plain": [
       "Payment measure ID                     PAYM_30_AMI  PAYM_30_HF  PAYM_30_PN\n",
       "Hospital name                   State                                     \n",
       "ABBEVILLE AREA MEDICAL CENTER   SC             0.0     12159.0     10546.0\n",
       "ABBEVILLE GENERAL HOSPITAL      LA             0.0     15713.0     12664.0\n",
       "ABBOTT NORTHWESTERN HOSPITAL    MN         19867.0     16130.0     13399.0\n",
       "ABILENE REGIONAL MEDICAL CENTER TX         19736.0     16058.0     13938.0\n",
       "ABINGTON MEMORIAL HOSPITAL      PA         22336.0     16325.0     13905.0"
      ]
     },
     "execution_count": 463,
     "metadata": {},
     "output_type": "execute_result"
    }
   ],
   "source": [
    "#Creating low estimate table\n",
    "pay_low = pd.pivot_table(pay, index=['Hospital name','State'], columns = 'Payment measure ID', values = 'Lower estimate')\n",
    "pay_low.head()"
   ]
  },
  {
   "cell_type": "code",
   "execution_count": 464,
   "metadata": {
    "collapsed": true
   },
   "outputs": [],
   "source": [
    "pay_low_cols = list(pay_low.columns.values)"
   ]
  },
  {
   "cell_type": "code",
   "execution_count": 465,
   "metadata": {
    "collapsed": false
   },
   "outputs": [
    {
     "name": "stdout",
     "output_type": "stream",
     "text": [
      "['PAYM_30_AMI_low', 'PAYM_30_HF_low', 'PAYM_30_PN_low']\n"
     ]
    }
   ],
   "source": [
    "pay_low_col_lis = []\n",
    "for i in pay_low_cols:\n",
    "    pay_low_col_lis.append(i + '_low')\n",
    "print pay_low_col_lis"
   ]
  },
  {
   "cell_type": "code",
   "execution_count": 466,
   "metadata": {
    "collapsed": true
   },
   "outputs": [],
   "source": [
    "pay_low.columns = pay_low_col_lis"
   ]
  },
  {
   "cell_type": "markdown",
   "metadata": {},
   "source": [
    "import re\n",
    "def regex(row):\n",
    "    return re.sub(r\"[^0-9]\", \"\", row)"
   ]
  },
  {
   "cell_type": "markdown",
   "metadata": {},
   "source": [
    "pay['Payment'] = pay.apply(regex, axis=1)"
   ]
  },
  {
   "cell_type": "markdown",
   "metadata": {},
   "source": [
    "pay['New'] = pay.apply(regex('Payment'), axis=1)"
   ]
  },
  {
   "cell_type": "code",
   "execution_count": 467,
   "metadata": {
    "collapsed": false
   },
   "outputs": [
    {
     "name": "stdout",
     "output_type": "stream",
     "text": [
      "<class 'pandas.core.frame.DataFrame'>\n",
      "MultiIndex: 4785 entries, (ABBEVILLE AREA MEDICAL CENTER, SC) to (ZUNI COMPREHENSIVE COMMUNITY HEALTH CENTER, NM)\n",
      "Data columns (total 3 columns):\n",
      "PAYM_30_AMI    4785 non-null float64\n",
      "PAYM_30_HF     4785 non-null float64\n",
      "PAYM_30_PN     4785 non-null float64\n",
      "dtypes: float64(3)\n",
      "memory usage: 149.5+ KB\n"
     ]
    }
   ],
   "source": [
    "pay_pay.info()"
   ]
  },
  {
   "cell_type": "code",
   "execution_count": 468,
   "metadata": {
    "collapsed": false
   },
   "outputs": [
    {
     "name": "stdout",
     "output_type": "stream",
     "text": [
      "['PAYM_30_AMI_high', 'PAYM_30_HF_high', 'PAYM_30_PN_high']\n"
     ]
    }
   ],
   "source": [
    "#Creating a high estimates table\n",
    "pay_high = pd.pivot_table(pay, index=['Hospital name','State'], columns = 'Payment measure ID', values = 'Higher estimate')\n",
    "pay_high_cols = list(pay_high.columns.values)\n",
    "pay_high_col_lis = []\n",
    "for i in pay_high_cols:\n",
    "    pay_high_col_lis.append(i + '_high')\n",
    "print pay_high_col_lis"
   ]
  },
  {
   "cell_type": "code",
   "execution_count": 469,
   "metadata": {
    "collapsed": true
   },
   "outputs": [],
   "source": [
    "pay_high.columns = pay_high_col_lis"
   ]
  },
  {
   "cell_type": "code",
   "execution_count": 470,
   "metadata": {
    "collapsed": false
   },
   "outputs": [
    {
     "name": "stdout",
     "output_type": "stream",
     "text": [
      "<class 'pandas.core.frame.DataFrame'>\n",
      "MultiIndex: 4785 entries, (ABBEVILLE AREA MEDICAL CENTER, SC) to (ZUNI COMPREHENSIVE COMMUNITY HEALTH CENTER, NM)\n",
      "Data columns (total 3 columns):\n",
      "PAYM_30_AMI_high    4785 non-null float64\n",
      "PAYM_30_HF_high     4785 non-null float64\n",
      "PAYM_30_PN_high     4785 non-null float64\n",
      "dtypes: float64(3)\n",
      "memory usage: 149.5+ KB\n"
     ]
    }
   ],
   "source": [
    "pay_high.info()"
   ]
  },
  {
   "cell_type": "markdown",
   "metadata": {},
   "source": [
    "#### Surveys"
   ]
  },
  {
   "cell_type": "code",
   "execution_count": 1270,
   "metadata": {
    "collapsed": true
   },
   "outputs": [],
   "source": [
    "surveys = pd.read_csv('Patient_survey__HCAHPS__-_Hospital.csv')"
   ]
  },
  {
   "cell_type": "code",
   "execution_count": 1272,
   "metadata": {
    "collapsed": false
   },
   "outputs": [],
   "source": [
    "# filteringby relavent features - lots of noise in this dataset\n",
    "surveys = surveys[(surveys['HCAHPS Measure ID'] == 'H_COMP_1_STAR_RATING') | \n",
    "                  (surveys['HCAHPS Measure ID'] == 'H_COMP_2_STAR_RATING') | \n",
    "                  (surveys['HCAHPS Measure ID'] == 'H_COMP_3_STAR_RATING') |\n",
    "                  (surveys['HCAHPS Measure ID'] == 'H_COMP_4_STAR_RATING') |\n",
    "                  (surveys['HCAHPS Measure ID'] == 'H_COMP_5_STAR_RATING') |\n",
    "                  (surveys['HCAHPS Measure ID'] == 'H_COMP_6_STAR_RATING') |\n",
    "                  (surveys['HCAHPS Measure ID'] == 'H_COMP_7_STAR_RATING') |\n",
    "                  (surveys['HCAHPS Measure ID'] == 'H_RECMND_STAR_RATING')]\n",
    "                  "
   ]
  },
  {
   "cell_type": "code",
   "execution_count": 1277,
   "metadata": {
    "collapsed": false
   },
   "outputs": [],
   "source": [
    "#creating dictionary of these ratings...\n",
    "ratings_dict = {'H_COMP_1_STAR_RATING':'Doctor communication star rating', \n",
    "                'H_COMP_2_STAR_RATING':'Nurse communication star rating',\n",
    "                'H_COMP_3_STAR_RATING':'Staff Responsiveness star rating', \n",
    "                'H_COMP_4_STAR_RATING':'Pain Management star rating',\n",
    "                'H_COMP_5_STAR_RATING':'Communication about Medication star rating', \n",
    "                'H_COMP_6_STAR_RATING':'Discharge information star rating',\n",
    "                'H_COMP_7_STAR_RATING':'Care transition star rating',\n",
    "                'H_RECMND_STAR_RATING':'Overall hospital star rating'}"
   ]
  },
  {
   "cell_type": "code",
   "execution_count": 1282,
   "metadata": {
    "collapsed": false
   },
   "outputs": [
    {
     "data": {
      "text/plain": [
       "0"
      ]
     },
     "execution_count": 1282,
     "metadata": {},
     "output_type": "execute_result"
    }
   ],
   "source": [
    "(surveys['Patient Survey Star Rating'] == 0).sum() # No 0s so I will change not availables to 0"
   ]
  },
  {
   "cell_type": "code",
   "execution_count": 1287,
   "metadata": {
    "collapsed": false
   },
   "outputs": [
    {
     "name": "stdout",
     "output_type": "stream",
     "text": [
      "<class 'pandas.core.frame.DataFrame'>\n",
      "Int64Index: 38456 entries, 9 to 264384\n",
      "Data columns (total 23 columns):\n",
      "Provider ID                              38456 non-null int64\n",
      "Hospital Name                            38456 non-null object\n",
      "Address                                  38456 non-null object\n",
      "City                                     38456 non-null object\n",
      "State                                    38456 non-null object\n",
      "ZIP Code                                 38456 non-null int64\n",
      "County Name                              38336 non-null object\n",
      "Phone Number                             38456 non-null int64\n",
      "HCAHPS Measure ID                        38456 non-null object\n",
      "HCAHPS Question                          38456 non-null object\n",
      "HCAHPS Answer Description                38456 non-null object\n",
      "Patient Survey Star Rating               38456 non-null float64\n",
      "Patient Survey Star Rating Footnote      10472 non-null object\n",
      "HCAHPS Answer Percent                    38456 non-null object\n",
      "HCAHPS Answer Percent Footnote           0 non-null object\n",
      "HCAHPS Linear Mean Value                 38456 non-null object\n",
      "Number of Completed Surveys              38456 non-null object\n",
      "Number of Completed Surveys Footnote     11080 non-null object\n",
      "Survey Response Rate Percent             38456 non-null object\n",
      "Survey Response Rate Percent Footnote    11080 non-null object\n",
      "Measure Start Date                       38456 non-null object\n",
      "Measure End Date                         38456 non-null object\n",
      "Location                                 0 non-null float64\n",
      "dtypes: float64(2), int64(3), object(18)\n",
      "memory usage: 7.0+ MB\n"
     ]
    }
   ],
   "source": [
    "surveys['Patient Survey Star Rating'] = surveys['Patient Survey Star Rating'].replace({'Not Available':'0'})\n",
    "surveys['Patient Survey Star Rating'] = surveys['Patient Survey Star Rating'].astype(float, inplace = True)\n",
    "surveys.info()"
   ]
  },
  {
   "cell_type": "code",
   "execution_count": 1289,
   "metadata": {
    "collapsed": false
   },
   "outputs": [
    {
     "data": {
      "text/html": [
       "<div>\n",
       "<table border=\"1\" class=\"dataframe\">\n",
       "  <thead>\n",
       "    <tr style=\"text-align: right;\">\n",
       "      <th></th>\n",
       "      <th>HCAHPS Measure ID</th>\n",
       "      <th>H_COMP_1_STAR_RATING</th>\n",
       "      <th>H_COMP_2_STAR_RATING</th>\n",
       "      <th>H_COMP_3_STAR_RATING</th>\n",
       "      <th>H_COMP_4_STAR_RATING</th>\n",
       "      <th>H_COMP_5_STAR_RATING</th>\n",
       "      <th>H_COMP_6_STAR_RATING</th>\n",
       "      <th>H_COMP_7_STAR_RATING</th>\n",
       "      <th>H_RECMND_STAR_RATING</th>\n",
       "    </tr>\n",
       "    <tr>\n",
       "      <th>Hospital Name</th>\n",
       "      <th>State</th>\n",
       "      <th></th>\n",
       "      <th></th>\n",
       "      <th></th>\n",
       "      <th></th>\n",
       "      <th></th>\n",
       "      <th></th>\n",
       "      <th></th>\n",
       "      <th></th>\n",
       "    </tr>\n",
       "  </thead>\n",
       "  <tbody>\n",
       "    <tr>\n",
       "      <th>ABBEVILLE AREA MEDICAL CENTER</th>\n",
       "      <th>SC</th>\n",
       "      <td>5.0</td>\n",
       "      <td>5.0</td>\n",
       "      <td>5.0</td>\n",
       "      <td>4.0</td>\n",
       "      <td>5.0</td>\n",
       "      <td>4.0</td>\n",
       "      <td>4.0</td>\n",
       "      <td>5.0</td>\n",
       "    </tr>\n",
       "    <tr>\n",
       "      <th>ABBEVILLE GENERAL HOSPITAL</th>\n",
       "      <th>LA</th>\n",
       "      <td>3.0</td>\n",
       "      <td>5.0</td>\n",
       "      <td>4.0</td>\n",
       "      <td>4.0</td>\n",
       "      <td>3.0</td>\n",
       "      <td>2.0</td>\n",
       "      <td>4.0</td>\n",
       "      <td>1.0</td>\n",
       "    </tr>\n",
       "    <tr>\n",
       "      <th>ABBOTT NORTHWESTERN HOSPITAL</th>\n",
       "      <th>MN</th>\n",
       "      <td>4.0</td>\n",
       "      <td>4.0</td>\n",
       "      <td>4.0</td>\n",
       "      <td>4.0</td>\n",
       "      <td>4.0</td>\n",
       "      <td>4.0</td>\n",
       "      <td>4.0</td>\n",
       "      <td>5.0</td>\n",
       "    </tr>\n",
       "    <tr>\n",
       "      <th>ABILENE REGIONAL MEDICAL CENTER</th>\n",
       "      <th>TX</th>\n",
       "      <td>2.0</td>\n",
       "      <td>3.0</td>\n",
       "      <td>3.0</td>\n",
       "      <td>2.0</td>\n",
       "      <td>2.0</td>\n",
       "      <td>3.0</td>\n",
       "      <td>2.0</td>\n",
       "      <td>3.0</td>\n",
       "    </tr>\n",
       "    <tr>\n",
       "      <th>ABINGTON MEMORIAL HOSPITAL</th>\n",
       "      <th>PA</th>\n",
       "      <td>4.0</td>\n",
       "      <td>3.0</td>\n",
       "      <td>3.0</td>\n",
       "      <td>2.0</td>\n",
       "      <td>3.0</td>\n",
       "      <td>3.0</td>\n",
       "      <td>3.0</td>\n",
       "      <td>3.0</td>\n",
       "    </tr>\n",
       "    <tr>\n",
       "      <th>ABRAHAM LINCOLN MEMORIAL HOSPITAL</th>\n",
       "      <th>IL</th>\n",
       "      <td>5.0</td>\n",
       "      <td>5.0</td>\n",
       "      <td>5.0</td>\n",
       "      <td>4.0</td>\n",
       "      <td>4.0</td>\n",
       "      <td>4.0</td>\n",
       "      <td>4.0</td>\n",
       "      <td>4.0</td>\n",
       "    </tr>\n",
       "    <tr>\n",
       "      <th>ABRAZO ARROWHEAD CAMPUS</th>\n",
       "      <th>AZ</th>\n",
       "      <td>2.0</td>\n",
       "      <td>2.0</td>\n",
       "      <td>3.0</td>\n",
       "      <td>2.0</td>\n",
       "      <td>2.0</td>\n",
       "      <td>3.0</td>\n",
       "      <td>2.0</td>\n",
       "      <td>2.0</td>\n",
       "    </tr>\n",
       "    <tr>\n",
       "      <th>ABRAZO CENTRAL CAMPUS</th>\n",
       "      <th>AZ</th>\n",
       "      <td>2.0</td>\n",
       "      <td>2.0</td>\n",
       "      <td>2.0</td>\n",
       "      <td>2.0</td>\n",
       "      <td>2.0</td>\n",
       "      <td>2.0</td>\n",
       "      <td>1.0</td>\n",
       "      <td>2.0</td>\n",
       "    </tr>\n",
       "    <tr>\n",
       "      <th>ABRAZO MARYVALE CAMPUS</th>\n",
       "      <th>AZ</th>\n",
       "      <td>2.0</td>\n",
       "      <td>2.0</td>\n",
       "      <td>2.0</td>\n",
       "      <td>2.0</td>\n",
       "      <td>2.0</td>\n",
       "      <td>2.0</td>\n",
       "      <td>1.0</td>\n",
       "      <td>1.0</td>\n",
       "    </tr>\n",
       "    <tr>\n",
       "      <th>ABRAZO SCOTTSDALE CAMPUS</th>\n",
       "      <th>AZ</th>\n",
       "      <td>2.0</td>\n",
       "      <td>2.0</td>\n",
       "      <td>2.0</td>\n",
       "      <td>2.0</td>\n",
       "      <td>2.0</td>\n",
       "      <td>3.0</td>\n",
       "      <td>1.0</td>\n",
       "      <td>2.0</td>\n",
       "    </tr>\n",
       "    <tr>\n",
       "      <th>ABRAZO WEST CAMPUS</th>\n",
       "      <th>AZ</th>\n",
       "      <td>2.0</td>\n",
       "      <td>2.0</td>\n",
       "      <td>2.0</td>\n",
       "      <td>2.0</td>\n",
       "      <td>3.0</td>\n",
       "      <td>3.0</td>\n",
       "      <td>1.0</td>\n",
       "      <td>1.0</td>\n",
       "    </tr>\n",
       "    <tr>\n",
       "      <th>ABROM KAPLAN MEMORIAL HOSPITAL</th>\n",
       "      <th>LA</th>\n",
       "      <td>0.0</td>\n",
       "      <td>0.0</td>\n",
       "      <td>0.0</td>\n",
       "      <td>0.0</td>\n",
       "      <td>0.0</td>\n",
       "      <td>0.0</td>\n",
       "      <td>0.0</td>\n",
       "      <td>0.0</td>\n",
       "    </tr>\n",
       "    <tr>\n",
       "      <th>ACADIA GENERAL HOSPITAL</th>\n",
       "      <th>LA</th>\n",
       "      <td>4.0</td>\n",
       "      <td>5.0</td>\n",
       "      <td>3.0</td>\n",
       "      <td>4.0</td>\n",
       "      <td>4.0</td>\n",
       "      <td>3.0</td>\n",
       "      <td>3.0</td>\n",
       "      <td>3.0</td>\n",
       "    </tr>\n",
       "    <tr>\n",
       "      <th>ACADIA ST LANDRY</th>\n",
       "      <th>LA</th>\n",
       "      <td>0.0</td>\n",
       "      <td>0.0</td>\n",
       "      <td>0.0</td>\n",
       "      <td>0.0</td>\n",
       "      <td>0.0</td>\n",
       "      <td>0.0</td>\n",
       "      <td>0.0</td>\n",
       "      <td>0.0</td>\n",
       "    </tr>\n",
       "    <tr>\n",
       "      <th>ACMH HOSPITAL</th>\n",
       "      <th>PA</th>\n",
       "      <td>3.0</td>\n",
       "      <td>3.0</td>\n",
       "      <td>3.0</td>\n",
       "      <td>4.0</td>\n",
       "      <td>3.0</td>\n",
       "      <td>3.0</td>\n",
       "      <td>3.0</td>\n",
       "      <td>2.0</td>\n",
       "    </tr>\n",
       "    <tr>\n",
       "      <th>AD HOSPITAL EAST, LLC</th>\n",
       "      <th>TX</th>\n",
       "      <td>0.0</td>\n",
       "      <td>0.0</td>\n",
       "      <td>0.0</td>\n",
       "      <td>0.0</td>\n",
       "      <td>0.0</td>\n",
       "      <td>0.0</td>\n",
       "      <td>0.0</td>\n",
       "      <td>0.0</td>\n",
       "    </tr>\n",
       "    <tr>\n",
       "      <th>ADAIR COUNTY MEMORIAL HOSPITAL</th>\n",
       "      <th>IA</th>\n",
       "      <td>0.0</td>\n",
       "      <td>0.0</td>\n",
       "      <td>0.0</td>\n",
       "      <td>0.0</td>\n",
       "      <td>0.0</td>\n",
       "      <td>0.0</td>\n",
       "      <td>0.0</td>\n",
       "      <td>0.0</td>\n",
       "    </tr>\n",
       "    <tr>\n",
       "      <th>ADAMS COUNTY REGIONAL MEDICAL CENTER</th>\n",
       "      <th>OH</th>\n",
       "      <td>2.0</td>\n",
       "      <td>2.0</td>\n",
       "      <td>3.0</td>\n",
       "      <td>1.0</td>\n",
       "      <td>2.0</td>\n",
       "      <td>2.0</td>\n",
       "      <td>2.0</td>\n",
       "      <td>1.0</td>\n",
       "    </tr>\n",
       "    <tr>\n",
       "      <th>ADAMS MEMORIAL HOSPITAL</th>\n",
       "      <th>IN</th>\n",
       "      <td>4.0</td>\n",
       "      <td>3.0</td>\n",
       "      <td>5.0</td>\n",
       "      <td>4.0</td>\n",
       "      <td>3.0</td>\n",
       "      <td>3.0</td>\n",
       "      <td>4.0</td>\n",
       "      <td>3.0</td>\n",
       "    </tr>\n",
       "    <tr>\n",
       "      <th>ADCARE HOSPITAL OF WORCESTER INC</th>\n",
       "      <th>MA</th>\n",
       "      <td>0.0</td>\n",
       "      <td>0.0</td>\n",
       "      <td>0.0</td>\n",
       "      <td>0.0</td>\n",
       "      <td>0.0</td>\n",
       "      <td>0.0</td>\n",
       "      <td>0.0</td>\n",
       "      <td>0.0</td>\n",
       "    </tr>\n",
       "    <tr>\n",
       "      <th>ADENA PIKE MEDICAL CENTER</th>\n",
       "      <th>OH</th>\n",
       "      <td>0.0</td>\n",
       "      <td>0.0</td>\n",
       "      <td>0.0</td>\n",
       "      <td>0.0</td>\n",
       "      <td>0.0</td>\n",
       "      <td>0.0</td>\n",
       "      <td>0.0</td>\n",
       "      <td>0.0</td>\n",
       "    </tr>\n",
       "    <tr>\n",
       "      <th>ADENA REGIONAL MEDICAL CENTER</th>\n",
       "      <th>OH</th>\n",
       "      <td>3.0</td>\n",
       "      <td>2.0</td>\n",
       "      <td>3.0</td>\n",
       "      <td>2.0</td>\n",
       "      <td>3.0</td>\n",
       "      <td>3.0</td>\n",
       "      <td>3.0</td>\n",
       "      <td>2.0</td>\n",
       "    </tr>\n",
       "    <tr>\n",
       "      <th>ADIRONDACK MEDICAL CENTER</th>\n",
       "      <th>NY</th>\n",
       "      <td>5.0</td>\n",
       "      <td>4.0</td>\n",
       "      <td>5.0</td>\n",
       "      <td>4.0</td>\n",
       "      <td>4.0</td>\n",
       "      <td>4.0</td>\n",
       "      <td>4.0</td>\n",
       "      <td>4.0</td>\n",
       "    </tr>\n",
       "    <tr>\n",
       "      <th>ADMIN DE SERVICIOS MEDICOS  PUERTO RIC</th>\n",
       "      <th>PR</th>\n",
       "      <td>0.0</td>\n",
       "      <td>0.0</td>\n",
       "      <td>0.0</td>\n",
       "      <td>0.0</td>\n",
       "      <td>0.0</td>\n",
       "      <td>0.0</td>\n",
       "      <td>0.0</td>\n",
       "      <td>0.0</td>\n",
       "    </tr>\n",
       "    <tr>\n",
       "      <th>ADVANCED SURGICAL HOSPITAL</th>\n",
       "      <th>PA</th>\n",
       "      <td>5.0</td>\n",
       "      <td>5.0</td>\n",
       "      <td>5.0</td>\n",
       "      <td>5.0</td>\n",
       "      <td>5.0</td>\n",
       "      <td>5.0</td>\n",
       "      <td>5.0</td>\n",
       "      <td>5.0</td>\n",
       "    </tr>\n",
       "    <tr>\n",
       "      <th>ADVENTIST BOLINGBROOK HOSPITAL</th>\n",
       "      <th>IL</th>\n",
       "      <td>3.0</td>\n",
       "      <td>3.0</td>\n",
       "      <td>3.0</td>\n",
       "      <td>2.0</td>\n",
       "      <td>3.0</td>\n",
       "      <td>2.0</td>\n",
       "      <td>3.0</td>\n",
       "      <td>2.0</td>\n",
       "    </tr>\n",
       "    <tr>\n",
       "      <th>ADVENTIST GLENOAKS</th>\n",
       "      <th>IL</th>\n",
       "      <td>2.0</td>\n",
       "      <td>2.0</td>\n",
       "      <td>3.0</td>\n",
       "      <td>3.0</td>\n",
       "      <td>2.0</td>\n",
       "      <td>3.0</td>\n",
       "      <td>2.0</td>\n",
       "      <td>1.0</td>\n",
       "    </tr>\n",
       "    <tr>\n",
       "      <th>ADVENTIST HEALTH MEDICAL CENTER TEHACHAPI VALLEY</th>\n",
       "      <th>CA</th>\n",
       "      <td>0.0</td>\n",
       "      <td>0.0</td>\n",
       "      <td>0.0</td>\n",
       "      <td>0.0</td>\n",
       "      <td>0.0</td>\n",
       "      <td>0.0</td>\n",
       "      <td>0.0</td>\n",
       "      <td>0.0</td>\n",
       "    </tr>\n",
       "    <tr>\n",
       "      <th>ADVENTIST HEALTHCARE SHADY GROVE MEDICAL CENTER</th>\n",
       "      <th>MD</th>\n",
       "      <td>2.0</td>\n",
       "      <td>3.0</td>\n",
       "      <td>2.0</td>\n",
       "      <td>2.0</td>\n",
       "      <td>2.0</td>\n",
       "      <td>3.0</td>\n",
       "      <td>2.0</td>\n",
       "      <td>3.0</td>\n",
       "    </tr>\n",
       "    <tr>\n",
       "      <th>ADVENTIST HEALTHCARE WASHINGTON ADVENTIST HOSPITAL</th>\n",
       "      <th>MD</th>\n",
       "      <td>2.0</td>\n",
       "      <td>2.0</td>\n",
       "      <td>3.0</td>\n",
       "      <td>2.0</td>\n",
       "      <td>2.0</td>\n",
       "      <td>3.0</td>\n",
       "      <td>2.0</td>\n",
       "      <td>3.0</td>\n",
       "    </tr>\n",
       "    <tr>\n",
       "      <th>...</th>\n",
       "      <th>...</th>\n",
       "      <td>...</td>\n",
       "      <td>...</td>\n",
       "      <td>...</td>\n",
       "      <td>...</td>\n",
       "      <td>...</td>\n",
       "      <td>...</td>\n",
       "      <td>...</td>\n",
       "      <td>...</td>\n",
       "    </tr>\n",
       "    <tr>\n",
       "      <th>WOODLAND MEMORIAL HOSPITAL</th>\n",
       "      <th>CA</th>\n",
       "      <td>3.0</td>\n",
       "      <td>4.0</td>\n",
       "      <td>4.0</td>\n",
       "      <td>4.0</td>\n",
       "      <td>4.0</td>\n",
       "      <td>4.0</td>\n",
       "      <td>4.0</td>\n",
       "      <td>3.0</td>\n",
       "    </tr>\n",
       "    <tr>\n",
       "      <th>WOODLAWN HOSPITAL</th>\n",
       "      <th>IN</th>\n",
       "      <td>4.0</td>\n",
       "      <td>4.0</td>\n",
       "      <td>4.0</td>\n",
       "      <td>4.0</td>\n",
       "      <td>3.0</td>\n",
       "      <td>4.0</td>\n",
       "      <td>4.0</td>\n",
       "      <td>3.0</td>\n",
       "    </tr>\n",
       "    <tr>\n",
       "      <th>WOODS AT PARKSIDE,THE</th>\n",
       "      <th>OH</th>\n",
       "      <td>0.0</td>\n",
       "      <td>0.0</td>\n",
       "      <td>0.0</td>\n",
       "      <td>0.0</td>\n",
       "      <td>0.0</td>\n",
       "      <td>0.0</td>\n",
       "      <td>0.0</td>\n",
       "      <td>0.0</td>\n",
       "    </tr>\n",
       "    <tr>\n",
       "      <th>WOOSTER COMMUNITY HOSPITAL</th>\n",
       "      <th>OH</th>\n",
       "      <td>4.0</td>\n",
       "      <td>3.0</td>\n",
       "      <td>4.0</td>\n",
       "      <td>3.0</td>\n",
       "      <td>3.0</td>\n",
       "      <td>3.0</td>\n",
       "      <td>3.0</td>\n",
       "      <td>4.0</td>\n",
       "    </tr>\n",
       "    <tr>\n",
       "      <th>WRANGELL MEDICAL CENTER</th>\n",
       "      <th>AK</th>\n",
       "      <td>0.0</td>\n",
       "      <td>0.0</td>\n",
       "      <td>0.0</td>\n",
       "      <td>0.0</td>\n",
       "      <td>0.0</td>\n",
       "      <td>0.0</td>\n",
       "      <td>0.0</td>\n",
       "      <td>0.0</td>\n",
       "    </tr>\n",
       "    <tr>\n",
       "      <th>WRAY COMMUNITY DISTRICT HOSPITAL</th>\n",
       "      <th>CO</th>\n",
       "      <td>0.0</td>\n",
       "      <td>0.0</td>\n",
       "      <td>0.0</td>\n",
       "      <td>0.0</td>\n",
       "      <td>0.0</td>\n",
       "      <td>0.0</td>\n",
       "      <td>0.0</td>\n",
       "      <td>0.0</td>\n",
       "    </tr>\n",
       "    <tr>\n",
       "      <th>WRIGHT MEMORIAL HOSPITAL</th>\n",
       "      <th>MO</th>\n",
       "      <td>5.0</td>\n",
       "      <td>5.0</td>\n",
       "      <td>4.0</td>\n",
       "      <td>4.0</td>\n",
       "      <td>4.0</td>\n",
       "      <td>4.0</td>\n",
       "      <td>4.0</td>\n",
       "      <td>4.0</td>\n",
       "    </tr>\n",
       "    <tr>\n",
       "      <th>WUESTHOFF MEDICAL CENTER-MELBOURNE</th>\n",
       "      <th>FL</th>\n",
       "      <td>2.0</td>\n",
       "      <td>1.0</td>\n",
       "      <td>2.0</td>\n",
       "      <td>2.0</td>\n",
       "      <td>2.0</td>\n",
       "      <td>3.0</td>\n",
       "      <td>1.0</td>\n",
       "      <td>1.0</td>\n",
       "    </tr>\n",
       "    <tr>\n",
       "      <th>WUESTHOFF MEDICAL CENTER-ROCKLEDGE</th>\n",
       "      <th>FL</th>\n",
       "      <td>2.0</td>\n",
       "      <td>2.0</td>\n",
       "      <td>2.0</td>\n",
       "      <td>2.0</td>\n",
       "      <td>2.0</td>\n",
       "      <td>2.0</td>\n",
       "      <td>2.0</td>\n",
       "      <td>2.0</td>\n",
       "    </tr>\n",
       "    <tr>\n",
       "      <th>WYANDOT MEMORIAL HOSPITAL</th>\n",
       "      <th>OH</th>\n",
       "      <td>4.0</td>\n",
       "      <td>3.0</td>\n",
       "      <td>5.0</td>\n",
       "      <td>3.0</td>\n",
       "      <td>3.0</td>\n",
       "      <td>2.0</td>\n",
       "      <td>4.0</td>\n",
       "      <td>4.0</td>\n",
       "    </tr>\n",
       "    <tr>\n",
       "      <th>WYCKOFF HEIGHTS MEDICAL CENTER</th>\n",
       "      <th>NY</th>\n",
       "      <td>2.0</td>\n",
       "      <td>2.0</td>\n",
       "      <td>1.0</td>\n",
       "      <td>1.0</td>\n",
       "      <td>2.0</td>\n",
       "      <td>1.0</td>\n",
       "      <td>2.0</td>\n",
       "      <td>1.0</td>\n",
       "    </tr>\n",
       "    <tr>\n",
       "      <th>WYOMING COUNTY COMMUNITY HOSPITAL</th>\n",
       "      <th>NY</th>\n",
       "      <td>3.0</td>\n",
       "      <td>2.0</td>\n",
       "      <td>3.0</td>\n",
       "      <td>3.0</td>\n",
       "      <td>2.0</td>\n",
       "      <td>3.0</td>\n",
       "      <td>2.0</td>\n",
       "      <td>2.0</td>\n",
       "    </tr>\n",
       "    <tr>\n",
       "      <th>WYOMING MEDICAL CENTER</th>\n",
       "      <th>WY</th>\n",
       "      <td>3.0</td>\n",
       "      <td>2.0</td>\n",
       "      <td>3.0</td>\n",
       "      <td>2.0</td>\n",
       "      <td>2.0</td>\n",
       "      <td>4.0</td>\n",
       "      <td>2.0</td>\n",
       "      <td>3.0</td>\n",
       "    </tr>\n",
       "    <tr>\n",
       "      <th>WYTHE COUNTY COMMUNITY HOSPITAL</th>\n",
       "      <th>VA</th>\n",
       "      <td>4.0</td>\n",
       "      <td>4.0</td>\n",
       "      <td>4.0</td>\n",
       "      <td>3.0</td>\n",
       "      <td>3.0</td>\n",
       "      <td>4.0</td>\n",
       "      <td>2.0</td>\n",
       "      <td>3.0</td>\n",
       "    </tr>\n",
       "    <tr>\n",
       "      <th>YAKIMA REGIONAL MEDICAL AND CARDIAC CENTER</th>\n",
       "      <th>WA</th>\n",
       "      <td>3.0</td>\n",
       "      <td>2.0</td>\n",
       "      <td>3.0</td>\n",
       "      <td>3.0</td>\n",
       "      <td>2.0</td>\n",
       "      <td>4.0</td>\n",
       "      <td>2.0</td>\n",
       "      <td>3.0</td>\n",
       "    </tr>\n",
       "    <tr>\n",
       "      <th>YAKIMA VALLEY MEMORIAL HOSPITAL</th>\n",
       "      <th>WA</th>\n",
       "      <td>3.0</td>\n",
       "      <td>3.0</td>\n",
       "      <td>3.0</td>\n",
       "      <td>2.0</td>\n",
       "      <td>3.0</td>\n",
       "      <td>3.0</td>\n",
       "      <td>3.0</td>\n",
       "      <td>3.0</td>\n",
       "    </tr>\n",
       "    <tr>\n",
       "      <th>YALE-NEW HAVEN HOSPITAL</th>\n",
       "      <th>CT</th>\n",
       "      <td>4.0</td>\n",
       "      <td>3.0</td>\n",
       "      <td>3.0</td>\n",
       "      <td>3.0</td>\n",
       "      <td>2.0</td>\n",
       "      <td>3.0</td>\n",
       "      <td>3.0</td>\n",
       "      <td>4.0</td>\n",
       "    </tr>\n",
       "    <tr>\n",
       "      <th>YALOBUSHA GENERAL HOSPITAL</th>\n",
       "      <th>MS</th>\n",
       "      <td>5.0</td>\n",
       "      <td>5.0</td>\n",
       "      <td>4.0</td>\n",
       "      <td>5.0</td>\n",
       "      <td>5.0</td>\n",
       "      <td>2.0</td>\n",
       "      <td>5.0</td>\n",
       "      <td>5.0</td>\n",
       "    </tr>\n",
       "    <tr>\n",
       "      <th>YAMPA VALLEY MEDICAL CENTER</th>\n",
       "      <th>CO</th>\n",
       "      <td>5.0</td>\n",
       "      <td>4.0</td>\n",
       "      <td>5.0</td>\n",
       "      <td>4.0</td>\n",
       "      <td>4.0</td>\n",
       "      <td>4.0</td>\n",
       "      <td>4.0</td>\n",
       "      <td>5.0</td>\n",
       "    </tr>\n",
       "    <tr>\n",
       "      <th>YAVAPAI REGIONAL MEDICAL CENTER</th>\n",
       "      <th>AZ</th>\n",
       "      <td>4.0</td>\n",
       "      <td>3.0</td>\n",
       "      <td>4.0</td>\n",
       "      <td>3.0</td>\n",
       "      <td>3.0</td>\n",
       "      <td>4.0</td>\n",
       "      <td>3.0</td>\n",
       "      <td>4.0</td>\n",
       "    </tr>\n",
       "    <tr>\n",
       "      <th>YAVAPAI REGIONAL MEDICAL CENTER-EAST CAMPUS</th>\n",
       "      <th>AZ</th>\n",
       "      <td>3.0</td>\n",
       "      <td>3.0</td>\n",
       "      <td>4.0</td>\n",
       "      <td>3.0</td>\n",
       "      <td>3.0</td>\n",
       "      <td>4.0</td>\n",
       "      <td>3.0</td>\n",
       "      <td>4.0</td>\n",
       "    </tr>\n",
       "    <tr>\n",
       "      <th>YOAKUM COMMUNITY HOSPITAL</th>\n",
       "      <th>TX</th>\n",
       "      <td>5.0</td>\n",
       "      <td>5.0</td>\n",
       "      <td>4.0</td>\n",
       "      <td>4.0</td>\n",
       "      <td>4.0</td>\n",
       "      <td>4.0</td>\n",
       "      <td>4.0</td>\n",
       "      <td>5.0</td>\n",
       "    </tr>\n",
       "    <tr>\n",
       "      <th>YOAKUM COUNTY HOSPITAL</th>\n",
       "      <th>TX</th>\n",
       "      <td>0.0</td>\n",
       "      <td>0.0</td>\n",
       "      <td>0.0</td>\n",
       "      <td>0.0</td>\n",
       "      <td>0.0</td>\n",
       "      <td>0.0</td>\n",
       "      <td>0.0</td>\n",
       "      <td>0.0</td>\n",
       "    </tr>\n",
       "    <tr>\n",
       "      <th>YORK GENERAL HOSPITAL</th>\n",
       "      <th>NE</th>\n",
       "      <td>4.0</td>\n",
       "      <td>5.0</td>\n",
       "      <td>5.0</td>\n",
       "      <td>4.0</td>\n",
       "      <td>4.0</td>\n",
       "      <td>2.0</td>\n",
       "      <td>4.0</td>\n",
       "      <td>4.0</td>\n",
       "    </tr>\n",
       "    <tr>\n",
       "      <th rowspan=\"2\" valign=\"top\">YORK HOSPITAL</th>\n",
       "      <th>ME</th>\n",
       "      <td>5.0</td>\n",
       "      <td>4.0</td>\n",
       "      <td>3.0</td>\n",
       "      <td>4.0</td>\n",
       "      <td>4.0</td>\n",
       "      <td>4.0</td>\n",
       "      <td>4.0</td>\n",
       "      <td>5.0</td>\n",
       "    </tr>\n",
       "    <tr>\n",
       "      <th>PA</th>\n",
       "      <td>3.0</td>\n",
       "      <td>2.0</td>\n",
       "      <td>3.0</td>\n",
       "      <td>3.0</td>\n",
       "      <td>2.0</td>\n",
       "      <td>3.0</td>\n",
       "      <td>3.0</td>\n",
       "      <td>3.0</td>\n",
       "    </tr>\n",
       "    <tr>\n",
       "      <th>YUKON KUSKOKWIM DELTA REG HOSPITAL</th>\n",
       "      <th>AK</th>\n",
       "      <td>2.0</td>\n",
       "      <td>3.0</td>\n",
       "      <td>2.0</td>\n",
       "      <td>1.0</td>\n",
       "      <td>3.0</td>\n",
       "      <td>3.0</td>\n",
       "      <td>1.0</td>\n",
       "      <td>2.0</td>\n",
       "    </tr>\n",
       "    <tr>\n",
       "      <th>YUMA DISTRICT HOSPITAL</th>\n",
       "      <th>CO</th>\n",
       "      <td>0.0</td>\n",
       "      <td>0.0</td>\n",
       "      <td>0.0</td>\n",
       "      <td>0.0</td>\n",
       "      <td>0.0</td>\n",
       "      <td>0.0</td>\n",
       "      <td>0.0</td>\n",
       "      <td>0.0</td>\n",
       "    </tr>\n",
       "    <tr>\n",
       "      <th>YUMA REGIONAL MEDICAL CENTER</th>\n",
       "      <th>AZ</th>\n",
       "      <td>2.0</td>\n",
       "      <td>2.0</td>\n",
       "      <td>3.0</td>\n",
       "      <td>2.0</td>\n",
       "      <td>2.0</td>\n",
       "      <td>2.0</td>\n",
       "      <td>2.0</td>\n",
       "      <td>2.0</td>\n",
       "    </tr>\n",
       "    <tr>\n",
       "      <th>ZUNI COMPREHENSIVE COMMUNITY HEALTH CENTER</th>\n",
       "      <th>NM</th>\n",
       "      <td>0.0</td>\n",
       "      <td>0.0</td>\n",
       "      <td>0.0</td>\n",
       "      <td>0.0</td>\n",
       "      <td>0.0</td>\n",
       "      <td>0.0</td>\n",
       "      <td>0.0</td>\n",
       "      <td>0.0</td>\n",
       "    </tr>\n",
       "  </tbody>\n",
       "</table>\n",
       "<p>4785 rows × 8 columns</p>\n",
       "</div>"
      ],
      "text/plain": [
       "HCAHPS Measure ID                                         H_COMP_1_STAR_RATING  \\\n",
       "Hospital Name                                      State                         \n",
       "ABBEVILLE AREA MEDICAL CENTER                      SC                      5.0   \n",
       "ABBEVILLE GENERAL HOSPITAL                         LA                      3.0   \n",
       "ABBOTT NORTHWESTERN HOSPITAL                       MN                      4.0   \n",
       "ABILENE REGIONAL MEDICAL CENTER                    TX                      2.0   \n",
       "ABINGTON MEMORIAL HOSPITAL                         PA                      4.0   \n",
       "ABRAHAM LINCOLN MEMORIAL HOSPITAL                  IL                      5.0   \n",
       "ABRAZO ARROWHEAD CAMPUS                            AZ                      2.0   \n",
       "ABRAZO CENTRAL CAMPUS                              AZ                      2.0   \n",
       "ABRAZO MARYVALE CAMPUS                             AZ                      2.0   \n",
       "ABRAZO SCOTTSDALE CAMPUS                           AZ                      2.0   \n",
       "ABRAZO WEST CAMPUS                                 AZ                      2.0   \n",
       "ABROM KAPLAN MEMORIAL HOSPITAL                     LA                      0.0   \n",
       "ACADIA GENERAL HOSPITAL                            LA                      4.0   \n",
       "ACADIA ST LANDRY                                   LA                      0.0   \n",
       "ACMH HOSPITAL                                      PA                      3.0   \n",
       "AD HOSPITAL EAST, LLC                              TX                      0.0   \n",
       "ADAIR COUNTY MEMORIAL HOSPITAL                     IA                      0.0   \n",
       "ADAMS COUNTY REGIONAL MEDICAL CENTER               OH                      2.0   \n",
       "ADAMS MEMORIAL HOSPITAL                            IN                      4.0   \n",
       "ADCARE HOSPITAL OF WORCESTER INC                   MA                      0.0   \n",
       "ADENA PIKE MEDICAL CENTER                          OH                      0.0   \n",
       "ADENA REGIONAL MEDICAL CENTER                      OH                      3.0   \n",
       "ADIRONDACK MEDICAL CENTER                          NY                      5.0   \n",
       "ADMIN DE SERVICIOS MEDICOS  PUERTO RIC             PR                      0.0   \n",
       "ADVANCED SURGICAL HOSPITAL                         PA                      5.0   \n",
       "ADVENTIST BOLINGBROOK HOSPITAL                     IL                      3.0   \n",
       "ADVENTIST GLENOAKS                                 IL                      2.0   \n",
       "ADVENTIST HEALTH MEDICAL CENTER TEHACHAPI VALLEY   CA                      0.0   \n",
       "ADVENTIST HEALTHCARE SHADY GROVE MEDICAL CENTER    MD                      2.0   \n",
       "ADVENTIST HEALTHCARE WASHINGTON ADVENTIST HOSPITAL MD                      2.0   \n",
       "...                                                                        ...   \n",
       "WOODLAND MEMORIAL HOSPITAL                         CA                      3.0   \n",
       "WOODLAWN HOSPITAL                                  IN                      4.0   \n",
       "WOODS AT PARKSIDE,THE                              OH                      0.0   \n",
       "WOOSTER COMMUNITY HOSPITAL                         OH                      4.0   \n",
       "WRANGELL MEDICAL CENTER                            AK                      0.0   \n",
       "WRAY COMMUNITY DISTRICT HOSPITAL                   CO                      0.0   \n",
       "WRIGHT MEMORIAL HOSPITAL                           MO                      5.0   \n",
       "WUESTHOFF MEDICAL CENTER-MELBOURNE                 FL                      2.0   \n",
       "WUESTHOFF MEDICAL CENTER-ROCKLEDGE                 FL                      2.0   \n",
       "WYANDOT MEMORIAL HOSPITAL                          OH                      4.0   \n",
       "WYCKOFF HEIGHTS MEDICAL CENTER                     NY                      2.0   \n",
       "WYOMING COUNTY COMMUNITY HOSPITAL                  NY                      3.0   \n",
       "WYOMING MEDICAL CENTER                             WY                      3.0   \n",
       "WYTHE COUNTY COMMUNITY HOSPITAL                    VA                      4.0   \n",
       "YAKIMA REGIONAL MEDICAL AND CARDIAC CENTER         WA                      3.0   \n",
       "YAKIMA VALLEY MEMORIAL HOSPITAL                    WA                      3.0   \n",
       "YALE-NEW HAVEN HOSPITAL                            CT                      4.0   \n",
       "YALOBUSHA GENERAL HOSPITAL                         MS                      5.0   \n",
       "YAMPA VALLEY MEDICAL CENTER                        CO                      5.0   \n",
       "YAVAPAI REGIONAL MEDICAL CENTER                    AZ                      4.0   \n",
       "YAVAPAI REGIONAL MEDICAL CENTER-EAST CAMPUS        AZ                      3.0   \n",
       "YOAKUM COMMUNITY HOSPITAL                          TX                      5.0   \n",
       "YOAKUM COUNTY HOSPITAL                             TX                      0.0   \n",
       "YORK GENERAL HOSPITAL                              NE                      4.0   \n",
       "YORK HOSPITAL                                      ME                      5.0   \n",
       "                                                   PA                      3.0   \n",
       "YUKON KUSKOKWIM DELTA REG HOSPITAL                 AK                      2.0   \n",
       "YUMA DISTRICT HOSPITAL                             CO                      0.0   \n",
       "YUMA REGIONAL MEDICAL CENTER                       AZ                      2.0   \n",
       "ZUNI COMPREHENSIVE COMMUNITY HEALTH CENTER         NM                      0.0   \n",
       "\n",
       "HCAHPS Measure ID                                         H_COMP_2_STAR_RATING  \\\n",
       "Hospital Name                                      State                         \n",
       "ABBEVILLE AREA MEDICAL CENTER                      SC                      5.0   \n",
       "ABBEVILLE GENERAL HOSPITAL                         LA                      5.0   \n",
       "ABBOTT NORTHWESTERN HOSPITAL                       MN                      4.0   \n",
       "ABILENE REGIONAL MEDICAL CENTER                    TX                      3.0   \n",
       "ABINGTON MEMORIAL HOSPITAL                         PA                      3.0   \n",
       "ABRAHAM LINCOLN MEMORIAL HOSPITAL                  IL                      5.0   \n",
       "ABRAZO ARROWHEAD CAMPUS                            AZ                      2.0   \n",
       "ABRAZO CENTRAL CAMPUS                              AZ                      2.0   \n",
       "ABRAZO MARYVALE CAMPUS                             AZ                      2.0   \n",
       "ABRAZO SCOTTSDALE CAMPUS                           AZ                      2.0   \n",
       "ABRAZO WEST CAMPUS                                 AZ                      2.0   \n",
       "ABROM KAPLAN MEMORIAL HOSPITAL                     LA                      0.0   \n",
       "ACADIA GENERAL HOSPITAL                            LA                      5.0   \n",
       "ACADIA ST LANDRY                                   LA                      0.0   \n",
       "ACMH HOSPITAL                                      PA                      3.0   \n",
       "AD HOSPITAL EAST, LLC                              TX                      0.0   \n",
       "ADAIR COUNTY MEMORIAL HOSPITAL                     IA                      0.0   \n",
       "ADAMS COUNTY REGIONAL MEDICAL CENTER               OH                      2.0   \n",
       "ADAMS MEMORIAL HOSPITAL                            IN                      3.0   \n",
       "ADCARE HOSPITAL OF WORCESTER INC                   MA                      0.0   \n",
       "ADENA PIKE MEDICAL CENTER                          OH                      0.0   \n",
       "ADENA REGIONAL MEDICAL CENTER                      OH                      2.0   \n",
       "ADIRONDACK MEDICAL CENTER                          NY                      4.0   \n",
       "ADMIN DE SERVICIOS MEDICOS  PUERTO RIC             PR                      0.0   \n",
       "ADVANCED SURGICAL HOSPITAL                         PA                      5.0   \n",
       "ADVENTIST BOLINGBROOK HOSPITAL                     IL                      3.0   \n",
       "ADVENTIST GLENOAKS                                 IL                      2.0   \n",
       "ADVENTIST HEALTH MEDICAL CENTER TEHACHAPI VALLEY   CA                      0.0   \n",
       "ADVENTIST HEALTHCARE SHADY GROVE MEDICAL CENTER    MD                      3.0   \n",
       "ADVENTIST HEALTHCARE WASHINGTON ADVENTIST HOSPITAL MD                      2.0   \n",
       "...                                                                        ...   \n",
       "WOODLAND MEMORIAL HOSPITAL                         CA                      4.0   \n",
       "WOODLAWN HOSPITAL                                  IN                      4.0   \n",
       "WOODS AT PARKSIDE,THE                              OH                      0.0   \n",
       "WOOSTER COMMUNITY HOSPITAL                         OH                      3.0   \n",
       "WRANGELL MEDICAL CENTER                            AK                      0.0   \n",
       "WRAY COMMUNITY DISTRICT HOSPITAL                   CO                      0.0   \n",
       "WRIGHT MEMORIAL HOSPITAL                           MO                      5.0   \n",
       "WUESTHOFF MEDICAL CENTER-MELBOURNE                 FL                      1.0   \n",
       "WUESTHOFF MEDICAL CENTER-ROCKLEDGE                 FL                      2.0   \n",
       "WYANDOT MEMORIAL HOSPITAL                          OH                      3.0   \n",
       "WYCKOFF HEIGHTS MEDICAL CENTER                     NY                      2.0   \n",
       "WYOMING COUNTY COMMUNITY HOSPITAL                  NY                      2.0   \n",
       "WYOMING MEDICAL CENTER                             WY                      2.0   \n",
       "WYTHE COUNTY COMMUNITY HOSPITAL                    VA                      4.0   \n",
       "YAKIMA REGIONAL MEDICAL AND CARDIAC CENTER         WA                      2.0   \n",
       "YAKIMA VALLEY MEMORIAL HOSPITAL                    WA                      3.0   \n",
       "YALE-NEW HAVEN HOSPITAL                            CT                      3.0   \n",
       "YALOBUSHA GENERAL HOSPITAL                         MS                      5.0   \n",
       "YAMPA VALLEY MEDICAL CENTER                        CO                      4.0   \n",
       "YAVAPAI REGIONAL MEDICAL CENTER                    AZ                      3.0   \n",
       "YAVAPAI REGIONAL MEDICAL CENTER-EAST CAMPUS        AZ                      3.0   \n",
       "YOAKUM COMMUNITY HOSPITAL                          TX                      5.0   \n",
       "YOAKUM COUNTY HOSPITAL                             TX                      0.0   \n",
       "YORK GENERAL HOSPITAL                              NE                      5.0   \n",
       "YORK HOSPITAL                                      ME                      4.0   \n",
       "                                                   PA                      2.0   \n",
       "YUKON KUSKOKWIM DELTA REG HOSPITAL                 AK                      3.0   \n",
       "YUMA DISTRICT HOSPITAL                             CO                      0.0   \n",
       "YUMA REGIONAL MEDICAL CENTER                       AZ                      2.0   \n",
       "ZUNI COMPREHENSIVE COMMUNITY HEALTH CENTER         NM                      0.0   \n",
       "\n",
       "HCAHPS Measure ID                                         H_COMP_3_STAR_RATING  \\\n",
       "Hospital Name                                      State                         \n",
       "ABBEVILLE AREA MEDICAL CENTER                      SC                      5.0   \n",
       "ABBEVILLE GENERAL HOSPITAL                         LA                      4.0   \n",
       "ABBOTT NORTHWESTERN HOSPITAL                       MN                      4.0   \n",
       "ABILENE REGIONAL MEDICAL CENTER                    TX                      3.0   \n",
       "ABINGTON MEMORIAL HOSPITAL                         PA                      3.0   \n",
       "ABRAHAM LINCOLN MEMORIAL HOSPITAL                  IL                      5.0   \n",
       "ABRAZO ARROWHEAD CAMPUS                            AZ                      3.0   \n",
       "ABRAZO CENTRAL CAMPUS                              AZ                      2.0   \n",
       "ABRAZO MARYVALE CAMPUS                             AZ                      2.0   \n",
       "ABRAZO SCOTTSDALE CAMPUS                           AZ                      2.0   \n",
       "ABRAZO WEST CAMPUS                                 AZ                      2.0   \n",
       "ABROM KAPLAN MEMORIAL HOSPITAL                     LA                      0.0   \n",
       "ACADIA GENERAL HOSPITAL                            LA                      3.0   \n",
       "ACADIA ST LANDRY                                   LA                      0.0   \n",
       "ACMH HOSPITAL                                      PA                      3.0   \n",
       "AD HOSPITAL EAST, LLC                              TX                      0.0   \n",
       "ADAIR COUNTY MEMORIAL HOSPITAL                     IA                      0.0   \n",
       "ADAMS COUNTY REGIONAL MEDICAL CENTER               OH                      3.0   \n",
       "ADAMS MEMORIAL HOSPITAL                            IN                      5.0   \n",
       "ADCARE HOSPITAL OF WORCESTER INC                   MA                      0.0   \n",
       "ADENA PIKE MEDICAL CENTER                          OH                      0.0   \n",
       "ADENA REGIONAL MEDICAL CENTER                      OH                      3.0   \n",
       "ADIRONDACK MEDICAL CENTER                          NY                      5.0   \n",
       "ADMIN DE SERVICIOS MEDICOS  PUERTO RIC             PR                      0.0   \n",
       "ADVANCED SURGICAL HOSPITAL                         PA                      5.0   \n",
       "ADVENTIST BOLINGBROOK HOSPITAL                     IL                      3.0   \n",
       "ADVENTIST GLENOAKS                                 IL                      3.0   \n",
       "ADVENTIST HEALTH MEDICAL CENTER TEHACHAPI VALLEY   CA                      0.0   \n",
       "ADVENTIST HEALTHCARE SHADY GROVE MEDICAL CENTER    MD                      2.0   \n",
       "ADVENTIST HEALTHCARE WASHINGTON ADVENTIST HOSPITAL MD                      3.0   \n",
       "...                                                                        ...   \n",
       "WOODLAND MEMORIAL HOSPITAL                         CA                      4.0   \n",
       "WOODLAWN HOSPITAL                                  IN                      4.0   \n",
       "WOODS AT PARKSIDE,THE                              OH                      0.0   \n",
       "WOOSTER COMMUNITY HOSPITAL                         OH                      4.0   \n",
       "WRANGELL MEDICAL CENTER                            AK                      0.0   \n",
       "WRAY COMMUNITY DISTRICT HOSPITAL                   CO                      0.0   \n",
       "WRIGHT MEMORIAL HOSPITAL                           MO                      4.0   \n",
       "WUESTHOFF MEDICAL CENTER-MELBOURNE                 FL                      2.0   \n",
       "WUESTHOFF MEDICAL CENTER-ROCKLEDGE                 FL                      2.0   \n",
       "WYANDOT MEMORIAL HOSPITAL                          OH                      5.0   \n",
       "WYCKOFF HEIGHTS MEDICAL CENTER                     NY                      1.0   \n",
       "WYOMING COUNTY COMMUNITY HOSPITAL                  NY                      3.0   \n",
       "WYOMING MEDICAL CENTER                             WY                      3.0   \n",
       "WYTHE COUNTY COMMUNITY HOSPITAL                    VA                      4.0   \n",
       "YAKIMA REGIONAL MEDICAL AND CARDIAC CENTER         WA                      3.0   \n",
       "YAKIMA VALLEY MEMORIAL HOSPITAL                    WA                      3.0   \n",
       "YALE-NEW HAVEN HOSPITAL                            CT                      3.0   \n",
       "YALOBUSHA GENERAL HOSPITAL                         MS                      4.0   \n",
       "YAMPA VALLEY MEDICAL CENTER                        CO                      5.0   \n",
       "YAVAPAI REGIONAL MEDICAL CENTER                    AZ                      4.0   \n",
       "YAVAPAI REGIONAL MEDICAL CENTER-EAST CAMPUS        AZ                      4.0   \n",
       "YOAKUM COMMUNITY HOSPITAL                          TX                      4.0   \n",
       "YOAKUM COUNTY HOSPITAL                             TX                      0.0   \n",
       "YORK GENERAL HOSPITAL                              NE                      5.0   \n",
       "YORK HOSPITAL                                      ME                      3.0   \n",
       "                                                   PA                      3.0   \n",
       "YUKON KUSKOKWIM DELTA REG HOSPITAL                 AK                      2.0   \n",
       "YUMA DISTRICT HOSPITAL                             CO                      0.0   \n",
       "YUMA REGIONAL MEDICAL CENTER                       AZ                      3.0   \n",
       "ZUNI COMPREHENSIVE COMMUNITY HEALTH CENTER         NM                      0.0   \n",
       "\n",
       "HCAHPS Measure ID                                         H_COMP_4_STAR_RATING  \\\n",
       "Hospital Name                                      State                         \n",
       "ABBEVILLE AREA MEDICAL CENTER                      SC                      4.0   \n",
       "ABBEVILLE GENERAL HOSPITAL                         LA                      4.0   \n",
       "ABBOTT NORTHWESTERN HOSPITAL                       MN                      4.0   \n",
       "ABILENE REGIONAL MEDICAL CENTER                    TX                      2.0   \n",
       "ABINGTON MEMORIAL HOSPITAL                         PA                      2.0   \n",
       "ABRAHAM LINCOLN MEMORIAL HOSPITAL                  IL                      4.0   \n",
       "ABRAZO ARROWHEAD CAMPUS                            AZ                      2.0   \n",
       "ABRAZO CENTRAL CAMPUS                              AZ                      2.0   \n",
       "ABRAZO MARYVALE CAMPUS                             AZ                      2.0   \n",
       "ABRAZO SCOTTSDALE CAMPUS                           AZ                      2.0   \n",
       "ABRAZO WEST CAMPUS                                 AZ                      2.0   \n",
       "ABROM KAPLAN MEMORIAL HOSPITAL                     LA                      0.0   \n",
       "ACADIA GENERAL HOSPITAL                            LA                      4.0   \n",
       "ACADIA ST LANDRY                                   LA                      0.0   \n",
       "ACMH HOSPITAL                                      PA                      4.0   \n",
       "AD HOSPITAL EAST, LLC                              TX                      0.0   \n",
       "ADAIR COUNTY MEMORIAL HOSPITAL                     IA                      0.0   \n",
       "ADAMS COUNTY REGIONAL MEDICAL CENTER               OH                      1.0   \n",
       "ADAMS MEMORIAL HOSPITAL                            IN                      4.0   \n",
       "ADCARE HOSPITAL OF WORCESTER INC                   MA                      0.0   \n",
       "ADENA PIKE MEDICAL CENTER                          OH                      0.0   \n",
       "ADENA REGIONAL MEDICAL CENTER                      OH                      2.0   \n",
       "ADIRONDACK MEDICAL CENTER                          NY                      4.0   \n",
       "ADMIN DE SERVICIOS MEDICOS  PUERTO RIC             PR                      0.0   \n",
       "ADVANCED SURGICAL HOSPITAL                         PA                      5.0   \n",
       "ADVENTIST BOLINGBROOK HOSPITAL                     IL                      2.0   \n",
       "ADVENTIST GLENOAKS                                 IL                      3.0   \n",
       "ADVENTIST HEALTH MEDICAL CENTER TEHACHAPI VALLEY   CA                      0.0   \n",
       "ADVENTIST HEALTHCARE SHADY GROVE MEDICAL CENTER    MD                      2.0   \n",
       "ADVENTIST HEALTHCARE WASHINGTON ADVENTIST HOSPITAL MD                      2.0   \n",
       "...                                                                        ...   \n",
       "WOODLAND MEMORIAL HOSPITAL                         CA                      4.0   \n",
       "WOODLAWN HOSPITAL                                  IN                      4.0   \n",
       "WOODS AT PARKSIDE,THE                              OH                      0.0   \n",
       "WOOSTER COMMUNITY HOSPITAL                         OH                      3.0   \n",
       "WRANGELL MEDICAL CENTER                            AK                      0.0   \n",
       "WRAY COMMUNITY DISTRICT HOSPITAL                   CO                      0.0   \n",
       "WRIGHT MEMORIAL HOSPITAL                           MO                      4.0   \n",
       "WUESTHOFF MEDICAL CENTER-MELBOURNE                 FL                      2.0   \n",
       "WUESTHOFF MEDICAL CENTER-ROCKLEDGE                 FL                      2.0   \n",
       "WYANDOT MEMORIAL HOSPITAL                          OH                      3.0   \n",
       "WYCKOFF HEIGHTS MEDICAL CENTER                     NY                      1.0   \n",
       "WYOMING COUNTY COMMUNITY HOSPITAL                  NY                      3.0   \n",
       "WYOMING MEDICAL CENTER                             WY                      2.0   \n",
       "WYTHE COUNTY COMMUNITY HOSPITAL                    VA                      3.0   \n",
       "YAKIMA REGIONAL MEDICAL AND CARDIAC CENTER         WA                      3.0   \n",
       "YAKIMA VALLEY MEMORIAL HOSPITAL                    WA                      2.0   \n",
       "YALE-NEW HAVEN HOSPITAL                            CT                      3.0   \n",
       "YALOBUSHA GENERAL HOSPITAL                         MS                      5.0   \n",
       "YAMPA VALLEY MEDICAL CENTER                        CO                      4.0   \n",
       "YAVAPAI REGIONAL MEDICAL CENTER                    AZ                      3.0   \n",
       "YAVAPAI REGIONAL MEDICAL CENTER-EAST CAMPUS        AZ                      3.0   \n",
       "YOAKUM COMMUNITY HOSPITAL                          TX                      4.0   \n",
       "YOAKUM COUNTY HOSPITAL                             TX                      0.0   \n",
       "YORK GENERAL HOSPITAL                              NE                      4.0   \n",
       "YORK HOSPITAL                                      ME                      4.0   \n",
       "                                                   PA                      3.0   \n",
       "YUKON KUSKOKWIM DELTA REG HOSPITAL                 AK                      1.0   \n",
       "YUMA DISTRICT HOSPITAL                             CO                      0.0   \n",
       "YUMA REGIONAL MEDICAL CENTER                       AZ                      2.0   \n",
       "ZUNI COMPREHENSIVE COMMUNITY HEALTH CENTER         NM                      0.0   \n",
       "\n",
       "HCAHPS Measure ID                                         H_COMP_5_STAR_RATING  \\\n",
       "Hospital Name                                      State                         \n",
       "ABBEVILLE AREA MEDICAL CENTER                      SC                      5.0   \n",
       "ABBEVILLE GENERAL HOSPITAL                         LA                      3.0   \n",
       "ABBOTT NORTHWESTERN HOSPITAL                       MN                      4.0   \n",
       "ABILENE REGIONAL MEDICAL CENTER                    TX                      2.0   \n",
       "ABINGTON MEMORIAL HOSPITAL                         PA                      3.0   \n",
       "ABRAHAM LINCOLN MEMORIAL HOSPITAL                  IL                      4.0   \n",
       "ABRAZO ARROWHEAD CAMPUS                            AZ                      2.0   \n",
       "ABRAZO CENTRAL CAMPUS                              AZ                      2.0   \n",
       "ABRAZO MARYVALE CAMPUS                             AZ                      2.0   \n",
       "ABRAZO SCOTTSDALE CAMPUS                           AZ                      2.0   \n",
       "ABRAZO WEST CAMPUS                                 AZ                      3.0   \n",
       "ABROM KAPLAN MEMORIAL HOSPITAL                     LA                      0.0   \n",
       "ACADIA GENERAL HOSPITAL                            LA                      4.0   \n",
       "ACADIA ST LANDRY                                   LA                      0.0   \n",
       "ACMH HOSPITAL                                      PA                      3.0   \n",
       "AD HOSPITAL EAST, LLC                              TX                      0.0   \n",
       "ADAIR COUNTY MEMORIAL HOSPITAL                     IA                      0.0   \n",
       "ADAMS COUNTY REGIONAL MEDICAL CENTER               OH                      2.0   \n",
       "ADAMS MEMORIAL HOSPITAL                            IN                      3.0   \n",
       "ADCARE HOSPITAL OF WORCESTER INC                   MA                      0.0   \n",
       "ADENA PIKE MEDICAL CENTER                          OH                      0.0   \n",
       "ADENA REGIONAL MEDICAL CENTER                      OH                      3.0   \n",
       "ADIRONDACK MEDICAL CENTER                          NY                      4.0   \n",
       "ADMIN DE SERVICIOS MEDICOS  PUERTO RIC             PR                      0.0   \n",
       "ADVANCED SURGICAL HOSPITAL                         PA                      5.0   \n",
       "ADVENTIST BOLINGBROOK HOSPITAL                     IL                      3.0   \n",
       "ADVENTIST GLENOAKS                                 IL                      2.0   \n",
       "ADVENTIST HEALTH MEDICAL CENTER TEHACHAPI VALLEY   CA                      0.0   \n",
       "ADVENTIST HEALTHCARE SHADY GROVE MEDICAL CENTER    MD                      2.0   \n",
       "ADVENTIST HEALTHCARE WASHINGTON ADVENTIST HOSPITAL MD                      2.0   \n",
       "...                                                                        ...   \n",
       "WOODLAND MEMORIAL HOSPITAL                         CA                      4.0   \n",
       "WOODLAWN HOSPITAL                                  IN                      3.0   \n",
       "WOODS AT PARKSIDE,THE                              OH                      0.0   \n",
       "WOOSTER COMMUNITY HOSPITAL                         OH                      3.0   \n",
       "WRANGELL MEDICAL CENTER                            AK                      0.0   \n",
       "WRAY COMMUNITY DISTRICT HOSPITAL                   CO                      0.0   \n",
       "WRIGHT MEMORIAL HOSPITAL                           MO                      4.0   \n",
       "WUESTHOFF MEDICAL CENTER-MELBOURNE                 FL                      2.0   \n",
       "WUESTHOFF MEDICAL CENTER-ROCKLEDGE                 FL                      2.0   \n",
       "WYANDOT MEMORIAL HOSPITAL                          OH                      3.0   \n",
       "WYCKOFF HEIGHTS MEDICAL CENTER                     NY                      2.0   \n",
       "WYOMING COUNTY COMMUNITY HOSPITAL                  NY                      2.0   \n",
       "WYOMING MEDICAL CENTER                             WY                      2.0   \n",
       "WYTHE COUNTY COMMUNITY HOSPITAL                    VA                      3.0   \n",
       "YAKIMA REGIONAL MEDICAL AND CARDIAC CENTER         WA                      2.0   \n",
       "YAKIMA VALLEY MEMORIAL HOSPITAL                    WA                      3.0   \n",
       "YALE-NEW HAVEN HOSPITAL                            CT                      2.0   \n",
       "YALOBUSHA GENERAL HOSPITAL                         MS                      5.0   \n",
       "YAMPA VALLEY MEDICAL CENTER                        CO                      4.0   \n",
       "YAVAPAI REGIONAL MEDICAL CENTER                    AZ                      3.0   \n",
       "YAVAPAI REGIONAL MEDICAL CENTER-EAST CAMPUS        AZ                      3.0   \n",
       "YOAKUM COMMUNITY HOSPITAL                          TX                      4.0   \n",
       "YOAKUM COUNTY HOSPITAL                             TX                      0.0   \n",
       "YORK GENERAL HOSPITAL                              NE                      4.0   \n",
       "YORK HOSPITAL                                      ME                      4.0   \n",
       "                                                   PA                      2.0   \n",
       "YUKON KUSKOKWIM DELTA REG HOSPITAL                 AK                      3.0   \n",
       "YUMA DISTRICT HOSPITAL                             CO                      0.0   \n",
       "YUMA REGIONAL MEDICAL CENTER                       AZ                      2.0   \n",
       "ZUNI COMPREHENSIVE COMMUNITY HEALTH CENTER         NM                      0.0   \n",
       "\n",
       "HCAHPS Measure ID                                         H_COMP_6_STAR_RATING  \\\n",
       "Hospital Name                                      State                         \n",
       "ABBEVILLE AREA MEDICAL CENTER                      SC                      4.0   \n",
       "ABBEVILLE GENERAL HOSPITAL                         LA                      2.0   \n",
       "ABBOTT NORTHWESTERN HOSPITAL                       MN                      4.0   \n",
       "ABILENE REGIONAL MEDICAL CENTER                    TX                      3.0   \n",
       "ABINGTON MEMORIAL HOSPITAL                         PA                      3.0   \n",
       "ABRAHAM LINCOLN MEMORIAL HOSPITAL                  IL                      4.0   \n",
       "ABRAZO ARROWHEAD CAMPUS                            AZ                      3.0   \n",
       "ABRAZO CENTRAL CAMPUS                              AZ                      2.0   \n",
       "ABRAZO MARYVALE CAMPUS                             AZ                      2.0   \n",
       "ABRAZO SCOTTSDALE CAMPUS                           AZ                      3.0   \n",
       "ABRAZO WEST CAMPUS                                 AZ                      3.0   \n",
       "ABROM KAPLAN MEMORIAL HOSPITAL                     LA                      0.0   \n",
       "ACADIA GENERAL HOSPITAL                            LA                      3.0   \n",
       "ACADIA ST LANDRY                                   LA                      0.0   \n",
       "ACMH HOSPITAL                                      PA                      3.0   \n",
       "AD HOSPITAL EAST, LLC                              TX                      0.0   \n",
       "ADAIR COUNTY MEMORIAL HOSPITAL                     IA                      0.0   \n",
       "ADAMS COUNTY REGIONAL MEDICAL CENTER               OH                      2.0   \n",
       "ADAMS MEMORIAL HOSPITAL                            IN                      3.0   \n",
       "ADCARE HOSPITAL OF WORCESTER INC                   MA                      0.0   \n",
       "ADENA PIKE MEDICAL CENTER                          OH                      0.0   \n",
       "ADENA REGIONAL MEDICAL CENTER                      OH                      3.0   \n",
       "ADIRONDACK MEDICAL CENTER                          NY                      4.0   \n",
       "ADMIN DE SERVICIOS MEDICOS  PUERTO RIC             PR                      0.0   \n",
       "ADVANCED SURGICAL HOSPITAL                         PA                      5.0   \n",
       "ADVENTIST BOLINGBROOK HOSPITAL                     IL                      2.0   \n",
       "ADVENTIST GLENOAKS                                 IL                      3.0   \n",
       "ADVENTIST HEALTH MEDICAL CENTER TEHACHAPI VALLEY   CA                      0.0   \n",
       "ADVENTIST HEALTHCARE SHADY GROVE MEDICAL CENTER    MD                      3.0   \n",
       "ADVENTIST HEALTHCARE WASHINGTON ADVENTIST HOSPITAL MD                      3.0   \n",
       "...                                                                        ...   \n",
       "WOODLAND MEMORIAL HOSPITAL                         CA                      4.0   \n",
       "WOODLAWN HOSPITAL                                  IN                      4.0   \n",
       "WOODS AT PARKSIDE,THE                              OH                      0.0   \n",
       "WOOSTER COMMUNITY HOSPITAL                         OH                      3.0   \n",
       "WRANGELL MEDICAL CENTER                            AK                      0.0   \n",
       "WRAY COMMUNITY DISTRICT HOSPITAL                   CO                      0.0   \n",
       "WRIGHT MEMORIAL HOSPITAL                           MO                      4.0   \n",
       "WUESTHOFF MEDICAL CENTER-MELBOURNE                 FL                      3.0   \n",
       "WUESTHOFF MEDICAL CENTER-ROCKLEDGE                 FL                      2.0   \n",
       "WYANDOT MEMORIAL HOSPITAL                          OH                      2.0   \n",
       "WYCKOFF HEIGHTS MEDICAL CENTER                     NY                      1.0   \n",
       "WYOMING COUNTY COMMUNITY HOSPITAL                  NY                      3.0   \n",
       "WYOMING MEDICAL CENTER                             WY                      4.0   \n",
       "WYTHE COUNTY COMMUNITY HOSPITAL                    VA                      4.0   \n",
       "YAKIMA REGIONAL MEDICAL AND CARDIAC CENTER         WA                      4.0   \n",
       "YAKIMA VALLEY MEMORIAL HOSPITAL                    WA                      3.0   \n",
       "YALE-NEW HAVEN HOSPITAL                            CT                      3.0   \n",
       "YALOBUSHA GENERAL HOSPITAL                         MS                      2.0   \n",
       "YAMPA VALLEY MEDICAL CENTER                        CO                      4.0   \n",
       "YAVAPAI REGIONAL MEDICAL CENTER                    AZ                      4.0   \n",
       "YAVAPAI REGIONAL MEDICAL CENTER-EAST CAMPUS        AZ                      4.0   \n",
       "YOAKUM COMMUNITY HOSPITAL                          TX                      4.0   \n",
       "YOAKUM COUNTY HOSPITAL                             TX                      0.0   \n",
       "YORK GENERAL HOSPITAL                              NE                      2.0   \n",
       "YORK HOSPITAL                                      ME                      4.0   \n",
       "                                                   PA                      3.0   \n",
       "YUKON KUSKOKWIM DELTA REG HOSPITAL                 AK                      3.0   \n",
       "YUMA DISTRICT HOSPITAL                             CO                      0.0   \n",
       "YUMA REGIONAL MEDICAL CENTER                       AZ                      2.0   \n",
       "ZUNI COMPREHENSIVE COMMUNITY HEALTH CENTER         NM                      0.0   \n",
       "\n",
       "HCAHPS Measure ID                                         H_COMP_7_STAR_RATING  \\\n",
       "Hospital Name                                      State                         \n",
       "ABBEVILLE AREA MEDICAL CENTER                      SC                      4.0   \n",
       "ABBEVILLE GENERAL HOSPITAL                         LA                      4.0   \n",
       "ABBOTT NORTHWESTERN HOSPITAL                       MN                      4.0   \n",
       "ABILENE REGIONAL MEDICAL CENTER                    TX                      2.0   \n",
       "ABINGTON MEMORIAL HOSPITAL                         PA                      3.0   \n",
       "ABRAHAM LINCOLN MEMORIAL HOSPITAL                  IL                      4.0   \n",
       "ABRAZO ARROWHEAD CAMPUS                            AZ                      2.0   \n",
       "ABRAZO CENTRAL CAMPUS                              AZ                      1.0   \n",
       "ABRAZO MARYVALE CAMPUS                             AZ                      1.0   \n",
       "ABRAZO SCOTTSDALE CAMPUS                           AZ                      1.0   \n",
       "ABRAZO WEST CAMPUS                                 AZ                      1.0   \n",
       "ABROM KAPLAN MEMORIAL HOSPITAL                     LA                      0.0   \n",
       "ACADIA GENERAL HOSPITAL                            LA                      3.0   \n",
       "ACADIA ST LANDRY                                   LA                      0.0   \n",
       "ACMH HOSPITAL                                      PA                      3.0   \n",
       "AD HOSPITAL EAST, LLC                              TX                      0.0   \n",
       "ADAIR COUNTY MEMORIAL HOSPITAL                     IA                      0.0   \n",
       "ADAMS COUNTY REGIONAL MEDICAL CENTER               OH                      2.0   \n",
       "ADAMS MEMORIAL HOSPITAL                            IN                      4.0   \n",
       "ADCARE HOSPITAL OF WORCESTER INC                   MA                      0.0   \n",
       "ADENA PIKE MEDICAL CENTER                          OH                      0.0   \n",
       "ADENA REGIONAL MEDICAL CENTER                      OH                      3.0   \n",
       "ADIRONDACK MEDICAL CENTER                          NY                      4.0   \n",
       "ADMIN DE SERVICIOS MEDICOS  PUERTO RIC             PR                      0.0   \n",
       "ADVANCED SURGICAL HOSPITAL                         PA                      5.0   \n",
       "ADVENTIST BOLINGBROOK HOSPITAL                     IL                      3.0   \n",
       "ADVENTIST GLENOAKS                                 IL                      2.0   \n",
       "ADVENTIST HEALTH MEDICAL CENTER TEHACHAPI VALLEY   CA                      0.0   \n",
       "ADVENTIST HEALTHCARE SHADY GROVE MEDICAL CENTER    MD                      2.0   \n",
       "ADVENTIST HEALTHCARE WASHINGTON ADVENTIST HOSPITAL MD                      2.0   \n",
       "...                                                                        ...   \n",
       "WOODLAND MEMORIAL HOSPITAL                         CA                      4.0   \n",
       "WOODLAWN HOSPITAL                                  IN                      4.0   \n",
       "WOODS AT PARKSIDE,THE                              OH                      0.0   \n",
       "WOOSTER COMMUNITY HOSPITAL                         OH                      3.0   \n",
       "WRANGELL MEDICAL CENTER                            AK                      0.0   \n",
       "WRAY COMMUNITY DISTRICT HOSPITAL                   CO                      0.0   \n",
       "WRIGHT MEMORIAL HOSPITAL                           MO                      4.0   \n",
       "WUESTHOFF MEDICAL CENTER-MELBOURNE                 FL                      1.0   \n",
       "WUESTHOFF MEDICAL CENTER-ROCKLEDGE                 FL                      2.0   \n",
       "WYANDOT MEMORIAL HOSPITAL                          OH                      4.0   \n",
       "WYCKOFF HEIGHTS MEDICAL CENTER                     NY                      2.0   \n",
       "WYOMING COUNTY COMMUNITY HOSPITAL                  NY                      2.0   \n",
       "WYOMING MEDICAL CENTER                             WY                      2.0   \n",
       "WYTHE COUNTY COMMUNITY HOSPITAL                    VA                      2.0   \n",
       "YAKIMA REGIONAL MEDICAL AND CARDIAC CENTER         WA                      2.0   \n",
       "YAKIMA VALLEY MEMORIAL HOSPITAL                    WA                      3.0   \n",
       "YALE-NEW HAVEN HOSPITAL                            CT                      3.0   \n",
       "YALOBUSHA GENERAL HOSPITAL                         MS                      5.0   \n",
       "YAMPA VALLEY MEDICAL CENTER                        CO                      4.0   \n",
       "YAVAPAI REGIONAL MEDICAL CENTER                    AZ                      3.0   \n",
       "YAVAPAI REGIONAL MEDICAL CENTER-EAST CAMPUS        AZ                      3.0   \n",
       "YOAKUM COMMUNITY HOSPITAL                          TX                      4.0   \n",
       "YOAKUM COUNTY HOSPITAL                             TX                      0.0   \n",
       "YORK GENERAL HOSPITAL                              NE                      4.0   \n",
       "YORK HOSPITAL                                      ME                      4.0   \n",
       "                                                   PA                      3.0   \n",
       "YUKON KUSKOKWIM DELTA REG HOSPITAL                 AK                      1.0   \n",
       "YUMA DISTRICT HOSPITAL                             CO                      0.0   \n",
       "YUMA REGIONAL MEDICAL CENTER                       AZ                      2.0   \n",
       "ZUNI COMPREHENSIVE COMMUNITY HEALTH CENTER         NM                      0.0   \n",
       "\n",
       "HCAHPS Measure ID                                         H_RECMND_STAR_RATING  \n",
       "Hospital Name                                      State                        \n",
       "ABBEVILLE AREA MEDICAL CENTER                      SC                      5.0  \n",
       "ABBEVILLE GENERAL HOSPITAL                         LA                      1.0  \n",
       "ABBOTT NORTHWESTERN HOSPITAL                       MN                      5.0  \n",
       "ABILENE REGIONAL MEDICAL CENTER                    TX                      3.0  \n",
       "ABINGTON MEMORIAL HOSPITAL                         PA                      3.0  \n",
       "ABRAHAM LINCOLN MEMORIAL HOSPITAL                  IL                      4.0  \n",
       "ABRAZO ARROWHEAD CAMPUS                            AZ                      2.0  \n",
       "ABRAZO CENTRAL CAMPUS                              AZ                      2.0  \n",
       "ABRAZO MARYVALE CAMPUS                             AZ                      1.0  \n",
       "ABRAZO SCOTTSDALE CAMPUS                           AZ                      2.0  \n",
       "ABRAZO WEST CAMPUS                                 AZ                      1.0  \n",
       "ABROM KAPLAN MEMORIAL HOSPITAL                     LA                      0.0  \n",
       "ACADIA GENERAL HOSPITAL                            LA                      3.0  \n",
       "ACADIA ST LANDRY                                   LA                      0.0  \n",
       "ACMH HOSPITAL                                      PA                      2.0  \n",
       "AD HOSPITAL EAST, LLC                              TX                      0.0  \n",
       "ADAIR COUNTY MEMORIAL HOSPITAL                     IA                      0.0  \n",
       "ADAMS COUNTY REGIONAL MEDICAL CENTER               OH                      1.0  \n",
       "ADAMS MEMORIAL HOSPITAL                            IN                      3.0  \n",
       "ADCARE HOSPITAL OF WORCESTER INC                   MA                      0.0  \n",
       "ADENA PIKE MEDICAL CENTER                          OH                      0.0  \n",
       "ADENA REGIONAL MEDICAL CENTER                      OH                      2.0  \n",
       "ADIRONDACK MEDICAL CENTER                          NY                      4.0  \n",
       "ADMIN DE SERVICIOS MEDICOS  PUERTO RIC             PR                      0.0  \n",
       "ADVANCED SURGICAL HOSPITAL                         PA                      5.0  \n",
       "ADVENTIST BOLINGBROOK HOSPITAL                     IL                      2.0  \n",
       "ADVENTIST GLENOAKS                                 IL                      1.0  \n",
       "ADVENTIST HEALTH MEDICAL CENTER TEHACHAPI VALLEY   CA                      0.0  \n",
       "ADVENTIST HEALTHCARE SHADY GROVE MEDICAL CENTER    MD                      3.0  \n",
       "ADVENTIST HEALTHCARE WASHINGTON ADVENTIST HOSPITAL MD                      3.0  \n",
       "...                                                                        ...  \n",
       "WOODLAND MEMORIAL HOSPITAL                         CA                      3.0  \n",
       "WOODLAWN HOSPITAL                                  IN                      3.0  \n",
       "WOODS AT PARKSIDE,THE                              OH                      0.0  \n",
       "WOOSTER COMMUNITY HOSPITAL                         OH                      4.0  \n",
       "WRANGELL MEDICAL CENTER                            AK                      0.0  \n",
       "WRAY COMMUNITY DISTRICT HOSPITAL                   CO                      0.0  \n",
       "WRIGHT MEMORIAL HOSPITAL                           MO                      4.0  \n",
       "WUESTHOFF MEDICAL CENTER-MELBOURNE                 FL                      1.0  \n",
       "WUESTHOFF MEDICAL CENTER-ROCKLEDGE                 FL                      2.0  \n",
       "WYANDOT MEMORIAL HOSPITAL                          OH                      4.0  \n",
       "WYCKOFF HEIGHTS MEDICAL CENTER                     NY                      1.0  \n",
       "WYOMING COUNTY COMMUNITY HOSPITAL                  NY                      2.0  \n",
       "WYOMING MEDICAL CENTER                             WY                      3.0  \n",
       "WYTHE COUNTY COMMUNITY HOSPITAL                    VA                      3.0  \n",
       "YAKIMA REGIONAL MEDICAL AND CARDIAC CENTER         WA                      3.0  \n",
       "YAKIMA VALLEY MEMORIAL HOSPITAL                    WA                      3.0  \n",
       "YALE-NEW HAVEN HOSPITAL                            CT                      4.0  \n",
       "YALOBUSHA GENERAL HOSPITAL                         MS                      5.0  \n",
       "YAMPA VALLEY MEDICAL CENTER                        CO                      5.0  \n",
       "YAVAPAI REGIONAL MEDICAL CENTER                    AZ                      4.0  \n",
       "YAVAPAI REGIONAL MEDICAL CENTER-EAST CAMPUS        AZ                      4.0  \n",
       "YOAKUM COMMUNITY HOSPITAL                          TX                      5.0  \n",
       "YOAKUM COUNTY HOSPITAL                             TX                      0.0  \n",
       "YORK GENERAL HOSPITAL                              NE                      4.0  \n",
       "YORK HOSPITAL                                      ME                      5.0  \n",
       "                                                   PA                      3.0  \n",
       "YUKON KUSKOKWIM DELTA REG HOSPITAL                 AK                      2.0  \n",
       "YUMA DISTRICT HOSPITAL                             CO                      0.0  \n",
       "YUMA REGIONAL MEDICAL CENTER                       AZ                      2.0  \n",
       "ZUNI COMPREHENSIVE COMMUNITY HEALTH CENTER         NM                      0.0  \n",
       "\n",
       "[4785 rows x 8 columns]"
      ]
     },
     "execution_count": 1289,
     "metadata": {},
     "output_type": "execute_result"
    }
   ],
   "source": [
    "surveys_pivot = pd.pivot_table(surveys, index=['Hospital Name', 'State'], columns ='HCAHPS Measure ID', \n",
    "                               values = 'Patient Survey Star Rating' )\n",
    "surveys_pivot"
   ]
  },
  {
   "cell_type": "markdown",
   "metadata": {},
   "source": [
    "#### Joining feature sets"
   ]
  },
  {
   "cell_type": "code",
   "execution_count": 1321,
   "metadata": {
    "collapsed": false
   },
   "outputs": [],
   "source": [
    "#making copies of all dataframes to maniupulate\n",
    "comp_score_copy = comp_score.copy()\n",
    "comp_score_low_copy = comp_low.copy()\n",
    "comp_score_high_copy = comp_high.copy()\n",
    "spending_in_pivot_copy = spending_in_pivot.copy()\n",
    "spending_out_pivot_copy = spending_out_pivot.copy()\n",
    "reduc_copy = reduc.copy()\n",
    "pay_pay_copy = pay_pay.copy()\n",
    "pay_low_copy = pay_low.copy()\n",
    "pay_high_copy = pay_high.copy()\n",
    "surveys_pivot_copy = surveys_pivot.copy()"
   ]
  },
  {
   "cell_type": "code",
   "execution_count": 1322,
   "metadata": {
    "collapsed": false
   },
   "outputs": [],
   "source": [
    "funcs = [comp_score_copy, comp_score_high_copy, comp_score_low_copy, spending_in_pivot_copy, \n",
    "         spending_out_pivot_copy, pay_pay_copy, pay_low_copy, pay_high_copy, surveys_pivot_copy]\n",
    "for func in funcs:\n",
    "    func.reset_index(inplace=True)\n",
    "    #reseting index so that I can have hospital name as column to join on"
   ]
  },
  {
   "cell_type": "code",
   "execution_count": 1323,
   "metadata": {
    "collapsed": false
   },
   "outputs": [
    {
     "name": "stdout",
     "output_type": "stream",
     "text": [
      "<class 'pandas.core.frame.DataFrame'>\n",
      "RangeIndex: 4785 entries, 0 to 4784\n",
      "Data columns (total 5 columns):\n",
      "Hospital name       4785 non-null object\n",
      "State               4785 non-null object\n",
      "PAYM_30_AMI_high    4785 non-null float64\n",
      "PAYM_30_HF_high     4785 non-null float64\n",
      "PAYM_30_PN_high     4785 non-null float64\n",
      "dtypes: float64(3), object(2)\n",
      "memory usage: 187.0+ KB\n"
     ]
    }
   ],
   "source": [
    "pay_high_copy.info() #Need to rename Hospital_Name so that they match in all dfs"
   ]
  },
  {
   "cell_type": "code",
   "execution_count": 1324,
   "metadata": {
    "collapsed": true
   },
   "outputs": [],
   "source": [
    "spending_in_pivot_copy.rename(columns={\"Hospital_Name\": \"Hospital Name\"}, inplace=True)\n",
    "spending_out_pivot_copy.rename(columns={\"Hospital_Name\": \"Hospital Name\"}, inplace=True)"
   ]
  },
  {
   "cell_type": "code",
   "execution_count": 1325,
   "metadata": {
    "collapsed": false
   },
   "outputs": [
    {
     "name": "stdout",
     "output_type": "stream",
     "text": [
      "<class 'pandas.core.frame.DataFrame'>\n",
      "RangeIndex: 3313 entries, 0 to 3312\n",
      "Data columns (total 8 columns):\n",
      "Hospital_Name        3313 non-null object\n",
      "State                3313 non-null object\n",
      "AHRQ_PSI_90_Score    3313 non-null float64\n",
      "CLABSI_Score         3313 non-null float64\n",
      "CAUTI_Score          3313 non-null float64\n",
      "SSI_Score            3313 non-null float64\n",
      "MRSA_Score           3313 non-null float64\n",
      "CDI_Score            3313 non-null float64\n",
      "dtypes: float64(6), object(2)\n",
      "memory usage: 207.1+ KB\n"
     ]
    }
   ],
   "source": [
    "reduc_copy.info()"
   ]
  },
  {
   "cell_type": "code",
   "execution_count": 1326,
   "metadata": {
    "collapsed": true
   },
   "outputs": [],
   "source": [
    "reduc_copy.rename(columns={\"Hospital_Name\": \"Hospital Name\"}, inplace=True)"
   ]
  },
  {
   "cell_type": "code",
   "execution_count": 1327,
   "metadata": {
    "collapsed": false
   },
   "outputs": [
    {
     "name": "stdout",
     "output_type": "stream",
     "text": [
      "<class 'pandas.core.frame.DataFrame'>\n",
      "RangeIndex: 4785 entries, 0 to 4784\n",
      "Data columns (total 5 columns):\n",
      "Hospital name    4785 non-null object\n",
      "State            4785 non-null object\n",
      "PAYM_30_AMI      4785 non-null float64\n",
      "PAYM_30_HF       4785 non-null float64\n",
      "PAYM_30_PN       4785 non-null float64\n",
      "dtypes: float64(3), object(2)\n",
      "memory usage: 187.0+ KB\n"
     ]
    }
   ],
   "source": [
    "pay_pay_copy.info()"
   ]
  },
  {
   "cell_type": "code",
   "execution_count": 1343,
   "metadata": {
    "collapsed": true
   },
   "outputs": [],
   "source": [
    "pay_pay_copy.rename(columns={\"Hospital name\": \"Hospital Name\"}, inplace=True)\n",
    "pay_low_copy.rename(columns={\"Hospital name\": \"Hospital Name\"}, inplace=True)\n",
    "pay_high_copy.rename(columns={\"Hospital name\": \"Hospital Name\"}, inplace=True)"
   ]
  },
  {
   "cell_type": "code",
   "execution_count": 1334,
   "metadata": {
    "collapsed": false
   },
   "outputs": [
    {
     "name": "stdout",
     "output_type": "stream",
     "text": [
      "<class 'pandas.core.frame.DataFrame'>\n",
      "RangeIndex: 4785 entries, 0 to 4784\n",
      "Data columns (total 13 columns):\n",
      "Hospital Name                    4785 non-null object\n",
      "State                            4785 non-null object\n",
      "COMP_HIP_KNEE_low                4785 non-null float64\n",
      "PSI_12_POSTOP_PULMEMB_DVT_low    4785 non-null float64\n",
      "PSI_13_POST_SEPSIS_low           4785 non-null float64\n",
      "PSI_14_POSTOP_DEHIS_low          4785 non-null float64\n",
      "PSI_15_ACC_LAC_low               4785 non-null float64\n",
      "PSI_3_ULCER_low                  4785 non-null float64\n",
      "PSI_4_SURG_COMP_low              4785 non-null float64\n",
      "PSI_6_IAT_PTX_low                4785 non-null float64\n",
      "PSI_7_CVCBI_low                  4785 non-null float64\n",
      "PSI_8_POST_HIP_low               4785 non-null float64\n",
      "PSI_90_SAFETY_low                4785 non-null float64\n",
      "dtypes: float64(11), object(2)\n",
      "memory usage: 486.0+ KB\n"
     ]
    }
   ],
   "source": [
    "comp_score_low_copy.info()"
   ]
  },
  {
   "cell_type": "code",
   "execution_count": 1335,
   "metadata": {
    "collapsed": false
   },
   "outputs": [
    {
     "data": {
      "text/html": [
       "<div>\n",
       "<table border=\"1\" class=\"dataframe\">\n",
       "  <thead>\n",
       "    <tr style=\"text-align: right;\">\n",
       "      <th></th>\n",
       "      <th>Hospital Name</th>\n",
       "      <th>State</th>\n",
       "      <th>COMP_HIP_KNEE_low</th>\n",
       "      <th>PSI_12_POSTOP_PULMEMB_DVT_low</th>\n",
       "      <th>PSI_13_POST_SEPSIS_low</th>\n",
       "      <th>PSI_14_POSTOP_DEHIS_low</th>\n",
       "      <th>PSI_15_ACC_LAC_low</th>\n",
       "      <th>PSI_3_ULCER_low</th>\n",
       "      <th>PSI_4_SURG_COMP_low</th>\n",
       "      <th>PSI_6_IAT_PTX_low</th>\n",
       "      <th>PSI_7_CVCBI_low</th>\n",
       "      <th>PSI_8_POST_HIP_low</th>\n",
       "      <th>PSI_90_SAFETY_low</th>\n",
       "    </tr>\n",
       "  </thead>\n",
       "  <tbody>\n",
       "    <tr>\n",
       "      <th>0</th>\n",
       "      <td>ABBEVILLE AREA MEDICAL CENTER</td>\n",
       "      <td>SC</td>\n",
       "      <td>1.7</td>\n",
       "      <td>0.00</td>\n",
       "      <td>0.00</td>\n",
       "      <td>0.00</td>\n",
       "      <td>0.00</td>\n",
       "      <td>0.00</td>\n",
       "      <td>0.00</td>\n",
       "      <td>0.00</td>\n",
       "      <td>0.0</td>\n",
       "      <td>0.00</td>\n",
       "      <td>0.00</td>\n",
       "    </tr>\n",
       "    <tr>\n",
       "      <th>1</th>\n",
       "      <td>ABBEVILLE GENERAL HOSPITAL</td>\n",
       "      <td>LA</td>\n",
       "      <td>1.7</td>\n",
       "      <td>1.67</td>\n",
       "      <td>0.00</td>\n",
       "      <td>0.00</td>\n",
       "      <td>0.37</td>\n",
       "      <td>0.00</td>\n",
       "      <td>0.00</td>\n",
       "      <td>0.07</td>\n",
       "      <td>0.0</td>\n",
       "      <td>0.06</td>\n",
       "      <td>0.57</td>\n",
       "    </tr>\n",
       "    <tr>\n",
       "      <th>2</th>\n",
       "      <td>ABBOTT NORTHWESTERN HOSPITAL</td>\n",
       "      <td>MN</td>\n",
       "      <td>1.7</td>\n",
       "      <td>3.47</td>\n",
       "      <td>6.15</td>\n",
       "      <td>0.00</td>\n",
       "      <td>1.42</td>\n",
       "      <td>0.00</td>\n",
       "      <td>92.72</td>\n",
       "      <td>0.09</td>\n",
       "      <td>0.0</td>\n",
       "      <td>0.06</td>\n",
       "      <td>0.78</td>\n",
       "    </tr>\n",
       "    <tr>\n",
       "      <th>3</th>\n",
       "      <td>ABILENE REGIONAL MEDICAL CENTER</td>\n",
       "      <td>TX</td>\n",
       "      <td>2.0</td>\n",
       "      <td>0.17</td>\n",
       "      <td>0.00</td>\n",
       "      <td>0.00</td>\n",
       "      <td>0.27</td>\n",
       "      <td>0.00</td>\n",
       "      <td>92.17</td>\n",
       "      <td>0.12</td>\n",
       "      <td>0.0</td>\n",
       "      <td>0.06</td>\n",
       "      <td>0.36</td>\n",
       "    </tr>\n",
       "    <tr>\n",
       "      <th>4</th>\n",
       "      <td>ABINGTON MEMORIAL HOSPITAL</td>\n",
       "      <td>PA</td>\n",
       "      <td>3.3</td>\n",
       "      <td>6.51</td>\n",
       "      <td>4.19</td>\n",
       "      <td>1.53</td>\n",
       "      <td>0.75</td>\n",
       "      <td>0.51</td>\n",
       "      <td>117.66</td>\n",
       "      <td>0.09</td>\n",
       "      <td>0.0</td>\n",
       "      <td>0.06</td>\n",
       "      <td>0.91</td>\n",
       "    </tr>\n",
       "  </tbody>\n",
       "</table>\n",
       "</div>"
      ],
      "text/plain": [
       "                     Hospital Name State  COMP_HIP_KNEE_low  \\\n",
       "0    ABBEVILLE AREA MEDICAL CENTER    SC                1.7   \n",
       "1       ABBEVILLE GENERAL HOSPITAL    LA                1.7   \n",
       "2     ABBOTT NORTHWESTERN HOSPITAL    MN                1.7   \n",
       "3  ABILENE REGIONAL MEDICAL CENTER    TX                2.0   \n",
       "4       ABINGTON MEMORIAL HOSPITAL    PA                3.3   \n",
       "\n",
       "   PSI_12_POSTOP_PULMEMB_DVT_low  PSI_13_POST_SEPSIS_low  \\\n",
       "0                           0.00                    0.00   \n",
       "1                           1.67                    0.00   \n",
       "2                           3.47                    6.15   \n",
       "3                           0.17                    0.00   \n",
       "4                           6.51                    4.19   \n",
       "\n",
       "   PSI_14_POSTOP_DEHIS_low  PSI_15_ACC_LAC_low  PSI_3_ULCER_low  \\\n",
       "0                     0.00                0.00             0.00   \n",
       "1                     0.00                0.37             0.00   \n",
       "2                     0.00                1.42             0.00   \n",
       "3                     0.00                0.27             0.00   \n",
       "4                     1.53                0.75             0.51   \n",
       "\n",
       "   PSI_4_SURG_COMP_low  PSI_6_IAT_PTX_low  PSI_7_CVCBI_low  \\\n",
       "0                 0.00               0.00              0.0   \n",
       "1                 0.00               0.07              0.0   \n",
       "2                92.72               0.09              0.0   \n",
       "3                92.17               0.12              0.0   \n",
       "4               117.66               0.09              0.0   \n",
       "\n",
       "   PSI_8_POST_HIP_low  PSI_90_SAFETY_low  \n",
       "0                0.00               0.00  \n",
       "1                0.06               0.57  \n",
       "2                0.06               0.78  \n",
       "3                0.06               0.36  \n",
       "4                0.06               0.91  "
      ]
     },
     "execution_count": 1335,
     "metadata": {},
     "output_type": "execute_result"
    }
   ],
   "source": [
    "comp_score_low_copy.head()"
   ]
  },
  {
   "cell_type": "code",
   "execution_count": 1336,
   "metadata": {
    "collapsed": false
   },
   "outputs": [
    {
     "data": {
      "text/html": [
       "<div>\n",
       "<table border=\"1\" class=\"dataframe\">\n",
       "  <thead>\n",
       "    <tr style=\"text-align: right;\">\n",
       "      <th>Measure ID</th>\n",
       "      <th>Hospital Name</th>\n",
       "      <th>State</th>\n",
       "      <th>COMP_HIP_KNEE</th>\n",
       "      <th>PSI_12_POSTOP_PULMEMB_DVT</th>\n",
       "      <th>PSI_13_POST_SEPSIS</th>\n",
       "      <th>PSI_14_POSTOP_DEHIS</th>\n",
       "      <th>PSI_15_ACC_LAC</th>\n",
       "      <th>PSI_3_ULCER</th>\n",
       "      <th>PSI_4_SURG_COMP</th>\n",
       "      <th>PSI_6_IAT_PTX</th>\n",
       "      <th>PSI_7_CVCBI</th>\n",
       "      <th>PSI_8_POST_HIP</th>\n",
       "      <th>PSI_90_SAFETY</th>\n",
       "    </tr>\n",
       "  </thead>\n",
       "  <tbody>\n",
       "    <tr>\n",
       "      <th>0</th>\n",
       "      <td>ABBEVILLE AREA MEDICAL CENTER</td>\n",
       "      <td>SC</td>\n",
       "      <td>3.0</td>\n",
       "      <td>0.00</td>\n",
       "      <td>0.00</td>\n",
       "      <td>0.00</td>\n",
       "      <td>0.00</td>\n",
       "      <td>0.00</td>\n",
       "      <td>0.00</td>\n",
       "      <td>0.00</td>\n",
       "      <td>0.00</td>\n",
       "      <td>0.00</td>\n",
       "      <td>0.00</td>\n",
       "    </tr>\n",
       "    <tr>\n",
       "      <th>1</th>\n",
       "      <td>ABBEVILLE GENERAL HOSPITAL</td>\n",
       "      <td>LA</td>\n",
       "      <td>3.0</td>\n",
       "      <td>6.51</td>\n",
       "      <td>0.00</td>\n",
       "      <td>2.28</td>\n",
       "      <td>1.69</td>\n",
       "      <td>0.35</td>\n",
       "      <td>0.00</td>\n",
       "      <td>0.39</td>\n",
       "      <td>0.16</td>\n",
       "      <td>0.06</td>\n",
       "      <td>1.02</td>\n",
       "    </tr>\n",
       "    <tr>\n",
       "      <th>2</th>\n",
       "      <td>ABBOTT NORTHWESTERN HOSPITAL</td>\n",
       "      <td>MN</td>\n",
       "      <td>2.5</td>\n",
       "      <td>5.23</td>\n",
       "      <td>11.26</td>\n",
       "      <td>1.78</td>\n",
       "      <td>1.96</td>\n",
       "      <td>0.10</td>\n",
       "      <td>124.52</td>\n",
       "      <td>0.32</td>\n",
       "      <td>0.11</td>\n",
       "      <td>0.06</td>\n",
       "      <td>0.97</td>\n",
       "    </tr>\n",
       "    <tr>\n",
       "      <th>3</th>\n",
       "      <td>ABILENE REGIONAL MEDICAL CENTER</td>\n",
       "      <td>TX</td>\n",
       "      <td>3.1</td>\n",
       "      <td>3.43</td>\n",
       "      <td>6.36</td>\n",
       "      <td>2.21</td>\n",
       "      <td>1.17</td>\n",
       "      <td>0.16</td>\n",
       "      <td>138.47</td>\n",
       "      <td>0.40</td>\n",
       "      <td>0.12</td>\n",
       "      <td>0.06</td>\n",
       "      <td>0.67</td>\n",
       "    </tr>\n",
       "    <tr>\n",
       "      <th>4</th>\n",
       "      <td>ABINGTON MEMORIAL HOSPITAL</td>\n",
       "      <td>PA</td>\n",
       "      <td>4.3</td>\n",
       "      <td>8.47</td>\n",
       "      <td>10.30</td>\n",
       "      <td>3.59</td>\n",
       "      <td>1.29</td>\n",
       "      <td>1.09</td>\n",
       "      <td>153.64</td>\n",
       "      <td>0.32</td>\n",
       "      <td>0.13</td>\n",
       "      <td>0.06</td>\n",
       "      <td>1.10</td>\n",
       "    </tr>\n",
       "  </tbody>\n",
       "</table>\n",
       "</div>"
      ],
      "text/plain": [
       "Measure ID                    Hospital Name State  COMP_HIP_KNEE  \\\n",
       "0             ABBEVILLE AREA MEDICAL CENTER    SC            3.0   \n",
       "1                ABBEVILLE GENERAL HOSPITAL    LA            3.0   \n",
       "2              ABBOTT NORTHWESTERN HOSPITAL    MN            2.5   \n",
       "3           ABILENE REGIONAL MEDICAL CENTER    TX            3.1   \n",
       "4                ABINGTON MEMORIAL HOSPITAL    PA            4.3   \n",
       "\n",
       "Measure ID  PSI_12_POSTOP_PULMEMB_DVT  PSI_13_POST_SEPSIS  \\\n",
       "0                                0.00                0.00   \n",
       "1                                6.51                0.00   \n",
       "2                                5.23               11.26   \n",
       "3                                3.43                6.36   \n",
       "4                                8.47               10.30   \n",
       "\n",
       "Measure ID  PSI_14_POSTOP_DEHIS  PSI_15_ACC_LAC  PSI_3_ULCER  PSI_4_SURG_COMP  \\\n",
       "0                          0.00            0.00         0.00             0.00   \n",
       "1                          2.28            1.69         0.35             0.00   \n",
       "2                          1.78            1.96         0.10           124.52   \n",
       "3                          2.21            1.17         0.16           138.47   \n",
       "4                          3.59            1.29         1.09           153.64   \n",
       "\n",
       "Measure ID  PSI_6_IAT_PTX  PSI_7_CVCBI  PSI_8_POST_HIP  PSI_90_SAFETY  \n",
       "0                    0.00         0.00            0.00           0.00  \n",
       "1                    0.39         0.16            0.06           1.02  \n",
       "2                    0.32         0.11            0.06           0.97  \n",
       "3                    0.40         0.12            0.06           0.67  \n",
       "4                    0.32         0.13            0.06           1.10  "
      ]
     },
     "execution_count": 1336,
     "metadata": {},
     "output_type": "execute_result"
    }
   ],
   "source": [
    "comp_score_copy.head()"
   ]
  },
  {
   "cell_type": "code",
   "execution_count": 1337,
   "metadata": {
    "collapsed": false
   },
   "outputs": [
    {
     "name": "stdout",
     "output_type": "stream",
     "text": [
      "<class 'pandas.core.frame.DataFrame'>\n",
      "Int64Index: 4785 entries, 0 to 4784\n",
      "Data columns (total 24 columns):\n",
      "Hospital Name                    4785 non-null object\n",
      "State                            4785 non-null object\n",
      "COMP_HIP_KNEE                    4785 non-null float64\n",
      "PSI_12_POSTOP_PULMEMB_DVT        4785 non-null float64\n",
      "PSI_13_POST_SEPSIS               4785 non-null float64\n",
      "PSI_14_POSTOP_DEHIS              4785 non-null float64\n",
      "PSI_15_ACC_LAC                   4785 non-null float64\n",
      "PSI_3_ULCER                      4785 non-null float64\n",
      "PSI_4_SURG_COMP                  4785 non-null float64\n",
      "PSI_6_IAT_PTX                    4785 non-null float64\n",
      "PSI_7_CVCBI                      4785 non-null float64\n",
      "PSI_8_POST_HIP                   4785 non-null float64\n",
      "PSI_90_SAFETY                    4785 non-null float64\n",
      "COMP_HIP_KNEE_low                4785 non-null float64\n",
      "PSI_12_POSTOP_PULMEMB_DVT_low    4785 non-null float64\n",
      "PSI_13_POST_SEPSIS_low           4785 non-null float64\n",
      "PSI_14_POSTOP_DEHIS_low          4785 non-null float64\n",
      "PSI_15_ACC_LAC_low               4785 non-null float64\n",
      "PSI_3_ULCER_low                  4785 non-null float64\n",
      "PSI_4_SURG_COMP_low              4785 non-null float64\n",
      "PSI_6_IAT_PTX_low                4785 non-null float64\n",
      "PSI_7_CVCBI_low                  4785 non-null float64\n",
      "PSI_8_POST_HIP_low               4785 non-null float64\n",
      "PSI_90_SAFETY_low                4785 non-null float64\n",
      "dtypes: float64(22), object(2)\n",
      "memory usage: 934.6+ KB\n"
     ]
    }
   ],
   "source": [
    "#Just merging one by one and checking\n",
    "d = pd.merge(comp_score_copy, comp_score_low_copy, on=['Hospital Name', 'State'], how='inner')\n",
    "d.info()"
   ]
  },
  {
   "cell_type": "code",
   "execution_count": 1338,
   "metadata": {
    "collapsed": false
   },
   "outputs": [
    {
     "name": "stdout",
     "output_type": "stream",
     "text": [
      "<class 'pandas.core.frame.DataFrame'>\n",
      "Int64Index: 4785 entries, 0 to 4784\n",
      "Data columns (total 35 columns):\n",
      "Hospital Name                     4785 non-null object\n",
      "State                             4785 non-null object\n",
      "COMP_HIP_KNEE                     4785 non-null float64\n",
      "PSI_12_POSTOP_PULMEMB_DVT         4785 non-null float64\n",
      "PSI_13_POST_SEPSIS                4785 non-null float64\n",
      "PSI_14_POSTOP_DEHIS               4785 non-null float64\n",
      "PSI_15_ACC_LAC                    4785 non-null float64\n",
      "PSI_3_ULCER                       4785 non-null float64\n",
      "PSI_4_SURG_COMP                   4785 non-null float64\n",
      "PSI_6_IAT_PTX                     4785 non-null float64\n",
      "PSI_7_CVCBI                       4785 non-null float64\n",
      "PSI_8_POST_HIP                    4785 non-null float64\n",
      "PSI_90_SAFETY                     4785 non-null float64\n",
      "COMP_HIP_KNEE_low                 4785 non-null float64\n",
      "PSI_12_POSTOP_PULMEMB_DVT_low     4785 non-null float64\n",
      "PSI_13_POST_SEPSIS_low            4785 non-null float64\n",
      "PSI_14_POSTOP_DEHIS_low           4785 non-null float64\n",
      "PSI_15_ACC_LAC_low                4785 non-null float64\n",
      "PSI_3_ULCER_low                   4785 non-null float64\n",
      "PSI_4_SURG_COMP_low               4785 non-null float64\n",
      "PSI_6_IAT_PTX_low                 4785 non-null float64\n",
      "PSI_7_CVCBI_low                   4785 non-null float64\n",
      "PSI_8_POST_HIP_low                4785 non-null float64\n",
      "PSI_90_SAFETY_low                 4785 non-null float64\n",
      "COMP_HIP_KNEE_high                4785 non-null float64\n",
      "PSI_12_POSTOP_PULMEMB_DVT_high    4785 non-null float64\n",
      "PSI_13_POST_SEPSIS_high           4785 non-null float64\n",
      "PSI_14_POSTOP_DEHIS_high          4785 non-null float64\n",
      "PSI_15_ACC_LAC_high               4785 non-null float64\n",
      "PSI_3_ULCER_high                  4785 non-null float64\n",
      "PSI_4_SURG_COMP_high              4785 non-null float64\n",
      "PSI_6_IAT_PTX_high                4785 non-null float64\n",
      "PSI_7_CVCBI_high                  4785 non-null float64\n",
      "PSI_8_POST_HIP_high               4785 non-null float64\n",
      "PSI_90_SAFETY_high                4785 non-null float64\n",
      "dtypes: float64(33), object(2)\n",
      "memory usage: 1.3+ MB\n"
     ]
    }
   ],
   "source": [
    "d = pd.merge(d, comp_score_high_copy, on=['Hospital Name','State'], how='inner', copy=True)\n",
    "d.info()"
   ]
  },
  {
   "cell_type": "code",
   "execution_count": 1306,
   "metadata": {
    "collapsed": true
   },
   "outputs": [],
   "source": [
    "## just names of all the feature tables\n",
    "#comp_score_copy, comp_score_high_copy, comp_score_low_copy, spending_in_pivot_copy, \n",
    "         #spending_out_pivot_copy, pay_pay_copy, pay_low_copy, pay_high_copy, reduc_copy"
   ]
  },
  {
   "cell_type": "code",
   "execution_count": 1339,
   "metadata": {
    "collapsed": false
   },
   "outputs": [
    {
     "name": "stdout",
     "output_type": "stream",
     "text": [
      "<class 'pandas.core.frame.DataFrame'>\n",
      "Int64Index: 2661 entries, 0 to 2660\n",
      "Data columns (total 38 columns):\n",
      "Hospital Name                                                                2661 non-null object\n",
      "State                                                                        2661 non-null object\n",
      "COMP_HIP_KNEE                                                                2661 non-null float64\n",
      "PSI_12_POSTOP_PULMEMB_DVT                                                    2661 non-null float64\n",
      "PSI_13_POST_SEPSIS                                                           2661 non-null float64\n",
      "PSI_14_POSTOP_DEHIS                                                          2661 non-null float64\n",
      "PSI_15_ACC_LAC                                                               2661 non-null float64\n",
      "PSI_3_ULCER                                                                  2661 non-null float64\n",
      "PSI_4_SURG_COMP                                                              2661 non-null float64\n",
      "PSI_6_IAT_PTX                                                                2661 non-null float64\n",
      "PSI_7_CVCBI                                                                  2661 non-null float64\n",
      "PSI_8_POST_HIP                                                               2661 non-null float64\n",
      "PSI_90_SAFETY                                                                2661 non-null float64\n",
      "COMP_HIP_KNEE_low                                                            2661 non-null float64\n",
      "PSI_12_POSTOP_PULMEMB_DVT_low                                                2661 non-null float64\n",
      "PSI_13_POST_SEPSIS_low                                                       2661 non-null float64\n",
      "PSI_14_POSTOP_DEHIS_low                                                      2661 non-null float64\n",
      "PSI_15_ACC_LAC_low                                                           2661 non-null float64\n",
      "PSI_3_ULCER_low                                                              2661 non-null float64\n",
      "PSI_4_SURG_COMP_low                                                          2661 non-null float64\n",
      "PSI_6_IAT_PTX_low                                                            2661 non-null float64\n",
      "PSI_7_CVCBI_low                                                              2661 non-null float64\n",
      "PSI_8_POST_HIP_low                                                           2661 non-null float64\n",
      "PSI_90_SAFETY_low                                                            2661 non-null float64\n",
      "COMP_HIP_KNEE_high                                                           2661 non-null float64\n",
      "PSI_12_POSTOP_PULMEMB_DVT_high                                               2661 non-null float64\n",
      "PSI_13_POST_SEPSIS_high                                                      2661 non-null float64\n",
      "PSI_14_POSTOP_DEHIS_high                                                     2661 non-null float64\n",
      "PSI_15_ACC_LAC_high                                                          2661 non-null float64\n",
      "PSI_3_ULCER_high                                                             2661 non-null float64\n",
      "PSI_4_SURG_COMP_high                                                         2661 non-null float64\n",
      "PSI_6_IAT_PTX_high                                                           2661 non-null float64\n",
      "PSI_7_CVCBI_high                                                             2661 non-null float64\n",
      "PSI_8_POST_HIP_high                                                          2661 non-null float64\n",
      "PSI_90_SAFETY_high                                                           2661 non-null float64\n",
      "1 through 30 days After Discharge from Index Hospital Admission_inpatient    2661 non-null float64\n",
      "1 to 3 days Prior to Index Hospital Admission_inpatient                      2661 non-null float64\n",
      "During Index Hospital Admission_inpatient                                    2661 non-null float64\n",
      "dtypes: float64(36), object(2)\n",
      "memory usage: 810.8+ KB\n"
     ]
    }
   ],
   "source": [
    "d = pd.merge(d, spending_in_pivot_copy, on=['Hospital Name','State'], how='inner', copy=True)\n",
    "d.info()"
   ]
  },
  {
   "cell_type": "code",
   "execution_count": 1340,
   "metadata": {
    "collapsed": false
   },
   "outputs": [
    {
     "name": "stdout",
     "output_type": "stream",
     "text": [
      "<class 'pandas.core.frame.DataFrame'>\n",
      "Int64Index: 2661 entries, 0 to 2660\n",
      "Data columns (total 40 columns):\n",
      "Hospital Name                                                                 2661 non-null object\n",
      "State                                                                         2661 non-null object\n",
      "COMP_HIP_KNEE                                                                 2661 non-null float64\n",
      "PSI_12_POSTOP_PULMEMB_DVT                                                     2661 non-null float64\n",
      "PSI_13_POST_SEPSIS                                                            2661 non-null float64\n",
      "PSI_14_POSTOP_DEHIS                                                           2661 non-null float64\n",
      "PSI_15_ACC_LAC                                                                2661 non-null float64\n",
      "PSI_3_ULCER                                                                   2661 non-null float64\n",
      "PSI_4_SURG_COMP                                                               2661 non-null float64\n",
      "PSI_6_IAT_PTX                                                                 2661 non-null float64\n",
      "PSI_7_CVCBI                                                                   2661 non-null float64\n",
      "PSI_8_POST_HIP                                                                2661 non-null float64\n",
      "PSI_90_SAFETY                                                                 2661 non-null float64\n",
      "COMP_HIP_KNEE_low                                                             2661 non-null float64\n",
      "PSI_12_POSTOP_PULMEMB_DVT_low                                                 2661 non-null float64\n",
      "PSI_13_POST_SEPSIS_low                                                        2661 non-null float64\n",
      "PSI_14_POSTOP_DEHIS_low                                                       2661 non-null float64\n",
      "PSI_15_ACC_LAC_low                                                            2661 non-null float64\n",
      "PSI_3_ULCER_low                                                               2661 non-null float64\n",
      "PSI_4_SURG_COMP_low                                                           2661 non-null float64\n",
      "PSI_6_IAT_PTX_low                                                             2661 non-null float64\n",
      "PSI_7_CVCBI_low                                                               2661 non-null float64\n",
      "PSI_8_POST_HIP_low                                                            2661 non-null float64\n",
      "PSI_90_SAFETY_low                                                             2661 non-null float64\n",
      "COMP_HIP_KNEE_high                                                            2661 non-null float64\n",
      "PSI_12_POSTOP_PULMEMB_DVT_high                                                2661 non-null float64\n",
      "PSI_13_POST_SEPSIS_high                                                       2661 non-null float64\n",
      "PSI_14_POSTOP_DEHIS_high                                                      2661 non-null float64\n",
      "PSI_15_ACC_LAC_high                                                           2661 non-null float64\n",
      "PSI_3_ULCER_high                                                              2661 non-null float64\n",
      "PSI_4_SURG_COMP_high                                                          2661 non-null float64\n",
      "PSI_6_IAT_PTX_high                                                            2661 non-null float64\n",
      "PSI_7_CVCBI_high                                                              2661 non-null float64\n",
      "PSI_8_POST_HIP_high                                                           2661 non-null float64\n",
      "PSI_90_SAFETY_high                                                            2661 non-null float64\n",
      "1 through 30 days After Discharge from Index Hospital Admission_inpatient     2661 non-null float64\n",
      "1 to 3 days Prior to Index Hospital Admission_inpatient                       2661 non-null float64\n",
      "During Index Hospital Admission_inpatient                                     2661 non-null float64\n",
      "1 through 30 days After Discharge from Index Hospital Admission_outpatient    2661 non-null float64\n",
      "1 to 3 days Prior to Index Hospital Admission_outpatient                      2661 non-null float64\n",
      "dtypes: float64(38), object(2)\n",
      "memory usage: 852.4+ KB\n"
     ]
    }
   ],
   "source": [
    "d = pd.merge(d, spending_out_pivot_copy, on=['Hospital Name','State'], how='inner', copy=True)\n",
    "d.info()"
   ]
  },
  {
   "cell_type": "code",
   "execution_count": 1341,
   "metadata": {
    "collapsed": false
   },
   "outputs": [
    {
     "name": "stdout",
     "output_type": "stream",
     "text": [
      "<class 'pandas.core.frame.DataFrame'>\n",
      "Int64Index: 2668 entries, 0 to 2667\n",
      "Data columns (total 46 columns):\n",
      "Hospital Name                                                                 2668 non-null object\n",
      "State                                                                         2668 non-null object\n",
      "COMP_HIP_KNEE                                                                 2668 non-null float64\n",
      "PSI_12_POSTOP_PULMEMB_DVT                                                     2668 non-null float64\n",
      "PSI_13_POST_SEPSIS                                                            2668 non-null float64\n",
      "PSI_14_POSTOP_DEHIS                                                           2668 non-null float64\n",
      "PSI_15_ACC_LAC                                                                2668 non-null float64\n",
      "PSI_3_ULCER                                                                   2668 non-null float64\n",
      "PSI_4_SURG_COMP                                                               2668 non-null float64\n",
      "PSI_6_IAT_PTX                                                                 2668 non-null float64\n",
      "PSI_7_CVCBI                                                                   2668 non-null float64\n",
      "PSI_8_POST_HIP                                                                2668 non-null float64\n",
      "PSI_90_SAFETY                                                                 2668 non-null float64\n",
      "COMP_HIP_KNEE_low                                                             2668 non-null float64\n",
      "PSI_12_POSTOP_PULMEMB_DVT_low                                                 2668 non-null float64\n",
      "PSI_13_POST_SEPSIS_low                                                        2668 non-null float64\n",
      "PSI_14_POSTOP_DEHIS_low                                                       2668 non-null float64\n",
      "PSI_15_ACC_LAC_low                                                            2668 non-null float64\n",
      "PSI_3_ULCER_low                                                               2668 non-null float64\n",
      "PSI_4_SURG_COMP_low                                                           2668 non-null float64\n",
      "PSI_6_IAT_PTX_low                                                             2668 non-null float64\n",
      "PSI_7_CVCBI_low                                                               2668 non-null float64\n",
      "PSI_8_POST_HIP_low                                                            2668 non-null float64\n",
      "PSI_90_SAFETY_low                                                             2668 non-null float64\n",
      "COMP_HIP_KNEE_high                                                            2668 non-null float64\n",
      "PSI_12_POSTOP_PULMEMB_DVT_high                                                2668 non-null float64\n",
      "PSI_13_POST_SEPSIS_high                                                       2668 non-null float64\n",
      "PSI_14_POSTOP_DEHIS_high                                                      2668 non-null float64\n",
      "PSI_15_ACC_LAC_high                                                           2668 non-null float64\n",
      "PSI_3_ULCER_high                                                              2668 non-null float64\n",
      "PSI_4_SURG_COMP_high                                                          2668 non-null float64\n",
      "PSI_6_IAT_PTX_high                                                            2668 non-null float64\n",
      "PSI_7_CVCBI_high                                                              2668 non-null float64\n",
      "PSI_8_POST_HIP_high                                                           2668 non-null float64\n",
      "PSI_90_SAFETY_high                                                            2668 non-null float64\n",
      "1 through 30 days After Discharge from Index Hospital Admission_inpatient     2668 non-null float64\n",
      "1 to 3 days Prior to Index Hospital Admission_inpatient                       2668 non-null float64\n",
      "During Index Hospital Admission_inpatient                                     2668 non-null float64\n",
      "1 through 30 days After Discharge from Index Hospital Admission_outpatient    2668 non-null float64\n",
      "1 to 3 days Prior to Index Hospital Admission_outpatient                      2668 non-null float64\n",
      "AHRQ_PSI_90_Score                                                             2668 non-null float64\n",
      "CLABSI_Score                                                                  2668 non-null float64\n",
      "CAUTI_Score                                                                   2668 non-null float64\n",
      "SSI_Score                                                                     2668 non-null float64\n",
      "MRSA_Score                                                                    2668 non-null float64\n",
      "CDI_Score                                                                     2668 non-null float64\n",
      "dtypes: float64(44), object(2)\n",
      "memory usage: 979.7+ KB\n"
     ]
    }
   ],
   "source": [
    "d = pd.merge(d, reduc_copy, on=['Hospital Name','State'], how='inner', copy=True)\n",
    "d.info()"
   ]
  },
  {
   "cell_type": "code",
   "execution_count": 1344,
   "metadata": {
    "collapsed": false
   },
   "outputs": [
    {
     "name": "stdout",
     "output_type": "stream",
     "text": [
      "<class 'pandas.core.frame.DataFrame'>\n",
      "Int64Index: 2668 entries, 0 to 2667\n",
      "Data columns (total 49 columns):\n",
      "Hospital Name                                                                 2668 non-null object\n",
      "State                                                                         2668 non-null object\n",
      "COMP_HIP_KNEE                                                                 2668 non-null float64\n",
      "PSI_12_POSTOP_PULMEMB_DVT                                                     2668 non-null float64\n",
      "PSI_13_POST_SEPSIS                                                            2668 non-null float64\n",
      "PSI_14_POSTOP_DEHIS                                                           2668 non-null float64\n",
      "PSI_15_ACC_LAC                                                                2668 non-null float64\n",
      "PSI_3_ULCER                                                                   2668 non-null float64\n",
      "PSI_4_SURG_COMP                                                               2668 non-null float64\n",
      "PSI_6_IAT_PTX                                                                 2668 non-null float64\n",
      "PSI_7_CVCBI                                                                   2668 non-null float64\n",
      "PSI_8_POST_HIP                                                                2668 non-null float64\n",
      "PSI_90_SAFETY                                                                 2668 non-null float64\n",
      "COMP_HIP_KNEE_low                                                             2668 non-null float64\n",
      "PSI_12_POSTOP_PULMEMB_DVT_low                                                 2668 non-null float64\n",
      "PSI_13_POST_SEPSIS_low                                                        2668 non-null float64\n",
      "PSI_14_POSTOP_DEHIS_low                                                       2668 non-null float64\n",
      "PSI_15_ACC_LAC_low                                                            2668 non-null float64\n",
      "PSI_3_ULCER_low                                                               2668 non-null float64\n",
      "PSI_4_SURG_COMP_low                                                           2668 non-null float64\n",
      "PSI_6_IAT_PTX_low                                                             2668 non-null float64\n",
      "PSI_7_CVCBI_low                                                               2668 non-null float64\n",
      "PSI_8_POST_HIP_low                                                            2668 non-null float64\n",
      "PSI_90_SAFETY_low                                                             2668 non-null float64\n",
      "COMP_HIP_KNEE_high                                                            2668 non-null float64\n",
      "PSI_12_POSTOP_PULMEMB_DVT_high                                                2668 non-null float64\n",
      "PSI_13_POST_SEPSIS_high                                                       2668 non-null float64\n",
      "PSI_14_POSTOP_DEHIS_high                                                      2668 non-null float64\n",
      "PSI_15_ACC_LAC_high                                                           2668 non-null float64\n",
      "PSI_3_ULCER_high                                                              2668 non-null float64\n",
      "PSI_4_SURG_COMP_high                                                          2668 non-null float64\n",
      "PSI_6_IAT_PTX_high                                                            2668 non-null float64\n",
      "PSI_7_CVCBI_high                                                              2668 non-null float64\n",
      "PSI_8_POST_HIP_high                                                           2668 non-null float64\n",
      "PSI_90_SAFETY_high                                                            2668 non-null float64\n",
      "1 through 30 days After Discharge from Index Hospital Admission_inpatient     2668 non-null float64\n",
      "1 to 3 days Prior to Index Hospital Admission_inpatient                       2668 non-null float64\n",
      "During Index Hospital Admission_inpatient                                     2668 non-null float64\n",
      "1 through 30 days After Discharge from Index Hospital Admission_outpatient    2668 non-null float64\n",
      "1 to 3 days Prior to Index Hospital Admission_outpatient                      2668 non-null float64\n",
      "AHRQ_PSI_90_Score                                                             2668 non-null float64\n",
      "CLABSI_Score                                                                  2668 non-null float64\n",
      "CAUTI_Score                                                                   2668 non-null float64\n",
      "SSI_Score                                                                     2668 non-null float64\n",
      "MRSA_Score                                                                    2668 non-null float64\n",
      "CDI_Score                                                                     2668 non-null float64\n",
      "PAYM_30_AMI                                                                   2668 non-null float64\n",
      "PAYM_30_HF                                                                    2668 non-null float64\n",
      "PAYM_30_PN                                                                    2668 non-null float64\n",
      "dtypes: float64(47), object(2)\n",
      "memory usage: 1.0+ MB\n"
     ]
    }
   ],
   "source": [
    "d = pd.merge(d, pay_pay_copy, on=['Hospital Name','State'], how='inner', copy=True)\n",
    "d.info()"
   ]
  },
  {
   "cell_type": "code",
   "execution_count": 1345,
   "metadata": {
    "collapsed": false
   },
   "outputs": [
    {
     "name": "stdout",
     "output_type": "stream",
     "text": [
      "<class 'pandas.core.frame.DataFrame'>\n",
      "Int64Index: 2668 entries, 0 to 2667\n",
      "Data columns (total 52 columns):\n",
      "Hospital Name                                                                 2668 non-null object\n",
      "State                                                                         2668 non-null object\n",
      "COMP_HIP_KNEE                                                                 2668 non-null float64\n",
      "PSI_12_POSTOP_PULMEMB_DVT                                                     2668 non-null float64\n",
      "PSI_13_POST_SEPSIS                                                            2668 non-null float64\n",
      "PSI_14_POSTOP_DEHIS                                                           2668 non-null float64\n",
      "PSI_15_ACC_LAC                                                                2668 non-null float64\n",
      "PSI_3_ULCER                                                                   2668 non-null float64\n",
      "PSI_4_SURG_COMP                                                               2668 non-null float64\n",
      "PSI_6_IAT_PTX                                                                 2668 non-null float64\n",
      "PSI_7_CVCBI                                                                   2668 non-null float64\n",
      "PSI_8_POST_HIP                                                                2668 non-null float64\n",
      "PSI_90_SAFETY                                                                 2668 non-null float64\n",
      "COMP_HIP_KNEE_low                                                             2668 non-null float64\n",
      "PSI_12_POSTOP_PULMEMB_DVT_low                                                 2668 non-null float64\n",
      "PSI_13_POST_SEPSIS_low                                                        2668 non-null float64\n",
      "PSI_14_POSTOP_DEHIS_low                                                       2668 non-null float64\n",
      "PSI_15_ACC_LAC_low                                                            2668 non-null float64\n",
      "PSI_3_ULCER_low                                                               2668 non-null float64\n",
      "PSI_4_SURG_COMP_low                                                           2668 non-null float64\n",
      "PSI_6_IAT_PTX_low                                                             2668 non-null float64\n",
      "PSI_7_CVCBI_low                                                               2668 non-null float64\n",
      "PSI_8_POST_HIP_low                                                            2668 non-null float64\n",
      "PSI_90_SAFETY_low                                                             2668 non-null float64\n",
      "COMP_HIP_KNEE_high                                                            2668 non-null float64\n",
      "PSI_12_POSTOP_PULMEMB_DVT_high                                                2668 non-null float64\n",
      "PSI_13_POST_SEPSIS_high                                                       2668 non-null float64\n",
      "PSI_14_POSTOP_DEHIS_high                                                      2668 non-null float64\n",
      "PSI_15_ACC_LAC_high                                                           2668 non-null float64\n",
      "PSI_3_ULCER_high                                                              2668 non-null float64\n",
      "PSI_4_SURG_COMP_high                                                          2668 non-null float64\n",
      "PSI_6_IAT_PTX_high                                                            2668 non-null float64\n",
      "PSI_7_CVCBI_high                                                              2668 non-null float64\n",
      "PSI_8_POST_HIP_high                                                           2668 non-null float64\n",
      "PSI_90_SAFETY_high                                                            2668 non-null float64\n",
      "1 through 30 days After Discharge from Index Hospital Admission_inpatient     2668 non-null float64\n",
      "1 to 3 days Prior to Index Hospital Admission_inpatient                       2668 non-null float64\n",
      "During Index Hospital Admission_inpatient                                     2668 non-null float64\n",
      "1 through 30 days After Discharge from Index Hospital Admission_outpatient    2668 non-null float64\n",
      "1 to 3 days Prior to Index Hospital Admission_outpatient                      2668 non-null float64\n",
      "AHRQ_PSI_90_Score                                                             2668 non-null float64\n",
      "CLABSI_Score                                                                  2668 non-null float64\n",
      "CAUTI_Score                                                                   2668 non-null float64\n",
      "SSI_Score                                                                     2668 non-null float64\n",
      "MRSA_Score                                                                    2668 non-null float64\n",
      "CDI_Score                                                                     2668 non-null float64\n",
      "PAYM_30_AMI                                                                   2668 non-null float64\n",
      "PAYM_30_HF                                                                    2668 non-null float64\n",
      "PAYM_30_PN                                                                    2668 non-null float64\n",
      "PAYM_30_AMI_low                                                               2668 non-null float64\n",
      "PAYM_30_HF_low                                                                2668 non-null float64\n",
      "PAYM_30_PN_low                                                                2668 non-null float64\n",
      "dtypes: float64(50), object(2)\n",
      "memory usage: 1.1+ MB\n"
     ]
    }
   ],
   "source": [
    "d = pd.merge(d, pay_low_copy, on=['Hospital Name','State'], how='inner', copy=True)\n",
    "d.info()"
   ]
  },
  {
   "cell_type": "code",
   "execution_count": 1346,
   "metadata": {
    "collapsed": false
   },
   "outputs": [
    {
     "name": "stdout",
     "output_type": "stream",
     "text": [
      "<class 'pandas.core.frame.DataFrame'>\n",
      "Int64Index: 2668 entries, 0 to 2667\n",
      "Data columns (total 55 columns):\n",
      "Hospital Name                                                                 2668 non-null object\n",
      "State                                                                         2668 non-null object\n",
      "COMP_HIP_KNEE                                                                 2668 non-null float64\n",
      "PSI_12_POSTOP_PULMEMB_DVT                                                     2668 non-null float64\n",
      "PSI_13_POST_SEPSIS                                                            2668 non-null float64\n",
      "PSI_14_POSTOP_DEHIS                                                           2668 non-null float64\n",
      "PSI_15_ACC_LAC                                                                2668 non-null float64\n",
      "PSI_3_ULCER                                                                   2668 non-null float64\n",
      "PSI_4_SURG_COMP                                                               2668 non-null float64\n",
      "PSI_6_IAT_PTX                                                                 2668 non-null float64\n",
      "PSI_7_CVCBI                                                                   2668 non-null float64\n",
      "PSI_8_POST_HIP                                                                2668 non-null float64\n",
      "PSI_90_SAFETY                                                                 2668 non-null float64\n",
      "COMP_HIP_KNEE_low                                                             2668 non-null float64\n",
      "PSI_12_POSTOP_PULMEMB_DVT_low                                                 2668 non-null float64\n",
      "PSI_13_POST_SEPSIS_low                                                        2668 non-null float64\n",
      "PSI_14_POSTOP_DEHIS_low                                                       2668 non-null float64\n",
      "PSI_15_ACC_LAC_low                                                            2668 non-null float64\n",
      "PSI_3_ULCER_low                                                               2668 non-null float64\n",
      "PSI_4_SURG_COMP_low                                                           2668 non-null float64\n",
      "PSI_6_IAT_PTX_low                                                             2668 non-null float64\n",
      "PSI_7_CVCBI_low                                                               2668 non-null float64\n",
      "PSI_8_POST_HIP_low                                                            2668 non-null float64\n",
      "PSI_90_SAFETY_low                                                             2668 non-null float64\n",
      "COMP_HIP_KNEE_high                                                            2668 non-null float64\n",
      "PSI_12_POSTOP_PULMEMB_DVT_high                                                2668 non-null float64\n",
      "PSI_13_POST_SEPSIS_high                                                       2668 non-null float64\n",
      "PSI_14_POSTOP_DEHIS_high                                                      2668 non-null float64\n",
      "PSI_15_ACC_LAC_high                                                           2668 non-null float64\n",
      "PSI_3_ULCER_high                                                              2668 non-null float64\n",
      "PSI_4_SURG_COMP_high                                                          2668 non-null float64\n",
      "PSI_6_IAT_PTX_high                                                            2668 non-null float64\n",
      "PSI_7_CVCBI_high                                                              2668 non-null float64\n",
      "PSI_8_POST_HIP_high                                                           2668 non-null float64\n",
      "PSI_90_SAFETY_high                                                            2668 non-null float64\n",
      "1 through 30 days After Discharge from Index Hospital Admission_inpatient     2668 non-null float64\n",
      "1 to 3 days Prior to Index Hospital Admission_inpatient                       2668 non-null float64\n",
      "During Index Hospital Admission_inpatient                                     2668 non-null float64\n",
      "1 through 30 days After Discharge from Index Hospital Admission_outpatient    2668 non-null float64\n",
      "1 to 3 days Prior to Index Hospital Admission_outpatient                      2668 non-null float64\n",
      "AHRQ_PSI_90_Score                                                             2668 non-null float64\n",
      "CLABSI_Score                                                                  2668 non-null float64\n",
      "CAUTI_Score                                                                   2668 non-null float64\n",
      "SSI_Score                                                                     2668 non-null float64\n",
      "MRSA_Score                                                                    2668 non-null float64\n",
      "CDI_Score                                                                     2668 non-null float64\n",
      "PAYM_30_AMI                                                                   2668 non-null float64\n",
      "PAYM_30_HF                                                                    2668 non-null float64\n",
      "PAYM_30_PN                                                                    2668 non-null float64\n",
      "PAYM_30_AMI_low                                                               2668 non-null float64\n",
      "PAYM_30_HF_low                                                                2668 non-null float64\n",
      "PAYM_30_PN_low                                                                2668 non-null float64\n",
      "PAYM_30_AMI_high                                                              2668 non-null float64\n",
      "PAYM_30_HF_high                                                               2668 non-null float64\n",
      "PAYM_30_PN_high                                                               2668 non-null float64\n",
      "dtypes: float64(53), object(2)\n",
      "memory usage: 1.1+ MB\n"
     ]
    }
   ],
   "source": [
    "d = pd.merge(d, pay_high_copy, on=['Hospital Name','State'], how='inner', copy=True)\n",
    "d.info()"
   ]
  },
  {
   "cell_type": "code",
   "execution_count": 1347,
   "metadata": {
    "collapsed": false
   },
   "outputs": [
    {
     "name": "stdout",
     "output_type": "stream",
     "text": [
      "<class 'pandas.core.frame.DataFrame'>\n",
      "Int64Index: 2668 entries, 0 to 2667\n",
      "Data columns (total 63 columns):\n",
      "Hospital Name                                                                 2668 non-null object\n",
      "State                                                                         2668 non-null object\n",
      "COMP_HIP_KNEE                                                                 2668 non-null float64\n",
      "PSI_12_POSTOP_PULMEMB_DVT                                                     2668 non-null float64\n",
      "PSI_13_POST_SEPSIS                                                            2668 non-null float64\n",
      "PSI_14_POSTOP_DEHIS                                                           2668 non-null float64\n",
      "PSI_15_ACC_LAC                                                                2668 non-null float64\n",
      "PSI_3_ULCER                                                                   2668 non-null float64\n",
      "PSI_4_SURG_COMP                                                               2668 non-null float64\n",
      "PSI_6_IAT_PTX                                                                 2668 non-null float64\n",
      "PSI_7_CVCBI                                                                   2668 non-null float64\n",
      "PSI_8_POST_HIP                                                                2668 non-null float64\n",
      "PSI_90_SAFETY                                                                 2668 non-null float64\n",
      "COMP_HIP_KNEE_low                                                             2668 non-null float64\n",
      "PSI_12_POSTOP_PULMEMB_DVT_low                                                 2668 non-null float64\n",
      "PSI_13_POST_SEPSIS_low                                                        2668 non-null float64\n",
      "PSI_14_POSTOP_DEHIS_low                                                       2668 non-null float64\n",
      "PSI_15_ACC_LAC_low                                                            2668 non-null float64\n",
      "PSI_3_ULCER_low                                                               2668 non-null float64\n",
      "PSI_4_SURG_COMP_low                                                           2668 non-null float64\n",
      "PSI_6_IAT_PTX_low                                                             2668 non-null float64\n",
      "PSI_7_CVCBI_low                                                               2668 non-null float64\n",
      "PSI_8_POST_HIP_low                                                            2668 non-null float64\n",
      "PSI_90_SAFETY_low                                                             2668 non-null float64\n",
      "COMP_HIP_KNEE_high                                                            2668 non-null float64\n",
      "PSI_12_POSTOP_PULMEMB_DVT_high                                                2668 non-null float64\n",
      "PSI_13_POST_SEPSIS_high                                                       2668 non-null float64\n",
      "PSI_14_POSTOP_DEHIS_high                                                      2668 non-null float64\n",
      "PSI_15_ACC_LAC_high                                                           2668 non-null float64\n",
      "PSI_3_ULCER_high                                                              2668 non-null float64\n",
      "PSI_4_SURG_COMP_high                                                          2668 non-null float64\n",
      "PSI_6_IAT_PTX_high                                                            2668 non-null float64\n",
      "PSI_7_CVCBI_high                                                              2668 non-null float64\n",
      "PSI_8_POST_HIP_high                                                           2668 non-null float64\n",
      "PSI_90_SAFETY_high                                                            2668 non-null float64\n",
      "1 through 30 days After Discharge from Index Hospital Admission_inpatient     2668 non-null float64\n",
      "1 to 3 days Prior to Index Hospital Admission_inpatient                       2668 non-null float64\n",
      "During Index Hospital Admission_inpatient                                     2668 non-null float64\n",
      "1 through 30 days After Discharge from Index Hospital Admission_outpatient    2668 non-null float64\n",
      "1 to 3 days Prior to Index Hospital Admission_outpatient                      2668 non-null float64\n",
      "AHRQ_PSI_90_Score                                                             2668 non-null float64\n",
      "CLABSI_Score                                                                  2668 non-null float64\n",
      "CAUTI_Score                                                                   2668 non-null float64\n",
      "SSI_Score                                                                     2668 non-null float64\n",
      "MRSA_Score                                                                    2668 non-null float64\n",
      "CDI_Score                                                                     2668 non-null float64\n",
      "PAYM_30_AMI                                                                   2668 non-null float64\n",
      "PAYM_30_HF                                                                    2668 non-null float64\n",
      "PAYM_30_PN                                                                    2668 non-null float64\n",
      "PAYM_30_AMI_low                                                               2668 non-null float64\n",
      "PAYM_30_HF_low                                                                2668 non-null float64\n",
      "PAYM_30_PN_low                                                                2668 non-null float64\n",
      "PAYM_30_AMI_high                                                              2668 non-null float64\n",
      "PAYM_30_HF_high                                                               2668 non-null float64\n",
      "PAYM_30_PN_high                                                               2668 non-null float64\n",
      "H_COMP_1_STAR_RATING                                                          2668 non-null float64\n",
      "H_COMP_2_STAR_RATING                                                          2668 non-null float64\n",
      "H_COMP_3_STAR_RATING                                                          2668 non-null float64\n",
      "H_COMP_4_STAR_RATING                                                          2668 non-null float64\n",
      "H_COMP_5_STAR_RATING                                                          2668 non-null float64\n",
      "H_COMP_6_STAR_RATING                                                          2668 non-null float64\n",
      "H_COMP_7_STAR_RATING                                                          2668 non-null float64\n",
      "H_RECMND_STAR_RATING                                                          2668 non-null float64\n",
      "dtypes: float64(61), object(2)\n",
      "memory usage: 1.3+ MB\n"
     ]
    }
   ],
   "source": [
    "features = pd.merge(d, surveys_pivot_copy, on=['Hospital Name','State'], how='inner', copy=True)\n",
    "features.info()"
   ]
  },
  {
   "cell_type": "code",
   "execution_count": 1348,
   "metadata": {
    "collapsed": false
   },
   "outputs": [
    {
     "data": {
      "text/html": [
       "<div>\n",
       "<table border=\"1\" class=\"dataframe\">\n",
       "  <thead>\n",
       "    <tr style=\"text-align: right;\">\n",
       "      <th></th>\n",
       "      <th>Hospital Name</th>\n",
       "      <th>State</th>\n",
       "      <th>COMP_HIP_KNEE</th>\n",
       "      <th>PSI_12_POSTOP_PULMEMB_DVT</th>\n",
       "      <th>PSI_13_POST_SEPSIS</th>\n",
       "      <th>PSI_14_POSTOP_DEHIS</th>\n",
       "      <th>PSI_15_ACC_LAC</th>\n",
       "      <th>PSI_3_ULCER</th>\n",
       "      <th>PSI_4_SURG_COMP</th>\n",
       "      <th>PSI_6_IAT_PTX</th>\n",
       "      <th>...</th>\n",
       "      <th>PAYM_30_HF_high</th>\n",
       "      <th>PAYM_30_PN_high</th>\n",
       "      <th>H_COMP_1_STAR_RATING</th>\n",
       "      <th>H_COMP_2_STAR_RATING</th>\n",
       "      <th>H_COMP_3_STAR_RATING</th>\n",
       "      <th>H_COMP_4_STAR_RATING</th>\n",
       "      <th>H_COMP_5_STAR_RATING</th>\n",
       "      <th>H_COMP_6_STAR_RATING</th>\n",
       "      <th>H_COMP_7_STAR_RATING</th>\n",
       "      <th>H_RECMND_STAR_RATING</th>\n",
       "    </tr>\n",
       "  </thead>\n",
       "  <tbody>\n",
       "    <tr>\n",
       "      <th>0</th>\n",
       "      <td>ABBEVILLE GENERAL HOSPITAL</td>\n",
       "      <td>LA</td>\n",
       "      <td>3.0</td>\n",
       "      <td>6.51</td>\n",
       "      <td>0.00</td>\n",
       "      <td>2.28</td>\n",
       "      <td>1.69</td>\n",
       "      <td>0.35</td>\n",
       "      <td>0.00</td>\n",
       "      <td>0.39</td>\n",
       "      <td>...</td>\n",
       "      <td>19513.0</td>\n",
       "      <td>15770.0</td>\n",
       "      <td>3.0</td>\n",
       "      <td>5.0</td>\n",
       "      <td>4.0</td>\n",
       "      <td>4.0</td>\n",
       "      <td>3.0</td>\n",
       "      <td>2.0</td>\n",
       "      <td>4.0</td>\n",
       "      <td>1.0</td>\n",
       "    </tr>\n",
       "    <tr>\n",
       "      <th>1</th>\n",
       "      <td>ABBOTT NORTHWESTERN HOSPITAL</td>\n",
       "      <td>MN</td>\n",
       "      <td>2.5</td>\n",
       "      <td>5.23</td>\n",
       "      <td>11.26</td>\n",
       "      <td>1.78</td>\n",
       "      <td>1.96</td>\n",
       "      <td>0.10</td>\n",
       "      <td>124.52</td>\n",
       "      <td>0.32</td>\n",
       "      <td>...</td>\n",
       "      <td>18148.0</td>\n",
       "      <td>15808.0</td>\n",
       "      <td>4.0</td>\n",
       "      <td>4.0</td>\n",
       "      <td>4.0</td>\n",
       "      <td>4.0</td>\n",
       "      <td>4.0</td>\n",
       "      <td>4.0</td>\n",
       "      <td>4.0</td>\n",
       "      <td>5.0</td>\n",
       "    </tr>\n",
       "    <tr>\n",
       "      <th>2</th>\n",
       "      <td>ABILENE REGIONAL MEDICAL CENTER</td>\n",
       "      <td>TX</td>\n",
       "      <td>3.1</td>\n",
       "      <td>3.43</td>\n",
       "      <td>6.36</td>\n",
       "      <td>2.21</td>\n",
       "      <td>1.17</td>\n",
       "      <td>0.16</td>\n",
       "      <td>138.47</td>\n",
       "      <td>0.40</td>\n",
       "      <td>...</td>\n",
       "      <td>19077.0</td>\n",
       "      <td>16470.0</td>\n",
       "      <td>2.0</td>\n",
       "      <td>3.0</td>\n",
       "      <td>3.0</td>\n",
       "      <td>2.0</td>\n",
       "      <td>2.0</td>\n",
       "      <td>3.0</td>\n",
       "      <td>2.0</td>\n",
       "      <td>3.0</td>\n",
       "    </tr>\n",
       "    <tr>\n",
       "      <th>3</th>\n",
       "      <td>ABINGTON MEMORIAL HOSPITAL</td>\n",
       "      <td>PA</td>\n",
       "      <td>4.3</td>\n",
       "      <td>8.47</td>\n",
       "      <td>10.30</td>\n",
       "      <td>3.59</td>\n",
       "      <td>1.29</td>\n",
       "      <td>1.09</td>\n",
       "      <td>153.64</td>\n",
       "      <td>0.32</td>\n",
       "      <td>...</td>\n",
       "      <td>17847.0</td>\n",
       "      <td>15275.0</td>\n",
       "      <td>4.0</td>\n",
       "      <td>3.0</td>\n",
       "      <td>3.0</td>\n",
       "      <td>2.0</td>\n",
       "      <td>3.0</td>\n",
       "      <td>3.0</td>\n",
       "      <td>3.0</td>\n",
       "      <td>3.0</td>\n",
       "    </tr>\n",
       "    <tr>\n",
       "      <th>4</th>\n",
       "      <td>ABRAZO CENTRAL CAMPUS</td>\n",
       "      <td>AZ</td>\n",
       "      <td>2.7</td>\n",
       "      <td>3.48</td>\n",
       "      <td>9.23</td>\n",
       "      <td>2.16</td>\n",
       "      <td>1.31</td>\n",
       "      <td>0.21</td>\n",
       "      <td>138.09</td>\n",
       "      <td>0.51</td>\n",
       "      <td>...</td>\n",
       "      <td>18570.0</td>\n",
       "      <td>16999.0</td>\n",
       "      <td>2.0</td>\n",
       "      <td>2.0</td>\n",
       "      <td>2.0</td>\n",
       "      <td>2.0</td>\n",
       "      <td>2.0</td>\n",
       "      <td>2.0</td>\n",
       "      <td>1.0</td>\n",
       "      <td>2.0</td>\n",
       "    </tr>\n",
       "  </tbody>\n",
       "</table>\n",
       "<p>5 rows × 63 columns</p>\n",
       "</div>"
      ],
      "text/plain": [
       "                     Hospital Name State  COMP_HIP_KNEE  \\\n",
       "0       ABBEVILLE GENERAL HOSPITAL    LA            3.0   \n",
       "1     ABBOTT NORTHWESTERN HOSPITAL    MN            2.5   \n",
       "2  ABILENE REGIONAL MEDICAL CENTER    TX            3.1   \n",
       "3       ABINGTON MEMORIAL HOSPITAL    PA            4.3   \n",
       "4            ABRAZO CENTRAL CAMPUS    AZ            2.7   \n",
       "\n",
       "   PSI_12_POSTOP_PULMEMB_DVT  PSI_13_POST_SEPSIS  PSI_14_POSTOP_DEHIS  \\\n",
       "0                       6.51                0.00                 2.28   \n",
       "1                       5.23               11.26                 1.78   \n",
       "2                       3.43                6.36                 2.21   \n",
       "3                       8.47               10.30                 3.59   \n",
       "4                       3.48                9.23                 2.16   \n",
       "\n",
       "   PSI_15_ACC_LAC  PSI_3_ULCER  PSI_4_SURG_COMP  PSI_6_IAT_PTX  \\\n",
       "0            1.69         0.35             0.00           0.39   \n",
       "1            1.96         0.10           124.52           0.32   \n",
       "2            1.17         0.16           138.47           0.40   \n",
       "3            1.29         1.09           153.64           0.32   \n",
       "4            1.31         0.21           138.09           0.51   \n",
       "\n",
       "           ...           PAYM_30_HF_high  PAYM_30_PN_high  \\\n",
       "0          ...                   19513.0          15770.0   \n",
       "1          ...                   18148.0          15808.0   \n",
       "2          ...                   19077.0          16470.0   \n",
       "3          ...                   17847.0          15275.0   \n",
       "4          ...                   18570.0          16999.0   \n",
       "\n",
       "   H_COMP_1_STAR_RATING  H_COMP_2_STAR_RATING  H_COMP_3_STAR_RATING  \\\n",
       "0                   3.0                   5.0                   4.0   \n",
       "1                   4.0                   4.0                   4.0   \n",
       "2                   2.0                   3.0                   3.0   \n",
       "3                   4.0                   3.0                   3.0   \n",
       "4                   2.0                   2.0                   2.0   \n",
       "\n",
       "   H_COMP_4_STAR_RATING  H_COMP_5_STAR_RATING  H_COMP_6_STAR_RATING  \\\n",
       "0                   4.0                   3.0                   2.0   \n",
       "1                   4.0                   4.0                   4.0   \n",
       "2                   2.0                   2.0                   3.0   \n",
       "3                   2.0                   3.0                   3.0   \n",
       "4                   2.0                   2.0                   2.0   \n",
       "\n",
       "   H_COMP_7_STAR_RATING  H_RECMND_STAR_RATING  \n",
       "0                   4.0                   1.0  \n",
       "1                   4.0                   5.0  \n",
       "2                   2.0                   3.0  \n",
       "3                   3.0                   3.0  \n",
       "4                   1.0                   2.0  \n",
       "\n",
       "[5 rows x 63 columns]"
      ]
     },
     "execution_count": 1348,
     "metadata": {},
     "output_type": "execute_result"
    }
   ],
   "source": [
    "features.head()"
   ]
  },
  {
   "cell_type": "code",
   "execution_count": 1349,
   "metadata": {
    "collapsed": false
   },
   "outputs": [
    {
     "data": {
      "text/html": [
       "<div>\n",
       "<table border=\"1\" class=\"dataframe\">\n",
       "  <thead>\n",
       "    <tr style=\"text-align: right;\">\n",
       "      <th>Measure ID</th>\n",
       "      <th>Hospital Name</th>\n",
       "      <th>State</th>\n",
       "      <th>READM_30_AMI</th>\n",
       "      <th>READM_30_CABG</th>\n",
       "      <th>READM_30_COPD</th>\n",
       "      <th>READM_30_HF</th>\n",
       "      <th>READM_30_HIP_KNEE</th>\n",
       "      <th>READM_30_HOSP_WIDE</th>\n",
       "      <th>READM_30_PN</th>\n",
       "      <th>READM_30_STK</th>\n",
       "    </tr>\n",
       "  </thead>\n",
       "  <tbody>\n",
       "    <tr>\n",
       "      <th>0</th>\n",
       "      <td>ABBEVILLE AREA MEDICAL CENTER</td>\n",
       "      <td>SC</td>\n",
       "      <td>0.0</td>\n",
       "      <td>0.0</td>\n",
       "      <td>20.3</td>\n",
       "      <td>21.1</td>\n",
       "      <td>4.4</td>\n",
       "      <td>15.7</td>\n",
       "      <td>17.3</td>\n",
       "      <td>0.0</td>\n",
       "    </tr>\n",
       "    <tr>\n",
       "      <th>1</th>\n",
       "      <td>ABBEVILLE GENERAL HOSPITAL</td>\n",
       "      <td>LA</td>\n",
       "      <td>0.0</td>\n",
       "      <td>0.0</td>\n",
       "      <td>19.1</td>\n",
       "      <td>24.6</td>\n",
       "      <td>4.2</td>\n",
       "      <td>16.0</td>\n",
       "      <td>17.8</td>\n",
       "      <td>0.0</td>\n",
       "    </tr>\n",
       "    <tr>\n",
       "      <th>2</th>\n",
       "      <td>ABBOTT NORTHWESTERN HOSPITAL</td>\n",
       "      <td>MN</td>\n",
       "      <td>16.8</td>\n",
       "      <td>13.4</td>\n",
       "      <td>20.4</td>\n",
       "      <td>22.5</td>\n",
       "      <td>4.4</td>\n",
       "      <td>15.0</td>\n",
       "      <td>19.6</td>\n",
       "      <td>13.7</td>\n",
       "    </tr>\n",
       "    <tr>\n",
       "      <th>3</th>\n",
       "      <td>ABILENE REGIONAL MEDICAL CENTER</td>\n",
       "      <td>TX</td>\n",
       "      <td>16.4</td>\n",
       "      <td>15.0</td>\n",
       "      <td>18.3</td>\n",
       "      <td>22.4</td>\n",
       "      <td>4.0</td>\n",
       "      <td>14.5</td>\n",
       "      <td>15.5</td>\n",
       "      <td>13.5</td>\n",
       "    </tr>\n",
       "    <tr>\n",
       "      <th>4</th>\n",
       "      <td>ABINGTON MEMORIAL HOSPITAL</td>\n",
       "      <td>PA</td>\n",
       "      <td>18.1</td>\n",
       "      <td>13.9</td>\n",
       "      <td>22.8</td>\n",
       "      <td>21.6</td>\n",
       "      <td>5.4</td>\n",
       "      <td>16.2</td>\n",
       "      <td>16.2</td>\n",
       "      <td>12.3</td>\n",
       "    </tr>\n",
       "  </tbody>\n",
       "</table>\n",
       "</div>"
      ],
      "text/plain": [
       "Measure ID                    Hospital Name State  READM_30_AMI  \\\n",
       "0             ABBEVILLE AREA MEDICAL CENTER    SC           0.0   \n",
       "1                ABBEVILLE GENERAL HOSPITAL    LA           0.0   \n",
       "2              ABBOTT NORTHWESTERN HOSPITAL    MN          16.8   \n",
       "3           ABILENE REGIONAL MEDICAL CENTER    TX          16.4   \n",
       "4                ABINGTON MEMORIAL HOSPITAL    PA          18.1   \n",
       "\n",
       "Measure ID  READM_30_CABG  READM_30_COPD  READM_30_HF  READM_30_HIP_KNEE  \\\n",
       "0                     0.0           20.3         21.1                4.4   \n",
       "1                     0.0           19.1         24.6                4.2   \n",
       "2                    13.4           20.4         22.5                4.4   \n",
       "3                    15.0           18.3         22.4                4.0   \n",
       "4                    13.9           22.8         21.6                5.4   \n",
       "\n",
       "Measure ID  READM_30_HOSP_WIDE  READM_30_PN  READM_30_STK  \n",
       "0                         15.7         17.3           0.0  \n",
       "1                         16.0         17.8           0.0  \n",
       "2                         15.0         19.6          13.7  \n",
       "3                         14.5         15.5          13.5  \n",
       "4                         16.2         16.2          12.3  "
      ]
     },
     "execution_count": 1349,
     "metadata": {},
     "output_type": "execute_result"
    }
   ],
   "source": [
    "target = r\n",
    "target.head()"
   ]
  },
  {
   "cell_type": "code",
   "execution_count": 1360,
   "metadata": {
    "collapsed": false
   },
   "outputs": [
    {
     "data": {
      "text/plain": [
       "['READM_30_AMI',\n",
       " 'READM_30_CABG',\n",
       " 'READM_30_COPD',\n",
       " 'READM_30_HF',\n",
       " 'READM_30_HIP_KNEE',\n",
       " 'READM_30_HOSP_WIDE',\n",
       " 'READM_30_PN',\n",
       " 'READM_30_STK']"
      ]
     },
     "execution_count": 1360,
     "metadata": {},
     "output_type": "execute_result"
    }
   ],
   "source": [
    "tar_col = list(target.columns[2:])\n",
    "tar_col"
   ]
  },
  {
   "cell_type": "code",
   "execution_count": 1361,
   "metadata": {
    "collapsed": true
   },
   "outputs": [],
   "source": [
    "tar_col_wname = list(target.columns)"
   ]
  },
  {
   "cell_type": "code",
   "execution_count": 1354,
   "metadata": {
    "collapsed": false
   },
   "outputs": [
    {
     "data": {
      "image/png": "[encoded data removed]",
      "text/plain": [
       "<matplotlib.figure.Figure at 0x13eddb790>"
      ]
     },
     "metadata": {},
     "output_type": "display_data"
    }
   ],
   "source": [
    "    plt.figure(figsize=(8,6));\n",
    "    i = 0\n",
    "    for x in tar_col:\n",
    "        i += 1\n",
    "        plt.subplot(4,2,i)\n",
    "        target[x].hist()\n",
    "        plt.title('Histogram for %s' % x)\n",
    "        plt.tight_layout()"
   ]
  },
  {
   "cell_type": "code",
   "execution_count": 815,
   "metadata": {
    "collapsed": false
   },
   "outputs": [
    {
     "data": {
      "image/png": "[encoded data removed]",
      "text/plain": [
       "<matplotlib.figure.Figure at 0x1296102d0>"
      ]
     },
     "metadata": {},
     "output_type": "display_data"
    }
   ],
   "source": [
    "    plt.figure(figsize=(8,6));\n",
    "    i = 0\n",
    "    for x in tar_col:\n",
    "        i += 1\n",
    "        plt.subplot(4,2,i)\n",
    "        (target[target[x] > 0])[x].hist()\n",
    "        plt.title('Histogram with no NaNs for %s' % x)\n",
    "        plt.tight_layout()"
   ]
  },
  {
   "cell_type": "code",
   "execution_count": 1355,
   "metadata": {
    "collapsed": false
   },
   "outputs": [
    {
     "data": {
      "text/html": [
       "<div>\n",
       "<table border=\"1\" class=\"dataframe\">\n",
       "  <thead>\n",
       "    <tr style=\"text-align: right;\">\n",
       "      <th>Measure ID</th>\n",
       "      <th>Hospital Name</th>\n",
       "      <th>State</th>\n",
       "      <th>READM_30_AMI</th>\n",
       "      <th>READM_30_CABG</th>\n",
       "      <th>READM_30_COPD</th>\n",
       "      <th>READM_30_HF</th>\n",
       "      <th>READM_30_HIP_KNEE</th>\n",
       "      <th>READM_30_HOSP_WIDE</th>\n",
       "      <th>READM_30_PN</th>\n",
       "      <th>READM_30_STK</th>\n",
       "    </tr>\n",
       "  </thead>\n",
       "  <tbody>\n",
       "    <tr>\n",
       "      <th>2</th>\n",
       "      <td>ABBOTT NORTHWESTERN HOSPITAL</td>\n",
       "      <td>MN</td>\n",
       "      <td>16.8</td>\n",
       "      <td>13.4</td>\n",
       "      <td>20.4</td>\n",
       "      <td>22.5</td>\n",
       "      <td>4.4</td>\n",
       "      <td>15.0</td>\n",
       "      <td>19.6</td>\n",
       "      <td>13.7</td>\n",
       "    </tr>\n",
       "    <tr>\n",
       "      <th>3</th>\n",
       "      <td>ABILENE REGIONAL MEDICAL CENTER</td>\n",
       "      <td>TX</td>\n",
       "      <td>16.4</td>\n",
       "      <td>15.0</td>\n",
       "      <td>18.3</td>\n",
       "      <td>22.4</td>\n",
       "      <td>4.0</td>\n",
       "      <td>14.5</td>\n",
       "      <td>15.5</td>\n",
       "      <td>13.5</td>\n",
       "    </tr>\n",
       "    <tr>\n",
       "      <th>4</th>\n",
       "      <td>ABINGTON MEMORIAL HOSPITAL</td>\n",
       "      <td>PA</td>\n",
       "      <td>18.1</td>\n",
       "      <td>13.9</td>\n",
       "      <td>22.8</td>\n",
       "      <td>21.6</td>\n",
       "      <td>5.4</td>\n",
       "      <td>16.2</td>\n",
       "      <td>16.2</td>\n",
       "      <td>12.3</td>\n",
       "    </tr>\n",
       "    <tr>\n",
       "      <th>6</th>\n",
       "      <td>ABRAZO ARROWHEAD CAMPUS</td>\n",
       "      <td>AZ</td>\n",
       "      <td>16.5</td>\n",
       "      <td>14.6</td>\n",
       "      <td>19.7</td>\n",
       "      <td>21.1</td>\n",
       "      <td>4.5</td>\n",
       "      <td>15.4</td>\n",
       "      <td>15.4</td>\n",
       "      <td>11.8</td>\n",
       "    </tr>\n",
       "    <tr>\n",
       "      <th>7</th>\n",
       "      <td>ABRAZO CENTRAL CAMPUS</td>\n",
       "      <td>AZ</td>\n",
       "      <td>16.1</td>\n",
       "      <td>14.0</td>\n",
       "      <td>19.6</td>\n",
       "      <td>21.8</td>\n",
       "      <td>4.8</td>\n",
       "      <td>16.1</td>\n",
       "      <td>17.6</td>\n",
       "      <td>12.0</td>\n",
       "    </tr>\n",
       "  </tbody>\n",
       "</table>\n",
       "</div>"
      ],
      "text/plain": [
       "Measure ID                    Hospital Name State  READM_30_AMI  \\\n",
       "2              ABBOTT NORTHWESTERN HOSPITAL    MN          16.8   \n",
       "3           ABILENE REGIONAL MEDICAL CENTER    TX          16.4   \n",
       "4                ABINGTON MEMORIAL HOSPITAL    PA          18.1   \n",
       "6                   ABRAZO ARROWHEAD CAMPUS    AZ          16.5   \n",
       "7                     ABRAZO CENTRAL CAMPUS    AZ          16.1   \n",
       "\n",
       "Measure ID  READM_30_CABG  READM_30_COPD  READM_30_HF  READM_30_HIP_KNEE  \\\n",
       "2                    13.4           20.4         22.5                4.4   \n",
       "3                    15.0           18.3         22.4                4.0   \n",
       "4                    13.9           22.8         21.6                5.4   \n",
       "6                    14.6           19.7         21.1                4.5   \n",
       "7                    14.0           19.6         21.8                4.8   \n",
       "\n",
       "Measure ID  READM_30_HOSP_WIDE  READM_30_PN  READM_30_STK  \n",
       "2                         15.0         19.6          13.7  \n",
       "3                         14.5         15.5          13.5  \n",
       "4                         16.2         16.2          12.3  \n",
       "6                         15.4         15.4          11.8  \n",
       "7                         16.1         17.6          12.0  "
      ]
     },
     "execution_count": 1355,
     "metadata": {},
     "output_type": "execute_result"
    }
   ],
   "source": [
    "z = target[target['READM_30_AMI'] > 0]\n",
    "z.head()"
   ]
  },
  {
   "cell_type": "code",
   "execution_count": 1467,
   "metadata": {
    "collapsed": false
   },
   "outputs": [
    {
     "name": "stdout",
     "output_type": "stream",
     "text": [
      "<class 'pandas.core.frame.DataFrame'>\n",
      "Int64Index: 2668 entries, 0 to 2667\n",
      "Data columns (total 71 columns):\n",
      "Hospital Name                                                                 2668 non-null object\n",
      "State                                                                         2668 non-null object\n",
      "COMP_HIP_KNEE                                                                 2668 non-null float64\n",
      "PSI_12_POSTOP_PULMEMB_DVT                                                     2668 non-null float64\n",
      "PSI_13_POST_SEPSIS                                                            2668 non-null float64\n",
      "PSI_14_POSTOP_DEHIS                                                           2668 non-null float64\n",
      "PSI_15_ACC_LAC                                                                2668 non-null float64\n",
      "PSI_3_ULCER                                                                   2668 non-null float64\n",
      "PSI_4_SURG_COMP                                                               2668 non-null float64\n",
      "PSI_6_IAT_PTX                                                                 2668 non-null float64\n",
      "PSI_7_CVCBI                                                                   2668 non-null float64\n",
      "PSI_8_POST_HIP                                                                2668 non-null float64\n",
      "PSI_90_SAFETY                                                                 2668 non-null float64\n",
      "COMP_HIP_KNEE_low                                                             2668 non-null float64\n",
      "PSI_12_POSTOP_PULMEMB_DVT_low                                                 2668 non-null float64\n",
      "PSI_13_POST_SEPSIS_low                                                        2668 non-null float64\n",
      "PSI_14_POSTOP_DEHIS_low                                                       2668 non-null float64\n",
      "PSI_15_ACC_LAC_low                                                            2668 non-null float64\n",
      "PSI_3_ULCER_low                                                               2668 non-null float64\n",
      "PSI_4_SURG_COMP_low                                                           2668 non-null float64\n",
      "PSI_6_IAT_PTX_low                                                             2668 non-null float64\n",
      "PSI_7_CVCBI_low                                                               2668 non-null float64\n",
      "PSI_8_POST_HIP_low                                                            2668 non-null float64\n",
      "PSI_90_SAFETY_low                                                             2668 non-null float64\n",
      "COMP_HIP_KNEE_high                                                            2668 non-null float64\n",
      "PSI_12_POSTOP_PULMEMB_DVT_high                                                2668 non-null float64\n",
      "PSI_13_POST_SEPSIS_high                                                       2668 non-null float64\n",
      "PSI_14_POSTOP_DEHIS_high                                                      2668 non-null float64\n",
      "PSI_15_ACC_LAC_high                                                           2668 non-null float64\n",
      "PSI_3_ULCER_high                                                              2668 non-null float64\n",
      "PSI_4_SURG_COMP_high                                                          2668 non-null float64\n",
      "PSI_6_IAT_PTX_high                                                            2668 non-null float64\n",
      "PSI_7_CVCBI_high                                                              2668 non-null float64\n",
      "PSI_8_POST_HIP_high                                                           2668 non-null float64\n",
      "PSI_90_SAFETY_high                                                            2668 non-null float64\n",
      "1 through 30 days After Discharge from Index Hospital Admission_inpatient     2668 non-null float64\n",
      "1 to 3 days Prior to Index Hospital Admission_inpatient                       2668 non-null float64\n",
      "During Index Hospital Admission_inpatient                                     2668 non-null float64\n",
      "1 through 30 days After Discharge from Index Hospital Admission_outpatient    2668 non-null float64\n",
      "1 to 3 days Prior to Index Hospital Admission_outpatient                      2668 non-null float64\n",
      "AHRQ_PSI_90_Score                                                             2668 non-null float64\n",
      "CLABSI_Score                                                                  2668 non-null float64\n",
      "CAUTI_Score                                                                   2668 non-null float64\n",
      "SSI_Score                                                                     2668 non-null float64\n",
      "MRSA_Score                                                                    2668 non-null float64\n",
      "CDI_Score                                                                     2668 non-null float64\n",
      "PAYM_30_AMI                                                                   2668 non-null float64\n",
      "PAYM_30_HF                                                                    2668 non-null float64\n",
      "PAYM_30_PN                                                                    2668 non-null float64\n",
      "PAYM_30_AMI_low                                                               2668 non-null float64\n",
      "PAYM_30_HF_low                                                                2668 non-null float64\n",
      "PAYM_30_PN_low                                                                2668 non-null float64\n",
      "PAYM_30_AMI_high                                                              2668 non-null float64\n",
      "PAYM_30_HF_high                                                               2668 non-null float64\n",
      "PAYM_30_PN_high                                                               2668 non-null float64\n",
      "H_COMP_1_STAR_RATING                                                          2668 non-null float64\n",
      "H_COMP_2_STAR_RATING                                                          2668 non-null float64\n",
      "H_COMP_3_STAR_RATING                                                          2668 non-null float64\n",
      "H_COMP_4_STAR_RATING                                                          2668 non-null float64\n",
      "H_COMP_5_STAR_RATING                                                          2668 non-null float64\n",
      "H_COMP_6_STAR_RATING                                                          2668 non-null float64\n",
      "H_COMP_7_STAR_RATING                                                          2668 non-null float64\n",
      "H_RECMND_STAR_RATING                                                          2668 non-null float64\n",
      "READM_30_AMI                                                                  2668 non-null float64\n",
      "READM_30_CABG                                                                 2668 non-null float64\n",
      "READM_30_COPD                                                                 2668 non-null float64\n",
      "READM_30_HF                                                                   2668 non-null float64\n",
      "READM_30_HIP_KNEE                                                             2668 non-null float64\n",
      "READM_30_HOSP_WIDE                                                            2668 non-null float64\n",
      "READM_30_PN                                                                   2668 non-null float64\n",
      "READM_30_STK                                                                  2668 non-null float64\n",
      "dtypes: float64(69), object(2)\n",
      "memory usage: 1.5+ MB\n"
     ]
    }
   ],
   "source": [
    "#target and features arent the same length. Merging to make them same length\n",
    "full = pd.merge(features, target, on=['Hospital Name','State'], how='inner', copy=True)\n",
    "full.info()"
   ]
  },
  {
   "cell_type": "code",
   "execution_count": 1363,
   "metadata": {
    "collapsed": false
   },
   "outputs": [
    {
     "data": {
      "text/plain": [
       "<matplotlib.text.Text at 0x142c19cd0>"
      ]
     },
     "execution_count": 1363,
     "metadata": {},
     "output_type": "execute_result"
    },
    {
     "data": {
      "image/png": "[encoded data removed]",
      "text/plain": [
       "<matplotlib.figure.Figure at 0x13f07e290>"
      ]
     },
     "metadata": {},
     "output_type": "display_data"
    }
   ],
   "source": [
    "plt.scatter(full['PAYM_30_HF'], full['READM_30_HF'])\n",
    "plt.title('Payment for HF vs Readmission rates for HF, including NaNs')"
   ]
  },
  {
   "cell_type": "code",
   "execution_count": 1365,
   "metadata": {
    "collapsed": false
   },
   "outputs": [
    {
     "data": {
      "text/plain": [
       "<matplotlib.text.Text at 0x142a87d50>"
      ]
     },
     "execution_count": 1365,
     "metadata": {},
     "output_type": "execute_result"
    },
    {
     "data": {
      "image/png": "[encoded data removed]",
      "text/plain": [
       "<matplotlib.figure.Figure at 0x1406a3d50>"
      ]
     },
     "metadata": {},
     "output_type": "display_data"
    }
   ],
   "source": [
    "plt.scatter(full['PSI_4_SURG_COMP'], full['READM_30_HIP_KNEE'])\n",
    "plt.title('Surgical Complications vs Readmission rates for Knee/Hip, including NaNs')"
   ]
  },
  {
   "cell_type": "markdown",
   "metadata": {},
   "source": [
    "## So far I've left missing values in and I'm going to train a model with that - just to see if the missing values are useful info"
   ]
  },
  {
   "cell_type": "markdown",
   "metadata": {},
   "source": [
    "## Trying linear model for HF using intuition to select features:\n",
    "#### 1) Need to normalize data including 0s for NaNs\n",
    "#### 2) Need to normalize data including imputed means for NaNs\n",
    "#### 3) Try linear regressor on a few states"
   ]
  },
  {
   "cell_type": "code",
   "execution_count": 825,
   "metadata": {
    "collapsed": false
   },
   "outputs": [
    {
     "name": "stdout",
     "output_type": "stream",
     "text": [
      "<class 'pandas.core.frame.DataFrame'>\n",
      "Int64Index: 2668 entries, 0 to 2667\n",
      "Data columns (total 55 columns):\n",
      "Hospital Name                                                                 2668 non-null object\n",
      "State                                                                         2668 non-null object\n",
      "COMP_HIP_KNEE                                                                 2668 non-null float64\n",
      "PSI_12_POSTOP_PULMEMB_DVT                                                     2668 non-null float64\n",
      "PSI_13_POST_SEPSIS                                                            2668 non-null float64\n",
      "PSI_14_POSTOP_DEHIS                                                           2668 non-null float64\n",
      "PSI_15_ACC_LAC                                                                2668 non-null float64\n",
      "PSI_3_ULCER                                                                   2668 non-null float64\n",
      "PSI_4_SURG_COMP                                                               2668 non-null float64\n",
      "PSI_6_IAT_PTX                                                                 2668 non-null float64\n",
      "PSI_7_CVCBI                                                                   2668 non-null float64\n",
      "PSI_8_POST_HIP                                                                2668 non-null float64\n",
      "PSI_90_SAFETY                                                                 2668 non-null float64\n",
      "COMP_HIP_KNEE_low                                                             2668 non-null float64\n",
      "PSI_12_POSTOP_PULMEMB_DVT_low                                                 2668 non-null float64\n",
      "PSI_13_POST_SEPSIS_low                                                        2668 non-null float64\n",
      "PSI_14_POSTOP_DEHIS_low                                                       2668 non-null float64\n",
      "PSI_15_ACC_LAC_low                                                            2668 non-null float64\n",
      "PSI_3_ULCER_low                                                               2668 non-null float64\n",
      "PSI_4_SURG_COMP_low                                                           2668 non-null float64\n",
      "PSI_6_IAT_PTX_low                                                             2668 non-null float64\n",
      "PSI_7_CVCBI_low                                                               2668 non-null float64\n",
      "PSI_8_POST_HIP_low                                                            2668 non-null float64\n",
      "PSI_90_SAFETY_low                                                             2668 non-null float64\n",
      "COMP_HIP_KNEE_high                                                            2668 non-null float64\n",
      "PSI_12_POSTOP_PULMEMB_DVT_high                                                2668 non-null float64\n",
      "PSI_13_POST_SEPSIS_high                                                       2668 non-null float64\n",
      "PSI_14_POSTOP_DEHIS_high                                                      2668 non-null float64\n",
      "PSI_15_ACC_LAC_high                                                           2668 non-null float64\n",
      "PSI_3_ULCER_high                                                              2668 non-null float64\n",
      "PSI_4_SURG_COMP_high                                                          2668 non-null float64\n",
      "PSI_6_IAT_PTX_high                                                            2668 non-null float64\n",
      "PSI_7_CVCBI_high                                                              2668 non-null float64\n",
      "PSI_8_POST_HIP_high                                                           2668 non-null float64\n",
      "PSI_90_SAFETY_high                                                            2668 non-null float64\n",
      "1 through 30 days After Discharge from Index Hospital Admission_inpatient     2668 non-null float64\n",
      "1 to 3 days Prior to Index Hospital Admission_inpatient                       2668 non-null float64\n",
      "During Index Hospital Admission_inpatient                                     2668 non-null float64\n",
      "1 through 30 days After Discharge from Index Hospital Admission_outpatient    2668 non-null float64\n",
      "1 to 3 days Prior to Index Hospital Admission_outpatient                      2668 non-null float64\n",
      "AHRQ_PSI_90_Score                                                             2668 non-null float64\n",
      "CLABSI_Score                                                                  2668 non-null float64\n",
      "CAUTI_Score                                                                   2668 non-null float64\n",
      "SSI_Score                                                                     2668 non-null float64\n",
      "MRSA_Score                                                                    2668 non-null float64\n",
      "CDI_Score                                                                     2668 non-null float64\n",
      "PAYM_30_AMI                                                                   2668 non-null float64\n",
      "PAYM_30_HF                                                                    2668 non-null float64\n",
      "PAYM_30_PN                                                                    2668 non-null float64\n",
      "PAYM_30_AMI_low                                                               2668 non-null float64\n",
      "PAYM_30_HF_low                                                                2668 non-null float64\n",
      "PAYM_30_PN_low                                                                2668 non-null float64\n",
      "PAYM_30_AMI_high                                                              2668 non-null float64\n",
      "PAYM_30_HF_high                                                               2668 non-null float64\n",
      "PAYM_30_PN_high                                                               2668 non-null float64\n",
      "dtypes: float64(53), object(2)\n",
      "memory usage: 1.1+ MB\n"
     ]
    }
   ],
   "source": [
    "features.info()"
   ]
  },
  {
   "cell_type": "code",
   "execution_count": 826,
   "metadata": {
    "collapsed": false
   },
   "outputs": [
    {
     "data": {
      "text/plain": [
       "<matplotlib.text.Text at 0x1239e2050>"
      ]
     },
     "execution_count": 826,
     "metadata": {},
     "output_type": "execute_result"
    },
    {
     "data": {
      "image/png": "[encoded data removed]",
      "text/plain": [
       "<matplotlib.figure.Figure at 0x11f165d10>"
      ]
     },
     "metadata": {},
     "output_type": "display_data"
    }
   ],
   "source": [
    "plt.scatter(features.COMP_HIP_KNEE, target.READM_30_HIP_KNEE)\n",
    "plt.title('Hip/Knee Score')"
   ]
  },
  {
   "cell_type": "code",
   "execution_count": 954,
   "metadata": {
    "collapsed": false
   },
   "outputs": [],
   "source": [
    "features_hf_cols = ['PSI_4_SURG_COMP', 'PSI_12_POSTOP_PULMEMB_DVT', \n",
    "                     '1 through 30 days After Discharge from Index Hospital Admission_inpatient', \n",
    "                     '1 through 30 days After Discharge from Index Hospital Admission_outpatient', \n",
    "                     'During Index Hospital Admission_inpatient','AHRQ_PSI_90_Score', \n",
    "                     'MRSA_Score', 'CAUTI_Score', 'CDI_Score', 'PAYM_30_HF', 'PAYM_30_HF_low', 'PAYM_30_HF_high']"
   ]
  },
  {
   "cell_type": "code",
   "execution_count": 927,
   "metadata": {
    "collapsed": true
   },
   "outputs": [],
   "source": [
    "features_hip_cols = ['COMP_HIP_KNEE', 'PSI_4_SURG_COMP', 'PSI_8_POST_HIP', 'COMP_HIP_KNEE_high', 'COMP_HIP_KNEE_low', \n",
    "                     '1 through 30 days After Discharge from Index Hospital Admission_inpatient', \n",
    "                     '1 through 30 days After Discharge from Index Hospital Admission_outpatient', \n",
    "                     'During Index Hospital Admission_inpatient','AHRQ_PSI_90_Score', \n",
    "                     'MRSA_Score', 'CAUTI_Score', 'CDI_Score']"
   ]
  },
  {
   "cell_type": "markdown",
   "metadata": {},
   "source": [
    "#### 1) Normalized , including 0s in place of NaNs"
   ]
  },
  {
   "cell_type": "code",
   "execution_count": 828,
   "metadata": {
    "collapsed": false
   },
   "outputs": [],
   "source": [
    "features_hip = features[features_hip_cols]\n",
    "target_hip = target['READM_30_HIP_KNEE']"
   ]
  },
  {
   "cell_type": "code",
   "execution_count": 829,
   "metadata": {
    "collapsed": false
   },
   "outputs": [
    {
     "data": {
      "text/html": [
       "<div>\n",
       "<table border=\"1\" class=\"dataframe\">\n",
       "  <thead>\n",
       "    <tr style=\"text-align: right;\">\n",
       "      <th></th>\n",
       "      <th>COMP_HIP_KNEE</th>\n",
       "      <th>PSI_4_SURG_COMP</th>\n",
       "      <th>PSI_8_POST_HIP</th>\n",
       "      <th>COMP_HIP_KNEE_high</th>\n",
       "      <th>COMP_HIP_KNEE_low</th>\n",
       "      <th>1 through 30 days After Discharge from Index Hospital Admission_inpatient</th>\n",
       "      <th>1 through 30 days After Discharge from Index Hospital Admission_outpatient</th>\n",
       "      <th>During Index Hospital Admission_inpatient</th>\n",
       "      <th>AHRQ_PSI_90_Score</th>\n",
       "      <th>MRSA_Score</th>\n",
       "      <th>CAUTI_Score</th>\n",
       "      <th>CDI_Score</th>\n",
       "    </tr>\n",
       "  </thead>\n",
       "  <tbody>\n",
       "    <tr>\n",
       "      <th>0</th>\n",
       "      <td>0.486446</td>\n",
       "      <td>-1.111388</td>\n",
       "      <td>0.335805</td>\n",
       "      <td>0.632840</td>\n",
       "      <td>0.234397</td>\n",
       "      <td>0.022109</td>\n",
       "      <td>0.373154</td>\n",
       "      <td>-0.512033</td>\n",
       "      <td>1.233494</td>\n",
       "      <td>-1.124552</td>\n",
       "      <td>-0.365283</td>\n",
       "      <td>-1.109830</td>\n",
       "    </tr>\n",
       "    <tr>\n",
       "      <th>1</th>\n",
       "      <td>0.127055</td>\n",
       "      <td>0.687100</td>\n",
       "      <td>0.335805</td>\n",
       "      <td>0.037671</td>\n",
       "      <td>0.234397</td>\n",
       "      <td>-0.100868</td>\n",
       "      <td>0.847926</td>\n",
       "      <td>1.484239</td>\n",
       "      <td>0.889611</td>\n",
       "      <td>-0.549120</td>\n",
       "      <td>1.097164</td>\n",
       "      <td>0.233801</td>\n",
       "    </tr>\n",
       "    <tr>\n",
       "      <th>2</th>\n",
       "      <td>0.558324</td>\n",
       "      <td>0.888585</td>\n",
       "      <td>0.335805</td>\n",
       "      <td>0.495493</td>\n",
       "      <td>0.566032</td>\n",
       "      <td>1.195512</td>\n",
       "      <td>-0.202555</td>\n",
       "      <td>0.628491</td>\n",
       "      <td>-1.517572</td>\n",
       "      <td>1.752610</td>\n",
       "      <td>-0.072793</td>\n",
       "      <td>0.233801</td>\n",
       "    </tr>\n",
       "    <tr>\n",
       "      <th>3</th>\n",
       "      <td>1.420863</td>\n",
       "      <td>1.107691</td>\n",
       "      <td>0.335805</td>\n",
       "      <td>0.953315</td>\n",
       "      <td>2.003116</td>\n",
       "      <td>-0.394646</td>\n",
       "      <td>-0.038067</td>\n",
       "      <td>0.065111</td>\n",
       "      <td>1.577378</td>\n",
       "      <td>-0.261403</td>\n",
       "      <td>1.097164</td>\n",
       "      <td>-0.102107</td>\n",
       "    </tr>\n",
       "    <tr>\n",
       "      <th>4</th>\n",
       "      <td>0.270812</td>\n",
       "      <td>0.883096</td>\n",
       "      <td>0.335805</td>\n",
       "      <td>0.403929</td>\n",
       "      <td>0.013307</td>\n",
       "      <td>0.942726</td>\n",
       "      <td>0.309601</td>\n",
       "      <td>1.282049</td>\n",
       "      <td>-0.829805</td>\n",
       "      <td>0.889462</td>\n",
       "      <td>0.804675</td>\n",
       "      <td>0.233801</td>\n",
       "    </tr>\n",
       "  </tbody>\n",
       "</table>\n",
       "</div>"
      ],
      "text/plain": [
       "   COMP_HIP_KNEE  PSI_4_SURG_COMP  PSI_8_POST_HIP  COMP_HIP_KNEE_high  \\\n",
       "0       0.486446        -1.111388        0.335805            0.632840   \n",
       "1       0.127055         0.687100        0.335805            0.037671   \n",
       "2       0.558324         0.888585        0.335805            0.495493   \n",
       "3       1.420863         1.107691        0.335805            0.953315   \n",
       "4       0.270812         0.883096        0.335805            0.403929   \n",
       "\n",
       "   COMP_HIP_KNEE_low  \\\n",
       "0           0.234397   \n",
       "1           0.234397   \n",
       "2           0.566032   \n",
       "3           2.003116   \n",
       "4           0.013307   \n",
       "\n",
       "   1 through 30 days After Discharge from Index Hospital Admission_inpatient  \\\n",
       "0                                           0.022109                           \n",
       "1                                          -0.100868                           \n",
       "2                                           1.195512                           \n",
       "3                                          -0.394646                           \n",
       "4                                           0.942726                           \n",
       "\n",
       "   1 through 30 days After Discharge from Index Hospital Admission_outpatient  \\\n",
       "0                                           0.373154                            \n",
       "1                                           0.847926                            \n",
       "2                                          -0.202555                            \n",
       "3                                          -0.038067                            \n",
       "4                                           0.309601                            \n",
       "\n",
       "   During Index Hospital Admission_inpatient  AHRQ_PSI_90_Score  MRSA_Score  \\\n",
       "0                                  -0.512033           1.233494   -1.124552   \n",
       "1                                   1.484239           0.889611   -0.549120   \n",
       "2                                   0.628491          -1.517572    1.752610   \n",
       "3                                   0.065111           1.577378   -0.261403   \n",
       "4                                   1.282049          -0.829805    0.889462   \n",
       "\n",
       "   CAUTI_Score  CDI_Score  \n",
       "0    -0.365283  -1.109830  \n",
       "1     1.097164   0.233801  \n",
       "2    -0.072793   0.233801  \n",
       "3     1.097164  -0.102107  \n",
       "4     0.804675   0.233801  "
      ]
     },
     "execution_count": 829,
     "metadata": {},
     "output_type": "execute_result"
    }
   ],
   "source": [
    "features_hip_norm = (features_hip - features_hip.mean()) /  (features_hip.std())\n",
    "features_hip_norm.head()"
   ]
  },
  {
   "cell_type": "code",
   "execution_count": 1382,
   "metadata": {
    "collapsed": false
   },
   "outputs": [],
   "source": [
    "data_to_norm = full.iloc[:,2:]\n",
    "full_norm = (data_to_norm - data_to_norm.mean()) /  (data_to_norm.std()) #normalizing data"
   ]
  },
  {
   "cell_type": "code",
   "execution_count": 1383,
   "metadata": {
    "collapsed": false
   },
   "outputs": [
    {
     "data": {
      "text/html": [
       "<div>\n",
       "<table border=\"1\" class=\"dataframe\">\n",
       "  <thead>\n",
       "    <tr style=\"text-align: right;\">\n",
       "      <th></th>\n",
       "      <th>COMP_HIP_KNEE</th>\n",
       "      <th>PSI_12_POSTOP_PULMEMB_DVT</th>\n",
       "      <th>PSI_13_POST_SEPSIS</th>\n",
       "      <th>PSI_14_POSTOP_DEHIS</th>\n",
       "      <th>PSI_15_ACC_LAC</th>\n",
       "      <th>PSI_3_ULCER</th>\n",
       "      <th>PSI_4_SURG_COMP</th>\n",
       "      <th>PSI_6_IAT_PTX</th>\n",
       "      <th>PSI_7_CVCBI</th>\n",
       "      <th>PSI_8_POST_HIP</th>\n",
       "      <th>...</th>\n",
       "      <th>H_COMP_7_STAR_RATING</th>\n",
       "      <th>H_RECMND_STAR_RATING</th>\n",
       "      <th>READM_30_AMI</th>\n",
       "      <th>READM_30_CABG</th>\n",
       "      <th>READM_30_COPD</th>\n",
       "      <th>READM_30_HF</th>\n",
       "      <th>READM_30_HIP_KNEE</th>\n",
       "      <th>READM_30_HOSP_WIDE</th>\n",
       "      <th>READM_30_PN</th>\n",
       "      <th>READM_30_STK</th>\n",
       "    </tr>\n",
       "  </thead>\n",
       "  <tbody>\n",
       "    <tr>\n",
       "      <th>0</th>\n",
       "      <td>0.486446</td>\n",
       "      <td>0.869071</td>\n",
       "      <td>-1.495040</td>\n",
       "      <td>0.433730</td>\n",
       "      <td>0.541210</td>\n",
       "      <td>-0.178768</td>\n",
       "      <td>-1.111388</td>\n",
       "      <td>-0.171822</td>\n",
       "      <td>-0.103954</td>\n",
       "      <td>0.335805</td>\n",
       "      <td>...</td>\n",
       "      <td>1.088177</td>\n",
       "      <td>-1.514558</td>\n",
       "      <td>-1.395495</td>\n",
       "      <td>-0.667697</td>\n",
       "      <td>0.164189</td>\n",
       "      <td>0.706534</td>\n",
       "      <td>0.332070</td>\n",
       "      <td>0.325194</td>\n",
       "      <td>0.376877</td>\n",
       "      <td>-1.776802</td>\n",
       "    </tr>\n",
       "    <tr>\n",
       "      <th>1</th>\n",
       "      <td>0.127055</td>\n",
       "      <td>0.271201</td>\n",
       "      <td>0.779136</td>\n",
       "      <td>-0.070094</td>\n",
       "      <td>1.105323</td>\n",
       "      <td>-0.673127</td>\n",
       "      <td>0.687100</td>\n",
       "      <td>-1.049284</td>\n",
       "      <td>-0.775556</td>\n",
       "      <td>0.335805</td>\n",
       "      <td>...</td>\n",
       "      <td>1.088177</td>\n",
       "      <td>1.691027</td>\n",
       "      <td>0.699767</td>\n",
       "      <td>1.336769</td>\n",
       "      <td>0.381703</td>\n",
       "      <td>0.381220</td>\n",
       "      <td>0.431423</td>\n",
       "      <td>-0.292910</td>\n",
       "      <td>0.781138</td>\n",
       "      <td>0.755292</td>\n",
       "    </tr>\n",
       "    <tr>\n",
       "      <th>2</th>\n",
       "      <td>0.558324</td>\n",
       "      <td>-0.569554</td>\n",
       "      <td>-0.210515</td>\n",
       "      <td>0.363195</td>\n",
       "      <td>-0.545229</td>\n",
       "      <td>-0.554481</td>\n",
       "      <td>0.888585</td>\n",
       "      <td>-0.046470</td>\n",
       "      <td>-0.641235</td>\n",
       "      <td>0.335805</td>\n",
       "      <td>...</td>\n",
       "      <td>-0.593895</td>\n",
       "      <td>0.088235</td>\n",
       "      <td>0.649880</td>\n",
       "      <td>1.576109</td>\n",
       "      <td>0.030335</td>\n",
       "      <td>0.365729</td>\n",
       "      <td>0.232717</td>\n",
       "      <td>-0.601962</td>\n",
       "      <td>-0.139678</td>\n",
       "      <td>0.718328</td>\n",
       "    </tr>\n",
       "    <tr>\n",
       "      <th>3</th>\n",
       "      <td>1.420863</td>\n",
       "      <td>1.784560</td>\n",
       "      <td>0.585245</td>\n",
       "      <td>1.753750</td>\n",
       "      <td>-0.294512</td>\n",
       "      <td>1.284533</td>\n",
       "      <td>1.107691</td>\n",
       "      <td>-1.049284</td>\n",
       "      <td>-0.506915</td>\n",
       "      <td>0.335805</td>\n",
       "      <td>...</td>\n",
       "      <td>0.247141</td>\n",
       "      <td>0.088235</td>\n",
       "      <td>0.861900</td>\n",
       "      <td>1.411563</td>\n",
       "      <td>0.783267</td>\n",
       "      <td>0.241800</td>\n",
       "      <td>0.928190</td>\n",
       "      <td>0.448814</td>\n",
       "      <td>0.017534</td>\n",
       "      <td>0.496538</td>\n",
       "    </tr>\n",
       "    <tr>\n",
       "      <th>4</th>\n",
       "      <td>0.270812</td>\n",
       "      <td>-0.546200</td>\n",
       "      <td>0.369138</td>\n",
       "      <td>0.312812</td>\n",
       "      <td>-0.252726</td>\n",
       "      <td>-0.455609</td>\n",
       "      <td>0.883096</td>\n",
       "      <td>1.332398</td>\n",
       "      <td>0.567648</td>\n",
       "      <td>0.335805</td>\n",
       "      <td>...</td>\n",
       "      <td>-1.434932</td>\n",
       "      <td>-0.713162</td>\n",
       "      <td>0.612464</td>\n",
       "      <td>1.426522</td>\n",
       "      <td>0.247848</td>\n",
       "      <td>0.272782</td>\n",
       "      <td>0.630130</td>\n",
       "      <td>0.387004</td>\n",
       "      <td>0.331959</td>\n",
       "      <td>0.441091</td>\n",
       "    </tr>\n",
       "  </tbody>\n",
       "</table>\n",
       "<p>5 rows × 69 columns</p>\n",
       "</div>"
      ],
      "text/plain": [
       "   COMP_HIP_KNEE  PSI_12_POSTOP_PULMEMB_DVT  PSI_13_POST_SEPSIS  \\\n",
       "0       0.486446                   0.869071           -1.495040   \n",
       "1       0.127055                   0.271201            0.779136   \n",
       "2       0.558324                  -0.569554           -0.210515   \n",
       "3       1.420863                   1.784560            0.585245   \n",
       "4       0.270812                  -0.546200            0.369138   \n",
       "\n",
       "   PSI_14_POSTOP_DEHIS  PSI_15_ACC_LAC  PSI_3_ULCER  PSI_4_SURG_COMP  \\\n",
       "0             0.433730        0.541210    -0.178768        -1.111388   \n",
       "1            -0.070094        1.105323    -0.673127         0.687100   \n",
       "2             0.363195       -0.545229    -0.554481         0.888585   \n",
       "3             1.753750       -0.294512     1.284533         1.107691   \n",
       "4             0.312812       -0.252726    -0.455609         0.883096   \n",
       "\n",
       "   PSI_6_IAT_PTX  PSI_7_CVCBI  PSI_8_POST_HIP      ...       \\\n",
       "0      -0.171822    -0.103954        0.335805      ...        \n",
       "1      -1.049284    -0.775556        0.335805      ...        \n",
       "2      -0.046470    -0.641235        0.335805      ...        \n",
       "3      -1.049284    -0.506915        0.335805      ...        \n",
       "4       1.332398     0.567648        0.335805      ...        \n",
       "\n",
       "   H_COMP_7_STAR_RATING  H_RECMND_STAR_RATING  READM_30_AMI  READM_30_CABG  \\\n",
       "0              1.088177             -1.514558     -1.395495      -0.667697   \n",
       "1              1.088177              1.691027      0.699767       1.336769   \n",
       "2             -0.593895              0.088235      0.649880       1.576109   \n",
       "3              0.247141              0.088235      0.861900       1.411563   \n",
       "4             -1.434932             -0.713162      0.612464       1.426522   \n",
       "\n",
       "   READM_30_COPD  READM_30_HF  READM_30_HIP_KNEE  READM_30_HOSP_WIDE  \\\n",
       "0       0.164189     0.706534           0.332070            0.325194   \n",
       "1       0.381703     0.381220           0.431423           -0.292910   \n",
       "2       0.030335     0.365729           0.232717           -0.601962   \n",
       "3       0.783267     0.241800           0.928190            0.448814   \n",
       "4       0.247848     0.272782           0.630130            0.387004   \n",
       "\n",
       "   READM_30_PN  READM_30_STK  \n",
       "0     0.376877     -1.776802  \n",
       "1     0.781138      0.755292  \n",
       "2    -0.139678      0.718328  \n",
       "3     0.017534      0.496538  \n",
       "4     0.331959      0.441091  \n",
       "\n",
       "[5 rows x 69 columns]"
      ]
     },
     "execution_count": 1383,
     "metadata": {},
     "output_type": "execute_result"
    }
   ],
   "source": [
    "full_norm.head()"
   ]
  },
  {
   "cell_type": "code",
   "execution_count": 1544,
   "metadata": {
    "collapsed": false
   },
   "outputs": [
    {
     "data": {
      "text/html": [
       "<div>\n",
       "<table border=\"1\" class=\"dataframe\">\n",
       "  <thead>\n",
       "    <tr style=\"text-align: right;\">\n",
       "      <th></th>\n",
       "      <th>Hospital Name</th>\n",
       "      <th>State</th>\n",
       "      <th>COMP_HIP_KNEE</th>\n",
       "      <th>PSI_12_POSTOP_PULMEMB_DVT</th>\n",
       "      <th>PSI_13_POST_SEPSIS</th>\n",
       "      <th>PSI_14_POSTOP_DEHIS</th>\n",
       "      <th>PSI_15_ACC_LAC</th>\n",
       "      <th>PSI_3_ULCER</th>\n",
       "      <th>PSI_4_SURG_COMP</th>\n",
       "      <th>PSI_6_IAT_PTX</th>\n",
       "      <th>...</th>\n",
       "      <th>H_COMP_7_STAR_RATING</th>\n",
       "      <th>H_RECMND_STAR_RATING</th>\n",
       "      <th>READM_30_AMI</th>\n",
       "      <th>READM_30_CABG</th>\n",
       "      <th>READM_30_COPD</th>\n",
       "      <th>READM_30_HF</th>\n",
       "      <th>READM_30_HIP_KNEE</th>\n",
       "      <th>READM_30_HOSP_WIDE</th>\n",
       "      <th>READM_30_PN</th>\n",
       "      <th>READM_30_STK</th>\n",
       "    </tr>\n",
       "  </thead>\n",
       "  <tbody>\n",
       "    <tr>\n",
       "      <th>0</th>\n",
       "      <td>ABBEVILLE GENERAL HOSPITAL</td>\n",
       "      <td>LA</td>\n",
       "      <td>0.486446</td>\n",
       "      <td>0.869071</td>\n",
       "      <td>-1.495040</td>\n",
       "      <td>0.433730</td>\n",
       "      <td>0.541210</td>\n",
       "      <td>-0.178768</td>\n",
       "      <td>-1.111388</td>\n",
       "      <td>-0.171822</td>\n",
       "      <td>...</td>\n",
       "      <td>1.088177</td>\n",
       "      <td>-1.514558</td>\n",
       "      <td>-1.395495</td>\n",
       "      <td>-0.667697</td>\n",
       "      <td>0.164189</td>\n",
       "      <td>0.706534</td>\n",
       "      <td>0.332070</td>\n",
       "      <td>0.325194</td>\n",
       "      <td>0.376877</td>\n",
       "      <td>-1.776802</td>\n",
       "    </tr>\n",
       "    <tr>\n",
       "      <th>1</th>\n",
       "      <td>ABBOTT NORTHWESTERN HOSPITAL</td>\n",
       "      <td>MN</td>\n",
       "      <td>0.127055</td>\n",
       "      <td>0.271201</td>\n",
       "      <td>0.779136</td>\n",
       "      <td>-0.070094</td>\n",
       "      <td>1.105323</td>\n",
       "      <td>-0.673127</td>\n",
       "      <td>0.687100</td>\n",
       "      <td>-1.049284</td>\n",
       "      <td>...</td>\n",
       "      <td>1.088177</td>\n",
       "      <td>1.691027</td>\n",
       "      <td>0.699767</td>\n",
       "      <td>1.336769</td>\n",
       "      <td>0.381703</td>\n",
       "      <td>0.381220</td>\n",
       "      <td>0.431423</td>\n",
       "      <td>-0.292910</td>\n",
       "      <td>0.781138</td>\n",
       "      <td>0.755292</td>\n",
       "    </tr>\n",
       "    <tr>\n",
       "      <th>2</th>\n",
       "      <td>ABILENE REGIONAL MEDICAL CENTER</td>\n",
       "      <td>TX</td>\n",
       "      <td>0.558324</td>\n",
       "      <td>-0.569554</td>\n",
       "      <td>-0.210515</td>\n",
       "      <td>0.363195</td>\n",
       "      <td>-0.545229</td>\n",
       "      <td>-0.554481</td>\n",
       "      <td>0.888585</td>\n",
       "      <td>-0.046470</td>\n",
       "      <td>...</td>\n",
       "      <td>-0.593895</td>\n",
       "      <td>0.088235</td>\n",
       "      <td>0.649880</td>\n",
       "      <td>1.576109</td>\n",
       "      <td>0.030335</td>\n",
       "      <td>0.365729</td>\n",
       "      <td>0.232717</td>\n",
       "      <td>-0.601962</td>\n",
       "      <td>-0.139678</td>\n",
       "      <td>0.718328</td>\n",
       "    </tr>\n",
       "    <tr>\n",
       "      <th>3</th>\n",
       "      <td>ABINGTON MEMORIAL HOSPITAL</td>\n",
       "      <td>PA</td>\n",
       "      <td>1.420863</td>\n",
       "      <td>1.784560</td>\n",
       "      <td>0.585245</td>\n",
       "      <td>1.753750</td>\n",
       "      <td>-0.294512</td>\n",
       "      <td>1.284533</td>\n",
       "      <td>1.107691</td>\n",
       "      <td>-1.049284</td>\n",
       "      <td>...</td>\n",
       "      <td>0.247141</td>\n",
       "      <td>0.088235</td>\n",
       "      <td>0.861900</td>\n",
       "      <td>1.411563</td>\n",
       "      <td>0.783267</td>\n",
       "      <td>0.241800</td>\n",
       "      <td>0.928190</td>\n",
       "      <td>0.448814</td>\n",
       "      <td>0.017534</td>\n",
       "      <td>0.496538</td>\n",
       "    </tr>\n",
       "    <tr>\n",
       "      <th>4</th>\n",
       "      <td>ABRAZO CENTRAL CAMPUS</td>\n",
       "      <td>AZ</td>\n",
       "      <td>0.270812</td>\n",
       "      <td>-0.546200</td>\n",
       "      <td>0.369138</td>\n",
       "      <td>0.312812</td>\n",
       "      <td>-0.252726</td>\n",
       "      <td>-0.455609</td>\n",
       "      <td>0.883096</td>\n",
       "      <td>1.332398</td>\n",
       "      <td>...</td>\n",
       "      <td>-1.434932</td>\n",
       "      <td>-0.713162</td>\n",
       "      <td>0.612464</td>\n",
       "      <td>1.426522</td>\n",
       "      <td>0.247848</td>\n",
       "      <td>0.272782</td>\n",
       "      <td>0.630130</td>\n",
       "      <td>0.387004</td>\n",
       "      <td>0.331959</td>\n",
       "      <td>0.441091</td>\n",
       "    </tr>\n",
       "  </tbody>\n",
       "</table>\n",
       "<p>5 rows × 71 columns</p>\n",
       "</div>"
      ],
      "text/plain": [
       "                     Hospital Name State  COMP_HIP_KNEE  \\\n",
       "0       ABBEVILLE GENERAL HOSPITAL    LA       0.486446   \n",
       "1     ABBOTT NORTHWESTERN HOSPITAL    MN       0.127055   \n",
       "2  ABILENE REGIONAL MEDICAL CENTER    TX       0.558324   \n",
       "3       ABINGTON MEMORIAL HOSPITAL    PA       1.420863   \n",
       "4            ABRAZO CENTRAL CAMPUS    AZ       0.270812   \n",
       "\n",
       "   PSI_12_POSTOP_PULMEMB_DVT  PSI_13_POST_SEPSIS  PSI_14_POSTOP_DEHIS  \\\n",
       "0                   0.869071           -1.495040             0.433730   \n",
       "1                   0.271201            0.779136            -0.070094   \n",
       "2                  -0.569554           -0.210515             0.363195   \n",
       "3                   1.784560            0.585245             1.753750   \n",
       "4                  -0.546200            0.369138             0.312812   \n",
       "\n",
       "   PSI_15_ACC_LAC  PSI_3_ULCER  PSI_4_SURG_COMP  PSI_6_IAT_PTX      ...       \\\n",
       "0        0.541210    -0.178768        -1.111388      -0.171822      ...        \n",
       "1        1.105323    -0.673127         0.687100      -1.049284      ...        \n",
       "2       -0.545229    -0.554481         0.888585      -0.046470      ...        \n",
       "3       -0.294512     1.284533         1.107691      -1.049284      ...        \n",
       "4       -0.252726    -0.455609         0.883096       1.332398      ...        \n",
       "\n",
       "   H_COMP_7_STAR_RATING  H_RECMND_STAR_RATING  READM_30_AMI  READM_30_CABG  \\\n",
       "0              1.088177             -1.514558     -1.395495      -0.667697   \n",
       "1              1.088177              1.691027      0.699767       1.336769   \n",
       "2             -0.593895              0.088235      0.649880       1.576109   \n",
       "3              0.247141              0.088235      0.861900       1.411563   \n",
       "4             -1.434932             -0.713162      0.612464       1.426522   \n",
       "\n",
       "   READM_30_COPD  READM_30_HF  READM_30_HIP_KNEE  READM_30_HOSP_WIDE  \\\n",
       "0       0.164189     0.706534           0.332070            0.325194   \n",
       "1       0.381703     0.381220           0.431423           -0.292910   \n",
       "2       0.030335     0.365729           0.232717           -0.601962   \n",
       "3       0.783267     0.241800           0.928190            0.448814   \n",
       "4       0.247848     0.272782           0.630130            0.387004   \n",
       "\n",
       "   READM_30_PN  READM_30_STK  \n",
       "0     0.376877     -1.776802  \n",
       "1     0.781138      0.755292  \n",
       "2    -0.139678      0.718328  \n",
       "3     0.017534      0.496538  \n",
       "4     0.331959      0.441091  \n",
       "\n",
       "[5 rows x 71 columns]"
      ]
     },
     "execution_count": 1544,
     "metadata": {},
     "output_type": "execute_result"
    }
   ],
   "source": [
    "full_norm.insert(0, 'Hospital Name', full_imputed['Hospital Name'])\n",
    "full_norm.insert(1, 'State', full_imputed['State'])\n",
    "full_norm.head()"
   ]
  },
  {
   "cell_type": "markdown",
   "metadata": {},
   "source": [
    "#### 2) Normalized , including imputed values in place of NaNs"
   ]
  },
  {
   "cell_type": "code",
   "execution_count": 1507,
   "metadata": {
    "collapsed": true
   },
   "outputs": [],
   "source": [
    "cols_dont_fill_0 = ['Hospital Name', 'State', '1 through 30 days After Discharge from Index Hospital Admission_inpatient', \n",
    "                    '1 to 3 days Prior to Index Hospital Admission_inpatient','During Index Hospital Admission_inpatient',\n",
    "                    '1 through 30 days After Discharge from Index Hospital Admission_outpatient',\n",
    "                    '1 to 3 days Prior to Index Hospital Admission_outpatient', ]"
   ]
  },
  {
   "cell_type": "code",
   "execution_count": 1508,
   "metadata": {
    "collapsed": false
   },
   "outputs": [
    {
     "data": {
      "text/plain": [
       "['Hospital Name',\n",
       " 'State',\n",
       " '1 through 30 days After Discharge from Index Hospital Admission_inpatient',\n",
       " '1 to 3 days Prior to Index Hospital Admission_inpatient',\n",
       " 'During Index Hospital Admission_inpatient',\n",
       " '1 through 30 days After Discharge from Index Hospital Admission_outpatient',\n",
       " '1 to 3 days Prior to Index Hospital Admission_outpatient',\n",
       " 'READM_30_AMI',\n",
       " 'READM_30_CABG',\n",
       " 'READM_30_COPD',\n",
       " 'READM_30_HF',\n",
       " 'READM_30_HIP_KNEE',\n",
       " 'READM_30_HOSP_WIDE',\n",
       " 'READM_30_PN',\n",
       " 'READM_30_STK']"
      ]
     },
     "execution_count": 1508,
     "metadata": {},
     "output_type": "execute_result"
    }
   ],
   "source": [
    "cols_dont_fill_0 = cols_dont_fill_0 + tar_col\n",
    "cols_dont_fill_0"
   ]
  },
  {
   "cell_type": "code",
   "execution_count": 1509,
   "metadata": {
    "collapsed": true
   },
   "outputs": [],
   "source": [
    "full_copy = full.copy()"
   ]
  },
  {
   "cell_type": "code",
   "execution_count": 1510,
   "metadata": {
    "collapsed": false
   },
   "outputs": [],
   "source": [
    "for i in list(full_copy.columns):\n",
    "    if i in cols_dont_fill_0:\n",
    "        pass\n",
    "    else:\n",
    "        full_copy[i] = full_copy[i].replace(0, np.nan)  "
   ]
  },
  {
   "cell_type": "code",
   "execution_count": 1511,
   "metadata": {
    "collapsed": true
   },
   "outputs": [],
   "source": [
    "#Checking if the loop worked correctly"
   ]
  },
  {
   "cell_type": "code",
   "execution_count": 1512,
   "metadata": {
    "collapsed": false
   },
   "outputs": [
    {
     "data": {
      "text/plain": [
       "4"
      ]
     },
     "execution_count": 1512,
     "metadata": {},
     "output_type": "execute_result"
    }
   ],
   "source": [
    "len(full_copy[full_copy['1 through 30 days After Discharge from Index Hospital Admission_inpatient'] == 0])"
   ]
  },
  {
   "cell_type": "code",
   "execution_count": 1513,
   "metadata": {
    "collapsed": false
   },
   "outputs": [
    {
     "data": {
      "text/plain": [
       "0"
      ]
     },
     "execution_count": 1513,
     "metadata": {},
     "output_type": "execute_result"
    }
   ],
   "source": [
    "full_copy['1 through 30 days After Discharge from Index Hospital Admission_inpatient'].isnull().sum()"
   ]
  },
  {
   "cell_type": "code",
   "execution_count": 1519,
   "metadata": {
    "collapsed": false
   },
   "outputs": [
    {
     "data": {
      "text/plain": [
       "551"
      ]
     },
     "execution_count": 1519,
     "metadata": {},
     "output_type": "execute_result"
    }
   ],
   "source": [
    "len(full[full['CAUTI_Score'] == 0])"
   ]
  },
  {
   "cell_type": "code",
   "execution_count": 1514,
   "metadata": {
    "collapsed": false
   },
   "outputs": [
    {
     "data": {
      "text/plain": [
       "551"
      ]
     },
     "execution_count": 1514,
     "metadata": {},
     "output_type": "execute_result"
    }
   ],
   "source": [
    "full_copy['CAUTI_Score'].isnull().sum() # THere should be 551 nulls here now"
   ]
  },
  {
   "cell_type": "code",
   "execution_count": 1515,
   "metadata": {
    "collapsed": false
   },
   "outputs": [
    {
     "data": {
      "text/plain": [
       "0"
      ]
     },
     "execution_count": 1515,
     "metadata": {},
     "output_type": "execute_result"
    }
   ],
   "source": [
    "full_copy['READM_30_AMI'].isnull().sum() #Good, the zeros in the target column shouldn't be replaced"
   ]
  },
  {
   "cell_type": "code",
   "execution_count": 1501,
   "metadata": {
    "collapsed": false
   },
   "outputs": [
    {
     "data": {
      "text/html": [
       "<div>\n",
       "<table border=\"1\" class=\"dataframe\">\n",
       "  <thead>\n",
       "    <tr style=\"text-align: right;\">\n",
       "      <th></th>\n",
       "      <th>Hospital Name</th>\n",
       "      <th>State</th>\n",
       "      <th>COMP_HIP_KNEE</th>\n",
       "      <th>PSI_12_POSTOP_PULMEMB_DVT</th>\n",
       "      <th>PSI_13_POST_SEPSIS</th>\n",
       "      <th>PSI_14_POSTOP_DEHIS</th>\n",
       "      <th>PSI_15_ACC_LAC</th>\n",
       "      <th>PSI_3_ULCER</th>\n",
       "      <th>PSI_4_SURG_COMP</th>\n",
       "      <th>PSI_6_IAT_PTX</th>\n",
       "      <th>...</th>\n",
       "      <th>H_COMP_7_STAR_RATING</th>\n",
       "      <th>H_RECMND_STAR_RATING</th>\n",
       "      <th>READM_30_AMI</th>\n",
       "      <th>READM_30_CABG</th>\n",
       "      <th>READM_30_COPD</th>\n",
       "      <th>READM_30_HF</th>\n",
       "      <th>READM_30_HIP_KNEE</th>\n",
       "      <th>READM_30_HOSP_WIDE</th>\n",
       "      <th>READM_30_PN</th>\n",
       "      <th>READM_30_STK</th>\n",
       "    </tr>\n",
       "  </thead>\n",
       "  <tbody>\n",
       "    <tr>\n",
       "      <th>0</th>\n",
       "      <td>ABBEVILLE GENERAL HOSPITAL</td>\n",
       "      <td>LA</td>\n",
       "      <td>3.0</td>\n",
       "      <td>6.51</td>\n",
       "      <td>NaN</td>\n",
       "      <td>2.28</td>\n",
       "      <td>1.69</td>\n",
       "      <td>0.35</td>\n",
       "      <td>NaN</td>\n",
       "      <td>0.39</td>\n",
       "      <td>...</td>\n",
       "      <td>4.0</td>\n",
       "      <td>1.0</td>\n",
       "      <td>NaN</td>\n",
       "      <td>NaN</td>\n",
       "      <td>19.1</td>\n",
       "      <td>24.6</td>\n",
       "      <td>4.2</td>\n",
       "      <td>16.0</td>\n",
       "      <td>17.8</td>\n",
       "      <td>NaN</td>\n",
       "    </tr>\n",
       "    <tr>\n",
       "      <th>1</th>\n",
       "      <td>ABBOTT NORTHWESTERN HOSPITAL</td>\n",
       "      <td>MN</td>\n",
       "      <td>2.5</td>\n",
       "      <td>5.23</td>\n",
       "      <td>11.26</td>\n",
       "      <td>1.78</td>\n",
       "      <td>1.96</td>\n",
       "      <td>0.10</td>\n",
       "      <td>124.52</td>\n",
       "      <td>0.32</td>\n",
       "      <td>...</td>\n",
       "      <td>4.0</td>\n",
       "      <td>5.0</td>\n",
       "      <td>16.8</td>\n",
       "      <td>13.4</td>\n",
       "      <td>20.4</td>\n",
       "      <td>22.5</td>\n",
       "      <td>4.4</td>\n",
       "      <td>15.0</td>\n",
       "      <td>19.6</td>\n",
       "      <td>13.7</td>\n",
       "    </tr>\n",
       "    <tr>\n",
       "      <th>2</th>\n",
       "      <td>ABILENE REGIONAL MEDICAL CENTER</td>\n",
       "      <td>TX</td>\n",
       "      <td>3.1</td>\n",
       "      <td>3.43</td>\n",
       "      <td>6.36</td>\n",
       "      <td>2.21</td>\n",
       "      <td>1.17</td>\n",
       "      <td>0.16</td>\n",
       "      <td>138.47</td>\n",
       "      <td>0.40</td>\n",
       "      <td>...</td>\n",
       "      <td>2.0</td>\n",
       "      <td>3.0</td>\n",
       "      <td>16.4</td>\n",
       "      <td>15.0</td>\n",
       "      <td>18.3</td>\n",
       "      <td>22.4</td>\n",
       "      <td>4.0</td>\n",
       "      <td>14.5</td>\n",
       "      <td>15.5</td>\n",
       "      <td>13.5</td>\n",
       "    </tr>\n",
       "    <tr>\n",
       "      <th>3</th>\n",
       "      <td>ABINGTON MEMORIAL HOSPITAL</td>\n",
       "      <td>PA</td>\n",
       "      <td>4.3</td>\n",
       "      <td>8.47</td>\n",
       "      <td>10.30</td>\n",
       "      <td>3.59</td>\n",
       "      <td>1.29</td>\n",
       "      <td>1.09</td>\n",
       "      <td>153.64</td>\n",
       "      <td>0.32</td>\n",
       "      <td>...</td>\n",
       "      <td>3.0</td>\n",
       "      <td>3.0</td>\n",
       "      <td>18.1</td>\n",
       "      <td>13.9</td>\n",
       "      <td>22.8</td>\n",
       "      <td>21.6</td>\n",
       "      <td>5.4</td>\n",
       "      <td>16.2</td>\n",
       "      <td>16.2</td>\n",
       "      <td>12.3</td>\n",
       "    </tr>\n",
       "    <tr>\n",
       "      <th>4</th>\n",
       "      <td>ABRAZO CENTRAL CAMPUS</td>\n",
       "      <td>AZ</td>\n",
       "      <td>2.7</td>\n",
       "      <td>3.48</td>\n",
       "      <td>9.23</td>\n",
       "      <td>2.16</td>\n",
       "      <td>1.31</td>\n",
       "      <td>0.21</td>\n",
       "      <td>138.09</td>\n",
       "      <td>0.51</td>\n",
       "      <td>...</td>\n",
       "      <td>1.0</td>\n",
       "      <td>2.0</td>\n",
       "      <td>16.1</td>\n",
       "      <td>14.0</td>\n",
       "      <td>19.6</td>\n",
       "      <td>21.8</td>\n",
       "      <td>4.8</td>\n",
       "      <td>16.1</td>\n",
       "      <td>17.6</td>\n",
       "      <td>12.0</td>\n",
       "    </tr>\n",
       "  </tbody>\n",
       "</table>\n",
       "<p>5 rows × 71 columns</p>\n",
       "</div>"
      ],
      "text/plain": [
       "                     Hospital Name State  COMP_HIP_KNEE  \\\n",
       "0       ABBEVILLE GENERAL HOSPITAL    LA            3.0   \n",
       "1     ABBOTT NORTHWESTERN HOSPITAL    MN            2.5   \n",
       "2  ABILENE REGIONAL MEDICAL CENTER    TX            3.1   \n",
       "3       ABINGTON MEMORIAL HOSPITAL    PA            4.3   \n",
       "4            ABRAZO CENTRAL CAMPUS    AZ            2.7   \n",
       "\n",
       "   PSI_12_POSTOP_PULMEMB_DVT  PSI_13_POST_SEPSIS  PSI_14_POSTOP_DEHIS  \\\n",
       "0                       6.51                 NaN                 2.28   \n",
       "1                       5.23               11.26                 1.78   \n",
       "2                       3.43                6.36                 2.21   \n",
       "3                       8.47               10.30                 3.59   \n",
       "4                       3.48                9.23                 2.16   \n",
       "\n",
       "   PSI_15_ACC_LAC  PSI_3_ULCER  PSI_4_SURG_COMP  PSI_6_IAT_PTX      ...       \\\n",
       "0            1.69         0.35              NaN           0.39      ...        \n",
       "1            1.96         0.10           124.52           0.32      ...        \n",
       "2            1.17         0.16           138.47           0.40      ...        \n",
       "3            1.29         1.09           153.64           0.32      ...        \n",
       "4            1.31         0.21           138.09           0.51      ...        \n",
       "\n",
       "   H_COMP_7_STAR_RATING  H_RECMND_STAR_RATING  READM_30_AMI  READM_30_CABG  \\\n",
       "0                   4.0                   1.0           NaN            NaN   \n",
       "1                   4.0                   5.0          16.8           13.4   \n",
       "2                   2.0                   3.0          16.4           15.0   \n",
       "3                   3.0                   3.0          18.1           13.9   \n",
       "4                   1.0                   2.0          16.1           14.0   \n",
       "\n",
       "   READM_30_COPD  READM_30_HF  READM_30_HIP_KNEE  READM_30_HOSP_WIDE  \\\n",
       "0           19.1         24.6                4.2                16.0   \n",
       "1           20.4         22.5                4.4                15.0   \n",
       "2           18.3         22.4                4.0                14.5   \n",
       "3           22.8         21.6                5.4                16.2   \n",
       "4           19.6         21.8                4.8                16.1   \n",
       "\n",
       "   READM_30_PN  READM_30_STK  \n",
       "0         17.8           NaN  \n",
       "1         19.6          13.7  \n",
       "2         15.5          13.5  \n",
       "3         16.2          12.3  \n",
       "4         17.6          12.0  \n",
       "\n",
       "[5 rows x 71 columns]"
      ]
     },
     "execution_count": 1501,
     "metadata": {},
     "output_type": "execute_result"
    }
   ],
   "source": [
    "full_copy.head()"
   ]
  },
  {
   "cell_type": "code",
   "execution_count": 1520,
   "metadata": {
    "collapsed": false
   },
   "outputs": [],
   "source": [
    "#filling nans with imputed mean\n",
    "for col in list(full_copy.columns):\n",
    "    if col in cols_dont_fill_0:\n",
    "        pass\n",
    "    else:\n",
    "        full_copy[col] = full_copy.loc[:,col].fillna(full_copy[col].mean())"
   ]
  },
  {
   "cell_type": "code",
   "execution_count": 1521,
   "metadata": {
    "collapsed": false
   },
   "outputs": [
    {
     "data": {
      "text/html": [
       "<div>\n",
       "<table border=\"1\" class=\"dataframe\">\n",
       "  <thead>\n",
       "    <tr style=\"text-align: right;\">\n",
       "      <th></th>\n",
       "      <th>Hospital Name</th>\n",
       "      <th>State</th>\n",
       "      <th>COMP_HIP_KNEE</th>\n",
       "      <th>PSI_12_POSTOP_PULMEMB_DVT</th>\n",
       "      <th>PSI_13_POST_SEPSIS</th>\n",
       "      <th>PSI_14_POSTOP_DEHIS</th>\n",
       "      <th>PSI_15_ACC_LAC</th>\n",
       "      <th>PSI_3_ULCER</th>\n",
       "      <th>PSI_4_SURG_COMP</th>\n",
       "      <th>PSI_6_IAT_PTX</th>\n",
       "      <th>...</th>\n",
       "      <th>H_COMP_7_STAR_RATING</th>\n",
       "      <th>H_RECMND_STAR_RATING</th>\n",
       "      <th>READM_30_AMI</th>\n",
       "      <th>READM_30_CABG</th>\n",
       "      <th>READM_30_COPD</th>\n",
       "      <th>READM_30_HF</th>\n",
       "      <th>READM_30_HIP_KNEE</th>\n",
       "      <th>READM_30_HOSP_WIDE</th>\n",
       "      <th>READM_30_PN</th>\n",
       "      <th>READM_30_STK</th>\n",
       "    </tr>\n",
       "  </thead>\n",
       "  <tbody>\n",
       "    <tr>\n",
       "      <th>0</th>\n",
       "      <td>ABBEVILLE GENERAL HOSPITAL</td>\n",
       "      <td>LA</td>\n",
       "      <td>3.0</td>\n",
       "      <td>6.51</td>\n",
       "      <td>10.238135</td>\n",
       "      <td>2.28</td>\n",
       "      <td>1.69</td>\n",
       "      <td>0.35</td>\n",
       "      <td>136.591644</td>\n",
       "      <td>0.39</td>\n",
       "      <td>...</td>\n",
       "      <td>4.0</td>\n",
       "      <td>1.0</td>\n",
       "      <td>0.0</td>\n",
       "      <td>0.0</td>\n",
       "      <td>19.1</td>\n",
       "      <td>24.6</td>\n",
       "      <td>4.2</td>\n",
       "      <td>16.0</td>\n",
       "      <td>17.8</td>\n",
       "      <td>0.0</td>\n",
       "    </tr>\n",
       "    <tr>\n",
       "      <th>1</th>\n",
       "      <td>ABBOTT NORTHWESTERN HOSPITAL</td>\n",
       "      <td>MN</td>\n",
       "      <td>2.5</td>\n",
       "      <td>5.23</td>\n",
       "      <td>11.260000</td>\n",
       "      <td>1.78</td>\n",
       "      <td>1.96</td>\n",
       "      <td>0.10</td>\n",
       "      <td>124.520000</td>\n",
       "      <td>0.32</td>\n",
       "      <td>...</td>\n",
       "      <td>4.0</td>\n",
       "      <td>5.0</td>\n",
       "      <td>16.8</td>\n",
       "      <td>13.4</td>\n",
       "      <td>20.4</td>\n",
       "      <td>22.5</td>\n",
       "      <td>4.4</td>\n",
       "      <td>15.0</td>\n",
       "      <td>19.6</td>\n",
       "      <td>13.7</td>\n",
       "    </tr>\n",
       "    <tr>\n",
       "      <th>2</th>\n",
       "      <td>ABILENE REGIONAL MEDICAL CENTER</td>\n",
       "      <td>TX</td>\n",
       "      <td>3.1</td>\n",
       "      <td>3.43</td>\n",
       "      <td>6.360000</td>\n",
       "      <td>2.21</td>\n",
       "      <td>1.17</td>\n",
       "      <td>0.16</td>\n",
       "      <td>138.470000</td>\n",
       "      <td>0.40</td>\n",
       "      <td>...</td>\n",
       "      <td>2.0</td>\n",
       "      <td>3.0</td>\n",
       "      <td>16.4</td>\n",
       "      <td>15.0</td>\n",
       "      <td>18.3</td>\n",
       "      <td>22.4</td>\n",
       "      <td>4.0</td>\n",
       "      <td>14.5</td>\n",
       "      <td>15.5</td>\n",
       "      <td>13.5</td>\n",
       "    </tr>\n",
       "    <tr>\n",
       "      <th>3</th>\n",
       "      <td>ABINGTON MEMORIAL HOSPITAL</td>\n",
       "      <td>PA</td>\n",
       "      <td>4.3</td>\n",
       "      <td>8.47</td>\n",
       "      <td>10.300000</td>\n",
       "      <td>3.59</td>\n",
       "      <td>1.29</td>\n",
       "      <td>1.09</td>\n",
       "      <td>153.640000</td>\n",
       "      <td>0.32</td>\n",
       "      <td>...</td>\n",
       "      <td>3.0</td>\n",
       "      <td>3.0</td>\n",
       "      <td>18.1</td>\n",
       "      <td>13.9</td>\n",
       "      <td>22.8</td>\n",
       "      <td>21.6</td>\n",
       "      <td>5.4</td>\n",
       "      <td>16.2</td>\n",
       "      <td>16.2</td>\n",
       "      <td>12.3</td>\n",
       "    </tr>\n",
       "    <tr>\n",
       "      <th>4</th>\n",
       "      <td>ABRAZO CENTRAL CAMPUS</td>\n",
       "      <td>AZ</td>\n",
       "      <td>2.7</td>\n",
       "      <td>3.48</td>\n",
       "      <td>9.230000</td>\n",
       "      <td>2.16</td>\n",
       "      <td>1.31</td>\n",
       "      <td>0.21</td>\n",
       "      <td>138.090000</td>\n",
       "      <td>0.51</td>\n",
       "      <td>...</td>\n",
       "      <td>1.0</td>\n",
       "      <td>2.0</td>\n",
       "      <td>16.1</td>\n",
       "      <td>14.0</td>\n",
       "      <td>19.6</td>\n",
       "      <td>21.8</td>\n",
       "      <td>4.8</td>\n",
       "      <td>16.1</td>\n",
       "      <td>17.6</td>\n",
       "      <td>12.0</td>\n",
       "    </tr>\n",
       "  </tbody>\n",
       "</table>\n",
       "<p>5 rows × 71 columns</p>\n",
       "</div>"
      ],
      "text/plain": [
       "                     Hospital Name State  COMP_HIP_KNEE  \\\n",
       "0       ABBEVILLE GENERAL HOSPITAL    LA            3.0   \n",
       "1     ABBOTT NORTHWESTERN HOSPITAL    MN            2.5   \n",
       "2  ABILENE REGIONAL MEDICAL CENTER    TX            3.1   \n",
       "3       ABINGTON MEMORIAL HOSPITAL    PA            4.3   \n",
       "4            ABRAZO CENTRAL CAMPUS    AZ            2.7   \n",
       "\n",
       "   PSI_12_POSTOP_PULMEMB_DVT  PSI_13_POST_SEPSIS  PSI_14_POSTOP_DEHIS  \\\n",
       "0                       6.51           10.238135                 2.28   \n",
       "1                       5.23           11.260000                 1.78   \n",
       "2                       3.43            6.360000                 2.21   \n",
       "3                       8.47           10.300000                 3.59   \n",
       "4                       3.48            9.230000                 2.16   \n",
       "\n",
       "   PSI_15_ACC_LAC  PSI_3_ULCER  PSI_4_SURG_COMP  PSI_6_IAT_PTX      ...       \\\n",
       "0            1.69         0.35       136.591644           0.39      ...        \n",
       "1            1.96         0.10       124.520000           0.32      ...        \n",
       "2            1.17         0.16       138.470000           0.40      ...        \n",
       "3            1.29         1.09       153.640000           0.32      ...        \n",
       "4            1.31         0.21       138.090000           0.51      ...        \n",
       "\n",
       "   H_COMP_7_STAR_RATING  H_RECMND_STAR_RATING  READM_30_AMI  READM_30_CABG  \\\n",
       "0                   4.0                   1.0           0.0            0.0   \n",
       "1                   4.0                   5.0          16.8           13.4   \n",
       "2                   2.0                   3.0          16.4           15.0   \n",
       "3                   3.0                   3.0          18.1           13.9   \n",
       "4                   1.0                   2.0          16.1           14.0   \n",
       "\n",
       "   READM_30_COPD  READM_30_HF  READM_30_HIP_KNEE  READM_30_HOSP_WIDE  \\\n",
       "0           19.1         24.6                4.2                16.0   \n",
       "1           20.4         22.5                4.4                15.0   \n",
       "2           18.3         22.4                4.0                14.5   \n",
       "3           22.8         21.6                5.4                16.2   \n",
       "4           19.6         21.8                4.8                16.1   \n",
       "\n",
       "   READM_30_PN  READM_30_STK  \n",
       "0         17.8           0.0  \n",
       "1         19.6          13.7  \n",
       "2         15.5          13.5  \n",
       "3         16.2          12.3  \n",
       "4         17.6          12.0  \n",
       "\n",
       "[5 rows x 71 columns]"
      ]
     },
     "execution_count": 1521,
     "metadata": {},
     "output_type": "execute_result"
    }
   ],
   "source": [
    "full_copy.head()"
   ]
  },
  {
   "cell_type": "code",
   "execution_count": 1523,
   "metadata": {
    "collapsed": false
   },
   "outputs": [
    {
     "data": {
      "text/plain": [
       "0"
      ]
     },
     "execution_count": 1523,
     "metadata": {},
     "output_type": "execute_result"
    }
   ],
   "source": [
    "full_copy['READM_30_CABG'].isnull().sum() #Good still works"
   ]
  },
  {
   "cell_type": "code",
   "execution_count": 1524,
   "metadata": {
    "collapsed": false
   },
   "outputs": [
    {
     "name": "stdout",
     "output_type": "stream",
     "text": [
      "<class 'pandas.core.frame.DataFrame'>\n",
      "Int64Index: 2668 entries, 0 to 2667\n",
      "Data columns (total 71 columns):\n",
      "Hospital Name                                                                 2668 non-null object\n",
      "State                                                                         2668 non-null object\n",
      "COMP_HIP_KNEE                                                                 2668 non-null float64\n",
      "PSI_12_POSTOP_PULMEMB_DVT                                                     2668 non-null float64\n",
      "PSI_13_POST_SEPSIS                                                            2668 non-null float64\n",
      "PSI_14_POSTOP_DEHIS                                                           2668 non-null float64\n",
      "PSI_15_ACC_LAC                                                                2668 non-null float64\n",
      "PSI_3_ULCER                                                                   2668 non-null float64\n",
      "PSI_4_SURG_COMP                                                               2668 non-null float64\n",
      "PSI_6_IAT_PTX                                                                 2668 non-null float64\n",
      "PSI_7_CVCBI                                                                   2668 non-null float64\n",
      "PSI_8_POST_HIP                                                                2668 non-null float64\n",
      "PSI_90_SAFETY                                                                 2668 non-null float64\n",
      "COMP_HIP_KNEE_low                                                             2668 non-null float64\n",
      "PSI_12_POSTOP_PULMEMB_DVT_low                                                 2668 non-null float64\n",
      "PSI_13_POST_SEPSIS_low                                                        2668 non-null float64\n",
      "PSI_14_POSTOP_DEHIS_low                                                       2668 non-null float64\n",
      "PSI_15_ACC_LAC_low                                                            2668 non-null float64\n",
      "PSI_3_ULCER_low                                                               2668 non-null float64\n",
      "PSI_4_SURG_COMP_low                                                           2668 non-null float64\n",
      "PSI_6_IAT_PTX_low                                                             2668 non-null float64\n",
      "PSI_7_CVCBI_low                                                               2668 non-null float64\n",
      "PSI_8_POST_HIP_low                                                            2668 non-null float64\n",
      "PSI_90_SAFETY_low                                                             2668 non-null float64\n",
      "COMP_HIP_KNEE_high                                                            2668 non-null float64\n",
      "PSI_12_POSTOP_PULMEMB_DVT_high                                                2668 non-null float64\n",
      "PSI_13_POST_SEPSIS_high                                                       2668 non-null float64\n",
      "PSI_14_POSTOP_DEHIS_high                                                      2668 non-null float64\n",
      "PSI_15_ACC_LAC_high                                                           2668 non-null float64\n",
      "PSI_3_ULCER_high                                                              2668 non-null float64\n",
      "PSI_4_SURG_COMP_high                                                          2668 non-null float64\n",
      "PSI_6_IAT_PTX_high                                                            2668 non-null float64\n",
      "PSI_7_CVCBI_high                                                              2668 non-null float64\n",
      "PSI_8_POST_HIP_high                                                           2668 non-null float64\n",
      "PSI_90_SAFETY_high                                                            2668 non-null float64\n",
      "1 through 30 days After Discharge from Index Hospital Admission_inpatient     2668 non-null float64\n",
      "1 to 3 days Prior to Index Hospital Admission_inpatient                       2668 non-null float64\n",
      "During Index Hospital Admission_inpatient                                     2668 non-null float64\n",
      "1 through 30 days After Discharge from Index Hospital Admission_outpatient    2668 non-null float64\n",
      "1 to 3 days Prior to Index Hospital Admission_outpatient                      2668 non-null float64\n",
      "AHRQ_PSI_90_Score                                                             2668 non-null float64\n",
      "CLABSI_Score                                                                  2668 non-null float64\n",
      "CAUTI_Score                                                                   2668 non-null float64\n",
      "SSI_Score                                                                     2668 non-null float64\n",
      "MRSA_Score                                                                    2668 non-null float64\n",
      "CDI_Score                                                                     2668 non-null float64\n",
      "PAYM_30_AMI                                                                   2668 non-null float64\n",
      "PAYM_30_HF                                                                    2668 non-null float64\n",
      "PAYM_30_PN                                                                    2668 non-null float64\n",
      "PAYM_30_AMI_low                                                               2668 non-null float64\n",
      "PAYM_30_HF_low                                                                2668 non-null float64\n",
      "PAYM_30_PN_low                                                                2668 non-null float64\n",
      "PAYM_30_AMI_high                                                              2668 non-null float64\n",
      "PAYM_30_HF_high                                                               2668 non-null float64\n",
      "PAYM_30_PN_high                                                               2668 non-null float64\n",
      "H_COMP_1_STAR_RATING                                                          2668 non-null float64\n",
      "H_COMP_2_STAR_RATING                                                          2668 non-null float64\n",
      "H_COMP_3_STAR_RATING                                                          2668 non-null float64\n",
      "H_COMP_4_STAR_RATING                                                          2668 non-null float64\n",
      "H_COMP_5_STAR_RATING                                                          2668 non-null float64\n",
      "H_COMP_6_STAR_RATING                                                          2668 non-null float64\n",
      "H_COMP_7_STAR_RATING                                                          2668 non-null float64\n",
      "H_RECMND_STAR_RATING                                                          2668 non-null float64\n",
      "READM_30_AMI                                                                  2668 non-null float64\n",
      "READM_30_CABG                                                                 2668 non-null float64\n",
      "READM_30_COPD                                                                 2668 non-null float64\n",
      "READM_30_HF                                                                   2668 non-null float64\n",
      "READM_30_HIP_KNEE                                                             2668 non-null float64\n",
      "READM_30_HOSP_WIDE                                                            2668 non-null float64\n",
      "READM_30_PN                                                                   2668 non-null float64\n",
      "READM_30_STK                                                                  2668 non-null float64\n",
      "dtypes: float64(69), object(2)\n",
      "memory usage: 1.5+ MB\n"
     ]
    }
   ],
   "source": [
    "full_copy.info()"
   ]
  },
  {
   "cell_type": "code",
   "execution_count": 1540,
   "metadata": {
    "collapsed": false
   },
   "outputs": [],
   "source": [
    "full_imputed = full_copy\n",
    "imputed_data_norm = full_imputed.iloc[:,2:]\n",
    "full_imputed_norm = (imputed_data_norm - imputed_data_norm.mean()) /  (imputed_data_norm.std()) #normalizing data"
   ]
  },
  {
   "cell_type": "code",
   "execution_count": 1541,
   "metadata": {
    "collapsed": false
   },
   "outputs": [
    {
     "data": {
      "text/html": [
       "<div>\n",
       "<table border=\"1\" class=\"dataframe\">\n",
       "  <thead>\n",
       "    <tr style=\"text-align: right;\">\n",
       "      <th></th>\n",
       "      <th>COMP_HIP_KNEE</th>\n",
       "      <th>PSI_12_POSTOP_PULMEMB_DVT</th>\n",
       "      <th>PSI_13_POST_SEPSIS</th>\n",
       "      <th>PSI_14_POSTOP_DEHIS</th>\n",
       "      <th>PSI_15_ACC_LAC</th>\n",
       "      <th>PSI_3_ULCER</th>\n",
       "      <th>PSI_4_SURG_COMP</th>\n",
       "      <th>PSI_6_IAT_PTX</th>\n",
       "      <th>PSI_7_CVCBI</th>\n",
       "      <th>PSI_8_POST_HIP</th>\n",
       "      <th>...</th>\n",
       "      <th>H_COMP_7_STAR_RATING</th>\n",
       "      <th>H_RECMND_STAR_RATING</th>\n",
       "      <th>READM_30_AMI</th>\n",
       "      <th>READM_30_CABG</th>\n",
       "      <th>READM_30_COPD</th>\n",
       "      <th>READM_30_HF</th>\n",
       "      <th>READM_30_HIP_KNEE</th>\n",
       "      <th>READM_30_HOSP_WIDE</th>\n",
       "      <th>READM_30_PN</th>\n",
       "      <th>READM_30_STK</th>\n",
       "    </tr>\n",
       "  </thead>\n",
       "  <tbody>\n",
       "    <tr>\n",
       "      <th>0</th>\n",
       "      <td>-0.087153</td>\n",
       "      <td>0.877855</td>\n",
       "      <td>5.684610e-14</td>\n",
       "      <td>-0.109863</td>\n",
       "      <td>0.539315</td>\n",
       "      <td>-0.208144</td>\n",
       "      <td>3.795426e-14</td>\n",
       "      <td>-0.194693</td>\n",
       "      <td>-0.115466</td>\n",
       "      <td>0.053412</td>\n",
       "      <td>...</td>\n",
       "      <td>1.146366</td>\n",
       "      <td>-2.007962</td>\n",
       "      <td>-1.395495</td>\n",
       "      <td>-0.667697</td>\n",
       "      <td>0.164189</td>\n",
       "      <td>0.706534</td>\n",
       "      <td>0.332070</td>\n",
       "      <td>0.325194</td>\n",
       "      <td>0.376877</td>\n",
       "      <td>-1.776802</td>\n",
       "    </tr>\n",
       "    <tr>\n",
       "      <th>1</th>\n",
       "      <td>-1.068678</td>\n",
       "      <td>0.137749</td>\n",
       "      <td>5.450206e-01</td>\n",
       "      <td>-1.562434</td>\n",
       "      <td>1.112163</td>\n",
       "      <td>-0.708403</td>\n",
       "      <td>-8.484439e-01</td>\n",
       "      <td>-1.108046</td>\n",
       "      <td>-0.794907</td>\n",
       "      <td>0.053412</td>\n",
       "      <td>...</td>\n",
       "      <td>1.146366</td>\n",
       "      <td>1.884814</td>\n",
       "      <td>0.699767</td>\n",
       "      <td>1.336769</td>\n",
       "      <td>0.381703</td>\n",
       "      <td>0.381220</td>\n",
       "      <td>0.431423</td>\n",
       "      <td>-0.292910</td>\n",
       "      <td>0.781138</td>\n",
       "      <td>0.755292</td>\n",
       "    </tr>\n",
       "    <tr>\n",
       "      <th>2</th>\n",
       "      <td>0.109152</td>\n",
       "      <td>-0.903026</td>\n",
       "      <td>-2.068436e+00</td>\n",
       "      <td>-0.313223</td>\n",
       "      <td>-0.563948</td>\n",
       "      <td>-0.588341</td>\n",
       "      <td>1.320184e-01</td>\n",
       "      <td>-0.064214</td>\n",
       "      <td>-0.659019</td>\n",
       "      <td>0.053412</td>\n",
       "      <td>...</td>\n",
       "      <td>-0.879900</td>\n",
       "      <td>-0.061574</td>\n",
       "      <td>0.649880</td>\n",
       "      <td>1.576109</td>\n",
       "      <td>0.030335</td>\n",
       "      <td>0.365729</td>\n",
       "      <td>0.232717</td>\n",
       "      <td>-0.601962</td>\n",
       "      <td>-0.139678</td>\n",
       "      <td>0.718328</td>\n",
       "    </tr>\n",
       "    <tr>\n",
       "      <th>3</th>\n",
       "      <td>2.464812</td>\n",
       "      <td>2.011144</td>\n",
       "      <td>3.299643e-02</td>\n",
       "      <td>3.695873</td>\n",
       "      <td>-0.309349</td>\n",
       "      <td>1.272625</td>\n",
       "      <td>1.198227e+00</td>\n",
       "      <td>-1.108046</td>\n",
       "      <td>-0.523131</td>\n",
       "      <td>0.053412</td>\n",
       "      <td>...</td>\n",
       "      <td>0.133233</td>\n",
       "      <td>-0.061574</td>\n",
       "      <td>0.861900</td>\n",
       "      <td>1.411563</td>\n",
       "      <td>0.783267</td>\n",
       "      <td>0.241800</td>\n",
       "      <td>0.928190</td>\n",
       "      <td>0.448814</td>\n",
       "      <td>0.017534</td>\n",
       "      <td>0.496538</td>\n",
       "    </tr>\n",
       "    <tr>\n",
       "      <th>4</th>\n",
       "      <td>-0.676068</td>\n",
       "      <td>-0.874116</td>\n",
       "      <td>-5.376972e-01</td>\n",
       "      <td>-0.458480</td>\n",
       "      <td>-0.266916</td>\n",
       "      <td>-0.488289</td>\n",
       "      <td>1.053105e-01</td>\n",
       "      <td>1.371056</td>\n",
       "      <td>0.563976</td>\n",
       "      <td>0.053412</td>\n",
       "      <td>...</td>\n",
       "      <td>-1.893033</td>\n",
       "      <td>-1.034768</td>\n",
       "      <td>0.612464</td>\n",
       "      <td>1.426522</td>\n",
       "      <td>0.247848</td>\n",
       "      <td>0.272782</td>\n",
       "      <td>0.630130</td>\n",
       "      <td>0.387004</td>\n",
       "      <td>0.331959</td>\n",
       "      <td>0.441091</td>\n",
       "    </tr>\n",
       "  </tbody>\n",
       "</table>\n",
       "<p>5 rows × 69 columns</p>\n",
       "</div>"
      ],
      "text/plain": [
       "   COMP_HIP_KNEE  PSI_12_POSTOP_PULMEMB_DVT  PSI_13_POST_SEPSIS  \\\n",
       "0      -0.087153                   0.877855        5.684610e-14   \n",
       "1      -1.068678                   0.137749        5.450206e-01   \n",
       "2       0.109152                  -0.903026       -2.068436e+00   \n",
       "3       2.464812                   2.011144        3.299643e-02   \n",
       "4      -0.676068                  -0.874116       -5.376972e-01   \n",
       "\n",
       "   PSI_14_POSTOP_DEHIS  PSI_15_ACC_LAC  PSI_3_ULCER  PSI_4_SURG_COMP  \\\n",
       "0            -0.109863        0.539315    -0.208144     3.795426e-14   \n",
       "1            -1.562434        1.112163    -0.708403    -8.484439e-01   \n",
       "2            -0.313223       -0.563948    -0.588341     1.320184e-01   \n",
       "3             3.695873       -0.309349     1.272625     1.198227e+00   \n",
       "4            -0.458480       -0.266916    -0.488289     1.053105e-01   \n",
       "\n",
       "   PSI_6_IAT_PTX  PSI_7_CVCBI  PSI_8_POST_HIP      ...       \\\n",
       "0      -0.194693    -0.115466        0.053412      ...        \n",
       "1      -1.108046    -0.794907        0.053412      ...        \n",
       "2      -0.064214    -0.659019        0.053412      ...        \n",
       "3      -1.108046    -0.523131        0.053412      ...        \n",
       "4       1.371056     0.563976        0.053412      ...        \n",
       "\n",
       "   H_COMP_7_STAR_RATING  H_RECMND_STAR_RATING  READM_30_AMI  READM_30_CABG  \\\n",
       "0              1.146366             -2.007962     -1.395495      -0.667697   \n",
       "1              1.146366              1.884814      0.699767       1.336769   \n",
       "2             -0.879900             -0.061574      0.649880       1.576109   \n",
       "3              0.133233             -0.061574      0.861900       1.411563   \n",
       "4             -1.893033             -1.034768      0.612464       1.426522   \n",
       "\n",
       "   READM_30_COPD  READM_30_HF  READM_30_HIP_KNEE  READM_30_HOSP_WIDE  \\\n",
       "0       0.164189     0.706534           0.332070            0.325194   \n",
       "1       0.381703     0.381220           0.431423           -0.292910   \n",
       "2       0.030335     0.365729           0.232717           -0.601962   \n",
       "3       0.783267     0.241800           0.928190            0.448814   \n",
       "4       0.247848     0.272782           0.630130            0.387004   \n",
       "\n",
       "   READM_30_PN  READM_30_STK  \n",
       "0     0.376877     -1.776802  \n",
       "1     0.781138      0.755292  \n",
       "2    -0.139678      0.718328  \n",
       "3     0.017534      0.496538  \n",
       "4     0.331959      0.441091  \n",
       "\n",
       "[5 rows x 69 columns]"
      ]
     },
     "execution_count": 1541,
     "metadata": {},
     "output_type": "execute_result"
    }
   ],
   "source": [
    "full_imputed_norm.head()"
   ]
  },
  {
   "cell_type": "code",
   "execution_count": 1542,
   "metadata": {
    "collapsed": false
   },
   "outputs": [],
   "source": [
    "full_imputed_norm.insert(0, 'Hospital Name', full_imputed['Hospital Name'])\n",
    "full_imputed_norm.insert(1, 'State', full_imputed['State'])"
   ]
  },
  {
   "cell_type": "code",
   "execution_count": 1543,
   "metadata": {
    "collapsed": false
   },
   "outputs": [
    {
     "data": {
      "text/html": [
       "<div>\n",
       "<table border=\"1\" class=\"dataframe\">\n",
       "  <thead>\n",
       "    <tr style=\"text-align: right;\">\n",
       "      <th></th>\n",
       "      <th>Hospital Name</th>\n",
       "      <th>State</th>\n",
       "      <th>COMP_HIP_KNEE</th>\n",
       "      <th>PSI_12_POSTOP_PULMEMB_DVT</th>\n",
       "      <th>PSI_13_POST_SEPSIS</th>\n",
       "      <th>PSI_14_POSTOP_DEHIS</th>\n",
       "      <th>PSI_15_ACC_LAC</th>\n",
       "      <th>PSI_3_ULCER</th>\n",
       "      <th>PSI_4_SURG_COMP</th>\n",
       "      <th>PSI_6_IAT_PTX</th>\n",
       "      <th>...</th>\n",
       "      <th>H_COMP_7_STAR_RATING</th>\n",
       "      <th>H_RECMND_STAR_RATING</th>\n",
       "      <th>READM_30_AMI</th>\n",
       "      <th>READM_30_CABG</th>\n",
       "      <th>READM_30_COPD</th>\n",
       "      <th>READM_30_HF</th>\n",
       "      <th>READM_30_HIP_KNEE</th>\n",
       "      <th>READM_30_HOSP_WIDE</th>\n",
       "      <th>READM_30_PN</th>\n",
       "      <th>READM_30_STK</th>\n",
       "    </tr>\n",
       "  </thead>\n",
       "  <tbody>\n",
       "    <tr>\n",
       "      <th>0</th>\n",
       "      <td>ABBEVILLE GENERAL HOSPITAL</td>\n",
       "      <td>LA</td>\n",
       "      <td>-0.087153</td>\n",
       "      <td>0.877855</td>\n",
       "      <td>5.684610e-14</td>\n",
       "      <td>-0.109863</td>\n",
       "      <td>0.539315</td>\n",
       "      <td>-0.208144</td>\n",
       "      <td>3.795426e-14</td>\n",
       "      <td>-0.194693</td>\n",
       "      <td>...</td>\n",
       "      <td>1.146366</td>\n",
       "      <td>-2.007962</td>\n",
       "      <td>-1.395495</td>\n",
       "      <td>-0.667697</td>\n",
       "      <td>0.164189</td>\n",
       "      <td>0.706534</td>\n",
       "      <td>0.332070</td>\n",
       "      <td>0.325194</td>\n",
       "      <td>0.376877</td>\n",
       "      <td>-1.776802</td>\n",
       "    </tr>\n",
       "    <tr>\n",
       "      <th>1</th>\n",
       "      <td>ABBOTT NORTHWESTERN HOSPITAL</td>\n",
       "      <td>MN</td>\n",
       "      <td>-1.068678</td>\n",
       "      <td>0.137749</td>\n",
       "      <td>5.450206e-01</td>\n",
       "      <td>-1.562434</td>\n",
       "      <td>1.112163</td>\n",
       "      <td>-0.708403</td>\n",
       "      <td>-8.484439e-01</td>\n",
       "      <td>-1.108046</td>\n",
       "      <td>...</td>\n",
       "      <td>1.146366</td>\n",
       "      <td>1.884814</td>\n",
       "      <td>0.699767</td>\n",
       "      <td>1.336769</td>\n",
       "      <td>0.381703</td>\n",
       "      <td>0.381220</td>\n",
       "      <td>0.431423</td>\n",
       "      <td>-0.292910</td>\n",
       "      <td>0.781138</td>\n",
       "      <td>0.755292</td>\n",
       "    </tr>\n",
       "    <tr>\n",
       "      <th>2</th>\n",
       "      <td>ABILENE REGIONAL MEDICAL CENTER</td>\n",
       "      <td>TX</td>\n",
       "      <td>0.109152</td>\n",
       "      <td>-0.903026</td>\n",
       "      <td>-2.068436e+00</td>\n",
       "      <td>-0.313223</td>\n",
       "      <td>-0.563948</td>\n",
       "      <td>-0.588341</td>\n",
       "      <td>1.320184e-01</td>\n",
       "      <td>-0.064214</td>\n",
       "      <td>...</td>\n",
       "      <td>-0.879900</td>\n",
       "      <td>-0.061574</td>\n",
       "      <td>0.649880</td>\n",
       "      <td>1.576109</td>\n",
       "      <td>0.030335</td>\n",
       "      <td>0.365729</td>\n",
       "      <td>0.232717</td>\n",
       "      <td>-0.601962</td>\n",
       "      <td>-0.139678</td>\n",
       "      <td>0.718328</td>\n",
       "    </tr>\n",
       "    <tr>\n",
       "      <th>3</th>\n",
       "      <td>ABINGTON MEMORIAL HOSPITAL</td>\n",
       "      <td>PA</td>\n",
       "      <td>2.464812</td>\n",
       "      <td>2.011144</td>\n",
       "      <td>3.299643e-02</td>\n",
       "      <td>3.695873</td>\n",
       "      <td>-0.309349</td>\n",
       "      <td>1.272625</td>\n",
       "      <td>1.198227e+00</td>\n",
       "      <td>-1.108046</td>\n",
       "      <td>...</td>\n",
       "      <td>0.133233</td>\n",
       "      <td>-0.061574</td>\n",
       "      <td>0.861900</td>\n",
       "      <td>1.411563</td>\n",
       "      <td>0.783267</td>\n",
       "      <td>0.241800</td>\n",
       "      <td>0.928190</td>\n",
       "      <td>0.448814</td>\n",
       "      <td>0.017534</td>\n",
       "      <td>0.496538</td>\n",
       "    </tr>\n",
       "    <tr>\n",
       "      <th>4</th>\n",
       "      <td>ABRAZO CENTRAL CAMPUS</td>\n",
       "      <td>AZ</td>\n",
       "      <td>-0.676068</td>\n",
       "      <td>-0.874116</td>\n",
       "      <td>-5.376972e-01</td>\n",
       "      <td>-0.458480</td>\n",
       "      <td>-0.266916</td>\n",
       "      <td>-0.488289</td>\n",
       "      <td>1.053105e-01</td>\n",
       "      <td>1.371056</td>\n",
       "      <td>...</td>\n",
       "      <td>-1.893033</td>\n",
       "      <td>-1.034768</td>\n",
       "      <td>0.612464</td>\n",
       "      <td>1.426522</td>\n",
       "      <td>0.247848</td>\n",
       "      <td>0.272782</td>\n",
       "      <td>0.630130</td>\n",
       "      <td>0.387004</td>\n",
       "      <td>0.331959</td>\n",
       "      <td>0.441091</td>\n",
       "    </tr>\n",
       "  </tbody>\n",
       "</table>\n",
       "<p>5 rows × 71 columns</p>\n",
       "</div>"
      ],
      "text/plain": [
       "                     Hospital Name State  COMP_HIP_KNEE  \\\n",
       "0       ABBEVILLE GENERAL HOSPITAL    LA      -0.087153   \n",
       "1     ABBOTT NORTHWESTERN HOSPITAL    MN      -1.068678   \n",
       "2  ABILENE REGIONAL MEDICAL CENTER    TX       0.109152   \n",
       "3       ABINGTON MEMORIAL HOSPITAL    PA       2.464812   \n",
       "4            ABRAZO CENTRAL CAMPUS    AZ      -0.676068   \n",
       "\n",
       "   PSI_12_POSTOP_PULMEMB_DVT  PSI_13_POST_SEPSIS  PSI_14_POSTOP_DEHIS  \\\n",
       "0                   0.877855        5.684610e-14            -0.109863   \n",
       "1                   0.137749        5.450206e-01            -1.562434   \n",
       "2                  -0.903026       -2.068436e+00            -0.313223   \n",
       "3                   2.011144        3.299643e-02             3.695873   \n",
       "4                  -0.874116       -5.376972e-01            -0.458480   \n",
       "\n",
       "   PSI_15_ACC_LAC  PSI_3_ULCER  PSI_4_SURG_COMP  PSI_6_IAT_PTX      ...       \\\n",
       "0        0.539315    -0.208144     3.795426e-14      -0.194693      ...        \n",
       "1        1.112163    -0.708403    -8.484439e-01      -1.108046      ...        \n",
       "2       -0.563948    -0.588341     1.320184e-01      -0.064214      ...        \n",
       "3       -0.309349     1.272625     1.198227e+00      -1.108046      ...        \n",
       "4       -0.266916    -0.488289     1.053105e-01       1.371056      ...        \n",
       "\n",
       "   H_COMP_7_STAR_RATING  H_RECMND_STAR_RATING  READM_30_AMI  READM_30_CABG  \\\n",
       "0              1.146366             -2.007962     -1.395495      -0.667697   \n",
       "1              1.146366              1.884814      0.699767       1.336769   \n",
       "2             -0.879900             -0.061574      0.649880       1.576109   \n",
       "3              0.133233             -0.061574      0.861900       1.411563   \n",
       "4             -1.893033             -1.034768      0.612464       1.426522   \n",
       "\n",
       "   READM_30_COPD  READM_30_HF  READM_30_HIP_KNEE  READM_30_HOSP_WIDE  \\\n",
       "0       0.164189     0.706534           0.332070            0.325194   \n",
       "1       0.381703     0.381220           0.431423           -0.292910   \n",
       "2       0.030335     0.365729           0.232717           -0.601962   \n",
       "3       0.783267     0.241800           0.928190            0.448814   \n",
       "4       0.247848     0.272782           0.630130            0.387004   \n",
       "\n",
       "   READM_30_PN  READM_30_STK  \n",
       "0     0.376877     -1.776802  \n",
       "1     0.781138      0.755292  \n",
       "2    -0.139678      0.718328  \n",
       "3     0.017534      0.496538  \n",
       "4     0.331959      0.441091  \n",
       "\n",
       "[5 rows x 71 columns]"
      ]
     },
     "execution_count": 1543,
     "metadata": {},
     "output_type": "execute_result"
    }
   ],
   "source": [
    "full_imputed_norm.head()"
   ]
  },
  {
   "cell_type": "markdown",
   "metadata": {},
   "source": [
    "#### Try linear regressor on a few states"
   ]
  },
  {
   "cell_type": "markdown",
   "metadata": {},
   "source": [
    "#### Normalized, including 0s"
   ]
  },
  {
   "cell_type": "code",
   "execution_count": 1566,
   "metadata": {
    "collapsed": false
   },
   "outputs": [
    {
     "data": {
      "text/plain": [
       "50"
      ]
     },
     "execution_count": 1566,
     "metadata": {},
     "output_type": "execute_result"
    }
   ],
   "source": [
    "len(full_norm.State.unique())"
   ]
  },
  {
   "cell_type": "code",
   "execution_count": 1567,
   "metadata": {
    "collapsed": false
   },
   "outputs": [],
   "source": [
    "trial_states = ['CA','FL','TX','IL']"
   ]
  },
  {
   "cell_type": "code",
   "execution_count": 1568,
   "metadata": {
    "collapsed": false
   },
   "outputs": [],
   "source": [
    "trial_state_dbs = {} # Dict of state by state datasets\n",
    "full_hf = full_norm[features_hf_cols]\n",
    "for i in state: \n",
    "    state_dbs[i] = full_norm[full_norm['State'] == i]"
   ]
  },
  {
   "cell_type": "code",
   "execution_count": 1631,
   "metadata": {
    "collapsed": false
   },
   "outputs": [],
   "source": [
    "trial_state_features = {}\n",
    "trial_state_target = {}\n",
    "for i in trial_states:\n",
    "\n",
    "    trial_state_features[i] = full_norm[full_norm['State'] == i][features_hf_cols]\n",
    "    trial_state_target[i] = full_norm[full_norm['State'] == i].READM_30_HF\n",
    "# These features dont contain the states or hospital names"
   ]
  },
  {
   "cell_type": "code",
   "execution_count": 1570,
   "metadata": {
    "collapsed": false
   },
   "outputs": [
    {
     "data": {
      "text/html": [
       "<div>\n",
       "<table border=\"1\" class=\"dataframe\">\n",
       "  <thead>\n",
       "    <tr style=\"text-align: right;\">\n",
       "      <th></th>\n",
       "      <th>PSI_4_SURG_COMP</th>\n",
       "      <th>PSI_12_POSTOP_PULMEMB_DVT</th>\n",
       "      <th>1 through 30 days After Discharge from Index Hospital Admission_inpatient</th>\n",
       "      <th>1 through 30 days After Discharge from Index Hospital Admission_outpatient</th>\n",
       "      <th>During Index Hospital Admission_inpatient</th>\n",
       "      <th>AHRQ_PSI_90_Score</th>\n",
       "      <th>MRSA_Score</th>\n",
       "      <th>CAUTI_Score</th>\n",
       "      <th>CDI_Score</th>\n",
       "      <th>PAYM_30_HF</th>\n",
       "      <th>PAYM_30_HF_low</th>\n",
       "      <th>PAYM_30_HF_high</th>\n",
       "    </tr>\n",
       "  </thead>\n",
       "  <tbody>\n",
       "    <tr>\n",
       "      <th>16</th>\n",
       "      <td>1.207205</td>\n",
       "      <td>-0.368707</td>\n",
       "      <td>-0.702941</td>\n",
       "      <td>0.780635</td>\n",
       "      <td>-0.299876</td>\n",
       "      <td>-0.829805</td>\n",
       "      <td>0.026313</td>\n",
       "      <td>1.682143</td>\n",
       "      <td>-0.102107</td>\n",
       "      <td>-0.121634</td>\n",
       "      <td>-0.046327</td>\n",
       "      <td>-0.189601</td>\n",
       "    </tr>\n",
       "    <tr>\n",
       "      <th>18</th>\n",
       "      <td>-1.111388</td>\n",
       "      <td>-2.171659</td>\n",
       "      <td>-1.291351</td>\n",
       "      <td>-0.916583</td>\n",
       "      <td>-1.429009</td>\n",
       "      <td>0.201845</td>\n",
       "      <td>-1.124552</td>\n",
       "      <td>-1.242751</td>\n",
       "      <td>-1.109830</td>\n",
       "      <td>-2.950356</td>\n",
       "      <td>-2.914035</td>\n",
       "      <td>-2.961179</td>\n",
       "    </tr>\n",
       "    <tr>\n",
       "      <th>29</th>\n",
       "      <td>0.787048</td>\n",
       "      <td>-0.508833</td>\n",
       "      <td>0.383353</td>\n",
       "      <td>-0.109096</td>\n",
       "      <td>-0.008931</td>\n",
       "      <td>1.577378</td>\n",
       "      <td>0.314029</td>\n",
       "      <td>-0.365283</td>\n",
       "      <td>1.577432</td>\n",
       "      <td>0.715972</td>\n",
       "      <td>0.763262</td>\n",
       "      <td>0.665441</td>\n",
       "    </tr>\n",
       "    <tr>\n",
       "      <th>33</th>\n",
       "      <td>-1.111388</td>\n",
       "      <td>0.168442</td>\n",
       "      <td>-0.646577</td>\n",
       "      <td>-0.744618</td>\n",
       "      <td>-0.442738</td>\n",
       "      <td>0.201845</td>\n",
       "      <td>-0.836836</td>\n",
       "      <td>-0.950261</td>\n",
       "      <td>1.577432</td>\n",
       "      <td>0.303772</td>\n",
       "      <td>0.246153</td>\n",
       "      <td>0.349896</td>\n",
       "    </tr>\n",
       "    <tr>\n",
       "      <th>40</th>\n",
       "      <td>-1.111388</td>\n",
       "      <td>-0.368707</td>\n",
       "      <td>2.368914</td>\n",
       "      <td>-0.135264</td>\n",
       "      <td>-0.237225</td>\n",
       "      <td>-1.173688</td>\n",
       "      <td>0.601745</td>\n",
       "      <td>-0.950261</td>\n",
       "      <td>1.241524</td>\n",
       "      <td>1.192776</td>\n",
       "      <td>1.051790</td>\n",
       "      <td>1.302673</td>\n",
       "    </tr>\n",
       "  </tbody>\n",
       "</table>\n",
       "</div>"
      ],
      "text/plain": [
       "    PSI_4_SURG_COMP  PSI_12_POSTOP_PULMEMB_DVT  \\\n",
       "16         1.207205                  -0.368707   \n",
       "18        -1.111388                  -2.171659   \n",
       "29         0.787048                  -0.508833   \n",
       "33        -1.111388                   0.168442   \n",
       "40        -1.111388                  -0.368707   \n",
       "\n",
       "    1 through 30 days After Discharge from Index Hospital Admission_inpatient  \\\n",
       "16                                          -0.702941                           \n",
       "18                                          -1.291351                           \n",
       "29                                           0.383353                           \n",
       "33                                          -0.646577                           \n",
       "40                                           2.368914                           \n",
       "\n",
       "    1 through 30 days After Discharge from Index Hospital Admission_outpatient  \\\n",
       "16                                           0.780635                            \n",
       "18                                          -0.916583                            \n",
       "29                                          -0.109096                            \n",
       "33                                          -0.744618                            \n",
       "40                                          -0.135264                            \n",
       "\n",
       "    During Index Hospital Admission_inpatient  AHRQ_PSI_90_Score  MRSA_Score  \\\n",
       "16                                  -0.299876          -0.829805    0.026313   \n",
       "18                                  -1.429009           0.201845   -1.124552   \n",
       "29                                  -0.008931           1.577378    0.314029   \n",
       "33                                  -0.442738           0.201845   -0.836836   \n",
       "40                                  -0.237225          -1.173688    0.601745   \n",
       "\n",
       "    CAUTI_Score  CDI_Score  PAYM_30_HF  PAYM_30_HF_low  PAYM_30_HF_high  \n",
       "16     1.682143  -0.102107   -0.121634       -0.046327        -0.189601  \n",
       "18    -1.242751  -1.109830   -2.950356       -2.914035        -2.961179  \n",
       "29    -0.365283   1.577432    0.715972        0.763262         0.665441  \n",
       "33    -0.950261   1.577432    0.303772        0.246153         0.349896  \n",
       "40    -0.950261   1.241524    1.192776        1.051790         1.302673  "
      ]
     },
     "execution_count": 1570,
     "metadata": {},
     "output_type": "execute_result"
    }
   ],
   "source": [
    "trial_state_features['CA'].head()"
   ]
  },
  {
   "cell_type": "code",
   "execution_count": 1571,
   "metadata": {
    "collapsed": false
   },
   "outputs": [],
   "source": [
    "from sklearn.cross_validation import train_test_split \n",
    "from sklearn.cross_validation import cross_val_score \n",
    "from sklearn.metrics import (auc, roc_curve, roc_auc_score,\n",
    "                             accuracy_score, precision_score,\n",
    "                             recall_score, f1_score, )\n",
    "from sklearn import datasets, linear_model\n",
    "from sklearn import preprocessing\n",
    "from sklearn.ensemble import RandomForestClassifier"
   ]
  },
  {
   "cell_type": "code",
   "execution_count": 1572,
   "metadata": {
    "collapsed": true
   },
   "outputs": [],
   "source": [
    "regr = linear_model.LinearRegression()"
   ]
  },
  {
   "cell_type": "code",
   "execution_count": 1573,
   "metadata": {
    "collapsed": false
   },
   "outputs": [],
   "source": [
    "rf = RandomForestClassifier()"
   ]
  },
  {
   "cell_type": "code",
   "execution_count": 1574,
   "metadata": {
    "collapsed": false
   },
   "outputs": [],
   "source": [
    "trial_state_models_lreg = {}\n",
    "for i in trial_states:\n",
    "    X_train, X_test, y_train, y_test = train_test_split(trial_state_features[i], \n",
    "                                                        trial_state_target[i], test_size=.2, random_state=1)\n",
    "    regr = linear_model.LinearRegression()\n",
    "    trial_state_models_lreg[i]  = regr.fit(X_train, y_train)"
   ]
  },
  {
   "cell_type": "code",
   "execution_count": 1575,
   "metadata": {
    "collapsed": false
   },
   "outputs": [
    {
     "data": {
      "text/plain": [
       "array([ 0.05397115,  0.03849826, -0.05312098,  0.05656381, -0.12241763,\n",
       "       -0.02928543,  0.01631132,  0.02450052, -0.05793285,  4.9103641 ,\n",
       "       -2.37315389, -1.69388239])"
      ]
     },
     "execution_count": 1575,
     "metadata": {},
     "output_type": "execute_result"
    }
   ],
   "source": [
    "trial_state_models_lreg['CA'].coef_"
   ]
  },
  {
   "cell_type": "code",
   "execution_count": 1576,
   "metadata": {
    "collapsed": false
   },
   "outputs": [
    {
     "data": {
      "image/png": "[encoded data removed]",
      "text/plain": [
       "<matplotlib.figure.Figure at 0x13dcd9b10>"
      ]
     },
     "metadata": {},
     "output_type": "display_data"
    }
   ],
   "source": [
    "plt.scatter((trial_state_features['CA']['PAYM_30_HF_low']), trial_state_target['CA'])\n",
    "plt.xlim(-2,2)\n",
    "plt.xlabel('HF Claim spending(low end of 95% CI)')\n",
    "plt.ylabel('Readmission Rates for CA')\n",
    "plt.title('Low end of spending per HF Claim v Readmissions')\n",
    "plt.show()"
   ]
  },
  {
   "cell_type": "code",
   "execution_count": 1577,
   "metadata": {
    "collapsed": false
   },
   "outputs": [
    {
     "data": {
      "image/png": "[encoded data removed]",
      "text/plain": [
       "<matplotlib.figure.Figure at 0x13dcd9350>"
      ]
     },
     "metadata": {},
     "output_type": "display_data"
    }
   ],
   "source": [
    "plt.scatter((trial_state_features['CA']['PAYM_30_HF']), trial_state_target['CA'])\n",
    "plt.xlim(-2,2)\n",
    "plt.xlabel('HF Claim spending average')\n",
    "plt.ylabel('Readmission Rates for CA')\n",
    "plt.title('Spending per HF Claim v Readmissions')\n",
    "plt.show()"
   ]
  },
  {
   "cell_type": "code",
   "execution_count": 1578,
   "metadata": {
    "collapsed": false
   },
   "outputs": [
    {
     "data": {
      "text/plain": [
       "array([  2.34060832e-04,   1.77249400e-01,  -9.37614117e-02,\n",
       "         1.30047461e-01,  -1.18601302e-01,  -9.88832479e-02,\n",
       "         4.85436977e-02,   1.11961908e-02,   2.12244128e-02,\n",
       "         1.15609865e+00,  -7.88827880e-01,   3.91175944e-01])"
      ]
     },
     "execution_count": 1578,
     "metadata": {},
     "output_type": "execute_result"
    }
   ],
   "source": [
    "trial_state_models_lreg['TX'].coef_"
   ]
  },
  {
   "cell_type": "code",
   "execution_count": 974,
   "metadata": {
    "collapsed": false
   },
   "outputs": [],
   "source": [
    "state_model_aves = {}\n",
    "for i in state:\n",
    "    state_model_aves[i] = state_target[i].mean()"
   ]
  },
  {
   "cell_type": "code",
   "execution_count": 977,
   "metadata": {
    "collapsed": true
   },
   "outputs": [],
   "source": [
    "import gzip\n",
    "import dill"
   ]
  },
  {
   "cell_type": "code",
   "execution_count": 979,
   "metadata": {
    "collapsed": false
   },
   "outputs": [],
   "source": [
    "with gzip.open('state_model_aves.dill.gz', 'w') as ff:\n",
    "   dill.dump(state_model_aves, ff)"
   ]
  },
  {
   "cell_type": "code",
   "execution_count": 1088,
   "metadata": {
    "collapsed": false
   },
   "outputs": [
    {
     "name": "stdout",
     "output_type": "stream",
     "text": [
      "[-0.26234761854532407, 0.1400012336961712, -0.3838899956798176, 0.07211268962921094, -0.29174981918704845, 0.11824889849747727, -0.006559897584386458, 0.396576469285159, 0.2955426492097114, -0.18643842308985917, -0.11304339829614157, 0.0926980010416913, 0.1148164798967677, 0.2321180551812111, 0.0922305966456297, 0.2862273581635561, -0.3324396832046315, -0.738156591142638, -0.046954419854727564, -0.4036632102235432, -0.002959647215145779, -0.02190924630491001, 0.3714361940764768, -0.14503532143351353, 0.0832438633835376, 0.04079331286441076, 0.3061158021699443, 0.37092730185013456, -0.9258429500331334, 0.3634052728292588, 0.430849006837903, 0.1467017565803016, 0.09684740741489133, 0.2665857907879256, 0.2630160985804887, 0.004193603928613852, 0.19532665200550445, -0.5037100083329208, -0.5854256511758059, -0.14836609915952628, -0.4265310497914009, -0.04013832831901767, 0.17579437388933988, 0.21815566671840833, 0.26374575264804656, 0.2560994961176028, -0.49660991298322305, -0.7393040813001649, 0.4962969276082771, -0.03084365804304965]\n"
     ]
    }
   ],
   "source": [
    "list1 = []\n",
    "for i in state:\n",
    "    \n",
    "    list1.append(state_target[i].mean())\n",
    "print list1"
   ]
  },
  {
   "cell_type": "code",
   "execution_count": 1081,
   "metadata": {
    "collapsed": false
   },
   "outputs": [
    {
     "data": {
      "text/plain": [
       "{'AK': 'CDI_Score',\n",
       " 'AL': 'PAYM_30_HF',\n",
       " 'AR': 'PAYM_30_HF',\n",
       " 'AZ': 'PAYM_30_HF',\n",
       " 'CA': 'PAYM_30_HF',\n",
       " 'CO': 'PAYM_30_HF',\n",
       " 'CT': 'PAYM_30_HF',\n",
       " 'DC': 'PSI_12_POSTOP_PULMEMB_DVT',\n",
       " 'DE': 'CAUTI_Score',\n",
       " 'FL': 'PAYM_30_HF',\n",
       " 'GA': 'PAYM_30_HF',\n",
       " 'HI': 'During Index Hospital Admission_inpatient',\n",
       " 'IA': 'PAYM_30_HF',\n",
       " 'ID': 'During Index Hospital Admission_inpatient',\n",
       " 'IL': 'PAYM_30_HF',\n",
       " 'IN': 'PAYM_30_HF',\n",
       " 'KS': 'PAYM_30_HF',\n",
       " 'KY': 'PAYM_30_HF',\n",
       " 'LA': 'PAYM_30_HF',\n",
       " 'MA': 'PAYM_30_HF',\n",
       " 'ME': 'PAYM_30_HF',\n",
       " 'MI': 'PAYM_30_HF',\n",
       " 'MN': 'PAYM_30_HF',\n",
       " 'MO': 'PAYM_30_HF',\n",
       " 'MS': 'PAYM_30_HF',\n",
       " 'MT': 'PAYM_30_HF_high',\n",
       " 'NC': 'PAYM_30_HF',\n",
       " 'ND': 'CDI_Score',\n",
       " 'NE': 'PAYM_30_HF_low',\n",
       " 'NH': '1 through 30 days After Discharge from Index Hospital Admission_inpatient',\n",
       " 'NJ': 'PAYM_30_HF',\n",
       " 'NM': 'PAYM_30_HF',\n",
       " 'NV': 'PAYM_30_HF',\n",
       " 'NY': 'PAYM_30_HF',\n",
       " 'OH': 'PAYM_30_HF_high',\n",
       " 'OK': 'PAYM_30_HF',\n",
       " 'OR': 'PAYM_30_HF',\n",
       " 'PA': 'PAYM_30_HF_high',\n",
       " 'RI': '1 through 30 days After Discharge from Index Hospital Admission_inpatient',\n",
       " 'SC': 'PAYM_30_HF',\n",
       " 'SD': 'PAYM_30_HF_low',\n",
       " 'TN': 'PAYM_30_HF',\n",
       " 'TX': 'PAYM_30_HF',\n",
       " 'UT': 'PAYM_30_HF_high',\n",
       " 'VA': 'PAYM_30_HF',\n",
       " 'VT': 'CDI_Score',\n",
       " 'WA': 'PAYM_30_HF',\n",
       " 'WI': 'PAYM_30_HF',\n",
       " 'WV': 'PAYM_30_HF',\n",
       " 'WY': 'PAYM_30_HF_high'}"
      ]
     },
     "execution_count": 1081,
     "metadata": {},
     "output_type": "execute_result"
    }
   ],
   "source": [
    "important_features"
   ]
  },
  {
   "cell_type": "code",
   "execution_count": 1580,
   "metadata": {
    "collapsed": false
   },
   "outputs": [],
   "source": [
    "trial_state_coef = {}\n",
    "for i in trial_states: \n",
    "    features_hf_cols\n",
    "    trial_state_coef[i] = {z[0]:z[1] for z in zip(features_hf_cols, np.absolute(trial_state_models_lreg[i].coef_))}"
   ]
  },
  {
   "cell_type": "code",
   "execution_count": 1582,
   "metadata": {
    "collapsed": false
   },
   "outputs": [],
   "source": [
    "import operator\n",
    "important_features = {}\n",
    "for i in trial_states:\n",
    "    important_features[i] = max(trial_state_coef[i].iteritems(), key=operator.itemgetter(1))[0]"
   ]
  },
  {
   "cell_type": "code",
   "execution_count": 1079,
   "metadata": {
    "collapsed": false
   },
   "outputs": [],
   "source": [
    "with gzip.open('important_features.dill.gz', 'w') as fff:\n",
    "   dill.dump(important_features, fff)"
   ]
  },
  {
   "cell_type": "code",
   "execution_count": 1586,
   "metadata": {
    "collapsed": false
   },
   "outputs": [
    {
     "data": {
      "text/plain": [
       "'PAYM_30_HF'"
      ]
     },
     "execution_count": 1586,
     "metadata": {},
     "output_type": "execute_result"
    }
   ],
   "source": [
    "important_feature['IL']"
   ]
  },
  {
   "cell_type": "code",
   "execution_count": 1588,
   "metadata": {
    "collapsed": false
   },
   "outputs": [
    {
     "name": "stdout",
     "output_type": "stream",
     "text": [
      "[-0.29316211061291375, -0.094994583166150143, -0.19335708296967929, -0.19613949450400542]\n"
     ]
    }
   ],
   "source": [
    "#Model eval. I want to loop through the values of state targets\n",
    "score = []\n",
    "for i in trial_states:\n",
    "    \n",
    "    scores = cross_val_score(trial_state_models_lreg[i], trial_state_features[i], trial_state_target[i], cv=5, \n",
    "                             scoring='mean_squared_error').mean()\n",
    "    score.append(scores)\n",
    "print score"
   ]
  },
  {
   "cell_type": "code",
   "execution_count": 1589,
   "metadata": {
    "collapsed": false
   },
   "outputs": [
    {
     "name": "stdout",
     "output_type": "stream",
     "text": [
      "[0.84216119422064573, 0.60329497836337165, 0.91068669597470886, 0.21141135971834379]\n"
     ]
    }
   ],
   "source": [
    "score_r2 = []\n",
    "for i in trial_states:\n",
    "    X_train, X_test, y_train, y_test = train_test_split(trial_state_features[i], trial_state_target[i], test_size=.2, \n",
    "                                                        random_state=1)\n",
    "    scores_r2 = trial_state_models_lreg[i].score(X_train, y_train, sample_weight=None)\n",
    "    score_r2.append(scores_r2)\n",
    "print score_r2"
   ]
  },
  {
   "cell_type": "markdown",
   "metadata": {
    "collapsed": true
   },
   "source": [
    "### Linear Reg-Including 0s insteAd of NaNs - CA predictions"
   ]
  },
  {
   "cell_type": "code",
   "execution_count": 1590,
   "metadata": {
    "collapsed": false
   },
   "outputs": [],
   "source": [
    "CA = pd.DataFrame()\n",
    "CA['Actual_Rates'] = trial_state_target['CA']"
   ]
  },
  {
   "cell_type": "code",
   "execution_count": 1591,
   "metadata": {
    "collapsed": false
   },
   "outputs": [],
   "source": [
    "CA['Predicted_Rates'] = trial_state_models_lreg['CA'].predict(trial_state_features['CA'])"
   ]
  },
  {
   "cell_type": "code",
   "execution_count": 1594,
   "metadata": {
    "collapsed": false
   },
   "outputs": [
    {
     "data": {
      "image/png": "[encoded data removed]",
      "text/plain": [
       "<matplotlib.figure.Figure at 0x1425d6c90>"
      ]
     },
     "metadata": {},
     "output_type": "display_data"
    }
   ],
   "source": [
    "plt.scatter(CA['Actual_Rates'], CA['Predicted_Rates'], color='red')\n",
    "plt.xlim(-2,2)\n",
    "plt.ylim(-2,2)\n",
    "plt.xlabel('Actual Readmission Rates')\n",
    "plt.ylabel('Predicted Readmission Rates')\n",
    "plt.title('Actual v Predicted Readmission Rates')\n",
    "plt.show()"
   ]
  },
  {
   "cell_type": "markdown",
   "metadata": {
    "collapsed": true
   },
   "source": [
    "### Linear regression on normalized data with imputed means instead of NaNs"
   ]
  },
  {
   "cell_type": "code",
   "execution_count": 1629,
   "metadata": {
    "collapsed": false
   },
   "outputs": [],
   "source": [
    "trial_state_dbs_impute_norm = {} # Dict of state by state datasets\n",
    "full_hf_impute = full_imputed_norm[features_hf_cols]\n",
    "for i in trial_states: \n",
    "    trial_state_dbs_impute_norm[i] = full_imputed_norm[full_imputed_norm['State'] == i]"
   ]
  },
  {
   "cell_type": "code",
   "execution_count": 1630,
   "metadata": {
    "collapsed": false
   },
   "outputs": [],
   "source": [
    "trial_state_features_imp_lr = {}\n",
    "trial_state_target_imp_lr  = {}\n",
    "for i in trial_states:\n",
    "\n",
    "    trial_state_features_imp_lr [i] = full_imputed_norm[full_imputed_norm['State'] == i][features_hf_cols]\n",
    "    trial_state_target_imp_lr [i] = full_imputed_norm[full_imputed_norm['State'] == i].READM_30_HF\n",
    "# These features dont contain the states or hospital names"
   ]
  },
  {
   "cell_type": "code",
   "execution_count": 1624,
   "metadata": {
    "collapsed": true
   },
   "outputs": [],
   "source": [
    "trial_state_models_lreg_imp = {}\n",
    "for i in trial_states:\n",
    "    X_train, X_test, y_train, y_test = train_test_split(trial_state_features_imp_lr[i], \n",
    "                                                        trial_state_target_imp_lr[i], test_size=.2, random_state=1)\n",
    "    regr = linear_model.LinearRegression()\n",
    "    trial_state_models_lreg_imp[i]  = regr.fit(X_train, y_train)"
   ]
  },
  {
   "cell_type": "code",
   "execution_count": 1627,
   "metadata": {
    "collapsed": false
   },
   "outputs": [
    {
     "name": "stdout",
     "output_type": "stream",
     "text": [
      "[-1.8607659580386673, -0.24473769603412046, -1.0464303618559518, -0.1721699491934596]\n"
     ]
    }
   ],
   "source": [
    "score_lreg_imp = []\n",
    "for i in trial_states:\n",
    "    \n",
    "    scores_lreg_imp = cross_val_score(trial_state_models_lreg_imp[i], trial_state_features_imp_lr[i], \n",
    "                                      trial_state_target_imp_lr[i], cv=5, \n",
    "                             scoring='mean_squared_error').mean()\n",
    "    score_lreg_imp.append(scores_lreg_imp)\n",
    "print score_lreg_imp"
   ]
  },
  {
   "cell_type": "markdown",
   "metadata": {},
   "source": [
    "### Ridge regression on normalized data with imputed means instead of NaNs"
   ]
  },
  {
   "cell_type": "code",
   "execution_count": 1628,
   "metadata": {
    "collapsed": true
   },
   "outputs": [],
   "source": [
    "from sklearn import linear_model"
   ]
  },
  {
   "cell_type": "code",
   "execution_count": 1632,
   "metadata": {
    "collapsed": false
   },
   "outputs": [],
   "source": [
    "trial_state_features_imp_ridge = {}\n",
    "trial_state_target_imp_ridge  = {}\n",
    "for i in trial_states:\n",
    "\n",
    "    trial_state_features_imp_ridge[i] = full_imputed_norm[full_imputed_norm['State'] == i][features_hf_cols]\n",
    "    trial_state_target_imp_ridge[i] = full_imputed_norm[full_imputed_norm['State'] == i].READM_30_HF\n",
    "# These features dont contain the states or hospital names"
   ]
  },
  {
   "cell_type": "code",
   "execution_count": 1633,
   "metadata": {
    "collapsed": true
   },
   "outputs": [],
   "source": [
    "trial_state_models_ridge_imp = {}\n",
    "for i in trial_states:\n",
    "    X_train, X_test, y_train, y_test = train_test_split(trial_state_features_imp_ridge[i], \n",
    "                                                        trial_state_target_imp_ridge[i], test_size=.2, random_state=1)\n",
    "    ridge = linear_model.Ridge (alpha = .5)\n",
    "    trial_state_models_ridge_imp[i]  = ridge.fit(X_train, y_train)"
   ]
  },
  {
   "cell_type": "code",
   "execution_count": 1634,
   "metadata": {
    "collapsed": false
   },
   "outputs": [
    {
     "name": "stdout",
     "output_type": "stream",
     "text": [
      "[-1.8635997244952454, -0.24173410350438354, -1.0370099805456658, -0.17029192724876821]\n"
     ]
    }
   ],
   "source": [
    "score_ridge_imp = []\n",
    "for i in trial_states:\n",
    "    \n",
    "    scores_ridge_imp = cross_val_score(trial_state_models_ridge_imp[i], trial_state_features_imp_ridge[i], \n",
    "                                      trial_state_target_imp_ridge[i], cv=5, \n",
    "                             scoring='mean_squared_error').mean()\n",
    "    score_ridge_imp.append(scores_ridge_imp)\n",
    "print score_ridge_imp"
   ]
  },
  {
   "cell_type": "code",
   "execution_count": 1632,
   "metadata": {
    "collapsed": false
   },
   "outputs": [],
   "source": [
    "trial_state_features_imp_ridge = {}\n",
    "trial_state_target_imp_ridge  = {}\n",
    "for i in trial_states:\n",
    "\n",
    "    trial_state_features_imp_ridge[i] = full_imputed_norm[full_imputed_norm['State'] == i][features_hf_cols]\n",
    "    trial_state_target_imp_ridge[i] = full_imputed_norm[full_imputed_norm['State'] == i].READM_30_HF\n",
    "# These features dont contain the states or hospital names\n",
    "\n",
    "trial_state_models_ridge_imp = {}\n",
    "for i in trial_states:\n",
    "    X_train, X_test, y_train, y_test = train_test_split(trial_state_features_imp_ridge[i], \n",
    "                                                        trial_state_target_imp_ridge[i], test_size=.2, random_state=1)\n",
    "    ridge = linear_model.Ridge (alpha = .5)\n",
    "    trial_state_models_ridge_imp[i]  = ridge.fit(X_train, y_train)"
   ]
  },
  {
   "cell_type": "code",
   "execution_count": 1633,
   "metadata": {
    "collapsed": true
   },
   "outputs": [],
   "source": [
    "trial_state_models_ridge_imp = {}\n",
    "for i in trial_states:\n",
    "    X_train, X_test, y_train, y_test = train_test_split(trial_state_features_imp_ridge[i], \n",
    "                                                        trial_state_target_imp_ridge[i], test_size=.2, random_state=1)\n",
    "    ridge = linear_model.Ridge (alpha = .5)\n",
    "    trial_state_models_ridge_imp[i]  = ridge.fit(X_train, y_train)"
   ]
  },
  {
   "cell_type": "code",
   "execution_count": 1634,
   "metadata": {
    "collapsed": false
   },
   "outputs": [
    {
     "name": "stdout",
     "output_type": "stream",
     "text": [
      "[-1.8635997244952454, -0.24173410350438354, -1.0370099805456658, -0.17029192724876821]\n"
     ]
    }
   ],
   "source": [
    "score_ridge_imp = []\n",
    "for i in trial_states:\n",
    "    \n",
    "    scores_ridge_imp = cross_val_score(trial_state_models_ridge_imp[i], trial_state_features_imp_ridge[i], \n",
    "                                      trial_state_target_imp_ridge[i], cv=5, \n",
    "                             scoring='mean_squared_error').mean()\n",
    "    score_ridge_imp.append(scores_ridge_imp)\n",
    "print score_ridge_imp"
   ]
  },
  {
   "cell_type": "markdown",
   "metadata": {},
   "source": [
    "### Support Vector regression on normalized data with imputed means instead of NaNs"
   ]
  },
  {
   "cell_type": "code",
   "execution_count": 1649,
   "metadata": {
    "collapsed": true
   },
   "outputs": [],
   "source": [
    "from sklearn.svm import SVR"
   ]
  },
  {
   "cell_type": "code",
   "execution_count": 1650,
   "metadata": {
    "collapsed": false
   },
   "outputs": [],
   "source": [
    "trial_state_features_imp_SVR = {}\n",
    "trial_state_target_imp_SVR  = {}\n",
    "for i in trial_states:\n",
    "\n",
    "    trial_state_features_imp_SVR[i] = full_imputed_norm[full_imputed_norm['State'] == i][features_hf_cols]\n",
    "    trial_state_target_imp_SVR[i] = full_imputed_norm[full_imputed_norm['State'] == i].READM_30_HF\n",
    "# These features dont contain the states or hospital names"
   ]
  },
  {
   "cell_type": "markdown",
   "metadata": {},
   "source": [
    "#### Linear SVR"
   ]
  },
  {
   "cell_type": "code",
   "execution_count": 1652,
   "metadata": {
    "collapsed": false
   },
   "outputs": [],
   "source": [
    "trial_state_models_SVRl_imp = {}\n",
    "for i in trial_states:\n",
    "    X_train, X_test, y_train, y_test = train_test_split(trial_state_features_imp_SVR[i], \n",
    "                                                        trial_state_target_imp_SVR[i], test_size=.2, random_state=1)\n",
    "    svr_lin = SVR(kernel='linear')\n",
    "    trial_state_models_SVRl_imp[i]  = svr_lin.fit(X_train, y_train)"
   ]
  },
  {
   "cell_type": "code",
   "execution_count": 1647,
   "metadata": {
    "collapsed": false
   },
   "outputs": [
    {
     "ename": "NameError",
     "evalue": "name 'SVR' is not defined",
     "output_type": "error",
     "traceback": [
      "\u001b[0;31m---------------------------------------------------------------------------\u001b[0m",
      "\u001b[0;31mNameError\u001b[0m                                 Traceback (most recent call last)",
      "\u001b[0;32m<ipython-input-1647-9e5800bca821>\u001b[0m in \u001b[0;36m<module>\u001b[0;34m()\u001b[0m\n\u001b[0;32m----> 1\u001b[0;31m \u001b[0mh\u001b[0m \u001b[0;34m=\u001b[0m \u001b[0mSVR\u001b[0m\u001b[0;34m(\u001b[0m\u001b[0;34m)\u001b[0m\u001b[0;34m\u001b[0m\u001b[0m\n\u001b[0m",
      "\u001b[0;31mNameError\u001b[0m: name 'SVR' is not defined"
     ]
    }
   ],
   "source": [
    "h = SVR()"
   ]
  },
  {
   "cell_type": "code",
   "execution_count": 1653,
   "metadata": {
    "collapsed": false
   },
   "outputs": [
    {
     "name": "stdout",
     "output_type": "stream",
     "text": [
      "[-1.712942609288282, -0.24579555597943553, -1.213565858688213, -0.15550077886775157]\n"
     ]
    }
   ],
   "source": [
    "score_SVRl_imp = []\n",
    "for i in trial_states:\n",
    "    \n",
    "    scores_SVRl_imp = cross_val_score(trial_state_models_SVRl_imp[i], trial_state_features_imp_SVR[i], \n",
    "                                      trial_state_target_imp_SVR[i], cv=5, scoring='mean_squared_error').mean()\n",
    "    score_SVRl_imp.append(scores_SVRl_imp)\n",
    "print score_SVRl_imp"
   ]
  },
  {
   "cell_type": "markdown",
   "metadata": {},
   "source": [
    "#### Nonlinear SVR"
   ]
  },
  {
   "cell_type": "code",
   "execution_count": 1654,
   "metadata": {
    "collapsed": false
   },
   "outputs": [],
   "source": [
    "trial_state_models_SVRnl_imp = {}\n",
    "for i in trial_states:\n",
    "    X_train, X_test, y_train, y_test = train_test_split(trial_state_features_imp_SVR[i], \n",
    "                                                        trial_state_target_imp_SVR[i], test_size=.2, random_state=1)\n",
    "    svr_nlin = SVR(kernel='poly')\n",
    "    trial_state_models_SVRnl_imp[i]  = svr_nlin.fit(X_train, y_train)"
   ]
  },
  {
   "cell_type": "code",
   "execution_count": 1655,
   "metadata": {
    "collapsed": false
   },
   "outputs": [
    {
     "name": "stdout",
     "output_type": "stream",
     "text": [
      "[-1.5624360109049944, -0.23472320357121007, -2.143422337125358, -0.19372244470769812]\n"
     ]
    }
   ],
   "source": [
    "score_SVRnl_imp = []\n",
    "for i in trial_states:\n",
    "    \n",
    "    scores_SVRnl_imp = cross_val_score(trial_state_models_SVRnl_imp[i], trial_state_features_imp_SVR[i], \n",
    "                                      trial_state_target_imp_SVR[i], cv=5, scoring='mean_squared_error').mean()\n",
    "    score_SVRnl_imp.append(scores_SVRnl_imp)\n",
    "print score_SVRnl_imp"
   ]
  },
  {
   "cell_type": "markdown",
   "metadata": {},
   "source": [
    "### RF regression on normalized data with imputed means instead of NaNs"
   ]
  },
  {
   "cell_type": "code",
   "execution_count": 1657,
   "metadata": {
    "collapsed": false
   },
   "outputs": [],
   "source": [
    "from sklearn.ensemble import RandomForestRegressor"
   ]
  },
  {
   "cell_type": "code",
   "execution_count": 1658,
   "metadata": {
    "collapsed": false
   },
   "outputs": [],
   "source": [
    "trial_state_features_imp_rf = {}\n",
    "trial_state_target_imp_rf  = {}\n",
    "for i in trial_states:\n",
    "\n",
    "    trial_state_features_imp_rf[i] = full_imputed_norm[full_imputed_norm['State'] == i][features_hf_cols]\n",
    "    trial_state_target_imp_rf[i] = full_imputed_norm[full_imputed_norm['State'] == i].READM_30_HF\n",
    "# These features dont contain the states or hospital names"
   ]
  },
  {
   "cell_type": "code",
   "execution_count": 1659,
   "metadata": {
    "collapsed": true
   },
   "outputs": [],
   "source": [
    "trial_state_models_rf_imp = {}\n",
    "for i in trial_states:\n",
    "    X_train, X_test, y_train, y_test = train_test_split(trial_state_features_imp_rf[i], \n",
    "                                                        trial_state_target_imp_rf[i], test_size=.2, random_state=1)\n",
    "    rf = RandomForestRegressor()\n",
    "    trial_state_models_rf_imp[i]  = rf.fit(X_train, y_train)"
   ]
  },
  {
   "cell_type": "code",
   "execution_count": 1660,
   "metadata": {
    "collapsed": false
   },
   "outputs": [
    {
     "name": "stdout",
     "output_type": "stream",
     "text": [
      "[-1.1949162068121504, -0.1963138782786974, -0.57532710460058067, -0.18344021816948328]\n"
     ]
    }
   ],
   "source": [
    "score_rf_imp = []\n",
    "for i in trial_states:\n",
    "    \n",
    "    scores_rf_imp = cross_val_score(trial_state_models_rf_imp[i], trial_state_features_imp_rf[i], \n",
    "                                      trial_state_target_imp_rf[i], cv=5, \n",
    "                             scoring='mean_squared_error').mean()\n",
    "    score_rf_imp.append(scores_rf_imp)\n",
    "print score_rf_imp"
   ]
  },
  {
   "cell_type": "markdown",
   "metadata": {},
   "source": [
    "### RF using imputed, non-normalized data"
   ]
  },
  {
   "cell_type": "code",
   "execution_count": 1599,
   "metadata": {
    "collapsed": false
   },
   "outputs": [],
   "source": [
    "trial_state_dbs_rf = {} # Dict of state by state datasets\n",
    "full_hf_rf = full_imputed[features_hf_cols]\n",
    "\n",
    "for i in trial_states: \n",
    "    trial_state_dbs_rf = full_imputed[full_imputed['State'] == i]"
   ]
  },
  {
   "cell_type": "code",
   "execution_count": 1600,
   "metadata": {
    "collapsed": false
   },
   "outputs": [],
   "source": [
    "trial_state_features_rf = {}\n",
    "trial_state_target_rf = {}\n",
    "for i in trial_states:\n",
    "\n",
    "    trial_state_features_rf[i] = full_imputed[full_imputed['State'] == i][features_hf_cols]\n",
    "    trial_state_target_rf[i] = full_imputed[full_imputed['State'] == i].READM_30_HF\n",
    "# These features dont contain the states or hospital names"
   ]
  },
  {
   "cell_type": "code",
   "execution_count": 1614,
   "metadata": {
    "collapsed": false
   },
   "outputs": [],
   "source": [
    "trial_state_models_rf = {}\n",
    "for i in trial_states:\n",
    "    X_train, X_test, y_train, y_test = train_test_split(trial_state_features_rf[i], trial_state_target_rf[i], \n",
    "                                                        test_size=.2, random_state=1)\n",
    "    trial_state_models_rf[i]  = rf.fit(X_train, y_train)"
   ]
  },
  {
   "cell_type": "code",
   "execution_count": null,
   "metadata": {
    "collapsed": true
   },
   "outputs": [],
   "source": [
    "# regressor = RandomForestRegressor(oob_score=True)\n",
    "\n",
    "# regressor.fit(x,y)\n",
    "\n",
    "# out_of_bag_prediction_for_x = regressor.oob_prediction_\n",
    "\n",
    "# print(your_error_metric(out_of_bag_prediction_for_x, x))"
   ]
  },
  {
   "cell_type": "code",
   "execution_count": 1616,
   "metadata": {
    "collapsed": false
   },
   "outputs": [
    {
     "name": "stdout",
     "output_type": "stream",
     "text": [
      "[-38.901141826789186, -11.157424712643676, -26.306528546938779, -7.7858178095238113]\n"
     ]
    }
   ],
   "source": [
    "score_rf = []\n",
    "for i in trial_states:\n",
    "    \n",
    "    scores_rf = cross_val_score(trial_state_models_rf[i], trial_state_features_rf[i], trial_state_target_rf[i], cv=5, \n",
    "                             scoring='mean_squared_error').mean()\n",
    "    score_rf.append(scores_rf)\n",
    "print score_rf"
   ]
  },
  {
   "cell_type": "markdown",
   "metadata": {},
   "source": [
    "### Selecting features"
   ]
  },
  {
   "cell_type": "code",
   "execution_count": 1662,
   "metadata": {
    "collapsed": false
   },
   "outputs": [
    {
     "data": {
      "text/plain": [
       "['PSI_4_SURG_COMP',\n",
       " 'PSI_12_POSTOP_PULMEMB_DVT',\n",
       " '1 through 30 days After Discharge from Index Hospital Admission_inpatient',\n",
       " '1 through 30 days After Discharge from Index Hospital Admission_outpatient',\n",
       " 'During Index Hospital Admission_inpatient',\n",
       " 'AHRQ_PSI_90_Score',\n",
       " 'MRSA_Score',\n",
       " 'CAUTI_Score',\n",
       " 'CDI_Score',\n",
       " 'PAYM_30_HF',\n",
       " 'PAYM_30_HF_low',\n",
       " 'PAYM_30_HF_high']"
      ]
     },
     "execution_count": 1662,
     "metadata": {},
     "output_type": "execute_result"
    }
   ],
   "source": [
    "features_hf_cols"
   ]
  },
  {
   "cell_type": "code",
   "execution_count": 1670,
   "metadata": {
    "collapsed": true
   },
   "outputs": [],
   "source": [
    "features_hf_cols = ['1 through 30 days After Discharge from Index Hospital Admission_inpatient', \n",
    "                    '1 to 3 days Prior to Index Hospital Admission_inpatient ', 'During Index Hospital Admission_inpatient',\n",
    "                   '1 through 30 days After Discharge from Index Hospital Admission_outpatient',\n",
    "                   '1 to 3 days Prior to Index Hospital Admission_outpatient', 'AHRQ_PSI_90_Score', 'CLABSI_Score',\n",
    "                   'CAUTI_Score', 'SSI_Score', 'MRSA_Score','CDI_Score', 'PAYM_30_HF', 'PAYM_30_HF_low','PAYM_30_HF_high',\n",
    "                   'H_COMP_1_STAR_RATING','H_COMP_2_STAR_RATING','H_COMP_3_STAR_RATING','H_COMP_4_STAR_RATING',\n",
    "                    'H_COMP_5_STAR_RATING','H_COMP_6_STAR_RATING','H_COMP_7_STAR_RATING','H_RECMND_STAR_RATING']"
   ]
  },
  {
   "cell_type": "markdown",
   "metadata": {},
   "source": [
    "#### Trying RF again with new features"
   ]
  },
  {
   "cell_type": "code",
   "execution_count": 1614,
   "metadata": {
    "collapsed": false
   },
   "outputs": [],
   "source": [
    "trial_state_models_rf = {}\n",
    "for i in trial_states:\n",
    "    X_train, X_test, y_train, y_test = train_test_split(trial_state_features_rf[i], trial_state_target_rf[i], \n",
    "                                                        test_size=.2, random_state=1)\n",
    "    trial_state_models_rf[i]  = rf.fit(X_train, y_train)"
   ]
  },
  {
   "cell_type": "code",
   "execution_count": 1616,
   "metadata": {
    "collapsed": false
   },
   "outputs": [
    {
     "name": "stdout",
     "output_type": "stream",
     "text": [
      "[-38.901141826789186, -11.157424712643676, -26.306528546938779, -7.7858178095238113]\n"
     ]
    }
   ],
   "source": [
    "score_rf = []\n",
    "for i in trial_states:\n",
    "    \n",
    "    scores_rf = cross_val_score(trial_state_models_rf[i], trial_state_features_rf[i], trial_state_target_rf[i], cv=5, \n",
    "                             scoring='mean_squared_error').mean()\n",
    "    score_rf.append(scores_rf)\n",
    "print score_rf"
   ]
  }
 ],
 "metadata": {
  "kernelspec": {
   "display_name": "Python 2",
   "language": "python",
   "name": "python2"
  },
  "language_info": {
   "codemirror_mode": {
    "name": "ipython",
    "version": 2
   },
   "file_extension": ".py",
   "mimetype": "text/x-python",
   "name": "python",
   "nbconvert_exporter": "python",
   "pygments_lexer": "ipython2",
   "version": "2.7.12"
  }
 },
 "nbformat": 4,
 "nbformat_minor": 0
}
