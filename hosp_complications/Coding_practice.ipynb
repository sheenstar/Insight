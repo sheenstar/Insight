{
 "cells": [
  {
   "cell_type": "code",
   "execution_count": 32,
   "metadata": {
    "collapsed": true
   },
   "outputs": [],
   "source": [
    "a = [1, 2, 3, 4]\n",
    "b = [2,2]"
   ]
  },
  {
   "cell_type": "code",
   "execution_count": null,
   "metadata": {
    "collapsed": true
   },
   "outputs": [],
   "source": [
    "import numpy as np"
   ]
  },
  {
   "cell_type": "markdown",
   "metadata": {},
   "source": [
    "## Merge"
   ]
  },
  {
   "cell_type": "code",
   "execution_count": 26,
   "metadata": {
    "collapsed": false
   },
   "outputs": [
    {
     "name": "stdout",
     "output_type": "stream",
     "text": [
      "[1, 1, 1, 2, 1, 2, 1, 2, 1, 2, 1, 2, 1, 2, 1, 1, 1, 2, 1, 2, 1, 2, 1, 2, 1, 2, 1, 2, 2, 2, 2, 2, 2, 2, 2, 2, 2, 2, 2, 2, 2, 2, 2, 2, 2, 2, 2, 2, 2, 2, 2, 2, 2, 2, 2, 2, 3, 3, 3, 2, 3, 2, 3, 2, 3, 2, 3, 2, 3, 2, 3, 3, 3, 2, 3, 2, 3, 2, 3, 2, 3, 2, 3, 2, 4, 4, 4, 2, 4, 2, 4, 2, 4, 2, 4, 2, 4, 2, 4, 4, 4, 2, 4, 2, 4, 2, 4, 2, 4, 2, 4, 2]\n"
     ]
    }
   ],
   "source": [
    "merge(a,b)"
   ]
  },
  {
   "cell_type": "code",
   "execution_count": 966,
   "metadata": {
    "collapsed": true
   },
   "outputs": [],
   "source": [
    "def merge(l, m):\n",
    "    result = []\n",
    "    i = j = 0\n",
    "    total = len(l) + len(m)\n",
    "    while len(result) != total:\n",
    "        if len(l) == i:\n",
    "            result += m[j:]\n",
    "            break\n",
    "        elif len(m) == j:\n",
    "            result += l[i:]\n",
    "            break\n",
    "        elif l[i] < m[j]:\n",
    "            result.append(l[i])\n",
    "            i += 1\n",
    "        else:\n",
    "            result.append(m[j])\n",
    "            j += 1\n",
    "    return result"
   ]
  },
  {
   "cell_type": "code",
   "execution_count": 967,
   "metadata": {
    "collapsed": false
   },
   "outputs": [],
   "source": [
    "lena = len(a) /2 \n",
    "lenb = len(a) - lena"
   ]
  },
  {
   "cell_type": "code",
   "execution_count": 968,
   "metadata": {
    "collapsed": false
   },
   "outputs": [
    {
     "data": {
      "text/plain": [
       "[1, 3]"
      ]
     },
     "execution_count": 968,
     "metadata": {},
     "output_type": "execute_result"
    }
   ],
   "source": [
    "lista = a[:lena]\n",
    "lista"
   ]
  },
  {
   "cell_type": "code",
   "execution_count": 969,
   "metadata": {
    "collapsed": false
   },
   "outputs": [
    {
     "data": {
      "text/plain": [
       "[5, 9, 10]"
      ]
     },
     "execution_count": 969,
     "metadata": {},
     "output_type": "execute_result"
    }
   ],
   "source": [
    "listb = a[lena:]\n",
    "listb"
   ]
  },
  {
   "cell_type": "code",
   "execution_count": 970,
   "metadata": {
    "collapsed": false
   },
   "outputs": [
    {
     "data": {
      "text/plain": [
       "[1, 3, 5, 9, 10]"
      ]
     },
     "execution_count": 970,
     "metadata": {},
     "output_type": "execute_result"
    }
   ],
   "source": [
    "merge(lista,listb)"
   ]
  },
  {
   "cell_type": "code",
   "execution_count": 59,
   "metadata": {
    "collapsed": false
   },
   "outputs": [
    {
     "name": "stdout",
     "output_type": "stream",
     "text": [
      "[4, 5, 2, 1]\n"
     ]
    }
   ],
   "source": [
    "lena = np.arange(len(a))\n",
    "c= []\n",
    "i = 0\n",
    "for x in a:\n",
    "    i += -1\n",
    "    c.append(a[i])\n",
    "print c"
   ]
  },
  {
   "cell_type": "code",
   "execution_count": 55,
   "metadata": {
    "collapsed": true
   },
   "outputs": [],
   "source": [
    "i = 0"
   ]
  },
  {
   "cell_type": "code",
   "execution_count": 57,
   "metadata": {
    "collapsed": false
   },
   "outputs": [
    {
     "ename": "SyntaxError",
     "evalue": "invalid syntax (<ipython-input-57-e49eb2706a02>, line 1)",
     "output_type": "error",
     "traceback": [
      "\u001b[0;36m  File \u001b[0;32m\"<ipython-input-57-e49eb2706a02>\"\u001b[0;36m, line \u001b[0;32m1\u001b[0m\n\u001b[0;31m    print i += 1\u001b[0m\n\u001b[0m             ^\u001b[0m\n\u001b[0;31mSyntaxError\u001b[0m\u001b[0;31m:\u001b[0m invalid syntax\n"
     ]
    }
   ],
   "source": [
    "print i += 1"
   ]
  },
  {
   "cell_type": "code",
   "execution_count": 49,
   "metadata": {
    "collapsed": false
   },
   "outputs": [
    {
     "data": {
      "text/plain": [
       "-2"
      ]
     },
     "execution_count": 49,
     "metadata": {},
     "output_type": "execute_result"
    }
   ],
   "source": [
    "-1 -1"
   ]
  },
  {
   "cell_type": "code",
   "execution_count": 70,
   "metadata": {
    "collapsed": false
   },
   "outputs": [
    {
     "data": {
      "text/plain": [
       "1.8"
      ]
     },
     "execution_count": 70,
     "metadata": {},
     "output_type": "execute_result"
    }
   ],
   "source": [
    "9. / 5"
   ]
  },
  {
   "cell_type": "code",
   "execution_count": 3,
   "metadata": {
    "collapsed": true
   },
   "outputs": [],
   "source": [
    "w, h = 6, 6;\n",
    "Matrix = [[0 for x in range(w)] for y in range(h)] "
   ]
  },
  {
   "cell_type": "code",
   "execution_count": 10,
   "metadata": {
    "collapsed": false
   },
   "outputs": [],
   "source": [
    "import random"
   ]
  },
  {
   "cell_type": "code",
   "execution_count": 11,
   "metadata": {
    "collapsed": false
   },
   "outputs": [],
   "source": [
    "Matrix = [[random.random() for x in range(w)] for y in range(h)]"
   ]
  },
  {
   "cell_type": "code",
   "execution_count": 8,
   "metadata": {
    "collapsed": false
   },
   "outputs": [
    {
     "data": {
      "text/plain": [
       "array([[ 0.18328661,  0.70333093,  0.07220706,  0.38613482,  0.77505104,\n",
       "         0.18850709],\n",
       "       [ 0.2068315 ,  0.00792601,  0.58767563,  0.79172482,  0.55239921,\n",
       "         0.7392424 ],\n",
       "       [ 0.31069974,  0.3743641 ,  0.41289917,  0.90217349,  0.69941979,\n",
       "         0.29519159],\n",
       "       [ 0.74723593,  0.04011567,  0.41166675,  0.93591988,  0.68243934,\n",
       "         0.66573208],\n",
       "       [ 0.7220664 ,  0.58535344,  0.03380473,  0.59600139,  0.54340096,\n",
       "         0.56709405],\n",
       "       [ 0.32170014,  0.18506059,  0.05369742,  0.7136078 ,  0.05862078,\n",
       "         0.13077795]])"
      ]
     },
     "execution_count": 8,
     "metadata": {},
     "output_type": "execute_result"
    }
   ],
   "source": [
    "np.random.random((6,6))"
   ]
  },
  {
   "cell_type": "markdown",
   "metadata": {},
   "source": [
    "## Left rotation"
   ]
  },
  {
   "cell_type": "code",
   "execution_count": 64,
   "metadata": {
    "collapsed": false
   },
   "outputs": [],
   "source": [
    "def array_left(array1,n,d):\n",
    "    c = []\n",
    "    i=n\n",
    "    for i in c:\n",
    "        while c < len(array1):\n",
    "            c.append(array1[i])\n",
    "            i-=(n+1)\n",
    "    return c"
   ]
  },
  {
   "cell_type": "code",
   "execution_count": 65,
   "metadata": {
    "collapsed": true
   },
   "outputs": [],
   "source": [
    "array1 = [1, 2, 3, 4, 5]"
   ]
  },
  {
   "cell_type": "code",
   "execution_count": 66,
   "metadata": {
    "collapsed": false
   },
   "outputs": [
    {
     "data": {
      "text/plain": [
       "[]"
      ]
     },
     "execution_count": 66,
     "metadata": {},
     "output_type": "execute_result"
    }
   ],
   "source": [
    "array_left(array1,4,5)"
   ]
  },
  {
   "cell_type": "code",
   "execution_count": 68,
   "metadata": {
    "collapsed": false
   },
   "outputs": [],
   "source": [
    "def array_left(array1,n):\n",
    "    return array1[n:] + array1[:n]\n"
   ]
  },
  {
   "cell_type": "code",
   "execution_count": 69,
   "metadata": {
    "collapsed": false
   },
   "outputs": [
    {
     "data": {
      "text/plain": [
       "[5, 1, 2, 3, 4]"
      ]
     },
     "execution_count": 69,
     "metadata": {},
     "output_type": "execute_result"
    }
   ],
   "source": [
    "array_left(array1,4)"
   ]
  },
  {
   "cell_type": "code",
   "execution_count": 86,
   "metadata": {
    "collapsed": false
   },
   "outputs": [
    {
     "data": {
      "text/plain": [
       "[1, 2, 3, 4, 5]"
      ]
     },
     "execution_count": 86,
     "metadata": {},
     "output_type": "execute_result"
    }
   ],
   "source": [
    "c= []\n",
    "array1"
   ]
  },
  {
   "cell_type": "code",
   "execution_count": 96,
   "metadata": {
    "collapsed": false
   },
   "outputs": [
    {
     "name": "stdout",
     "output_type": "stream",
     "text": [
      "[0, 1, 2, 3, 4]\n"
     ]
    }
   ],
   "source": [
    "x = range(0,len(array1))\n",
    "print x"
   ]
  },
  {
   "cell_type": "code",
   "execution_count": 115,
   "metadata": {
    "collapsed": false
   },
   "outputs": [
    {
     "name": "stdout",
     "output_type": "stream",
     "text": [
      "[1, 2, 3, 4, 5]\n"
     ]
    }
   ],
   "source": [
    "c = []\n",
    "x = range(0,len(array1))\n",
    "for i in x:\n",
    "    c.append(array1[i])\n",
    "print c"
   ]
  },
  {
   "cell_type": "code",
   "execution_count": 105,
   "metadata": {
    "collapsed": false
   },
   "outputs": [
    {
     "ename": "TypeError",
     "evalue": "'int' object is not iterable",
     "output_type": "error",
     "traceback": [
      "\u001b[0;31m---------------------------------------------------------------------------\u001b[0m",
      "\u001b[0;31mTypeError\u001b[0m                                 Traceback (most recent call last)",
      "\u001b[0;32m<ipython-input-105-14d2a62ce5ae>\u001b[0m in \u001b[0;36m<module>\u001b[0;34m()\u001b[0m\n\u001b[1;32m      2\u001b[0m \u001b[0mx\u001b[0m \u001b[0;34m=\u001b[0m \u001b[0mrange\u001b[0m\u001b[0;34m(\u001b[0m\u001b[0;36m0\u001b[0m\u001b[0;34m,\u001b[0m\u001b[0mlen\u001b[0m\u001b[0;34m(\u001b[0m\u001b[0marray1\u001b[0m\u001b[0;34m)\u001b[0m\u001b[0;34m)\u001b[0m\u001b[0;34m\u001b[0m\u001b[0m\n\u001b[1;32m      3\u001b[0m \u001b[0;32mfor\u001b[0m \u001b[0mi\u001b[0m \u001b[0;32min\u001b[0m \u001b[0mx\u001b[0m\u001b[0;34m:\u001b[0m\u001b[0;34m\u001b[0m\u001b[0m\n\u001b[0;32m----> 4\u001b[0;31m     \u001b[0mc\u001b[0m \u001b[0;34m+=\u001b[0m \u001b[0marray1\u001b[0m\u001b[0;34m[\u001b[0m\u001b[0mi\u001b[0m\u001b[0;34m]\u001b[0m\u001b[0;34m\u001b[0m\u001b[0m\n\u001b[0m\u001b[1;32m      5\u001b[0m \u001b[0;32mprint\u001b[0m \u001b[0mc\u001b[0m\u001b[0;34m\u001b[0m\u001b[0m\n",
      "\u001b[0;31mTypeError\u001b[0m: 'int' object is not iterable"
     ]
    }
   ],
   "source": [
    "c = []\n",
    "x = range(0,len(array1))\n",
    "for i in x:\n",
    "    c += array1[i]\n",
    "print c"
   ]
  },
  {
   "cell_type": "code",
   "execution_count": 106,
   "metadata": {
    "collapsed": true
   },
   "outputs": [],
   "source": [
    "c = []"
   ]
  },
  {
   "cell_type": "code",
   "execution_count": 107,
   "metadata": {
    "collapsed": true
   },
   "outputs": [],
   "source": [
    "c += array1"
   ]
  },
  {
   "cell_type": "code",
   "execution_count": 108,
   "metadata": {
    "collapsed": false
   },
   "outputs": [
    {
     "data": {
      "text/plain": [
       "[1, 2, 3, 4, 5]"
      ]
     },
     "execution_count": 108,
     "metadata": {},
     "output_type": "execute_result"
    }
   ],
   "source": [
    "c = []\n",
    "x = range(0,len(array1))\n",
    "for i in x:\n",
    "    c.append(array1[i])\n",
    "print c"
   ]
  },
  {
   "cell_type": "code",
   "execution_count": 113,
   "metadata": {
    "collapsed": true
   },
   "outputs": [],
   "source": [
    "c = []\n",
    "c += array1"
   ]
  },
  {
   "cell_type": "markdown",
   "metadata": {},
   "source": [
    "## Markdown"
   ]
  },
  {
   "cell_type": "code",
   "execution_count": 387,
   "metadata": {
    "collapsed": false
   },
   "outputs": [
    {
     "data": {
      "text/plain": [
       "array([[0, 3, 0, 1, 1, 4],\n",
       "       [3, 3, 3, 0, 0, 0],\n",
       "       [1, 0, 1, 3, 0, 1],\n",
       "       [3, 3, 2, 3, 2, 0],\n",
       "       [3, 2, 1, 4, 3, 4],\n",
       "       [1, 4, 4, 1, 4, 1]])"
      ]
     },
     "execution_count": 387,
     "metadata": {},
     "output_type": "execute_result"
    }
   ],
   "source": [
    "Matrix = np.random.randint(5, size=(6,6))\n",
    "Matrix"
   ]
  },
  {
   "cell_type": "code",
   "execution_count": 388,
   "metadata": {
    "collapsed": false
   },
   "outputs": [
    {
     "data": {
      "text/plain": [
       "2"
      ]
     },
     "execution_count": 388,
     "metadata": {},
     "output_type": "execute_result"
    }
   ],
   "source": [
    "Matrix[0,3] + Matrix[0,3]"
   ]
  },
  {
   "cell_type": "code",
   "execution_count": 391,
   "metadata": {
    "collapsed": false
   },
   "outputs": [
    {
     "data": {
      "text/plain": [
       "6"
      ]
     },
     "execution_count": 391,
     "metadata": {},
     "output_type": "execute_result"
    }
   ],
   "source": [
    "len(Matrix)"
   ]
  },
  {
   "cell_type": "code",
   "execution_count": 392,
   "metadata": {
    "collapsed": true
   },
   "outputs": [],
   "source": [
    "def hourglass(Matrix):\n",
    "    i = 0\n",
    "    j = 0\n",
    "    k = 1\n",
    "    l = 1\n",
    "    m = 2\n",
    "    c = []\n",
    "    while c < len(Matrix):\n",
    "        for x in Matrix[i]:\n",
    "            sum_three = Matrix[i,j] + Matrix[i,j+1], Matrix[i,j+2]\n",
    "            i += 1\n",
    "            j += 1\n",
    "        for x in Matrix[k]:\n",
    "            sum_one = Matrix[k,j+1] \n",
    "            k +=1\n",
    "        for x in Matrix[m]:\n",
    "            sum_three_l = Matrix[m,j] + Matrix[m,j+1], Matrix[m,j+2]\n",
    "            m +=1\n",
    "        c.append(sum_three + sum_one + sum_three_l)\n",
    "    return max(c)"
   ]
  },
  {
   "cell_type": "code",
   "execution_count": 393,
   "metadata": {
    "collapsed": false
   },
   "outputs": [
    {
     "ename": "ValueError",
     "evalue": "max() arg is an empty sequence",
     "output_type": "error",
     "traceback": [
      "\u001b[0;31m---------------------------------------------------------------------------\u001b[0m",
      "\u001b[0;31mValueError\u001b[0m                                Traceback (most recent call last)",
      "\u001b[0;32m<ipython-input-393-775023795d44>\u001b[0m in \u001b[0;36m<module>\u001b[0;34m()\u001b[0m\n\u001b[0;32m----> 1\u001b[0;31m \u001b[0mhourglass\u001b[0m\u001b[0;34m(\u001b[0m\u001b[0mMatrix\u001b[0m\u001b[0;34m)\u001b[0m\u001b[0;34m\u001b[0m\u001b[0m\n\u001b[0m",
      "\u001b[0;32m<ipython-input-392-9e14a0445707>\u001b[0m in \u001b[0;36mhourglass\u001b[0;34m(Matrix)\u001b[0m\n\u001b[1;32m     18\u001b[0m             \u001b[0mm\u001b[0m \u001b[0;34m+=\u001b[0m\u001b[0;36m1\u001b[0m\u001b[0;34m\u001b[0m\u001b[0m\n\u001b[1;32m     19\u001b[0m         \u001b[0mc\u001b[0m\u001b[0;34m.\u001b[0m\u001b[0mappend\u001b[0m\u001b[0;34m(\u001b[0m\u001b[0msum_three\u001b[0m \u001b[0;34m+\u001b[0m \u001b[0msum_one\u001b[0m \u001b[0;34m+\u001b[0m \u001b[0msum_three_l\u001b[0m\u001b[0;34m)\u001b[0m\u001b[0;34m\u001b[0m\u001b[0m\n\u001b[0;32m---> 20\u001b[0;31m     \u001b[0;32mreturn\u001b[0m \u001b[0mmax\u001b[0m\u001b[0;34m(\u001b[0m\u001b[0mc\u001b[0m\u001b[0;34m)\u001b[0m\u001b[0;34m\u001b[0m\u001b[0m\n\u001b[0m",
      "\u001b[0;31mValueError\u001b[0m: max() arg is an empty sequence"
     ]
    }
   ],
   "source": [
    "hourglass(Matrix)"
   ]
  },
  {
   "cell_type": "code",
   "execution_count": 150,
   "metadata": {
    "collapsed": false
   },
   "outputs": [
    {
     "data": {
      "text/plain": [
       "[8]"
      ]
     },
     "execution_count": 150,
     "metadata": {},
     "output_type": "execute_result"
    }
   ],
   "source": [
    "c = []\n",
    "c.append(Matrix[0,0] + Matrix[1,1])\n",
    "c"
   ]
  },
  {
   "cell_type": "code",
   "execution_count": 151,
   "metadata": {
    "collapsed": false
   },
   "outputs": [
    {
     "data": {
      "text/plain": [
       "[8, 8]"
      ]
     },
     "execution_count": 151,
     "metadata": {},
     "output_type": "execute_result"
    }
   ],
   "source": [
    "c.append(Matrix[0,0] + Matrix[1,1])\n",
    "c"
   ]
  },
  {
   "cell_type": "code",
   "execution_count": 155,
   "metadata": {
    "collapsed": true
   },
   "outputs": [],
   "source": [
    "arr = Matrix"
   ]
  },
  {
   "cell_type": "code",
   "execution_count": 156,
   "metadata": {
    "collapsed": false
   },
   "outputs": [
    {
     "name": "stdout",
     "output_type": "stream",
     "text": [
      "21\n"
     ]
    }
   ],
   "source": [
    "sums = []\n",
    "for r in range(1, 5):\n",
    "    for c in range(1, 5):\n",
    "        s = arr[r][c]\n",
    "        s += sum(arr[r-1][c-1:c+2])\n",
    "        s += sum(arr[r+1][c-1:c+2])\n",
    "        sums.append(s)\n",
    "print(max(sums))"
   ]
  },
  {
   "cell_type": "code",
   "execution_count": 237,
   "metadata": {
    "collapsed": false
   },
   "outputs": [
    {
     "data": {
      "text/plain": [
       "5"
      ]
     },
     "execution_count": 237,
     "metadata": {},
     "output_type": "execute_result"
    }
   ],
   "source": [
    "len(nums)"
   ]
  },
  {
   "cell_type": "markdown",
   "metadata": {},
   "source": [
    "## Sum of two integers = target"
   ]
  },
  {
   "cell_type": "code",
   "execution_count": 232,
   "metadata": {
    "collapsed": false
   },
   "outputs": [],
   "source": [
    "def nums1(nums, tar):\n",
    "    lennums = range(0,len(nums))\n",
    "    i = j = 0\n",
    "    for i in lennums:\n",
    "        while nums[i] + nums[j] != tar:\n",
    "            j +=1\n",
    "            result = nums[i] + nums[j]\n",
    "            if result == tar:\n",
    "                return i, j\n",
    "            else:\n",
    "                i +=1\n",
    "                result = nums[i] + nums[j]\n",
    "                if result == tar:\n",
    "                    return i,j"
   ]
  },
  {
   "cell_type": "code",
   "execution_count": 273,
   "metadata": {
    "collapsed": false
   },
   "outputs": [],
   "source": [
    "def nums1(nums, tar):\n",
    "    lennums = range(0,len(nums))\n",
    "    i = j = 0\n",
    "    for x in lennums:\n",
    "        if nums[i] + nums[j] != tar:\n",
    "            j += 1\n",
    "        else:\n",
    "            return i,j"
   ]
  },
  {
   "cell_type": "code",
   "execution_count": 274,
   "metadata": {
    "collapsed": false
   },
   "outputs": [],
   "source": [
    "nums = [1,2,3,8]"
   ]
  },
  {
   "cell_type": "code",
   "execution_count": 272,
   "metadata": {
    "collapsed": false
   },
   "outputs": [],
   "source": [
    "nums1(nums,9)"
   ]
  },
  {
   "cell_type": "code",
   "execution_count": 244,
   "metadata": {
    "collapsed": true
   },
   "outputs": [],
   "source": [
    "def twoSum(num, target):\n",
    "    map1 = {}\n",
    "    for i in range(0,len(num)):\n",
    "        if num[i] not in map1:\n",
    "            map1[target - num[i]] = i + 1\n",
    "        else:\n",
    "            return map1[num[i]], i + 1\n",
    "    return -1, -1"
   ]
  },
  {
   "cell_type": "code",
   "execution_count": 249,
   "metadata": {
    "collapsed": false
   },
   "outputs": [],
   "source": [
    "def twoSum(nums, target):\n",
    "        d={}\n",
    "        for i,num in enumerate(nums):\n",
    "            if target-num in d:\n",
    "                return d[target-num]+1, i+1\n",
    "            d[num]=i"
   ]
  },
  {
   "cell_type": "code",
   "execution_count": 250,
   "metadata": {
    "collapsed": true
   },
   "outputs": [],
   "source": [
    "nums = [3, 4, 2, 15, 5, 6]"
   ]
  },
  {
   "cell_type": "code",
   "execution_count": 251,
   "metadata": {
    "collapsed": false
   },
   "outputs": [
    {
     "data": {
      "text/plain": [
       "(2, 5)"
      ]
     },
     "execution_count": 251,
     "metadata": {},
     "output_type": "execute_result"
    }
   ],
   "source": [
    "twoSum(nums,9)"
   ]
  },
  {
   "cell_type": "code",
   "execution_count": 252,
   "metadata": {
    "collapsed": false
   },
   "outputs": [
    {
     "name": "stdout",
     "output_type": "stream",
     "text": [
      "()\n",
      "(1,)\n",
      "(2,)\n",
      "(3,)\n",
      "(1, 2)\n",
      "(1, 3)\n",
      "(2, 3)\n",
      "(1, 2, 3)\n"
     ]
    }
   ],
   "source": [
    "import itertools\n",
    "\n",
    "stuff = [1, 2, 3]\n",
    "for L in range(0, len(stuff)+1):\n",
    "  for subset in itertools.combinations(stuff, L):\n",
    "    print(subset)"
   ]
  },
  {
   "cell_type": "code",
   "execution_count": 279,
   "metadata": {
    "collapsed": false
   },
   "outputs": [
    {
     "data": {
      "text/plain": [
       "5"
      ]
     },
     "execution_count": 279,
     "metadata": {},
     "output_type": "execute_result"
    }
   ],
   "source": [
    "stri = \"Hibye\"\n",
    "len(stri)"
   ]
  },
  {
   "cell_type": "code",
   "execution_count": 291,
   "metadata": {
    "collapsed": false
   },
   "outputs": [
    {
     "name": "stdout",
     "output_type": "stream",
     "text": [
      "[]\n"
     ]
    }
   ],
   "source": [
    "result = []\n",
    "i =0\n",
    "for z in range(i,0):\n",
    "    result.append(stri[z])\n",
    "    i += -1\n",
    "print result"
   ]
  },
  {
   "cell_type": "code",
   "execution_count": 290,
   "metadata": {
    "collapsed": false
   },
   "outputs": [
    {
     "name": "stdout",
     "output_type": "stream",
     "text": [
      "-5\n",
      "-4\n",
      "-3\n",
      "-2\n",
      "-1\n"
     ]
    }
   ],
   "source": [
    "for x in range(i,0):\n",
    "    print x"
   ]
  },
  {
   "cell_type": "code",
   "execution_count": 292,
   "metadata": {
    "collapsed": false
   },
   "outputs": [
    {
     "name": "stdout",
     "output_type": "stream",
     "text": [
      "['e', 'y', 'b', 'i', 'H']\n"
     ]
    }
   ],
   "source": [
    "lena = np.arange(len(stri))\n",
    "c= []\n",
    "i = 0\n",
    "for x in stri:\n",
    "    i += -1\n",
    "    c.append(stri[i])\n",
    "print c"
   ]
  },
  {
   "cell_type": "code",
   "execution_count": 303,
   "metadata": {
    "collapsed": false
   },
   "outputs": [
    {
     "data": {
      "text/plain": [
       "'Hibye'"
      ]
     },
     "execution_count": 303,
     "metadata": {},
     "output_type": "execute_result"
    }
   ],
   "source": [
    "stri"
   ]
  },
  {
   "cell_type": "code",
   "execution_count": 314,
   "metadata": {
    "collapsed": false
   },
   "outputs": [
    {
     "data": {
      "text/plain": [
       "0"
      ]
     },
     "execution_count": 314,
     "metadata": {},
     "output_type": "execute_result"
    }
   ],
   "source": [
    "stri.count('a')"
   ]
  },
  {
   "cell_type": "markdown",
   "metadata": {},
   "source": [
    "## Anagram"
   ]
  },
  {
   "cell_type": "code",
   "execution_count": 381,
   "metadata": {
    "collapsed": false
   },
   "outputs": [],
   "source": [
    "test = []\n",
    "def anagram(a,b):\n",
    "    letters = {}\n",
    "    for i in a:\n",
    "        letters[i] = a.count(i)\n",
    "        for x in b:\n",
    "            test.append(x)\n",
    "            if all(name in test for name in letters):\n",
    "                print 'h'\n",
    "            else:\n",
    "                print 'n'"
   ]
  },
  {
   "cell_type": "code",
   "execution_count": 382,
   "metadata": {
    "collapsed": false
   },
   "outputs": [
    {
     "name": "stdout",
     "output_type": "stream",
     "text": [
      "n\n",
      "n\n",
      "n\n",
      "n\n",
      "h\n",
      "n\n",
      "n\n",
      "n\n",
      "n\n",
      "n\n",
      "n\n",
      "n\n",
      "n\n",
      "n\n",
      "n\n",
      "n\n",
      "n\n",
      "n\n",
      "n\n",
      "n\n",
      "n\n",
      "n\n",
      "n\n",
      "n\n",
      "n\n"
     ]
    }
   ],
   "source": [
    "anagram('eddit','ttire')"
   ]
  },
  {
   "cell_type": "code",
   "execution_count": 376,
   "metadata": {
    "collapsed": false
   },
   "outputs": [],
   "source": [
    "def anagram2(a,b):\n",
    "    result = 0\n",
    "    lena = range(0,len(a))\n",
    "    for x in a:\n",
    "        if x in b:\n",
    "            result +=1\n",
    "            if result == len(a):\n",
    "                print \"y\"\n",
    "            else:\n",
    "                print 'no'"
   ]
  },
  {
   "cell_type": "code",
   "execution_count": 377,
   "metadata": {
    "collapsed": false
   },
   "outputs": [
    {
     "name": "stdout",
     "output_type": "stream",
     "text": [
      "no\n",
      "no\n",
      "no\n",
      "no\n",
      "y\n"
     ]
    }
   ],
   "source": [
    "anagram2('editt','tirde')"
   ]
  },
  {
   "cell_type": "code",
   "execution_count": 487,
   "metadata": {
    "collapsed": false
   },
   "outputs": [],
   "source": [
    "def anagram2(a,b):\n",
    "    dicta = {}\n",
    "    dictb = {}\n",
    "    result = 0\n",
    "    for i in a:\n",
    "        dicta[i] = a.count(i)\n",
    "    for y in b:\n",
    "        dictb[y] = b.count(y)\n",
    "    if len(dicta) != len(dictb):\n",
    "        return False\n",
    "    for key in dicta.keys():\n",
    "        if key not in dictb.keys():\n",
    "            return False\n",
    "        elif dicta == dictb:\n",
    "            return True\n",
    "        else:\n",
    "            return False"
   ]
  },
  {
   "cell_type": "code",
   "execution_count": 486,
   "metadata": {
    "collapsed": false
   },
   "outputs": [
    {
     "data": {
      "text/plain": [
       "False"
      ]
     },
     "execution_count": 486,
     "metadata": {},
     "output_type": "execute_result"
    }
   ],
   "source": [
    "anagram2('editt','tirre')"
   ]
  },
  {
   "cell_type": "code",
   "execution_count": null,
   "metadata": {
    "collapsed": true
   },
   "outputs": [],
   "source": []
  },
  {
   "cell_type": "code",
   "execution_count": 423,
   "metadata": {
    "collapsed": false
   },
   "outputs": [
    {
     "name": "stdout",
     "output_type": "stream",
     "text": [
      "['i', 'e', 'd', 't']\n"
     ]
    }
   ],
   "source": [
    "dicta = {}\n",
    "a = 'edit'\n",
    "for i in a:\n",
    "    dicta[i] = a.count(i)\n",
    "print dicta.keys()"
   ]
  },
  {
   "cell_type": "code",
   "execution_count": 369,
   "metadata": {
    "collapsed": true
   },
   "outputs": [],
   "source": [
    "array = [1,6,7,2,3]"
   ]
  },
  {
   "cell_type": "code",
   "execution_count": 371,
   "metadata": {
    "collapsed": false
   },
   "outputs": [
    {
     "data": {
      "text/plain": [
       "[1, 2, 3, 6, 7]"
      ]
     },
     "execution_count": 371,
     "metadata": {},
     "output_type": "execute_result"
    }
   ],
   "source": [
    "array.sort()\n",
    "array"
   ]
  },
  {
   "cell_type": "code",
   "execution_count": 372,
   "metadata": {
    "collapsed": false
   },
   "outputs": [
    {
     "data": {
      "text/plain": [
       "[1, 2, 3, 6, 7]"
      ]
     },
     "execution_count": 372,
     "metadata": {},
     "output_type": "execute_result"
    }
   ],
   "source": [
    "sorted(array)"
   ]
  },
  {
   "cell_type": "code",
   "execution_count": 373,
   "metadata": {
    "collapsed": true
   },
   "outputs": [],
   "source": [
    "empty = \"\""
   ]
  },
  {
   "cell_type": "code",
   "execution_count": 374,
   "metadata": {
    "collapsed": false
   },
   "outputs": [
    {
     "data": {
      "text/plain": [
       "[]"
      ]
     },
     "execution_count": 374,
     "metadata": {},
     "output_type": "execute_result"
    }
   ],
   "source": [
    "sorted(empty)"
   ]
  },
  {
   "cell_type": "code",
   "execution_count": 375,
   "metadata": {
    "collapsed": false
   },
   "outputs": [
    {
     "data": {
      "text/plain": [
       "False"
      ]
     },
     "execution_count": 375,
     "metadata": {},
     "output_type": "execute_result"
    }
   ],
   "source": [
    "sorted(empty) == sorted(stri)"
   ]
  },
  {
   "cell_type": "markdown",
   "metadata": {},
   "source": [
    "# Palindrome"
   ]
  },
  {
   "cell_type": "code",
   "execution_count": 378,
   "metadata": {
    "collapsed": true
   },
   "outputs": [],
   "source": [
    "def palindrome(a,b):\n",
    "    if a[::-1] == b:\n",
    "        return 'yes'"
   ]
  },
  {
   "cell_type": "code",
   "execution_count": 380,
   "metadata": {
    "collapsed": false
   },
   "outputs": [],
   "source": [
    "palindrome('edit','tire')"
   ]
  },
  {
   "cell_type": "code",
   "execution_count": 384,
   "metadata": {
    "collapsed": false
   },
   "outputs": [
    {
     "name": "stdout",
     "output_type": "stream",
     "text": [
      "g\n"
     ]
    }
   ],
   "source": [
    "for i in range(3,1):\n",
    "    print 'h'\n",
    "print 'g'"
   ]
  },
  {
   "cell_type": "code",
   "execution_count": 412,
   "metadata": {
    "collapsed": true
   },
   "outputs": [],
   "source": [
    "def palindrome1(a,b):\n",
    "    result = []\n",
    "    i = -1\n",
    "    for x in a:\n",
    "        result.append(a[i])\n",
    "        i += -1\n",
    "        if \"\".join(result) == b:\n",
    "            return 'yes'"
   ]
  },
  {
   "cell_type": "code",
   "execution_count": 415,
   "metadata": {
    "collapsed": false
   },
   "outputs": [
    {
     "data": {
      "text/plain": [
       "'yes'"
      ]
     },
     "execution_count": 415,
     "metadata": {},
     "output_type": "execute_result"
    }
   ],
   "source": [
    "palindrome1('edit','tide')"
   ]
  },
  {
   "cell_type": "code",
   "execution_count": 410,
   "metadata": {
    "collapsed": true
   },
   "outputs": [],
   "source": [
    "list1 = ['1', '2', '3']\n",
    "str1 = ''.join(list1)"
   ]
  },
  {
   "cell_type": "code",
   "execution_count": 411,
   "metadata": {
    "collapsed": false
   },
   "outputs": [
    {
     "data": {
      "text/plain": [
       "'123'"
      ]
     },
     "execution_count": 411,
     "metadata": {},
     "output_type": "execute_result"
    }
   ],
   "source": [
    "str1"
   ]
  },
  {
   "cell_type": "markdown",
   "metadata": {},
   "source": [
    "# Prime Number"
   ]
  },
  {
   "cell_type": "code",
   "execution_count": 497,
   "metadata": {
    "collapsed": true
   },
   "outputs": [],
   "source": [
    "import math"
   ]
  },
  {
   "cell_type": "code",
   "execution_count": 509,
   "metadata": {
    "collapsed": true
   },
   "outputs": [],
   "source": [
    "def prime(a):\n",
    "    if a in [1,2]:\n",
    "        return True\n",
    "    elif a % 2 == 0:\n",
    "        return False\n",
    "    for i in range (3,int(math.sqrt(a)+1),2):\n",
    "        if a % i == 0:\n",
    "            return False\n",
    "        else:\n",
    "            return True"
   ]
  },
  {
   "cell_type": "code",
   "execution_count": 515,
   "metadata": {
    "collapsed": false
   },
   "outputs": [
    {
     "data": {
      "text/plain": [
       "False"
      ]
     },
     "execution_count": 515,
     "metadata": {},
     "output_type": "execute_result"
    }
   ],
   "source": [
    "prime(39)"
   ]
  },
  {
   "cell_type": "markdown",
   "metadata": {},
   "source": [
    "## Binary search"
   ]
  },
  {
   "cell_type": "code",
   "execution_count": 517,
   "metadata": {
    "collapsed": false
   },
   "outputs": [
    {
     "data": {
      "text/plain": [
       "2"
      ]
     },
     "execution_count": 517,
     "metadata": {},
     "output_type": "execute_result"
    }
   ],
   "source": [
    "a = [1,2,3,4]\n",
    "a.index(3)"
   ]
  },
  {
   "cell_type": "code",
   "execution_count": 518,
   "metadata": {
    "collapsed": true
   },
   "outputs": [],
   "source": [
    "def binary_search(a,v):\n",
    "    if v not in a:\n",
    "        return \"This value is not in the array\"\n",
    "    else:\n",
    "        return a.index(v)"
   ]
  },
  {
   "cell_type": "code",
   "execution_count": 520,
   "metadata": {
    "collapsed": false
   },
   "outputs": [
    {
     "data": {
      "text/plain": [
       "'This value is not in the array'"
      ]
     },
     "execution_count": 520,
     "metadata": {},
     "output_type": "execute_result"
    }
   ],
   "source": [
    "binary_search(a,7)"
   ]
  },
  {
   "cell_type": "code",
   "execution_count": 526,
   "metadata": {
    "collapsed": false
   },
   "outputs": [
    {
     "data": {
      "text/plain": [
       "9.0"
      ]
     },
     "execution_count": 526,
     "metadata": {},
     "output_type": "execute_result"
    }
   ],
   "source": [
    "math.floor(9.9)"
   ]
  },
  {
   "cell_type": "markdown",
   "metadata": {},
   "source": [
    "## Majority"
   ]
  },
  {
   "cell_type": "code",
   "execution_count": 565,
   "metadata": {
    "collapsed": false
   },
   "outputs": [],
   "source": [
    "n = [1,3,4,5,6,3,3,3,3,7,7,7,7,7,7,7,7,7,7,7,7,7,7]"
   ]
  },
  {
   "cell_type": "code",
   "execution_count": 569,
   "metadata": {
    "collapsed": false
   },
   "outputs": [],
   "source": [
    "import operator\n",
    "result = {}\n",
    "def majority(n):\n",
    "    for i in n:\n",
    "        result[i] = n.count(i)\n",
    "    print result\n",
    "    return max(result.iteritems(), key=operator.itemgetter(1))[0]"
   ]
  },
  {
   "cell_type": "code",
   "execution_count": 570,
   "metadata": {
    "collapsed": false
   },
   "outputs": [
    {
     "name": "stdout",
     "output_type": "stream",
     "text": [
      "{1: 1, 3: 5, 4: 1, 5: 1, 6: 1, 7: 14}\n"
     ]
    },
    {
     "data": {
      "text/plain": [
       "7"
      ]
     },
     "execution_count": 570,
     "metadata": {},
     "output_type": "execute_result"
    }
   ],
   "source": [
    "majority(n)"
   ]
  },
  {
   "cell_type": "markdown",
   "metadata": {},
   "source": [
    "## Naive Bayes v Logistic"
   ]
  },
  {
   "cell_type": "code",
   "execution_count": 573,
   "metadata": {
    "collapsed": true
   },
   "outputs": [],
   "source": [
    "from sklearn.datasets import load_iris"
   ]
  },
  {
   "cell_type": "code",
   "execution_count": 584,
   "metadata": {
    "collapsed": false
   },
   "outputs": [],
   "source": [
    "data = load_iris()\n",
    "X = data.data[:, :2]  # we only take the first two features.\n",
    "Y = data.target"
   ]
  },
  {
   "cell_type": "code",
   "execution_count": 586,
   "metadata": {
    "collapsed": false
   },
   "outputs": [],
   "source": [
    "from sklearn.cross_validation import train_test_split \n",
    "from sklearn.linear_model import LogisticRegression\n",
    "from sklearn.naive_bayes import GaussianNB\n",
    "from sklearn.cross_validation import cross_val_score \n",
    "from sklearn.metrics import (auc, roc_curve, roc_auc_score,\n",
    "                             accuracy_score, precision_score,\n",
    "                             recall_score, f1_score, )"
   ]
  },
  {
   "cell_type": "markdown",
   "metadata": {},
   "source": [
    "## Find anagrams"
   ]
  },
  {
   "cell_type": "code",
   "execution_count": 801,
   "metadata": {
    "collapsed": false
   },
   "outputs": [],
   "source": [
    "def palindrome_detector2(mylist):\n",
    "    result = []\n",
    "    for i in range(0,len(mylist)):\n",
    "        for j in range(i+1,len(mylist)):\n",
    "            if mylist[i][::-1] == mylist[j]:\n",
    "                result.append((mylist[i], mylist[j]))\n",
    "    if result:\n",
    "        print result\n",
    "    else: print False"
   ]
  },
  {
   "cell_type": "code",
   "execution_count": 807,
   "metadata": {
    "collapsed": true
   },
   "outputs": [],
   "source": [
    "mylist = ['coffee','dog','god', 'altar','cat','tac']"
   ]
  },
  {
   "cell_type": "code",
   "execution_count": 818,
   "metadata": {
    "collapsed": false
   },
   "outputs": [
    {
     "data": {
      "text/plain": [
       "'fe'"
      ]
     },
     "execution_count": 818,
     "metadata": {},
     "output_type": "execute_result"
    }
   ],
   "source": [
    "mylist[0][2:6:2]"
   ]
  },
  {
   "cell_type": "code",
   "execution_count": 808,
   "metadata": {
    "collapsed": false
   },
   "outputs": [
    {
     "name": "stdout",
     "output_type": "stream",
     "text": [
      "[('dog', 'god'), ('cat', 'tac')]\n"
     ]
    }
   ],
   "source": [
    "palindrome_detector2(mylist)"
   ]
  },
  {
   "cell_type": "code",
   "execution_count": 800,
   "metadata": {
    "collapsed": false
   },
   "outputs": [
    {
     "name": "stdout",
     "output_type": "stream",
     "text": [
      "False\n"
     ]
    }
   ],
   "source": [
    "mlist = ''\n",
    "if mlist: print True\n",
    "else: print False"
   ]
  },
  {
   "cell_type": "code",
   "execution_count": 779,
   "metadata": {
    "collapsed": false
   },
   "outputs": [],
   "source": [
    "def anagram_detector3(mylist):\n",
    "    dictana = {}\n",
    "    result = 0\n",
    "    for i in mylist:\n",
    "        for x in range(0,len(mylist)):\n",
    "            dictana[i] = mylist[x][::-1]\n",
    "\n",
    "    print x\n",
    "    print dictana\n"
   ]
  },
  {
   "cell_type": "code",
   "execution_count": 781,
   "metadata": {
    "collapsed": false
   },
   "outputs": [
    {
     "name": "stdout",
     "output_type": "stream",
     "text": [
      "0\n",
      "{'god': 'eeffoc', 'coffee': 'eeffoc', 'dog': 'eeffoc', 'altar': 'eeffoc'}\n"
     ]
    }
   ],
   "source": [
    "anagram_detector3(mylist)"
   ]
  },
  {
   "cell_type": "code",
   "execution_count": null,
   "metadata": {
    "collapsed": true
   },
   "outputs": [],
   "source": [
    "def find_in_dict(entered_word):\n",
    "    for key,val in word_list.items():\n",
    "        if val == entered_word:\n",
    "            print(key,input_word)"
   ]
  },
  {
   "cell_type": "code",
   "execution_count": 702,
   "metadata": {
    "collapsed": false
   },
   "outputs": [
    {
     "name": "stdout",
     "output_type": "stream",
     "text": [
      "coffee dog\n",
      "coffee god\n",
      "coffee altar\n",
      "dog dog\n",
      "dog god\n",
      "dog altar\n",
      "god dog\n",
      "god god\n",
      "god altar\n",
      "altar dog\n",
      "altar god\n",
      "altar altar\n"
     ]
    }
   ],
   "source": [
    "for i in range(0,len(mylist)):\n",
    "    for j in range(1,len(mylist)):\n",
    "        print mylist[i], mylist[j]"
   ]
  },
  {
   "cell_type": "code",
   "execution_count": 704,
   "metadata": {
    "collapsed": false
   },
   "outputs": [
    {
     "data": {
      "text/plain": [
       "'eeffoc'"
      ]
     },
     "execution_count": 704,
     "metadata": {},
     "output_type": "execute_result"
    }
   ],
   "source": [
    "mylist[0][::-1]"
   ]
  },
  {
   "cell_type": "code",
   "execution_count": 674,
   "metadata": {
    "collapsed": false
   },
   "outputs": [
    {
     "name": "stdout",
     "output_type": "stream",
     "text": [
      "coffee coffee\n",
      "coffee altar\n",
      "coffee dog\n",
      "coffee god\n",
      "altar coffee\n",
      "altar altar\n",
      "altar dog\n",
      "altar god\n",
      "dog coffee\n",
      "dog altar\n",
      "dog dog\n",
      "dog god\n",
      "god coffee\n",
      "god altar\n",
      "god dog\n",
      "god god\n"
     ]
    }
   ],
   "source": [
    "#this is how to compare all elements, brute force\n",
    "for a in mylist:\n",
    "    for b in mylist:\n",
    "        print a, b"
   ]
  },
  {
   "cell_type": "code",
   "execution_count": 648,
   "metadata": {
    "collapsed": false
   },
   "outputs": [
    {
     "data": {
      "text/plain": [
       "'eeffoc'"
      ]
     },
     "execution_count": 648,
     "metadata": {},
     "output_type": "execute_result"
    }
   ],
   "source": [
    "mylist[0][::-1]"
   ]
  },
  {
   "cell_type": "code",
   "execution_count": 632,
   "metadata": {
    "collapsed": true
   },
   "outputs": [],
   "source": [
    "def anagram_detector(mylist):\n",
    "    for a, b in itertools.combinations(mylist, 2):\n",
    "        if mylist[a][::-1] == mylist[b]:\n",
    "            return mylist[a],mylist[b]\n",
    "        else:\n",
    "            return False"
   ]
  },
  {
   "cell_type": "code",
   "execution_count": 598,
   "metadata": {
    "collapsed": false
   },
   "outputs": [
    {
     "data": {
      "text/plain": [
       "'eeffoc'"
      ]
     },
     "execution_count": 598,
     "metadata": {},
     "output_type": "execute_result"
    }
   ],
   "source": [
    "list1[2][::-1]"
   ]
  },
  {
   "cell_type": "markdown",
   "metadata": {},
   "source": [
    "## sort list"
   ]
  },
  {
   "cell_type": "code",
   "execution_count": 946,
   "metadata": {
    "collapsed": false
   },
   "outputs": [
    {
     "name": "stdout",
     "output_type": "stream",
     "text": [
      "[1, 3, 5, 9, 10]\n"
     ]
    }
   ],
   "source": [
    "for i in range (0,len(a)):\n",
    "    for j in range(i+1,len(a)):\n",
    "        if a[i]>a[j]:\n",
    "            temp = a[i]\n",
    "            a[i] = a[j]\n",
    "            a[j] = temp\n",
    "print a\n",
    "        "
   ]
  },
  {
   "cell_type": "code",
   "execution_count": 945,
   "metadata": {
    "collapsed": true
   },
   "outputs": [],
   "source": [
    "a = [10,3,5,9,1]"
   ]
  },
  {
   "cell_type": "code",
   "execution_count": 932,
   "metadata": {
    "collapsed": false
   },
   "outputs": [],
   "source": [
    "mylist = [6,3,1,2]"
   ]
  },
  {
   "cell_type": "code",
   "execution_count": 933,
   "metadata": {
    "collapsed": true
   },
   "outputs": [],
   "source": [
    "mylist[0] = 7"
   ]
  },
  {
   "cell_type": "code",
   "execution_count": 934,
   "metadata": {
    "collapsed": false
   },
   "outputs": [
    {
     "data": {
      "text/plain": [
       "[7, 3, 1, 2]"
      ]
     },
     "execution_count": 934,
     "metadata": {},
     "output_type": "execute_result"
    }
   ],
   "source": [
    "mylist"
   ]
  },
  {
   "cell_type": "markdown",
   "metadata": {},
   "source": [
    "## function for median"
   ]
  },
  {
   "cell_type": "code",
   "execution_count": 926,
   "metadata": {
    "collapsed": false
   },
   "outputs": [],
   "source": [
    "def median(a):\n",
    "    a = sort(a)\n",
    "    lenlist = len(a)\n",
    "    if lenlist % 2 != 0:\n",
    "        return a[lenlist /2]\n",
    "    else:\n",
    "        x = a[lenlist/2]\n",
    "        y = a[lenlist/2 -1]\n",
    "        return (x+y)/2."
   ]
  },
  {
   "cell_type": "code",
   "execution_count": 929,
   "metadata": {
    "collapsed": true
   },
   "outputs": [],
   "source": [
    "list1 = [7,4,4,2,1,5,8,9,10]"
   ]
  },
  {
   "cell_type": "code",
   "execution_count": 930,
   "metadata": {
    "collapsed": false
   },
   "outputs": [
    {
     "data": {
      "text/plain": [
       "5"
      ]
     },
     "execution_count": 930,
     "metadata": {},
     "output_type": "execute_result"
    }
   ],
   "source": [
    "median(list1)"
   ]
  },
  {
   "cell_type": "code",
   "execution_count": 869,
   "metadata": {
    "collapsed": false
   },
   "outputs": [],
   "source": [
    "mode(list1)"
   ]
  },
  {
   "cell_type": "code",
   "execution_count": 870,
   "metadata": {
    "collapsed": false
   },
   "outputs": [
    {
     "name": "stdout",
     "output_type": "stream",
     "text": [
      "[7]\n"
     ]
    }
   ],
   "source": [
    "little = 0\n",
    "newlist = []\n",
    "for i in range (0,len(list1)):\n",
    "    if list1[i] > little:\n",
    "        little = list1[i]\n",
    "        newlist.append(little)\n",
    "print newlist"
   ]
  },
  {
   "cell_type": "code",
   "execution_count": 856,
   "metadata": {
    "collapsed": false
   },
   "outputs": [
    {
     "data": {
      "text/plain": [
       "False"
      ]
     },
     "execution_count": 856,
     "metadata": {},
     "output_type": "execute_result"
    }
   ],
   "source": [
    "list1[3] < 0"
   ]
  },
  {
   "cell_type": "markdown",
   "metadata": {},
   "source": [
    "# Function to write sorted list"
   ]
  },
  {
   "cell_type": "code",
   "execution_count": 881,
   "metadata": {
    "collapsed": true
   },
   "outputs": [],
   "source": [
    "def sort(a):\n",
    "    whoa = []\n",
    "    for i in range(0,len(mylist)):\n",
    "        for j in range(i+1,len(mylist)):\n",
    "            if mylist[i] < mylist[j]:\n",
    "                whoa.append(mylist[i])\n",
    "    return whoa"
   ]
  },
  {
   "cell_type": "code",
   "execution_count": 882,
   "metadata": {
    "collapsed": false
   },
   "outputs": [
    {
     "data": {
      "text/plain": [
       "[5]"
      ]
     },
     "execution_count": 882,
     "metadata": {},
     "output_type": "execute_result"
    }
   ],
   "source": [
    "sort(mylist)"
   ]
  },
  {
   "cell_type": "code",
   "execution_count": 976,
   "metadata": {
    "collapsed": false
   },
   "outputs": [],
   "source": [
    "cat = 'cat'"
   ]
  },
  {
   "cell_type": "code",
   "execution_count": 977,
   "metadata": {
    "collapsed": false
   },
   "outputs": [
    {
     "data": {
      "text/plain": [
       "'tac'"
      ]
     },
     "execution_count": 977,
     "metadata": {},
     "output_type": "execute_result"
    }
   ],
   "source": [
    "''.join(reversed(cat))"
   ]
  },
  {
   "cell_type": "markdown",
   "metadata": {},
   "source": [
    "# Finds one solution (add two to make target)"
   ]
  },
  {
   "cell_type": "code",
   "execution_count": 979,
   "metadata": {
    "collapsed": false
   },
   "outputs": [
    {
     "data": {
      "text/plain": [
       "[7, 3, 1, 2]"
      ]
     },
     "execution_count": 979,
     "metadata": {},
     "output_type": "execute_result"
    }
   ],
   "source": [
    "mylist"
   ]
  },
  {
   "cell_type": "code",
   "execution_count": 996,
   "metadata": {
    "collapsed": false
   },
   "outputs": [],
   "source": [
    "class Solution(object):\n",
    "    def twoSum(self, nums, target):\n",
    "        if len(nums) <= 1:\n",
    "            return False\n",
    "        buff_dict = {}\n",
    "        for i in range(len(nums)):\n",
    "            if nums[i] in buff_dict:\n",
    "                return [buff_dict[nums[i]], i]\n",
    "            else:\n",
    "                buff_dict[target - nums[i]] = i"
   ]
  },
  {
   "cell_type": "code",
   "execution_count": 1001,
   "metadata": {
    "collapsed": false
   },
   "outputs": [
    {
     "data": {
      "text/plain": [
       "(2, 4)"
      ]
     },
     "execution_count": 1001,
     "metadata": {},
     "output_type": "execute_result"
    }
   ],
   "source": [
    "twoSum(mylist,5)"
   ]
  },
  {
   "cell_type": "markdown",
   "metadata": {},
   "source": [
    "## Linked List"
   ]
  },
  {
   "cell_type": "code",
   "execution_count": 1002,
   "metadata": {
    "collapsed": true
   },
   "outputs": [],
   "source": [
    "class Node(object):\n",
    "\n",
    "    def __init__(self, data=None, next_node=None):\n",
    "        self.data = data\n",
    "        self.next_node = next_node\n",
    "\n",
    "    def get_data(self):\n",
    "        return self.data\n",
    "\n",
    "    def get_next(self):\n",
    "        return self.next_node\n",
    "\n",
    "    def set_next(self, new_next):\n",
    "        self.next_node = new_next"
   ]
  },
  {
   "cell_type": "markdown",
   "metadata": {},
   "source": [
    "## Reverse integer"
   ]
  },
  {
   "cell_type": "code",
   "execution_count": 1121,
   "metadata": {
    "collapsed": false
   },
   "outputs": [],
   "source": [
    "def reverse(i):\n",
    "    i = str(i)\n",
    "    if len(i) < 1:\n",
    "        return i\n",
    "    elif i[0] == \"-\" and i[len(i)-1] == 0:\n",
    "        neg = i[0]\n",
    "        newnum = i[1:(len(i)-1)]\n",
    "        newnum = newnum[::-1]\n",
    "        return int(neg+newnum)\n",
    "    elif i[0] == \"-\":\n",
    "        neg = i[0]\n",
    "        newnum = i[1:]\n",
    "        newnum = newnum[::-1]\n",
    "        return int(neg+newnum)\n",
    "    elif i[len(i)-1] == \"0\":\n",
    "        newnum = i[:-1]\n",
    "        newnum = newnum[::-1]\n",
    "        return int(newnum)\n",
    "    else:\n",
    "        return False\n"
   ]
  },
  {
   "cell_type": "markdown",
   "metadata": {},
   "source": [
    "## SEE if two binary trees are equal"
   ]
  },
  {
   "cell_type": "code",
   "execution_count": 1125,
   "metadata": {
    "collapsed": false
   },
   "outputs": [],
   "source": [
    "class TreeNode(object):\n",
    "    def __init__(self, x):\n",
    "        self.val = x\n",
    "        self.left = None\n",
    "        self.right = None\n",
    "\n",
    "class Solution(object):\n",
    "    def isSameTree(self, p, q):\n",
    "        if p in None or q is None:\n",
    "            return p in None and q is None\n",
    "                        \n",
    "            return p.val == q.val and self.isSameTree(p.left,q.left) and self.isSameTree(p.right, q.right)\n",
    "                    "
   ]
  },
  {
   "cell_type": "markdown",
   "metadata": {},
   "source": [
    "## Reverse a linked list"
   ]
  },
  {
   "cell_type": "code",
   "execution_count": 1126,
   "metadata": {
    "collapsed": true
   },
   "outputs": [],
   "source": [
    "class Node:\n",
    "    def __init__(self,data):\n",
    "        self.data = data\n",
    "        self.next = None\n",
    "    \n",
    "    def reverse(linky):\n",
    "        current = linky\n",
    "        prev = None\n",
    "        while (current is not None):\n",
    "            Next = current.next #storing pointer info, to reassign later\n",
    "            current.next = prev #Revering pointer\n",
    "            prev = current\n",
    "            current = Next\n",
    "        return prev"
   ]
  },
  {
   "cell_type": "markdown",
   "metadata": {},
   "source": [
    "## Robber"
   ]
  },
  {
   "cell_type": "code",
   "execution_count": null,
   "metadata": {
    "collapsed": true
   },
   "outputs": [],
   "source": [
    "class Solution:\n",
    "    \n",
    "    def rob(self, nums):\n",
    "        \n",
    "        last, now = 0, 0\n",
    "        \n",
    "        for i in nums: last, now = now, max(last + i, now)\n",
    "                \n",
    "        return now"
   ]
  },
  {
   "cell_type": "markdown",
   "metadata": {},
   "source": [
    "## 2N users - all combinations of two groups of n users"
   ]
  },
  {
   "cell_type": "code",
   "execution_count": 1175,
   "metadata": {
    "collapsed": true
   },
   "outputs": [],
   "source": [
    "import random\n",
    "def random_subset( iterator, K ):\n",
    "    result = []\n",
    "    N = 0\n",
    "\n",
    "    for item in iterator:\n",
    "        N += 1\n",
    "        if len( result ) < K:\n",
    "            result.append( item )    \n",
    "        else:\n",
    "            s = int(random.random() * N)\n",
    "            if s < K:\n",
    "                result[ s ] = item\n",
    "\n",
    "    return result"
   ]
  },
  {
   "cell_type": "code",
   "execution_count": 1176,
   "metadata": {
    "collapsed": true
   },
   "outputs": [],
   "source": [
    "k = [1,2,3,4,5,6]"
   ]
  },
  {
   "cell_type": "code",
   "execution_count": 1180,
   "metadata": {
    "collapsed": false
   },
   "outputs": [
    {
     "data": {
      "text/plain": [
       "5"
      ]
     },
     "execution_count": 1180,
     "metadata": {},
     "output_type": "execute_result"
    }
   ],
   "source": [
    "k[4]"
   ]
  },
  {
   "cell_type": "code",
   "execution_count": 1178,
   "metadata": {
    "collapsed": false
   },
   "outputs": [
    {
     "data": {
      "text/plain": [
       "[6, 2, 5]"
      ]
     },
     "execution_count": 1178,
     "metadata": {},
     "output_type": "execute_result"
    }
   ],
   "source": [
    "random_subset(k, len(k)/2)"
   ]
  },
  {
   "cell_type": "code",
   "execution_count": 1173,
   "metadata": {
    "collapsed": false
   },
   "outputs": [],
   "source": [
    "def best(k):\n",
    "    random.shuffle(k)\n",
    "    \n",
    "    parta = k[0:len(k)/2]\n",
    "    partb = k[len(k)/2:len(k)]\n",
    "        \n",
    "    return parta, partb"
   ]
  },
  {
   "cell_type": "code",
   "execution_count": 1174,
   "metadata": {
    "collapsed": false
   },
   "outputs": [
    {
     "data": {
      "text/plain": [
       "([4, 6, 2], [3, 5, 1])"
      ]
     },
     "execution_count": 1174,
     "metadata": {},
     "output_type": "execute_result"
    }
   ],
   "source": [
    "best(k)"
   ]
  },
  {
   "cell_type": "markdown",
   "metadata": {},
   "source": [
    "## Stacks"
   ]
  },
  {
   "cell_type": "code",
   "execution_count": 1181,
   "metadata": {
    "collapsed": true
   },
   "outputs": [],
   "source": [
    "class Stack:\n",
    "     def __init__(self):\n",
    "         self.items = []\n",
    "\n",
    "     def isEmpty(self):\n",
    "         return self.items == []\n",
    "\n",
    "     def push(self, item):\n",
    "         self.items.append(item)\n",
    "\n",
    "     def pop(self):\n",
    "         return self.items.pop()\n",
    "\n",
    "     def peek(self):\n",
    "         return self.items[len(self.items)-1]\n",
    "\n",
    "     def size(self):\n",
    "         return len(self.items)"
   ]
  },
  {
   "cell_type": "code",
   "execution_count": 1214,
   "metadata": {
    "collapsed": false
   },
   "outputs": [
    {
     "name": "stdout",
     "output_type": "stream",
     "text": [
      "True\n",
      "4\n",
      "dog\n",
      "3\n",
      "False\n",
      "8.4\n",
      "8.4\n",
      "True\n",
      "2\n"
     ]
    }
   ],
   "source": [
    "from pythonds.basic.stack import Stack\n",
    "\n",
    "s=Stack()\n",
    "\n",
    "print(s.isEmpty())\n",
    "s.push(4)\n",
    "print (s.peek())\n",
    "s.push('dog')\n",
    "print(s.peek())\n",
    "s.push(True)\n",
    "print(s.size())\n",
    "print(s.isEmpty())\n",
    "s.push(8.4)\n",
    "print(s.peek())\n",
    "print(s.pop())\n",
    "print(s.pop())\n",
    "print(s.size())"
   ]
  },
  {
   "cell_type": "markdown",
   "metadata": {},
   "source": [
    "## Towers of Hanoi - Recursion"
   ]
  },
  {
   "cell_type": "code",
   "execution_count": 1215,
   "metadata": {
    "collapsed": false
   },
   "outputs": [
    {
     "name": "stdout",
     "output_type": "stream",
     "text": [
      "('moving disk from', 'A', 'to', 'B')\n",
      "('moving disk from', 'A', 'to', 'C')\n",
      "('moving disk from', 'B', 'to', 'C')\n",
      "('moving disk from', 'A', 'to', 'B')\n",
      "('moving disk from', 'C', 'to', 'A')\n",
      "('moving disk from', 'C', 'to', 'B')\n",
      "('moving disk from', 'A', 'to', 'B')\n"
     ]
    }
   ],
   "source": [
    "def moveTower(height,fromPole, toPole, withPole):\n",
    "    if height >= 1:\n",
    "        moveTower(height-1,fromPole,withPole,toPole)\n",
    "        moveDisk(fromPole,toPole)\n",
    "        moveTower(height-1,withPole,toPole,fromPole)\n",
    "\n",
    "def moveDisk(fp,tp):\n",
    "    print(\"moving disk from\",fp,\"to\",tp)\n",
    "\n",
    "moveTower(3,\"A\",\"B\",\"C\")"
   ]
  },
  {
   "cell_type": "markdown",
   "metadata": {},
   "source": [
    "## Tree"
   ]
  },
  {
   "cell_type": "code",
   "execution_count": 1216,
   "metadata": {
    "collapsed": false
   },
   "outputs": [
    {
     "name": "stdout",
     "output_type": "stream",
     "text": [
      "['a', ['b', ['d', [], []], ['e', [], []]], ['c', ['f', [], []], []]]\n",
      "('left subtree = ', ['b', ['d', [], []], ['e', [], []]])\n",
      "('root = ', 'a')\n",
      "('right subtree = ', ['c', ['f', [], []], []])\n"
     ]
    }
   ],
   "source": [
    "myTree = ['a', ['b', ['d',[],[]], ['e',[],[]] ], ['c', ['f',[],[]], []] ]\n",
    "print(myTree)\n",
    "print('left subtree = ', myTree[1])\n",
    "print('root = ', myTree[0])\n",
    "print('right subtree = ', myTree[2])\n"
   ]
  },
  {
   "cell_type": "code",
   "execution_count": 1219,
   "metadata": {
    "collapsed": true
   },
   "outputs": [],
   "source": [
    "def BinaryTree(r):\n",
    "    return [r, [], []]\n",
    "\n",
    "def insertLeft(root,newBranch):\n",
    "    t = root.pop(1)\n",
    "    if len(t) > 1:\n",
    "        root.insert(1,[newBranch,t,[]])\n",
    "    else:\n",
    "        root.insert(1,[newBranch, [], []])\n",
    "    return root\n",
    "\n",
    "def insertRight(root,newBranch):\n",
    "    t = root.pop(2)\n",
    "    if len(t) > 1:\n",
    "        root.insert(2,[newBranch,[],t])\n",
    "    else:\n",
    "        root.insert(2,[newBranch,[],[]])\n",
    "    return root"
   ]
  },
  {
   "cell_type": "code",
   "execution_count": 1220,
   "metadata": {
    "collapsed": false
   },
   "outputs": [
    {
     "name": "stdout",
     "output_type": "stream",
     "text": [
      "[5, [4, [], []], []]\n",
      "[3, [9, [4, [], []], []], [7, [], [6, [], []]]]\n",
      "[3, [9, [11, [4, [], []], []], []], [7, [], [6, [], []]]]\n",
      "[6, [], []]\n"
     ]
    }
   ],
   "source": [
    "def getRootVal(root):\n",
    "    return root[0]\n",
    "\n",
    "def setRootVal(root,newVal):\n",
    "    root[0] = newVal\n",
    "\n",
    "def getLeftChild(root):\n",
    "    return root[1]\n",
    "\n",
    "def getRightChild(root):\n",
    "    return root[2]\n",
    "\n",
    "r = BinaryTree(3)\n",
    "insertLeft(r,4)\n",
    "insertLeft(r,5)\n",
    "insertRight(r,6)\n",
    "insertRight(r,7)\n",
    "l = getLeftChild(r)\n",
    "print(l)\n",
    "\n",
    "setRootVal(l,9)\n",
    "print(r)\n",
    "insertLeft(l,11)\n",
    "print(r)\n",
    "print(getRightChild(getRightChild(r)))\n"
   ]
  },
  {
   "cell_type": "code",
   "execution_count": 1221,
   "metadata": {
    "collapsed": false
   },
   "outputs": [
    {
     "data": {
      "text/plain": [
       "[1, 2, 3, 4, 5, 6]"
      ]
     },
     "execution_count": 1221,
     "metadata": {},
     "output_type": "execute_result"
    }
   ],
   "source": [
    "k"
   ]
  },
  {
   "cell_type": "code",
   "execution_count": 1229,
   "metadata": {
    "collapsed": false
   },
   "outputs": [],
   "source": [
    "def lookup(k,tar):\n",
    "    for i in k:\n",
    "        if i == tar:\n",
    "            return k.index(i)"
   ]
  },
  {
   "cell_type": "code",
   "execution_count": 1230,
   "metadata": {
    "collapsed": false
   },
   "outputs": [
    {
     "data": {
      "text/plain": [
       "1"
      ]
     },
     "execution_count": 1230,
     "metadata": {},
     "output_type": "execute_result"
    }
   ],
   "source": [
    "lookup(k, 2)"
   ]
  },
  {
   "cell_type": "code",
   "execution_count": null,
   "metadata": {
    "collapsed": true
   },
   "outputs": [],
   "source": []
  }
 ],
 "metadata": {
  "kernelspec": {
   "display_name": "Python 2",
   "language": "python",
   "name": "python2"
  },
  "language_info": {
   "codemirror_mode": {
    "name": "ipython",
    "version": 2
   },
   "file_extension": ".py",
   "mimetype": "text/x-python",
   "name": "python",
   "nbconvert_exporter": "python",
   "pygments_lexer": "ipython2",
   "version": "2.7.12"
  }
 },
 "nbformat": 4,
 "nbformat_minor": 0
}
